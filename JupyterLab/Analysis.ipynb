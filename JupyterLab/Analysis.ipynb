{
 "cells": [
  {
   "cell_type": "code",
   "execution_count": 1,
   "id": "6d783e00",
   "metadata": {},
   "outputs": [],
   "source": [
    "import numpy as np\n",
    "import pandas as pd\n",
    "import matplotlib.pyplot as plt\n",
    "import seaborn as sns\n",
    "import torch\n",
    "import torch.nn as nn\n",
    "from torch.optim.lr_scheduler import StepLR\n",
    "from tqdm import tqdm\n",
    "import sys\n",
    "\n",
    "sys_epsilon = sys.float_info.epsilon"
   ]
  },
  {
   "cell_type": "code",
   "execution_count": 2,
   "id": "01b9b73f",
   "metadata": {},
   "outputs": [],
   "source": [
    "headers = [\"t\", \"Ux\", \"Uy\", \"Uz\", \n",
    "           \"G1\", \"G2\", \"G3\", \"G4\", \"G5\", \"G6\", \n",
    "           \"S1\", \"S2\", \"S3\", \"S4\", \"S5\", \"S6\", \n",
    "           \"UUp1\", \"UUp2\", \"UUp3\", \"UUp4\", \"UUp5\", \"UUp6\", \n",
    "           \"Cs\"]\n",
    "\n",
    "R103 = pd.read_csv('./datasets/fieldData_R103_norm.txt', sep=' ', names=headers)\n",
    "R503 = pd.read_csv('./datasets/fieldData_R503_norm.txt', sep=' ', names=headers)\n",
    "R104 = pd.read_csv('./datasets/fieldData_R104_norm.txt', sep=' ', names=headers)"
   ]
  },
  {
   "cell_type": "code",
   "execution_count": 3,
   "id": "5ab61fbf",
   "metadata": {},
   "outputs": [
    {
     "data": {
      "text/html": [
       "<div>\n",
       "<style scoped>\n",
       "    .dataframe tbody tr th:only-of-type {\n",
       "        vertical-align: middle;\n",
       "    }\n",
       "\n",
       "    .dataframe tbody tr th {\n",
       "        vertical-align: top;\n",
       "    }\n",
       "\n",
       "    .dataframe thead th {\n",
       "        text-align: right;\n",
       "    }\n",
       "</style>\n",
       "<table border=\"1\" class=\"dataframe\">\n",
       "  <thead>\n",
       "    <tr style=\"text-align: right;\">\n",
       "      <th></th>\n",
       "      <th>t</th>\n",
       "      <th>Ux</th>\n",
       "      <th>Uy</th>\n",
       "      <th>Uz</th>\n",
       "      <th>G1</th>\n",
       "      <th>G2</th>\n",
       "      <th>G3</th>\n",
       "      <th>G4</th>\n",
       "      <th>G5</th>\n",
       "      <th>G6</th>\n",
       "      <th>...</th>\n",
       "      <th>S4</th>\n",
       "      <th>S5</th>\n",
       "      <th>S6</th>\n",
       "      <th>UUp1</th>\n",
       "      <th>UUp2</th>\n",
       "      <th>UUp3</th>\n",
       "      <th>UUp4</th>\n",
       "      <th>UUp5</th>\n",
       "      <th>UUp6</th>\n",
       "      <th>Cs</th>\n",
       "    </tr>\n",
       "  </thead>\n",
       "  <tbody>\n",
       "    <tr>\n",
       "      <th>0</th>\n",
       "      <td>-1.027122</td>\n",
       "      <td>-0.000607</td>\n",
       "      <td>-0.001033</td>\n",
       "      <td>0.001586</td>\n",
       "      <td>0.003769</td>\n",
       "      <td>-0.000243</td>\n",
       "      <td>-0.000310</td>\n",
       "      <td>0.001519</td>\n",
       "      <td>-0.004942</td>\n",
       "      <td>-0.002082</td>\n",
       "      <td>...</td>\n",
       "      <td>-0.004942</td>\n",
       "      <td>0.000056</td>\n",
       "      <td>-0.001784</td>\n",
       "      <td>-0.134213</td>\n",
       "      <td>-0.010852</td>\n",
       "      <td>0.009912</td>\n",
       "      <td>-0.153644</td>\n",
       "      <td>-0.045258</td>\n",
       "      <td>-0.150407</td>\n",
       "      <td>-0.232084</td>\n",
       "    </tr>\n",
       "    <tr>\n",
       "      <th>1</th>\n",
       "      <td>-1.027122</td>\n",
       "      <td>0.048423</td>\n",
       "      <td>-0.002944</td>\n",
       "      <td>-0.000262</td>\n",
       "      <td>0.021788</td>\n",
       "      <td>-0.000289</td>\n",
       "      <td>-0.000408</td>\n",
       "      <td>0.001519</td>\n",
       "      <td>-0.017760</td>\n",
       "      <td>-0.002090</td>\n",
       "      <td>...</td>\n",
       "      <td>-0.017760</td>\n",
       "      <td>0.000042</td>\n",
       "      <td>-0.015981</td>\n",
       "      <td>-0.134199</td>\n",
       "      <td>-0.010853</td>\n",
       "      <td>0.009911</td>\n",
       "      <td>-0.153644</td>\n",
       "      <td>-0.045258</td>\n",
       "      <td>-0.150407</td>\n",
       "      <td>-0.191414</td>\n",
       "    </tr>\n",
       "    <tr>\n",
       "      <th>2</th>\n",
       "      <td>-1.027122</td>\n",
       "      <td>0.146858</td>\n",
       "      <td>-0.000820</td>\n",
       "      <td>0.001179</td>\n",
       "      <td>0.005336</td>\n",
       "      <td>0.000219</td>\n",
       "      <td>0.000182</td>\n",
       "      <td>0.001882</td>\n",
       "      <td>-0.003509</td>\n",
       "      <td>-0.002079</td>\n",
       "      <td>...</td>\n",
       "      <td>-0.003509</td>\n",
       "      <td>0.000060</td>\n",
       "      <td>-0.004908</td>\n",
       "      <td>-0.133998</td>\n",
       "      <td>-0.010854</td>\n",
       "      <td>0.009910</td>\n",
       "      <td>-0.153644</td>\n",
       "      <td>-0.045258</td>\n",
       "      <td>-0.150406</td>\n",
       "      <td>0.044781</td>\n",
       "    </tr>\n",
       "    <tr>\n",
       "      <th>3</th>\n",
       "      <td>-1.027122</td>\n",
       "      <td>0.095208</td>\n",
       "      <td>-0.000137</td>\n",
       "      <td>0.002144</td>\n",
       "      <td>-0.003282</td>\n",
       "      <td>-0.000302</td>\n",
       "      <td>-0.000333</td>\n",
       "      <td>0.001519</td>\n",
       "      <td>0.001063</td>\n",
       "      <td>-0.002076</td>\n",
       "      <td>...</td>\n",
       "      <td>0.001063</td>\n",
       "      <td>0.000066</td>\n",
       "      <td>0.002495</td>\n",
       "      <td>-0.133893</td>\n",
       "      <td>-0.010854</td>\n",
       "      <td>0.009910</td>\n",
       "      <td>-0.153644</td>\n",
       "      <td>-0.045258</td>\n",
       "      <td>-0.150406</td>\n",
       "      <td>0.088803</td>\n",
       "    </tr>\n",
       "    <tr>\n",
       "      <th>4</th>\n",
       "      <td>-1.027122</td>\n",
       "      <td>0.078927</td>\n",
       "      <td>-0.000084</td>\n",
       "      <td>0.001453</td>\n",
       "      <td>-0.000148</td>\n",
       "      <td>-0.000061</td>\n",
       "      <td>-0.000199</td>\n",
       "      <td>0.001519</td>\n",
       "      <td>0.001425</td>\n",
       "      <td>-0.002077</td>\n",
       "      <td>...</td>\n",
       "      <td>0.001425</td>\n",
       "      <td>0.000064</td>\n",
       "      <td>-0.002813</td>\n",
       "      <td>-0.133738</td>\n",
       "      <td>-0.010855</td>\n",
       "      <td>0.009909</td>\n",
       "      <td>-0.153644</td>\n",
       "      <td>-0.045258</td>\n",
       "      <td>-0.150406</td>\n",
       "      <td>-0.099000</td>\n",
       "    </tr>\n",
       "  </tbody>\n",
       "</table>\n",
       "<p>5 rows × 23 columns</p>\n",
       "</div>"
      ],
      "text/plain": [
       "          t        Ux        Uy        Uz        G1        G2        G3  \\\n",
       "0 -1.027122 -0.000607 -0.001033  0.001586  0.003769 -0.000243 -0.000310   \n",
       "1 -1.027122  0.048423 -0.002944 -0.000262  0.021788 -0.000289 -0.000408   \n",
       "2 -1.027122  0.146858 -0.000820  0.001179  0.005336  0.000219  0.000182   \n",
       "3 -1.027122  0.095208 -0.000137  0.002144 -0.003282 -0.000302 -0.000333   \n",
       "4 -1.027122  0.078927 -0.000084  0.001453 -0.000148 -0.000061 -0.000199   \n",
       "\n",
       "         G4        G5        G6  ...        S4        S5        S6      UUp1  \\\n",
       "0  0.001519 -0.004942 -0.002082  ... -0.004942  0.000056 -0.001784 -0.134213   \n",
       "1  0.001519 -0.017760 -0.002090  ... -0.017760  0.000042 -0.015981 -0.134199   \n",
       "2  0.001882 -0.003509 -0.002079  ... -0.003509  0.000060 -0.004908 -0.133998   \n",
       "3  0.001519  0.001063 -0.002076  ...  0.001063  0.000066  0.002495 -0.133893   \n",
       "4  0.001519  0.001425 -0.002077  ...  0.001425  0.000064 -0.002813 -0.133738   \n",
       "\n",
       "       UUp2      UUp3      UUp4      UUp5      UUp6        Cs  \n",
       "0 -0.010852  0.009912 -0.153644 -0.045258 -0.150407 -0.232084  \n",
       "1 -0.010853  0.009911 -0.153644 -0.045258 -0.150407 -0.191414  \n",
       "2 -0.010854  0.009910 -0.153644 -0.045258 -0.150406  0.044781  \n",
       "3 -0.010854  0.009910 -0.153644 -0.045258 -0.150406  0.088803  \n",
       "4 -0.010855  0.009909 -0.153644 -0.045258 -0.150406 -0.099000  \n",
       "\n",
       "[5 rows x 23 columns]"
      ]
     },
     "execution_count": 3,
     "metadata": {},
     "output_type": "execute_result"
    }
   ],
   "source": [
    "R103.head()"
   ]
  },
  {
   "cell_type": "code",
   "execution_count": 4,
   "id": "c5190ce9",
   "metadata": {},
   "outputs": [
    {
     "data": {
      "text/plain": [
       "(26697608, 23)"
      ]
     },
     "execution_count": 4,
     "metadata": {},
     "output_type": "execute_result"
    }
   ],
   "source": [
    "frames = [R103, R503, R104]\n",
    "df = pd.concat(frames)\n",
    "df.shape"
   ]
  },
  {
   "cell_type": "code",
   "execution_count": 5,
   "id": "00708509",
   "metadata": {},
   "outputs": [],
   "source": [
    "M1_headers = ['Ux', 'Uy', 'Uz', 'S1',  'S2', 'S3', 'S4', 'S5', 'S6', 'Cs']\n",
    "M2_headers = ['G1', 'G2', 'G3', 'G4', 'G5', 'G6', 'S1',  'S2', 'S3', 'S4', 'S5', 'S6', 'Cs']\n",
    "M3_headers = ['Ux', 'Uy', 'Uz', 'UUp1',  'UUp2', 'UUp3', 'UUp4', 'UUp5', 'UUp6', 'Cs']\n",
    "M4_headers = ['G1', 'G2', 'G3', 'G4', 'G5', 'G6', 'UUp1',  'UUp2', 'UUp3', 'UUp4', 'UUp5', 'UUp6', 'Cs']\n",
    "\n",
    "M1_103 = R103.filter(M1_headers, axis=1)\n",
    "M2_103 = R103.filter(M2_headers, axis=1)\n",
    "M3_103 = R103.filter(M3_headers, axis=1)\n",
    "M4_103 = R103.filter(M4_headers, axis=1)\n",
    "\n",
    "M1_503 = R503.filter(M1_headers, axis=1)\n",
    "M2_503 = R503.filter(M2_headers, axis=1)\n",
    "M3_503 = R503.filter(M3_headers, axis=1)\n",
    "M4_503 = R503.filter(M4_headers, axis=1)\n",
    "\n",
    "M1_104 = R104.filter(M1_headers, axis=1)\n",
    "M2_104 = R104.filter(M2_headers, axis=1)\n",
    "M3_104 = R104.filter(M3_headers, axis=1)\n",
    "M4_104 = R104.filter(M4_headers, axis=1)\n",
    "\n",
    "M1 = df.filter(M1_headers, axis=1)\n",
    "M2 = df.filter(M2_headers, axis=1)\n",
    "M3 = df.filter(M3_headers, axis=1)\n",
    "M4 = df.filter(M4_headers, axis=1)"
   ]
  },
  {
   "cell_type": "code",
   "execution_count": 6,
   "id": "1f89e529",
   "metadata": {},
   "outputs": [
    {
     "data": {
      "text/plain": [
       "((26697608, 10), (26697608, 13))"
      ]
     },
     "execution_count": 6,
     "metadata": {},
     "output_type": "execute_result"
    }
   ],
   "source": [
    "M1.shape, M2.shape"
   ]
  },
  {
   "cell_type": "code",
   "execution_count": 8,
   "id": "f891aa76",
   "metadata": {},
   "outputs": [],
   "source": [
    "def namestr(obj, namespace):\n",
    "    return [name for name in namespace if namespace[name] is obj]"
   ]
  },
  {
   "cell_type": "code",
   "execution_count": 148,
   "id": "5816028b",
   "metadata": {},
   "outputs": [],
   "source": [
    "dt = M2_104\n",
    "dt_name = namestr(M2_104, globals())[0]\n",
    "output_size = 1\n",
    "input_size = dt.shape[1] - output_size \n",
    "neurons_per_layer = [60, 60, 60, 60, 60] #[120, 60, 30, 20, 10, 10, 20, 30, 60]\n",
    "hidden_layers = len(neurons_per_layer)   \n",
    "#latent_size = 20  "
   ]
  },
  {
   "cell_type": "code",
   "execution_count": 149,
   "id": "9321b395",
   "metadata": {},
   "outputs": [
    {
     "data": {
      "text/html": [
       "<div>\n",
       "<style scoped>\n",
       "    .dataframe tbody tr th:only-of-type {\n",
       "        vertical-align: middle;\n",
       "    }\n",
       "\n",
       "    .dataframe tbody tr th {\n",
       "        vertical-align: top;\n",
       "    }\n",
       "\n",
       "    .dataframe thead th {\n",
       "        text-align: right;\n",
       "    }\n",
       "</style>\n",
       "<table border=\"1\" class=\"dataframe\">\n",
       "  <thead>\n",
       "    <tr style=\"text-align: right;\">\n",
       "      <th></th>\n",
       "      <th>G1</th>\n",
       "      <th>G2</th>\n",
       "      <th>G3</th>\n",
       "      <th>G4</th>\n",
       "      <th>G5</th>\n",
       "      <th>G6</th>\n",
       "      <th>S1</th>\n",
       "      <th>S2</th>\n",
       "      <th>S3</th>\n",
       "      <th>S4</th>\n",
       "      <th>S5</th>\n",
       "      <th>S6</th>\n",
       "      <th>Cs</th>\n",
       "    </tr>\n",
       "  </thead>\n",
       "  <tbody>\n",
       "    <tr>\n",
       "      <th>0</th>\n",
       "      <td>-0.000859</td>\n",
       "      <td>0.001333</td>\n",
       "      <td>0.000589</td>\n",
       "      <td>0.000236</td>\n",
       "      <td>-0.001709</td>\n",
       "      <td>0.000490</td>\n",
       "      <td>-0.000859</td>\n",
       "      <td>0.000819</td>\n",
       "      <td>-0.000810</td>\n",
       "      <td>-0.001709</td>\n",
       "      <td>0.001019</td>\n",
       "      <td>0.001444</td>\n",
       "      <td>-1.929617</td>\n",
       "    </tr>\n",
       "    <tr>\n",
       "      <th>1</th>\n",
       "      <td>0.007403</td>\n",
       "      <td>0.001420</td>\n",
       "      <td>0.000656</td>\n",
       "      <td>0.000236</td>\n",
       "      <td>-0.004601</td>\n",
       "      <td>0.000669</td>\n",
       "      <td>0.007403</td>\n",
       "      <td>0.000857</td>\n",
       "      <td>-0.000455</td>\n",
       "      <td>-0.004601</td>\n",
       "      <td>0.001303</td>\n",
       "      <td>-0.002616</td>\n",
       "      <td>-0.183021</td>\n",
       "    </tr>\n",
       "    <tr>\n",
       "      <th>2</th>\n",
       "      <td>0.015995</td>\n",
       "      <td>0.001564</td>\n",
       "      <td>0.000896</td>\n",
       "      <td>0.000236</td>\n",
       "      <td>-0.008244</td>\n",
       "      <td>-0.000488</td>\n",
       "      <td>0.015995</td>\n",
       "      <td>0.000920</td>\n",
       "      <td>-0.000355</td>\n",
       "      <td>-0.008244</td>\n",
       "      <td>-0.000530</td>\n",
       "      <td>-0.010018</td>\n",
       "      <td>-0.124142</td>\n",
       "    </tr>\n",
       "    <tr>\n",
       "      <th>3</th>\n",
       "      <td>0.011368</td>\n",
       "      <td>0.001738</td>\n",
       "      <td>0.001067</td>\n",
       "      <td>0.000236</td>\n",
       "      <td>-0.001409</td>\n",
       "      <td>-0.001457</td>\n",
       "      <td>0.011368</td>\n",
       "      <td>0.000995</td>\n",
       "      <td>-0.000283</td>\n",
       "      <td>-0.001409</td>\n",
       "      <td>-0.002066</td>\n",
       "      <td>-0.005366</td>\n",
       "      <td>-0.258416</td>\n",
       "    </tr>\n",
       "    <tr>\n",
       "      <th>4</th>\n",
       "      <td>-0.009122</td>\n",
       "      <td>0.000399</td>\n",
       "      <td>0.000139</td>\n",
       "      <td>-0.000411</td>\n",
       "      <td>0.004366</td>\n",
       "      <td>-0.001645</td>\n",
       "      <td>-0.009122</td>\n",
       "      <td>-0.000244</td>\n",
       "      <td>-0.001325</td>\n",
       "      <td>0.004366</td>\n",
       "      <td>-0.002363</td>\n",
       "      <td>0.004082</td>\n",
       "      <td>0.106165</td>\n",
       "    </tr>\n",
       "  </tbody>\n",
       "</table>\n",
       "</div>"
      ],
      "text/plain": [
       "         G1        G2        G3        G4        G5        G6        S1  \\\n",
       "0 -0.000859  0.001333  0.000589  0.000236 -0.001709  0.000490 -0.000859   \n",
       "1  0.007403  0.001420  0.000656  0.000236 -0.004601  0.000669  0.007403   \n",
       "2  0.015995  0.001564  0.000896  0.000236 -0.008244 -0.000488  0.015995   \n",
       "3  0.011368  0.001738  0.001067  0.000236 -0.001409 -0.001457  0.011368   \n",
       "4 -0.009122  0.000399  0.000139 -0.000411  0.004366 -0.001645 -0.009122   \n",
       "\n",
       "         S2        S3        S4        S5        S6        Cs  \n",
       "0  0.000819 -0.000810 -0.001709  0.001019  0.001444 -1.929617  \n",
       "1  0.000857 -0.000455 -0.004601  0.001303 -0.002616 -0.183021  \n",
       "2  0.000920 -0.000355 -0.008244 -0.000530 -0.010018 -0.124142  \n",
       "3  0.000995 -0.000283 -0.001409 -0.002066 -0.005366 -0.258416  \n",
       "4 -0.000244 -0.001325  0.004366 -0.002363  0.004082  0.106165  "
      ]
     },
     "execution_count": 149,
     "metadata": {},
     "output_type": "execute_result"
    }
   ],
   "source": [
    "dt.head()"
   ]
  },
  {
   "cell_type": "code",
   "execution_count": 150,
   "id": "fe61abc0",
   "metadata": {},
   "outputs": [],
   "source": [
    "#dt.to_csv(f'./{dt_name}.txt', sep=' ', index=False, encoding='utf-8', header=False)"
   ]
  },
  {
   "cell_type": "code",
   "execution_count": 151,
   "id": "fa94eef3",
   "metadata": {},
   "outputs": [],
   "source": [
    "mask = np.random.rand(len(dt)) < 0.8\n",
    "train_val = dt[mask]\n",
    "test = dt[~mask].to_numpy()\n",
    "\n",
    "mask = np.random.rand(len(train_val)) < 0.8\n",
    "train = train_val[mask].to_numpy()\n",
    "val = train_val[~mask].to_numpy()"
   ]
  },
  {
   "cell_type": "code",
   "execution_count": 152,
   "id": "8f5586cc",
   "metadata": {},
   "outputs": [
    {
     "data": {
      "text/plain": [
       "((17552029, 13), 11233340, 2808913, 3509776)"
      ]
     },
     "execution_count": 152,
     "metadata": {},
     "output_type": "execute_result"
    }
   ],
   "source": [
    "dt.shape, train.shape[0], val.shape[0], test.shape[0]"
   ]
  },
  {
   "cell_type": "code",
   "execution_count": 153,
   "id": "d15cbee6",
   "metadata": {},
   "outputs": [],
   "source": [
    "batch_sz_trn = 4096\n",
    "batch_sz_val = int(batch_sz_trn / 4)\n",
    "batch_sz_tst = int(batch_sz_trn / 4)\n",
    "\n",
    "train_loader = torch.utils.data.DataLoader(dataset=train, batch_size=batch_sz_trn, shuffle=True)\n",
    "val_loader = torch.utils.data.DataLoader(dataset=val, batch_size=batch_sz_val, shuffle=True)\n",
    "test_loader = torch.utils.data.DataLoader(dataset=test, batch_size=batch_sz_tst, shuffle=True)"
   ]
  },
  {
   "cell_type": "code",
   "execution_count": 154,
   "id": "364d96fe",
   "metadata": {},
   "outputs": [
    {
     "data": {
      "text/plain": [
       "tensor([-0.0336,  0.0658,  0.0214,  0.0293, -0.0296, -0.0316, -0.0336,  0.0583,\n",
       "         0.0195, -0.0296, -0.0483,  0.0102,  0.6077], dtype=torch.float64)"
      ]
     },
     "execution_count": 154,
     "metadata": {},
     "output_type": "execute_result"
    }
   ],
   "source": [
    "data_iter = iter(train_loader)\n",
    "next(data_iter)[0]"
   ]
  },
  {
   "cell_type": "code",
   "execution_count": 155,
   "id": "854d19d5",
   "metadata": {},
   "outputs": [],
   "source": [
    "def coeff_determination(y_true, y_pred):\n",
    "    SS_res = torch.sum(torch.square( y_true - y_pred ))\n",
    "    SS_tot = torch.sum(torch.square( y_true - torch.mean(y_true) ) )\n",
    "    return ( 1 - SS_res/(SS_tot + sys_epsilon) )"
   ]
  },
  {
   "cell_type": "code",
   "execution_count": 156,
   "id": "a7b91edd",
   "metadata": {},
   "outputs": [],
   "source": [
    "class MLPModel(nn.Module):\n",
    "    def __init__(self, input_size, output_size, hidden_layers, neurons_per_layer):\n",
    "        super(MLPModel, self).__init__()\n",
    "\n",
    "        layers = []\n",
    "        layers.append(nn.Linear(input_size, neurons_per_layer[0]))\n",
    "        layers.append(nn.ReLU())\n",
    "\n",
    "        for i in range(1, hidden_layers):\n",
    "            layers.append(nn.Linear(neurons_per_layer[i - 1], neurons_per_layer[i]))\n",
    "            layers.append(nn.ReLU())\n",
    "\n",
    "        layers.append(nn.Linear(neurons_per_layer[-1], output_size))\n",
    "\n",
    "        self.block = nn.Sequential(*layers)\n",
    "\n",
    "    def forward(self, x):\n",
    "        x = self.block(x)\n",
    "        return x\n"
   ]
  },
  {
   "cell_type": "code",
   "execution_count": 157,
   "id": "16b59a5a",
   "metadata": {},
   "outputs": [],
   "source": [
    "class Autoencoder(nn.Module):\n",
    "    def __init__(self, input_size, latent_size, hidden_layers, neurons_per_layer):\n",
    "        super(Autoencoder, self).__init__()\n",
    "\n",
    "        # Encoder layers\n",
    "        encoder_layers = []\n",
    "        encoder_layers.append(nn.Linear(input_size, neurons_per_layer[0]))\n",
    "        encoder_layers.append(nn.ReLU())\n",
    "\n",
    "        for i in range(1, hidden_layers):\n",
    "            encoder_layers.append(nn.Linear(neurons_per_layer[i - 1], neurons_per_layer[i]))\n",
    "            encoder_layers.append(nn.ReLU())\n",
    "\n",
    "        encoder_layers.append(nn.Linear(neurons_per_layer[-1], latent_size))\n",
    "        self.encoder = nn.Sequential(*encoder_layers)\n",
    "\n",
    "        # Decoder layers\n",
    "        decoder_layers = []\n",
    "        decoder_layers.append(nn.Linear(latent_size, neurons_per_layer[-1]))\n",
    "        decoder_layers.append(nn.ReLU())\n",
    "\n",
    "        for i in range(hidden_layers - 1, 0, -1):\n",
    "            decoder_layers.append(nn.Linear(neurons_per_layer[i], neurons_per_layer[i - 1]))\n",
    "            decoder_layers.append(nn.ReLU())\n",
    "\n",
    "        decoder_layers.append(nn.Linear(neurons_per_layer[0], 1))\n",
    "        self.decoder = nn.Sequential(*decoder_layers)\n",
    "\n",
    "    def forward(self, x):\n",
    "        # Encode input\n",
    "        encoded = self.encoder(x)\n",
    "\n",
    "        # Decode\n",
    "        decoded = self.decoder(encoded)\n",
    "\n",
    "        return decoded\n"
   ]
  },
  {
   "cell_type": "code",
   "execution_count": 158,
   "id": "85bbb899",
   "metadata": {},
   "outputs": [],
   "source": [
    "model = MLPModel(input_size=input_size, \n",
    "                 output_size=output_size, \n",
    "                 hidden_layers=hidden_layers, \n",
    "                 neurons_per_layer=neurons_per_layer)"
   ]
  },
  {
   "cell_type": "code",
   "execution_count": 159,
   "id": "564817d0",
   "metadata": {},
   "outputs": [],
   "source": [
    "#model = Autoencoder(input_size, latent_size, hidden_layers, neurons_per_layer)"
   ]
  },
  {
   "cell_type": "code",
   "execution_count": 160,
   "id": "19be546f",
   "metadata": {},
   "outputs": [],
   "source": [
    "optimizer = torch.optim.Adam(model.parameters(), lr=0.001)\n",
    "scheduler = StepLR(optimizer, step_size=3, gamma=0.2)"
   ]
  },
  {
   "cell_type": "code",
   "execution_count": 161,
   "id": "184f47c5",
   "metadata": {},
   "outputs": [],
   "source": [
    "#criterion = nn.MSELoss()  # Mean Squared Error loss for reconstruction\n",
    "#optimizer = torch.optim.Adam(model.parameters(), lr=0.001)"
   ]
  },
  {
   "cell_type": "code",
   "execution_count": 162,
   "id": "a6152899",
   "metadata": {},
   "outputs": [
    {
     "data": {
      "text/plain": [
       "MLPModel(\n",
       "  (block): Sequential(\n",
       "    (0): Linear(in_features=12, out_features=60, bias=True)\n",
       "    (1): ReLU()\n",
       "    (2): Linear(in_features=60, out_features=60, bias=True)\n",
       "    (3): ReLU()\n",
       "    (4): Linear(in_features=60, out_features=60, bias=True)\n",
       "    (5): ReLU()\n",
       "    (6): Linear(in_features=60, out_features=60, bias=True)\n",
       "    (7): ReLU()\n",
       "    (8): Linear(in_features=60, out_features=60, bias=True)\n",
       "    (9): ReLU()\n",
       "    (10): Linear(in_features=60, out_features=1, bias=True)\n",
       "  )\n",
       ")"
      ]
     },
     "execution_count": 162,
     "metadata": {},
     "output_type": "execute_result"
    }
   ],
   "source": [
    "device = torch.device(\"cuda\")\n",
    "model.to(device)\n",
    "model.double()"
   ]
  },
  {
   "cell_type": "code",
   "execution_count": 163,
   "id": "1173ec45",
   "metadata": {},
   "outputs": [],
   "source": [
    "class EarlyStopper:\n",
    "    def __init__(self, patience=1, path=None):\n",
    "        self.patience = patience\n",
    "        self.path = path\n",
    "        self.counter = 0\n",
    "        self.min_val_loss = float('inf')\n",
    "\n",
    "    def early_stop(self, model_stat, val_loss):\n",
    "        if val_loss < self.min_val_loss:\n",
    "            torch.save(model_stat, self.path)\n",
    "            self.min_val_loss = val_loss\n",
    "            self.counter = 0\n",
    "        elif val_loss > (self.min_val_loss + sys_epsilon):\n",
    "            self.counter += 1\n",
    "            if self.counter >= self.patience:\n",
    "                print('+++ Early Stopping is reached! +++')\n",
    "                return True\n",
    "        return False"
   ]
  },
  {
   "cell_type": "code",
   "execution_count": null,
   "id": "82eab4ef",
   "metadata": {
    "scrolled": true
   },
   "outputs": [
    {
     "name": "stderr",
     "output_type": "stream",
     "text": [
      "Train: 100%|██████████| 2743/2743 [00:42<00:00, 64.40batch/s]\n",
      "Valdt: 100%|██████████| 2744/2744 [00:12<00:00, 224.71batch/s]\n"
     ]
    },
    {
     "name": "stdout",
     "output_type": "stream",
     "text": [
      "Epoch: 0 / 6000, \n",
      " Train -- Loss: 0.6029153233685306, Coeff: 0.669677734375 \n",
      " Val   -- Loss: 2.4298693905585673, Coeff: 2.6796875 \n",
      "\n",
      "\n"
     ]
    },
    {
     "name": "stderr",
     "output_type": "stream",
     "text": [
      "Train: 100%|██████████| 2743/2743 [00:43<00:00, 63.54batch/s]\n",
      "Valdt: 100%|██████████| 2744/2744 [00:11<00:00, 230.51batch/s]\n"
     ]
    },
    {
     "name": "stdout",
     "output_type": "stream",
     "text": [
      "Epoch: 1 / 6000, \n",
      " Train -- Loss: 0.5856108433300241, Coeff: 0.669677734375 \n",
      " Val   -- Loss: 2.4100662172024037, Coeff: 2.6796875 \n",
      "\n",
      "\n"
     ]
    },
    {
     "name": "stderr",
     "output_type": "stream",
     "text": [
      "Train: 100%|██████████| 2743/2743 [00:43<00:00, 63.69batch/s]\n",
      "Valdt: 100%|██████████| 2744/2744 [00:12<00:00, 227.72batch/s]\n"
     ]
    },
    {
     "name": "stdout",
     "output_type": "stream",
     "text": [
      "Epoch: 2 / 6000, \n",
      " Train -- Loss: 0.5779636276868633, Coeff: 0.669677734375 \n",
      " Val   -- Loss: 2.377790029127911, Coeff: 2.6796875 \n",
      "\n",
      "\n"
     ]
    },
    {
     "name": "stderr",
     "output_type": "stream",
     "text": [
      "Train: 100%|██████████| 2743/2743 [00:42<00:00, 64.10batch/s]\n",
      "Valdt: 100%|██████████| 2744/2744 [00:12<00:00, 227.57batch/s]\n"
     ]
    },
    {
     "name": "stdout",
     "output_type": "stream",
     "text": [
      "Epoch: 3 / 6000, \n",
      " Train -- Loss: 0.5710550626819765, Coeff: 0.669677734375 \n",
      " Val   -- Loss: 2.3436258954864457, Coeff: 2.6796875 \n",
      "\n",
      "\n"
     ]
    },
    {
     "name": "stderr",
     "output_type": "stream",
     "text": [
      "Train: 100%|██████████| 2743/2743 [00:42<00:00, 64.28batch/s]\n",
      "Valdt: 100%|██████████| 2744/2744 [00:11<00:00, 230.07batch/s]\n"
     ]
    },
    {
     "name": "stdout",
     "output_type": "stream",
     "text": [
      "Epoch: 4 / 6000, \n",
      " Train -- Loss: 0.5657533292328848, Coeff: 0.669677734375 \n",
      " Val   -- Loss: 2.3328879394819353, Coeff: 2.6796875 \n",
      "\n",
      "\n"
     ]
    },
    {
     "name": "stderr",
     "output_type": "stream",
     "text": [
      "Train: 100%|██████████| 2743/2743 [00:42<00:00, 64.20batch/s]\n",
      "Valdt: 100%|██████████| 2744/2744 [00:12<00:00, 225.81batch/s]\n"
     ]
    },
    {
     "name": "stdout",
     "output_type": "stream",
     "text": [
      "Epoch: 5 / 6000, \n",
      " Train -- Loss: 0.5621590802242719, Coeff: 0.669677734375 \n",
      " Val   -- Loss: 2.3258892196396816, Coeff: 2.6796875 \n",
      "\n",
      "\n"
     ]
    },
    {
     "name": "stderr",
     "output_type": "stream",
     "text": [
      "Train: 100%|██████████| 2743/2743 [00:42<00:00, 64.89batch/s]\n",
      "Valdt:  61%|██████    | 1676/2744 [00:07<00:04, 228.22batch/s]"
     ]
    }
   ],
   "source": [
    "epochs = 6000\n",
    "best = 1e6\n",
    "PATH = f\"./best_model_{dt_name}.pt\"\n",
    "\n",
    "early_stopper = EarlyStopper(patience=50, path=PATH)\n",
    "                             \n",
    "for epoch in range(epochs):\n",
    "    model.train()\n",
    "    Loss_train = 0 \n",
    "    Loss_val = 0\n",
    "    coeff_train = 0\n",
    "    coeff_val = 0\n",
    "    with tqdm(train_loader, unit=\"batch\") as trainer:\n",
    "        for batch in trainer:\n",
    "            trainer.set_description(\"Train\")\n",
    "            train_feat = batch[:, 0:-1].to(device)\n",
    "            train_labs = batch[:, -1].to(device)\n",
    "            train_pred = model(train_feat).squeeze()\n",
    "            train_loss = torch.nn.functional.mse_loss(train_pred, train_labs)\n",
    "            train_coef = coeff_determination(train_labs, train_labs) \n",
    "\n",
    "            optimizer.zero_grad()\n",
    "            train_loss.backward()\n",
    "            optimizer.step()\n",
    "\n",
    "            Loss_train += train_loss.item()\n",
    "            coeff_train += train_coef\n",
    "\n",
    "        Loss_train /= batch_sz_trn\n",
    "        coeff_train /= batch_sz_trn\n",
    "\n",
    "    model.eval()\n",
    "    with tqdm(val_loader, unit=\"batch\") as validator:\n",
    "        for batch in validator:\n",
    "            validator.set_description(\"Valdt\")\n",
    "            val_feat = batch[:, 0:-1].to(device)\n",
    "            val_labs = batch[:, -1].to(device)\n",
    "            val_pred = model(val_feat).squeeze()\n",
    "            val_loss = torch.nn.functional.mse_loss(val_pred, val_labs)\n",
    "            val_coef = coeff_determination(val_labs, val_labs) \n",
    "\n",
    "            Loss_val += val_loss.item()\n",
    "            coeff_val += val_coef\n",
    "\n",
    "        Loss_val /= batch_sz_val\n",
    "        coeff_val /= batch_sz_val\n",
    "    \n",
    "    if early_stopper.early_stop(model.state_dict(), Loss_val):             \n",
    "        break\n",
    "        \n",
    "    print(f\"Epoch: {epoch} / {epochs}, \\n Train -- Loss: {Loss_train}, Coeff: {coeff_train} \\n Val   -- Loss: {Loss_val}, Coeff: {coeff_val} \\n\\n\")"
   ]
  },
  {
   "cell_type": "code",
   "execution_count": 142,
   "id": "c9e410f9",
   "metadata": {},
   "outputs": [
    {
     "data": {
      "text/plain": [
       "tensor([[ 1.4572e-01, -3.3430e-01,  9.2579e-02,  ..., -5.3022e-02,\n",
       "         -1.9939e-01, -3.7249e-02],\n",
       "        [-5.7070e-04,  5.0673e-03,  6.9486e-03,  ..., -1.8234e-03,\n",
       "          3.2142e-04,  4.1798e-03],\n",
       "        [ 6.7860e-02,  1.4044e-02, -3.3947e-02,  ...,  1.7192e-01,\n",
       "         -3.5996e-02,  1.9579e-02],\n",
       "        ...,\n",
       "        [ 3.3745e-02, -1.8838e-02,  1.0833e-01,  ...,  1.1703e-01,\n",
       "         -1.3298e-01,  5.7494e-02],\n",
       "        [-7.8855e-02,  1.8614e-01,  7.8150e-02,  ...,  1.5090e-01,\n",
       "          6.0991e-02, -3.4914e-02],\n",
       "        [ 1.3368e-01,  2.2587e-02,  1.3941e-03,  ...,  2.2377e-03,\n",
       "          1.4148e-03,  8.5328e-04]], dtype=torch.float64)"
      ]
     },
     "execution_count": 142,
     "metadata": {},
     "output_type": "execute_result"
    }
   ],
   "source": [
    "data_iter = iter(train_loader)\n",
    "next(data_iter)[:,0:-1]"
   ]
  },
  {
   "cell_type": "code",
   "execution_count": 143,
   "id": "0391c49f",
   "metadata": {},
   "outputs": [],
   "source": [
    "traced_script_module = torch.jit.trace(model, next(data_iter)[:,0:-1].to(device))\n",
    "traced_script_module.save(f\"traced_model_{dt_name}.pt\")"
   ]
  },
  {
   "cell_type": "code",
   "execution_count": 144,
   "id": "f5414719",
   "metadata": {
    "scrolled": true
   },
   "outputs": [
    {
     "data": {
      "text/plain": [
       "MLPModel(\n",
       "  (block): Sequential(\n",
       "    (0): Linear(in_features=9, out_features=60, bias=True)\n",
       "    (1): ReLU()\n",
       "    (2): Linear(in_features=60, out_features=60, bias=True)\n",
       "    (3): ReLU()\n",
       "    (4): Linear(in_features=60, out_features=60, bias=True)\n",
       "    (5): ReLU()\n",
       "    (6): Linear(in_features=60, out_features=60, bias=True)\n",
       "    (7): ReLU()\n",
       "    (8): Linear(in_features=60, out_features=60, bias=True)\n",
       "    (9): ReLU()\n",
       "    (10): Linear(in_features=60, out_features=1, bias=True)\n",
       "  )\n",
       ")"
      ]
     },
     "execution_count": 144,
     "metadata": {},
     "output_type": "execute_result"
    }
   ],
   "source": [
    "model = MLPModel(input_size=input_size, \n",
    "                 output_size=output_size, \n",
    "                 hidden_layers=hidden_layers, \n",
    "                 neurons_per_layer=neurons_per_layer)\n",
    "\n",
    "model.load_state_dict(torch.load(PATH))\n",
    "model.eval()\n",
    "model.double()"
   ]
  },
  {
   "cell_type": "code",
   "execution_count": 145,
   "id": "80604c18",
   "metadata": {},
   "outputs": [
    {
     "data": {
      "text/plain": [
       "tensor([[-0.1567],\n",
       "        [ 0.0670],\n",
       "        [-0.1878],\n",
       "        ...,\n",
       "        [-0.1770],\n",
       "        [-0.1467],\n",
       "        [-0.0442]], dtype=torch.float64, grad_fn=<AddmmBackward0>)"
      ]
     },
     "execution_count": 145,
     "metadata": {},
     "output_type": "execute_result"
    }
   ],
   "source": [
    "pred = model(torch.from_numpy(test[:,:-1]))\n",
    "pred"
   ]
  },
  {
   "cell_type": "code",
   "execution_count": 146,
   "id": "ebcfa2d4",
   "metadata": {},
   "outputs": [
    {
     "data": {
      "image/png": "[encoded data removed]",
      "text/plain": [
       "<Figure size 640x480 with 1 Axes>"
      ]
     },
     "metadata": {},
     "output_type": "display_data"
    }
   ],
   "source": [
    "plt.scatter(test[:,-1], pred.detach().numpy(), edgecolor='white', color='red')\n",
    "plt.plot([0, 0], [-100, 100], '--', color='#929591')\n",
    "plt.plot([-100, 100], [0, 0], '--', color='#929591')\n",
    "plt.xlim([-100, 100])\n",
    "plt.ylim([-100, 100])\n",
    "plt.xlabel(r'$C_s$')\n",
    "plt.ylabel(r'$\\tilde{C_s}$')\n",
    "plt.savefig(f'../nnTraining/Results/{dt_name}_correlation.png')"
   ]
  },
  {
   "cell_type": "code",
   "execution_count": 147,
   "id": "ae9a5ba1",
   "metadata": {},
   "outputs": [
    {
     "data": {
      "image/png": "[encoded data removed]",
      "text/plain": [
       "<Figure size 640x480 with 1 Axes>"
      ]
     },
     "metadata": {},
     "output_type": "display_data"
    }
   ],
   "source": [
    "plt.hist(test[:,-1], bins=10000, density=True, alpha=0.6, histtype=u'step', color='blue')\n",
    "plt.hist(pred.detach().numpy(), bins=10000, density=True, alpha=0.6, histtype=u'step', color='red')\n",
    "plt.xlim([-0.75, 0.75])\n",
    "plt.xlabel(r'$C_s$')\n",
    "plt.legend(['Ground Truth', 'MLP'])\n",
    "plt.savefig(f'../nnTraining/Results/{dt_name}_density.png')"
   ]
  },
  {
   "cell_type": "code",
   "execution_count": null,
   "id": "dcf0872c",
   "metadata": {},
   "outputs": [],
   "source": []
  }
 ],
 "metadata": {
  "kernelspec": {
   "display_name": "Python 3 (ipykernel)",
   "language": "python",
   "name": "python3"
  },
  "language_info": {
   "codemirror_mode": {
    "name": "ipython",
    "version": 3
   },
   "file_extension": ".py",
   "mimetype": "text/x-python",
   "name": "python",
   "nbconvert_exporter": "python",
   "pygments_lexer": "ipython3",
   "version": "3.8.10"
  }
 },
 "nbformat": 4,
 "nbformat_minor": 5
}
