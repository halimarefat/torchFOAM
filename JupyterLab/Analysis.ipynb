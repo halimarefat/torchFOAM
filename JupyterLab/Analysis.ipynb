{
 "cells": [
  {
   "cell_type": "code",
   "execution_count": 1,
   "id": "6d783e00",
   "metadata": {},
   "outputs": [],
   "source": [
    "import numpy as np\n",
    "import pandas as pd\n",
    "import matplotlib.pyplot as plt\n",
    "import seaborn as sns\n",
    "import torch\n",
    "import torch.nn as nn\n",
    "from torch.optim.lr_scheduler import StepLR\n",
    "from tqdm import tqdm\n",
    "import sys\n",
    "\n",
    "sys_epsilon = sys.float_info.epsilon"
   ]
  },
  {
   "cell_type": "code",
   "execution_count": 2,
   "id": "01b9b73f",
   "metadata": {},
   "outputs": [],
   "source": [
    "headers = [\"t\", \"Ux\", \"Uy\", \"Uz\", \n",
    "           \"G1\", \"G2\", \"G3\", \"G4\", \"G5\", \"G6\", \n",
    "           \"S1\", \"S2\", \"S3\", \"S4\", \"S5\", \"S6\", \n",
    "           \"UUp1\", \"UUp2\", \"UUp3\", \"UUp4\", \"UUp5\", \"UUp6\", \n",
    "           \"Cs\"]\n",
    "\n",
    "R103 = pd.read_csv('./datasets/fieldData_R103_norm.txt', sep=' ', names=headers)\n",
    "R503 = pd.read_csv('./datasets/fieldData_R503_norm.txt', sep=' ', names=headers)\n",
    "R104 = pd.read_csv('./datasets/fieldData_R104_norm.txt', sep=' ', names=headers)"
   ]
  },
  {
   "cell_type": "code",
   "execution_count": 3,
   "id": "5ab61fbf",
   "metadata": {},
   "outputs": [
    {
     "data": {
      "text/html": [
       "<div>\n",
       "<style scoped>\n",
       "    .dataframe tbody tr th:only-of-type {\n",
       "        vertical-align: middle;\n",
       "    }\n",
       "\n",
       "    .dataframe tbody tr th {\n",
       "        vertical-align: top;\n",
       "    }\n",
       "\n",
       "    .dataframe thead th {\n",
       "        text-align: right;\n",
       "    }\n",
       "</style>\n",
       "<table border=\"1\" class=\"dataframe\">\n",
       "  <thead>\n",
       "    <tr style=\"text-align: right;\">\n",
       "      <th></th>\n",
       "      <th>t</th>\n",
       "      <th>Ux</th>\n",
       "      <th>Uy</th>\n",
       "      <th>Uz</th>\n",
       "      <th>G1</th>\n",
       "      <th>G2</th>\n",
       "      <th>G3</th>\n",
       "      <th>G4</th>\n",
       "      <th>G5</th>\n",
       "      <th>G6</th>\n",
       "      <th>...</th>\n",
       "      <th>S4</th>\n",
       "      <th>S5</th>\n",
       "      <th>S6</th>\n",
       "      <th>UUp1</th>\n",
       "      <th>UUp2</th>\n",
       "      <th>UUp3</th>\n",
       "      <th>UUp4</th>\n",
       "      <th>UUp5</th>\n",
       "      <th>UUp6</th>\n",
       "      <th>Cs</th>\n",
       "    </tr>\n",
       "  </thead>\n",
       "  <tbody>\n",
       "    <tr>\n",
       "      <th>0</th>\n",
       "      <td>-1.027122</td>\n",
       "      <td>-0.000607</td>\n",
       "      <td>-0.001033</td>\n",
       "      <td>0.001586</td>\n",
       "      <td>0.003769</td>\n",
       "      <td>-0.000243</td>\n",
       "      <td>-0.000310</td>\n",
       "      <td>0.001519</td>\n",
       "      <td>-0.004942</td>\n",
       "      <td>-0.002082</td>\n",
       "      <td>...</td>\n",
       "      <td>-0.004942</td>\n",
       "      <td>0.000056</td>\n",
       "      <td>-0.001784</td>\n",
       "      <td>-0.134213</td>\n",
       "      <td>-0.010852</td>\n",
       "      <td>0.009912</td>\n",
       "      <td>-0.153644</td>\n",
       "      <td>-0.045258</td>\n",
       "      <td>-0.150407</td>\n",
       "      <td>-0.232084</td>\n",
       "    </tr>\n",
       "    <tr>\n",
       "      <th>1</th>\n",
       "      <td>-1.027122</td>\n",
       "      <td>0.048423</td>\n",
       "      <td>-0.002944</td>\n",
       "      <td>-0.000262</td>\n",
       "      <td>0.021788</td>\n",
       "      <td>-0.000289</td>\n",
       "      <td>-0.000408</td>\n",
       "      <td>0.001519</td>\n",
       "      <td>-0.017760</td>\n",
       "      <td>-0.002090</td>\n",
       "      <td>...</td>\n",
       "      <td>-0.017760</td>\n",
       "      <td>0.000042</td>\n",
       "      <td>-0.015981</td>\n",
       "      <td>-0.134199</td>\n",
       "      <td>-0.010853</td>\n",
       "      <td>0.009911</td>\n",
       "      <td>-0.153644</td>\n",
       "      <td>-0.045258</td>\n",
       "      <td>-0.150407</td>\n",
       "      <td>-0.191414</td>\n",
       "    </tr>\n",
       "    <tr>\n",
       "      <th>2</th>\n",
       "      <td>-1.027122</td>\n",
       "      <td>0.146858</td>\n",
       "      <td>-0.000820</td>\n",
       "      <td>0.001179</td>\n",
       "      <td>0.005336</td>\n",
       "      <td>0.000219</td>\n",
       "      <td>0.000182</td>\n",
       "      <td>0.001882</td>\n",
       "      <td>-0.003509</td>\n",
       "      <td>-0.002079</td>\n",
       "      <td>...</td>\n",
       "      <td>-0.003509</td>\n",
       "      <td>0.000060</td>\n",
       "      <td>-0.004908</td>\n",
       "      <td>-0.133998</td>\n",
       "      <td>-0.010854</td>\n",
       "      <td>0.009910</td>\n",
       "      <td>-0.153644</td>\n",
       "      <td>-0.045258</td>\n",
       "      <td>-0.150406</td>\n",
       "      <td>0.044781</td>\n",
       "    </tr>\n",
       "    <tr>\n",
       "      <th>3</th>\n",
       "      <td>-1.027122</td>\n",
       "      <td>0.095208</td>\n",
       "      <td>-0.000137</td>\n",
       "      <td>0.002144</td>\n",
       "      <td>-0.003282</td>\n",
       "      <td>-0.000302</td>\n",
       "      <td>-0.000333</td>\n",
       "      <td>0.001519</td>\n",
       "      <td>0.001063</td>\n",
       "      <td>-0.002076</td>\n",
       "      <td>...</td>\n",
       "      <td>0.001063</td>\n",
       "      <td>0.000066</td>\n",
       "      <td>0.002495</td>\n",
       "      <td>-0.133893</td>\n",
       "      <td>-0.010854</td>\n",
       "      <td>0.009910</td>\n",
       "      <td>-0.153644</td>\n",
       "      <td>-0.045258</td>\n",
       "      <td>-0.150406</td>\n",
       "      <td>0.088803</td>\n",
       "    </tr>\n",
       "    <tr>\n",
       "      <th>4</th>\n",
       "      <td>-1.027122</td>\n",
       "      <td>0.078927</td>\n",
       "      <td>-0.000084</td>\n",
       "      <td>0.001453</td>\n",
       "      <td>-0.000148</td>\n",
       "      <td>-0.000061</td>\n",
       "      <td>-0.000199</td>\n",
       "      <td>0.001519</td>\n",
       "      <td>0.001425</td>\n",
       "      <td>-0.002077</td>\n",
       "      <td>...</td>\n",
       "      <td>0.001425</td>\n",
       "      <td>0.000064</td>\n",
       "      <td>-0.002813</td>\n",
       "      <td>-0.133738</td>\n",
       "      <td>-0.010855</td>\n",
       "      <td>0.009909</td>\n",
       "      <td>-0.153644</td>\n",
       "      <td>-0.045258</td>\n",
       "      <td>-0.150406</td>\n",
       "      <td>-0.099000</td>\n",
       "    </tr>\n",
       "  </tbody>\n",
       "</table>\n",
       "<p>5 rows × 23 columns</p>\n",
       "</div>"
      ],
      "text/plain": [
       "          t        Ux        Uy        Uz        G1        G2        G3  \\\n",
       "0 -1.027122 -0.000607 -0.001033  0.001586  0.003769 -0.000243 -0.000310   \n",
       "1 -1.027122  0.048423 -0.002944 -0.000262  0.021788 -0.000289 -0.000408   \n",
       "2 -1.027122  0.146858 -0.000820  0.001179  0.005336  0.000219  0.000182   \n",
       "3 -1.027122  0.095208 -0.000137  0.002144 -0.003282 -0.000302 -0.000333   \n",
       "4 -1.027122  0.078927 -0.000084  0.001453 -0.000148 -0.000061 -0.000199   \n",
       "\n",
       "         G4        G5        G6  ...        S4        S5        S6      UUp1  \\\n",
       "0  0.001519 -0.004942 -0.002082  ... -0.004942  0.000056 -0.001784 -0.134213   \n",
       "1  0.001519 -0.017760 -0.002090  ... -0.017760  0.000042 -0.015981 -0.134199   \n",
       "2  0.001882 -0.003509 -0.002079  ... -0.003509  0.000060 -0.004908 -0.133998   \n",
       "3  0.001519  0.001063 -0.002076  ...  0.001063  0.000066  0.002495 -0.133893   \n",
       "4  0.001519  0.001425 -0.002077  ...  0.001425  0.000064 -0.002813 -0.133738   \n",
       "\n",
       "       UUp2      UUp3      UUp4      UUp5      UUp6        Cs  \n",
       "0 -0.010852  0.009912 -0.153644 -0.045258 -0.150407 -0.232084  \n",
       "1 -0.010853  0.009911 -0.153644 -0.045258 -0.150407 -0.191414  \n",
       "2 -0.010854  0.009910 -0.153644 -0.045258 -0.150406  0.044781  \n",
       "3 -0.010854  0.009910 -0.153644 -0.045258 -0.150406  0.088803  \n",
       "4 -0.010855  0.009909 -0.153644 -0.045258 -0.150406 -0.099000  \n",
       "\n",
       "[5 rows x 23 columns]"
      ]
     },
     "execution_count": 3,
     "metadata": {},
     "output_type": "execute_result"
    }
   ],
   "source": [
    "R103.head()"
   ]
  },
  {
   "cell_type": "code",
   "execution_count": 4,
   "id": "c5190ce9",
   "metadata": {},
   "outputs": [
    {
     "data": {
      "text/plain": [
       "(26697608, 23)"
      ]
     },
     "execution_count": 4,
     "metadata": {},
     "output_type": "execute_result"
    }
   ],
   "source": [
    "frames = [R103, R503, R104]\n",
    "df = pd.concat(frames)\n",
    "df.shape"
   ]
  },
  {
   "cell_type": "code",
   "execution_count": 5,
   "id": "00708509",
   "metadata": {},
   "outputs": [],
   "source": [
    "M1_headers = ['Ux', 'Uy', 'Uz', 'S1',  'S2', 'S3', 'S4', 'S5', 'S6', 'Cs']\n",
    "M2_headers = ['G1', 'G2', 'G3', 'G4', 'G5', 'G6', 'S1',  'S2', 'S3', 'S4', 'S5', 'S6', 'Cs']\n",
    "M3_headers = ['Ux', 'Uy', 'Uz', 'UUp1',  'UUp2', 'UUp3', 'UUp4', 'UUp5', 'UUp6', 'Cs']\n",
    "M4_headers = ['G1', 'G2', 'G3', 'G4', 'G5', 'G6', 'UUp1',  'UUp2', 'UUp3', 'UUp4', 'UUp5', 'UUp6', 'Cs']\n",
    "\n",
    "M1_103 = R103.filter(M1_headers, axis=1)\n",
    "M2_103 = R103.filter(M2_headers, axis=1)\n",
    "M3_103 = R103.filter(M3_headers, axis=1)\n",
    "M4_103 = R103.filter(M4_headers, axis=1)\n",
    "\n",
    "M1_503 = R503.filter(M1_headers, axis=1)\n",
    "M2_503 = R503.filter(M2_headers, axis=1)\n",
    "M3_503 = R503.filter(M3_headers, axis=1)\n",
    "M4_503 = R503.filter(M4_headers, axis=1)\n",
    "\n",
    "M1_104 = R104.filter(M1_headers, axis=1)\n",
    "M2_104 = R104.filter(M2_headers, axis=1)\n",
    "M3_104 = R104.filter(M3_headers, axis=1)\n",
    "M4_104 = R104.filter(M4_headers, axis=1)\n",
    "\n",
    "M1 = df.filter(M1_headers, axis=1)\n",
    "M2 = df.filter(M2_headers, axis=1)\n",
    "M3 = df.filter(M3_headers, axis=1)\n",
    "M4 = df.filter(M4_headers, axis=1)"
   ]
  },
  {
   "cell_type": "code",
   "execution_count": 6,
   "id": "1f89e529",
   "metadata": {},
   "outputs": [
    {
     "data": {
      "text/plain": [
       "((26697608, 10), (26697608, 13))"
      ]
     },
     "execution_count": 6,
     "metadata": {},
     "output_type": "execute_result"
    }
   ],
   "source": [
    "M1.shape, M2.shape"
   ]
  },
  {
   "cell_type": "code",
   "execution_count": 8,
   "id": "f891aa76",
   "metadata": {},
   "outputs": [],
   "source": [
    "def namestr(obj, namespace):\n",
    "    return [name for name in namespace if namespace[name] is obj]"
   ]
  },
  {
   "cell_type": "code",
   "execution_count": 102,
   "id": "5816028b",
   "metadata": {},
   "outputs": [],
   "source": [
    "dt = M4_503\n",
    "dt_name = namestr(M4_503, globals())[0]\n",
    "output_size = 1\n",
    "input_size = dt.shape[1] - output_size \n",
    "neurons_per_layer = [60, 60, 60, 60, 60] #[120, 60, 30, 20, 10, 10, 20, 30, 60]\n",
    "hidden_layers = len(neurons_per_layer)   \n",
    "#latent_size = 20  "
   ]
  },
  {
   "cell_type": "code",
   "execution_count": 103,
   "id": "9321b395",
   "metadata": {},
   "outputs": [
    {
     "data": {
      "text/html": [
       "<div>\n",
       "<style scoped>\n",
       "    .dataframe tbody tr th:only-of-type {\n",
       "        vertical-align: middle;\n",
       "    }\n",
       "\n",
       "    .dataframe tbody tr th {\n",
       "        vertical-align: top;\n",
       "    }\n",
       "\n",
       "    .dataframe thead th {\n",
       "        text-align: right;\n",
       "    }\n",
       "</style>\n",
       "<table border=\"1\" class=\"dataframe\">\n",
       "  <thead>\n",
       "    <tr style=\"text-align: right;\">\n",
       "      <th></th>\n",
       "      <th>G1</th>\n",
       "      <th>G2</th>\n",
       "      <th>G3</th>\n",
       "      <th>G4</th>\n",
       "      <th>G5</th>\n",
       "      <th>G6</th>\n",
       "      <th>UUp1</th>\n",
       "      <th>UUp2</th>\n",
       "      <th>UUp3</th>\n",
       "      <th>UUp4</th>\n",
       "      <th>UUp5</th>\n",
       "      <th>UUp6</th>\n",
       "      <th>Cs</th>\n",
       "    </tr>\n",
       "  </thead>\n",
       "  <tbody>\n",
       "    <tr>\n",
       "      <th>0</th>\n",
       "      <td>0.000738</td>\n",
       "      <td>-0.000526</td>\n",
       "      <td>0.000439</td>\n",
       "      <td>-0.000355</td>\n",
       "      <td>-0.000045</td>\n",
       "      <td>-0.000941</td>\n",
       "      <td>-0.116831</td>\n",
       "      <td>0.002460</td>\n",
       "      <td>-0.001456</td>\n",
       "      <td>-0.141552</td>\n",
       "      <td>0.006636</td>\n",
       "      <td>-0.142795</td>\n",
       "      <td>-0.472658</td>\n",
       "    </tr>\n",
       "    <tr>\n",
       "      <th>1</th>\n",
       "      <td>0.005381</td>\n",
       "      <td>-0.000548</td>\n",
       "      <td>0.000419</td>\n",
       "      <td>-0.000355</td>\n",
       "      <td>-0.002436</td>\n",
       "      <td>-0.000941</td>\n",
       "      <td>-0.116830</td>\n",
       "      <td>0.002460</td>\n",
       "      <td>-0.001456</td>\n",
       "      <td>-0.141552</td>\n",
       "      <td>0.006636</td>\n",
       "      <td>-0.142795</td>\n",
       "      <td>-0.144178</td>\n",
       "    </tr>\n",
       "    <tr>\n",
       "      <th>2</th>\n",
       "      <td>0.011798</td>\n",
       "      <td>-0.000567</td>\n",
       "      <td>0.000410</td>\n",
       "      <td>-0.000420</td>\n",
       "      <td>-0.005874</td>\n",
       "      <td>-0.000945</td>\n",
       "      <td>-0.116829</td>\n",
       "      <td>0.002459</td>\n",
       "      <td>-0.001456</td>\n",
       "      <td>-0.141552</td>\n",
       "      <td>0.006636</td>\n",
       "      <td>-0.142795</td>\n",
       "      <td>-0.146722</td>\n",
       "    </tr>\n",
       "    <tr>\n",
       "      <th>3</th>\n",
       "      <td>0.017124</td>\n",
       "      <td>-0.000483</td>\n",
       "      <td>0.000490</td>\n",
       "      <td>-0.000355</td>\n",
       "      <td>-0.008891</td>\n",
       "      <td>-0.000958</td>\n",
       "      <td>-0.116821</td>\n",
       "      <td>0.002459</td>\n",
       "      <td>-0.001456</td>\n",
       "      <td>-0.141552</td>\n",
       "      <td>0.006636</td>\n",
       "      <td>-0.142795</td>\n",
       "      <td>-0.146788</td>\n",
       "    </tr>\n",
       "    <tr>\n",
       "      <th>4</th>\n",
       "      <td>0.012754</td>\n",
       "      <td>-0.000333</td>\n",
       "      <td>0.000658</td>\n",
       "      <td>-0.000290</td>\n",
       "      <td>-0.006874</td>\n",
       "      <td>-0.000944</td>\n",
       "      <td>-0.116801</td>\n",
       "      <td>0.002459</td>\n",
       "      <td>-0.001456</td>\n",
       "      <td>-0.141552</td>\n",
       "      <td>0.006636</td>\n",
       "      <td>-0.142795</td>\n",
       "      <td>-0.143898</td>\n",
       "    </tr>\n",
       "  </tbody>\n",
       "</table>\n",
       "</div>"
      ],
      "text/plain": [
       "         G1        G2        G3        G4        G5        G6      UUp1  \\\n",
       "0  0.000738 -0.000526  0.000439 -0.000355 -0.000045 -0.000941 -0.116831   \n",
       "1  0.005381 -0.000548  0.000419 -0.000355 -0.002436 -0.000941 -0.116830   \n",
       "2  0.011798 -0.000567  0.000410 -0.000420 -0.005874 -0.000945 -0.116829   \n",
       "3  0.017124 -0.000483  0.000490 -0.000355 -0.008891 -0.000958 -0.116821   \n",
       "4  0.012754 -0.000333  0.000658 -0.000290 -0.006874 -0.000944 -0.116801   \n",
       "\n",
       "       UUp2      UUp3      UUp4      UUp5      UUp6        Cs  \n",
       "0  0.002460 -0.001456 -0.141552  0.006636 -0.142795 -0.472658  \n",
       "1  0.002460 -0.001456 -0.141552  0.006636 -0.142795 -0.144178  \n",
       "2  0.002459 -0.001456 -0.141552  0.006636 -0.142795 -0.146722  \n",
       "3  0.002459 -0.001456 -0.141552  0.006636 -0.142795 -0.146788  \n",
       "4  0.002459 -0.001456 -0.141552  0.006636 -0.142795 -0.143898  "
      ]
     },
     "execution_count": 103,
     "metadata": {},
     "output_type": "execute_result"
    }
   ],
   "source": [
    "dt.head()"
   ]
  },
  {
   "cell_type": "code",
   "execution_count": 104,
   "id": "fe61abc0",
   "metadata": {},
   "outputs": [],
   "source": [
    "#dt.to_csv(f'./{dt_name}.txt', sep=' ', index=False, encoding='utf-8', header=False)"
   ]
  },
  {
   "cell_type": "code",
   "execution_count": 105,
   "id": "fa94eef3",
   "metadata": {},
   "outputs": [],
   "source": [
    "mask = np.random.rand(len(dt)) < 0.8\n",
    "train_val = dt[mask]\n",
    "test = dt[~mask].to_numpy()\n",
    "\n",
    "mask = np.random.rand(len(train_val)) < 0.8\n",
    "train = train_val[mask].to_numpy()\n",
    "val = train_val[~mask].to_numpy()"
   ]
  },
  {
   "cell_type": "code",
   "execution_count": 106,
   "id": "8f5586cc",
   "metadata": {},
   "outputs": [
    {
     "data": {
      "text/plain": [
       "((6172628, 13), 3949968, 986937, 1235723)"
      ]
     },
     "execution_count": 106,
     "metadata": {},
     "output_type": "execute_result"
    }
   ],
   "source": [
    "dt.shape, train.shape[0], val.shape[0], test.shape[0]"
   ]
  },
  {
   "cell_type": "code",
   "execution_count": 107,
   "id": "d15cbee6",
   "metadata": {},
   "outputs": [],
   "source": [
    "batch_sz_trn = 4096\n",
    "batch_sz_val = int(batch_sz_trn / 4)\n",
    "batch_sz_tst = int(batch_sz_trn / 4)\n",
    "\n",
    "train_loader = torch.utils.data.DataLoader(dataset=train, batch_size=batch_sz_trn, shuffle=True)\n",
    "val_loader = torch.utils.data.DataLoader(dataset=val, batch_size=batch_sz_val, shuffle=True)\n",
    "test_loader = torch.utils.data.DataLoader(dataset=test, batch_size=batch_sz_tst, shuffle=True)"
   ]
  },
  {
   "cell_type": "code",
   "execution_count": 108,
   "id": "364d96fe",
   "metadata": {},
   "outputs": [
    {
     "data": {
      "text/plain": [
       "tensor([ 1.6528e-01, -4.7454e-03, -5.6232e-02, -6.4798e-03,  1.0020e-01,\n",
       "         1.1777e-01, -7.2796e-02,  1.5963e-02,  7.5270e-02, -8.2913e-02,\n",
       "         4.8199e-01,  2.6602e-02,  6.9009e+00], dtype=torch.float64)"
      ]
     },
     "execution_count": 108,
     "metadata": {},
     "output_type": "execute_result"
    }
   ],
   "source": [
    "data_iter = iter(train_loader)\n",
    "next(data_iter)[0]"
   ]
  },
  {
   "cell_type": "code",
   "execution_count": 109,
   "id": "854d19d5",
   "metadata": {},
   "outputs": [],
   "source": [
    "def coeff_determination(y_true, y_pred):\n",
    "    SS_res = torch.sum(torch.square( y_true - y_pred ))\n",
    "    SS_tot = torch.sum(torch.square( y_true - torch.mean(y_true) ) )\n",
    "    return ( 1 - SS_res/(SS_tot + sys_epsilon) )"
   ]
  },
  {
   "cell_type": "code",
   "execution_count": 110,
   "id": "a7b91edd",
   "metadata": {},
   "outputs": [],
   "source": [
    "class MLPModel(nn.Module):\n",
    "    def __init__(self, input_size, output_size, hidden_layers, neurons_per_layer):\n",
    "        super(MLPModel, self).__init__()\n",
    "\n",
    "        layers = []\n",
    "        layers.append(nn.Linear(input_size, neurons_per_layer[0]))\n",
    "        layers.append(nn.ReLU())\n",
    "\n",
    "        for i in range(1, hidden_layers):\n",
    "            layers.append(nn.Linear(neurons_per_layer[i - 1], neurons_per_layer[i]))\n",
    "            layers.append(nn.ReLU())\n",
    "\n",
    "        layers.append(nn.Linear(neurons_per_layer[-1], output_size))\n",
    "\n",
    "        self.block = nn.Sequential(*layers)\n",
    "\n",
    "    def forward(self, x):\n",
    "        x = self.block(x)\n",
    "        return x\n"
   ]
  },
  {
   "cell_type": "code",
   "execution_count": 111,
   "id": "16b59a5a",
   "metadata": {},
   "outputs": [],
   "source": [
    "class Autoencoder(nn.Module):\n",
    "    def __init__(self, input_size, latent_size, hidden_layers, neurons_per_layer):\n",
    "        super(Autoencoder, self).__init__()\n",
    "\n",
    "        # Encoder layers\n",
    "        encoder_layers = []\n",
    "        encoder_layers.append(nn.Linear(input_size, neurons_per_layer[0]))\n",
    "        encoder_layers.append(nn.ReLU())\n",
    "\n",
    "        for i in range(1, hidden_layers):\n",
    "            encoder_layers.append(nn.Linear(neurons_per_layer[i - 1], neurons_per_layer[i]))\n",
    "            encoder_layers.append(nn.ReLU())\n",
    "\n",
    "        encoder_layers.append(nn.Linear(neurons_per_layer[-1], latent_size))\n",
    "        self.encoder = nn.Sequential(*encoder_layers)\n",
    "\n",
    "        # Decoder layers\n",
    "        decoder_layers = []\n",
    "        decoder_layers.append(nn.Linear(latent_size, neurons_per_layer[-1]))\n",
    "        decoder_layers.append(nn.ReLU())\n",
    "\n",
    "        for i in range(hidden_layers - 1, 0, -1):\n",
    "            decoder_layers.append(nn.Linear(neurons_per_layer[i], neurons_per_layer[i - 1]))\n",
    "            decoder_layers.append(nn.ReLU())\n",
    "\n",
    "        decoder_layers.append(nn.Linear(neurons_per_layer[0], 1))\n",
    "        self.decoder = nn.Sequential(*decoder_layers)\n",
    "\n",
    "    def forward(self, x):\n",
    "        # Encode input\n",
    "        encoded = self.encoder(x)\n",
    "\n",
    "        # Decode\n",
    "        decoded = self.decoder(encoded)\n",
    "\n",
    "        return decoded\n"
   ]
  },
  {
   "cell_type": "code",
   "execution_count": 112,
   "id": "85bbb899",
   "metadata": {},
   "outputs": [],
   "source": [
    "model = MLPModel(input_size=input_size, \n",
    "                 output_size=output_size, \n",
    "                 hidden_layers=hidden_layers, \n",
    "                 neurons_per_layer=neurons_per_layer)"
   ]
  },
  {
   "cell_type": "code",
   "execution_count": 113,
   "id": "564817d0",
   "metadata": {},
   "outputs": [],
   "source": [
    "#model = Autoencoder(input_size, latent_size, hidden_layers, neurons_per_layer)"
   ]
  },
  {
   "cell_type": "code",
   "execution_count": 114,
   "id": "19be546f",
   "metadata": {},
   "outputs": [],
   "source": [
    "optimizer = torch.optim.Adam(model.parameters(), lr=0.001)\n",
    "scheduler = StepLR(optimizer, step_size=3, gamma=0.2)"
   ]
  },
  {
   "cell_type": "code",
   "execution_count": 115,
   "id": "184f47c5",
   "metadata": {},
   "outputs": [],
   "source": [
    "#criterion = nn.MSELoss()  # Mean Squared Error loss for reconstruction\n",
    "#optimizer = torch.optim.Adam(model.parameters(), lr=0.001)"
   ]
  },
  {
   "cell_type": "code",
   "execution_count": 116,
   "id": "a6152899",
   "metadata": {},
   "outputs": [
    {
     "data": {
      "text/plain": [
       "MLPModel(\n",
       "  (block): Sequential(\n",
       "    (0): Linear(in_features=12, out_features=60, bias=True)\n",
       "    (1): ReLU()\n",
       "    (2): Linear(in_features=60, out_features=60, bias=True)\n",
       "    (3): ReLU()\n",
       "    (4): Linear(in_features=60, out_features=60, bias=True)\n",
       "    (5): ReLU()\n",
       "    (6): Linear(in_features=60, out_features=60, bias=True)\n",
       "    (7): ReLU()\n",
       "    (8): Linear(in_features=60, out_features=60, bias=True)\n",
       "    (9): ReLU()\n",
       "    (10): Linear(in_features=60, out_features=1, bias=True)\n",
       "  )\n",
       ")"
      ]
     },
     "execution_count": 116,
     "metadata": {},
     "output_type": "execute_result"
    }
   ],
   "source": [
    "device = torch.device(\"cuda\")\n",
    "model.to(device)\n",
    "model.double()"
   ]
  },
  {
   "cell_type": "code",
   "execution_count": 117,
   "id": "1173ec45",
   "metadata": {},
   "outputs": [],
   "source": [
    "class EarlyStopper:\n",
    "    def __init__(self, patience=1, path=None):\n",
    "        self.patience = patience\n",
    "        self.path = path\n",
    "        self.counter = 0\n",
    "        self.min_val_loss = float('inf')\n",
    "\n",
    "    def early_stop(self, model_stat, val_loss):\n",
    "        if val_loss < self.min_val_loss:\n",
    "            torch.save(model_stat, self.path)\n",
    "            self.min_val_loss = val_loss\n",
    "            self.counter = 0\n",
    "        elif val_loss > (self.min_val_loss + sys_epsilon):\n",
    "            self.counter += 1\n",
    "            if self.counter >= self.patience:\n",
    "                print('+++ Early Stopping is reached! +++')\n",
    "                return True\n",
    "        return False"
   ]
  },
  {
   "cell_type": "code",
   "execution_count": null,
   "id": "82eab4ef",
   "metadata": {
    "scrolled": true
   },
   "outputs": [
    {
     "name": "stderr",
     "output_type": "stream",
     "text": [
      "Train: 100%|██████████| 965/965 [00:14<00:00, 68.44batch/s]\n",
      "Valdt: 100%|██████████| 964/964 [00:04<00:00, 233.03batch/s]\n"
     ]
    },
    {
     "name": "stdout",
     "output_type": "stream",
     "text": [
      "Epoch: 0 / 6000, \n",
      " Train -- Loss: 0.2147311471363891, Coeff: 0.235595703125 \n",
      " Val   -- Loss: 0.9221174666173586, Coeff: 0.94140625 \n",
      "\n",
      "\n"
     ]
    },
    {
     "name": "stderr",
     "output_type": "stream",
     "text": [
      "Train: 100%|██████████| 965/965 [00:13<00:00, 69.55batch/s]\n",
      "Valdt: 100%|██████████| 964/964 [00:04<00:00, 232.24batch/s]\n"
     ]
    },
    {
     "name": "stdout",
     "output_type": "stream",
     "text": [
      "Epoch: 1 / 6000, \n",
      " Train -- Loss: 0.20654897392471624, Coeff: 0.235595703125 \n",
      " Val   -- Loss: 0.9005269713202394, Coeff: 0.94140625 \n",
      "\n",
      "\n"
     ]
    },
    {
     "name": "stderr",
     "output_type": "stream",
     "text": [
      "Train: 100%|██████████| 965/965 [00:13<00:00, 69.41batch/s]\n",
      "Valdt: 100%|██████████| 964/964 [00:04<00:00, 233.49batch/s]\n"
     ]
    },
    {
     "name": "stdout",
     "output_type": "stream",
     "text": [
      "Epoch: 2 / 6000, \n",
      " Train -- Loss: 0.20136775603249016, Coeff: 0.235595703125 \n",
      " Val   -- Loss: 0.8775043050558224, Coeff: 0.94140625 \n",
      "\n",
      "\n"
     ]
    },
    {
     "name": "stderr",
     "output_type": "stream",
     "text": [
      "Train: 100%|██████████| 965/965 [00:14<00:00, 68.12batch/s]\n",
      "Valdt: 100%|██████████| 964/964 [00:04<00:00, 233.53batch/s]\n"
     ]
    },
    {
     "name": "stdout",
     "output_type": "stream",
     "text": [
      "Epoch: 3 / 6000, \n",
      " Train -- Loss: 0.19751006327891762, Coeff: 0.235595703125 \n",
      " Val   -- Loss: 0.8579790158522941, Coeff: 0.94140625 \n",
      "\n",
      "\n"
     ]
    },
    {
     "name": "stderr",
     "output_type": "stream",
     "text": [
      "Train: 100%|██████████| 965/965 [00:13<00:00, 69.84batch/s]\n",
      "Valdt: 100%|██████████| 964/964 [00:04<00:00, 225.45batch/s]\n"
     ]
    },
    {
     "name": "stdout",
     "output_type": "stream",
     "text": [
      "Epoch: 4 / 6000, \n",
      " Train -- Loss: 0.1947818751629143, Coeff: 0.235595703125 \n",
      " Val   -- Loss: 0.8607840845787809, Coeff: 0.94140625 \n",
      "\n",
      "\n"
     ]
    },
    {
     "name": "stderr",
     "output_type": "stream",
     "text": [
      "Train: 100%|██████████| 965/965 [00:14<00:00, 68.03batch/s]\n",
      "Valdt: 100%|██████████| 964/964 [00:04<00:00, 233.29batch/s]\n"
     ]
    },
    {
     "name": "stdout",
     "output_type": "stream",
     "text": [
      "Epoch: 5 / 6000, \n",
      " Train -- Loss: 0.19236573383261196, Coeff: 0.235595703125 \n",
      " Val   -- Loss: 0.846785886003223, Coeff: 0.94140625 \n",
      "\n",
      "\n"
     ]
    },
    {
     "name": "stderr",
     "output_type": "stream",
     "text": [
      "Train: 100%|██████████| 965/965 [00:14<00:00, 68.40batch/s]\n",
      "Valdt: 100%|██████████| 964/964 [00:03<00:00, 244.41batch/s]\n"
     ]
    },
    {
     "name": "stdout",
     "output_type": "stream",
     "text": [
      "Epoch: 6 / 6000, \n",
      " Train -- Loss: 0.19128404018880485, Coeff: 0.235595703125 \n",
      " Val   -- Loss: 0.8362689344051091, Coeff: 0.94140625 \n",
      "\n",
      "\n"
     ]
    },
    {
     "name": "stderr",
     "output_type": "stream",
     "text": [
      "Train: 100%|██████████| 965/965 [00:13<00:00, 69.56batch/s]\n",
      "Valdt: 100%|██████████| 964/964 [00:04<00:00, 230.76batch/s]\n"
     ]
    },
    {
     "name": "stdout",
     "output_type": "stream",
     "text": [
      "Epoch: 7 / 6000, \n",
      " Train -- Loss: 0.18968350381743776, Coeff: 0.235595703125 \n",
      " Val   -- Loss: 0.8331334768235759, Coeff: 0.94140625 \n",
      "\n",
      "\n"
     ]
    },
    {
     "name": "stderr",
     "output_type": "stream",
     "text": [
      "Train: 100%|██████████| 965/965 [00:14<00:00, 68.67batch/s]\n",
      "Valdt: 100%|██████████| 964/964 [00:04<00:00, 225.89batch/s]\n"
     ]
    },
    {
     "name": "stdout",
     "output_type": "stream",
     "text": [
      "Epoch: 8 / 6000, \n",
      " Train -- Loss: 0.18867295213104793, Coeff: 0.235595703125 \n",
      " Val   -- Loss: 0.8381889148120264, Coeff: 0.94140625 \n",
      "\n",
      "\n"
     ]
    },
    {
     "name": "stderr",
     "output_type": "stream",
     "text": [
      "Train: 100%|██████████| 965/965 [00:13<00:00, 69.48batch/s]\n",
      "Valdt: 100%|██████████| 964/964 [00:04<00:00, 239.46batch/s]\n"
     ]
    },
    {
     "name": "stdout",
     "output_type": "stream",
     "text": [
      "Epoch: 9 / 6000, \n",
      " Train -- Loss: 0.1875185141373293, Coeff: 0.235595703125 \n",
      " Val   -- Loss: 0.8278749996122649, Coeff: 0.94140625 \n",
      "\n",
      "\n"
     ]
    },
    {
     "name": "stderr",
     "output_type": "stream",
     "text": [
      "Train: 100%|██████████| 965/965 [00:14<00:00, 68.74batch/s]\n",
      "Valdt: 100%|██████████| 964/964 [00:04<00:00, 237.28batch/s]\n"
     ]
    },
    {
     "name": "stdout",
     "output_type": "stream",
     "text": [
      "Epoch: 10 / 6000, \n",
      " Train -- Loss: 0.18640004522018078, Coeff: 0.235595703125 \n",
      " Val   -- Loss: 0.8352103997187347, Coeff: 0.94140625 \n",
      "\n",
      "\n"
     ]
    },
    {
     "name": "stderr",
     "output_type": "stream",
     "text": [
      "Train: 100%|██████████| 965/965 [00:14<00:00, 67.69batch/s]\n",
      "Valdt: 100%|██████████| 964/964 [00:04<00:00, 235.89batch/s]\n"
     ]
    },
    {
     "name": "stdout",
     "output_type": "stream",
     "text": [
      "Epoch: 11 / 6000, \n",
      " Train -- Loss: 0.18572029884865524, Coeff: 0.235595703125 \n",
      " Val   -- Loss: 0.8284822790161687, Coeff: 0.94140625 \n",
      "\n",
      "\n"
     ]
    },
    {
     "name": "stderr",
     "output_type": "stream",
     "text": [
      "Train: 100%|██████████| 965/965 [00:13<00:00, 69.29batch/s]\n",
      "Valdt: 100%|██████████| 964/964 [00:04<00:00, 230.70batch/s]\n"
     ]
    },
    {
     "name": "stdout",
     "output_type": "stream",
     "text": [
      "Epoch: 12 / 6000, \n",
      " Train -- Loss: 0.1843741556678672, Coeff: 0.235595703125 \n",
      " Val   -- Loss: 0.8309054586146416, Coeff: 0.94140625 \n",
      "\n",
      "\n"
     ]
    },
    {
     "name": "stderr",
     "output_type": "stream",
     "text": [
      "Train: 100%|██████████| 965/965 [00:13<00:00, 69.02batch/s]\n",
      "Valdt: 100%|██████████| 964/964 [00:04<00:00, 236.49batch/s]\n"
     ]
    },
    {
     "name": "stdout",
     "output_type": "stream",
     "text": [
      "Epoch: 13 / 6000, \n",
      " Train -- Loss: 0.18396740655978805, Coeff: 0.235595703125 \n",
      " Val   -- Loss: 0.8196003032064196, Coeff: 0.94140625 \n",
      "\n",
      "\n"
     ]
    },
    {
     "name": "stderr",
     "output_type": "stream",
     "text": [
      "Train: 100%|██████████| 965/965 [00:14<00:00, 68.52batch/s]\n",
      "Valdt: 100%|██████████| 964/964 [00:04<00:00, 229.61batch/s]\n"
     ]
    },
    {
     "name": "stdout",
     "output_type": "stream",
     "text": [
      "Epoch: 14 / 6000, \n",
      " Train -- Loss: 0.18346052965884135, Coeff: 0.235595703125 \n",
      " Val   -- Loss: 0.8167798793087218, Coeff: 0.94140625 \n",
      "\n",
      "\n"
     ]
    },
    {
     "name": "stderr",
     "output_type": "stream",
     "text": [
      "Train: 100%|██████████| 965/965 [00:13<00:00, 69.10batch/s]\n",
      "Valdt: 100%|██████████| 964/964 [00:04<00:00, 236.74batch/s]\n"
     ]
    },
    {
     "name": "stdout",
     "output_type": "stream",
     "text": [
      "Epoch: 15 / 6000, \n",
      " Train -- Loss: 0.18274414002667982, Coeff: 0.235595703125 \n",
      " Val   -- Loss: 0.8164932397377622, Coeff: 0.94140625 \n",
      "\n",
      "\n"
     ]
    },
    {
     "name": "stderr",
     "output_type": "stream",
     "text": [
      "Train: 100%|██████████| 965/965 [00:14<00:00, 68.92batch/s]\n",
      "Valdt: 100%|██████████| 964/964 [00:04<00:00, 240.84batch/s]\n"
     ]
    },
    {
     "name": "stdout",
     "output_type": "stream",
     "text": [
      "Epoch: 16 / 6000, \n",
      " Train -- Loss: 0.181631992958483, Coeff: 0.235595703125 \n",
      " Val   -- Loss: 0.8100290730406687, Coeff: 0.94140625 \n",
      "\n",
      "\n"
     ]
    },
    {
     "name": "stderr",
     "output_type": "stream",
     "text": [
      "Train: 100%|██████████| 965/965 [00:13<00:00, 69.04batch/s]\n",
      "Valdt: 100%|██████████| 964/964 [00:04<00:00, 231.26batch/s]\n"
     ]
    },
    {
     "name": "stdout",
     "output_type": "stream",
     "text": [
      "Epoch: 17 / 6000, \n",
      " Train -- Loss: 0.1811203831713315, Coeff: 0.235595703125 \n",
      " Val   -- Loss: 0.8270138028382985, Coeff: 0.94140625 \n",
      "\n",
      "\n"
     ]
    },
    {
     "name": "stderr",
     "output_type": "stream",
     "text": [
      "Train: 100%|██████████| 965/965 [00:13<00:00, 69.00batch/s]\n",
      "Valdt: 100%|██████████| 964/964 [00:04<00:00, 239.90batch/s]\n"
     ]
    },
    {
     "name": "stdout",
     "output_type": "stream",
     "text": [
      "Epoch: 18 / 6000, \n",
      " Train -- Loss: 0.18035842669563462, Coeff: 0.235595703125 \n",
      " Val   -- Loss: 0.8111238745031849, Coeff: 0.94140625 \n",
      "\n",
      "\n"
     ]
    },
    {
     "name": "stderr",
     "output_type": "stream",
     "text": [
      "Train: 100%|██████████| 965/965 [00:13<00:00, 69.94batch/s]\n",
      "Valdt: 100%|██████████| 964/964 [00:04<00:00, 240.01batch/s]\n"
     ]
    },
    {
     "name": "stdout",
     "output_type": "stream",
     "text": [
      "Epoch: 19 / 6000, \n",
      " Train -- Loss: 0.18044565315218974, Coeff: 0.235595703125 \n",
      " Val   -- Loss: 0.8095527869756244, Coeff: 0.94140625 \n",
      "\n",
      "\n"
     ]
    },
    {
     "name": "stderr",
     "output_type": "stream",
     "text": [
      "Train: 100%|██████████| 965/965 [00:13<00:00, 69.62batch/s]\n",
      "Valdt: 100%|██████████| 964/964 [00:04<00:00, 234.40batch/s]\n"
     ]
    },
    {
     "name": "stdout",
     "output_type": "stream",
     "text": [
      "Epoch: 20 / 6000, \n",
      " Train -- Loss: 0.17942113299363693, Coeff: 0.235595703125 \n",
      " Val   -- Loss: 0.8160862059272389, Coeff: 0.94140625 \n",
      "\n",
      "\n"
     ]
    },
    {
     "name": "stderr",
     "output_type": "stream",
     "text": [
      "Train: 100%|██████████| 965/965 [00:13<00:00, 69.24batch/s]\n",
      "Valdt: 100%|██████████| 964/964 [00:04<00:00, 237.65batch/s]\n"
     ]
    },
    {
     "name": "stdout",
     "output_type": "stream",
     "text": [
      "Epoch: 21 / 6000, \n",
      " Train -- Loss: 0.17872424347220997, Coeff: 0.235595703125 \n",
      " Val   -- Loss: 0.8151802474463802, Coeff: 0.94140625 \n",
      "\n",
      "\n"
     ]
    },
    {
     "name": "stderr",
     "output_type": "stream",
     "text": [
      "Train: 100%|██████████| 965/965 [00:14<00:00, 68.86batch/s]\n",
      "Valdt: 100%|██████████| 964/964 [00:04<00:00, 234.29batch/s]\n"
     ]
    },
    {
     "name": "stdout",
     "output_type": "stream",
     "text": [
      "Epoch: 22 / 6000, \n",
      " Train -- Loss: 0.1783289489136336, Coeff: 0.235595703125 \n",
      " Val   -- Loss: 0.8219909696133643, Coeff: 0.94140625 \n",
      "\n",
      "\n"
     ]
    },
    {
     "name": "stderr",
     "output_type": "stream",
     "text": [
      "Train: 100%|██████████| 965/965 [00:14<00:00, 68.77batch/s]\n",
      "Valdt: 100%|██████████| 964/964 [00:04<00:00, 233.58batch/s]\n"
     ]
    },
    {
     "name": "stdout",
     "output_type": "stream",
     "text": [
      "Epoch: 23 / 6000, \n",
      " Train -- Loss: 0.1778529853241506, Coeff: 0.235595703125 \n",
      " Val   -- Loss: 0.8169422693658581, Coeff: 0.94140625 \n",
      "\n",
      "\n"
     ]
    },
    {
     "name": "stderr",
     "output_type": "stream",
     "text": [
      "Train: 100%|██████████| 965/965 [00:13<00:00, 69.04batch/s]\n",
      "Valdt: 100%|██████████| 964/964 [00:03<00:00, 242.25batch/s]\n"
     ]
    },
    {
     "name": "stdout",
     "output_type": "stream",
     "text": [
      "Epoch: 24 / 6000, \n",
      " Train -- Loss: 0.17752235352494447, Coeff: 0.235595703125 \n",
      " Val   -- Loss: 0.8288060619106048, Coeff: 0.94140625 \n",
      "\n",
      "\n"
     ]
    },
    {
     "name": "stderr",
     "output_type": "stream",
     "text": [
      "Train: 100%|██████████| 965/965 [00:13<00:00, 69.42batch/s]\n",
      "Valdt: 100%|██████████| 964/964 [00:04<00:00, 238.53batch/s]\n"
     ]
    },
    {
     "name": "stdout",
     "output_type": "stream",
     "text": [
      "Epoch: 25 / 6000, \n",
      " Train -- Loss: 0.17738387015279736, Coeff: 0.235595703125 \n",
      " Val   -- Loss: 0.813337210990967, Coeff: 0.94140625 \n",
      "\n",
      "\n"
     ]
    },
    {
     "name": "stderr",
     "output_type": "stream",
     "text": [
      "Train: 100%|██████████| 965/965 [00:13<00:00, 69.56batch/s]\n",
      "Valdt: 100%|██████████| 964/964 [00:03<00:00, 241.11batch/s]\n"
     ]
    },
    {
     "name": "stdout",
     "output_type": "stream",
     "text": [
      "Epoch: 26 / 6000, \n",
      " Train -- Loss: 0.17634887396084284, Coeff: 0.235595703125 \n",
      " Val   -- Loss: 0.8142528841419794, Coeff: 0.94140625 \n",
      "\n",
      "\n"
     ]
    },
    {
     "name": "stderr",
     "output_type": "stream",
     "text": [
      "Train: 100%|██████████| 965/965 [00:14<00:00, 68.32batch/s]\n",
      "Valdt: 100%|██████████| 964/964 [00:04<00:00, 230.27batch/s]\n"
     ]
    },
    {
     "name": "stdout",
     "output_type": "stream",
     "text": [
      "Epoch: 27 / 6000, \n",
      " Train -- Loss: 0.17552136011398628, Coeff: 0.235595703125 \n",
      " Val   -- Loss: 0.8057249390190677, Coeff: 0.94140625 \n",
      "\n",
      "\n"
     ]
    },
    {
     "name": "stderr",
     "output_type": "stream",
     "text": [
      "Train: 100%|██████████| 965/965 [00:14<00:00, 68.67batch/s]\n",
      "Valdt: 100%|██████████| 964/964 [00:04<00:00, 229.24batch/s]\n"
     ]
    },
    {
     "name": "stdout",
     "output_type": "stream",
     "text": [
      "Epoch: 28 / 6000, \n",
      " Train -- Loss: 0.17561911521577964, Coeff: 0.235595703125 \n",
      " Val   -- Loss: 0.8239099578753948, Coeff: 0.94140625 \n",
      "\n",
      "\n"
     ]
    },
    {
     "name": "stderr",
     "output_type": "stream",
     "text": [
      "Train: 100%|██████████| 965/965 [00:13<00:00, 70.33batch/s]\n",
      "Valdt: 100%|██████████| 964/964 [00:04<00:00, 236.77batch/s]\n"
     ]
    },
    {
     "name": "stdout",
     "output_type": "stream",
     "text": [
      "Epoch: 29 / 6000, \n",
      " Train -- Loss: 0.1755036517931414, Coeff: 0.235595703125 \n",
      " Val   -- Loss: 0.8072206591441204, Coeff: 0.94140625 \n",
      "\n",
      "\n"
     ]
    },
    {
     "name": "stderr",
     "output_type": "stream",
     "text": [
      "Train: 100%|██████████| 965/965 [00:13<00:00, 69.26batch/s]\n",
      "Valdt: 100%|██████████| 964/964 [00:04<00:00, 234.43batch/s]\n"
     ]
    },
    {
     "name": "stdout",
     "output_type": "stream",
     "text": [
      "Epoch: 30 / 6000, \n",
      " Train -- Loss: 0.17465227358331237, Coeff: 0.235595703125 \n",
      " Val   -- Loss: 0.8034043662084004, Coeff: 0.94140625 \n",
      "\n",
      "\n"
     ]
    },
    {
     "name": "stderr",
     "output_type": "stream",
     "text": [
      "Train: 100%|██████████| 965/965 [00:13<00:00, 69.05batch/s]\n",
      "Valdt: 100%|██████████| 964/964 [00:04<00:00, 228.57batch/s]\n"
     ]
    },
    {
     "name": "stdout",
     "output_type": "stream",
     "text": [
      "Epoch: 31 / 6000, \n",
      " Train -- Loss: 0.1741317302537786, Coeff: 0.235595703125 \n",
      " Val   -- Loss: 0.8013179801579774, Coeff: 0.94140625 \n",
      "\n",
      "\n"
     ]
    },
    {
     "name": "stderr",
     "output_type": "stream",
     "text": [
      "Train: 100%|██████████| 965/965 [00:13<00:00, 68.94batch/s]\n",
      "Valdt: 100%|██████████| 964/964 [00:04<00:00, 236.66batch/s]\n"
     ]
    },
    {
     "name": "stdout",
     "output_type": "stream",
     "text": [
      "Epoch: 32 / 6000, \n",
      " Train -- Loss: 0.1742229970219376, Coeff: 0.235595703125 \n",
      " Val   -- Loss: 0.8059799422555908, Coeff: 0.94140625 \n",
      "\n",
      "\n"
     ]
    },
    {
     "name": "stderr",
     "output_type": "stream",
     "text": [
      "Train: 100%|██████████| 965/965 [00:13<00:00, 69.12batch/s]\n",
      "Valdt: 100%|██████████| 964/964 [00:04<00:00, 230.93batch/s]\n"
     ]
    },
    {
     "name": "stdout",
     "output_type": "stream",
     "text": [
      "Epoch: 33 / 6000, \n",
      " Train -- Loss: 0.17414428217507746, Coeff: 0.235595703125 \n",
      " Val   -- Loss: 0.7925909045943359, Coeff: 0.94140625 \n",
      "\n",
      "\n"
     ]
    },
    {
     "name": "stderr",
     "output_type": "stream",
     "text": [
      "Train: 100%|██████████| 965/965 [00:13<00:00, 69.69batch/s]\n",
      "Valdt: 100%|██████████| 964/964 [00:04<00:00, 227.80batch/s]\n"
     ]
    },
    {
     "name": "stdout",
     "output_type": "stream",
     "text": [
      "Epoch: 34 / 6000, \n",
      " Train -- Loss: 0.1735726940904997, Coeff: 0.235595703125 \n",
      " Val   -- Loss: 0.8015844773872566, Coeff: 0.94140625 \n",
      "\n",
      "\n"
     ]
    },
    {
     "name": "stderr",
     "output_type": "stream",
     "text": [
      "Train: 100%|██████████| 965/965 [00:13<00:00, 69.20batch/s]\n",
      "Valdt: 100%|██████████| 964/964 [00:04<00:00, 236.94batch/s]\n"
     ]
    },
    {
     "name": "stdout",
     "output_type": "stream",
     "text": [
      "Epoch: 35 / 6000, \n",
      " Train -- Loss: 0.17394348955304353, Coeff: 0.235595703125 \n",
      " Val   -- Loss: 0.8199645312905581, Coeff: 0.94140625 \n",
      "\n",
      "\n"
     ]
    },
    {
     "name": "stderr",
     "output_type": "stream",
     "text": [
      "Train: 100%|██████████| 965/965 [00:14<00:00, 68.57batch/s]\n",
      "Valdt: 100%|██████████| 964/964 [00:03<00:00, 245.80batch/s]\n"
     ]
    },
    {
     "name": "stdout",
     "output_type": "stream",
     "text": [
      "Epoch: 36 / 6000, \n",
      " Train -- Loss: 0.173948658789875, Coeff: 0.235595703125 \n",
      " Val   -- Loss: 0.7965342519553866, Coeff: 0.94140625 \n",
      "\n",
      "\n"
     ]
    },
    {
     "name": "stderr",
     "output_type": "stream",
     "text": [
      "Train: 100%|██████████| 965/965 [00:13<00:00, 69.04batch/s]\n",
      "Valdt: 100%|██████████| 964/964 [00:04<00:00, 235.67batch/s]\n"
     ]
    },
    {
     "name": "stdout",
     "output_type": "stream",
     "text": [
      "Epoch: 37 / 6000, \n",
      " Train -- Loss: 0.17243499016368105, Coeff: 0.235595703125 \n",
      " Val   -- Loss: 0.796505663741426, Coeff: 0.94140625 \n",
      "\n",
      "\n"
     ]
    },
    {
     "name": "stderr",
     "output_type": "stream",
     "text": [
      "Train: 100%|██████████| 965/965 [00:14<00:00, 68.58batch/s]\n",
      "Valdt: 100%|██████████| 964/964 [00:04<00:00, 238.82batch/s]\n"
     ]
    },
    {
     "name": "stdout",
     "output_type": "stream",
     "text": [
      "Epoch: 38 / 6000, \n",
      " Train -- Loss: 0.17225836247915713, Coeff: 0.235595703125 \n",
      " Val   -- Loss: 0.8019568987108177, Coeff: 0.94140625 \n",
      "\n",
      "\n"
     ]
    },
    {
     "name": "stderr",
     "output_type": "stream",
     "text": [
      "Train: 100%|██████████| 965/965 [00:14<00:00, 68.28batch/s]\n",
      "Valdt: 100%|██████████| 964/964 [00:04<00:00, 236.48batch/s]\n"
     ]
    },
    {
     "name": "stdout",
     "output_type": "stream",
     "text": [
      "Epoch: 39 / 6000, \n",
      " Train -- Loss: 0.1721970697027741, Coeff: 0.235595703125 \n",
      " Val   -- Loss: 0.8163819981522483, Coeff: 0.94140625 \n",
      "\n",
      "\n"
     ]
    },
    {
     "name": "stderr",
     "output_type": "stream",
     "text": [
      "Train: 100%|██████████| 965/965 [00:14<00:00, 67.92batch/s]\n",
      "Valdt: 100%|██████████| 964/964 [00:04<00:00, 230.09batch/s]\n"
     ]
    },
    {
     "name": "stdout",
     "output_type": "stream",
     "text": [
      "Epoch: 40 / 6000, \n",
      " Train -- Loss: 0.17215556203954266, Coeff: 0.235595703125 \n",
      " Val   -- Loss: 0.8005848935770778, Coeff: 0.94140625 \n",
      "\n",
      "\n"
     ]
    },
    {
     "name": "stderr",
     "output_type": "stream",
     "text": [
      "Train: 100%|██████████| 965/965 [00:13<00:00, 69.30batch/s]\n",
      "Valdt: 100%|██████████| 964/964 [00:04<00:00, 234.05batch/s]\n"
     ]
    },
    {
     "name": "stdout",
     "output_type": "stream",
     "text": [
      "Epoch: 41 / 6000, \n",
      " Train -- Loss: 0.17253270129542012, Coeff: 0.235595703125 \n",
      " Val   -- Loss: 0.8053662348126086, Coeff: 0.94140625 \n",
      "\n",
      "\n"
     ]
    },
    {
     "name": "stderr",
     "output_type": "stream",
     "text": [
      "Train: 100%|██████████| 965/965 [00:13<00:00, 70.09batch/s]\n",
      "Valdt: 100%|██████████| 964/964 [00:04<00:00, 230.31batch/s]\n"
     ]
    },
    {
     "name": "stdout",
     "output_type": "stream",
     "text": [
      "Epoch: 42 / 6000, \n",
      " Train -- Loss: 0.17075089925872722, Coeff: 0.235595703125 \n",
      " Val   -- Loss: 0.7980178473990923, Coeff: 0.94140625 \n",
      "\n",
      "\n"
     ]
    },
    {
     "name": "stderr",
     "output_type": "stream",
     "text": [
      "Train: 100%|██████████| 965/965 [00:13<00:00, 69.18batch/s]\n",
      "Valdt: 100%|██████████| 964/964 [00:04<00:00, 239.25batch/s]\n"
     ]
    },
    {
     "name": "stdout",
     "output_type": "stream",
     "text": [
      "Epoch: 43 / 6000, \n",
      " Train -- Loss: 0.17118284564066616, Coeff: 0.235595703125 \n",
      " Val   -- Loss: 0.8059549262829332, Coeff: 0.94140625 \n",
      "\n",
      "\n"
     ]
    },
    {
     "name": "stderr",
     "output_type": "stream",
     "text": [
      "Train: 100%|██████████| 965/965 [00:14<00:00, 68.81batch/s]\n",
      "Valdt: 100%|██████████| 964/964 [00:04<00:00, 233.98batch/s]\n"
     ]
    },
    {
     "name": "stdout",
     "output_type": "stream",
     "text": [
      "Epoch: 44 / 6000, \n",
      " Train -- Loss: 0.17145970171502498, Coeff: 0.235595703125 \n",
      " Val   -- Loss: 0.799667002466384, Coeff: 0.94140625 \n",
      "\n",
      "\n"
     ]
    },
    {
     "name": "stderr",
     "output_type": "stream",
     "text": [
      "Train: 100%|██████████| 965/965 [00:13<00:00, 70.16batch/s]\n",
      "Valdt: 100%|██████████| 964/964 [00:04<00:00, 227.72batch/s]\n"
     ]
    },
    {
     "name": "stdout",
     "output_type": "stream",
     "text": [
      "Epoch: 45 / 6000, \n",
      " Train -- Loss: 0.1704349509046059, Coeff: 0.235595703125 \n",
      " Val   -- Loss: 0.8042120941510607, Coeff: 0.94140625 \n",
      "\n",
      "\n"
     ]
    },
    {
     "name": "stderr",
     "output_type": "stream",
     "text": [
      "Train: 100%|██████████| 965/965 [00:14<00:00, 68.46batch/s]\n",
      "Valdt: 100%|██████████| 964/964 [00:04<00:00, 240.59batch/s]\n"
     ]
    },
    {
     "name": "stdout",
     "output_type": "stream",
     "text": [
      "Epoch: 46 / 6000, \n",
      " Train -- Loss: 0.171052917819211, Coeff: 0.235595703125 \n",
      " Val   -- Loss: 0.815897688447726, Coeff: 0.94140625 \n",
      "\n",
      "\n"
     ]
    },
    {
     "name": "stderr",
     "output_type": "stream",
     "text": [
      "Train: 100%|██████████| 965/965 [00:13<00:00, 69.90batch/s]\n",
      "Valdt: 100%|██████████| 964/964 [00:04<00:00, 235.48batch/s]\n"
     ]
    },
    {
     "name": "stdout",
     "output_type": "stream",
     "text": [
      "Epoch: 47 / 6000, \n",
      " Train -- Loss: 0.16992665681678534, Coeff: 0.235595703125 \n",
      " Val   -- Loss: 0.8017099947388441, Coeff: 0.94140625 \n",
      "\n",
      "\n"
     ]
    },
    {
     "name": "stderr",
     "output_type": "stream",
     "text": [
      "Train: 100%|██████████| 965/965 [00:13<00:00, 69.21batch/s]\n",
      "Valdt: 100%|██████████| 964/964 [00:04<00:00, 233.21batch/s]\n"
     ]
    },
    {
     "name": "stdout",
     "output_type": "stream",
     "text": [
      "Epoch: 48 / 6000, \n",
      " Train -- Loss: 0.17000999597551245, Coeff: 0.235595703125 \n",
      " Val   -- Loss: 0.8085484704728789, Coeff: 0.94140625 \n",
      "\n",
      "\n"
     ]
    },
    {
     "name": "stderr",
     "output_type": "stream",
     "text": [
      "Train: 100%|██████████| 965/965 [00:14<00:00, 68.74batch/s]\n",
      "Valdt: 100%|██████████| 964/964 [00:04<00:00, 228.90batch/s]\n"
     ]
    },
    {
     "name": "stdout",
     "output_type": "stream",
     "text": [
      "Epoch: 49 / 6000, \n",
      " Train -- Loss: 0.1700901717782548, Coeff: 0.235595703125 \n",
      " Val   -- Loss: 0.7968304957883586, Coeff: 0.94140625 \n",
      "\n",
      "\n"
     ]
    },
    {
     "name": "stderr",
     "output_type": "stream",
     "text": [
      "Train: 100%|██████████| 965/965 [00:13<00:00, 69.46batch/s]\n",
      "Valdt: 100%|██████████| 964/964 [00:04<00:00, 232.25batch/s]\n"
     ]
    },
    {
     "name": "stdout",
     "output_type": "stream",
     "text": [
      "Epoch: 50 / 6000, \n",
      " Train -- Loss: 0.16968190484307663, Coeff: 0.235595703125 \n",
      " Val   -- Loss: 0.8024239635479874, Coeff: 0.94140625 \n",
      "\n",
      "\n"
     ]
    },
    {
     "name": "stderr",
     "output_type": "stream",
     "text": [
      "Train: 100%|██████████| 965/965 [00:13<00:00, 70.07batch/s]\n",
      "Valdt: 100%|██████████| 964/964 [00:04<00:00, 237.11batch/s]\n"
     ]
    },
    {
     "name": "stdout",
     "output_type": "stream",
     "text": [
      "Epoch: 51 / 6000, \n",
      " Train -- Loss: 0.16968175242213357, Coeff: 0.235595703125 \n",
      " Val   -- Loss: 0.8045757754268604, Coeff: 0.94140625 \n",
      "\n",
      "\n"
     ]
    },
    {
     "name": "stderr",
     "output_type": "stream",
     "text": [
      "Train: 100%|██████████| 965/965 [00:13<00:00, 69.40batch/s]\n",
      "Valdt: 100%|██████████| 964/964 [00:04<00:00, 240.54batch/s]\n"
     ]
    },
    {
     "name": "stdout",
     "output_type": "stream",
     "text": [
      "Epoch: 52 / 6000, \n",
      " Train -- Loss: 0.1687723299563226, Coeff: 0.235595703125 \n",
      " Val   -- Loss: 0.7960802449880452, Coeff: 0.94140625 \n",
      "\n",
      "\n"
     ]
    },
    {
     "name": "stderr",
     "output_type": "stream",
     "text": [
      "Train: 100%|██████████| 965/965 [00:14<00:00, 68.77batch/s]\n",
      "Valdt: 100%|██████████| 964/964 [00:04<00:00, 234.05batch/s]\n"
     ]
    },
    {
     "name": "stdout",
     "output_type": "stream",
     "text": [
      "Epoch: 53 / 6000, \n",
      " Train -- Loss: 0.1696651320179051, Coeff: 0.235595703125 \n",
      " Val   -- Loss: 0.8190684844276722, Coeff: 0.94140625 \n",
      "\n",
      "\n"
     ]
    },
    {
     "name": "stderr",
     "output_type": "stream",
     "text": [
      "Train: 100%|██████████| 965/965 [00:14<00:00, 68.83batch/s]\n",
      "Valdt: 100%|██████████| 964/964 [00:04<00:00, 233.27batch/s]\n"
     ]
    },
    {
     "name": "stdout",
     "output_type": "stream",
     "text": [
      "Epoch: 54 / 6000, \n",
      " Train -- Loss: 0.16866477102399313, Coeff: 0.235595703125 \n",
      " Val   -- Loss: 0.797153795462285, Coeff: 0.94140625 \n",
      "\n",
      "\n"
     ]
    },
    {
     "name": "stderr",
     "output_type": "stream",
     "text": [
      "Train: 100%|██████████| 965/965 [00:13<00:00, 69.39batch/s]\n",
      "Valdt: 100%|██████████| 964/964 [00:04<00:00, 238.85batch/s]\n"
     ]
    },
    {
     "name": "stdout",
     "output_type": "stream",
     "text": [
      "Epoch: 55 / 6000, \n",
      " Train -- Loss: 0.1688832365938469, Coeff: 0.235595703125 \n",
      " Val   -- Loss: 0.793807723463844, Coeff: 0.94140625 \n",
      "\n",
      "\n"
     ]
    },
    {
     "name": "stderr",
     "output_type": "stream",
     "text": [
      "Train: 100%|██████████| 965/965 [00:14<00:00, 68.82batch/s]\n",
      "Valdt: 100%|██████████| 964/964 [00:03<00:00, 245.18batch/s]\n"
     ]
    },
    {
     "name": "stdout",
     "output_type": "stream",
     "text": [
      "Epoch: 56 / 6000, \n",
      " Train -- Loss: 0.1678651670094614, Coeff: 0.235595703125 \n",
      " Val   -- Loss: 0.811098760054986, Coeff: 0.94140625 \n",
      "\n",
      "\n"
     ]
    },
    {
     "name": "stderr",
     "output_type": "stream",
     "text": [
      "Train: 100%|██████████| 965/965 [00:14<00:00, 68.40batch/s]\n",
      "Valdt: 100%|██████████| 964/964 [00:04<00:00, 232.97batch/s]\n"
     ]
    },
    {
     "name": "stdout",
     "output_type": "stream",
     "text": [
      "Epoch: 57 / 6000, \n",
      " Train -- Loss: 0.16927942065803847, Coeff: 0.235595703125 \n",
      " Val   -- Loss: 0.8104543990318946, Coeff: 0.94140625 \n",
      "\n",
      "\n"
     ]
    },
    {
     "name": "stderr",
     "output_type": "stream",
     "text": [
      "Train: 100%|██████████| 965/965 [00:13<00:00, 71.99batch/s]\n",
      "Valdt: 100%|██████████| 964/964 [00:03<00:00, 241.22batch/s]\n"
     ]
    },
    {
     "name": "stdout",
     "output_type": "stream",
     "text": [
      "Epoch: 58 / 6000, \n",
      " Train -- Loss: 0.16929746226638287, Coeff: 0.235595703125 \n",
      " Val   -- Loss: 0.8132408055041042, Coeff: 0.94140625 \n",
      "\n",
      "\n"
     ]
    },
    {
     "name": "stderr",
     "output_type": "stream",
     "text": [
      "Train: 100%|██████████| 965/965 [00:13<00:00, 70.03batch/s]\n",
      "Valdt: 100%|██████████| 964/964 [00:04<00:00, 235.94batch/s]\n"
     ]
    },
    {
     "name": "stdout",
     "output_type": "stream",
     "text": [
      "Epoch: 59 / 6000, \n",
      " Train -- Loss: 0.16758217241661758, Coeff: 0.235595703125 \n",
      " Val   -- Loss: 0.8024793624932116, Coeff: 0.94140625 \n",
      "\n",
      "\n"
     ]
    },
    {
     "name": "stderr",
     "output_type": "stream",
     "text": [
      "Train: 100%|██████████| 965/965 [00:13<00:00, 69.35batch/s]\n",
      "Valdt: 100%|██████████| 964/964 [00:04<00:00, 228.56batch/s]\n"
     ]
    },
    {
     "name": "stdout",
     "output_type": "stream",
     "text": [
      "Epoch: 60 / 6000, \n",
      " Train -- Loss: 0.16668007254632422, Coeff: 0.235595703125 \n",
      " Val   -- Loss: 0.8126062143653611, Coeff: 0.94140625 \n",
      "\n",
      "\n"
     ]
    },
    {
     "name": "stderr",
     "output_type": "stream",
     "text": [
      "Train: 100%|██████████| 965/965 [00:13<00:00, 70.10batch/s]\n",
      "Valdt: 100%|██████████| 964/964 [00:04<00:00, 233.97batch/s]\n"
     ]
    },
    {
     "name": "stdout",
     "output_type": "stream",
     "text": [
      "Epoch: 61 / 6000, \n",
      " Train -- Loss: 0.16744854378605697, Coeff: 0.235595703125 \n",
      " Val   -- Loss: 0.820480397140719, Coeff: 0.94140625 \n",
      "\n",
      "\n"
     ]
    },
    {
     "name": "stderr",
     "output_type": "stream",
     "text": [
      "Train: 100%|██████████| 965/965 [00:13<00:00, 70.25batch/s]\n",
      "Valdt: 100%|██████████| 964/964 [00:04<00:00, 232.73batch/s]\n"
     ]
    },
    {
     "name": "stdout",
     "output_type": "stream",
     "text": [
      "Epoch: 62 / 6000, \n",
      " Train -- Loss: 0.1672651964162696, Coeff: 0.235595703125 \n",
      " Val   -- Loss: 0.8038701292871948, Coeff: 0.94140625 \n",
      "\n",
      "\n"
     ]
    },
    {
     "name": "stderr",
     "output_type": "stream",
     "text": [
      "Train: 100%|██████████| 965/965 [00:13<00:00, 69.66batch/s]\n",
      "Valdt: 100%|██████████| 964/964 [00:04<00:00, 234.72batch/s]\n"
     ]
    },
    {
     "name": "stdout",
     "output_type": "stream",
     "text": [
      "Epoch: 63 / 6000, \n",
      " Train -- Loss: 0.16659367556261703, Coeff: 0.235595703125 \n",
      " Val   -- Loss: 0.8005593048819537, Coeff: 0.94140625 \n",
      "\n",
      "\n"
     ]
    },
    {
     "name": "stderr",
     "output_type": "stream",
     "text": [
      "Train: 100%|██████████| 965/965 [00:13<00:00, 69.40batch/s]\n",
      "Valdt: 100%|██████████| 964/964 [00:04<00:00, 234.78batch/s]\n"
     ]
    },
    {
     "name": "stdout",
     "output_type": "stream",
     "text": [
      "Epoch: 64 / 6000, \n",
      " Train -- Loss: 0.16664984719839385, Coeff: 0.235595703125 \n",
      " Val   -- Loss: 0.7973683709132581, Coeff: 0.94140625 \n",
      "\n",
      "\n"
     ]
    },
    {
     "name": "stderr",
     "output_type": "stream",
     "text": [
      "Train: 100%|██████████| 965/965 [00:14<00:00, 68.78batch/s]\n",
      "Valdt: 100%|██████████| 964/964 [00:04<00:00, 234.45batch/s]\n"
     ]
    },
    {
     "name": "stdout",
     "output_type": "stream",
     "text": [
      "Epoch: 65 / 6000, \n",
      " Train -- Loss: 0.1662599504173107, Coeff: 0.235595703125 \n",
      " Val   -- Loss: 0.8023086696866966, Coeff: 0.94140625 \n",
      "\n",
      "\n"
     ]
    },
    {
     "name": "stderr",
     "output_type": "stream",
     "text": [
      "Train: 100%|██████████| 965/965 [00:13<00:00, 69.13batch/s]\n",
      "Valdt: 100%|██████████| 964/964 [00:04<00:00, 237.55batch/s]\n"
     ]
    },
    {
     "name": "stdout",
     "output_type": "stream",
     "text": [
      "Epoch: 66 / 6000, \n",
      " Train -- Loss: 0.1657959409366188, Coeff: 0.235595703125 \n",
      " Val   -- Loss: 0.7912697942828221, Coeff: 0.94140625 \n",
      "\n",
      "\n"
     ]
    },
    {
     "name": "stderr",
     "output_type": "stream",
     "text": [
      "Train: 100%|██████████| 965/965 [00:13<00:00, 69.42batch/s]\n",
      "Valdt: 100%|██████████| 964/964 [00:04<00:00, 229.57batch/s]\n"
     ]
    },
    {
     "name": "stdout",
     "output_type": "stream",
     "text": [
      "Epoch: 67 / 6000, \n",
      " Train -- Loss: 0.16561655378363105, Coeff: 0.235595703125 \n",
      " Val   -- Loss: 0.8044766961279614, Coeff: 0.94140625 \n",
      "\n",
      "\n"
     ]
    },
    {
     "name": "stderr",
     "output_type": "stream",
     "text": [
      "Train: 100%|██████████| 965/965 [00:14<00:00, 67.81batch/s]\n",
      "Valdt: 100%|██████████| 964/964 [00:04<00:00, 240.25batch/s]\n"
     ]
    },
    {
     "name": "stdout",
     "output_type": "stream",
     "text": [
      "Epoch: 68 / 6000, \n",
      " Train -- Loss: 0.16553454643909113, Coeff: 0.235595703125 \n",
      " Val   -- Loss: 0.8169645596128798, Coeff: 0.94140625 \n",
      "\n",
      "\n"
     ]
    },
    {
     "name": "stderr",
     "output_type": "stream",
     "text": [
      "Train: 100%|██████████| 965/965 [00:14<00:00, 68.33batch/s]\n",
      "Valdt: 100%|██████████| 964/964 [00:04<00:00, 237.49batch/s]\n"
     ]
    },
    {
     "name": "stdout",
     "output_type": "stream",
     "text": [
      "Epoch: 69 / 6000, \n",
      " Train -- Loss: 0.16592715570836739, Coeff: 0.235595703125 \n",
      " Val   -- Loss: 0.8071141986727028, Coeff: 0.94140625 \n",
      "\n",
      "\n"
     ]
    },
    {
     "name": "stderr",
     "output_type": "stream",
     "text": [
      "Train: 100%|██████████| 965/965 [00:13<00:00, 69.44batch/s]\n",
      "Valdt: 100%|██████████| 964/964 [00:04<00:00, 228.11batch/s]\n"
     ]
    },
    {
     "name": "stdout",
     "output_type": "stream",
     "text": [
      "Epoch: 70 / 6000, \n",
      " Train -- Loss: 0.16496272056361788, Coeff: 0.235595703125 \n",
      " Val   -- Loss: 0.8083482808619633, Coeff: 0.94140625 \n",
      "\n",
      "\n"
     ]
    },
    {
     "name": "stderr",
     "output_type": "stream",
     "text": [
      "Train: 100%|██████████| 965/965 [00:14<00:00, 68.57batch/s]\n",
      "Valdt: 100%|██████████| 964/964 [00:04<00:00, 235.78batch/s]\n"
     ]
    },
    {
     "name": "stdout",
     "output_type": "stream",
     "text": [
      "Epoch: 71 / 6000, \n",
      " Train -- Loss: 0.16464368271088692, Coeff: 0.235595703125 \n",
      " Val   -- Loss: 0.7961081350078572, Coeff: 0.94140625 \n",
      "\n",
      "\n"
     ]
    },
    {
     "name": "stderr",
     "output_type": "stream",
     "text": [
      "Train: 100%|██████████| 965/965 [00:14<00:00, 68.76batch/s]\n",
      "Valdt: 100%|██████████| 964/964 [00:03<00:00, 241.24batch/s]\n"
     ]
    },
    {
     "name": "stdout",
     "output_type": "stream",
     "text": [
      "Epoch: 72 / 6000, \n",
      " Train -- Loss: 0.1639373127951523, Coeff: 0.235595703125 \n",
      " Val   -- Loss: 0.7986855016664599, Coeff: 0.94140625 \n",
      "\n",
      "\n"
     ]
    },
    {
     "name": "stderr",
     "output_type": "stream",
     "text": [
      "Train: 100%|██████████| 965/965 [00:14<00:00, 68.71batch/s]\n",
      "Valdt: 100%|██████████| 964/964 [00:04<00:00, 235.82batch/s]\n"
     ]
    },
    {
     "name": "stdout",
     "output_type": "stream",
     "text": [
      "Epoch: 73 / 6000, \n",
      " Train -- Loss: 0.16535466108997748, Coeff: 0.235595703125 \n",
      " Val   -- Loss: 0.8004436350242093, Coeff: 0.94140625 \n",
      "\n",
      "\n"
     ]
    },
    {
     "name": "stderr",
     "output_type": "stream",
     "text": [
      "Train: 100%|██████████| 965/965 [00:13<00:00, 68.97batch/s]\n",
      "Valdt: 100%|██████████| 964/964 [00:04<00:00, 229.15batch/s]\n"
     ]
    },
    {
     "name": "stdout",
     "output_type": "stream",
     "text": [
      "Epoch: 74 / 6000, \n",
      " Train -- Loss: 0.16537952448277723, Coeff: 0.235595703125 \n",
      " Val   -- Loss: 0.8201397247625539, Coeff: 0.94140625 \n",
      "\n",
      "\n"
     ]
    },
    {
     "name": "stderr",
     "output_type": "stream",
     "text": [
      "Train: 100%|██████████| 965/965 [00:13<00:00, 69.73batch/s]\n",
      "Valdt: 100%|██████████| 964/964 [00:04<00:00, 236.21batch/s]\n"
     ]
    },
    {
     "name": "stdout",
     "output_type": "stream",
     "text": [
      "Epoch: 75 / 6000, \n",
      " Train -- Loss: 0.16521768796914488, Coeff: 0.235595703125 \n",
      " Val   -- Loss: 0.7980214133498519, Coeff: 0.94140625 \n",
      "\n",
      "\n"
     ]
    },
    {
     "name": "stderr",
     "output_type": "stream",
     "text": [
      "Train: 100%|██████████| 965/965 [00:13<00:00, 69.06batch/s]\n",
      "Valdt: 100%|██████████| 964/964 [00:04<00:00, 239.58batch/s]\n"
     ]
    },
    {
     "name": "stdout",
     "output_type": "stream",
     "text": [
      "Epoch: 76 / 6000, \n",
      " Train -- Loss: 0.16349279213504034, Coeff: 0.235595703125 \n",
      " Val   -- Loss: 0.7967578770592789, Coeff: 0.94140625 \n",
      "\n",
      "\n"
     ]
    },
    {
     "name": "stderr",
     "output_type": "stream",
     "text": [
      "Train: 100%|██████████| 965/965 [00:13<00:00, 69.37batch/s]\n",
      "Valdt: 100%|██████████| 964/964 [00:04<00:00, 232.93batch/s]\n"
     ]
    },
    {
     "name": "stdout",
     "output_type": "stream",
     "text": [
      "Epoch: 77 / 6000, \n",
      " Train -- Loss: 0.1638273027422235, Coeff: 0.235595703125 \n",
      " Val   -- Loss: 0.7974797439815574, Coeff: 0.94140625 \n",
      "\n",
      "\n"
     ]
    },
    {
     "name": "stderr",
     "output_type": "stream",
     "text": [
      "Train: 100%|██████████| 965/965 [00:14<00:00, 68.85batch/s]\n",
      "Valdt: 100%|██████████| 964/964 [00:04<00:00, 232.97batch/s]\n"
     ]
    },
    {
     "name": "stdout",
     "output_type": "stream",
     "text": [
      "Epoch: 78 / 6000, \n",
      " Train -- Loss: 0.1629677386235511, Coeff: 0.235595703125 \n",
      " Val   -- Loss: 0.7913416167875156, Coeff: 0.94140625 \n",
      "\n",
      "\n"
     ]
    },
    {
     "name": "stderr",
     "output_type": "stream",
     "text": [
      "Train: 100%|██████████| 965/965 [00:13<00:00, 69.01batch/s]\n",
      "Valdt: 100%|██████████| 964/964 [00:04<00:00, 237.57batch/s]\n"
     ]
    },
    {
     "name": "stdout",
     "output_type": "stream",
     "text": [
      "Epoch: 79 / 6000, \n",
      " Train -- Loss: 0.1626322135900828, Coeff: 0.235595703125 \n",
      " Val   -- Loss: 0.7985050239042037, Coeff: 0.94140625 \n",
      "\n",
      "\n"
     ]
    },
    {
     "name": "stderr",
     "output_type": "stream",
     "text": [
      "Train: 100%|██████████| 965/965 [00:14<00:00, 68.59batch/s]\n",
      "Valdt: 100%|██████████| 964/964 [00:04<00:00, 236.90batch/s]\n"
     ]
    },
    {
     "name": "stdout",
     "output_type": "stream",
     "text": [
      "Epoch: 80 / 6000, \n",
      " Train -- Loss: 0.16375659114585714, Coeff: 0.235595703125 \n",
      " Val   -- Loss: 0.8068118761386884, Coeff: 0.94140625 \n",
      "\n",
      "\n"
     ]
    },
    {
     "name": "stderr",
     "output_type": "stream",
     "text": [
      "Train: 100%|██████████| 965/965 [00:13<00:00, 69.27batch/s]\n",
      "Valdt: 100%|██████████| 964/964 [00:04<00:00, 227.38batch/s]\n"
     ]
    },
    {
     "name": "stdout",
     "output_type": "stream",
     "text": [
      "Epoch: 81 / 6000, \n",
      " Train -- Loss: 0.162517904819296, Coeff: 0.235595703125 \n",
      " Val   -- Loss: 0.8036867072907062, Coeff: 0.94140625 \n",
      "\n",
      "\n"
     ]
    },
    {
     "name": "stderr",
     "output_type": "stream",
     "text": [
      "Train: 100%|██████████| 965/965 [00:13<00:00, 69.76batch/s]\n",
      "Valdt: 100%|██████████| 964/964 [00:04<00:00, 235.72batch/s]\n"
     ]
    },
    {
     "name": "stdout",
     "output_type": "stream",
     "text": [
      "Epoch: 82 / 6000, \n",
      " Train -- Loss: 0.16225122819831841, Coeff: 0.235595703125 \n",
      " Val   -- Loss: 0.7982933515437702, Coeff: 0.94140625 \n",
      "\n",
      "\n"
     ]
    },
    {
     "name": "stderr",
     "output_type": "stream",
     "text": [
      "Train: 100%|██████████| 965/965 [00:13<00:00, 69.38batch/s]\n",
      "Valdt: 100%|██████████| 964/964 [00:04<00:00, 238.22batch/s]\n"
     ]
    },
    {
     "name": "stdout",
     "output_type": "stream",
     "text": [
      "Epoch: 83 / 6000, \n",
      " Train -- Loss: 0.16223673291857413, Coeff: 0.235595703125 \n",
      " Val   -- Loss: 0.7974172147238578, Coeff: 0.94140625 \n",
      "\n",
      "\n"
     ]
    },
    {
     "name": "stderr",
     "output_type": "stream",
     "text": [
      "Train: 100%|██████████| 965/965 [00:13<00:00, 69.17batch/s]\n",
      "Valdt: 100%|██████████| 964/964 [00:04<00:00, 229.69batch/s]\n"
     ]
    },
    {
     "name": "stdout",
     "output_type": "stream",
     "text": [
      "Epoch: 84 / 6000, \n",
      " Train -- Loss: 0.1621128520785082, Coeff: 0.235595703125 \n",
      " Val   -- Loss: 0.7925440011114662, Coeff: 0.94140625 \n",
      "\n",
      "\n"
     ]
    },
    {
     "name": "stderr",
     "output_type": "stream",
     "text": [
      "Train: 100%|██████████| 965/965 [00:14<00:00, 68.56batch/s]\n",
      "Valdt: 100%|██████████| 964/964 [00:04<00:00, 225.52batch/s]\n"
     ]
    },
    {
     "name": "stdout",
     "output_type": "stream",
     "text": [
      "Epoch: 85 / 6000, \n",
      " Train -- Loss: 0.16309456393144356, Coeff: 0.235595703125 \n",
      " Val   -- Loss: 0.8021792963186808, Coeff: 0.94140625 \n",
      "\n",
      "\n"
     ]
    },
    {
     "name": "stderr",
     "output_type": "stream",
     "text": [
      "Train: 100%|██████████| 965/965 [00:14<00:00, 68.65batch/s]\n",
      "Valdt: 100%|██████████| 964/964 [00:03<00:00, 243.09batch/s]\n"
     ]
    },
    {
     "name": "stdout",
     "output_type": "stream",
     "text": [
      "Epoch: 86 / 6000, \n",
      " Train -- Loss: 0.16244255076481348, Coeff: 0.235595703125 \n",
      " Val   -- Loss: 0.7939271653571247, Coeff: 0.94140625 \n",
      "\n",
      "\n"
     ]
    },
    {
     "name": "stderr",
     "output_type": "stream",
     "text": [
      "Train: 100%|██████████| 965/965 [00:13<00:00, 68.94batch/s]\n",
      "Valdt: 100%|██████████| 964/964 [00:04<00:00, 226.53batch/s]\n"
     ]
    },
    {
     "name": "stdout",
     "output_type": "stream",
     "text": [
      "Epoch: 87 / 6000, \n",
      " Train -- Loss: 0.16192560820909382, Coeff: 0.235595703125 \n",
      " Val   -- Loss: 0.8004837467404804, Coeff: 0.94140625 \n",
      "\n",
      "\n"
     ]
    },
    {
     "name": "stderr",
     "output_type": "stream",
     "text": [
      "Train: 100%|██████████| 965/965 [00:13<00:00, 70.26batch/s]\n",
      "Valdt: 100%|██████████| 964/964 [00:04<00:00, 231.92batch/s]\n"
     ]
    },
    {
     "name": "stdout",
     "output_type": "stream",
     "text": [
      "Epoch: 88 / 6000, \n",
      " Train -- Loss: 0.1624202527084208, Coeff: 0.235595703125 \n",
      " Val   -- Loss: 0.7950407842057283, Coeff: 0.94140625 \n",
      "\n",
      "\n"
     ]
    },
    {
     "name": "stderr",
     "output_type": "stream",
     "text": [
      "Train: 100%|██████████| 965/965 [00:13<00:00, 70.06batch/s]\n",
      "Valdt: 100%|██████████| 964/964 [00:04<00:00, 237.29batch/s]\n"
     ]
    },
    {
     "name": "stdout",
     "output_type": "stream",
     "text": [
      "Epoch: 89 / 6000, \n",
      " Train -- Loss: 0.16142298808147557, Coeff: 0.235595703125 \n",
      " Val   -- Loss: 0.8144199634166688, Coeff: 0.94140625 \n",
      "\n",
      "\n"
     ]
    },
    {
     "name": "stderr",
     "output_type": "stream",
     "text": [
      "Train: 100%|██████████| 965/965 [00:14<00:00, 68.37batch/s]\n",
      "Valdt: 100%|██████████| 964/964 [00:04<00:00, 237.24batch/s]\n"
     ]
    },
    {
     "name": "stdout",
     "output_type": "stream",
     "text": [
      "Epoch: 90 / 6000, \n",
      " Train -- Loss: 0.16371722722237791, Coeff: 0.235595703125 \n",
      " Val   -- Loss: 0.8033391938843069, Coeff: 0.94140625 \n",
      "\n",
      "\n"
     ]
    },
    {
     "name": "stderr",
     "output_type": "stream",
     "text": [
      "Train: 100%|██████████| 965/965 [00:13<00:00, 69.88batch/s]\n",
      "Valdt: 100%|██████████| 964/964 [00:04<00:00, 235.14batch/s]\n"
     ]
    },
    {
     "name": "stdout",
     "output_type": "stream",
     "text": [
      "Epoch: 91 / 6000, \n",
      " Train -- Loss: 0.16153189355663738, Coeff: 0.235595703125 \n",
      " Val   -- Loss: 0.8085673345250973, Coeff: 0.94140625 \n",
      "\n",
      "\n"
     ]
    },
    {
     "name": "stderr",
     "output_type": "stream",
     "text": [
      "Train: 100%|██████████| 965/965 [00:13<00:00, 70.41batch/s]\n",
      "Valdt: 100%|██████████| 964/964 [00:04<00:00, 224.69batch/s]\n"
     ]
    },
    {
     "name": "stdout",
     "output_type": "stream",
     "text": [
      "Epoch: 92 / 6000, \n",
      " Train -- Loss: 0.1617664136093294, Coeff: 0.235595703125 \n",
      " Val   -- Loss: 0.7951798783768493, Coeff: 0.94140625 \n",
      "\n",
      "\n"
     ]
    },
    {
     "name": "stderr",
     "output_type": "stream",
     "text": [
      "Train: 100%|██████████| 965/965 [00:13<00:00, 69.38batch/s]\n",
      "Valdt: 100%|██████████| 964/964 [00:04<00:00, 228.73batch/s]\n"
     ]
    },
    {
     "name": "stdout",
     "output_type": "stream",
     "text": [
      "Epoch: 93 / 6000, \n",
      " Train -- Loss: 0.16237526929910145, Coeff: 0.235595703125 \n",
      " Val   -- Loss: 0.8015782205514272, Coeff: 0.94140625 \n",
      "\n",
      "\n"
     ]
    },
    {
     "name": "stderr",
     "output_type": "stream",
     "text": [
      "Train: 100%|██████████| 965/965 [00:13<00:00, 69.04batch/s]\n",
      "Valdt: 100%|██████████| 964/964 [00:03<00:00, 242.96batch/s]\n"
     ]
    },
    {
     "name": "stdout",
     "output_type": "stream",
     "text": [
      "Epoch: 94 / 6000, \n",
      " Train -- Loss: 0.1621223288944017, Coeff: 0.235595703125 \n",
      " Val   -- Loss: 0.798594062133233, Coeff: 0.94140625 \n",
      "\n",
      "\n"
     ]
    },
    {
     "name": "stderr",
     "output_type": "stream",
     "text": [
      "Train: 100%|██████████| 965/965 [00:13<00:00, 69.66batch/s]\n",
      "Valdt: 100%|██████████| 964/964 [00:04<00:00, 227.76batch/s]\n"
     ]
    },
    {
     "name": "stdout",
     "output_type": "stream",
     "text": [
      "Epoch: 95 / 6000, \n",
      " Train -- Loss: 0.1615284943589613, Coeff: 0.235595703125 \n",
      " Val   -- Loss: 0.7889348477167486, Coeff: 0.94140625 \n",
      "\n",
      "\n"
     ]
    },
    {
     "name": "stderr",
     "output_type": "stream",
     "text": [
      "Train: 100%|██████████| 965/965 [00:13<00:00, 69.35batch/s]\n",
      "Valdt: 100%|██████████| 964/964 [00:04<00:00, 235.80batch/s]\n"
     ]
    },
    {
     "name": "stdout",
     "output_type": "stream",
     "text": [
      "Epoch: 96 / 6000, \n",
      " Train -- Loss: 0.16043891661245763, Coeff: 0.235595703125 \n",
      " Val   -- Loss: 0.8080575923217412, Coeff: 0.94140625 \n",
      "\n",
      "\n"
     ]
    },
    {
     "name": "stderr",
     "output_type": "stream",
     "text": [
      "Train: 100%|██████████| 965/965 [00:13<00:00, 69.65batch/s]\n",
      "Valdt: 100%|██████████| 964/964 [00:04<00:00, 231.08batch/s]\n"
     ]
    },
    {
     "name": "stdout",
     "output_type": "stream",
     "text": [
      "Epoch: 97 / 6000, \n",
      " Train -- Loss: 0.16154766080798855, Coeff: 0.235595703125 \n",
      " Val   -- Loss: 0.7940722451886632, Coeff: 0.94140625 \n",
      "\n",
      "\n"
     ]
    },
    {
     "name": "stderr",
     "output_type": "stream",
     "text": [
      "Train: 100%|██████████| 965/965 [00:13<00:00, 70.18batch/s]\n",
      "Valdt: 100%|██████████| 964/964 [00:04<00:00, 238.76batch/s]\n"
     ]
    },
    {
     "name": "stdout",
     "output_type": "stream",
     "text": [
      "Epoch: 98 / 6000, \n",
      " Train -- Loss: 0.1605985766944554, Coeff: 0.235595703125 \n",
      " Val   -- Loss: 0.799421794470116, Coeff: 0.94140625 \n",
      "\n",
      "\n"
     ]
    },
    {
     "name": "stderr",
     "output_type": "stream",
     "text": [
      "Train: 100%|██████████| 965/965 [00:13<00:00, 69.77batch/s]\n",
      "Valdt: 100%|██████████| 964/964 [00:04<00:00, 232.79batch/s]\n"
     ]
    },
    {
     "name": "stdout",
     "output_type": "stream",
     "text": [
      "Epoch: 99 / 6000, \n",
      " Train -- Loss: 0.15976045793632696, Coeff: 0.235595703125 \n",
      " Val   -- Loss: 0.7980335568959332, Coeff: 0.94140625 \n",
      "\n",
      "\n"
     ]
    },
    {
     "name": "stderr",
     "output_type": "stream",
     "text": [
      "Train: 100%|██████████| 965/965 [00:13<00:00, 69.82batch/s]\n",
      "Valdt: 100%|██████████| 964/964 [00:04<00:00, 219.78batch/s]\n"
     ]
    },
    {
     "name": "stdout",
     "output_type": "stream",
     "text": [
      "Epoch: 100 / 6000, \n",
      " Train -- Loss: 0.15917144382311577, Coeff: 0.235595703125 \n",
      " Val   -- Loss: 0.7957017655805351, Coeff: 0.94140625 \n",
      "\n",
      "\n"
     ]
    },
    {
     "name": "stderr",
     "output_type": "stream",
     "text": [
      "Train: 100%|██████████| 965/965 [00:13<00:00, 70.82batch/s]\n",
      "Valdt: 100%|██████████| 964/964 [00:04<00:00, 227.27batch/s]\n"
     ]
    },
    {
     "name": "stdout",
     "output_type": "stream",
     "text": [
      "Epoch: 101 / 6000, \n",
      " Train -- Loss: 0.15969318913137565, Coeff: 0.235595703125 \n",
      " Val   -- Loss: 0.8040704650944792, Coeff: 0.94140625 \n",
      "\n",
      "\n"
     ]
    },
    {
     "name": "stderr",
     "output_type": "stream",
     "text": [
      "Train: 100%|██████████| 965/965 [00:13<00:00, 69.97batch/s]\n",
      "Valdt: 100%|██████████| 964/964 [00:04<00:00, 239.86batch/s]\n"
     ]
    },
    {
     "name": "stdout",
     "output_type": "stream",
     "text": [
      "Epoch: 102 / 6000, \n",
      " Train -- Loss: 0.1632233573277307, Coeff: 0.235595703125 \n",
      " Val   -- Loss: 0.8099255773687154, Coeff: 0.94140625 \n",
      "\n",
      "\n"
     ]
    },
    {
     "name": "stderr",
     "output_type": "stream",
     "text": [
      "Train: 100%|██████████| 965/965 [00:13<00:00, 69.15batch/s]\n",
      "Valdt: 100%|██████████| 964/964 [00:04<00:00, 237.91batch/s]\n"
     ]
    },
    {
     "name": "stdout",
     "output_type": "stream",
     "text": [
      "Epoch: 103 / 6000, \n",
      " Train -- Loss: 0.16183539637794175, Coeff: 0.235595703125 \n",
      " Val   -- Loss: 0.7933614028342697, Coeff: 0.94140625 \n",
      "\n",
      "\n"
     ]
    },
    {
     "name": "stderr",
     "output_type": "stream",
     "text": [
      "Train: 100%|██████████| 965/965 [00:14<00:00, 68.37batch/s]\n",
      "Valdt: 100%|██████████| 964/964 [00:04<00:00, 229.72batch/s]\n"
     ]
    },
    {
     "name": "stdout",
     "output_type": "stream",
     "text": [
      "Epoch: 104 / 6000, \n",
      " Train -- Loss: 0.1603340304099784, Coeff: 0.235595703125 \n",
      " Val   -- Loss: 0.8071291392784292, Coeff: 0.94140625 \n",
      "\n",
      "\n"
     ]
    },
    {
     "name": "stderr",
     "output_type": "stream",
     "text": [
      "Train: 100%|██████████| 965/965 [00:14<00:00, 68.75batch/s]\n",
      "Valdt: 100%|██████████| 964/964 [00:04<00:00, 230.75batch/s]\n"
     ]
    },
    {
     "name": "stdout",
     "output_type": "stream",
     "text": [
      "Epoch: 105 / 6000, \n",
      " Train -- Loss: 0.16030555512676456, Coeff: 0.235595703125 \n",
      " Val   -- Loss: 0.7878664181864709, Coeff: 0.94140625 \n",
      "\n",
      "\n"
     ]
    },
    {
     "name": "stderr",
     "output_type": "stream",
     "text": [
      "Train: 100%|██████████| 965/965 [00:13<00:00, 69.42batch/s]\n",
      "Valdt: 100%|██████████| 964/964 [00:03<00:00, 241.82batch/s]\n"
     ]
    },
    {
     "name": "stdout",
     "output_type": "stream",
     "text": [
      "Epoch: 106 / 6000, \n",
      " Train -- Loss: 0.1609411043613011, Coeff: 0.235595703125 \n",
      " Val   -- Loss: 0.7904404681252716, Coeff: 0.94140625 \n",
      "\n",
      "\n"
     ]
    },
    {
     "name": "stderr",
     "output_type": "stream",
     "text": [
      "Train: 100%|██████████| 965/965 [00:14<00:00, 68.90batch/s]\n",
      "Valdt: 100%|██████████| 964/964 [00:04<00:00, 235.99batch/s]\n"
     ]
    },
    {
     "name": "stdout",
     "output_type": "stream",
     "text": [
      "Epoch: 107 / 6000, \n",
      " Train -- Loss: 0.1589875983110731, Coeff: 0.235595703125 \n",
      " Val   -- Loss: 0.7917471999630533, Coeff: 0.94140625 \n",
      "\n",
      "\n"
     ]
    },
    {
     "name": "stderr",
     "output_type": "stream",
     "text": [
      "Train: 100%|██████████| 965/965 [00:14<00:00, 68.89batch/s]\n",
      "Valdt: 100%|██████████| 964/964 [00:04<00:00, 231.23batch/s]\n"
     ]
    },
    {
     "name": "stdout",
     "output_type": "stream",
     "text": [
      "Epoch: 108 / 6000, \n",
      " Train -- Loss: 0.15974114397081265, Coeff: 0.235595703125 \n",
      " Val   -- Loss: 0.7999048388914364, Coeff: 0.94140625 \n",
      "\n",
      "\n"
     ]
    },
    {
     "name": "stderr",
     "output_type": "stream",
     "text": [
      "Train: 100%|██████████| 965/965 [00:13<00:00, 69.71batch/s]\n",
      "Valdt: 100%|██████████| 964/964 [00:04<00:00, 238.78batch/s]\n"
     ]
    },
    {
     "name": "stdout",
     "output_type": "stream",
     "text": [
      "Epoch: 109 / 6000, \n",
      " Train -- Loss: 0.1583892312659469, Coeff: 0.235595703125 \n",
      " Val   -- Loss: 0.8006479781949724, Coeff: 0.94140625 \n",
      "\n",
      "\n"
     ]
    },
    {
     "name": "stderr",
     "output_type": "stream",
     "text": [
      "Train: 100%|██████████| 965/965 [00:14<00:00, 68.68batch/s]\n",
      "Valdt: 100%|██████████| 964/964 [00:04<00:00, 238.62batch/s]\n"
     ]
    },
    {
     "name": "stdout",
     "output_type": "stream",
     "text": [
      "Epoch: 110 / 6000, \n",
      " Train -- Loss: 0.15904254631496292, Coeff: 0.235595703125 \n",
      " Val   -- Loss: 0.7920585158892759, Coeff: 0.94140625 \n",
      "\n",
      "\n"
     ]
    },
    {
     "name": "stderr",
     "output_type": "stream",
     "text": [
      "Train: 100%|██████████| 965/965 [00:13<00:00, 69.31batch/s]\n",
      "Valdt: 100%|██████████| 964/964 [00:04<00:00, 229.36batch/s]\n"
     ]
    },
    {
     "name": "stdout",
     "output_type": "stream",
     "text": [
      "Epoch: 111 / 6000, \n",
      " Train -- Loss: 0.15918979909603995, Coeff: 0.235595703125 \n",
      " Val   -- Loss: 0.8041989070575011, Coeff: 0.94140625 \n",
      "\n",
      "\n"
     ]
    },
    {
     "name": "stderr",
     "output_type": "stream",
     "text": [
      "Train: 100%|██████████| 965/965 [00:13<00:00, 69.46batch/s]\n",
      "Valdt: 100%|██████████| 964/964 [00:04<00:00, 230.30batch/s]\n"
     ]
    },
    {
     "name": "stdout",
     "output_type": "stream",
     "text": [
      "Epoch: 112 / 6000, \n",
      " Train -- Loss: 0.15824895587111384, Coeff: 0.235595703125 \n",
      " Val   -- Loss: 0.8003173191015089, Coeff: 0.94140625 \n",
      "\n",
      "\n"
     ]
    },
    {
     "name": "stderr",
     "output_type": "stream",
     "text": [
      "Train: 100%|██████████| 965/965 [00:13<00:00, 69.06batch/s]\n",
      "Valdt: 100%|██████████| 964/964 [00:04<00:00, 231.12batch/s]\n"
     ]
    },
    {
     "name": "stdout",
     "output_type": "stream",
     "text": [
      "Epoch: 113 / 6000, \n",
      " Train -- Loss: 0.1583288614604608, Coeff: 0.235595703125 \n",
      " Val   -- Loss: 0.7963127595854403, Coeff: 0.94140625 \n",
      "\n",
      "\n"
     ]
    },
    {
     "name": "stderr",
     "output_type": "stream",
     "text": [
      "Train: 100%|██████████| 965/965 [00:13<00:00, 69.74batch/s]\n",
      "Valdt: 100%|██████████| 964/964 [00:04<00:00, 232.69batch/s]\n"
     ]
    },
    {
     "name": "stdout",
     "output_type": "stream",
     "text": [
      "Epoch: 114 / 6000, \n",
      " Train -- Loss: 0.15877344813282815, Coeff: 0.235595703125 \n",
      " Val   -- Loss: 0.7837671126391584, Coeff: 0.94140625 \n",
      "\n",
      "\n"
     ]
    },
    {
     "name": "stderr",
     "output_type": "stream",
     "text": [
      "Train: 100%|██████████| 965/965 [00:14<00:00, 68.92batch/s]\n",
      "Valdt: 100%|██████████| 964/964 [00:04<00:00, 230.92batch/s]\n"
     ]
    },
    {
     "name": "stdout",
     "output_type": "stream",
     "text": [
      "Epoch: 115 / 6000, \n",
      " Train -- Loss: 0.15838261582991872, Coeff: 0.235595703125 \n",
      " Val   -- Loss: 0.7936222214772131, Coeff: 0.94140625 \n",
      "\n",
      "\n"
     ]
    },
    {
     "name": "stderr",
     "output_type": "stream",
     "text": [
      "Train: 100%|██████████| 965/965 [00:13<00:00, 69.80batch/s]\n",
      "Valdt: 100%|██████████| 964/964 [00:04<00:00, 236.76batch/s]\n"
     ]
    },
    {
     "name": "stdout",
     "output_type": "stream",
     "text": [
      "Epoch: 116 / 6000, \n",
      " Train -- Loss: 0.1586749276168952, Coeff: 0.235595703125 \n",
      " Val   -- Loss: 0.7865083884948504, Coeff: 0.94140625 \n",
      "\n",
      "\n"
     ]
    },
    {
     "name": "stderr",
     "output_type": "stream",
     "text": [
      "Train: 100%|██████████| 965/965 [00:14<00:00, 68.35batch/s]\n",
      "Valdt: 100%|██████████| 964/964 [00:04<00:00, 235.70batch/s]\n"
     ]
    },
    {
     "name": "stdout",
     "output_type": "stream",
     "text": [
      "Epoch: 117 / 6000, \n",
      " Train -- Loss: 0.15854374269746802, Coeff: 0.235595703125 \n",
      " Val   -- Loss: 0.7933890823968759, Coeff: 0.94140625 \n",
      "\n",
      "\n"
     ]
    },
    {
     "name": "stderr",
     "output_type": "stream",
     "text": [
      "Train: 100%|██████████| 965/965 [00:14<00:00, 68.74batch/s]\n",
      "Valdt: 100%|██████████| 964/964 [00:04<00:00, 233.86batch/s]\n"
     ]
    },
    {
     "name": "stdout",
     "output_type": "stream",
     "text": [
      "Epoch: 118 / 6000, \n",
      " Train -- Loss: 0.15805638777146522, Coeff: 0.235595703125 \n",
      " Val   -- Loss: 0.7993112698405035, Coeff: 0.94140625 \n",
      "\n",
      "\n"
     ]
    },
    {
     "name": "stderr",
     "output_type": "stream",
     "text": [
      "Train: 100%|██████████| 965/965 [00:14<00:00, 68.91batch/s]\n",
      "Valdt: 100%|██████████| 964/964 [00:04<00:00, 230.25batch/s]\n"
     ]
    },
    {
     "name": "stdout",
     "output_type": "stream",
     "text": [
      "Epoch: 119 / 6000, \n",
      " Train -- Loss: 0.15813506388929266, Coeff: 0.235595703125 \n",
      " Val   -- Loss: 0.7979347222890588, Coeff: 0.94140625 \n",
      "\n",
      "\n"
     ]
    },
    {
     "name": "stderr",
     "output_type": "stream",
     "text": [
      "Train: 100%|██████████| 965/965 [00:14<00:00, 68.83batch/s]\n",
      "Valdt: 100%|██████████| 964/964 [00:04<00:00, 235.22batch/s]\n"
     ]
    },
    {
     "name": "stdout",
     "output_type": "stream",
     "text": [
      "Epoch: 120 / 6000, \n",
      " Train -- Loss: 0.1576105192606172, Coeff: 0.235595703125 \n",
      " Val   -- Loss: 0.7846418155572541, Coeff: 0.94140625 \n",
      "\n",
      "\n"
     ]
    },
    {
     "name": "stderr",
     "output_type": "stream",
     "text": [
      "Train: 100%|██████████| 965/965 [00:14<00:00, 68.18batch/s]\n",
      "Valdt: 100%|██████████| 964/964 [00:04<00:00, 231.86batch/s]\n"
     ]
    },
    {
     "name": "stdout",
     "output_type": "stream",
     "text": [
      "Epoch: 121 / 6000, \n",
      " Train -- Loss: 0.1572888763654163, Coeff: 0.235595703125 \n",
      " Val   -- Loss: 0.7940897814246947, Coeff: 0.94140625 \n",
      "\n",
      "\n"
     ]
    },
    {
     "name": "stderr",
     "output_type": "stream",
     "text": [
      "Train: 100%|██████████| 965/965 [00:13<00:00, 69.13batch/s]\n",
      "Valdt: 100%|██████████| 964/964 [00:04<00:00, 231.21batch/s]\n"
     ]
    },
    {
     "name": "stdout",
     "output_type": "stream",
     "text": [
      "Epoch: 122 / 6000, \n",
      " Train -- Loss: 0.1576691176948085, Coeff: 0.235595703125 \n",
      " Val   -- Loss: 0.8029797887047555, Coeff: 0.94140625 \n",
      "\n",
      "\n"
     ]
    },
    {
     "name": "stderr",
     "output_type": "stream",
     "text": [
      "Train: 100%|██████████| 965/965 [00:14<00:00, 68.25batch/s]\n",
      "Valdt: 100%|██████████| 964/964 [00:04<00:00, 239.89batch/s]\n"
     ]
    },
    {
     "name": "stdout",
     "output_type": "stream",
     "text": [
      "Epoch: 123 / 6000, \n",
      " Train -- Loss: 0.15724698577812293, Coeff: 0.235595703125 \n",
      " Val   -- Loss: 0.7873727683597148, Coeff: 0.94140625 \n",
      "\n",
      "\n"
     ]
    },
    {
     "name": "stderr",
     "output_type": "stream",
     "text": [
      "Train: 100%|██████████| 965/965 [00:13<00:00, 69.03batch/s]\n",
      "Valdt: 100%|██████████| 964/964 [00:04<00:00, 240.38batch/s]\n"
     ]
    },
    {
     "name": "stdout",
     "output_type": "stream",
     "text": [
      "Epoch: 124 / 6000, \n",
      " Train -- Loss: 0.15804904504061396, Coeff: 0.235595703125 \n",
      " Val   -- Loss: 0.7851116636245034, Coeff: 0.94140625 \n",
      "\n",
      "\n"
     ]
    },
    {
     "name": "stderr",
     "output_type": "stream",
     "text": [
      "Train: 100%|██████████| 965/965 [00:14<00:00, 68.17batch/s]\n",
      "Valdt: 100%|██████████| 964/964 [00:04<00:00, 230.42batch/s]\n"
     ]
    },
    {
     "name": "stdout",
     "output_type": "stream",
     "text": [
      "Epoch: 125 / 6000, \n",
      " Train -- Loss: 0.1562800705662056, Coeff: 0.235595703125 \n",
      " Val   -- Loss: 0.7904834618041547, Coeff: 0.94140625 \n",
      "\n",
      "\n"
     ]
    },
    {
     "name": "stderr",
     "output_type": "stream",
     "text": [
      "Train: 100%|██████████| 965/965 [00:13<00:00, 69.17batch/s]\n",
      "Valdt: 100%|██████████| 964/964 [00:04<00:00, 237.12batch/s]\n"
     ]
    },
    {
     "name": "stdout",
     "output_type": "stream",
     "text": [
      "Epoch: 126 / 6000, \n",
      " Train -- Loss: 0.1588178443579113, Coeff: 0.235595703125 \n",
      " Val   -- Loss: 0.7959995866306285, Coeff: 0.94140625 \n",
      "\n",
      "\n"
     ]
    },
    {
     "name": "stderr",
     "output_type": "stream",
     "text": [
      "Train: 100%|██████████| 965/965 [00:14<00:00, 68.58batch/s]\n",
      "Valdt: 100%|██████████| 964/964 [00:04<00:00, 235.81batch/s]\n"
     ]
    },
    {
     "name": "stdout",
     "output_type": "stream",
     "text": [
      "Epoch: 127 / 6000, \n",
      " Train -- Loss: 0.15868633723588374, Coeff: 0.235595703125 \n",
      " Val   -- Loss: 0.7897301162626473, Coeff: 0.94140625 \n",
      "\n",
      "\n"
     ]
    },
    {
     "name": "stderr",
     "output_type": "stream",
     "text": [
      "Train: 100%|██████████| 965/965 [00:13<00:00, 69.61batch/s]\n",
      "Valdt: 100%|██████████| 964/964 [00:04<00:00, 232.26batch/s]\n"
     ]
    },
    {
     "name": "stdout",
     "output_type": "stream",
     "text": [
      "Epoch: 128 / 6000, \n",
      " Train -- Loss: 0.157432448370226, Coeff: 0.235595703125 \n",
      " Val   -- Loss: 0.7878957743090524, Coeff: 0.94140625 \n",
      "\n",
      "\n"
     ]
    },
    {
     "name": "stderr",
     "output_type": "stream",
     "text": [
      "Train: 100%|██████████| 965/965 [00:14<00:00, 68.68batch/s]\n",
      "Valdt: 100%|██████████| 964/964 [00:04<00:00, 226.73batch/s]\n"
     ]
    },
    {
     "name": "stdout",
     "output_type": "stream",
     "text": [
      "Epoch: 129 / 6000, \n",
      " Train -- Loss: 0.1575197797931249, Coeff: 0.235595703125 \n",
      " Val   -- Loss: 0.79620902555905, Coeff: 0.94140625 \n",
      "\n",
      "\n"
     ]
    },
    {
     "name": "stderr",
     "output_type": "stream",
     "text": [
      "Train: 100%|██████████| 965/965 [00:13<00:00, 69.30batch/s]\n",
      "Valdt: 100%|██████████| 964/964 [00:04<00:00, 228.14batch/s]\n"
     ]
    },
    {
     "name": "stdout",
     "output_type": "stream",
     "text": [
      "Epoch: 130 / 6000, \n",
      " Train -- Loss: 0.15695071664185423, Coeff: 0.235595703125 \n",
      " Val   -- Loss: 0.7885234728965864, Coeff: 0.94140625 \n",
      "\n",
      "\n"
     ]
    },
    {
     "name": "stderr",
     "output_type": "stream",
     "text": [
      "Train: 100%|██████████| 965/965 [00:14<00:00, 68.82batch/s]\n",
      "Valdt: 100%|██████████| 964/964 [00:03<00:00, 241.99batch/s]\n"
     ]
    },
    {
     "name": "stdout",
     "output_type": "stream",
     "text": [
      "Epoch: 131 / 6000, \n",
      " Train -- Loss: 0.15602996288159882, Coeff: 0.235595703125 \n",
      " Val   -- Loss: 0.7996770651043255, Coeff: 0.94140625 \n",
      "\n",
      "\n"
     ]
    },
    {
     "name": "stderr",
     "output_type": "stream",
     "text": [
      "Train: 100%|██████████| 965/965 [00:13<00:00, 69.30batch/s]\n",
      "Valdt: 100%|██████████| 964/964 [00:04<00:00, 234.06batch/s]\n"
     ]
    },
    {
     "name": "stdout",
     "output_type": "stream",
     "text": [
      "Epoch: 132 / 6000, \n",
      " Train -- Loss: 0.1564507738533466, Coeff: 0.235595703125 \n",
      " Val   -- Loss: 0.7954448853934842, Coeff: 0.94140625 \n",
      "\n",
      "\n"
     ]
    },
    {
     "name": "stderr",
     "output_type": "stream",
     "text": [
      "Train: 100%|██████████| 965/965 [00:13<00:00, 70.26batch/s]\n",
      "Valdt: 100%|██████████| 964/964 [00:04<00:00, 228.86batch/s]\n"
     ]
    },
    {
     "name": "stdout",
     "output_type": "stream",
     "text": [
      "Epoch: 133 / 6000, \n",
      " Train -- Loss: 0.15670615762805654, Coeff: 0.235595703125 \n",
      " Val   -- Loss: 0.7933477197312685, Coeff: 0.94140625 \n",
      "\n",
      "\n"
     ]
    },
    {
     "name": "stderr",
     "output_type": "stream",
     "text": [
      "Train: 100%|██████████| 965/965 [00:13<00:00, 70.05batch/s]\n",
      "Valdt: 100%|██████████| 964/964 [00:04<00:00, 228.45batch/s]\n"
     ]
    },
    {
     "name": "stdout",
     "output_type": "stream",
     "text": [
      "Epoch: 134 / 6000, \n",
      " Train -- Loss: 0.15624630149274704, Coeff: 0.235595703125 \n",
      " Val   -- Loss: 0.7834124843763192, Coeff: 0.94140625 \n",
      "\n",
      "\n"
     ]
    },
    {
     "name": "stderr",
     "output_type": "stream",
     "text": [
      "Train: 100%|██████████| 965/965 [00:14<00:00, 68.63batch/s]\n",
      "Valdt: 100%|██████████| 964/964 [00:04<00:00, 234.10batch/s]\n"
     ]
    },
    {
     "name": "stdout",
     "output_type": "stream",
     "text": [
      "Epoch: 135 / 6000, \n",
      " Train -- Loss: 0.15617795643595792, Coeff: 0.235595703125 \n",
      " Val   -- Loss: 0.7838690156440182, Coeff: 0.94140625 \n",
      "\n",
      "\n"
     ]
    },
    {
     "name": "stderr",
     "output_type": "stream",
     "text": [
      "Train: 100%|██████████| 965/965 [00:13<00:00, 68.96batch/s]\n",
      "Valdt: 100%|██████████| 964/964 [00:03<00:00, 243.28batch/s]\n"
     ]
    },
    {
     "name": "stdout",
     "output_type": "stream",
     "text": [
      "Epoch: 136 / 6000, \n",
      " Train -- Loss: 0.15614650437041863, Coeff: 0.235595703125 \n",
      " Val   -- Loss: 0.793105386457602, Coeff: 0.94140625 \n",
      "\n",
      "\n"
     ]
    },
    {
     "name": "stderr",
     "output_type": "stream",
     "text": [
      "Train: 100%|██████████| 965/965 [00:13<00:00, 69.33batch/s]\n",
      "Valdt: 100%|██████████| 964/964 [00:04<00:00, 234.81batch/s]\n"
     ]
    },
    {
     "name": "stdout",
     "output_type": "stream",
     "text": [
      "Epoch: 137 / 6000, \n",
      " Train -- Loss: 0.15628450922110892, Coeff: 0.235595703125 \n",
      " Val   -- Loss: 0.8056575700373064, Coeff: 0.94140625 \n",
      "\n",
      "\n"
     ]
    },
    {
     "name": "stderr",
     "output_type": "stream",
     "text": [
      "Train: 100%|██████████| 965/965 [00:14<00:00, 68.72batch/s]\n",
      "Valdt: 100%|██████████| 964/964 [00:04<00:00, 226.26batch/s]\n"
     ]
    },
    {
     "name": "stdout",
     "output_type": "stream",
     "text": [
      "Epoch: 138 / 6000, \n",
      " Train -- Loss: 0.15568714616691162, Coeff: 0.235595703125 \n",
      " Val   -- Loss: 0.794698648539934, Coeff: 0.94140625 \n",
      "\n",
      "\n"
     ]
    },
    {
     "name": "stderr",
     "output_type": "stream",
     "text": [
      "Train: 100%|██████████| 965/965 [00:14<00:00, 68.47batch/s]\n",
      "Valdt: 100%|██████████| 964/964 [00:04<00:00, 230.92batch/s]\n"
     ]
    },
    {
     "name": "stdout",
     "output_type": "stream",
     "text": [
      "Epoch: 139 / 6000, \n",
      " Train -- Loss: 0.15634782553116305, Coeff: 0.235595703125 \n",
      " Val   -- Loss: 0.7939377215206772, Coeff: 0.94140625 \n",
      "\n",
      "\n"
     ]
    },
    {
     "name": "stderr",
     "output_type": "stream",
     "text": [
      "Train: 100%|██████████| 965/965 [00:14<00:00, 68.41batch/s]\n",
      "Valdt: 100%|██████████| 964/964 [00:04<00:00, 231.93batch/s]\n"
     ]
    },
    {
     "name": "stdout",
     "output_type": "stream",
     "text": [
      "Epoch: 140 / 6000, \n",
      " Train -- Loss: 0.15615366186903198, Coeff: 0.235595703125 \n",
      " Val   -- Loss: 0.7896001802608319, Coeff: 0.94140625 \n",
      "\n",
      "\n"
     ]
    },
    {
     "name": "stderr",
     "output_type": "stream",
     "text": [
      "Train: 100%|██████████| 965/965 [00:14<00:00, 68.34batch/s]\n",
      "Valdt: 100%|██████████| 964/964 [00:04<00:00, 230.93batch/s]\n"
     ]
    },
    {
     "name": "stdout",
     "output_type": "stream",
     "text": [
      "Epoch: 141 / 6000, \n",
      " Train -- Loss: 0.15686098880027366, Coeff: 0.235595703125 \n",
      " Val   -- Loss: 0.7887271482955794, Coeff: 0.94140625 \n",
      "\n",
      "\n"
     ]
    },
    {
     "name": "stderr",
     "output_type": "stream",
     "text": [
      "Train: 100%|██████████| 965/965 [00:13<00:00, 70.45batch/s]\n",
      "Valdt: 100%|██████████| 964/964 [00:04<00:00, 233.88batch/s]\n"
     ]
    },
    {
     "name": "stdout",
     "output_type": "stream",
     "text": [
      "Epoch: 142 / 6000, \n",
      " Train -- Loss: 0.1556057591824298, Coeff: 0.235595703125 \n",
      " Val   -- Loss: 0.7859506954267033, Coeff: 0.94140625 \n",
      "\n",
      "\n"
     ]
    },
    {
     "name": "stderr",
     "output_type": "stream",
     "text": [
      "Train: 100%|██████████| 965/965 [00:14<00:00, 68.87batch/s]\n",
      "Valdt: 100%|██████████| 964/964 [00:04<00:00, 237.76batch/s]\n"
     ]
    },
    {
     "name": "stdout",
     "output_type": "stream",
     "text": [
      "Epoch: 143 / 6000, \n",
      " Train -- Loss: 0.1559211539225772, Coeff: 0.235595703125 \n",
      " Val   -- Loss: 0.7895347984962827, Coeff: 0.94140625 \n",
      "\n",
      "\n"
     ]
    },
    {
     "name": "stderr",
     "output_type": "stream",
     "text": [
      "Train: 100%|██████████| 965/965 [00:13<00:00, 69.51batch/s]\n",
      "Valdt: 100%|██████████| 964/964 [00:04<00:00, 227.97batch/s]\n"
     ]
    },
    {
     "name": "stdout",
     "output_type": "stream",
     "text": [
      "Epoch: 144 / 6000, \n",
      " Train -- Loss: 0.15627581963621406, Coeff: 0.235595703125 \n",
      " Val   -- Loss: 0.7945129792943868, Coeff: 0.94140625 \n",
      "\n",
      "\n"
     ]
    },
    {
     "name": "stderr",
     "output_type": "stream",
     "text": [
      "Train: 100%|██████████| 965/965 [00:14<00:00, 68.69batch/s]\n",
      "Valdt: 100%|██████████| 964/964 [00:04<00:00, 233.01batch/s]\n"
     ]
    },
    {
     "name": "stdout",
     "output_type": "stream",
     "text": [
      "Epoch: 145 / 6000, \n",
      " Train -- Loss: 0.15527531876277578, Coeff: 0.235595703125 \n",
      " Val   -- Loss: 0.7915122172367333, Coeff: 0.94140625 \n",
      "\n",
      "\n"
     ]
    },
    {
     "name": "stderr",
     "output_type": "stream",
     "text": [
      "Train: 100%|██████████| 965/965 [00:14<00:00, 68.59batch/s]\n",
      "Valdt: 100%|██████████| 964/964 [00:03<00:00, 243.30batch/s]\n"
     ]
    },
    {
     "name": "stdout",
     "output_type": "stream",
     "text": [
      "Epoch: 146 / 6000, \n",
      " Train -- Loss: 0.15518631219816215, Coeff: 0.235595703125 \n",
      " Val   -- Loss: 0.7953644516905494, Coeff: 0.94140625 \n",
      "\n",
      "\n"
     ]
    },
    {
     "name": "stderr",
     "output_type": "stream",
     "text": [
      "Train: 100%|██████████| 965/965 [00:14<00:00, 68.72batch/s]\n",
      "Valdt: 100%|██████████| 964/964 [00:04<00:00, 233.33batch/s]\n"
     ]
    },
    {
     "name": "stdout",
     "output_type": "stream",
     "text": [
      "Epoch: 147 / 6000, \n",
      " Train -- Loss: 0.1555793264486103, Coeff: 0.235595703125 \n",
      " Val   -- Loss: 0.7854008594674912, Coeff: 0.94140625 \n",
      "\n",
      "\n"
     ]
    },
    {
     "name": "stderr",
     "output_type": "stream",
     "text": [
      "Train: 100%|██████████| 965/965 [00:13<00:00, 69.10batch/s]\n",
      "Valdt: 100%|██████████| 964/964 [00:04<00:00, 225.59batch/s]\n"
     ]
    },
    {
     "name": "stdout",
     "output_type": "stream",
     "text": [
      "Epoch: 148 / 6000, \n",
      " Train -- Loss: 0.15581603082280462, Coeff: 0.235595703125 \n",
      " Val   -- Loss: 0.8015596076170889, Coeff: 0.94140625 \n",
      "\n",
      "\n"
     ]
    },
    {
     "name": "stderr",
     "output_type": "stream",
     "text": [
      "Train: 100%|██████████| 965/965 [00:14<00:00, 68.52batch/s]\n",
      "Valdt: 100%|██████████| 964/964 [00:04<00:00, 238.60batch/s]\n"
     ]
    },
    {
     "name": "stdout",
     "output_type": "stream",
     "text": [
      "Epoch: 149 / 6000, \n",
      " Train -- Loss: 0.154693377808107, Coeff: 0.235595703125 \n",
      " Val   -- Loss: 0.7979311427944245, Coeff: 0.94140625 \n",
      "\n",
      "\n"
     ]
    },
    {
     "name": "stderr",
     "output_type": "stream",
     "text": [
      "Train: 100%|██████████| 965/965 [00:13<00:00, 69.81batch/s]\n",
      "Valdt: 100%|██████████| 964/964 [00:04<00:00, 237.07batch/s]\n"
     ]
    },
    {
     "name": "stdout",
     "output_type": "stream",
     "text": [
      "Epoch: 150 / 6000, \n",
      " Train -- Loss: 0.15603070896943183, Coeff: 0.235595703125 \n",
      " Val   -- Loss: 0.792992164935332, Coeff: 0.94140625 \n",
      "\n",
      "\n"
     ]
    },
    {
     "name": "stderr",
     "output_type": "stream",
     "text": [
      "Train: 100%|██████████| 965/965 [00:14<00:00, 68.72batch/s]\n",
      "Valdt: 100%|██████████| 964/964 [00:04<00:00, 227.35batch/s]\n"
     ]
    },
    {
     "name": "stdout",
     "output_type": "stream",
     "text": [
      "Epoch: 151 / 6000, \n",
      " Train -- Loss: 0.15496322237530794, Coeff: 0.235595703125 \n",
      " Val   -- Loss: 0.7876424460433727, Coeff: 0.94140625 \n",
      "\n",
      "\n"
     ]
    },
    {
     "name": "stderr",
     "output_type": "stream",
     "text": [
      "Train: 100%|██████████| 965/965 [00:13<00:00, 69.60batch/s]\n",
      "Valdt: 100%|██████████| 964/964 [00:04<00:00, 233.71batch/s]\n"
     ]
    },
    {
     "name": "stdout",
     "output_type": "stream",
     "text": [
      "Epoch: 152 / 6000, \n",
      " Train -- Loss: 0.15493096854447497, Coeff: 0.235595703125 \n",
      " Val   -- Loss: 0.7985842144249711, Coeff: 0.94140625 \n",
      "\n",
      "\n"
     ]
    },
    {
     "name": "stderr",
     "output_type": "stream",
     "text": [
      "Train: 100%|██████████| 965/965 [00:14<00:00, 68.87batch/s]\n",
      "Valdt: 100%|██████████| 964/964 [00:04<00:00, 237.05batch/s]\n"
     ]
    },
    {
     "name": "stdout",
     "output_type": "stream",
     "text": [
      "Epoch: 153 / 6000, \n",
      " Train -- Loss: 0.15553465812273196, Coeff: 0.235595703125 \n",
      " Val   -- Loss: 0.8026423806320625, Coeff: 0.94140625 \n",
      "\n",
      "\n"
     ]
    },
    {
     "name": "stderr",
     "output_type": "stream",
     "text": [
      "Train: 100%|██████████| 965/965 [00:13<00:00, 69.13batch/s]\n",
      "Valdt: 100%|██████████| 964/964 [00:04<00:00, 235.02batch/s]\n"
     ]
    },
    {
     "name": "stdout",
     "output_type": "stream",
     "text": [
      "Epoch: 154 / 6000, \n",
      " Train -- Loss: 0.1556672663028124, Coeff: 0.235595703125 \n",
      " Val   -- Loss: 0.7913111199884902, Coeff: 0.94140625 \n",
      "\n",
      "\n"
     ]
    },
    {
     "name": "stderr",
     "output_type": "stream",
     "text": [
      "Train: 100%|██████████| 965/965 [00:14<00:00, 68.58batch/s]\n",
      "Valdt: 100%|██████████| 964/964 [00:04<00:00, 235.39batch/s]\n"
     ]
    },
    {
     "name": "stdout",
     "output_type": "stream",
     "text": [
      "Epoch: 155 / 6000, \n",
      " Train -- Loss: 0.15507674367446606, Coeff: 0.235595703125 \n",
      " Val   -- Loss: 0.7926124433625118, Coeff: 0.94140625 \n",
      "\n",
      "\n"
     ]
    },
    {
     "name": "stderr",
     "output_type": "stream",
     "text": [
      "Train: 100%|██████████| 965/965 [00:14<00:00, 68.43batch/s]\n",
      "Valdt: 100%|██████████| 964/964 [00:03<00:00, 244.19batch/s]\n"
     ]
    },
    {
     "name": "stdout",
     "output_type": "stream",
     "text": [
      "Epoch: 156 / 6000, \n",
      " Train -- Loss: 0.15601770183605007, Coeff: 0.235595703125 \n",
      " Val   -- Loss: 0.7898730615033281, Coeff: 0.94140625 \n",
      "\n",
      "\n"
     ]
    },
    {
     "name": "stderr",
     "output_type": "stream",
     "text": [
      "Train: 100%|██████████| 965/965 [00:14<00:00, 67.07batch/s]\n",
      "Valdt: 100%|██████████| 964/964 [00:04<00:00, 231.36batch/s]\n"
     ]
    },
    {
     "name": "stdout",
     "output_type": "stream",
     "text": [
      "Epoch: 157 / 6000, \n",
      " Train -- Loss: 0.15495080923340485, Coeff: 0.235595703125 \n",
      " Val   -- Loss: 0.7892586895076646, Coeff: 0.94140625 \n",
      "\n",
      "\n"
     ]
    },
    {
     "name": "stderr",
     "output_type": "stream",
     "text": [
      "Train: 100%|██████████| 965/965 [00:13<00:00, 73.86batch/s]\n",
      "Valdt: 100%|██████████| 964/964 [00:04<00:00, 225.62batch/s]\n"
     ]
    },
    {
     "name": "stdout",
     "output_type": "stream",
     "text": [
      "Epoch: 158 / 6000, \n",
      " Train -- Loss: 0.15516304715036228, Coeff: 0.235595703125 \n",
      " Val   -- Loss: 0.7959261134171066, Coeff: 0.94140625 \n",
      "\n",
      "\n"
     ]
    },
    {
     "name": "stderr",
     "output_type": "stream",
     "text": [
      "Train: 100%|██████████| 965/965 [00:13<00:00, 70.37batch/s]\n",
      "Valdt: 100%|██████████| 964/964 [00:04<00:00, 224.28batch/s]\n"
     ]
    },
    {
     "name": "stdout",
     "output_type": "stream",
     "text": [
      "Epoch: 159 / 6000, \n",
      " Train -- Loss: 0.1544570646545852, Coeff: 0.235595703125 \n",
      " Val   -- Loss: 0.7868619005207805, Coeff: 0.94140625 \n",
      "\n",
      "\n"
     ]
    },
    {
     "name": "stderr",
     "output_type": "stream",
     "text": [
      "Train: 100%|██████████| 965/965 [00:13<00:00, 69.24batch/s]\n",
      "Valdt: 100%|██████████| 964/964 [00:04<00:00, 240.59batch/s]\n"
     ]
    },
    {
     "name": "stdout",
     "output_type": "stream",
     "text": [
      "Epoch: 160 / 6000, \n",
      " Train -- Loss: 0.15461561555462563, Coeff: 0.235595703125 \n",
      " Val   -- Loss: 0.8009869729824569, Coeff: 0.94140625 \n",
      "\n",
      "\n"
     ]
    },
    {
     "name": "stderr",
     "output_type": "stream",
     "text": [
      "Train: 100%|██████████| 965/965 [00:13<00:00, 70.16batch/s]\n",
      "Valdt: 100%|██████████| 964/964 [00:04<00:00, 234.97batch/s]\n"
     ]
    },
    {
     "name": "stdout",
     "output_type": "stream",
     "text": [
      "Epoch: 161 / 6000, \n",
      " Train -- Loss: 0.15457045264645708, Coeff: 0.235595703125 \n",
      " Val   -- Loss: 0.801602767959074, Coeff: 0.94140625 \n",
      "\n",
      "\n"
     ]
    },
    {
     "name": "stderr",
     "output_type": "stream",
     "text": [
      "Train: 100%|██████████| 965/965 [00:13<00:00, 69.98batch/s]\n",
      "Valdt: 100%|██████████| 964/964 [00:03<00:00, 242.86batch/s]\n"
     ]
    },
    {
     "name": "stdout",
     "output_type": "stream",
     "text": [
      "Epoch: 162 / 6000, \n",
      " Train -- Loss: 0.1549273389107914, Coeff: 0.235595703125 \n",
      " Val   -- Loss: 0.7892067813432996, Coeff: 0.94140625 \n",
      "\n",
      "\n"
     ]
    },
    {
     "name": "stderr",
     "output_type": "stream",
     "text": [
      "Train: 100%|██████████| 965/965 [00:13<00:00, 69.14batch/s]\n",
      "Valdt: 100%|██████████| 964/964 [00:04<00:00, 233.70batch/s]\n"
     ]
    },
    {
     "name": "stdout",
     "output_type": "stream",
     "text": [
      "Epoch: 163 / 6000, \n",
      " Train -- Loss: 0.15462890472026616, Coeff: 0.235595703125 \n",
      " Val   -- Loss: 0.7897562294092404, Coeff: 0.94140625 \n",
      "\n",
      "\n"
     ]
    },
    {
     "name": "stderr",
     "output_type": "stream",
     "text": [
      "Train: 100%|██████████| 965/965 [00:13<00:00, 70.11batch/s]\n",
      "Valdt: 100%|██████████| 964/964 [00:04<00:00, 213.85batch/s]\n"
     ]
    },
    {
     "name": "stdout",
     "output_type": "stream",
     "text": [
      "Epoch: 164 / 6000, \n",
      " Train -- Loss: 0.154478593433974, Coeff: 0.235595703125 \n",
      " Val   -- Loss: 0.7959030464833233, Coeff: 0.94140625 \n",
      "\n",
      "\n"
     ]
    },
    {
     "name": "stderr",
     "output_type": "stream",
     "text": [
      "Train: 100%|██████████| 965/965 [00:14<00:00, 68.88batch/s]\n",
      "Valdt: 100%|██████████| 964/964 [00:04<00:00, 237.38batch/s]\n"
     ]
    },
    {
     "name": "stdout",
     "output_type": "stream",
     "text": [
      "Epoch: 165 / 6000, \n",
      " Train -- Loss: 0.1543972203138948, Coeff: 0.235595703125 \n",
      " Val   -- Loss: 0.8028564934606435, Coeff: 0.94140625 \n",
      "\n",
      "\n"
     ]
    },
    {
     "name": "stderr",
     "output_type": "stream",
     "text": [
      "Train: 100%|██████████| 965/965 [00:14<00:00, 68.41batch/s]\n",
      "Valdt: 100%|██████████| 964/964 [00:03<00:00, 244.99batch/s]\n"
     ]
    },
    {
     "name": "stdout",
     "output_type": "stream",
     "text": [
      "Epoch: 166 / 6000, \n",
      " Train -- Loss: 0.1545568084527166, Coeff: 0.235595703125 \n",
      " Val   -- Loss: 0.7951601929734724, Coeff: 0.94140625 \n",
      "\n",
      "\n"
     ]
    },
    {
     "name": "stderr",
     "output_type": "stream",
     "text": [
      "Train: 100%|██████████| 965/965 [00:13<00:00, 69.54batch/s]\n",
      "Valdt: 100%|██████████| 964/964 [00:04<00:00, 231.24batch/s]\n"
     ]
    },
    {
     "name": "stdout",
     "output_type": "stream",
     "text": [
      "Epoch: 167 / 6000, \n",
      " Train -- Loss: 0.15384332295281639, Coeff: 0.235595703125 \n",
      " Val   -- Loss: 0.7931578020935558, Coeff: 0.94140625 \n",
      "\n",
      "\n"
     ]
    },
    {
     "name": "stderr",
     "output_type": "stream",
     "text": [
      "Train: 100%|██████████| 965/965 [00:14<00:00, 68.17batch/s]\n",
      "Valdt: 100%|██████████| 964/964 [00:04<00:00, 226.03batch/s]\n"
     ]
    },
    {
     "name": "stdout",
     "output_type": "stream",
     "text": [
      "Epoch: 168 / 6000, \n",
      " Train -- Loss: 0.15430805120331606, Coeff: 0.235595703125 \n",
      " Val   -- Loss: 0.7943470253842545, Coeff: 0.94140625 \n",
      "\n",
      "\n"
     ]
    },
    {
     "name": "stderr",
     "output_type": "stream",
     "text": [
      "Train: 100%|██████████| 965/965 [00:13<00:00, 69.18batch/s]\n",
      "Valdt: 100%|██████████| 964/964 [00:04<00:00, 235.77batch/s]\n"
     ]
    },
    {
     "name": "stdout",
     "output_type": "stream",
     "text": [
      "Epoch: 169 / 6000, \n",
      " Train -- Loss: 0.15511011207532338, Coeff: 0.235595703125 \n",
      " Val   -- Loss: 0.8006529080893182, Coeff: 0.94140625 \n",
      "\n",
      "\n"
     ]
    },
    {
     "name": "stderr",
     "output_type": "stream",
     "text": [
      "Train: 100%|██████████| 965/965 [00:13<00:00, 69.07batch/s]\n",
      "Valdt: 100%|██████████| 964/964 [00:04<00:00, 234.68batch/s]\n"
     ]
    },
    {
     "name": "stdout",
     "output_type": "stream",
     "text": [
      "Epoch: 170 / 6000, \n",
      " Train -- Loss: 0.1543200192434841, Coeff: 0.235595703125 \n",
      " Val   -- Loss: 0.7933351991568892, Coeff: 0.94140625 \n",
      "\n",
      "\n"
     ]
    },
    {
     "name": "stderr",
     "output_type": "stream",
     "text": [
      "Train: 100%|██████████| 965/965 [00:14<00:00, 68.54batch/s]\n",
      "Valdt: 100%|██████████| 964/964 [00:04<00:00, 230.21batch/s]\n"
     ]
    },
    {
     "name": "stdout",
     "output_type": "stream",
     "text": [
      "Epoch: 171 / 6000, \n",
      " Train -- Loss: 0.15383112499786175, Coeff: 0.235595703125 \n",
      " Val   -- Loss: 0.7909356863440195, Coeff: 0.94140625 \n",
      "\n",
      "\n"
     ]
    },
    {
     "name": "stderr",
     "output_type": "stream",
     "text": [
      "Train: 100%|██████████| 965/965 [00:13<00:00, 69.71batch/s]\n",
      "Valdt: 100%|██████████| 964/964 [00:04<00:00, 229.13batch/s]\n"
     ]
    },
    {
     "name": "stdout",
     "output_type": "stream",
     "text": [
      "Epoch: 172 / 6000, \n",
      " Train -- Loss: 0.1542540126273096, Coeff: 0.235595703125 \n",
      " Val   -- Loss: 0.7936675741413554, Coeff: 0.94140625 \n",
      "\n",
      "\n"
     ]
    },
    {
     "name": "stderr",
     "output_type": "stream",
     "text": [
      "Train: 100%|██████████| 965/965 [00:13<00:00, 69.02batch/s]\n",
      "Valdt: 100%|██████████| 964/964 [00:04<00:00, 240.27batch/s]\n"
     ]
    },
    {
     "name": "stdout",
     "output_type": "stream",
     "text": [
      "Epoch: 173 / 6000, \n",
      " Train -- Loss: 0.15434743380169047, Coeff: 0.235595703125 \n",
      " Val   -- Loss: 0.7990416383451593, Coeff: 0.94140625 \n",
      "\n",
      "\n"
     ]
    },
    {
     "name": "stderr",
     "output_type": "stream",
     "text": [
      "Train: 100%|██████████| 965/965 [00:14<00:00, 67.89batch/s]\n",
      "Valdt: 100%|██████████| 964/964 [00:04<00:00, 233.05batch/s]\n"
     ]
    },
    {
     "name": "stdout",
     "output_type": "stream",
     "text": [
      "Epoch: 174 / 6000, \n",
      " Train -- Loss: 0.1539203157383599, Coeff: 0.235595703125 \n",
      " Val   -- Loss: 0.7868264330508372, Coeff: 0.94140625 \n",
      "\n",
      "\n"
     ]
    },
    {
     "name": "stderr",
     "output_type": "stream",
     "text": [
      "Train: 100%|██████████| 965/965 [00:14<00:00, 68.49batch/s]\n",
      "Valdt: 100%|██████████| 964/964 [00:04<00:00, 233.82batch/s]\n"
     ]
    },
    {
     "name": "stdout",
     "output_type": "stream",
     "text": [
      "Epoch: 175 / 6000, \n",
      " Train -- Loss: 0.15342134984410066, Coeff: 0.235595703125 \n",
      " Val   -- Loss: 0.7969722821309978, Coeff: 0.94140625 \n",
      "\n",
      "\n"
     ]
    },
    {
     "name": "stderr",
     "output_type": "stream",
     "text": [
      "Train: 100%|██████████| 965/965 [00:14<00:00, 68.83batch/s]\n",
      "Valdt: 100%|██████████| 964/964 [00:04<00:00, 235.98batch/s]\n"
     ]
    },
    {
     "name": "stdout",
     "output_type": "stream",
     "text": [
      "Epoch: 176 / 6000, \n",
      " Train -- Loss: 0.15395465270159184, Coeff: 0.235595703125 \n",
      " Val   -- Loss: 0.7860819058570582, Coeff: 0.94140625 \n",
      "\n",
      "\n"
     ]
    },
    {
     "name": "stderr",
     "output_type": "stream",
     "text": [
      "Train: 100%|██████████| 965/965 [00:14<00:00, 68.65batch/s]\n",
      "Valdt: 100%|██████████| 964/964 [00:04<00:00, 235.77batch/s]\n"
     ]
    },
    {
     "name": "stdout",
     "output_type": "stream",
     "text": [
      "Epoch: 177 / 6000, \n",
      " Train -- Loss: 0.15388658947407954, Coeff: 0.235595703125 \n",
      " Val   -- Loss: 0.8017617251104515, Coeff: 0.94140625 \n",
      "\n",
      "\n"
     ]
    },
    {
     "name": "stderr",
     "output_type": "stream",
     "text": [
      "Train: 100%|██████████| 965/965 [00:13<00:00, 69.29batch/s]\n",
      "Valdt:  86%|████████▌ | 830/964 [00:03<00:00, 245.75batch/s]"
     ]
    }
   ],
   "source": [
    "epochs = 6000\n",
    "best = 1e6\n",
    "PATH = f\"./best_model_{dt_name}.pt\"\n",
    "\n",
    "early_stopper = EarlyStopper(patience=50, path=PATH)\n",
    "                             \n",
    "for epoch in range(epochs):\n",
    "    model.train()\n",
    "    Loss_train = 0 \n",
    "    Loss_val = 0\n",
    "    coeff_train = 0\n",
    "    coeff_val = 0\n",
    "    with tqdm(train_loader, unit=\"batch\") as trainer:\n",
    "        for batch in trainer:\n",
    "            trainer.set_description(\"Train\")\n",
    "            train_feat = batch[:, 0:-1].to(device)\n",
    "            train_labs = batch[:, -1].to(device)\n",
    "            train_pred = model(train_feat).squeeze()\n",
    "            train_loss = torch.nn.functional.mse_loss(train_pred, train_labs)\n",
    "            train_coef = coeff_determination(train_labs, train_labs) \n",
    "\n",
    "            optimizer.zero_grad()\n",
    "            train_loss.backward()\n",
    "            optimizer.step()\n",
    "\n",
    "            Loss_train += train_loss.item()\n",
    "            coeff_train += train_coef\n",
    "\n",
    "        Loss_train /= batch_sz_trn\n",
    "        coeff_train /= batch_sz_trn\n",
    "\n",
    "    model.eval()\n",
    "    with tqdm(val_loader, unit=\"batch\") as validator:\n",
    "        for batch in validator:\n",
    "            validator.set_description(\"Valdt\")\n",
    "            val_feat = batch[:, 0:-1].to(device)\n",
    "            val_labs = batch[:, -1].to(device)\n",
    "            val_pred = model(val_feat).squeeze()\n",
    "            val_loss = torch.nn.functional.mse_loss(val_pred, val_labs)\n",
    "            val_coef = coeff_determination(val_labs, val_labs) \n",
    "\n",
    "            Loss_val += val_loss.item()\n",
    "            coeff_val += val_coef\n",
    "\n",
    "        Loss_val /= batch_sz_val\n",
    "        coeff_val /= batch_sz_val\n",
    "    \n",
    "    if early_stopper.early_stop(model.state_dict(), Loss_val):             \n",
    "        break\n",
    "        \n",
    "    print(f\"Epoch: {epoch} / {epochs}, \\n Train -- Loss: {Loss_train}, Coeff: {coeff_train} \\n Val   -- Loss: {Loss_val}, Coeff: {coeff_val} \\n\\n\")"
   ]
  },
  {
   "cell_type": "code",
   "execution_count": 96,
   "id": "c9e410f9",
   "metadata": {},
   "outputs": [
    {
     "data": {
      "text/plain": [
       "tensor([[ 7.5859e-02,  8.9474e-02,  1.1120e-01,  ..., -1.4088e-01,\n",
       "          1.1492e-02, -1.4192e-01],\n",
       "        [ 5.0957e-02, -1.4225e-01,  4.4418e-02,  ..., -7.9851e-02,\n",
       "         -2.4471e-02, -1.2910e-01],\n",
       "        [-5.0383e-01,  6.4635e-02, -1.8642e+00,  ..., -1.3859e-01,\n",
       "          9.3011e-03, -1.3826e-01],\n",
       "        ...,\n",
       "        [ 1.6272e-01,  3.4007e-02,  3.3194e-02,  ..., -1.4147e-01,\n",
       "          6.9794e-03, -1.4271e-01],\n",
       "        [ 7.4212e-02, -2.8641e-01,  5.5228e-01,  ...,  6.4869e-01,\n",
       "         -2.6304e+00,  8.1414e-01],\n",
       "        [-1.5134e-03,  2.5631e-02,  8.2566e-03,  ..., -1.4155e-01,\n",
       "          6.6353e-03, -1.4279e-01]], dtype=torch.float64)"
      ]
     },
     "execution_count": 96,
     "metadata": {},
     "output_type": "execute_result"
    }
   ],
   "source": [
    "data_iter = iter(train_loader)\n",
    "next(data_iter)[:,0:-1]"
   ]
  },
  {
   "cell_type": "code",
   "execution_count": 97,
   "id": "0391c49f",
   "metadata": {},
   "outputs": [],
   "source": [
    "traced_script_module = torch.jit.trace(model, next(data_iter)[:,0:-1].to(device))\n",
    "traced_script_module.save(f\"traced_model_{dt_name}.pt\")"
   ]
  },
  {
   "cell_type": "code",
   "execution_count": 98,
   "id": "f5414719",
   "metadata": {
    "scrolled": true
   },
   "outputs": [
    {
     "data": {
      "text/plain": [
       "MLPModel(\n",
       "  (block): Sequential(\n",
       "    (0): Linear(in_features=9, out_features=60, bias=True)\n",
       "    (1): ReLU()\n",
       "    (2): Linear(in_features=60, out_features=60, bias=True)\n",
       "    (3): ReLU()\n",
       "    (4): Linear(in_features=60, out_features=60, bias=True)\n",
       "    (5): ReLU()\n",
       "    (6): Linear(in_features=60, out_features=60, bias=True)\n",
       "    (7): ReLU()\n",
       "    (8): Linear(in_features=60, out_features=60, bias=True)\n",
       "    (9): ReLU()\n",
       "    (10): Linear(in_features=60, out_features=1, bias=True)\n",
       "  )\n",
       ")"
      ]
     },
     "execution_count": 98,
     "metadata": {},
     "output_type": "execute_result"
    }
   ],
   "source": [
    "model = MLPModel(input_size=input_size, \n",
    "                 output_size=output_size, \n",
    "                 hidden_layers=hidden_layers, \n",
    "                 neurons_per_layer=neurons_per_layer)\n",
    "\n",
    "model.load_state_dict(torch.load(PATH))\n",
    "model.eval()\n",
    "model.double()"
   ]
  },
  {
   "cell_type": "code",
   "execution_count": 99,
   "id": "80604c18",
   "metadata": {},
   "outputs": [
    {
     "data": {
      "text/plain": [
       "tensor([[ 0.0254],\n",
       "        [-0.0215],\n",
       "        [-0.0215],\n",
       "        ...,\n",
       "        [-0.0215],\n",
       "        [-0.0154],\n",
       "        [-0.0210]], dtype=torch.float64, grad_fn=<AddmmBackward0>)"
      ]
     },
     "execution_count": 99,
     "metadata": {},
     "output_type": "execute_result"
    }
   ],
   "source": [
    "pred = model(torch.from_numpy(test[:,:-1]))\n",
    "pred"
   ]
  },
  {
   "cell_type": "code",
   "execution_count": 100,
   "id": "ebcfa2d4",
   "metadata": {},
   "outputs": [
    {
     "data": {
      "image/png": "[encoded data removed]",
      "text/plain": [
       "<Figure size 640x480 with 1 Axes>"
      ]
     },
     "metadata": {},
     "output_type": "display_data"
    }
   ],
   "source": [
    "plt.scatter(test[:,-1], pred.detach().numpy(), edgecolor='white', color='red')\n",
    "plt.plot([0, 0], [-100, 100], '--', color='#929591')\n",
    "plt.plot([-100, 100], [0, 0], '--', color='#929591')\n",
    "plt.xlim([-100, 100])\n",
    "plt.ylim([-100, 100])\n",
    "plt.xlabel(r'$C_s$')\n",
    "plt.ylabel(r'$\\tilde{C_s}$')\n",
    "plt.savefig(f'../nnTraining/Results/{dt_name}_correlation.png')"
   ]
  },
  {
   "cell_type": "code",
   "execution_count": 101,
   "id": "ae9a5ba1",
   "metadata": {},
   "outputs": [
    {
     "data": {
      "image/png": "[encoded data removed]",
      "text/plain": [
       "<Figure size 640x480 with 1 Axes>"
      ]
     },
     "metadata": {},
     "output_type": "display_data"
    }
   ],
   "source": [
    "plt.hist(test[:,-1], bins=10000, density=True, alpha=0.6, histtype=u'step', color='blue')\n",
    "plt.hist(pred.detach().numpy(), bins=10000, density=True, alpha=0.6, histtype=u'step', color='red')\n",
    "plt.xlim([-0.75, 0.75])\n",
    "plt.xlabel(r'$C_s$')\n",
    "plt.legend(['Ground Truth', 'MLP'])\n",
    "plt.savefig(f'../nnTraining/Results/{dt_name}_density.png')"
   ]
  },
  {
   "cell_type": "code",
   "execution_count": null,
   "id": "dcf0872c",
   "metadata": {},
   "outputs": [],
   "source": []
  }
 ],
 "metadata": {
  "kernelspec": {
   "display_name": "Python 3 (ipykernel)",
   "language": "python",
   "name": "python3"
  },
  "language_info": {
   "codemirror_mode": {
    "name": "ipython",
    "version": 3
   },
   "file_extension": ".py",
   "mimetype": "text/x-python",
   "name": "python",
   "nbconvert_exporter": "python",
   "pygments_lexer": "ipython3",
   "version": "3.8.10"
  }
 },
 "nbformat": 4,
 "nbformat_minor": 5
}
