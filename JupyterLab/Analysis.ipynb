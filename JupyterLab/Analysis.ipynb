{
 "cells": [
  {
   "cell_type": "code",
   "execution_count": 1,
   "id": "6d783e00",
   "metadata": {},
   "outputs": [],
   "source": [
    "import numpy as np\n",
    "import pandas as pd\n",
    "import matplotlib.pyplot as plt\n",
    "import seaborn as sns\n",
    "import torch\n",
    "import torch.nn as nn\n",
    "from torch.optim.lr_scheduler import StepLR\n",
    "from tqdm import tqdm\n",
    "import sys\n",
    "\n",
    "sys_epsilon = sys.float_info.epsilon"
   ]
  },
  {
   "cell_type": "code",
   "execution_count": 2,
   "id": "01b9b73f",
   "metadata": {},
   "outputs": [],
   "source": [
    "headers = [\"t\", \"Ux\", \"Uy\", \"Uz\", \n",
    "           \"G1\", \"G2\", \"G3\", \"G4\", \"G5\", \"G6\", \n",
    "           \"S1\", \"S2\", \"S3\", \"S4\", \"S5\", \"S6\", \n",
    "           \"UUp1\", \"UUp2\", \"UUp3\", \"UUp4\", \"UUp5\", \"UUp6\", \n",
    "           \"Cs\"]\n",
    "\n",
    "R103 = pd.read_csv('./datasets/fieldData_R103_norm.txt', sep=' ', names=headers)\n",
    "R503 = pd.read_csv('./datasets/fieldData_R503_norm.txt', sep=' ', names=headers)\n",
    "R104 = pd.read_csv('./datasets/fieldData_R104_norm.txt', sep=' ', names=headers)"
   ]
  },
  {
   "cell_type": "code",
   "execution_count": 3,
   "id": "5ab61fbf",
   "metadata": {},
   "outputs": [
    {
     "data": {
      "text/html": [
       "<div>\n",
       "<style scoped>\n",
       "    .dataframe tbody tr th:only-of-type {\n",
       "        vertical-align: middle;\n",
       "    }\n",
       "\n",
       "    .dataframe tbody tr th {\n",
       "        vertical-align: top;\n",
       "    }\n",
       "\n",
       "    .dataframe thead th {\n",
       "        text-align: right;\n",
       "    }\n",
       "</style>\n",
       "<table border=\"1\" class=\"dataframe\">\n",
       "  <thead>\n",
       "    <tr style=\"text-align: right;\">\n",
       "      <th></th>\n",
       "      <th>t</th>\n",
       "      <th>Ux</th>\n",
       "      <th>Uy</th>\n",
       "      <th>Uz</th>\n",
       "      <th>G1</th>\n",
       "      <th>G2</th>\n",
       "      <th>G3</th>\n",
       "      <th>G4</th>\n",
       "      <th>G5</th>\n",
       "      <th>G6</th>\n",
       "      <th>...</th>\n",
       "      <th>S4</th>\n",
       "      <th>S5</th>\n",
       "      <th>S6</th>\n",
       "      <th>UUp1</th>\n",
       "      <th>UUp2</th>\n",
       "      <th>UUp3</th>\n",
       "      <th>UUp4</th>\n",
       "      <th>UUp5</th>\n",
       "      <th>UUp6</th>\n",
       "      <th>Cs</th>\n",
       "    </tr>\n",
       "  </thead>\n",
       "  <tbody>\n",
       "    <tr>\n",
       "      <th>0</th>\n",
       "      <td>-1.027122</td>\n",
       "      <td>-0.000607</td>\n",
       "      <td>-0.001033</td>\n",
       "      <td>0.001586</td>\n",
       "      <td>0.003769</td>\n",
       "      <td>-0.000243</td>\n",
       "      <td>-0.000310</td>\n",
       "      <td>0.001519</td>\n",
       "      <td>-0.004942</td>\n",
       "      <td>-0.002082</td>\n",
       "      <td>...</td>\n",
       "      <td>-0.004942</td>\n",
       "      <td>0.000056</td>\n",
       "      <td>-0.001784</td>\n",
       "      <td>-0.134213</td>\n",
       "      <td>-0.010852</td>\n",
       "      <td>0.009912</td>\n",
       "      <td>-0.153644</td>\n",
       "      <td>-0.045258</td>\n",
       "      <td>-0.150407</td>\n",
       "      <td>-0.232084</td>\n",
       "    </tr>\n",
       "    <tr>\n",
       "      <th>1</th>\n",
       "      <td>-1.027122</td>\n",
       "      <td>0.048423</td>\n",
       "      <td>-0.002944</td>\n",
       "      <td>-0.000262</td>\n",
       "      <td>0.021788</td>\n",
       "      <td>-0.000289</td>\n",
       "      <td>-0.000408</td>\n",
       "      <td>0.001519</td>\n",
       "      <td>-0.017760</td>\n",
       "      <td>-0.002090</td>\n",
       "      <td>...</td>\n",
       "      <td>-0.017760</td>\n",
       "      <td>0.000042</td>\n",
       "      <td>-0.015981</td>\n",
       "      <td>-0.134199</td>\n",
       "      <td>-0.010853</td>\n",
       "      <td>0.009911</td>\n",
       "      <td>-0.153644</td>\n",
       "      <td>-0.045258</td>\n",
       "      <td>-0.150407</td>\n",
       "      <td>-0.191414</td>\n",
       "    </tr>\n",
       "    <tr>\n",
       "      <th>2</th>\n",
       "      <td>-1.027122</td>\n",
       "      <td>0.146858</td>\n",
       "      <td>-0.000820</td>\n",
       "      <td>0.001179</td>\n",
       "      <td>0.005336</td>\n",
       "      <td>0.000219</td>\n",
       "      <td>0.000182</td>\n",
       "      <td>0.001882</td>\n",
       "      <td>-0.003509</td>\n",
       "      <td>-0.002079</td>\n",
       "      <td>...</td>\n",
       "      <td>-0.003509</td>\n",
       "      <td>0.000060</td>\n",
       "      <td>-0.004908</td>\n",
       "      <td>-0.133998</td>\n",
       "      <td>-0.010854</td>\n",
       "      <td>0.009910</td>\n",
       "      <td>-0.153644</td>\n",
       "      <td>-0.045258</td>\n",
       "      <td>-0.150406</td>\n",
       "      <td>0.044781</td>\n",
       "    </tr>\n",
       "    <tr>\n",
       "      <th>3</th>\n",
       "      <td>-1.027122</td>\n",
       "      <td>0.095208</td>\n",
       "      <td>-0.000137</td>\n",
       "      <td>0.002144</td>\n",
       "      <td>-0.003282</td>\n",
       "      <td>-0.000302</td>\n",
       "      <td>-0.000333</td>\n",
       "      <td>0.001519</td>\n",
       "      <td>0.001063</td>\n",
       "      <td>-0.002076</td>\n",
       "      <td>...</td>\n",
       "      <td>0.001063</td>\n",
       "      <td>0.000066</td>\n",
       "      <td>0.002495</td>\n",
       "      <td>-0.133893</td>\n",
       "      <td>-0.010854</td>\n",
       "      <td>0.009910</td>\n",
       "      <td>-0.153644</td>\n",
       "      <td>-0.045258</td>\n",
       "      <td>-0.150406</td>\n",
       "      <td>0.088803</td>\n",
       "    </tr>\n",
       "    <tr>\n",
       "      <th>4</th>\n",
       "      <td>-1.027122</td>\n",
       "      <td>0.078927</td>\n",
       "      <td>-0.000084</td>\n",
       "      <td>0.001453</td>\n",
       "      <td>-0.000148</td>\n",
       "      <td>-0.000061</td>\n",
       "      <td>-0.000199</td>\n",
       "      <td>0.001519</td>\n",
       "      <td>0.001425</td>\n",
       "      <td>-0.002077</td>\n",
       "      <td>...</td>\n",
       "      <td>0.001425</td>\n",
       "      <td>0.000064</td>\n",
       "      <td>-0.002813</td>\n",
       "      <td>-0.133738</td>\n",
       "      <td>-0.010855</td>\n",
       "      <td>0.009909</td>\n",
       "      <td>-0.153644</td>\n",
       "      <td>-0.045258</td>\n",
       "      <td>-0.150406</td>\n",
       "      <td>-0.099000</td>\n",
       "    </tr>\n",
       "  </tbody>\n",
       "</table>\n",
       "<p>5 rows × 23 columns</p>\n",
       "</div>"
      ],
      "text/plain": [
       "          t        Ux        Uy        Uz        G1        G2        G3  \\\n",
       "0 -1.027122 -0.000607 -0.001033  0.001586  0.003769 -0.000243 -0.000310   \n",
       "1 -1.027122  0.048423 -0.002944 -0.000262  0.021788 -0.000289 -0.000408   \n",
       "2 -1.027122  0.146858 -0.000820  0.001179  0.005336  0.000219  0.000182   \n",
       "3 -1.027122  0.095208 -0.000137  0.002144 -0.003282 -0.000302 -0.000333   \n",
       "4 -1.027122  0.078927 -0.000084  0.001453 -0.000148 -0.000061 -0.000199   \n",
       "\n",
       "         G4        G5        G6  ...        S4        S5        S6      UUp1  \\\n",
       "0  0.001519 -0.004942 -0.002082  ... -0.004942  0.000056 -0.001784 -0.134213   \n",
       "1  0.001519 -0.017760 -0.002090  ... -0.017760  0.000042 -0.015981 -0.134199   \n",
       "2  0.001882 -0.003509 -0.002079  ... -0.003509  0.000060 -0.004908 -0.133998   \n",
       "3  0.001519  0.001063 -0.002076  ...  0.001063  0.000066  0.002495 -0.133893   \n",
       "4  0.001519  0.001425 -0.002077  ...  0.001425  0.000064 -0.002813 -0.133738   \n",
       "\n",
       "       UUp2      UUp3      UUp4      UUp5      UUp6        Cs  \n",
       "0 -0.010852  0.009912 -0.153644 -0.045258 -0.150407 -0.232084  \n",
       "1 -0.010853  0.009911 -0.153644 -0.045258 -0.150407 -0.191414  \n",
       "2 -0.010854  0.009910 -0.153644 -0.045258 -0.150406  0.044781  \n",
       "3 -0.010854  0.009910 -0.153644 -0.045258 -0.150406  0.088803  \n",
       "4 -0.010855  0.009909 -0.153644 -0.045258 -0.150406 -0.099000  \n",
       "\n",
       "[5 rows x 23 columns]"
      ]
     },
     "execution_count": 3,
     "metadata": {},
     "output_type": "execute_result"
    }
   ],
   "source": [
    "R103.head()"
   ]
  },
  {
   "cell_type": "code",
   "execution_count": 4,
   "id": "c5190ce9",
   "metadata": {},
   "outputs": [
    {
     "data": {
      "text/plain": [
       "(26697608, 23)"
      ]
     },
     "execution_count": 4,
     "metadata": {},
     "output_type": "execute_result"
    }
   ],
   "source": [
    "frames = [R103, R503, R104]\n",
    "df = pd.concat(frames)\n",
    "df.shape"
   ]
  },
  {
   "cell_type": "code",
   "execution_count": 5,
   "id": "00708509",
   "metadata": {},
   "outputs": [],
   "source": [
    "M1_headers = ['Ux', 'Uy', 'Uz', 'S1',  'S2', 'S3', 'S4', 'S5', 'S6', 'Cs']\n",
    "M2_headers = ['G1', 'G2', 'G3', 'G4', 'G5', 'G6', 'S1',  'S2', 'S3', 'S4', 'S5', 'S6', 'Cs']\n",
    "M3_headers = ['Ux', 'Uy', 'Uz', 'UUp1',  'UUp2', 'UUp3', 'UUp4', 'UUp5', 'UUp6', 'Cs']\n",
    "M4_headers = ['G1', 'G2', 'G3', 'G4', 'G5', 'G6', 'UUp1',  'UUp2', 'UUp3', 'UUp4', 'UUp5', 'UUp6', 'Cs']\n",
    "\n",
    "M1_103 = R103.filter(M1_headers, axis=1)\n",
    "M2_103 = R103.filter(M2_headers, axis=1)\n",
    "M3_103 = R103.filter(M3_headers, axis=1)\n",
    "M4_103 = R103.filter(M4_headers, axis=1)\n",
    "\n",
    "M1_503 = R503.filter(M1_headers, axis=1)\n",
    "M2_503 = R503.filter(M2_headers, axis=1)\n",
    "M3_503 = R503.filter(M3_headers, axis=1)\n",
    "M4_503 = R503.filter(M4_headers, axis=1)\n",
    "\n",
    "M1_104 = R104.filter(M1_headers, axis=1)\n",
    "M2_104 = R104.filter(M2_headers, axis=1)\n",
    "M3_104 = R104.filter(M3_headers, axis=1)\n",
    "M4_104 = R104.filter(M4_headers, axis=1)\n",
    "\n",
    "M1 = df.filter(M1_headers, axis=1)\n",
    "M2 = df.filter(M2_headers, axis=1)\n",
    "M3 = df.filter(M3_headers, axis=1)\n",
    "M4 = df.filter(M4_headers, axis=1)"
   ]
  },
  {
   "cell_type": "code",
   "execution_count": 6,
   "id": "1f89e529",
   "metadata": {},
   "outputs": [
    {
     "data": {
      "text/plain": [
       "((26697608, 10), (26697608, 13))"
      ]
     },
     "execution_count": 6,
     "metadata": {},
     "output_type": "execute_result"
    }
   ],
   "source": [
    "M1.shape, M2.shape"
   ]
  },
  {
   "cell_type": "code",
   "execution_count": 8,
   "id": "f891aa76",
   "metadata": {},
   "outputs": [],
   "source": [
    "def namestr(obj, namespace):\n",
    "    return [name for name in namespace if namespace[name] is obj]"
   ]
  },
  {
   "cell_type": "code",
   "execution_count": 125,
   "id": "5816028b",
   "metadata": {},
   "outputs": [],
   "source": [
    "dt = M1_104\n",
    "dt_name = namestr(M1_104, globals())[0]\n",
    "output_size = 1\n",
    "input_size = dt.shape[1] - output_size \n",
    "neurons_per_layer = [60, 60, 60, 60, 60] #[120, 60, 30, 20, 10, 10, 20, 30, 60]\n",
    "hidden_layers = len(neurons_per_layer)   \n",
    "#latent_size = 20  "
   ]
  },
  {
   "cell_type": "code",
   "execution_count": 126,
   "id": "9321b395",
   "metadata": {},
   "outputs": [
    {
     "data": {
      "text/html": [
       "<div>\n",
       "<style scoped>\n",
       "    .dataframe tbody tr th:only-of-type {\n",
       "        vertical-align: middle;\n",
       "    }\n",
       "\n",
       "    .dataframe tbody tr th {\n",
       "        vertical-align: top;\n",
       "    }\n",
       "\n",
       "    .dataframe thead th {\n",
       "        text-align: right;\n",
       "    }\n",
       "</style>\n",
       "<table border=\"1\" class=\"dataframe\">\n",
       "  <thead>\n",
       "    <tr style=\"text-align: right;\">\n",
       "      <th></th>\n",
       "      <th>Ux</th>\n",
       "      <th>Uy</th>\n",
       "      <th>Uz</th>\n",
       "      <th>S1</th>\n",
       "      <th>S2</th>\n",
       "      <th>S3</th>\n",
       "      <th>S4</th>\n",
       "      <th>S5</th>\n",
       "      <th>S6</th>\n",
       "      <th>Cs</th>\n",
       "    </tr>\n",
       "  </thead>\n",
       "  <tbody>\n",
       "    <tr>\n",
       "      <th>0</th>\n",
       "      <td>-0.001173</td>\n",
       "      <td>-0.000731</td>\n",
       "      <td>0.000361</td>\n",
       "      <td>-0.000859</td>\n",
       "      <td>0.000819</td>\n",
       "      <td>-0.000810</td>\n",
       "      <td>-0.001709</td>\n",
       "      <td>0.001019</td>\n",
       "      <td>0.001444</td>\n",
       "      <td>-1.929617</td>\n",
       "    </tr>\n",
       "    <tr>\n",
       "      <th>1</th>\n",
       "      <td>0.014881</td>\n",
       "      <td>-0.001335</td>\n",
       "      <td>-0.000416</td>\n",
       "      <td>0.007403</td>\n",
       "      <td>0.000857</td>\n",
       "      <td>-0.000455</td>\n",
       "      <td>-0.004601</td>\n",
       "      <td>0.001303</td>\n",
       "      <td>-0.002616</td>\n",
       "      <td>-0.183021</td>\n",
       "    </tr>\n",
       "    <tr>\n",
       "      <th>2</th>\n",
       "      <td>0.073479</td>\n",
       "      <td>-0.001803</td>\n",
       "      <td>-0.001557</td>\n",
       "      <td>0.015995</td>\n",
       "      <td>0.000920</td>\n",
       "      <td>-0.000355</td>\n",
       "      <td>-0.008244</td>\n",
       "      <td>-0.000530</td>\n",
       "      <td>-0.010018</td>\n",
       "      <td>-0.124142</td>\n",
       "    </tr>\n",
       "    <tr>\n",
       "      <th>3</th>\n",
       "      <td>0.144117</td>\n",
       "      <td>-0.000242</td>\n",
       "      <td>-0.000506</td>\n",
       "      <td>0.011368</td>\n",
       "      <td>0.000995</td>\n",
       "      <td>-0.000283</td>\n",
       "      <td>-0.001409</td>\n",
       "      <td>-0.002066</td>\n",
       "      <td>-0.005366</td>\n",
       "      <td>-0.258416</td>\n",
       "    </tr>\n",
       "    <tr>\n",
       "      <th>4</th>\n",
       "      <td>0.145522</td>\n",
       "      <td>0.000837</td>\n",
       "      <td>0.001413</td>\n",
       "      <td>-0.009122</td>\n",
       "      <td>-0.000244</td>\n",
       "      <td>-0.001325</td>\n",
       "      <td>0.004366</td>\n",
       "      <td>-0.002363</td>\n",
       "      <td>0.004082</td>\n",
       "      <td>0.106165</td>\n",
       "    </tr>\n",
       "  </tbody>\n",
       "</table>\n",
       "</div>"
      ],
      "text/plain": [
       "         Ux        Uy        Uz        S1        S2        S3        S4  \\\n",
       "0 -0.001173 -0.000731  0.000361 -0.000859  0.000819 -0.000810 -0.001709   \n",
       "1  0.014881 -0.001335 -0.000416  0.007403  0.000857 -0.000455 -0.004601   \n",
       "2  0.073479 -0.001803 -0.001557  0.015995  0.000920 -0.000355 -0.008244   \n",
       "3  0.144117 -0.000242 -0.000506  0.011368  0.000995 -0.000283 -0.001409   \n",
       "4  0.145522  0.000837  0.001413 -0.009122 -0.000244 -0.001325  0.004366   \n",
       "\n",
       "         S5        S6        Cs  \n",
       "0  0.001019  0.001444 -1.929617  \n",
       "1  0.001303 -0.002616 -0.183021  \n",
       "2 -0.000530 -0.010018 -0.124142  \n",
       "3 -0.002066 -0.005366 -0.258416  \n",
       "4 -0.002363  0.004082  0.106165  "
      ]
     },
     "execution_count": 126,
     "metadata": {},
     "output_type": "execute_result"
    }
   ],
   "source": [
    "dt.head()"
   ]
  },
  {
   "cell_type": "code",
   "execution_count": 127,
   "id": "fe61abc0",
   "metadata": {},
   "outputs": [],
   "source": [
    "#dt.to_csv(f'./{dt_name}.txt', sep=' ', index=False, encoding='utf-8', header=False)"
   ]
  },
  {
   "cell_type": "code",
   "execution_count": 128,
   "id": "fa94eef3",
   "metadata": {},
   "outputs": [],
   "source": [
    "mask = np.random.rand(len(dt)) < 0.8\n",
    "train_val = dt[mask]\n",
    "test = dt[~mask].to_numpy()\n",
    "\n",
    "mask = np.random.rand(len(train_val)) < 0.8\n",
    "train = train_val[mask].to_numpy()\n",
    "val = train_val[~mask].to_numpy()"
   ]
  },
  {
   "cell_type": "code",
   "execution_count": 129,
   "id": "8f5586cc",
   "metadata": {},
   "outputs": [
    {
     "data": {
      "text/plain": [
       "((17552029, 10), 11232182, 2809090, 3510757)"
      ]
     },
     "execution_count": 129,
     "metadata": {},
     "output_type": "execute_result"
    }
   ],
   "source": [
    "dt.shape, train.shape[0], val.shape[0], test.shape[0]"
   ]
  },
  {
   "cell_type": "code",
   "execution_count": 130,
   "id": "d15cbee6",
   "metadata": {},
   "outputs": [],
   "source": [
    "batch_sz_trn = 4096\n",
    "batch_sz_val = int(batch_sz_trn / 4)\n",
    "batch_sz_tst = int(batch_sz_trn / 4)\n",
    "\n",
    "train_loader = torch.utils.data.DataLoader(dataset=train, batch_size=batch_sz_trn, shuffle=True)\n",
    "val_loader = torch.utils.data.DataLoader(dataset=val, batch_size=batch_sz_val, shuffle=True)\n",
    "test_loader = torch.utils.data.DataLoader(dataset=test, batch_size=batch_sz_tst, shuffle=True)"
   ]
  },
  {
   "cell_type": "code",
   "execution_count": 131,
   "id": "364d96fe",
   "metadata": {},
   "outputs": [
    {
     "data": {
      "text/plain": [
       "tensor([ 0.0215, -0.0596, -0.0436,  0.0107, -0.0060, -0.0044, -0.0152, -0.0029,\n",
       "         0.0047,  0.0132], dtype=torch.float64)"
      ]
     },
     "execution_count": 131,
     "metadata": {},
     "output_type": "execute_result"
    }
   ],
   "source": [
    "data_iter = iter(train_loader)\n",
    "next(data_iter)[0]"
   ]
  },
  {
   "cell_type": "code",
   "execution_count": 132,
   "id": "854d19d5",
   "metadata": {},
   "outputs": [],
   "source": [
    "def coeff_determination(y_true, y_pred):\n",
    "    SS_res = torch.sum(torch.square( y_true - y_pred ))\n",
    "    SS_tot = torch.sum(torch.square( y_true - torch.mean(y_true) ) )\n",
    "    return ( 1 - SS_res/(SS_tot + sys_epsilon) )"
   ]
  },
  {
   "cell_type": "code",
   "execution_count": 133,
   "id": "a7b91edd",
   "metadata": {},
   "outputs": [],
   "source": [
    "class MLPModel(nn.Module):\n",
    "    def __init__(self, input_size, output_size, hidden_layers, neurons_per_layer):\n",
    "        super(MLPModel, self).__init__()\n",
    "\n",
    "        layers = []\n",
    "        layers.append(nn.Linear(input_size, neurons_per_layer[0]))\n",
    "        layers.append(nn.ReLU())\n",
    "\n",
    "        for i in range(1, hidden_layers):\n",
    "            layers.append(nn.Linear(neurons_per_layer[i - 1], neurons_per_layer[i]))\n",
    "            layers.append(nn.ReLU())\n",
    "\n",
    "        layers.append(nn.Linear(neurons_per_layer[-1], output_size))\n",
    "\n",
    "        self.block = nn.Sequential(*layers)\n",
    "\n",
    "    def forward(self, x):\n",
    "        x = self.block(x)\n",
    "        return x\n"
   ]
  },
  {
   "cell_type": "code",
   "execution_count": 134,
   "id": "16b59a5a",
   "metadata": {},
   "outputs": [],
   "source": [
    "class Autoencoder(nn.Module):\n",
    "    def __init__(self, input_size, latent_size, hidden_layers, neurons_per_layer):\n",
    "        super(Autoencoder, self).__init__()\n",
    "\n",
    "        # Encoder layers\n",
    "        encoder_layers = []\n",
    "        encoder_layers.append(nn.Linear(input_size, neurons_per_layer[0]))\n",
    "        encoder_layers.append(nn.ReLU())\n",
    "\n",
    "        for i in range(1, hidden_layers):\n",
    "            encoder_layers.append(nn.Linear(neurons_per_layer[i - 1], neurons_per_layer[i]))\n",
    "            encoder_layers.append(nn.ReLU())\n",
    "\n",
    "        encoder_layers.append(nn.Linear(neurons_per_layer[-1], latent_size))\n",
    "        self.encoder = nn.Sequential(*encoder_layers)\n",
    "\n",
    "        # Decoder layers\n",
    "        decoder_layers = []\n",
    "        decoder_layers.append(nn.Linear(latent_size, neurons_per_layer[-1]))\n",
    "        decoder_layers.append(nn.ReLU())\n",
    "\n",
    "        for i in range(hidden_layers - 1, 0, -1):\n",
    "            decoder_layers.append(nn.Linear(neurons_per_layer[i], neurons_per_layer[i - 1]))\n",
    "            decoder_layers.append(nn.ReLU())\n",
    "\n",
    "        decoder_layers.append(nn.Linear(neurons_per_layer[0], 1))\n",
    "        self.decoder = nn.Sequential(*decoder_layers)\n",
    "\n",
    "    def forward(self, x):\n",
    "        # Encode input\n",
    "        encoded = self.encoder(x)\n",
    "\n",
    "        # Decode\n",
    "        decoded = self.decoder(encoded)\n",
    "\n",
    "        return decoded\n"
   ]
  },
  {
   "cell_type": "code",
   "execution_count": 135,
   "id": "85bbb899",
   "metadata": {},
   "outputs": [],
   "source": [
    "model = MLPModel(input_size=input_size, \n",
    "                 output_size=output_size, \n",
    "                 hidden_layers=hidden_layers, \n",
    "                 neurons_per_layer=neurons_per_layer)"
   ]
  },
  {
   "cell_type": "code",
   "execution_count": 136,
   "id": "564817d0",
   "metadata": {},
   "outputs": [],
   "source": [
    "#model = Autoencoder(input_size, latent_size, hidden_layers, neurons_per_layer)"
   ]
  },
  {
   "cell_type": "code",
   "execution_count": 137,
   "id": "19be546f",
   "metadata": {},
   "outputs": [],
   "source": [
    "optimizer = torch.optim.Adam(model.parameters(), lr=0.001)\n",
    "scheduler = StepLR(optimizer, step_size=3, gamma=0.2)"
   ]
  },
  {
   "cell_type": "code",
   "execution_count": 138,
   "id": "184f47c5",
   "metadata": {},
   "outputs": [],
   "source": [
    "#criterion = nn.MSELoss()  # Mean Squared Error loss for reconstruction\n",
    "#optimizer = torch.optim.Adam(model.parameters(), lr=0.001)"
   ]
  },
  {
   "cell_type": "code",
   "execution_count": 139,
   "id": "a6152899",
   "metadata": {},
   "outputs": [
    {
     "data": {
      "text/plain": [
       "MLPModel(\n",
       "  (block): Sequential(\n",
       "    (0): Linear(in_features=9, out_features=60, bias=True)\n",
       "    (1): ReLU()\n",
       "    (2): Linear(in_features=60, out_features=60, bias=True)\n",
       "    (3): ReLU()\n",
       "    (4): Linear(in_features=60, out_features=60, bias=True)\n",
       "    (5): ReLU()\n",
       "    (6): Linear(in_features=60, out_features=60, bias=True)\n",
       "    (7): ReLU()\n",
       "    (8): Linear(in_features=60, out_features=60, bias=True)\n",
       "    (9): ReLU()\n",
       "    (10): Linear(in_features=60, out_features=1, bias=True)\n",
       "  )\n",
       ")"
      ]
     },
     "execution_count": 139,
     "metadata": {},
     "output_type": "execute_result"
    }
   ],
   "source": [
    "device = torch.device(\"cuda\")\n",
    "model.to(device)\n",
    "model.double()"
   ]
  },
  {
   "cell_type": "code",
   "execution_count": 140,
   "id": "1173ec45",
   "metadata": {},
   "outputs": [],
   "source": [
    "class EarlyStopper:\n",
    "    def __init__(self, patience=1, path=None):\n",
    "        self.patience = patience\n",
    "        self.path = path\n",
    "        self.counter = 0\n",
    "        self.min_val_loss = float('inf')\n",
    "\n",
    "    def early_stop(self, model_stat, val_loss):\n",
    "        if val_loss < self.min_val_loss:\n",
    "            torch.save(model_stat, self.path)\n",
    "            self.min_val_loss = val_loss\n",
    "            self.counter = 0\n",
    "        elif val_loss > (self.min_val_loss + sys_epsilon):\n",
    "            self.counter += 1\n",
    "            if self.counter >= self.patience:\n",
    "                print('+++ Early Stopping is reached! +++')\n",
    "                return True\n",
    "        return False"
   ]
  },
  {
   "cell_type": "code",
   "execution_count": null,
   "id": "82eab4ef",
   "metadata": {
    "scrolled": true
   },
   "outputs": [
    {
     "name": "stderr",
     "output_type": "stream",
     "text": [
      "Train: 100%|██████████| 2743/2743 [00:41<00:00, 65.40batch/s]\n",
      "Valdt: 100%|██████████| 2744/2744 [00:11<00:00, 230.23batch/s]\n"
     ]
    },
    {
     "name": "stdout",
     "output_type": "stream",
     "text": [
      "Epoch: 0 / 6000, \n",
      " Train -- Loss: 0.5884371118407569, Coeff: 0.669677734375 \n",
      " Val   -- Loss: 2.2834882203564333, Coeff: 2.6796875 \n",
      "\n",
      "\n"
     ]
    },
    {
     "name": "stderr",
     "output_type": "stream",
     "text": [
      "Train: 100%|██████████| 2743/2743 [00:41<00:00, 65.55batch/s]\n",
      "Valdt: 100%|██████████| 2744/2744 [00:12<00:00, 228.35batch/s]\n"
     ]
    },
    {
     "name": "stdout",
     "output_type": "stream",
     "text": [
      "Epoch: 1 / 6000, \n",
      " Train -- Loss: 0.5592006475739323, Coeff: 0.669677734375 \n",
      " Val   -- Loss: 2.2130041130420706, Coeff: 2.6796875 \n",
      "\n",
      "\n"
     ]
    },
    {
     "name": "stderr",
     "output_type": "stream",
     "text": [
      "Train: 100%|██████████| 2743/2743 [00:41<00:00, 65.98batch/s]\n",
      "Valdt: 100%|██████████| 2744/2744 [00:11<00:00, 236.34batch/s]\n"
     ]
    },
    {
     "name": "stdout",
     "output_type": "stream",
     "text": [
      "Epoch: 2 / 6000, \n",
      " Train -- Loss: 0.5439459267282887, Coeff: 0.669677734375 \n",
      " Val   -- Loss: 2.178012155843449, Coeff: 2.6796875 \n",
      "\n",
      "\n"
     ]
    },
    {
     "name": "stderr",
     "output_type": "stream",
     "text": [
      "Train: 100%|██████████| 2743/2743 [00:41<00:00, 66.09batch/s]\n",
      "Valdt: 100%|██████████| 2744/2744 [00:12<00:00, 226.96batch/s]\n"
     ]
    },
    {
     "name": "stdout",
     "output_type": "stream",
     "text": [
      "Epoch: 3 / 6000, \n",
      " Train -- Loss: 0.5321203340485706, Coeff: 0.669677734375 \n",
      " Val   -- Loss: 2.1317774424721647, Coeff: 2.6796875 \n",
      "\n",
      "\n"
     ]
    },
    {
     "name": "stderr",
     "output_type": "stream",
     "text": [
      "Train: 100%|██████████| 2743/2743 [00:41<00:00, 65.49batch/s]\n",
      "Valdt: 100%|██████████| 2744/2744 [00:12<00:00, 227.24batch/s]\n"
     ]
    },
    {
     "name": "stdout",
     "output_type": "stream",
     "text": [
      "Epoch: 4 / 6000, \n",
      " Train -- Loss: 0.5209815212768225, Coeff: 0.669677734375 \n",
      " Val   -- Loss: 2.080254981249352, Coeff: 2.6796875 \n",
      "\n",
      "\n"
     ]
    },
    {
     "name": "stderr",
     "output_type": "stream",
     "text": [
      "Train: 100%|██████████| 2743/2743 [00:41<00:00, 65.99batch/s]\n",
      "Valdt: 100%|██████████| 2744/2744 [00:11<00:00, 234.90batch/s]\n"
     ]
    },
    {
     "name": "stdout",
     "output_type": "stream",
     "text": [
      "Epoch: 5 / 6000, \n",
      " Train -- Loss: 0.5093753791247237, Coeff: 0.669677734375 \n",
      " Val   -- Loss: 2.0439745088384473, Coeff: 2.6796875 \n",
      "\n",
      "\n"
     ]
    },
    {
     "name": "stderr",
     "output_type": "stream",
     "text": [
      "Train: 100%|██████████| 2743/2743 [00:41<00:00, 65.33batch/s]\n",
      "Valdt: 100%|██████████| 2744/2744 [00:11<00:00, 231.50batch/s]\n"
     ]
    },
    {
     "name": "stdout",
     "output_type": "stream",
     "text": [
      "Epoch: 6 / 6000, \n",
      " Train -- Loss: 0.5020647877748575, Coeff: 0.669677734375 \n",
      " Val   -- Loss: 2.023868609133873, Coeff: 2.6796875 \n",
      "\n",
      "\n"
     ]
    },
    {
     "name": "stderr",
     "output_type": "stream",
     "text": [
      "Train: 100%|██████████| 2743/2743 [00:41<00:00, 65.77batch/s]\n",
      "Valdt: 100%|██████████| 2744/2744 [00:11<00:00, 231.64batch/s]\n"
     ]
    },
    {
     "name": "stdout",
     "output_type": "stream",
     "text": [
      "Epoch: 7 / 6000, \n",
      " Train -- Loss: 0.4966791435875693, Coeff: 0.669677734375 \n",
      " Val   -- Loss: 2.035607810094873, Coeff: 2.6796875 \n",
      "\n",
      "\n"
     ]
    },
    {
     "name": "stderr",
     "output_type": "stream",
     "text": [
      "Train: 100%|██████████| 2743/2743 [00:41<00:00, 65.45batch/s]\n",
      "Valdt: 100%|██████████| 2744/2744 [00:12<00:00, 227.57batch/s]\n"
     ]
    },
    {
     "name": "stdout",
     "output_type": "stream",
     "text": [
      "Epoch: 8 / 6000, \n",
      " Train -- Loss: 0.49087362825916486, Coeff: 0.669677734375 \n",
      " Val   -- Loss: 2.022157244923745, Coeff: 2.6796875 \n",
      "\n",
      "\n"
     ]
    },
    {
     "name": "stderr",
     "output_type": "stream",
     "text": [
      "Train: 100%|██████████| 2743/2743 [00:41<00:00, 66.37batch/s]\n",
      "Valdt: 100%|██████████| 2744/2744 [00:11<00:00, 236.10batch/s]\n"
     ]
    },
    {
     "name": "stdout",
     "output_type": "stream",
     "text": [
      "Epoch: 9 / 6000, \n",
      " Train -- Loss: 0.48816891216347574, Coeff: 0.669677734375 \n",
      " Val   -- Loss: 1.9900439833264634, Coeff: 2.6796875 \n",
      "\n",
      "\n"
     ]
    },
    {
     "name": "stderr",
     "output_type": "stream",
     "text": [
      "Train: 100%|██████████| 2743/2743 [00:42<00:00, 65.27batch/s]\n",
      "Valdt: 100%|██████████| 2744/2744 [00:12<00:00, 228.20batch/s]\n"
     ]
    },
    {
     "name": "stdout",
     "output_type": "stream",
     "text": [
      "Epoch: 10 / 6000, \n",
      " Train -- Loss: 0.48580059778213835, Coeff: 0.669677734375 \n",
      " Val   -- Loss: 2.0004950797821257, Coeff: 2.6796875 \n",
      "\n",
      "\n"
     ]
    },
    {
     "name": "stderr",
     "output_type": "stream",
     "text": [
      "Train: 100%|██████████| 2743/2743 [00:41<00:00, 65.72batch/s]\n",
      "Valdt: 100%|██████████| 2744/2744 [00:12<00:00, 227.82batch/s]\n"
     ]
    },
    {
     "name": "stdout",
     "output_type": "stream",
     "text": [
      "Epoch: 11 / 6000, \n",
      " Train -- Loss: 0.4829332936614367, Coeff: 0.669677734375 \n",
      " Val   -- Loss: 1.9680773642317173, Coeff: 2.6796875 \n",
      "\n",
      "\n"
     ]
    },
    {
     "name": "stderr",
     "output_type": "stream",
     "text": [
      "Train: 100%|██████████| 2743/2743 [00:41<00:00, 65.69batch/s]\n",
      "Valdt: 100%|██████████| 2744/2744 [00:11<00:00, 234.52batch/s]\n"
     ]
    },
    {
     "name": "stdout",
     "output_type": "stream",
     "text": [
      "Epoch: 12 / 6000, \n",
      " Train -- Loss: 0.48043449091816337, Coeff: 0.669677734375 \n",
      " Val   -- Loss: 1.9719803538403478, Coeff: 2.6796875 \n",
      "\n",
      "\n"
     ]
    },
    {
     "name": "stderr",
     "output_type": "stream",
     "text": [
      "Train: 100%|██████████| 2743/2743 [00:42<00:00, 65.19batch/s]\n",
      "Valdt: 100%|██████████| 2744/2744 [00:11<00:00, 229.62batch/s]\n"
     ]
    },
    {
     "name": "stdout",
     "output_type": "stream",
     "text": [
      "Epoch: 13 / 6000, \n",
      " Train -- Loss: 0.47765755201832905, Coeff: 0.669677734375 \n",
      " Val   -- Loss: 1.9720213158630282, Coeff: 2.6796875 \n",
      "\n",
      "\n"
     ]
    },
    {
     "name": "stderr",
     "output_type": "stream",
     "text": [
      "Train: 100%|██████████| 2743/2743 [00:41<00:00, 66.46batch/s]\n",
      "Valdt: 100%|██████████| 2744/2744 [00:11<00:00, 231.51batch/s]\n"
     ]
    },
    {
     "name": "stdout",
     "output_type": "stream",
     "text": [
      "Epoch: 14 / 6000, \n",
      " Train -- Loss: 0.4764293302570788, Coeff: 0.669677734375 \n",
      " Val   -- Loss: 1.9581981817255458, Coeff: 2.6796875 \n",
      "\n",
      "\n"
     ]
    },
    {
     "name": "stderr",
     "output_type": "stream",
     "text": [
      "Train: 100%|██████████| 2743/2743 [00:41<00:00, 65.86batch/s]\n",
      "Valdt: 100%|██████████| 2744/2744 [00:11<00:00, 232.01batch/s]\n"
     ]
    },
    {
     "name": "stdout",
     "output_type": "stream",
     "text": [
      "Epoch: 15 / 6000, \n",
      " Train -- Loss: 0.47475814197784977, Coeff: 0.669677734375 \n",
      " Val   -- Loss: 1.9514808905461698, Coeff: 2.6796875 \n",
      "\n",
      "\n"
     ]
    },
    {
     "name": "stderr",
     "output_type": "stream",
     "text": [
      "Train: 100%|██████████| 2743/2743 [00:41<00:00, 65.81batch/s]\n",
      "Valdt: 100%|██████████| 2744/2744 [00:11<00:00, 232.09batch/s]\n"
     ]
    },
    {
     "name": "stdout",
     "output_type": "stream",
     "text": [
      "Epoch: 16 / 6000, \n",
      " Train -- Loss: 0.472539783015586, Coeff: 0.669677734375 \n",
      " Val   -- Loss: 1.9377894056429135, Coeff: 2.6796875 \n",
      "\n",
      "\n"
     ]
    },
    {
     "name": "stderr",
     "output_type": "stream",
     "text": [
      "Train: 100%|██████████| 2743/2743 [00:41<00:00, 65.62batch/s]\n",
      "Valdt: 100%|██████████| 2744/2744 [00:11<00:00, 233.48batch/s]\n"
     ]
    },
    {
     "name": "stdout",
     "output_type": "stream",
     "text": [
      "Epoch: 17 / 6000, \n",
      " Train -- Loss: 0.4706293552022152, Coeff: 0.669677734375 \n",
      " Val   -- Loss: 1.965721219413614, Coeff: 2.6796875 \n",
      "\n",
      "\n"
     ]
    },
    {
     "name": "stderr",
     "output_type": "stream",
     "text": [
      "Train: 100%|██████████| 2743/2743 [00:42<00:00, 65.22batch/s]\n",
      "Valdt: 100%|██████████| 2744/2744 [00:11<00:00, 233.69batch/s]\n"
     ]
    },
    {
     "name": "stdout",
     "output_type": "stream",
     "text": [
      "Epoch: 18 / 6000, \n",
      " Train -- Loss: 0.46982803813518403, Coeff: 0.669677734375 \n",
      " Val   -- Loss: 1.928112128037997, Coeff: 2.6796875 \n",
      "\n",
      "\n"
     ]
    },
    {
     "name": "stderr",
     "output_type": "stream",
     "text": [
      "Train: 100%|██████████| 2743/2743 [00:41<00:00, 66.14batch/s]\n",
      "Valdt: 100%|██████████| 2744/2744 [00:11<00:00, 230.22batch/s]\n"
     ]
    },
    {
     "name": "stdout",
     "output_type": "stream",
     "text": [
      "Epoch: 19 / 6000, \n",
      " Train -- Loss: 0.46757758768878177, Coeff: 0.669677734375 \n",
      " Val   -- Loss: 1.9573723501823754, Coeff: 2.6796875 \n",
      "\n",
      "\n"
     ]
    },
    {
     "name": "stderr",
     "output_type": "stream",
     "text": [
      "Train: 100%|██████████| 2743/2743 [00:41<00:00, 66.26batch/s]\n",
      "Valdt: 100%|██████████| 2744/2744 [00:11<00:00, 231.78batch/s]\n"
     ]
    },
    {
     "name": "stdout",
     "output_type": "stream",
     "text": [
      "Epoch: 20 / 6000, \n",
      " Train -- Loss: 0.4663070515024854, Coeff: 0.669677734375 \n",
      " Val   -- Loss: 1.9486722095744424, Coeff: 2.6796875 \n",
      "\n",
      "\n"
     ]
    },
    {
     "name": "stderr",
     "output_type": "stream",
     "text": [
      "Train: 100%|██████████| 2743/2743 [00:41<00:00, 66.02batch/s]\n",
      "Valdt: 100%|██████████| 2744/2744 [00:11<00:00, 229.73batch/s]\n"
     ]
    },
    {
     "name": "stdout",
     "output_type": "stream",
     "text": [
      "Epoch: 21 / 6000, \n",
      " Train -- Loss: 0.4652680872861983, Coeff: 0.669677734375 \n",
      " Val   -- Loss: 1.9409566786816859, Coeff: 2.6796875 \n",
      "\n",
      "\n"
     ]
    },
    {
     "name": "stderr",
     "output_type": "stream",
     "text": [
      "Train: 100%|██████████| 2743/2743 [00:41<00:00, 66.21batch/s]\n",
      "Valdt: 100%|██████████| 2744/2744 [00:12<00:00, 227.37batch/s]\n"
     ]
    },
    {
     "name": "stdout",
     "output_type": "stream",
     "text": [
      "Epoch: 22 / 6000, \n",
      " Train -- Loss: 0.46388711778266223, Coeff: 0.669677734375 \n",
      " Val   -- Loss: 1.971509669388248, Coeff: 2.6796875 \n",
      "\n",
      "\n"
     ]
    },
    {
     "name": "stderr",
     "output_type": "stream",
     "text": [
      "Train: 100%|██████████| 2743/2743 [00:41<00:00, 65.33batch/s]\n",
      "Valdt: 100%|██████████| 2744/2744 [00:11<00:00, 233.32batch/s]\n"
     ]
    },
    {
     "name": "stdout",
     "output_type": "stream",
     "text": [
      "Epoch: 23 / 6000, \n",
      " Train -- Loss: 0.4635460129608638, Coeff: 0.669677734375 \n",
      " Val   -- Loss: 1.9311043145556164, Coeff: 2.6796875 \n",
      "\n",
      "\n"
     ]
    },
    {
     "name": "stderr",
     "output_type": "stream",
     "text": [
      "Train: 100%|██████████| 2743/2743 [00:41<00:00, 66.02batch/s]\n",
      "Valdt: 100%|██████████| 2744/2744 [00:11<00:00, 230.46batch/s]\n"
     ]
    },
    {
     "name": "stdout",
     "output_type": "stream",
     "text": [
      "Epoch: 24 / 6000, \n",
      " Train -- Loss: 0.46206893379075453, Coeff: 0.669677734375 \n",
      " Val   -- Loss: 1.9294411611044253, Coeff: 2.6796875 \n",
      "\n",
      "\n"
     ]
    },
    {
     "name": "stderr",
     "output_type": "stream",
     "text": [
      "Train: 100%|██████████| 2743/2743 [00:41<00:00, 65.77batch/s]\n",
      "Valdt: 100%|██████████| 2744/2744 [00:11<00:00, 229.87batch/s]\n"
     ]
    },
    {
     "name": "stdout",
     "output_type": "stream",
     "text": [
      "Epoch: 25 / 6000, \n",
      " Train -- Loss: 0.46142675031721825, Coeff: 0.669677734375 \n",
      " Val   -- Loss: 1.9226596412339312, Coeff: 2.6796875 \n",
      "\n",
      "\n"
     ]
    },
    {
     "name": "stderr",
     "output_type": "stream",
     "text": [
      "Train: 100%|██████████| 2743/2743 [00:41<00:00, 65.32batch/s]\n",
      "Valdt: 100%|██████████| 2744/2744 [00:11<00:00, 228.96batch/s]\n"
     ]
    },
    {
     "name": "stdout",
     "output_type": "stream",
     "text": [
      "Epoch: 26 / 6000, \n",
      " Train -- Loss: 0.4588513424096295, Coeff: 0.669677734375 \n",
      " Val   -- Loss: 1.9184990787085783, Coeff: 2.6796875 \n",
      "\n",
      "\n"
     ]
    },
    {
     "name": "stderr",
     "output_type": "stream",
     "text": [
      "Train: 100%|██████████| 2743/2743 [00:41<00:00, 65.84batch/s]\n",
      "Valdt: 100%|██████████| 2744/2744 [00:11<00:00, 228.98batch/s]\n"
     ]
    },
    {
     "name": "stdout",
     "output_type": "stream",
     "text": [
      "Epoch: 27 / 6000, \n",
      " Train -- Loss: 0.4594111478027946, Coeff: 0.669677734375 \n",
      " Val   -- Loss: 1.9360819177297206, Coeff: 2.6796875 \n",
      "\n",
      "\n"
     ]
    },
    {
     "name": "stderr",
     "output_type": "stream",
     "text": [
      "Train: 100%|██████████| 2743/2743 [00:41<00:00, 65.59batch/s]\n",
      "Valdt: 100%|██████████| 2744/2744 [00:11<00:00, 232.84batch/s]\n"
     ]
    },
    {
     "name": "stdout",
     "output_type": "stream",
     "text": [
      "Epoch: 28 / 6000, \n",
      " Train -- Loss: 0.4592949276127379, Coeff: 0.669677734375 \n",
      " Val   -- Loss: 2.0065130893958587, Coeff: 2.6796875 \n",
      "\n",
      "\n"
     ]
    },
    {
     "name": "stderr",
     "output_type": "stream",
     "text": [
      "Train: 100%|██████████| 2743/2743 [00:42<00:00, 65.07batch/s]\n",
      "Valdt: 100%|██████████| 2744/2744 [00:11<00:00, 229.80batch/s]\n"
     ]
    },
    {
     "name": "stdout",
     "output_type": "stream",
     "text": [
      "Epoch: 29 / 6000, \n",
      " Train -- Loss: 0.4572975057377149, Coeff: 0.669677734375 \n",
      " Val   -- Loss: 1.9218706331425097, Coeff: 2.6796875 \n",
      "\n",
      "\n"
     ]
    },
    {
     "name": "stderr",
     "output_type": "stream",
     "text": [
      "Train: 100%|██████████| 2743/2743 [00:41<00:00, 66.15batch/s]\n",
      "Valdt: 100%|██████████| 2744/2744 [00:11<00:00, 232.05batch/s]\n"
     ]
    },
    {
     "name": "stdout",
     "output_type": "stream",
     "text": [
      "Epoch: 30 / 6000, \n",
      " Train -- Loss: 0.4562808892496251, Coeff: 0.669677734375 \n",
      " Val   -- Loss: 1.9102841758351607, Coeff: 2.6796875 \n",
      "\n",
      "\n"
     ]
    },
    {
     "name": "stderr",
     "output_type": "stream",
     "text": [
      "Train: 100%|██████████| 2743/2743 [00:41<00:00, 65.74batch/s]\n",
      "Valdt: 100%|██████████| 2744/2744 [00:12<00:00, 228.37batch/s]\n"
     ]
    },
    {
     "name": "stdout",
     "output_type": "stream",
     "text": [
      "Epoch: 31 / 6000, \n",
      " Train -- Loss: 0.45596610435186946, Coeff: 0.669677734375 \n",
      " Val   -- Loss: 1.9386024481812025, Coeff: 2.6796875 \n",
      "\n",
      "\n"
     ]
    },
    {
     "name": "stderr",
     "output_type": "stream",
     "text": [
      "Train: 100%|██████████| 2743/2743 [00:41<00:00, 65.43batch/s]\n",
      "Valdt: 100%|██████████| 2744/2744 [00:12<00:00, 228.44batch/s]\n"
     ]
    },
    {
     "name": "stdout",
     "output_type": "stream",
     "text": [
      "Epoch: 32 / 6000, \n",
      " Train -- Loss: 0.4553308963299435, Coeff: 0.669677734375 \n",
      " Val   -- Loss: 1.9236994784990713, Coeff: 2.6796875 \n",
      "\n",
      "\n"
     ]
    },
    {
     "name": "stderr",
     "output_type": "stream",
     "text": [
      "Train: 100%|██████████| 2743/2743 [00:41<00:00, 65.74batch/s]\n",
      "Valdt: 100%|██████████| 2744/2744 [00:11<00:00, 230.33batch/s]\n"
     ]
    },
    {
     "name": "stdout",
     "output_type": "stream",
     "text": [
      "Epoch: 33 / 6000, \n",
      " Train -- Loss: 0.4550750907878453, Coeff: 0.669677734375 \n",
      " Val   -- Loss: 1.9162217463511164, Coeff: 2.6796875 \n",
      "\n",
      "\n"
     ]
    },
    {
     "name": "stderr",
     "output_type": "stream",
     "text": [
      "Train: 100%|██████████| 2743/2743 [00:41<00:00, 65.86batch/s]\n",
      "Valdt: 100%|██████████| 2744/2744 [00:12<00:00, 225.58batch/s]\n"
     ]
    },
    {
     "name": "stdout",
     "output_type": "stream",
     "text": [
      "Epoch: 34 / 6000, \n",
      " Train -- Loss: 0.4539128353068443, Coeff: 0.669677734375 \n",
      " Val   -- Loss: 1.9168887831850725, Coeff: 2.6796875 \n",
      "\n",
      "\n"
     ]
    },
    {
     "name": "stderr",
     "output_type": "stream",
     "text": [
      "Train: 100%|██████████| 2743/2743 [00:41<00:00, 65.61batch/s]\n",
      "Valdt: 100%|██████████| 2744/2744 [00:11<00:00, 232.94batch/s]\n"
     ]
    },
    {
     "name": "stdout",
     "output_type": "stream",
     "text": [
      "Epoch: 35 / 6000, \n",
      " Train -- Loss: 0.4519714408504082, Coeff: 0.669677734375 \n",
      " Val   -- Loss: 1.912318499321486, Coeff: 2.6796875 \n",
      "\n",
      "\n"
     ]
    },
    {
     "name": "stderr",
     "output_type": "stream",
     "text": [
      "Train: 100%|██████████| 2743/2743 [00:41<00:00, 66.15batch/s]\n",
      "Valdt: 100%|██████████| 2744/2744 [00:11<00:00, 232.97batch/s]\n"
     ]
    },
    {
     "name": "stdout",
     "output_type": "stream",
     "text": [
      "Epoch: 36 / 6000, \n",
      " Train -- Loss: 0.4512486924089849, Coeff: 0.669677734375 \n",
      " Val   -- Loss: 1.9369793767105379, Coeff: 2.6796875 \n",
      "\n",
      "\n"
     ]
    },
    {
     "name": "stderr",
     "output_type": "stream",
     "text": [
      "Train: 100%|██████████| 2743/2743 [00:41<00:00, 65.70batch/s]\n",
      "Valdt: 100%|██████████| 2744/2744 [00:11<00:00, 231.04batch/s]\n"
     ]
    },
    {
     "name": "stdout",
     "output_type": "stream",
     "text": [
      "Epoch: 37 / 6000, \n",
      " Train -- Loss: 0.4504978350549369, Coeff: 0.669677734375 \n",
      " Val   -- Loss: 1.9150304137277503, Coeff: 2.6796875 \n",
      "\n",
      "\n"
     ]
    },
    {
     "name": "stderr",
     "output_type": "stream",
     "text": [
      "Train: 100%|██████████| 2743/2743 [00:42<00:00, 65.12batch/s]\n",
      "Valdt: 100%|██████████| 2744/2744 [00:11<00:00, 229.05batch/s]\n"
     ]
    },
    {
     "name": "stdout",
     "output_type": "stream",
     "text": [
      "Epoch: 38 / 6000, \n",
      " Train -- Loss: 0.4495411933229672, Coeff: 0.669677734375 \n",
      " Val   -- Loss: 1.9157659075288327, Coeff: 2.6796875 \n",
      "\n",
      "\n"
     ]
    },
    {
     "name": "stderr",
     "output_type": "stream",
     "text": [
      "Train: 100%|██████████| 2743/2743 [00:42<00:00, 65.16batch/s]\n",
      "Valdt: 100%|██████████| 2744/2744 [00:12<00:00, 227.47batch/s]\n"
     ]
    },
    {
     "name": "stdout",
     "output_type": "stream",
     "text": [
      "Epoch: 39 / 6000, \n",
      " Train -- Loss: 0.45033651689848087, Coeff: 0.669677734375 \n",
      " Val   -- Loss: 1.9207261476982902, Coeff: 2.6796875 \n",
      "\n",
      "\n"
     ]
    },
    {
     "name": "stderr",
     "output_type": "stream",
     "text": [
      "Train: 100%|██████████| 2743/2743 [00:41<00:00, 65.38batch/s]\n",
      "Valdt: 100%|██████████| 2744/2744 [00:11<00:00, 238.29batch/s]\n"
     ]
    },
    {
     "name": "stdout",
     "output_type": "stream",
     "text": [
      "Epoch: 40 / 6000, \n",
      " Train -- Loss: 0.45013428809133954, Coeff: 0.669677734375 \n",
      " Val   -- Loss: 1.9190137301992916, Coeff: 2.6796875 \n",
      "\n",
      "\n"
     ]
    },
    {
     "name": "stderr",
     "output_type": "stream",
     "text": [
      "Train: 100%|██████████| 2743/2743 [00:41<00:00, 65.92batch/s]\n",
      "Valdt: 100%|██████████| 2744/2744 [00:12<00:00, 228.04batch/s]\n"
     ]
    },
    {
     "name": "stdout",
     "output_type": "stream",
     "text": [
      "Epoch: 41 / 6000, \n",
      " Train -- Loss: 0.44935886782285417, Coeff: 0.669677734375 \n",
      " Val   -- Loss: 1.8994366857853098, Coeff: 2.6796875 \n",
      "\n",
      "\n"
     ]
    },
    {
     "name": "stderr",
     "output_type": "stream",
     "text": [
      "Train: 100%|██████████| 2743/2743 [00:41<00:00, 65.58batch/s]\n",
      "Valdt: 100%|██████████| 2744/2744 [00:11<00:00, 228.72batch/s]\n"
     ]
    },
    {
     "name": "stdout",
     "output_type": "stream",
     "text": [
      "Epoch: 42 / 6000, \n",
      " Train -- Loss: 0.4489421531730768, Coeff: 0.669677734375 \n",
      " Val   -- Loss: 1.9186797638743711, Coeff: 2.6796875 \n",
      "\n",
      "\n"
     ]
    },
    {
     "name": "stderr",
     "output_type": "stream",
     "text": [
      "Train: 100%|██████████| 2743/2743 [00:42<00:00, 65.26batch/s]\n",
      "Valdt: 100%|██████████| 2744/2744 [00:11<00:00, 229.41batch/s]\n"
     ]
    },
    {
     "name": "stdout",
     "output_type": "stream",
     "text": [
      "Epoch: 43 / 6000, \n",
      " Train -- Loss: 0.446966401886963, Coeff: 0.669677734375 \n",
      " Val   -- Loss: 1.8972953446086787, Coeff: 2.6796875 \n",
      "\n",
      "\n"
     ]
    },
    {
     "name": "stderr",
     "output_type": "stream",
     "text": [
      "Train: 100%|██████████| 2743/2743 [00:42<00:00, 65.22batch/s]\n",
      "Valdt: 100%|██████████| 2744/2744 [00:12<00:00, 223.02batch/s]\n"
     ]
    },
    {
     "name": "stdout",
     "output_type": "stream",
     "text": [
      "Epoch: 44 / 6000, \n",
      " Train -- Loss: 0.4480124757683976, Coeff: 0.669677734375 \n",
      " Val   -- Loss: 1.9435463602944285, Coeff: 2.6796875 \n",
      "\n",
      "\n"
     ]
    },
    {
     "name": "stderr",
     "output_type": "stream",
     "text": [
      "Train: 100%|██████████| 2743/2743 [00:42<00:00, 64.87batch/s]\n",
      "Valdt: 100%|██████████| 2744/2744 [00:12<00:00, 225.97batch/s]\n"
     ]
    },
    {
     "name": "stdout",
     "output_type": "stream",
     "text": [
      "Epoch: 45 / 6000, \n",
      " Train -- Loss: 0.4458098611054227, Coeff: 0.669677734375 \n",
      " Val   -- Loss: 1.8980840591480026, Coeff: 2.6796875 \n",
      "\n",
      "\n"
     ]
    },
    {
     "name": "stderr",
     "output_type": "stream",
     "text": [
      "Train: 100%|██████████| 2743/2743 [00:42<00:00, 64.97batch/s]\n",
      "Valdt: 100%|██████████| 2744/2744 [00:11<00:00, 230.28batch/s]\n"
     ]
    },
    {
     "name": "stdout",
     "output_type": "stream",
     "text": [
      "Epoch: 46 / 6000, \n",
      " Train -- Loss: 0.4445472373429274, Coeff: 0.669677734375 \n",
      " Val   -- Loss: 1.9037406031417439, Coeff: 2.6796875 \n",
      "\n",
      "\n"
     ]
    },
    {
     "name": "stderr",
     "output_type": "stream",
     "text": [
      "Train: 100%|██████████| 2743/2743 [00:41<00:00, 65.40batch/s]\n",
      "Valdt: 100%|██████████| 2744/2744 [00:11<00:00, 228.87batch/s]\n"
     ]
    },
    {
     "name": "stdout",
     "output_type": "stream",
     "text": [
      "Epoch: 47 / 6000, \n",
      " Train -- Loss: 0.44465444552116357, Coeff: 0.669677734375 \n",
      " Val   -- Loss: 1.9224908441560151, Coeff: 2.6796875 \n",
      "\n",
      "\n"
     ]
    },
    {
     "name": "stderr",
     "output_type": "stream",
     "text": [
      "Train: 100%|██████████| 2743/2743 [00:41<00:00, 65.80batch/s]\n",
      "Valdt: 100%|██████████| 2744/2744 [00:11<00:00, 233.53batch/s]\n"
     ]
    },
    {
     "name": "stdout",
     "output_type": "stream",
     "text": [
      "Epoch: 48 / 6000, \n",
      " Train -- Loss: 0.4440391488196124, Coeff: 0.669677734375 \n",
      " Val   -- Loss: 1.9391729154559678, Coeff: 2.6796875 \n",
      "\n",
      "\n"
     ]
    },
    {
     "name": "stderr",
     "output_type": "stream",
     "text": [
      "Train: 100%|██████████| 2743/2743 [00:42<00:00, 65.29batch/s]\n",
      "Valdt: 100%|██████████| 2744/2744 [00:11<00:00, 229.21batch/s]\n"
     ]
    },
    {
     "name": "stdout",
     "output_type": "stream",
     "text": [
      "Epoch: 49 / 6000, \n",
      " Train -- Loss: 0.4437602280383506, Coeff: 0.669677734375 \n",
      " Val   -- Loss: 1.9111499296038852, Coeff: 2.6796875 \n",
      "\n",
      "\n"
     ]
    },
    {
     "name": "stderr",
     "output_type": "stream",
     "text": [
      "Train: 100%|██████████| 2743/2743 [00:41<00:00, 65.47batch/s]\n",
      "Valdt: 100%|██████████| 2744/2744 [00:12<00:00, 225.62batch/s]\n"
     ]
    },
    {
     "name": "stdout",
     "output_type": "stream",
     "text": [
      "Epoch: 50 / 6000, \n",
      " Train -- Loss: 0.4437486265167754, Coeff: 0.669677734375 \n",
      " Val   -- Loss: 1.9090253071762797, Coeff: 2.6796875 \n",
      "\n",
      "\n"
     ]
    },
    {
     "name": "stderr",
     "output_type": "stream",
     "text": [
      "Train: 100%|██████████| 2743/2743 [00:41<00:00, 65.33batch/s]\n",
      "Valdt: 100%|██████████| 2744/2744 [00:11<00:00, 229.60batch/s]\n"
     ]
    },
    {
     "name": "stdout",
     "output_type": "stream",
     "text": [
      "Epoch: 51 / 6000, \n",
      " Train -- Loss: 0.44248580240163427, Coeff: 0.669677734375 \n",
      " Val   -- Loss: 1.8973211012669522, Coeff: 2.6796875 \n",
      "\n",
      "\n"
     ]
    },
    {
     "name": "stderr",
     "output_type": "stream",
     "text": [
      "Train: 100%|██████████| 2743/2743 [00:41<00:00, 65.40batch/s]\n",
      "Valdt: 100%|██████████| 2744/2744 [00:11<00:00, 228.85batch/s]\n"
     ]
    },
    {
     "name": "stdout",
     "output_type": "stream",
     "text": [
      "Epoch: 52 / 6000, \n",
      " Train -- Loss: 0.44253776621055535, Coeff: 0.669677734375 \n",
      " Val   -- Loss: 1.9061973591596226, Coeff: 2.6796875 \n",
      "\n",
      "\n"
     ]
    },
    {
     "name": "stderr",
     "output_type": "stream",
     "text": [
      "Train: 100%|██████████| 2743/2743 [00:41<00:00, 65.49batch/s]\n",
      "Valdt: 100%|██████████| 2744/2744 [00:11<00:00, 232.26batch/s]\n"
     ]
    },
    {
     "name": "stdout",
     "output_type": "stream",
     "text": [
      "Epoch: 53 / 6000, \n",
      " Train -- Loss: 0.443011761137675, Coeff: 0.669677734375 \n",
      " Val   -- Loss: 1.928689067599372, Coeff: 2.6796875 \n",
      "\n",
      "\n"
     ]
    },
    {
     "name": "stderr",
     "output_type": "stream",
     "text": [
      "Train: 100%|██████████| 2743/2743 [00:41<00:00, 65.51batch/s]\n",
      "Valdt: 100%|██████████| 2744/2744 [00:12<00:00, 228.06batch/s]\n"
     ]
    },
    {
     "name": "stdout",
     "output_type": "stream",
     "text": [
      "Epoch: 54 / 6000, \n",
      " Train -- Loss: 0.4415085042554444, Coeff: 0.669677734375 \n",
      " Val   -- Loss: 1.9112411793358313, Coeff: 2.6796875 \n",
      "\n",
      "\n"
     ]
    },
    {
     "name": "stderr",
     "output_type": "stream",
     "text": [
      "Train: 100%|██████████| 2743/2743 [00:41<00:00, 65.47batch/s]\n",
      "Valdt: 100%|██████████| 2744/2744 [00:11<00:00, 229.32batch/s]\n"
     ]
    },
    {
     "name": "stdout",
     "output_type": "stream",
     "text": [
      "Epoch: 55 / 6000, \n",
      " Train -- Loss: 0.44099758142688383, Coeff: 0.669677734375 \n",
      " Val   -- Loss: 1.8969052369539847, Coeff: 2.6796875 \n",
      "\n",
      "\n"
     ]
    },
    {
     "name": "stderr",
     "output_type": "stream",
     "text": [
      "Train: 100%|██████████| 2743/2743 [00:41<00:00, 65.76batch/s]\n",
      "Valdt: 100%|██████████| 2744/2744 [00:11<00:00, 231.61batch/s]\n"
     ]
    },
    {
     "name": "stdout",
     "output_type": "stream",
     "text": [
      "Epoch: 56 / 6000, \n",
      " Train -- Loss: 0.440635094111672, Coeff: 0.669677734375 \n",
      " Val   -- Loss: 1.8903727687338538, Coeff: 2.6796875 \n",
      "\n",
      "\n"
     ]
    },
    {
     "name": "stderr",
     "output_type": "stream",
     "text": [
      "Train: 100%|██████████| 2743/2743 [00:41<00:00, 65.50batch/s]\n",
      "Valdt: 100%|██████████| 2744/2744 [00:11<00:00, 231.20batch/s]\n"
     ]
    },
    {
     "name": "stdout",
     "output_type": "stream",
     "text": [
      "Epoch: 57 / 6000, \n",
      " Train -- Loss: 0.4401421507929103, Coeff: 0.669677734375 \n",
      " Val   -- Loss: 1.8963667144404497, Coeff: 2.6796875 \n",
      "\n",
      "\n"
     ]
    },
    {
     "name": "stderr",
     "output_type": "stream",
     "text": [
      "Train: 100%|██████████| 2743/2743 [00:41<00:00, 65.55batch/s]\n",
      "Valdt: 100%|██████████| 2744/2744 [00:11<00:00, 231.13batch/s]\n"
     ]
    },
    {
     "name": "stdout",
     "output_type": "stream",
     "text": [
      "Epoch: 58 / 6000, \n",
      " Train -- Loss: 0.4392234850096827, Coeff: 0.669677734375 \n",
      " Val   -- Loss: 1.9129913645880956, Coeff: 2.6796875 \n",
      "\n",
      "\n"
     ]
    },
    {
     "name": "stderr",
     "output_type": "stream",
     "text": [
      "Train: 100%|██████████| 2743/2743 [00:41<00:00, 65.32batch/s]\n",
      "Valdt: 100%|██████████| 2744/2744 [00:11<00:00, 230.00batch/s]\n"
     ]
    },
    {
     "name": "stdout",
     "output_type": "stream",
     "text": [
      "Epoch: 59 / 6000, \n",
      " Train -- Loss: 0.4390206724007785, Coeff: 0.669677734375 \n",
      " Val   -- Loss: 1.9035166268608599, Coeff: 2.6796875 \n",
      "\n",
      "\n"
     ]
    },
    {
     "name": "stderr",
     "output_type": "stream",
     "text": [
      "Train: 100%|██████████| 2743/2743 [00:41<00:00, 65.46batch/s]\n",
      "Valdt: 100%|██████████| 2744/2744 [00:12<00:00, 226.27batch/s]\n"
     ]
    },
    {
     "name": "stdout",
     "output_type": "stream",
     "text": [
      "Epoch: 60 / 6000, \n",
      " Train -- Loss: 0.439792471511735, Coeff: 0.669677734375 \n",
      " Val   -- Loss: 1.9199315723364385, Coeff: 2.6796875 \n",
      "\n",
      "\n"
     ]
    },
    {
     "name": "stderr",
     "output_type": "stream",
     "text": [
      "Train: 100%|██████████| 2743/2743 [00:42<00:00, 64.92batch/s]\n",
      "Valdt: 100%|██████████| 2744/2744 [00:11<00:00, 232.78batch/s]\n"
     ]
    },
    {
     "name": "stdout",
     "output_type": "stream",
     "text": [
      "Epoch: 61 / 6000, \n",
      " Train -- Loss: 0.4447970704883064, Coeff: 0.669677734375 \n",
      " Val   -- Loss: 1.9075012970994982, Coeff: 2.6796875 \n",
      "\n",
      "\n"
     ]
    },
    {
     "name": "stderr",
     "output_type": "stream",
     "text": [
      "Train: 100%|██████████| 2743/2743 [00:42<00:00, 65.25batch/s]\n",
      "Valdt: 100%|██████████| 2744/2744 [00:11<00:00, 232.39batch/s]\n"
     ]
    },
    {
     "name": "stdout",
     "output_type": "stream",
     "text": [
      "Epoch: 62 / 6000, \n",
      " Train -- Loss: 0.43976102647525056, Coeff: 0.669677734375 \n",
      " Val   -- Loss: 1.8946888181652404, Coeff: 2.6796875 \n",
      "\n",
      "\n"
     ]
    },
    {
     "name": "stderr",
     "output_type": "stream",
     "text": [
      "Train: 100%|██████████| 2743/2743 [00:41<00:00, 65.75batch/s]\n",
      "Valdt: 100%|██████████| 2744/2744 [00:11<00:00, 231.29batch/s]\n"
     ]
    },
    {
     "name": "stdout",
     "output_type": "stream",
     "text": [
      "Epoch: 63 / 6000, \n",
      " Train -- Loss: 0.43845666681913203, Coeff: 0.669677734375 \n",
      " Val   -- Loss: 1.9117973305693612, Coeff: 2.6796875 \n",
      "\n",
      "\n"
     ]
    },
    {
     "name": "stderr",
     "output_type": "stream",
     "text": [
      "Train: 100%|██████████| 2743/2743 [00:42<00:00, 65.16batch/s]\n",
      "Valdt: 100%|██████████| 2744/2744 [00:12<00:00, 228.01batch/s]\n"
     ]
    },
    {
     "name": "stdout",
     "output_type": "stream",
     "text": [
      "Epoch: 64 / 6000, \n",
      " Train -- Loss: 0.43690141439710584, Coeff: 0.669677734375 \n",
      " Val   -- Loss: 1.902167459515586, Coeff: 2.6796875 \n",
      "\n",
      "\n"
     ]
    },
    {
     "name": "stderr",
     "output_type": "stream",
     "text": [
      "Train: 100%|██████████| 2743/2743 [00:42<00:00, 65.16batch/s]\n",
      "Valdt: 100%|██████████| 2744/2744 [00:11<00:00, 228.81batch/s]\n"
     ]
    },
    {
     "name": "stdout",
     "output_type": "stream",
     "text": [
      "Epoch: 65 / 6000, \n",
      " Train -- Loss: 0.43717112074886066, Coeff: 0.669677734375 \n",
      " Val   -- Loss: 1.8891923308155079, Coeff: 2.6796875 \n",
      "\n",
      "\n"
     ]
    },
    {
     "name": "stderr",
     "output_type": "stream",
     "text": [
      "Train: 100%|██████████| 2743/2743 [00:41<00:00, 65.52batch/s]\n",
      "Valdt: 100%|██████████| 2744/2744 [00:11<00:00, 233.21batch/s]\n"
     ]
    },
    {
     "name": "stdout",
     "output_type": "stream",
     "text": [
      "Epoch: 66 / 6000, \n",
      " Train -- Loss: 0.43685815500128244, Coeff: 0.669677734375 \n",
      " Val   -- Loss: 1.9144654568032926, Coeff: 2.6796875 \n",
      "\n",
      "\n"
     ]
    },
    {
     "name": "stderr",
     "output_type": "stream",
     "text": [
      "Train: 100%|██████████| 2743/2743 [00:42<00:00, 64.79batch/s]\n",
      "Valdt: 100%|██████████| 2744/2744 [00:11<00:00, 231.02batch/s]\n"
     ]
    },
    {
     "name": "stdout",
     "output_type": "stream",
     "text": [
      "Epoch: 67 / 6000, \n",
      " Train -- Loss: 0.4365762519323097, Coeff: 0.669677734375 \n",
      " Val   -- Loss: 1.888665622897239, Coeff: 2.6796875 \n",
      "\n",
      "\n"
     ]
    },
    {
     "name": "stderr",
     "output_type": "stream",
     "text": [
      "Train: 100%|██████████| 2743/2743 [00:41<00:00, 65.88batch/s]\n",
      "Valdt: 100%|██████████| 2744/2744 [00:12<00:00, 226.70batch/s]\n"
     ]
    },
    {
     "name": "stdout",
     "output_type": "stream",
     "text": [
      "Epoch: 68 / 6000, \n",
      " Train -- Loss: 0.4365433243833696, Coeff: 0.669677734375 \n",
      " Val   -- Loss: 1.8982565487988277, Coeff: 2.6796875 \n",
      "\n",
      "\n"
     ]
    },
    {
     "name": "stderr",
     "output_type": "stream",
     "text": [
      "Train: 100%|██████████| 2743/2743 [00:42<00:00, 65.05batch/s]\n",
      "Valdt: 100%|██████████| 2744/2744 [00:11<00:00, 240.06batch/s]\n"
     ]
    },
    {
     "name": "stdout",
     "output_type": "stream",
     "text": [
      "Epoch: 69 / 6000, \n",
      " Train -- Loss: 0.43672503658309786, Coeff: 0.669677734375 \n",
      " Val   -- Loss: 1.911043956112497, Coeff: 2.6796875 \n",
      "\n",
      "\n"
     ]
    },
    {
     "name": "stderr",
     "output_type": "stream",
     "text": [
      "Train: 100%|██████████| 2743/2743 [00:41<00:00, 66.00batch/s]\n",
      "Valdt: 100%|██████████| 2744/2744 [00:11<00:00, 230.40batch/s]\n"
     ]
    },
    {
     "name": "stdout",
     "output_type": "stream",
     "text": [
      "Epoch: 70 / 6000, \n",
      " Train -- Loss: 0.4369446017345247, Coeff: 0.669677734375 \n",
      " Val   -- Loss: 1.9340407134577786, Coeff: 2.6796875 \n",
      "\n",
      "\n"
     ]
    },
    {
     "name": "stderr",
     "output_type": "stream",
     "text": [
      "Train: 100%|██████████| 2743/2743 [00:41<00:00, 65.62batch/s]\n",
      "Valdt: 100%|██████████| 2744/2744 [00:11<00:00, 234.35batch/s]\n"
     ]
    },
    {
     "name": "stdout",
     "output_type": "stream",
     "text": [
      "Epoch: 71 / 6000, \n",
      " Train -- Loss: 0.43523390525523115, Coeff: 0.669677734375 \n",
      " Val   -- Loss: 1.9045630611530158, Coeff: 2.6796875 \n",
      "\n",
      "\n"
     ]
    },
    {
     "name": "stderr",
     "output_type": "stream",
     "text": [
      "Train: 100%|██████████| 2743/2743 [00:42<00:00, 65.00batch/s]\n",
      "Valdt: 100%|██████████| 2744/2744 [00:11<00:00, 230.11batch/s]\n"
     ]
    },
    {
     "name": "stdout",
     "output_type": "stream",
     "text": [
      "Epoch: 72 / 6000, \n",
      " Train -- Loss: 0.43529292348453563, Coeff: 0.669677734375 \n",
      " Val   -- Loss: 1.9076506963167352, Coeff: 2.6796875 \n",
      "\n",
      "\n"
     ]
    },
    {
     "name": "stderr",
     "output_type": "stream",
     "text": [
      "Train: 100%|██████████| 2743/2743 [00:41<00:00, 65.96batch/s]\n",
      "Valdt: 100%|██████████| 2744/2744 [00:12<00:00, 228.55batch/s]\n"
     ]
    },
    {
     "name": "stdout",
     "output_type": "stream",
     "text": [
      "Epoch: 73 / 6000, \n",
      " Train -- Loss: 0.4344834819054112, Coeff: 0.669677734375 \n",
      " Val   -- Loss: 1.9053671804885313, Coeff: 2.6796875 \n",
      "\n",
      "\n"
     ]
    },
    {
     "name": "stderr",
     "output_type": "stream",
     "text": [
      "Train: 100%|██████████| 2743/2743 [00:41<00:00, 65.77batch/s]\n",
      "Valdt: 100%|██████████| 2744/2744 [00:11<00:00, 234.10batch/s]\n"
     ]
    },
    {
     "name": "stdout",
     "output_type": "stream",
     "text": [
      "Epoch: 74 / 6000, \n",
      " Train -- Loss: 0.4350172960909429, Coeff: 0.669677734375 \n",
      " Val   -- Loss: 1.889803418885446, Coeff: 2.6796875 \n",
      "\n",
      "\n"
     ]
    },
    {
     "name": "stderr",
     "output_type": "stream",
     "text": [
      "Train: 100%|██████████| 2743/2743 [00:41<00:00, 65.97batch/s]\n",
      "Valdt: 100%|██████████| 2744/2744 [00:12<00:00, 224.97batch/s]\n"
     ]
    },
    {
     "name": "stdout",
     "output_type": "stream",
     "text": [
      "Epoch: 75 / 6000, \n",
      " Train -- Loss: 0.4342440351156046, Coeff: 0.669677734375 \n",
      " Val   -- Loss: 1.9202382689253148, Coeff: 2.6796875 \n",
      "\n",
      "\n"
     ]
    },
    {
     "name": "stderr",
     "output_type": "stream",
     "text": [
      "Train: 100%|██████████| 2743/2743 [00:41<00:00, 65.81batch/s]\n",
      "Valdt: 100%|██████████| 2744/2744 [00:11<00:00, 229.65batch/s]\n"
     ]
    },
    {
     "name": "stdout",
     "output_type": "stream",
     "text": [
      "Epoch: 76 / 6000, \n",
      " Train -- Loss: 0.43500738456706417, Coeff: 0.669677734375 \n",
      " Val   -- Loss: 1.9032948125849887, Coeff: 2.6796875 \n",
      "\n",
      "\n"
     ]
    },
    {
     "name": "stderr",
     "output_type": "stream",
     "text": [
      "Train: 100%|██████████| 2743/2743 [00:41<00:00, 65.54batch/s]\n",
      "Valdt: 100%|██████████| 2744/2744 [00:11<00:00, 231.79batch/s]\n"
     ]
    },
    {
     "name": "stdout",
     "output_type": "stream",
     "text": [
      "Epoch: 77 / 6000, \n",
      " Train -- Loss: 0.434054740183204, Coeff: 0.669677734375 \n",
      " Val   -- Loss: 1.8830072731028884, Coeff: 2.6796875 \n",
      "\n",
      "\n"
     ]
    },
    {
     "name": "stderr",
     "output_type": "stream",
     "text": [
      "Train: 100%|██████████| 2743/2743 [00:41<00:00, 65.34batch/s]\n",
      "Valdt: 100%|██████████| 2744/2744 [00:12<00:00, 226.87batch/s]\n"
     ]
    },
    {
     "name": "stdout",
     "output_type": "stream",
     "text": [
      "Epoch: 78 / 6000, \n",
      " Train -- Loss: 0.4343780076202747, Coeff: 0.669677734375 \n",
      " Val   -- Loss: 1.9227428589467679, Coeff: 2.6796875 \n",
      "\n",
      "\n"
     ]
    },
    {
     "name": "stderr",
     "output_type": "stream",
     "text": [
      "Train: 100%|██████████| 2743/2743 [00:42<00:00, 65.10batch/s]\n",
      "Valdt: 100%|██████████| 2744/2744 [00:11<00:00, 231.80batch/s]\n"
     ]
    },
    {
     "name": "stdout",
     "output_type": "stream",
     "text": [
      "Epoch: 79 / 6000, \n",
      " Train -- Loss: 0.43188473766957985, Coeff: 0.669677734375 \n",
      " Val   -- Loss: 1.893452909760609, Coeff: 2.6796875 \n",
      "\n",
      "\n"
     ]
    },
    {
     "name": "stderr",
     "output_type": "stream",
     "text": [
      "Train:  77%|███████▋  | 2115/2743 [00:32<00:08, 74.72batch/s]"
     ]
    }
   ],
   "source": [
    "epochs = 6000\n",
    "best = 1e6\n",
    "PATH = f\"./best_model_{dt_name}.pt\"\n",
    "\n",
    "early_stopper = EarlyStopper(patience=50, path=PATH)\n",
    "                             \n",
    "for epoch in range(epochs):\n",
    "    model.train()\n",
    "    Loss_train = 0 \n",
    "    Loss_val = 0\n",
    "    coeff_train = 0\n",
    "    coeff_val = 0\n",
    "    with tqdm(train_loader, unit=\"batch\") as trainer:\n",
    "        for batch in trainer:\n",
    "            trainer.set_description(\"Train\")\n",
    "            train_feat = batch[:, 0:-1].to(device)\n",
    "            train_labs = batch[:, -1].to(device)\n",
    "            train_pred = model(train_feat).squeeze()\n",
    "            train_loss = torch.nn.functional.mse_loss(train_pred, train_labs)\n",
    "            train_coef = coeff_determination(train_labs, train_labs) \n",
    "\n",
    "            optimizer.zero_grad()\n",
    "            train_loss.backward()\n",
    "            optimizer.step()\n",
    "\n",
    "            Loss_train += train_loss.item()\n",
    "            coeff_train += train_coef\n",
    "\n",
    "        Loss_train /= batch_sz_trn\n",
    "        coeff_train /= batch_sz_trn\n",
    "\n",
    "    model.eval()\n",
    "    with tqdm(val_loader, unit=\"batch\") as validator:\n",
    "        for batch in validator:\n",
    "            validator.set_description(\"Valdt\")\n",
    "            val_feat = batch[:, 0:-1].to(device)\n",
    "            val_labs = batch[:, -1].to(device)\n",
    "            val_pred = model(val_feat).squeeze()\n",
    "            val_loss = torch.nn.functional.mse_loss(val_pred, val_labs)\n",
    "            val_coef = coeff_determination(val_labs, val_labs) \n",
    "\n",
    "            Loss_val += val_loss.item()\n",
    "            coeff_val += val_coef\n",
    "\n",
    "        Loss_val /= batch_sz_val\n",
    "        coeff_val /= batch_sz_val\n",
    "    \n",
    "    if early_stopper.early_stop(model.state_dict(), Loss_val):             \n",
    "        break\n",
    "        \n",
    "    print(f\"Epoch: {epoch} / {epochs}, \\n Train -- Loss: {Loss_train}, Coeff: {coeff_train} \\n Val   -- Loss: {Loss_val}, Coeff: {coeff_val} \\n\\n\")"
   ]
  },
  {
   "cell_type": "code",
   "execution_count": 119,
   "id": "c9e410f9",
   "metadata": {},
   "outputs": [
    {
     "data": {
      "text/plain": [
       "tensor([[ 0.0051, -0.0142, -0.0158,  ..., -0.1415,  0.0067, -0.1427],\n",
       "        [ 0.0134, -0.0661,  0.0572,  ..., -0.1396, -0.0117, -0.1372],\n",
       "        [-0.0077,  0.0077,  0.0077,  ..., -0.1415,  0.0067, -0.1427],\n",
       "        ...,\n",
       "        [ 0.0006, -0.0040, -0.0026,  ..., -0.1416,  0.0066, -0.1428],\n",
       "        [ 0.0024, -0.0034, -0.0031,  ..., -0.1416,  0.0066, -0.1428],\n",
       "        [-0.0191, -0.0015,  0.0006,  ..., -0.1415,  0.0066, -0.1428]],\n",
       "       dtype=torch.float64)"
      ]
     },
     "execution_count": 119,
     "metadata": {},
     "output_type": "execute_result"
    }
   ],
   "source": [
    "data_iter = iter(train_loader)\n",
    "next(data_iter)[:,0:-1]"
   ]
  },
  {
   "cell_type": "code",
   "execution_count": 120,
   "id": "0391c49f",
   "metadata": {},
   "outputs": [],
   "source": [
    "traced_script_module = torch.jit.trace(model, next(data_iter)[:,0:-1].to(device))\n",
    "traced_script_module.save(f\"traced_model_{dt_name}.pt\")"
   ]
  },
  {
   "cell_type": "code",
   "execution_count": 121,
   "id": "f5414719",
   "metadata": {
    "scrolled": true
   },
   "outputs": [
    {
     "data": {
      "text/plain": [
       "MLPModel(\n",
       "  (block): Sequential(\n",
       "    (0): Linear(in_features=12, out_features=60, bias=True)\n",
       "    (1): ReLU()\n",
       "    (2): Linear(in_features=60, out_features=60, bias=True)\n",
       "    (3): ReLU()\n",
       "    (4): Linear(in_features=60, out_features=60, bias=True)\n",
       "    (5): ReLU()\n",
       "    (6): Linear(in_features=60, out_features=60, bias=True)\n",
       "    (7): ReLU()\n",
       "    (8): Linear(in_features=60, out_features=60, bias=True)\n",
       "    (9): ReLU()\n",
       "    (10): Linear(in_features=60, out_features=1, bias=True)\n",
       "  )\n",
       ")"
      ]
     },
     "execution_count": 121,
     "metadata": {},
     "output_type": "execute_result"
    }
   ],
   "source": [
    "model = MLPModel(input_size=input_size, \n",
    "                 output_size=output_size, \n",
    "                 hidden_layers=hidden_layers, \n",
    "                 neurons_per_layer=neurons_per_layer)\n",
    "\n",
    "model.load_state_dict(torch.load(PATH))\n",
    "model.eval()\n",
    "model.double()"
   ]
  },
  {
   "cell_type": "code",
   "execution_count": 122,
   "id": "80604c18",
   "metadata": {},
   "outputs": [
    {
     "data": {
      "text/plain": [
       "tensor([[ 0.0105],\n",
       "        [-0.1085],\n",
       "        [ 0.0706],\n",
       "        ...,\n",
       "        [-0.0518],\n",
       "        [-0.1148],\n",
       "        [ 0.0724]], dtype=torch.float64, grad_fn=<AddmmBackward0>)"
      ]
     },
     "execution_count": 122,
     "metadata": {},
     "output_type": "execute_result"
    }
   ],
   "source": [
    "pred = model(torch.from_numpy(test[:,:-1]))\n",
    "pred"
   ]
  },
  {
   "cell_type": "code",
   "execution_count": 123,
   "id": "ebcfa2d4",
   "metadata": {},
   "outputs": [
    {
     "data": {
      "image/png": "[encoded data removed]",
      "text/plain": [
       "<Figure size 640x480 with 1 Axes>"
      ]
     },
     "metadata": {},
     "output_type": "display_data"
    }
   ],
   "source": [
    "plt.scatter(test[:,-1], pred.detach().numpy(), edgecolor='white', color='red')\n",
    "plt.plot([0, 0], [-100, 100], '--', color='#929591')\n",
    "plt.plot([-100, 100], [0, 0], '--', color='#929591')\n",
    "plt.xlim([-100, 100])\n",
    "plt.ylim([-100, 100])\n",
    "plt.xlabel(r'$C_s$')\n",
    "plt.ylabel(r'$\\tilde{C_s}$')\n",
    "plt.savefig(f'../nnTraining/Results/{dt_name}_correlation.png')"
   ]
  },
  {
   "cell_type": "code",
   "execution_count": 124,
   "id": "ae9a5ba1",
   "metadata": {},
   "outputs": [
    {
     "data": {
      "image/png": "[encoded data removed]",
      "text/plain": [
       "<Figure size 640x480 with 1 Axes>"
      ]
     },
     "metadata": {},
     "output_type": "display_data"
    }
   ],
   "source": [
    "plt.hist(test[:,-1], bins=10000, density=True, alpha=0.6, histtype=u'step', color='blue')\n",
    "plt.hist(pred.detach().numpy(), bins=10000, density=True, alpha=0.6, histtype=u'step', color='red')\n",
    "plt.xlim([-0.75, 0.75])\n",
    "plt.xlabel(r'$C_s$')\n",
    "plt.legend(['Ground Truth', 'MLP'])\n",
    "plt.savefig(f'../nnTraining/Results/{dt_name}_density.png')"
   ]
  },
  {
   "cell_type": "code",
   "execution_count": null,
   "id": "dcf0872c",
   "metadata": {},
   "outputs": [],
   "source": []
  }
 ],
 "metadata": {
  "kernelspec": {
   "display_name": "Python 3 (ipykernel)",
   "language": "python",
   "name": "python3"
  },
  "language_info": {
   "codemirror_mode": {
    "name": "ipython",
    "version": 3
   },
   "file_extension": ".py",
   "mimetype": "text/x-python",
   "name": "python",
   "nbconvert_exporter": "python",
   "pygments_lexer": "ipython3",
   "version": "3.8.10"
  }
 },
 "nbformat": 4,
 "nbformat_minor": 5
}
