{
 "cells": [
  {
   "cell_type": "code",
   "execution_count": 1,
   "id": "6d783e00",
   "metadata": {},
   "outputs": [],
   "source": [
    "import numpy as np\n",
    "import pandas as pd\n",
    "import matplotlib.pyplot as plt\n",
    "import seaborn as sns\n",
    "import torch\n",
    "import torch.nn as nn\n",
    "from torch.optim.lr_scheduler import StepLR\n",
    "from tqdm import tqdm\n",
    "import sys\n",
    "\n",
    "sys_epsilon = sys.float_info.epsilon"
   ]
  },
  {
   "cell_type": "code",
   "execution_count": 2,
   "id": "d56a97af",
   "metadata": {},
   "outputs": [
    {
     "ename": "FileNotFoundError",
     "evalue": "[Errno 2] No such file or directory: './datasets/fieldData_R103_means.txt'",
     "output_type": "error",
     "traceback": [
      "\u001b[0;31m---------------------------------------------------------------------------\u001b[0m",
      "\u001b[0;31mFileNotFoundError\u001b[0m                         Traceback (most recent call last)",
      "Cell \u001b[0;32mIn[2], line 1\u001b[0m\n\u001b[0;32m----> 1\u001b[0m R103_means \u001b[38;5;241m=\u001b[39m \u001b[43mpd\u001b[49m\u001b[38;5;241;43m.\u001b[39;49m\u001b[43mread_csv\u001b[49m\u001b[43m(\u001b[49m\u001b[38;5;124;43m'\u001b[39;49m\u001b[38;5;124;43m./datasets/fieldData_R103_means.txt\u001b[39;49m\u001b[38;5;124;43m'\u001b[39;49m\u001b[43m,\u001b[49m\u001b[43m \u001b[49m\u001b[43msep\u001b[49m\u001b[38;5;241;43m=\u001b[39;49m\u001b[38;5;124;43m'\u001b[39;49m\u001b[38;5;124;43m \u001b[39;49m\u001b[38;5;124;43m'\u001b[39;49m\u001b[43m,\u001b[49m\u001b[43m \u001b[49m\u001b[43mheader\u001b[49m\u001b[38;5;241;43m=\u001b[39;49m\u001b[38;5;28;43;01mNone\u001b[39;49;00m\u001b[43m)\u001b[49m\u001b[38;5;241m.\u001b[39mT\u001b[38;5;241m.\u001b[39mset_axis(headers, axis\u001b[38;5;241m=\u001b[39m\u001b[38;5;241m1\u001b[39m)\n\u001b[1;32m      2\u001b[0m R503_means \u001b[38;5;241m=\u001b[39m pd\u001b[38;5;241m.\u001b[39mread_csv(\u001b[38;5;124m'\u001b[39m\u001b[38;5;124m./datasets/fieldData_R503_means.txt\u001b[39m\u001b[38;5;124m'\u001b[39m, sep\u001b[38;5;241m=\u001b[39m\u001b[38;5;124m'\u001b[39m\u001b[38;5;124m \u001b[39m\u001b[38;5;124m'\u001b[39m, header\u001b[38;5;241m=\u001b[39m\u001b[38;5;28;01mNone\u001b[39;00m)\u001b[38;5;241m.\u001b[39mT\u001b[38;5;241m.\u001b[39mset_axis(headers, axis\u001b[38;5;241m=\u001b[39m\u001b[38;5;241m1\u001b[39m)\n\u001b[1;32m      3\u001b[0m R104_means \u001b[38;5;241m=\u001b[39m pd\u001b[38;5;241m.\u001b[39mread_csv(\u001b[38;5;124m'\u001b[39m\u001b[38;5;124m./datasets/fieldData_R104_means.txt\u001b[39m\u001b[38;5;124m'\u001b[39m, sep\u001b[38;5;241m=\u001b[39m\u001b[38;5;124m'\u001b[39m\u001b[38;5;124m \u001b[39m\u001b[38;5;124m'\u001b[39m, header\u001b[38;5;241m=\u001b[39m\u001b[38;5;28;01mNone\u001b[39;00m)\u001b[38;5;241m.\u001b[39mT\u001b[38;5;241m.\u001b[39mset_axis(headers, axis\u001b[38;5;241m=\u001b[39m\u001b[38;5;241m1\u001b[39m)\n",
      "File \u001b[0;32m~/jupEnv/lib/python3.8/site-packages/pandas/util/_decorators.py:211\u001b[0m, in \u001b[0;36mdeprecate_kwarg.<locals>._deprecate_kwarg.<locals>.wrapper\u001b[0;34m(*args, **kwargs)\u001b[0m\n\u001b[1;32m    209\u001b[0m     \u001b[38;5;28;01melse\u001b[39;00m:\n\u001b[1;32m    210\u001b[0m         kwargs[new_arg_name] \u001b[38;5;241m=\u001b[39m new_arg_value\n\u001b[0;32m--> 211\u001b[0m \u001b[38;5;28;01mreturn\u001b[39;00m \u001b[43mfunc\u001b[49m\u001b[43m(\u001b[49m\u001b[38;5;241;43m*\u001b[39;49m\u001b[43margs\u001b[49m\u001b[43m,\u001b[49m\u001b[43m \u001b[49m\u001b[38;5;241;43m*\u001b[39;49m\u001b[38;5;241;43m*\u001b[39;49m\u001b[43mkwargs\u001b[49m\u001b[43m)\u001b[49m\n",
      "File \u001b[0;32m~/jupEnv/lib/python3.8/site-packages/pandas/util/_decorators.py:331\u001b[0m, in \u001b[0;36mdeprecate_nonkeyword_arguments.<locals>.decorate.<locals>.wrapper\u001b[0;34m(*args, **kwargs)\u001b[0m\n\u001b[1;32m    325\u001b[0m \u001b[38;5;28;01mif\u001b[39;00m \u001b[38;5;28mlen\u001b[39m(args) \u001b[38;5;241m>\u001b[39m num_allow_args:\n\u001b[1;32m    326\u001b[0m     warnings\u001b[38;5;241m.\u001b[39mwarn(\n\u001b[1;32m    327\u001b[0m         msg\u001b[38;5;241m.\u001b[39mformat(arguments\u001b[38;5;241m=\u001b[39m_format_argument_list(allow_args)),\n\u001b[1;32m    328\u001b[0m         \u001b[38;5;167;01mFutureWarning\u001b[39;00m,\n\u001b[1;32m    329\u001b[0m         stacklevel\u001b[38;5;241m=\u001b[39mfind_stack_level(),\n\u001b[1;32m    330\u001b[0m     )\n\u001b[0;32m--> 331\u001b[0m \u001b[38;5;28;01mreturn\u001b[39;00m \u001b[43mfunc\u001b[49m\u001b[43m(\u001b[49m\u001b[38;5;241;43m*\u001b[39;49m\u001b[43margs\u001b[49m\u001b[43m,\u001b[49m\u001b[43m \u001b[49m\u001b[38;5;241;43m*\u001b[39;49m\u001b[38;5;241;43m*\u001b[39;49m\u001b[43mkwargs\u001b[49m\u001b[43m)\u001b[49m\n",
      "File \u001b[0;32m~/jupEnv/lib/python3.8/site-packages/pandas/io/parsers/readers.py:950\u001b[0m, in \u001b[0;36mread_csv\u001b[0;34m(filepath_or_buffer, sep, delimiter, header, names, index_col, usecols, squeeze, prefix, mangle_dupe_cols, dtype, engine, converters, true_values, false_values, skipinitialspace, skiprows, skipfooter, nrows, na_values, keep_default_na, na_filter, verbose, skip_blank_lines, parse_dates, infer_datetime_format, keep_date_col, date_parser, dayfirst, cache_dates, iterator, chunksize, compression, thousands, decimal, lineterminator, quotechar, quoting, doublequote, escapechar, comment, encoding, encoding_errors, dialect, error_bad_lines, warn_bad_lines, on_bad_lines, delim_whitespace, low_memory, memory_map, float_precision, storage_options)\u001b[0m\n\u001b[1;32m    935\u001b[0m kwds_defaults \u001b[38;5;241m=\u001b[39m _refine_defaults_read(\n\u001b[1;32m    936\u001b[0m     dialect,\n\u001b[1;32m    937\u001b[0m     delimiter,\n\u001b[0;32m   (...)\u001b[0m\n\u001b[1;32m    946\u001b[0m     defaults\u001b[38;5;241m=\u001b[39m{\u001b[38;5;124m\"\u001b[39m\u001b[38;5;124mdelimiter\u001b[39m\u001b[38;5;124m\"\u001b[39m: \u001b[38;5;124m\"\u001b[39m\u001b[38;5;124m,\u001b[39m\u001b[38;5;124m\"\u001b[39m},\n\u001b[1;32m    947\u001b[0m )\n\u001b[1;32m    948\u001b[0m kwds\u001b[38;5;241m.\u001b[39mupdate(kwds_defaults)\n\u001b[0;32m--> 950\u001b[0m \u001b[38;5;28;01mreturn\u001b[39;00m \u001b[43m_read\u001b[49m\u001b[43m(\u001b[49m\u001b[43mfilepath_or_buffer\u001b[49m\u001b[43m,\u001b[49m\u001b[43m \u001b[49m\u001b[43mkwds\u001b[49m\u001b[43m)\u001b[49m\n",
      "File \u001b[0;32m~/jupEnv/lib/python3.8/site-packages/pandas/io/parsers/readers.py:605\u001b[0m, in \u001b[0;36m_read\u001b[0;34m(filepath_or_buffer, kwds)\u001b[0m\n\u001b[1;32m    602\u001b[0m _validate_names(kwds\u001b[38;5;241m.\u001b[39mget(\u001b[38;5;124m\"\u001b[39m\u001b[38;5;124mnames\u001b[39m\u001b[38;5;124m\"\u001b[39m, \u001b[38;5;28;01mNone\u001b[39;00m))\n\u001b[1;32m    604\u001b[0m \u001b[38;5;66;03m# Create the parser.\u001b[39;00m\n\u001b[0;32m--> 605\u001b[0m parser \u001b[38;5;241m=\u001b[39m \u001b[43mTextFileReader\u001b[49m\u001b[43m(\u001b[49m\u001b[43mfilepath_or_buffer\u001b[49m\u001b[43m,\u001b[49m\u001b[43m \u001b[49m\u001b[38;5;241;43m*\u001b[39;49m\u001b[38;5;241;43m*\u001b[39;49m\u001b[43mkwds\u001b[49m\u001b[43m)\u001b[49m\n\u001b[1;32m    607\u001b[0m \u001b[38;5;28;01mif\u001b[39;00m chunksize \u001b[38;5;129;01mor\u001b[39;00m iterator:\n\u001b[1;32m    608\u001b[0m     \u001b[38;5;28;01mreturn\u001b[39;00m parser\n",
      "File \u001b[0;32m~/jupEnv/lib/python3.8/site-packages/pandas/io/parsers/readers.py:1442\u001b[0m, in \u001b[0;36mTextFileReader.__init__\u001b[0;34m(self, f, engine, **kwds)\u001b[0m\n\u001b[1;32m   1439\u001b[0m     \u001b[38;5;28mself\u001b[39m\u001b[38;5;241m.\u001b[39moptions[\u001b[38;5;124m\"\u001b[39m\u001b[38;5;124mhas_index_names\u001b[39m\u001b[38;5;124m\"\u001b[39m] \u001b[38;5;241m=\u001b[39m kwds[\u001b[38;5;124m\"\u001b[39m\u001b[38;5;124mhas_index_names\u001b[39m\u001b[38;5;124m\"\u001b[39m]\n\u001b[1;32m   1441\u001b[0m \u001b[38;5;28mself\u001b[39m\u001b[38;5;241m.\u001b[39mhandles: IOHandles \u001b[38;5;241m|\u001b[39m \u001b[38;5;28;01mNone\u001b[39;00m \u001b[38;5;241m=\u001b[39m \u001b[38;5;28;01mNone\u001b[39;00m\n\u001b[0;32m-> 1442\u001b[0m \u001b[38;5;28mself\u001b[39m\u001b[38;5;241m.\u001b[39m_engine \u001b[38;5;241m=\u001b[39m \u001b[38;5;28;43mself\u001b[39;49m\u001b[38;5;241;43m.\u001b[39;49m\u001b[43m_make_engine\u001b[49m\u001b[43m(\u001b[49m\u001b[43mf\u001b[49m\u001b[43m,\u001b[49m\u001b[43m \u001b[49m\u001b[38;5;28;43mself\u001b[39;49m\u001b[38;5;241;43m.\u001b[39;49m\u001b[43mengine\u001b[49m\u001b[43m)\u001b[49m\n",
      "File \u001b[0;32m~/jupEnv/lib/python3.8/site-packages/pandas/io/parsers/readers.py:1735\u001b[0m, in \u001b[0;36mTextFileReader._make_engine\u001b[0;34m(self, f, engine)\u001b[0m\n\u001b[1;32m   1733\u001b[0m     \u001b[38;5;28;01mif\u001b[39;00m \u001b[38;5;124m\"\u001b[39m\u001b[38;5;124mb\u001b[39m\u001b[38;5;124m\"\u001b[39m \u001b[38;5;129;01mnot\u001b[39;00m \u001b[38;5;129;01min\u001b[39;00m mode:\n\u001b[1;32m   1734\u001b[0m         mode \u001b[38;5;241m+\u001b[39m\u001b[38;5;241m=\u001b[39m \u001b[38;5;124m\"\u001b[39m\u001b[38;5;124mb\u001b[39m\u001b[38;5;124m\"\u001b[39m\n\u001b[0;32m-> 1735\u001b[0m \u001b[38;5;28mself\u001b[39m\u001b[38;5;241m.\u001b[39mhandles \u001b[38;5;241m=\u001b[39m \u001b[43mget_handle\u001b[49m\u001b[43m(\u001b[49m\n\u001b[1;32m   1736\u001b[0m \u001b[43m    \u001b[49m\u001b[43mf\u001b[49m\u001b[43m,\u001b[49m\n\u001b[1;32m   1737\u001b[0m \u001b[43m    \u001b[49m\u001b[43mmode\u001b[49m\u001b[43m,\u001b[49m\n\u001b[1;32m   1738\u001b[0m \u001b[43m    \u001b[49m\u001b[43mencoding\u001b[49m\u001b[38;5;241;43m=\u001b[39;49m\u001b[38;5;28;43mself\u001b[39;49m\u001b[38;5;241;43m.\u001b[39;49m\u001b[43moptions\u001b[49m\u001b[38;5;241;43m.\u001b[39;49m\u001b[43mget\u001b[49m\u001b[43m(\u001b[49m\u001b[38;5;124;43m\"\u001b[39;49m\u001b[38;5;124;43mencoding\u001b[39;49m\u001b[38;5;124;43m\"\u001b[39;49m\u001b[43m,\u001b[49m\u001b[43m \u001b[49m\u001b[38;5;28;43;01mNone\u001b[39;49;00m\u001b[43m)\u001b[49m\u001b[43m,\u001b[49m\n\u001b[1;32m   1739\u001b[0m \u001b[43m    \u001b[49m\u001b[43mcompression\u001b[49m\u001b[38;5;241;43m=\u001b[39;49m\u001b[38;5;28;43mself\u001b[39;49m\u001b[38;5;241;43m.\u001b[39;49m\u001b[43moptions\u001b[49m\u001b[38;5;241;43m.\u001b[39;49m\u001b[43mget\u001b[49m\u001b[43m(\u001b[49m\u001b[38;5;124;43m\"\u001b[39;49m\u001b[38;5;124;43mcompression\u001b[39;49m\u001b[38;5;124;43m\"\u001b[39;49m\u001b[43m,\u001b[49m\u001b[43m \u001b[49m\u001b[38;5;28;43;01mNone\u001b[39;49;00m\u001b[43m)\u001b[49m\u001b[43m,\u001b[49m\n\u001b[1;32m   1740\u001b[0m \u001b[43m    \u001b[49m\u001b[43mmemory_map\u001b[49m\u001b[38;5;241;43m=\u001b[39;49m\u001b[38;5;28;43mself\u001b[39;49m\u001b[38;5;241;43m.\u001b[39;49m\u001b[43moptions\u001b[49m\u001b[38;5;241;43m.\u001b[39;49m\u001b[43mget\u001b[49m\u001b[43m(\u001b[49m\u001b[38;5;124;43m\"\u001b[39;49m\u001b[38;5;124;43mmemory_map\u001b[39;49m\u001b[38;5;124;43m\"\u001b[39;49m\u001b[43m,\u001b[49m\u001b[43m \u001b[49m\u001b[38;5;28;43;01mFalse\u001b[39;49;00m\u001b[43m)\u001b[49m\u001b[43m,\u001b[49m\n\u001b[1;32m   1741\u001b[0m \u001b[43m    \u001b[49m\u001b[43mis_text\u001b[49m\u001b[38;5;241;43m=\u001b[39;49m\u001b[43mis_text\u001b[49m\u001b[43m,\u001b[49m\n\u001b[1;32m   1742\u001b[0m \u001b[43m    \u001b[49m\u001b[43merrors\u001b[49m\u001b[38;5;241;43m=\u001b[39;49m\u001b[38;5;28;43mself\u001b[39;49m\u001b[38;5;241;43m.\u001b[39;49m\u001b[43moptions\u001b[49m\u001b[38;5;241;43m.\u001b[39;49m\u001b[43mget\u001b[49m\u001b[43m(\u001b[49m\u001b[38;5;124;43m\"\u001b[39;49m\u001b[38;5;124;43mencoding_errors\u001b[39;49m\u001b[38;5;124;43m\"\u001b[39;49m\u001b[43m,\u001b[49m\u001b[43m \u001b[49m\u001b[38;5;124;43m\"\u001b[39;49m\u001b[38;5;124;43mstrict\u001b[39;49m\u001b[38;5;124;43m\"\u001b[39;49m\u001b[43m)\u001b[49m\u001b[43m,\u001b[49m\n\u001b[1;32m   1743\u001b[0m \u001b[43m    \u001b[49m\u001b[43mstorage_options\u001b[49m\u001b[38;5;241;43m=\u001b[39;49m\u001b[38;5;28;43mself\u001b[39;49m\u001b[38;5;241;43m.\u001b[39;49m\u001b[43moptions\u001b[49m\u001b[38;5;241;43m.\u001b[39;49m\u001b[43mget\u001b[49m\u001b[43m(\u001b[49m\u001b[38;5;124;43m\"\u001b[39;49m\u001b[38;5;124;43mstorage_options\u001b[39;49m\u001b[38;5;124;43m\"\u001b[39;49m\u001b[43m,\u001b[49m\u001b[43m \u001b[49m\u001b[38;5;28;43;01mNone\u001b[39;49;00m\u001b[43m)\u001b[49m\u001b[43m,\u001b[49m\n\u001b[1;32m   1744\u001b[0m \u001b[43m\u001b[49m\u001b[43m)\u001b[49m\n\u001b[1;32m   1745\u001b[0m \u001b[38;5;28;01massert\u001b[39;00m \u001b[38;5;28mself\u001b[39m\u001b[38;5;241m.\u001b[39mhandles \u001b[38;5;129;01mis\u001b[39;00m \u001b[38;5;129;01mnot\u001b[39;00m \u001b[38;5;28;01mNone\u001b[39;00m\n\u001b[1;32m   1746\u001b[0m f \u001b[38;5;241m=\u001b[39m \u001b[38;5;28mself\u001b[39m\u001b[38;5;241m.\u001b[39mhandles\u001b[38;5;241m.\u001b[39mhandle\n",
      "File \u001b[0;32m~/jupEnv/lib/python3.8/site-packages/pandas/io/common.py:856\u001b[0m, in \u001b[0;36mget_handle\u001b[0;34m(path_or_buf, mode, encoding, compression, memory_map, is_text, errors, storage_options)\u001b[0m\n\u001b[1;32m    851\u001b[0m \u001b[38;5;28;01melif\u001b[39;00m \u001b[38;5;28misinstance\u001b[39m(handle, \u001b[38;5;28mstr\u001b[39m):\n\u001b[1;32m    852\u001b[0m     \u001b[38;5;66;03m# Check whether the filename is to be opened in binary mode.\u001b[39;00m\n\u001b[1;32m    853\u001b[0m     \u001b[38;5;66;03m# Binary mode does not support 'encoding' and 'newline'.\u001b[39;00m\n\u001b[1;32m    854\u001b[0m     \u001b[38;5;28;01mif\u001b[39;00m ioargs\u001b[38;5;241m.\u001b[39mencoding \u001b[38;5;129;01mand\u001b[39;00m \u001b[38;5;124m\"\u001b[39m\u001b[38;5;124mb\u001b[39m\u001b[38;5;124m\"\u001b[39m \u001b[38;5;129;01mnot\u001b[39;00m \u001b[38;5;129;01min\u001b[39;00m ioargs\u001b[38;5;241m.\u001b[39mmode:\n\u001b[1;32m    855\u001b[0m         \u001b[38;5;66;03m# Encoding\u001b[39;00m\n\u001b[0;32m--> 856\u001b[0m         handle \u001b[38;5;241m=\u001b[39m \u001b[38;5;28;43mopen\u001b[39;49m\u001b[43m(\u001b[49m\n\u001b[1;32m    857\u001b[0m \u001b[43m            \u001b[49m\u001b[43mhandle\u001b[49m\u001b[43m,\u001b[49m\n\u001b[1;32m    858\u001b[0m \u001b[43m            \u001b[49m\u001b[43mioargs\u001b[49m\u001b[38;5;241;43m.\u001b[39;49m\u001b[43mmode\u001b[49m\u001b[43m,\u001b[49m\n\u001b[1;32m    859\u001b[0m \u001b[43m            \u001b[49m\u001b[43mencoding\u001b[49m\u001b[38;5;241;43m=\u001b[39;49m\u001b[43mioargs\u001b[49m\u001b[38;5;241;43m.\u001b[39;49m\u001b[43mencoding\u001b[49m\u001b[43m,\u001b[49m\n\u001b[1;32m    860\u001b[0m \u001b[43m            \u001b[49m\u001b[43merrors\u001b[49m\u001b[38;5;241;43m=\u001b[39;49m\u001b[43merrors\u001b[49m\u001b[43m,\u001b[49m\n\u001b[1;32m    861\u001b[0m \u001b[43m            \u001b[49m\u001b[43mnewline\u001b[49m\u001b[38;5;241;43m=\u001b[39;49m\u001b[38;5;124;43m\"\u001b[39;49m\u001b[38;5;124;43m\"\u001b[39;49m\u001b[43m,\u001b[49m\n\u001b[1;32m    862\u001b[0m \u001b[43m        \u001b[49m\u001b[43m)\u001b[49m\n\u001b[1;32m    863\u001b[0m     \u001b[38;5;28;01melse\u001b[39;00m:\n\u001b[1;32m    864\u001b[0m         \u001b[38;5;66;03m# Binary mode\u001b[39;00m\n\u001b[1;32m    865\u001b[0m         handle \u001b[38;5;241m=\u001b[39m \u001b[38;5;28mopen\u001b[39m(handle, ioargs\u001b[38;5;241m.\u001b[39mmode)\n",
      "\u001b[0;31mFileNotFoundError\u001b[0m: [Errno 2] No such file or directory: './datasets/fieldData_R103_means.txt'"
     ]
    }
   ],
   "source": [
    "R103_means = pd.read_csv('./datasets/fieldData_R103_means.txt', sep=' ', header=None).T.set_axis(headers, axis=1)\n",
    "R503_means = pd.read_csv('./datasets/fieldData_R503_means.txt', sep=' ', header=None).T.set_axis(headers, axis=1)\n",
    "R104_means = pd.read_csv('./datasets/fieldData_R104_means.txt', sep=' ', header=None).T.set_axis(headers, axis=1)\n",
    "\n",
    "R103_scales = pd.read_csv('./datasets/fieldData_R103_scales.txt', sep=' ', header=None).T.set_axis(headers, axis=1)\n",
    "R503_scales = pd.read_csv('./datasets/fieldData_R503_scales.txt', sep=' ', header=None).T.set_axis(headers, axis=1)\n",
    "R104_scales = pd.read_csv('./datasets/fieldData_R104_scales.txt', sep=' ', header=None).T.set_axis(headers, axis=1)"
   ]
  },
  {
   "cell_type": "code",
   "execution_count": 2,
   "id": "01b9b73f",
   "metadata": {},
   "outputs": [],
   "source": [
    "headers = [\"t\", \"Ux\", \"Uy\", \"Uz\", \n",
    "           \"G1\", \"G2\", \"G3\", \"G4\", \"G5\", \"G6\", \n",
    "           \"S1\", \"S2\", \"S3\", \"S4\", \"S5\", \"S6\", \n",
    "           \"UUp1\", \"UUp2\", \"UUp3\", \"UUp4\", \"UUp5\", \"UUp6\", \n",
    "           \"Cs\"]\n",
    "\n",
    "R103 = pd.read_csv('./datasets/fieldData_R103_norm.txt', sep=' ', names=headers)\n",
    "R503 = pd.read_csv('./datasets/fieldData_R503_norm.txt', sep=' ', names=headers)\n",
    "R104 = pd.read_csv('./datasets/fieldData_R104_norm.txt', sep=' ', names=headers)"
   ]
  },
  {
   "cell_type": "code",
   "execution_count": 3,
   "id": "5ab61fbf",
   "metadata": {},
   "outputs": [
    {
     "data": {
      "text/html": [
       "<div>\n",
       "<style scoped>\n",
       "    .dataframe tbody tr th:only-of-type {\n",
       "        vertical-align: middle;\n",
       "    }\n",
       "\n",
       "    .dataframe tbody tr th {\n",
       "        vertical-align: top;\n",
       "    }\n",
       "\n",
       "    .dataframe thead th {\n",
       "        text-align: right;\n",
       "    }\n",
       "</style>\n",
       "<table border=\"1\" class=\"dataframe\">\n",
       "  <thead>\n",
       "    <tr style=\"text-align: right;\">\n",
       "      <th></th>\n",
       "      <th>t</th>\n",
       "      <th>Ux</th>\n",
       "      <th>Uy</th>\n",
       "      <th>Uz</th>\n",
       "      <th>G1</th>\n",
       "      <th>G2</th>\n",
       "      <th>G3</th>\n",
       "      <th>G4</th>\n",
       "      <th>G5</th>\n",
       "      <th>G6</th>\n",
       "      <th>...</th>\n",
       "      <th>S4</th>\n",
       "      <th>S5</th>\n",
       "      <th>S6</th>\n",
       "      <th>UUp1</th>\n",
       "      <th>UUp2</th>\n",
       "      <th>UUp3</th>\n",
       "      <th>UUp4</th>\n",
       "      <th>UUp5</th>\n",
       "      <th>UUp6</th>\n",
       "      <th>Cs</th>\n",
       "    </tr>\n",
       "  </thead>\n",
       "  <tbody>\n",
       "    <tr>\n",
       "      <th>0</th>\n",
       "      <td>-1.027122</td>\n",
       "      <td>-0.000607</td>\n",
       "      <td>-0.001033</td>\n",
       "      <td>0.001586</td>\n",
       "      <td>0.003769</td>\n",
       "      <td>-0.000243</td>\n",
       "      <td>-0.000310</td>\n",
       "      <td>0.001519</td>\n",
       "      <td>-0.004942</td>\n",
       "      <td>-0.002082</td>\n",
       "      <td>...</td>\n",
       "      <td>-0.004942</td>\n",
       "      <td>0.000056</td>\n",
       "      <td>-0.001784</td>\n",
       "      <td>-0.134213</td>\n",
       "      <td>-0.010852</td>\n",
       "      <td>0.009912</td>\n",
       "      <td>-0.153644</td>\n",
       "      <td>-0.045258</td>\n",
       "      <td>-0.150407</td>\n",
       "      <td>-0.232084</td>\n",
       "    </tr>\n",
       "    <tr>\n",
       "      <th>1</th>\n",
       "      <td>-1.027122</td>\n",
       "      <td>0.048423</td>\n",
       "      <td>-0.002944</td>\n",
       "      <td>-0.000262</td>\n",
       "      <td>0.021788</td>\n",
       "      <td>-0.000289</td>\n",
       "      <td>-0.000408</td>\n",
       "      <td>0.001519</td>\n",
       "      <td>-0.017760</td>\n",
       "      <td>-0.002090</td>\n",
       "      <td>...</td>\n",
       "      <td>-0.017760</td>\n",
       "      <td>0.000042</td>\n",
       "      <td>-0.015981</td>\n",
       "      <td>-0.134199</td>\n",
       "      <td>-0.010853</td>\n",
       "      <td>0.009911</td>\n",
       "      <td>-0.153644</td>\n",
       "      <td>-0.045258</td>\n",
       "      <td>-0.150407</td>\n",
       "      <td>-0.191414</td>\n",
       "    </tr>\n",
       "    <tr>\n",
       "      <th>2</th>\n",
       "      <td>-1.027122</td>\n",
       "      <td>0.146858</td>\n",
       "      <td>-0.000820</td>\n",
       "      <td>0.001179</td>\n",
       "      <td>0.005336</td>\n",
       "      <td>0.000219</td>\n",
       "      <td>0.000182</td>\n",
       "      <td>0.001882</td>\n",
       "      <td>-0.003509</td>\n",
       "      <td>-0.002079</td>\n",
       "      <td>...</td>\n",
       "      <td>-0.003509</td>\n",
       "      <td>0.000060</td>\n",
       "      <td>-0.004908</td>\n",
       "      <td>-0.133998</td>\n",
       "      <td>-0.010854</td>\n",
       "      <td>0.009910</td>\n",
       "      <td>-0.153644</td>\n",
       "      <td>-0.045258</td>\n",
       "      <td>-0.150406</td>\n",
       "      <td>0.044781</td>\n",
       "    </tr>\n",
       "    <tr>\n",
       "      <th>3</th>\n",
       "      <td>-1.027122</td>\n",
       "      <td>0.095208</td>\n",
       "      <td>-0.000137</td>\n",
       "      <td>0.002144</td>\n",
       "      <td>-0.003282</td>\n",
       "      <td>-0.000302</td>\n",
       "      <td>-0.000333</td>\n",
       "      <td>0.001519</td>\n",
       "      <td>0.001063</td>\n",
       "      <td>-0.002076</td>\n",
       "      <td>...</td>\n",
       "      <td>0.001063</td>\n",
       "      <td>0.000066</td>\n",
       "      <td>0.002495</td>\n",
       "      <td>-0.133893</td>\n",
       "      <td>-0.010854</td>\n",
       "      <td>0.009910</td>\n",
       "      <td>-0.153644</td>\n",
       "      <td>-0.045258</td>\n",
       "      <td>-0.150406</td>\n",
       "      <td>0.088803</td>\n",
       "    </tr>\n",
       "    <tr>\n",
       "      <th>4</th>\n",
       "      <td>-1.027122</td>\n",
       "      <td>0.078927</td>\n",
       "      <td>-0.000084</td>\n",
       "      <td>0.001453</td>\n",
       "      <td>-0.000148</td>\n",
       "      <td>-0.000061</td>\n",
       "      <td>-0.000199</td>\n",
       "      <td>0.001519</td>\n",
       "      <td>0.001425</td>\n",
       "      <td>-0.002077</td>\n",
       "      <td>...</td>\n",
       "      <td>0.001425</td>\n",
       "      <td>0.000064</td>\n",
       "      <td>-0.002813</td>\n",
       "      <td>-0.133738</td>\n",
       "      <td>-0.010855</td>\n",
       "      <td>0.009909</td>\n",
       "      <td>-0.153644</td>\n",
       "      <td>-0.045258</td>\n",
       "      <td>-0.150406</td>\n",
       "      <td>-0.099000</td>\n",
       "    </tr>\n",
       "  </tbody>\n",
       "</table>\n",
       "<p>5 rows × 23 columns</p>\n",
       "</div>"
      ],
      "text/plain": [
       "          t        Ux        Uy        Uz        G1        G2        G3  \\\n",
       "0 -1.027122 -0.000607 -0.001033  0.001586  0.003769 -0.000243 -0.000310   \n",
       "1 -1.027122  0.048423 -0.002944 -0.000262  0.021788 -0.000289 -0.000408   \n",
       "2 -1.027122  0.146858 -0.000820  0.001179  0.005336  0.000219  0.000182   \n",
       "3 -1.027122  0.095208 -0.000137  0.002144 -0.003282 -0.000302 -0.000333   \n",
       "4 -1.027122  0.078927 -0.000084  0.001453 -0.000148 -0.000061 -0.000199   \n",
       "\n",
       "         G4        G5        G6  ...        S4        S5        S6      UUp1  \\\n",
       "0  0.001519 -0.004942 -0.002082  ... -0.004942  0.000056 -0.001784 -0.134213   \n",
       "1  0.001519 -0.017760 -0.002090  ... -0.017760  0.000042 -0.015981 -0.134199   \n",
       "2  0.001882 -0.003509 -0.002079  ... -0.003509  0.000060 -0.004908 -0.133998   \n",
       "3  0.001519  0.001063 -0.002076  ...  0.001063  0.000066  0.002495 -0.133893   \n",
       "4  0.001519  0.001425 -0.002077  ...  0.001425  0.000064 -0.002813 -0.133738   \n",
       "\n",
       "       UUp2      UUp3      UUp4      UUp5      UUp6        Cs  \n",
       "0 -0.010852  0.009912 -0.153644 -0.045258 -0.150407 -0.232084  \n",
       "1 -0.010853  0.009911 -0.153644 -0.045258 -0.150407 -0.191414  \n",
       "2 -0.010854  0.009910 -0.153644 -0.045258 -0.150406  0.044781  \n",
       "3 -0.010854  0.009910 -0.153644 -0.045258 -0.150406  0.088803  \n",
       "4 -0.010855  0.009909 -0.153644 -0.045258 -0.150406 -0.099000  \n",
       "\n",
       "[5 rows x 23 columns]"
      ]
     },
     "execution_count": 3,
     "metadata": {},
     "output_type": "execute_result"
    }
   ],
   "source": [
    "R103.head()"
   ]
  },
  {
   "cell_type": "code",
   "execution_count": 4,
   "id": "c5190ce9",
   "metadata": {},
   "outputs": [
    {
     "data": {
      "text/plain": [
       "(26697608, 23)"
      ]
     },
     "execution_count": 4,
     "metadata": {},
     "output_type": "execute_result"
    }
   ],
   "source": [
    "frames = [R103, R503, R104]\n",
    "df = pd.concat(frames)\n",
    "df.shape"
   ]
  },
  {
   "cell_type": "code",
   "execution_count": 5,
   "id": "00708509",
   "metadata": {},
   "outputs": [],
   "source": [
    "M1_headers = ['Ux', 'Uy', 'Uz', 'S1',  'S2', 'S3', 'S4', 'S5', 'S6', 'Cs']\n",
    "M2_headers = ['G1', 'G2', 'G3', 'G4', 'G5', 'G6', 'S1',  'S2', 'S3', 'S4', 'S5', 'S6', 'Cs']\n",
    "M3_headers = ['Ux', 'Uy', 'Uz', 'UUp1',  'UUp2', 'UUp3', 'UUp4', 'UUp5', 'UUp6', 'Cs']\n",
    "M4_headers = ['G1', 'G2', 'G3', 'G4', 'G5', 'G6', 'UUp1',  'UUp2', 'UUp3', 'UUp4', 'UUp5', 'UUp6', 'Cs']\n",
    "\n",
    "M1_103 = R103.filter(M1_headers, axis=1)\n",
    "M2_103 = R103.filter(M2_headers, axis=1)\n",
    "M3_103 = R103.filter(M3_headers, axis=1)\n",
    "M4_103 = R103.filter(M4_headers, axis=1)\n",
    "\n",
    "M1_503 = R503.filter(M1_headers, axis=1)\n",
    "M2_503 = R503.filter(M2_headers, axis=1)\n",
    "M3_503 = R503.filter(M3_headers, axis=1)\n",
    "M4_503 = R503.filter(M4_headers, axis=1)\n",
    "\n",
    "M1_104 = R104.filter(M1_headers, axis=1)\n",
    "M2_104 = R104.filter(M2_headers, axis=1)\n",
    "M3_104 = R104.filter(M3_headers, axis=1)\n",
    "M4_104 = R104.filter(M4_headers, axis=1)\n",
    "\n",
    "M1 = df.filter(M1_headers, axis=1)\n",
    "M2 = df.filter(M2_headers, axis=1)\n",
    "M3 = df.filter(M3_headers, axis=1)\n",
    "M4 = df.filter(M4_headers, axis=1)"
   ]
  },
  {
   "cell_type": "code",
   "execution_count": 6,
   "id": "1f89e529",
   "metadata": {},
   "outputs": [
    {
     "data": {
      "text/plain": [
       "((26697608, 10), (26697608, 13))"
      ]
     },
     "execution_count": 6,
     "metadata": {},
     "output_type": "execute_result"
    }
   ],
   "source": [
    "M1.shape, M2.shape"
   ]
  },
  {
   "cell_type": "code",
   "execution_count": 7,
   "id": "f891aa76",
   "metadata": {},
   "outputs": [],
   "source": [
    "def namestr(obj, namespace):\n",
    "    return [name for name in namespace if namespace[name] is obj]"
   ]
  },
  {
   "cell_type": "code",
   "execution_count": 85,
   "id": "5816028b",
   "metadata": {},
   "outputs": [],
   "source": [
    "scale = R104_scales[\"Cs\"]\n",
    "mean = R104_means[\"Cs\"]\n",
    "dt = M4_104\n",
    "dt_name = namestr(M4_104, globals())[0]\n",
    "output_size = 1\n",
    "input_size = dt.shape[1] - output_size \n",
    "neurons_per_layer = [60, 60, 60, 60, 60] #[120, 60, 30, 20, 10, 10, 20, 30, 60]\n",
    "hidden_layers = len(neurons_per_layer)   \n",
    "#latent_size = 20  "
   ]
  },
  {
   "cell_type": "code",
   "execution_count": 9,
   "id": "9321b395",
   "metadata": {},
   "outputs": [
    {
     "data": {
      "text/html": [
       "<div>\n",
       "<style scoped>\n",
       "    .dataframe tbody tr th:only-of-type {\n",
       "        vertical-align: middle;\n",
       "    }\n",
       "\n",
       "    .dataframe tbody tr th {\n",
       "        vertical-align: top;\n",
       "    }\n",
       "\n",
       "    .dataframe thead th {\n",
       "        text-align: right;\n",
       "    }\n",
       "</style>\n",
       "<table border=\"1\" class=\"dataframe\">\n",
       "  <thead>\n",
       "    <tr style=\"text-align: right;\">\n",
       "      <th></th>\n",
       "      <th>G1</th>\n",
       "      <th>G2</th>\n",
       "      <th>G3</th>\n",
       "      <th>G4</th>\n",
       "      <th>G5</th>\n",
       "      <th>G6</th>\n",
       "      <th>UUp1</th>\n",
       "      <th>UUp2</th>\n",
       "      <th>UUp3</th>\n",
       "      <th>UUp4</th>\n",
       "      <th>UUp5</th>\n",
       "      <th>UUp6</th>\n",
       "      <th>Cs</th>\n",
       "    </tr>\n",
       "  </thead>\n",
       "  <tbody>\n",
       "    <tr>\n",
       "      <th>0</th>\n",
       "      <td>-0.000859</td>\n",
       "      <td>0.001333</td>\n",
       "      <td>0.000589</td>\n",
       "      <td>0.000236</td>\n",
       "      <td>-0.001709</td>\n",
       "      <td>0.000490</td>\n",
       "      <td>-0.117743</td>\n",
       "      <td>-0.001035</td>\n",
       "      <td>0.000682</td>\n",
       "      <td>-0.143908</td>\n",
       "      <td>-0.005119</td>\n",
       "      <td>-0.143157</td>\n",
       "      <td>-1.929617</td>\n",
       "    </tr>\n",
       "    <tr>\n",
       "      <th>1</th>\n",
       "      <td>0.007403</td>\n",
       "      <td>0.001420</td>\n",
       "      <td>0.000656</td>\n",
       "      <td>0.000236</td>\n",
       "      <td>-0.004601</td>\n",
       "      <td>0.000669</td>\n",
       "      <td>-0.117742</td>\n",
       "      <td>-0.001035</td>\n",
       "      <td>0.000682</td>\n",
       "      <td>-0.143908</td>\n",
       "      <td>-0.005119</td>\n",
       "      <td>-0.143157</td>\n",
       "      <td>-0.183021</td>\n",
       "    </tr>\n",
       "    <tr>\n",
       "      <th>2</th>\n",
       "      <td>0.015995</td>\n",
       "      <td>0.001564</td>\n",
       "      <td>0.000896</td>\n",
       "      <td>0.000236</td>\n",
       "      <td>-0.008244</td>\n",
       "      <td>-0.000488</td>\n",
       "      <td>-0.117735</td>\n",
       "      <td>-0.001036</td>\n",
       "      <td>0.000682</td>\n",
       "      <td>-0.143908</td>\n",
       "      <td>-0.005119</td>\n",
       "      <td>-0.143157</td>\n",
       "      <td>-0.124142</td>\n",
       "    </tr>\n",
       "    <tr>\n",
       "      <th>3</th>\n",
       "      <td>0.011368</td>\n",
       "      <td>0.001738</td>\n",
       "      <td>0.001067</td>\n",
       "      <td>0.000236</td>\n",
       "      <td>-0.001409</td>\n",
       "      <td>-0.001457</td>\n",
       "      <td>-0.117709</td>\n",
       "      <td>-0.001036</td>\n",
       "      <td>0.000681</td>\n",
       "      <td>-0.143908</td>\n",
       "      <td>-0.005119</td>\n",
       "      <td>-0.143157</td>\n",
       "      <td>-0.258416</td>\n",
       "    </tr>\n",
       "    <tr>\n",
       "      <th>4</th>\n",
       "      <td>-0.009122</td>\n",
       "      <td>0.000399</td>\n",
       "      <td>0.000139</td>\n",
       "      <td>-0.000411</td>\n",
       "      <td>0.004366</td>\n",
       "      <td>-0.001645</td>\n",
       "      <td>-0.117683</td>\n",
       "      <td>-0.001036</td>\n",
       "      <td>0.000681</td>\n",
       "      <td>-0.143908</td>\n",
       "      <td>-0.005118</td>\n",
       "      <td>-0.143157</td>\n",
       "      <td>0.106165</td>\n",
       "    </tr>\n",
       "  </tbody>\n",
       "</table>\n",
       "</div>"
      ],
      "text/plain": [
       "         G1        G2        G3        G4        G5        G6      UUp1  \\\n",
       "0 -0.000859  0.001333  0.000589  0.000236 -0.001709  0.000490 -0.117743   \n",
       "1  0.007403  0.001420  0.000656  0.000236 -0.004601  0.000669 -0.117742   \n",
       "2  0.015995  0.001564  0.000896  0.000236 -0.008244 -0.000488 -0.117735   \n",
       "3  0.011368  0.001738  0.001067  0.000236 -0.001409 -0.001457 -0.117709   \n",
       "4 -0.009122  0.000399  0.000139 -0.000411  0.004366 -0.001645 -0.117683   \n",
       "\n",
       "       UUp2      UUp3      UUp4      UUp5      UUp6        Cs  \n",
       "0 -0.001035  0.000682 -0.143908 -0.005119 -0.143157 -1.929617  \n",
       "1 -0.001035  0.000682 -0.143908 -0.005119 -0.143157 -0.183021  \n",
       "2 -0.001036  0.000682 -0.143908 -0.005119 -0.143157 -0.124142  \n",
       "3 -0.001036  0.000681 -0.143908 -0.005119 -0.143157 -0.258416  \n",
       "4 -0.001036  0.000681 -0.143908 -0.005118 -0.143157  0.106165  "
      ]
     },
     "execution_count": 9,
     "metadata": {},
     "output_type": "execute_result"
    }
   ],
   "source": [
    "dt.head()"
   ]
  },
  {
   "cell_type": "code",
   "execution_count": 10,
   "id": "fe61abc0",
   "metadata": {},
   "outputs": [],
   "source": [
    "#dt.to_csv(f'./{dt_name}.txt', sep=' ', index=False, encoding='utf-8', header=False)"
   ]
  },
  {
   "cell_type": "code",
   "execution_count": 11,
   "id": "fa94eef3",
   "metadata": {},
   "outputs": [],
   "source": [
    "mask = np.random.rand(len(dt)) < 0.8\n",
    "train_val = dt[mask]\n",
    "test = dt[~mask].to_numpy()\n",
    "\n",
    "mask = np.random.rand(len(train_val)) < 0.8\n",
    "train = train_val[mask].to_numpy()\n",
    "val = train_val[~mask].to_numpy()"
   ]
  },
  {
   "cell_type": "code",
   "execution_count": 12,
   "id": "8f5586cc",
   "metadata": {},
   "outputs": [
    {
     "data": {
      "text/plain": [
       "((17552029, 13), 11234695, 2807427, 3509907)"
      ]
     },
     "execution_count": 12,
     "metadata": {},
     "output_type": "execute_result"
    }
   ],
   "source": [
    "dt.shape, train.shape[0], val.shape[0], test.shape[0]"
   ]
  },
  {
   "cell_type": "code",
   "execution_count": 13,
   "id": "d15cbee6",
   "metadata": {},
   "outputs": [],
   "source": [
    "batch_sz_trn = 4096\n",
    "batch_sz_val = int(batch_sz_trn / 4)\n",
    "batch_sz_tst = int(batch_sz_trn / 4)\n",
    "\n",
    "train_loader = torch.utils.data.DataLoader(dataset=train, batch_size=batch_sz_trn, shuffle=True)\n",
    "val_loader = torch.utils.data.DataLoader(dataset=val, batch_size=batch_sz_val, shuffle=True)\n",
    "test_loader = torch.utils.data.DataLoader(dataset=test, batch_size=batch_sz_tst, shuffle=True)"
   ]
  },
  {
   "cell_type": "code",
   "execution_count": 14,
   "id": "364d96fe",
   "metadata": {},
   "outputs": [
    {
     "data": {
      "text/plain": [
       "tensor([ 3.5163e-02, -8.0394e-03, -1.9024e-03, -4.2935e-03,  1.9647e-02,\n",
       "        -7.3606e-03, -1.1723e-01, -1.0461e-03,  7.3754e-04, -1.4345e-01,\n",
       "        -4.8394e-03, -1.4298e-01, -8.1433e-01], dtype=torch.float64)"
      ]
     },
     "execution_count": 14,
     "metadata": {},
     "output_type": "execute_result"
    }
   ],
   "source": [
    "data_iter = iter(train_loader)\n",
    "next(data_iter)[0]"
   ]
  },
  {
   "cell_type": "code",
   "execution_count": 15,
   "id": "854d19d5",
   "metadata": {},
   "outputs": [],
   "source": [
    "def coeff_determination(y_true, y_pred):\n",
    "    SS_res = torch.sum(torch.square( y_true - y_pred ))\n",
    "    SS_tot = torch.sum(torch.square( y_true - torch.mean(y_true) ) )\n",
    "    return ( 1 - SS_res/(SS_tot + sys_epsilon) )"
   ]
  },
  {
   "cell_type": "code",
   "execution_count": 16,
   "id": "a7b91edd",
   "metadata": {},
   "outputs": [],
   "source": [
    "class MLPModel(nn.Module):\n",
    "    def __init__(self, input_size, output_size, hidden_layers, neurons_per_layer):\n",
    "        super(MLPModel, self).__init__()\n",
    "\n",
    "        layers = []\n",
    "        layers.append(nn.Linear(input_size, neurons_per_layer[0]))\n",
    "        layers.append(nn.ReLU())\n",
    "\n",
    "        for i in range(1, hidden_layers):\n",
    "            layers.append(nn.Linear(neurons_per_layer[i - 1], neurons_per_layer[i]))\n",
    "            layers.append(nn.ReLU())\n",
    "\n",
    "        layers.append(nn.Linear(neurons_per_layer[-1], output_size))\n",
    "\n",
    "        self.block = nn.Sequential(*layers)\n",
    "\n",
    "    def forward(self, x):\n",
    "        x = self.block(x)\n",
    "        return x\n"
   ]
  },
  {
   "cell_type": "code",
   "execution_count": 17,
   "id": "16b59a5a",
   "metadata": {},
   "outputs": [],
   "source": [
    "class Autoencoder(nn.Module):\n",
    "    def __init__(self, input_size, latent_size, hidden_layers, neurons_per_layer):\n",
    "        super(Autoencoder, self).__init__()\n",
    "\n",
    "        # Encoder layers\n",
    "        encoder_layers = []\n",
    "        encoder_layers.append(nn.Linear(input_size, neurons_per_layer[0]))\n",
    "        encoder_layers.append(nn.ReLU())\n",
    "\n",
    "        for i in range(1, hidden_layers):\n",
    "            encoder_layers.append(nn.Linear(neurons_per_layer[i - 1], neurons_per_layer[i]))\n",
    "            encoder_layers.append(nn.ReLU())\n",
    "\n",
    "        encoder_layers.append(nn.Linear(neurons_per_layer[-1], latent_size))\n",
    "        self.encoder = nn.Sequential(*encoder_layers)\n",
    "\n",
    "        # Decoder layers\n",
    "        decoder_layers = []\n",
    "        decoder_layers.append(nn.Linear(latent_size, neurons_per_layer[-1]))\n",
    "        decoder_layers.append(nn.ReLU())\n",
    "\n",
    "        for i in range(hidden_layers - 1, 0, -1):\n",
    "            decoder_layers.append(nn.Linear(neurons_per_layer[i], neurons_per_layer[i - 1]))\n",
    "            decoder_layers.append(nn.ReLU())\n",
    "\n",
    "        decoder_layers.append(nn.Linear(neurons_per_layer[0], 1))\n",
    "        self.decoder = nn.Sequential(*decoder_layers)\n",
    "\n",
    "    def forward(self, x):\n",
    "        # Encode input\n",
    "        encoded = self.encoder(x)\n",
    "\n",
    "        # Decode\n",
    "        decoded = self.decoder(encoded)\n",
    "\n",
    "        return decoded\n"
   ]
  },
  {
   "cell_type": "code",
   "execution_count": 18,
   "id": "85bbb899",
   "metadata": {},
   "outputs": [],
   "source": [
    "model = MLPModel(input_size=input_size, \n",
    "                 output_size=output_size, \n",
    "                 hidden_layers=hidden_layers, \n",
    "                 neurons_per_layer=neurons_per_layer)"
   ]
  },
  {
   "cell_type": "code",
   "execution_count": 19,
   "id": "564817d0",
   "metadata": {},
   "outputs": [],
   "source": [
    "#model = Autoencoder(input_size, latent_size, hidden_layers, neurons_per_layer)"
   ]
  },
  {
   "cell_type": "code",
   "execution_count": 20,
   "id": "19be546f",
   "metadata": {},
   "outputs": [],
   "source": [
    "optimizer = torch.optim.Adam(model.parameters(), lr=0.001)\n",
    "scheduler = StepLR(optimizer, step_size=3, gamma=0.2)"
   ]
  },
  {
   "cell_type": "code",
   "execution_count": 21,
   "id": "184f47c5",
   "metadata": {},
   "outputs": [],
   "source": [
    "#criterion = nn.MSELoss()  # Mean Squared Error loss for reconstruction\n",
    "#optimizer = torch.optim.Adam(model.parameters(), lr=0.001)"
   ]
  },
  {
   "cell_type": "code",
   "execution_count": 22,
   "id": "a6152899",
   "metadata": {},
   "outputs": [
    {
     "data": {
      "text/plain": [
       "MLPModel(\n",
       "  (block): Sequential(\n",
       "    (0): Linear(in_features=12, out_features=60, bias=True)\n",
       "    (1): ReLU()\n",
       "    (2): Linear(in_features=60, out_features=60, bias=True)\n",
       "    (3): ReLU()\n",
       "    (4): Linear(in_features=60, out_features=60, bias=True)\n",
       "    (5): ReLU()\n",
       "    (6): Linear(in_features=60, out_features=60, bias=True)\n",
       "    (7): ReLU()\n",
       "    (8): Linear(in_features=60, out_features=60, bias=True)\n",
       "    (9): ReLU()\n",
       "    (10): Linear(in_features=60, out_features=1, bias=True)\n",
       "  )\n",
       ")"
      ]
     },
     "execution_count": 22,
     "metadata": {},
     "output_type": "execute_result"
    }
   ],
   "source": [
    "device = torch.device(\"cuda\")\n",
    "model.to(device)\n",
    "model.double()"
   ]
  },
  {
   "cell_type": "code",
   "execution_count": 23,
   "id": "1173ec45",
   "metadata": {},
   "outputs": [],
   "source": [
    "class EarlyStopper:\n",
    "    def __init__(self, patience=1, path=None):\n",
    "        self.patience = patience\n",
    "        self.path = path\n",
    "        self.counter = 0\n",
    "        self.min_val_loss = float('inf')\n",
    "\n",
    "    def early_stop(self, model_stat, val_loss):\n",
    "        if val_loss < self.min_val_loss:\n",
    "            torch.save(model_stat, self.path)\n",
    "            self.min_val_loss = val_loss\n",
    "            self.counter = 0\n",
    "        elif val_loss > (self.min_val_loss + sys_epsilon):\n",
    "            self.counter += 1\n",
    "            if self.counter >= self.patience:\n",
    "                print('+++ Early Stopping is reached! +++')\n",
    "                return True\n",
    "        return False"
   ]
  },
  {
   "cell_type": "code",
   "execution_count": 24,
   "id": "82eab4ef",
   "metadata": {
    "scrolled": true
   },
   "outputs": [
    {
     "name": "stderr",
     "output_type": "stream",
     "text": [
      "Train: 100%|██████████| 2743/2743 [00:42<00:00, 64.03batch/s]\n",
      "Valdt: 100%|██████████| 2742/2742 [00:11<00:00, 236.17batch/s]\n"
     ]
    },
    {
     "name": "stdout",
     "output_type": "stream",
     "text": [
      "Epoch: 0 / 6000, \n",
      " Train -- Loss: 0.6223813256101323, Coeff: 0.669677734375 \n",
      " Val   -- Loss: 2.353805321026261, Coeff: 2.677734375 \n",
      "\n",
      "\n"
     ]
    },
    {
     "name": "stderr",
     "output_type": "stream",
     "text": [
      "Train: 100%|██████████| 2743/2743 [00:41<00:00, 66.14batch/s]\n",
      "Valdt: 100%|██████████| 2742/2742 [00:11<00:00, 238.96batch/s]\n"
     ]
    },
    {
     "name": "stdout",
     "output_type": "stream",
     "text": [
      "Epoch: 1 / 6000, \n",
      " Train -- Loss: 0.6066980500418006, Coeff: 0.669677734375 \n",
      " Val   -- Loss: 2.3181211950565426, Coeff: 2.677734375 \n",
      "\n",
      "\n"
     ]
    },
    {
     "name": "stderr",
     "output_type": "stream",
     "text": [
      "Train: 100%|██████████| 2743/2743 [00:41<00:00, 65.86batch/s]\n",
      "Valdt: 100%|██████████| 2742/2742 [00:11<00:00, 236.21batch/s]\n"
     ]
    },
    {
     "name": "stdout",
     "output_type": "stream",
     "text": [
      "Epoch: 2 / 6000, \n",
      " Train -- Loss: 0.5998018649233893, Coeff: 0.669677734375 \n",
      " Val   -- Loss: 2.3046816936417063, Coeff: 2.677734375 \n",
      "\n",
      "\n"
     ]
    },
    {
     "name": "stderr",
     "output_type": "stream",
     "text": [
      "Train: 100%|██████████| 2743/2743 [00:41<00:00, 66.11batch/s]\n",
      "Valdt: 100%|██████████| 2742/2742 [00:11<00:00, 236.42batch/s]\n"
     ]
    },
    {
     "name": "stdout",
     "output_type": "stream",
     "text": [
      "Epoch: 3 / 6000, \n",
      " Train -- Loss: 0.5939638229764839, Coeff: 0.669677734375 \n",
      " Val   -- Loss: 2.2794590190571036, Coeff: 2.677734375 \n",
      "\n",
      "\n"
     ]
    },
    {
     "name": "stderr",
     "output_type": "stream",
     "text": [
      "Train: 100%|██████████| 2743/2743 [00:41<00:00, 65.92batch/s]\n",
      "Valdt: 100%|██████████| 2742/2742 [00:11<00:00, 235.85batch/s]\n"
     ]
    },
    {
     "name": "stdout",
     "output_type": "stream",
     "text": [
      "Epoch: 4 / 6000, \n",
      " Train -- Loss: 0.5891169316530369, Coeff: 0.669677734375 \n",
      " Val   -- Loss: 2.2558538862055406, Coeff: 2.677734375 \n",
      "\n",
      "\n"
     ]
    },
    {
     "name": "stderr",
     "output_type": "stream",
     "text": [
      "Train: 100%|██████████| 2743/2743 [00:41<00:00, 66.46batch/s]\n",
      "Valdt: 100%|██████████| 2742/2742 [00:11<00:00, 235.83batch/s]\n"
     ]
    },
    {
     "name": "stdout",
     "output_type": "stream",
     "text": [
      "Epoch: 5 / 6000, \n",
      " Train -- Loss: 0.5855060351260648, Coeff: 0.669677734375 \n",
      " Val   -- Loss: 2.265980476595093, Coeff: 2.677734375 \n",
      "\n",
      "\n"
     ]
    },
    {
     "name": "stderr",
     "output_type": "stream",
     "text": [
      "Train: 100%|██████████| 2743/2743 [00:40<00:00, 67.22batch/s]\n",
      "Valdt: 100%|██████████| 2742/2742 [00:11<00:00, 237.96batch/s]\n"
     ]
    },
    {
     "name": "stdout",
     "output_type": "stream",
     "text": [
      "Epoch: 6 / 6000, \n",
      " Train -- Loss: 0.5830325994885495, Coeff: 0.669677734375 \n",
      " Val   -- Loss: 2.247522330320236, Coeff: 2.677734375 \n",
      "\n",
      "\n"
     ]
    },
    {
     "name": "stderr",
     "output_type": "stream",
     "text": [
      "Train: 100%|██████████| 2743/2743 [00:41<00:00, 66.58batch/s]\n",
      "Valdt: 100%|██████████| 2742/2742 [00:11<00:00, 237.12batch/s]\n"
     ]
    },
    {
     "name": "stdout",
     "output_type": "stream",
     "text": [
      "Epoch: 7 / 6000, \n",
      " Train -- Loss: 0.581086988551249, Coeff: 0.669677734375 \n",
      " Val   -- Loss: 2.25199994622655, Coeff: 2.677734375 \n",
      "\n",
      "\n"
     ]
    },
    {
     "name": "stderr",
     "output_type": "stream",
     "text": [
      "Train: 100%|██████████| 2743/2743 [00:41<00:00, 66.81batch/s]\n",
      "Valdt: 100%|██████████| 2742/2742 [00:11<00:00, 236.21batch/s]\n"
     ]
    },
    {
     "name": "stdout",
     "output_type": "stream",
     "text": [
      "Epoch: 8 / 6000, \n",
      " Train -- Loss: 0.5793766674369437, Coeff: 0.669677734375 \n",
      " Val   -- Loss: 2.2468873908959495, Coeff: 2.677734375 \n",
      "\n",
      "\n"
     ]
    },
    {
     "name": "stderr",
     "output_type": "stream",
     "text": [
      "Train: 100%|██████████| 2743/2743 [00:41<00:00, 66.05batch/s]\n",
      "Valdt: 100%|██████████| 2742/2742 [00:11<00:00, 238.78batch/s]\n"
     ]
    },
    {
     "name": "stdout",
     "output_type": "stream",
     "text": [
      "Epoch: 9 / 6000, \n",
      " Train -- Loss: 0.5777671810525378, Coeff: 0.669677734375 \n",
      " Val   -- Loss: 2.233263795316538, Coeff: 2.677734375 \n",
      "\n",
      "\n"
     ]
    },
    {
     "name": "stderr",
     "output_type": "stream",
     "text": [
      "Train: 100%|██████████| 2743/2743 [00:41<00:00, 66.06batch/s]\n",
      "Valdt: 100%|██████████| 2742/2742 [00:11<00:00, 237.01batch/s]\n"
     ]
    },
    {
     "name": "stdout",
     "output_type": "stream",
     "text": [
      "Epoch: 10 / 6000, \n",
      " Train -- Loss: 0.5763517395987374, Coeff: 0.669677734375 \n",
      " Val   -- Loss: 2.2358237656859163, Coeff: 2.677734375 \n",
      "\n",
      "\n"
     ]
    },
    {
     "name": "stderr",
     "output_type": "stream",
     "text": [
      "Train: 100%|██████████| 2743/2743 [00:41<00:00, 66.13batch/s]\n",
      "Valdt: 100%|██████████| 2742/2742 [00:11<00:00, 237.03batch/s]\n"
     ]
    },
    {
     "name": "stdout",
     "output_type": "stream",
     "text": [
      "Epoch: 11 / 6000, \n",
      " Train -- Loss: 0.5751928095726595, Coeff: 0.669677734375 \n",
      " Val   -- Loss: 2.2357351319141427, Coeff: 2.677734375 \n",
      "\n",
      "\n"
     ]
    },
    {
     "name": "stderr",
     "output_type": "stream",
     "text": [
      "Train: 100%|██████████| 2743/2743 [00:41<00:00, 65.58batch/s]\n",
      "Valdt: 100%|██████████| 2742/2742 [00:11<00:00, 235.91batch/s]\n"
     ]
    },
    {
     "name": "stdout",
     "output_type": "stream",
     "text": [
      "Epoch: 12 / 6000, \n",
      " Train -- Loss: 0.5737132073109202, Coeff: 0.669677734375 \n",
      " Val   -- Loss: 2.2328057842674505, Coeff: 2.677734375 \n",
      "\n",
      "\n"
     ]
    },
    {
     "name": "stderr",
     "output_type": "stream",
     "text": [
      "Train: 100%|██████████| 2743/2743 [00:41<00:00, 65.47batch/s]\n",
      "Valdt: 100%|██████████| 2742/2742 [00:11<00:00, 235.02batch/s]\n"
     ]
    },
    {
     "name": "stdout",
     "output_type": "stream",
     "text": [
      "Epoch: 13 / 6000, \n",
      " Train -- Loss: 0.572540314800677, Coeff: 0.669677734375 \n",
      " Val   -- Loss: 2.2705429391255976, Coeff: 2.677734375 \n",
      "\n",
      "\n"
     ]
    },
    {
     "name": "stderr",
     "output_type": "stream",
     "text": [
      "Train: 100%|██████████| 2743/2743 [00:41<00:00, 65.37batch/s]\n",
      "Valdt: 100%|██████████| 2742/2742 [00:11<00:00, 237.33batch/s]\n"
     ]
    },
    {
     "name": "stdout",
     "output_type": "stream",
     "text": [
      "Epoch: 14 / 6000, \n",
      " Train -- Loss: 0.5717557363596916, Coeff: 0.669677734375 \n",
      " Val   -- Loss: 2.21199887755059, Coeff: 2.677734375 \n",
      "\n",
      "\n"
     ]
    },
    {
     "name": "stderr",
     "output_type": "stream",
     "text": [
      "Train: 100%|██████████| 2743/2743 [00:41<00:00, 66.37batch/s]\n",
      "Valdt: 100%|██████████| 2742/2742 [00:11<00:00, 235.37batch/s]\n"
     ]
    },
    {
     "name": "stdout",
     "output_type": "stream",
     "text": [
      "Epoch: 15 / 6000, \n",
      " Train -- Loss: 0.5705619265501459, Coeff: 0.669677734375 \n",
      " Val   -- Loss: 2.219567948737515, Coeff: 2.677734375 \n",
      "\n",
      "\n"
     ]
    },
    {
     "name": "stderr",
     "output_type": "stream",
     "text": [
      "Train: 100%|██████████| 2743/2743 [00:41<00:00, 65.99batch/s]\n",
      "Valdt: 100%|██████████| 2742/2742 [00:11<00:00, 233.83batch/s]\n"
     ]
    },
    {
     "name": "stdout",
     "output_type": "stream",
     "text": [
      "Epoch: 16 / 6000, \n",
      " Train -- Loss: 0.569582960140722, Coeff: 0.669677734375 \n",
      " Val   -- Loss: 2.2227680167729975, Coeff: 2.677734375 \n",
      "\n",
      "\n"
     ]
    },
    {
     "name": "stderr",
     "output_type": "stream",
     "text": [
      "Train: 100%|██████████| 2743/2743 [00:41<00:00, 65.65batch/s]\n",
      "Valdt: 100%|██████████| 2742/2742 [00:11<00:00, 234.52batch/s]\n"
     ]
    },
    {
     "name": "stdout",
     "output_type": "stream",
     "text": [
      "Epoch: 17 / 6000, \n",
      " Train -- Loss: 0.5686922392599579, Coeff: 0.669677734375 \n",
      " Val   -- Loss: 2.2196325303570124, Coeff: 2.677734375 \n",
      "\n",
      "\n"
     ]
    },
    {
     "name": "stderr",
     "output_type": "stream",
     "text": [
      "Train: 100%|██████████| 2743/2743 [00:41<00:00, 66.53batch/s]\n",
      "Valdt: 100%|██████████| 2742/2742 [00:11<00:00, 233.24batch/s]\n"
     ]
    },
    {
     "name": "stdout",
     "output_type": "stream",
     "text": [
      "Epoch: 18 / 6000, \n",
      " Train -- Loss: 0.567381774977035, Coeff: 0.669677734375 \n",
      " Val   -- Loss: 2.215389256203486, Coeff: 2.677734375 \n",
      "\n",
      "\n"
     ]
    },
    {
     "name": "stderr",
     "output_type": "stream",
     "text": [
      "Train: 100%|██████████| 2743/2743 [00:41<00:00, 66.39batch/s]\n",
      "Valdt: 100%|██████████| 2742/2742 [00:11<00:00, 232.73batch/s]\n"
     ]
    },
    {
     "name": "stdout",
     "output_type": "stream",
     "text": [
      "Epoch: 19 / 6000, \n",
      " Train -- Loss: 0.5667099739487786, Coeff: 0.669677734375 \n",
      " Val   -- Loss: 2.2127736363177375, Coeff: 2.677734375 \n",
      "\n",
      "\n"
     ]
    },
    {
     "name": "stderr",
     "output_type": "stream",
     "text": [
      "Train: 100%|██████████| 2743/2743 [00:41<00:00, 65.48batch/s]\n",
      "Valdt: 100%|██████████| 2742/2742 [00:11<00:00, 234.40batch/s]\n"
     ]
    },
    {
     "name": "stdout",
     "output_type": "stream",
     "text": [
      "Epoch: 20 / 6000, \n",
      " Train -- Loss: 0.5660186158147774, Coeff: 0.669677734375 \n",
      " Val   -- Loss: 2.2259439731692687, Coeff: 2.677734375 \n",
      "\n",
      "\n"
     ]
    },
    {
     "name": "stderr",
     "output_type": "stream",
     "text": [
      "Train: 100%|██████████| 2743/2743 [00:41<00:00, 66.01batch/s]\n",
      "Valdt: 100%|██████████| 2742/2742 [00:11<00:00, 234.20batch/s]\n"
     ]
    },
    {
     "name": "stdout",
     "output_type": "stream",
     "text": [
      "Epoch: 21 / 6000, \n",
      " Train -- Loss: 0.5653268511551465, Coeff: 0.669677734375 \n",
      " Val   -- Loss: 2.2162297156090416, Coeff: 2.677734375 \n",
      "\n",
      "\n"
     ]
    },
    {
     "name": "stderr",
     "output_type": "stream",
     "text": [
      "Train: 100%|██████████| 2743/2743 [00:42<00:00, 65.20batch/s]\n",
      "Valdt: 100%|██████████| 2742/2742 [00:11<00:00, 234.90batch/s]\n"
     ]
    },
    {
     "name": "stdout",
     "output_type": "stream",
     "text": [
      "Epoch: 22 / 6000, \n",
      " Train -- Loss: 0.564564174541512, Coeff: 0.669677734375 \n",
      " Val   -- Loss: 2.195964267066436, Coeff: 2.677734375 \n",
      "\n",
      "\n"
     ]
    },
    {
     "name": "stderr",
     "output_type": "stream",
     "text": [
      "Train: 100%|██████████| 2743/2743 [00:41<00:00, 65.50batch/s]\n",
      "Valdt: 100%|██████████| 2742/2742 [00:11<00:00, 235.02batch/s]\n"
     ]
    },
    {
     "name": "stdout",
     "output_type": "stream",
     "text": [
      "Epoch: 23 / 6000, \n",
      " Train -- Loss: 0.5640546346406486, Coeff: 0.669677734375 \n",
      " Val   -- Loss: 2.205390922669949, Coeff: 2.677734375 \n",
      "\n",
      "\n"
     ]
    },
    {
     "name": "stderr",
     "output_type": "stream",
     "text": [
      "Train: 100%|██████████| 2743/2743 [00:42<00:00, 65.06batch/s]\n",
      "Valdt: 100%|██████████| 2742/2742 [00:11<00:00, 237.38batch/s]\n"
     ]
    },
    {
     "name": "stdout",
     "output_type": "stream",
     "text": [
      "Epoch: 24 / 6000, \n",
      " Train -- Loss: 0.5627163613603162, Coeff: 0.669677734375 \n",
      " Val   -- Loss: 2.224147467121413, Coeff: 2.677734375 \n",
      "\n",
      "\n"
     ]
    },
    {
     "name": "stderr",
     "output_type": "stream",
     "text": [
      "Train: 100%|██████████| 2743/2743 [00:42<00:00, 65.27batch/s]\n",
      "Valdt: 100%|██████████| 2742/2742 [00:11<00:00, 233.75batch/s]\n"
     ]
    },
    {
     "name": "stdout",
     "output_type": "stream",
     "text": [
      "Epoch: 25 / 6000, \n",
      " Train -- Loss: 0.5634162439643104, Coeff: 0.669677734375 \n",
      " Val   -- Loss: 2.194902879806097, Coeff: 2.677734375 \n",
      "\n",
      "\n"
     ]
    },
    {
     "name": "stderr",
     "output_type": "stream",
     "text": [
      "Train: 100%|██████████| 2743/2743 [00:40<00:00, 68.57batch/s]\n",
      "Valdt: 100%|██████████| 2742/2742 [00:11<00:00, 236.64batch/s]\n"
     ]
    },
    {
     "name": "stdout",
     "output_type": "stream",
     "text": [
      "Epoch: 26 / 6000, \n",
      " Train -- Loss: 0.5617650321729812, Coeff: 0.669677734375 \n",
      " Val   -- Loss: 2.1959190538778097, Coeff: 2.677734375 \n",
      "\n",
      "\n"
     ]
    },
    {
     "name": "stderr",
     "output_type": "stream",
     "text": [
      "Train: 100%|██████████| 2743/2743 [00:41<00:00, 66.16batch/s]\n",
      "Valdt: 100%|██████████| 2742/2742 [00:11<00:00, 233.31batch/s]\n"
     ]
    },
    {
     "name": "stdout",
     "output_type": "stream",
     "text": [
      "Epoch: 27 / 6000, \n",
      " Train -- Loss: 0.5610384472086147, Coeff: 0.669677734375 \n",
      " Val   -- Loss: 2.205251818575711, Coeff: 2.677734375 \n",
      "\n",
      "\n"
     ]
    },
    {
     "name": "stderr",
     "output_type": "stream",
     "text": [
      "Train: 100%|██████████| 2743/2743 [00:41<00:00, 65.80batch/s]\n",
      "Valdt: 100%|██████████| 2742/2742 [00:11<00:00, 235.50batch/s]\n"
     ]
    },
    {
     "name": "stdout",
     "output_type": "stream",
     "text": [
      "Epoch: 28 / 6000, \n",
      " Train -- Loss: 0.5608391409053032, Coeff: 0.669677734375 \n",
      " Val   -- Loss: 2.200425186304036, Coeff: 2.677734375 \n",
      "\n",
      "\n"
     ]
    },
    {
     "name": "stderr",
     "output_type": "stream",
     "text": [
      "Train: 100%|██████████| 2743/2743 [00:42<00:00, 65.15batch/s]\n",
      "Valdt: 100%|██████████| 2742/2742 [00:11<00:00, 238.31batch/s]\n"
     ]
    },
    {
     "name": "stdout",
     "output_type": "stream",
     "text": [
      "Epoch: 29 / 6000, \n",
      " Train -- Loss: 0.5599842091076441, Coeff: 0.669677734375 \n",
      " Val   -- Loss: 2.2078839787084408, Coeff: 2.677734375 \n",
      "\n",
      "\n"
     ]
    },
    {
     "name": "stderr",
     "output_type": "stream",
     "text": [
      "Train: 100%|██████████| 2743/2743 [00:41<00:00, 66.28batch/s]\n",
      "Valdt: 100%|██████████| 2742/2742 [00:11<00:00, 234.41batch/s]\n"
     ]
    },
    {
     "name": "stdout",
     "output_type": "stream",
     "text": [
      "Epoch: 30 / 6000, \n",
      " Train -- Loss: 0.5592466130671175, Coeff: 0.669677734375 \n",
      " Val   -- Loss: 2.197557660446334, Coeff: 2.677734375 \n",
      "\n",
      "\n"
     ]
    },
    {
     "name": "stderr",
     "output_type": "stream",
     "text": [
      "Train: 100%|██████████| 2743/2743 [00:41<00:00, 65.76batch/s]\n",
      "Valdt: 100%|██████████| 2742/2742 [00:11<00:00, 233.74batch/s]\n"
     ]
    },
    {
     "name": "stdout",
     "output_type": "stream",
     "text": [
      "Epoch: 31 / 6000, \n",
      " Train -- Loss: 0.5594943645082171, Coeff: 0.669677734375 \n",
      " Val   -- Loss: 2.2118361543392457, Coeff: 2.677734375 \n",
      "\n",
      "\n"
     ]
    },
    {
     "name": "stderr",
     "output_type": "stream",
     "text": [
      "Train: 100%|██████████| 2743/2743 [00:41<00:00, 65.92batch/s]\n",
      "Valdt: 100%|██████████| 2742/2742 [00:11<00:00, 233.86batch/s]\n"
     ]
    },
    {
     "name": "stdout",
     "output_type": "stream",
     "text": [
      "Epoch: 32 / 6000, \n",
      " Train -- Loss: 0.559015053763386, Coeff: 0.669677734375 \n",
      " Val   -- Loss: 2.2062710197792925, Coeff: 2.677734375 \n",
      "\n",
      "\n"
     ]
    },
    {
     "name": "stderr",
     "output_type": "stream",
     "text": [
      "Train: 100%|██████████| 2743/2743 [00:41<00:00, 65.59batch/s]\n",
      "Valdt: 100%|██████████| 2742/2742 [00:11<00:00, 235.47batch/s]\n"
     ]
    },
    {
     "name": "stdout",
     "output_type": "stream",
     "text": [
      "Epoch: 33 / 6000, \n",
      " Train -- Loss: 0.5576053977958224, Coeff: 0.669677734375 \n",
      " Val   -- Loss: 2.1952639895782684, Coeff: 2.677734375 \n",
      "\n",
      "\n"
     ]
    },
    {
     "name": "stderr",
     "output_type": "stream",
     "text": [
      "Train: 100%|██████████| 2743/2743 [00:41<00:00, 65.79batch/s]\n",
      "Valdt: 100%|██████████| 2742/2742 [00:11<00:00, 243.41batch/s]\n"
     ]
    },
    {
     "name": "stdout",
     "output_type": "stream",
     "text": [
      "Epoch: 34 / 6000, \n",
      " Train -- Loss: 0.5570030617221412, Coeff: 0.669677734375 \n",
      " Val   -- Loss: 2.1947196467265924, Coeff: 2.677734375 \n",
      "\n",
      "\n"
     ]
    },
    {
     "name": "stderr",
     "output_type": "stream",
     "text": [
      "Train: 100%|██████████| 2743/2743 [00:42<00:00, 65.21batch/s]\n",
      "Valdt: 100%|██████████| 2742/2742 [00:11<00:00, 234.53batch/s]\n"
     ]
    },
    {
     "name": "stdout",
     "output_type": "stream",
     "text": [
      "Epoch: 35 / 6000, \n",
      " Train -- Loss: 0.5576579143999123, Coeff: 0.669677734375 \n",
      " Val   -- Loss: 2.186134926412006, Coeff: 2.677734375 \n",
      "\n",
      "\n"
     ]
    },
    {
     "name": "stderr",
     "output_type": "stream",
     "text": [
      "Train: 100%|██████████| 2743/2743 [00:41<00:00, 65.94batch/s]\n",
      "Valdt: 100%|██████████| 2742/2742 [00:11<00:00, 232.66batch/s]\n"
     ]
    },
    {
     "name": "stdout",
     "output_type": "stream",
     "text": [
      "Epoch: 36 / 6000, \n",
      " Train -- Loss: 0.5564607690679066, Coeff: 0.669677734375 \n",
      " Val   -- Loss: 2.1865719619597783, Coeff: 2.677734375 \n",
      "\n",
      "\n"
     ]
    },
    {
     "name": "stderr",
     "output_type": "stream",
     "text": [
      "Train: 100%|██████████| 2743/2743 [00:41<00:00, 65.36batch/s]\n",
      "Valdt: 100%|██████████| 2742/2742 [00:11<00:00, 234.69batch/s]\n"
     ]
    },
    {
     "name": "stdout",
     "output_type": "stream",
     "text": [
      "Epoch: 37 / 6000, \n",
      " Train -- Loss: 0.5567103912277878, Coeff: 0.669677734375 \n",
      " Val   -- Loss: 2.1947145305882776, Coeff: 2.677734375 \n",
      "\n",
      "\n"
     ]
    },
    {
     "name": "stderr",
     "output_type": "stream",
     "text": [
      "Train: 100%|██████████| 2743/2743 [00:42<00:00, 65.24batch/s]\n",
      "Valdt: 100%|██████████| 2742/2742 [00:11<00:00, 233.19batch/s]\n"
     ]
    },
    {
     "name": "stdout",
     "output_type": "stream",
     "text": [
      "Epoch: 38 / 6000, \n",
      " Train -- Loss: 0.5564491109096306, Coeff: 0.669677734375 \n",
      " Val   -- Loss: 2.191011912205829, Coeff: 2.677734375 \n",
      "\n",
      "\n"
     ]
    },
    {
     "name": "stderr",
     "output_type": "stream",
     "text": [
      "Train: 100%|██████████| 2743/2743 [00:41<00:00, 65.75batch/s]\n",
      "Valdt: 100%|██████████| 2742/2742 [00:11<00:00, 235.70batch/s]\n"
     ]
    },
    {
     "name": "stdout",
     "output_type": "stream",
     "text": [
      "Epoch: 39 / 6000, \n",
      " Train -- Loss: 0.5557573201563378, Coeff: 0.669677734375 \n",
      " Val   -- Loss: 2.1973178927212533, Coeff: 2.677734375 \n",
      "\n",
      "\n"
     ]
    },
    {
     "name": "stderr",
     "output_type": "stream",
     "text": [
      "Train: 100%|██████████| 2743/2743 [00:41<00:00, 65.49batch/s]\n",
      "Valdt: 100%|██████████| 2742/2742 [00:11<00:00, 234.04batch/s]\n"
     ]
    },
    {
     "name": "stdout",
     "output_type": "stream",
     "text": [
      "Epoch: 40 / 6000, \n",
      " Train -- Loss: 0.555393056765511, Coeff: 0.669677734375 \n",
      " Val   -- Loss: 2.201224177559546, Coeff: 2.677734375 \n",
      "\n",
      "\n"
     ]
    },
    {
     "name": "stderr",
     "output_type": "stream",
     "text": [
      "Train: 100%|██████████| 2743/2743 [00:41<00:00, 65.68batch/s]\n",
      "Valdt: 100%|██████████| 2742/2742 [00:11<00:00, 235.77batch/s]\n"
     ]
    },
    {
     "name": "stdout",
     "output_type": "stream",
     "text": [
      "Epoch: 41 / 6000, \n",
      " Train -- Loss: 0.554456004281541, Coeff: 0.669677734375 \n",
      " Val   -- Loss: 2.187683028347542, Coeff: 2.677734375 \n",
      "\n",
      "\n"
     ]
    },
    {
     "name": "stderr",
     "output_type": "stream",
     "text": [
      "Train: 100%|██████████| 2743/2743 [00:42<00:00, 65.29batch/s]\n",
      "Valdt: 100%|██████████| 2742/2742 [00:11<00:00, 235.49batch/s]\n"
     ]
    },
    {
     "name": "stdout",
     "output_type": "stream",
     "text": [
      "Epoch: 42 / 6000, \n",
      " Train -- Loss: 0.5547243917686103, Coeff: 0.669677734375 \n",
      " Val   -- Loss: 2.1950626029250517, Coeff: 2.677734375 \n",
      "\n",
      "\n"
     ]
    },
    {
     "name": "stderr",
     "output_type": "stream",
     "text": [
      "Train: 100%|██████████| 2743/2743 [00:41<00:00, 65.52batch/s]\n",
      "Valdt: 100%|██████████| 2742/2742 [00:11<00:00, 234.11batch/s]\n"
     ]
    },
    {
     "name": "stdout",
     "output_type": "stream",
     "text": [
      "Epoch: 43 / 6000, \n",
      " Train -- Loss: 0.5544177486035772, Coeff: 0.669677734375 \n",
      " Val   -- Loss: 2.179904300730175, Coeff: 2.677734375 \n",
      "\n",
      "\n"
     ]
    },
    {
     "name": "stderr",
     "output_type": "stream",
     "text": [
      "Train: 100%|██████████| 2743/2743 [00:41<00:00, 65.58batch/s]\n",
      "Valdt: 100%|██████████| 2742/2742 [00:11<00:00, 235.19batch/s]\n"
     ]
    },
    {
     "name": "stdout",
     "output_type": "stream",
     "text": [
      "Epoch: 44 / 6000, \n",
      " Train -- Loss: 0.5539845732518999, Coeff: 0.669677734375 \n",
      " Val   -- Loss: 2.191408343500154, Coeff: 2.677734375 \n",
      "\n",
      "\n"
     ]
    },
    {
     "name": "stderr",
     "output_type": "stream",
     "text": [
      "Train: 100%|██████████| 2743/2743 [00:41<00:00, 66.08batch/s]\n",
      "Valdt: 100%|██████████| 2742/2742 [00:11<00:00, 235.09batch/s]\n"
     ]
    },
    {
     "name": "stdout",
     "output_type": "stream",
     "text": [
      "Epoch: 45 / 6000, \n",
      " Train -- Loss: 0.5535490076312567, Coeff: 0.669677734375 \n",
      " Val   -- Loss: 2.1842303434005674, Coeff: 2.677734375 \n",
      "\n",
      "\n"
     ]
    },
    {
     "name": "stderr",
     "output_type": "stream",
     "text": [
      "Train: 100%|██████████| 2743/2743 [00:41<00:00, 66.02batch/s]\n",
      "Valdt: 100%|██████████| 2742/2742 [00:11<00:00, 235.79batch/s]\n"
     ]
    },
    {
     "name": "stdout",
     "output_type": "stream",
     "text": [
      "Epoch: 46 / 6000, \n",
      " Train -- Loss: 0.5527254867324288, Coeff: 0.669677734375 \n",
      " Val   -- Loss: 2.1990835026284703, Coeff: 2.677734375 \n",
      "\n",
      "\n"
     ]
    },
    {
     "name": "stderr",
     "output_type": "stream",
     "text": [
      "Train: 100%|██████████| 2743/2743 [00:41<00:00, 65.87batch/s]\n",
      "Valdt: 100%|██████████| 2742/2742 [00:11<00:00, 239.09batch/s]\n"
     ]
    },
    {
     "name": "stdout",
     "output_type": "stream",
     "text": [
      "Epoch: 47 / 6000, \n",
      " Train -- Loss: 0.5522675368867614, Coeff: 0.669677734375 \n",
      " Val   -- Loss: 2.1916920793664816, Coeff: 2.677734375 \n",
      "\n",
      "\n"
     ]
    },
    {
     "name": "stderr",
     "output_type": "stream",
     "text": [
      "Train: 100%|██████████| 2743/2743 [00:41<00:00, 65.90batch/s]\n",
      "Valdt: 100%|██████████| 2742/2742 [00:11<00:00, 234.16batch/s]\n"
     ]
    },
    {
     "name": "stdout",
     "output_type": "stream",
     "text": [
      "Epoch: 48 / 6000, \n",
      " Train -- Loss: 0.5526536680700948, Coeff: 0.669677734375 \n",
      " Val   -- Loss: 2.1816696434747564, Coeff: 2.677734375 \n",
      "\n",
      "\n"
     ]
    },
    {
     "name": "stderr",
     "output_type": "stream",
     "text": [
      "Train: 100%|██████████| 2743/2743 [00:41<00:00, 66.06batch/s]\n",
      "Valdt: 100%|██████████| 2742/2742 [00:11<00:00, 234.80batch/s]\n"
     ]
    },
    {
     "name": "stdout",
     "output_type": "stream",
     "text": [
      "Epoch: 49 / 6000, \n",
      " Train -- Loss: 0.5518893574312367, Coeff: 0.669677734375 \n",
      " Val   -- Loss: 2.18038810568759, Coeff: 2.677734375 \n",
      "\n",
      "\n"
     ]
    },
    {
     "name": "stderr",
     "output_type": "stream",
     "text": [
      "Train: 100%|██████████| 2743/2743 [00:41<00:00, 65.69batch/s]\n",
      "Valdt: 100%|██████████| 2742/2742 [00:11<00:00, 233.01batch/s]\n"
     ]
    },
    {
     "name": "stdout",
     "output_type": "stream",
     "text": [
      "Epoch: 50 / 6000, \n",
      " Train -- Loss: 0.5523621111176407, Coeff: 0.669677734375 \n",
      " Val   -- Loss: 2.19153335935015, Coeff: 2.677734375 \n",
      "\n",
      "\n"
     ]
    },
    {
     "name": "stderr",
     "output_type": "stream",
     "text": [
      "Train: 100%|██████████| 2743/2743 [00:41<00:00, 66.40batch/s]\n",
      "Valdt: 100%|██████████| 2742/2742 [00:11<00:00, 237.43batch/s]\n"
     ]
    },
    {
     "name": "stdout",
     "output_type": "stream",
     "text": [
      "Epoch: 51 / 6000, \n",
      " Train -- Loss: 0.5514411687559712, Coeff: 0.669677734375 \n",
      " Val   -- Loss: 2.1896489952956926, Coeff: 2.677734375 \n",
      "\n",
      "\n"
     ]
    },
    {
     "name": "stderr",
     "output_type": "stream",
     "text": [
      "Train: 100%|██████████| 2743/2743 [00:41<00:00, 65.63batch/s]\n",
      "Valdt: 100%|██████████| 2742/2742 [00:11<00:00, 239.03batch/s]\n"
     ]
    },
    {
     "name": "stdout",
     "output_type": "stream",
     "text": [
      "Epoch: 52 / 6000, \n",
      " Train -- Loss: 0.5516989350443325, Coeff: 0.669677734375 \n",
      " Val   -- Loss: 2.1894714214663304, Coeff: 2.677734375 \n",
      "\n",
      "\n"
     ]
    },
    {
     "name": "stderr",
     "output_type": "stream",
     "text": [
      "Train: 100%|██████████| 2743/2743 [00:41<00:00, 65.77batch/s]\n",
      "Valdt: 100%|██████████| 2742/2742 [00:11<00:00, 237.93batch/s]\n"
     ]
    },
    {
     "name": "stdout",
     "output_type": "stream",
     "text": [
      "Epoch: 53 / 6000, \n",
      " Train -- Loss: 0.5512744230538615, Coeff: 0.669677734375 \n",
      " Val   -- Loss: 2.1772082234802, Coeff: 2.677734375 \n",
      "\n",
      "\n"
     ]
    },
    {
     "name": "stderr",
     "output_type": "stream",
     "text": [
      "Train: 100%|██████████| 2743/2743 [00:41<00:00, 66.03batch/s]\n",
      "Valdt: 100%|██████████| 2742/2742 [00:11<00:00, 235.31batch/s]\n"
     ]
    },
    {
     "name": "stdout",
     "output_type": "stream",
     "text": [
      "Epoch: 54 / 6000, \n",
      " Train -- Loss: 0.5500821076505237, Coeff: 0.669677734375 \n",
      " Val   -- Loss: 2.1740321455654925, Coeff: 2.677734375 \n",
      "\n",
      "\n"
     ]
    },
    {
     "name": "stderr",
     "output_type": "stream",
     "text": [
      "Train: 100%|██████████| 2743/2743 [00:41<00:00, 65.66batch/s]\n",
      "Valdt: 100%|██████████| 2742/2742 [00:11<00:00, 237.07batch/s]\n"
     ]
    },
    {
     "name": "stdout",
     "output_type": "stream",
     "text": [
      "Epoch: 55 / 6000, \n",
      " Train -- Loss: 0.5500307284324253, Coeff: 0.669677734375 \n",
      " Val   -- Loss: 2.1809595285063574, Coeff: 2.677734375 \n",
      "\n",
      "\n"
     ]
    },
    {
     "name": "stderr",
     "output_type": "stream",
     "text": [
      "Train: 100%|██████████| 2743/2743 [00:41<00:00, 66.20batch/s]\n",
      "Valdt: 100%|██████████| 2742/2742 [00:11<00:00, 235.19batch/s]\n"
     ]
    },
    {
     "name": "stdout",
     "output_type": "stream",
     "text": [
      "Epoch: 56 / 6000, \n",
      " Train -- Loss: 0.5500334244232611, Coeff: 0.669677734375 \n",
      " Val   -- Loss: 2.191122569045778, Coeff: 2.677734375 \n",
      "\n",
      "\n"
     ]
    },
    {
     "name": "stderr",
     "output_type": "stream",
     "text": [
      "Train: 100%|██████████| 2743/2743 [00:41<00:00, 65.79batch/s]\n",
      "Valdt: 100%|██████████| 2742/2742 [00:11<00:00, 238.63batch/s]\n"
     ]
    },
    {
     "name": "stdout",
     "output_type": "stream",
     "text": [
      "Epoch: 57 / 6000, \n",
      " Train -- Loss: 0.5496435757859615, Coeff: 0.669677734375 \n",
      " Val   -- Loss: 2.1844427706484084, Coeff: 2.677734375 \n",
      "\n",
      "\n"
     ]
    },
    {
     "name": "stderr",
     "output_type": "stream",
     "text": [
      "Train: 100%|██████████| 2743/2743 [00:41<00:00, 65.61batch/s]\n",
      "Valdt: 100%|██████████| 2742/2742 [00:11<00:00, 234.93batch/s]\n"
     ]
    },
    {
     "name": "stdout",
     "output_type": "stream",
     "text": [
      "Epoch: 58 / 6000, \n",
      " Train -- Loss: 0.5499257809708058, Coeff: 0.669677734375 \n",
      " Val   -- Loss: 2.175008582021906, Coeff: 2.677734375 \n",
      "\n",
      "\n"
     ]
    },
    {
     "name": "stderr",
     "output_type": "stream",
     "text": [
      "Train: 100%|██████████| 2743/2743 [00:41<00:00, 66.34batch/s]\n",
      "Valdt: 100%|██████████| 2742/2742 [00:11<00:00, 234.51batch/s]\n"
     ]
    },
    {
     "name": "stdout",
     "output_type": "stream",
     "text": [
      "Epoch: 59 / 6000, \n",
      " Train -- Loss: 0.5491681009382091, Coeff: 0.669677734375 \n",
      " Val   -- Loss: 2.1737431551690154, Coeff: 2.677734375 \n",
      "\n",
      "\n"
     ]
    },
    {
     "name": "stderr",
     "output_type": "stream",
     "text": [
      "Train: 100%|██████████| 2743/2743 [00:41<00:00, 65.96batch/s]\n",
      "Valdt: 100%|██████████| 2742/2742 [00:11<00:00, 232.45batch/s]\n"
     ]
    },
    {
     "name": "stdout",
     "output_type": "stream",
     "text": [
      "Epoch: 60 / 6000, \n",
      " Train -- Loss: 0.5493193677475818, Coeff: 0.669677734375 \n",
      " Val   -- Loss: 2.1707312905309086, Coeff: 2.677734375 \n",
      "\n",
      "\n"
     ]
    },
    {
     "name": "stderr",
     "output_type": "stream",
     "text": [
      "Train: 100%|██████████| 2743/2743 [00:42<00:00, 63.95batch/s]\n",
      "Valdt: 100%|██████████| 2742/2742 [00:11<00:00, 234.95batch/s]\n"
     ]
    },
    {
     "name": "stdout",
     "output_type": "stream",
     "text": [
      "Epoch: 61 / 6000, \n",
      " Train -- Loss: 0.5484858690422936, Coeff: 0.669677734375 \n",
      " Val   -- Loss: 2.1922029411715567, Coeff: 2.677734375 \n",
      "\n",
      "\n"
     ]
    },
    {
     "name": "stderr",
     "output_type": "stream",
     "text": [
      "Train: 100%|██████████| 2743/2743 [00:41<00:00, 66.01batch/s]\n",
      "Valdt: 100%|██████████| 2742/2742 [00:11<00:00, 237.24batch/s]\n"
     ]
    },
    {
     "name": "stdout",
     "output_type": "stream",
     "text": [
      "Epoch: 62 / 6000, \n",
      " Train -- Loss: 0.5489217761745676, Coeff: 0.669677734375 \n",
      " Val   -- Loss: 2.184336208646612, Coeff: 2.677734375 \n",
      "\n",
      "\n"
     ]
    },
    {
     "name": "stderr",
     "output_type": "stream",
     "text": [
      "Train: 100%|██████████| 2743/2743 [00:40<00:00, 67.16batch/s]\n",
      "Valdt: 100%|██████████| 2742/2742 [00:11<00:00, 237.01batch/s]\n"
     ]
    },
    {
     "name": "stdout",
     "output_type": "stream",
     "text": [
      "Epoch: 63 / 6000, \n",
      " Train -- Loss: 0.5482444591773229, Coeff: 0.669677734375 \n",
      " Val   -- Loss: 2.182538363644365, Coeff: 2.677734375 \n",
      "\n",
      "\n"
     ]
    },
    {
     "name": "stderr",
     "output_type": "stream",
     "text": [
      "Train: 100%|██████████| 2743/2743 [00:41<00:00, 66.00batch/s]\n",
      "Valdt: 100%|██████████| 2742/2742 [00:11<00:00, 236.29batch/s]\n"
     ]
    },
    {
     "name": "stdout",
     "output_type": "stream",
     "text": [
      "Epoch: 64 / 6000, \n",
      " Train -- Loss: 0.5482798670944363, Coeff: 0.669677734375 \n",
      " Val   -- Loss: 2.193617605313346, Coeff: 2.677734375 \n",
      "\n",
      "\n"
     ]
    },
    {
     "name": "stderr",
     "output_type": "stream",
     "text": [
      "Train: 100%|██████████| 2743/2743 [00:41<00:00, 65.77batch/s]\n",
      "Valdt: 100%|██████████| 2742/2742 [00:11<00:00, 235.34batch/s]\n"
     ]
    },
    {
     "name": "stdout",
     "output_type": "stream",
     "text": [
      "Epoch: 65 / 6000, \n",
      " Train -- Loss: 0.5479182435066701, Coeff: 0.669677734375 \n",
      " Val   -- Loss: 2.1766998643324733, Coeff: 2.677734375 \n",
      "\n",
      "\n"
     ]
    },
    {
     "name": "stderr",
     "output_type": "stream",
     "text": [
      "Train: 100%|██████████| 2743/2743 [00:41<00:00, 66.27batch/s]\n",
      "Valdt: 100%|██████████| 2742/2742 [00:11<00:00, 233.88batch/s]\n"
     ]
    },
    {
     "name": "stdout",
     "output_type": "stream",
     "text": [
      "Epoch: 66 / 6000, \n",
      " Train -- Loss: 0.5478010967945117, Coeff: 0.669677734375 \n",
      " Val   -- Loss: 2.177240134466625, Coeff: 2.677734375 \n",
      "\n",
      "\n"
     ]
    },
    {
     "name": "stderr",
     "output_type": "stream",
     "text": [
      "Train: 100%|██████████| 2743/2743 [00:41<00:00, 65.76batch/s]\n",
      "Valdt: 100%|██████████| 2742/2742 [00:11<00:00, 238.02batch/s]\n"
     ]
    },
    {
     "name": "stdout",
     "output_type": "stream",
     "text": [
      "Epoch: 67 / 6000, \n",
      " Train -- Loss: 0.5471948311423607, Coeff: 0.669677734375 \n",
      " Val   -- Loss: 2.1959487785789493, Coeff: 2.677734375 \n",
      "\n",
      "\n"
     ]
    },
    {
     "name": "stderr",
     "output_type": "stream",
     "text": [
      "Train: 100%|██████████| 2743/2743 [00:41<00:00, 65.68batch/s]\n",
      "Valdt: 100%|██████████| 2742/2742 [00:11<00:00, 235.33batch/s]\n"
     ]
    },
    {
     "name": "stdout",
     "output_type": "stream",
     "text": [
      "Epoch: 68 / 6000, \n",
      " Train -- Loss: 0.5472451335511117, Coeff: 0.669677734375 \n",
      " Val   -- Loss: 2.1724548648438096, Coeff: 2.677734375 \n",
      "\n",
      "\n"
     ]
    },
    {
     "name": "stderr",
     "output_type": "stream",
     "text": [
      "Train: 100%|██████████| 2743/2743 [00:41<00:00, 65.96batch/s]\n",
      "Valdt: 100%|██████████| 2742/2742 [00:11<00:00, 236.13batch/s]\n"
     ]
    },
    {
     "name": "stdout",
     "output_type": "stream",
     "text": [
      "Epoch: 69 / 6000, \n",
      " Train -- Loss: 0.5470209333955235, Coeff: 0.669677734375 \n",
      " Val   -- Loss: 2.181224326690104, Coeff: 2.677734375 \n",
      "\n",
      "\n"
     ]
    },
    {
     "name": "stderr",
     "output_type": "stream",
     "text": [
      "Train: 100%|██████████| 2743/2743 [00:41<00:00, 65.59batch/s]\n",
      "Valdt: 100%|██████████| 2742/2742 [00:11<00:00, 233.20batch/s]\n"
     ]
    },
    {
     "name": "stdout",
     "output_type": "stream",
     "text": [
      "Epoch: 70 / 6000, \n",
      " Train -- Loss: 0.5463201060963694, Coeff: 0.669677734375 \n",
      " Val   -- Loss: 2.17028259268515, Coeff: 2.677734375 \n",
      "\n",
      "\n"
     ]
    },
    {
     "name": "stderr",
     "output_type": "stream",
     "text": [
      "Train: 100%|██████████| 2743/2743 [00:41<00:00, 65.97batch/s]\n",
      "Valdt: 100%|██████████| 2742/2742 [00:11<00:00, 234.50batch/s]\n"
     ]
    },
    {
     "name": "stdout",
     "output_type": "stream",
     "text": [
      "Epoch: 71 / 6000, \n",
      " Train -- Loss: 0.5461364642360248, Coeff: 0.669677734375 \n",
      " Val   -- Loss: 2.1801490808776984, Coeff: 2.677734375 \n",
      "\n",
      "\n"
     ]
    },
    {
     "name": "stderr",
     "output_type": "stream",
     "text": [
      "Train: 100%|██████████| 2743/2743 [00:43<00:00, 62.53batch/s]\n",
      "Valdt: 100%|██████████| 2742/2742 [00:11<00:00, 236.48batch/s]\n"
     ]
    },
    {
     "name": "stdout",
     "output_type": "stream",
     "text": [
      "Epoch: 72 / 6000, \n",
      " Train -- Loss: 0.5458711851293282, Coeff: 0.669677734375 \n",
      " Val   -- Loss: 2.1702767302884234, Coeff: 2.677734375 \n",
      "\n",
      "\n"
     ]
    },
    {
     "name": "stderr",
     "output_type": "stream",
     "text": [
      "Train: 100%|██████████| 2743/2743 [00:41<00:00, 65.48batch/s]\n",
      "Valdt: 100%|██████████| 2742/2742 [00:11<00:00, 234.95batch/s]\n"
     ]
    },
    {
     "name": "stdout",
     "output_type": "stream",
     "text": [
      "Epoch: 73 / 6000, \n",
      " Train -- Loss: 0.5463145988312629, Coeff: 0.669677734375 \n",
      " Val   -- Loss: 2.1765386450185713, Coeff: 2.677734375 \n",
      "\n",
      "\n"
     ]
    },
    {
     "name": "stderr",
     "output_type": "stream",
     "text": [
      "Train: 100%|██████████| 2743/2743 [00:41<00:00, 66.42batch/s]\n",
      "Valdt: 100%|██████████| 2742/2742 [00:11<00:00, 236.69batch/s]\n"
     ]
    },
    {
     "name": "stdout",
     "output_type": "stream",
     "text": [
      "Epoch: 74 / 6000, \n",
      " Train -- Loss: 0.5462848341634228, Coeff: 0.669677734375 \n",
      " Val   -- Loss: 2.1896680325531896, Coeff: 2.677734375 \n",
      "\n",
      "\n"
     ]
    },
    {
     "name": "stderr",
     "output_type": "stream",
     "text": [
      "Train: 100%|██████████| 2743/2743 [00:41<00:00, 65.99batch/s]\n",
      "Valdt: 100%|██████████| 2742/2742 [00:11<00:00, 235.73batch/s]\n"
     ]
    },
    {
     "name": "stdout",
     "output_type": "stream",
     "text": [
      "Epoch: 75 / 6000, \n",
      " Train -- Loss: 0.5455498249271863, Coeff: 0.669677734375 \n",
      " Val   -- Loss: 2.1727592169216488, Coeff: 2.677734375 \n",
      "\n",
      "\n"
     ]
    },
    {
     "name": "stderr",
     "output_type": "stream",
     "text": [
      "Train: 100%|██████████| 2743/2743 [00:41<00:00, 65.95batch/s]\n",
      "Valdt: 100%|██████████| 2742/2742 [00:11<00:00, 234.19batch/s]\n"
     ]
    },
    {
     "name": "stdout",
     "output_type": "stream",
     "text": [
      "Epoch: 76 / 6000, \n",
      " Train -- Loss: 0.5463222466702972, Coeff: 0.669677734375 \n",
      " Val   -- Loss: 2.1762271635604167, Coeff: 2.677734375 \n",
      "\n",
      "\n"
     ]
    },
    {
     "name": "stderr",
     "output_type": "stream",
     "text": [
      "Train: 100%|██████████| 2743/2743 [00:41<00:00, 65.72batch/s]\n",
      "Valdt: 100%|██████████| 2742/2742 [00:11<00:00, 235.16batch/s]\n"
     ]
    },
    {
     "name": "stdout",
     "output_type": "stream",
     "text": [
      "Epoch: 77 / 6000, \n",
      " Train -- Loss: 0.5453927567326609, Coeff: 0.669677734375 \n",
      " Val   -- Loss: 2.1825715891679636, Coeff: 2.677734375 \n",
      "\n",
      "\n"
     ]
    },
    {
     "name": "stderr",
     "output_type": "stream",
     "text": [
      "Train: 100%|██████████| 2743/2743 [00:41<00:00, 65.57batch/s]\n",
      "Valdt: 100%|██████████| 2742/2742 [00:11<00:00, 232.93batch/s]\n"
     ]
    },
    {
     "name": "stdout",
     "output_type": "stream",
     "text": [
      "Epoch: 78 / 6000, \n",
      " Train -- Loss: 0.5446834285995186, Coeff: 0.669677734375 \n",
      " Val   -- Loss: 2.1659529120021044, Coeff: 2.677734375 \n",
      "\n",
      "\n"
     ]
    },
    {
     "name": "stderr",
     "output_type": "stream",
     "text": [
      "Train: 100%|██████████| 2743/2743 [00:41<00:00, 66.08batch/s]\n",
      "Valdt: 100%|██████████| 2742/2742 [00:11<00:00, 234.20batch/s]\n"
     ]
    },
    {
     "name": "stdout",
     "output_type": "stream",
     "text": [
      "Epoch: 79 / 6000, \n",
      " Train -- Loss: 0.5444517132204564, Coeff: 0.669677734375 \n",
      " Val   -- Loss: 2.1754021579657192, Coeff: 2.677734375 \n",
      "\n",
      "\n"
     ]
    },
    {
     "name": "stderr",
     "output_type": "stream",
     "text": [
      "Train: 100%|██████████| 2743/2743 [00:41<00:00, 66.02batch/s]\n",
      "Valdt: 100%|██████████| 2742/2742 [00:11<00:00, 233.57batch/s]\n"
     ]
    },
    {
     "name": "stdout",
     "output_type": "stream",
     "text": [
      "Epoch: 80 / 6000, \n",
      " Train -- Loss: 0.5445963594032651, Coeff: 0.669677734375 \n",
      " Val   -- Loss: 2.2105643947462594, Coeff: 2.677734375 \n",
      "\n",
      "\n"
     ]
    },
    {
     "name": "stderr",
     "output_type": "stream",
     "text": [
      "Train: 100%|██████████| 2743/2743 [00:41<00:00, 66.10batch/s]\n",
      "Valdt: 100%|██████████| 2742/2742 [00:11<00:00, 234.42batch/s]\n"
     ]
    },
    {
     "name": "stdout",
     "output_type": "stream",
     "text": [
      "Epoch: 81 / 6000, \n",
      " Train -- Loss: 0.5448477824353686, Coeff: 0.669677734375 \n",
      " Val   -- Loss: 2.1995952715129397, Coeff: 2.677734375 \n",
      "\n",
      "\n"
     ]
    },
    {
     "name": "stderr",
     "output_type": "stream",
     "text": [
      "Train: 100%|██████████| 2743/2743 [00:41<00:00, 65.83batch/s]\n",
      "Valdt: 100%|██████████| 2742/2742 [00:11<00:00, 236.70batch/s]\n"
     ]
    },
    {
     "name": "stdout",
     "output_type": "stream",
     "text": [
      "Epoch: 82 / 6000, \n",
      " Train -- Loss: 0.5442434241723751, Coeff: 0.669677734375 \n",
      " Val   -- Loss: 2.1715847284171095, Coeff: 2.677734375 \n",
      "\n",
      "\n"
     ]
    },
    {
     "name": "stderr",
     "output_type": "stream",
     "text": [
      "Train: 100%|██████████| 2743/2743 [00:41<00:00, 65.83batch/s]\n",
      "Valdt: 100%|██████████| 2742/2742 [00:11<00:00, 233.85batch/s]\n"
     ]
    },
    {
     "name": "stdout",
     "output_type": "stream",
     "text": [
      "Epoch: 83 / 6000, \n",
      " Train -- Loss: 0.5438696792955079, Coeff: 0.669677734375 \n",
      " Val   -- Loss: 2.1799357275509252, Coeff: 2.677734375 \n",
      "\n",
      "\n"
     ]
    },
    {
     "name": "stderr",
     "output_type": "stream",
     "text": [
      "Train: 100%|██████████| 2743/2743 [00:41<00:00, 66.06batch/s]\n",
      "Valdt: 100%|██████████| 2742/2742 [00:11<00:00, 233.30batch/s]\n"
     ]
    },
    {
     "name": "stdout",
     "output_type": "stream",
     "text": [
      "Epoch: 84 / 6000, \n",
      " Train -- Loss: 0.5442674462334393, Coeff: 0.669677734375 \n",
      " Val   -- Loss: 2.181595876904007, Coeff: 2.677734375 \n",
      "\n",
      "\n"
     ]
    },
    {
     "name": "stderr",
     "output_type": "stream",
     "text": [
      "Train: 100%|██████████| 2743/2743 [00:41<00:00, 65.55batch/s]\n",
      "Valdt: 100%|██████████| 2742/2742 [00:11<00:00, 235.79batch/s]\n"
     ]
    },
    {
     "name": "stdout",
     "output_type": "stream",
     "text": [
      "Epoch: 85 / 6000, \n",
      " Train -- Loss: 0.543457705786816, Coeff: 0.669677734375 \n",
      " Val   -- Loss: 2.170629931735511, Coeff: 2.677734375 \n",
      "\n",
      "\n"
     ]
    },
    {
     "name": "stderr",
     "output_type": "stream",
     "text": [
      "Train: 100%|██████████| 2743/2743 [00:41<00:00, 66.20batch/s]\n",
      "Valdt: 100%|██████████| 2742/2742 [00:11<00:00, 236.48batch/s]\n"
     ]
    },
    {
     "name": "stdout",
     "output_type": "stream",
     "text": [
      "Epoch: 86 / 6000, \n",
      " Train -- Loss: 0.5440466589148584, Coeff: 0.669677734375 \n",
      " Val   -- Loss: 2.177511873459416, Coeff: 2.677734375 \n",
      "\n",
      "\n"
     ]
    },
    {
     "name": "stderr",
     "output_type": "stream",
     "text": [
      "Train: 100%|██████████| 2743/2743 [00:41<00:00, 65.77batch/s]\n",
      "Valdt: 100%|██████████| 2742/2742 [00:11<00:00, 235.90batch/s]\n"
     ]
    },
    {
     "name": "stdout",
     "output_type": "stream",
     "text": [
      "Epoch: 87 / 6000, \n",
      " Train -- Loss: 0.5435279856128459, Coeff: 0.669677734375 \n",
      " Val   -- Loss: 2.1966135544099665, Coeff: 2.677734375 \n",
      "\n",
      "\n"
     ]
    },
    {
     "name": "stderr",
     "output_type": "stream",
     "text": [
      "Train: 100%|██████████| 2743/2743 [00:41<00:00, 65.84batch/s]\n",
      "Valdt: 100%|██████████| 2742/2742 [00:11<00:00, 234.31batch/s]\n"
     ]
    },
    {
     "name": "stdout",
     "output_type": "stream",
     "text": [
      "Epoch: 88 / 6000, \n",
      " Train -- Loss: 0.5427999076783603, Coeff: 0.669677734375 \n",
      " Val   -- Loss: 2.178625157985313, Coeff: 2.677734375 \n",
      "\n",
      "\n"
     ]
    },
    {
     "name": "stderr",
     "output_type": "stream",
     "text": [
      "Train: 100%|██████████| 2743/2743 [00:41<00:00, 66.33batch/s]\n",
      "Valdt: 100%|██████████| 2742/2742 [00:11<00:00, 232.27batch/s]\n"
     ]
    },
    {
     "name": "stdout",
     "output_type": "stream",
     "text": [
      "Epoch: 89 / 6000, \n",
      " Train -- Loss: 0.5438584127581977, Coeff: 0.669677734375 \n",
      " Val   -- Loss: 2.1760992186289467, Coeff: 2.677734375 \n",
      "\n",
      "\n"
     ]
    },
    {
     "name": "stderr",
     "output_type": "stream",
     "text": [
      "Train: 100%|██████████| 2743/2743 [00:41<00:00, 65.88batch/s]\n",
      "Valdt: 100%|██████████| 2742/2742 [00:11<00:00, 235.30batch/s]\n"
     ]
    },
    {
     "name": "stdout",
     "output_type": "stream",
     "text": [
      "Epoch: 90 / 6000, \n",
      " Train -- Loss: 0.5426976403777046, Coeff: 0.669677734375 \n",
      " Val   -- Loss: 2.183978298497772, Coeff: 2.677734375 \n",
      "\n",
      "\n"
     ]
    },
    {
     "name": "stderr",
     "output_type": "stream",
     "text": [
      "Train: 100%|██████████| 2743/2743 [00:41<00:00, 65.76batch/s]\n",
      "Valdt: 100%|██████████| 2742/2742 [00:11<00:00, 234.48batch/s]\n"
     ]
    },
    {
     "name": "stdout",
     "output_type": "stream",
     "text": [
      "Epoch: 91 / 6000, \n",
      " Train -- Loss: 0.5432480379006746, Coeff: 0.669677734375 \n",
      " Val   -- Loss: 2.1691045913013522, Coeff: 2.677734375 \n",
      "\n",
      "\n"
     ]
    },
    {
     "name": "stderr",
     "output_type": "stream",
     "text": [
      "Train: 100%|██████████| 2743/2743 [00:41<00:00, 65.81batch/s]\n",
      "Valdt: 100%|██████████| 2742/2742 [00:11<00:00, 235.21batch/s]\n"
     ]
    },
    {
     "name": "stdout",
     "output_type": "stream",
     "text": [
      "Epoch: 92 / 6000, \n",
      " Train -- Loss: 0.5429925288001916, Coeff: 0.669677734375 \n",
      " Val   -- Loss: 2.1806110931687384, Coeff: 2.677734375 \n",
      "\n",
      "\n"
     ]
    },
    {
     "name": "stderr",
     "output_type": "stream",
     "text": [
      "Train: 100%|██████████| 2743/2743 [00:41<00:00, 65.42batch/s]\n",
      "Valdt: 100%|██████████| 2742/2742 [00:11<00:00, 234.94batch/s]\n"
     ]
    },
    {
     "name": "stdout",
     "output_type": "stream",
     "text": [
      "Epoch: 93 / 6000, \n",
      " Train -- Loss: 0.5422759757467992, Coeff: 0.669677734375 \n",
      " Val   -- Loss: 2.1964515008772225, Coeff: 2.677734375 \n",
      "\n",
      "\n"
     ]
    },
    {
     "name": "stderr",
     "output_type": "stream",
     "text": [
      "Train: 100%|██████████| 2743/2743 [00:41<00:00, 66.07batch/s]\n",
      "Valdt: 100%|██████████| 2742/2742 [00:11<00:00, 233.53batch/s]\n"
     ]
    },
    {
     "name": "stdout",
     "output_type": "stream",
     "text": [
      "Epoch: 94 / 6000, \n",
      " Train -- Loss: 0.5424345652688162, Coeff: 0.669677734375 \n",
      " Val   -- Loss: 2.171868943437574, Coeff: 2.677734375 \n",
      "\n",
      "\n"
     ]
    },
    {
     "name": "stderr",
     "output_type": "stream",
     "text": [
      "Train: 100%|██████████| 2743/2743 [00:41<00:00, 65.65batch/s]\n",
      "Valdt: 100%|██████████| 2742/2742 [00:11<00:00, 235.57batch/s]\n"
     ]
    },
    {
     "name": "stdout",
     "output_type": "stream",
     "text": [
      "Epoch: 95 / 6000, \n",
      " Train -- Loss: 0.5426346251012188, Coeff: 0.669677734375 \n",
      " Val   -- Loss: 2.1773271614937126, Coeff: 2.677734375 \n",
      "\n",
      "\n"
     ]
    },
    {
     "name": "stderr",
     "output_type": "stream",
     "text": [
      "Train: 100%|██████████| 2743/2743 [00:41<00:00, 65.75batch/s]\n",
      "Valdt: 100%|██████████| 2742/2742 [00:11<00:00, 233.44batch/s]\n"
     ]
    },
    {
     "name": "stdout",
     "output_type": "stream",
     "text": [
      "Epoch: 96 / 6000, \n",
      " Train -- Loss: 0.5420347500837283, Coeff: 0.669677734375 \n",
      " Val   -- Loss: 2.174799597115431, Coeff: 2.677734375 \n",
      "\n",
      "\n"
     ]
    },
    {
     "name": "stderr",
     "output_type": "stream",
     "text": [
      "Train: 100%|██████████| 2743/2743 [00:41<00:00, 66.08batch/s]\n",
      "Valdt: 100%|██████████| 2742/2742 [00:11<00:00, 233.37batch/s]\n"
     ]
    },
    {
     "name": "stdout",
     "output_type": "stream",
     "text": [
      "Epoch: 97 / 6000, \n",
      " Train -- Loss: 0.541915240576757, Coeff: 0.669677734375 \n",
      " Val   -- Loss: 2.1742442896900878, Coeff: 2.677734375 \n",
      "\n",
      "\n"
     ]
    },
    {
     "name": "stderr",
     "output_type": "stream",
     "text": [
      "Train: 100%|██████████| 2743/2743 [00:41<00:00, 65.85batch/s]\n",
      "Valdt: 100%|██████████| 2742/2742 [00:11<00:00, 233.64batch/s]\n"
     ]
    },
    {
     "name": "stdout",
     "output_type": "stream",
     "text": [
      "Epoch: 98 / 6000, \n",
      " Train -- Loss: 0.542126395522749, Coeff: 0.669677734375 \n",
      " Val   -- Loss: 2.175205548047391, Coeff: 2.677734375 \n",
      "\n",
      "\n"
     ]
    },
    {
     "name": "stderr",
     "output_type": "stream",
     "text": [
      "Train: 100%|██████████| 2743/2743 [00:41<00:00, 66.08batch/s]\n",
      "Valdt: 100%|██████████| 2742/2742 [00:11<00:00, 233.15batch/s]\n"
     ]
    },
    {
     "name": "stdout",
     "output_type": "stream",
     "text": [
      "Epoch: 99 / 6000, \n",
      " Train -- Loss: 0.5412654942457753, Coeff: 0.669677734375 \n",
      " Val   -- Loss: 2.179776987148753, Coeff: 2.677734375 \n",
      "\n",
      "\n"
     ]
    },
    {
     "name": "stderr",
     "output_type": "stream",
     "text": [
      "Train: 100%|██████████| 2743/2743 [00:41<00:00, 66.27batch/s]\n",
      "Valdt: 100%|██████████| 2742/2742 [00:11<00:00, 237.53batch/s]\n"
     ]
    },
    {
     "name": "stdout",
     "output_type": "stream",
     "text": [
      "Epoch: 100 / 6000, \n",
      " Train -- Loss: 0.5413187208246271, Coeff: 0.669677734375 \n",
      " Val   -- Loss: 2.168546833985761, Coeff: 2.677734375 \n",
      "\n",
      "\n"
     ]
    },
    {
     "name": "stderr",
     "output_type": "stream",
     "text": [
      "Train: 100%|██████████| 2743/2743 [00:40<00:00, 67.11batch/s]\n",
      "Valdt: 100%|██████████| 2742/2742 [00:11<00:00, 234.99batch/s]\n"
     ]
    },
    {
     "name": "stdout",
     "output_type": "stream",
     "text": [
      "Epoch: 101 / 6000, \n",
      " Train -- Loss: 0.5415024857765635, Coeff: 0.669677734375 \n",
      " Val   -- Loss: 2.167933775312351, Coeff: 2.677734375 \n",
      "\n",
      "\n"
     ]
    },
    {
     "name": "stderr",
     "output_type": "stream",
     "text": [
      "Train: 100%|██████████| 2743/2743 [00:41<00:00, 66.86batch/s]\n",
      "Valdt: 100%|██████████| 2742/2742 [00:11<00:00, 233.82batch/s]\n"
     ]
    },
    {
     "name": "stdout",
     "output_type": "stream",
     "text": [
      "Epoch: 102 / 6000, \n",
      " Train -- Loss: 0.5412334255463378, Coeff: 0.669677734375 \n",
      " Val   -- Loss: 2.17881508989251, Coeff: 2.677734375 \n",
      "\n",
      "\n"
     ]
    },
    {
     "name": "stderr",
     "output_type": "stream",
     "text": [
      "Train: 100%|██████████| 2743/2743 [00:41<00:00, 66.20batch/s]\n",
      "Valdt: 100%|██████████| 2742/2742 [00:11<00:00, 234.22batch/s]\n"
     ]
    },
    {
     "name": "stdout",
     "output_type": "stream",
     "text": [
      "Epoch: 103 / 6000, \n",
      " Train -- Loss: 0.5409428491897695, Coeff: 0.669677734375 \n",
      " Val   -- Loss: 2.1801002101297406, Coeff: 2.677734375 \n",
      "\n",
      "\n"
     ]
    },
    {
     "name": "stderr",
     "output_type": "stream",
     "text": [
      "Train: 100%|██████████| 2743/2743 [00:41<00:00, 65.79batch/s]\n",
      "Valdt: 100%|██████████| 2742/2742 [00:11<00:00, 234.86batch/s]\n"
     ]
    },
    {
     "name": "stdout",
     "output_type": "stream",
     "text": [
      "Epoch: 104 / 6000, \n",
      " Train -- Loss: 0.5409392089012782, Coeff: 0.669677734375 \n",
      " Val   -- Loss: 2.18033675573743, Coeff: 2.677734375 \n",
      "\n",
      "\n"
     ]
    },
    {
     "name": "stderr",
     "output_type": "stream",
     "text": [
      "Train: 100%|██████████| 2743/2743 [00:41<00:00, 65.48batch/s]\n",
      "Valdt: 100%|██████████| 2742/2742 [00:11<00:00, 233.65batch/s]\n"
     ]
    },
    {
     "name": "stdout",
     "output_type": "stream",
     "text": [
      "Epoch: 105 / 6000, \n",
      " Train -- Loss: 0.5407191133483271, Coeff: 0.669677734375 \n",
      " Val   -- Loss: 2.1686105126723434, Coeff: 2.677734375 \n",
      "\n",
      "\n"
     ]
    },
    {
     "name": "stderr",
     "output_type": "stream",
     "text": [
      "Train: 100%|██████████| 2743/2743 [00:41<00:00, 65.98batch/s]\n",
      "Valdt: 100%|██████████| 2742/2742 [00:11<00:00, 233.61batch/s]\n"
     ]
    },
    {
     "name": "stdout",
     "output_type": "stream",
     "text": [
      "Epoch: 106 / 6000, \n",
      " Train -- Loss: 0.5409616382671606, Coeff: 0.669677734375 \n",
      " Val   -- Loss: 2.172946033792798, Coeff: 2.677734375 \n",
      "\n",
      "\n"
     ]
    },
    {
     "name": "stderr",
     "output_type": "stream",
     "text": [
      "Train: 100%|██████████| 2743/2743 [00:41<00:00, 66.27batch/s]\n",
      "Valdt: 100%|██████████| 2742/2742 [00:11<00:00, 231.65batch/s]\n"
     ]
    },
    {
     "name": "stdout",
     "output_type": "stream",
     "text": [
      "Epoch: 107 / 6000, \n",
      " Train -- Loss: 0.5407406914314603, Coeff: 0.669677734375 \n",
      " Val   -- Loss: 2.168477819851058, Coeff: 2.677734375 \n",
      "\n",
      "\n"
     ]
    },
    {
     "name": "stderr",
     "output_type": "stream",
     "text": [
      "Train: 100%|██████████| 2743/2743 [00:41<00:00, 65.96batch/s]\n",
      "Valdt: 100%|██████████| 2742/2742 [00:11<00:00, 232.40batch/s]\n"
     ]
    },
    {
     "name": "stdout",
     "output_type": "stream",
     "text": [
      "Epoch: 108 / 6000, \n",
      " Train -- Loss: 0.5408047079717521, Coeff: 0.669677734375 \n",
      " Val   -- Loss: 2.1745583695307085, Coeff: 2.677734375 \n",
      "\n",
      "\n"
     ]
    },
    {
     "name": "stderr",
     "output_type": "stream",
     "text": [
      "Train: 100%|██████████| 2743/2743 [00:41<00:00, 65.96batch/s]\n",
      "Valdt: 100%|██████████| 2742/2742 [00:11<00:00, 233.49batch/s]\n"
     ]
    },
    {
     "name": "stdout",
     "output_type": "stream",
     "text": [
      "Epoch: 109 / 6000, \n",
      " Train -- Loss: 0.5397046518282806, Coeff: 0.669677734375 \n",
      " Val   -- Loss: 2.177512965939139, Coeff: 2.677734375 \n",
      "\n",
      "\n"
     ]
    },
    {
     "name": "stderr",
     "output_type": "stream",
     "text": [
      "Train: 100%|██████████| 2743/2743 [00:41<00:00, 65.74batch/s]\n",
      "Valdt: 100%|██████████| 2742/2742 [00:11<00:00, 235.80batch/s]\n"
     ]
    },
    {
     "name": "stdout",
     "output_type": "stream",
     "text": [
      "Epoch: 110 / 6000, \n",
      " Train -- Loss: 0.5403439118631568, Coeff: 0.669677734375 \n",
      " Val   -- Loss: 2.1809754600143645, Coeff: 2.677734375 \n",
      "\n",
      "\n"
     ]
    },
    {
     "name": "stderr",
     "output_type": "stream",
     "text": [
      "Train: 100%|██████████| 2743/2743 [00:41<00:00, 65.51batch/s]\n",
      "Valdt: 100%|██████████| 2742/2742 [00:11<00:00, 234.75batch/s]\n"
     ]
    },
    {
     "name": "stdout",
     "output_type": "stream",
     "text": [
      "Epoch: 111 / 6000, \n",
      " Train -- Loss: 0.5397053599905487, Coeff: 0.669677734375 \n",
      " Val   -- Loss: 2.169880249229046, Coeff: 2.677734375 \n",
      "\n",
      "\n"
     ]
    },
    {
     "name": "stderr",
     "output_type": "stream",
     "text": [
      "Train: 100%|██████████| 2743/2743 [00:41<00:00, 65.97batch/s]\n",
      "Valdt: 100%|██████████| 2742/2742 [00:11<00:00, 233.80batch/s]\n"
     ]
    },
    {
     "name": "stdout",
     "output_type": "stream",
     "text": [
      "Epoch: 112 / 6000, \n",
      " Train -- Loss: 0.5397691697650093, Coeff: 0.669677734375 \n",
      " Val   -- Loss: 2.173201131306227, Coeff: 2.677734375 \n",
      "\n",
      "\n"
     ]
    },
    {
     "name": "stderr",
     "output_type": "stream",
     "text": [
      "Train: 100%|██████████| 2743/2743 [00:41<00:00, 65.67batch/s]\n",
      "Valdt: 100%|██████████| 2742/2742 [00:11<00:00, 233.20batch/s]\n"
     ]
    },
    {
     "name": "stdout",
     "output_type": "stream",
     "text": [
      "Epoch: 113 / 6000, \n",
      " Train -- Loss: 0.5396339922670154, Coeff: 0.669677734375 \n",
      " Val   -- Loss: 2.1669081423771646, Coeff: 2.677734375 \n",
      "\n",
      "\n"
     ]
    },
    {
     "name": "stderr",
     "output_type": "stream",
     "text": [
      "Train: 100%|██████████| 2743/2743 [00:41<00:00, 66.13batch/s]\n",
      "Valdt: 100%|██████████| 2742/2742 [00:11<00:00, 234.49batch/s]\n"
     ]
    },
    {
     "name": "stdout",
     "output_type": "stream",
     "text": [
      "Epoch: 114 / 6000, \n",
      " Train -- Loss: 0.53915552338621, Coeff: 0.669677734375 \n",
      " Val   -- Loss: 2.193825828647705, Coeff: 2.677734375 \n",
      "\n",
      "\n"
     ]
    },
    {
     "name": "stderr",
     "output_type": "stream",
     "text": [
      "Train: 100%|██████████| 2743/2743 [00:41<00:00, 65.61batch/s]\n",
      "Valdt: 100%|██████████| 2742/2742 [00:11<00:00, 237.44batch/s]\n"
     ]
    },
    {
     "name": "stdout",
     "output_type": "stream",
     "text": [
      "Epoch: 115 / 6000, \n",
      " Train -- Loss: 0.5397746849297116, Coeff: 0.669677734375 \n",
      " Val   -- Loss: 2.1858968707950575, Coeff: 2.677734375 \n",
      "\n",
      "\n"
     ]
    },
    {
     "name": "stderr",
     "output_type": "stream",
     "text": [
      "Train: 100%|██████████| 2743/2743 [00:41<00:00, 65.73batch/s]\n",
      "Valdt: 100%|██████████| 2742/2742 [00:11<00:00, 235.97batch/s]\n"
     ]
    },
    {
     "name": "stdout",
     "output_type": "stream",
     "text": [
      "Epoch: 116 / 6000, \n",
      " Train -- Loss: 0.5399976188003418, Coeff: 0.669677734375 \n",
      " Val   -- Loss: 2.1665920920803097, Coeff: 2.677734375 \n",
      "\n",
      "\n"
     ]
    },
    {
     "name": "stderr",
     "output_type": "stream",
     "text": [
      "Train: 100%|██████████| 2743/2743 [00:41<00:00, 66.17batch/s]\n",
      "Valdt: 100%|██████████| 2742/2742 [00:11<00:00, 234.09batch/s]\n"
     ]
    },
    {
     "name": "stdout",
     "output_type": "stream",
     "text": [
      "Epoch: 117 / 6000, \n",
      " Train -- Loss: 0.5399713264326059, Coeff: 0.669677734375 \n",
      " Val   -- Loss: 2.188569191827868, Coeff: 2.677734375 \n",
      "\n",
      "\n"
     ]
    },
    {
     "name": "stderr",
     "output_type": "stream",
     "text": [
      "Train: 100%|██████████| 2743/2743 [00:41<00:00, 65.74batch/s]\n",
      "Valdt: 100%|██████████| 2742/2742 [00:11<00:00, 232.80batch/s]\n"
     ]
    },
    {
     "name": "stdout",
     "output_type": "stream",
     "text": [
      "Epoch: 118 / 6000, \n",
      " Train -- Loss: 0.5389200925533292, Coeff: 0.669677734375 \n",
      " Val   -- Loss: 2.1786022692835205, Coeff: 2.677734375 \n",
      "\n",
      "\n"
     ]
    },
    {
     "name": "stderr",
     "output_type": "stream",
     "text": [
      "Train: 100%|██████████| 2743/2743 [00:41<00:00, 66.17batch/s]\n",
      "Valdt: 100%|██████████| 2742/2742 [00:11<00:00, 231.60batch/s]\n"
     ]
    },
    {
     "name": "stdout",
     "output_type": "stream",
     "text": [
      "Epoch: 119 / 6000, \n",
      " Train -- Loss: 0.5397630374950088, Coeff: 0.669677734375 \n",
      " Val   -- Loss: 2.185004989451377, Coeff: 2.677734375 \n",
      "\n",
      "\n"
     ]
    },
    {
     "name": "stderr",
     "output_type": "stream",
     "text": [
      "Train: 100%|██████████| 2743/2743 [00:41<00:00, 66.11batch/s]\n",
      "Valdt: 100%|██████████| 2742/2742 [00:11<00:00, 234.49batch/s]\n"
     ]
    },
    {
     "name": "stdout",
     "output_type": "stream",
     "text": [
      "Epoch: 120 / 6000, \n",
      " Train -- Loss: 0.5385928578971423, Coeff: 0.669677734375 \n",
      " Val   -- Loss: 2.18087627661761, Coeff: 2.677734375 \n",
      "\n",
      "\n"
     ]
    },
    {
     "name": "stderr",
     "output_type": "stream",
     "text": [
      "Train: 100%|██████████| 2743/2743 [00:41<00:00, 65.81batch/s]\n",
      "Valdt: 100%|██████████| 2742/2742 [00:11<00:00, 233.61batch/s]\n"
     ]
    },
    {
     "name": "stdout",
     "output_type": "stream",
     "text": [
      "Epoch: 121 / 6000, \n",
      " Train -- Loss: 0.5388967268893046, Coeff: 0.669677734375 \n",
      " Val   -- Loss: 2.1675579684896356, Coeff: 2.677734375 \n",
      "\n",
      "\n"
     ]
    },
    {
     "name": "stderr",
     "output_type": "stream",
     "text": [
      "Train: 100%|██████████| 2743/2743 [00:41<00:00, 66.03batch/s]\n",
      "Valdt: 100%|██████████| 2742/2742 [00:11<00:00, 234.73batch/s]\n"
     ]
    },
    {
     "name": "stdout",
     "output_type": "stream",
     "text": [
      "Epoch: 122 / 6000, \n",
      " Train -- Loss: 0.5384411307330079, Coeff: 0.669677734375 \n",
      " Val   -- Loss: 2.1739735802613613, Coeff: 2.677734375 \n",
      "\n",
      "\n"
     ]
    },
    {
     "name": "stderr",
     "output_type": "stream",
     "text": [
      "Train: 100%|██████████| 2743/2743 [00:41<00:00, 65.68batch/s]\n",
      "Valdt: 100%|██████████| 2742/2742 [00:11<00:00, 233.18batch/s]\n"
     ]
    },
    {
     "name": "stdout",
     "output_type": "stream",
     "text": [
      "Epoch: 123 / 6000, \n",
      " Train -- Loss: 0.5385280133587915, Coeff: 0.669677734375 \n",
      " Val   -- Loss: 2.1696469678578527, Coeff: 2.677734375 \n",
      "\n",
      "\n"
     ]
    },
    {
     "name": "stderr",
     "output_type": "stream",
     "text": [
      "Train: 100%|██████████| 2743/2743 [00:41<00:00, 66.01batch/s]\n",
      "Valdt: 100%|██████████| 2742/2742 [00:11<00:00, 234.14batch/s]\n"
     ]
    },
    {
     "name": "stdout",
     "output_type": "stream",
     "text": [
      "Epoch: 124 / 6000, \n",
      " Train -- Loss: 0.5387364039106318, Coeff: 0.669677734375 \n",
      " Val   -- Loss: 2.1758177289320226, Coeff: 2.677734375 \n",
      "\n",
      "\n"
     ]
    },
    {
     "name": "stderr",
     "output_type": "stream",
     "text": [
      "Train: 100%|██████████| 2743/2743 [00:41<00:00, 65.86batch/s]\n",
      "Valdt: 100%|██████████| 2742/2742 [00:11<00:00, 236.06batch/s]\n"
     ]
    },
    {
     "name": "stdout",
     "output_type": "stream",
     "text": [
      "Epoch: 125 / 6000, \n",
      " Train -- Loss: 0.5381477101875666, Coeff: 0.669677734375 \n",
      " Val   -- Loss: 2.1948482476478133, Coeff: 2.677734375 \n",
      "\n",
      "\n"
     ]
    },
    {
     "name": "stderr",
     "output_type": "stream",
     "text": [
      "Train: 100%|██████████| 2743/2743 [00:41<00:00, 66.31batch/s]\n",
      "Valdt: 100%|██████████| 2742/2742 [00:11<00:00, 234.49batch/s]\n"
     ]
    },
    {
     "name": "stdout",
     "output_type": "stream",
     "text": [
      "Epoch: 126 / 6000, \n",
      " Train -- Loss: 0.5380240320661818, Coeff: 0.669677734375 \n",
      " Val   -- Loss: 2.1721134576218124, Coeff: 2.677734375 \n",
      "\n",
      "\n"
     ]
    },
    {
     "name": "stderr",
     "output_type": "stream",
     "text": [
      "Train: 100%|██████████| 2743/2743 [00:41<00:00, 65.99batch/s]\n",
      "Valdt: 100%|██████████| 2742/2742 [00:11<00:00, 233.39batch/s]\n"
     ]
    },
    {
     "name": "stdout",
     "output_type": "stream",
     "text": [
      "Epoch: 127 / 6000, \n",
      " Train -- Loss: 0.537864059822169, Coeff: 0.669677734375 \n",
      " Val   -- Loss: 2.156302314322251, Coeff: 2.677734375 \n",
      "\n",
      "\n"
     ]
    },
    {
     "name": "stderr",
     "output_type": "stream",
     "text": [
      "Train: 100%|██████████| 2743/2743 [00:41<00:00, 65.55batch/s]\n",
      "Valdt: 100%|██████████| 2742/2742 [00:11<00:00, 232.25batch/s]\n"
     ]
    },
    {
     "name": "stdout",
     "output_type": "stream",
     "text": [
      "Epoch: 128 / 6000, \n",
      " Train -- Loss: 0.5380980863954493, Coeff: 0.669677734375 \n",
      " Val   -- Loss: 2.169084250883681, Coeff: 2.677734375 \n",
      "\n",
      "\n"
     ]
    },
    {
     "name": "stderr",
     "output_type": "stream",
     "text": [
      "Train: 100%|██████████| 2743/2743 [00:41<00:00, 66.03batch/s]\n",
      "Valdt: 100%|██████████| 2742/2742 [00:11<00:00, 232.24batch/s]\n"
     ]
    },
    {
     "name": "stdout",
     "output_type": "stream",
     "text": [
      "Epoch: 129 / 6000, \n",
      " Train -- Loss: 0.5386997471316314, Coeff: 0.669677734375 \n",
      " Val   -- Loss: 2.1841922654981523, Coeff: 2.677734375 \n",
      "\n",
      "\n"
     ]
    },
    {
     "name": "stderr",
     "output_type": "stream",
     "text": [
      "Train: 100%|██████████| 2743/2743 [00:41<00:00, 66.10batch/s]\n",
      "Valdt: 100%|██████████| 2742/2742 [00:11<00:00, 232.13batch/s]\n"
     ]
    },
    {
     "name": "stdout",
     "output_type": "stream",
     "text": [
      "Epoch: 130 / 6000, \n",
      " Train -- Loss: 0.5378583544885781, Coeff: 0.669677734375 \n",
      " Val   -- Loss: 2.171703540855957, Coeff: 2.677734375 \n",
      "\n",
      "\n"
     ]
    },
    {
     "name": "stderr",
     "output_type": "stream",
     "text": [
      "Train: 100%|██████████| 2743/2743 [00:41<00:00, 65.82batch/s]\n",
      "Valdt: 100%|██████████| 2742/2742 [00:11<00:00, 232.12batch/s]\n"
     ]
    },
    {
     "name": "stdout",
     "output_type": "stream",
     "text": [
      "Epoch: 131 / 6000, \n",
      " Train -- Loss: 0.5374712640760132, Coeff: 0.669677734375 \n",
      " Val   -- Loss: 2.169529084930855, Coeff: 2.677734375 \n",
      "\n",
      "\n"
     ]
    },
    {
     "name": "stderr",
     "output_type": "stream",
     "text": [
      "Train: 100%|██████████| 2743/2743 [00:41<00:00, 66.05batch/s]\n",
      "Valdt: 100%|██████████| 2742/2742 [00:11<00:00, 234.47batch/s]\n"
     ]
    },
    {
     "name": "stdout",
     "output_type": "stream",
     "text": [
      "Epoch: 132 / 6000, \n",
      " Train -- Loss: 0.5380393200711086, Coeff: 0.669677734375 \n",
      " Val   -- Loss: 2.1814050558477334, Coeff: 2.677734375 \n",
      "\n",
      "\n"
     ]
    },
    {
     "name": "stderr",
     "output_type": "stream",
     "text": [
      "Train: 100%|██████████| 2743/2743 [00:41<00:00, 65.58batch/s]\n",
      "Valdt: 100%|██████████| 2742/2742 [00:11<00:00, 237.30batch/s]\n"
     ]
    },
    {
     "name": "stdout",
     "output_type": "stream",
     "text": [
      "Epoch: 133 / 6000, \n",
      " Train -- Loss: 0.5371947138017084, Coeff: 0.669677734375 \n",
      " Val   -- Loss: 2.16998708206601, Coeff: 2.677734375 \n",
      "\n",
      "\n"
     ]
    },
    {
     "name": "stderr",
     "output_type": "stream",
     "text": [
      "Train: 100%|██████████| 2743/2743 [00:46<00:00, 58.41batch/s]\n",
      "Valdt: 100%|██████████| 2742/2742 [00:11<00:00, 230.48batch/s]\n"
     ]
    },
    {
     "name": "stdout",
     "output_type": "stream",
     "text": [
      "Epoch: 134 / 6000, \n",
      " Train -- Loss: 0.537468753491808, Coeff: 0.669677734375 \n",
      " Val   -- Loss: 2.1699455809158166, Coeff: 2.677734375 \n",
      "\n",
      "\n"
     ]
    },
    {
     "name": "stderr",
     "output_type": "stream",
     "text": [
      "Train: 100%|██████████| 2743/2743 [00:41<00:00, 65.85batch/s]\n",
      "Valdt: 100%|██████████| 2742/2742 [00:11<00:00, 233.98batch/s]\n"
     ]
    },
    {
     "name": "stdout",
     "output_type": "stream",
     "text": [
      "Epoch: 135 / 6000, \n",
      " Train -- Loss: 0.537038955427635, Coeff: 0.669677734375 \n",
      " Val   -- Loss: 2.173747023927491, Coeff: 2.677734375 \n",
      "\n",
      "\n"
     ]
    },
    {
     "name": "stderr",
     "output_type": "stream",
     "text": [
      "Train: 100%|██████████| 2743/2743 [00:41<00:00, 65.60batch/s]\n",
      "Valdt: 100%|██████████| 2742/2742 [00:11<00:00, 233.23batch/s]\n"
     ]
    },
    {
     "name": "stdout",
     "output_type": "stream",
     "text": [
      "Epoch: 136 / 6000, \n",
      " Train -- Loss: 0.5366505942770735, Coeff: 0.669677734375 \n",
      " Val   -- Loss: 2.176184594510278, Coeff: 2.677734375 \n",
      "\n",
      "\n"
     ]
    },
    {
     "name": "stderr",
     "output_type": "stream",
     "text": [
      "Train: 100%|██████████| 2743/2743 [00:41<00:00, 65.88batch/s]\n",
      "Valdt: 100%|██████████| 2742/2742 [00:11<00:00, 233.93batch/s]\n"
     ]
    },
    {
     "name": "stdout",
     "output_type": "stream",
     "text": [
      "Epoch: 137 / 6000, \n",
      " Train -- Loss: 0.5369162147954369, Coeff: 0.669677734375 \n",
      " Val   -- Loss: 2.177006144268656, Coeff: 2.677734375 \n",
      "\n",
      "\n"
     ]
    },
    {
     "name": "stderr",
     "output_type": "stream",
     "text": [
      "Train: 100%|██████████| 2743/2743 [00:41<00:00, 65.89batch/s]\n",
      "Valdt: 100%|██████████| 2742/2742 [00:11<00:00, 236.78batch/s]\n"
     ]
    },
    {
     "name": "stdout",
     "output_type": "stream",
     "text": [
      "Epoch: 138 / 6000, \n",
      " Train -- Loss: 0.5363907969052604, Coeff: 0.669677734375 \n",
      " Val   -- Loss: 2.1872529223483497, Coeff: 2.677734375 \n",
      "\n",
      "\n"
     ]
    },
    {
     "name": "stderr",
     "output_type": "stream",
     "text": [
      "Train: 100%|██████████| 2743/2743 [00:41<00:00, 65.67batch/s]\n",
      "Valdt: 100%|██████████| 2742/2742 [00:11<00:00, 233.76batch/s]\n"
     ]
    },
    {
     "name": "stdout",
     "output_type": "stream",
     "text": [
      "Epoch: 139 / 6000, \n",
      " Train -- Loss: 0.5368752655851253, Coeff: 0.669677734375 \n",
      " Val   -- Loss: 2.1857121333853593, Coeff: 2.677734375 \n",
      "\n",
      "\n"
     ]
    },
    {
     "name": "stderr",
     "output_type": "stream",
     "text": [
      "Train: 100%|██████████| 2743/2743 [00:41<00:00, 65.95batch/s]\n",
      "Valdt: 100%|██████████| 2742/2742 [00:11<00:00, 232.37batch/s]\n"
     ]
    },
    {
     "name": "stdout",
     "output_type": "stream",
     "text": [
      "Epoch: 140 / 6000, \n",
      " Train -- Loss: 0.5374172077630297, Coeff: 0.669677734375 \n",
      " Val   -- Loss: 2.1684192167638114, Coeff: 2.677734375 \n",
      "\n",
      "\n"
     ]
    },
    {
     "name": "stderr",
     "output_type": "stream",
     "text": [
      "Train: 100%|██████████| 2743/2743 [00:41<00:00, 65.68batch/s]\n",
      "Valdt: 100%|██████████| 2742/2742 [00:11<00:00, 231.86batch/s]\n"
     ]
    },
    {
     "name": "stdout",
     "output_type": "stream",
     "text": [
      "Epoch: 141 / 6000, \n",
      " Train -- Loss: 0.5364220777358997, Coeff: 0.669677734375 \n",
      " Val   -- Loss: 2.179488707448158, Coeff: 2.677734375 \n",
      "\n",
      "\n"
     ]
    },
    {
     "name": "stderr",
     "output_type": "stream",
     "text": [
      "Train: 100%|██████████| 2743/2743 [00:41<00:00, 66.64batch/s]\n",
      "Valdt: 100%|██████████| 2742/2742 [00:11<00:00, 233.06batch/s]\n"
     ]
    },
    {
     "name": "stdout",
     "output_type": "stream",
     "text": [
      "Epoch: 142 / 6000, \n",
      " Train -- Loss: 0.5367489792696586, Coeff: 0.669677734375 \n",
      " Val   -- Loss: 2.1854957067455905, Coeff: 2.677734375 \n",
      "\n",
      "\n"
     ]
    },
    {
     "name": "stderr",
     "output_type": "stream",
     "text": [
      "Train: 100%|██████████| 2743/2743 [00:41<00:00, 65.88batch/s]\n",
      "Valdt: 100%|██████████| 2742/2742 [00:11<00:00, 236.50batch/s]\n"
     ]
    },
    {
     "name": "stdout",
     "output_type": "stream",
     "text": [
      "Epoch: 143 / 6000, \n",
      " Train -- Loss: 0.5362410425129079, Coeff: 0.669677734375 \n",
      " Val   -- Loss: 2.175813035090563, Coeff: 2.677734375 \n",
      "\n",
      "\n"
     ]
    },
    {
     "name": "stderr",
     "output_type": "stream",
     "text": [
      "Train: 100%|██████████| 2743/2743 [00:41<00:00, 65.77batch/s]\n",
      "Valdt: 100%|██████████| 2742/2742 [00:11<00:00, 236.31batch/s]\n"
     ]
    },
    {
     "name": "stdout",
     "output_type": "stream",
     "text": [
      "Epoch: 144 / 6000, \n",
      " Train -- Loss: 0.5356463814905675, Coeff: 0.669677734375 \n",
      " Val   -- Loss: 2.1932467486605924, Coeff: 2.677734375 \n",
      "\n",
      "\n"
     ]
    },
    {
     "name": "stderr",
     "output_type": "stream",
     "text": [
      "Train: 100%|██████████| 2743/2743 [00:41<00:00, 65.43batch/s]\n",
      "Valdt: 100%|██████████| 2742/2742 [00:11<00:00, 234.76batch/s]\n"
     ]
    },
    {
     "name": "stdout",
     "output_type": "stream",
     "text": [
      "Epoch: 145 / 6000, \n",
      " Train -- Loss: 0.5359264873767079, Coeff: 0.669677734375 \n",
      " Val   -- Loss: 2.1606370394347025, Coeff: 2.677734375 \n",
      "\n",
      "\n"
     ]
    },
    {
     "name": "stderr",
     "output_type": "stream",
     "text": [
      "Train: 100%|██████████| 2743/2743 [00:41<00:00, 65.42batch/s]\n",
      "Valdt: 100%|██████████| 2742/2742 [00:11<00:00, 234.15batch/s]\n"
     ]
    },
    {
     "name": "stdout",
     "output_type": "stream",
     "text": [
      "Epoch: 146 / 6000, \n",
      " Train -- Loss: 0.5356162088316428, Coeff: 0.669677734375 \n",
      " Val   -- Loss: 2.174342372291915, Coeff: 2.677734375 \n",
      "\n",
      "\n"
     ]
    },
    {
     "name": "stderr",
     "output_type": "stream",
     "text": [
      "Train: 100%|██████████| 2743/2743 [00:41<00:00, 65.84batch/s]\n",
      "Valdt: 100%|██████████| 2742/2742 [00:11<00:00, 233.00batch/s]\n"
     ]
    },
    {
     "name": "stdout",
     "output_type": "stream",
     "text": [
      "Epoch: 147 / 6000, \n",
      " Train -- Loss: 0.5364278152358255, Coeff: 0.669677734375 \n",
      " Val   -- Loss: 2.1614397207590073, Coeff: 2.677734375 \n",
      "\n",
      "\n"
     ]
    },
    {
     "name": "stderr",
     "output_type": "stream",
     "text": [
      "Train: 100%|██████████| 2743/2743 [00:41<00:00, 65.37batch/s]\n",
      "Valdt: 100%|██████████| 2742/2742 [00:11<00:00, 231.11batch/s]\n"
     ]
    },
    {
     "name": "stdout",
     "output_type": "stream",
     "text": [
      "Epoch: 148 / 6000, \n",
      " Train -- Loss: 0.5366479461051344, Coeff: 0.669677734375 \n",
      " Val   -- Loss: 2.1699656301334733, Coeff: 2.677734375 \n",
      "\n",
      "\n"
     ]
    },
    {
     "name": "stderr",
     "output_type": "stream",
     "text": [
      "Train: 100%|██████████| 2743/2743 [00:41<00:00, 65.82batch/s]\n",
      "Valdt: 100%|██████████| 2742/2742 [00:11<00:00, 232.70batch/s]\n"
     ]
    },
    {
     "name": "stdout",
     "output_type": "stream",
     "text": [
      "Epoch: 149 / 6000, \n",
      " Train -- Loss: 0.5360395840596124, Coeff: 0.669677734375 \n",
      " Val   -- Loss: 2.1833986169322004, Coeff: 2.677734375 \n",
      "\n",
      "\n"
     ]
    },
    {
     "name": "stderr",
     "output_type": "stream",
     "text": [
      "Train: 100%|██████████| 2743/2743 [00:41<00:00, 65.94batch/s]\n",
      "Valdt: 100%|██████████| 2742/2742 [00:11<00:00, 233.41batch/s]\n"
     ]
    },
    {
     "name": "stdout",
     "output_type": "stream",
     "text": [
      "Epoch: 150 / 6000, \n",
      " Train -- Loss: 0.5360522626668348, Coeff: 0.669677734375 \n",
      " Val   -- Loss: 2.169216057312361, Coeff: 2.677734375 \n",
      "\n",
      "\n"
     ]
    },
    {
     "name": "stderr",
     "output_type": "stream",
     "text": [
      "Train: 100%|██████████| 2743/2743 [00:41<00:00, 65.37batch/s]\n",
      "Valdt: 100%|██████████| 2742/2742 [00:11<00:00, 232.40batch/s]\n"
     ]
    },
    {
     "name": "stdout",
     "output_type": "stream",
     "text": [
      "Epoch: 151 / 6000, \n",
      " Train -- Loss: 0.5351030191490125, Coeff: 0.669677734375 \n",
      " Val   -- Loss: 2.1596871490575427, Coeff: 2.677734375 \n",
      "\n",
      "\n"
     ]
    },
    {
     "name": "stderr",
     "output_type": "stream",
     "text": [
      "Train: 100%|██████████| 2743/2743 [00:41<00:00, 65.81batch/s]\n",
      "Valdt: 100%|██████████| 2742/2742 [00:11<00:00, 232.25batch/s]\n"
     ]
    },
    {
     "name": "stdout",
     "output_type": "stream",
     "text": [
      "Epoch: 152 / 6000, \n",
      " Train -- Loss: 0.5354364089034053, Coeff: 0.669677734375 \n",
      " Val   -- Loss: 2.1639257165343353, Coeff: 2.677734375 \n",
      "\n",
      "\n"
     ]
    },
    {
     "name": "stderr",
     "output_type": "stream",
     "text": [
      "Train: 100%|██████████| 2743/2743 [00:41<00:00, 65.53batch/s]\n",
      "Valdt: 100%|██████████| 2742/2742 [00:11<00:00, 236.13batch/s]\n"
     ]
    },
    {
     "name": "stdout",
     "output_type": "stream",
     "text": [
      "Epoch: 153 / 6000, \n",
      " Train -- Loss: 0.5355540232445789, Coeff: 0.669677734375 \n",
      " Val   -- Loss: 2.1671832045963297, Coeff: 2.677734375 \n",
      "\n",
      "\n"
     ]
    },
    {
     "name": "stderr",
     "output_type": "stream",
     "text": [
      "Train: 100%|██████████| 2743/2743 [00:41<00:00, 65.80batch/s]\n",
      "Valdt: 100%|██████████| 2742/2742 [00:11<00:00, 234.76batch/s]\n"
     ]
    },
    {
     "name": "stdout",
     "output_type": "stream",
     "text": [
      "Epoch: 154 / 6000, \n",
      " Train -- Loss: 0.5364491547467747, Coeff: 0.669677734375 \n",
      " Val   -- Loss: 2.1791531203363403, Coeff: 2.677734375 \n",
      "\n",
      "\n"
     ]
    },
    {
     "name": "stderr",
     "output_type": "stream",
     "text": [
      "Train: 100%|██████████| 2743/2743 [00:41<00:00, 65.73batch/s]\n",
      "Valdt: 100%|██████████| 2742/2742 [00:11<00:00, 235.90batch/s]\n"
     ]
    },
    {
     "name": "stdout",
     "output_type": "stream",
     "text": [
      "Epoch: 155 / 6000, \n",
      " Train -- Loss: 0.5350825219890336, Coeff: 0.669677734375 \n",
      " Val   -- Loss: 2.163647466788895, Coeff: 2.677734375 \n",
      "\n",
      "\n"
     ]
    },
    {
     "name": "stderr",
     "output_type": "stream",
     "text": [
      "Train: 100%|██████████| 2743/2743 [00:41<00:00, 66.00batch/s]\n",
      "Valdt: 100%|██████████| 2742/2742 [00:11<00:00, 235.26batch/s]\n"
     ]
    },
    {
     "name": "stdout",
     "output_type": "stream",
     "text": [
      "Epoch: 156 / 6000, \n",
      " Train -- Loss: 0.5351465379598348, Coeff: 0.669677734375 \n",
      " Val   -- Loss: 2.159417259504182, Coeff: 2.677734375 \n",
      "\n",
      "\n"
     ]
    },
    {
     "name": "stderr",
     "output_type": "stream",
     "text": [
      "Train: 100%|██████████| 2743/2743 [00:39<00:00, 69.24batch/s]\n",
      "Valdt: 100%|██████████| 2742/2742 [00:11<00:00, 238.57batch/s]\n"
     ]
    },
    {
     "name": "stdout",
     "output_type": "stream",
     "text": [
      "Epoch: 157 / 6000, \n",
      " Train -- Loss: 0.534834343852482, Coeff: 0.669677734375 \n",
      " Val   -- Loss: 2.1673046860361755, Coeff: 2.677734375 \n",
      "\n",
      "\n"
     ]
    },
    {
     "name": "stderr",
     "output_type": "stream",
     "text": [
      "Train: 100%|██████████| 2743/2743 [00:41<00:00, 65.67batch/s]\n",
      "Valdt: 100%|██████████| 2742/2742 [00:11<00:00, 234.73batch/s]\n"
     ]
    },
    {
     "name": "stdout",
     "output_type": "stream",
     "text": [
      "Epoch: 158 / 6000, \n",
      " Train -- Loss: 0.5353079115878849, Coeff: 0.669677734375 \n",
      " Val   -- Loss: 2.175365858745883, Coeff: 2.677734375 \n",
      "\n",
      "\n"
     ]
    },
    {
     "name": "stderr",
     "output_type": "stream",
     "text": [
      "Train: 100%|██████████| 2743/2743 [00:41<00:00, 65.88batch/s]\n",
      "Valdt: 100%|██████████| 2742/2742 [00:11<00:00, 232.70batch/s]\n"
     ]
    },
    {
     "name": "stdout",
     "output_type": "stream",
     "text": [
      "Epoch: 159 / 6000, \n",
      " Train -- Loss: 0.5354782208924789, Coeff: 0.669677734375 \n",
      " Val   -- Loss: 2.174591328338316, Coeff: 2.677734375 \n",
      "\n",
      "\n"
     ]
    },
    {
     "name": "stderr",
     "output_type": "stream",
     "text": [
      "Train: 100%|██████████| 2743/2743 [00:41<00:00, 66.52batch/s]\n",
      "Valdt: 100%|██████████| 2742/2742 [00:11<00:00, 232.56batch/s]\n"
     ]
    },
    {
     "name": "stdout",
     "output_type": "stream",
     "text": [
      "Epoch: 160 / 6000, \n",
      " Train -- Loss: 0.5346729194007779, Coeff: 0.669677734375 \n",
      " Val   -- Loss: 2.15951712588052, Coeff: 2.677734375 \n",
      "\n",
      "\n"
     ]
    },
    {
     "name": "stderr",
     "output_type": "stream",
     "text": [
      "Train: 100%|██████████| 2743/2743 [00:41<00:00, 65.85batch/s]\n",
      "Valdt: 100%|██████████| 2742/2742 [00:11<00:00, 232.23batch/s]\n"
     ]
    },
    {
     "name": "stdout",
     "output_type": "stream",
     "text": [
      "Epoch: 161 / 6000, \n",
      " Train -- Loss: 0.5357942416711927, Coeff: 0.669677734375 \n",
      " Val   -- Loss: 2.1694638264084998, Coeff: 2.677734375 \n",
      "\n",
      "\n"
     ]
    },
    {
     "name": "stderr",
     "output_type": "stream",
     "text": [
      "Train: 100%|██████████| 2743/2743 [00:41<00:00, 66.15batch/s]\n",
      "Valdt: 100%|██████████| 2742/2742 [00:11<00:00, 235.68batch/s]\n"
     ]
    },
    {
     "name": "stdout",
     "output_type": "stream",
     "text": [
      "Epoch: 162 / 6000, \n",
      " Train -- Loss: 0.5345235069436943, Coeff: 0.669677734375 \n",
      " Val   -- Loss: 2.166293706878316, Coeff: 2.677734375 \n",
      "\n",
      "\n"
     ]
    },
    {
     "name": "stderr",
     "output_type": "stream",
     "text": [
      "Train: 100%|██████████| 2743/2743 [00:41<00:00, 65.72batch/s]\n",
      "Valdt: 100%|██████████| 2742/2742 [00:11<00:00, 237.80batch/s]\n"
     ]
    },
    {
     "name": "stdout",
     "output_type": "stream",
     "text": [
      "Epoch: 163 / 6000, \n",
      " Train -- Loss: 0.5346907576534993, Coeff: 0.669677734375 \n",
      " Val   -- Loss: 2.1892422560711484, Coeff: 2.677734375 \n",
      "\n",
      "\n"
     ]
    },
    {
     "name": "stderr",
     "output_type": "stream",
     "text": [
      "Train: 100%|██████████| 2743/2743 [00:41<00:00, 65.57batch/s]\n",
      "Valdt: 100%|██████████| 2742/2742 [00:11<00:00, 233.78batch/s]\n"
     ]
    },
    {
     "name": "stdout",
     "output_type": "stream",
     "text": [
      "Epoch: 164 / 6000, \n",
      " Train -- Loss: 0.5342379394504495, Coeff: 0.669677734375 \n",
      " Val   -- Loss: 2.164361997910584, Coeff: 2.677734375 \n",
      "\n",
      "\n"
     ]
    },
    {
     "name": "stderr",
     "output_type": "stream",
     "text": [
      "Train: 100%|██████████| 2743/2743 [00:41<00:00, 65.97batch/s]\n",
      "Valdt: 100%|██████████| 2742/2742 [00:11<00:00, 232.75batch/s]\n"
     ]
    },
    {
     "name": "stdout",
     "output_type": "stream",
     "text": [
      "Epoch: 165 / 6000, \n",
      " Train -- Loss: 0.5348105695529005, Coeff: 0.669677734375 \n",
      " Val   -- Loss: 2.166060199080147, Coeff: 2.677734375 \n",
      "\n",
      "\n"
     ]
    },
    {
     "name": "stderr",
     "output_type": "stream",
     "text": [
      "Train: 100%|██████████| 2743/2743 [00:41<00:00, 65.74batch/s]\n",
      "Valdt: 100%|██████████| 2742/2742 [00:11<00:00, 232.45batch/s]\n"
     ]
    },
    {
     "name": "stdout",
     "output_type": "stream",
     "text": [
      "Epoch: 166 / 6000, \n",
      " Train -- Loss: 0.533946669938608, Coeff: 0.669677734375 \n",
      " Val   -- Loss: 2.1839813096719296, Coeff: 2.677734375 \n",
      "\n",
      "\n"
     ]
    },
    {
     "name": "stderr",
     "output_type": "stream",
     "text": [
      "Train: 100%|██████████| 2743/2743 [00:41<00:00, 65.96batch/s]\n",
      "Valdt: 100%|██████████| 2742/2742 [00:11<00:00, 233.79batch/s]\n"
     ]
    },
    {
     "name": "stdout",
     "output_type": "stream",
     "text": [
      "Epoch: 167 / 6000, \n",
      " Train -- Loss: 0.5342048467994598, Coeff: 0.669677734375 \n",
      " Val   -- Loss: 2.180836345953913, Coeff: 2.677734375 \n",
      "\n",
      "\n"
     ]
    },
    {
     "name": "stderr",
     "output_type": "stream",
     "text": [
      "Train: 100%|██████████| 2743/2743 [00:41<00:00, 65.71batch/s]\n",
      "Valdt: 100%|██████████| 2742/2742 [00:11<00:00, 235.92batch/s]\n"
     ]
    },
    {
     "name": "stdout",
     "output_type": "stream",
     "text": [
      "Epoch: 168 / 6000, \n",
      " Train -- Loss: 0.5347195870432357, Coeff: 0.669677734375 \n",
      " Val   -- Loss: 2.1638980735949693, Coeff: 2.677734375 \n",
      "\n",
      "\n"
     ]
    },
    {
     "name": "stderr",
     "output_type": "stream",
     "text": [
      "Train: 100%|██████████| 2743/2743 [00:41<00:00, 65.63batch/s]\n",
      "Valdt: 100%|██████████| 2742/2742 [00:11<00:00, 232.28batch/s]\n"
     ]
    },
    {
     "name": "stdout",
     "output_type": "stream",
     "text": [
      "Epoch: 169 / 6000, \n",
      " Train -- Loss: 0.5337917508484388, Coeff: 0.669677734375 \n",
      " Val   -- Loss: 2.17063320193635, Coeff: 2.677734375 \n",
      "\n",
      "\n"
     ]
    },
    {
     "name": "stderr",
     "output_type": "stream",
     "text": [
      "Train: 100%|██████████| 2743/2743 [00:41<00:00, 65.83batch/s]\n",
      "Valdt: 100%|██████████| 2742/2742 [00:11<00:00, 232.34batch/s]\n"
     ]
    },
    {
     "name": "stdout",
     "output_type": "stream",
     "text": [
      "Epoch: 170 / 6000, \n",
      " Train -- Loss: 0.5348416358800668, Coeff: 0.669677734375 \n",
      " Val   -- Loss: 2.164147560184855, Coeff: 2.677734375 \n",
      "\n",
      "\n"
     ]
    },
    {
     "name": "stderr",
     "output_type": "stream",
     "text": [
      "Train: 100%|██████████| 2743/2743 [00:41<00:00, 65.81batch/s]\n",
      "Valdt: 100%|██████████| 2742/2742 [00:11<00:00, 232.27batch/s]\n"
     ]
    },
    {
     "name": "stdout",
     "output_type": "stream",
     "text": [
      "Epoch: 171 / 6000, \n",
      " Train -- Loss: 0.5339829118025471, Coeff: 0.669677734375 \n",
      " Val   -- Loss: 2.1644853996835822, Coeff: 2.677734375 \n",
      "\n",
      "\n"
     ]
    },
    {
     "name": "stderr",
     "output_type": "stream",
     "text": [
      "Train: 100%|██████████| 2743/2743 [00:41<00:00, 66.44batch/s]\n",
      "Valdt: 100%|██████████| 2742/2742 [00:11<00:00, 233.80batch/s]\n"
     ]
    },
    {
     "name": "stdout",
     "output_type": "stream",
     "text": [
      "Epoch: 172 / 6000, \n",
      " Train -- Loss: 0.5339423317412146, Coeff: 0.669677734375 \n",
      " Val   -- Loss: 2.182414887821444, Coeff: 2.677734375 \n",
      "\n",
      "\n"
     ]
    },
    {
     "name": "stderr",
     "output_type": "stream",
     "text": [
      "Train: 100%|██████████| 2743/2743 [00:41<00:00, 66.16batch/s]\n",
      "Valdt: 100%|██████████| 2742/2742 [00:11<00:00, 236.38batch/s]\n"
     ]
    },
    {
     "name": "stdout",
     "output_type": "stream",
     "text": [
      "Epoch: 173 / 6000, \n",
      " Train -- Loss: 0.5341332628048819, Coeff: 0.669677734375 \n",
      " Val   -- Loss: 2.1618676061889524, Coeff: 2.677734375 \n",
      "\n",
      "\n"
     ]
    },
    {
     "name": "stderr",
     "output_type": "stream",
     "text": [
      "Train: 100%|██████████| 2743/2743 [00:41<00:00, 65.57batch/s]\n",
      "Valdt: 100%|██████████| 2742/2742 [00:11<00:00, 233.81batch/s]\n"
     ]
    },
    {
     "name": "stdout",
     "output_type": "stream",
     "text": [
      "Epoch: 174 / 6000, \n",
      " Train -- Loss: 0.5341656273936364, Coeff: 0.669677734375 \n",
      " Val   -- Loss: 2.166545988637276, Coeff: 2.677734375 \n",
      "\n",
      "\n"
     ]
    },
    {
     "name": "stderr",
     "output_type": "stream",
     "text": [
      "Train: 100%|██████████| 2743/2743 [00:41<00:00, 65.84batch/s]\n",
      "Valdt: 100%|██████████| 2742/2742 [00:11<00:00, 233.83batch/s]\n"
     ]
    },
    {
     "name": "stdout",
     "output_type": "stream",
     "text": [
      "Epoch: 175 / 6000, \n",
      " Train -- Loss: 0.5341253602784245, Coeff: 0.669677734375 \n",
      " Val   -- Loss: 2.1738394188730914, Coeff: 2.677734375 \n",
      "\n",
      "\n"
     ]
    },
    {
     "name": "stderr",
     "output_type": "stream",
     "text": [
      "Train: 100%|██████████| 2743/2743 [00:41<00:00, 65.50batch/s]\n",
      "Valdt: 100%|██████████| 2742/2742 [00:11<00:00, 235.00batch/s]\n"
     ]
    },
    {
     "name": "stdout",
     "output_type": "stream",
     "text": [
      "Epoch: 176 / 6000, \n",
      " Train -- Loss: 0.5335282839198396, Coeff: 0.669677734375 \n",
      " Val   -- Loss: 2.169562932066403, Coeff: 2.677734375 \n",
      "\n",
      "\n"
     ]
    },
    {
     "name": "stderr",
     "output_type": "stream",
     "text": [
      "Train: 100%|██████████| 2743/2743 [00:41<00:00, 65.73batch/s]\n",
      "Valdt: 100%|██████████| 2742/2742 [00:11<00:00, 233.23batch/s]"
     ]
    },
    {
     "name": "stdout",
     "output_type": "stream",
     "text": [
      "+++ Early Stopping is reached! +++\n"
     ]
    },
    {
     "name": "stderr",
     "output_type": "stream",
     "text": [
      "\n"
     ]
    }
   ],
   "source": [
    "epochs = 6000\n",
    "best = 1e6\n",
    "PATH = f\"./best_model_{dt_name}.pt\"\n",
    "\n",
    "early_stopper = EarlyStopper(patience=50, path=PATH)\n",
    "                             \n",
    "for epoch in range(epochs):\n",
    "    model.train()\n",
    "    Loss_train = 0 \n",
    "    Loss_val = 0\n",
    "    coeff_train = 0\n",
    "    coeff_val = 0\n",
    "    with tqdm(train_loader, unit=\"batch\") as trainer:\n",
    "        for batch in trainer:\n",
    "            trainer.set_description(\"Train\")\n",
    "            train_feat = batch[:, 0:-1].to(device)\n",
    "            train_labs = batch[:, -1].to(device)\n",
    "            train_pred = model(train_feat).squeeze()\n",
    "            train_loss = torch.nn.functional.mse_loss(train_pred, train_labs)\n",
    "            train_coef = coeff_determination(train_labs, train_labs) \n",
    "\n",
    "            optimizer.zero_grad()\n",
    "            train_loss.backward()\n",
    "            optimizer.step()\n",
    "\n",
    "            Loss_train += train_loss.item()\n",
    "            coeff_train += train_coef\n",
    "\n",
    "        Loss_train /= batch_sz_trn\n",
    "        coeff_train /= batch_sz_trn\n",
    "\n",
    "    model.eval()\n",
    "    with tqdm(val_loader, unit=\"batch\") as validator:\n",
    "        for batch in validator:\n",
    "            validator.set_description(\"Valdt\")\n",
    "            val_feat = batch[:, 0:-1].to(device)\n",
    "            val_labs = batch[:, -1].to(device)\n",
    "            val_pred = model(val_feat).squeeze()\n",
    "            val_loss = torch.nn.functional.mse_loss(val_pred, val_labs)\n",
    "            val_coef = coeff_determination(val_labs, val_labs) \n",
    "\n",
    "            Loss_val += val_loss.item()\n",
    "            coeff_val += val_coef\n",
    "\n",
    "        Loss_val /= batch_sz_val\n",
    "        coeff_val /= batch_sz_val\n",
    "    \n",
    "    if early_stopper.early_stop(model.state_dict(), Loss_val):             \n",
    "        break\n",
    "        \n",
    "    print(f\"Epoch: {epoch} / {epochs}, \\n Train -- Loss: {Loss_train}, Coeff: {coeff_train} \\n Val   -- Loss: {Loss_val}, Coeff: {coeff_val} \\n\\n\")"
   ]
  },
  {
   "cell_type": "code",
   "execution_count": 25,
   "id": "c9e410f9",
   "metadata": {},
   "outputs": [
    {
     "data": {
      "text/plain": [
       "tensor([[ 0.0041, -0.0041, -0.0017,  ..., -0.1439, -0.0051, -0.1432],\n",
       "        [ 0.0048,  0.0032, -0.0002,  ..., -0.1439, -0.0051, -0.1432],\n",
       "        [ 0.0160,  0.0027,  0.0064,  ..., -0.1439, -0.0051, -0.1432],\n",
       "        ...,\n",
       "        [ 0.0867,  0.0666,  0.1691,  ..., -0.1357,  0.0510, -0.1148],\n",
       "        [ 0.0008, -0.0119, -0.0061,  ..., -0.1439, -0.0051, -0.1431],\n",
       "        [-0.0032,  0.0075,  0.0093,  ..., -0.1439, -0.0051, -0.1431]],\n",
       "       dtype=torch.float64)"
      ]
     },
     "execution_count": 25,
     "metadata": {},
     "output_type": "execute_result"
    }
   ],
   "source": [
    "data_iter = iter(train_loader)\n",
    "next(data_iter)[:,0:-1]"
   ]
  },
  {
   "cell_type": "code",
   "execution_count": 26,
   "id": "0391c49f",
   "metadata": {},
   "outputs": [],
   "source": [
    "traced_script_module = torch.jit.trace(model, next(data_iter)[:,0:-1].to(device))\n",
    "traced_script_module.save(f\"traced_model_{dt_name}.pt\")"
   ]
  },
  {
   "cell_type": "code",
   "execution_count": 27,
   "id": "f5414719",
   "metadata": {
    "scrolled": true
   },
   "outputs": [
    {
     "data": {
      "text/plain": [
       "MLPModel(\n",
       "  (block): Sequential(\n",
       "    (0): Linear(in_features=12, out_features=60, bias=True)\n",
       "    (1): ReLU()\n",
       "    (2): Linear(in_features=60, out_features=60, bias=True)\n",
       "    (3): ReLU()\n",
       "    (4): Linear(in_features=60, out_features=60, bias=True)\n",
       "    (5): ReLU()\n",
       "    (6): Linear(in_features=60, out_features=60, bias=True)\n",
       "    (7): ReLU()\n",
       "    (8): Linear(in_features=60, out_features=60, bias=True)\n",
       "    (9): ReLU()\n",
       "    (10): Linear(in_features=60, out_features=1, bias=True)\n",
       "  )\n",
       ")"
      ]
     },
     "execution_count": 27,
     "metadata": {},
     "output_type": "execute_result"
    }
   ],
   "source": [
    "PATH = f\"./best_model_{dt_name}.pt\"\n",
    "model = MLPModel(input_size=input_size, \n",
    "                 output_size=output_size, \n",
    "                 hidden_layers=hidden_layers, \n",
    "                 neurons_per_layer=neurons_per_layer)\n",
    "\n",
    "model.load_state_dict(torch.load(PATH))\n",
    "model.eval()\n",
    "#model.to(device)\n",
    "model.double()"
   ]
  },
  {
   "cell_type": "code",
   "execution_count": 90,
   "id": "80604c18",
   "metadata": {},
   "outputs": [
    {
     "data": {
      "text/plain": [
       "(3509907, 1)"
      ]
     },
     "execution_count": 90,
     "metadata": {},
     "output_type": "execute_result"
    }
   ],
   "source": [
    "pred = model(torch.from_numpy(test[:,:-1]))\n",
    "pred.detach().numpy().shape "
   ]
  },
  {
   "cell_type": "code",
   "execution_count": 99,
   "id": "291d4dc1",
   "metadata": {},
   "outputs": [
    {
     "data": {
      "text/plain": [
       "array([[ 0.00764506],\n",
       "       [ 0.02690536],\n",
       "       [ 0.011069  ],\n",
       "       ...,\n",
       "       [ 0.00414676],\n",
       "       [ 0.00921118],\n",
       "       [-0.01399088]])"
      ]
     },
     "execution_count": 99,
     "metadata": {},
     "output_type": "execute_result"
    }
   ],
   "source": [
    "pred.detach().numpy() * scale.values[0]"
   ]
  },
  {
   "cell_type": "code",
   "execution_count": 104,
   "id": "ebcfa2d4",
   "metadata": {},
   "outputs": [
    {
     "data": {
      "image/png": "[encoded data removed]",
      "text/plain": [
       "<Figure size 640x480 with 1 Axes>"
      ]
     },
     "metadata": {},
     "output_type": "display_data"
    }
   ],
   "source": [
    "plt.scatter(test[:,-1], pred.detach().numpy(), edgecolor='white', color='red')\n",
    "plt.plot([0, 0], [-100, 100], '--', color='#929591')\n",
    "plt.plot([-100, 100], [0, 0], '--', color='#929591')\n",
    "plt.xlim([-100, 100])\n",
    "plt.ylim([-100, 100])\n",
    "plt.xlabel(r'$C_s$')\n",
    "plt.ylabel(r'$\\tilde{C_s}$')\n",
    "plt.savefig(f'../nnTraining/Results/{dt_name}_correlation.png')"
   ]
  },
  {
   "cell_type": "code",
   "execution_count": 105,
   "id": "ae9a5ba1",
   "metadata": {},
   "outputs": [
    {
     "data": {
      "image/png": "[encoded data removed]",
      "text/plain": [
       "<Figure size 640x480 with 1 Axes>"
      ]
     },
     "metadata": {},
     "output_type": "display_data"
    }
   ],
   "source": [
    "plt.hist(test[:,-1], bins=10000, density=True, alpha=0.6, histtype=u'step', color='blue')\n",
    "plt.hist(pred.detach().numpy(), bins=10000, density=True, alpha=0.6, histtype=u'step', color='red')\n",
    "plt.xlim([-0.75, 0.75])\n",
    "plt.xlabel(r'$C_s$')\n",
    "plt.legend(['Ground Truth', 'MLP'])\n",
    "plt.savefig(f'../nnTraining/Results/{dt_name}_density.png')"
   ]
  },
  {
   "cell_type": "code",
   "execution_count": null,
   "id": "dcf0872c",
   "metadata": {},
   "outputs": [],
   "source": []
  }
 ],
 "metadata": {
  "kernelspec": {
   "display_name": "Python 3 (ipykernel)",
   "language": "python",
   "name": "python3"
  },
  "language_info": {
   "codemirror_mode": {
    "name": "ipython",
    "version": 3
   },
   "file_extension": ".py",
   "mimetype": "text/x-python",
   "name": "python",
   "nbconvert_exporter": "python",
   "pygments_lexer": "ipython3",
   "version": "3.8.10"
  }
 },
 "nbformat": 4,
 "nbformat_minor": 5
}
