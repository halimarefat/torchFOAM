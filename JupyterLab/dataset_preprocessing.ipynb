{
 "cells": [
  {
   "cell_type": "code",
   "execution_count": 2,
   "id": "807b6162",
   "metadata": {},
   "outputs": [],
   "source": [
    "import numpy as np\n",
    "from sklearn.preprocessing import StandardScaler"
   ]
  },
  {
   "cell_type": "code",
   "execution_count": 3,
   "id": "0846e5ad",
   "metadata": {},
   "outputs": [],
   "source": [
    "paths = [\"./fieldData_unseen/fieldData_rest_R103.dat\", \n",
    "        \"./fieldData_unseen/fieldData_rest_R503.dat\",\n",
    "        \"./fieldData_unseen/fieldData_rest_R104.dat\"]\n",
    "nCols = 23"
   ]
  },
  {
   "cell_type": "code",
   "execution_count": 5,
   "id": "e882909c",
   "metadata": {},
   "outputs": [
    {
     "name": "stdout",
     "output_type": "stream",
     "text": [
      "Starting to preprocess dataset fieldData_rest_R103\n",
      "reading raw file is done!\n",
      "\n",
      "\n",
      "Starting to preprocess dataset fieldData_rest_R503\n",
      "reading raw file is done!\n",
      "\n",
      "\n",
      "Starting to preprocess dataset fieldData_rest_R104\n",
      "reading raw file is done!\n",
      "\n",
      "\n"
     ]
    }
   ],
   "source": [
    "data = []\n",
    "for path in paths:\n",
    "    name = path.split('/')[-1][:-4]\n",
    "    print(f'Starting to preprocess dataset {name}')\n",
    "    data.clear()\n",
    "    with open(path, \"r\") as f:\n",
    "        for line in f:\n",
    "            l = line.split()\n",
    "            data.append(l)\n",
    "    data.pop(0)\n",
    "    print('reading raw file is done!')\n",
    "    scaler = StandardScaler()\n",
    "    scaler.fit(data)\n",
    "    np.savetxt(f'./datasets/{name}_means.txt',scaler.mean_)\n",
    "    np.savetxt(f'./datasets/{name}_scales.txt',scaler.scale_)\n",
    "    data_norm = scaler.transform(data)   \n",
    "    np.savetxt(f'./datasets/{name}_norm.txt', data_norm)\n",
    "    print('\\n')"
   ]
  },
  {
   "cell_type": "code",
   "execution_count": null,
   "id": "f9fa2fa4",
   "metadata": {},
   "outputs": [],
   "source": []
  },
  {
   "cell_type": "code",
   "execution_count": null,
   "id": "3b7681d5",
   "metadata": {},
   "outputs": [],
   "source": []
  }
 ],
 "metadata": {
  "kernelspec": {
   "display_name": "Python 3 (ipykernel)",
   "language": "python",
   "name": "python3"
  },
  "language_info": {
   "codemirror_mode": {
    "name": "ipython",
    "version": 3
   },
   "file_extension": ".py",
   "mimetype": "text/x-python",
   "name": "python",
   "nbconvert_exporter": "python",
   "pygments_lexer": "ipython3",
   "version": "3.8.10"
  }
 },
 "nbformat": 4,
 "nbformat_minor": 5
}
