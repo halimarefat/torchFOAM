{
 "cells": [
  {
   "cell_type": "code",
   "execution_count": 86,
   "id": "92e844c7",
   "metadata": {},
   "outputs": [],
   "source": [
    "import numpy as np\n",
    "import pandas as pd\n",
    "import matplotlib.pyplot as plt\n",
    "import seaborn as sns\n",
    "import torch\n",
    "import torch.nn as nn\n",
    "from torch.optim.lr_scheduler import StepLR\n",
    "from tqdm import tqdm\n",
    "import sys\n",
    "import random\n",
    "from sklearn.preprocessing import StandardScaler\n",
    "from IPython.display import display, Math\n",
    "from torch.utils.data import DataLoader, Dataset\n",
    "\n",
    "sys_epsilon = sys.float_info.epsilon"
   ]
  },
  {
   "cell_type": "markdown",
   "id": "9d85f221",
   "metadata": {},
   "source": [
    "# Data Preprocessing"
   ]
  },
  {
   "cell_type": "markdown",
   "id": "05d42e37",
   "metadata": {},
   "source": [
    "In this section, we preprocess the CFD data collected from DSM-based LES of flow past a sphere at $\\mathcal{R}e=10^3$, $5\\times 10^3$, and $10^4$. The data for each Reynolds number is collected from $t=300$ to $320$. From $t=300$ to $310$, data is collected at every ten variable time-steps. However, from $t=310$ to $320$, data is collected with $\\Delta t =1$."
   ]
  },
  {
   "cell_type": "code",
   "execution_count": 2,
   "id": "93d8a4b1",
   "metadata": {},
   "outputs": [],
   "source": [
    "paths = [\"/home/hmarefat/scratch/torchFOAM/Case_dS/postProcessing/fieldData.dat\",\n",
    "         \"/home/hmarefat/scratch/torchFOAM/Case_dS_R53/postProcessing/fieldData.dat\",\n",
    "         \"/home/hmarefat/scratch/torchFOAM/Case_dS_R4/postProcessing/fieldData.dat\"]\n",
    "nCols = 26\n",
    "names = ['_R3', '_R53', '_R4']"
   ]
  },
  {
   "cell_type": "code",
   "execution_count": 3,
   "id": "83419baf",
   "metadata": {},
   "outputs": [],
   "source": [
    "def returnRandmIndx(maxIndx, count):\n",
    "    return np.array(random.sample(range(1,maxIndx), count))"
   ]
  },
  {
   "cell_type": "code",
   "execution_count": 15,
   "id": "474bf559",
   "metadata": {},
   "outputs": [],
   "source": [
    "random.seed(35)\n",
    "\n",
    "count = 1000000\n",
    "Indx_R3 = returnRandmIndx(4956526, count)\n",
    "Indx_R53 = returnRandmIndx(5900626, count)\n",
    "Indx_R4 = returnRandmIndx(4012425, count)"
   ]
  },
  {
   "cell_type": "code",
   "execution_count": 5,
   "id": "6c63618a",
   "metadata": {},
   "outputs": [
    {
     "data": {
      "text/plain": [
       "array([4602784, 2813286, 1104994, 2856052, 1292255, 2398361, 3621576,\n",
       "       2115176, 4754160,  518511])"
      ]
     },
     "execution_count": 5,
     "metadata": {},
     "output_type": "execute_result"
    }
   ],
   "source": [
    "Indx_R3[0:10]"
   ]
  },
  {
   "cell_type": "code",
   "execution_count": 6,
   "id": "71e166c4",
   "metadata": {},
   "outputs": [],
   "source": [
    "random.shuffle(Indx_R3)"
   ]
  },
  {
   "cell_type": "code",
   "execution_count": 7,
   "id": "f9cd559a",
   "metadata": {},
   "outputs": [
    {
     "data": {
      "text/plain": [
       "array([1433998, 3617811, 4647835, 4488912, 3146260, 4916233, 2427443,\n",
       "       3525259, 1800030,  748959])"
      ]
     },
     "execution_count": 7,
     "metadata": {},
     "output_type": "execute_result"
    }
   ],
   "source": [
    "Indx_R3[0:10]"
   ]
  },
  {
   "cell_type": "code",
   "execution_count": 8,
   "id": "67620baf",
   "metadata": {},
   "outputs": [],
   "source": [
    "def splitterIndx(indx):\n",
    "    seen = indx[:int(0.7*indx.shape[0])]\n",
    "    unseen = indx[int(0.7*indx.shape[0]):]\n",
    "    \n",
    "    return seen, unseen"
   ]
  },
  {
   "cell_type": "code",
   "execution_count": 16,
   "id": "cb482bc9",
   "metadata": {},
   "outputs": [],
   "source": [
    "index_data = []\n",
    "\n",
    "for indx in [Indx_R3, Indx_R53, Indx_R4]:\n",
    "    seen, unseen = splitterIndx(indx)\n",
    "    index_data.append((seen, unseen))\n",
    "\n",
    "index_array = np.array(index_data, dtype=object)"
   ]
  },
  {
   "cell_type": "code",
   "execution_count": 17,
   "id": "9df9bb86",
   "metadata": {},
   "outputs": [
    {
     "data": {
      "text/plain": [
       "((700000,), (300000,))"
      ]
     },
     "execution_count": 17,
     "metadata": {},
     "output_type": "execute_result"
    }
   ],
   "source": [
    "index_array[2,0].shape, index_array[2,1].shape"
   ]
  },
  {
   "cell_type": "code",
   "execution_count": 18,
   "id": "1179615b",
   "metadata": {},
   "outputs": [],
   "source": [
    "def scaler(name, ds):\n",
    "    scaler = StandardScaler()\n",
    "    scaler.fit(ds)\n",
    "    np.savetxt(f'../processedDatasets/{name}_means.txt',scaler.mean_)\n",
    "    np.savetxt(f'../processedDatasets/{name}_scales.txt',scaler.scale_)\n",
    "    ds_norm = scaler.transform(ds)   \n",
    "    np.savetxt(f'../processedDatasets/{name}_norm.txt', ds_norm, fmt='%.18e')\n",
    "    np.savetxt(f'../processedDatasets/{name}.txt', ds, fmt='%.18e')"
   ]
  },
  {
   "cell_type": "code",
   "execution_count": 19,
   "id": "73878d79",
   "metadata": {},
   "outputs": [
    {
     "name": "stdout",
     "output_type": "stream",
     "text": [
      "Starting to preprocess dataset fieldData_R3\n",
      "Reading raw file is done!\n",
      "\n",
      "\n",
      "Starting to preprocess dataset fieldData_R53\n",
      "Reading raw file is done!\n",
      "\n",
      "\n",
      "Starting to preprocess dataset fieldData_R4\n",
      "Reading raw file is done!\n",
      "\n",
      "\n"
     ]
    }
   ],
   "source": [
    "data = []\n",
    "\n",
    "for i, path in enumerate(paths):\n",
    "    name = path.split('/')[-1][:-4]+names[i]\n",
    "    print(f'Starting to preprocess dataset {name}')\n",
    "    data.clear()\n",
    "    \n",
    "    with open(path, \"r\") as f:\n",
    "        next(f)\n",
    "        for line in f:\n",
    "            l = line.split()\n",
    "            try:\n",
    "                data.append([float(x) for x in l]) #(l)\n",
    "            except ValueError as e:\n",
    "                print(f\"Error converting line to float: {line.strip()} - {e}\")\n",
    "                continue\n",
    "                \n",
    "    #data.pop(0)\n",
    "    print('Reading raw file is done!')\n",
    "    ds = np.array(data) \n",
    "    \n",
    "    ds_seen = ds[index_array[i,0]]\n",
    "    ds_unseen = ds[index_array[i,1]]\n",
    "    \n",
    "    scaler(name+'_seen', ds_seen)\n",
    "    scaler(name+'_unseen', ds_unseen)\n",
    "    \n",
    "    print('\\n')"
   ]
  },
  {
   "cell_type": "markdown",
   "id": "f3907dc4",
   "metadata": {},
   "source": [
    "# Data Preparation"
   ]
  },
  {
   "cell_type": "code",
   "execution_count": 94,
   "id": "723dc6db",
   "metadata": {},
   "outputs": [],
   "source": [
    "headers = [\"t\",                                             # time\n",
    "           \"X\", \"Y\", \"Z\",                                   # spacial coordinates\n",
    "           \"Ux\", \"Uy\", \"Uz\",                                # velocity components\n",
    "           \"G1\", \"G2\", \"G3\", \"G4\", \"G5\", \"G6\",              # velocity gradient tensor components\n",
    "           \"S1\", \"S2\", \"S3\", \"S4\", \"S5\", \"S6\",              # strain rate tensor compnents\n",
    "           \"UUp1\", \"UUp2\", \"UUp3\", \"UUp4\", \"UUp5\", \"UUp6\",  # resolved Reynolds stress tensor components\n",
    "           \"Cs\"]                                            # Smagorinsky coefficient"
   ]
  },
  {
   "cell_type": "markdown",
   "id": "43e83f96",
   "metadata": {},
   "source": [
    "### Dataset Loading"
   ]
  },
  {
   "cell_type": "markdown",
   "id": "febea5cc",
   "metadata": {},
   "source": [
    "#### $\\mathcal Re = 10^3$"
   ]
  },
  {
   "cell_type": "code",
   "execution_count": 95,
   "id": "ab9a3059",
   "metadata": {},
   "outputs": [],
   "source": [
    "# Re = 10^3 seen\n",
    "dSn_R103_seen_means = pd.read_csv('../processedDatasets/fieldData_R3_seen_means.txt', sep=' ', names=headers) \n",
    "dSn_R103_seen_scales = pd.read_csv('../processedDatasets/fieldData_R3_seen_scales.txt', sep=' ', names=headers) \n",
    "dSn_R103_seen = pd.read_csv('../processedDatasets/fieldData_R3_seen_norm.txt', sep=' ', names=headers)\n",
    "dS_R103_seen = pd.read_csv('../processedDatasets/fieldData_R3_seen.txt', sep=' ', names=headers)\n",
    "\n",
    "# Re = 10^3 unseen\n",
    "dSn_R103_unseen_means = pd.read_csv('../processedDatasets/fieldData_R3_unseen_means.txt', sep=' ', names=headers) \n",
    "dSn_R103_unseen_scales = pd.read_csv('../processedDatasets/fieldData_R3_unseen_scales.txt', sep=' ', names=headers) \n",
    "dSn_R103_unseen = pd.read_csv('../processedDatasets/fieldData_R3_unseen_norm.txt', sep=' ', names=headers)\n",
    "dS_R103_unseen = pd.read_csv('../processedDatasets/fieldData_R3_unseen.txt', sep=' ', names=headers)"
   ]
  },
  {
   "cell_type": "markdown",
   "id": "3e645f85",
   "metadata": {},
   "source": [
    "#### $\\mathcal Re = 5\\times 10^3$"
   ]
  },
  {
   "cell_type": "code",
   "execution_count": 96,
   "id": "d9627fe1",
   "metadata": {},
   "outputs": [],
   "source": [
    "# Re = 5 x 10^3 seen\n",
    "dSn_R503_seen_means = pd.read_csv('../processedDatasets/fieldData_R53_seen_means.txt', sep=' ', names=headers) \n",
    "dSn_R503_seen_scales = pd.read_csv('../processedDatasets/fieldData_R53_seen_scales.txt', sep=' ', names=headers) \n",
    "dSn_R503_seen = pd.read_csv('../processedDatasets/fieldData_R53_seen_norm.txt', sep=' ', names=headers)\n",
    "dS_R503_seen = pd.read_csv('../processedDatasets/fieldData_R53_seen.txt', sep=' ', names=headers)\n",
    "\n",
    "# Re = 5 x 10^3 unseen\n",
    "dSn_R503_unseen_means = pd.read_csv('../processedDatasets/fieldData_R53_unseen_means.txt', sep=' ', names=headers) \n",
    "dSn_R503_unseen_scales = pd.read_csv('../processedDatasets/fieldData_R53_unseen_scales.txt', sep=' ', names=headers) \n",
    "dSn_R503_unseen = pd.read_csv('../processedDatasets/fieldData_R53_unseen_norm.txt', sep=' ', names=headers)\n",
    "dS_R503_unseen = pd.read_csv('../processedDatasets/fieldData_R53_unseen.txt', sep=' ', names=headers)"
   ]
  },
  {
   "cell_type": "markdown",
   "id": "2cf0794e",
   "metadata": {},
   "source": [
    "#### $\\mathcal Re = 10^4$"
   ]
  },
  {
   "cell_type": "code",
   "execution_count": 97,
   "id": "b7248c7a",
   "metadata": {},
   "outputs": [],
   "source": [
    "# Re = 10^4 seen\n",
    "dSn_R104_seen_means = pd.read_csv('../processedDatasets/fieldData_R4_seen_means.txt', sep=' ', names=headers) \n",
    "dSn_R104_seen_scales = pd.read_csv('../processedDatasets/fieldData_R4_seen_scales.txt', sep=' ', names=headers) \n",
    "dSn_R104_seen = pd.read_csv('../processedDatasets/fieldData_R4_seen_norm.txt', sep=' ', names=headers)\n",
    "dS_R104_seen = pd.read_csv('../processedDatasets/fieldData_R4_seen.txt', sep=' ', names=headers)\n",
    "\n",
    "# Re = 10^4 unseen\n",
    "dSn_R104_unseen_means = pd.read_csv('../processedDatasets/fieldData_R4_unseen_means.txt', sep=' ', names=headers) \n",
    "dSn_R104_unseen_scales = pd.read_csv('../processedDatasets/fieldData_R4_unseen_scales.txt', sep=' ', names=headers) \n",
    "dSn_R104_unseen = pd.read_csv('../processedDatasets/fieldData_R4_unseen_norm.txt', sep=' ', names=headers)\n",
    "dS_R104_unseen = pd.read_csv('../processedDatasets/fieldData_R4_unseen.txt', sep=' ', names=headers)"
   ]
  },
  {
   "cell_type": "markdown",
   "id": "045fcb21",
   "metadata": {},
   "source": [
    "# Model Configuration Setup"
   ]
  },
  {
   "cell_type": "markdown",
   "id": "765dc1a8",
   "metadata": {},
   "source": [
    "In this section, we consider the different model configurations as presented in the following table.\n",
    "\n",
    "$$\n",
    "\\begin{array}{|l|c|c|c|c|}\n",
    "    \\hline\n",
    "    \\textbf{Model} & \\textbf{Inputs} & \\textbf{No. of Inputs} & \\textbf{Outputs} & \\textbf{No. of Outputs} \\\\\n",
    "    \\hline\n",
    "    \\mathbf{M1} & u_i \\, \\text{and} \\, \\mathcal{S}_{ij} & 9 & c_s & 1\\\\\n",
    "    \\mathbf{M2} & \\mathcal{G}_{ij} \\, \\text{and} \\, \\mathcal{S}_{ij} & 12 & c_s & 1 \\\\\n",
    "    \\mathbf{M3} & u_i \\, \\text{and} \\, \\tau^{'}_{ij} & 9 & c_s & 1 \\\\\n",
    "    \\mathbf{M4} & \\mathcal{G}_{ij} \\, \\text{and} \\, \\tau^{'}_{ij} & 12 & c_s & 1 \\\\\n",
    "    \\hline\n",
    "\\end{array}\n",
    "$$"
   ]
  },
  {
   "cell_type": "code",
   "execution_count": 98,
   "id": "9d23b8ba",
   "metadata": {},
   "outputs": [],
   "source": [
    "R103 = dSn_R103_seen\n",
    "R503 = dSn_R503_seen\n",
    "R104 = dSn_R104_seen\n",
    "\n",
    "R103_un = dSn_R103_unseen\n",
    "R503_un = dSn_R503_unseen\n",
    "R104_un = dSn_R104_unseen"
   ]
  },
  {
   "cell_type": "code",
   "execution_count": 99,
   "id": "ea2843b2",
   "metadata": {},
   "outputs": [],
   "source": [
    "M1_headers = ['Ux', 'Uy', 'Uz', 'S1',  'S2', 'S3', 'S4', 'S5', 'S6', 'Cs']\n",
    "M2_headers = ['G1', 'G2', 'G3', 'G4', 'G5', 'G6', 'S1',  'S2', 'S3', 'S4', 'S5', 'S6', 'Cs']\n",
    "M3_headers = ['Ux', 'Uy', 'Uz', 'UUp1',  'UUp2', 'UUp3', 'UUp4', 'UUp5', 'UUp6', 'Cs']\n",
    "M4_headers = ['G1', 'G2', 'G3', 'G4', 'G5', 'G6', 'UUp1',  'UUp2', 'UUp3', 'UUp4', 'UUp5', 'UUp6', 'Cs']\n",
    "\n",
    "M1_103 = R103.filter(M1_headers, axis=1)\n",
    "M2_103 = R103.filter(M2_headers, axis=1)\n",
    "M3_103 = R103.filter(M3_headers, axis=1)\n",
    "M4_103 = R103.filter(M4_headers, axis=1)\n",
    "\n",
    "M1_503 = R503.filter(M1_headers, axis=1)\n",
    "M2_503 = R503.filter(M2_headers, axis=1)\n",
    "M3_503 = R503.filter(M3_headers, axis=1)\n",
    "M4_503 = R503.filter(M4_headers, axis=1)\n",
    "\n",
    "M1_104 = R104.filter(M1_headers, axis=1)\n",
    "M2_104 = R104.filter(M2_headers, axis=1)\n",
    "M3_104 = R104.filter(M3_headers, axis=1)\n",
    "M4_104 = R104.filter(M4_headers, axis=1)\n",
    "\n",
    "M1_103_test = R103_un.filter(M1_headers, axis=1)\n",
    "M2_103_test = R103_un.filter(M2_headers, axis=1)\n",
    "M3_103_test = R103_un.filter(M3_headers, axis=1)\n",
    "M4_103_test = R103_un.filter(M4_headers, axis=1)\n",
    "\n",
    "M1_503_test = R503_un.filter(M1_headers, axis=1)\n",
    "M2_503_test = R503_un.filter(M2_headers, axis=1)\n",
    "M3_503_test = R503_un.filter(M3_headers, axis=1)\n",
    "M4_503_test = R503_un.filter(M4_headers, axis=1)\n",
    "\n",
    "M1_104_test = R104_un.filter(M1_headers, axis=1)\n",
    "M2_104_test = R104_un.filter(M2_headers, axis=1)\n",
    "M3_104_test = R104_un.filter(M3_headers, axis=1)\n",
    "M4_104_test = R104_un.filter(M4_headers, axis=1)"
   ]
  },
  {
   "cell_type": "markdown",
   "id": "ab2a8239",
   "metadata": {},
   "source": [
    "# Model Training"
   ]
  },
  {
   "cell_type": "code",
   "execution_count": 100,
   "id": "8c587a33",
   "metadata": {},
   "outputs": [],
   "source": [
    "def namestr(obj, namespace):\n",
    "    return [name for name in namespace if namespace[name] is obj]"
   ]
  },
  {
   "cell_type": "code",
   "execution_count": 101,
   "id": "d0e4a6c0",
   "metadata": {},
   "outputs": [],
   "source": [
    "dt = M1_103\n",
    "dt_name = namestr(M1_103, globals())[0]"
   ]
  },
  {
   "cell_type": "code",
   "execution_count": 102,
   "id": "63427134",
   "metadata": {},
   "outputs": [],
   "source": [
    "output_size = 1\n",
    "input_size = dt.shape[1] - output_size \n",
    "neurons_per_layer = [60, 60, 60, 60, 60] \n",
    "hidden_layers = len(neurons_per_layer) \n",
    "\n",
    "split_sz = 0.8\n",
    "mask = np.random.rand(len(dt)) < split_sz\n",
    "train = dt[mask].reset_index(drop=True) \n",
    "val = dt[~mask].reset_index(drop=True)"
   ]
  },
  {
   "cell_type": "code",
   "execution_count": 103,
   "id": "7ac477fb",
   "metadata": {},
   "outputs": [
    {
     "data": {
      "text/html": [
       "<div>\n",
       "<style scoped>\n",
       "    .dataframe tbody tr th:only-of-type {\n",
       "        vertical-align: middle;\n",
       "    }\n",
       "\n",
       "    .dataframe tbody tr th {\n",
       "        vertical-align: top;\n",
       "    }\n",
       "\n",
       "    .dataframe thead th {\n",
       "        text-align: right;\n",
       "    }\n",
       "</style>\n",
       "<table border=\"1\" class=\"dataframe\">\n",
       "  <thead>\n",
       "    <tr style=\"text-align: right;\">\n",
       "      <th></th>\n",
       "      <th>Ux</th>\n",
       "      <th>Uy</th>\n",
       "      <th>Uz</th>\n",
       "      <th>S1</th>\n",
       "      <th>S2</th>\n",
       "      <th>S3</th>\n",
       "      <th>S4</th>\n",
       "      <th>S5</th>\n",
       "      <th>S6</th>\n",
       "      <th>Cs</th>\n",
       "    </tr>\n",
       "  </thead>\n",
       "  <tbody>\n",
       "    <tr>\n",
       "      <th>0</th>\n",
       "      <td>0.256586</td>\n",
       "      <td>-1.037380</td>\n",
       "      <td>0.032353</td>\n",
       "      <td>0.179013</td>\n",
       "      <td>-0.165670</td>\n",
       "      <td>-0.044446</td>\n",
       "      <td>0.681956</td>\n",
       "      <td>-0.266878</td>\n",
       "      <td>0.125857</td>\n",
       "      <td>5.377695</td>\n",
       "    </tr>\n",
       "    <tr>\n",
       "      <th>1</th>\n",
       "      <td>0.405770</td>\n",
       "      <td>0.198436</td>\n",
       "      <td>-0.115980</td>\n",
       "      <td>-0.009625</td>\n",
       "      <td>-0.022173</td>\n",
       "      <td>0.019609</td>\n",
       "      <td>0.059045</td>\n",
       "      <td>-0.064982</td>\n",
       "      <td>-0.034462</td>\n",
       "      <td>-0.518536</td>\n",
       "    </tr>\n",
       "    <tr>\n",
       "      <th>2</th>\n",
       "      <td>0.483732</td>\n",
       "      <td>0.135156</td>\n",
       "      <td>0.074298</td>\n",
       "      <td>0.036092</td>\n",
       "      <td>-0.062360</td>\n",
       "      <td>0.089373</td>\n",
       "      <td>-0.129665</td>\n",
       "      <td>0.344781</td>\n",
       "      <td>0.088810</td>\n",
       "      <td>0.014761</td>\n",
       "    </tr>\n",
       "    <tr>\n",
       "      <th>3</th>\n",
       "      <td>0.273207</td>\n",
       "      <td>-0.739299</td>\n",
       "      <td>1.223583</td>\n",
       "      <td>-0.124293</td>\n",
       "      <td>0.093676</td>\n",
       "      <td>-0.239736</td>\n",
       "      <td>-0.033031</td>\n",
       "      <td>-0.629884</td>\n",
       "      <td>0.294321</td>\n",
       "      <td>-0.474977</td>\n",
       "    </tr>\n",
       "    <tr>\n",
       "      <th>4</th>\n",
       "      <td>0.441165</td>\n",
       "      <td>0.000057</td>\n",
       "      <td>-0.644073</td>\n",
       "      <td>0.283349</td>\n",
       "      <td>0.025366</td>\n",
       "      <td>-0.111974</td>\n",
       "      <td>0.030496</td>\n",
       "      <td>0.616915</td>\n",
       "      <td>-0.321619</td>\n",
       "      <td>0.235588</td>\n",
       "    </tr>\n",
       "    <tr>\n",
       "      <th>...</th>\n",
       "      <td>...</td>\n",
       "      <td>...</td>\n",
       "      <td>...</td>\n",
       "      <td>...</td>\n",
       "      <td>...</td>\n",
       "      <td>...</td>\n",
       "      <td>...</td>\n",
       "      <td>...</td>\n",
       "      <td>...</td>\n",
       "      <td>...</td>\n",
       "    </tr>\n",
       "    <tr>\n",
       "      <th>559945</th>\n",
       "      <td>0.071412</td>\n",
       "      <td>-1.093466</td>\n",
       "      <td>-0.059101</td>\n",
       "      <td>0.386222</td>\n",
       "      <td>0.923274</td>\n",
       "      <td>-0.021180</td>\n",
       "      <td>-0.307615</td>\n",
       "      <td>-0.018244</td>\n",
       "      <td>-0.165543</td>\n",
       "      <td>-0.330632</td>\n",
       "    </tr>\n",
       "    <tr>\n",
       "      <th>559946</th>\n",
       "      <td>0.352909</td>\n",
       "      <td>-0.612266</td>\n",
       "      <td>0.615389</td>\n",
       "      <td>-0.082247</td>\n",
       "      <td>0.082736</td>\n",
       "      <td>-0.101877</td>\n",
       "      <td>0.006784</td>\n",
       "      <td>-0.386773</td>\n",
       "      <td>0.109398</td>\n",
       "      <td>-0.575114</td>\n",
       "    </tr>\n",
       "    <tr>\n",
       "      <th>559947</th>\n",
       "      <td>0.341136</td>\n",
       "      <td>0.675160</td>\n",
       "      <td>-0.454757</td>\n",
       "      <td>0.063029</td>\n",
       "      <td>0.142742</td>\n",
       "      <td>-0.087494</td>\n",
       "      <td>-0.122395</td>\n",
       "      <td>0.264377</td>\n",
       "      <td>0.056332</td>\n",
       "      <td>0.228152</td>\n",
       "    </tr>\n",
       "    <tr>\n",
       "      <th>559948</th>\n",
       "      <td>0.398007</td>\n",
       "      <td>-0.270934</td>\n",
       "      <td>1.094988</td>\n",
       "      <td>-0.153261</td>\n",
       "      <td>0.080088</td>\n",
       "      <td>-0.549146</td>\n",
       "      <td>-0.196775</td>\n",
       "      <td>-0.392620</td>\n",
       "      <td>0.566632</td>\n",
       "      <td>-0.424977</td>\n",
       "    </tr>\n",
       "    <tr>\n",
       "      <th>559949</th>\n",
       "      <td>0.449428</td>\n",
       "      <td>-0.371060</td>\n",
       "      <td>-0.595060</td>\n",
       "      <td>-0.153992</td>\n",
       "      <td>-0.062624</td>\n",
       "      <td>0.100971</td>\n",
       "      <td>0.070371</td>\n",
       "      <td>0.426979</td>\n",
       "      <td>0.112428</td>\n",
       "      <td>-0.302533</td>\n",
       "    </tr>\n",
       "  </tbody>\n",
       "</table>\n",
       "<p>559950 rows × 10 columns</p>\n",
       "</div>"
      ],
      "text/plain": [
       "              Ux        Uy        Uz        S1        S2        S3        S4  \\\n",
       "0       0.256586 -1.037380  0.032353  0.179013 -0.165670 -0.044446  0.681956   \n",
       "1       0.405770  0.198436 -0.115980 -0.009625 -0.022173  0.019609  0.059045   \n",
       "2       0.483732  0.135156  0.074298  0.036092 -0.062360  0.089373 -0.129665   \n",
       "3       0.273207 -0.739299  1.223583 -0.124293  0.093676 -0.239736 -0.033031   \n",
       "4       0.441165  0.000057 -0.644073  0.283349  0.025366 -0.111974  0.030496   \n",
       "...          ...       ...       ...       ...       ...       ...       ...   \n",
       "559945  0.071412 -1.093466 -0.059101  0.386222  0.923274 -0.021180 -0.307615   \n",
       "559946  0.352909 -0.612266  0.615389 -0.082247  0.082736 -0.101877  0.006784   \n",
       "559947  0.341136  0.675160 -0.454757  0.063029  0.142742 -0.087494 -0.122395   \n",
       "559948  0.398007 -0.270934  1.094988 -0.153261  0.080088 -0.549146 -0.196775   \n",
       "559949  0.449428 -0.371060 -0.595060 -0.153992 -0.062624  0.100971  0.070371   \n",
       "\n",
       "              S5        S6        Cs  \n",
       "0      -0.266878  0.125857  5.377695  \n",
       "1      -0.064982 -0.034462 -0.518536  \n",
       "2       0.344781  0.088810  0.014761  \n",
       "3      -0.629884  0.294321 -0.474977  \n",
       "4       0.616915 -0.321619  0.235588  \n",
       "...          ...       ...       ...  \n",
       "559945 -0.018244 -0.165543 -0.330632  \n",
       "559946 -0.386773  0.109398 -0.575114  \n",
       "559947  0.264377  0.056332  0.228152  \n",
       "559948 -0.392620  0.566632 -0.424977  \n",
       "559949  0.426979  0.112428 -0.302533  \n",
       "\n",
       "[559950 rows x 10 columns]"
      ]
     },
     "execution_count": 103,
     "metadata": {},
     "output_type": "execute_result"
    }
   ],
   "source": [
    "train"
   ]
  },
  {
   "cell_type": "code",
   "execution_count": 104,
   "id": "20cc0dec",
   "metadata": {},
   "outputs": [
    {
     "data": {
      "text/html": [
       "<div>\n",
       "<style scoped>\n",
       "    .dataframe tbody tr th:only-of-type {\n",
       "        vertical-align: middle;\n",
       "    }\n",
       "\n",
       "    .dataframe tbody tr th {\n",
       "        vertical-align: top;\n",
       "    }\n",
       "\n",
       "    .dataframe thead th {\n",
       "        text-align: right;\n",
       "    }\n",
       "</style>\n",
       "<table border=\"1\" class=\"dataframe\">\n",
       "  <thead>\n",
       "    <tr style=\"text-align: right;\">\n",
       "      <th></th>\n",
       "      <th>Ux</th>\n",
       "      <th>Uy</th>\n",
       "      <th>Uz</th>\n",
       "      <th>S1</th>\n",
       "      <th>S2</th>\n",
       "      <th>S3</th>\n",
       "      <th>S4</th>\n",
       "      <th>S5</th>\n",
       "      <th>S6</th>\n",
       "      <th>Cs</th>\n",
       "    </tr>\n",
       "  </thead>\n",
       "  <tbody>\n",
       "    <tr>\n",
       "      <th>0</th>\n",
       "      <td>0.151697</td>\n",
       "      <td>0.896921</td>\n",
       "      <td>-0.611916</td>\n",
       "      <td>-1.198093</td>\n",
       "      <td>0.063899</td>\n",
       "      <td>-1.716066</td>\n",
       "      <td>1.564544</td>\n",
       "      <td>0.378995</td>\n",
       "      <td>-1.276389</td>\n",
       "      <td>0.470168</td>\n",
       "    </tr>\n",
       "    <tr>\n",
       "      <th>1</th>\n",
       "      <td>0.368097</td>\n",
       "      <td>0.166111</td>\n",
       "      <td>-0.022698</td>\n",
       "      <td>-0.025856</td>\n",
       "      <td>0.045116</td>\n",
       "      <td>0.079135</td>\n",
       "      <td>0.163089</td>\n",
       "      <td>-0.054048</td>\n",
       "      <td>-0.116564</td>\n",
       "      <td>0.007707</td>\n",
       "    </tr>\n",
       "    <tr>\n",
       "      <th>2</th>\n",
       "      <td>0.836546</td>\n",
       "      <td>0.668290</td>\n",
       "      <td>-0.624432</td>\n",
       "      <td>-0.288837</td>\n",
       "      <td>-0.066660</td>\n",
       "      <td>0.099825</td>\n",
       "      <td>0.226816</td>\n",
       "      <td>0.494591</td>\n",
       "      <td>-0.286807</td>\n",
       "      <td>0.101043</td>\n",
       "    </tr>\n",
       "    <tr>\n",
       "      <th>3</th>\n",
       "      <td>0.379332</td>\n",
       "      <td>0.265818</td>\n",
       "      <td>-0.731130</td>\n",
       "      <td>-0.153895</td>\n",
       "      <td>0.041697</td>\n",
       "      <td>-0.012102</td>\n",
       "      <td>-0.120492</td>\n",
       "      <td>-0.337773</td>\n",
       "      <td>0.254866</td>\n",
       "      <td>-0.515654</td>\n",
       "    </tr>\n",
       "    <tr>\n",
       "      <th>4</th>\n",
       "      <td>0.399596</td>\n",
       "      <td>-0.191945</td>\n",
       "      <td>-0.057558</td>\n",
       "      <td>0.043972</td>\n",
       "      <td>0.020775</td>\n",
       "      <td>0.074682</td>\n",
       "      <td>0.064291</td>\n",
       "      <td>0.053046</td>\n",
       "      <td>-0.113168</td>\n",
       "      <td>0.092444</td>\n",
       "    </tr>\n",
       "    <tr>\n",
       "      <th>...</th>\n",
       "      <td>...</td>\n",
       "      <td>...</td>\n",
       "      <td>...</td>\n",
       "      <td>...</td>\n",
       "      <td>...</td>\n",
       "      <td>...</td>\n",
       "      <td>...</td>\n",
       "      <td>...</td>\n",
       "      <td>...</td>\n",
       "      <td>...</td>\n",
       "    </tr>\n",
       "    <tr>\n",
       "      <th>140045</th>\n",
       "      <td>0.408677</td>\n",
       "      <td>-0.081545</td>\n",
       "      <td>-0.603177</td>\n",
       "      <td>-0.229717</td>\n",
       "      <td>0.203787</td>\n",
       "      <td>-0.051251</td>\n",
       "      <td>0.228232</td>\n",
       "      <td>-0.077136</td>\n",
       "      <td>0.201801</td>\n",
       "      <td>0.161237</td>\n",
       "    </tr>\n",
       "    <tr>\n",
       "      <th>140046</th>\n",
       "      <td>0.387106</td>\n",
       "      <td>-0.819364</td>\n",
       "      <td>0.773560</td>\n",
       "      <td>0.190289</td>\n",
       "      <td>-0.108191</td>\n",
       "      <td>0.120848</td>\n",
       "      <td>-0.114782</td>\n",
       "      <td>0.510844</td>\n",
       "      <td>-0.121200</td>\n",
       "      <td>0.247018</td>\n",
       "    </tr>\n",
       "    <tr>\n",
       "      <th>140047</th>\n",
       "      <td>-0.347242</td>\n",
       "      <td>-0.102225</td>\n",
       "      <td>0.326274</td>\n",
       "      <td>-0.727576</td>\n",
       "      <td>1.153021</td>\n",
       "      <td>-0.110290</td>\n",
       "      <td>1.571345</td>\n",
       "      <td>0.020547</td>\n",
       "      <td>-0.708087</td>\n",
       "      <td>-0.220649</td>\n",
       "    </tr>\n",
       "    <tr>\n",
       "      <th>140048</th>\n",
       "      <td>0.353708</td>\n",
       "      <td>-0.069333</td>\n",
       "      <td>0.053761</td>\n",
       "      <td>-0.022119</td>\n",
       "      <td>-0.033151</td>\n",
       "      <td>-0.057264</td>\n",
       "      <td>-0.032834</td>\n",
       "      <td>-0.065366</td>\n",
       "      <td>0.068294</td>\n",
       "      <td>-0.208105</td>\n",
       "    </tr>\n",
       "    <tr>\n",
       "      <th>140049</th>\n",
       "      <td>0.445790</td>\n",
       "      <td>0.111362</td>\n",
       "      <td>-0.010365</td>\n",
       "      <td>0.053151</td>\n",
       "      <td>0.007214</td>\n",
       "      <td>-0.004503</td>\n",
       "      <td>0.034749</td>\n",
       "      <td>0.031559</td>\n",
       "      <td>-0.101678</td>\n",
       "      <td>0.216397</td>\n",
       "    </tr>\n",
       "  </tbody>\n",
       "</table>\n",
       "<p>140050 rows × 10 columns</p>\n",
       "</div>"
      ],
      "text/plain": [
       "              Ux        Uy        Uz        S1        S2        S3        S4  \\\n",
       "0       0.151697  0.896921 -0.611916 -1.198093  0.063899 -1.716066  1.564544   \n",
       "1       0.368097  0.166111 -0.022698 -0.025856  0.045116  0.079135  0.163089   \n",
       "2       0.836546  0.668290 -0.624432 -0.288837 -0.066660  0.099825  0.226816   \n",
       "3       0.379332  0.265818 -0.731130 -0.153895  0.041697 -0.012102 -0.120492   \n",
       "4       0.399596 -0.191945 -0.057558  0.043972  0.020775  0.074682  0.064291   \n",
       "...          ...       ...       ...       ...       ...       ...       ...   \n",
       "140045  0.408677 -0.081545 -0.603177 -0.229717  0.203787 -0.051251  0.228232   \n",
       "140046  0.387106 -0.819364  0.773560  0.190289 -0.108191  0.120848 -0.114782   \n",
       "140047 -0.347242 -0.102225  0.326274 -0.727576  1.153021 -0.110290  1.571345   \n",
       "140048  0.353708 -0.069333  0.053761 -0.022119 -0.033151 -0.057264 -0.032834   \n",
       "140049  0.445790  0.111362 -0.010365  0.053151  0.007214 -0.004503  0.034749   \n",
       "\n",
       "              S5        S6        Cs  \n",
       "0       0.378995 -1.276389  0.470168  \n",
       "1      -0.054048 -0.116564  0.007707  \n",
       "2       0.494591 -0.286807  0.101043  \n",
       "3      -0.337773  0.254866 -0.515654  \n",
       "4       0.053046 -0.113168  0.092444  \n",
       "...          ...       ...       ...  \n",
       "140045 -0.077136  0.201801  0.161237  \n",
       "140046  0.510844 -0.121200  0.247018  \n",
       "140047  0.020547 -0.708087 -0.220649  \n",
       "140048 -0.065366  0.068294 -0.208105  \n",
       "140049  0.031559 -0.101678  0.216397  \n",
       "\n",
       "[140050 rows x 10 columns]"
      ]
     },
     "execution_count": 104,
     "metadata": {},
     "output_type": "execute_result"
    }
   ],
   "source": [
    "val"
   ]
  },
  {
   "cell_type": "code",
   "execution_count": 121,
   "id": "7c681c78",
   "metadata": {},
   "outputs": [],
   "source": [
    "class MyDataset(Dataset):\n",
    "    def __init__(self, dataframe):\n",
    "        self.data = dataframe\n",
    "\n",
    "    def __getitem__(self, index):\n",
    "        # Ensure all indices are valid\n",
    "        if index < len(self.data):\n",
    "            return torch.tensor(self.data.iloc[index].values, dtype=torch.float64)\n",
    "        else:\n",
    "            raise IndexError(f\"Index {index} out of range for dataset with length {len(self.data)}\")\n",
    "\n",
    "    def __len__(self):\n",
    "        return len(self.data)"
   ]
  },
  {
   "cell_type": "code",
   "execution_count": 122,
   "id": "7b7c210c",
   "metadata": {},
   "outputs": [],
   "source": [
    "batch_sz_trn = 4096\n",
    "batch_sz_val = int(batch_sz_trn / 4)\n",
    "\n",
    "train_dataset = MyDataset(train)\n",
    "val_dataset = MyDataset(val)\n",
    "\n",
    "train_loader = torch.utils.data.DataLoader(dataset=train_dataset, batch_size=batch_sz_trn, shuffle=True)\n",
    "val_loader = torch.utils.data.DataLoader(dataset=val_dataset, batch_size=batch_sz_val, shuffle=True)"
   ]
  },
  {
   "cell_type": "code",
   "execution_count": 123,
   "id": "c5ce4d03",
   "metadata": {},
   "outputs": [
    {
     "data": {
      "text/plain": [
       "tensor([ 0.1995,  0.4135, -1.9074, -0.2632,  0.6383, -0.7686,  1.4252, -0.9879,\n",
       "        -0.5295, -0.4727], dtype=torch.float64)"
      ]
     },
     "execution_count": 123,
     "metadata": {},
     "output_type": "execute_result"
    }
   ],
   "source": [
    "data_iter = iter(train_loader)\n",
    "next(data_iter)[0]"
   ]
  },
  {
   "cell_type": "code",
   "execution_count": 124,
   "id": "14dc83b7",
   "metadata": {},
   "outputs": [],
   "source": [
    "def coeff_determination(y_true, y_pred):\n",
    "    SS_res = torch.sum(torch.square( y_true - y_pred ))\n",
    "    SS_tot = torch.sum(torch.square( y_true - torch.mean(y_true) ) )\n",
    "    return ( 1 - SS_res/(SS_tot + sys_epsilon) )"
   ]
  },
  {
   "cell_type": "code",
   "execution_count": 125,
   "id": "685550b7",
   "metadata": {},
   "outputs": [],
   "source": [
    "class MLPModel(nn.Module):\n",
    "    def __init__(self, input_size, output_size, hidden_layers, neurons_per_layer):\n",
    "        super(MLPModel, self).__init__()\n",
    "\n",
    "        layers = []\n",
    "        layers.append(nn.Linear(input_size, neurons_per_layer[0]))\n",
    "        layers.append(nn.ReLU())\n",
    "\n",
    "        for i in range(1, hidden_layers):\n",
    "            layers.append(nn.Linear(neurons_per_layer[i - 1], neurons_per_layer[i]))\n",
    "            layers.append(nn.ReLU())\n",
    "\n",
    "        layers.append(nn.Linear(neurons_per_layer[-1], output_size))\n",
    "\n",
    "        self.block = nn.Sequential(*layers)\n",
    "\n",
    "    def forward(self, x):\n",
    "        x = self.block(x)\n",
    "        return x"
   ]
  },
  {
   "cell_type": "code",
   "execution_count": 126,
   "id": "e2b2bc2b",
   "metadata": {},
   "outputs": [
    {
     "data": {
      "text/plain": [
       "MLPModel(\n",
       "  (block): Sequential(\n",
       "    (0): Linear(in_features=9, out_features=60, bias=True)\n",
       "    (1): ReLU()\n",
       "    (2): Linear(in_features=60, out_features=60, bias=True)\n",
       "    (3): ReLU()\n",
       "    (4): Linear(in_features=60, out_features=60, bias=True)\n",
       "    (5): ReLU()\n",
       "    (6): Linear(in_features=60, out_features=60, bias=True)\n",
       "    (7): ReLU()\n",
       "    (8): Linear(in_features=60, out_features=60, bias=True)\n",
       "    (9): ReLU()\n",
       "    (10): Linear(in_features=60, out_features=1, bias=True)\n",
       "  )\n",
       ")"
      ]
     },
     "execution_count": 126,
     "metadata": {},
     "output_type": "execute_result"
    }
   ],
   "source": [
    "model = MLPModel(input_size=input_size, \n",
    "                 output_size=output_size, \n",
    "                 hidden_layers=hidden_layers, \n",
    "                 neurons_per_layer=neurons_per_layer)\n",
    "\n",
    "optimizer = torch.optim.Adam(model.parameters(), lr=0.001)\n",
    "scheduler = StepLR(optimizer, step_size=3, gamma=0.2)\n",
    "\n",
    "device = torch.device(\"cuda\")\n",
    "model.to(device)\n",
    "model.double()"
   ]
  },
  {
   "cell_type": "code",
   "execution_count": 127,
   "id": "2d3c6064",
   "metadata": {},
   "outputs": [],
   "source": [
    "class EarlyStopper:\n",
    "    def __init__(self, patience=1, path=None):\n",
    "        self.patience = patience\n",
    "        self.path = path\n",
    "        self.counter = 0\n",
    "        self.min_val_loss = float('inf')\n",
    "\n",
    "    def early_stop(self, model_stat, val_loss):\n",
    "        if val_loss < self.min_val_loss:\n",
    "            torch.save(model_stat, self.path)\n",
    "            self.min_val_loss = val_loss\n",
    "            self.counter = 0\n",
    "        elif val_loss > (self.min_val_loss + sys_epsilon):\n",
    "            self.counter += 1\n",
    "            if self.counter >= self.patience:\n",
    "                print('+++ Early Stopping is reached! +++')\n",
    "                return True\n",
    "        return False"
   ]
  },
  {
   "cell_type": "code",
   "execution_count": 128,
   "id": "a478bd8b",
   "metadata": {},
   "outputs": [],
   "source": [
    "def log_epoch_info(epoch, epochs, Loss_train, coeff_train, Loss_val, coeff_val):\n",
    "    message = (\n",
    "        f\"Epoch: {epoch} / {epochs}, \\n\"\n",
    "        f\"Train -- Loss: {Loss_train}, Coeff: {coeff_train} \\n\"\n",
    "        f\"Val   -- Loss: {Loss_val}, Coeff: {coeff_val} \\n\\n\"\n",
    "    )\n",
    "    print(message)"
   ]
  },
  {
   "cell_type": "code",
   "execution_count": null,
   "id": "bff43a15",
   "metadata": {},
   "outputs": [
    {
     "name": "stderr",
     "output_type": "stream",
     "text": [
      "Train: 100%|██████████| 137/137 [00:20<00:00,  6.56batch/s]\n",
      "Valdt: 100%|██████████| 137/137 [00:05<00:00, 26.51batch/s]\n"
     ]
    },
    {
     "name": "stdout",
     "output_type": "stream",
     "text": [
      "Epoch: 0 / 6000, \n",
      "Train -- Loss: 0.02809513001312743, Coeff: 0.033447265625 \n",
      "Val   -- Loss: 0.08414723576210915, Coeff: 0.1337890625 \n",
      "\n",
      "\n"
     ]
    },
    {
     "name": "stderr",
     "output_type": "stream",
     "text": [
      "Train: 100%|██████████| 137/137 [00:20<00:00,  6.85batch/s]\n",
      "Valdt: 100%|██████████| 137/137 [00:05<00:00, 26.24batch/s]\n"
     ]
    },
    {
     "name": "stdout",
     "output_type": "stream",
     "text": [
      "Epoch: 1 / 6000, \n",
      "Train -- Loss: 0.018031762073992184, Coeff: 0.033447265625 \n",
      "Val   -- Loss: 0.06374639027249876, Coeff: 0.1337890625 \n",
      "\n",
      "\n"
     ]
    },
    {
     "name": "stderr",
     "output_type": "stream",
     "text": [
      "Train: 100%|██████████| 137/137 [00:19<00:00,  6.85batch/s]\n",
      "Valdt: 100%|██████████| 137/137 [00:05<00:00, 26.64batch/s]\n"
     ]
    },
    {
     "name": "stdout",
     "output_type": "stream",
     "text": [
      "Epoch: 2 / 6000, \n",
      "Train -- Loss: 0.015050774383109628, Coeff: 0.033447265625 \n",
      "Val   -- Loss: 0.055904692375133895, Coeff: 0.1337890625 \n",
      "\n",
      "\n"
     ]
    },
    {
     "name": "stderr",
     "output_type": "stream",
     "text": [
      "Train: 100%|██████████| 137/137 [00:22<00:00,  6.12batch/s]\n",
      "Valdt: 100%|██████████| 137/137 [00:05<00:00, 26.57batch/s]\n"
     ]
    },
    {
     "name": "stdout",
     "output_type": "stream",
     "text": [
      "Epoch: 3 / 6000, \n",
      "Train -- Loss: 0.013692250261584202, Coeff: 0.033447265625 \n",
      "Val   -- Loss: 0.05180806219433615, Coeff: 0.1337890625 \n",
      "\n",
      "\n"
     ]
    },
    {
     "name": "stderr",
     "output_type": "stream",
     "text": [
      "Train: 100%|██████████| 137/137 [00:20<00:00,  6.81batch/s]\n",
      "Valdt: 100%|██████████| 137/137 [00:05<00:00, 26.41batch/s]\n"
     ]
    },
    {
     "name": "stdout",
     "output_type": "stream",
     "text": [
      "Epoch: 4 / 6000, \n",
      "Train -- Loss: 0.012837002792991757, Coeff: 0.033447265625 \n",
      "Val   -- Loss: 0.04907132976966255, Coeff: 0.1337890625 \n",
      "\n",
      "\n"
     ]
    },
    {
     "name": "stderr",
     "output_type": "stream",
     "text": [
      "Train: 100%|██████████| 137/137 [00:20<00:00,  6.83batch/s]\n",
      "Valdt: 100%|██████████| 137/137 [00:05<00:00, 26.26batch/s]\n"
     ]
    },
    {
     "name": "stdout",
     "output_type": "stream",
     "text": [
      "Epoch: 5 / 6000, \n",
      "Train -- Loss: 0.012241555847429706, Coeff: 0.033447265625 \n",
      "Val   -- Loss: 0.04872493230806951, Coeff: 0.1337890625 \n",
      "\n",
      "\n"
     ]
    },
    {
     "name": "stderr",
     "output_type": "stream",
     "text": [
      "Train: 100%|██████████| 137/137 [00:19<00:00,  6.87batch/s]\n",
      "Valdt: 100%|██████████| 137/137 [00:05<00:00, 26.52batch/s]\n"
     ]
    },
    {
     "name": "stdout",
     "output_type": "stream",
     "text": [
      "Epoch: 6 / 6000, \n",
      "Train -- Loss: 0.011628949801584432, Coeff: 0.033447265625 \n",
      "Val   -- Loss: 0.04532974921365783, Coeff: 0.1337890625 \n",
      "\n",
      "\n"
     ]
    },
    {
     "name": "stderr",
     "output_type": "stream",
     "text": [
      "Train: 100%|██████████| 137/137 [00:20<00:00,  6.83batch/s]\n",
      "Valdt: 100%|██████████| 137/137 [00:05<00:00, 26.56batch/s]\n"
     ]
    },
    {
     "name": "stdout",
     "output_type": "stream",
     "text": [
      "Epoch: 7 / 6000, \n",
      "Train -- Loss: 0.011046786441890803, Coeff: 0.033447265625 \n",
      "Val   -- Loss: 0.04274272548437213, Coeff: 0.1337890625 \n",
      "\n",
      "\n"
     ]
    },
    {
     "name": "stderr",
     "output_type": "stream",
     "text": [
      "Train: 100%|██████████| 137/137 [00:19<00:00,  6.88batch/s]\n",
      "Valdt: 100%|██████████| 137/137 [00:05<00:00, 26.32batch/s]\n"
     ]
    },
    {
     "name": "stdout",
     "output_type": "stream",
     "text": [
      "Epoch: 8 / 6000, \n",
      "Train -- Loss: 0.010256947066351765, Coeff: 0.033447265625 \n",
      "Val   -- Loss: 0.04020835591764955, Coeff: 0.1337890625 \n",
      "\n",
      "\n"
     ]
    },
    {
     "name": "stderr",
     "output_type": "stream",
     "text": [
      "Train: 100%|██████████| 137/137 [00:19<00:00,  6.87batch/s]\n",
      "Valdt: 100%|██████████| 137/137 [00:05<00:00, 26.52batch/s]\n"
     ]
    },
    {
     "name": "stdout",
     "output_type": "stream",
     "text": [
      "Epoch: 9 / 6000, \n",
      "Train -- Loss: 0.009590222143672474, Coeff: 0.033447265625 \n",
      "Val   -- Loss: 0.03688137104044523, Coeff: 0.1337890625 \n",
      "\n",
      "\n"
     ]
    },
    {
     "name": "stderr",
     "output_type": "stream",
     "text": [
      "Train: 100%|██████████| 137/137 [00:20<00:00,  6.83batch/s]\n",
      "Valdt: 100%|██████████| 137/137 [00:05<00:00, 26.55batch/s]\n"
     ]
    },
    {
     "name": "stdout",
     "output_type": "stream",
     "text": [
      "Epoch: 10 / 6000, \n",
      "Train -- Loss: 0.00874402011983278, Coeff: 0.033447265625 \n",
      "Val   -- Loss: 0.03427282436233594, Coeff: 0.1337890625 \n",
      "\n",
      "\n"
     ]
    },
    {
     "name": "stderr",
     "output_type": "stream",
     "text": [
      "Train: 100%|██████████| 137/137 [00:19<00:00,  6.85batch/s]\n",
      "Valdt: 100%|██████████| 137/137 [00:05<00:00, 26.20batch/s]\n"
     ]
    },
    {
     "name": "stdout",
     "output_type": "stream",
     "text": [
      "Epoch: 11 / 6000, \n",
      "Train -- Loss: 0.008214451075709325, Coeff: 0.033447265625 \n",
      "Val   -- Loss: 0.031547663667025015, Coeff: 0.1337890625 \n",
      "\n",
      "\n"
     ]
    },
    {
     "name": "stderr",
     "output_type": "stream",
     "text": [
      "Train: 100%|██████████| 137/137 [00:22<00:00,  6.17batch/s]\n",
      "Valdt: 100%|██████████| 137/137 [00:05<00:00, 26.23batch/s]\n"
     ]
    },
    {
     "name": "stdout",
     "output_type": "stream",
     "text": [
      "Epoch: 12 / 6000, \n",
      "Train -- Loss: 0.007670336778869133, Coeff: 0.033447265625 \n",
      "Val   -- Loss: 0.029619632352380812, Coeff: 0.1337890625 \n",
      "\n",
      "\n"
     ]
    },
    {
     "name": "stderr",
     "output_type": "stream",
     "text": [
      "Train: 100%|██████████| 137/137 [00:20<00:00,  6.83batch/s]\n",
      "Valdt: 100%|██████████| 137/137 [00:05<00:00, 26.56batch/s]\n"
     ]
    },
    {
     "name": "stdout",
     "output_type": "stream",
     "text": [
      "Epoch: 13 / 6000, \n",
      "Train -- Loss: 0.007351402977032889, Coeff: 0.033447265625 \n",
      "Val   -- Loss: 0.031587152656936304, Coeff: 0.1337890625 \n",
      "\n",
      "\n"
     ]
    },
    {
     "name": "stderr",
     "output_type": "stream",
     "text": [
      "Train: 100%|██████████| 137/137 [00:20<00:00,  6.82batch/s]\n",
      "Valdt: 100%|██████████| 137/137 [00:05<00:00, 26.48batch/s]\n"
     ]
    },
    {
     "name": "stdout",
     "output_type": "stream",
     "text": [
      "Epoch: 14 / 6000, \n",
      "Train -- Loss: 0.0071300480968777774, Coeff: 0.033447265625 \n",
      "Val   -- Loss: 0.02972122093751808, Coeff: 0.1337890625 \n",
      "\n",
      "\n"
     ]
    },
    {
     "name": "stderr",
     "output_type": "stream",
     "text": [
      "Train: 100%|██████████| 137/137 [00:19<00:00,  6.86batch/s]\n",
      "Valdt: 100%|██████████| 137/137 [00:05<00:00, 26.26batch/s]\n"
     ]
    },
    {
     "name": "stdout",
     "output_type": "stream",
     "text": [
      "Epoch: 15 / 6000, \n",
      "Train -- Loss: 0.006746018338315666, Coeff: 0.033447265625 \n",
      "Val   -- Loss: 0.026280565515770692, Coeff: 0.1337890625 \n",
      "\n",
      "\n"
     ]
    },
    {
     "name": "stderr",
     "output_type": "stream",
     "text": [
      "Train: 100%|██████████| 137/137 [00:20<00:00,  6.85batch/s]\n",
      "Valdt: 100%|██████████| 137/137 [00:05<00:00, 26.48batch/s]\n"
     ]
    },
    {
     "name": "stdout",
     "output_type": "stream",
     "text": [
      "Epoch: 16 / 6000, \n",
      "Train -- Loss: 0.006603872057978934, Coeff: 0.033447265625 \n",
      "Val   -- Loss: 0.025704029117949834, Coeff: 0.1337890625 \n",
      "\n",
      "\n"
     ]
    },
    {
     "name": "stderr",
     "output_type": "stream",
     "text": [
      "Train: 100%|██████████| 137/137 [00:20<00:00,  6.83batch/s]\n",
      "Valdt: 100%|██████████| 137/137 [00:05<00:00, 26.53batch/s]\n"
     ]
    },
    {
     "name": "stdout",
     "output_type": "stream",
     "text": [
      "Epoch: 17 / 6000, \n",
      "Train -- Loss: 0.0063640836807963425, Coeff: 0.033447265625 \n",
      "Val   -- Loss: 0.025075954864898897, Coeff: 0.1337890625 \n",
      "\n",
      "\n"
     ]
    },
    {
     "name": "stderr",
     "output_type": "stream",
     "text": [
      "Train: 100%|██████████| 137/137 [00:19<00:00,  6.86batch/s]\n",
      "Valdt: 100%|██████████| 137/137 [00:05<00:00, 26.28batch/s]\n"
     ]
    },
    {
     "name": "stdout",
     "output_type": "stream",
     "text": [
      "Epoch: 18 / 6000, \n",
      "Train -- Loss: 0.006144907547555292, Coeff: 0.033447265625 \n",
      "Val   -- Loss: 0.02463121821987565, Coeff: 0.1337890625 \n",
      "\n",
      "\n"
     ]
    },
    {
     "name": "stderr",
     "output_type": "stream",
     "text": [
      "Train: 100%|██████████| 137/137 [00:20<00:00,  6.84batch/s]\n",
      "Valdt: 100%|██████████| 137/137 [00:05<00:00, 26.45batch/s]\n"
     ]
    },
    {
     "name": "stdout",
     "output_type": "stream",
     "text": [
      "Epoch: 19 / 6000, \n",
      "Train -- Loss: 0.005942128543280596, Coeff: 0.033447265625 \n",
      "Val   -- Loss: 0.024606192336373713, Coeff: 0.1337890625 \n",
      "\n",
      "\n"
     ]
    },
    {
     "name": "stderr",
     "output_type": "stream",
     "text": [
      "Train: 100%|██████████| 137/137 [00:20<00:00,  6.80batch/s]\n",
      "Valdt: 100%|██████████| 137/137 [00:05<00:00, 26.58batch/s]\n"
     ]
    },
    {
     "name": "stdout",
     "output_type": "stream",
     "text": [
      "Epoch: 20 / 6000, \n",
      "Train -- Loss: 0.006001545439235231, Coeff: 0.033447265625 \n",
      "Val   -- Loss: 0.0237424468770974, Coeff: 0.1337890625 \n",
      "\n",
      "\n"
     ]
    },
    {
     "name": "stderr",
     "output_type": "stream",
     "text": [
      "Train: 100%|██████████| 137/137 [00:22<00:00,  6.14batch/s]\n",
      "Valdt: 100%|██████████| 137/137 [00:05<00:00, 26.60batch/s]\n"
     ]
    },
    {
     "name": "stdout",
     "output_type": "stream",
     "text": [
      "Epoch: 21 / 6000, \n",
      "Train -- Loss: 0.005711207538539757, Coeff: 0.033447265625 \n",
      "Val   -- Loss: 0.023871583586137505, Coeff: 0.1337890625 \n",
      "\n",
      "\n"
     ]
    },
    {
     "name": "stderr",
     "output_type": "stream",
     "text": [
      "Train: 100%|██████████| 137/137 [00:20<00:00,  6.84batch/s]\n",
      "Valdt: 100%|██████████| 137/137 [00:05<00:00, 26.26batch/s]\n"
     ]
    },
    {
     "name": "stdout",
     "output_type": "stream",
     "text": [
      "Epoch: 22 / 6000, \n",
      "Train -- Loss: 0.005721309301971643, Coeff: 0.033447265625 \n",
      "Val   -- Loss: 0.024203842138054776, Coeff: 0.1337890625 \n",
      "\n",
      "\n"
     ]
    },
    {
     "name": "stderr",
     "output_type": "stream",
     "text": [
      "Train: 100%|██████████| 137/137 [00:20<00:00,  6.84batch/s]\n",
      "Valdt: 100%|██████████| 137/137 [00:05<00:00, 26.48batch/s]\n"
     ]
    },
    {
     "name": "stdout",
     "output_type": "stream",
     "text": [
      "Epoch: 23 / 6000, \n",
      "Train -- Loss: 0.005628366491828083, Coeff: 0.033447265625 \n",
      "Val   -- Loss: 0.023125898194547075, Coeff: 0.1337890625 \n",
      "\n",
      "\n"
     ]
    },
    {
     "name": "stderr",
     "output_type": "stream",
     "text": [
      "Train: 100%|██████████| 137/137 [00:20<00:00,  6.84batch/s]\n",
      "Valdt: 100%|██████████| 137/137 [00:05<00:00, 26.49batch/s]\n"
     ]
    },
    {
     "name": "stdout",
     "output_type": "stream",
     "text": [
      "Epoch: 24 / 6000, \n",
      "Train -- Loss: 0.0053653820752490615, Coeff: 0.033447265625 \n",
      "Val   -- Loss: 0.022199935014754795, Coeff: 0.1337890625 \n",
      "\n",
      "\n"
     ]
    },
    {
     "name": "stderr",
     "output_type": "stream",
     "text": [
      "Train: 100%|██████████| 137/137 [00:20<00:00,  6.85batch/s]\n",
      "Valdt: 100%|██████████| 137/137 [00:05<00:00, 26.22batch/s]\n"
     ]
    },
    {
     "name": "stdout",
     "output_type": "stream",
     "text": [
      "Epoch: 25 / 6000, \n",
      "Train -- Loss: 0.005298671031427889, Coeff: 0.033447265625 \n",
      "Val   -- Loss: 0.021888027220954884, Coeff: 0.1337890625 \n",
      "\n",
      "\n"
     ]
    },
    {
     "name": "stderr",
     "output_type": "stream",
     "text": [
      "Train: 100%|██████████| 137/137 [00:20<00:00,  6.85batch/s]\n",
      "Valdt: 100%|██████████| 137/137 [00:05<00:00, 26.47batch/s]\n"
     ]
    },
    {
     "name": "stdout",
     "output_type": "stream",
     "text": [
      "Epoch: 26 / 6000, \n",
      "Train -- Loss: 0.005297731937118884, Coeff: 0.033447265625 \n",
      "Val   -- Loss: 0.02407693184696071, Coeff: 0.1337890625 \n",
      "\n",
      "\n"
     ]
    },
    {
     "name": "stderr",
     "output_type": "stream",
     "text": [
      "Train: 100%|██████████| 137/137 [00:20<00:00,  6.82batch/s]\n",
      "Valdt: 100%|██████████| 137/137 [00:05<00:00, 26.54batch/s]\n"
     ]
    },
    {
     "name": "stdout",
     "output_type": "stream",
     "text": [
      "Epoch: 27 / 6000, \n",
      "Train -- Loss: 0.005274351849982998, Coeff: 0.033447265625 \n",
      "Val   -- Loss: 0.021225631952024895, Coeff: 0.1337890625 \n",
      "\n",
      "\n"
     ]
    },
    {
     "name": "stderr",
     "output_type": "stream",
     "text": [
      "Train: 100%|██████████| 137/137 [00:20<00:00,  6.84batch/s]\n",
      "Valdt: 100%|██████████| 137/137 [00:05<00:00, 26.27batch/s]\n"
     ]
    },
    {
     "name": "stdout",
     "output_type": "stream",
     "text": [
      "Epoch: 28 / 6000, \n",
      "Train -- Loss: 0.005133490024716827, Coeff: 0.033447265625 \n",
      "Val   -- Loss: 0.021999699878300045, Coeff: 0.1337890625 \n",
      "\n",
      "\n"
     ]
    },
    {
     "name": "stderr",
     "output_type": "stream",
     "text": [
      "Train: 100%|██████████| 137/137 [00:22<00:00,  6.14batch/s]\n",
      "Valdt: 100%|██████████| 137/137 [00:05<00:00, 26.43batch/s]\n"
     ]
    },
    {
     "name": "stdout",
     "output_type": "stream",
     "text": [
      "Epoch: 29 / 6000, \n",
      "Train -- Loss: 0.005038667599959464, Coeff: 0.033447265625 \n",
      "Val   -- Loss: 0.020664235434845902, Coeff: 0.1337890625 \n",
      "\n",
      "\n"
     ]
    },
    {
     "name": "stderr",
     "output_type": "stream",
     "text": [
      "Train: 100%|██████████| 137/137 [00:20<00:00,  6.83batch/s]\n",
      "Valdt: 100%|██████████| 137/137 [00:05<00:00, 26.53batch/s]\n"
     ]
    },
    {
     "name": "stdout",
     "output_type": "stream",
     "text": [
      "Epoch: 30 / 6000, \n",
      "Train -- Loss: 0.005063803052032427, Coeff: 0.033447265625 \n",
      "Val   -- Loss: 0.020714209670691923, Coeff: 0.1337890625 \n",
      "\n",
      "\n"
     ]
    },
    {
     "name": "stderr",
     "output_type": "stream",
     "text": [
      "Train: 100%|██████████| 137/137 [00:20<00:00,  6.84batch/s]\n",
      "Valdt: 100%|██████████| 137/137 [00:05<00:00, 26.26batch/s]\n"
     ]
    },
    {
     "name": "stdout",
     "output_type": "stream",
     "text": [
      "Epoch: 31 / 6000, \n",
      "Train -- Loss: 0.004927575987323793, Coeff: 0.033447265625 \n",
      "Val   -- Loss: 0.019906221128013386, Coeff: 0.1337890625 \n",
      "\n",
      "\n"
     ]
    },
    {
     "name": "stderr",
     "output_type": "stream",
     "text": [
      "Train: 100%|██████████| 137/137 [00:19<00:00,  6.87batch/s]\n",
      "Valdt: 100%|██████████| 137/137 [00:05<00:00, 26.26batch/s]\n"
     ]
    },
    {
     "name": "stdout",
     "output_type": "stream",
     "text": [
      "Epoch: 32 / 6000, \n",
      "Train -- Loss: 0.004737138537302224, Coeff: 0.033447265625 \n",
      "Val   -- Loss: 0.02025707439809566, Coeff: 0.1337890625 \n",
      "\n",
      "\n"
     ]
    },
    {
     "name": "stderr",
     "output_type": "stream",
     "text": [
      "Train: 100%|██████████| 137/137 [00:20<00:00,  6.85batch/s]\n",
      "Valdt: 100%|██████████| 137/137 [00:05<00:00, 26.51batch/s]\n"
     ]
    },
    {
     "name": "stdout",
     "output_type": "stream",
     "text": [
      "Epoch: 33 / 6000, \n",
      "Train -- Loss: 0.004833962778097646, Coeff: 0.033447265625 \n",
      "Val   -- Loss: 0.021968685519342692, Coeff: 0.1337890625 \n",
      "\n",
      "\n"
     ]
    },
    {
     "name": "stderr",
     "output_type": "stream",
     "text": [
      "Train: 100%|██████████| 137/137 [00:20<00:00,  6.81batch/s]\n",
      "Valdt: 100%|██████████| 137/137 [00:05<00:00, 26.55batch/s]\n"
     ]
    },
    {
     "name": "stdout",
     "output_type": "stream",
     "text": [
      "Epoch: 34 / 6000, \n",
      "Train -- Loss: 0.004739538252261757, Coeff: 0.033447265625 \n",
      "Val   -- Loss: 0.02228393042950229, Coeff: 0.1337890625 \n",
      "\n",
      "\n"
     ]
    },
    {
     "name": "stderr",
     "output_type": "stream",
     "text": [
      "Train: 100%|██████████| 137/137 [00:20<00:00,  6.85batch/s]\n",
      "Valdt: 100%|██████████| 137/137 [00:05<00:00, 26.22batch/s]\n"
     ]
    },
    {
     "name": "stdout",
     "output_type": "stream",
     "text": [
      "Epoch: 35 / 6000, \n",
      "Train -- Loss: 0.0046438228651758395, Coeff: 0.033447265625 \n",
      "Val   -- Loss: 0.01950480485808245, Coeff: 0.1337890625 \n",
      "\n",
      "\n"
     ]
    },
    {
     "name": "stderr",
     "output_type": "stream",
     "text": [
      "Train: 100%|██████████| 137/137 [00:19<00:00,  6.87batch/s]\n",
      "Valdt: 100%|██████████| 137/137 [00:05<00:00, 26.58batch/s]\n"
     ]
    },
    {
     "name": "stdout",
     "output_type": "stream",
     "text": [
      "Epoch: 36 / 6000, \n",
      "Train -- Loss: 0.0046175982698008515, Coeff: 0.033447265625 \n",
      "Val   -- Loss: 0.019250828205625244, Coeff: 0.1337890625 \n",
      "\n",
      "\n"
     ]
    },
    {
     "name": "stderr",
     "output_type": "stream",
     "text": [
      "Train: 100%|██████████| 137/137 [00:20<00:00,  6.83batch/s]\n",
      "Valdt: 100%|██████████| 137/137 [00:05<00:00, 26.60batch/s]\n"
     ]
    },
    {
     "name": "stdout",
     "output_type": "stream",
     "text": [
      "Epoch: 37 / 6000, \n",
      "Train -- Loss: 0.004576257314743856, Coeff: 0.033447265625 \n",
      "Val   -- Loss: 0.018954550489901866, Coeff: 0.1337890625 \n",
      "\n",
      "\n"
     ]
    },
    {
     "name": "stderr",
     "output_type": "stream",
     "text": [
      "Train: 100%|██████████| 137/137 [00:22<00:00,  6.15batch/s]\n",
      "Valdt: 100%|██████████| 137/137 [00:05<00:00, 26.25batch/s]\n"
     ]
    },
    {
     "name": "stdout",
     "output_type": "stream",
     "text": [
      "Epoch: 38 / 6000, \n",
      "Train -- Loss: 0.004445579873931125, Coeff: 0.033447265625 \n",
      "Val   -- Loss: 0.01931893842089817, Coeff: 0.1337890625 \n",
      "\n",
      "\n"
     ]
    },
    {
     "name": "stderr",
     "output_type": "stream",
     "text": [
      "Train: 100%|██████████| 137/137 [00:20<00:00,  6.82batch/s]\n",
      "Valdt: 100%|██████████| 137/137 [00:05<00:00, 26.43batch/s]\n"
     ]
    },
    {
     "name": "stdout",
     "output_type": "stream",
     "text": [
      "Epoch: 39 / 6000, \n",
      "Train -- Loss: 0.00444471980272441, Coeff: 0.033447265625 \n",
      "Val   -- Loss: 0.02053196337813305, Coeff: 0.1337890625 \n",
      "\n",
      "\n"
     ]
    },
    {
     "name": "stderr",
     "output_type": "stream",
     "text": [
      "Train: 100%|██████████| 137/137 [00:20<00:00,  6.83batch/s]\n",
      "Valdt: 100%|██████████| 137/137 [00:05<00:00, 26.49batch/s]\n"
     ]
    },
    {
     "name": "stdout",
     "output_type": "stream",
     "text": [
      "Epoch: 40 / 6000, \n",
      "Train -- Loss: 0.004576757114353245, Coeff: 0.033447265625 \n",
      "Val   -- Loss: 0.018376476950413338, Coeff: 0.1337890625 \n",
      "\n",
      "\n"
     ]
    },
    {
     "name": "stderr",
     "output_type": "stream",
     "text": [
      "Train: 100%|██████████| 137/137 [00:20<00:00,  6.84batch/s]\n",
      "Valdt: 100%|██████████| 137/137 [00:05<00:00, 26.12batch/s]\n"
     ]
    },
    {
     "name": "stdout",
     "output_type": "stream",
     "text": [
      "Epoch: 41 / 6000, \n",
      "Train -- Loss: 0.004310372532334546, Coeff: 0.033447265625 \n",
      "Val   -- Loss: 0.018749733555347287, Coeff: 0.1337890625 \n",
      "\n",
      "\n"
     ]
    },
    {
     "name": "stderr",
     "output_type": "stream",
     "text": [
      "Train: 100%|██████████| 137/137 [00:20<00:00,  6.83batch/s]\n",
      "Valdt: 100%|██████████| 137/137 [00:05<00:00, 26.47batch/s]\n"
     ]
    },
    {
     "name": "stdout",
     "output_type": "stream",
     "text": [
      "Epoch: 42 / 6000, \n",
      "Train -- Loss: 0.004229021314130632, Coeff: 0.033447265625 \n",
      "Val   -- Loss: 0.018577004037831923, Coeff: 0.1337890625 \n",
      "\n",
      "\n"
     ]
    },
    {
     "name": "stderr",
     "output_type": "stream",
     "text": [
      "Train: 100%|██████████| 137/137 [00:20<00:00,  6.81batch/s]\n",
      "Valdt: 100%|██████████| 137/137 [00:05<00:00, 26.49batch/s]\n"
     ]
    },
    {
     "name": "stdout",
     "output_type": "stream",
     "text": [
      "Epoch: 43 / 6000, \n",
      "Train -- Loss: 0.004412403691473905, Coeff: 0.033447265625 \n",
      "Val   -- Loss: 0.019830457301375837, Coeff: 0.1337890625 \n",
      "\n",
      "\n"
     ]
    },
    {
     "name": "stderr",
     "output_type": "stream",
     "text": [
      "Train: 100%|██████████| 137/137 [00:20<00:00,  6.81batch/s]\n",
      "Valdt: 100%|██████████| 137/137 [00:05<00:00, 26.52batch/s]\n"
     ]
    },
    {
     "name": "stdout",
     "output_type": "stream",
     "text": [
      "Epoch: 44 / 6000, \n",
      "Train -- Loss: 0.0042457292637115025, Coeff: 0.033447265625 \n",
      "Val   -- Loss: 0.019768480848930615, Coeff: 0.1337890625 \n",
      "\n",
      "\n"
     ]
    },
    {
     "name": "stderr",
     "output_type": "stream",
     "text": [
      "Train: 100%|██████████| 137/137 [00:19<00:00,  6.85batch/s]\n",
      "Valdt: 100%|██████████| 137/137 [00:05<00:00, 26.22batch/s]\n"
     ]
    },
    {
     "name": "stdout",
     "output_type": "stream",
     "text": [
      "Epoch: 45 / 6000, \n",
      "Train -- Loss: 0.004314727213543151, Coeff: 0.033447265625 \n",
      "Val   -- Loss: 0.018642315052986382, Coeff: 0.1337890625 \n",
      "\n",
      "\n"
     ]
    },
    {
     "name": "stderr",
     "output_type": "stream",
     "text": [
      "Train: 100%|██████████| 137/137 [00:22<00:00,  6.13batch/s]\n",
      "Valdt: 100%|██████████| 137/137 [00:05<00:00, 26.53batch/s]\n"
     ]
    },
    {
     "name": "stdout",
     "output_type": "stream",
     "text": [
      "Epoch: 46 / 6000, \n",
      "Train -- Loss: 0.004284390413266213, Coeff: 0.033447265625 \n",
      "Val   -- Loss: 0.01805146181705876, Coeff: 0.1337890625 \n",
      "\n",
      "\n"
     ]
    },
    {
     "name": "stderr",
     "output_type": "stream",
     "text": [
      "Train: 100%|██████████| 137/137 [00:20<00:00,  6.82batch/s]\n",
      "Valdt: 100%|██████████| 137/137 [00:05<00:00, 26.47batch/s]\n"
     ]
    },
    {
     "name": "stdout",
     "output_type": "stream",
     "text": [
      "Epoch: 47 / 6000, \n",
      "Train -- Loss: 0.004123257381685995, Coeff: 0.033447265625 \n",
      "Val   -- Loss: 0.01887929873256814, Coeff: 0.1337890625 \n",
      "\n",
      "\n"
     ]
    },
    {
     "name": "stderr",
     "output_type": "stream",
     "text": [
      "Train: 100%|██████████| 137/137 [00:19<00:00,  6.85batch/s]\n",
      "Valdt: 100%|██████████| 137/137 [00:05<00:00, 26.16batch/s]\n"
     ]
    },
    {
     "name": "stdout",
     "output_type": "stream",
     "text": [
      "Epoch: 48 / 6000, \n",
      "Train -- Loss: 0.004212628912050933, Coeff: 0.033447265625 \n",
      "Val   -- Loss: 0.017651019175159256, Coeff: 0.1337890625 \n",
      "\n",
      "\n"
     ]
    },
    {
     "name": "stderr",
     "output_type": "stream",
     "text": [
      "Train: 100%|██████████| 137/137 [00:19<00:00,  6.86batch/s]\n",
      "Valdt: 100%|██████████| 137/137 [00:05<00:00, 26.52batch/s]\n"
     ]
    },
    {
     "name": "stdout",
     "output_type": "stream",
     "text": [
      "Epoch: 49 / 6000, \n",
      "Train -- Loss: 0.003953183311243668, Coeff: 0.033447265625 \n",
      "Val   -- Loss: 0.017294004931070178, Coeff: 0.1337890625 \n",
      "\n",
      "\n"
     ]
    },
    {
     "name": "stderr",
     "output_type": "stream",
     "text": [
      "Train: 100%|██████████| 137/137 [00:20<00:00,  6.82batch/s]\n",
      "Valdt: 100%|██████████| 137/137 [00:05<00:00, 26.46batch/s]\n"
     ]
    },
    {
     "name": "stdout",
     "output_type": "stream",
     "text": [
      "Epoch: 50 / 6000, \n",
      "Train -- Loss: 0.0039038334534357787, Coeff: 0.033447265625 \n",
      "Val   -- Loss: 0.017098673572952836, Coeff: 0.1337890625 \n",
      "\n",
      "\n"
     ]
    },
    {
     "name": "stderr",
     "output_type": "stream",
     "text": [
      "Train: 100%|██████████| 137/137 [00:19<00:00,  6.86batch/s]\n",
      "Valdt: 100%|██████████| 137/137 [00:05<00:00, 26.22batch/s]\n"
     ]
    },
    {
     "name": "stdout",
     "output_type": "stream",
     "text": [
      "Epoch: 51 / 6000, \n",
      "Train -- Loss: 0.0038457171669680633, Coeff: 0.033447265625 \n",
      "Val   -- Loss: 0.016650946294522958, Coeff: 0.1337890625 \n",
      "\n",
      "\n"
     ]
    },
    {
     "name": "stderr",
     "output_type": "stream",
     "text": [
      "Train: 100%|██████████| 137/137 [00:19<00:00,  6.86batch/s]\n",
      "Valdt: 100%|██████████| 137/137 [00:05<00:00, 26.49batch/s]\n"
     ]
    },
    {
     "name": "stdout",
     "output_type": "stream",
     "text": [
      "Epoch: 52 / 6000, \n",
      "Train -- Loss: 0.003909373918887288, Coeff: 0.033447265625 \n",
      "Val   -- Loss: 0.017672139252694622, Coeff: 0.1337890625 \n",
      "\n",
      "\n"
     ]
    },
    {
     "name": "stderr",
     "output_type": "stream",
     "text": [
      "Train: 100%|██████████| 137/137 [00:20<00:00,  6.82batch/s]\n",
      "Valdt: 100%|██████████| 137/137 [00:05<00:00, 26.44batch/s]\n"
     ]
    },
    {
     "name": "stdout",
     "output_type": "stream",
     "text": [
      "Epoch: 53 / 6000, \n",
      "Train -- Loss: 0.004251578094514813, Coeff: 0.033447265625 \n",
      "Val   -- Loss: 0.018479178341169467, Coeff: 0.1337890625 \n",
      "\n",
      "\n"
     ]
    },
    {
     "name": "stderr",
     "output_type": "stream",
     "text": [
      "Train: 100%|██████████| 137/137 [00:20<00:00,  6.84batch/s]\n",
      "Valdt: 100%|██████████| 137/137 [00:05<00:00, 26.23batch/s]\n"
     ]
    },
    {
     "name": "stdout",
     "output_type": "stream",
     "text": [
      "Epoch: 54 / 6000, \n",
      "Train -- Loss: 0.003870150505813803, Coeff: 0.033447265625 \n",
      "Val   -- Loss: 0.017079307469985695, Coeff: 0.1337890625 \n",
      "\n",
      "\n"
     ]
    },
    {
     "name": "stderr",
     "output_type": "stream",
     "text": [
      "Train: 100%|██████████| 137/137 [00:22<00:00,  6.15batch/s]\n",
      "Valdt: 100%|██████████| 137/137 [00:05<00:00, 26.33batch/s]\n"
     ]
    },
    {
     "name": "stdout",
     "output_type": "stream",
     "text": [
      "Epoch: 55 / 6000, \n",
      "Train -- Loss: 0.003790202510799381, Coeff: 0.033447265625 \n",
      "Val   -- Loss: 0.016829249934397366, Coeff: 0.1337890625 \n",
      "\n",
      "\n"
     ]
    },
    {
     "name": "stderr",
     "output_type": "stream",
     "text": [
      "Train: 100%|██████████| 137/137 [00:20<00:00,  6.84batch/s]\n",
      "Valdt: 100%|██████████| 137/137 [00:05<00:00, 26.42batch/s]\n"
     ]
    },
    {
     "name": "stdout",
     "output_type": "stream",
     "text": [
      "Epoch: 56 / 6000, \n",
      "Train -- Loss: 0.0038243307523657248, Coeff: 0.033447265625 \n",
      "Val   -- Loss: 0.016646292424938956, Coeff: 0.1337890625 \n",
      "\n",
      "\n"
     ]
    },
    {
     "name": "stderr",
     "output_type": "stream",
     "text": [
      "Train: 100%|██████████| 137/137 [00:20<00:00,  6.83batch/s]\n",
      "Valdt: 100%|██████████| 137/137 [00:05<00:00, 26.36batch/s]\n"
     ]
    },
    {
     "name": "stdout",
     "output_type": "stream",
     "text": [
      "Epoch: 57 / 6000, \n",
      "Train -- Loss: 0.0037202617707658312, Coeff: 0.033447265625 \n",
      "Val   -- Loss: 0.017009078080044534, Coeff: 0.1337890625 \n",
      "\n",
      "\n"
     ]
    },
    {
     "name": "stderr",
     "output_type": "stream",
     "text": [
      "Train: 100%|██████████| 137/137 [00:20<00:00,  6.85batch/s]\n",
      "Valdt: 100%|██████████| 137/137 [00:05<00:00, 26.30batch/s]\n"
     ]
    },
    {
     "name": "stdout",
     "output_type": "stream",
     "text": [
      "Epoch: 58 / 6000, \n",
      "Train -- Loss: 0.0036960883438660326, Coeff: 0.033447265625 \n",
      "Val   -- Loss: 0.015974898071180816, Coeff: 0.1337890625 \n",
      "\n",
      "\n"
     ]
    },
    {
     "name": "stderr",
     "output_type": "stream",
     "text": [
      "Train: 100%|██████████| 137/137 [00:20<00:00,  6.82batch/s]\n",
      "Valdt: 100%|██████████| 137/137 [00:05<00:00, 26.43batch/s]\n"
     ]
    },
    {
     "name": "stdout",
     "output_type": "stream",
     "text": [
      "Epoch: 59 / 6000, \n",
      "Train -- Loss: 0.0037097821433394102, Coeff: 0.033447265625 \n",
      "Val   -- Loss: 0.016549369556756195, Coeff: 0.1337890625 \n",
      "\n",
      "\n"
     ]
    },
    {
     "name": "stderr",
     "output_type": "stream",
     "text": [
      "Train: 100%|██████████| 137/137 [00:20<00:00,  6.82batch/s]\n",
      "Valdt: 100%|██████████| 137/137 [00:05<00:00, 26.48batch/s]\n"
     ]
    },
    {
     "name": "stdout",
     "output_type": "stream",
     "text": [
      "Epoch: 60 / 6000, \n",
      "Train -- Loss: 0.003782299937731832, Coeff: 0.033447265625 \n",
      "Val   -- Loss: 0.018390032171676476, Coeff: 0.1337890625 \n",
      "\n",
      "\n"
     ]
    },
    {
     "name": "stderr",
     "output_type": "stream",
     "text": [
      "Train: 100%|██████████| 137/137 [00:20<00:00,  6.84batch/s]\n",
      "Valdt: 100%|██████████| 137/137 [00:05<00:00, 26.20batch/s]\n"
     ]
    },
    {
     "name": "stdout",
     "output_type": "stream",
     "text": [
      "Epoch: 61 / 6000, \n",
      "Train -- Loss: 0.003779927062433667, Coeff: 0.033447265625 \n",
      "Val   -- Loss: 0.015672516463049155, Coeff: 0.1337890625 \n",
      "\n",
      "\n"
     ]
    },
    {
     "name": "stderr",
     "output_type": "stream",
     "text": [
      "Train: 100%|██████████| 137/137 [00:20<00:00,  6.82batch/s]\n",
      "Valdt: 100%|██████████| 137/137 [00:05<00:00, 26.56batch/s]\n"
     ]
    },
    {
     "name": "stdout",
     "output_type": "stream",
     "text": [
      "Epoch: 62 / 6000, \n",
      "Train -- Loss: 0.0037406440943982323, Coeff: 0.033447265625 \n",
      "Val   -- Loss: 0.016027461343229035, Coeff: 0.1337890625 \n",
      "\n",
      "\n"
     ]
    },
    {
     "name": "stderr",
     "output_type": "stream",
     "text": [
      "Train: 100%|██████████| 137/137 [00:22<00:00,  6.16batch/s]\n",
      "Valdt: 100%|██████████| 137/137 [00:05<00:00, 26.45batch/s]\n"
     ]
    },
    {
     "name": "stdout",
     "output_type": "stream",
     "text": [
      "Epoch: 63 / 6000, \n",
      "Train -- Loss: 0.0035277760418249986, Coeff: 0.033447265625 \n",
      "Val   -- Loss: 0.016626958862377365, Coeff: 0.1337890625 \n",
      "\n",
      "\n"
     ]
    },
    {
     "name": "stderr",
     "output_type": "stream",
     "text": [
      "Train: 100%|██████████| 137/137 [00:20<00:00,  6.81batch/s]\n",
      "Valdt: 100%|██████████| 137/137 [00:05<00:00, 26.52batch/s]\n"
     ]
    },
    {
     "name": "stdout",
     "output_type": "stream",
     "text": [
      "Epoch: 64 / 6000, \n",
      "Train -- Loss: 0.003592677386472831, Coeff: 0.033447265625 \n",
      "Val   -- Loss: 0.016258555722660235, Coeff: 0.1337890625 \n",
      "\n",
      "\n"
     ]
    },
    {
     "name": "stderr",
     "output_type": "stream",
     "text": [
      "Train: 100%|██████████| 137/137 [00:19<00:00,  6.85batch/s]\n",
      "Valdt: 100%|██████████| 137/137 [00:05<00:00, 26.25batch/s]\n"
     ]
    },
    {
     "name": "stdout",
     "output_type": "stream",
     "text": [
      "Epoch: 65 / 6000, \n",
      "Train -- Loss: 0.003478942461337602, Coeff: 0.033447265625 \n",
      "Val   -- Loss: 0.015274163223546295, Coeff: 0.1337890625 \n",
      "\n",
      "\n"
     ]
    },
    {
     "name": "stderr",
     "output_type": "stream",
     "text": [
      "Train: 100%|██████████| 137/137 [00:19<00:00,  6.86batch/s]\n",
      "Valdt: 100%|██████████| 137/137 [00:05<00:00, 26.48batch/s]\n"
     ]
    },
    {
     "name": "stdout",
     "output_type": "stream",
     "text": [
      "Epoch: 66 / 6000, \n",
      "Train -- Loss: 0.0035031516439254827, Coeff: 0.033447265625 \n",
      "Val   -- Loss: 0.016011995794374786, Coeff: 0.1337890625 \n",
      "\n",
      "\n"
     ]
    },
    {
     "name": "stderr",
     "output_type": "stream",
     "text": [
      "Train: 100%|██████████| 137/137 [00:20<00:00,  6.82batch/s]\n",
      "Valdt: 100%|██████████| 137/137 [00:05<00:00, 26.50batch/s]\n"
     ]
    },
    {
     "name": "stdout",
     "output_type": "stream",
     "text": [
      "Epoch: 67 / 6000, \n",
      "Train -- Loss: 0.003522049563205253, Coeff: 0.033447265625 \n",
      "Val   -- Loss: 0.01692673972622427, Coeff: 0.1337890625 \n",
      "\n",
      "\n"
     ]
    },
    {
     "name": "stderr",
     "output_type": "stream",
     "text": [
      "Train: 100%|██████████| 137/137 [00:20<00:00,  6.82batch/s]\n",
      "Valdt: 100%|██████████| 137/137 [00:05<00:00, 26.23batch/s]\n"
     ]
    },
    {
     "name": "stdout",
     "output_type": "stream",
     "text": [
      "Epoch: 68 / 6000, \n",
      "Train -- Loss: 0.0035914587540736296, Coeff: 0.033447265625 \n",
      "Val   -- Loss: 0.015989311809804528, Coeff: 0.1337890625 \n",
      "\n",
      "\n"
     ]
    },
    {
     "name": "stderr",
     "output_type": "stream",
     "text": [
      "Train: 100%|██████████| 137/137 [00:20<00:00,  6.85batch/s]\n",
      "Valdt: 100%|██████████| 137/137 [00:05<00:00, 26.53batch/s]\n"
     ]
    },
    {
     "name": "stdout",
     "output_type": "stream",
     "text": [
      "Epoch: 69 / 6000, \n",
      "Train -- Loss: 0.003451408877301604, Coeff: 0.033447265625 \n",
      "Val   -- Loss: 0.015177975905399918, Coeff: 0.1337890625 \n",
      "\n",
      "\n"
     ]
    },
    {
     "name": "stderr",
     "output_type": "stream",
     "text": [
      "Train: 100%|██████████| 137/137 [00:20<00:00,  6.83batch/s]\n",
      "Valdt: 100%|██████████| 137/137 [00:05<00:00, 26.49batch/s]\n"
     ]
    },
    {
     "name": "stdout",
     "output_type": "stream",
     "text": [
      "Epoch: 70 / 6000, \n",
      "Train -- Loss: 0.0033150223938054873, Coeff: 0.033447265625 \n",
      "Val   -- Loss: 0.014871391201397396, Coeff: 0.1337890625 \n",
      "\n",
      "\n"
     ]
    },
    {
     "name": "stderr",
     "output_type": "stream",
     "text": [
      "Train: 100%|██████████| 137/137 [00:19<00:00,  6.85batch/s]\n",
      "Valdt: 100%|██████████| 137/137 [00:05<00:00, 26.30batch/s]\n"
     ]
    },
    {
     "name": "stdout",
     "output_type": "stream",
     "text": [
      "Epoch: 71 / 6000, \n",
      "Train -- Loss: 0.0034195634780435843, Coeff: 0.033447265625 \n",
      "Val   -- Loss: 0.015167307320021896, Coeff: 0.1337890625 \n",
      "\n",
      "\n"
     ]
    },
    {
     "name": "stderr",
     "output_type": "stream",
     "text": [
      "Train: 100%|██████████| 137/137 [00:22<00:00,  6.16batch/s]\n",
      "Valdt: 100%|██████████| 137/137 [00:05<00:00, 26.18batch/s]\n"
     ]
    },
    {
     "name": "stdout",
     "output_type": "stream",
     "text": [
      "Epoch: 72 / 6000, \n",
      "Train -- Loss: 0.003428127951142505, Coeff: 0.033447265625 \n",
      "Val   -- Loss: 0.015402792997218466, Coeff: 0.1337890625 \n",
      "\n",
      "\n"
     ]
    },
    {
     "name": "stderr",
     "output_type": "stream",
     "text": [
      "Train: 100%|██████████| 137/137 [00:20<00:00,  6.83batch/s]\n",
      "Valdt: 100%|██████████| 137/137 [00:05<00:00, 26.45batch/s]\n"
     ]
    },
    {
     "name": "stdout",
     "output_type": "stream",
     "text": [
      "Epoch: 73 / 6000, \n",
      "Train -- Loss: 0.0033859363116972912, Coeff: 0.033447265625 \n",
      "Val   -- Loss: 0.015169210009906134, Coeff: 0.1337890625 \n",
      "\n",
      "\n"
     ]
    },
    {
     "name": "stderr",
     "output_type": "stream",
     "text": [
      "Train: 100%|██████████| 137/137 [00:20<00:00,  6.80batch/s]\n",
      "Valdt: 100%|██████████| 137/137 [00:05<00:00, 26.46batch/s]\n"
     ]
    },
    {
     "name": "stdout",
     "output_type": "stream",
     "text": [
      "Epoch: 74 / 6000, \n",
      "Train -- Loss: 0.0033430656420329525, Coeff: 0.033447265625 \n",
      "Val   -- Loss: 0.01509332047554235, Coeff: 0.1337890625 \n",
      "\n",
      "\n"
     ]
    },
    {
     "name": "stderr",
     "output_type": "stream",
     "text": [
      "Train: 100%|██████████| 137/137 [00:20<00:00,  6.83batch/s]\n",
      "Valdt: 100%|██████████| 137/137 [00:05<00:00, 26.12batch/s]\n"
     ]
    },
    {
     "name": "stdout",
     "output_type": "stream",
     "text": [
      "Epoch: 75 / 6000, \n",
      "Train -- Loss: 0.003200343684206758, Coeff: 0.033447265625 \n",
      "Val   -- Loss: 0.014378216601803755, Coeff: 0.1337890625 \n",
      "\n",
      "\n"
     ]
    },
    {
     "name": "stderr",
     "output_type": "stream",
     "text": [
      "Train: 100%|██████████| 137/137 [00:20<00:00,  6.83batch/s]\n",
      "Valdt: 100%|██████████| 137/137 [00:05<00:00, 26.47batch/s]\n"
     ]
    },
    {
     "name": "stdout",
     "output_type": "stream",
     "text": [
      "Epoch: 76 / 6000, \n",
      "Train -- Loss: 0.003207350456887006, Coeff: 0.033447265625 \n",
      "Val   -- Loss: 0.014068464052191034, Coeff: 0.1337890625 \n",
      "\n",
      "\n"
     ]
    },
    {
     "name": "stderr",
     "output_type": "stream",
     "text": [
      "Train: 100%|██████████| 137/137 [00:20<00:00,  6.84batch/s]\n",
      "Valdt:  22%|██▏       | 30/137 [00:01<00:04, 26.50batch/s]"
     ]
    }
   ],
   "source": [
    "epochs = 6000\n",
    "best = 1e6\n",
    "PATH = f\"./best_model_{dt_name}.pt\"\n",
    "\n",
    "early_stopper = EarlyStopper(patience=50, path=PATH)\n",
    "                             \n",
    "for epoch in range(epochs):\n",
    "    model.train()\n",
    "    Loss_train = 0 \n",
    "    Loss_val = 0\n",
    "    coeff_train = 0\n",
    "    coeff_val = 0\n",
    "    with tqdm(train_loader, unit=\"batch\") as trainer:\n",
    "        for batch in trainer:\n",
    "            trainer.set_description(\"Train\")\n",
    "            train_feat = batch[:, 0:-1].to(device)\n",
    "            train_labs = batch[:, -1].to(device)\n",
    "            train_pred = model(train_feat).squeeze()\n",
    "            train_loss = torch.nn.functional.mse_loss(train_pred, train_labs)\n",
    "            train_coef = coeff_determination(train_labs, train_labs) \n",
    "\n",
    "            optimizer.zero_grad()\n",
    "            train_loss.backward()\n",
    "            optimizer.step()\n",
    "\n",
    "            Loss_train += train_loss.item()\n",
    "            coeff_train += train_coef\n",
    "\n",
    "        Loss_train /= batch_sz_trn\n",
    "        coeff_train /= batch_sz_trn\n",
    "\n",
    "    model.eval()\n",
    "    with tqdm(val_loader, unit=\"batch\") as validator:\n",
    "        for batch in validator:\n",
    "            validator.set_description(\"Valdt\")\n",
    "            val_feat = batch[:, 0:-1].to(device)\n",
    "            val_labs = batch[:, -1].to(device)\n",
    "            val_pred = model(val_feat).squeeze()\n",
    "            val_loss = torch.nn.functional.mse_loss(val_pred, val_labs)\n",
    "            val_coef = coeff_determination(val_labs, val_labs) \n",
    "\n",
    "            Loss_val += val_loss.item()\n",
    "            coeff_val += val_coef\n",
    "\n",
    "        Loss_val /= batch_sz_val\n",
    "        coeff_val /= batch_sz_val\n",
    "    \n",
    "    if early_stopper.early_stop(model.state_dict(), Loss_val):             \n",
    "        break\n",
    "    \n",
    "    log_epoch_info(epoch, epochs, Loss_train, coeff_train, Loss_val, coeff_val)"
   ]
  },
  {
   "cell_type": "code",
   "execution_count": null,
   "id": "b066ae05",
   "metadata": {},
   "outputs": [],
   "source": []
  }
 ],
 "metadata": {
  "kernelspec": {
   "display_name": "Python 3 (ipykernel)",
   "language": "python",
   "name": "python3"
  },
  "language_info": {
   "codemirror_mode": {
    "name": "ipython",
    "version": 3
   },
   "file_extension": ".py",
   "mimetype": "text/x-python",
   "name": "python",
   "nbconvert_exporter": "python",
   "pygments_lexer": "ipython3",
   "version": "3.8.10"
  }
 },
 "nbformat": 4,
 "nbformat_minor": 5
}
