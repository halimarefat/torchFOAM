{
 "cells": [
  {
   "cell_type": "code",
   "execution_count": 1,
   "id": "973dbe8c",
   "metadata": {},
   "outputs": [],
   "source": [
    "import numpy as np\n",
    "import pandas as pd\n",
    "import matplotlib.pyplot as plt\n",
    "import seaborn as sns\n",
    "import torch\n",
    "import torch.nn as nn\n",
    "from torch.optim.lr_scheduler import StepLR\n",
    "from tqdm import tqdm\n",
    "import sys\n",
    "import random\n",
    "from sklearn.preprocessing import StandardScaler\n",
    "\n",
    "sys_epsilon = sys.float_info.epsilon"
   ]
  },
  {
   "cell_type": "markdown",
   "id": "a9a62239",
   "metadata": {},
   "source": [
    "# Data Preprocessing"
   ]
  },
  {
   "cell_type": "code",
   "execution_count": 2,
   "id": "d1b5d2aa",
   "metadata": {},
   "outputs": [],
   "source": [
    "paths = [\"/home/hmarefat/scratch/torchFOAM/Case_dS/postProcessing/fieldData.dat\",\n",
    "         \"/home/hmarefat/scratch/torchFOAM/Case_dS_R53/postProcessing/fieldData.dat\",\n",
    "         \"/home/hmarefat/scratch/torchFOAM/Case_dS_R4/postProcessing/fieldData.dat\"]\n",
    "nCols = 26\n",
    "names = ['_R3', '_R53', '_R4']"
   ]
  },
  {
   "cell_type": "code",
   "execution_count": 3,
   "id": "b1270758",
   "metadata": {},
   "outputs": [],
   "source": [
    "def returnRandmIndx(maxIndx, count):\n",
    "    return np.array(random.sample(range(1,maxIndx), count))"
   ]
  },
  {
   "cell_type": "code",
   "execution_count": 4,
   "id": "8dd2ad1a",
   "metadata": {},
   "outputs": [],
   "source": [
    "random.seed(35)\n",
    "\n",
    "count = 1000000\n",
    "Indx_R3 = returnRandmIndx(4956526, count)\n",
    "Indx_R53 = returnRandmIndx(5900626, count)\n",
    "Indx_R4 = returnRandmIndx(4012426, count)"
   ]
  },
  {
   "cell_type": "code",
   "execution_count": 5,
   "id": "8b0c4d11",
   "metadata": {},
   "outputs": [
    {
     "data": {
      "text/plain": [
       "array([4602784, 2813286, 1104994, 2856052, 1292255, 2398361, 3621576,\n",
       "       2115176, 4754160,  518511])"
      ]
     },
     "execution_count": 5,
     "metadata": {},
     "output_type": "execute_result"
    }
   ],
   "source": [
    "Indx_R3[0:10]"
   ]
  },
  {
   "cell_type": "code",
   "execution_count": 6,
   "id": "6a376e20",
   "metadata": {},
   "outputs": [],
   "source": [
    "random.shuffle(Indx_R3)"
   ]
  },
  {
   "cell_type": "code",
   "execution_count": 7,
   "id": "8c7f0c87",
   "metadata": {},
   "outputs": [
    {
     "data": {
      "text/plain": [
       "array([1433998, 3617811, 4647835, 4488912, 3146260, 4916233, 2427443,\n",
       "       3525259, 1800030,  748959])"
      ]
     },
     "execution_count": 7,
     "metadata": {},
     "output_type": "execute_result"
    }
   ],
   "source": [
    "Indx_R3[0:10]"
   ]
  },
  {
   "cell_type": "code",
   "execution_count": 8,
   "id": "ed5c0d15",
   "metadata": {},
   "outputs": [],
   "source": [
    "def splitterIndx(indx):\n",
    "    seen = indx[:int(0.7*indx.shape[0])]\n",
    "    unseen = indx[int(0.7*indx.shape[0]):]\n",
    "    \n",
    "    return seen, unseen"
   ]
  },
  {
   "cell_type": "code",
   "execution_count": 9,
   "id": "11b8db46",
   "metadata": {},
   "outputs": [],
   "source": [
    "index_data = []\n",
    "\n",
    "for indx in [Indx_R3, Indx_R53, Indx_R4]:\n",
    "    seen, unseen = splitterIndx(indx)\n",
    "    index_data.append((seen, unseen))\n",
    "\n",
    "index_array = np.array(index_data, dtype=object)"
   ]
  },
  {
   "cell_type": "code",
   "execution_count": 11,
   "id": "4eb6d37f",
   "metadata": {},
   "outputs": [
    {
     "data": {
      "text/plain": [
       "((700000,), (300000,))"
      ]
     },
     "execution_count": 11,
     "metadata": {},
     "output_type": "execute_result"
    }
   ],
   "source": [
    "index_array[0,0].shape, index_array[0,1].shape"
   ]
  },
  {
   "cell_type": "code",
   "execution_count": 12,
   "id": "958f2630",
   "metadata": {},
   "outputs": [],
   "source": [
    "def scaler(name, ds):\n",
    "    scaler = StandardScaler()\n",
    "    scaler.fit(ds)\n",
    "    np.savetxt(f'../processedDatasets/{name}_means.txt',scaler.mean_)\n",
    "    np.savetxt(f'../processedDatasets/{name}_scales.txt',scaler.scale_)\n",
    "    ds_norm = scaler.transform(ds)   \n",
    "    np.savetxt(f'../processedDatasets/{name}_norm.txt', ds_norm, fmt='%.18e')\n",
    "    np.savetxt(f'../processedDatasets/{name}.txt', ds, fmt='%.18e')"
   ]
  },
  {
   "cell_type": "code",
   "execution_count": null,
   "id": "1ae693f8",
   "metadata": {},
   "outputs": [
    {
     "name": "stdout",
     "output_type": "stream",
     "text": [
      "Starting to preprocess dataset fieldData_R3\n"
     ]
    }
   ],
   "source": [
    "data = []\n",
    "\n",
    "for i, path in enumerate(paths):\n",
    "    name = path.split('/')[-1][:-4]+names[i]\n",
    "    print(f'Starting to preprocess dataset {name}')\n",
    "    data.clear()\n",
    "    \n",
    "    with open(path, \"r\") as f:\n",
    "        next(f)\n",
    "        for line in f:\n",
    "            l = line.split()\n",
    "            try:\n",
    "                data.append([float(x) for x in l]) #(l)\n",
    "            except ValueError as e:\n",
    "                print(f\"Error converting line to float: {line.strip()} - {e}\")\n",
    "                continue\n",
    "                \n",
    "    #data.pop(0)\n",
    "    print('Reading raw file is done!')\n",
    "    ds = np.array(data) \n",
    "    \n",
    "    ds_seen = ds[index_array[i,0]]\n",
    "    ds_unseen = ds[index_array[i,1]]\n",
    "    \n",
    "    scaler(name+'_seen', ds_seen)\n",
    "    scaler(name+'_unseen', ds_unseen)\n",
    "    \n",
    "    print('\\n')"
   ]
  },
  {
   "cell_type": "code",
   "execution_count": null,
   "id": "c16e7c5f",
   "metadata": {},
   "outputs": [],
   "source": []
  },
  {
   "cell_type": "code",
   "execution_count": null,
   "id": "d36e539c",
   "metadata": {},
   "outputs": [],
   "source": []
  }
 ],
 "metadata": {
  "kernelspec": {
   "display_name": "Python 3 (ipykernel)",
   "language": "python",
   "name": "python3"
  },
  "language_info": {
   "codemirror_mode": {
    "name": "ipython",
    "version": 3
   },
   "file_extension": ".py",
   "mimetype": "text/x-python",
   "name": "python",
   "nbconvert_exporter": "python",
   "pygments_lexer": "ipython3",
   "version": "3.8.10"
  }
 },
 "nbformat": 4,
 "nbformat_minor": 5
}
