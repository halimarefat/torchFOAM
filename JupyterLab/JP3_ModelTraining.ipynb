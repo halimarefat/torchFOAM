{
 "cells": [
  {
   "cell_type": "code",
   "execution_count": 1,
   "id": "0902141e",
   "metadata": {},
   "outputs": [],
   "source": [
    "import numpy as np\n",
    "import pandas as pd\n",
    "import matplotlib.pyplot as plt\n",
    "import seaborn as sns\n",
    "import torch\n",
    "import torch.nn as nn\n",
    "from torch.optim.lr_scheduler import StepLR\n",
    "from tqdm import tqdm\n",
    "import sys\n",
    "import random\n",
    "from sklearn.preprocessing import StandardScaler\n",
    "from IPython.display import display, Math\n",
    "from torch.utils.data import DataLoader, Dataset\n",
    "import time\n",
    "import json\n",
    "\n",
    "from utils import *\n",
    "from model_utils import *\n",
    "\n",
    "sys_epsilon = sys.float_info.epsilon"
   ]
  },
  {
   "cell_type": "markdown",
   "id": "acbd1827",
   "metadata": {},
   "source": [
    "# Data Preprocessing"
   ]
  },
  {
   "cell_type": "markdown",
   "id": "e7ec5639",
   "metadata": {},
   "source": [
    "In this section, we preprocess the CFD data collected from DSM-based LES of flow past a sphere at $\\mathcal{R}e=10^3$, $5\\times 10^3$, and $10^4$. The data for each Reynolds number is collected from $t=300$ to $320$. From $t=300$ to $310$, data is collected at every ten variable time-steps. However, from $t=310$ to $320$, data is collected with $\\Delta t =1$."
   ]
  },
  {
   "cell_type": "code",
   "execution_count": 2,
   "id": "72ac9a88",
   "metadata": {},
   "outputs": [],
   "source": [
    "paths = [\"/home/hmarefat/scratch/torchFOAM/Case_dS/postProcessing/fieldData.dat\",\n",
    "         \"/home/hmarefat/scratch/torchFOAM/Case_dS_R53/postProcessing/fieldData.dat\",\n",
    "         \"/home/hmarefat/scratch/torchFOAM/Case_dS_R4/postProcessing/fieldData.dat\"]\n",
    "nCols = 26\n",
    "names = ['_R3', '_R53', '_R4']"
   ]
  },
  {
   "cell_type": "code",
   "execution_count": null,
   "id": "2a27737f",
   "metadata": {},
   "outputs": [],
   "source": [
    "random.seed(35)\n",
    "\n",
    "count = 1000000\n",
    "Indx_R3 = returnRandmIndx(4956526, count)\n",
    "Indx_R53 = returnRandmIndx(5900626, count)\n",
    "Indx_R4 = returnRandmIndx(4012425, count)"
   ]
  },
  {
   "cell_type": "code",
   "execution_count": null,
   "id": "64ca43ac",
   "metadata": {},
   "outputs": [],
   "source": [
    "Indx_R3[0:10]"
   ]
  },
  {
   "cell_type": "code",
   "execution_count": null,
   "id": "5b41ee45",
   "metadata": {},
   "outputs": [],
   "source": [
    "random.shuffle(Indx_R3)"
   ]
  },
  {
   "cell_type": "code",
   "execution_count": null,
   "id": "d2c12bef",
   "metadata": {},
   "outputs": [],
   "source": [
    "Indx_R3[0:10]"
   ]
  },
  {
   "cell_type": "code",
   "execution_count": null,
   "id": "5c429407",
   "metadata": {},
   "outputs": [],
   "source": [
    "index_data = []\n",
    "\n",
    "for indx in [Indx_R3, Indx_R53, Indx_R4]:\n",
    "    seen, unseen = splitterIndx(indx)\n",
    "    index_data.append((seen, unseen))\n",
    "\n",
    "index_array = np.array(index_data, dtype=object)"
   ]
  },
  {
   "cell_type": "code",
   "execution_count": null,
   "id": "8839f86f",
   "metadata": {},
   "outputs": [],
   "source": [
    "index_array[2,0].shape, index_array[2,1].shape"
   ]
  },
  {
   "cell_type": "code",
   "execution_count": null,
   "id": "1dc13769",
   "metadata": {},
   "outputs": [],
   "source": [
    "data = []\n",
    "\n",
    "for i, path in enumerate(paths):\n",
    "    name = path.split('/')[-1][:-4]+names[i]\n",
    "    print(f'Starting to preprocess dataset {name}')\n",
    "    data.clear()\n",
    "    \n",
    "    with open(path, \"r\") as f:\n",
    "        next(f)\n",
    "        for line in f:\n",
    "            l = line.split()\n",
    "            try:\n",
    "                data.append([float(x) for x in l]) #(l)\n",
    "            except ValueError as e:\n",
    "                print(f\"Error converting line to float: {line.strip()} - {e}\")\n",
    "                continue\n",
    "                \n",
    "    #data.pop(0)\n",
    "    print('Reading raw file is done!')\n",
    "    ds = np.array(data) \n",
    "    \n",
    "    ds_seen = ds[index_array[i,0]]\n",
    "    ds_unseen = ds[index_array[i,1]]\n",
    "    \n",
    "    scaler(name+'_seen', ds_seen)\n",
    "    scaler(name+'_unseen', ds_unseen)\n",
    "    \n",
    "    print('\\n')"
   ]
  },
  {
   "cell_type": "markdown",
   "id": "caa4895d",
   "metadata": {},
   "source": [
    "# Data Preparation"
   ]
  },
  {
   "cell_type": "code",
   "execution_count": 2,
   "id": "149e7b4d",
   "metadata": {},
   "outputs": [],
   "source": [
    "headers = [\"t\",                                             # time\n",
    "           \"X\", \"Y\", \"Z\",                                   # spacial coordinates\n",
    "           \"Ux\", \"Uy\", \"Uz\",                                # velocity components\n",
    "           \"G1\", \"G2\", \"G3\", \"G4\", \"G5\", \"G6\",              # velocity gradient tensor components\n",
    "           \"S1\", \"S2\", \"S3\", \"S4\", \"S5\", \"S6\",              # strain rate tensor compnents\n",
    "           \"UUp1\", \"UUp2\", \"UUp3\", \"UUp4\", \"UUp5\", \"UUp6\",  # resolved Reynolds stress tensor components\n",
    "           \"Cs\"]                                            # Smagorinsky coefficient"
   ]
  },
  {
   "cell_type": "markdown",
   "id": "4dd48176",
   "metadata": {},
   "source": [
    "### Dataset Loading"
   ]
  },
  {
   "cell_type": "markdown",
   "id": "d0a57c93",
   "metadata": {},
   "source": [
    "#### $\\mathcal Re = 10^3$"
   ]
  },
  {
   "cell_type": "code",
   "execution_count": 3,
   "id": "c132f7e1",
   "metadata": {},
   "outputs": [],
   "source": [
    "# Re = 10^3 seen\n",
    "dSn_R103_seen_means = pd.read_csv('../processedDatasets/fieldData_R3_seen_means.txt', sep=' ', names=headers) \n",
    "dSn_R103_seen_scales = pd.read_csv('../processedDatasets/fieldData_R3_seen_scales.txt', sep=' ', names=headers) \n",
    "dSn_R103_seen = pd.read_csv('../processedDatasets/fieldData_R3_seen_norm.txt', sep=' ', names=headers)\n",
    "dS_R103_seen = pd.read_csv('../processedDatasets/fieldData_R3_seen.txt', sep=' ', names=headers)\n",
    "\n",
    "# Re = 10^3 unseen\n",
    "dSn_R103_unseen_means = pd.read_csv('../processedDatasets/fieldData_R3_unseen_means.txt', sep=' ', names=headers) \n",
    "dSn_R103_unseen_scales = pd.read_csv('../processedDatasets/fieldData_R3_unseen_scales.txt', sep=' ', names=headers) \n",
    "dSn_R103_unseen = pd.read_csv('../processedDatasets/fieldData_R3_unseen_norm.txt', sep=' ', names=headers)\n",
    "dS_R103_unseen = pd.read_csv('../processedDatasets/fieldData_R3_unseen.txt', sep=' ', names=headers)"
   ]
  },
  {
   "cell_type": "markdown",
   "id": "dc16c915",
   "metadata": {},
   "source": [
    "#### $\\mathcal Re = 5\\times 10^3$"
   ]
  },
  {
   "cell_type": "code",
   "execution_count": 4,
   "id": "4d4f6b2e",
   "metadata": {},
   "outputs": [],
   "source": [
    "# Re = 5 x 10^3 seen\n",
    "dSn_R503_seen_means = pd.read_csv('../processedDatasets/fieldData_R53_seen_means.txt', sep=' ', names=headers) \n",
    "dSn_R503_seen_scales = pd.read_csv('../processedDatasets/fieldData_R53_seen_scales.txt', sep=' ', names=headers) \n",
    "dSn_R503_seen = pd.read_csv('../processedDatasets/fieldData_R53_seen_norm.txt', sep=' ', names=headers)\n",
    "dS_R503_seen = pd.read_csv('../processedDatasets/fieldData_R53_seen.txt', sep=' ', names=headers)\n",
    "\n",
    "# Re = 5 x 10^3 unseen\n",
    "dSn_R503_unseen_means = pd.read_csv('../processedDatasets/fieldData_R53_unseen_means.txt', sep=' ', names=headers) \n",
    "dSn_R503_unseen_scales = pd.read_csv('../processedDatasets/fieldData_R53_unseen_scales.txt', sep=' ', names=headers) \n",
    "dSn_R503_unseen = pd.read_csv('../processedDatasets/fieldData_R53_unseen_norm.txt', sep=' ', names=headers)\n",
    "dS_R503_unseen = pd.read_csv('../processedDatasets/fieldData_R53_unseen.txt', sep=' ', names=headers)"
   ]
  },
  {
   "cell_type": "markdown",
   "id": "04baaae2",
   "metadata": {},
   "source": [
    "#### $\\mathcal Re = 10^4$"
   ]
  },
  {
   "cell_type": "code",
   "execution_count": 5,
   "id": "8d456184",
   "metadata": {},
   "outputs": [],
   "source": [
    "# Re = 10^4 seen\n",
    "dSn_R104_seen_means = pd.read_csv('../processedDatasets/fieldData_R4_seen_means.txt', sep=' ', names=headers) \n",
    "dSn_R104_seen_scales = pd.read_csv('../processedDatasets/fieldData_R4_seen_scales.txt', sep=' ', names=headers) \n",
    "dSn_R104_seen = pd.read_csv('../processedDatasets/fieldData_R4_seen_norm.txt', sep=' ', names=headers)\n",
    "dS_R104_seen = pd.read_csv('../processedDatasets/fieldData_R4_seen.txt', sep=' ', names=headers)\n",
    "\n",
    "# Re = 10^4 unseen\n",
    "dSn_R104_unseen_means = pd.read_csv('../processedDatasets/fieldData_R4_unseen_means.txt', sep=' ', names=headers) \n",
    "dSn_R104_unseen_scales = pd.read_csv('../processedDatasets/fieldData_R4_unseen_scales.txt', sep=' ', names=headers) \n",
    "dSn_R104_unseen = pd.read_csv('../processedDatasets/fieldData_R4_unseen_norm.txt', sep=' ', names=headers)\n",
    "dS_R104_unseen = pd.read_csv('../processedDatasets/fieldData_R4_unseen.txt', sep=' ', names=headers)"
   ]
  },
  {
   "cell_type": "markdown",
   "id": "0f73ca0e",
   "metadata": {},
   "source": [
    "# Model Configuration Setup"
   ]
  },
  {
   "cell_type": "markdown",
   "id": "a84c6225",
   "metadata": {},
   "source": [
    "In this section, we consider the different model configurations as presented in the following table.\n",
    "\n",
    "$$\n",
    "\\begin{array}{|l|c|c|c|c|}\n",
    "    \\hline\n",
    "    \\textbf{Model} & \\textbf{Inputs} & \\textbf{No. of Inputs} & \\textbf{Outputs} & \\textbf{No. of Outputs} \\\\\n",
    "    \\hline\n",
    "    \\mathbf{M1} & u_i \\, \\text{and} \\, \\mathcal{S}_{ij} & 9 & c_s & 1\\\\\n",
    "    \\mathbf{M2} & \\mathcal{G}_{ij} \\, \\text{and} \\, \\mathcal{S}_{ij} & 12 & c_s & 1 \\\\\n",
    "    \\mathbf{M3} & u_i \\, \\text{and} \\, \\tau^{'}_{ij} & 9 & c_s & 1 \\\\\n",
    "    \\mathbf{M4} & \\mathcal{G}_{ij} \\, \\text{and} \\, \\tau^{'}_{ij} & 12 & c_s & 1 \\\\\n",
    "    \\hline\n",
    "\\end{array}\n",
    "$$"
   ]
  },
  {
   "cell_type": "code",
   "execution_count": 6,
   "id": "2ee27c51",
   "metadata": {},
   "outputs": [],
   "source": [
    "R103 = dSn_R103_seen\n",
    "R503 = dSn_R503_seen\n",
    "R104 = dSn_R104_seen\n",
    "\n",
    "R103_un = dSn_R103_unseen\n",
    "R503_un = dSn_R503_unseen\n",
    "R104_un = dSn_R104_unseen"
   ]
  },
  {
   "cell_type": "code",
   "execution_count": 7,
   "id": "e061aa40",
   "metadata": {},
   "outputs": [],
   "source": [
    "M1_headers = ['Ux', 'Uy', 'Uz', 'S1',  'S2', 'S3', 'S4', 'S5', 'S6', 'Cs']\n",
    "M2_headers = ['G1', 'G2', 'G3', 'G4', 'G5', 'G6', 'S1',  'S2', 'S3', 'S4', 'S5', 'S6', 'Cs']\n",
    "M3_headers = ['Ux', 'Uy', 'Uz', 'UUp1',  'UUp2', 'UUp3', 'UUp4', 'UUp5', 'UUp6', 'Cs']\n",
    "M4_headers = ['G1', 'G2', 'G3', 'G4', 'G5', 'G6', 'UUp1',  'UUp2', 'UUp3', 'UUp4', 'UUp5', 'UUp6', 'Cs']\n",
    "\n",
    "M1_103 = R103.filter(M1_headers, axis=1)\n",
    "M2_103 = R103.filter(M2_headers, axis=1)\n",
    "M3_103 = R103.filter(M3_headers, axis=1)\n",
    "M4_103 = R103.filter(M4_headers, axis=1)\n",
    "\n",
    "M1_503 = R503.filter(M1_headers, axis=1)\n",
    "M2_503 = R503.filter(M2_headers, axis=1)\n",
    "M3_503 = R503.filter(M3_headers, axis=1)\n",
    "M4_503 = R503.filter(M4_headers, axis=1)\n",
    "\n",
    "M1_104 = R104.filter(M1_headers, axis=1)\n",
    "M2_104 = R104.filter(M2_headers, axis=1)\n",
    "M3_104 = R104.filter(M3_headers, axis=1)\n",
    "M4_104 = R104.filter(M4_headers, axis=1)\n",
    "\n",
    "M1_103_test = R103_un.filter(M1_headers, axis=1)\n",
    "M2_103_test = R103_un.filter(M2_headers, axis=1)\n",
    "M3_103_test = R103_un.filter(M3_headers, axis=1)\n",
    "M4_103_test = R103_un.filter(M4_headers, axis=1)\n",
    "\n",
    "M1_503_test = R503_un.filter(M1_headers, axis=1)\n",
    "M2_503_test = R503_un.filter(M2_headers, axis=1)\n",
    "M3_503_test = R503_un.filter(M3_headers, axis=1)\n",
    "M4_503_test = R503_un.filter(M4_headers, axis=1)\n",
    "\n",
    "M1_104_test = R104_un.filter(M1_headers, axis=1)\n",
    "M2_104_test = R104_un.filter(M2_headers, axis=1)\n",
    "M3_104_test = R104_un.filter(M3_headers, axis=1)\n",
    "M4_104_test = R104_un.filter(M4_headers, axis=1)"
   ]
  },
  {
   "cell_type": "markdown",
   "id": "9990fee6",
   "metadata": {},
   "source": [
    "# Model Training"
   ]
  },
  {
   "cell_type": "code",
   "execution_count": 8,
   "id": "cab2a961",
   "metadata": {},
   "outputs": [],
   "source": [
    "dt = M3_503\n",
    "dt_name = namestr(M3_503, globals())[0]"
   ]
  },
  {
   "cell_type": "code",
   "execution_count": 9,
   "id": "c4cfe154",
   "metadata": {},
   "outputs": [],
   "source": [
    "output_size = 1\n",
    "input_size = dt.shape[1] - output_size \n",
    "neurons_per_layer = [60, 60, 60, 60, 60] \n",
    "hidden_layers = len(neurons_per_layer) \n",
    "\n",
    "split_sz = 0.8\n",
    "mask = np.random.rand(len(dt)) < split_sz\n",
    "train = dt[mask].reset_index(drop=True) \n",
    "val = dt[~mask].reset_index(drop=True)"
   ]
  },
  {
   "cell_type": "code",
   "execution_count": 10,
   "id": "23c8f011",
   "metadata": {},
   "outputs": [
    {
     "data": {
      "text/html": [
       "<div>\n",
       "<style scoped>\n",
       "    .dataframe tbody tr th:only-of-type {\n",
       "        vertical-align: middle;\n",
       "    }\n",
       "\n",
       "    .dataframe tbody tr th {\n",
       "        vertical-align: top;\n",
       "    }\n",
       "\n",
       "    .dataframe thead th {\n",
       "        text-align: right;\n",
       "    }\n",
       "</style>\n",
       "<table border=\"1\" class=\"dataframe\">\n",
       "  <thead>\n",
       "    <tr style=\"text-align: right;\">\n",
       "      <th></th>\n",
       "      <th>Ux</th>\n",
       "      <th>Uy</th>\n",
       "      <th>Uz</th>\n",
       "      <th>UUp1</th>\n",
       "      <th>UUp2</th>\n",
       "      <th>UUp3</th>\n",
       "      <th>UUp4</th>\n",
       "      <th>UUp5</th>\n",
       "      <th>UUp6</th>\n",
       "      <th>Cs</th>\n",
       "    </tr>\n",
       "  </thead>\n",
       "  <tbody>\n",
       "    <tr>\n",
       "      <th>0</th>\n",
       "      <td>0.387845</td>\n",
       "      <td>-0.088340</td>\n",
       "      <td>-0.157123</td>\n",
       "      <td>-0.393564</td>\n",
       "      <td>-0.150992</td>\n",
       "      <td>-0.382543</td>\n",
       "      <td>-0.485826</td>\n",
       "      <td>0.958239</td>\n",
       "      <td>-0.345330</td>\n",
       "      <td>0.365609</td>\n",
       "    </tr>\n",
       "    <tr>\n",
       "      <th>1</th>\n",
       "      <td>0.124171</td>\n",
       "      <td>1.153330</td>\n",
       "      <td>0.859819</td>\n",
       "      <td>-0.608379</td>\n",
       "      <td>0.006559</td>\n",
       "      <td>-0.006036</td>\n",
       "      <td>-0.726676</td>\n",
       "      <td>0.058893</td>\n",
       "      <td>-0.734172</td>\n",
       "      <td>0.811766</td>\n",
       "    </tr>\n",
       "    <tr>\n",
       "      <th>2</th>\n",
       "      <td>0.375118</td>\n",
       "      <td>0.015067</td>\n",
       "      <td>-0.251317</td>\n",
       "      <td>-0.482886</td>\n",
       "      <td>0.183596</td>\n",
       "      <td>-0.185654</td>\n",
       "      <td>-0.515060</td>\n",
       "      <td>-0.765348</td>\n",
       "      <td>-0.496401</td>\n",
       "      <td>-0.605361</td>\n",
       "    </tr>\n",
       "    <tr>\n",
       "      <th>3</th>\n",
       "      <td>0.382038</td>\n",
       "      <td>1.159673</td>\n",
       "      <td>0.899886</td>\n",
       "      <td>-0.414113</td>\n",
       "      <td>0.268310</td>\n",
       "      <td>-0.154491</td>\n",
       "      <td>-0.449333</td>\n",
       "      <td>-0.884296</td>\n",
       "      <td>-0.512653</td>\n",
       "      <td>0.102909</td>\n",
       "    </tr>\n",
       "    <tr>\n",
       "      <th>4</th>\n",
       "      <td>0.290710</td>\n",
       "      <td>0.444422</td>\n",
       "      <td>-0.126638</td>\n",
       "      <td>-0.254986</td>\n",
       "      <td>-0.083773</td>\n",
       "      <td>0.312756</td>\n",
       "      <td>0.046591</td>\n",
       "      <td>-0.094354</td>\n",
       "      <td>0.089267</td>\n",
       "      <td>0.147141</td>\n",
       "    </tr>\n",
       "    <tr>\n",
       "      <th>...</th>\n",
       "      <td>...</td>\n",
       "      <td>...</td>\n",
       "      <td>...</td>\n",
       "      <td>...</td>\n",
       "      <td>...</td>\n",
       "      <td>...</td>\n",
       "      <td>...</td>\n",
       "      <td>...</td>\n",
       "      <td>...</td>\n",
       "      <td>...</td>\n",
       "    </tr>\n",
       "    <tr>\n",
       "      <th>559875</th>\n",
       "      <td>-0.773576</td>\n",
       "      <td>-1.884674</td>\n",
       "      <td>0.984644</td>\n",
       "      <td>-0.215752</td>\n",
       "      <td>0.240980</td>\n",
       "      <td>0.479887</td>\n",
       "      <td>-0.172087</td>\n",
       "      <td>1.307309</td>\n",
       "      <td>0.027008</td>\n",
       "      <td>0.202450</td>\n",
       "    </tr>\n",
       "    <tr>\n",
       "      <th>559876</th>\n",
       "      <td>0.652647</td>\n",
       "      <td>-0.182953</td>\n",
       "      <td>0.105359</td>\n",
       "      <td>-0.596335</td>\n",
       "      <td>0.000273</td>\n",
       "      <td>-0.007337</td>\n",
       "      <td>-0.656253</td>\n",
       "      <td>-0.080959</td>\n",
       "      <td>-0.726984</td>\n",
       "      <td>-0.381208</td>\n",
       "    </tr>\n",
       "    <tr>\n",
       "      <th>559877</th>\n",
       "      <td>0.051503</td>\n",
       "      <td>0.966842</td>\n",
       "      <td>1.274566</td>\n",
       "      <td>-0.248935</td>\n",
       "      <td>0.239108</td>\n",
       "      <td>-0.252350</td>\n",
       "      <td>0.055365</td>\n",
       "      <td>-0.607500</td>\n",
       "      <td>0.116716</td>\n",
       "      <td>-0.048293</td>\n",
       "    </tr>\n",
       "    <tr>\n",
       "      <th>559878</th>\n",
       "      <td>0.198302</td>\n",
       "      <td>1.299420</td>\n",
       "      <td>0.399603</td>\n",
       "      <td>0.170223</td>\n",
       "      <td>1.043766</td>\n",
       "      <td>0.222861</td>\n",
       "      <td>0.293603</td>\n",
       "      <td>0.824015</td>\n",
       "      <td>-0.067349</td>\n",
       "      <td>-0.666026</td>\n",
       "    </tr>\n",
       "    <tr>\n",
       "      <th>559879</th>\n",
       "      <td>0.310004</td>\n",
       "      <td>0.151640</td>\n",
       "      <td>0.674530</td>\n",
       "      <td>-0.619404</td>\n",
       "      <td>0.007566</td>\n",
       "      <td>-0.005966</td>\n",
       "      <td>-0.733583</td>\n",
       "      <td>0.044779</td>\n",
       "      <td>-0.741856</td>\n",
       "      <td>0.078712</td>\n",
       "    </tr>\n",
       "  </tbody>\n",
       "</table>\n",
       "<p>559880 rows × 10 columns</p>\n",
       "</div>"
      ],
      "text/plain": [
       "              Ux        Uy        Uz      UUp1      UUp2      UUp3      UUp4  \\\n",
       "0       0.387845 -0.088340 -0.157123 -0.393564 -0.150992 -0.382543 -0.485826   \n",
       "1       0.124171  1.153330  0.859819 -0.608379  0.006559 -0.006036 -0.726676   \n",
       "2       0.375118  0.015067 -0.251317 -0.482886  0.183596 -0.185654 -0.515060   \n",
       "3       0.382038  1.159673  0.899886 -0.414113  0.268310 -0.154491 -0.449333   \n",
       "4       0.290710  0.444422 -0.126638 -0.254986 -0.083773  0.312756  0.046591   \n",
       "...          ...       ...       ...       ...       ...       ...       ...   \n",
       "559875 -0.773576 -1.884674  0.984644 -0.215752  0.240980  0.479887 -0.172087   \n",
       "559876  0.652647 -0.182953  0.105359 -0.596335  0.000273 -0.007337 -0.656253   \n",
       "559877  0.051503  0.966842  1.274566 -0.248935  0.239108 -0.252350  0.055365   \n",
       "559878  0.198302  1.299420  0.399603  0.170223  1.043766  0.222861  0.293603   \n",
       "559879  0.310004  0.151640  0.674530 -0.619404  0.007566 -0.005966 -0.733583   \n",
       "\n",
       "            UUp5      UUp6        Cs  \n",
       "0       0.958239 -0.345330  0.365609  \n",
       "1       0.058893 -0.734172  0.811766  \n",
       "2      -0.765348 -0.496401 -0.605361  \n",
       "3      -0.884296 -0.512653  0.102909  \n",
       "4      -0.094354  0.089267  0.147141  \n",
       "...          ...       ...       ...  \n",
       "559875  1.307309  0.027008  0.202450  \n",
       "559876 -0.080959 -0.726984 -0.381208  \n",
       "559877 -0.607500  0.116716 -0.048293  \n",
       "559878  0.824015 -0.067349 -0.666026  \n",
       "559879  0.044779 -0.741856  0.078712  \n",
       "\n",
       "[559880 rows x 10 columns]"
      ]
     },
     "execution_count": 10,
     "metadata": {},
     "output_type": "execute_result"
    }
   ],
   "source": [
    "train"
   ]
  },
  {
   "cell_type": "code",
   "execution_count": 11,
   "id": "905ebeb8",
   "metadata": {},
   "outputs": [
    {
     "data": {
      "text/html": [
       "<div>\n",
       "<style scoped>\n",
       "    .dataframe tbody tr th:only-of-type {\n",
       "        vertical-align: middle;\n",
       "    }\n",
       "\n",
       "    .dataframe tbody tr th {\n",
       "        vertical-align: top;\n",
       "    }\n",
       "\n",
       "    .dataframe thead th {\n",
       "        text-align: right;\n",
       "    }\n",
       "</style>\n",
       "<table border=\"1\" class=\"dataframe\">\n",
       "  <thead>\n",
       "    <tr style=\"text-align: right;\">\n",
       "      <th></th>\n",
       "      <th>Ux</th>\n",
       "      <th>Uy</th>\n",
       "      <th>Uz</th>\n",
       "      <th>UUp1</th>\n",
       "      <th>UUp2</th>\n",
       "      <th>UUp3</th>\n",
       "      <th>UUp4</th>\n",
       "      <th>UUp5</th>\n",
       "      <th>UUp6</th>\n",
       "      <th>Cs</th>\n",
       "    </tr>\n",
       "  </thead>\n",
       "  <tbody>\n",
       "    <tr>\n",
       "      <th>0</th>\n",
       "      <td>-0.806951</td>\n",
       "      <td>4.583876</td>\n",
       "      <td>-1.041129</td>\n",
       "      <td>0.565466</td>\n",
       "      <td>-1.395509</td>\n",
       "      <td>0.858814</td>\n",
       "      <td>0.483890</td>\n",
       "      <td>-2.105549</td>\n",
       "      <td>0.361092</td>\n",
       "      <td>-0.355598</td>\n",
       "    </tr>\n",
       "    <tr>\n",
       "      <th>1</th>\n",
       "      <td>0.331122</td>\n",
       "      <td>-0.098936</td>\n",
       "      <td>0.339499</td>\n",
       "      <td>-0.136983</td>\n",
       "      <td>-0.108289</td>\n",
       "      <td>0.656239</td>\n",
       "      <td>-0.326573</td>\n",
       "      <td>-0.459737</td>\n",
       "      <td>-0.058654</td>\n",
       "      <td>0.073648</td>\n",
       "    </tr>\n",
       "    <tr>\n",
       "      <th>2</th>\n",
       "      <td>0.257969</td>\n",
       "      <td>0.999813</td>\n",
       "      <td>-1.619224</td>\n",
       "      <td>0.049720</td>\n",
       "      <td>-0.484466</td>\n",
       "      <td>-0.677437</td>\n",
       "      <td>0.611332</td>\n",
       "      <td>1.317376</td>\n",
       "      <td>0.661558</td>\n",
       "      <td>0.043604</td>\n",
       "    </tr>\n",
       "    <tr>\n",
       "      <th>3</th>\n",
       "      <td>0.348334</td>\n",
       "      <td>1.064006</td>\n",
       "      <td>0.259524</td>\n",
       "      <td>-0.248101</td>\n",
       "      <td>-0.369744</td>\n",
       "      <td>0.290407</td>\n",
       "      <td>-0.051329</td>\n",
       "      <td>-1.120842</td>\n",
       "      <td>-0.137919</td>\n",
       "      <td>0.925802</td>\n",
       "    </tr>\n",
       "    <tr>\n",
       "      <th>4</th>\n",
       "      <td>0.277944</td>\n",
       "      <td>-0.780229</td>\n",
       "      <td>-0.668735</td>\n",
       "      <td>-0.035403</td>\n",
       "      <td>-0.249287</td>\n",
       "      <td>-0.668084</td>\n",
       "      <td>0.388385</td>\n",
       "      <td>1.016835</td>\n",
       "      <td>0.540469</td>\n",
       "      <td>0.264835</td>\n",
       "    </tr>\n",
       "    <tr>\n",
       "      <th>...</th>\n",
       "      <td>...</td>\n",
       "      <td>...</td>\n",
       "      <td>...</td>\n",
       "      <td>...</td>\n",
       "      <td>...</td>\n",
       "      <td>...</td>\n",
       "      <td>...</td>\n",
       "      <td>...</td>\n",
       "      <td>...</td>\n",
       "      <td>...</td>\n",
       "    </tr>\n",
       "    <tr>\n",
       "      <th>140115</th>\n",
       "      <td>0.154721</td>\n",
       "      <td>-0.166833</td>\n",
       "      <td>-0.130907</td>\n",
       "      <td>-0.574310</td>\n",
       "      <td>-0.011494</td>\n",
       "      <td>0.051275</td>\n",
       "      <td>-0.683490</td>\n",
       "      <td>-0.323395</td>\n",
       "      <td>-0.552799</td>\n",
       "      <td>-0.050861</td>\n",
       "    </tr>\n",
       "    <tr>\n",
       "      <th>140116</th>\n",
       "      <td>0.412532</td>\n",
       "      <td>0.118743</td>\n",
       "      <td>-0.169684</td>\n",
       "      <td>-0.391341</td>\n",
       "      <td>0.261071</td>\n",
       "      <td>-0.287378</td>\n",
       "      <td>-0.421448</td>\n",
       "      <td>-0.916625</td>\n",
       "      <td>-0.403891</td>\n",
       "      <td>0.464232</td>\n",
       "    </tr>\n",
       "    <tr>\n",
       "      <th>140117</th>\n",
       "      <td>0.212563</td>\n",
       "      <td>0.219343</td>\n",
       "      <td>0.084996</td>\n",
       "      <td>0.070092</td>\n",
       "      <td>0.067583</td>\n",
       "      <td>-0.982883</td>\n",
       "      <td>0.118424</td>\n",
       "      <td>0.007932</td>\n",
       "      <td>0.506940</td>\n",
       "      <td>-0.431113</td>\n",
       "    </tr>\n",
       "    <tr>\n",
       "      <th>140118</th>\n",
       "      <td>0.436170</td>\n",
       "      <td>0.250175</td>\n",
       "      <td>1.235964</td>\n",
       "      <td>-0.496356</td>\n",
       "      <td>0.017950</td>\n",
       "      <td>0.227348</td>\n",
       "      <td>-0.531077</td>\n",
       "      <td>0.189836</td>\n",
       "      <td>-0.309316</td>\n",
       "      <td>-0.219622</td>\n",
       "    </tr>\n",
       "    <tr>\n",
       "      <th>140119</th>\n",
       "      <td>0.149367</td>\n",
       "      <td>0.226066</td>\n",
       "      <td>0.389990</td>\n",
       "      <td>-0.151286</td>\n",
       "      <td>0.468605</td>\n",
       "      <td>0.548091</td>\n",
       "      <td>-0.160850</td>\n",
       "      <td>1.639694</td>\n",
       "      <td>-0.132378</td>\n",
       "      <td>-0.061720</td>\n",
       "    </tr>\n",
       "  </tbody>\n",
       "</table>\n",
       "<p>140120 rows × 10 columns</p>\n",
       "</div>"
      ],
      "text/plain": [
       "              Ux        Uy        Uz      UUp1      UUp2      UUp3      UUp4  \\\n",
       "0      -0.806951  4.583876 -1.041129  0.565466 -1.395509  0.858814  0.483890   \n",
       "1       0.331122 -0.098936  0.339499 -0.136983 -0.108289  0.656239 -0.326573   \n",
       "2       0.257969  0.999813 -1.619224  0.049720 -0.484466 -0.677437  0.611332   \n",
       "3       0.348334  1.064006  0.259524 -0.248101 -0.369744  0.290407 -0.051329   \n",
       "4       0.277944 -0.780229 -0.668735 -0.035403 -0.249287 -0.668084  0.388385   \n",
       "...          ...       ...       ...       ...       ...       ...       ...   \n",
       "140115  0.154721 -0.166833 -0.130907 -0.574310 -0.011494  0.051275 -0.683490   \n",
       "140116  0.412532  0.118743 -0.169684 -0.391341  0.261071 -0.287378 -0.421448   \n",
       "140117  0.212563  0.219343  0.084996  0.070092  0.067583 -0.982883  0.118424   \n",
       "140118  0.436170  0.250175  1.235964 -0.496356  0.017950  0.227348 -0.531077   \n",
       "140119  0.149367  0.226066  0.389990 -0.151286  0.468605  0.548091 -0.160850   \n",
       "\n",
       "            UUp5      UUp6        Cs  \n",
       "0      -2.105549  0.361092 -0.355598  \n",
       "1      -0.459737 -0.058654  0.073648  \n",
       "2       1.317376  0.661558  0.043604  \n",
       "3      -1.120842 -0.137919  0.925802  \n",
       "4       1.016835  0.540469  0.264835  \n",
       "...          ...       ...       ...  \n",
       "140115 -0.323395 -0.552799 -0.050861  \n",
       "140116 -0.916625 -0.403891  0.464232  \n",
       "140117  0.007932  0.506940 -0.431113  \n",
       "140118  0.189836 -0.309316 -0.219622  \n",
       "140119  1.639694 -0.132378 -0.061720  \n",
       "\n",
       "[140120 rows x 10 columns]"
      ]
     },
     "execution_count": 11,
     "metadata": {},
     "output_type": "execute_result"
    }
   ],
   "source": [
    "val"
   ]
  },
  {
   "cell_type": "code",
   "execution_count": 12,
   "id": "246ad30d",
   "metadata": {},
   "outputs": [],
   "source": [
    "batch_sz_trn = 4096\n",
    "batch_sz_val = int(batch_sz_trn / 4)\n",
    "\n",
    "train_dataset = MyDataset(train)\n",
    "val_dataset = MyDataset(val)\n",
    "\n",
    "train_loader = torch.utils.data.DataLoader(dataset=train_dataset, batch_size=batch_sz_trn, shuffle=True)\n",
    "val_loader = torch.utils.data.DataLoader(dataset=val_dataset, batch_size=batch_sz_val, shuffle=True)"
   ]
  },
  {
   "cell_type": "code",
   "execution_count": 13,
   "id": "3d4a7d0d",
   "metadata": {},
   "outputs": [
    {
     "data": {
      "text/plain": [
       "tensor([ 0.4308,  0.4105, -0.4838, -0.5531,  0.0401, -0.0802, -0.6151, -0.6242,\n",
       "        -0.5653,  0.3543], dtype=torch.float64)"
      ]
     },
     "execution_count": 13,
     "metadata": {},
     "output_type": "execute_result"
    }
   ],
   "source": [
    "data_iter = iter(train_loader)\n",
    "next(data_iter)[0]"
   ]
  },
  {
   "cell_type": "code",
   "execution_count": 14,
   "id": "2af41443",
   "metadata": {},
   "outputs": [
    {
     "data": {
      "text/plain": [
       "MLPModel(\n",
       "  (block): Sequential(\n",
       "    (0): Linear(in_features=9, out_features=60, bias=True)\n",
       "    (1): ReLU()\n",
       "    (2): Linear(in_features=60, out_features=60, bias=True)\n",
       "    (3): ReLU()\n",
       "    (4): Linear(in_features=60, out_features=60, bias=True)\n",
       "    (5): ReLU()\n",
       "    (6): Linear(in_features=60, out_features=60, bias=True)\n",
       "    (7): ReLU()\n",
       "    (8): Linear(in_features=60, out_features=60, bias=True)\n",
       "    (9): ReLU()\n",
       "    (10): Linear(in_features=60, out_features=1, bias=True)\n",
       "  )\n",
       ")"
      ]
     },
     "execution_count": 14,
     "metadata": {},
     "output_type": "execute_result"
    }
   ],
   "source": [
    "model = MLPModel(input_size=input_size, \n",
    "                 output_size=output_size, \n",
    "                 hidden_layers=hidden_layers, \n",
    "                 neurons_per_layer=neurons_per_layer)\n",
    "\n",
    "optimizer = torch.optim.Adam(model.parameters(), lr=0.001)\n",
    "scheduler = StepLR(optimizer, step_size=3, gamma=0.2)\n",
    "\n",
    "device = torch.device(\"cuda\")\n",
    "model.to(device)\n",
    "model.double()"
   ]
  },
  {
   "cell_type": "code",
   "execution_count": null,
   "id": "21727075",
   "metadata": {},
   "outputs": [
    {
     "name": "stderr",
     "output_type": "stream",
     "text": [
      "Train: 100%|██████████| 137/137 [00:21<00:00,  6.29batch/s]\n",
      "Valid: 100%|██████████| 137/137 [00:05<00:00, 25.35batch/s]\n"
     ]
    },
    {
     "name": "stdout",
     "output_type": "stream",
     "text": [
      "Epoch 1/6000, Train Loss: 0.9887, Train Coeff: -2662.8802, Val Loss: 0.9593, Val Coeff: -40.6907, Time: 27.19 sec\n"
     ]
    },
    {
     "name": "stderr",
     "output_type": "stream",
     "text": [
      "Train: 100%|██████████| 137/137 [00:20<00:00,  6.63batch/s]\n",
      "Valid: 100%|██████████| 137/137 [00:05<00:00, 25.00batch/s]\n"
     ]
    },
    {
     "name": "stdout",
     "output_type": "stream",
     "text": [
      "Epoch 2/6000, Train Loss: 0.9347, Train Coeff: -20.4934, Val Loss: 0.9003, Val Coeff: -9.3260, Time: 26.14 sec\n"
     ]
    },
    {
     "name": "stderr",
     "output_type": "stream",
     "text": [
      "Train: 100%|██████████| 137/137 [00:20<00:00,  6.66batch/s]\n",
      "Valid: 100%|██████████| 137/137 [00:05<00:00, 24.82batch/s]\n"
     ]
    },
    {
     "name": "stdout",
     "output_type": "stream",
     "text": [
      "Epoch 3/6000, Train Loss: 0.8893, Train Coeff: -8.9598, Val Loss: 0.8805, Val Coeff: -10.3717, Time: 26.11 sec\n"
     ]
    },
    {
     "name": "stderr",
     "output_type": "stream",
     "text": [
      "Train: 100%|██████████| 137/137 [00:20<00:00,  6.63batch/s]\n",
      "Valid: 100%|██████████| 137/137 [00:05<00:00, 24.91batch/s]\n"
     ]
    },
    {
     "name": "stdout",
     "output_type": "stream",
     "text": [
      "Epoch 4/6000, Train Loss: 0.8583, Train Coeff: -6.4126, Val Loss: 0.8503, Val Coeff: -7.2742, Time: 26.17 sec\n"
     ]
    },
    {
     "name": "stderr",
     "output_type": "stream",
     "text": [
      "Train: 100%|██████████| 137/137 [00:20<00:00,  6.63batch/s]\n",
      "Valid: 100%|██████████| 137/137 [00:05<00:00, 24.97batch/s]\n"
     ]
    },
    {
     "name": "stdout",
     "output_type": "stream",
     "text": [
      "Epoch 5/6000, Train Loss: 0.8466, Train Coeff: -5.6285, Val Loss: 0.8420, Val Coeff: -6.8638, Time: 26.14 sec\n"
     ]
    },
    {
     "name": "stderr",
     "output_type": "stream",
     "text": [
      "Train: 100%|██████████| 137/137 [00:20<00:00,  6.60batch/s]\n",
      "Valid: 100%|██████████| 137/137 [00:05<00:00, 24.69batch/s]\n"
     ]
    },
    {
     "name": "stdout",
     "output_type": "stream",
     "text": [
      "Epoch 6/6000, Train Loss: 0.8401, Train Coeff: -5.2105, Val Loss: 0.8329, Val Coeff: -4.9219, Time: 26.31 sec\n"
     ]
    },
    {
     "name": "stderr",
     "output_type": "stream",
     "text": [
      "Train: 100%|██████████| 137/137 [00:20<00:00,  6.61batch/s]\n",
      "Valid: 100%|██████████| 137/137 [00:05<00:00, 24.96batch/s]\n"
     ]
    },
    {
     "name": "stdout",
     "output_type": "stream",
     "text": [
      "Epoch 7/6000, Train Loss: 0.8325, Train Coeff: -4.8139, Val Loss: 0.8298, Val Coeff: -5.1102, Time: 26.22 sec\n"
     ]
    },
    {
     "name": "stderr",
     "output_type": "stream",
     "text": [
      "Train: 100%|██████████| 137/137 [00:20<00:00,  6.64batch/s]\n",
      "Valid: 100%|██████████| 137/137 [00:05<00:00, 24.82batch/s]\n"
     ]
    },
    {
     "name": "stdout",
     "output_type": "stream",
     "text": [
      "Epoch 8/6000, Train Loss: 0.8288, Train Coeff: -4.7220, Val Loss: 0.8282, Val Coeff: -5.6228, Time: 26.15 sec\n"
     ]
    },
    {
     "name": "stderr",
     "output_type": "stream",
     "text": [
      "Train: 100%|██████████| 137/137 [00:20<00:00,  6.66batch/s]\n",
      "Valid: 100%|██████████| 137/137 [00:05<00:00, 24.89batch/s]\n"
     ]
    },
    {
     "name": "stdout",
     "output_type": "stream",
     "text": [
      "Epoch 9/6000, Train Loss: 0.8280, Train Coeff: -4.7550, Val Loss: 0.8271, Val Coeff: -4.7903, Time: 26.10 sec\n"
     ]
    },
    {
     "name": "stderr",
     "output_type": "stream",
     "text": [
      "Train: 100%|██████████| 137/137 [00:20<00:00,  6.65batch/s]\n",
      "Valid: 100%|██████████| 137/137 [00:05<00:00, 25.09batch/s]\n"
     ]
    },
    {
     "name": "stdout",
     "output_type": "stream",
     "text": [
      "Epoch 10/6000, Train Loss: 0.8268, Train Coeff: -4.6018, Val Loss: 0.8267, Val Coeff: -5.0656, Time: 26.07 sec\n"
     ]
    },
    {
     "name": "stderr",
     "output_type": "stream",
     "text": [
      "Train: 100%|██████████| 137/137 [00:20<00:00,  6.61batch/s]\n",
      "Valid: 100%|██████████| 137/137 [00:05<00:00, 24.79batch/s]\n"
     ]
    },
    {
     "name": "stdout",
     "output_type": "stream",
     "text": [
      "Epoch 11/6000, Train Loss: 0.8259, Train Coeff: -4.6120, Val Loss: 0.8259, Val Coeff: -4.9267, Time: 26.27 sec\n"
     ]
    },
    {
     "name": "stderr",
     "output_type": "stream",
     "text": [
      "Train: 100%|██████████| 137/137 [00:20<00:00,  6.62batch/s]\n",
      "Valid: 100%|██████████| 137/137 [00:05<00:00, 24.85batch/s]\n"
     ]
    },
    {
     "name": "stdout",
     "output_type": "stream",
     "text": [
      "Epoch 12/6000, Train Loss: 0.8256, Train Coeff: -4.6346, Val Loss: 0.8260, Val Coeff: -4.7161, Time: 26.20 sec\n"
     ]
    },
    {
     "name": "stderr",
     "output_type": "stream",
     "text": [
      "Train: 100%|██████████| 137/137 [00:20<00:00,  6.64batch/s]\n",
      "Valid: 100%|██████████| 137/137 [00:05<00:00, 24.95batch/s]\n"
     ]
    },
    {
     "name": "stdout",
     "output_type": "stream",
     "text": [
      "Epoch 13/6000, Train Loss: 0.8253, Train Coeff: -4.5220, Val Loss: 0.8257, Val Coeff: -4.7412, Time: 26.14 sec\n"
     ]
    },
    {
     "name": "stderr",
     "output_type": "stream",
     "text": [
      "Train: 100%|██████████| 137/137 [00:20<00:00,  6.65batch/s]\n",
      "Valid: 100%|██████████| 137/137 [00:05<00:00, 24.89batch/s]\n"
     ]
    },
    {
     "name": "stdout",
     "output_type": "stream",
     "text": [
      "Epoch 14/6000, Train Loss: 0.8253, Train Coeff: -4.5000, Val Loss: 0.8254, Val Coeff: -4.8191, Time: 26.12 sec\n"
     ]
    },
    {
     "name": "stderr",
     "output_type": "stream",
     "text": [
      "Train: 100%|██████████| 137/137 [00:20<00:00,  6.64batch/s]\n",
      "Valid: 100%|██████████| 137/137 [00:05<00:00, 24.68batch/s]\n"
     ]
    },
    {
     "name": "stdout",
     "output_type": "stream",
     "text": [
      "Epoch 15/6000, Train Loss: 0.8254, Train Coeff: -4.5711, Val Loss: 0.8257, Val Coeff: -4.8541, Time: 26.19 sec\n"
     ]
    },
    {
     "name": "stderr",
     "output_type": "stream",
     "text": [
      "Train: 100%|██████████| 137/137 [00:20<00:00,  6.65batch/s]\n",
      "Valid: 100%|██████████| 137/137 [00:05<00:00, 24.88batch/s]\n"
     ]
    },
    {
     "name": "stdout",
     "output_type": "stream",
     "text": [
      "Epoch 16/6000, Train Loss: 0.8256, Train Coeff: -4.5676, Val Loss: 0.8254, Val Coeff: -4.8459, Time: 26.13 sec\n"
     ]
    },
    {
     "name": "stderr",
     "output_type": "stream",
     "text": [
      "Train: 100%|██████████| 137/137 [00:20<00:00,  6.66batch/s]\n",
      "Valid:  11%|█         | 15/137 [00:00<00:04, 25.22batch/s]"
     ]
    }
   ],
   "source": [
    "epochs = 6000\n",
    "best_loss = float('inf')\n",
    "PATH = f\"./best_model_{dt_name}.pt\"\n",
    "\n",
    "early_stopper = EarlyStopper(patience=300, path=PATH)\n",
    "history = {\n",
    "    \"train_loss\": [],\n",
    "    \"val_loss\": [],\n",
    "    \"train_coefficient\": [],\n",
    "    \"val_coefficient\": [],\n",
    "    \"learning_rates\": [],\n",
    "    \"epoch_times\": []\n",
    "}\n",
    "\n",
    "\n",
    "for epoch in range(epochs):\n",
    "    start_time = time.time()\n",
    "    model.train()\n",
    "    Loss_train = 0 \n",
    "    coeff_train = 0\n",
    "\n",
    "    with tqdm(train_loader, unit=\"batch\") as trainer:\n",
    "        for batch in trainer:\n",
    "            trainer.set_description(\"Train\")\n",
    "            train_feat = batch[:, 0:-1].to(device)\n",
    "            train_labs = batch[:, -1].to(device)\n",
    "            train_pred = model(train_feat).squeeze()\n",
    "            train_loss = torch.nn.functional.mse_loss(train_pred, train_labs)\n",
    "            train_coef = coeff_determination(train_pred, train_labs) \n",
    "\n",
    "            optimizer.zero_grad()\n",
    "            train_loss.backward()\n",
    "            optimizer.step()\n",
    "\n",
    "            Loss_train += train_loss.item()\n",
    "            coeff_train += train_coef.item()\n",
    "\n",
    "        Loss_train /= len(trainer)\n",
    "        coeff_train /= len(trainer)\n",
    "\n",
    "    model.eval()\n",
    "    Loss_val = 0\n",
    "    coeff_val = 0\n",
    "    with tqdm(val_loader, unit=\"batch\") as validator:\n",
    "        for batch in validator:\n",
    "            validator.set_description(\"Valid\")\n",
    "            val_feat = batch[:, 0:-1].to(device)\n",
    "            val_labs = batch[:, -1].to(device)\n",
    "            val_pred = model(val_feat).squeeze()\n",
    "            val_loss = torch.nn.functional.mse_loss(val_pred, val_labs)\n",
    "            val_coef = coeff_determination(val_pred, val_labs) \n",
    "\n",
    "            Loss_val += val_loss.item()\n",
    "            coeff_val += val_coef.item()\n",
    "\n",
    "        Loss_val /= len(validator)\n",
    "        coeff_val /= len(validator)\n",
    "    \n",
    "    scheduler.step()\n",
    "    current_lr = optimizer.param_groups[0]['lr']\n",
    "    history[\"learning_rates\"].append(current_lr)\n",
    "    \n",
    "    epoch_duration = time.time() - start_time\n",
    "\n",
    "    history[\"train_loss\"].append(Loss_train)\n",
    "    history[\"val_loss\"].append(Loss_val)\n",
    "    history[\"train_coefficient\"].append(coeff_train)\n",
    "    history[\"val_coefficient\"].append(coeff_val)\n",
    "    history[\"learning_rates\"].append(optimizer.param_groups[0]['lr'])\n",
    "    history[\"epoch_times\"].append(epoch_duration)\n",
    "\n",
    "    if early_stopper.early_stop(model.state_dict(), Loss_val):             \n",
    "        print(\"Early stopping...\")\n",
    "        break\n",
    "    \n",
    "    print(f\"Epoch {epoch + 1}/{epochs}, Train Loss: {Loss_train:.4f}, Train Coeff: {coeff_train:.4f}, \"\n",
    "          f\"Val Loss: {Loss_val:.4f}, Val Coeff: {coeff_val:.4f}, Time: {epoch_duration:.2f} sec\")\n",
    "\n",
    "    \n",
    "with open(f\"training_history_{dt_name}.json\", \"w\") as f:\n",
    "    json.dump(history, f)\n",
    "    \n",
    "print(f\"Training history saved to 'training_history_{dt_name}.json'\")\n",
    "\n",
    "data_iter = iter(train_loader)\n",
    "next(data_iter)[:,0:-1]\n",
    "\n",
    "traced_script_module = torch.jit.trace(model, next(data_iter)[:,0:-1].to(device))\n",
    "traced_script_module.save(f\"traced_model_{dt_name}.pt\")\n",
    "\n",
    "print(f\"Training history saved to 'traced_model_{dt_name}.pt'\")"
   ]
  },
  {
   "cell_type": "code",
   "execution_count": null,
   "id": "0f10d2ba",
   "metadata": {},
   "outputs": [],
   "source": []
  },
  {
   "cell_type": "code",
   "execution_count": null,
   "id": "e472e959",
   "metadata": {},
   "outputs": [],
   "source": []
  }
 ],
 "metadata": {
  "kernelspec": {
   "display_name": "Python 3 (ipykernel)",
   "language": "python",
   "name": "python3"
  },
  "language_info": {
   "codemirror_mode": {
    "name": "ipython",
    "version": 3
   },
   "file_extension": ".py",
   "mimetype": "text/x-python",
   "name": "python",
   "nbconvert_exporter": "python",
   "pygments_lexer": "ipython3",
   "version": "3.8.10"
  }
 },
 "nbformat": 4,
 "nbformat_minor": 5
}
