{
 "cells": [
  {
   "cell_type": "code",
   "execution_count": 86,
   "id": "86c906c1",
   "metadata": {},
   "outputs": [],
   "source": [
    "import numpy as np\n",
    "import pandas as pd\n",
    "import matplotlib.pyplot as plt\n",
    "import seaborn as sns\n",
    "import torch\n",
    "import torch.nn as nn\n",
    "from torch.optim.lr_scheduler import StepLR\n",
    "from tqdm import tqdm\n",
    "import sys\n",
    "import random\n",
    "from sklearn.preprocessing import StandardScaler\n",
    "from IPython.display import display, Math\n",
    "from torch.utils.data import DataLoader, Dataset\n",
    "\n",
    "sys_epsilon = sys.float_info.epsilon"
   ]
  },
  {
   "cell_type": "markdown",
   "id": "68754753",
   "metadata": {},
   "source": [
    "# Data Preprocessing"
   ]
  },
  {
   "cell_type": "markdown",
   "id": "1154588e",
   "metadata": {},
   "source": [
    "In this section, we preprocess the CFD data collected from DSM-based LES of flow past a sphere at $\\mathcal{R}e=10^3$, $5\\times 10^3$, and $10^4$. The data for each Reynolds number is collected from $t=300$ to $320$. From $t=300$ to $310$, data is collected at every ten variable time-steps. However, from $t=310$ to $320$, data is collected with $\\Delta t =1$."
   ]
  },
  {
   "cell_type": "code",
   "execution_count": 2,
   "id": "358d0086",
   "metadata": {},
   "outputs": [],
   "source": [
    "paths = [\"/home/hmarefat/scratch/torchFOAM/Case_dS/postProcessing/fieldData.dat\",\n",
    "         \"/home/hmarefat/scratch/torchFOAM/Case_dS_R53/postProcessing/fieldData.dat\",\n",
    "         \"/home/hmarefat/scratch/torchFOAM/Case_dS_R4/postProcessing/fieldData.dat\"]\n",
    "nCols = 26\n",
    "names = ['_R3', '_R53', '_R4']"
   ]
  },
  {
   "cell_type": "code",
   "execution_count": 3,
   "id": "ddf5e4bf",
   "metadata": {},
   "outputs": [],
   "source": [
    "def returnRandmIndx(maxIndx, count):\n",
    "    return np.array(random.sample(range(1,maxIndx), count))"
   ]
  },
  {
   "cell_type": "code",
   "execution_count": 15,
   "id": "4e9f4cf7",
   "metadata": {},
   "outputs": [],
   "source": [
    "random.seed(35)\n",
    "\n",
    "count = 1000000\n",
    "Indx_R3 = returnRandmIndx(4956526, count)\n",
    "Indx_R53 = returnRandmIndx(5900626, count)\n",
    "Indx_R4 = returnRandmIndx(4012425, count)"
   ]
  },
  {
   "cell_type": "code",
   "execution_count": 5,
   "id": "2890c583",
   "metadata": {},
   "outputs": [
    {
     "data": {
      "text/plain": [
       "array([4602784, 2813286, 1104994, 2856052, 1292255, 2398361, 3621576,\n",
       "       2115176, 4754160,  518511])"
      ]
     },
     "execution_count": 5,
     "metadata": {},
     "output_type": "execute_result"
    }
   ],
   "source": [
    "Indx_R3[0:10]"
   ]
  },
  {
   "cell_type": "code",
   "execution_count": 6,
   "id": "74439dcf",
   "metadata": {},
   "outputs": [],
   "source": [
    "random.shuffle(Indx_R3)"
   ]
  },
  {
   "cell_type": "code",
   "execution_count": 7,
   "id": "777a3000",
   "metadata": {},
   "outputs": [
    {
     "data": {
      "text/plain": [
       "array([1433998, 3617811, 4647835, 4488912, 3146260, 4916233, 2427443,\n",
       "       3525259, 1800030,  748959])"
      ]
     },
     "execution_count": 7,
     "metadata": {},
     "output_type": "execute_result"
    }
   ],
   "source": [
    "Indx_R3[0:10]"
   ]
  },
  {
   "cell_type": "code",
   "execution_count": 8,
   "id": "4d2e7fc9",
   "metadata": {},
   "outputs": [],
   "source": [
    "def splitterIndx(indx):\n",
    "    seen = indx[:int(0.7*indx.shape[0])]\n",
    "    unseen = indx[int(0.7*indx.shape[0]):]\n",
    "    \n",
    "    return seen, unseen"
   ]
  },
  {
   "cell_type": "code",
   "execution_count": 16,
   "id": "a33d57c2",
   "metadata": {},
   "outputs": [],
   "source": [
    "index_data = []\n",
    "\n",
    "for indx in [Indx_R3, Indx_R53, Indx_R4]:\n",
    "    seen, unseen = splitterIndx(indx)\n",
    "    index_data.append((seen, unseen))\n",
    "\n",
    "index_array = np.array(index_data, dtype=object)"
   ]
  },
  {
   "cell_type": "code",
   "execution_count": 17,
   "id": "17db57d6",
   "metadata": {},
   "outputs": [
    {
     "data": {
      "text/plain": [
       "((700000,), (300000,))"
      ]
     },
     "execution_count": 17,
     "metadata": {},
     "output_type": "execute_result"
    }
   ],
   "source": [
    "index_array[2,0].shape, index_array[2,1].shape"
   ]
  },
  {
   "cell_type": "code",
   "execution_count": 18,
   "id": "d3b14d85",
   "metadata": {},
   "outputs": [],
   "source": [
    "def scaler(name, ds):\n",
    "    scaler = StandardScaler()\n",
    "    scaler.fit(ds)\n",
    "    np.savetxt(f'../processedDatasets/{name}_means.txt',scaler.mean_)\n",
    "    np.savetxt(f'../processedDatasets/{name}_scales.txt',scaler.scale_)\n",
    "    ds_norm = scaler.transform(ds)   \n",
    "    np.savetxt(f'../processedDatasets/{name}_norm.txt', ds_norm, fmt='%.18e')\n",
    "    np.savetxt(f'../processedDatasets/{name}.txt', ds, fmt='%.18e')"
   ]
  },
  {
   "cell_type": "code",
   "execution_count": 19,
   "id": "ed6a706e",
   "metadata": {},
   "outputs": [
    {
     "name": "stdout",
     "output_type": "stream",
     "text": [
      "Starting to preprocess dataset fieldData_R3\n",
      "Reading raw file is done!\n",
      "\n",
      "\n",
      "Starting to preprocess dataset fieldData_R53\n",
      "Reading raw file is done!\n",
      "\n",
      "\n",
      "Starting to preprocess dataset fieldData_R4\n",
      "Reading raw file is done!\n",
      "\n",
      "\n"
     ]
    }
   ],
   "source": [
    "data = []\n",
    "\n",
    "for i, path in enumerate(paths):\n",
    "    name = path.split('/')[-1][:-4]+names[i]\n",
    "    print(f'Starting to preprocess dataset {name}')\n",
    "    data.clear()\n",
    "    \n",
    "    with open(path, \"r\") as f:\n",
    "        next(f)\n",
    "        for line in f:\n",
    "            l = line.split()\n",
    "            try:\n",
    "                data.append([float(x) for x in l]) #(l)\n",
    "            except ValueError as e:\n",
    "                print(f\"Error converting line to float: {line.strip()} - {e}\")\n",
    "                continue\n",
    "                \n",
    "    #data.pop(0)\n",
    "    print('Reading raw file is done!')\n",
    "    ds = np.array(data) \n",
    "    \n",
    "    ds_seen = ds[index_array[i,0]]\n",
    "    ds_unseen = ds[index_array[i,1]]\n",
    "    \n",
    "    scaler(name+'_seen', ds_seen)\n",
    "    scaler(name+'_unseen', ds_unseen)\n",
    "    \n",
    "    print('\\n')"
   ]
  },
  {
   "cell_type": "markdown",
   "id": "516f7da2",
   "metadata": {},
   "source": [
    "# Data Preparation"
   ]
  },
  {
   "cell_type": "code",
   "execution_count": 94,
   "id": "3ad68221",
   "metadata": {},
   "outputs": [],
   "source": [
    "headers = [\"t\",                                             # time\n",
    "           \"X\", \"Y\", \"Z\",                                   # spacial coordinates\n",
    "           \"Ux\", \"Uy\", \"Uz\",                                # velocity components\n",
    "           \"G1\", \"G2\", \"G3\", \"G4\", \"G5\", \"G6\",              # velocity gradient tensor components\n",
    "           \"S1\", \"S2\", \"S3\", \"S4\", \"S5\", \"S6\",              # strain rate tensor compnents\n",
    "           \"UUp1\", \"UUp2\", \"UUp3\", \"UUp4\", \"UUp5\", \"UUp6\",  # resolved Reynolds stress tensor components\n",
    "           \"Cs\"]                                            # Smagorinsky coefficient"
   ]
  },
  {
   "cell_type": "markdown",
   "id": "3509c56f",
   "metadata": {},
   "source": [
    "### Dataset Loading"
   ]
  },
  {
   "cell_type": "markdown",
   "id": "9d1042af",
   "metadata": {},
   "source": [
    "#### $\\mathcal Re = 10^3$"
   ]
  },
  {
   "cell_type": "code",
   "execution_count": 95,
   "id": "97370f20",
   "metadata": {},
   "outputs": [],
   "source": [
    "# Re = 10^3 seen\n",
    "dSn_R103_seen_means = pd.read_csv('../processedDatasets/fieldData_R3_seen_means.txt', sep=' ', names=headers) \n",
    "dSn_R103_seen_scales = pd.read_csv('../processedDatasets/fieldData_R3_seen_scales.txt', sep=' ', names=headers) \n",
    "dSn_R103_seen = pd.read_csv('../processedDatasets/fieldData_R3_seen_norm.txt', sep=' ', names=headers)\n",
    "dS_R103_seen = pd.read_csv('../processedDatasets/fieldData_R3_seen.txt', sep=' ', names=headers)\n",
    "\n",
    "# Re = 10^3 unseen\n",
    "dSn_R103_unseen_means = pd.read_csv('../processedDatasets/fieldData_R3_unseen_means.txt', sep=' ', names=headers) \n",
    "dSn_R103_unseen_scales = pd.read_csv('../processedDatasets/fieldData_R3_unseen_scales.txt', sep=' ', names=headers) \n",
    "dSn_R103_unseen = pd.read_csv('../processedDatasets/fieldData_R3_unseen_norm.txt', sep=' ', names=headers)\n",
    "dS_R103_unseen = pd.read_csv('../processedDatasets/fieldData_R3_unseen.txt', sep=' ', names=headers)"
   ]
  },
  {
   "cell_type": "markdown",
   "id": "6dec9765",
   "metadata": {},
   "source": [
    "#### $\\mathcal Re = 5\\times 10^3$"
   ]
  },
  {
   "cell_type": "code",
   "execution_count": 96,
   "id": "7a17d7e2",
   "metadata": {},
   "outputs": [],
   "source": [
    "# Re = 5 x 10^3 seen\n",
    "dSn_R503_seen_means = pd.read_csv('../processedDatasets/fieldData_R53_seen_means.txt', sep=' ', names=headers) \n",
    "dSn_R503_seen_scales = pd.read_csv('../processedDatasets/fieldData_R53_seen_scales.txt', sep=' ', names=headers) \n",
    "dSn_R503_seen = pd.read_csv('../processedDatasets/fieldData_R53_seen_norm.txt', sep=' ', names=headers)\n",
    "dS_R503_seen = pd.read_csv('../processedDatasets/fieldData_R53_seen.txt', sep=' ', names=headers)\n",
    "\n",
    "# Re = 5 x 10^3 unseen\n",
    "dSn_R503_unseen_means = pd.read_csv('../processedDatasets/fieldData_R53_unseen_means.txt', sep=' ', names=headers) \n",
    "dSn_R503_unseen_scales = pd.read_csv('../processedDatasets/fieldData_R53_unseen_scales.txt', sep=' ', names=headers) \n",
    "dSn_R503_unseen = pd.read_csv('../processedDatasets/fieldData_R53_unseen_norm.txt', sep=' ', names=headers)\n",
    "dS_R503_unseen = pd.read_csv('../processedDatasets/fieldData_R53_unseen.txt', sep=' ', names=headers)"
   ]
  },
  {
   "cell_type": "markdown",
   "id": "650dd280",
   "metadata": {},
   "source": [
    "#### $\\mathcal Re = 10^4$"
   ]
  },
  {
   "cell_type": "code",
   "execution_count": 97,
   "id": "1bc985ba",
   "metadata": {},
   "outputs": [],
   "source": [
    "# Re = 10^4 seen\n",
    "dSn_R104_seen_means = pd.read_csv('../processedDatasets/fieldData_R4_seen_means.txt', sep=' ', names=headers) \n",
    "dSn_R104_seen_scales = pd.read_csv('../processedDatasets/fieldData_R4_seen_scales.txt', sep=' ', names=headers) \n",
    "dSn_R104_seen = pd.read_csv('../processedDatasets/fieldData_R4_seen_norm.txt', sep=' ', names=headers)\n",
    "dS_R104_seen = pd.read_csv('../processedDatasets/fieldData_R4_seen.txt', sep=' ', names=headers)\n",
    "\n",
    "# Re = 10^4 unseen\n",
    "dSn_R104_unseen_means = pd.read_csv('../processedDatasets/fieldData_R4_unseen_means.txt', sep=' ', names=headers) \n",
    "dSn_R104_unseen_scales = pd.read_csv('../processedDatasets/fieldData_R4_unseen_scales.txt', sep=' ', names=headers) \n",
    "dSn_R104_unseen = pd.read_csv('../processedDatasets/fieldData_R4_unseen_norm.txt', sep=' ', names=headers)\n",
    "dS_R104_unseen = pd.read_csv('../processedDatasets/fieldData_R4_unseen.txt', sep=' ', names=headers)"
   ]
  },
  {
   "cell_type": "markdown",
   "id": "d4acf8a5",
   "metadata": {},
   "source": [
    "# Model Configuration Setup"
   ]
  },
  {
   "cell_type": "markdown",
   "id": "881c5116",
   "metadata": {},
   "source": [
    "In this section, we consider the different model configurations as presented in the following table.\n",
    "\n",
    "$$\n",
    "\\begin{array}{|l|c|c|c|c|}\n",
    "    \\hline\n",
    "    \\textbf{Model} & \\textbf{Inputs} & \\textbf{No. of Inputs} & \\textbf{Outputs} & \\textbf{No. of Outputs} \\\\\n",
    "    \\hline\n",
    "    \\mathbf{M1} & u_i \\, \\text{and} \\, \\mathcal{S}_{ij} & 9 & c_s & 1\\\\\n",
    "    \\mathbf{M2} & \\mathcal{G}_{ij} \\, \\text{and} \\, \\mathcal{S}_{ij} & 12 & c_s & 1 \\\\\n",
    "    \\mathbf{M3} & u_i \\, \\text{and} \\, \\tau^{'}_{ij} & 9 & c_s & 1 \\\\\n",
    "    \\mathbf{M4} & \\mathcal{G}_{ij} \\, \\text{and} \\, \\tau^{'}_{ij} & 12 & c_s & 1 \\\\\n",
    "    \\hline\n",
    "\\end{array}\n",
    "$$"
   ]
  },
  {
   "cell_type": "code",
   "execution_count": 98,
   "id": "109edd0c",
   "metadata": {},
   "outputs": [],
   "source": [
    "R103 = dSn_R103_seen\n",
    "R503 = dSn_R503_seen\n",
    "R104 = dSn_R104_seen\n",
    "\n",
    "R103_un = dSn_R103_unseen\n",
    "R503_un = dSn_R503_unseen\n",
    "R104_un = dSn_R104_unseen"
   ]
  },
  {
   "cell_type": "code",
   "execution_count": 99,
   "id": "b0d687c7",
   "metadata": {},
   "outputs": [],
   "source": [
    "M1_headers = ['Ux', 'Uy', 'Uz', 'S1',  'S2', 'S3', 'S4', 'S5', 'S6', 'Cs']\n",
    "M2_headers = ['G1', 'G2', 'G3', 'G4', 'G5', 'G6', 'S1',  'S2', 'S3', 'S4', 'S5', 'S6', 'Cs']\n",
    "M3_headers = ['Ux', 'Uy', 'Uz', 'UUp1',  'UUp2', 'UUp3', 'UUp4', 'UUp5', 'UUp6', 'Cs']\n",
    "M4_headers = ['G1', 'G2', 'G3', 'G4', 'G5', 'G6', 'UUp1',  'UUp2', 'UUp3', 'UUp4', 'UUp5', 'UUp6', 'Cs']\n",
    "\n",
    "M1_103 = R103.filter(M1_headers, axis=1)\n",
    "M2_103 = R103.filter(M2_headers, axis=1)\n",
    "M3_103 = R103.filter(M3_headers, axis=1)\n",
    "M4_103 = R103.filter(M4_headers, axis=1)\n",
    "\n",
    "M1_503 = R503.filter(M1_headers, axis=1)\n",
    "M2_503 = R503.filter(M2_headers, axis=1)\n",
    "M3_503 = R503.filter(M3_headers, axis=1)\n",
    "M4_503 = R503.filter(M4_headers, axis=1)\n",
    "\n",
    "M1_104 = R104.filter(M1_headers, axis=1)\n",
    "M2_104 = R104.filter(M2_headers, axis=1)\n",
    "M3_104 = R104.filter(M3_headers, axis=1)\n",
    "M4_104 = R104.filter(M4_headers, axis=1)\n",
    "\n",
    "M1_103_test = R103_un.filter(M1_headers, axis=1)\n",
    "M2_103_test = R103_un.filter(M2_headers, axis=1)\n",
    "M3_103_test = R103_un.filter(M3_headers, axis=1)\n",
    "M4_103_test = R103_un.filter(M4_headers, axis=1)\n",
    "\n",
    "M1_503_test = R503_un.filter(M1_headers, axis=1)\n",
    "M2_503_test = R503_un.filter(M2_headers, axis=1)\n",
    "M3_503_test = R503_un.filter(M3_headers, axis=1)\n",
    "M4_503_test = R503_un.filter(M4_headers, axis=1)\n",
    "\n",
    "M1_104_test = R104_un.filter(M1_headers, axis=1)\n",
    "M2_104_test = R104_un.filter(M2_headers, axis=1)\n",
    "M3_104_test = R104_un.filter(M3_headers, axis=1)\n",
    "M4_104_test = R104_un.filter(M4_headers, axis=1)"
   ]
  },
  {
   "cell_type": "markdown",
   "id": "efb5e02f",
   "metadata": {},
   "source": [
    "# Model Training"
   ]
  },
  {
   "cell_type": "code",
   "execution_count": 100,
   "id": "9007d47a",
   "metadata": {},
   "outputs": [],
   "source": [
    "def namestr(obj, namespace):\n",
    "    return [name for name in namespace if namespace[name] is obj]"
   ]
  },
  {
   "cell_type": "code",
   "execution_count": 130,
   "id": "01ded5fd",
   "metadata": {},
   "outputs": [],
   "source": [
    "dt = M2_103\n",
    "dt_name = namestr(M2_103, globals())[0]"
   ]
  },
  {
   "cell_type": "code",
   "execution_count": 131,
   "id": "9426b900",
   "metadata": {},
   "outputs": [],
   "source": [
    "output_size = 1\n",
    "input_size = dt.shape[1] - output_size \n",
    "neurons_per_layer = [60, 60, 60, 60, 60] \n",
    "hidden_layers = len(neurons_per_layer) \n",
    "\n",
    "split_sz = 0.8\n",
    "mask = np.random.rand(len(dt)) < split_sz\n",
    "train = dt[mask].reset_index(drop=True) \n",
    "val = dt[~mask].reset_index(drop=True)"
   ]
  },
  {
   "cell_type": "code",
   "execution_count": 132,
   "id": "b77e8c90",
   "metadata": {},
   "outputs": [
    {
     "data": {
      "text/html": [
       "<div>\n",
       "<style scoped>\n",
       "    .dataframe tbody tr th:only-of-type {\n",
       "        vertical-align: middle;\n",
       "    }\n",
       "\n",
       "    .dataframe tbody tr th {\n",
       "        vertical-align: top;\n",
       "    }\n",
       "\n",
       "    .dataframe thead th {\n",
       "        text-align: right;\n",
       "    }\n",
       "</style>\n",
       "<table border=\"1\" class=\"dataframe\">\n",
       "  <thead>\n",
       "    <tr style=\"text-align: right;\">\n",
       "      <th></th>\n",
       "      <th>G1</th>\n",
       "      <th>G2</th>\n",
       "      <th>G3</th>\n",
       "      <th>G4</th>\n",
       "      <th>G5</th>\n",
       "      <th>G6</th>\n",
       "      <th>S1</th>\n",
       "      <th>S2</th>\n",
       "      <th>S3</th>\n",
       "      <th>S4</th>\n",
       "      <th>S5</th>\n",
       "      <th>S6</th>\n",
       "      <th>Cs</th>\n",
       "    </tr>\n",
       "  </thead>\n",
       "  <tbody>\n",
       "    <tr>\n",
       "      <th>0</th>\n",
       "      <td>0.179013</td>\n",
       "      <td>-1.056645</td>\n",
       "      <td>0.059678</td>\n",
       "      <td>0.133641</td>\n",
       "      <td>0.681956</td>\n",
       "      <td>0.174060</td>\n",
       "      <td>0.179013</td>\n",
       "      <td>-0.165670</td>\n",
       "      <td>-0.044446</td>\n",
       "      <td>0.681956</td>\n",
       "      <td>-0.266878</td>\n",
       "      <td>0.125857</td>\n",
       "      <td>5.377695</td>\n",
       "    </tr>\n",
       "    <tr>\n",
       "      <th>1</th>\n",
       "      <td>-0.009625</td>\n",
       "      <td>-0.032130</td>\n",
       "      <td>0.017649</td>\n",
       "      <td>-0.012303</td>\n",
       "      <td>0.059045</td>\n",
       "      <td>-0.041634</td>\n",
       "      <td>-0.009625</td>\n",
       "      <td>-0.022173</td>\n",
       "      <td>0.019609</td>\n",
       "      <td>0.059045</td>\n",
       "      <td>-0.064982</td>\n",
       "      <td>-0.034462</td>\n",
       "      <td>-0.518536</td>\n",
       "    </tr>\n",
       "    <tr>\n",
       "      <th>2</th>\n",
       "      <td>0.036092</td>\n",
       "      <td>-0.107078</td>\n",
       "      <td>0.150001</td>\n",
       "      <td>-0.029983</td>\n",
       "      <td>-0.129665</td>\n",
       "      <td>0.218191</td>\n",
       "      <td>0.036092</td>\n",
       "      <td>-0.062360</td>\n",
       "      <td>0.089373</td>\n",
       "      <td>-0.129665</td>\n",
       "      <td>0.344781</td>\n",
       "      <td>0.088810</td>\n",
       "      <td>0.014761</td>\n",
       "    </tr>\n",
       "    <tr>\n",
       "      <th>3</th>\n",
       "      <td>-0.124293</td>\n",
       "      <td>0.023164</td>\n",
       "      <td>-0.383953</td>\n",
       "      <td>0.083074</td>\n",
       "      <td>-0.033031</td>\n",
       "      <td>-0.427643</td>\n",
       "      <td>-0.124293</td>\n",
       "      <td>0.093676</td>\n",
       "      <td>-0.239736</td>\n",
       "      <td>-0.033031</td>\n",
       "      <td>-0.629884</td>\n",
       "      <td>0.294321</td>\n",
       "      <td>-0.474977</td>\n",
       "    </tr>\n",
       "    <tr>\n",
       "      <th>4</th>\n",
       "      <td>1.507248</td>\n",
       "      <td>-1.638771</td>\n",
       "      <td>-0.135341</td>\n",
       "      <td>0.575837</td>\n",
       "      <td>-1.398601</td>\n",
       "      <td>-2.817380</td>\n",
       "      <td>1.507248</td>\n",
       "      <td>0.128947</td>\n",
       "      <td>-0.739868</td>\n",
       "      <td>-1.398601</td>\n",
       "      <td>-1.955633</td>\n",
       "      <td>-0.422898</td>\n",
       "      <td>-0.112886</td>\n",
       "    </tr>\n",
       "    <tr>\n",
       "      <th>...</th>\n",
       "      <td>...</td>\n",
       "      <td>...</td>\n",
       "      <td>...</td>\n",
       "      <td>...</td>\n",
       "      <td>...</td>\n",
       "      <td>...</td>\n",
       "      <td>...</td>\n",
       "      <td>...</td>\n",
       "      <td>...</td>\n",
       "      <td>...</td>\n",
       "      <td>...</td>\n",
       "      <td>...</td>\n",
       "      <td>...</td>\n",
       "    </tr>\n",
       "    <tr>\n",
       "      <th>560339</th>\n",
       "      <td>0.053151</td>\n",
       "      <td>0.024931</td>\n",
       "      <td>-0.016800</td>\n",
       "      <td>0.000003</td>\n",
       "      <td>0.034749</td>\n",
       "      <td>0.018040</td>\n",
       "      <td>0.053151</td>\n",
       "      <td>0.007214</td>\n",
       "      <td>-0.004503</td>\n",
       "      <td>0.034749</td>\n",
       "      <td>0.031559</td>\n",
       "      <td>-0.101678</td>\n",
       "      <td>0.216397</td>\n",
       "    </tr>\n",
       "    <tr>\n",
       "      <th>560340</th>\n",
       "      <td>-0.082247</td>\n",
       "      <td>0.120722</td>\n",
       "      <td>-0.176876</td>\n",
       "      <td>0.045676</td>\n",
       "      <td>0.006784</td>\n",
       "      <td>-0.247584</td>\n",
       "      <td>-0.082247</td>\n",
       "      <td>0.082736</td>\n",
       "      <td>-0.101877</td>\n",
       "      <td>0.006784</td>\n",
       "      <td>-0.386773</td>\n",
       "      <td>0.109398</td>\n",
       "      <td>-0.575114</td>\n",
       "    </tr>\n",
       "    <tr>\n",
       "      <th>560341</th>\n",
       "      <td>0.063029</td>\n",
       "      <td>0.249171</td>\n",
       "      <td>-0.168462</td>\n",
       "      <td>0.067508</td>\n",
       "      <td>-0.122395</td>\n",
       "      <td>0.167455</td>\n",
       "      <td>0.063029</td>\n",
       "      <td>0.142742</td>\n",
       "      <td>-0.087494</td>\n",
       "      <td>-0.122395</td>\n",
       "      <td>0.264377</td>\n",
       "      <td>0.056332</td>\n",
       "      <td>0.228152</td>\n",
       "    </tr>\n",
       "    <tr>\n",
       "      <th>560342</th>\n",
       "      <td>-0.153261</td>\n",
       "      <td>-0.046634</td>\n",
       "      <td>-0.311105</td>\n",
       "      <td>0.089375</td>\n",
       "      <td>-0.196775</td>\n",
       "      <td>-0.235038</td>\n",
       "      <td>-0.153261</td>\n",
       "      <td>0.080088</td>\n",
       "      <td>-0.549146</td>\n",
       "      <td>-0.196775</td>\n",
       "      <td>-0.392620</td>\n",
       "      <td>0.566632</td>\n",
       "      <td>-0.424977</td>\n",
       "    </tr>\n",
       "    <tr>\n",
       "      <th>560343</th>\n",
       "      <td>-0.153992</td>\n",
       "      <td>-0.095190</td>\n",
       "      <td>0.153550</td>\n",
       "      <td>-0.033519</td>\n",
       "      <td>0.070371</td>\n",
       "      <td>0.271690</td>\n",
       "      <td>-0.153992</td>\n",
       "      <td>-0.062624</td>\n",
       "      <td>0.100971</td>\n",
       "      <td>0.070371</td>\n",
       "      <td>0.426979</td>\n",
       "      <td>0.112428</td>\n",
       "      <td>-0.302533</td>\n",
       "    </tr>\n",
       "  </tbody>\n",
       "</table>\n",
       "<p>560344 rows × 13 columns</p>\n",
       "</div>"
      ],
      "text/plain": [
       "              G1        G2        G3        G4        G5        G6        S1  \\\n",
       "0       0.179013 -1.056645  0.059678  0.133641  0.681956  0.174060  0.179013   \n",
       "1      -0.009625 -0.032130  0.017649 -0.012303  0.059045 -0.041634 -0.009625   \n",
       "2       0.036092 -0.107078  0.150001 -0.029983 -0.129665  0.218191  0.036092   \n",
       "3      -0.124293  0.023164 -0.383953  0.083074 -0.033031 -0.427643 -0.124293   \n",
       "4       1.507248 -1.638771 -0.135341  0.575837 -1.398601 -2.817380  1.507248   \n",
       "...          ...       ...       ...       ...       ...       ...       ...   \n",
       "560339  0.053151  0.024931 -0.016800  0.000003  0.034749  0.018040  0.053151   \n",
       "560340 -0.082247  0.120722 -0.176876  0.045676  0.006784 -0.247584 -0.082247   \n",
       "560341  0.063029  0.249171 -0.168462  0.067508 -0.122395  0.167455  0.063029   \n",
       "560342 -0.153261 -0.046634 -0.311105  0.089375 -0.196775 -0.235038 -0.153261   \n",
       "560343 -0.153992 -0.095190  0.153550 -0.033519  0.070371  0.271690 -0.153992   \n",
       "\n",
       "              S2        S3        S4        S5        S6        Cs  \n",
       "0      -0.165670 -0.044446  0.681956 -0.266878  0.125857  5.377695  \n",
       "1      -0.022173  0.019609  0.059045 -0.064982 -0.034462 -0.518536  \n",
       "2      -0.062360  0.089373 -0.129665  0.344781  0.088810  0.014761  \n",
       "3       0.093676 -0.239736 -0.033031 -0.629884  0.294321 -0.474977  \n",
       "4       0.128947 -0.739868 -1.398601 -1.955633 -0.422898 -0.112886  \n",
       "...          ...       ...       ...       ...       ...       ...  \n",
       "560339  0.007214 -0.004503  0.034749  0.031559 -0.101678  0.216397  \n",
       "560340  0.082736 -0.101877  0.006784 -0.386773  0.109398 -0.575114  \n",
       "560341  0.142742 -0.087494 -0.122395  0.264377  0.056332  0.228152  \n",
       "560342  0.080088 -0.549146 -0.196775 -0.392620  0.566632 -0.424977  \n",
       "560343 -0.062624  0.100971  0.070371  0.426979  0.112428 -0.302533  \n",
       "\n",
       "[560344 rows x 13 columns]"
      ]
     },
     "execution_count": 132,
     "metadata": {},
     "output_type": "execute_result"
    }
   ],
   "source": [
    "train"
   ]
  },
  {
   "cell_type": "code",
   "execution_count": 133,
   "id": "88988ba5",
   "metadata": {},
   "outputs": [
    {
     "data": {
      "text/html": [
       "<div>\n",
       "<style scoped>\n",
       "    .dataframe tbody tr th:only-of-type {\n",
       "        vertical-align: middle;\n",
       "    }\n",
       "\n",
       "    .dataframe tbody tr th {\n",
       "        vertical-align: top;\n",
       "    }\n",
       "\n",
       "    .dataframe thead th {\n",
       "        text-align: right;\n",
       "    }\n",
       "</style>\n",
       "<table border=\"1\" class=\"dataframe\">\n",
       "  <thead>\n",
       "    <tr style=\"text-align: right;\">\n",
       "      <th></th>\n",
       "      <th>G1</th>\n",
       "      <th>G2</th>\n",
       "      <th>G3</th>\n",
       "      <th>G4</th>\n",
       "      <th>G5</th>\n",
       "      <th>G6</th>\n",
       "      <th>S1</th>\n",
       "      <th>S2</th>\n",
       "      <th>S3</th>\n",
       "      <th>S4</th>\n",
       "      <th>S5</th>\n",
       "      <th>S6</th>\n",
       "      <th>Cs</th>\n",
       "    </tr>\n",
       "  </thead>\n",
       "  <tbody>\n",
       "    <tr>\n",
       "      <th>0</th>\n",
       "      <td>0.283349</td>\n",
       "      <td>0.021385</td>\n",
       "      <td>-0.187639</td>\n",
       "      <td>0.018320</td>\n",
       "      <td>0.030496</td>\n",
       "      <td>0.394027</td>\n",
       "      <td>0.283349</td>\n",
       "      <td>0.025366</td>\n",
       "      <td>-0.111974</td>\n",
       "      <td>0.030496</td>\n",
       "      <td>0.616915</td>\n",
       "      <td>-0.321619</td>\n",
       "      <td>0.235588</td>\n",
       "    </tr>\n",
       "    <tr>\n",
       "      <th>1</th>\n",
       "      <td>0.034143</td>\n",
       "      <td>0.101562</td>\n",
       "      <td>-0.030681</td>\n",
       "      <td>0.036390</td>\n",
       "      <td>-0.127633</td>\n",
       "      <td>-0.008348</td>\n",
       "      <td>0.034143</td>\n",
       "      <td>0.067472</td>\n",
       "      <td>-0.008434</td>\n",
       "      <td>-0.127633</td>\n",
       "      <td>-0.017293</td>\n",
       "      <td>0.089697</td>\n",
       "      <td>0.211003</td>\n",
       "    </tr>\n",
       "    <tr>\n",
       "      <th>2</th>\n",
       "      <td>-0.180247</td>\n",
       "      <td>0.642143</td>\n",
       "      <td>-0.105544</td>\n",
       "      <td>0.080471</td>\n",
       "      <td>-0.073439</td>\n",
       "      <td>-0.030069</td>\n",
       "      <td>-0.180247</td>\n",
       "      <td>0.269964</td>\n",
       "      <td>0.169363</td>\n",
       "      <td>-0.073439</td>\n",
       "      <td>-0.231032</td>\n",
       "      <td>0.377507</td>\n",
       "      <td>0.024837</td>\n",
       "    </tr>\n",
       "    <tr>\n",
       "      <th>3</th>\n",
       "      <td>-0.074433</td>\n",
       "      <td>0.140305</td>\n",
       "      <td>0.131105</td>\n",
       "      <td>0.033264</td>\n",
       "      <td>0.147463</td>\n",
       "      <td>0.053304</td>\n",
       "      <td>-0.074433</td>\n",
       "      <td>0.075404</td>\n",
       "      <td>0.080542</td>\n",
       "      <td>0.147463</td>\n",
       "      <td>0.092365</td>\n",
       "      <td>-0.052962</td>\n",
       "      <td>-0.420438</td>\n",
       "    </tr>\n",
       "    <tr>\n",
       "      <th>4</th>\n",
       "      <td>0.090031</td>\n",
       "      <td>0.019314</td>\n",
       "      <td>-0.088309</td>\n",
       "      <td>-0.013576</td>\n",
       "      <td>0.012798</td>\n",
       "      <td>0.064094</td>\n",
       "      <td>0.090031</td>\n",
       "      <td>-0.008628</td>\n",
       "      <td>-0.019731</td>\n",
       "      <td>0.012798</td>\n",
       "      <td>0.114370</td>\n",
       "      <td>-0.113519</td>\n",
       "      <td>0.144865</td>\n",
       "    </tr>\n",
       "    <tr>\n",
       "      <th>...</th>\n",
       "      <td>...</td>\n",
       "      <td>...</td>\n",
       "      <td>...</td>\n",
       "      <td>...</td>\n",
       "      <td>...</td>\n",
       "      <td>...</td>\n",
       "      <td>...</td>\n",
       "      <td>...</td>\n",
       "      <td>...</td>\n",
       "      <td>...</td>\n",
       "      <td>...</td>\n",
       "      <td>...</td>\n",
       "      <td>...</td>\n",
       "    </tr>\n",
       "    <tr>\n",
       "      <th>139651</th>\n",
       "      <td>0.237404</td>\n",
       "      <td>-0.212016</td>\n",
       "      <td>-1.814993</td>\n",
       "      <td>-0.117298</td>\n",
       "      <td>0.645991</td>\n",
       "      <td>-1.250384</td>\n",
       "      <td>0.237404</td>\n",
       "      <td>-0.184125</td>\n",
       "      <td>-0.632157</td>\n",
       "      <td>0.645991</td>\n",
       "      <td>-1.086447</td>\n",
       "      <td>-1.492379</td>\n",
       "      <td>0.612212</td>\n",
       "    </tr>\n",
       "    <tr>\n",
       "      <th>139652</th>\n",
       "      <td>-0.042703</td>\n",
       "      <td>-0.003097</td>\n",
       "      <td>-0.022850</td>\n",
       "      <td>-0.002260</td>\n",
       "      <td>-0.004103</td>\n",
       "      <td>-0.074662</td>\n",
       "      <td>-0.042703</td>\n",
       "      <td>-0.003262</td>\n",
       "      <td>-0.005496</td>\n",
       "      <td>-0.004103</td>\n",
       "      <td>-0.114631</td>\n",
       "      <td>0.060398</td>\n",
       "      <td>-0.566756</td>\n",
       "    </tr>\n",
       "    <tr>\n",
       "      <th>139653</th>\n",
       "      <td>-5.949334</td>\n",
       "      <td>-2.526293</td>\n",
       "      <td>-0.411549</td>\n",
       "      <td>0.932957</td>\n",
       "      <td>4.156656</td>\n",
       "      <td>1.936724</td>\n",
       "      <td>-5.949334</td>\n",
       "      <td>0.246167</td>\n",
       "      <td>-0.921784</td>\n",
       "      <td>4.156656</td>\n",
       "      <td>-0.261098</td>\n",
       "      <td>1.915723</td>\n",
       "      <td>0.478992</td>\n",
       "    </tr>\n",
       "    <tr>\n",
       "      <th>139654</th>\n",
       "      <td>-0.022639</td>\n",
       "      <td>-0.016362</td>\n",
       "      <td>0.325930</td>\n",
       "      <td>-0.010464</td>\n",
       "      <td>0.185225</td>\n",
       "      <td>0.048624</td>\n",
       "      <td>-0.022639</td>\n",
       "      <td>-0.015688</td>\n",
       "      <td>0.223276</td>\n",
       "      <td>0.185225</td>\n",
       "      <td>0.059035</td>\n",
       "      <td>-0.326234</td>\n",
       "      <td>1.085321</td>\n",
       "    </tr>\n",
       "    <tr>\n",
       "      <th>139655</th>\n",
       "      <td>-0.146437</td>\n",
       "      <td>1.142029</td>\n",
       "      <td>-1.071408</td>\n",
       "      <td>0.234527</td>\n",
       "      <td>-0.555665</td>\n",
       "      <td>1.029067</td>\n",
       "      <td>-0.146437</td>\n",
       "      <td>0.575828</td>\n",
       "      <td>0.430857</td>\n",
       "      <td>-0.555665</td>\n",
       "      <td>0.516303</td>\n",
       "      <td>0.723731</td>\n",
       "      <td>0.098517</td>\n",
       "    </tr>\n",
       "  </tbody>\n",
       "</table>\n",
       "<p>139656 rows × 13 columns</p>\n",
       "</div>"
      ],
      "text/plain": [
       "              G1        G2        G3        G4        G5        G6        S1  \\\n",
       "0       0.283349  0.021385 -0.187639  0.018320  0.030496  0.394027  0.283349   \n",
       "1       0.034143  0.101562 -0.030681  0.036390 -0.127633 -0.008348  0.034143   \n",
       "2      -0.180247  0.642143 -0.105544  0.080471 -0.073439 -0.030069 -0.180247   \n",
       "3      -0.074433  0.140305  0.131105  0.033264  0.147463  0.053304 -0.074433   \n",
       "4       0.090031  0.019314 -0.088309 -0.013576  0.012798  0.064094  0.090031   \n",
       "...          ...       ...       ...       ...       ...       ...       ...   \n",
       "139651  0.237404 -0.212016 -1.814993 -0.117298  0.645991 -1.250384  0.237404   \n",
       "139652 -0.042703 -0.003097 -0.022850 -0.002260 -0.004103 -0.074662 -0.042703   \n",
       "139653 -5.949334 -2.526293 -0.411549  0.932957  4.156656  1.936724 -5.949334   \n",
       "139654 -0.022639 -0.016362  0.325930 -0.010464  0.185225  0.048624 -0.022639   \n",
       "139655 -0.146437  1.142029 -1.071408  0.234527 -0.555665  1.029067 -0.146437   \n",
       "\n",
       "              S2        S3        S4        S5        S6        Cs  \n",
       "0       0.025366 -0.111974  0.030496  0.616915 -0.321619  0.235588  \n",
       "1       0.067472 -0.008434 -0.127633 -0.017293  0.089697  0.211003  \n",
       "2       0.269964  0.169363 -0.073439 -0.231032  0.377507  0.024837  \n",
       "3       0.075404  0.080542  0.147463  0.092365 -0.052962 -0.420438  \n",
       "4      -0.008628 -0.019731  0.012798  0.114370 -0.113519  0.144865  \n",
       "...          ...       ...       ...       ...       ...       ...  \n",
       "139651 -0.184125 -0.632157  0.645991 -1.086447 -1.492379  0.612212  \n",
       "139652 -0.003262 -0.005496 -0.004103 -0.114631  0.060398 -0.566756  \n",
       "139653  0.246167 -0.921784  4.156656 -0.261098  1.915723  0.478992  \n",
       "139654 -0.015688  0.223276  0.185225  0.059035 -0.326234  1.085321  \n",
       "139655  0.575828  0.430857 -0.555665  0.516303  0.723731  0.098517  \n",
       "\n",
       "[139656 rows x 13 columns]"
      ]
     },
     "execution_count": 133,
     "metadata": {},
     "output_type": "execute_result"
    }
   ],
   "source": [
    "val"
   ]
  },
  {
   "cell_type": "code",
   "execution_count": 134,
   "id": "2404dcff",
   "metadata": {},
   "outputs": [],
   "source": [
    "class MyDataset(Dataset):\n",
    "    def __init__(self, dataframe):\n",
    "        self.data = dataframe\n",
    "\n",
    "    def __getitem__(self, index):\n",
    "        # Ensure all indices are valid\n",
    "        if index < len(self.data):\n",
    "            return torch.tensor(self.data.iloc[index].values, dtype=torch.float64)\n",
    "        else:\n",
    "            raise IndexError(f\"Index {index} out of range for dataset with length {len(self.data)}\")\n",
    "\n",
    "    def __len__(self):\n",
    "        return len(self.data)"
   ]
  },
  {
   "cell_type": "code",
   "execution_count": 135,
   "id": "7958b6ce",
   "metadata": {},
   "outputs": [],
   "source": [
    "batch_sz_trn = 4096\n",
    "batch_sz_val = int(batch_sz_trn / 4)\n",
    "\n",
    "train_dataset = MyDataset(train)\n",
    "val_dataset = MyDataset(val)\n",
    "\n",
    "train_loader = torch.utils.data.DataLoader(dataset=train_dataset, batch_size=batch_sz_trn, shuffle=True)\n",
    "val_loader = torch.utils.data.DataLoader(dataset=val_dataset, batch_size=batch_sz_val, shuffle=True)"
   ]
  },
  {
   "cell_type": "code",
   "execution_count": 136,
   "id": "e8817727",
   "metadata": {},
   "outputs": [
    {
     "data": {
      "text/plain": [
       "tensor([ 0.0779, -0.0898,  0.0763, -0.0264, -0.0757,  0.1292,  0.0779, -0.0536,\n",
       "         0.0525, -0.0757,  0.2047, -0.0224,  0.2504], dtype=torch.float64)"
      ]
     },
     "execution_count": 136,
     "metadata": {},
     "output_type": "execute_result"
    }
   ],
   "source": [
    "data_iter = iter(train_loader)\n",
    "next(data_iter)[0]"
   ]
  },
  {
   "cell_type": "code",
   "execution_count": 137,
   "id": "12c6aa2f",
   "metadata": {},
   "outputs": [],
   "source": [
    "def coeff_determination(y_true, y_pred):\n",
    "    SS_res = torch.sum(torch.square( y_true - y_pred ))\n",
    "    SS_tot = torch.sum(torch.square( y_true - torch.mean(y_true) ) )\n",
    "    return ( 1 - SS_res/(SS_tot + sys_epsilon) )"
   ]
  },
  {
   "cell_type": "code",
   "execution_count": 138,
   "id": "0f9a2816",
   "metadata": {},
   "outputs": [],
   "source": [
    "class MLPModel(nn.Module):\n",
    "    def __init__(self, input_size, output_size, hidden_layers, neurons_per_layer):\n",
    "        super(MLPModel, self).__init__()\n",
    "\n",
    "        layers = []\n",
    "        layers.append(nn.Linear(input_size, neurons_per_layer[0]))\n",
    "        layers.append(nn.ReLU())\n",
    "\n",
    "        for i in range(1, hidden_layers):\n",
    "            layers.append(nn.Linear(neurons_per_layer[i - 1], neurons_per_layer[i]))\n",
    "            layers.append(nn.ReLU())\n",
    "\n",
    "        layers.append(nn.Linear(neurons_per_layer[-1], output_size))\n",
    "\n",
    "        self.block = nn.Sequential(*layers)\n",
    "\n",
    "    def forward(self, x):\n",
    "        x = self.block(x)\n",
    "        return x"
   ]
  },
  {
   "cell_type": "code",
   "execution_count": 139,
   "id": "fe2c3b93",
   "metadata": {},
   "outputs": [
    {
     "data": {
      "text/plain": [
       "MLPModel(\n",
       "  (block): Sequential(\n",
       "    (0): Linear(in_features=12, out_features=60, bias=True)\n",
       "    (1): ReLU()\n",
       "    (2): Linear(in_features=60, out_features=60, bias=True)\n",
       "    (3): ReLU()\n",
       "    (4): Linear(in_features=60, out_features=60, bias=True)\n",
       "    (5): ReLU()\n",
       "    (6): Linear(in_features=60, out_features=60, bias=True)\n",
       "    (7): ReLU()\n",
       "    (8): Linear(in_features=60, out_features=60, bias=True)\n",
       "    (9): ReLU()\n",
       "    (10): Linear(in_features=60, out_features=1, bias=True)\n",
       "  )\n",
       ")"
      ]
     },
     "execution_count": 139,
     "metadata": {},
     "output_type": "execute_result"
    }
   ],
   "source": [
    "model = MLPModel(input_size=input_size, \n",
    "                 output_size=output_size, \n",
    "                 hidden_layers=hidden_layers, \n",
    "                 neurons_per_layer=neurons_per_layer)\n",
    "\n",
    "optimizer = torch.optim.Adam(model.parameters(), lr=0.001)\n",
    "scheduler = StepLR(optimizer, step_size=3, gamma=0.2)\n",
    "\n",
    "device = torch.device(\"cuda\")\n",
    "model.to(device)\n",
    "model.double()"
   ]
  },
  {
   "cell_type": "code",
   "execution_count": 140,
   "id": "a9f285d8",
   "metadata": {},
   "outputs": [],
   "source": [
    "class EarlyStopper:\n",
    "    def __init__(self, patience=1, path=None):\n",
    "        self.patience = patience\n",
    "        self.path = path\n",
    "        self.counter = 0\n",
    "        self.min_val_loss = float('inf')\n",
    "\n",
    "    def early_stop(self, model_stat, val_loss):\n",
    "        if val_loss < self.min_val_loss:\n",
    "            torch.save(model_stat, self.path)\n",
    "            self.min_val_loss = val_loss\n",
    "            self.counter = 0\n",
    "        elif val_loss > (self.min_val_loss + sys_epsilon):\n",
    "            self.counter += 1\n",
    "            if self.counter >= self.patience:\n",
    "                print('+++ Early Stopping is reached! +++')\n",
    "                return True\n",
    "        return False"
   ]
  },
  {
   "cell_type": "code",
   "execution_count": 141,
   "id": "2cd3baf4",
   "metadata": {},
   "outputs": [],
   "source": [
    "def log_epoch_info(epoch, epochs, Loss_train, coeff_train, Loss_val, coeff_val):\n",
    "    message = (\n",
    "        f\"Epoch: {epoch} / {epochs}, \\n\"\n",
    "        f\"Train -- Loss: {Loss_train}, Coeff: {coeff_train} \\n\"\n",
    "        f\"Val   -- Loss: {Loss_val}, Coeff: {coeff_val} \\n\\n\"\n",
    "    )\n",
    "    print(message)"
   ]
  },
  {
   "cell_type": "code",
   "execution_count": null,
   "id": "92cecbdc",
   "metadata": {},
   "outputs": [
    {
     "name": "stderr",
     "output_type": "stream",
     "text": [
      "Train: 100%|██████████| 137/137 [00:20<00:00,  6.83batch/s]\n",
      "Valdt: 100%|██████████| 137/137 [00:05<00:00, 26.62batch/s]\n"
     ]
    },
    {
     "name": "stdout",
     "output_type": "stream",
     "text": [
      "Epoch: 0 / 6000, \n",
      "Train -- Loss: 0.02922457872536642, Coeff: 0.033447265625 \n",
      "Val   -- Loss: 0.09695346810640176, Coeff: 0.1337890625 \n",
      "\n",
      "\n"
     ]
    },
    {
     "name": "stderr",
     "output_type": "stream",
     "text": [
      "Train: 100%|██████████| 137/137 [00:19<00:00,  6.86batch/s]\n",
      "Valdt: 100%|██████████| 137/137 [00:05<00:00, 26.52batch/s]\n"
     ]
    },
    {
     "name": "stdout",
     "output_type": "stream",
     "text": [
      "Epoch: 1 / 6000, \n",
      "Train -- Loss: 0.02124371147302791, Coeff: 0.033447265625 \n",
      "Val   -- Loss: 0.07897915301905668, Coeff: 0.1337890625 \n",
      "\n",
      "\n"
     ]
    },
    {
     "name": "stderr",
     "output_type": "stream",
     "text": [
      "Train: 100%|██████████| 137/137 [00:20<00:00,  6.85batch/s]\n",
      "Valdt: 100%|██████████| 137/137 [00:05<00:00, 26.71batch/s]\n"
     ]
    },
    {
     "name": "stdout",
     "output_type": "stream",
     "text": [
      "Epoch: 2 / 6000, \n",
      "Train -- Loss: 0.017591081510362937, Coeff: 0.033447265625 \n",
      "Val   -- Loss: 0.06706958448071666, Coeff: 0.1337890625 \n",
      "\n",
      "\n"
     ]
    },
    {
     "name": "stderr",
     "output_type": "stream",
     "text": [
      "Train: 100%|██████████| 137/137 [00:19<00:00,  6.88batch/s]\n",
      "Valdt: 100%|██████████| 137/137 [00:05<00:00, 26.71batch/s]\n"
     ]
    },
    {
     "name": "stdout",
     "output_type": "stream",
     "text": [
      "Epoch: 3 / 6000, \n",
      "Train -- Loss: 0.015417584611652402, Coeff: 0.033447265625 \n",
      "Val   -- Loss: 0.058610363348839, Coeff: 0.1337890625 \n",
      "\n",
      "\n"
     ]
    },
    {
     "name": "stderr",
     "output_type": "stream",
     "text": [
      "Train: 100%|██████████| 137/137 [00:19<00:00,  6.87batch/s]\n",
      "Valdt: 100%|██████████| 137/137 [00:05<00:00, 26.52batch/s]\n"
     ]
    },
    {
     "name": "stdout",
     "output_type": "stream",
     "text": [
      "Epoch: 4 / 6000, \n",
      "Train -- Loss: 0.013930458746943953, Coeff: 0.033447265625 \n",
      "Val   -- Loss: 0.054305122348471895, Coeff: 0.1337890625 \n",
      "\n",
      "\n"
     ]
    },
    {
     "name": "stderr",
     "output_type": "stream",
     "text": [
      "Train: 100%|██████████| 137/137 [00:21<00:00,  6.28batch/s]\n",
      "Valdt: 100%|██████████| 137/137 [00:05<00:00, 26.80batch/s]\n"
     ]
    },
    {
     "name": "stdout",
     "output_type": "stream",
     "text": [
      "Epoch: 5 / 6000, \n",
      "Train -- Loss: 0.012565005991586409, Coeff: 0.033447265625 \n",
      "Val   -- Loss: 0.04887536031165955, Coeff: 0.1337890625 \n",
      "\n",
      "\n"
     ]
    },
    {
     "name": "stderr",
     "output_type": "stream",
     "text": [
      "Train: 100%|██████████| 137/137 [00:20<00:00,  6.83batch/s]\n",
      "Valdt: 100%|██████████| 137/137 [00:05<00:00, 26.63batch/s]\n"
     ]
    },
    {
     "name": "stdout",
     "output_type": "stream",
     "text": [
      "Epoch: 6 / 6000, \n",
      "Train -- Loss: 0.011466317245609425, Coeff: 0.033447265625 \n",
      "Val   -- Loss: 0.04526785355120141, Coeff: 0.1337890625 \n",
      "\n",
      "\n"
     ]
    },
    {
     "name": "stderr",
     "output_type": "stream",
     "text": [
      "Train: 100%|██████████| 137/137 [00:19<00:00,  6.89batch/s]\n",
      "Valdt: 100%|██████████| 137/137 [00:05<00:00, 26.48batch/s]\n"
     ]
    },
    {
     "name": "stdout",
     "output_type": "stream",
     "text": [
      "Epoch: 7 / 6000, \n",
      "Train -- Loss: 0.010519645476757678, Coeff: 0.033447265625 \n",
      "Val   -- Loss: 0.041793461812103985, Coeff: 0.1337890625 \n",
      "\n",
      "\n"
     ]
    },
    {
     "name": "stderr",
     "output_type": "stream",
     "text": [
      "Train: 100%|██████████| 137/137 [00:19<00:00,  6.87batch/s]\n",
      "Valdt: 100%|██████████| 137/137 [00:05<00:00, 26.78batch/s]\n"
     ]
    },
    {
     "name": "stdout",
     "output_type": "stream",
     "text": [
      "Epoch: 8 / 6000, \n",
      "Train -- Loss: 0.009673495332389497, Coeff: 0.033447265625 \n",
      "Val   -- Loss: 0.039251958802624255, Coeff: 0.1337890625 \n",
      "\n",
      "\n"
     ]
    },
    {
     "name": "stderr",
     "output_type": "stream",
     "text": [
      "Train: 100%|██████████| 137/137 [00:19<00:00,  6.86batch/s]\n",
      "Valdt: 100%|██████████| 137/137 [00:05<00:00, 26.72batch/s]\n"
     ]
    },
    {
     "name": "stdout",
     "output_type": "stream",
     "text": [
      "Epoch: 9 / 6000, \n",
      "Train -- Loss: 0.009072364262450663, Coeff: 0.033447265625 \n",
      "Val   -- Loss: 0.038875625564037085, Coeff: 0.1337890625 \n",
      "\n",
      "\n"
     ]
    },
    {
     "name": "stderr",
     "output_type": "stream",
     "text": [
      "Train: 100%|██████████| 137/137 [00:19<00:00,  6.87batch/s]\n",
      "Valdt: 100%|██████████| 137/137 [00:05<00:00, 26.45batch/s]\n"
     ]
    },
    {
     "name": "stdout",
     "output_type": "stream",
     "text": [
      "Epoch: 10 / 6000, \n",
      "Train -- Loss: 0.008661706362170318, Coeff: 0.033447265625 \n",
      "Val   -- Loss: 0.03518819165918603, Coeff: 0.1337890625 \n",
      "\n",
      "\n"
     ]
    },
    {
     "name": "stderr",
     "output_type": "stream",
     "text": [
      "Train: 100%|██████████| 137/137 [00:19<00:00,  6.85batch/s]\n",
      "Valdt: 100%|██████████| 137/137 [00:05<00:00, 26.48batch/s]\n"
     ]
    },
    {
     "name": "stdout",
     "output_type": "stream",
     "text": [
      "Epoch: 11 / 6000, \n",
      "Train -- Loss: 0.0083053316183147, Coeff: 0.033447265625 \n",
      "Val   -- Loss: 0.034254022851463374, Coeff: 0.1337890625 \n",
      "\n",
      "\n"
     ]
    },
    {
     "name": "stderr",
     "output_type": "stream",
     "text": [
      "Train: 100%|██████████| 137/137 [00:19<00:00,  6.86batch/s]\n",
      "Valdt: 100%|██████████| 137/137 [00:05<00:00, 26.68batch/s]\n"
     ]
    },
    {
     "name": "stdout",
     "output_type": "stream",
     "text": [
      "Epoch: 12 / 6000, \n",
      "Train -- Loss: 0.007838822790589194, Coeff: 0.033447265625 \n",
      "Val   -- Loss: 0.03275275251299256, Coeff: 0.1337890625 \n",
      "\n",
      "\n"
     ]
    },
    {
     "name": "stderr",
     "output_type": "stream",
     "text": [
      "Train: 100%|██████████| 137/137 [00:19<00:00,  6.87batch/s]\n",
      "Valdt: 100%|██████████| 137/137 [00:05<00:00, 26.79batch/s]\n"
     ]
    },
    {
     "name": "stdout",
     "output_type": "stream",
     "text": [
      "Epoch: 13 / 6000, \n",
      "Train -- Loss: 0.007643939312588943, Coeff: 0.033447265625 \n",
      "Val   -- Loss: 0.033946647836920835, Coeff: 0.1337890625 \n",
      "\n",
      "\n"
     ]
    },
    {
     "name": "stderr",
     "output_type": "stream",
     "text": [
      "Train: 100%|██████████| 137/137 [00:21<00:00,  6.30batch/s]\n",
      "Valdt: 100%|██████████| 137/137 [00:05<00:00, 26.47batch/s]\n"
     ]
    },
    {
     "name": "stdout",
     "output_type": "stream",
     "text": [
      "Epoch: 14 / 6000, \n",
      "Train -- Loss: 0.007509770627523335, Coeff: 0.033447265625 \n",
      "Val   -- Loss: 0.03304550856292041, Coeff: 0.1337890625 \n",
      "\n",
      "\n"
     ]
    },
    {
     "name": "stderr",
     "output_type": "stream",
     "text": [
      "Train: 100%|██████████| 137/137 [00:20<00:00,  6.84batch/s]\n",
      "Valdt: 100%|██████████| 137/137 [00:05<00:00, 26.69batch/s]\n"
     ]
    },
    {
     "name": "stdout",
     "output_type": "stream",
     "text": [
      "Epoch: 15 / 6000, \n",
      "Train -- Loss: 0.007307116758258193, Coeff: 0.033447265625 \n",
      "Val   -- Loss: 0.030458879785253794, Coeff: 0.1337890625 \n",
      "\n",
      "\n"
     ]
    },
    {
     "name": "stderr",
     "output_type": "stream",
     "text": [
      "Train: 100%|██████████| 137/137 [00:19<00:00,  6.86batch/s]\n",
      "Valdt: 100%|██████████| 137/137 [00:05<00:00, 26.74batch/s]\n"
     ]
    },
    {
     "name": "stdout",
     "output_type": "stream",
     "text": [
      "Epoch: 16 / 6000, \n",
      "Train -- Loss: 0.007108441644266785, Coeff: 0.033447265625 \n",
      "Val   -- Loss: 0.0321268324571817, Coeff: 0.1337890625 \n",
      "\n",
      "\n"
     ]
    },
    {
     "name": "stderr",
     "output_type": "stream",
     "text": [
      "Train: 100%|██████████| 137/137 [00:20<00:00,  6.84batch/s]\n",
      "Valdt: 100%|██████████| 137/137 [00:05<00:00, 26.57batch/s]\n"
     ]
    },
    {
     "name": "stdout",
     "output_type": "stream",
     "text": [
      "Epoch: 17 / 6000, \n",
      "Train -- Loss: 0.006981480473370451, Coeff: 0.033447265625 \n",
      "Val   -- Loss: 0.030819731494242376, Coeff: 0.1337890625 \n",
      "\n",
      "\n"
     ]
    },
    {
     "name": "stderr",
     "output_type": "stream",
     "text": [
      "Train: 100%|██████████| 137/137 [00:19<00:00,  6.86batch/s]\n",
      "Valdt: 100%|██████████| 137/137 [00:05<00:00, 26.71batch/s]\n"
     ]
    },
    {
     "name": "stdout",
     "output_type": "stream",
     "text": [
      "Epoch: 18 / 6000, \n",
      "Train -- Loss: 0.006733206081241113, Coeff: 0.033447265625 \n",
      "Val   -- Loss: 0.030025561891005633, Coeff: 0.1337890625 \n",
      "\n",
      "\n"
     ]
    },
    {
     "name": "stderr",
     "output_type": "stream",
     "text": [
      "Train: 100%|██████████| 137/137 [00:20<00:00,  6.83batch/s]\n",
      "Valdt: 100%|██████████| 137/137 [00:05<00:00, 26.62batch/s]\n"
     ]
    },
    {
     "name": "stdout",
     "output_type": "stream",
     "text": [
      "Epoch: 19 / 6000, \n",
      "Train -- Loss: 0.006826338562448911, Coeff: 0.033447265625 \n",
      "Val   -- Loss: 0.02872903048122285, Coeff: 0.1337890625 \n",
      "\n",
      "\n"
     ]
    },
    {
     "name": "stderr",
     "output_type": "stream",
     "text": [
      "Train: 100%|██████████| 137/137 [00:20<00:00,  6.82batch/s]\n",
      "Valdt: 100%|██████████| 137/137 [00:05<00:00, 26.51batch/s]\n"
     ]
    },
    {
     "name": "stdout",
     "output_type": "stream",
     "text": [
      "Epoch: 20 / 6000, \n",
      "Train -- Loss: 0.006848095119602922, Coeff: 0.033447265625 \n",
      "Val   -- Loss: 0.029156021658173, Coeff: 0.1337890625 \n",
      "\n",
      "\n"
     ]
    },
    {
     "name": "stderr",
     "output_type": "stream",
     "text": [
      "Train: 100%|██████████| 137/137 [00:20<00:00,  6.83batch/s]\n",
      "Valdt: 100%|██████████| 137/137 [00:05<00:00, 26.66batch/s]\n"
     ]
    },
    {
     "name": "stdout",
     "output_type": "stream",
     "text": [
      "Epoch: 21 / 6000, \n",
      "Train -- Loss: 0.006446579030075585, Coeff: 0.033447265625 \n",
      "Val   -- Loss: 0.02831255988341344, Coeff: 0.1337890625 \n",
      "\n",
      "\n"
     ]
    },
    {
     "name": "stderr",
     "output_type": "stream",
     "text": [
      "Train: 100%|██████████| 137/137 [00:21<00:00,  6.33batch/s]\n",
      "Valdt: 100%|██████████| 137/137 [00:05<00:00, 26.76batch/s]\n"
     ]
    },
    {
     "name": "stdout",
     "output_type": "stream",
     "text": [
      "Epoch: 22 / 6000, \n",
      "Train -- Loss: 0.0063259517611500785, Coeff: 0.033447265625 \n",
      "Val   -- Loss: 0.029035334104456526, Coeff: 0.1337890625 \n",
      "\n",
      "\n"
     ]
    },
    {
     "name": "stderr",
     "output_type": "stream",
     "text": [
      "Train: 100%|██████████| 137/137 [00:19<00:00,  6.86batch/s]\n",
      "Valdt: 100%|██████████| 137/137 [00:05<00:00, 26.65batch/s]\n"
     ]
    },
    {
     "name": "stdout",
     "output_type": "stream",
     "text": [
      "Epoch: 23 / 6000, \n",
      "Train -- Loss: 0.006277591221703899, Coeff: 0.033447265625 \n",
      "Val   -- Loss: 0.027720316291707858, Coeff: 0.1337890625 \n",
      "\n",
      "\n"
     ]
    },
    {
     "name": "stderr",
     "output_type": "stream",
     "text": [
      "Train: 100%|██████████| 137/137 [00:19<00:00,  6.85batch/s]\n",
      "Valdt: 100%|██████████| 137/137 [00:05<00:00, 26.54batch/s]\n"
     ]
    },
    {
     "name": "stdout",
     "output_type": "stream",
     "text": [
      "Epoch: 24 / 6000, \n",
      "Train -- Loss: 0.006241386872491276, Coeff: 0.033447265625 \n",
      "Val   -- Loss: 0.02651648591273234, Coeff: 0.1337890625 \n",
      "\n",
      "\n"
     ]
    },
    {
     "name": "stderr",
     "output_type": "stream",
     "text": [
      "Train: 100%|██████████| 137/137 [00:20<00:00,  6.84batch/s]\n",
      "Valdt: 100%|██████████| 137/137 [00:05<00:00, 26.63batch/s]\n"
     ]
    },
    {
     "name": "stdout",
     "output_type": "stream",
     "text": [
      "Epoch: 25 / 6000, \n",
      "Train -- Loss: 0.0060877124537195605, Coeff: 0.033447265625 \n",
      "Val   -- Loss: 0.028404607419930505, Coeff: 0.1337890625 \n",
      "\n",
      "\n"
     ]
    },
    {
     "name": "stderr",
     "output_type": "stream",
     "text": [
      "Train: 100%|██████████| 137/137 [00:20<00:00,  6.85batch/s]\n",
      "Valdt: 100%|██████████| 137/137 [00:05<00:00, 26.80batch/s]\n"
     ]
    },
    {
     "name": "stdout",
     "output_type": "stream",
     "text": [
      "Epoch: 26 / 6000, \n",
      "Train -- Loss: 0.00608664546473886, Coeff: 0.033447265625 \n",
      "Val   -- Loss: 0.027324869225196204, Coeff: 0.1337890625 \n",
      "\n",
      "\n"
     ]
    },
    {
     "name": "stderr",
     "output_type": "stream",
     "text": [
      "Train: 100%|██████████| 137/137 [00:19<00:00,  6.87batch/s]\n",
      "Valdt: 100%|██████████| 137/137 [00:05<00:00, 26.56batch/s]\n"
     ]
    },
    {
     "name": "stdout",
     "output_type": "stream",
     "text": [
      "Epoch: 27 / 6000, \n",
      "Train -- Loss: 0.005968439504954917, Coeff: 0.033447265625 \n",
      "Val   -- Loss: 0.026161123336721454, Coeff: 0.1337890625 \n",
      "\n",
      "\n"
     ]
    },
    {
     "name": "stderr",
     "output_type": "stream",
     "text": [
      "Train: 100%|██████████| 137/137 [00:20<00:00,  6.85batch/s]\n",
      "Valdt: 100%|██████████| 137/137 [00:05<00:00, 26.69batch/s]\n"
     ]
    },
    {
     "name": "stdout",
     "output_type": "stream",
     "text": [
      "Epoch: 28 / 6000, \n",
      "Train -- Loss: 0.006033025105017764, Coeff: 0.033447265625 \n",
      "Val   -- Loss: 0.026375373958954815, Coeff: 0.1337890625 \n",
      "\n",
      "\n"
     ]
    },
    {
     "name": "stderr",
     "output_type": "stream",
     "text": [
      "Train: 100%|██████████| 137/137 [00:20<00:00,  6.83batch/s]\n",
      "Valdt: 100%|██████████| 137/137 [00:05<00:00, 26.53batch/s]\n"
     ]
    },
    {
     "name": "stdout",
     "output_type": "stream",
     "text": [
      "Epoch: 29 / 6000, \n",
      "Train -- Loss: 0.005856387082758057, Coeff: 0.033447265625 \n",
      "Val   -- Loss: 0.026796216230097904, Coeff: 0.1337890625 \n",
      "\n",
      "\n"
     ]
    },
    {
     "name": "stderr",
     "output_type": "stream",
     "text": [
      "Train: 100%|██████████| 137/137 [00:19<00:00,  6.87batch/s]\n",
      "Valdt: 100%|██████████| 137/137 [00:05<00:00, 26.53batch/s]\n"
     ]
    },
    {
     "name": "stdout",
     "output_type": "stream",
     "text": [
      "Epoch: 30 / 6000, \n",
      "Train -- Loss: 0.005889133415305276, Coeff: 0.033447265625 \n",
      "Val   -- Loss: 0.026823356692689763, Coeff: 0.1337890625 \n",
      "\n",
      "\n"
     ]
    },
    {
     "name": "stderr",
     "output_type": "stream",
     "text": [
      "Train: 100%|██████████| 137/137 [00:21<00:00,  6.32batch/s]\n",
      "Valdt: 100%|██████████| 137/137 [00:05<00:00, 26.73batch/s]\n"
     ]
    },
    {
     "name": "stdout",
     "output_type": "stream",
     "text": [
      "Epoch: 31 / 6000, \n",
      "Train -- Loss: 0.005733601244630037, Coeff: 0.033447265625 \n",
      "Val   -- Loss: 0.025332362418555868, Coeff: 0.1337890625 \n",
      "\n",
      "\n"
     ]
    },
    {
     "name": "stderr",
     "output_type": "stream",
     "text": [
      "Train: 100%|██████████| 137/137 [00:20<00:00,  6.85batch/s]\n",
      "Valdt: 100%|██████████| 137/137 [00:05<00:00, 26.60batch/s]\n"
     ]
    },
    {
     "name": "stdout",
     "output_type": "stream",
     "text": [
      "Epoch: 32 / 6000, \n",
      "Train -- Loss: 0.00564625206367134, Coeff: 0.033447265625 \n",
      "Val   -- Loss: 0.02643397953709359, Coeff: 0.1337890625 \n",
      "\n",
      "\n"
     ]
    },
    {
     "name": "stderr",
     "output_type": "stream",
     "text": [
      "Train: 100%|██████████| 137/137 [00:20<00:00,  6.85batch/s]\n",
      "Valdt: 100%|██████████| 137/137 [00:05<00:00, 26.57batch/s]\n"
     ]
    },
    {
     "name": "stdout",
     "output_type": "stream",
     "text": [
      "Epoch: 33 / 6000, \n",
      "Train -- Loss: 0.006045406254785722, Coeff: 0.033447265625 \n",
      "Val   -- Loss: 0.027763719627003393, Coeff: 0.1337890625 \n",
      "\n",
      "\n"
     ]
    },
    {
     "name": "stderr",
     "output_type": "stream",
     "text": [
      "Train: 100%|██████████| 137/137 [00:19<00:00,  6.86batch/s]\n",
      "Valdt: 100%|██████████| 137/137 [00:05<00:00, 26.69batch/s]\n"
     ]
    },
    {
     "name": "stdout",
     "output_type": "stream",
     "text": [
      "Epoch: 34 / 6000, \n",
      "Train -- Loss: 0.005706910231053631, Coeff: 0.033447265625 \n",
      "Val   -- Loss: 0.024707404462318464, Coeff: 0.1337890625 \n",
      "\n",
      "\n"
     ]
    },
    {
     "name": "stderr",
     "output_type": "stream",
     "text": [
      "Train: 100%|██████████| 137/137 [00:20<00:00,  6.83batch/s]\n",
      "Valdt: 100%|██████████| 137/137 [00:05<00:00, 26.64batch/s]\n"
     ]
    },
    {
     "name": "stdout",
     "output_type": "stream",
     "text": [
      "Epoch: 35 / 6000, \n",
      "Train -- Loss: 0.005450613981478884, Coeff: 0.033447265625 \n",
      "Val   -- Loss: 0.024754610262894057, Coeff: 0.1337890625 \n",
      "\n",
      "\n"
     ]
    },
    {
     "name": "stderr",
     "output_type": "stream",
     "text": [
      "Train: 100%|██████████| 137/137 [00:20<00:00,  6.83batch/s]\n",
      "Valdt: 100%|██████████| 137/137 [00:05<00:00, 26.57batch/s]\n"
     ]
    },
    {
     "name": "stdout",
     "output_type": "stream",
     "text": [
      "Epoch: 36 / 6000, \n",
      "Train -- Loss: 0.005570017599038804, Coeff: 0.033447265625 \n",
      "Val   -- Loss: 0.024856493961720263, Coeff: 0.1337890625 \n",
      "\n",
      "\n"
     ]
    },
    {
     "name": "stderr",
     "output_type": "stream",
     "text": [
      "Train: 100%|██████████| 137/137 [00:20<00:00,  6.84batch/s]\n",
      "Valdt: 100%|██████████| 137/137 [00:05<00:00, 26.65batch/s]\n"
     ]
    },
    {
     "name": "stdout",
     "output_type": "stream",
     "text": [
      "Epoch: 37 / 6000, \n",
      "Train -- Loss: 0.005570843708289091, Coeff: 0.033447265625 \n",
      "Val   -- Loss: 0.02607040046742822, Coeff: 0.1337890625 \n",
      "\n",
      "\n"
     ]
    },
    {
     "name": "stderr",
     "output_type": "stream",
     "text": [
      "Train: 100%|██████████| 137/137 [00:19<00:00,  6.87batch/s]\n",
      "Valdt: 100%|██████████| 137/137 [00:05<00:00, 26.67batch/s]\n"
     ]
    },
    {
     "name": "stdout",
     "output_type": "stream",
     "text": [
      "Epoch: 38 / 6000, \n",
      "Train -- Loss: 0.005524496690703749, Coeff: 0.033447265625 \n",
      "Val   -- Loss: 0.025047427162090897, Coeff: 0.1337890625 \n",
      "\n",
      "\n"
     ]
    },
    {
     "name": "stderr",
     "output_type": "stream",
     "text": [
      "Train: 100%|██████████| 137/137 [00:21<00:00,  6.30batch/s]\n",
      "Valdt: 100%|██████████| 137/137 [00:05<00:00, 26.71batch/s]\n"
     ]
    },
    {
     "name": "stdout",
     "output_type": "stream",
     "text": [
      "Epoch: 39 / 6000, \n",
      "Train -- Loss: 0.005421896331640627, Coeff: 0.033447265625 \n",
      "Val   -- Loss: 0.02392722209142507, Coeff: 0.1337890625 \n",
      "\n",
      "\n"
     ]
    },
    {
     "name": "stderr",
     "output_type": "stream",
     "text": [
      "Train: 100%|██████████| 137/137 [00:19<00:00,  6.87batch/s]\n",
      "Valdt: 100%|██████████| 137/137 [00:05<00:00, 26.50batch/s]\n"
     ]
    },
    {
     "name": "stdout",
     "output_type": "stream",
     "text": [
      "Epoch: 40 / 6000, \n",
      "Train -- Loss: 0.005228049848522692, Coeff: 0.033447265625 \n",
      "Val   -- Loss: 0.02585178023692225, Coeff: 0.1337890625 \n",
      "\n",
      "\n"
     ]
    },
    {
     "name": "stderr",
     "output_type": "stream",
     "text": [
      "Train: 100%|██████████| 137/137 [00:20<00:00,  6.85batch/s]\n",
      "Valdt: 100%|██████████| 137/137 [00:05<00:00, 26.69batch/s]\n"
     ]
    },
    {
     "name": "stdout",
     "output_type": "stream",
     "text": [
      "Epoch: 41 / 6000, \n",
      "Train -- Loss: 0.005268461614922029, Coeff: 0.033447265625 \n",
      "Val   -- Loss: 0.02456360585518915, Coeff: 0.1337890625 \n",
      "\n",
      "\n"
     ]
    },
    {
     "name": "stderr",
     "output_type": "stream",
     "text": [
      "Train: 100%|██████████| 137/137 [00:20<00:00,  6.84batch/s]\n",
      "Valdt: 100%|██████████| 137/137 [00:05<00:00, 26.59batch/s]\n"
     ]
    },
    {
     "name": "stdout",
     "output_type": "stream",
     "text": [
      "Epoch: 42 / 6000, \n",
      "Train -- Loss: 0.005297285732073171, Coeff: 0.033447265625 \n",
      "Val   -- Loss: 0.025267003541719648, Coeff: 0.1337890625 \n",
      "\n",
      "\n"
     ]
    },
    {
     "name": "stderr",
     "output_type": "stream",
     "text": [
      "Train: 100%|██████████| 137/137 [00:19<00:00,  6.86batch/s]\n",
      "Valdt: 100%|██████████| 137/137 [00:05<00:00, 26.43batch/s]\n"
     ]
    },
    {
     "name": "stdout",
     "output_type": "stream",
     "text": [
      "Epoch: 43 / 6000, \n",
      "Train -- Loss: 0.005203320592652618, Coeff: 0.033447265625 \n",
      "Val   -- Loss: 0.02310509649067595, Coeff: 0.1337890625 \n",
      "\n",
      "\n"
     ]
    },
    {
     "name": "stderr",
     "output_type": "stream",
     "text": [
      "Train: 100%|██████████| 137/137 [00:20<00:00,  6.80batch/s]\n",
      "Valdt: 100%|██████████| 137/137 [00:05<00:00, 26.57batch/s]\n"
     ]
    },
    {
     "name": "stdout",
     "output_type": "stream",
     "text": [
      "Epoch: 44 / 6000, \n",
      "Train -- Loss: 0.0051078306881207946, Coeff: 0.033447265625 \n",
      "Val   -- Loss: 0.02405230209766795, Coeff: 0.1337890625 \n",
      "\n",
      "\n"
     ]
    },
    {
     "name": "stderr",
     "output_type": "stream",
     "text": [
      "Train: 100%|██████████| 137/137 [00:20<00:00,  6.83batch/s]\n",
      "Valdt: 100%|██████████| 137/137 [00:05<00:00, 26.53batch/s]\n"
     ]
    },
    {
     "name": "stdout",
     "output_type": "stream",
     "text": [
      "Epoch: 45 / 6000, \n",
      "Train -- Loss: 0.005120623723960225, Coeff: 0.033447265625 \n",
      "Val   -- Loss: 0.024579950905444625, Coeff: 0.1337890625 \n",
      "\n",
      "\n"
     ]
    },
    {
     "name": "stderr",
     "output_type": "stream",
     "text": [
      "Train: 100%|██████████| 137/137 [00:19<00:00,  6.86batch/s]\n",
      "Valdt: 100%|██████████| 137/137 [00:05<00:00, 26.56batch/s]\n"
     ]
    },
    {
     "name": "stdout",
     "output_type": "stream",
     "text": [
      "Epoch: 46 / 6000, \n",
      "Train -- Loss: 0.005174049126970394, Coeff: 0.033447265625 \n",
      "Val   -- Loss: 0.023978162303481845, Coeff: 0.1337890625 \n",
      "\n",
      "\n"
     ]
    },
    {
     "name": "stderr",
     "output_type": "stream",
     "text": [
      "Train: 100%|██████████| 137/137 [00:20<00:00,  6.84batch/s]\n",
      "Valdt: 100%|██████████| 137/137 [00:05<00:00, 26.60batch/s]\n"
     ]
    },
    {
     "name": "stdout",
     "output_type": "stream",
     "text": [
      "Epoch: 47 / 6000, \n",
      "Train -- Loss: 0.005309814719435504, Coeff: 0.033447265625 \n",
      "Val   -- Loss: 0.024264062083180993, Coeff: 0.1337890625 \n",
      "\n",
      "\n"
     ]
    },
    {
     "name": "stderr",
     "output_type": "stream",
     "text": [
      "Train: 100%|██████████| 137/137 [00:21<00:00,  6.36batch/s]\n",
      "Valdt: 100%|██████████| 137/137 [00:05<00:00, 26.76batch/s]\n"
     ]
    },
    {
     "name": "stdout",
     "output_type": "stream",
     "text": [
      "Epoch: 48 / 6000, \n",
      "Train -- Loss: 0.005168532677586955, Coeff: 0.033447265625 \n",
      "Val   -- Loss: 0.023087515379655886, Coeff: 0.1337890625 \n",
      "\n",
      "\n"
     ]
    },
    {
     "name": "stderr",
     "output_type": "stream",
     "text": [
      "Train: 100%|██████████| 137/137 [00:19<00:00,  6.86batch/s]\n",
      "Valdt: 100%|██████████| 137/137 [00:05<00:00, 26.55batch/s]\n"
     ]
    },
    {
     "name": "stdout",
     "output_type": "stream",
     "text": [
      "Epoch: 49 / 6000, \n",
      "Train -- Loss: 0.005023370642005217, Coeff: 0.033447265625 \n",
      "Val   -- Loss: 0.022746546971318678, Coeff: 0.1337890625 \n",
      "\n",
      "\n"
     ]
    },
    {
     "name": "stderr",
     "output_type": "stream",
     "text": [
      "Train: 100%|██████████| 137/137 [00:19<00:00,  6.85batch/s]\n",
      "Valdt: 100%|██████████| 137/137 [00:05<00:00, 26.76batch/s]\n"
     ]
    },
    {
     "name": "stdout",
     "output_type": "stream",
     "text": [
      "Epoch: 50 / 6000, \n",
      "Train -- Loss: 0.004966511426639528, Coeff: 0.033447265625 \n",
      "Val   -- Loss: 0.023497255825098363, Coeff: 0.1337890625 \n",
      "\n",
      "\n"
     ]
    },
    {
     "name": "stderr",
     "output_type": "stream",
     "text": [
      "Train: 100%|██████████| 137/137 [00:19<00:00,  6.85batch/s]\n",
      "Valdt: 100%|██████████| 137/137 [00:05<00:00, 26.69batch/s]\n"
     ]
    },
    {
     "name": "stdout",
     "output_type": "stream",
     "text": [
      "Epoch: 51 / 6000, \n",
      "Train -- Loss: 0.004888731280442081, Coeff: 0.033447265625 \n",
      "Val   -- Loss: 0.02199297869338623, Coeff: 0.1337890625 \n",
      "\n",
      "\n"
     ]
    },
    {
     "name": "stderr",
     "output_type": "stream",
     "text": [
      "Train: 100%|██████████| 137/137 [00:20<00:00,  6.85batch/s]\n",
      "Valdt: 100%|██████████| 137/137 [00:05<00:00, 26.57batch/s]\n"
     ]
    },
    {
     "name": "stdout",
     "output_type": "stream",
     "text": [
      "Epoch: 52 / 6000, \n",
      "Train -- Loss: 0.004897802938365222, Coeff: 0.033447265625 \n",
      "Val   -- Loss: 0.0223531250555927, Coeff: 0.1337890625 \n",
      "\n",
      "\n"
     ]
    },
    {
     "name": "stderr",
     "output_type": "stream",
     "text": [
      "Train: 100%|██████████| 137/137 [00:19<00:00,  6.88batch/s]\n",
      "Valdt: 100%|██████████| 137/137 [00:05<00:00, 26.55batch/s]\n"
     ]
    },
    {
     "name": "stdout",
     "output_type": "stream",
     "text": [
      "Epoch: 53 / 6000, \n",
      "Train -- Loss: 0.004962220561947816, Coeff: 0.033447265625 \n",
      "Val   -- Loss: 0.023489145064800415, Coeff: 0.1337890625 \n",
      "\n",
      "\n"
     ]
    },
    {
     "name": "stderr",
     "output_type": "stream",
     "text": [
      "Train: 100%|██████████| 137/137 [00:19<00:00,  6.85batch/s]\n",
      "Valdt: 100%|██████████| 137/137 [00:05<00:00, 26.75batch/s]\n"
     ]
    },
    {
     "name": "stdout",
     "output_type": "stream",
     "text": [
      "Epoch: 54 / 6000, \n",
      "Train -- Loss: 0.004863070569611036, Coeff: 0.033447265625 \n",
      "Val   -- Loss: 0.021985802631860875, Coeff: 0.1337890625 \n",
      "\n",
      "\n"
     ]
    },
    {
     "name": "stderr",
     "output_type": "stream",
     "text": [
      "Train: 100%|██████████| 137/137 [00:20<00:00,  6.83batch/s]\n",
      "Valdt: 100%|██████████| 137/137 [00:05<00:00, 26.70batch/s]\n"
     ]
    },
    {
     "name": "stdout",
     "output_type": "stream",
     "text": [
      "Epoch: 55 / 6000, \n",
      "Train -- Loss: 0.004984263787398644, Coeff: 0.033447265625 \n",
      "Val   -- Loss: 0.023979855489640413, Coeff: 0.1337890625 \n",
      "\n",
      "\n"
     ]
    },
    {
     "name": "stderr",
     "output_type": "stream",
     "text": [
      "Train: 100%|██████████| 137/137 [00:19<00:00,  6.86batch/s]\n",
      "Valdt: 100%|██████████| 137/137 [00:06<00:00, 20.82batch/s]\n"
     ]
    },
    {
     "name": "stdout",
     "output_type": "stream",
     "text": [
      "Epoch: 56 / 6000, \n",
      "Train -- Loss: 0.004959450933628647, Coeff: 0.033447265625 \n",
      "Val   -- Loss: 0.02257279332756296, Coeff: 0.1337890625 \n",
      "\n",
      "\n"
     ]
    },
    {
     "name": "stderr",
     "output_type": "stream",
     "text": [
      "Train: 100%|██████████| 137/137 [00:20<00:00,  6.84batch/s]\n",
      "Valdt: 100%|██████████| 137/137 [00:05<00:00, 26.59batch/s]\n"
     ]
    },
    {
     "name": "stdout",
     "output_type": "stream",
     "text": [
      "Epoch: 57 / 6000, \n",
      "Train -- Loss: 0.004765484884026064, Coeff: 0.033447265625 \n",
      "Val   -- Loss: 0.02286446650268429, Coeff: 0.1337890625 \n",
      "\n",
      "\n"
     ]
    },
    {
     "name": "stderr",
     "output_type": "stream",
     "text": [
      "Train: 100%|██████████| 137/137 [00:19<00:00,  6.85batch/s]\n",
      "Valdt: 100%|██████████| 137/137 [00:05<00:00, 26.58batch/s]\n"
     ]
    },
    {
     "name": "stdout",
     "output_type": "stream",
     "text": [
      "Epoch: 58 / 6000, \n",
      "Train -- Loss: 0.004726248033819976, Coeff: 0.033447265625 \n",
      "Val   -- Loss: 0.022023960343474983, Coeff: 0.1337890625 \n",
      "\n",
      "\n"
     ]
    },
    {
     "name": "stderr",
     "output_type": "stream",
     "text": [
      "Train: 100%|██████████| 137/137 [00:20<00:00,  6.84batch/s]\n",
      "Valdt: 100%|██████████| 137/137 [00:05<00:00, 26.54batch/s]\n"
     ]
    },
    {
     "name": "stdout",
     "output_type": "stream",
     "text": [
      "Epoch: 59 / 6000, \n",
      "Train -- Loss: 0.004754127442242944, Coeff: 0.033447265625 \n",
      "Val   -- Loss: 0.022704792216579273, Coeff: 0.1337890625 \n",
      "\n",
      "\n"
     ]
    },
    {
     "name": "stderr",
     "output_type": "stream",
     "text": [
      "Train: 100%|██████████| 137/137 [00:19<00:00,  6.85batch/s]\n",
      "Valdt: 100%|██████████| 137/137 [00:05<00:00, 26.65batch/s]\n"
     ]
    },
    {
     "name": "stdout",
     "output_type": "stream",
     "text": [
      "Epoch: 60 / 6000, \n",
      "Train -- Loss: 0.004733208916142067, Coeff: 0.033447265625 \n",
      "Val   -- Loss: 0.022880455172013304, Coeff: 0.1337890625 \n",
      "\n",
      "\n"
     ]
    },
    {
     "name": "stderr",
     "output_type": "stream",
     "text": [
      "Train: 100%|██████████| 137/137 [00:20<00:00,  6.83batch/s]\n",
      "Valdt: 100%|██████████| 137/137 [00:05<00:00, 26.71batch/s]\n"
     ]
    },
    {
     "name": "stdout",
     "output_type": "stream",
     "text": [
      "Epoch: 61 / 6000, \n",
      "Train -- Loss: 0.0047867708766686405, Coeff: 0.033447265625 \n",
      "Val   -- Loss: 0.021591716656931645, Coeff: 0.1337890625 \n",
      "\n",
      "\n"
     ]
    },
    {
     "name": "stderr",
     "output_type": "stream",
     "text": [
      "Train: 100%|██████████| 137/137 [00:19<00:00,  6.86batch/s]\n",
      "Valdt: 100%|██████████| 137/137 [00:05<00:00, 26.50batch/s]\n"
     ]
    },
    {
     "name": "stdout",
     "output_type": "stream",
     "text": [
      "Epoch: 62 / 6000, \n",
      "Train -- Loss: 0.0046730572763115435, Coeff: 0.033447265625 \n",
      "Val   -- Loss: 0.022144359465310303, Coeff: 0.1337890625 \n",
      "\n",
      "\n"
     ]
    },
    {
     "name": "stderr",
     "output_type": "stream",
     "text": [
      "Train: 100%|██████████| 137/137 [00:19<00:00,  6.86batch/s]\n",
      "Valdt: 100%|██████████| 137/137 [00:05<00:00, 26.69batch/s]\n"
     ]
    },
    {
     "name": "stdout",
     "output_type": "stream",
     "text": [
      "Epoch: 63 / 6000, \n",
      "Train -- Loss: 0.004627467007162501, Coeff: 0.033447265625 \n",
      "Val   -- Loss: 0.021077774905108648, Coeff: 0.1337890625 \n",
      "\n",
      "\n"
     ]
    },
    {
     "name": "stderr",
     "output_type": "stream",
     "text": [
      "Train: 100%|██████████| 137/137 [00:19<00:00,  6.86batch/s]\n",
      "Valdt: 100%|██████████| 137/137 [00:05<00:00, 26.72batch/s]\n"
     ]
    },
    {
     "name": "stdout",
     "output_type": "stream",
     "text": [
      "Epoch: 64 / 6000, \n",
      "Train -- Loss: 0.004685676334096063, Coeff: 0.033447265625 \n",
      "Val   -- Loss: 0.020936908978901308, Coeff: 0.1337890625 \n",
      "\n",
      "\n"
     ]
    },
    {
     "name": "stderr",
     "output_type": "stream",
     "text": [
      "Train: 100%|██████████| 137/137 [00:21<00:00,  6.42batch/s]\n",
      "Valdt: 100%|██████████| 137/137 [00:05<00:00, 26.56batch/s]\n"
     ]
    },
    {
     "name": "stdout",
     "output_type": "stream",
     "text": [
      "Epoch: 65 / 6000, \n",
      "Train -- Loss: 0.004699911307574592, Coeff: 0.033447265625 \n",
      "Val   -- Loss: 0.02153085711850154, Coeff: 0.1337890625 \n",
      "\n",
      "\n"
     ]
    },
    {
     "name": "stderr",
     "output_type": "stream",
     "text": [
      "Train: 100%|██████████| 137/137 [00:19<00:00,  6.89batch/s]\n",
      "Valdt: 100%|██████████| 137/137 [00:05<00:00, 26.58batch/s]\n"
     ]
    },
    {
     "name": "stdout",
     "output_type": "stream",
     "text": [
      "Epoch: 66 / 6000, \n",
      "Train -- Loss: 0.004579587518247636, Coeff: 0.033447265625 \n",
      "Val   -- Loss: 0.02124582531235781, Coeff: 0.1337890625 \n",
      "\n",
      "\n"
     ]
    },
    {
     "name": "stderr",
     "output_type": "stream",
     "text": [
      "Train: 100%|██████████| 137/137 [00:19<00:00,  6.86batch/s]\n",
      "Valdt: 100%|██████████| 137/137 [00:05<00:00, 26.76batch/s]\n"
     ]
    },
    {
     "name": "stdout",
     "output_type": "stream",
     "text": [
      "Epoch: 67 / 6000, \n",
      "Train -- Loss: 0.004544215242846594, Coeff: 0.033447265625 \n",
      "Val   -- Loss: 0.02171051063865638, Coeff: 0.1337890625 \n",
      "\n",
      "\n"
     ]
    },
    {
     "name": "stderr",
     "output_type": "stream",
     "text": [
      "Train: 100%|██████████| 137/137 [00:20<00:00,  6.83batch/s]\n",
      "Valdt: 100%|██████████| 137/137 [00:05<00:00, 26.63batch/s]\n"
     ]
    },
    {
     "name": "stdout",
     "output_type": "stream",
     "text": [
      "Epoch: 68 / 6000, \n",
      "Train -- Loss: 0.004583770175649777, Coeff: 0.033447265625 \n",
      "Val   -- Loss: 0.02144522717318759, Coeff: 0.1337890625 \n",
      "\n",
      "\n"
     ]
    },
    {
     "name": "stderr",
     "output_type": "stream",
     "text": [
      "Train: 100%|██████████| 137/137 [00:19<00:00,  6.85batch/s]\n",
      "Valdt: 100%|██████████| 137/137 [00:05<00:00, 26.64batch/s]\n"
     ]
    },
    {
     "name": "stdout",
     "output_type": "stream",
     "text": [
      "Epoch: 69 / 6000, \n",
      "Train -- Loss: 0.004972972492823624, Coeff: 0.033447265625 \n",
      "Val   -- Loss: 0.023787710443460494, Coeff: 0.1337890625 \n",
      "\n",
      "\n"
     ]
    },
    {
     "name": "stderr",
     "output_type": "stream",
     "text": [
      "Train: 100%|██████████| 137/137 [00:19<00:00,  6.87batch/s]\n",
      "Valdt: 100%|██████████| 137/137 [00:05<00:00, 26.66batch/s]\n"
     ]
    },
    {
     "name": "stdout",
     "output_type": "stream",
     "text": [
      "Epoch: 70 / 6000, \n",
      "Train -- Loss: 0.004674447959200113, Coeff: 0.033447265625 \n",
      "Val   -- Loss: 0.021619403136185038, Coeff: 0.1337890625 \n",
      "\n",
      "\n"
     ]
    },
    {
     "name": "stderr",
     "output_type": "stream",
     "text": [
      "Train: 100%|██████████| 137/137 [00:20<00:00,  6.83batch/s]\n",
      "Valdt: 100%|██████████| 137/137 [00:05<00:00, 26.79batch/s]\n"
     ]
    },
    {
     "name": "stdout",
     "output_type": "stream",
     "text": [
      "Epoch: 71 / 6000, \n",
      "Train -- Loss: 0.004468706432781751, Coeff: 0.033447265625 \n",
      "Val   -- Loss: 0.02120118304531134, Coeff: 0.1337890625 \n",
      "\n",
      "\n"
     ]
    },
    {
     "name": "stderr",
     "output_type": "stream",
     "text": [
      "Train: 100%|██████████| 137/137 [00:19<00:00,  6.87batch/s]\n",
      "Valdt: 100%|██████████| 137/137 [00:05<00:00, 26.69batch/s]\n"
     ]
    },
    {
     "name": "stdout",
     "output_type": "stream",
     "text": [
      "Epoch: 72 / 6000, \n",
      "Train -- Loss: 0.0045257123092254155, Coeff: 0.033447265625 \n",
      "Val   -- Loss: 0.021065673188775662, Coeff: 0.1337890625 \n",
      "\n",
      "\n"
     ]
    },
    {
     "name": "stderr",
     "output_type": "stream",
     "text": [
      "Train: 100%|██████████| 137/137 [00:19<00:00,  6.87batch/s]\n",
      "Valdt: 100%|██████████| 137/137 [00:05<00:00, 26.64batch/s]\n"
     ]
    },
    {
     "name": "stdout",
     "output_type": "stream",
     "text": [
      "Epoch: 73 / 6000, \n",
      "Train -- Loss: 0.004534522481729211, Coeff: 0.033447265625 \n",
      "Val   -- Loss: 0.02330528700059459, Coeff: 0.1337890625 \n",
      "\n",
      "\n"
     ]
    },
    {
     "name": "stderr",
     "output_type": "stream",
     "text": [
      "Train: 100%|██████████| 137/137 [00:21<00:00,  6.41batch/s]\n",
      "Valdt: 100%|██████████| 137/137 [00:05<00:00, 26.75batch/s]\n"
     ]
    },
    {
     "name": "stdout",
     "output_type": "stream",
     "text": [
      "Epoch: 74 / 6000, \n",
      "Train -- Loss: 0.004582988982508955, Coeff: 0.033447265625 \n",
      "Val   -- Loss: 0.020320439284860138, Coeff: 0.1337890625 \n",
      "\n",
      "\n"
     ]
    },
    {
     "name": "stderr",
     "output_type": "stream",
     "text": [
      "Train: 100%|██████████| 137/137 [00:20<00:00,  6.84batch/s]\n",
      "Valdt: 100%|██████████| 137/137 [00:05<00:00, 26.60batch/s]\n"
     ]
    },
    {
     "name": "stdout",
     "output_type": "stream",
     "text": [
      "Epoch: 75 / 6000, \n",
      "Train -- Loss: 0.004371748564003548, Coeff: 0.033447265625 \n",
      "Val   -- Loss: 0.019970492532623764, Coeff: 0.1337890625 \n",
      "\n",
      "\n"
     ]
    },
    {
     "name": "stderr",
     "output_type": "stream",
     "text": [
      "Train: 100%|██████████| 137/137 [00:19<00:00,  6.86batch/s]\n",
      "Valdt: 100%|██████████| 137/137 [00:05<00:00, 26.56batch/s]\n"
     ]
    },
    {
     "name": "stdout",
     "output_type": "stream",
     "text": [
      "Epoch: 76 / 6000, \n",
      "Train -- Loss: 0.004347324968765401, Coeff: 0.033447265625 \n",
      "Val   -- Loss: 0.021153121954843347, Coeff: 0.1337890625 \n",
      "\n",
      "\n"
     ]
    },
    {
     "name": "stderr",
     "output_type": "stream",
     "text": [
      "Train: 100%|██████████| 137/137 [00:19<00:00,  6.85batch/s]\n",
      "Valdt: 100%|██████████| 137/137 [00:05<00:00, 26.73batch/s]\n"
     ]
    },
    {
     "name": "stdout",
     "output_type": "stream",
     "text": [
      "Epoch: 77 / 6000, \n",
      "Train -- Loss: 0.0043468508429972234, Coeff: 0.033447265625 \n",
      "Val   -- Loss: 0.02105598597698476, Coeff: 0.1337890625 \n",
      "\n",
      "\n"
     ]
    },
    {
     "name": "stderr",
     "output_type": "stream",
     "text": [
      "Train: 100%|██████████| 137/137 [00:20<00:00,  6.85batch/s]\n",
      "Valdt: 100%|██████████| 137/137 [00:05<00:00, 26.63batch/s]\n"
     ]
    },
    {
     "name": "stdout",
     "output_type": "stream",
     "text": [
      "Epoch: 78 / 6000, \n",
      "Train -- Loss: 0.004374098668199368, Coeff: 0.033447265625 \n",
      "Val   -- Loss: 0.021632060378306506, Coeff: 0.1337890625 \n",
      "\n",
      "\n"
     ]
    },
    {
     "name": "stderr",
     "output_type": "stream",
     "text": [
      "Train: 100%|██████████| 137/137 [00:20<00:00,  6.83batch/s]\n",
      "Valdt: 100%|██████████| 137/137 [00:05<00:00, 26.65batch/s]\n"
     ]
    },
    {
     "name": "stdout",
     "output_type": "stream",
     "text": [
      "Epoch: 79 / 6000, \n",
      "Train -- Loss: 0.004552003410797794, Coeff: 0.033447265625 \n",
      "Val   -- Loss: 0.020376654914904962, Coeff: 0.1337890625 \n",
      "\n",
      "\n"
     ]
    },
    {
     "name": "stderr",
     "output_type": "stream",
     "text": [
      "Train: 100%|██████████| 137/137 [00:19<00:00,  6.85batch/s]\n",
      "Valdt: 100%|██████████| 137/137 [00:05<00:00, 26.54batch/s]\n"
     ]
    },
    {
     "name": "stdout",
     "output_type": "stream",
     "text": [
      "Epoch: 80 / 6000, \n",
      "Train -- Loss: 0.004300921234762136, Coeff: 0.033447265625 \n",
      "Val   -- Loss: 0.02087425913099292, Coeff: 0.1337890625 \n",
      "\n",
      "\n"
     ]
    },
    {
     "name": "stderr",
     "output_type": "stream",
     "text": [
      "Train: 100%|██████████| 137/137 [00:20<00:00,  6.84batch/s]\n",
      "Valdt: 100%|██████████| 137/137 [00:05<00:00, 26.59batch/s]\n"
     ]
    },
    {
     "name": "stdout",
     "output_type": "stream",
     "text": [
      "Epoch: 81 / 6000, \n",
      "Train -- Loss: 0.004232526119646576, Coeff: 0.033447265625 \n",
      "Val   -- Loss: 0.019981357916674776, Coeff: 0.1337890625 \n",
      "\n",
      "\n"
     ]
    },
    {
     "name": "stderr",
     "output_type": "stream",
     "text": [
      "Train: 100%|██████████| 137/137 [00:21<00:00,  6.42batch/s]\n",
      "Valdt: 100%|██████████| 137/137 [00:05<00:00, 26.70batch/s]\n"
     ]
    },
    {
     "name": "stdout",
     "output_type": "stream",
     "text": [
      "Epoch: 82 / 6000, \n",
      "Train -- Loss: 0.004291365771671624, Coeff: 0.033447265625 \n",
      "Val   -- Loss: 0.019826708893154025, Coeff: 0.1337890625 \n",
      "\n",
      "\n"
     ]
    },
    {
     "name": "stderr",
     "output_type": "stream",
     "text": [
      "Train: 100%|██████████| 137/137 [00:19<00:00,  6.87batch/s]\n",
      "Valdt: 100%|██████████| 137/137 [00:05<00:00, 26.77batch/s]\n"
     ]
    },
    {
     "name": "stdout",
     "output_type": "stream",
     "text": [
      "Epoch: 83 / 6000, \n",
      "Train -- Loss: 0.004209257131308683, Coeff: 0.033447265625 \n",
      "Val   -- Loss: 0.02011441902892572, Coeff: 0.1337890625 \n",
      "\n",
      "\n"
     ]
    },
    {
     "name": "stderr",
     "output_type": "stream",
     "text": [
      "Train: 100%|██████████| 137/137 [00:19<00:00,  6.87batch/s]\n",
      "Valdt: 100%|██████████| 137/137 [00:05<00:00, 26.77batch/s]\n"
     ]
    },
    {
     "name": "stdout",
     "output_type": "stream",
     "text": [
      "Epoch: 84 / 6000, \n",
      "Train -- Loss: 0.0048305076518850975, Coeff: 0.033447265625 \n",
      "Val   -- Loss: 0.02354397100622352, Coeff: 0.1337890625 \n",
      "\n",
      "\n"
     ]
    },
    {
     "name": "stderr",
     "output_type": "stream",
     "text": [
      "Train: 100%|██████████| 137/137 [00:19<00:00,  6.88batch/s]\n",
      "Valdt: 100%|██████████| 137/137 [00:05<00:00, 26.54batch/s]\n"
     ]
    },
    {
     "name": "stdout",
     "output_type": "stream",
     "text": [
      "Epoch: 85 / 6000, \n",
      "Train -- Loss: 0.004510262902127683, Coeff: 0.033447265625 \n",
      "Val   -- Loss: 0.02024165676277552, Coeff: 0.1337890625 \n",
      "\n",
      "\n"
     ]
    },
    {
     "name": "stderr",
     "output_type": "stream",
     "text": [
      "Train: 100%|██████████| 137/137 [00:19<00:00,  6.86batch/s]\n",
      "Valdt: 100%|██████████| 137/137 [00:05<00:00, 26.69batch/s]\n"
     ]
    },
    {
     "name": "stdout",
     "output_type": "stream",
     "text": [
      "Epoch: 86 / 6000, \n",
      "Train -- Loss: 0.004242970227046177, Coeff: 0.033447265625 \n",
      "Val   -- Loss: 0.02012996546787654, Coeff: 0.1337890625 \n",
      "\n",
      "\n"
     ]
    },
    {
     "name": "stderr",
     "output_type": "stream",
     "text": [
      "Train: 100%|██████████| 137/137 [00:19<00:00,  6.88batch/s]\n",
      "Valdt: 100%|██████████| 137/137 [00:05<00:00, 26.62batch/s]\n"
     ]
    },
    {
     "name": "stdout",
     "output_type": "stream",
     "text": [
      "Epoch: 87 / 6000, \n",
      "Train -- Loss: 0.004278842089281091, Coeff: 0.033447265625 \n",
      "Val   -- Loss: 0.01953451411180341, Coeff: 0.1337890625 \n",
      "\n",
      "\n"
     ]
    },
    {
     "name": "stderr",
     "output_type": "stream",
     "text": [
      "Train: 100%|██████████| 137/137 [00:19<00:00,  6.87batch/s]\n",
      "Valdt: 100%|██████████| 137/137 [00:05<00:00, 26.64batch/s]\n"
     ]
    },
    {
     "name": "stdout",
     "output_type": "stream",
     "text": [
      "Epoch: 88 / 6000, \n",
      "Train -- Loss: 0.0041269889998547865, Coeff: 0.033447265625 \n",
      "Val   -- Loss: 0.019632973301221348, Coeff: 0.1337890625 \n",
      "\n",
      "\n"
     ]
    },
    {
     "name": "stderr",
     "output_type": "stream",
     "text": [
      "Train: 100%|██████████| 137/137 [00:19<00:00,  6.88batch/s]\n",
      "Valdt: 100%|██████████| 137/137 [00:05<00:00, 26.73batch/s]\n"
     ]
    },
    {
     "name": "stdout",
     "output_type": "stream",
     "text": [
      "Epoch: 89 / 6000, \n",
      "Train -- Loss: 0.004137349454530617, Coeff: 0.033447265625 \n",
      "Val   -- Loss: 0.01958519149754993, Coeff: 0.1337890625 \n",
      "\n",
      "\n"
     ]
    },
    {
     "name": "stderr",
     "output_type": "stream",
     "text": [
      "Train: 100%|██████████| 137/137 [00:19<00:00,  6.87batch/s]\n",
      "Valdt: 100%|██████████| 137/137 [00:05<00:00, 26.76batch/s]\n"
     ]
    },
    {
     "name": "stdout",
     "output_type": "stream",
     "text": [
      "Epoch: 90 / 6000, \n",
      "Train -- Loss: 0.004137200987283352, Coeff: 0.033447265625 \n",
      "Val   -- Loss: 0.01950634201057261, Coeff: 0.1337890625 \n",
      "\n",
      "\n"
     ]
    },
    {
     "name": "stderr",
     "output_type": "stream",
     "text": [
      "Train: 100%|██████████| 137/137 [00:21<00:00,  6.42batch/s]\n",
      "Valdt: 100%|██████████| 137/137 [00:05<00:00, 26.64batch/s]\n"
     ]
    },
    {
     "name": "stdout",
     "output_type": "stream",
     "text": [
      "Epoch: 91 / 6000, \n",
      "Train -- Loss: 0.004121436062035878, Coeff: 0.033447265625 \n",
      "Val   -- Loss: 0.019289017859810968, Coeff: 0.1337890625 \n",
      "\n",
      "\n"
     ]
    },
    {
     "name": "stderr",
     "output_type": "stream",
     "text": [
      "Train: 100%|██████████| 137/137 [00:20<00:00,  6.83batch/s]\n",
      "Valdt: 100%|██████████| 137/137 [00:05<00:00, 26.64batch/s]\n"
     ]
    },
    {
     "name": "stdout",
     "output_type": "stream",
     "text": [
      "Epoch: 92 / 6000, \n",
      "Train -- Loss: 0.004084152749615781, Coeff: 0.033447265625 \n",
      "Val   -- Loss: 0.019837307182496572, Coeff: 0.1337890625 \n",
      "\n",
      "\n"
     ]
    },
    {
     "name": "stderr",
     "output_type": "stream",
     "text": [
      "Train: 100%|██████████| 137/137 [00:19<00:00,  6.86batch/s]\n",
      "Valdt: 100%|██████████| 137/137 [00:05<00:00, 26.61batch/s]\n"
     ]
    },
    {
     "name": "stdout",
     "output_type": "stream",
     "text": [
      "Epoch: 93 / 6000, \n",
      "Train -- Loss: 0.00429461354316521, Coeff: 0.033447265625 \n",
      "Val   -- Loss: 0.021521986031164807, Coeff: 0.1337890625 \n",
      "\n",
      "\n"
     ]
    },
    {
     "name": "stderr",
     "output_type": "stream",
     "text": [
      "Train: 100%|██████████| 137/137 [00:19<00:00,  6.85batch/s]\n",
      "Valdt: 100%|██████████| 137/137 [00:05<00:00, 26.70batch/s]\n"
     ]
    },
    {
     "name": "stdout",
     "output_type": "stream",
     "text": [
      "Epoch: 94 / 6000, \n",
      "Train -- Loss: 0.004262395291988729, Coeff: 0.033447265625 \n",
      "Val   -- Loss: 0.019308367131417196, Coeff: 0.1337890625 \n",
      "\n",
      "\n"
     ]
    },
    {
     "name": "stderr",
     "output_type": "stream",
     "text": [
      "Train: 100%|██████████| 137/137 [00:19<00:00,  6.86batch/s]\n",
      "Valdt: 100%|██████████| 137/137 [00:05<00:00, 26.76batch/s]\n"
     ]
    },
    {
     "name": "stdout",
     "output_type": "stream",
     "text": [
      "Epoch: 95 / 6000, \n",
      "Train -- Loss: 0.004012883692600049, Coeff: 0.033447265625 \n",
      "Val   -- Loss: 0.01940904794898321, Coeff: 0.1337890625 \n",
      "\n",
      "\n"
     ]
    },
    {
     "name": "stderr",
     "output_type": "stream",
     "text": [
      "Train: 100%|██████████| 137/137 [00:19<00:00,  6.85batch/s]\n",
      "Valdt: 100%|██████████| 137/137 [00:05<00:00, 26.72batch/s]\n"
     ]
    },
    {
     "name": "stdout",
     "output_type": "stream",
     "text": [
      "Epoch: 96 / 6000, \n",
      "Train -- Loss: 0.004087361393313587, Coeff: 0.033447265625 \n",
      "Val   -- Loss: 0.018724969751513863, Coeff: 0.1337890625 \n",
      "\n",
      "\n"
     ]
    },
    {
     "name": "stderr",
     "output_type": "stream",
     "text": [
      "Train: 100%|██████████| 137/137 [00:19<00:00,  6.88batch/s]\n",
      "Valdt: 100%|██████████| 137/137 [00:05<00:00, 26.49batch/s]\n"
     ]
    },
    {
     "name": "stdout",
     "output_type": "stream",
     "text": [
      "Epoch: 97 / 6000, \n",
      "Train -- Loss: 0.003977337980569142, Coeff: 0.033447265625 \n",
      "Val   -- Loss: 0.018950507443346323, Coeff: 0.1337890625 \n",
      "\n",
      "\n"
     ]
    },
    {
     "name": "stderr",
     "output_type": "stream",
     "text": [
      "Train: 100%|██████████| 137/137 [00:19<00:00,  6.86batch/s]\n",
      "Valdt: 100%|██████████| 137/137 [00:05<00:00, 26.68batch/s]\n"
     ]
    },
    {
     "name": "stdout",
     "output_type": "stream",
     "text": [
      "Epoch: 98 / 6000, \n",
      "Train -- Loss: 0.003965816474302402, Coeff: 0.033447265625 \n",
      "Val   -- Loss: 0.01886825570778821, Coeff: 0.1337890625 \n",
      "\n",
      "\n"
     ]
    },
    {
     "name": "stderr",
     "output_type": "stream",
     "text": [
      "Train: 100%|██████████| 137/137 [00:21<00:00,  6.42batch/s]\n",
      "Valdt: 100%|██████████| 137/137 [00:05<00:00, 26.54batch/s]\n"
     ]
    },
    {
     "name": "stdout",
     "output_type": "stream",
     "text": [
      "Epoch: 99 / 6000, \n",
      "Train -- Loss: 0.003948908547652124, Coeff: 0.033447265625 \n",
      "Val   -- Loss: 0.01901335160578098, Coeff: 0.1337890625 \n",
      "\n",
      "\n"
     ]
    },
    {
     "name": "stderr",
     "output_type": "stream",
     "text": [
      "Train: 100%|██████████| 137/137 [00:19<00:00,  6.85batch/s]\n",
      "Valdt: 100%|██████████| 137/137 [00:05<00:00, 26.59batch/s]\n"
     ]
    },
    {
     "name": "stdout",
     "output_type": "stream",
     "text": [
      "Epoch: 100 / 6000, \n",
      "Train -- Loss: 0.004114919863762508, Coeff: 0.033447265625 \n",
      "Val   -- Loss: 0.01973686905215045, Coeff: 0.1337890625 \n",
      "\n",
      "\n"
     ]
    },
    {
     "name": "stderr",
     "output_type": "stream",
     "text": [
      "Train: 100%|██████████| 137/137 [00:19<00:00,  6.85batch/s]\n",
      "Valdt: 100%|██████████| 137/137 [00:05<00:00, 26.54batch/s]\n"
     ]
    },
    {
     "name": "stdout",
     "output_type": "stream",
     "text": [
      "Epoch: 101 / 6000, \n",
      "Train -- Loss: 0.004049121444577266, Coeff: 0.033447265625 \n",
      "Val   -- Loss: 0.019803579546056382, Coeff: 0.1337890625 \n",
      "\n",
      "\n"
     ]
    },
    {
     "name": "stderr",
     "output_type": "stream",
     "text": [
      "Train: 100%|██████████| 137/137 [00:20<00:00,  6.85batch/s]\n",
      "Valdt: 100%|██████████| 137/137 [00:05<00:00, 26.63batch/s]\n"
     ]
    },
    {
     "name": "stdout",
     "output_type": "stream",
     "text": [
      "Epoch: 102 / 6000, \n",
      "Train -- Loss: 0.004023871213244521, Coeff: 0.033447265625 \n",
      "Val   -- Loss: 0.018463872324599732, Coeff: 0.1337890625 \n",
      "\n",
      "\n"
     ]
    },
    {
     "name": "stderr",
     "output_type": "stream",
     "text": [
      "Train: 100%|██████████| 137/137 [00:20<00:00,  6.84batch/s]\n",
      "Valdt: 100%|██████████| 137/137 [00:05<00:00, 26.72batch/s]\n"
     ]
    },
    {
     "name": "stdout",
     "output_type": "stream",
     "text": [
      "Epoch: 103 / 6000, \n",
      "Train -- Loss: 0.003954487451012576, Coeff: 0.033447265625 \n",
      "Val   -- Loss: 0.018837357236294917, Coeff: 0.1337890625 \n",
      "\n",
      "\n"
     ]
    },
    {
     "name": "stderr",
     "output_type": "stream",
     "text": [
      "Train: 100%|██████████| 137/137 [00:19<00:00,  6.87batch/s]\n",
      "Valdt: 100%|██████████| 137/137 [00:05<00:00, 26.61batch/s]\n"
     ]
    },
    {
     "name": "stdout",
     "output_type": "stream",
     "text": [
      "Epoch: 104 / 6000, \n",
      "Train -- Loss: 0.0039092189443613295, Coeff: 0.033447265625 \n",
      "Val   -- Loss: 0.019036349423840155, Coeff: 0.1337890625 \n",
      "\n",
      "\n"
     ]
    },
    {
     "name": "stderr",
     "output_type": "stream",
     "text": [
      "Train: 100%|██████████| 137/137 [00:19<00:00,  6.87batch/s]\n",
      "Valdt: 100%|██████████| 137/137 [00:05<00:00, 26.64batch/s]\n"
     ]
    },
    {
     "name": "stdout",
     "output_type": "stream",
     "text": [
      "Epoch: 105 / 6000, \n",
      "Train -- Loss: 0.0038957055376265433, Coeff: 0.033447265625 \n",
      "Val   -- Loss: 0.01886798629980015, Coeff: 0.1337890625 \n",
      "\n",
      "\n"
     ]
    },
    {
     "name": "stderr",
     "output_type": "stream",
     "text": [
      "Train: 100%|██████████| 137/137 [00:19<00:00,  6.86batch/s]\n",
      "Valdt: 100%|██████████| 137/137 [00:05<00:00, 26.74batch/s]\n"
     ]
    },
    {
     "name": "stdout",
     "output_type": "stream",
     "text": [
      "Epoch: 106 / 6000, \n",
      "Train -- Loss: 0.0038542330922107077, Coeff: 0.033447265625 \n",
      "Val   -- Loss: 0.01933358733994217, Coeff: 0.1337890625 \n",
      "\n",
      "\n"
     ]
    },
    {
     "name": "stderr",
     "output_type": "stream",
     "text": [
      "Train: 100%|██████████| 137/137 [00:19<00:00,  6.86batch/s]\n",
      "Valdt: 100%|██████████| 137/137 [00:05<00:00, 26.64batch/s]\n"
     ]
    },
    {
     "name": "stdout",
     "output_type": "stream",
     "text": [
      "Epoch: 107 / 6000, \n",
      "Train -- Loss: 0.0040559522332964575, Coeff: 0.033447265625 \n",
      "Val   -- Loss: 0.019901864059100313, Coeff: 0.1337890625 \n",
      "\n",
      "\n"
     ]
    },
    {
     "name": "stderr",
     "output_type": "stream",
     "text": [
      "Train: 100%|██████████| 137/137 [00:21<00:00,  6.44batch/s]\n",
      "Valdt: 100%|██████████| 137/137 [00:05<00:00, 26.72batch/s]\n"
     ]
    },
    {
     "name": "stdout",
     "output_type": "stream",
     "text": [
      "Epoch: 108 / 6000, \n",
      "Train -- Loss: 0.003941090872775305, Coeff: 0.033447265625 \n",
      "Val   -- Loss: 0.018765163376342552, Coeff: 0.1337890625 \n",
      "\n",
      "\n"
     ]
    },
    {
     "name": "stderr",
     "output_type": "stream",
     "text": [
      "Train: 100%|██████████| 137/137 [00:20<00:00,  6.84batch/s]\n",
      "Valdt: 100%|██████████| 137/137 [00:05<00:00, 26.67batch/s]\n"
     ]
    },
    {
     "name": "stdout",
     "output_type": "stream",
     "text": [
      "Epoch: 109 / 6000, \n",
      "Train -- Loss: 0.003913933463675172, Coeff: 0.033447265625 \n",
      "Val   -- Loss: 0.020635636553442388, Coeff: 0.1337890625 \n",
      "\n",
      "\n"
     ]
    },
    {
     "name": "stderr",
     "output_type": "stream",
     "text": [
      "Train: 100%|██████████| 137/137 [00:19<00:00,  6.85batch/s]\n",
      "Valdt: 100%|██████████| 137/137 [00:05<00:00, 26.54batch/s]\n"
     ]
    },
    {
     "name": "stdout",
     "output_type": "stream",
     "text": [
      "Epoch: 110 / 6000, \n",
      "Train -- Loss: 0.0039182146670523185, Coeff: 0.033447265625 \n",
      "Val   -- Loss: 0.018232199729385386, Coeff: 0.1337890625 \n",
      "\n",
      "\n"
     ]
    },
    {
     "name": "stderr",
     "output_type": "stream",
     "text": [
      "Train: 100%|██████████| 137/137 [00:19<00:00,  6.85batch/s]\n",
      "Valdt: 100%|██████████| 137/137 [00:05<00:00, 26.63batch/s]\n"
     ]
    },
    {
     "name": "stdout",
     "output_type": "stream",
     "text": [
      "Epoch: 111 / 6000, \n",
      "Train -- Loss: 0.003842232213673759, Coeff: 0.033447265625 \n",
      "Val   -- Loss: 0.019059379274207925, Coeff: 0.1337890625 \n",
      "\n",
      "\n"
     ]
    },
    {
     "name": "stderr",
     "output_type": "stream",
     "text": [
      "Train: 100%|██████████| 137/137 [00:20<00:00,  6.85batch/s]\n",
      "Valdt: 100%|██████████| 137/137 [00:05<00:00, 26.66batch/s]\n"
     ]
    },
    {
     "name": "stdout",
     "output_type": "stream",
     "text": [
      "Epoch: 112 / 6000, \n",
      "Train -- Loss: 0.0038055218986492558, Coeff: 0.033447265625 \n",
      "Val   -- Loss: 0.018714060305713008, Coeff: 0.1337890625 \n",
      "\n",
      "\n"
     ]
    },
    {
     "name": "stderr",
     "output_type": "stream",
     "text": [
      "Train: 100%|██████████| 137/137 [00:19<00:00,  6.86batch/s]\n",
      "Valdt: 100%|██████████| 137/137 [00:05<00:00, 26.59batch/s]\n"
     ]
    },
    {
     "name": "stdout",
     "output_type": "stream",
     "text": [
      "Epoch: 113 / 6000, \n",
      "Train -- Loss: 0.0038023252681908875, Coeff: 0.033447265625 \n",
      "Val   -- Loss: 0.019129201606010313, Coeff: 0.1337890625 \n",
      "\n",
      "\n"
     ]
    },
    {
     "name": "stderr",
     "output_type": "stream",
     "text": [
      "Train: 100%|██████████| 137/137 [00:20<00:00,  6.84batch/s]\n",
      "Valdt: 100%|██████████| 137/137 [00:05<00:00, 26.71batch/s]\n"
     ]
    },
    {
     "name": "stdout",
     "output_type": "stream",
     "text": [
      "Epoch: 114 / 6000, \n",
      "Train -- Loss: 0.0037657370278877185, Coeff: 0.033447265625 \n",
      "Val   -- Loss: 0.01983073346673466, Coeff: 0.1337890625 \n",
      "\n",
      "\n"
     ]
    },
    {
     "name": "stderr",
     "output_type": "stream",
     "text": [
      "Train: 100%|██████████| 137/137 [00:20<00:00,  6.84batch/s]\n",
      "Valdt: 100%|██████████| 137/137 [00:05<00:00, 26.66batch/s]\n"
     ]
    },
    {
     "name": "stdout",
     "output_type": "stream",
     "text": [
      "Epoch: 115 / 6000, \n",
      "Train -- Loss: 0.003800812664188312, Coeff: 0.033447265625 \n",
      "Val   -- Loss: 0.019171585408671327, Coeff: 0.1337890625 \n",
      "\n",
      "\n"
     ]
    },
    {
     "name": "stderr",
     "output_type": "stream",
     "text": [
      "Train: 100%|██████████| 137/137 [00:20<00:00,  6.83batch/s]\n",
      "Valdt: 100%|██████████| 137/137 [00:05<00:00, 26.61batch/s]\n"
     ]
    },
    {
     "name": "stdout",
     "output_type": "stream",
     "text": [
      "Epoch: 116 / 6000, \n",
      "Train -- Loss: 0.003735957349102098, Coeff: 0.033447265625 \n",
      "Val   -- Loss: 0.017953321076587248, Coeff: 0.1337890625 \n",
      "\n",
      "\n"
     ]
    },
    {
     "name": "stderr",
     "output_type": "stream",
     "text": [
      "Train: 100%|██████████| 137/137 [00:21<00:00,  6.42batch/s]\n",
      "Valdt: 100%|██████████| 137/137 [00:05<00:00, 26.68batch/s]\n"
     ]
    },
    {
     "name": "stdout",
     "output_type": "stream",
     "text": [
      "Epoch: 117 / 6000, \n",
      "Train -- Loss: 0.0037371363782732333, Coeff: 0.033447265625 \n",
      "Val   -- Loss: 0.01927671293656988, Coeff: 0.1337890625 \n",
      "\n",
      "\n"
     ]
    },
    {
     "name": "stderr",
     "output_type": "stream",
     "text": [
      "Train: 100%|██████████| 137/137 [00:19<00:00,  6.87batch/s]\n",
      "Valdt: 100%|██████████| 137/137 [00:05<00:00, 26.67batch/s]\n"
     ]
    },
    {
     "name": "stdout",
     "output_type": "stream",
     "text": [
      "Epoch: 118 / 6000, \n",
      "Train -- Loss: 0.0037691538789496066, Coeff: 0.033447265625 \n",
      "Val   -- Loss: 0.01870862977957514, Coeff: 0.1337890625 \n",
      "\n",
      "\n"
     ]
    },
    {
     "name": "stderr",
     "output_type": "stream",
     "text": [
      "Train: 100%|██████████| 137/137 [00:19<00:00,  6.86batch/s]\n",
      "Valdt: 100%|██████████| 137/137 [00:05<00:00, 26.74batch/s]\n"
     ]
    },
    {
     "name": "stdout",
     "output_type": "stream",
     "text": [
      "Epoch: 119 / 6000, \n",
      "Train -- Loss: 0.003681020045995379, Coeff: 0.033447265625 \n",
      "Val   -- Loss: 0.017520051845722775, Coeff: 0.1337890625 \n",
      "\n",
      "\n"
     ]
    },
    {
     "name": "stderr",
     "output_type": "stream",
     "text": [
      "Train: 100%|██████████| 137/137 [00:19<00:00,  6.86batch/s]\n",
      "Valdt: 100%|██████████| 137/137 [00:05<00:00, 26.61batch/s]\n"
     ]
    },
    {
     "name": "stdout",
     "output_type": "stream",
     "text": [
      "Epoch: 120 / 6000, \n",
      "Train -- Loss: 0.0036364425356626693, Coeff: 0.033447265625 \n",
      "Val   -- Loss: 0.017424894843443055, Coeff: 0.1337890625 \n",
      "\n",
      "\n"
     ]
    },
    {
     "name": "stderr",
     "output_type": "stream",
     "text": [
      "Train: 100%|██████████| 137/137 [00:20<00:00,  6.85batch/s]\n",
      "Valdt: 100%|██████████| 137/137 [00:05<00:00, 26.71batch/s]\n"
     ]
    },
    {
     "name": "stdout",
     "output_type": "stream",
     "text": [
      "Epoch: 121 / 6000, \n",
      "Train -- Loss: 0.0035851219252742636, Coeff: 0.033447265625 \n",
      "Val   -- Loss: 0.017585283171351575, Coeff: 0.1337890625 \n",
      "\n",
      "\n"
     ]
    },
    {
     "name": "stderr",
     "output_type": "stream",
     "text": [
      "Train: 100%|██████████| 137/137 [00:20<00:00,  6.85batch/s]\n",
      "Valdt: 100%|██████████| 137/137 [00:05<00:00, 26.57batch/s]\n"
     ]
    },
    {
     "name": "stdout",
     "output_type": "stream",
     "text": [
      "Epoch: 122 / 6000, \n",
      "Train -- Loss: 0.0036319551171514293, Coeff: 0.033447265625 \n",
      "Val   -- Loss: 0.01754610318439431, Coeff: 0.1337890625 \n",
      "\n",
      "\n"
     ]
    },
    {
     "name": "stderr",
     "output_type": "stream",
     "text": [
      "Train: 100%|██████████| 137/137 [00:19<00:00,  6.86batch/s]\n",
      "Valdt: 100%|██████████| 137/137 [00:05<00:00, 26.60batch/s]\n"
     ]
    },
    {
     "name": "stdout",
     "output_type": "stream",
     "text": [
      "Epoch: 123 / 6000, \n",
      "Train -- Loss: 0.0036530434796744385, Coeff: 0.033447265625 \n",
      "Val   -- Loss: 0.018988882212512482, Coeff: 0.1337890625 \n",
      "\n",
      "\n"
     ]
    },
    {
     "name": "stderr",
     "output_type": "stream",
     "text": [
      "Train: 100%|██████████| 137/137 [00:19<00:00,  6.88batch/s]\n",
      "Valdt: 100%|██████████| 137/137 [00:05<00:00, 26.62batch/s]\n"
     ]
    },
    {
     "name": "stdout",
     "output_type": "stream",
     "text": [
      "Epoch: 124 / 6000, \n",
      "Train -- Loss: 0.0036967238899193807, Coeff: 0.033447265625 \n",
      "Val   -- Loss: 0.017423461281201754, Coeff: 0.1337890625 \n",
      "\n",
      "\n"
     ]
    },
    {
     "name": "stderr",
     "output_type": "stream",
     "text": [
      "Train: 100%|██████████| 137/137 [00:21<00:00,  6.43batch/s]\n",
      "Valdt: 100%|██████████| 137/137 [00:05<00:00, 26.66batch/s]\n"
     ]
    },
    {
     "name": "stdout",
     "output_type": "stream",
     "text": [
      "Epoch: 125 / 6000, \n",
      "Train -- Loss: 0.003690086314232607, Coeff: 0.033447265625 \n",
      "Val   -- Loss: 0.022445480453479088, Coeff: 0.1337890625 \n",
      "\n",
      "\n"
     ]
    },
    {
     "name": "stderr",
     "output_type": "stream",
     "text": [
      "Train: 100%|██████████| 137/137 [00:20<00:00,  6.83batch/s]\n",
      "Valdt: 100%|██████████| 137/137 [00:05<00:00, 26.51batch/s]\n"
     ]
    },
    {
     "name": "stdout",
     "output_type": "stream",
     "text": [
      "Epoch: 126 / 6000, \n",
      "Train -- Loss: 0.00406526149337875, Coeff: 0.033447265625 \n",
      "Val   -- Loss: 0.017889255282183117, Coeff: 0.1337890625 \n",
      "\n",
      "\n"
     ]
    },
    {
     "name": "stderr",
     "output_type": "stream",
     "text": [
      "Train: 100%|██████████| 137/137 [00:19<00:00,  6.85batch/s]\n",
      "Valdt: 100%|██████████| 137/137 [00:05<00:00, 26.62batch/s]\n"
     ]
    },
    {
     "name": "stdout",
     "output_type": "stream",
     "text": [
      "Epoch: 127 / 6000, \n",
      "Train -- Loss: 0.003473051453077077, Coeff: 0.033447265625 \n",
      "Val   -- Loss: 0.016437640178882627, Coeff: 0.1337890625 \n",
      "\n",
      "\n"
     ]
    },
    {
     "name": "stderr",
     "output_type": "stream",
     "text": [
      "Train: 100%|██████████| 137/137 [00:20<00:00,  6.84batch/s]\n",
      "Valdt: 100%|██████████| 137/137 [00:05<00:00, 26.49batch/s]\n"
     ]
    },
    {
     "name": "stdout",
     "output_type": "stream",
     "text": [
      "Epoch: 128 / 6000, \n",
      "Train -- Loss: 0.0033235000824083723, Coeff: 0.033447265625 \n",
      "Val   -- Loss: 0.016542133416275535, Coeff: 0.1337890625 \n",
      "\n",
      "\n"
     ]
    },
    {
     "name": "stderr",
     "output_type": "stream",
     "text": [
      "Train: 100%|██████████| 137/137 [00:19<00:00,  6.86batch/s]\n",
      "Valdt: 100%|██████████| 137/137 [00:05<00:00, 26.62batch/s]\n"
     ]
    },
    {
     "name": "stdout",
     "output_type": "stream",
     "text": [
      "Epoch: 129 / 6000, \n",
      "Train -- Loss: 0.0033890630890051356, Coeff: 0.033447265625 \n",
      "Val   -- Loss: 0.01660485501945667, Coeff: 0.1337890625 \n",
      "\n",
      "\n"
     ]
    },
    {
     "name": "stderr",
     "output_type": "stream",
     "text": [
      "Train: 100%|██████████| 137/137 [00:20<00:00,  6.84batch/s]\n",
      "Valdt: 100%|██████████| 137/137 [00:05<00:00, 26.58batch/s]\n"
     ]
    },
    {
     "name": "stdout",
     "output_type": "stream",
     "text": [
      "Epoch: 130 / 6000, \n",
      "Train -- Loss: 0.0034017218399632404, Coeff: 0.033447265625 \n",
      "Val   -- Loss: 0.01610963469580958, Coeff: 0.1337890625 \n",
      "\n",
      "\n"
     ]
    },
    {
     "name": "stderr",
     "output_type": "stream",
     "text": [
      "Train: 100%|██████████| 137/137 [00:19<00:00,  6.85batch/s]\n",
      "Valdt: 100%|██████████| 137/137 [00:05<00:00, 26.71batch/s]\n"
     ]
    },
    {
     "name": "stdout",
     "output_type": "stream",
     "text": [
      "Epoch: 131 / 6000, \n",
      "Train -- Loss: 0.003308158994627783, Coeff: 0.033447265625 \n",
      "Val   -- Loss: 0.01674101731824557, Coeff: 0.1337890625 \n",
      "\n",
      "\n"
     ]
    },
    {
     "name": "stderr",
     "output_type": "stream",
     "text": [
      "Train: 100%|██████████| 137/137 [00:20<00:00,  6.84batch/s]\n",
      "Valdt: 100%|██████████| 137/137 [00:05<00:00, 26.59batch/s]\n"
     ]
    },
    {
     "name": "stdout",
     "output_type": "stream",
     "text": [
      "Epoch: 132 / 6000, \n",
      "Train -- Loss: 0.003260085120982435, Coeff: 0.033447265625 \n",
      "Val   -- Loss: 0.016565451320703004, Coeff: 0.1337890625 \n",
      "\n",
      "\n"
     ]
    },
    {
     "name": "stderr",
     "output_type": "stream",
     "text": [
      "Train: 100%|██████████| 137/137 [00:19<00:00,  6.87batch/s]\n",
      "Valdt: 100%|██████████| 137/137 [00:05<00:00, 26.61batch/s]\n"
     ]
    },
    {
     "name": "stdout",
     "output_type": "stream",
     "text": [
      "Epoch: 133 / 6000, \n",
      "Train -- Loss: 0.003367518831580681, Coeff: 0.033447265625 \n",
      "Val   -- Loss: 0.0173807925769182, Coeff: 0.1337890625 \n",
      "\n",
      "\n"
     ]
    },
    {
     "name": "stderr",
     "output_type": "stream",
     "text": [
      "Train: 100%|██████████| 137/137 [00:21<00:00,  6.43batch/s]\n",
      "Valdt: 100%|██████████| 137/137 [00:05<00:00, 26.70batch/s]\n"
     ]
    },
    {
     "name": "stdout",
     "output_type": "stream",
     "text": [
      "Epoch: 134 / 6000, \n",
      "Train -- Loss: 0.003974623265611569, Coeff: 0.033447265625 \n",
      "Val   -- Loss: 0.016722499752492598, Coeff: 0.1337890625 \n",
      "\n",
      "\n"
     ]
    },
    {
     "name": "stderr",
     "output_type": "stream",
     "text": [
      "Train: 100%|██████████| 137/137 [00:20<00:00,  6.85batch/s]\n",
      "Valdt: 100%|██████████| 137/137 [00:05<00:00, 26.60batch/s]\n"
     ]
    },
    {
     "name": "stdout",
     "output_type": "stream",
     "text": [
      "Epoch: 135 / 6000, \n",
      "Train -- Loss: 0.0032355741462963606, Coeff: 0.033447265625 \n",
      "Val   -- Loss: 0.016117549536128012, Coeff: 0.1337890625 \n",
      "\n",
      "\n"
     ]
    },
    {
     "name": "stderr",
     "output_type": "stream",
     "text": [
      "Train: 100%|██████████| 137/137 [00:20<00:00,  6.84batch/s]\n",
      "Valdt: 100%|██████████| 137/137 [00:05<00:00, 26.54batch/s]\n"
     ]
    },
    {
     "name": "stdout",
     "output_type": "stream",
     "text": [
      "Epoch: 136 / 6000, \n",
      "Train -- Loss: 0.003194982653310192, Coeff: 0.033447265625 \n",
      "Val   -- Loss: 0.015644749517147706, Coeff: 0.1337890625 \n",
      "\n",
      "\n"
     ]
    },
    {
     "name": "stderr",
     "output_type": "stream",
     "text": [
      "Train: 100%|██████████| 137/137 [00:19<00:00,  6.85batch/s]\n",
      "Valdt: 100%|██████████| 137/137 [00:05<00:00, 26.57batch/s]\n"
     ]
    },
    {
     "name": "stdout",
     "output_type": "stream",
     "text": [
      "Epoch: 137 / 6000, \n",
      "Train -- Loss: 0.00311768487973284, Coeff: 0.033447265625 \n",
      "Val   -- Loss: 0.015680354201951897, Coeff: 0.1337890625 \n",
      "\n",
      "\n"
     ]
    },
    {
     "name": "stderr",
     "output_type": "stream",
     "text": [
      "Train: 100%|██████████| 137/137 [00:19<00:00,  6.86batch/s]\n",
      "Valdt: 100%|██████████| 137/137 [00:05<00:00, 26.56batch/s]\n"
     ]
    },
    {
     "name": "stdout",
     "output_type": "stream",
     "text": [
      "Epoch: 138 / 6000, \n",
      "Train -- Loss: 0.003160181778135036, Coeff: 0.033447265625 \n",
      "Val   -- Loss: 0.015590151594894979, Coeff: 0.1337890625 \n",
      "\n",
      "\n"
     ]
    },
    {
     "name": "stderr",
     "output_type": "stream",
     "text": [
      "Train: 100%|██████████| 137/137 [00:19<00:00,  6.87batch/s]\n",
      "Valdt: 100%|██████████| 137/137 [00:05<00:00, 26.56batch/s]\n"
     ]
    },
    {
     "name": "stdout",
     "output_type": "stream",
     "text": [
      "Epoch: 139 / 6000, \n",
      "Train -- Loss: 0.0030903066591258144, Coeff: 0.033447265625 \n",
      "Val   -- Loss: 0.016847198302760897, Coeff: 0.1337890625 \n",
      "\n",
      "\n"
     ]
    },
    {
     "name": "stderr",
     "output_type": "stream",
     "text": [
      "Train: 100%|██████████| 137/137 [00:20<00:00,  6.82batch/s]\n",
      "Valdt: 100%|██████████| 137/137 [00:05<00:00, 26.68batch/s]\n"
     ]
    },
    {
     "name": "stdout",
     "output_type": "stream",
     "text": [
      "Epoch: 140 / 6000, \n",
      "Train -- Loss: 0.0031341723896993966, Coeff: 0.033447265625 \n",
      "Val   -- Loss: 0.015232877657318815, Coeff: 0.1337890625 \n",
      "\n",
      "\n"
     ]
    },
    {
     "name": "stderr",
     "output_type": "stream",
     "text": [
      "Train: 100%|██████████| 137/137 [00:19<00:00,  6.86batch/s]\n",
      "Valdt: 100%|██████████| 137/137 [00:05<00:00, 26.59batch/s]\n"
     ]
    },
    {
     "name": "stdout",
     "output_type": "stream",
     "text": [
      "Epoch: 141 / 6000, \n",
      "Train -- Loss: 0.0030522346968690104, Coeff: 0.033447265625 \n",
      "Val   -- Loss: 0.01611758645708531, Coeff: 0.1337890625 \n",
      "\n",
      "\n"
     ]
    },
    {
     "name": "stderr",
     "output_type": "stream",
     "text": [
      "Train: 100%|██████████| 137/137 [00:21<00:00,  6.43batch/s]\n",
      "Valdt: 100%|██████████| 137/137 [00:05<00:00, 26.50batch/s]\n"
     ]
    },
    {
     "name": "stdout",
     "output_type": "stream",
     "text": [
      "Epoch: 142 / 6000, \n",
      "Train -- Loss: 0.0030793706750844056, Coeff: 0.033447265625 \n",
      "Val   -- Loss: 0.015471197736806013, Coeff: 0.1337890625 \n",
      "\n",
      "\n"
     ]
    },
    {
     "name": "stderr",
     "output_type": "stream",
     "text": [
      "Train: 100%|██████████| 137/137 [00:20<00:00,  6.83batch/s]\n",
      "Valdt: 100%|██████████| 137/137 [00:05<00:00, 26.68batch/s]\n"
     ]
    },
    {
     "name": "stdout",
     "output_type": "stream",
     "text": [
      "Epoch: 143 / 6000, \n",
      "Train -- Loss: 0.0030078203360654355, Coeff: 0.033447265625 \n",
      "Val   -- Loss: 0.01531212797720155, Coeff: 0.1337890625 \n",
      "\n",
      "\n"
     ]
    },
    {
     "name": "stderr",
     "output_type": "stream",
     "text": [
      "Train: 100%|██████████| 137/137 [00:20<00:00,  6.81batch/s]\n",
      "Valdt: 100%|██████████| 137/137 [00:05<00:00, 26.57batch/s]\n"
     ]
    },
    {
     "name": "stdout",
     "output_type": "stream",
     "text": [
      "Epoch: 144 / 6000, \n",
      "Train -- Loss: 0.003018099974848084, Coeff: 0.033447265625 \n",
      "Val   -- Loss: 0.018514209712354932, Coeff: 0.1337890625 \n",
      "\n",
      "\n"
     ]
    },
    {
     "name": "stderr",
     "output_type": "stream",
     "text": [
      "Train: 100%|██████████| 137/137 [00:19<00:00,  6.85batch/s]\n",
      "Valdt: 100%|██████████| 137/137 [00:05<00:00, 26.59batch/s]\n"
     ]
    },
    {
     "name": "stdout",
     "output_type": "stream",
     "text": [
      "Epoch: 145 / 6000, \n",
      "Train -- Loss: 0.003273880266535621, Coeff: 0.033447265625 \n",
      "Val   -- Loss: 0.016230510600914697, Coeff: 0.1337890625 \n",
      "\n",
      "\n"
     ]
    },
    {
     "name": "stderr",
     "output_type": "stream",
     "text": [
      "Train: 100%|██████████| 137/137 [00:20<00:00,  6.85batch/s]\n",
      "Valdt: 100%|██████████| 137/137 [00:05<00:00, 26.57batch/s]\n"
     ]
    },
    {
     "name": "stdout",
     "output_type": "stream",
     "text": [
      "Epoch: 146 / 6000, \n",
      "Train -- Loss: 0.002955055453764723, Coeff: 0.033447265625 \n",
      "Val   -- Loss: 0.014747465918027168, Coeff: 0.1337890625 \n",
      "\n",
      "\n"
     ]
    },
    {
     "name": "stderr",
     "output_type": "stream",
     "text": [
      "Train: 100%|██████████| 137/137 [00:19<00:00,  6.85batch/s]\n",
      "Valdt: 100%|██████████| 137/137 [00:05<00:00, 26.63batch/s]\n"
     ]
    },
    {
     "name": "stdout",
     "output_type": "stream",
     "text": [
      "Epoch: 147 / 6000, \n",
      "Train -- Loss: 0.0029389656594366667, Coeff: 0.033447265625 \n",
      "Val   -- Loss: 0.016447959049187458, Coeff: 0.1337890625 \n",
      "\n",
      "\n"
     ]
    },
    {
     "name": "stderr",
     "output_type": "stream",
     "text": [
      "Train: 100%|██████████| 137/137 [00:20<00:00,  6.85batch/s]\n",
      "Valdt: 100%|██████████| 137/137 [00:05<00:00, 26.65batch/s]\n"
     ]
    },
    {
     "name": "stdout",
     "output_type": "stream",
     "text": [
      "Epoch: 148 / 6000, \n",
      "Train -- Loss: 0.002904912637902529, Coeff: 0.033447265625 \n",
      "Val   -- Loss: 0.014528844730396836, Coeff: 0.1337890625 \n",
      "\n",
      "\n"
     ]
    },
    {
     "name": "stderr",
     "output_type": "stream",
     "text": [
      "Train: 100%|██████████| 137/137 [00:20<00:00,  6.84batch/s]\n",
      "Valdt: 100%|██████████| 137/137 [00:05<00:00, 26.72batch/s]\n"
     ]
    },
    {
     "name": "stdout",
     "output_type": "stream",
     "text": [
      "Epoch: 149 / 6000, \n",
      "Train -- Loss: 0.002920663330868077, Coeff: 0.033447265625 \n",
      "Val   -- Loss: 0.014711957111611842, Coeff: 0.1337890625 \n",
      "\n",
      "\n"
     ]
    },
    {
     "name": "stderr",
     "output_type": "stream",
     "text": [
      "Train: 100%|██████████| 137/137 [00:20<00:00,  6.81batch/s]\n",
      "Valdt: 100%|██████████| 137/137 [00:05<00:00, 26.55batch/s]\n"
     ]
    },
    {
     "name": "stdout",
     "output_type": "stream",
     "text": [
      "Epoch: 150 / 6000, \n",
      "Train -- Loss: 0.002764913220520284, Coeff: 0.033447265625 \n",
      "Val   -- Loss: 0.014332573045041846, Coeff: 0.1337890625 \n",
      "\n",
      "\n"
     ]
    },
    {
     "name": "stderr",
     "output_type": "stream",
     "text": [
      "Train: 100%|██████████| 137/137 [00:21<00:00,  6.40batch/s]\n",
      "Valdt: 100%|██████████| 137/137 [00:05<00:00, 26.64batch/s]\n"
     ]
    },
    {
     "name": "stdout",
     "output_type": "stream",
     "text": [
      "Epoch: 151 / 6000, \n",
      "Train -- Loss: 0.0027733069524672692, Coeff: 0.033447265625 \n",
      "Val   -- Loss: 0.015221429712932985, Coeff: 0.1337890625 \n",
      "\n",
      "\n"
     ]
    },
    {
     "name": "stderr",
     "output_type": "stream",
     "text": [
      "Train: 100%|██████████| 137/137 [00:19<00:00,  6.86batch/s]\n",
      "Valdt: 100%|██████████| 137/137 [00:05<00:00, 26.60batch/s]\n"
     ]
    },
    {
     "name": "stdout",
     "output_type": "stream",
     "text": [
      "Epoch: 152 / 6000, \n",
      "Train -- Loss: 0.0028856562702491866, Coeff: 0.033447265625 \n",
      "Val   -- Loss: 0.014560560319836656, Coeff: 0.1337890625 \n",
      "\n",
      "\n"
     ]
    },
    {
     "name": "stderr",
     "output_type": "stream",
     "text": [
      "Train: 100%|██████████| 137/137 [00:20<00:00,  6.84batch/s]\n",
      "Valdt: 100%|██████████| 137/137 [00:05<00:00, 26.57batch/s]\n"
     ]
    },
    {
     "name": "stdout",
     "output_type": "stream",
     "text": [
      "Epoch: 153 / 6000, \n",
      "Train -- Loss: 0.0028153503939597614, Coeff: 0.033447265625 \n",
      "Val   -- Loss: 0.017303859781720183, Coeff: 0.1337890625 \n",
      "\n",
      "\n"
     ]
    },
    {
     "name": "stderr",
     "output_type": "stream",
     "text": [
      "Train: 100%|██████████| 137/137 [00:19<00:00,  6.86batch/s]\n",
      "Valdt: 100%|██████████| 137/137 [00:05<00:00, 26.63batch/s]\n"
     ]
    },
    {
     "name": "stdout",
     "output_type": "stream",
     "text": [
      "Epoch: 154 / 6000, \n",
      "Train -- Loss: 0.0029214267150594235, Coeff: 0.033447265625 \n",
      "Val   -- Loss: 0.014651672428505805, Coeff: 0.1337890625 \n",
      "\n",
      "\n"
     ]
    },
    {
     "name": "stderr",
     "output_type": "stream",
     "text": [
      "Train: 100%|██████████| 137/137 [00:19<00:00,  6.86batch/s]\n",
      "Valdt: 100%|██████████| 137/137 [00:05<00:00, 26.63batch/s]\n"
     ]
    },
    {
     "name": "stdout",
     "output_type": "stream",
     "text": [
      "Epoch: 155 / 6000, \n",
      "Train -- Loss: 0.002748857015606753, Coeff: 0.033447265625 \n",
      "Val   -- Loss: 0.014012844826945146, Coeff: 0.1337890625 \n",
      "\n",
      "\n"
     ]
    },
    {
     "name": "stderr",
     "output_type": "stream",
     "text": [
      "Train: 100%|██████████| 137/137 [00:19<00:00,  6.86batch/s]\n",
      "Valdt: 100%|██████████| 137/137 [00:05<00:00, 26.71batch/s]\n"
     ]
    },
    {
     "name": "stdout",
     "output_type": "stream",
     "text": [
      "Epoch: 156 / 6000, \n",
      "Train -- Loss: 0.0027058054959126607, Coeff: 0.033447265625 \n",
      "Val   -- Loss: 0.014203054198749942, Coeff: 0.1337890625 \n",
      "\n",
      "\n"
     ]
    },
    {
     "name": "stderr",
     "output_type": "stream",
     "text": [
      "Train: 100%|██████████| 137/137 [00:19<00:00,  6.86batch/s]\n",
      "Valdt: 100%|██████████| 137/137 [00:05<00:00, 26.74batch/s]\n"
     ]
    },
    {
     "name": "stdout",
     "output_type": "stream",
     "text": [
      "Epoch: 157 / 6000, \n",
      "Train -- Loss: 0.0027269180056888674, Coeff: 0.033447265625 \n",
      "Val   -- Loss: 0.015146680522926101, Coeff: 0.1337890625 \n",
      "\n",
      "\n"
     ]
    },
    {
     "name": "stderr",
     "output_type": "stream",
     "text": [
      "Train: 100%|██████████| 137/137 [00:19<00:00,  6.87batch/s]\n",
      "Valdt: 100%|██████████| 137/137 [00:05<00:00, 26.68batch/s]\n"
     ]
    },
    {
     "name": "stdout",
     "output_type": "stream",
     "text": [
      "Epoch: 158 / 6000, \n",
      "Train -- Loss: 0.003446214473623006, Coeff: 0.033447265625 \n",
      "Val   -- Loss: 0.015624974413201466, Coeff: 0.1337890625 \n",
      "\n",
      "\n"
     ]
    },
    {
     "name": "stderr",
     "output_type": "stream",
     "text": [
      "Train: 100%|██████████| 137/137 [00:21<00:00,  6.45batch/s]\n",
      "Valdt: 100%|██████████| 137/137 [00:05<00:00, 26.72batch/s]\n"
     ]
    },
    {
     "name": "stdout",
     "output_type": "stream",
     "text": [
      "Epoch: 159 / 6000, \n",
      "Train -- Loss: 0.0029585233668243155, Coeff: 0.033447265625 \n",
      "Val   -- Loss: 0.014249226819127523, Coeff: 0.1337890625 \n",
      "\n",
      "\n"
     ]
    },
    {
     "name": "stderr",
     "output_type": "stream",
     "text": [
      "Train: 100%|██████████| 137/137 [00:20<00:00,  6.84batch/s]\n",
      "Valdt: 100%|██████████| 137/137 [00:05<00:00, 26.73batch/s]\n"
     ]
    },
    {
     "name": "stdout",
     "output_type": "stream",
     "text": [
      "Epoch: 160 / 6000, \n",
      "Train -- Loss: 0.0026187747522382603, Coeff: 0.033447265625 \n",
      "Val   -- Loss: 0.013811592092418985, Coeff: 0.1337890625 \n",
      "\n",
      "\n"
     ]
    },
    {
     "name": "stderr",
     "output_type": "stream",
     "text": [
      "Train: 100%|██████████| 137/137 [00:19<00:00,  6.88batch/s]\n",
      "Valdt: 100%|██████████| 137/137 [00:05<00:00, 26.72batch/s]\n"
     ]
    },
    {
     "name": "stdout",
     "output_type": "stream",
     "text": [
      "Epoch: 161 / 6000, \n",
      "Train -- Loss: 0.0026795860871658885, Coeff: 0.033447265625 \n",
      "Val   -- Loss: 0.013781505542326707, Coeff: 0.1337890625 \n",
      "\n",
      "\n"
     ]
    },
    {
     "name": "stderr",
     "output_type": "stream",
     "text": [
      "Train: 100%|██████████| 137/137 [00:19<00:00,  6.91batch/s]\n",
      "Valdt: 100%|██████████| 137/137 [00:05<00:00, 26.78batch/s]\n"
     ]
    },
    {
     "name": "stdout",
     "output_type": "stream",
     "text": [
      "Epoch: 162 / 6000, \n",
      "Train -- Loss: 0.002626369647848171, Coeff: 0.033447265625 \n",
      "Val   -- Loss: 0.013583249053335335, Coeff: 0.1337890625 \n",
      "\n",
      "\n"
     ]
    },
    {
     "name": "stderr",
     "output_type": "stream",
     "text": [
      "Train: 100%|██████████| 137/137 [00:19<00:00,  6.90batch/s]\n",
      "Valdt: 100%|██████████| 137/137 [00:05<00:00, 26.81batch/s]\n"
     ]
    },
    {
     "name": "stdout",
     "output_type": "stream",
     "text": [
      "Epoch: 163 / 6000, \n",
      "Train -- Loss: 0.0026630708408378113, Coeff: 0.033447265625 \n",
      "Val   -- Loss: 0.013602628511160574, Coeff: 0.1337890625 \n",
      "\n",
      "\n"
     ]
    },
    {
     "name": "stderr",
     "output_type": "stream",
     "text": [
      "Train: 100%|██████████| 137/137 [00:19<00:00,  6.86batch/s]\n",
      "Valdt: 100%|██████████| 137/137 [00:05<00:00, 26.83batch/s]\n"
     ]
    },
    {
     "name": "stdout",
     "output_type": "stream",
     "text": [
      "Epoch: 164 / 6000, \n",
      "Train -- Loss: 0.0025300782978286123, Coeff: 0.033447265625 \n",
      "Val   -- Loss: 0.013621616855757386, Coeff: 0.1337890625 \n",
      "\n",
      "\n"
     ]
    },
    {
     "name": "stderr",
     "output_type": "stream",
     "text": [
      "Train: 100%|██████████| 137/137 [00:19<00:00,  6.90batch/s]\n",
      "Valdt: 100%|██████████| 137/137 [00:05<00:00, 26.76batch/s]\n"
     ]
    },
    {
     "name": "stdout",
     "output_type": "stream",
     "text": [
      "Epoch: 165 / 6000, \n",
      "Train -- Loss: 0.002568643213513174, Coeff: 0.033447265625 \n",
      "Val   -- Loss: 0.013436066537810602, Coeff: 0.1337890625 \n",
      "\n",
      "\n"
     ]
    },
    {
     "name": "stderr",
     "output_type": "stream",
     "text": [
      "Train: 100%|██████████| 137/137 [00:19<00:00,  6.89batch/s]\n",
      "Valdt: 100%|██████████| 137/137 [00:05<00:00, 26.83batch/s]\n"
     ]
    },
    {
     "name": "stdout",
     "output_type": "stream",
     "text": [
      "Epoch: 166 / 6000, \n",
      "Train -- Loss: 0.0025201947968827147, Coeff: 0.033447265625 \n",
      "Val   -- Loss: 0.013774604761696984, Coeff: 0.1337890625 \n",
      "\n",
      "\n"
     ]
    },
    {
     "name": "stderr",
     "output_type": "stream",
     "text": [
      "Train: 100%|██████████| 137/137 [00:19<00:00,  6.89batch/s]\n",
      "Valdt: 100%|██████████| 137/137 [00:05<00:00, 26.78batch/s]\n"
     ]
    },
    {
     "name": "stdout",
     "output_type": "stream",
     "text": [
      "Epoch: 167 / 6000, \n",
      "Train -- Loss: 0.0025084703108498685, Coeff: 0.033447265625 \n",
      "Val   -- Loss: 0.013198826388972077, Coeff: 0.1337890625 \n",
      "\n",
      "\n"
     ]
    },
    {
     "name": "stderr",
     "output_type": "stream",
     "text": [
      "Train: 100%|██████████| 137/137 [00:21<00:00,  6.47batch/s]\n",
      "Valdt: 100%|██████████| 137/137 [00:05<00:00, 26.78batch/s]\n"
     ]
    },
    {
     "name": "stdout",
     "output_type": "stream",
     "text": [
      "Epoch: 168 / 6000, \n",
      "Train -- Loss: 0.002476125466030817, Coeff: 0.033447265625 \n",
      "Val   -- Loss: 0.013342459955636743, Coeff: 0.1337890625 \n",
      "\n",
      "\n"
     ]
    },
    {
     "name": "stderr",
     "output_type": "stream",
     "text": [
      "Train: 100%|██████████| 137/137 [00:19<00:00,  6.90batch/s]\n",
      "Valdt: 100%|██████████| 137/137 [00:05<00:00, 26.83batch/s]\n"
     ]
    },
    {
     "name": "stdout",
     "output_type": "stream",
     "text": [
      "Epoch: 169 / 6000, \n",
      "Train -- Loss: 0.002502935989168886, Coeff: 0.033447265625 \n",
      "Val   -- Loss: 0.013291496659951274, Coeff: 0.1337890625 \n",
      "\n",
      "\n"
     ]
    },
    {
     "name": "stderr",
     "output_type": "stream",
     "text": [
      "Train: 100%|██████████| 137/137 [00:19<00:00,  6.90batch/s]\n",
      "Valdt: 100%|██████████| 137/137 [00:05<00:00, 26.58batch/s]\n"
     ]
    },
    {
     "name": "stdout",
     "output_type": "stream",
     "text": [
      "Epoch: 170 / 6000, \n",
      "Train -- Loss: 0.0025338307126856587, Coeff: 0.033447265625 \n",
      "Val   -- Loss: 0.013022960748914722, Coeff: 0.1337890625 \n",
      "\n",
      "\n"
     ]
    },
    {
     "name": "stderr",
     "output_type": "stream",
     "text": [
      "Train: 100%|██████████| 137/137 [00:19<00:00,  6.88batch/s]\n",
      "Valdt: 100%|██████████| 137/137 [00:05<00:00, 26.69batch/s]\n"
     ]
    },
    {
     "name": "stdout",
     "output_type": "stream",
     "text": [
      "Epoch: 171 / 6000, \n",
      "Train -- Loss: 0.002517117287873342, Coeff: 0.033447265625 \n",
      "Val   -- Loss: 0.013434810005709997, Coeff: 0.1337890625 \n",
      "\n",
      "\n"
     ]
    },
    {
     "name": "stderr",
     "output_type": "stream",
     "text": [
      "Train: 100%|██████████| 137/137 [00:19<00:00,  6.90batch/s]\n",
      "Valdt: 100%|██████████| 137/137 [00:05<00:00, 26.78batch/s]\n"
     ]
    },
    {
     "name": "stdout",
     "output_type": "stream",
     "text": [
      "Epoch: 172 / 6000, \n",
      "Train -- Loss: 0.0024759174473396534, Coeff: 0.033447265625 \n",
      "Val   -- Loss: 0.013244843346095743, Coeff: 0.1337890625 \n",
      "\n",
      "\n"
     ]
    },
    {
     "name": "stderr",
     "output_type": "stream",
     "text": [
      "Train: 100%|██████████| 137/137 [00:19<00:00,  6.90batch/s]\n",
      "Valdt: 100%|██████████| 137/137 [00:05<00:00, 26.82batch/s]\n"
     ]
    },
    {
     "name": "stdout",
     "output_type": "stream",
     "text": [
      "Epoch: 173 / 6000, \n",
      "Train -- Loss: 0.002727853861568629, Coeff: 0.033447265625 \n",
      "Val   -- Loss: 0.013430483651405277, Coeff: 0.1337890625 \n",
      "\n",
      "\n"
     ]
    },
    {
     "name": "stderr",
     "output_type": "stream",
     "text": [
      "Train: 100%|██████████| 137/137 [00:19<00:00,  6.92batch/s]\n",
      "Valdt: 100%|██████████| 137/137 [00:05<00:00, 26.71batch/s]\n"
     ]
    },
    {
     "name": "stdout",
     "output_type": "stream",
     "text": [
      "Epoch: 174 / 6000, \n",
      "Train -- Loss: 0.0025843981823041387, Coeff: 0.033447265625 \n",
      "Val   -- Loss: 0.013027335125252948, Coeff: 0.1337890625 \n",
      "\n",
      "\n"
     ]
    },
    {
     "name": "stderr",
     "output_type": "stream",
     "text": [
      "Train: 100%|██████████| 137/137 [00:19<00:00,  6.87batch/s]\n",
      "Valdt: 100%|██████████| 137/137 [00:05<00:00, 26.79batch/s]\n"
     ]
    },
    {
     "name": "stdout",
     "output_type": "stream",
     "text": [
      "Epoch: 175 / 6000, \n",
      "Train -- Loss: 0.002529585790314673, Coeff: 0.033447265625 \n",
      "Val   -- Loss: 0.012889030283203965, Coeff: 0.1337890625 \n",
      "\n",
      "\n"
     ]
    },
    {
     "name": "stderr",
     "output_type": "stream",
     "text": [
      "Train: 100%|██████████| 137/137 [00:19<00:00,  6.91batch/s]\n",
      "Valdt: 100%|██████████| 137/137 [00:05<00:00, 26.70batch/s]\n"
     ]
    },
    {
     "name": "stdout",
     "output_type": "stream",
     "text": [
      "Epoch: 176 / 6000, \n",
      "Train -- Loss: 0.002410049879295129, Coeff: 0.033447265625 \n",
      "Val   -- Loss: 0.01304265781927664, Coeff: 0.1337890625 \n",
      "\n",
      "\n"
     ]
    },
    {
     "name": "stderr",
     "output_type": "stream",
     "text": [
      "Train: 100%|██████████| 137/137 [00:21<00:00,  6.42batch/s]\n",
      "Valdt: 100%|██████████| 137/137 [00:05<00:00, 26.79batch/s]\n"
     ]
    },
    {
     "name": "stdout",
     "output_type": "stream",
     "text": [
      "Epoch: 177 / 6000, \n",
      "Train -- Loss: 0.002411986992761696, Coeff: 0.033447265625 \n",
      "Val   -- Loss: 0.012897478693396127, Coeff: 0.1337890625 \n",
      "\n",
      "\n"
     ]
    },
    {
     "name": "stderr",
     "output_type": "stream",
     "text": [
      "Train: 100%|██████████| 137/137 [00:19<00:00,  6.89batch/s]\n",
      "Valdt: 100%|██████████| 137/137 [00:05<00:00, 26.75batch/s]\n"
     ]
    },
    {
     "name": "stdout",
     "output_type": "stream",
     "text": [
      "Epoch: 178 / 6000, \n",
      "Train -- Loss: 0.002433046289168757, Coeff: 0.033447265625 \n",
      "Val   -- Loss: 0.012947861671237394, Coeff: 0.1337890625 \n",
      "\n",
      "\n"
     ]
    },
    {
     "name": "stderr",
     "output_type": "stream",
     "text": [
      "Train: 100%|██████████| 137/137 [00:19<00:00,  6.87batch/s]\n",
      "Valdt: 100%|██████████| 137/137 [00:05<00:00, 26.72batch/s]\n"
     ]
    },
    {
     "name": "stdout",
     "output_type": "stream",
     "text": [
      "Epoch: 179 / 6000, \n",
      "Train -- Loss: 0.002404635620415648, Coeff: 0.033447265625 \n",
      "Val   -- Loss: 0.014199580600749783, Coeff: 0.1337890625 \n",
      "\n",
      "\n"
     ]
    },
    {
     "name": "stderr",
     "output_type": "stream",
     "text": [
      "Train: 100%|██████████| 137/137 [00:19<00:00,  6.89batch/s]\n",
      "Valdt: 100%|██████████| 137/137 [00:05<00:00, 26.73batch/s]\n"
     ]
    },
    {
     "name": "stdout",
     "output_type": "stream",
     "text": [
      "Epoch: 180 / 6000, \n",
      "Train -- Loss: 0.002516202920264552, Coeff: 0.033447265625 \n",
      "Val   -- Loss: 0.013075157497205966, Coeff: 0.1337890625 \n",
      "\n",
      "\n"
     ]
    },
    {
     "name": "stderr",
     "output_type": "stream",
     "text": [
      "Train: 100%|██████████| 137/137 [00:19<00:00,  6.89batch/s]\n",
      "Valdt: 100%|██████████| 137/137 [00:05<00:00, 26.82batch/s]\n"
     ]
    },
    {
     "name": "stdout",
     "output_type": "stream",
     "text": [
      "Epoch: 181 / 6000, \n",
      "Train -- Loss: 0.0023660132341816777, Coeff: 0.033447265625 \n",
      "Val   -- Loss: 0.013157461614127133, Coeff: 0.1337890625 \n",
      "\n",
      "\n"
     ]
    },
    {
     "name": "stderr",
     "output_type": "stream",
     "text": [
      "Train: 100%|██████████| 137/137 [00:19<00:00,  6.89batch/s]\n",
      "Valdt: 100%|██████████| 137/137 [00:05<00:00, 26.76batch/s]\n"
     ]
    },
    {
     "name": "stdout",
     "output_type": "stream",
     "text": [
      "Epoch: 182 / 6000, \n",
      "Train -- Loss: 0.0035057309763244157, Coeff: 0.033447265625 \n",
      "Val   -- Loss: 0.018451782410967697, Coeff: 0.1337890625 \n",
      "\n",
      "\n"
     ]
    },
    {
     "name": "stderr",
     "output_type": "stream",
     "text": [
      "Train: 100%|██████████| 137/137 [00:19<00:00,  6.88batch/s]\n",
      "Valdt: 100%|██████████| 137/137 [00:05<00:00, 26.70batch/s]\n"
     ]
    },
    {
     "name": "stdout",
     "output_type": "stream",
     "text": [
      "Epoch: 183 / 6000, \n",
      "Train -- Loss: 0.0029373218826783663, Coeff: 0.033447265625 \n",
      "Val   -- Loss: 0.012629742066875376, Coeff: 0.1337890625 \n",
      "\n",
      "\n"
     ]
    },
    {
     "name": "stderr",
     "output_type": "stream",
     "text": [
      "Train: 100%|██████████| 137/137 [00:19<00:00,  6.90batch/s]\n",
      "Valdt: 100%|██████████| 137/137 [00:05<00:00, 26.65batch/s]\n"
     ]
    },
    {
     "name": "stdout",
     "output_type": "stream",
     "text": [
      "Epoch: 184 / 6000, \n",
      "Train -- Loss: 0.0023042417506946157, Coeff: 0.033447265625 \n",
      "Val   -- Loss: 0.012700180098159704, Coeff: 0.1337890625 \n",
      "\n",
      "\n"
     ]
    },
    {
     "name": "stderr",
     "output_type": "stream",
     "text": [
      "Train: 100%|██████████| 137/137 [00:21<00:00,  6.45batch/s]\n",
      "Valdt: 100%|██████████| 137/137 [00:05<00:00, 26.79batch/s]\n"
     ]
    },
    {
     "name": "stdout",
     "output_type": "stream",
     "text": [
      "Epoch: 185 / 6000, \n",
      "Train -- Loss: 0.002316718403961425, Coeff: 0.033447265625 \n",
      "Val   -- Loss: 0.012281735498952924, Coeff: 0.1337890625 \n",
      "\n",
      "\n"
     ]
    },
    {
     "name": "stderr",
     "output_type": "stream",
     "text": [
      "Train: 100%|██████████| 137/137 [00:19<00:00,  6.89batch/s]\n",
      "Valdt: 100%|██████████| 137/137 [00:05<00:00, 26.70batch/s]\n"
     ]
    },
    {
     "name": "stdout",
     "output_type": "stream",
     "text": [
      "Epoch: 186 / 6000, \n",
      "Train -- Loss: 0.0023200853014268812, Coeff: 0.033447265625 \n",
      "Val   -- Loss: 0.012598619186325245, Coeff: 0.1337890625 \n",
      "\n",
      "\n"
     ]
    },
    {
     "name": "stderr",
     "output_type": "stream",
     "text": [
      "Train: 100%|██████████| 137/137 [00:19<00:00,  6.90batch/s]\n",
      "Valdt: 100%|██████████| 137/137 [00:05<00:00, 26.72batch/s]\n"
     ]
    },
    {
     "name": "stdout",
     "output_type": "stream",
     "text": [
      "Epoch: 187 / 6000, \n",
      "Train -- Loss: 0.0023217902533989145, Coeff: 0.033447265625 \n",
      "Val   -- Loss: 0.012825531827262572, Coeff: 0.1337890625 \n",
      "\n",
      "\n"
     ]
    },
    {
     "name": "stderr",
     "output_type": "stream",
     "text": [
      "Train: 100%|██████████| 137/137 [00:19<00:00,  6.87batch/s]\n",
      "Valdt: 100%|██████████| 137/137 [00:05<00:00, 26.76batch/s]\n"
     ]
    },
    {
     "name": "stdout",
     "output_type": "stream",
     "text": [
      "Epoch: 188 / 6000, \n",
      "Train -- Loss: 0.002271350423012675, Coeff: 0.033447265625 \n",
      "Val   -- Loss: 0.01224204569646718, Coeff: 0.1337890625 \n",
      "\n",
      "\n"
     ]
    },
    {
     "name": "stderr",
     "output_type": "stream",
     "text": [
      "Train: 100%|██████████| 137/137 [00:19<00:00,  6.89batch/s]\n",
      "Valdt: 100%|██████████| 137/137 [00:05<00:00, 26.69batch/s]\n"
     ]
    },
    {
     "name": "stdout",
     "output_type": "stream",
     "text": [
      "Epoch: 189 / 6000, \n",
      "Train -- Loss: 0.002257795111275917, Coeff: 0.033447265625 \n",
      "Val   -- Loss: 0.012025388473271377, Coeff: 0.1337890625 \n",
      "\n",
      "\n"
     ]
    },
    {
     "name": "stderr",
     "output_type": "stream",
     "text": [
      "Train: 100%|██████████| 137/137 [00:19<00:00,  6.90batch/s]\n",
      "Valdt: 100%|██████████| 137/137 [00:05<00:00, 26.75batch/s]\n"
     ]
    },
    {
     "name": "stdout",
     "output_type": "stream",
     "text": [
      "Epoch: 190 / 6000, \n",
      "Train -- Loss: 0.0022364535350727654, Coeff: 0.033447265625 \n",
      "Val   -- Loss: 0.012313828946044724, Coeff: 0.1337890625 \n",
      "\n",
      "\n"
     ]
    },
    {
     "name": "stderr",
     "output_type": "stream",
     "text": [
      "Train: 100%|██████████| 137/137 [00:19<00:00,  6.88batch/s]\n",
      "Valdt: 100%|██████████| 137/137 [00:05<00:00, 26.80batch/s]\n"
     ]
    },
    {
     "name": "stdout",
     "output_type": "stream",
     "text": [
      "Epoch: 191 / 6000, \n",
      "Train -- Loss: 0.002264065139569491, Coeff: 0.033447265625 \n",
      "Val   -- Loss: 0.012318105714967855, Coeff: 0.1337890625 \n",
      "\n",
      "\n"
     ]
    },
    {
     "name": "stderr",
     "output_type": "stream",
     "text": [
      "Train: 100%|██████████| 137/137 [00:19<00:00,  6.91batch/s]\n",
      "Valdt: 100%|██████████| 137/137 [00:05<00:00, 26.69batch/s]\n"
     ]
    },
    {
     "name": "stdout",
     "output_type": "stream",
     "text": [
      "Epoch: 192 / 6000, \n",
      "Train -- Loss: 0.00234760870483591, Coeff: 0.033447265625 \n",
      "Val   -- Loss: 0.01363160731366224, Coeff: 0.1337890625 \n",
      "\n",
      "\n"
     ]
    },
    {
     "name": "stderr",
     "output_type": "stream",
     "text": [
      "Train: 100%|██████████| 137/137 [00:19<00:00,  6.91batch/s]\n",
      "Valdt: 100%|██████████| 137/137 [00:05<00:00, 26.80batch/s]\n"
     ]
    },
    {
     "name": "stdout",
     "output_type": "stream",
     "text": [
      "Epoch: 193 / 6000, \n",
      "Train -- Loss: 0.0023818786290554644, Coeff: 0.033447265625 \n",
      "Val   -- Loss: 0.012461637002723243, Coeff: 0.1337890625 \n",
      "\n",
      "\n"
     ]
    },
    {
     "name": "stderr",
     "output_type": "stream",
     "text": [
      "Train: 100%|██████████| 137/137 [00:21<00:00,  6.45batch/s]\n",
      "Valdt: 100%|██████████| 137/137 [00:05<00:00, 26.84batch/s]\n"
     ]
    },
    {
     "name": "stdout",
     "output_type": "stream",
     "text": [
      "Epoch: 194 / 6000, \n",
      "Train -- Loss: 0.0022173636959696603, Coeff: 0.033447265625 \n",
      "Val   -- Loss: 0.012785404349849911, Coeff: 0.1337890625 \n",
      "\n",
      "\n"
     ]
    },
    {
     "name": "stderr",
     "output_type": "stream",
     "text": [
      "Train: 100%|██████████| 137/137 [00:19<00:00,  6.91batch/s]\n",
      "Valdt: 100%|██████████| 137/137 [00:05<00:00, 26.77batch/s]\n"
     ]
    },
    {
     "name": "stdout",
     "output_type": "stream",
     "text": [
      "Epoch: 195 / 6000, \n",
      "Train -- Loss: 0.002231662720324461, Coeff: 0.033447265625 \n",
      "Val   -- Loss: 0.012254501836687802, Coeff: 0.1337890625 \n",
      "\n",
      "\n"
     ]
    },
    {
     "name": "stderr",
     "output_type": "stream",
     "text": [
      "Train: 100%|██████████| 137/137 [00:19<00:00,  6.91batch/s]\n",
      "Valdt: 100%|██████████| 137/137 [00:05<00:00, 26.86batch/s]\n"
     ]
    },
    {
     "name": "stdout",
     "output_type": "stream",
     "text": [
      "Epoch: 196 / 6000, \n",
      "Train -- Loss: 0.0022122039961016762, Coeff: 0.033447265625 \n",
      "Val   -- Loss: 0.01294724477801927, Coeff: 0.1337890625 \n",
      "\n",
      "\n"
     ]
    },
    {
     "name": "stderr",
     "output_type": "stream",
     "text": [
      "Train: 100%|██████████| 137/137 [00:19<00:00,  6.91batch/s]\n",
      "Valdt: 100%|██████████| 137/137 [00:05<00:00, 26.82batch/s]\n"
     ]
    },
    {
     "name": "stdout",
     "output_type": "stream",
     "text": [
      "Epoch: 197 / 6000, \n",
      "Train -- Loss: 0.002319869579193904, Coeff: 0.033447265625 \n",
      "Val   -- Loss: 0.012645412042584674, Coeff: 0.1337890625 \n",
      "\n",
      "\n"
     ]
    },
    {
     "name": "stderr",
     "output_type": "stream",
     "text": [
      "Train: 100%|██████████| 137/137 [00:19<00:00,  6.87batch/s]\n",
      "Valdt: 100%|██████████| 137/137 [00:05<00:00, 26.68batch/s]\n"
     ]
    },
    {
     "name": "stdout",
     "output_type": "stream",
     "text": [
      "Epoch: 198 / 6000, \n",
      "Train -- Loss: 0.00224944119249548, Coeff: 0.033447265625 \n",
      "Val   -- Loss: 0.012509627283972351, Coeff: 0.1337890625 \n",
      "\n",
      "\n"
     ]
    },
    {
     "name": "stderr",
     "output_type": "stream",
     "text": [
      "Train: 100%|██████████| 137/137 [00:19<00:00,  6.88batch/s]\n",
      "Valdt: 100%|██████████| 137/137 [00:05<00:00, 26.75batch/s]\n"
     ]
    },
    {
     "name": "stdout",
     "output_type": "stream",
     "text": [
      "Epoch: 199 / 6000, \n",
      "Train -- Loss: 0.002233868986674325, Coeff: 0.033447265625 \n",
      "Val   -- Loss: 0.012229624504099793, Coeff: 0.1337890625 \n",
      "\n",
      "\n"
     ]
    },
    {
     "name": "stderr",
     "output_type": "stream",
     "text": [
      "Train: 100%|██████████| 137/137 [00:19<00:00,  6.90batch/s]\n",
      "Valdt: 100%|██████████| 137/137 [00:05<00:00, 26.94batch/s]\n"
     ]
    },
    {
     "name": "stdout",
     "output_type": "stream",
     "text": [
      "Epoch: 200 / 6000, \n",
      "Train -- Loss: 0.002255842353916006, Coeff: 0.033447265625 \n",
      "Val   -- Loss: 0.012268628868556876, Coeff: 0.1337890625 \n",
      "\n",
      "\n"
     ]
    },
    {
     "name": "stderr",
     "output_type": "stream",
     "text": [
      "Train: 100%|██████████| 137/137 [00:19<00:00,  6.88batch/s]\n",
      "Valdt: 100%|██████████| 137/137 [00:05<00:00, 26.72batch/s]\n"
     ]
    },
    {
     "name": "stdout",
     "output_type": "stream",
     "text": [
      "Epoch: 201 / 6000, \n",
      "Train -- Loss: 0.00221866193607807, Coeff: 0.033447265625 \n",
      "Val   -- Loss: 0.012624870909919103, Coeff: 0.1337890625 \n",
      "\n",
      "\n"
     ]
    },
    {
     "name": "stderr",
     "output_type": "stream",
     "text": [
      "Train: 100%|██████████| 137/137 [00:21<00:00,  6.47batch/s]\n",
      "Valdt: 100%|██████████| 137/137 [00:05<00:00, 26.77batch/s]\n"
     ]
    },
    {
     "name": "stdout",
     "output_type": "stream",
     "text": [
      "Epoch: 202 / 6000, \n",
      "Train -- Loss: 0.0022079370334638962, Coeff: 0.033447265625 \n",
      "Val   -- Loss: 0.012216152018273118, Coeff: 0.1337890625 \n",
      "\n",
      "\n"
     ]
    },
    {
     "name": "stderr",
     "output_type": "stream",
     "text": [
      "Train: 100%|██████████| 137/137 [00:19<00:00,  6.90batch/s]\n",
      "Valdt: 100%|██████████| 137/137 [00:05<00:00, 26.76batch/s]\n"
     ]
    },
    {
     "name": "stdout",
     "output_type": "stream",
     "text": [
      "Epoch: 203 / 6000, \n",
      "Train -- Loss: 0.0021719144017774443, Coeff: 0.033447265625 \n",
      "Val   -- Loss: 0.012806829767309649, Coeff: 0.1337890625 \n",
      "\n",
      "\n"
     ]
    },
    {
     "name": "stderr",
     "output_type": "stream",
     "text": [
      "Train: 100%|██████████| 137/137 [00:19<00:00,  6.88batch/s]\n",
      "Valdt: 100%|██████████| 137/137 [00:05<00:00, 26.73batch/s]\n"
     ]
    },
    {
     "name": "stdout",
     "output_type": "stream",
     "text": [
      "Epoch: 204 / 6000, \n",
      "Train -- Loss: 0.0022861869132665405, Coeff: 0.033447265625 \n",
      "Val   -- Loss: 0.011917862400565863, Coeff: 0.1337890625 \n",
      "\n",
      "\n"
     ]
    },
    {
     "name": "stderr",
     "output_type": "stream",
     "text": [
      "Train: 100%|██████████| 137/137 [00:19<00:00,  6.88batch/s]\n",
      "Valdt: 100%|██████████| 137/137 [00:05<00:00, 26.68batch/s]\n"
     ]
    },
    {
     "name": "stdout",
     "output_type": "stream",
     "text": [
      "Epoch: 205 / 6000, \n",
      "Train -- Loss: 0.0023204556853806835, Coeff: 0.033447265625 \n",
      "Val   -- Loss: 0.012632958179562758, Coeff: 0.1337890625 \n",
      "\n",
      "\n"
     ]
    },
    {
     "name": "stderr",
     "output_type": "stream",
     "text": [
      "Train: 100%|██████████| 137/137 [00:19<00:00,  6.88batch/s]\n",
      "Valdt: 100%|██████████| 137/137 [00:05<00:00, 26.88batch/s]\n"
     ]
    },
    {
     "name": "stdout",
     "output_type": "stream",
     "text": [
      "Epoch: 206 / 6000, \n",
      "Train -- Loss: 0.002254450996896252, Coeff: 0.033447265625 \n",
      "Val   -- Loss: 0.012063533220954582, Coeff: 0.1337890625 \n",
      "\n",
      "\n"
     ]
    },
    {
     "name": "stderr",
     "output_type": "stream",
     "text": [
      "Train: 100%|██████████| 137/137 [00:19<00:00,  6.90batch/s]\n",
      "Valdt: 100%|██████████| 137/137 [00:05<00:00, 26.78batch/s]\n"
     ]
    },
    {
     "name": "stdout",
     "output_type": "stream",
     "text": [
      "Epoch: 207 / 6000, \n",
      "Train -- Loss: 0.0026859702389732177, Coeff: 0.033447265625 \n",
      "Val   -- Loss: 0.017258163105102222, Coeff: 0.1337890625 \n",
      "\n",
      "\n"
     ]
    },
    {
     "name": "stderr",
     "output_type": "stream",
     "text": [
      "Train: 100%|██████████| 137/137 [00:19<00:00,  6.91batch/s]\n",
      "Valdt: 100%|██████████| 137/137 [00:05<00:00, 26.85batch/s]\n"
     ]
    },
    {
     "name": "stdout",
     "output_type": "stream",
     "text": [
      "Epoch: 208 / 6000, \n",
      "Train -- Loss: 0.0026475253658424865, Coeff: 0.033447265625 \n",
      "Val   -- Loss: 0.011997205907655274, Coeff: 0.1337890625 \n",
      "\n",
      "\n"
     ]
    },
    {
     "name": "stderr",
     "output_type": "stream",
     "text": [
      "Train: 100%|██████████| 137/137 [00:19<00:00,  6.90batch/s]\n",
      "Valdt: 100%|██████████| 137/137 [00:05<00:00, 26.78batch/s]\n"
     ]
    },
    {
     "name": "stdout",
     "output_type": "stream",
     "text": [
      "Epoch: 209 / 6000, \n",
      "Train -- Loss: 0.002205367255357001, Coeff: 0.033447265625 \n",
      "Val   -- Loss: 0.012055216190496924, Coeff: 0.1337890625 \n",
      "\n",
      "\n"
     ]
    },
    {
     "name": "stderr",
     "output_type": "stream",
     "text": [
      "Train: 100%|██████████| 137/137 [00:19<00:00,  6.90batch/s]\n",
      "Valdt: 100%|██████████| 137/137 [00:05<00:00, 26.79batch/s]\n"
     ]
    },
    {
     "name": "stdout",
     "output_type": "stream",
     "text": [
      "Epoch: 210 / 6000, \n",
      "Train -- Loss: 0.002132914130038527, Coeff: 0.033447265625 \n",
      "Val   -- Loss: 0.011889289967354036, Coeff: 0.1337890625 \n",
      "\n",
      "\n"
     ]
    },
    {
     "name": "stderr",
     "output_type": "stream",
     "text": [
      "Train: 100%|██████████| 137/137 [00:21<00:00,  6.45batch/s]\n",
      "Valdt: 100%|██████████| 137/137 [00:05<00:00, 26.76batch/s]\n"
     ]
    },
    {
     "name": "stdout",
     "output_type": "stream",
     "text": [
      "Epoch: 211 / 6000, \n",
      "Train -- Loss: 0.002147643177777589, Coeff: 0.033447265625 \n",
      "Val   -- Loss: 0.011924648613749918, Coeff: 0.1337890625 \n",
      "\n",
      "\n"
     ]
    },
    {
     "name": "stderr",
     "output_type": "stream",
     "text": [
      "Train: 100%|██████████| 137/137 [00:19<00:00,  6.90batch/s]\n",
      "Valdt: 100%|██████████| 137/137 [00:05<00:00, 26.45batch/s]\n"
     ]
    },
    {
     "name": "stdout",
     "output_type": "stream",
     "text": [
      "Epoch: 212 / 6000, \n",
      "Train -- Loss: 0.0021103903894655507, Coeff: 0.033447265625 \n",
      "Val   -- Loss: 0.011916787421553977, Coeff: 0.1337890625 \n",
      "\n",
      "\n"
     ]
    },
    {
     "name": "stderr",
     "output_type": "stream",
     "text": [
      "Train: 100%|██████████| 137/137 [00:19<00:00,  6.88batch/s]\n",
      "Valdt: 100%|██████████| 137/137 [00:05<00:00, 26.69batch/s]\n"
     ]
    },
    {
     "name": "stdout",
     "output_type": "stream",
     "text": [
      "Epoch: 213 / 6000, \n",
      "Train -- Loss: 0.002094305432134469, Coeff: 0.033447265625 \n",
      "Val   -- Loss: 0.01142075788032185, Coeff: 0.1337890625 \n",
      "\n",
      "\n"
     ]
    },
    {
     "name": "stderr",
     "output_type": "stream",
     "text": [
      "Train: 100%|██████████| 137/137 [00:19<00:00,  6.90batch/s]\n",
      "Valdt: 100%|██████████| 137/137 [00:05<00:00, 26.68batch/s]\n"
     ]
    },
    {
     "name": "stdout",
     "output_type": "stream",
     "text": [
      "Epoch: 214 / 6000, \n",
      "Train -- Loss: 0.002113565615050634, Coeff: 0.033447265625 \n",
      "Val   -- Loss: 0.011366296189886873, Coeff: 0.1337890625 \n",
      "\n",
      "\n"
     ]
    },
    {
     "name": "stderr",
     "output_type": "stream",
     "text": [
      "Train: 100%|██████████| 137/137 [00:19<00:00,  6.89batch/s]\n",
      "Valdt: 100%|██████████| 137/137 [00:05<00:00, 26.80batch/s]\n"
     ]
    },
    {
     "name": "stdout",
     "output_type": "stream",
     "text": [
      "Epoch: 215 / 6000, \n",
      "Train -- Loss: 0.002088510727870753, Coeff: 0.033447265625 \n",
      "Val   -- Loss: 0.012145637155981036, Coeff: 0.1337890625 \n",
      "\n",
      "\n"
     ]
    },
    {
     "name": "stderr",
     "output_type": "stream",
     "text": [
      "Train: 100%|██████████| 137/137 [00:19<00:00,  6.88batch/s]\n",
      "Valdt: 100%|██████████| 137/137 [00:05<00:00, 26.79batch/s]\n"
     ]
    },
    {
     "name": "stdout",
     "output_type": "stream",
     "text": [
      "Epoch: 216 / 6000, \n",
      "Train -- Loss: 0.0024147362209324674, Coeff: 0.033447265625 \n",
      "Val   -- Loss: 0.01291090062664408, Coeff: 0.1337890625 \n",
      "\n",
      "\n"
     ]
    },
    {
     "name": "stderr",
     "output_type": "stream",
     "text": [
      "Train: 100%|██████████| 137/137 [00:19<00:00,  6.89batch/s]\n",
      "Valdt: 100%|██████████| 137/137 [00:05<00:00, 26.73batch/s]\n"
     ]
    },
    {
     "name": "stdout",
     "output_type": "stream",
     "text": [
      "Epoch: 217 / 6000, \n",
      "Train -- Loss: 0.0022753388682776837, Coeff: 0.033447265625 \n",
      "Val   -- Loss: 0.012231520241610025, Coeff: 0.1337890625 \n",
      "\n",
      "\n"
     ]
    },
    {
     "name": "stderr",
     "output_type": "stream",
     "text": [
      "Train: 100%|██████████| 137/137 [00:19<00:00,  6.87batch/s]\n",
      "Valdt: 100%|██████████| 137/137 [00:05<00:00, 26.79batch/s]\n"
     ]
    },
    {
     "name": "stdout",
     "output_type": "stream",
     "text": [
      "Epoch: 218 / 6000, \n",
      "Train -- Loss: 0.002166617404476225, Coeff: 0.033447265625 \n",
      "Val   -- Loss: 0.011850954963761534, Coeff: 0.1337890625 \n",
      "\n",
      "\n"
     ]
    },
    {
     "name": "stderr",
     "output_type": "stream",
     "text": [
      "Train: 100%|██████████| 137/137 [00:21<00:00,  6.45batch/s]\n",
      "Valdt: 100%|██████████| 137/137 [00:05<00:00, 26.93batch/s]\n"
     ]
    },
    {
     "name": "stdout",
     "output_type": "stream",
     "text": [
      "Epoch: 219 / 6000, \n",
      "Train -- Loss: 0.002085802319618996, Coeff: 0.033447265625 \n",
      "Val   -- Loss: 0.011483900244314081, Coeff: 0.1337890625 \n",
      "\n",
      "\n"
     ]
    },
    {
     "name": "stderr",
     "output_type": "stream",
     "text": [
      "Train: 100%|██████████| 137/137 [00:19<00:00,  6.91batch/s]\n",
      "Valdt: 100%|██████████| 137/137 [00:05<00:00, 26.79batch/s]\n"
     ]
    },
    {
     "name": "stdout",
     "output_type": "stream",
     "text": [
      "Epoch: 220 / 6000, \n",
      "Train -- Loss: 0.0020811665618222816, Coeff: 0.033447265625 \n",
      "Val   -- Loss: 0.011513825926534178, Coeff: 0.1337890625 \n",
      "\n",
      "\n"
     ]
    },
    {
     "name": "stderr",
     "output_type": "stream",
     "text": [
      "Train: 100%|██████████| 137/137 [00:19<00:00,  6.89batch/s]\n",
      "Valdt: 100%|██████████| 137/137 [00:05<00:00, 26.69batch/s]\n"
     ]
    },
    {
     "name": "stdout",
     "output_type": "stream",
     "text": [
      "Epoch: 221 / 6000, \n",
      "Train -- Loss: 0.0020891184146524023, Coeff: 0.033447265625 \n",
      "Val   -- Loss: 0.011561749275881784, Coeff: 0.1337890625 \n",
      "\n",
      "\n"
     ]
    },
    {
     "name": "stderr",
     "output_type": "stream",
     "text": [
      "Train: 100%|██████████| 137/137 [00:19<00:00,  6.90batch/s]\n",
      "Valdt: 100%|██████████| 137/137 [00:05<00:00, 26.71batch/s]\n"
     ]
    },
    {
     "name": "stdout",
     "output_type": "stream",
     "text": [
      "Epoch: 222 / 6000, \n",
      "Train -- Loss: 0.002071474159599639, Coeff: 0.033447265625 \n",
      "Val   -- Loss: 0.011290786069981126, Coeff: 0.1337890625 \n",
      "\n",
      "\n"
     ]
    },
    {
     "name": "stderr",
     "output_type": "stream",
     "text": [
      "Train: 100%|██████████| 137/137 [00:19<00:00,  6.91batch/s]\n",
      "Valdt: 100%|██████████| 137/137 [00:05<00:00, 26.86batch/s]\n"
     ]
    },
    {
     "name": "stdout",
     "output_type": "stream",
     "text": [
      "Epoch: 223 / 6000, \n",
      "Train -- Loss: 0.0021958097212062566, Coeff: 0.033447265625 \n",
      "Val   -- Loss: 0.012399462195287859, Coeff: 0.1337890625 \n",
      "\n",
      "\n"
     ]
    },
    {
     "name": "stderr",
     "output_type": "stream",
     "text": [
      "Train: 100%|██████████| 137/137 [00:19<00:00,  6.90batch/s]\n",
      "Valdt: 100%|██████████| 137/137 [00:05<00:00, 26.74batch/s]\n"
     ]
    },
    {
     "name": "stdout",
     "output_type": "stream",
     "text": [
      "Epoch: 224 / 6000, \n",
      "Train -- Loss: 0.0027615268720695306, Coeff: 0.033447265625 \n",
      "Val   -- Loss: 0.015475881581950379, Coeff: 0.1337890625 \n",
      "\n",
      "\n"
     ]
    },
    {
     "name": "stderr",
     "output_type": "stream",
     "text": [
      "Train: 100%|██████████| 137/137 [00:19<00:00,  6.90batch/s]\n",
      "Valdt: 100%|██████████| 137/137 [00:05<00:00, 26.76batch/s]\n"
     ]
    },
    {
     "name": "stdout",
     "output_type": "stream",
     "text": [
      "Epoch: 225 / 6000, \n",
      "Train -- Loss: 0.0023438285790629188, Coeff: 0.033447265625 \n",
      "Val   -- Loss: 0.011734632061554071, Coeff: 0.1337890625 \n",
      "\n",
      "\n"
     ]
    },
    {
     "name": "stderr",
     "output_type": "stream",
     "text": [
      "Train: 100%|██████████| 137/137 [00:19<00:00,  6.89batch/s]\n",
      "Valdt: 100%|██████████| 137/137 [00:05<00:00, 26.70batch/s]\n"
     ]
    },
    {
     "name": "stdout",
     "output_type": "stream",
     "text": [
      "Epoch: 226 / 6000, \n",
      "Train -- Loss: 0.002087404972379566, Coeff: 0.033447265625 \n",
      "Val   -- Loss: 0.013120211417034034, Coeff: 0.1337890625 \n",
      "\n",
      "\n"
     ]
    },
    {
     "name": "stderr",
     "output_type": "stream",
     "text": [
      "Train: 100%|██████████| 137/137 [00:19<00:00,  6.90batch/s]\n",
      "Valdt: 100%|██████████| 137/137 [00:05<00:00, 26.71batch/s]\n"
     ]
    },
    {
     "name": "stdout",
     "output_type": "stream",
     "text": [
      "Epoch: 227 / 6000, \n",
      "Train -- Loss: 0.002147352042218156, Coeff: 0.033447265625 \n",
      "Val   -- Loss: 0.012038059498279595, Coeff: 0.1337890625 \n",
      "\n",
      "\n"
     ]
    },
    {
     "name": "stderr",
     "output_type": "stream",
     "text": [
      "Train: 100%|██████████| 137/137 [00:21<00:00,  6.46batch/s]\n",
      "Valdt: 100%|██████████| 137/137 [00:05<00:00, 26.74batch/s]\n"
     ]
    },
    {
     "name": "stdout",
     "output_type": "stream",
     "text": [
      "Epoch: 228 / 6000, \n",
      "Train -- Loss: 0.0020335339342667886, Coeff: 0.033447265625 \n",
      "Val   -- Loss: 0.011552217492432345, Coeff: 0.1337890625 \n",
      "\n",
      "\n"
     ]
    },
    {
     "name": "stderr",
     "output_type": "stream",
     "text": [
      "Train: 100%|██████████| 137/137 [00:19<00:00,  6.91batch/s]\n",
      "Valdt: 100%|██████████| 137/137 [00:05<00:00, 26.75batch/s]\n"
     ]
    },
    {
     "name": "stdout",
     "output_type": "stream",
     "text": [
      "Epoch: 229 / 6000, \n",
      "Train -- Loss: 0.002012864972092755, Coeff: 0.033447265625 \n",
      "Val   -- Loss: 0.011708293278463702, Coeff: 0.1337890625 \n",
      "\n",
      "\n"
     ]
    },
    {
     "name": "stderr",
     "output_type": "stream",
     "text": [
      "Train: 100%|██████████| 137/137 [00:19<00:00,  6.89batch/s]\n",
      "Valdt: 100%|██████████| 137/137 [00:05<00:00, 26.63batch/s]\n"
     ]
    },
    {
     "name": "stdout",
     "output_type": "stream",
     "text": [
      "Epoch: 230 / 6000, \n",
      "Train -- Loss: 0.001992292601454896, Coeff: 0.033447265625 \n",
      "Val   -- Loss: 0.01157328117530339, Coeff: 0.1337890625 \n",
      "\n",
      "\n"
     ]
    },
    {
     "name": "stderr",
     "output_type": "stream",
     "text": [
      "Train: 100%|██████████| 137/137 [00:19<00:00,  6.87batch/s]\n",
      "Valdt: 100%|██████████| 137/137 [00:05<00:00, 26.65batch/s]\n"
     ]
    },
    {
     "name": "stdout",
     "output_type": "stream",
     "text": [
      "Epoch: 231 / 6000, \n",
      "Train -- Loss: 0.0020315377662923017, Coeff: 0.033447265625 \n",
      "Val   -- Loss: 0.011535919295948978, Coeff: 0.1337890625 \n",
      "\n",
      "\n"
     ]
    },
    {
     "name": "stderr",
     "output_type": "stream",
     "text": [
      "Train: 100%|██████████| 137/137 [00:19<00:00,  6.86batch/s]\n",
      "Valdt: 100%|██████████| 137/137 [00:05<00:00, 26.85batch/s]\n"
     ]
    },
    {
     "name": "stdout",
     "output_type": "stream",
     "text": [
      "Epoch: 232 / 6000, \n",
      "Train -- Loss: 0.0020395687715119505, Coeff: 0.033447265625 \n",
      "Val   -- Loss: 0.011380646534663702, Coeff: 0.1337890625 \n",
      "\n",
      "\n"
     ]
    },
    {
     "name": "stderr",
     "output_type": "stream",
     "text": [
      "Train: 100%|██████████| 137/137 [00:19<00:00,  6.89batch/s]\n",
      "Valdt: 100%|██████████| 137/137 [00:05<00:00, 26.66batch/s]\n"
     ]
    },
    {
     "name": "stdout",
     "output_type": "stream",
     "text": [
      "Epoch: 233 / 6000, \n",
      "Train -- Loss: 0.0020340477007869365, Coeff: 0.033447265625 \n",
      "Val   -- Loss: 0.011360866236411967, Coeff: 0.1337890625 \n",
      "\n",
      "\n"
     ]
    },
    {
     "name": "stderr",
     "output_type": "stream",
     "text": [
      "Train: 100%|██████████| 137/137 [00:19<00:00,  6.90batch/s]\n",
      "Valdt: 100%|██████████| 137/137 [00:05<00:00, 26.85batch/s]\n"
     ]
    },
    {
     "name": "stdout",
     "output_type": "stream",
     "text": [
      "Epoch: 234 / 6000, \n",
      "Train -- Loss: 0.002028523420425779, Coeff: 0.033447265625 \n",
      "Val   -- Loss: 0.011454295656749316, Coeff: 0.1337890625 \n",
      "\n",
      "\n"
     ]
    },
    {
     "name": "stderr",
     "output_type": "stream",
     "text": [
      "Train: 100%|██████████| 137/137 [00:19<00:00,  6.90batch/s]\n",
      "Valdt: 100%|██████████| 137/137 [00:05<00:00, 26.70batch/s]\n"
     ]
    },
    {
     "name": "stdout",
     "output_type": "stream",
     "text": [
      "Epoch: 235 / 6000, \n",
      "Train -- Loss: 0.002045441261365758, Coeff: 0.033447265625 \n",
      "Val   -- Loss: 0.012324611212655243, Coeff: 0.1337890625 \n",
      "\n",
      "\n"
     ]
    },
    {
     "name": "stderr",
     "output_type": "stream",
     "text": [
      "Train: 100%|██████████| 137/137 [00:19<00:00,  6.89batch/s]\n",
      "Valdt: 100%|██████████| 137/137 [00:05<00:00, 26.42batch/s]\n"
     ]
    },
    {
     "name": "stdout",
     "output_type": "stream",
     "text": [
      "Epoch: 236 / 6000, \n",
      "Train -- Loss: 0.002055295572420287, Coeff: 0.033447265625 \n",
      "Val   -- Loss: 0.011148082978471517, Coeff: 0.1337890625 \n",
      "\n",
      "\n"
     ]
    },
    {
     "name": "stderr",
     "output_type": "stream",
     "text": [
      "Train: 100%|██████████| 137/137 [00:21<00:00,  6.46batch/s]\n",
      "Valdt: 100%|██████████| 137/137 [00:05<00:00, 26.83batch/s]\n"
     ]
    },
    {
     "name": "stdout",
     "output_type": "stream",
     "text": [
      "Epoch: 237 / 6000, \n",
      "Train -- Loss: 0.0020425105956328755, Coeff: 0.033447265625 \n",
      "Val   -- Loss: 0.01129732765369359, Coeff: 0.1337890625 \n",
      "\n",
      "\n"
     ]
    },
    {
     "name": "stderr",
     "output_type": "stream",
     "text": [
      "Train: 100%|██████████| 137/137 [00:19<00:00,  6.91batch/s]\n",
      "Valdt: 100%|██████████| 137/137 [00:05<00:00, 26.77batch/s]\n"
     ]
    },
    {
     "name": "stdout",
     "output_type": "stream",
     "text": [
      "Epoch: 238 / 6000, \n",
      "Train -- Loss: 0.002036507404405174, Coeff: 0.033447265625 \n",
      "Val   -- Loss: 0.012141792130199072, Coeff: 0.1337890625 \n",
      "\n",
      "\n"
     ]
    },
    {
     "name": "stderr",
     "output_type": "stream",
     "text": [
      "Train: 100%|██████████| 137/137 [00:19<00:00,  6.90batch/s]\n",
      "Valdt: 100%|██████████| 137/137 [00:05<00:00, 26.71batch/s]\n"
     ]
    },
    {
     "name": "stdout",
     "output_type": "stream",
     "text": [
      "Epoch: 239 / 6000, \n",
      "Train -- Loss: 0.002061863867887918, Coeff: 0.033447265625 \n",
      "Val   -- Loss: 0.011887197133573054, Coeff: 0.1337890625 \n",
      "\n",
      "\n"
     ]
    },
    {
     "name": "stderr",
     "output_type": "stream",
     "text": [
      "Train: 100%|██████████| 137/137 [00:19<00:00,  6.87batch/s]\n",
      "Valdt: 100%|██████████| 137/137 [00:05<00:00, 26.85batch/s]\n"
     ]
    },
    {
     "name": "stdout",
     "output_type": "stream",
     "text": [
      "Epoch: 240 / 6000, \n",
      "Train -- Loss: 0.002025606861968951, Coeff: 0.033447265625 \n",
      "Val   -- Loss: 0.01191906523420088, Coeff: 0.1337890625 \n",
      "\n",
      "\n"
     ]
    },
    {
     "name": "stderr",
     "output_type": "stream",
     "text": [
      "Train: 100%|██████████| 137/137 [00:19<00:00,  6.86batch/s]\n",
      "Valdt: 100%|██████████| 137/137 [00:05<00:00, 26.66batch/s]\n"
     ]
    },
    {
     "name": "stdout",
     "output_type": "stream",
     "text": [
      "Epoch: 241 / 6000, \n",
      "Train -- Loss: 0.002417185768366253, Coeff: 0.033447265625 \n",
      "Val   -- Loss: 0.015799222937544537, Coeff: 0.1337890625 \n",
      "\n",
      "\n"
     ]
    },
    {
     "name": "stderr",
     "output_type": "stream",
     "text": [
      "Train: 100%|██████████| 137/137 [00:19<00:00,  6.85batch/s]\n",
      "Valdt: 100%|██████████| 137/137 [00:05<00:00, 26.61batch/s]\n"
     ]
    },
    {
     "name": "stdout",
     "output_type": "stream",
     "text": [
      "Epoch: 242 / 6000, \n",
      "Train -- Loss: 0.0026705966418319716, Coeff: 0.033447265625 \n",
      "Val   -- Loss: 0.011641885445613287, Coeff: 0.1337890625 \n",
      "\n",
      "\n"
     ]
    },
    {
     "name": "stderr",
     "output_type": "stream",
     "text": [
      "Train: 100%|██████████| 137/137 [00:19<00:00,  6.86batch/s]\n",
      "Valdt: 100%|██████████| 137/137 [00:05<00:00, 26.72batch/s]\n"
     ]
    },
    {
     "name": "stdout",
     "output_type": "stream",
     "text": [
      "Epoch: 243 / 6000, \n",
      "Train -- Loss: 0.0021699863790981835, Coeff: 0.033447265625 \n",
      "Val   -- Loss: 0.011693514314321111, Coeff: 0.1337890625 \n",
      "\n",
      "\n"
     ]
    },
    {
     "name": "stderr",
     "output_type": "stream",
     "text": [
      "Train: 100%|██████████| 137/137 [00:19<00:00,  6.86batch/s]\n",
      "Valdt: 100%|██████████| 137/137 [00:05<00:00, 26.64batch/s]\n"
     ]
    },
    {
     "name": "stdout",
     "output_type": "stream",
     "text": [
      "Epoch: 244 / 6000, \n",
      "Train -- Loss: 0.0019687659140288738, Coeff: 0.033447265625 \n",
      "Val   -- Loss: 0.011653313502227583, Coeff: 0.1337890625 \n",
      "\n",
      "\n"
     ]
    },
    {
     "name": "stderr",
     "output_type": "stream",
     "text": [
      "Train: 100%|██████████| 137/137 [00:21<00:00,  6.43batch/s]\n",
      "Valdt: 100%|██████████| 137/137 [00:05<00:00, 26.69batch/s]\n"
     ]
    },
    {
     "name": "stdout",
     "output_type": "stream",
     "text": [
      "Epoch: 245 / 6000, \n",
      "Train -- Loss: 0.001958707599663769, Coeff: 0.033447265625 \n",
      "Val   -- Loss: 0.011343859790196167, Coeff: 0.1337890625 \n",
      "\n",
      "\n"
     ]
    },
    {
     "name": "stderr",
     "output_type": "stream",
     "text": [
      "Train: 100%|██████████| 137/137 [00:19<00:00,  6.87batch/s]\n",
      "Valdt: 100%|██████████| 137/137 [00:05<00:00, 26.63batch/s]\n"
     ]
    },
    {
     "name": "stdout",
     "output_type": "stream",
     "text": [
      "Epoch: 246 / 6000, \n",
      "Train -- Loss: 0.0019173304077961329, Coeff: 0.033447265625 \n",
      "Val   -- Loss: 0.01134579430039534, Coeff: 0.1337890625 \n",
      "\n",
      "\n"
     ]
    },
    {
     "name": "stderr",
     "output_type": "stream",
     "text": [
      "Train: 100%|██████████| 137/137 [00:19<00:00,  6.86batch/s]\n",
      "Valdt: 100%|██████████| 137/137 [00:05<00:00, 26.68batch/s]\n"
     ]
    },
    {
     "name": "stdout",
     "output_type": "stream",
     "text": [
      "Epoch: 247 / 6000, \n",
      "Train -- Loss: 0.001926196623653877, Coeff: 0.033447265625 \n",
      "Val   -- Loss: 0.011479072080370077, Coeff: 0.1337890625 \n",
      "\n",
      "\n"
     ]
    },
    {
     "name": "stderr",
     "output_type": "stream",
     "text": [
      "Train: 100%|██████████| 137/137 [00:19<00:00,  6.87batch/s]\n",
      "Valdt: 100%|██████████| 137/137 [00:05<00:00, 26.65batch/s]\n"
     ]
    },
    {
     "name": "stdout",
     "output_type": "stream",
     "text": [
      "Epoch: 248 / 6000, \n",
      "Train -- Loss: 0.0020004812589084877, Coeff: 0.033447265625 \n",
      "Val   -- Loss: 0.011360736421129112, Coeff: 0.1337890625 \n",
      "\n",
      "\n"
     ]
    },
    {
     "name": "stderr",
     "output_type": "stream",
     "text": [
      "Train: 100%|██████████| 137/137 [00:19<00:00,  6.87batch/s]\n",
      "Valdt: 100%|██████████| 137/137 [00:05<00:00, 26.65batch/s]\n"
     ]
    },
    {
     "name": "stdout",
     "output_type": "stream",
     "text": [
      "Epoch: 249 / 6000, \n",
      "Train -- Loss: 0.0019365669730411603, Coeff: 0.033447265625 \n",
      "Val   -- Loss: 0.011512283998100878, Coeff: 0.1337890625 \n",
      "\n",
      "\n"
     ]
    },
    {
     "name": "stderr",
     "output_type": "stream",
     "text": [
      "Train: 100%|██████████| 137/137 [00:19<00:00,  6.86batch/s]\n",
      "Valdt: 100%|██████████| 137/137 [00:05<00:00, 26.71batch/s]\n"
     ]
    },
    {
     "name": "stdout",
     "output_type": "stream",
     "text": [
      "Epoch: 250 / 6000, \n",
      "Train -- Loss: 0.0019620597347425744, Coeff: 0.033447265625 \n",
      "Val   -- Loss: 0.011178156665042892, Coeff: 0.1337890625 \n",
      "\n",
      "\n"
     ]
    },
    {
     "name": "stderr",
     "output_type": "stream",
     "text": [
      "Train: 100%|██████████| 137/137 [00:19<00:00,  6.86batch/s]\n",
      "Valdt: 100%|██████████| 137/137 [00:05<00:00, 26.65batch/s]\n"
     ]
    },
    {
     "name": "stdout",
     "output_type": "stream",
     "text": [
      "Epoch: 251 / 6000, \n",
      "Train -- Loss: 0.001960860076236587, Coeff: 0.033447265625 \n",
      "Val   -- Loss: 0.012519211238832909, Coeff: 0.1337890625 \n",
      "\n",
      "\n"
     ]
    },
    {
     "name": "stderr",
     "output_type": "stream",
     "text": [
      "Train: 100%|██████████| 137/137 [00:19<00:00,  6.88batch/s]\n",
      "Valdt: 100%|██████████| 137/137 [00:05<00:00, 26.62batch/s]\n"
     ]
    },
    {
     "name": "stdout",
     "output_type": "stream",
     "text": [
      "Epoch: 252 / 6000, \n",
      "Train -- Loss: 0.0019702197622824113, Coeff: 0.033447265625 \n",
      "Val   -- Loss: 0.01142890785163341, Coeff: 0.1337890625 \n",
      "\n",
      "\n"
     ]
    },
    {
     "name": "stderr",
     "output_type": "stream",
     "text": [
      "Train: 100%|██████████| 137/137 [00:19<00:00,  6.86batch/s]\n",
      "Valdt: 100%|██████████| 137/137 [00:05<00:00, 26.65batch/s]\n"
     ]
    },
    {
     "name": "stdout",
     "output_type": "stream",
     "text": [
      "Epoch: 253 / 6000, \n",
      "Train -- Loss: 0.002047332854380818, Coeff: 0.033447265625 \n",
      "Val   -- Loss: 0.012006258129735175, Coeff: 0.1337890625 \n",
      "\n",
      "\n"
     ]
    },
    {
     "name": "stderr",
     "output_type": "stream",
     "text": [
      "Train: 100%|██████████| 137/137 [00:21<00:00,  6.43batch/s]\n",
      "Valdt: 100%|██████████| 137/137 [00:05<00:00, 26.66batch/s]\n"
     ]
    },
    {
     "name": "stdout",
     "output_type": "stream",
     "text": [
      "Epoch: 254 / 6000, \n",
      "Train -- Loss: 0.0020258765857262056, Coeff: 0.033447265625 \n",
      "Val   -- Loss: 0.011421936669342695, Coeff: 0.1337890625 \n",
      "\n",
      "\n"
     ]
    },
    {
     "name": "stderr",
     "output_type": "stream",
     "text": [
      "Train: 100%|██████████| 137/137 [00:19<00:00,  6.89batch/s]\n",
      "Valdt: 100%|██████████| 137/137 [00:05<00:00, 26.69batch/s]\n"
     ]
    },
    {
     "name": "stdout",
     "output_type": "stream",
     "text": [
      "Epoch: 255 / 6000, \n",
      "Train -- Loss: 0.002084094848039328, Coeff: 0.033447265625 \n",
      "Val   -- Loss: 0.013624344562560722, Coeff: 0.1337890625 \n",
      "\n",
      "\n"
     ]
    },
    {
     "name": "stderr",
     "output_type": "stream",
     "text": [
      "Train: 100%|██████████| 137/137 [00:19<00:00,  6.89batch/s]\n",
      "Valdt: 100%|██████████| 137/137 [00:05<00:00, 26.78batch/s]\n"
     ]
    },
    {
     "name": "stdout",
     "output_type": "stream",
     "text": [
      "Epoch: 256 / 6000, \n",
      "Train -- Loss: 0.00225104452557156, Coeff: 0.033447265625 \n",
      "Val   -- Loss: 0.014046161606461072, Coeff: 0.1337890625 \n",
      "\n",
      "\n"
     ]
    },
    {
     "name": "stderr",
     "output_type": "stream",
     "text": [
      "Train: 100%|██████████| 137/137 [00:19<00:00,  6.88batch/s]\n",
      "Valdt: 100%|██████████| 137/137 [00:05<00:00, 26.72batch/s]\n"
     ]
    },
    {
     "name": "stdout",
     "output_type": "stream",
     "text": [
      "Epoch: 257 / 6000, \n",
      "Train -- Loss: 0.0023861603023632937, Coeff: 0.033447265625 \n",
      "Val   -- Loss: 0.012438067761345838, Coeff: 0.1337890625 \n",
      "\n",
      "\n"
     ]
    },
    {
     "name": "stderr",
     "output_type": "stream",
     "text": [
      "Train: 100%|██████████| 137/137 [00:19<00:00,  6.91batch/s]\n",
      "Valdt: 100%|██████████| 137/137 [00:05<00:00, 26.77batch/s]\n"
     ]
    },
    {
     "name": "stdout",
     "output_type": "stream",
     "text": [
      "Epoch: 258 / 6000, \n",
      "Train -- Loss: 0.0020087233990250634, Coeff: 0.033447265625 \n",
      "Val   -- Loss: 0.011290998824584859, Coeff: 0.1337890625 \n",
      "\n",
      "\n"
     ]
    },
    {
     "name": "stderr",
     "output_type": "stream",
     "text": [
      "Train: 100%|██████████| 137/137 [00:20<00:00,  6.82batch/s]\n",
      "Valdt: 100%|██████████| 137/137 [00:05<00:00, 26.64batch/s]\n"
     ]
    },
    {
     "name": "stdout",
     "output_type": "stream",
     "text": [
      "Epoch: 259 / 6000, \n",
      "Train -- Loss: 0.0018885524947623447, Coeff: 0.033447265625 \n",
      "Val   -- Loss: 0.011032539656904143, Coeff: 0.1337890625 \n",
      "\n",
      "\n"
     ]
    },
    {
     "name": "stderr",
     "output_type": "stream",
     "text": [
      "Train: 100%|██████████| 137/137 [00:19<00:00,  6.87batch/s]\n",
      "Valdt: 100%|██████████| 137/137 [00:05<00:00, 26.50batch/s]\n"
     ]
    },
    {
     "name": "stdout",
     "output_type": "stream",
     "text": [
      "Epoch: 260 / 6000, \n",
      "Train -- Loss: 0.0018928465777877817, Coeff: 0.033447265625 \n",
      "Val   -- Loss: 0.011156561441887609, Coeff: 0.1337890625 \n",
      "\n",
      "\n"
     ]
    },
    {
     "name": "stderr",
     "output_type": "stream",
     "text": [
      "Train: 100%|██████████| 137/137 [00:19<00:00,  6.85batch/s]\n",
      "Valdt: 100%|██████████| 137/137 [00:05<00:00, 26.63batch/s]\n"
     ]
    },
    {
     "name": "stdout",
     "output_type": "stream",
     "text": [
      "Epoch: 261 / 6000, \n",
      "Train -- Loss: 0.0018912504116286425, Coeff: 0.033447265625 \n",
      "Val   -- Loss: 0.010947731221728702, Coeff: 0.1337890625 \n",
      "\n",
      "\n"
     ]
    },
    {
     "name": "stderr",
     "output_type": "stream",
     "text": [
      "Train: 100%|██████████| 137/137 [00:21<00:00,  6.42batch/s]\n",
      "Valdt: 100%|██████████| 137/137 [00:05<00:00, 26.68batch/s]\n"
     ]
    },
    {
     "name": "stdout",
     "output_type": "stream",
     "text": [
      "Epoch: 262 / 6000, \n",
      "Train -- Loss: 0.0018823331456243853, Coeff: 0.033447265625 \n",
      "Val   -- Loss: 0.01130125220906065, Coeff: 0.1337890625 \n",
      "\n",
      "\n"
     ]
    },
    {
     "name": "stderr",
     "output_type": "stream",
     "text": [
      "Train: 100%|██████████| 137/137 [00:19<00:00,  6.87batch/s]\n",
      "Valdt: 100%|██████████| 137/137 [00:05<00:00, 26.73batch/s]\n"
     ]
    },
    {
     "name": "stdout",
     "output_type": "stream",
     "text": [
      "Epoch: 263 / 6000, \n",
      "Train -- Loss: 0.0019225123110145142, Coeff: 0.033447265625 \n",
      "Val   -- Loss: 0.01094659488420955, Coeff: 0.1337890625 \n",
      "\n",
      "\n"
     ]
    },
    {
     "name": "stderr",
     "output_type": "stream",
     "text": [
      "Train: 100%|██████████| 137/137 [00:19<00:00,  6.85batch/s]\n",
      "Valdt: 100%|██████████| 137/137 [00:05<00:00, 26.60batch/s]\n"
     ]
    },
    {
     "name": "stdout",
     "output_type": "stream",
     "text": [
      "Epoch: 264 / 6000, \n",
      "Train -- Loss: 0.0019130544029149655, Coeff: 0.033447265625 \n",
      "Val   -- Loss: 0.011553872875330544, Coeff: 0.1337890625 \n",
      "\n",
      "\n"
     ]
    },
    {
     "name": "stderr",
     "output_type": "stream",
     "text": [
      "Train: 100%|██████████| 137/137 [00:19<00:00,  6.87batch/s]\n",
      "Valdt: 100%|██████████| 137/137 [00:05<00:00, 26.73batch/s]\n"
     ]
    },
    {
     "name": "stdout",
     "output_type": "stream",
     "text": [
      "Epoch: 265 / 6000, \n",
      "Train -- Loss: 0.0019050608885037969, Coeff: 0.033447265625 \n",
      "Val   -- Loss: 0.011445208752589356, Coeff: 0.1337890625 \n",
      "\n",
      "\n"
     ]
    },
    {
     "name": "stderr",
     "output_type": "stream",
     "text": [
      "Train: 100%|██████████| 137/137 [00:19<00:00,  6.86batch/s]\n",
      "Valdt: 100%|██████████| 137/137 [00:05<00:00, 26.79batch/s]\n"
     ]
    },
    {
     "name": "stdout",
     "output_type": "stream",
     "text": [
      "Epoch: 266 / 6000, \n",
      "Train -- Loss: 0.001945747116238285, Coeff: 0.033447265625 \n",
      "Val   -- Loss: 0.011778404358197096, Coeff: 0.1337890625 \n",
      "\n",
      "\n"
     ]
    },
    {
     "name": "stderr",
     "output_type": "stream",
     "text": [
      "Train: 100%|██████████| 137/137 [00:19<00:00,  6.87batch/s]\n",
      "Valdt: 100%|██████████| 137/137 [00:05<00:00, 26.67batch/s]\n"
     ]
    },
    {
     "name": "stdout",
     "output_type": "stream",
     "text": [
      "Epoch: 267 / 6000, \n",
      "Train -- Loss: 0.0029568814594372393, Coeff: 0.033447265625 \n",
      "Val   -- Loss: 0.015031953849842742, Coeff: 0.1337890625 \n",
      "\n",
      "\n"
     ]
    },
    {
     "name": "stderr",
     "output_type": "stream",
     "text": [
      "Train: 100%|██████████| 137/137 [00:19<00:00,  6.87batch/s]\n",
      "Valdt: 100%|██████████| 137/137 [00:05<00:00, 26.71batch/s]\n"
     ]
    },
    {
     "name": "stdout",
     "output_type": "stream",
     "text": [
      "Epoch: 268 / 6000, \n",
      "Train -- Loss: 0.002473182607671081, Coeff: 0.033447265625 \n",
      "Val   -- Loss: 0.012227891315917493, Coeff: 0.1337890625 \n",
      "\n",
      "\n"
     ]
    },
    {
     "name": "stderr",
     "output_type": "stream",
     "text": [
      "Train: 100%|██████████| 137/137 [00:19<00:00,  6.87batch/s]\n",
      "Valdt: 100%|██████████| 137/137 [00:05<00:00, 26.53batch/s]\n"
     ]
    },
    {
     "name": "stdout",
     "output_type": "stream",
     "text": [
      "Epoch: 269 / 6000, \n",
      "Train -- Loss: 0.0019858590155460176, Coeff: 0.033447265625 \n",
      "Val   -- Loss: 0.011362459700586861, Coeff: 0.1337890625 \n",
      "\n",
      "\n"
     ]
    },
    {
     "name": "stderr",
     "output_type": "stream",
     "text": [
      "Train: 100%|██████████| 137/137 [00:19<00:00,  6.87batch/s]\n",
      "Valdt: 100%|██████████| 137/137 [00:05<00:00, 26.68batch/s]\n"
     ]
    },
    {
     "name": "stdout",
     "output_type": "stream",
     "text": [
      "Epoch: 270 / 6000, \n",
      "Train -- Loss: 0.0018676609143882827, Coeff: 0.033447265625 \n",
      "Val   -- Loss: 0.011002773221466708, Coeff: 0.1337890625 \n",
      "\n",
      "\n"
     ]
    },
    {
     "name": "stderr",
     "output_type": "stream",
     "text": [
      "Train: 100%|██████████| 137/137 [00:21<00:00,  6.46batch/s]\n",
      "Valdt: 100%|██████████| 137/137 [00:05<00:00, 26.77batch/s]\n"
     ]
    },
    {
     "name": "stdout",
     "output_type": "stream",
     "text": [
      "Epoch: 271 / 6000, \n",
      "Train -- Loss: 0.0018286910712345212, Coeff: 0.033447265625 \n",
      "Val   -- Loss: 0.011580738318744226, Coeff: 0.1337890625 \n",
      "\n",
      "\n"
     ]
    },
    {
     "name": "stderr",
     "output_type": "stream",
     "text": [
      "Train: 100%|██████████| 137/137 [00:19<00:00,  6.89batch/s]\n",
      "Valdt: 100%|██████████| 137/137 [00:05<00:00, 26.72batch/s]\n"
     ]
    },
    {
     "name": "stdout",
     "output_type": "stream",
     "text": [
      "Epoch: 272 / 6000, \n",
      "Train -- Loss: 0.0018722558332660614, Coeff: 0.033447265625 \n",
      "Val   -- Loss: 0.010952087507313461, Coeff: 0.1337890625 \n",
      "\n",
      "\n"
     ]
    },
    {
     "name": "stderr",
     "output_type": "stream",
     "text": [
      "Train: 100%|██████████| 137/137 [00:19<00:00,  6.89batch/s]\n",
      "Valdt: 100%|██████████| 137/137 [00:05<00:00, 26.70batch/s]\n"
     ]
    },
    {
     "name": "stdout",
     "output_type": "stream",
     "text": [
      "Epoch: 273 / 6000, \n",
      "Train -- Loss: 0.001867381793005558, Coeff: 0.033447265625 \n",
      "Val   -- Loss: 0.01118801847121249, Coeff: 0.1337890625 \n",
      "\n",
      "\n"
     ]
    },
    {
     "name": "stderr",
     "output_type": "stream",
     "text": [
      "Train: 100%|██████████| 137/137 [00:19<00:00,  6.88batch/s]\n",
      "Valdt: 100%|██████████| 137/137 [00:05<00:00, 26.60batch/s]\n"
     ]
    },
    {
     "name": "stdout",
     "output_type": "stream",
     "text": [
      "Epoch: 274 / 6000, \n",
      "Train -- Loss: 0.0018627233500254088, Coeff: 0.033447265625 \n",
      "Val   -- Loss: 0.011727954336808111, Coeff: 0.1337890625 \n",
      "\n",
      "\n"
     ]
    },
    {
     "name": "stderr",
     "output_type": "stream",
     "text": [
      "Train: 100%|██████████| 137/137 [00:19<00:00,  6.88batch/s]\n",
      "Valdt: 100%|██████████| 137/137 [00:05<00:00, 26.75batch/s]\n"
     ]
    },
    {
     "name": "stdout",
     "output_type": "stream",
     "text": [
      "Epoch: 275 / 6000, \n",
      "Train -- Loss: 0.0019140291324111069, Coeff: 0.033447265625 \n",
      "Val   -- Loss: 0.011633474527561943, Coeff: 0.1337890625 \n",
      "\n",
      "\n"
     ]
    },
    {
     "name": "stderr",
     "output_type": "stream",
     "text": [
      "Train: 100%|██████████| 137/137 [00:19<00:00,  6.86batch/s]\n",
      "Valdt: 100%|██████████| 137/137 [00:05<00:00, 26.70batch/s]\n"
     ]
    },
    {
     "name": "stdout",
     "output_type": "stream",
     "text": [
      "Epoch: 276 / 6000, \n",
      "Train -- Loss: 0.0018998157453577055, Coeff: 0.033447265625 \n",
      "Val   -- Loss: 0.01087777301887533, Coeff: 0.1337890625 \n",
      "\n",
      "\n"
     ]
    },
    {
     "name": "stderr",
     "output_type": "stream",
     "text": [
      "Train: 100%|██████████| 137/137 [00:19<00:00,  6.86batch/s]\n",
      "Valdt: 100%|██████████| 137/137 [00:05<00:00, 26.65batch/s]\n"
     ]
    },
    {
     "name": "stdout",
     "output_type": "stream",
     "text": [
      "Epoch: 277 / 6000, \n",
      "Train -- Loss: 0.0018474756325442224, Coeff: 0.033447265625 \n",
      "Val   -- Loss: 0.011071913712844543, Coeff: 0.1337890625 \n",
      "\n",
      "\n"
     ]
    },
    {
     "name": "stderr",
     "output_type": "stream",
     "text": [
      "Train: 100%|██████████| 137/137 [00:19<00:00,  6.90batch/s]\n",
      "Valdt: 100%|██████████| 137/137 [00:05<00:00, 26.66batch/s]\n"
     ]
    },
    {
     "name": "stdout",
     "output_type": "stream",
     "text": [
      "Epoch: 278 / 6000, \n",
      "Train -- Loss: 0.0018863188678344008, Coeff: 0.033447265625 \n",
      "Val   -- Loss: 0.010820568250754956, Coeff: 0.1337890625 \n",
      "\n",
      "\n"
     ]
    },
    {
     "name": "stderr",
     "output_type": "stream",
     "text": [
      "Train: 100%|██████████| 137/137 [00:21<00:00,  6.45batch/s]\n",
      "Valdt: 100%|██████████| 137/137 [00:05<00:00, 26.87batch/s]\n"
     ]
    },
    {
     "name": "stdout",
     "output_type": "stream",
     "text": [
      "Epoch: 279 / 6000, \n",
      "Train -- Loss: 0.0019160905859427696, Coeff: 0.033447265625 \n",
      "Val   -- Loss: 0.011325239793708945, Coeff: 0.1337890625 \n",
      "\n",
      "\n"
     ]
    },
    {
     "name": "stderr",
     "output_type": "stream",
     "text": [
      "Train: 100%|██████████| 137/137 [00:19<00:00,  6.87batch/s]\n",
      "Valdt: 100%|██████████| 137/137 [00:05<00:00, 26.73batch/s]\n"
     ]
    },
    {
     "name": "stdout",
     "output_type": "stream",
     "text": [
      "Epoch: 280 / 6000, \n",
      "Train -- Loss: 0.0024924845328724173, Coeff: 0.033447265625 \n",
      "Val   -- Loss: 0.014217555453746025, Coeff: 0.1337890625 \n",
      "\n",
      "\n"
     ]
    },
    {
     "name": "stderr",
     "output_type": "stream",
     "text": [
      "Train: 100%|██████████| 137/137 [00:19<00:00,  6.90batch/s]\n",
      "Valdt: 100%|██████████| 137/137 [00:05<00:00, 26.62batch/s]\n"
     ]
    },
    {
     "name": "stdout",
     "output_type": "stream",
     "text": [
      "Epoch: 281 / 6000, \n",
      "Train -- Loss: 0.003032597727311924, Coeff: 0.033447265625 \n",
      "Val   -- Loss: 0.01227659800049869, Coeff: 0.1337890625 \n",
      "\n",
      "\n"
     ]
    },
    {
     "name": "stderr",
     "output_type": "stream",
     "text": [
      "Train:  35%|███▌      | 48/137 [00:07<00:12,  6.89batch/s]"
     ]
    }
   ],
   "source": [
    "epochs = 6000\n",
    "best = 1e6\n",
    "PATH = f\"./best_model_{dt_name}.pt\"\n",
    "\n",
    "early_stopper = EarlyStopper(patience=50, path=PATH)\n",
    "                             \n",
    "for epoch in range(epochs):\n",
    "    model.train()\n",
    "    Loss_train = 0 \n",
    "    Loss_val = 0\n",
    "    coeff_train = 0\n",
    "    coeff_val = 0\n",
    "    with tqdm(train_loader, unit=\"batch\") as trainer:\n",
    "        for batch in trainer:\n",
    "            trainer.set_description(\"Train\")\n",
    "            train_feat = batch[:, 0:-1].to(device)\n",
    "            train_labs = batch[:, -1].to(device)\n",
    "            train_pred = model(train_feat).squeeze()\n",
    "            train_loss = torch.nn.functional.mse_loss(train_pred, train_labs)\n",
    "            train_coef = coeff_determination(train_labs, train_labs) \n",
    "\n",
    "            optimizer.zero_grad()\n",
    "            train_loss.backward()\n",
    "            optimizer.step()\n",
    "\n",
    "            Loss_train += train_loss.item()\n",
    "            coeff_train += train_coef\n",
    "\n",
    "        Loss_train /= batch_sz_trn\n",
    "        coeff_train /= batch_sz_trn\n",
    "\n",
    "    model.eval()\n",
    "    with tqdm(val_loader, unit=\"batch\") as validator:\n",
    "        for batch in validator:\n",
    "            validator.set_description(\"Valdt\")\n",
    "            val_feat = batch[:, 0:-1].to(device)\n",
    "            val_labs = batch[:, -1].to(device)\n",
    "            val_pred = model(val_feat).squeeze()\n",
    "            val_loss = torch.nn.functional.mse_loss(val_pred, val_labs)\n",
    "            val_coef = coeff_determination(val_labs, val_labs) \n",
    "\n",
    "            Loss_val += val_loss.item()\n",
    "            coeff_val += val_coef\n",
    "\n",
    "        Loss_val /= batch_sz_val\n",
    "        coeff_val /= batch_sz_val\n",
    "    \n",
    "    if early_stopper.early_stop(model.state_dict(), Loss_val):             \n",
    "        break\n",
    "    \n",
    "    log_epoch_info(epoch, epochs, Loss_train, coeff_train, Loss_val, coeff_val)"
   ]
  },
  {
   "cell_type": "code",
   "execution_count": null,
   "id": "1280f733",
   "metadata": {},
   "outputs": [],
   "source": []
  }
 ],
 "metadata": {
  "kernelspec": {
   "display_name": "Python 3 (ipykernel)",
   "language": "python",
   "name": "python3"
  },
  "language_info": {
   "codemirror_mode": {
    "name": "ipython",
    "version": 3
   },
   "file_extension": ".py",
   "mimetype": "text/x-python",
   "name": "python",
   "nbconvert_exporter": "python",
   "pygments_lexer": "ipython3",
   "version": "3.8.10"
  }
 },
 "nbformat": 4,
 "nbformat_minor": 5
}
