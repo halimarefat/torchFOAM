{
 "cells": [
  {
   "cell_type": "code",
   "execution_count": 86,
   "id": "fc11f749",
   "metadata": {},
   "outputs": [],
   "source": [
    "import numpy as np\n",
    "import pandas as pd\n",
    "import matplotlib.pyplot as plt\n",
    "import seaborn as sns\n",
    "import torch\n",
    "import torch.nn as nn\n",
    "from torch.optim.lr_scheduler import StepLR\n",
    "from tqdm import tqdm\n",
    "import sys\n",
    "import random\n",
    "from sklearn.preprocessing import StandardScaler\n",
    "from IPython.display import display, Math\n",
    "from torch.utils.data import DataLoader, Dataset\n",
    "\n",
    "sys_epsilon = sys.float_info.epsilon"
   ]
  },
  {
   "cell_type": "markdown",
   "id": "23547dc2",
   "metadata": {},
   "source": [
    "# Data Preprocessing"
   ]
  },
  {
   "cell_type": "markdown",
   "id": "20a19882",
   "metadata": {},
   "source": [
    "In this section, we preprocess the CFD data collected from DSM-based LES of flow past a sphere at $\\mathcal{R}e=10^3$, $5\\times 10^3$, and $10^4$. The data for each Reynolds number is collected from $t=300$ to $320$. From $t=300$ to $310$, data is collected at every ten variable time-steps. However, from $t=310$ to $320$, data is collected with $\\Delta t =1$."
   ]
  },
  {
   "cell_type": "code",
   "execution_count": 2,
   "id": "c7c8de98",
   "metadata": {},
   "outputs": [],
   "source": [
    "paths = [\"/home/hmarefat/scratch/torchFOAM/Case_dS/postProcessing/fieldData.dat\",\n",
    "         \"/home/hmarefat/scratch/torchFOAM/Case_dS_R53/postProcessing/fieldData.dat\",\n",
    "         \"/home/hmarefat/scratch/torchFOAM/Case_dS_R4/postProcessing/fieldData.dat\"]\n",
    "nCols = 26\n",
    "names = ['_R3', '_R53', '_R4']"
   ]
  },
  {
   "cell_type": "code",
   "execution_count": 3,
   "id": "7e90423a",
   "metadata": {},
   "outputs": [],
   "source": [
    "def returnRandmIndx(maxIndx, count):\n",
    "    return np.array(random.sample(range(1,maxIndx), count))"
   ]
  },
  {
   "cell_type": "code",
   "execution_count": 15,
   "id": "2c178a86",
   "metadata": {},
   "outputs": [],
   "source": [
    "random.seed(35)\n",
    "\n",
    "count = 1000000\n",
    "Indx_R3 = returnRandmIndx(4956526, count)\n",
    "Indx_R53 = returnRandmIndx(5900626, count)\n",
    "Indx_R4 = returnRandmIndx(4012425, count)"
   ]
  },
  {
   "cell_type": "code",
   "execution_count": 5,
   "id": "36ec805a",
   "metadata": {},
   "outputs": [
    {
     "data": {
      "text/plain": [
       "array([4602784, 2813286, 1104994, 2856052, 1292255, 2398361, 3621576,\n",
       "       2115176, 4754160,  518511])"
      ]
     },
     "execution_count": 5,
     "metadata": {},
     "output_type": "execute_result"
    }
   ],
   "source": [
    "Indx_R3[0:10]"
   ]
  },
  {
   "cell_type": "code",
   "execution_count": 6,
   "id": "0d0e40f3",
   "metadata": {},
   "outputs": [],
   "source": [
    "random.shuffle(Indx_R3)"
   ]
  },
  {
   "cell_type": "code",
   "execution_count": 7,
   "id": "186c4981",
   "metadata": {},
   "outputs": [
    {
     "data": {
      "text/plain": [
       "array([1433998, 3617811, 4647835, 4488912, 3146260, 4916233, 2427443,\n",
       "       3525259, 1800030,  748959])"
      ]
     },
     "execution_count": 7,
     "metadata": {},
     "output_type": "execute_result"
    }
   ],
   "source": [
    "Indx_R3[0:10]"
   ]
  },
  {
   "cell_type": "code",
   "execution_count": 8,
   "id": "c26707fa",
   "metadata": {},
   "outputs": [],
   "source": [
    "def splitterIndx(indx):\n",
    "    seen = indx[:int(0.7*indx.shape[0])]\n",
    "    unseen = indx[int(0.7*indx.shape[0]):]\n",
    "    \n",
    "    return seen, unseen"
   ]
  },
  {
   "cell_type": "code",
   "execution_count": 16,
   "id": "99346cda",
   "metadata": {},
   "outputs": [],
   "source": [
    "index_data = []\n",
    "\n",
    "for indx in [Indx_R3, Indx_R53, Indx_R4]:\n",
    "    seen, unseen = splitterIndx(indx)\n",
    "    index_data.append((seen, unseen))\n",
    "\n",
    "index_array = np.array(index_data, dtype=object)"
   ]
  },
  {
   "cell_type": "code",
   "execution_count": 17,
   "id": "89c64086",
   "metadata": {},
   "outputs": [
    {
     "data": {
      "text/plain": [
       "((700000,), (300000,))"
      ]
     },
     "execution_count": 17,
     "metadata": {},
     "output_type": "execute_result"
    }
   ],
   "source": [
    "index_array[2,0].shape, index_array[2,1].shape"
   ]
  },
  {
   "cell_type": "code",
   "execution_count": 18,
   "id": "2c6a0bcd",
   "metadata": {},
   "outputs": [],
   "source": [
    "def scaler(name, ds):\n",
    "    scaler = StandardScaler()\n",
    "    scaler.fit(ds)\n",
    "    np.savetxt(f'../processedDatasets/{name}_means.txt',scaler.mean_)\n",
    "    np.savetxt(f'../processedDatasets/{name}_scales.txt',scaler.scale_)\n",
    "    ds_norm = scaler.transform(ds)   \n",
    "    np.savetxt(f'../processedDatasets/{name}_norm.txt', ds_norm, fmt='%.18e')\n",
    "    np.savetxt(f'../processedDatasets/{name}.txt', ds, fmt='%.18e')"
   ]
  },
  {
   "cell_type": "code",
   "execution_count": 19,
   "id": "e180dfeb",
   "metadata": {},
   "outputs": [
    {
     "name": "stdout",
     "output_type": "stream",
     "text": [
      "Starting to preprocess dataset fieldData_R3\n",
      "Reading raw file is done!\n",
      "\n",
      "\n",
      "Starting to preprocess dataset fieldData_R53\n",
      "Reading raw file is done!\n",
      "\n",
      "\n",
      "Starting to preprocess dataset fieldData_R4\n",
      "Reading raw file is done!\n",
      "\n",
      "\n"
     ]
    }
   ],
   "source": [
    "data = []\n",
    "\n",
    "for i, path in enumerate(paths):\n",
    "    name = path.split('/')[-1][:-4]+names[i]\n",
    "    print(f'Starting to preprocess dataset {name}')\n",
    "    data.clear()\n",
    "    \n",
    "    with open(path, \"r\") as f:\n",
    "        next(f)\n",
    "        for line in f:\n",
    "            l = line.split()\n",
    "            try:\n",
    "                data.append([float(x) for x in l]) #(l)\n",
    "            except ValueError as e:\n",
    "                print(f\"Error converting line to float: {line.strip()} - {e}\")\n",
    "                continue\n",
    "                \n",
    "    #data.pop(0)\n",
    "    print('Reading raw file is done!')\n",
    "    ds = np.array(data) \n",
    "    \n",
    "    ds_seen = ds[index_array[i,0]]\n",
    "    ds_unseen = ds[index_array[i,1]]\n",
    "    \n",
    "    scaler(name+'_seen', ds_seen)\n",
    "    scaler(name+'_unseen', ds_unseen)\n",
    "    \n",
    "    print('\\n')"
   ]
  },
  {
   "cell_type": "markdown",
   "id": "d853dd48",
   "metadata": {},
   "source": [
    "# Data Preparation"
   ]
  },
  {
   "cell_type": "code",
   "execution_count": 94,
   "id": "3f578c60",
   "metadata": {},
   "outputs": [],
   "source": [
    "headers = [\"t\",                                             # time\n",
    "           \"X\", \"Y\", \"Z\",                                   # spacial coordinates\n",
    "           \"Ux\", \"Uy\", \"Uz\",                                # velocity components\n",
    "           \"G1\", \"G2\", \"G3\", \"G4\", \"G5\", \"G6\",              # velocity gradient tensor components\n",
    "           \"S1\", \"S2\", \"S3\", \"S4\", \"S5\", \"S6\",              # strain rate tensor compnents\n",
    "           \"UUp1\", \"UUp2\", \"UUp3\", \"UUp4\", \"UUp5\", \"UUp6\",  # resolved Reynolds stress tensor components\n",
    "           \"Cs\"]                                            # Smagorinsky coefficient"
   ]
  },
  {
   "cell_type": "markdown",
   "id": "4e0f9f4c",
   "metadata": {},
   "source": [
    "### Dataset Loading"
   ]
  },
  {
   "cell_type": "markdown",
   "id": "6deaec83",
   "metadata": {},
   "source": [
    "#### $\\mathcal Re = 10^3$"
   ]
  },
  {
   "cell_type": "code",
   "execution_count": 95,
   "id": "fed9fe71",
   "metadata": {},
   "outputs": [],
   "source": [
    "# Re = 10^3 seen\n",
    "dSn_R103_seen_means = pd.read_csv('../processedDatasets/fieldData_R3_seen_means.txt', sep=' ', names=headers) \n",
    "dSn_R103_seen_scales = pd.read_csv('../processedDatasets/fieldData_R3_seen_scales.txt', sep=' ', names=headers) \n",
    "dSn_R103_seen = pd.read_csv('../processedDatasets/fieldData_R3_seen_norm.txt', sep=' ', names=headers)\n",
    "dS_R103_seen = pd.read_csv('../processedDatasets/fieldData_R3_seen.txt', sep=' ', names=headers)\n",
    "\n",
    "# Re = 10^3 unseen\n",
    "dSn_R103_unseen_means = pd.read_csv('../processedDatasets/fieldData_R3_unseen_means.txt', sep=' ', names=headers) \n",
    "dSn_R103_unseen_scales = pd.read_csv('../processedDatasets/fieldData_R3_unseen_scales.txt', sep=' ', names=headers) \n",
    "dSn_R103_unseen = pd.read_csv('../processedDatasets/fieldData_R3_unseen_norm.txt', sep=' ', names=headers)\n",
    "dS_R103_unseen = pd.read_csv('../processedDatasets/fieldData_R3_unseen.txt', sep=' ', names=headers)"
   ]
  },
  {
   "cell_type": "markdown",
   "id": "8fbe3e18",
   "metadata": {},
   "source": [
    "#### $\\mathcal Re = 5\\times 10^3$"
   ]
  },
  {
   "cell_type": "code",
   "execution_count": 96,
   "id": "16523412",
   "metadata": {},
   "outputs": [],
   "source": [
    "# Re = 5 x 10^3 seen\n",
    "dSn_R503_seen_means = pd.read_csv('../processedDatasets/fieldData_R53_seen_means.txt', sep=' ', names=headers) \n",
    "dSn_R503_seen_scales = pd.read_csv('../processedDatasets/fieldData_R53_seen_scales.txt', sep=' ', names=headers) \n",
    "dSn_R503_seen = pd.read_csv('../processedDatasets/fieldData_R53_seen_norm.txt', sep=' ', names=headers)\n",
    "dS_R503_seen = pd.read_csv('../processedDatasets/fieldData_R53_seen.txt', sep=' ', names=headers)\n",
    "\n",
    "# Re = 5 x 10^3 unseen\n",
    "dSn_R503_unseen_means = pd.read_csv('../processedDatasets/fieldData_R53_unseen_means.txt', sep=' ', names=headers) \n",
    "dSn_R503_unseen_scales = pd.read_csv('../processedDatasets/fieldData_R53_unseen_scales.txt', sep=' ', names=headers) \n",
    "dSn_R503_unseen = pd.read_csv('../processedDatasets/fieldData_R53_unseen_norm.txt', sep=' ', names=headers)\n",
    "dS_R503_unseen = pd.read_csv('../processedDatasets/fieldData_R53_unseen.txt', sep=' ', names=headers)"
   ]
  },
  {
   "cell_type": "markdown",
   "id": "7bdc22c8",
   "metadata": {},
   "source": [
    "#### $\\mathcal Re = 10^4$"
   ]
  },
  {
   "cell_type": "code",
   "execution_count": 97,
   "id": "42cdb6b1",
   "metadata": {},
   "outputs": [],
   "source": [
    "# Re = 10^4 seen\n",
    "dSn_R104_seen_means = pd.read_csv('../processedDatasets/fieldData_R4_seen_means.txt', sep=' ', names=headers) \n",
    "dSn_R104_seen_scales = pd.read_csv('../processedDatasets/fieldData_R4_seen_scales.txt', sep=' ', names=headers) \n",
    "dSn_R104_seen = pd.read_csv('../processedDatasets/fieldData_R4_seen_norm.txt', sep=' ', names=headers)\n",
    "dS_R104_seen = pd.read_csv('../processedDatasets/fieldData_R4_seen.txt', sep=' ', names=headers)\n",
    "\n",
    "# Re = 10^4 unseen\n",
    "dSn_R104_unseen_means = pd.read_csv('../processedDatasets/fieldData_R4_unseen_means.txt', sep=' ', names=headers) \n",
    "dSn_R104_unseen_scales = pd.read_csv('../processedDatasets/fieldData_R4_unseen_scales.txt', sep=' ', names=headers) \n",
    "dSn_R104_unseen = pd.read_csv('../processedDatasets/fieldData_R4_unseen_norm.txt', sep=' ', names=headers)\n",
    "dS_R104_unseen = pd.read_csv('../processedDatasets/fieldData_R4_unseen.txt', sep=' ', names=headers)"
   ]
  },
  {
   "cell_type": "markdown",
   "id": "7fb8ea05",
   "metadata": {},
   "source": [
    "# Model Configuration Setup"
   ]
  },
  {
   "cell_type": "markdown",
   "id": "7d5c50da",
   "metadata": {},
   "source": [
    "In this section, we consider the different model configurations as presented in the following table.\n",
    "\n",
    "$$\n",
    "\\begin{array}{|l|c|c|c|c|}\n",
    "    \\hline\n",
    "    \\textbf{Model} & \\textbf{Inputs} & \\textbf{No. of Inputs} & \\textbf{Outputs} & \\textbf{No. of Outputs} \\\\\n",
    "    \\hline\n",
    "    \\mathbf{M1} & u_i \\, \\text{and} \\, \\mathcal{S}_{ij} & 9 & c_s & 1\\\\\n",
    "    \\mathbf{M2} & \\mathcal{G}_{ij} \\, \\text{and} \\, \\mathcal{S}_{ij} & 12 & c_s & 1 \\\\\n",
    "    \\mathbf{M3} & u_i \\, \\text{and} \\, \\tau^{'}_{ij} & 9 & c_s & 1 \\\\\n",
    "    \\mathbf{M4} & \\mathcal{G}_{ij} \\, \\text{and} \\, \\tau^{'}_{ij} & 12 & c_s & 1 \\\\\n",
    "    \\hline\n",
    "\\end{array}\n",
    "$$"
   ]
  },
  {
   "cell_type": "code",
   "execution_count": 98,
   "id": "0e97f2fc",
   "metadata": {},
   "outputs": [],
   "source": [
    "R103 = dSn_R103_seen\n",
    "R503 = dSn_R503_seen\n",
    "R104 = dSn_R104_seen\n",
    "\n",
    "R103_un = dSn_R103_unseen\n",
    "R503_un = dSn_R503_unseen\n",
    "R104_un = dSn_R104_unseen"
   ]
  },
  {
   "cell_type": "code",
   "execution_count": 99,
   "id": "25643e29",
   "metadata": {},
   "outputs": [],
   "source": [
    "M1_headers = ['Ux', 'Uy', 'Uz', 'S1',  'S2', 'S3', 'S4', 'S5', 'S6', 'Cs']\n",
    "M2_headers = ['G1', 'G2', 'G3', 'G4', 'G5', 'G6', 'S1',  'S2', 'S3', 'S4', 'S5', 'S6', 'Cs']\n",
    "M3_headers = ['Ux', 'Uy', 'Uz', 'UUp1',  'UUp2', 'UUp3', 'UUp4', 'UUp5', 'UUp6', 'Cs']\n",
    "M4_headers = ['G1', 'G2', 'G3', 'G4', 'G5', 'G6', 'UUp1',  'UUp2', 'UUp3', 'UUp4', 'UUp5', 'UUp6', 'Cs']\n",
    "\n",
    "M1_103 = R103.filter(M1_headers, axis=1)\n",
    "M2_103 = R103.filter(M2_headers, axis=1)\n",
    "M3_103 = R103.filter(M3_headers, axis=1)\n",
    "M4_103 = R103.filter(M4_headers, axis=1)\n",
    "\n",
    "M1_503 = R503.filter(M1_headers, axis=1)\n",
    "M2_503 = R503.filter(M2_headers, axis=1)\n",
    "M3_503 = R503.filter(M3_headers, axis=1)\n",
    "M4_503 = R503.filter(M4_headers, axis=1)\n",
    "\n",
    "M1_104 = R104.filter(M1_headers, axis=1)\n",
    "M2_104 = R104.filter(M2_headers, axis=1)\n",
    "M3_104 = R104.filter(M3_headers, axis=1)\n",
    "M4_104 = R104.filter(M4_headers, axis=1)\n",
    "\n",
    "M1_103_test = R103_un.filter(M1_headers, axis=1)\n",
    "M2_103_test = R103_un.filter(M2_headers, axis=1)\n",
    "M3_103_test = R103_un.filter(M3_headers, axis=1)\n",
    "M4_103_test = R103_un.filter(M4_headers, axis=1)\n",
    "\n",
    "M1_503_test = R503_un.filter(M1_headers, axis=1)\n",
    "M2_503_test = R503_un.filter(M2_headers, axis=1)\n",
    "M3_503_test = R503_un.filter(M3_headers, axis=1)\n",
    "M4_503_test = R503_un.filter(M4_headers, axis=1)\n",
    "\n",
    "M1_104_test = R104_un.filter(M1_headers, axis=1)\n",
    "M2_104_test = R104_un.filter(M2_headers, axis=1)\n",
    "M3_104_test = R104_un.filter(M3_headers, axis=1)\n",
    "M4_104_test = R104_un.filter(M4_headers, axis=1)"
   ]
  },
  {
   "cell_type": "markdown",
   "id": "409f8b5e",
   "metadata": {},
   "source": [
    "# Model Training"
   ]
  },
  {
   "cell_type": "code",
   "execution_count": 100,
   "id": "96144172",
   "metadata": {},
   "outputs": [],
   "source": [
    "def namestr(obj, namespace):\n",
    "    return [name for name in namespace if namespace[name] is obj]"
   ]
  },
  {
   "cell_type": "code",
   "execution_count": 101,
   "id": "c0c88265",
   "metadata": {},
   "outputs": [],
   "source": [
    "dt = M1_103\n",
    "dt_name = namestr(M1_103, globals())[0]"
   ]
  },
  {
   "cell_type": "code",
   "execution_count": 102,
   "id": "6ff2b85b",
   "metadata": {},
   "outputs": [],
   "source": [
    "output_size = 1\n",
    "input_size = dt.shape[1] - output_size \n",
    "neurons_per_layer = [60, 60, 60, 60, 60] \n",
    "hidden_layers = len(neurons_per_layer) \n",
    "\n",
    "split_sz = 0.8\n",
    "mask = np.random.rand(len(dt)) < split_sz\n",
    "train = dt[mask].reset_index(drop=True) \n",
    "val = dt[~mask].reset_index(drop=True)"
   ]
  },
  {
   "cell_type": "code",
   "execution_count": 103,
   "id": "be52c988",
   "metadata": {},
   "outputs": [
    {
     "data": {
      "text/html": [
       "<div>\n",
       "<style scoped>\n",
       "    .dataframe tbody tr th:only-of-type {\n",
       "        vertical-align: middle;\n",
       "    }\n",
       "\n",
       "    .dataframe tbody tr th {\n",
       "        vertical-align: top;\n",
       "    }\n",
       "\n",
       "    .dataframe thead th {\n",
       "        text-align: right;\n",
       "    }\n",
       "</style>\n",
       "<table border=\"1\" class=\"dataframe\">\n",
       "  <thead>\n",
       "    <tr style=\"text-align: right;\">\n",
       "      <th></th>\n",
       "      <th>Ux</th>\n",
       "      <th>Uy</th>\n",
       "      <th>Uz</th>\n",
       "      <th>S1</th>\n",
       "      <th>S2</th>\n",
       "      <th>S3</th>\n",
       "      <th>S4</th>\n",
       "      <th>S5</th>\n",
       "      <th>S6</th>\n",
       "      <th>Cs</th>\n",
       "    </tr>\n",
       "  </thead>\n",
       "  <tbody>\n",
       "    <tr>\n",
       "      <th>0</th>\n",
       "      <td>0.256586</td>\n",
       "      <td>-1.037380</td>\n",
       "      <td>0.032353</td>\n",
       "      <td>0.179013</td>\n",
       "      <td>-0.165670</td>\n",
       "      <td>-0.044446</td>\n",
       "      <td>0.681956</td>\n",
       "      <td>-0.266878</td>\n",
       "      <td>0.125857</td>\n",
       "      <td>5.377695</td>\n",
       "    </tr>\n",
       "    <tr>\n",
       "      <th>1</th>\n",
       "      <td>0.405770</td>\n",
       "      <td>0.198436</td>\n",
       "      <td>-0.115980</td>\n",
       "      <td>-0.009625</td>\n",
       "      <td>-0.022173</td>\n",
       "      <td>0.019609</td>\n",
       "      <td>0.059045</td>\n",
       "      <td>-0.064982</td>\n",
       "      <td>-0.034462</td>\n",
       "      <td>-0.518536</td>\n",
       "    </tr>\n",
       "    <tr>\n",
       "      <th>2</th>\n",
       "      <td>0.483732</td>\n",
       "      <td>0.135156</td>\n",
       "      <td>0.074298</td>\n",
       "      <td>0.036092</td>\n",
       "      <td>-0.062360</td>\n",
       "      <td>0.089373</td>\n",
       "      <td>-0.129665</td>\n",
       "      <td>0.344781</td>\n",
       "      <td>0.088810</td>\n",
       "      <td>0.014761</td>\n",
       "    </tr>\n",
       "    <tr>\n",
       "      <th>3</th>\n",
       "      <td>0.273207</td>\n",
       "      <td>-0.739299</td>\n",
       "      <td>1.223583</td>\n",
       "      <td>-0.124293</td>\n",
       "      <td>0.093676</td>\n",
       "      <td>-0.239736</td>\n",
       "      <td>-0.033031</td>\n",
       "      <td>-0.629884</td>\n",
       "      <td>0.294321</td>\n",
       "      <td>-0.474977</td>\n",
       "    </tr>\n",
       "    <tr>\n",
       "      <th>4</th>\n",
       "      <td>0.441165</td>\n",
       "      <td>0.000057</td>\n",
       "      <td>-0.644073</td>\n",
       "      <td>0.283349</td>\n",
       "      <td>0.025366</td>\n",
       "      <td>-0.111974</td>\n",
       "      <td>0.030496</td>\n",
       "      <td>0.616915</td>\n",
       "      <td>-0.321619</td>\n",
       "      <td>0.235588</td>\n",
       "    </tr>\n",
       "    <tr>\n",
       "      <th>...</th>\n",
       "      <td>...</td>\n",
       "      <td>...</td>\n",
       "      <td>...</td>\n",
       "      <td>...</td>\n",
       "      <td>...</td>\n",
       "      <td>...</td>\n",
       "      <td>...</td>\n",
       "      <td>...</td>\n",
       "      <td>...</td>\n",
       "      <td>...</td>\n",
       "    </tr>\n",
       "    <tr>\n",
       "      <th>559945</th>\n",
       "      <td>0.071412</td>\n",
       "      <td>-1.093466</td>\n",
       "      <td>-0.059101</td>\n",
       "      <td>0.386222</td>\n",
       "      <td>0.923274</td>\n",
       "      <td>-0.021180</td>\n",
       "      <td>-0.307615</td>\n",
       "      <td>-0.018244</td>\n",
       "      <td>-0.165543</td>\n",
       "      <td>-0.330632</td>\n",
       "    </tr>\n",
       "    <tr>\n",
       "      <th>559946</th>\n",
       "      <td>0.352909</td>\n",
       "      <td>-0.612266</td>\n",
       "      <td>0.615389</td>\n",
       "      <td>-0.082247</td>\n",
       "      <td>0.082736</td>\n",
       "      <td>-0.101877</td>\n",
       "      <td>0.006784</td>\n",
       "      <td>-0.386773</td>\n",
       "      <td>0.109398</td>\n",
       "      <td>-0.575114</td>\n",
       "    </tr>\n",
       "    <tr>\n",
       "      <th>559947</th>\n",
       "      <td>0.341136</td>\n",
       "      <td>0.675160</td>\n",
       "      <td>-0.454757</td>\n",
       "      <td>0.063029</td>\n",
       "      <td>0.142742</td>\n",
       "      <td>-0.087494</td>\n",
       "      <td>-0.122395</td>\n",
       "      <td>0.264377</td>\n",
       "      <td>0.056332</td>\n",
       "      <td>0.228152</td>\n",
       "    </tr>\n",
       "    <tr>\n",
       "      <th>559948</th>\n",
       "      <td>0.398007</td>\n",
       "      <td>-0.270934</td>\n",
       "      <td>1.094988</td>\n",
       "      <td>-0.153261</td>\n",
       "      <td>0.080088</td>\n",
       "      <td>-0.549146</td>\n",
       "      <td>-0.196775</td>\n",
       "      <td>-0.392620</td>\n",
       "      <td>0.566632</td>\n",
       "      <td>-0.424977</td>\n",
       "    </tr>\n",
       "    <tr>\n",
       "      <th>559949</th>\n",
       "      <td>0.449428</td>\n",
       "      <td>-0.371060</td>\n",
       "      <td>-0.595060</td>\n",
       "      <td>-0.153992</td>\n",
       "      <td>-0.062624</td>\n",
       "      <td>0.100971</td>\n",
       "      <td>0.070371</td>\n",
       "      <td>0.426979</td>\n",
       "      <td>0.112428</td>\n",
       "      <td>-0.302533</td>\n",
       "    </tr>\n",
       "  </tbody>\n",
       "</table>\n",
       "<p>559950 rows × 10 columns</p>\n",
       "</div>"
      ],
      "text/plain": [
       "              Ux        Uy        Uz        S1        S2        S3        S4  \\\n",
       "0       0.256586 -1.037380  0.032353  0.179013 -0.165670 -0.044446  0.681956   \n",
       "1       0.405770  0.198436 -0.115980 -0.009625 -0.022173  0.019609  0.059045   \n",
       "2       0.483732  0.135156  0.074298  0.036092 -0.062360  0.089373 -0.129665   \n",
       "3       0.273207 -0.739299  1.223583 -0.124293  0.093676 -0.239736 -0.033031   \n",
       "4       0.441165  0.000057 -0.644073  0.283349  0.025366 -0.111974  0.030496   \n",
       "...          ...       ...       ...       ...       ...       ...       ...   \n",
       "559945  0.071412 -1.093466 -0.059101  0.386222  0.923274 -0.021180 -0.307615   \n",
       "559946  0.352909 -0.612266  0.615389 -0.082247  0.082736 -0.101877  0.006784   \n",
       "559947  0.341136  0.675160 -0.454757  0.063029  0.142742 -0.087494 -0.122395   \n",
       "559948  0.398007 -0.270934  1.094988 -0.153261  0.080088 -0.549146 -0.196775   \n",
       "559949  0.449428 -0.371060 -0.595060 -0.153992 -0.062624  0.100971  0.070371   \n",
       "\n",
       "              S5        S6        Cs  \n",
       "0      -0.266878  0.125857  5.377695  \n",
       "1      -0.064982 -0.034462 -0.518536  \n",
       "2       0.344781  0.088810  0.014761  \n",
       "3      -0.629884  0.294321 -0.474977  \n",
       "4       0.616915 -0.321619  0.235588  \n",
       "...          ...       ...       ...  \n",
       "559945 -0.018244 -0.165543 -0.330632  \n",
       "559946 -0.386773  0.109398 -0.575114  \n",
       "559947  0.264377  0.056332  0.228152  \n",
       "559948 -0.392620  0.566632 -0.424977  \n",
       "559949  0.426979  0.112428 -0.302533  \n",
       "\n",
       "[559950 rows x 10 columns]"
      ]
     },
     "execution_count": 103,
     "metadata": {},
     "output_type": "execute_result"
    }
   ],
   "source": [
    "train"
   ]
  },
  {
   "cell_type": "code",
   "execution_count": 104,
   "id": "3b9bfd33",
   "metadata": {},
   "outputs": [
    {
     "data": {
      "text/html": [
       "<div>\n",
       "<style scoped>\n",
       "    .dataframe tbody tr th:only-of-type {\n",
       "        vertical-align: middle;\n",
       "    }\n",
       "\n",
       "    .dataframe tbody tr th {\n",
       "        vertical-align: top;\n",
       "    }\n",
       "\n",
       "    .dataframe thead th {\n",
       "        text-align: right;\n",
       "    }\n",
       "</style>\n",
       "<table border=\"1\" class=\"dataframe\">\n",
       "  <thead>\n",
       "    <tr style=\"text-align: right;\">\n",
       "      <th></th>\n",
       "      <th>Ux</th>\n",
       "      <th>Uy</th>\n",
       "      <th>Uz</th>\n",
       "      <th>S1</th>\n",
       "      <th>S2</th>\n",
       "      <th>S3</th>\n",
       "      <th>S4</th>\n",
       "      <th>S5</th>\n",
       "      <th>S6</th>\n",
       "      <th>Cs</th>\n",
       "    </tr>\n",
       "  </thead>\n",
       "  <tbody>\n",
       "    <tr>\n",
       "      <th>0</th>\n",
       "      <td>0.151697</td>\n",
       "      <td>0.896921</td>\n",
       "      <td>-0.611916</td>\n",
       "      <td>-1.198093</td>\n",
       "      <td>0.063899</td>\n",
       "      <td>-1.716066</td>\n",
       "      <td>1.564544</td>\n",
       "      <td>0.378995</td>\n",
       "      <td>-1.276389</td>\n",
       "      <td>0.470168</td>\n",
       "    </tr>\n",
       "    <tr>\n",
       "      <th>1</th>\n",
       "      <td>0.368097</td>\n",
       "      <td>0.166111</td>\n",
       "      <td>-0.022698</td>\n",
       "      <td>-0.025856</td>\n",
       "      <td>0.045116</td>\n",
       "      <td>0.079135</td>\n",
       "      <td>0.163089</td>\n",
       "      <td>-0.054048</td>\n",
       "      <td>-0.116564</td>\n",
       "      <td>0.007707</td>\n",
       "    </tr>\n",
       "    <tr>\n",
       "      <th>2</th>\n",
       "      <td>0.836546</td>\n",
       "      <td>0.668290</td>\n",
       "      <td>-0.624432</td>\n",
       "      <td>-0.288837</td>\n",
       "      <td>-0.066660</td>\n",
       "      <td>0.099825</td>\n",
       "      <td>0.226816</td>\n",
       "      <td>0.494591</td>\n",
       "      <td>-0.286807</td>\n",
       "      <td>0.101043</td>\n",
       "    </tr>\n",
       "    <tr>\n",
       "      <th>3</th>\n",
       "      <td>0.379332</td>\n",
       "      <td>0.265818</td>\n",
       "      <td>-0.731130</td>\n",
       "      <td>-0.153895</td>\n",
       "      <td>0.041697</td>\n",
       "      <td>-0.012102</td>\n",
       "      <td>-0.120492</td>\n",
       "      <td>-0.337773</td>\n",
       "      <td>0.254866</td>\n",
       "      <td>-0.515654</td>\n",
       "    </tr>\n",
       "    <tr>\n",
       "      <th>4</th>\n",
       "      <td>0.399596</td>\n",
       "      <td>-0.191945</td>\n",
       "      <td>-0.057558</td>\n",
       "      <td>0.043972</td>\n",
       "      <td>0.020775</td>\n",
       "      <td>0.074682</td>\n",
       "      <td>0.064291</td>\n",
       "      <td>0.053046</td>\n",
       "      <td>-0.113168</td>\n",
       "      <td>0.092444</td>\n",
       "    </tr>\n",
       "    <tr>\n",
       "      <th>...</th>\n",
       "      <td>...</td>\n",
       "      <td>...</td>\n",
       "      <td>...</td>\n",
       "      <td>...</td>\n",
       "      <td>...</td>\n",
       "      <td>...</td>\n",
       "      <td>...</td>\n",
       "      <td>...</td>\n",
       "      <td>...</td>\n",
       "      <td>...</td>\n",
       "    </tr>\n",
       "    <tr>\n",
       "      <th>140045</th>\n",
       "      <td>0.408677</td>\n",
       "      <td>-0.081545</td>\n",
       "      <td>-0.603177</td>\n",
       "      <td>-0.229717</td>\n",
       "      <td>0.203787</td>\n",
       "      <td>-0.051251</td>\n",
       "      <td>0.228232</td>\n",
       "      <td>-0.077136</td>\n",
       "      <td>0.201801</td>\n",
       "      <td>0.161237</td>\n",
       "    </tr>\n",
       "    <tr>\n",
       "      <th>140046</th>\n",
       "      <td>0.387106</td>\n",
       "      <td>-0.819364</td>\n",
       "      <td>0.773560</td>\n",
       "      <td>0.190289</td>\n",
       "      <td>-0.108191</td>\n",
       "      <td>0.120848</td>\n",
       "      <td>-0.114782</td>\n",
       "      <td>0.510844</td>\n",
       "      <td>-0.121200</td>\n",
       "      <td>0.247018</td>\n",
       "    </tr>\n",
       "    <tr>\n",
       "      <th>140047</th>\n",
       "      <td>-0.347242</td>\n",
       "      <td>-0.102225</td>\n",
       "      <td>0.326274</td>\n",
       "      <td>-0.727576</td>\n",
       "      <td>1.153021</td>\n",
       "      <td>-0.110290</td>\n",
       "      <td>1.571345</td>\n",
       "      <td>0.020547</td>\n",
       "      <td>-0.708087</td>\n",
       "      <td>-0.220649</td>\n",
       "    </tr>\n",
       "    <tr>\n",
       "      <th>140048</th>\n",
       "      <td>0.353708</td>\n",
       "      <td>-0.069333</td>\n",
       "      <td>0.053761</td>\n",
       "      <td>-0.022119</td>\n",
       "      <td>-0.033151</td>\n",
       "      <td>-0.057264</td>\n",
       "      <td>-0.032834</td>\n",
       "      <td>-0.065366</td>\n",
       "      <td>0.068294</td>\n",
       "      <td>-0.208105</td>\n",
       "    </tr>\n",
       "    <tr>\n",
       "      <th>140049</th>\n",
       "      <td>0.445790</td>\n",
       "      <td>0.111362</td>\n",
       "      <td>-0.010365</td>\n",
       "      <td>0.053151</td>\n",
       "      <td>0.007214</td>\n",
       "      <td>-0.004503</td>\n",
       "      <td>0.034749</td>\n",
       "      <td>0.031559</td>\n",
       "      <td>-0.101678</td>\n",
       "      <td>0.216397</td>\n",
       "    </tr>\n",
       "  </tbody>\n",
       "</table>\n",
       "<p>140050 rows × 10 columns</p>\n",
       "</div>"
      ],
      "text/plain": [
       "              Ux        Uy        Uz        S1        S2        S3        S4  \\\n",
       "0       0.151697  0.896921 -0.611916 -1.198093  0.063899 -1.716066  1.564544   \n",
       "1       0.368097  0.166111 -0.022698 -0.025856  0.045116  0.079135  0.163089   \n",
       "2       0.836546  0.668290 -0.624432 -0.288837 -0.066660  0.099825  0.226816   \n",
       "3       0.379332  0.265818 -0.731130 -0.153895  0.041697 -0.012102 -0.120492   \n",
       "4       0.399596 -0.191945 -0.057558  0.043972  0.020775  0.074682  0.064291   \n",
       "...          ...       ...       ...       ...       ...       ...       ...   \n",
       "140045  0.408677 -0.081545 -0.603177 -0.229717  0.203787 -0.051251  0.228232   \n",
       "140046  0.387106 -0.819364  0.773560  0.190289 -0.108191  0.120848 -0.114782   \n",
       "140047 -0.347242 -0.102225  0.326274 -0.727576  1.153021 -0.110290  1.571345   \n",
       "140048  0.353708 -0.069333  0.053761 -0.022119 -0.033151 -0.057264 -0.032834   \n",
       "140049  0.445790  0.111362 -0.010365  0.053151  0.007214 -0.004503  0.034749   \n",
       "\n",
       "              S5        S6        Cs  \n",
       "0       0.378995 -1.276389  0.470168  \n",
       "1      -0.054048 -0.116564  0.007707  \n",
       "2       0.494591 -0.286807  0.101043  \n",
       "3      -0.337773  0.254866 -0.515654  \n",
       "4       0.053046 -0.113168  0.092444  \n",
       "...          ...       ...       ...  \n",
       "140045 -0.077136  0.201801  0.161237  \n",
       "140046  0.510844 -0.121200  0.247018  \n",
       "140047  0.020547 -0.708087 -0.220649  \n",
       "140048 -0.065366  0.068294 -0.208105  \n",
       "140049  0.031559 -0.101678  0.216397  \n",
       "\n",
       "[140050 rows x 10 columns]"
      ]
     },
     "execution_count": 104,
     "metadata": {},
     "output_type": "execute_result"
    }
   ],
   "source": [
    "val"
   ]
  },
  {
   "cell_type": "code",
   "execution_count": 121,
   "id": "d8335772",
   "metadata": {},
   "outputs": [],
   "source": [
    "class MyDataset(Dataset):\n",
    "    def __init__(self, dataframe):\n",
    "        self.data = dataframe\n",
    "\n",
    "    def __getitem__(self, index):\n",
    "        # Ensure all indices are valid\n",
    "        if index < len(self.data):\n",
    "            return torch.tensor(self.data.iloc[index].values, dtype=torch.float64)\n",
    "        else:\n",
    "            raise IndexError(f\"Index {index} out of range for dataset with length {len(self.data)}\")\n",
    "\n",
    "    def __len__(self):\n",
    "        return len(self.data)"
   ]
  },
  {
   "cell_type": "code",
   "execution_count": 122,
   "id": "ae1e94ee",
   "metadata": {},
   "outputs": [],
   "source": [
    "batch_sz_trn = 4096\n",
    "batch_sz_val = int(batch_sz_trn / 4)\n",
    "\n",
    "train_dataset = MyDataset(train)\n",
    "val_dataset = MyDataset(val)\n",
    "\n",
    "train_loader = torch.utils.data.DataLoader(dataset=train_dataset, batch_size=batch_sz_trn, shuffle=True)\n",
    "val_loader = torch.utils.data.DataLoader(dataset=val_dataset, batch_size=batch_sz_val, shuffle=True)"
   ]
  },
  {
   "cell_type": "code",
   "execution_count": 123,
   "id": "bbcfa217",
   "metadata": {},
   "outputs": [
    {
     "data": {
      "text/plain": [
       "tensor([ 0.1995,  0.4135, -1.9074, -0.2632,  0.6383, -0.7686,  1.4252, -0.9879,\n",
       "        -0.5295, -0.4727], dtype=torch.float64)"
      ]
     },
     "execution_count": 123,
     "metadata": {},
     "output_type": "execute_result"
    }
   ],
   "source": [
    "data_iter = iter(train_loader)\n",
    "next(data_iter)[0]"
   ]
  },
  {
   "cell_type": "code",
   "execution_count": 124,
   "id": "57dc123b",
   "metadata": {},
   "outputs": [],
   "source": [
    "def coeff_determination(y_true, y_pred):\n",
    "    SS_res = torch.sum(torch.square( y_true - y_pred ))\n",
    "    SS_tot = torch.sum(torch.square( y_true - torch.mean(y_true) ) )\n",
    "    return ( 1 - SS_res/(SS_tot + sys_epsilon) )"
   ]
  },
  {
   "cell_type": "code",
   "execution_count": 125,
   "id": "328e45c9",
   "metadata": {},
   "outputs": [],
   "source": [
    "class MLPModel(nn.Module):\n",
    "    def __init__(self, input_size, output_size, hidden_layers, neurons_per_layer):\n",
    "        super(MLPModel, self).__init__()\n",
    "\n",
    "        layers = []\n",
    "        layers.append(nn.Linear(input_size, neurons_per_layer[0]))\n",
    "        layers.append(nn.ReLU())\n",
    "\n",
    "        for i in range(1, hidden_layers):\n",
    "            layers.append(nn.Linear(neurons_per_layer[i - 1], neurons_per_layer[i]))\n",
    "            layers.append(nn.ReLU())\n",
    "\n",
    "        layers.append(nn.Linear(neurons_per_layer[-1], output_size))\n",
    "\n",
    "        self.block = nn.Sequential(*layers)\n",
    "\n",
    "    def forward(self, x):\n",
    "        x = self.block(x)\n",
    "        return x"
   ]
  },
  {
   "cell_type": "code",
   "execution_count": 126,
   "id": "48a8d288",
   "metadata": {},
   "outputs": [
    {
     "data": {
      "text/plain": [
       "MLPModel(\n",
       "  (block): Sequential(\n",
       "    (0): Linear(in_features=9, out_features=60, bias=True)\n",
       "    (1): ReLU()\n",
       "    (2): Linear(in_features=60, out_features=60, bias=True)\n",
       "    (3): ReLU()\n",
       "    (4): Linear(in_features=60, out_features=60, bias=True)\n",
       "    (5): ReLU()\n",
       "    (6): Linear(in_features=60, out_features=60, bias=True)\n",
       "    (7): ReLU()\n",
       "    (8): Linear(in_features=60, out_features=60, bias=True)\n",
       "    (9): ReLU()\n",
       "    (10): Linear(in_features=60, out_features=1, bias=True)\n",
       "  )\n",
       ")"
      ]
     },
     "execution_count": 126,
     "metadata": {},
     "output_type": "execute_result"
    }
   ],
   "source": [
    "model = MLPModel(input_size=input_size, \n",
    "                 output_size=output_size, \n",
    "                 hidden_layers=hidden_layers, \n",
    "                 neurons_per_layer=neurons_per_layer)\n",
    "\n",
    "optimizer = torch.optim.Adam(model.parameters(), lr=0.001)\n",
    "scheduler = StepLR(optimizer, step_size=3, gamma=0.2)\n",
    "\n",
    "device = torch.device(\"cuda\")\n",
    "model.to(device)\n",
    "model.double()"
   ]
  },
  {
   "cell_type": "code",
   "execution_count": 127,
   "id": "8d6432c9",
   "metadata": {},
   "outputs": [],
   "source": [
    "class EarlyStopper:\n",
    "    def __init__(self, patience=1, path=None):\n",
    "        self.patience = patience\n",
    "        self.path = path\n",
    "        self.counter = 0\n",
    "        self.min_val_loss = float('inf')\n",
    "\n",
    "    def early_stop(self, model_stat, val_loss):\n",
    "        if val_loss < self.min_val_loss:\n",
    "            torch.save(model_stat, self.path)\n",
    "            self.min_val_loss = val_loss\n",
    "            self.counter = 0\n",
    "        elif val_loss > (self.min_val_loss + sys_epsilon):\n",
    "            self.counter += 1\n",
    "            if self.counter >= self.patience:\n",
    "                print('+++ Early Stopping is reached! +++')\n",
    "                return True\n",
    "        return False"
   ]
  },
  {
   "cell_type": "code",
   "execution_count": 128,
   "id": "8cd1ba31",
   "metadata": {},
   "outputs": [],
   "source": [
    "def log_epoch_info(epoch, epochs, Loss_train, coeff_train, Loss_val, coeff_val):\n",
    "    message = (\n",
    "        f\"Epoch: {epoch} / {epochs}, \\n\"\n",
    "        f\"Train -- Loss: {Loss_train}, Coeff: {coeff_train} \\n\"\n",
    "        f\"Val   -- Loss: {Loss_val}, Coeff: {coeff_val} \\n\\n\"\n",
    "    )\n",
    "    print(message)"
   ]
  },
  {
   "cell_type": "code",
   "execution_count": null,
   "id": "73415f30",
   "metadata": {},
   "outputs": [
    {
     "name": "stderr",
     "output_type": "stream",
     "text": [
      "Train: 100%|██████████| 137/137 [00:20<00:00,  6.56batch/s]\n",
      "Valdt: 100%|██████████| 137/137 [00:05<00:00, 26.51batch/s]\n"
     ]
    },
    {
     "name": "stdout",
     "output_type": "stream",
     "text": [
      "Epoch: 0 / 6000, \n",
      "Train -- Loss: 0.02809513001312743, Coeff: 0.033447265625 \n",
      "Val   -- Loss: 0.08414723576210915, Coeff: 0.1337890625 \n",
      "\n",
      "\n"
     ]
    },
    {
     "name": "stderr",
     "output_type": "stream",
     "text": [
      "Train: 100%|██████████| 137/137 [00:20<00:00,  6.85batch/s]\n",
      "Valdt: 100%|██████████| 137/137 [00:05<00:00, 26.24batch/s]\n"
     ]
    },
    {
     "name": "stdout",
     "output_type": "stream",
     "text": [
      "Epoch: 1 / 6000, \n",
      "Train -- Loss: 0.018031762073992184, Coeff: 0.033447265625 \n",
      "Val   -- Loss: 0.06374639027249876, Coeff: 0.1337890625 \n",
      "\n",
      "\n"
     ]
    },
    {
     "name": "stderr",
     "output_type": "stream",
     "text": [
      "Train: 100%|██████████| 137/137 [00:19<00:00,  6.85batch/s]\n",
      "Valdt: 100%|██████████| 137/137 [00:05<00:00, 26.64batch/s]\n"
     ]
    },
    {
     "name": "stdout",
     "output_type": "stream",
     "text": [
      "Epoch: 2 / 6000, \n",
      "Train -- Loss: 0.015050774383109628, Coeff: 0.033447265625 \n",
      "Val   -- Loss: 0.055904692375133895, Coeff: 0.1337890625 \n",
      "\n",
      "\n"
     ]
    },
    {
     "name": "stderr",
     "output_type": "stream",
     "text": [
      "Train: 100%|██████████| 137/137 [00:22<00:00,  6.12batch/s]\n",
      "Valdt: 100%|██████████| 137/137 [00:05<00:00, 26.57batch/s]\n"
     ]
    },
    {
     "name": "stdout",
     "output_type": "stream",
     "text": [
      "Epoch: 3 / 6000, \n",
      "Train -- Loss: 0.013692250261584202, Coeff: 0.033447265625 \n",
      "Val   -- Loss: 0.05180806219433615, Coeff: 0.1337890625 \n",
      "\n",
      "\n"
     ]
    },
    {
     "name": "stderr",
     "output_type": "stream",
     "text": [
      "Train: 100%|██████████| 137/137 [00:20<00:00,  6.81batch/s]\n",
      "Valdt: 100%|██████████| 137/137 [00:05<00:00, 26.41batch/s]\n"
     ]
    },
    {
     "name": "stdout",
     "output_type": "stream",
     "text": [
      "Epoch: 4 / 6000, \n",
      "Train -- Loss: 0.012837002792991757, Coeff: 0.033447265625 \n",
      "Val   -- Loss: 0.04907132976966255, Coeff: 0.1337890625 \n",
      "\n",
      "\n"
     ]
    },
    {
     "name": "stderr",
     "output_type": "stream",
     "text": [
      "Train: 100%|██████████| 137/137 [00:20<00:00,  6.83batch/s]\n",
      "Valdt: 100%|██████████| 137/137 [00:05<00:00, 26.26batch/s]\n"
     ]
    },
    {
     "name": "stdout",
     "output_type": "stream",
     "text": [
      "Epoch: 5 / 6000, \n",
      "Train -- Loss: 0.012241555847429706, Coeff: 0.033447265625 \n",
      "Val   -- Loss: 0.04872493230806951, Coeff: 0.1337890625 \n",
      "\n",
      "\n"
     ]
    },
    {
     "name": "stderr",
     "output_type": "stream",
     "text": [
      "Train: 100%|██████████| 137/137 [00:19<00:00,  6.87batch/s]\n",
      "Valdt: 100%|██████████| 137/137 [00:05<00:00, 26.52batch/s]\n"
     ]
    },
    {
     "name": "stdout",
     "output_type": "stream",
     "text": [
      "Epoch: 6 / 6000, \n",
      "Train -- Loss: 0.011628949801584432, Coeff: 0.033447265625 \n",
      "Val   -- Loss: 0.04532974921365783, Coeff: 0.1337890625 \n",
      "\n",
      "\n"
     ]
    },
    {
     "name": "stderr",
     "output_type": "stream",
     "text": [
      "Train: 100%|██████████| 137/137 [00:20<00:00,  6.83batch/s]\n",
      "Valdt: 100%|██████████| 137/137 [00:05<00:00, 26.56batch/s]\n"
     ]
    },
    {
     "name": "stdout",
     "output_type": "stream",
     "text": [
      "Epoch: 7 / 6000, \n",
      "Train -- Loss: 0.011046786441890803, Coeff: 0.033447265625 \n",
      "Val   -- Loss: 0.04274272548437213, Coeff: 0.1337890625 \n",
      "\n",
      "\n"
     ]
    },
    {
     "name": "stderr",
     "output_type": "stream",
     "text": [
      "Train: 100%|██████████| 137/137 [00:19<00:00,  6.88batch/s]\n",
      "Valdt: 100%|██████████| 137/137 [00:05<00:00, 26.32batch/s]\n"
     ]
    },
    {
     "name": "stdout",
     "output_type": "stream",
     "text": [
      "Epoch: 8 / 6000, \n",
      "Train -- Loss: 0.010256947066351765, Coeff: 0.033447265625 \n",
      "Val   -- Loss: 0.04020835591764955, Coeff: 0.1337890625 \n",
      "\n",
      "\n"
     ]
    },
    {
     "name": "stderr",
     "output_type": "stream",
     "text": [
      "Train: 100%|██████████| 137/137 [00:19<00:00,  6.87batch/s]\n",
      "Valdt: 100%|██████████| 137/137 [00:05<00:00, 26.52batch/s]\n"
     ]
    },
    {
     "name": "stdout",
     "output_type": "stream",
     "text": [
      "Epoch: 9 / 6000, \n",
      "Train -- Loss: 0.009590222143672474, Coeff: 0.033447265625 \n",
      "Val   -- Loss: 0.03688137104044523, Coeff: 0.1337890625 \n",
      "\n",
      "\n"
     ]
    },
    {
     "name": "stderr",
     "output_type": "stream",
     "text": [
      "Train: 100%|██████████| 137/137 [00:20<00:00,  6.83batch/s]\n",
      "Valdt: 100%|██████████| 137/137 [00:05<00:00, 26.55batch/s]\n"
     ]
    },
    {
     "name": "stdout",
     "output_type": "stream",
     "text": [
      "Epoch: 10 / 6000, \n",
      "Train -- Loss: 0.00874402011983278, Coeff: 0.033447265625 \n",
      "Val   -- Loss: 0.03427282436233594, Coeff: 0.1337890625 \n",
      "\n",
      "\n"
     ]
    },
    {
     "name": "stderr",
     "output_type": "stream",
     "text": [
      "Train: 100%|██████████| 137/137 [00:19<00:00,  6.85batch/s]\n",
      "Valdt: 100%|██████████| 137/137 [00:05<00:00, 26.20batch/s]\n"
     ]
    },
    {
     "name": "stdout",
     "output_type": "stream",
     "text": [
      "Epoch: 11 / 6000, \n",
      "Train -- Loss: 0.008214451075709325, Coeff: 0.033447265625 \n",
      "Val   -- Loss: 0.031547663667025015, Coeff: 0.1337890625 \n",
      "\n",
      "\n"
     ]
    },
    {
     "name": "stderr",
     "output_type": "stream",
     "text": [
      "Train: 100%|██████████| 137/137 [00:22<00:00,  6.17batch/s]\n",
      "Valdt: 100%|██████████| 137/137 [00:05<00:00, 26.23batch/s]\n"
     ]
    },
    {
     "name": "stdout",
     "output_type": "stream",
     "text": [
      "Epoch: 12 / 6000, \n",
      "Train -- Loss: 0.007670336778869133, Coeff: 0.033447265625 \n",
      "Val   -- Loss: 0.029619632352380812, Coeff: 0.1337890625 \n",
      "\n",
      "\n"
     ]
    },
    {
     "name": "stderr",
     "output_type": "stream",
     "text": [
      "Train: 100%|██████████| 137/137 [00:20<00:00,  6.83batch/s]\n",
      "Valdt: 100%|██████████| 137/137 [00:05<00:00, 26.56batch/s]\n"
     ]
    },
    {
     "name": "stdout",
     "output_type": "stream",
     "text": [
      "Epoch: 13 / 6000, \n",
      "Train -- Loss: 0.007351402977032889, Coeff: 0.033447265625 \n",
      "Val   -- Loss: 0.031587152656936304, Coeff: 0.1337890625 \n",
      "\n",
      "\n"
     ]
    },
    {
     "name": "stderr",
     "output_type": "stream",
     "text": [
      "Train: 100%|██████████| 137/137 [00:20<00:00,  6.82batch/s]\n",
      "Valdt: 100%|██████████| 137/137 [00:05<00:00, 26.48batch/s]\n"
     ]
    },
    {
     "name": "stdout",
     "output_type": "stream",
     "text": [
      "Epoch: 14 / 6000, \n",
      "Train -- Loss: 0.0071300480968777774, Coeff: 0.033447265625 \n",
      "Val   -- Loss: 0.02972122093751808, Coeff: 0.1337890625 \n",
      "\n",
      "\n"
     ]
    },
    {
     "name": "stderr",
     "output_type": "stream",
     "text": [
      "Train: 100%|██████████| 137/137 [00:19<00:00,  6.86batch/s]\n",
      "Valdt: 100%|██████████| 137/137 [00:05<00:00, 26.26batch/s]\n"
     ]
    },
    {
     "name": "stdout",
     "output_type": "stream",
     "text": [
      "Epoch: 15 / 6000, \n",
      "Train -- Loss: 0.006746018338315666, Coeff: 0.033447265625 \n",
      "Val   -- Loss: 0.026280565515770692, Coeff: 0.1337890625 \n",
      "\n",
      "\n"
     ]
    },
    {
     "name": "stderr",
     "output_type": "stream",
     "text": [
      "Train: 100%|██████████| 137/137 [00:20<00:00,  6.85batch/s]\n",
      "Valdt: 100%|██████████| 137/137 [00:05<00:00, 26.48batch/s]\n"
     ]
    },
    {
     "name": "stdout",
     "output_type": "stream",
     "text": [
      "Epoch: 16 / 6000, \n",
      "Train -- Loss: 0.006603872057978934, Coeff: 0.033447265625 \n",
      "Val   -- Loss: 0.025704029117949834, Coeff: 0.1337890625 \n",
      "\n",
      "\n"
     ]
    },
    {
     "name": "stderr",
     "output_type": "stream",
     "text": [
      "Train: 100%|██████████| 137/137 [00:20<00:00,  6.83batch/s]\n",
      "Valdt: 100%|██████████| 137/137 [00:05<00:00, 26.53batch/s]\n"
     ]
    },
    {
     "name": "stdout",
     "output_type": "stream",
     "text": [
      "Epoch: 17 / 6000, \n",
      "Train -- Loss: 0.0063640836807963425, Coeff: 0.033447265625 \n",
      "Val   -- Loss: 0.025075954864898897, Coeff: 0.1337890625 \n",
      "\n",
      "\n"
     ]
    },
    {
     "name": "stderr",
     "output_type": "stream",
     "text": [
      "Train: 100%|██████████| 137/137 [00:19<00:00,  6.86batch/s]\n",
      "Valdt: 100%|██████████| 137/137 [00:05<00:00, 26.28batch/s]\n"
     ]
    },
    {
     "name": "stdout",
     "output_type": "stream",
     "text": [
      "Epoch: 18 / 6000, \n",
      "Train -- Loss: 0.006144907547555292, Coeff: 0.033447265625 \n",
      "Val   -- Loss: 0.02463121821987565, Coeff: 0.1337890625 \n",
      "\n",
      "\n"
     ]
    },
    {
     "name": "stderr",
     "output_type": "stream",
     "text": [
      "Train: 100%|██████████| 137/137 [00:20<00:00,  6.84batch/s]\n",
      "Valdt: 100%|██████████| 137/137 [00:05<00:00, 26.45batch/s]\n"
     ]
    },
    {
     "name": "stdout",
     "output_type": "stream",
     "text": [
      "Epoch: 19 / 6000, \n",
      "Train -- Loss: 0.005942128543280596, Coeff: 0.033447265625 \n",
      "Val   -- Loss: 0.024606192336373713, Coeff: 0.1337890625 \n",
      "\n",
      "\n"
     ]
    },
    {
     "name": "stderr",
     "output_type": "stream",
     "text": [
      "Train: 100%|██████████| 137/137 [00:20<00:00,  6.80batch/s]\n",
      "Valdt: 100%|██████████| 137/137 [00:05<00:00, 26.58batch/s]\n"
     ]
    },
    {
     "name": "stdout",
     "output_type": "stream",
     "text": [
      "Epoch: 20 / 6000, \n",
      "Train -- Loss: 0.006001545439235231, Coeff: 0.033447265625 \n",
      "Val   -- Loss: 0.0237424468770974, Coeff: 0.1337890625 \n",
      "\n",
      "\n"
     ]
    },
    {
     "name": "stderr",
     "output_type": "stream",
     "text": [
      "Train: 100%|██████████| 137/137 [00:22<00:00,  6.14batch/s]\n",
      "Valdt: 100%|██████████| 137/137 [00:05<00:00, 26.60batch/s]\n"
     ]
    },
    {
     "name": "stdout",
     "output_type": "stream",
     "text": [
      "Epoch: 21 / 6000, \n",
      "Train -- Loss: 0.005711207538539757, Coeff: 0.033447265625 \n",
      "Val   -- Loss: 0.023871583586137505, Coeff: 0.1337890625 \n",
      "\n",
      "\n"
     ]
    },
    {
     "name": "stderr",
     "output_type": "stream",
     "text": [
      "Train: 100%|██████████| 137/137 [00:20<00:00,  6.84batch/s]\n",
      "Valdt: 100%|██████████| 137/137 [00:05<00:00, 26.26batch/s]\n"
     ]
    },
    {
     "name": "stdout",
     "output_type": "stream",
     "text": [
      "Epoch: 22 / 6000, \n",
      "Train -- Loss: 0.005721309301971643, Coeff: 0.033447265625 \n",
      "Val   -- Loss: 0.024203842138054776, Coeff: 0.1337890625 \n",
      "\n",
      "\n"
     ]
    },
    {
     "name": "stderr",
     "output_type": "stream",
     "text": [
      "Train: 100%|██████████| 137/137 [00:20<00:00,  6.84batch/s]\n",
      "Valdt: 100%|██████████| 137/137 [00:05<00:00, 26.48batch/s]\n"
     ]
    },
    {
     "name": "stdout",
     "output_type": "stream",
     "text": [
      "Epoch: 23 / 6000, \n",
      "Train -- Loss: 0.005628366491828083, Coeff: 0.033447265625 \n",
      "Val   -- Loss: 0.023125898194547075, Coeff: 0.1337890625 \n",
      "\n",
      "\n"
     ]
    },
    {
     "name": "stderr",
     "output_type": "stream",
     "text": [
      "Train: 100%|██████████| 137/137 [00:20<00:00,  6.84batch/s]\n",
      "Valdt: 100%|██████████| 137/137 [00:05<00:00, 26.49batch/s]\n"
     ]
    },
    {
     "name": "stdout",
     "output_type": "stream",
     "text": [
      "Epoch: 24 / 6000, \n",
      "Train -- Loss: 0.0053653820752490615, Coeff: 0.033447265625 \n",
      "Val   -- Loss: 0.022199935014754795, Coeff: 0.1337890625 \n",
      "\n",
      "\n"
     ]
    },
    {
     "name": "stderr",
     "output_type": "stream",
     "text": [
      "Train: 100%|██████████| 137/137 [00:20<00:00,  6.85batch/s]\n",
      "Valdt: 100%|██████████| 137/137 [00:05<00:00, 26.22batch/s]\n"
     ]
    },
    {
     "name": "stdout",
     "output_type": "stream",
     "text": [
      "Epoch: 25 / 6000, \n",
      "Train -- Loss: 0.005298671031427889, Coeff: 0.033447265625 \n",
      "Val   -- Loss: 0.021888027220954884, Coeff: 0.1337890625 \n",
      "\n",
      "\n"
     ]
    },
    {
     "name": "stderr",
     "output_type": "stream",
     "text": [
      "Train: 100%|██████████| 137/137 [00:20<00:00,  6.85batch/s]\n",
      "Valdt: 100%|██████████| 137/137 [00:05<00:00, 26.47batch/s]\n"
     ]
    },
    {
     "name": "stdout",
     "output_type": "stream",
     "text": [
      "Epoch: 26 / 6000, \n",
      "Train -- Loss: 0.005297731937118884, Coeff: 0.033447265625 \n",
      "Val   -- Loss: 0.02407693184696071, Coeff: 0.1337890625 \n",
      "\n",
      "\n"
     ]
    },
    {
     "name": "stderr",
     "output_type": "stream",
     "text": [
      "Train: 100%|██████████| 137/137 [00:20<00:00,  6.82batch/s]\n",
      "Valdt: 100%|██████████| 137/137 [00:05<00:00, 26.54batch/s]\n"
     ]
    },
    {
     "name": "stdout",
     "output_type": "stream",
     "text": [
      "Epoch: 27 / 6000, \n",
      "Train -- Loss: 0.005274351849982998, Coeff: 0.033447265625 \n",
      "Val   -- Loss: 0.021225631952024895, Coeff: 0.1337890625 \n",
      "\n",
      "\n"
     ]
    },
    {
     "name": "stderr",
     "output_type": "stream",
     "text": [
      "Train: 100%|██████████| 137/137 [00:20<00:00,  6.84batch/s]\n",
      "Valdt: 100%|██████████| 137/137 [00:05<00:00, 26.27batch/s]\n"
     ]
    },
    {
     "name": "stdout",
     "output_type": "stream",
     "text": [
      "Epoch: 28 / 6000, \n",
      "Train -- Loss: 0.005133490024716827, Coeff: 0.033447265625 \n",
      "Val   -- Loss: 0.021999699878300045, Coeff: 0.1337890625 \n",
      "\n",
      "\n"
     ]
    },
    {
     "name": "stderr",
     "output_type": "stream",
     "text": [
      "Train: 100%|██████████| 137/137 [00:22<00:00,  6.14batch/s]\n",
      "Valdt: 100%|██████████| 137/137 [00:05<00:00, 26.43batch/s]\n"
     ]
    },
    {
     "name": "stdout",
     "output_type": "stream",
     "text": [
      "Epoch: 29 / 6000, \n",
      "Train -- Loss: 0.005038667599959464, Coeff: 0.033447265625 \n",
      "Val   -- Loss: 0.020664235434845902, Coeff: 0.1337890625 \n",
      "\n",
      "\n"
     ]
    },
    {
     "name": "stderr",
     "output_type": "stream",
     "text": [
      "Train: 100%|██████████| 137/137 [00:20<00:00,  6.83batch/s]\n",
      "Valdt: 100%|██████████| 137/137 [00:05<00:00, 26.53batch/s]\n"
     ]
    },
    {
     "name": "stdout",
     "output_type": "stream",
     "text": [
      "Epoch: 30 / 6000, \n",
      "Train -- Loss: 0.005063803052032427, Coeff: 0.033447265625 \n",
      "Val   -- Loss: 0.020714209670691923, Coeff: 0.1337890625 \n",
      "\n",
      "\n"
     ]
    },
    {
     "name": "stderr",
     "output_type": "stream",
     "text": [
      "Train: 100%|██████████| 137/137 [00:20<00:00,  6.84batch/s]\n",
      "Valdt: 100%|██████████| 137/137 [00:05<00:00, 26.26batch/s]\n"
     ]
    },
    {
     "name": "stdout",
     "output_type": "stream",
     "text": [
      "Epoch: 31 / 6000, \n",
      "Train -- Loss: 0.004927575987323793, Coeff: 0.033447265625 \n",
      "Val   -- Loss: 0.019906221128013386, Coeff: 0.1337890625 \n",
      "\n",
      "\n"
     ]
    },
    {
     "name": "stderr",
     "output_type": "stream",
     "text": [
      "Train: 100%|██████████| 137/137 [00:19<00:00,  6.87batch/s]\n",
      "Valdt: 100%|██████████| 137/137 [00:05<00:00, 26.26batch/s]\n"
     ]
    },
    {
     "name": "stdout",
     "output_type": "stream",
     "text": [
      "Epoch: 32 / 6000, \n",
      "Train -- Loss: 0.004737138537302224, Coeff: 0.033447265625 \n",
      "Val   -- Loss: 0.02025707439809566, Coeff: 0.1337890625 \n",
      "\n",
      "\n"
     ]
    },
    {
     "name": "stderr",
     "output_type": "stream",
     "text": [
      "Train: 100%|██████████| 137/137 [00:20<00:00,  6.85batch/s]\n",
      "Valdt: 100%|██████████| 137/137 [00:05<00:00, 26.51batch/s]\n"
     ]
    },
    {
     "name": "stdout",
     "output_type": "stream",
     "text": [
      "Epoch: 33 / 6000, \n",
      "Train -- Loss: 0.004833962778097646, Coeff: 0.033447265625 \n",
      "Val   -- Loss: 0.021968685519342692, Coeff: 0.1337890625 \n",
      "\n",
      "\n"
     ]
    },
    {
     "name": "stderr",
     "output_type": "stream",
     "text": [
      "Train: 100%|██████████| 137/137 [00:20<00:00,  6.81batch/s]\n",
      "Valdt: 100%|██████████| 137/137 [00:05<00:00, 26.55batch/s]\n"
     ]
    },
    {
     "name": "stdout",
     "output_type": "stream",
     "text": [
      "Epoch: 34 / 6000, \n",
      "Train -- Loss: 0.004739538252261757, Coeff: 0.033447265625 \n",
      "Val   -- Loss: 0.02228393042950229, Coeff: 0.1337890625 \n",
      "\n",
      "\n"
     ]
    },
    {
     "name": "stderr",
     "output_type": "stream",
     "text": [
      "Train: 100%|██████████| 137/137 [00:20<00:00,  6.85batch/s]\n",
      "Valdt: 100%|██████████| 137/137 [00:05<00:00, 26.22batch/s]\n"
     ]
    },
    {
     "name": "stdout",
     "output_type": "stream",
     "text": [
      "Epoch: 35 / 6000, \n",
      "Train -- Loss: 0.0046438228651758395, Coeff: 0.033447265625 \n",
      "Val   -- Loss: 0.01950480485808245, Coeff: 0.1337890625 \n",
      "\n",
      "\n"
     ]
    },
    {
     "name": "stderr",
     "output_type": "stream",
     "text": [
      "Train: 100%|██████████| 137/137 [00:19<00:00,  6.87batch/s]\n",
      "Valdt: 100%|██████████| 137/137 [00:05<00:00, 26.58batch/s]\n"
     ]
    },
    {
     "name": "stdout",
     "output_type": "stream",
     "text": [
      "Epoch: 36 / 6000, \n",
      "Train -- Loss: 0.0046175982698008515, Coeff: 0.033447265625 \n",
      "Val   -- Loss: 0.019250828205625244, Coeff: 0.1337890625 \n",
      "\n",
      "\n"
     ]
    },
    {
     "name": "stderr",
     "output_type": "stream",
     "text": [
      "Train: 100%|██████████| 137/137 [00:20<00:00,  6.83batch/s]\n",
      "Valdt: 100%|██████████| 137/137 [00:05<00:00, 26.60batch/s]\n"
     ]
    },
    {
     "name": "stdout",
     "output_type": "stream",
     "text": [
      "Epoch: 37 / 6000, \n",
      "Train -- Loss: 0.004576257314743856, Coeff: 0.033447265625 \n",
      "Val   -- Loss: 0.018954550489901866, Coeff: 0.1337890625 \n",
      "\n",
      "\n"
     ]
    },
    {
     "name": "stderr",
     "output_type": "stream",
     "text": [
      "Train: 100%|██████████| 137/137 [00:22<00:00,  6.15batch/s]\n",
      "Valdt: 100%|██████████| 137/137 [00:05<00:00, 26.25batch/s]\n"
     ]
    },
    {
     "name": "stdout",
     "output_type": "stream",
     "text": [
      "Epoch: 38 / 6000, \n",
      "Train -- Loss: 0.004445579873931125, Coeff: 0.033447265625 \n",
      "Val   -- Loss: 0.01931893842089817, Coeff: 0.1337890625 \n",
      "\n",
      "\n"
     ]
    },
    {
     "name": "stderr",
     "output_type": "stream",
     "text": [
      "Train: 100%|██████████| 137/137 [00:20<00:00,  6.82batch/s]\n",
      "Valdt: 100%|██████████| 137/137 [00:05<00:00, 26.43batch/s]\n"
     ]
    },
    {
     "name": "stdout",
     "output_type": "stream",
     "text": [
      "Epoch: 39 / 6000, \n",
      "Train -- Loss: 0.00444471980272441, Coeff: 0.033447265625 \n",
      "Val   -- Loss: 0.02053196337813305, Coeff: 0.1337890625 \n",
      "\n",
      "\n"
     ]
    },
    {
     "name": "stderr",
     "output_type": "stream",
     "text": [
      "Train: 100%|██████████| 137/137 [00:20<00:00,  6.83batch/s]\n",
      "Valdt: 100%|██████████| 137/137 [00:05<00:00, 26.49batch/s]\n"
     ]
    },
    {
     "name": "stdout",
     "output_type": "stream",
     "text": [
      "Epoch: 40 / 6000, \n",
      "Train -- Loss: 0.004576757114353245, Coeff: 0.033447265625 \n",
      "Val   -- Loss: 0.018376476950413338, Coeff: 0.1337890625 \n",
      "\n",
      "\n"
     ]
    },
    {
     "name": "stderr",
     "output_type": "stream",
     "text": [
      "Train: 100%|██████████| 137/137 [00:20<00:00,  6.84batch/s]\n",
      "Valdt: 100%|██████████| 137/137 [00:05<00:00, 26.12batch/s]\n"
     ]
    },
    {
     "name": "stdout",
     "output_type": "stream",
     "text": [
      "Epoch: 41 / 6000, \n",
      "Train -- Loss: 0.004310372532334546, Coeff: 0.033447265625 \n",
      "Val   -- Loss: 0.018749733555347287, Coeff: 0.1337890625 \n",
      "\n",
      "\n"
     ]
    },
    {
     "name": "stderr",
     "output_type": "stream",
     "text": [
      "Train: 100%|██████████| 137/137 [00:20<00:00,  6.83batch/s]\n",
      "Valdt: 100%|██████████| 137/137 [00:05<00:00, 26.47batch/s]\n"
     ]
    },
    {
     "name": "stdout",
     "output_type": "stream",
     "text": [
      "Epoch: 42 / 6000, \n",
      "Train -- Loss: 0.004229021314130632, Coeff: 0.033447265625 \n",
      "Val   -- Loss: 0.018577004037831923, Coeff: 0.1337890625 \n",
      "\n",
      "\n"
     ]
    },
    {
     "name": "stderr",
     "output_type": "stream",
     "text": [
      "Train: 100%|██████████| 137/137 [00:20<00:00,  6.81batch/s]\n",
      "Valdt: 100%|██████████| 137/137 [00:05<00:00, 26.49batch/s]\n"
     ]
    },
    {
     "name": "stdout",
     "output_type": "stream",
     "text": [
      "Epoch: 43 / 6000, \n",
      "Train -- Loss: 0.004412403691473905, Coeff: 0.033447265625 \n",
      "Val   -- Loss: 0.019830457301375837, Coeff: 0.1337890625 \n",
      "\n",
      "\n"
     ]
    },
    {
     "name": "stderr",
     "output_type": "stream",
     "text": [
      "Train: 100%|██████████| 137/137 [00:20<00:00,  6.81batch/s]\n",
      "Valdt: 100%|██████████| 137/137 [00:05<00:00, 26.52batch/s]\n"
     ]
    },
    {
     "name": "stdout",
     "output_type": "stream",
     "text": [
      "Epoch: 44 / 6000, \n",
      "Train -- Loss: 0.0042457292637115025, Coeff: 0.033447265625 \n",
      "Val   -- Loss: 0.019768480848930615, Coeff: 0.1337890625 \n",
      "\n",
      "\n"
     ]
    },
    {
     "name": "stderr",
     "output_type": "stream",
     "text": [
      "Train: 100%|██████████| 137/137 [00:19<00:00,  6.85batch/s]\n",
      "Valdt: 100%|██████████| 137/137 [00:05<00:00, 26.22batch/s]\n"
     ]
    },
    {
     "name": "stdout",
     "output_type": "stream",
     "text": [
      "Epoch: 45 / 6000, \n",
      "Train -- Loss: 0.004314727213543151, Coeff: 0.033447265625 \n",
      "Val   -- Loss: 0.018642315052986382, Coeff: 0.1337890625 \n",
      "\n",
      "\n"
     ]
    },
    {
     "name": "stderr",
     "output_type": "stream",
     "text": [
      "Train: 100%|██████████| 137/137 [00:22<00:00,  6.13batch/s]\n",
      "Valdt: 100%|██████████| 137/137 [00:05<00:00, 26.53batch/s]\n"
     ]
    },
    {
     "name": "stdout",
     "output_type": "stream",
     "text": [
      "Epoch: 46 / 6000, \n",
      "Train -- Loss: 0.004284390413266213, Coeff: 0.033447265625 \n",
      "Val   -- Loss: 0.01805146181705876, Coeff: 0.1337890625 \n",
      "\n",
      "\n"
     ]
    },
    {
     "name": "stderr",
     "output_type": "stream",
     "text": [
      "Train: 100%|██████████| 137/137 [00:20<00:00,  6.82batch/s]\n",
      "Valdt: 100%|██████████| 137/137 [00:05<00:00, 26.47batch/s]\n"
     ]
    },
    {
     "name": "stdout",
     "output_type": "stream",
     "text": [
      "Epoch: 47 / 6000, \n",
      "Train -- Loss: 0.004123257381685995, Coeff: 0.033447265625 \n",
      "Val   -- Loss: 0.01887929873256814, Coeff: 0.1337890625 \n",
      "\n",
      "\n"
     ]
    },
    {
     "name": "stderr",
     "output_type": "stream",
     "text": [
      "Train: 100%|██████████| 137/137 [00:19<00:00,  6.85batch/s]\n",
      "Valdt: 100%|██████████| 137/137 [00:05<00:00, 26.16batch/s]\n"
     ]
    },
    {
     "name": "stdout",
     "output_type": "stream",
     "text": [
      "Epoch: 48 / 6000, \n",
      "Train -- Loss: 0.004212628912050933, Coeff: 0.033447265625 \n",
      "Val   -- Loss: 0.017651019175159256, Coeff: 0.1337890625 \n",
      "\n",
      "\n"
     ]
    },
    {
     "name": "stderr",
     "output_type": "stream",
     "text": [
      "Train: 100%|██████████| 137/137 [00:19<00:00,  6.86batch/s]\n",
      "Valdt: 100%|██████████| 137/137 [00:05<00:00, 26.52batch/s]\n"
     ]
    },
    {
     "name": "stdout",
     "output_type": "stream",
     "text": [
      "Epoch: 49 / 6000, \n",
      "Train -- Loss: 0.003953183311243668, Coeff: 0.033447265625 \n",
      "Val   -- Loss: 0.017294004931070178, Coeff: 0.1337890625 \n",
      "\n",
      "\n"
     ]
    },
    {
     "name": "stderr",
     "output_type": "stream",
     "text": [
      "Train: 100%|██████████| 137/137 [00:20<00:00,  6.82batch/s]\n",
      "Valdt: 100%|██████████| 137/137 [00:05<00:00, 26.46batch/s]\n"
     ]
    },
    {
     "name": "stdout",
     "output_type": "stream",
     "text": [
      "Epoch: 50 / 6000, \n",
      "Train -- Loss: 0.0039038334534357787, Coeff: 0.033447265625 \n",
      "Val   -- Loss: 0.017098673572952836, Coeff: 0.1337890625 \n",
      "\n",
      "\n"
     ]
    },
    {
     "name": "stderr",
     "output_type": "stream",
     "text": [
      "Train: 100%|██████████| 137/137 [00:19<00:00,  6.86batch/s]\n",
      "Valdt: 100%|██████████| 137/137 [00:05<00:00, 26.22batch/s]\n"
     ]
    },
    {
     "name": "stdout",
     "output_type": "stream",
     "text": [
      "Epoch: 51 / 6000, \n",
      "Train -- Loss: 0.0038457171669680633, Coeff: 0.033447265625 \n",
      "Val   -- Loss: 0.016650946294522958, Coeff: 0.1337890625 \n",
      "\n",
      "\n"
     ]
    },
    {
     "name": "stderr",
     "output_type": "stream",
     "text": [
      "Train: 100%|██████████| 137/137 [00:19<00:00,  6.86batch/s]\n",
      "Valdt: 100%|██████████| 137/137 [00:05<00:00, 26.49batch/s]\n"
     ]
    },
    {
     "name": "stdout",
     "output_type": "stream",
     "text": [
      "Epoch: 52 / 6000, \n",
      "Train -- Loss: 0.003909373918887288, Coeff: 0.033447265625 \n",
      "Val   -- Loss: 0.017672139252694622, Coeff: 0.1337890625 \n",
      "\n",
      "\n"
     ]
    },
    {
     "name": "stderr",
     "output_type": "stream",
     "text": [
      "Train: 100%|██████████| 137/137 [00:20<00:00,  6.82batch/s]\n",
      "Valdt: 100%|██████████| 137/137 [00:05<00:00, 26.44batch/s]\n"
     ]
    },
    {
     "name": "stdout",
     "output_type": "stream",
     "text": [
      "Epoch: 53 / 6000, \n",
      "Train -- Loss: 0.004251578094514813, Coeff: 0.033447265625 \n",
      "Val   -- Loss: 0.018479178341169467, Coeff: 0.1337890625 \n",
      "\n",
      "\n"
     ]
    },
    {
     "name": "stderr",
     "output_type": "stream",
     "text": [
      "Train: 100%|██████████| 137/137 [00:20<00:00,  6.84batch/s]\n",
      "Valdt: 100%|██████████| 137/137 [00:05<00:00, 26.23batch/s]\n"
     ]
    },
    {
     "name": "stdout",
     "output_type": "stream",
     "text": [
      "Epoch: 54 / 6000, \n",
      "Train -- Loss: 0.003870150505813803, Coeff: 0.033447265625 \n",
      "Val   -- Loss: 0.017079307469985695, Coeff: 0.1337890625 \n",
      "\n",
      "\n"
     ]
    },
    {
     "name": "stderr",
     "output_type": "stream",
     "text": [
      "Train: 100%|██████████| 137/137 [00:22<00:00,  6.15batch/s]\n",
      "Valdt: 100%|██████████| 137/137 [00:05<00:00, 26.33batch/s]\n"
     ]
    },
    {
     "name": "stdout",
     "output_type": "stream",
     "text": [
      "Epoch: 55 / 6000, \n",
      "Train -- Loss: 0.003790202510799381, Coeff: 0.033447265625 \n",
      "Val   -- Loss: 0.016829249934397366, Coeff: 0.1337890625 \n",
      "\n",
      "\n"
     ]
    },
    {
     "name": "stderr",
     "output_type": "stream",
     "text": [
      "Train: 100%|██████████| 137/137 [00:20<00:00,  6.84batch/s]\n",
      "Valdt: 100%|██████████| 137/137 [00:05<00:00, 26.42batch/s]\n"
     ]
    },
    {
     "name": "stdout",
     "output_type": "stream",
     "text": [
      "Epoch: 56 / 6000, \n",
      "Train -- Loss: 0.0038243307523657248, Coeff: 0.033447265625 \n",
      "Val   -- Loss: 0.016646292424938956, Coeff: 0.1337890625 \n",
      "\n",
      "\n"
     ]
    },
    {
     "name": "stderr",
     "output_type": "stream",
     "text": [
      "Train: 100%|██████████| 137/137 [00:20<00:00,  6.83batch/s]\n",
      "Valdt: 100%|██████████| 137/137 [00:05<00:00, 26.36batch/s]\n"
     ]
    },
    {
     "name": "stdout",
     "output_type": "stream",
     "text": [
      "Epoch: 57 / 6000, \n",
      "Train -- Loss: 0.0037202617707658312, Coeff: 0.033447265625 \n",
      "Val   -- Loss: 0.017009078080044534, Coeff: 0.1337890625 \n",
      "\n",
      "\n"
     ]
    },
    {
     "name": "stderr",
     "output_type": "stream",
     "text": [
      "Train: 100%|██████████| 137/137 [00:20<00:00,  6.85batch/s]\n",
      "Valdt: 100%|██████████| 137/137 [00:05<00:00, 26.30batch/s]\n"
     ]
    },
    {
     "name": "stdout",
     "output_type": "stream",
     "text": [
      "Epoch: 58 / 6000, \n",
      "Train -- Loss: 0.0036960883438660326, Coeff: 0.033447265625 \n",
      "Val   -- Loss: 0.015974898071180816, Coeff: 0.1337890625 \n",
      "\n",
      "\n"
     ]
    },
    {
     "name": "stderr",
     "output_type": "stream",
     "text": [
      "Train: 100%|██████████| 137/137 [00:20<00:00,  6.82batch/s]\n",
      "Valdt: 100%|██████████| 137/137 [00:05<00:00, 26.43batch/s]\n"
     ]
    },
    {
     "name": "stdout",
     "output_type": "stream",
     "text": [
      "Epoch: 59 / 6000, \n",
      "Train -- Loss: 0.0037097821433394102, Coeff: 0.033447265625 \n",
      "Val   -- Loss: 0.016549369556756195, Coeff: 0.1337890625 \n",
      "\n",
      "\n"
     ]
    },
    {
     "name": "stderr",
     "output_type": "stream",
     "text": [
      "Train: 100%|██████████| 137/137 [00:20<00:00,  6.82batch/s]\n",
      "Valdt: 100%|██████████| 137/137 [00:05<00:00, 26.48batch/s]\n"
     ]
    },
    {
     "name": "stdout",
     "output_type": "stream",
     "text": [
      "Epoch: 60 / 6000, \n",
      "Train -- Loss: 0.003782299937731832, Coeff: 0.033447265625 \n",
      "Val   -- Loss: 0.018390032171676476, Coeff: 0.1337890625 \n",
      "\n",
      "\n"
     ]
    },
    {
     "name": "stderr",
     "output_type": "stream",
     "text": [
      "Train: 100%|██████████| 137/137 [00:20<00:00,  6.84batch/s]\n",
      "Valdt: 100%|██████████| 137/137 [00:05<00:00, 26.20batch/s]\n"
     ]
    },
    {
     "name": "stdout",
     "output_type": "stream",
     "text": [
      "Epoch: 61 / 6000, \n",
      "Train -- Loss: 0.003779927062433667, Coeff: 0.033447265625 \n",
      "Val   -- Loss: 0.015672516463049155, Coeff: 0.1337890625 \n",
      "\n",
      "\n"
     ]
    },
    {
     "name": "stderr",
     "output_type": "stream",
     "text": [
      "Train: 100%|██████████| 137/137 [00:20<00:00,  6.82batch/s]\n",
      "Valdt: 100%|██████████| 137/137 [00:05<00:00, 26.56batch/s]\n"
     ]
    },
    {
     "name": "stdout",
     "output_type": "stream",
     "text": [
      "Epoch: 62 / 6000, \n",
      "Train -- Loss: 0.0037406440943982323, Coeff: 0.033447265625 \n",
      "Val   -- Loss: 0.016027461343229035, Coeff: 0.1337890625 \n",
      "\n",
      "\n"
     ]
    },
    {
     "name": "stderr",
     "output_type": "stream",
     "text": [
      "Train: 100%|██████████| 137/137 [00:22<00:00,  6.16batch/s]\n",
      "Valdt: 100%|██████████| 137/137 [00:05<00:00, 26.45batch/s]\n"
     ]
    },
    {
     "name": "stdout",
     "output_type": "stream",
     "text": [
      "Epoch: 63 / 6000, \n",
      "Train -- Loss: 0.0035277760418249986, Coeff: 0.033447265625 \n",
      "Val   -- Loss: 0.016626958862377365, Coeff: 0.1337890625 \n",
      "\n",
      "\n"
     ]
    },
    {
     "name": "stderr",
     "output_type": "stream",
     "text": [
      "Train: 100%|██████████| 137/137 [00:20<00:00,  6.81batch/s]\n",
      "Valdt: 100%|██████████| 137/137 [00:05<00:00, 26.52batch/s]\n"
     ]
    },
    {
     "name": "stdout",
     "output_type": "stream",
     "text": [
      "Epoch: 64 / 6000, \n",
      "Train -- Loss: 0.003592677386472831, Coeff: 0.033447265625 \n",
      "Val   -- Loss: 0.016258555722660235, Coeff: 0.1337890625 \n",
      "\n",
      "\n"
     ]
    },
    {
     "name": "stderr",
     "output_type": "stream",
     "text": [
      "Train: 100%|██████████| 137/137 [00:19<00:00,  6.85batch/s]\n",
      "Valdt: 100%|██████████| 137/137 [00:05<00:00, 26.25batch/s]\n"
     ]
    },
    {
     "name": "stdout",
     "output_type": "stream",
     "text": [
      "Epoch: 65 / 6000, \n",
      "Train -- Loss: 0.003478942461337602, Coeff: 0.033447265625 \n",
      "Val   -- Loss: 0.015274163223546295, Coeff: 0.1337890625 \n",
      "\n",
      "\n"
     ]
    },
    {
     "name": "stderr",
     "output_type": "stream",
     "text": [
      "Train: 100%|██████████| 137/137 [00:19<00:00,  6.86batch/s]\n",
      "Valdt: 100%|██████████| 137/137 [00:05<00:00, 26.48batch/s]\n"
     ]
    },
    {
     "name": "stdout",
     "output_type": "stream",
     "text": [
      "Epoch: 66 / 6000, \n",
      "Train -- Loss: 0.0035031516439254827, Coeff: 0.033447265625 \n",
      "Val   -- Loss: 0.016011995794374786, Coeff: 0.1337890625 \n",
      "\n",
      "\n"
     ]
    },
    {
     "name": "stderr",
     "output_type": "stream",
     "text": [
      "Train: 100%|██████████| 137/137 [00:20<00:00,  6.82batch/s]\n",
      "Valdt: 100%|██████████| 137/137 [00:05<00:00, 26.50batch/s]\n"
     ]
    },
    {
     "name": "stdout",
     "output_type": "stream",
     "text": [
      "Epoch: 67 / 6000, \n",
      "Train -- Loss: 0.003522049563205253, Coeff: 0.033447265625 \n",
      "Val   -- Loss: 0.01692673972622427, Coeff: 0.1337890625 \n",
      "\n",
      "\n"
     ]
    },
    {
     "name": "stderr",
     "output_type": "stream",
     "text": [
      "Train: 100%|██████████| 137/137 [00:20<00:00,  6.82batch/s]\n",
      "Valdt: 100%|██████████| 137/137 [00:05<00:00, 26.23batch/s]\n"
     ]
    },
    {
     "name": "stdout",
     "output_type": "stream",
     "text": [
      "Epoch: 68 / 6000, \n",
      "Train -- Loss: 0.0035914587540736296, Coeff: 0.033447265625 \n",
      "Val   -- Loss: 0.015989311809804528, Coeff: 0.1337890625 \n",
      "\n",
      "\n"
     ]
    },
    {
     "name": "stderr",
     "output_type": "stream",
     "text": [
      "Train: 100%|██████████| 137/137 [00:20<00:00,  6.85batch/s]\n",
      "Valdt: 100%|██████████| 137/137 [00:05<00:00, 26.53batch/s]\n"
     ]
    },
    {
     "name": "stdout",
     "output_type": "stream",
     "text": [
      "Epoch: 69 / 6000, \n",
      "Train -- Loss: 0.003451408877301604, Coeff: 0.033447265625 \n",
      "Val   -- Loss: 0.015177975905399918, Coeff: 0.1337890625 \n",
      "\n",
      "\n"
     ]
    },
    {
     "name": "stderr",
     "output_type": "stream",
     "text": [
      "Train: 100%|██████████| 137/137 [00:20<00:00,  6.83batch/s]\n",
      "Valdt: 100%|██████████| 137/137 [00:05<00:00, 26.49batch/s]\n"
     ]
    },
    {
     "name": "stdout",
     "output_type": "stream",
     "text": [
      "Epoch: 70 / 6000, \n",
      "Train -- Loss: 0.0033150223938054873, Coeff: 0.033447265625 \n",
      "Val   -- Loss: 0.014871391201397396, Coeff: 0.1337890625 \n",
      "\n",
      "\n"
     ]
    },
    {
     "name": "stderr",
     "output_type": "stream",
     "text": [
      "Train: 100%|██████████| 137/137 [00:19<00:00,  6.85batch/s]\n",
      "Valdt: 100%|██████████| 137/137 [00:05<00:00, 26.30batch/s]\n"
     ]
    },
    {
     "name": "stdout",
     "output_type": "stream",
     "text": [
      "Epoch: 71 / 6000, \n",
      "Train -- Loss: 0.0034195634780435843, Coeff: 0.033447265625 \n",
      "Val   -- Loss: 0.015167307320021896, Coeff: 0.1337890625 \n",
      "\n",
      "\n"
     ]
    },
    {
     "name": "stderr",
     "output_type": "stream",
     "text": [
      "Train: 100%|██████████| 137/137 [00:22<00:00,  6.16batch/s]\n",
      "Valdt: 100%|██████████| 137/137 [00:05<00:00, 26.18batch/s]\n"
     ]
    },
    {
     "name": "stdout",
     "output_type": "stream",
     "text": [
      "Epoch: 72 / 6000, \n",
      "Train -- Loss: 0.003428127951142505, Coeff: 0.033447265625 \n",
      "Val   -- Loss: 0.015402792997218466, Coeff: 0.1337890625 \n",
      "\n",
      "\n"
     ]
    },
    {
     "name": "stderr",
     "output_type": "stream",
     "text": [
      "Train: 100%|██████████| 137/137 [00:20<00:00,  6.83batch/s]\n",
      "Valdt: 100%|██████████| 137/137 [00:05<00:00, 26.45batch/s]\n"
     ]
    },
    {
     "name": "stdout",
     "output_type": "stream",
     "text": [
      "Epoch: 73 / 6000, \n",
      "Train -- Loss: 0.0033859363116972912, Coeff: 0.033447265625 \n",
      "Val   -- Loss: 0.015169210009906134, Coeff: 0.1337890625 \n",
      "\n",
      "\n"
     ]
    },
    {
     "name": "stderr",
     "output_type": "stream",
     "text": [
      "Train: 100%|██████████| 137/137 [00:20<00:00,  6.80batch/s]\n",
      "Valdt: 100%|██████████| 137/137 [00:05<00:00, 26.46batch/s]\n"
     ]
    },
    {
     "name": "stdout",
     "output_type": "stream",
     "text": [
      "Epoch: 74 / 6000, \n",
      "Train -- Loss: 0.0033430656420329525, Coeff: 0.033447265625 \n",
      "Val   -- Loss: 0.01509332047554235, Coeff: 0.1337890625 \n",
      "\n",
      "\n"
     ]
    },
    {
     "name": "stderr",
     "output_type": "stream",
     "text": [
      "Train: 100%|██████████| 137/137 [00:20<00:00,  6.83batch/s]\n",
      "Valdt: 100%|██████████| 137/137 [00:05<00:00, 26.12batch/s]\n"
     ]
    },
    {
     "name": "stdout",
     "output_type": "stream",
     "text": [
      "Epoch: 75 / 6000, \n",
      "Train -- Loss: 0.003200343684206758, Coeff: 0.033447265625 \n",
      "Val   -- Loss: 0.014378216601803755, Coeff: 0.1337890625 \n",
      "\n",
      "\n"
     ]
    },
    {
     "name": "stderr",
     "output_type": "stream",
     "text": [
      "Train: 100%|██████████| 137/137 [00:20<00:00,  6.83batch/s]\n",
      "Valdt: 100%|██████████| 137/137 [00:05<00:00, 26.47batch/s]\n"
     ]
    },
    {
     "name": "stdout",
     "output_type": "stream",
     "text": [
      "Epoch: 76 / 6000, \n",
      "Train -- Loss: 0.003207350456887006, Coeff: 0.033447265625 \n",
      "Val   -- Loss: 0.014068464052191034, Coeff: 0.1337890625 \n",
      "\n",
      "\n"
     ]
    },
    {
     "name": "stderr",
     "output_type": "stream",
     "text": [
      "Train: 100%|██████████| 137/137 [00:20<00:00,  6.84batch/s]\n",
      "Valdt: 100%|██████████| 137/137 [00:05<00:00, 26.42batch/s]\n"
     ]
    },
    {
     "name": "stdout",
     "output_type": "stream",
     "text": [
      "Epoch: 77 / 6000, \n",
      "Train -- Loss: 0.0032190125173625767, Coeff: 0.033447265625 \n",
      "Val   -- Loss: 0.014354543038456439, Coeff: 0.1337890625 \n",
      "\n",
      "\n"
     ]
    },
    {
     "name": "stderr",
     "output_type": "stream",
     "text": [
      "Train: 100%|██████████| 137/137 [00:20<00:00,  6.84batch/s]\n",
      "Valdt: 100%|██████████| 137/137 [00:05<00:00, 26.19batch/s]\n"
     ]
    },
    {
     "name": "stdout",
     "output_type": "stream",
     "text": [
      "Epoch: 78 / 6000, \n",
      "Train -- Loss: 0.0032137648496390354, Coeff: 0.033447265625 \n",
      "Val   -- Loss: 0.014587054832285198, Coeff: 0.1337890625 \n",
      "\n",
      "\n"
     ]
    },
    {
     "name": "stderr",
     "output_type": "stream",
     "text": [
      "Train: 100%|██████████| 137/137 [00:20<00:00,  6.84batch/s]\n",
      "Valdt: 100%|██████████| 137/137 [00:05<00:00, 26.46batch/s]\n"
     ]
    },
    {
     "name": "stdout",
     "output_type": "stream",
     "text": [
      "Epoch: 79 / 6000, \n",
      "Train -- Loss: 0.003201740973999502, Coeff: 0.033447265625 \n",
      "Val   -- Loss: 0.014562718847408536, Coeff: 0.1337890625 \n",
      "\n",
      "\n"
     ]
    },
    {
     "name": "stderr",
     "output_type": "stream",
     "text": [
      "Train: 100%|██████████| 137/137 [00:20<00:00,  6.83batch/s]\n",
      "Valdt: 100%|██████████| 137/137 [00:05<00:00, 26.52batch/s]\n"
     ]
    },
    {
     "name": "stdout",
     "output_type": "stream",
     "text": [
      "Epoch: 80 / 6000, \n",
      "Train -- Loss: 0.0031249415180056887, Coeff: 0.033447265625 \n",
      "Val   -- Loss: 0.015042097296319607, Coeff: 0.1337890625 \n",
      "\n",
      "\n"
     ]
    },
    {
     "name": "stderr",
     "output_type": "stream",
     "text": [
      "Train: 100%|██████████| 137/137 [00:22<00:00,  6.15batch/s]\n",
      "Valdt: 100%|██████████| 137/137 [00:05<00:00, 26.57batch/s]\n"
     ]
    },
    {
     "name": "stdout",
     "output_type": "stream",
     "text": [
      "Epoch: 81 / 6000, \n",
      "Train -- Loss: 0.0032771165743487674, Coeff: 0.033447265625 \n",
      "Val   -- Loss: 0.01529526017550077, Coeff: 0.1337890625 \n",
      "\n",
      "\n"
     ]
    },
    {
     "name": "stderr",
     "output_type": "stream",
     "text": [
      "Train: 100%|██████████| 137/137 [00:20<00:00,  6.84batch/s]\n",
      "Valdt: 100%|██████████| 137/137 [00:05<00:00, 26.29batch/s]\n"
     ]
    },
    {
     "name": "stdout",
     "output_type": "stream",
     "text": [
      "Epoch: 82 / 6000, \n",
      "Train -- Loss: 0.003147753611133212, Coeff: 0.033447265625 \n",
      "Val   -- Loss: 0.013720483311773796, Coeff: 0.1337890625 \n",
      "\n",
      "\n"
     ]
    },
    {
     "name": "stderr",
     "output_type": "stream",
     "text": [
      "Train: 100%|██████████| 137/137 [00:19<00:00,  6.86batch/s]\n",
      "Valdt: 100%|██████████| 137/137 [00:05<00:00, 26.53batch/s]\n"
     ]
    },
    {
     "name": "stdout",
     "output_type": "stream",
     "text": [
      "Epoch: 83 / 6000, \n",
      "Train -- Loss: 0.0033059909592909826, Coeff: 0.033447265625 \n",
      "Val   -- Loss: 0.013792391488134518, Coeff: 0.1337890625 \n",
      "\n",
      "\n"
     ]
    },
    {
     "name": "stderr",
     "output_type": "stream",
     "text": [
      "Train: 100%|██████████| 137/137 [00:20<00:00,  6.82batch/s]\n",
      "Valdt: 100%|██████████| 137/137 [00:05<00:00, 26.56batch/s]\n"
     ]
    },
    {
     "name": "stdout",
     "output_type": "stream",
     "text": [
      "Epoch: 84 / 6000, \n",
      "Train -- Loss: 0.003085274597935137, Coeff: 0.033447265625 \n",
      "Val   -- Loss: 0.013534520124548583, Coeff: 0.1337890625 \n",
      "\n",
      "\n"
     ]
    },
    {
     "name": "stderr",
     "output_type": "stream",
     "text": [
      "Train: 100%|██████████| 137/137 [00:20<00:00,  6.85batch/s]\n",
      "Valdt: 100%|██████████| 137/137 [00:05<00:00, 26.22batch/s]\n"
     ]
    },
    {
     "name": "stdout",
     "output_type": "stream",
     "text": [
      "Epoch: 85 / 6000, \n",
      "Train -- Loss: 0.0029923075098509454, Coeff: 0.033447265625 \n",
      "Val   -- Loss: 0.014301678015240644, Coeff: 0.1337890625 \n",
      "\n",
      "\n"
     ]
    },
    {
     "name": "stderr",
     "output_type": "stream",
     "text": [
      "Train: 100%|██████████| 137/137 [00:19<00:00,  6.86batch/s]\n",
      "Valdt: 100%|██████████| 137/137 [00:05<00:00, 26.59batch/s]\n"
     ]
    },
    {
     "name": "stdout",
     "output_type": "stream",
     "text": [
      "Epoch: 86 / 6000, \n",
      "Train -- Loss: 0.0029719888243066924, Coeff: 0.033447265625 \n",
      "Val   -- Loss: 0.013707501353719537, Coeff: 0.1337890625 \n",
      "\n",
      "\n"
     ]
    },
    {
     "name": "stderr",
     "output_type": "stream",
     "text": [
      "Train: 100%|██████████| 137/137 [00:20<00:00,  6.84batch/s]\n",
      "Valdt: 100%|██████████| 137/137 [00:05<00:00, 26.58batch/s]\n"
     ]
    },
    {
     "name": "stdout",
     "output_type": "stream",
     "text": [
      "Epoch: 87 / 6000, \n",
      "Train -- Loss: 0.0029416205421562043, Coeff: 0.033447265625 \n",
      "Val   -- Loss: 0.013504323610527214, Coeff: 0.1337890625 \n",
      "\n",
      "\n"
     ]
    },
    {
     "name": "stderr",
     "output_type": "stream",
     "text": [
      "Train: 100%|██████████| 137/137 [00:19<00:00,  6.87batch/s]\n",
      "Valdt: 100%|██████████| 137/137 [00:05<00:00, 26.29batch/s]\n"
     ]
    },
    {
     "name": "stdout",
     "output_type": "stream",
     "text": [
      "Epoch: 88 / 6000, \n",
      "Train -- Loss: 0.003037082987255997, Coeff: 0.033447265625 \n",
      "Val   -- Loss: 0.015384106924957248, Coeff: 0.1337890625 \n",
      "\n",
      "\n"
     ]
    },
    {
     "name": "stderr",
     "output_type": "stream",
     "text": [
      "Train: 100%|██████████| 137/137 [00:22<00:00,  6.17batch/s]\n",
      "Valdt: 100%|██████████| 137/137 [00:05<00:00, 26.61batch/s]\n"
     ]
    },
    {
     "name": "stdout",
     "output_type": "stream",
     "text": [
      "Epoch: 89 / 6000, \n",
      "Train -- Loss: 0.00297372564491861, Coeff: 0.033447265625 \n",
      "Val   -- Loss: 0.013605866307520214, Coeff: 0.1337890625 \n",
      "\n",
      "\n"
     ]
    },
    {
     "name": "stderr",
     "output_type": "stream",
     "text": [
      "Train: 100%|██████████| 137/137 [00:20<00:00,  6.82batch/s]\n",
      "Valdt: 100%|██████████| 137/137 [00:05<00:00, 26.48batch/s]\n"
     ]
    },
    {
     "name": "stdout",
     "output_type": "stream",
     "text": [
      "Epoch: 90 / 6000, \n",
      "Train -- Loss: 0.002897650573115201, Coeff: 0.033447265625 \n",
      "Val   -- Loss: 0.013308314064212642, Coeff: 0.1337890625 \n",
      "\n",
      "\n"
     ]
    },
    {
     "name": "stderr",
     "output_type": "stream",
     "text": [
      "Train: 100%|██████████| 137/137 [00:20<00:00,  6.78batch/s]\n",
      "Valdt: 100%|██████████| 137/137 [00:05<00:00, 26.25batch/s]\n"
     ]
    },
    {
     "name": "stdout",
     "output_type": "stream",
     "text": [
      "Epoch: 91 / 6000, \n",
      "Train -- Loss: 0.0032251585225926407, Coeff: 0.033447265625 \n",
      "Val   -- Loss: 0.013500319979000067, Coeff: 0.1337890625 \n",
      "\n",
      "\n"
     ]
    },
    {
     "name": "stderr",
     "output_type": "stream",
     "text": [
      "Train: 100%|██████████| 137/137 [00:19<00:00,  6.86batch/s]\n",
      "Valdt: 100%|██████████| 137/137 [00:05<00:00, 26.26batch/s]\n"
     ]
    },
    {
     "name": "stdout",
     "output_type": "stream",
     "text": [
      "Epoch: 92 / 6000, \n",
      "Train -- Loss: 0.0029147273686866188, Coeff: 0.033447265625 \n",
      "Val   -- Loss: 0.01302909908266614, Coeff: 0.1337890625 \n",
      "\n",
      "\n"
     ]
    },
    {
     "name": "stderr",
     "output_type": "stream",
     "text": [
      "Train: 100%|██████████| 137/137 [00:20<00:00,  6.85batch/s]\n",
      "Valdt: 100%|██████████| 137/137 [00:05<00:00, 26.54batch/s]\n"
     ]
    },
    {
     "name": "stdout",
     "output_type": "stream",
     "text": [
      "Epoch: 93 / 6000, \n",
      "Train -- Loss: 0.0027978246404164755, Coeff: 0.033447265625 \n",
      "Val   -- Loss: 0.012668857177712907, Coeff: 0.1337890625 \n",
      "\n",
      "\n"
     ]
    },
    {
     "name": "stderr",
     "output_type": "stream",
     "text": [
      "Train: 100%|██████████| 137/137 [00:20<00:00,  6.85batch/s]\n",
      "Valdt: 100%|██████████| 137/137 [00:05<00:00, 26.49batch/s]\n"
     ]
    },
    {
     "name": "stdout",
     "output_type": "stream",
     "text": [
      "Epoch: 94 / 6000, \n",
      "Train -- Loss: 0.0028303260860076244, Coeff: 0.033447265625 \n",
      "Val   -- Loss: 0.012652639315051674, Coeff: 0.1337890625 \n",
      "\n",
      "\n"
     ]
    },
    {
     "name": "stderr",
     "output_type": "stream",
     "text": [
      "Train: 100%|██████████| 137/137 [00:19<00:00,  6.87batch/s]\n",
      "Valdt: 100%|██████████| 137/137 [00:05<00:00, 26.35batch/s]\n"
     ]
    },
    {
     "name": "stdout",
     "output_type": "stream",
     "text": [
      "Epoch: 95 / 6000, \n",
      "Train -- Loss: 0.002824194098824519, Coeff: 0.033447265625 \n",
      "Val   -- Loss: 0.012985268637319481, Coeff: 0.1337890625 \n",
      "\n",
      "\n"
     ]
    },
    {
     "name": "stderr",
     "output_type": "stream",
     "text": [
      "Train: 100%|██████████| 137/137 [00:19<00:00,  6.86batch/s]\n",
      "Valdt: 100%|██████████| 137/137 [00:05<00:00, 26.55batch/s]\n"
     ]
    },
    {
     "name": "stdout",
     "output_type": "stream",
     "text": [
      "Epoch: 96 / 6000, \n",
      "Train -- Loss: 0.002835080755981368, Coeff: 0.033447265625 \n",
      "Val   -- Loss: 0.012964551065168183, Coeff: 0.1337890625 \n",
      "\n",
      "\n"
     ]
    },
    {
     "name": "stderr",
     "output_type": "stream",
     "text": [
      "Train: 100%|██████████| 137/137 [00:20<00:00,  6.84batch/s]\n",
      "Valdt: 100%|██████████| 137/137 [00:05<00:00, 26.56batch/s]\n"
     ]
    },
    {
     "name": "stdout",
     "output_type": "stream",
     "text": [
      "Epoch: 97 / 6000, \n",
      "Train -- Loss: 0.0028141245946743296, Coeff: 0.033447265625 \n",
      "Val   -- Loss: 0.013154096023029353, Coeff: 0.1337890625 \n",
      "\n",
      "\n"
     ]
    },
    {
     "name": "stderr",
     "output_type": "stream",
     "text": [
      "Train: 100%|██████████| 137/137 [00:22<00:00,  6.17batch/s]\n",
      "Valdt: 100%|██████████| 137/137 [00:05<00:00, 26.27batch/s]\n"
     ]
    },
    {
     "name": "stdout",
     "output_type": "stream",
     "text": [
      "Epoch: 98 / 6000, \n",
      "Train -- Loss: 0.0028900184966251436, Coeff: 0.033447265625 \n",
      "Val   -- Loss: 0.01314387274032202, Coeff: 0.1337890625 \n",
      "\n",
      "\n"
     ]
    },
    {
     "name": "stderr",
     "output_type": "stream",
     "text": [
      "Train: 100%|██████████| 137/137 [00:20<00:00,  6.84batch/s]\n",
      "Valdt: 100%|██████████| 137/137 [00:05<00:00, 26.49batch/s]\n"
     ]
    },
    {
     "name": "stdout",
     "output_type": "stream",
     "text": [
      "Epoch: 99 / 6000, \n",
      "Train -- Loss: 0.003111958046725882, Coeff: 0.033447265625 \n",
      "Val   -- Loss: 0.013037193894067838, Coeff: 0.1337890625 \n",
      "\n",
      "\n"
     ]
    },
    {
     "name": "stderr",
     "output_type": "stream",
     "text": [
      "Train: 100%|██████████| 137/137 [00:20<00:00,  6.83batch/s]\n",
      "Valdt: 100%|██████████| 137/137 [00:05<00:00, 26.55batch/s]\n"
     ]
    },
    {
     "name": "stdout",
     "output_type": "stream",
     "text": [
      "Epoch: 100 / 6000, \n",
      "Train -- Loss: 0.0027701425417294982, Coeff: 0.033447265625 \n",
      "Val   -- Loss: 0.013080784586140277, Coeff: 0.1337890625 \n",
      "\n",
      "\n"
     ]
    },
    {
     "name": "stderr",
     "output_type": "stream",
     "text": [
      "Train: 100%|██████████| 137/137 [00:19<00:00,  6.87batch/s]\n",
      "Valdt: 100%|██████████| 137/137 [00:05<00:00, 26.31batch/s]\n"
     ]
    },
    {
     "name": "stdout",
     "output_type": "stream",
     "text": [
      "Epoch: 101 / 6000, \n",
      "Train -- Loss: 0.0027635487992360573, Coeff: 0.033447265625 \n",
      "Val   -- Loss: 0.01253120881368734, Coeff: 0.1337890625 \n",
      "\n",
      "\n"
     ]
    },
    {
     "name": "stderr",
     "output_type": "stream",
     "text": [
      "Train: 100%|██████████| 137/137 [00:19<00:00,  6.87batch/s]\n",
      "Valdt: 100%|██████████| 137/137 [00:05<00:00, 26.52batch/s]\n"
     ]
    },
    {
     "name": "stdout",
     "output_type": "stream",
     "text": [
      "Epoch: 102 / 6000, \n",
      "Train -- Loss: 0.002770483022319855, Coeff: 0.033447265625 \n",
      "Val   -- Loss: 0.012646366684373328, Coeff: 0.1337890625 \n",
      "\n",
      "\n"
     ]
    },
    {
     "name": "stderr",
     "output_type": "stream",
     "text": [
      "Train: 100%|██████████| 137/137 [00:20<00:00,  6.84batch/s]\n",
      "Valdt: 100%|██████████| 137/137 [00:05<00:00, 26.53batch/s]\n"
     ]
    },
    {
     "name": "stdout",
     "output_type": "stream",
     "text": [
      "Epoch: 103 / 6000, \n",
      "Train -- Loss: 0.002719161266635848, Coeff: 0.033447265625 \n",
      "Val   -- Loss: 0.012311236687582234, Coeff: 0.1337890625 \n",
      "\n",
      "\n"
     ]
    },
    {
     "name": "stderr",
     "output_type": "stream",
     "text": [
      "Train: 100%|██████████| 137/137 [00:19<00:00,  6.89batch/s]\n",
      "Valdt: 100%|██████████| 137/137 [00:05<00:00, 26.31batch/s]\n"
     ]
    },
    {
     "name": "stdout",
     "output_type": "stream",
     "text": [
      "Epoch: 104 / 6000, \n",
      "Train -- Loss: 0.0027304156965294334, Coeff: 0.033447265625 \n",
      "Val   -- Loss: 0.013211888315469782, Coeff: 0.1337890625 \n",
      "\n",
      "\n"
     ]
    },
    {
     "name": "stderr",
     "output_type": "stream",
     "text": [
      "Train: 100%|██████████| 137/137 [00:19<00:00,  6.87batch/s]\n",
      "Valdt: 100%|██████████| 137/137 [00:05<00:00, 26.46batch/s]\n"
     ]
    },
    {
     "name": "stdout",
     "output_type": "stream",
     "text": [
      "Epoch: 105 / 6000, \n",
      "Train -- Loss: 0.002700892330922435, Coeff: 0.033447265625 \n",
      "Val   -- Loss: 0.012300701948964614, Coeff: 0.1337890625 \n",
      "\n",
      "\n"
     ]
    },
    {
     "name": "stderr",
     "output_type": "stream",
     "text": [
      "Train: 100%|██████████| 137/137 [00:22<00:00,  6.18batch/s]\n",
      "Valdt: 100%|██████████| 137/137 [00:05<00:00, 26.50batch/s]\n"
     ]
    },
    {
     "name": "stdout",
     "output_type": "stream",
     "text": [
      "Epoch: 106 / 6000, \n",
      "Train -- Loss: 0.0026156707076044478, Coeff: 0.033447265625 \n",
      "Val   -- Loss: 0.011898213203061631, Coeff: 0.1337890625 \n",
      "\n",
      "\n"
     ]
    },
    {
     "name": "stderr",
     "output_type": "stream",
     "text": [
      "Train: 100%|██████████| 137/137 [00:20<00:00,  6.84batch/s]\n",
      "Valdt: 100%|██████████| 137/137 [00:05<00:00, 26.50batch/s]\n"
     ]
    },
    {
     "name": "stdout",
     "output_type": "stream",
     "text": [
      "Epoch: 107 / 6000, \n",
      "Train -- Loss: 0.002813348496353957, Coeff: 0.033447265625 \n",
      "Val   -- Loss: 0.013325998236877582, Coeff: 0.1337890625 \n",
      "\n",
      "\n"
     ]
    },
    {
     "name": "stderr",
     "output_type": "stream",
     "text": [
      "Train: 100%|██████████| 137/137 [00:19<00:00,  6.87batch/s]\n",
      "Valdt: 100%|██████████| 137/137 [00:05<00:00, 26.33batch/s]\n"
     ]
    },
    {
     "name": "stdout",
     "output_type": "stream",
     "text": [
      "Epoch: 108 / 6000, \n",
      "Train -- Loss: 0.002909950321713273, Coeff: 0.033447265625 \n",
      "Val   -- Loss: 0.013226497013289961, Coeff: 0.1337890625 \n",
      "\n",
      "\n"
     ]
    },
    {
     "name": "stderr",
     "output_type": "stream",
     "text": [
      "Train: 100%|██████████| 137/137 [00:19<00:00,  6.86batch/s]\n",
      "Valdt: 100%|██████████| 137/137 [00:05<00:00, 26.57batch/s]\n"
     ]
    },
    {
     "name": "stdout",
     "output_type": "stream",
     "text": [
      "Epoch: 109 / 6000, \n",
      "Train -- Loss: 0.0027130188569935774, Coeff: 0.033447265625 \n",
      "Val   -- Loss: 0.012781079343757518, Coeff: 0.1337890625 \n",
      "\n",
      "\n"
     ]
    },
    {
     "name": "stderr",
     "output_type": "stream",
     "text": [
      "Train: 100%|██████████| 137/137 [00:19<00:00,  6.85batch/s]\n",
      "Valdt: 100%|██████████| 137/137 [00:05<00:00, 26.56batch/s]\n"
     ]
    },
    {
     "name": "stdout",
     "output_type": "stream",
     "text": [
      "Epoch: 110 / 6000, \n",
      "Train -- Loss: 0.0026540002433969286, Coeff: 0.033447265625 \n",
      "Val   -- Loss: 0.012228284736490175, Coeff: 0.1337890625 \n",
      "\n",
      "\n"
     ]
    },
    {
     "name": "stderr",
     "output_type": "stream",
     "text": [
      "Train: 100%|██████████| 137/137 [00:19<00:00,  6.86batch/s]\n",
      "Valdt: 100%|██████████| 137/137 [00:05<00:00, 26.33batch/s]\n"
     ]
    },
    {
     "name": "stdout",
     "output_type": "stream",
     "text": [
      "Epoch: 111 / 6000, \n",
      "Train -- Loss: 0.002647053303808531, Coeff: 0.033447265625 \n",
      "Val   -- Loss: 0.012247624760434091, Coeff: 0.1337890625 \n",
      "\n",
      "\n"
     ]
    },
    {
     "name": "stderr",
     "output_type": "stream",
     "text": [
      "Train: 100%|██████████| 137/137 [00:19<00:00,  6.87batch/s]\n",
      "Valdt: 100%|██████████| 137/137 [00:05<00:00, 26.56batch/s]\n"
     ]
    },
    {
     "name": "stdout",
     "output_type": "stream",
     "text": [
      "Epoch: 112 / 6000, \n",
      "Train -- Loss: 0.002690361461998321, Coeff: 0.033447265625 \n",
      "Val   -- Loss: 0.012160638779913526, Coeff: 0.1337890625 \n",
      "\n",
      "\n"
     ]
    },
    {
     "name": "stderr",
     "output_type": "stream",
     "text": [
      "Train: 100%|██████████| 137/137 [00:20<00:00,  6.85batch/s]\n",
      "Valdt: 100%|██████████| 137/137 [00:05<00:00, 26.59batch/s]\n"
     ]
    },
    {
     "name": "stdout",
     "output_type": "stream",
     "text": [
      "Epoch: 113 / 6000, \n",
      "Train -- Loss: 0.0025503625240169314, Coeff: 0.033447265625 \n",
      "Val   -- Loss: 0.011942841744486302, Coeff: 0.1337890625 \n",
      "\n",
      "\n"
     ]
    },
    {
     "name": "stderr",
     "output_type": "stream",
     "text": [
      "Train: 100%|██████████| 137/137 [00:19<00:00,  6.88batch/s]\n",
      "Valdt: 100%|██████████| 137/137 [00:05<00:00, 26.34batch/s]\n"
     ]
    },
    {
     "name": "stdout",
     "output_type": "stream",
     "text": [
      "Epoch: 114 / 6000, \n",
      "Train -- Loss: 0.0025335761694724557, Coeff: 0.033447265625 \n",
      "Val   -- Loss: 0.012750505614353225, Coeff: 0.1337890625 \n",
      "\n",
      "\n"
     ]
    },
    {
     "name": "stderr",
     "output_type": "stream",
     "text": [
      "Train: 100%|██████████| 137/137 [00:22<00:00,  6.15batch/s]\n",
      "Valdt: 100%|██████████| 137/137 [00:05<00:00, 26.30batch/s]\n"
     ]
    },
    {
     "name": "stdout",
     "output_type": "stream",
     "text": [
      "Epoch: 115 / 6000, \n",
      "Train -- Loss: 0.0026267034181990468, Coeff: 0.033447265625 \n",
      "Val   -- Loss: 0.01216679192727475, Coeff: 0.1337890625 \n",
      "\n",
      "\n"
     ]
    },
    {
     "name": "stderr",
     "output_type": "stream",
     "text": [
      "Train: 100%|██████████| 137/137 [00:19<00:00,  6.86batch/s]\n",
      "Valdt: 100%|██████████| 137/137 [00:05<00:00, 26.59batch/s]\n"
     ]
    },
    {
     "name": "stdout",
     "output_type": "stream",
     "text": [
      "Epoch: 116 / 6000, \n",
      "Train -- Loss: 0.002673295701187478, Coeff: 0.033447265625 \n",
      "Val   -- Loss: 0.01256116476274652, Coeff: 0.1337890625 \n",
      "\n",
      "\n"
     ]
    },
    {
     "name": "stderr",
     "output_type": "stream",
     "text": [
      "Train: 100%|██████████| 137/137 [00:20<00:00,  6.85batch/s]\n",
      "Valdt: 100%|██████████| 137/137 [00:05<00:00, 26.57batch/s]\n"
     ]
    },
    {
     "name": "stdout",
     "output_type": "stream",
     "text": [
      "Epoch: 117 / 6000, \n",
      "Train -- Loss: 0.0031452736779926855, Coeff: 0.033447265625 \n",
      "Val   -- Loss: 0.012697192558161718, Coeff: 0.1337890625 \n",
      "\n",
      "\n"
     ]
    },
    {
     "name": "stderr",
     "output_type": "stream",
     "text": [
      "Train: 100%|██████████| 137/137 [00:19<00:00,  6.86batch/s]\n",
      "Valdt: 100%|██████████| 137/137 [00:05<00:00, 26.23batch/s]\n"
     ]
    },
    {
     "name": "stdout",
     "output_type": "stream",
     "text": [
      "Epoch: 118 / 6000, \n",
      "Train -- Loss: 0.0027787300689656002, Coeff: 0.033447265625 \n",
      "Val   -- Loss: 0.012124949953847863, Coeff: 0.1337890625 \n",
      "\n",
      "\n"
     ]
    },
    {
     "name": "stderr",
     "output_type": "stream",
     "text": [
      "Train: 100%|██████████| 137/137 [00:19<00:00,  6.86batch/s]\n",
      "Valdt: 100%|██████████| 137/137 [00:05<00:00, 26.57batch/s]\n"
     ]
    },
    {
     "name": "stdout",
     "output_type": "stream",
     "text": [
      "Epoch: 119 / 6000, \n",
      "Train -- Loss: 0.0026058853482633744, Coeff: 0.033447265625 \n",
      "Val   -- Loss: 0.01252937420783222, Coeff: 0.1337890625 \n",
      "\n",
      "\n"
     ]
    },
    {
     "name": "stderr",
     "output_type": "stream",
     "text": [
      "Train: 100%|██████████| 137/137 [00:19<00:00,  6.86batch/s]\n",
      "Valdt: 100%|██████████| 137/137 [00:05<00:00, 26.57batch/s]\n"
     ]
    },
    {
     "name": "stdout",
     "output_type": "stream",
     "text": [
      "Epoch: 120 / 6000, \n",
      "Train -- Loss: 0.0025189514044104936, Coeff: 0.033447265625 \n",
      "Val   -- Loss: 0.011381401030144742, Coeff: 0.1337890625 \n",
      "\n",
      "\n"
     ]
    },
    {
     "name": "stderr",
     "output_type": "stream",
     "text": [
      "Train: 100%|██████████| 137/137 [00:19<00:00,  6.87batch/s]\n",
      "Valdt: 100%|██████████| 137/137 [00:05<00:00, 26.20batch/s]\n"
     ]
    },
    {
     "name": "stdout",
     "output_type": "stream",
     "text": [
      "Epoch: 121 / 6000, \n",
      "Train -- Loss: 0.0024887404093892995, Coeff: 0.033447265625 \n",
      "Val   -- Loss: 0.011718131597234489, Coeff: 0.1337890625 \n",
      "\n",
      "\n"
     ]
    },
    {
     "name": "stderr",
     "output_type": "stream",
     "text": [
      "Train: 100%|██████████| 137/137 [00:20<00:00,  6.84batch/s]\n",
      "Valdt: 100%|██████████| 137/137 [00:05<00:00, 26.54batch/s]\n"
     ]
    },
    {
     "name": "stdout",
     "output_type": "stream",
     "text": [
      "Epoch: 122 / 6000, \n",
      "Train -- Loss: 0.002570348409945206, Coeff: 0.033447265625 \n",
      "Val   -- Loss: 0.011872932328358841, Coeff: 0.1337890625 \n",
      "\n",
      "\n"
     ]
    },
    {
     "name": "stderr",
     "output_type": "stream",
     "text": [
      "Train: 100%|██████████| 137/137 [00:22<00:00,  6.15batch/s]\n",
      "Valdt: 100%|██████████| 137/137 [00:05<00:00, 26.60batch/s]\n"
     ]
    },
    {
     "name": "stdout",
     "output_type": "stream",
     "text": [
      "Epoch: 123 / 6000, \n",
      "Train -- Loss: 0.002573111908358315, Coeff: 0.033447265625 \n",
      "Val   -- Loss: 0.01163379611802887, Coeff: 0.1337890625 \n",
      "\n",
      "\n"
     ]
    },
    {
     "name": "stderr",
     "output_type": "stream",
     "text": [
      "Train: 100%|██████████| 137/137 [00:19<00:00,  6.85batch/s]\n",
      "Valdt: 100%|██████████| 137/137 [00:05<00:00, 26.25batch/s]\n"
     ]
    },
    {
     "name": "stdout",
     "output_type": "stream",
     "text": [
      "Epoch: 124 / 6000, \n",
      "Train -- Loss: 0.0025346719332708712, Coeff: 0.033447265625 \n",
      "Val   -- Loss: 0.011932412991212775, Coeff: 0.1337890625 \n",
      "\n",
      "\n"
     ]
    },
    {
     "name": "stderr",
     "output_type": "stream",
     "text": [
      "Train: 100%|██████████| 137/137 [00:19<00:00,  6.86batch/s]\n",
      "Valdt: 100%|██████████| 137/137 [00:05<00:00, 26.26batch/s]\n"
     ]
    },
    {
     "name": "stdout",
     "output_type": "stream",
     "text": [
      "Epoch: 125 / 6000, \n",
      "Train -- Loss: 0.0024785994198883443, Coeff: 0.033447265625 \n",
      "Val   -- Loss: 0.011396146083267411, Coeff: 0.1337890625 \n",
      "\n",
      "\n"
     ]
    },
    {
     "name": "stderr",
     "output_type": "stream",
     "text": [
      "Train: 100%|██████████| 137/137 [00:19<00:00,  6.86batch/s]\n",
      "Valdt: 100%|██████████| 137/137 [00:05<00:00, 26.56batch/s]\n"
     ]
    },
    {
     "name": "stdout",
     "output_type": "stream",
     "text": [
      "Epoch: 126 / 6000, \n",
      "Train -- Loss: 0.00253509114403193, Coeff: 0.033447265625 \n",
      "Val   -- Loss: 0.012197948374706566, Coeff: 0.1337890625 \n",
      "\n",
      "\n"
     ]
    },
    {
     "name": "stderr",
     "output_type": "stream",
     "text": [
      "Train: 100%|██████████| 137/137 [00:19<00:00,  6.85batch/s]\n",
      "Valdt: 100%|██████████| 137/137 [00:05<00:00, 26.57batch/s]\n"
     ]
    },
    {
     "name": "stdout",
     "output_type": "stream",
     "text": [
      "Epoch: 127 / 6000, \n",
      "Train -- Loss: 0.0026423681733974214, Coeff: 0.033447265625 \n",
      "Val   -- Loss: 0.011717225054060953, Coeff: 0.1337890625 \n",
      "\n",
      "\n"
     ]
    },
    {
     "name": "stderr",
     "output_type": "stream",
     "text": [
      "Train: 100%|██████████| 137/137 [00:19<00:00,  6.87batch/s]\n",
      "Valdt: 100%|██████████| 137/137 [00:05<00:00, 26.24batch/s]\n"
     ]
    },
    {
     "name": "stdout",
     "output_type": "stream",
     "text": [
      "Epoch: 128 / 6000, \n",
      "Train -- Loss: 0.0024350190958123386, Coeff: 0.033447265625 \n",
      "Val   -- Loss: 0.011122788406563543, Coeff: 0.1337890625 \n",
      "\n",
      "\n"
     ]
    },
    {
     "name": "stderr",
     "output_type": "stream",
     "text": [
      "Train: 100%|██████████| 137/137 [00:19<00:00,  6.88batch/s]\n",
      "Valdt: 100%|██████████| 137/137 [00:05<00:00, 26.58batch/s]\n"
     ]
    },
    {
     "name": "stdout",
     "output_type": "stream",
     "text": [
      "Epoch: 129 / 6000, \n",
      "Train -- Loss: 0.002445153193818669, Coeff: 0.033447265625 \n",
      "Val   -- Loss: 0.011449919058758183, Coeff: 0.1337890625 \n",
      "\n",
      "\n"
     ]
    },
    {
     "name": "stderr",
     "output_type": "stream",
     "text": [
      "Train: 100%|██████████| 137/137 [00:19<00:00,  6.85batch/s]\n",
      "Valdt: 100%|██████████| 137/137 [00:05<00:00, 26.63batch/s]\n"
     ]
    },
    {
     "name": "stdout",
     "output_type": "stream",
     "text": [
      "Epoch: 130 / 6000, \n",
      "Train -- Loss: 0.0024501822689380324, Coeff: 0.033447265625 \n",
      "Val   -- Loss: 0.011178160212274193, Coeff: 0.1337890625 \n",
      "\n",
      "\n"
     ]
    },
    {
     "name": "stderr",
     "output_type": "stream",
     "text": [
      "Train: 100%|██████████| 137/137 [00:19<00:00,  6.88batch/s]\n",
      "Valdt: 100%|██████████| 137/137 [00:05<00:00, 26.30batch/s]\n"
     ]
    },
    {
     "name": "stdout",
     "output_type": "stream",
     "text": [
      "Epoch: 131 / 6000, \n",
      "Train -- Loss: 0.0024617560406425074, Coeff: 0.033447265625 \n",
      "Val   -- Loss: 0.011784243591189675, Coeff: 0.1337890625 \n",
      "\n",
      "\n"
     ]
    },
    {
     "name": "stderr",
     "output_type": "stream",
     "text": [
      "Train: 100%|██████████| 137/137 [00:22<00:00,  6.16batch/s]\n",
      "Valdt: 100%|██████████| 137/137 [00:05<00:00, 26.61batch/s]\n"
     ]
    },
    {
     "name": "stdout",
     "output_type": "stream",
     "text": [
      "Epoch: 132 / 6000, \n",
      "Train -- Loss: 0.0024821303805167517, Coeff: 0.033447265625 \n",
      "Val   -- Loss: 0.01170968444416045, Coeff: 0.1337890625 \n",
      "\n",
      "\n"
     ]
    },
    {
     "name": "stderr",
     "output_type": "stream",
     "text": [
      "Train: 100%|██████████| 137/137 [00:20<00:00,  6.85batch/s]\n",
      "Valdt: 100%|██████████| 137/137 [00:05<00:00, 26.46batch/s]\n"
     ]
    },
    {
     "name": "stdout",
     "output_type": "stream",
     "text": [
      "Epoch: 133 / 6000, \n",
      "Train -- Loss: 0.0024180495291001155, Coeff: 0.033447265625 \n",
      "Val   -- Loss: 0.010991579030456344, Coeff: 0.1337890625 \n",
      "\n",
      "\n"
     ]
    },
    {
     "name": "stderr",
     "output_type": "stream",
     "text": [
      "Train: 100%|██████████| 137/137 [00:19<00:00,  6.86batch/s]\n",
      "Valdt: 100%|██████████| 137/137 [00:05<00:00, 26.27batch/s]\n"
     ]
    },
    {
     "name": "stdout",
     "output_type": "stream",
     "text": [
      "Epoch: 134 / 6000, \n",
      "Train -- Loss: 0.0025192584393590187, Coeff: 0.033447265625 \n",
      "Val   -- Loss: 0.012035113194485315, Coeff: 0.1337890625 \n",
      "\n",
      "\n"
     ]
    },
    {
     "name": "stderr",
     "output_type": "stream",
     "text": [
      "Train: 100%|██████████| 137/137 [00:20<00:00,  6.84batch/s]\n",
      "Valdt: 100%|██████████| 137/137 [00:05<00:00, 26.56batch/s]\n"
     ]
    },
    {
     "name": "stdout",
     "output_type": "stream",
     "text": [
      "Epoch: 135 / 6000, \n",
      "Train -- Loss: 0.00267723021629801, Coeff: 0.033447265625 \n",
      "Val   -- Loss: 0.01118785814417109, Coeff: 0.1337890625 \n",
      "\n",
      "\n"
     ]
    },
    {
     "name": "stderr",
     "output_type": "stream",
     "text": [
      "Train: 100%|██████████| 137/137 [00:20<00:00,  6.82batch/s]\n",
      "Valdt: 100%|██████████| 137/137 [00:05<00:00, 26.60batch/s]\n"
     ]
    },
    {
     "name": "stdout",
     "output_type": "stream",
     "text": [
      "Epoch: 136 / 6000, \n",
      "Train -- Loss: 0.0024393890028239973, Coeff: 0.033447265625 \n",
      "Val   -- Loss: 0.011424056584297513, Coeff: 0.1337890625 \n",
      "\n",
      "\n"
     ]
    },
    {
     "name": "stderr",
     "output_type": "stream",
     "text": [
      "Train: 100%|██████████| 137/137 [00:19<00:00,  6.86batch/s]\n",
      "Valdt: 100%|██████████| 137/137 [00:05<00:00, 26.17batch/s]\n"
     ]
    },
    {
     "name": "stdout",
     "output_type": "stream",
     "text": [
      "Epoch: 137 / 6000, \n",
      "Train -- Loss: 0.0024537521029198406, Coeff: 0.033447265625 \n",
      "Val   -- Loss: 0.012177286941412159, Coeff: 0.1337890625 \n",
      "\n",
      "\n"
     ]
    },
    {
     "name": "stderr",
     "output_type": "stream",
     "text": [
      "Train: 100%|██████████| 137/137 [00:19<00:00,  6.87batch/s]\n",
      "Valdt: 100%|██████████| 137/137 [00:05<00:00, 26.53batch/s]\n"
     ]
    },
    {
     "name": "stdout",
     "output_type": "stream",
     "text": [
      "Epoch: 138 / 6000, \n",
      "Train -- Loss: 0.002412372850149297, Coeff: 0.033447265625 \n",
      "Val   -- Loss: 0.01093275700375541, Coeff: 0.1337890625 \n",
      "\n",
      "\n"
     ]
    },
    {
     "name": "stderr",
     "output_type": "stream",
     "text": [
      "Train: 100%|██████████| 137/137 [00:20<00:00,  6.81batch/s]\n",
      "Valdt: 100%|██████████| 137/137 [00:05<00:00, 26.40batch/s]\n"
     ]
    },
    {
     "name": "stdout",
     "output_type": "stream",
     "text": [
      "Epoch: 139 / 6000, \n",
      "Train -- Loss: 0.0024395553185929974, Coeff: 0.033447265625 \n",
      "Val   -- Loss: 0.011116386656138663, Coeff: 0.1337890625 \n",
      "\n",
      "\n"
     ]
    },
    {
     "name": "stderr",
     "output_type": "stream",
     "text": [
      "Train: 100%|██████████| 137/137 [00:20<00:00,  6.83batch/s]\n",
      "Valdt: 100%|██████████| 137/137 [00:07<00:00, 18.61batch/s]\n"
     ]
    },
    {
     "name": "stdout",
     "output_type": "stream",
     "text": [
      "Epoch: 140 / 6000, \n",
      "Train -- Loss: 0.0024241518244799, Coeff: 0.033447265625 \n",
      "Val   -- Loss: 0.010989813628787811, Coeff: 0.1337890625 \n",
      "\n",
      "\n"
     ]
    },
    {
     "name": "stderr",
     "output_type": "stream",
     "text": [
      "Train: 100%|██████████| 137/137 [00:19<00:00,  6.85batch/s]\n",
      "Valdt: 100%|██████████| 137/137 [00:05<00:00, 26.28batch/s]\n"
     ]
    },
    {
     "name": "stdout",
     "output_type": "stream",
     "text": [
      "Epoch: 141 / 6000, \n",
      "Train -- Loss: 0.0023499332954246975, Coeff: 0.033447265625 \n",
      "Val   -- Loss: 0.010951028256798317, Coeff: 0.1337890625 \n",
      "\n",
      "\n"
     ]
    },
    {
     "name": "stderr",
     "output_type": "stream",
     "text": [
      "Train: 100%|██████████| 137/137 [00:19<00:00,  6.85batch/s]\n",
      "Valdt: 100%|██████████| 137/137 [00:05<00:00, 26.55batch/s]\n"
     ]
    },
    {
     "name": "stdout",
     "output_type": "stream",
     "text": [
      "Epoch: 142 / 6000, \n",
      "Train -- Loss: 0.0024099384793735243, Coeff: 0.033447265625 \n",
      "Val   -- Loss: 0.01242717571094478, Coeff: 0.1337890625 \n",
      "\n",
      "\n"
     ]
    },
    {
     "name": "stderr",
     "output_type": "stream",
     "text": [
      "Train: 100%|██████████| 137/137 [00:20<00:00,  6.83batch/s]\n",
      "Valdt: 100%|██████████| 137/137 [00:05<00:00, 26.49batch/s]\n"
     ]
    },
    {
     "name": "stdout",
     "output_type": "stream",
     "text": [
      "Epoch: 143 / 6000, \n",
      "Train -- Loss: 0.0024906910851396143, Coeff: 0.033447265625 \n",
      "Val   -- Loss: 0.012048399482769145, Coeff: 0.1337890625 \n",
      "\n",
      "\n"
     ]
    },
    {
     "name": "stderr",
     "output_type": "stream",
     "text": [
      "Train: 100%|██████████| 137/137 [00:19<00:00,  6.86batch/s]\n",
      "Valdt: 100%|██████████| 137/137 [00:05<00:00, 26.20batch/s]\n"
     ]
    },
    {
     "name": "stdout",
     "output_type": "stream",
     "text": [
      "Epoch: 144 / 6000, \n",
      "Train -- Loss: 0.0023551714635916864, Coeff: 0.033447265625 \n",
      "Val   -- Loss: 0.010662384290129272, Coeff: 0.1337890625 \n",
      "\n",
      "\n"
     ]
    },
    {
     "name": "stderr",
     "output_type": "stream",
     "text": [
      "Train: 100%|██████████| 137/137 [00:19<00:00,  6.85batch/s]\n",
      "Valdt: 100%|██████████| 137/137 [00:05<00:00, 26.57batch/s]\n"
     ]
    },
    {
     "name": "stdout",
     "output_type": "stream",
     "text": [
      "Epoch: 145 / 6000, \n",
      "Train -- Loss: 0.002356570991970655, Coeff: 0.033447265625 \n",
      "Val   -- Loss: 0.010728327377903302, Coeff: 0.1337890625 \n",
      "\n",
      "\n"
     ]
    },
    {
     "name": "stderr",
     "output_type": "stream",
     "text": [
      "Train: 100%|██████████| 137/137 [00:20<00:00,  6.83batch/s]\n",
      "Valdt: 100%|██████████| 137/137 [00:05<00:00, 26.59batch/s]\n"
     ]
    },
    {
     "name": "stdout",
     "output_type": "stream",
     "text": [
      "Epoch: 146 / 6000, \n",
      "Train -- Loss: 0.002311906999264833, Coeff: 0.033447265625 \n",
      "Val   -- Loss: 0.010682927266274919, Coeff: 0.1337890625 \n",
      "\n",
      "\n"
     ]
    },
    {
     "name": "stderr",
     "output_type": "stream",
     "text": [
      "Train: 100%|██████████| 137/137 [00:19<00:00,  6.85batch/s]\n",
      "Valdt: 100%|██████████| 137/137 [00:05<00:00, 26.29batch/s]\n"
     ]
    },
    {
     "name": "stdout",
     "output_type": "stream",
     "text": [
      "Epoch: 147 / 6000, \n",
      "Train -- Loss: 0.0023693457402857135, Coeff: 0.033447265625 \n",
      "Val   -- Loss: 0.011121821749863677, Coeff: 0.1337890625 \n",
      "\n",
      "\n"
     ]
    },
    {
     "name": "stderr",
     "output_type": "stream",
     "text": [
      "Train: 100%|██████████| 137/137 [00:19<00:00,  6.87batch/s]\n",
      "Valdt: 100%|██████████| 137/137 [00:05<00:00, 26.63batch/s]\n"
     ]
    },
    {
     "name": "stdout",
     "output_type": "stream",
     "text": [
      "Epoch: 148 / 6000, \n",
      "Train -- Loss: 0.0023208709527941023, Coeff: 0.033447265625 \n",
      "Val   -- Loss: 0.010888133857737665, Coeff: 0.1337890625 \n",
      "\n",
      "\n"
     ]
    },
    {
     "name": "stderr",
     "output_type": "stream",
     "text": [
      "Train: 100%|██████████| 137/137 [00:22<00:00,  6.14batch/s]\n",
      "Valdt: 100%|██████████| 137/137 [00:05<00:00, 26.46batch/s]\n"
     ]
    },
    {
     "name": "stdout",
     "output_type": "stream",
     "text": [
      "Epoch: 149 / 6000, \n",
      "Train -- Loss: 0.0023387335885233207, Coeff: 0.033447265625 \n",
      "Val   -- Loss: 0.010856708353587362, Coeff: 0.1337890625 \n",
      "\n",
      "\n"
     ]
    },
    {
     "name": "stderr",
     "output_type": "stream",
     "text": [
      "Train: 100%|██████████| 137/137 [00:20<00:00,  6.82batch/s]\n",
      "Valdt: 100%|██████████| 137/137 [00:05<00:00, 26.46batch/s]\n"
     ]
    },
    {
     "name": "stdout",
     "output_type": "stream",
     "text": [
      "Epoch: 150 / 6000, \n",
      "Train -- Loss: 0.0023147756262203423, Coeff: 0.033447265625 \n",
      "Val   -- Loss: 0.010707506406501343, Coeff: 0.1337890625 \n",
      "\n",
      "\n"
     ]
    },
    {
     "name": "stderr",
     "output_type": "stream",
     "text": [
      "Train: 100%|██████████| 137/137 [00:20<00:00,  6.80batch/s]\n",
      "Valdt: 100%|██████████| 137/137 [00:05<00:00, 26.26batch/s]\n"
     ]
    },
    {
     "name": "stdout",
     "output_type": "stream",
     "text": [
      "Epoch: 151 / 6000, \n",
      "Train -- Loss: 0.00228651258415304, Coeff: 0.033447265625 \n",
      "Val   -- Loss: 0.010215929951336411, Coeff: 0.1337890625 \n",
      "\n",
      "\n"
     ]
    },
    {
     "name": "stderr",
     "output_type": "stream",
     "text": [
      "Train: 100%|██████████| 137/137 [00:20<00:00,  6.85batch/s]\n",
      "Valdt: 100%|██████████| 137/137 [00:05<00:00, 26.52batch/s]\n"
     ]
    },
    {
     "name": "stdout",
     "output_type": "stream",
     "text": [
      "Epoch: 152 / 6000, \n",
      "Train -- Loss: 0.002281688683932089, Coeff: 0.033447265625 \n",
      "Val   -- Loss: 0.010799615303979554, Coeff: 0.1337890625 \n",
      "\n",
      "\n"
     ]
    },
    {
     "name": "stderr",
     "output_type": "stream",
     "text": [
      "Train: 100%|██████████| 137/137 [00:20<00:00,  6.84batch/s]\n",
      "Valdt: 100%|██████████| 137/137 [00:05<00:00, 26.42batch/s]\n"
     ]
    },
    {
     "name": "stdout",
     "output_type": "stream",
     "text": [
      "Epoch: 153 / 6000, \n",
      "Train -- Loss: 0.0022871258212222322, Coeff: 0.033447265625 \n",
      "Val   -- Loss: 0.010502888931856502, Coeff: 0.1337890625 \n",
      "\n",
      "\n"
     ]
    },
    {
     "name": "stderr",
     "output_type": "stream",
     "text": [
      "Train: 100%|██████████| 137/137 [00:20<00:00,  6.81batch/s]\n",
      "Valdt: 100%|██████████| 137/137 [00:05<00:00, 26.38batch/s]\n"
     ]
    },
    {
     "name": "stdout",
     "output_type": "stream",
     "text": [
      "Epoch: 154 / 6000, \n",
      "Train -- Loss: 0.002277730175910264, Coeff: 0.033447265625 \n",
      "Val   -- Loss: 0.010745991903259049, Coeff: 0.1337890625 \n",
      "\n",
      "\n"
     ]
    },
    {
     "name": "stderr",
     "output_type": "stream",
     "text": [
      "Train: 100%|██████████| 137/137 [00:19<00:00,  6.87batch/s]\n",
      "Valdt: 100%|██████████| 137/137 [00:05<00:00, 26.52batch/s]\n"
     ]
    },
    {
     "name": "stdout",
     "output_type": "stream",
     "text": [
      "Epoch: 155 / 6000, \n",
      "Train -- Loss: 0.002327876884702156, Coeff: 0.033447265625 \n",
      "Val   -- Loss: 0.011053361382594945, Coeff: 0.1337890625 \n",
      "\n",
      "\n"
     ]
    },
    {
     "name": "stderr",
     "output_type": "stream",
     "text": [
      "Train: 100%|██████████| 137/137 [00:19<00:00,  6.86batch/s]\n",
      "Valdt: 100%|██████████| 137/137 [00:05<00:00, 26.56batch/s]\n"
     ]
    },
    {
     "name": "stdout",
     "output_type": "stream",
     "text": [
      "Epoch: 156 / 6000, \n",
      "Train -- Loss: 0.0023928399092469784, Coeff: 0.033447265625 \n",
      "Val   -- Loss: 0.01103404871360783, Coeff: 0.1337890625 \n",
      "\n",
      "\n"
     ]
    },
    {
     "name": "stderr",
     "output_type": "stream",
     "text": [
      "Train: 100%|██████████| 137/137 [00:19<00:00,  6.87batch/s]\n",
      "Valdt: 100%|██████████| 137/137 [00:05<00:00, 26.29batch/s]\n"
     ]
    },
    {
     "name": "stdout",
     "output_type": "stream",
     "text": [
      "Epoch: 157 / 6000, \n",
      "Train -- Loss: 0.0022422851521771577, Coeff: 0.033447265625 \n",
      "Val   -- Loss: 0.010324185181769367, Coeff: 0.1337890625 \n",
      "\n",
      "\n"
     ]
    },
    {
     "name": "stderr",
     "output_type": "stream",
     "text": [
      "Train: 100%|██████████| 137/137 [00:22<00:00,  6.18batch/s]\n",
      "Valdt: 100%|██████████| 137/137 [00:05<00:00, 26.32batch/s]\n"
     ]
    },
    {
     "name": "stdout",
     "output_type": "stream",
     "text": [
      "Epoch: 158 / 6000, \n",
      "Train -- Loss: 0.0022378181664400175, Coeff: 0.033447265625 \n",
      "Val   -- Loss: 0.01043138023124855, Coeff: 0.1337890625 \n",
      "\n",
      "\n"
     ]
    },
    {
     "name": "stderr",
     "output_type": "stream",
     "text": [
      "Train: 100%|██████████| 137/137 [00:19<00:00,  6.86batch/s]\n",
      "Valdt: 100%|██████████| 137/137 [00:05<00:00, 26.60batch/s]\n"
     ]
    },
    {
     "name": "stdout",
     "output_type": "stream",
     "text": [
      "Epoch: 159 / 6000, \n",
      "Train -- Loss: 0.002274499148752838, Coeff: 0.033447265625 \n",
      "Val   -- Loss: 0.010569318193253486, Coeff: 0.1337890625 \n",
      "\n",
      "\n"
     ]
    },
    {
     "name": "stderr",
     "output_type": "stream",
     "text": [
      "Train: 100%|██████████| 137/137 [00:19<00:00,  6.86batch/s]\n",
      "Valdt: 100%|██████████| 137/137 [00:05<00:00, 26.57batch/s]\n"
     ]
    },
    {
     "name": "stdout",
     "output_type": "stream",
     "text": [
      "Epoch: 160 / 6000, \n",
      "Train -- Loss: 0.0022692133712616893, Coeff: 0.033447265625 \n",
      "Val   -- Loss: 0.01027037650025408, Coeff: 0.1337890625 \n",
      "\n",
      "\n"
     ]
    },
    {
     "name": "stderr",
     "output_type": "stream",
     "text": [
      "Train: 100%|██████████| 137/137 [00:19<00:00,  6.86batch/s]\n",
      "Valdt: 100%|██████████| 137/137 [00:05<00:00, 26.30batch/s]\n"
     ]
    },
    {
     "name": "stdout",
     "output_type": "stream",
     "text": [
      "Epoch: 161 / 6000, \n",
      "Train -- Loss: 0.0022180573575155595, Coeff: 0.033447265625 \n",
      "Val   -- Loss: 0.010574257298681852, Coeff: 0.1337890625 \n",
      "\n",
      "\n"
     ]
    },
    {
     "name": "stderr",
     "output_type": "stream",
     "text": [
      "Train: 100%|██████████| 137/137 [00:19<00:00,  6.89batch/s]\n",
      "Valdt: 100%|██████████| 137/137 [00:05<00:00, 26.56batch/s]\n"
     ]
    },
    {
     "name": "stdout",
     "output_type": "stream",
     "text": [
      "Epoch: 162 / 6000, \n",
      "Train -- Loss: 0.002266727290781117, Coeff: 0.033447265625 \n",
      "Val   -- Loss: 0.011565005628276089, Coeff: 0.1337890625 \n",
      "\n",
      "\n"
     ]
    },
    {
     "name": "stderr",
     "output_type": "stream",
     "text": [
      "Train: 100%|██████████| 137/137 [00:20<00:00,  6.83batch/s]\n",
      "Valdt: 100%|██████████| 137/137 [00:05<00:00, 26.56batch/s]\n"
     ]
    },
    {
     "name": "stdout",
     "output_type": "stream",
     "text": [
      "Epoch: 163 / 6000, \n",
      "Train -- Loss: 0.0022816456773017005, Coeff: 0.033447265625 \n",
      "Val   -- Loss: 0.010497140256765639, Coeff: 0.1337890625 \n",
      "\n",
      "\n"
     ]
    },
    {
     "name": "stderr",
     "output_type": "stream",
     "text": [
      "Train: 100%|██████████| 137/137 [00:19<00:00,  6.86batch/s]\n",
      "Valdt: 100%|██████████| 137/137 [00:05<00:00, 26.33batch/s]\n"
     ]
    },
    {
     "name": "stdout",
     "output_type": "stream",
     "text": [
      "Epoch: 164 / 6000, \n",
      "Train -- Loss: 0.002195072937388614, Coeff: 0.033447265625 \n",
      "Val   -- Loss: 0.010579515054523958, Coeff: 0.1337890625 \n",
      "\n",
      "\n"
     ]
    },
    {
     "name": "stderr",
     "output_type": "stream",
     "text": [
      "Train: 100%|██████████| 137/137 [00:19<00:00,  6.89batch/s]\n",
      "Valdt: 100%|██████████| 137/137 [00:05<00:00, 26.63batch/s]\n"
     ]
    },
    {
     "name": "stdout",
     "output_type": "stream",
     "text": [
      "Epoch: 165 / 6000, \n",
      "Train -- Loss: 0.002361565621063987, Coeff: 0.033447265625 \n",
      "Val   -- Loss: 0.014992176313885117, Coeff: 0.1337890625 \n",
      "\n",
      "\n"
     ]
    },
    {
     "name": "stderr",
     "output_type": "stream",
     "text": [
      "Train: 100%|██████████| 137/137 [00:22<00:00,  6.17batch/s]\n",
      "Valdt: 100%|██████████| 137/137 [00:05<00:00, 26.66batch/s]\n"
     ]
    },
    {
     "name": "stdout",
     "output_type": "stream",
     "text": [
      "Epoch: 166 / 6000, \n",
      "Train -- Loss: 0.002926768043476053, Coeff: 0.033447265625 \n",
      "Val   -- Loss: 0.011017874101921954, Coeff: 0.1337890625 \n",
      "\n",
      "\n"
     ]
    },
    {
     "name": "stderr",
     "output_type": "stream",
     "text": [
      "Train: 100%|██████████| 137/137 [00:19<00:00,  6.86batch/s]\n",
      "Valdt: 100%|██████████| 137/137 [00:05<00:00, 26.29batch/s]\n"
     ]
    },
    {
     "name": "stdout",
     "output_type": "stream",
     "text": [
      "Epoch: 167 / 6000, \n",
      "Train -- Loss: 0.002335260395418768, Coeff: 0.033447265625 \n",
      "Val   -- Loss: 0.010386301828807391, Coeff: 0.1337890625 \n",
      "\n",
      "\n"
     ]
    },
    {
     "name": "stderr",
     "output_type": "stream",
     "text": [
      "Train: 100%|██████████| 137/137 [00:19<00:00,  6.86batch/s]\n",
      "Valdt: 100%|██████████| 137/137 [00:05<00:00, 26.42batch/s]\n"
     ]
    },
    {
     "name": "stdout",
     "output_type": "stream",
     "text": [
      "Epoch: 168 / 6000, \n",
      "Train -- Loss: 0.0022450664207584593, Coeff: 0.033447265625 \n",
      "Val   -- Loss: 0.01071068169996958, Coeff: 0.1337890625 \n",
      "\n",
      "\n"
     ]
    },
    {
     "name": "stderr",
     "output_type": "stream",
     "text": [
      "Train: 100%|██████████| 137/137 [00:20<00:00,  6.82batch/s]\n",
      "Valdt: 100%|██████████| 137/137 [00:05<00:00, 26.47batch/s]\n"
     ]
    },
    {
     "name": "stdout",
     "output_type": "stream",
     "text": [
      "Epoch: 169 / 6000, \n",
      "Train -- Loss: 0.0022159951412975337, Coeff: 0.033447265625 \n",
      "Val   -- Loss: 0.009960928399645155, Coeff: 0.1337890625 \n",
      "\n",
      "\n"
     ]
    },
    {
     "name": "stderr",
     "output_type": "stream",
     "text": [
      "Train: 100%|██████████| 137/137 [00:19<00:00,  6.88batch/s]\n",
      "Valdt: 100%|██████████| 137/137 [00:05<00:00, 26.24batch/s]\n"
     ]
    },
    {
     "name": "stdout",
     "output_type": "stream",
     "text": [
      "Epoch: 170 / 6000, \n",
      "Train -- Loss: 0.0021671900674996576, Coeff: 0.033447265625 \n",
      "Val   -- Loss: 0.00992319247610478, Coeff: 0.1337890625 \n",
      "\n",
      "\n"
     ]
    },
    {
     "name": "stderr",
     "output_type": "stream",
     "text": [
      "Train: 100%|██████████| 137/137 [00:20<00:00,  6.85batch/s]\n",
      "Valdt: 100%|██████████| 137/137 [00:05<00:00, 26.63batch/s]\n"
     ]
    },
    {
     "name": "stdout",
     "output_type": "stream",
     "text": [
      "Epoch: 171 / 6000, \n",
      "Train -- Loss: 0.002129042813754001, Coeff: 0.033447265625 \n",
      "Val   -- Loss: 0.009880810409890401, Coeff: 0.1337890625 \n",
      "\n",
      "\n"
     ]
    },
    {
     "name": "stderr",
     "output_type": "stream",
     "text": [
      "Train: 100%|██████████| 137/137 [00:19<00:00,  6.89batch/s]\n",
      "Valdt: 100%|██████████| 137/137 [00:05<00:00, 26.58batch/s]\n"
     ]
    },
    {
     "name": "stdout",
     "output_type": "stream",
     "text": [
      "Epoch: 172 / 6000, \n",
      "Train -- Loss: 0.002132333845463864, Coeff: 0.033447265625 \n",
      "Val   -- Loss: 0.009888663572239543, Coeff: 0.1337890625 \n",
      "\n",
      "\n"
     ]
    },
    {
     "name": "stderr",
     "output_type": "stream",
     "text": [
      "Train: 100%|██████████| 137/137 [00:19<00:00,  6.86batch/s]\n",
      "Valdt: 100%|██████████| 137/137 [00:05<00:00, 26.56batch/s]\n"
     ]
    },
    {
     "name": "stdout",
     "output_type": "stream",
     "text": [
      "Epoch: 173 / 6000, \n",
      "Train -- Loss: 0.002275381456214863, Coeff: 0.033447265625 \n",
      "Val   -- Loss: 0.010784755131231361, Coeff: 0.1337890625 \n",
      "\n",
      "\n"
     ]
    },
    {
     "name": "stderr",
     "output_type": "stream",
     "text": [
      "Train: 100%|██████████| 137/137 [00:19<00:00,  6.87batch/s]\n",
      "Valdt: 100%|██████████| 137/137 [00:05<00:00, 26.27batch/s]\n"
     ]
    },
    {
     "name": "stdout",
     "output_type": "stream",
     "text": [
      "Epoch: 174 / 6000, \n",
      "Train -- Loss: 0.0023036710894953714, Coeff: 0.033447265625 \n",
      "Val   -- Loss: 0.010862361084330089, Coeff: 0.1337890625 \n",
      "\n",
      "\n"
     ]
    },
    {
     "name": "stderr",
     "output_type": "stream",
     "text": [
      "Train: 100%|██████████| 137/137 [00:22<00:00,  6.17batch/s]\n",
      "Valdt: 100%|██████████| 137/137 [00:05<00:00, 26.53batch/s]\n"
     ]
    },
    {
     "name": "stdout",
     "output_type": "stream",
     "text": [
      "Epoch: 175 / 6000, \n",
      "Train -- Loss: 0.002289826454800671, Coeff: 0.033447265625 \n",
      "Val   -- Loss: 0.010255372961260051, Coeff: 0.1337890625 \n",
      "\n",
      "\n"
     ]
    },
    {
     "name": "stderr",
     "output_type": "stream",
     "text": [
      "Train: 100%|██████████| 137/137 [00:20<00:00,  6.84batch/s]\n",
      "Valdt: 100%|██████████| 137/137 [00:05<00:00, 26.50batch/s]\n"
     ]
    },
    {
     "name": "stdout",
     "output_type": "stream",
     "text": [
      "Epoch: 176 / 6000, \n",
      "Train -- Loss: 0.0021710917901251727, Coeff: 0.033447265625 \n",
      "Val   -- Loss: 0.010062290150768085, Coeff: 0.1337890625 \n",
      "\n",
      "\n"
     ]
    },
    {
     "name": "stderr",
     "output_type": "stream",
     "text": [
      "Train: 100%|██████████| 137/137 [00:19<00:00,  6.87batch/s]\n",
      "Valdt: 100%|██████████| 137/137 [00:05<00:00, 26.31batch/s]\n"
     ]
    },
    {
     "name": "stdout",
     "output_type": "stream",
     "text": [
      "Epoch: 177 / 6000, \n",
      "Train -- Loss: 0.0021439054464811136, Coeff: 0.033447265625 \n",
      "Val   -- Loss: 0.00997188279207664, Coeff: 0.1337890625 \n",
      "\n",
      "\n"
     ]
    },
    {
     "name": "stderr",
     "output_type": "stream",
     "text": [
      "Train: 100%|██████████| 137/137 [00:19<00:00,  6.88batch/s]\n",
      "Valdt: 100%|██████████| 137/137 [00:05<00:00, 26.47batch/s]\n"
     ]
    },
    {
     "name": "stdout",
     "output_type": "stream",
     "text": [
      "Epoch: 178 / 6000, \n",
      "Train -- Loss: 0.0021339071396881287, Coeff: 0.033447265625 \n",
      "Val   -- Loss: 0.01030500852164754, Coeff: 0.1337890625 \n",
      "\n",
      "\n"
     ]
    },
    {
     "name": "stderr",
     "output_type": "stream",
     "text": [
      "Train: 100%|██████████| 137/137 [00:20<00:00,  6.83batch/s]\n",
      "Valdt: 100%|██████████| 137/137 [00:05<00:00, 26.53batch/s]\n"
     ]
    },
    {
     "name": "stdout",
     "output_type": "stream",
     "text": [
      "Epoch: 179 / 6000, \n",
      "Train -- Loss: 0.0021980010221067103, Coeff: 0.033447265625 \n",
      "Val   -- Loss: 0.010065831135369605, Coeff: 0.1337890625 \n",
      "\n",
      "\n"
     ]
    },
    {
     "name": "stderr",
     "output_type": "stream",
     "text": [
      "Train: 100%|██████████| 137/137 [00:19<00:00,  6.86batch/s]\n",
      "Valdt: 100%|██████████| 137/137 [00:05<00:00, 26.21batch/s]\n"
     ]
    },
    {
     "name": "stdout",
     "output_type": "stream",
     "text": [
      "Epoch: 180 / 6000, \n",
      "Train -- Loss: 0.0021881814844867376, Coeff: 0.033447265625 \n",
      "Val   -- Loss: 0.010836343943887477, Coeff: 0.1337890625 \n",
      "\n",
      "\n"
     ]
    },
    {
     "name": "stderr",
     "output_type": "stream",
     "text": [
      "Train: 100%|██████████| 137/137 [00:19<00:00,  6.86batch/s]\n",
      "Valdt: 100%|██████████| 137/137 [00:05<00:00, 26.55batch/s]\n"
     ]
    },
    {
     "name": "stdout",
     "output_type": "stream",
     "text": [
      "Epoch: 181 / 6000, \n",
      "Train -- Loss: 0.0021985458059098637, Coeff: 0.033447265625 \n",
      "Val   -- Loss: 0.010463233273113349, Coeff: 0.1337890625 \n",
      "\n",
      "\n"
     ]
    },
    {
     "name": "stderr",
     "output_type": "stream",
     "text": [
      "Train: 100%|██████████| 137/137 [00:20<00:00,  6.80batch/s]\n",
      "Valdt: 100%|██████████| 137/137 [00:05<00:00, 26.43batch/s]\n"
     ]
    },
    {
     "name": "stdout",
     "output_type": "stream",
     "text": [
      "Epoch: 182 / 6000, \n",
      "Train -- Loss: 0.0021418208111101083, Coeff: 0.033447265625 \n",
      "Val   -- Loss: 0.009982748680860402, Coeff: 0.1337890625 \n",
      "\n",
      "\n"
     ]
    },
    {
     "name": "stderr",
     "output_type": "stream",
     "text": [
      "Train: 100%|██████████| 137/137 [00:22<00:00,  6.18batch/s]\n",
      "Valdt: 100%|██████████| 137/137 [00:05<00:00, 26.57batch/s]\n"
     ]
    },
    {
     "name": "stdout",
     "output_type": "stream",
     "text": [
      "Epoch: 183 / 6000, \n",
      "Train -- Loss: 0.0021694899839446837, Coeff: 0.033447265625 \n",
      "Val   -- Loss: 0.010503822493668196, Coeff: 0.1337890625 \n",
      "\n",
      "\n"
     ]
    },
    {
     "name": "stderr",
     "output_type": "stream",
     "text": [
      "Train: 100%|██████████| 137/137 [00:19<00:00,  6.85batch/s]\n",
      "Valdt: 100%|██████████| 137/137 [00:05<00:00, 26.21batch/s]\n"
     ]
    },
    {
     "name": "stdout",
     "output_type": "stream",
     "text": [
      "Epoch: 184 / 6000, \n",
      "Train -- Loss: 0.002138752689572196, Coeff: 0.033447265625 \n",
      "Val   -- Loss: 0.00982811281217481, Coeff: 0.1337890625 \n",
      "\n",
      "\n"
     ]
    },
    {
     "name": "stderr",
     "output_type": "stream",
     "text": [
      "Train: 100%|██████████| 137/137 [00:20<00:00,  6.83batch/s]\n",
      "Valdt: 100%|██████████| 137/137 [00:05<00:00, 26.49batch/s]\n"
     ]
    },
    {
     "name": "stdout",
     "output_type": "stream",
     "text": [
      "Epoch: 185 / 6000, \n",
      "Train -- Loss: 0.0021429516983909754, Coeff: 0.033447265625 \n",
      "Val   -- Loss: 0.009845683360278776, Coeff: 0.1337890625 \n",
      "\n",
      "\n"
     ]
    },
    {
     "name": "stderr",
     "output_type": "stream",
     "text": [
      "Train: 100%|██████████| 137/137 [00:19<00:00,  6.85batch/s]\n",
      "Valdt: 100%|██████████| 137/137 [00:05<00:00, 26.55batch/s]\n"
     ]
    },
    {
     "name": "stdout",
     "output_type": "stream",
     "text": [
      "Epoch: 186 / 6000, \n",
      "Train -- Loss: 0.002156997505211345, Coeff: 0.033447265625 \n",
      "Val   -- Loss: 0.009888389085757553, Coeff: 0.1337890625 \n",
      "\n",
      "\n"
     ]
    },
    {
     "name": "stderr",
     "output_type": "stream",
     "text": [
      "Train: 100%|██████████| 137/137 [00:20<00:00,  6.84batch/s]\n",
      "Valdt: 100%|██████████| 137/137 [00:05<00:00, 26.21batch/s]\n"
     ]
    },
    {
     "name": "stdout",
     "output_type": "stream",
     "text": [
      "Epoch: 187 / 6000, \n",
      "Train -- Loss: 0.0022717844372959813, Coeff: 0.033447265625 \n",
      "Val   -- Loss: 0.010641632749628772, Coeff: 0.1337890625 \n",
      "\n",
      "\n"
     ]
    },
    {
     "name": "stderr",
     "output_type": "stream",
     "text": [
      "Train: 100%|██████████| 137/137 [00:20<00:00,  6.84batch/s]\n",
      "Valdt: 100%|██████████| 137/137 [00:05<00:00, 26.49batch/s]\n"
     ]
    },
    {
     "name": "stdout",
     "output_type": "stream",
     "text": [
      "Epoch: 188 / 6000, \n",
      "Train -- Loss: 0.002223505717365511, Coeff: 0.033447265625 \n",
      "Val   -- Loss: 0.0106164863151666, Coeff: 0.1337890625 \n",
      "\n",
      "\n"
     ]
    },
    {
     "name": "stderr",
     "output_type": "stream",
     "text": [
      "Train: 100%|██████████| 137/137 [00:20<00:00,  6.84batch/s]\n",
      "Valdt: 100%|██████████| 137/137 [00:05<00:00, 26.51batch/s]\n"
     ]
    },
    {
     "name": "stdout",
     "output_type": "stream",
     "text": [
      "Epoch: 189 / 6000, \n",
      "Train -- Loss: 0.0021316720427639515, Coeff: 0.033447265625 \n",
      "Val   -- Loss: 0.009759748020417344, Coeff: 0.1337890625 \n",
      "\n",
      "\n"
     ]
    },
    {
     "name": "stderr",
     "output_type": "stream",
     "text": [
      "Train: 100%|██████████| 137/137 [00:19<00:00,  6.86batch/s]\n",
      "Valdt: 100%|██████████| 137/137 [00:05<00:00, 26.13batch/s]\n"
     ]
    },
    {
     "name": "stdout",
     "output_type": "stream",
     "text": [
      "Epoch: 190 / 6000, \n",
      "Train -- Loss: 0.002105271635970668, Coeff: 0.033447265625 \n",
      "Val   -- Loss: 0.009985146444518297, Coeff: 0.1337890625 \n",
      "\n",
      "\n"
     ]
    },
    {
     "name": "stderr",
     "output_type": "stream",
     "text": [
      "Train: 100%|██████████| 137/137 [00:19<00:00,  6.86batch/s]\n",
      "Valdt: 100%|██████████| 137/137 [00:05<00:00, 26.60batch/s]\n"
     ]
    },
    {
     "name": "stdout",
     "output_type": "stream",
     "text": [
      "Epoch: 191 / 6000, \n",
      "Train -- Loss: 0.0021290468903368905, Coeff: 0.033447265625 \n",
      "Val   -- Loss: 0.01015343561513233, Coeff: 0.1337890625 \n",
      "\n",
      "\n"
     ]
    },
    {
     "name": "stderr",
     "output_type": "stream",
     "text": [
      "Train: 100%|██████████| 137/137 [00:22<00:00,  6.12batch/s]\n",
      "Valdt: 100%|██████████| 137/137 [00:05<00:00, 26.42batch/s]\n"
     ]
    },
    {
     "name": "stdout",
     "output_type": "stream",
     "text": [
      "Epoch: 192 / 6000, \n",
      "Train -- Loss: 0.002143224639222317, Coeff: 0.033447265625 \n",
      "Val   -- Loss: 0.010293141282210278, Coeff: 0.1337890625 \n",
      "\n",
      "\n"
     ]
    },
    {
     "name": "stderr",
     "output_type": "stream",
     "text": [
      "Train: 100%|██████████| 137/137 [00:20<00:00,  6.83batch/s]\n",
      "Valdt: 100%|██████████| 137/137 [00:05<00:00, 26.55batch/s]\n"
     ]
    },
    {
     "name": "stdout",
     "output_type": "stream",
     "text": [
      "Epoch: 193 / 6000, \n",
      "Train -- Loss: 0.0021530465025878754, Coeff: 0.033447265625 \n",
      "Val   -- Loss: 0.010221213786313589, Coeff: 0.1337890625 \n",
      "\n",
      "\n"
     ]
    },
    {
     "name": "stderr",
     "output_type": "stream",
     "text": [
      "Train: 100%|██████████| 137/137 [00:19<00:00,  6.85batch/s]\n",
      "Valdt: 100%|██████████| 137/137 [00:05<00:00, 26.26batch/s]\n"
     ]
    },
    {
     "name": "stdout",
     "output_type": "stream",
     "text": [
      "Epoch: 194 / 6000, \n",
      "Train -- Loss: 0.0021798143060182728, Coeff: 0.033447265625 \n",
      "Val   -- Loss: 0.010691490478686595, Coeff: 0.1337890625 \n",
      "\n",
      "\n"
     ]
    },
    {
     "name": "stderr",
     "output_type": "stream",
     "text": [
      "Train: 100%|██████████| 137/137 [00:19<00:00,  6.87batch/s]\n",
      "Valdt: 100%|██████████| 137/137 [00:05<00:00, 26.48batch/s]\n"
     ]
    },
    {
     "name": "stdout",
     "output_type": "stream",
     "text": [
      "Epoch: 195 / 6000, \n",
      "Train -- Loss: 0.0021831338659878624, Coeff: 0.033447265625 \n",
      "Val   -- Loss: 0.009782009014923508, Coeff: 0.1337890625 \n",
      "\n",
      "\n"
     ]
    },
    {
     "name": "stderr",
     "output_type": "stream",
     "text": [
      "Train: 100%|██████████| 137/137 [00:20<00:00,  6.85batch/s]\n",
      "Valdt: 100%|██████████| 137/137 [00:05<00:00, 26.46batch/s]\n"
     ]
    },
    {
     "name": "stdout",
     "output_type": "stream",
     "text": [
      "Epoch: 196 / 6000, \n",
      "Train -- Loss: 0.002693897141335765, Coeff: 0.033447265625 \n",
      "Val   -- Loss: 0.01253879443221614, Coeff: 0.1337890625 \n",
      "\n",
      "\n"
     ]
    },
    {
     "name": "stderr",
     "output_type": "stream",
     "text": [
      "Train: 100%|██████████| 137/137 [00:19<00:00,  6.87batch/s]\n",
      "Valdt: 100%|██████████| 137/137 [00:05<00:00, 26.25batch/s]\n"
     ]
    },
    {
     "name": "stdout",
     "output_type": "stream",
     "text": [
      "Epoch: 197 / 6000, \n",
      "Train -- Loss: 0.002175054472803057, Coeff: 0.033447265625 \n",
      "Val   -- Loss: 0.009748569459905944, Coeff: 0.1337890625 \n",
      "\n",
      "\n"
     ]
    },
    {
     "name": "stderr",
     "output_type": "stream",
     "text": [
      "Train: 100%|██████████| 137/137 [00:19<00:00,  6.87batch/s]\n",
      "Valdt: 100%|██████████| 137/137 [00:05<00:00, 26.56batch/s]\n"
     ]
    },
    {
     "name": "stdout",
     "output_type": "stream",
     "text": [
      "Epoch: 198 / 6000, \n",
      "Train -- Loss: 0.0020168096075458336, Coeff: 0.033447265625 \n",
      "Val   -- Loss: 0.009549760569718875, Coeff: 0.1337890625 \n",
      "\n",
      "\n"
     ]
    },
    {
     "name": "stderr",
     "output_type": "stream",
     "text": [
      "Train: 100%|██████████| 137/137 [00:20<00:00,  6.83batch/s]\n",
      "Valdt: 100%|██████████| 137/137 [00:05<00:00, 26.56batch/s]\n"
     ]
    },
    {
     "name": "stdout",
     "output_type": "stream",
     "text": [
      "Epoch: 199 / 6000, \n",
      "Train -- Loss: 0.0020135870406751914, Coeff: 0.033447265625 \n",
      "Val   -- Loss: 0.009722409554618146, Coeff: 0.1337890625 \n",
      "\n",
      "\n"
     ]
    },
    {
     "name": "stderr",
     "output_type": "stream",
     "text": [
      "Train: 100%|██████████| 137/137 [00:19<00:00,  6.86batch/s]\n",
      "Valdt: 100%|██████████| 137/137 [00:05<00:00, 26.28batch/s]\n"
     ]
    },
    {
     "name": "stdout",
     "output_type": "stream",
     "text": [
      "Epoch: 200 / 6000, \n",
      "Train -- Loss: 0.002059347784553745, Coeff: 0.033447265625 \n",
      "Val   -- Loss: 0.009523127846557448, Coeff: 0.1337890625 \n",
      "\n",
      "\n"
     ]
    },
    {
     "name": "stderr",
     "output_type": "stream",
     "text": [
      "Train: 100%|██████████| 137/137 [00:22<00:00,  6.16batch/s]\n",
      "Valdt: 100%|██████████| 137/137 [00:05<00:00, 26.33batch/s]\n"
     ]
    },
    {
     "name": "stdout",
     "output_type": "stream",
     "text": [
      "Epoch: 201 / 6000, \n",
      "Train -- Loss: 0.0020322554498898864, Coeff: 0.033447265625 \n",
      "Val   -- Loss: 0.009531012712184171, Coeff: 0.1337890625 \n",
      "\n",
      "\n"
     ]
    },
    {
     "name": "stderr",
     "output_type": "stream",
     "text": [
      "Train: 100%|██████████| 137/137 [00:19<00:00,  6.87batch/s]\n",
      "Valdt: 100%|██████████| 137/137 [00:05<00:00, 26.47batch/s]\n"
     ]
    },
    {
     "name": "stdout",
     "output_type": "stream",
     "text": [
      "Epoch: 202 / 6000, \n",
      "Train -- Loss: 0.0020174291985685425, Coeff: 0.033447265625 \n",
      "Val   -- Loss: 0.009678540073271803, Coeff: 0.1337890625 \n",
      "\n",
      "\n"
     ]
    },
    {
     "name": "stderr",
     "output_type": "stream",
     "text": [
      "Train: 100%|██████████| 137/137 [00:19<00:00,  6.86batch/s]\n",
      "Valdt: 100%|██████████| 137/137 [00:05<00:00, 26.54batch/s]\n"
     ]
    },
    {
     "name": "stdout",
     "output_type": "stream",
     "text": [
      "Epoch: 203 / 6000, \n",
      "Train -- Loss: 0.0020594882735963426, Coeff: 0.033447265625 \n",
      "Val   -- Loss: 0.009821057509306444, Coeff: 0.1337890625 \n",
      "\n",
      "\n"
     ]
    },
    {
     "name": "stderr",
     "output_type": "stream",
     "text": [
      "Train: 100%|██████████| 137/137 [00:19<00:00,  6.87batch/s]\n",
      "Valdt: 100%|██████████| 137/137 [00:05<00:00, 26.28batch/s]\n"
     ]
    },
    {
     "name": "stdout",
     "output_type": "stream",
     "text": [
      "Epoch: 204 / 6000, \n",
      "Train -- Loss: 0.0021146964210300005, Coeff: 0.033447265625 \n",
      "Val   -- Loss: 0.010104535657699368, Coeff: 0.1337890625 \n",
      "\n",
      "\n"
     ]
    },
    {
     "name": "stderr",
     "output_type": "stream",
     "text": [
      "Train: 100%|██████████| 137/137 [00:19<00:00,  6.86batch/s]\n",
      "Valdt: 100%|██████████| 137/137 [00:05<00:00, 26.58batch/s]\n"
     ]
    },
    {
     "name": "stdout",
     "output_type": "stream",
     "text": [
      "Epoch: 205 / 6000, \n",
      "Train -- Loss: 0.002053383170899828, Coeff: 0.033447265625 \n",
      "Val   -- Loss: 0.010376641722292284, Coeff: 0.1337890625 \n",
      "\n",
      "\n"
     ]
    },
    {
     "name": "stderr",
     "output_type": "stream",
     "text": [
      "Train: 100%|██████████| 137/137 [00:20<00:00,  6.85batch/s]\n",
      "Valdt: 100%|██████████| 137/137 [00:05<00:00, 26.52batch/s]\n"
     ]
    },
    {
     "name": "stdout",
     "output_type": "stream",
     "text": [
      "Epoch: 206 / 6000, \n",
      "Train -- Loss: 0.0020924208315260453, Coeff: 0.033447265625 \n",
      "Val   -- Loss: 0.01004890640506389, Coeff: 0.1337890625 \n",
      "\n",
      "\n"
     ]
    },
    {
     "name": "stderr",
     "output_type": "stream",
     "text": [
      "Train: 100%|██████████| 137/137 [00:19<00:00,  6.88batch/s]\n",
      "Valdt: 100%|██████████| 137/137 [00:05<00:00, 26.20batch/s]\n"
     ]
    },
    {
     "name": "stdout",
     "output_type": "stream",
     "text": [
      "Epoch: 207 / 6000, \n",
      "Train -- Loss: 0.0021109128297792635, Coeff: 0.033447265625 \n",
      "Val   -- Loss: 0.009689116707448585, Coeff: 0.1337890625 \n",
      "\n",
      "\n"
     ]
    },
    {
     "name": "stderr",
     "output_type": "stream",
     "text": [
      "Train: 100%|██████████| 137/137 [00:19<00:00,  6.88batch/s]\n",
      "Valdt: 100%|██████████| 137/137 [00:05<00:00, 26.53batch/s]\n"
     ]
    },
    {
     "name": "stdout",
     "output_type": "stream",
     "text": [
      "Epoch: 208 / 6000, \n",
      "Train -- Loss: 0.002197916596679583, Coeff: 0.033447265625 \n",
      "Val   -- Loss: 0.010272770854288415, Coeff: 0.1337890625 \n",
      "\n",
      "\n"
     ]
    },
    {
     "name": "stderr",
     "output_type": "stream",
     "text": [
      "Train: 100%|██████████| 137/137 [00:22<00:00,  6.17batch/s]\n",
      "Valdt: 100%|██████████| 137/137 [00:05<00:00, 26.58batch/s]\n"
     ]
    },
    {
     "name": "stdout",
     "output_type": "stream",
     "text": [
      "Epoch: 209 / 6000, \n",
      "Train -- Loss: 0.0021000596655289753, Coeff: 0.033447265625 \n",
      "Val   -- Loss: 0.010614784902306421, Coeff: 0.1337890625 \n",
      "\n",
      "\n"
     ]
    },
    {
     "name": "stderr",
     "output_type": "stream",
     "text": [
      "Train: 100%|██████████| 137/137 [00:19<00:00,  6.88batch/s]\n",
      "Valdt: 100%|██████████| 137/137 [00:05<00:00, 26.37batch/s]\n"
     ]
    },
    {
     "name": "stdout",
     "output_type": "stream",
     "text": [
      "Epoch: 210 / 6000, \n",
      "Train -- Loss: 0.0023374267694701895, Coeff: 0.033447265625 \n",
      "Val   -- Loss: 0.012071281474462547, Coeff: 0.1337890625 \n",
      "\n",
      "\n"
     ]
    },
    {
     "name": "stderr",
     "output_type": "stream",
     "text": [
      "Train: 100%|██████████| 137/137 [00:20<00:00,  6.84batch/s]\n",
      "Valdt: 100%|██████████| 137/137 [00:05<00:00, 26.55batch/s]\n"
     ]
    },
    {
     "name": "stdout",
     "output_type": "stream",
     "text": [
      "Epoch: 211 / 6000, \n",
      "Train -- Loss: 0.0024155439887242223, Coeff: 0.033447265625 \n",
      "Val   -- Loss: 0.010108666051851933, Coeff: 0.1337890625 \n",
      "\n",
      "\n"
     ]
    },
    {
     "name": "stderr",
     "output_type": "stream",
     "text": [
      "Train: 100%|██████████| 137/137 [00:19<00:00,  6.85batch/s]\n",
      "Valdt: 100%|██████████| 137/137 [00:05<00:00, 26.64batch/s]\n"
     ]
    },
    {
     "name": "stdout",
     "output_type": "stream",
     "text": [
      "Epoch: 212 / 6000, \n",
      "Train -- Loss: 0.002034223645538393, Coeff: 0.033447265625 \n",
      "Val   -- Loss: 0.009354623387224422, Coeff: 0.1337890625 \n",
      "\n",
      "\n"
     ]
    },
    {
     "name": "stderr",
     "output_type": "stream",
     "text": [
      "Train: 100%|██████████| 137/137 [00:20<00:00,  6.84batch/s]\n",
      "Valdt: 100%|██████████| 137/137 [00:05<00:00, 26.28batch/s]\n"
     ]
    },
    {
     "name": "stdout",
     "output_type": "stream",
     "text": [
      "Epoch: 213 / 6000, \n",
      "Train -- Loss: 0.00203287002019806, Coeff: 0.033447265625 \n",
      "Val   -- Loss: 0.009781673674365906, Coeff: 0.1337890625 \n",
      "\n",
      "\n"
     ]
    },
    {
     "name": "stderr",
     "output_type": "stream",
     "text": [
      "Train: 100%|██████████| 137/137 [00:19<00:00,  6.87batch/s]\n",
      "Valdt: 100%|██████████| 137/137 [00:05<00:00, 26.57batch/s]\n"
     ]
    },
    {
     "name": "stdout",
     "output_type": "stream",
     "text": [
      "Epoch: 214 / 6000, \n",
      "Train -- Loss: 0.002014866412625401, Coeff: 0.033447265625 \n",
      "Val   -- Loss: 0.009448631195127356, Coeff: 0.1337890625 \n",
      "\n",
      "\n"
     ]
    },
    {
     "name": "stderr",
     "output_type": "stream",
     "text": [
      "Train: 100%|██████████| 137/137 [00:20<00:00,  6.85batch/s]\n",
      "Valdt: 100%|██████████| 137/137 [00:05<00:00, 26.60batch/s]\n"
     ]
    },
    {
     "name": "stdout",
     "output_type": "stream",
     "text": [
      "Epoch: 215 / 6000, \n",
      "Train -- Loss: 0.001987545886062422, Coeff: 0.033447265625 \n",
      "Val   -- Loss: 0.00946290859761559, Coeff: 0.1337890625 \n",
      "\n",
      "\n"
     ]
    },
    {
     "name": "stderr",
     "output_type": "stream",
     "text": [
      "Train: 100%|██████████| 137/137 [00:19<00:00,  6.89batch/s]\n",
      "Valdt: 100%|██████████| 137/137 [00:05<00:00, 26.25batch/s]\n"
     ]
    },
    {
     "name": "stdout",
     "output_type": "stream",
     "text": [
      "Epoch: 216 / 6000, \n",
      "Train -- Loss: 0.001994919907546577, Coeff: 0.033447265625 \n",
      "Val   -- Loss: 0.009526196746711423, Coeff: 0.1337890625 \n",
      "\n",
      "\n"
     ]
    },
    {
     "name": "stderr",
     "output_type": "stream",
     "text": [
      "Train: 100%|██████████| 137/137 [00:19<00:00,  6.87batch/s]\n",
      "Valdt: 100%|██████████| 137/137 [00:05<00:00, 26.56batch/s]\n"
     ]
    },
    {
     "name": "stdout",
     "output_type": "stream",
     "text": [
      "Epoch: 217 / 6000, \n",
      "Train -- Loss: 0.002039603761249783, Coeff: 0.033447265625 \n",
      "Val   -- Loss: 0.009482247235379259, Coeff: 0.1337890625 \n",
      "\n",
      "\n"
     ]
    },
    {
     "name": "stderr",
     "output_type": "stream",
     "text": [
      "Train: 100%|██████████| 137/137 [00:22<00:00,  6.15batch/s]\n",
      "Valdt: 100%|██████████| 137/137 [00:05<00:00, 26.70batch/s]\n"
     ]
    },
    {
     "name": "stdout",
     "output_type": "stream",
     "text": [
      "Epoch: 218 / 6000, \n",
      "Train -- Loss: 0.002032678764602788, Coeff: 0.033447265625 \n",
      "Val   -- Loss: 0.009930649928449982, Coeff: 0.1337890625 \n",
      "\n",
      "\n"
     ]
    },
    {
     "name": "stderr",
     "output_type": "stream",
     "text": [
      "Train: 100%|██████████| 137/137 [00:19<00:00,  6.87batch/s]\n",
      "Valdt: 100%|██████████| 137/137 [00:05<00:00, 26.57batch/s]\n"
     ]
    },
    {
     "name": "stdout",
     "output_type": "stream",
     "text": [
      "Epoch: 219 / 6000, \n",
      "Train -- Loss: 0.001995139400109659, Coeff: 0.033447265625 \n",
      "Val   -- Loss: 0.00942773970814098, Coeff: 0.1337890625 \n",
      "\n",
      "\n"
     ]
    },
    {
     "name": "stderr",
     "output_type": "stream",
     "text": [
      "Train: 100%|██████████| 137/137 [00:19<00:00,  6.88batch/s]\n",
      "Valdt: 100%|██████████| 137/137 [00:05<00:00, 26.30batch/s]\n"
     ]
    },
    {
     "name": "stdout",
     "output_type": "stream",
     "text": [
      "Epoch: 220 / 6000, \n",
      "Train -- Loss: 0.0020370614688280516, Coeff: 0.033447265625 \n",
      "Val   -- Loss: 0.010242250977480251, Coeff: 0.1337890625 \n",
      "\n",
      "\n"
     ]
    },
    {
     "name": "stderr",
     "output_type": "stream",
     "text": [
      "Train: 100%|██████████| 137/137 [00:19<00:00,  6.87batch/s]\n",
      "Valdt: 100%|██████████| 137/137 [00:05<00:00, 26.61batch/s]\n"
     ]
    },
    {
     "name": "stdout",
     "output_type": "stream",
     "text": [
      "Epoch: 221 / 6000, \n",
      "Train -- Loss: 0.002077326591890193, Coeff: 0.033447265625 \n",
      "Val   -- Loss: 0.010020994298253559, Coeff: 0.1337890625 \n",
      "\n",
      "\n"
     ]
    },
    {
     "name": "stderr",
     "output_type": "stream",
     "text": [
      "Train: 100%|██████████| 137/137 [00:19<00:00,  6.87batch/s]\n",
      "Valdt: 100%|██████████| 137/137 [00:05<00:00, 26.69batch/s]\n"
     ]
    },
    {
     "name": "stdout",
     "output_type": "stream",
     "text": [
      "Epoch: 222 / 6000, \n",
      "Train -- Loss: 0.002049216094663715, Coeff: 0.033447265625 \n",
      "Val   -- Loss: 0.009496645665082081, Coeff: 0.1337890625 \n",
      "\n",
      "\n"
     ]
    },
    {
     "name": "stderr",
     "output_type": "stream",
     "text": [
      "Train: 100%|██████████| 137/137 [00:19<00:00,  6.87batch/s]\n",
      "Valdt: 100%|██████████| 137/137 [00:05<00:00, 26.31batch/s]\n"
     ]
    },
    {
     "name": "stdout",
     "output_type": "stream",
     "text": [
      "Epoch: 223 / 6000, \n",
      "Train -- Loss: 0.0019878153863440474, Coeff: 0.033447265625 \n",
      "Val   -- Loss: 0.009490761778000357, Coeff: 0.1337890625 \n",
      "\n",
      "\n"
     ]
    },
    {
     "name": "stderr",
     "output_type": "stream",
     "text": [
      "Train: 100%|██████████| 137/137 [00:19<00:00,  6.88batch/s]\n",
      "Valdt: 100%|██████████| 137/137 [00:05<00:00, 26.41batch/s]\n"
     ]
    },
    {
     "name": "stdout",
     "output_type": "stream",
     "text": [
      "Epoch: 224 / 6000, \n",
      "Train -- Loss: 0.0021039002715594786, Coeff: 0.033447265625 \n",
      "Val   -- Loss: 0.011064455272388302, Coeff: 0.1337890625 \n",
      "\n",
      "\n"
     ]
    },
    {
     "name": "stderr",
     "output_type": "stream",
     "text": [
      "Train: 100%|██████████| 137/137 [00:20<00:00,  6.84batch/s]\n",
      "Valdt: 100%|██████████| 137/137 [00:05<00:00, 26.56batch/s]\n"
     ]
    },
    {
     "name": "stdout",
     "output_type": "stream",
     "text": [
      "Epoch: 225 / 6000, \n",
      "Train -- Loss: 0.0022768525786799813, Coeff: 0.033447265625 \n",
      "Val   -- Loss: 0.009686822216418223, Coeff: 0.1337890625 \n",
      "\n",
      "\n"
     ]
    },
    {
     "name": "stderr",
     "output_type": "stream",
     "text": [
      "Train: 100%|██████████| 137/137 [00:22<00:00,  6.14batch/s]\n",
      "Valdt: 100%|██████████| 137/137 [00:05<00:00, 26.59batch/s]\n"
     ]
    },
    {
     "name": "stdout",
     "output_type": "stream",
     "text": [
      "Epoch: 226 / 6000, \n",
      "Train -- Loss: 0.0019858451569312683, Coeff: 0.033447265625 \n",
      "Val   -- Loss: 0.010015040177339807, Coeff: 0.1337890625 \n",
      "\n",
      "\n"
     ]
    },
    {
     "name": "stderr",
     "output_type": "stream",
     "text": [
      "Train: 100%|██████████| 137/137 [00:19<00:00,  6.87batch/s]\n",
      "Valdt: 100%|██████████| 137/137 [00:05<00:00, 26.30batch/s]\n"
     ]
    },
    {
     "name": "stdout",
     "output_type": "stream",
     "text": [
      "Epoch: 227 / 6000, \n",
      "Train -- Loss: 0.0019516442377225714, Coeff: 0.033447265625 \n",
      "Val   -- Loss: 0.009430126293633236, Coeff: 0.1337890625 \n",
      "\n",
      "\n"
     ]
    },
    {
     "name": "stderr",
     "output_type": "stream",
     "text": [
      "Train: 100%|██████████| 137/137 [00:19<00:00,  6.87batch/s]\n",
      "Valdt: 100%|██████████| 137/137 [00:05<00:00, 26.63batch/s]\n"
     ]
    },
    {
     "name": "stdout",
     "output_type": "stream",
     "text": [
      "Epoch: 228 / 6000, \n",
      "Train -- Loss: 0.0019712187029288426, Coeff: 0.033447265625 \n",
      "Val   -- Loss: 0.009736759931509038, Coeff: 0.1337890625 \n",
      "\n",
      "\n"
     ]
    },
    {
     "name": "stderr",
     "output_type": "stream",
     "text": [
      "Train: 100%|██████████| 137/137 [00:19<00:00,  6.86batch/s]\n",
      "Valdt: 100%|██████████| 137/137 [00:05<00:00, 26.59batch/s]\n"
     ]
    },
    {
     "name": "stdout",
     "output_type": "stream",
     "text": [
      "Epoch: 229 / 6000, \n",
      "Train -- Loss: 0.0020111853514500496, Coeff: 0.033447265625 \n",
      "Val   -- Loss: 0.009579195122384428, Coeff: 0.1337890625 \n",
      "\n",
      "\n"
     ]
    },
    {
     "name": "stderr",
     "output_type": "stream",
     "text": [
      "Train: 100%|██████████| 137/137 [00:19<00:00,  6.89batch/s]\n",
      "Valdt: 100%|██████████| 137/137 [00:05<00:00, 26.31batch/s]\n"
     ]
    },
    {
     "name": "stdout",
     "output_type": "stream",
     "text": [
      "Epoch: 230 / 6000, \n",
      "Train -- Loss: 0.002016730575095936, Coeff: 0.033447265625 \n",
      "Val   -- Loss: 0.00962743580255708, Coeff: 0.1337890625 \n",
      "\n",
      "\n"
     ]
    },
    {
     "name": "stderr",
     "output_type": "stream",
     "text": [
      "Train: 100%|██████████| 137/137 [00:19<00:00,  6.87batch/s]\n",
      "Valdt: 100%|██████████| 137/137 [00:05<00:00, 26.54batch/s]\n"
     ]
    },
    {
     "name": "stdout",
     "output_type": "stream",
     "text": [
      "Epoch: 231 / 6000, \n",
      "Train -- Loss: 0.002065779027576403, Coeff: 0.033447265625 \n",
      "Val   -- Loss: 0.0097550985819732, Coeff: 0.1337890625 \n",
      "\n",
      "\n"
     ]
    },
    {
     "name": "stderr",
     "output_type": "stream",
     "text": [
      "Train: 100%|██████████| 137/137 [00:19<00:00,  6.87batch/s]\n",
      "Valdt: 100%|██████████| 137/137 [00:05<00:00, 26.60batch/s]\n"
     ]
    },
    {
     "name": "stdout",
     "output_type": "stream",
     "text": [
      "Epoch: 232 / 6000, \n",
      "Train -- Loss: 0.0019735300539870456, Coeff: 0.033447265625 \n",
      "Val   -- Loss: 0.009255258754492549, Coeff: 0.1337890625 \n",
      "\n",
      "\n"
     ]
    },
    {
     "name": "stderr",
     "output_type": "stream",
     "text": [
      "Train: 100%|██████████| 137/137 [00:19<00:00,  6.89batch/s]\n",
      "Valdt: 100%|██████████| 137/137 [00:05<00:00, 26.31batch/s]\n"
     ]
    },
    {
     "name": "stdout",
     "output_type": "stream",
     "text": [
      "Epoch: 233 / 6000, \n",
      "Train -- Loss: 0.001984920504623355, Coeff: 0.033447265625 \n",
      "Val   -- Loss: 0.011186584571950351, Coeff: 0.1337890625 \n",
      "\n",
      "\n"
     ]
    },
    {
     "name": "stderr",
     "output_type": "stream",
     "text": [
      "Train: 100%|██████████| 137/137 [00:19<00:00,  6.88batch/s]\n",
      "Valdt: 100%|██████████| 137/137 [00:05<00:00, 26.62batch/s]\n"
     ]
    },
    {
     "name": "stdout",
     "output_type": "stream",
     "text": [
      "Epoch: 234 / 6000, \n",
      "Train -- Loss: 0.0025358399733108, Coeff: 0.033447265625 \n",
      "Val   -- Loss: 0.010586261321179641, Coeff: 0.1337890625 \n",
      "\n",
      "\n"
     ]
    },
    {
     "name": "stderr",
     "output_type": "stream",
     "text": [
      "Train: 100%|██████████| 137/137 [00:22<00:00,  6.14batch/s]\n",
      "Valdt: 100%|██████████| 137/137 [00:05<00:00, 26.66batch/s]\n"
     ]
    },
    {
     "name": "stdout",
     "output_type": "stream",
     "text": [
      "Epoch: 235 / 6000, \n",
      "Train -- Loss: 0.0020793561174792074, Coeff: 0.033447265625 \n",
      "Val   -- Loss: 0.009665986327860315, Coeff: 0.1337890625 \n",
      "\n",
      "\n"
     ]
    },
    {
     "name": "stderr",
     "output_type": "stream",
     "text": [
      "Train: 100%|██████████| 137/137 [00:19<00:00,  6.88batch/s]\n",
      "Valdt: 100%|██████████| 137/137 [00:05<00:00, 26.16batch/s]\n"
     ]
    },
    {
     "name": "stdout",
     "output_type": "stream",
     "text": [
      "Epoch: 236 / 6000, \n",
      "Train -- Loss: 0.0020001698312653174, Coeff: 0.033447265625 \n",
      "Val   -- Loss: 0.009324136763900884, Coeff: 0.1337890625 \n",
      "\n",
      "\n"
     ]
    },
    {
     "name": "stderr",
     "output_type": "stream",
     "text": [
      "Train: 100%|██████████| 137/137 [00:19<00:00,  6.88batch/s]\n",
      "Valdt: 100%|██████████| 137/137 [00:05<00:00, 26.60batch/s]\n"
     ]
    },
    {
     "name": "stdout",
     "output_type": "stream",
     "text": [
      "Epoch: 237 / 6000, \n",
      "Train -- Loss: 0.001960846620240998, Coeff: 0.033447265625 \n",
      "Val   -- Loss: 0.009174248090489594, Coeff: 0.1337890625 \n",
      "\n",
      "\n"
     ]
    },
    {
     "name": "stderr",
     "output_type": "stream",
     "text": [
      "Train: 100%|██████████| 137/137 [00:19<00:00,  6.87batch/s]\n",
      "Valdt: 100%|██████████| 137/137 [00:05<00:00, 26.48batch/s]\n"
     ]
    },
    {
     "name": "stdout",
     "output_type": "stream",
     "text": [
      "Epoch: 238 / 6000, \n",
      "Train -- Loss: 0.0019731317407468783, Coeff: 0.033447265625 \n",
      "Val   -- Loss: 0.009626137356757743, Coeff: 0.1337890625 \n",
      "\n",
      "\n"
     ]
    },
    {
     "name": "stderr",
     "output_type": "stream",
     "text": [
      "Train: 100%|██████████| 137/137 [00:19<00:00,  6.86batch/s]\n",
      "Valdt: 100%|██████████| 137/137 [00:05<00:00, 26.35batch/s]\n"
     ]
    },
    {
     "name": "stdout",
     "output_type": "stream",
     "text": [
      "Epoch: 239 / 6000, \n",
      "Train -- Loss: 0.0019188788654477202, Coeff: 0.033447265625 \n",
      "Val   -- Loss: 0.009211785502447408, Coeff: 0.1337890625 \n",
      "\n",
      "\n"
     ]
    },
    {
     "name": "stderr",
     "output_type": "stream",
     "text": [
      "Train: 100%|██████████| 137/137 [00:19<00:00,  6.89batch/s]\n",
      "Valdt: 100%|██████████| 137/137 [00:05<00:00, 26.63batch/s]\n"
     ]
    },
    {
     "name": "stdout",
     "output_type": "stream",
     "text": [
      "Epoch: 240 / 6000, \n",
      "Train -- Loss: 0.0019275036060732483, Coeff: 0.033447265625 \n",
      "Val   -- Loss: 0.009287906578880198, Coeff: 0.1337890625 \n",
      "\n",
      "\n"
     ]
    },
    {
     "name": "stderr",
     "output_type": "stream",
     "text": [
      "Train: 100%|██████████| 137/137 [00:19<00:00,  6.86batch/s]\n",
      "Valdt: 100%|██████████| 137/137 [00:05<00:00, 26.65batch/s]\n"
     ]
    },
    {
     "name": "stdout",
     "output_type": "stream",
     "text": [
      "Epoch: 241 / 6000, \n",
      "Train -- Loss: 0.0020438318464237474, Coeff: 0.033447265625 \n",
      "Val   -- Loss: 0.009617530394739124, Coeff: 0.1337890625 \n",
      "\n",
      "\n"
     ]
    },
    {
     "name": "stderr",
     "output_type": "stream",
     "text": [
      "Train: 100%|██████████| 137/137 [00:19<00:00,  6.88batch/s]\n",
      "Valdt: 100%|██████████| 137/137 [00:05<00:00, 26.29batch/s]\n"
     ]
    },
    {
     "name": "stdout",
     "output_type": "stream",
     "text": [
      "Epoch: 242 / 6000, \n",
      "Train -- Loss: 0.0019555286615204055, Coeff: 0.033447265625 \n",
      "Val   -- Loss: 0.009793502633845288, Coeff: 0.1337890625 \n",
      "\n",
      "\n"
     ]
    },
    {
     "name": "stderr",
     "output_type": "stream",
     "text": [
      "Train: 100%|██████████| 137/137 [00:19<00:00,  6.89batch/s]\n",
      "Valdt: 100%|██████████| 137/137 [00:07<00:00, 18.31batch/s]\n"
     ]
    },
    {
     "name": "stdout",
     "output_type": "stream",
     "text": [
      "Epoch: 243 / 6000, \n",
      "Train -- Loss: 0.002014065702948388, Coeff: 0.033447265625 \n",
      "Val   -- Loss: 0.00985215081385, Coeff: 0.1337890625 \n",
      "\n",
      "\n"
     ]
    },
    {
     "name": "stderr",
     "output_type": "stream",
     "text": [
      "Train: 100%|██████████| 137/137 [00:19<00:00,  6.88batch/s]\n",
      "Valdt: 100%|██████████| 137/137 [00:05<00:00, 26.57batch/s]\n"
     ]
    },
    {
     "name": "stdout",
     "output_type": "stream",
     "text": [
      "Epoch: 244 / 6000, \n",
      "Train -- Loss: 0.0019895016992282255, Coeff: 0.033447265625 \n",
      "Val   -- Loss: 0.009358314130514475, Coeff: 0.1337890625 \n",
      "\n",
      "\n"
     ]
    },
    {
     "name": "stderr",
     "output_type": "stream",
     "text": [
      "Train: 100%|██████████| 137/137 [00:19<00:00,  6.85batch/s]\n",
      "Valdt: 100%|██████████| 137/137 [00:05<00:00, 26.61batch/s]\n"
     ]
    },
    {
     "name": "stdout",
     "output_type": "stream",
     "text": [
      "Epoch: 245 / 6000, \n",
      "Train -- Loss: 0.0019406374049946913, Coeff: 0.033447265625 \n",
      "Val   -- Loss: 0.009264663078287928, Coeff: 0.1337890625 \n",
      "\n",
      "\n"
     ]
    },
    {
     "name": "stderr",
     "output_type": "stream",
     "text": [
      "Train: 100%|██████████| 137/137 [00:19<00:00,  6.88batch/s]\n",
      "Valdt: 100%|██████████| 137/137 [00:05<00:00, 26.30batch/s]\n"
     ]
    },
    {
     "name": "stdout",
     "output_type": "stream",
     "text": [
      "Epoch: 246 / 6000, \n",
      "Train -- Loss: 0.0019529860240641767, Coeff: 0.033447265625 \n",
      "Val   -- Loss: 0.009639830991853436, Coeff: 0.1337890625 \n",
      "\n",
      "\n"
     ]
    },
    {
     "name": "stderr",
     "output_type": "stream",
     "text": [
      "Train: 100%|██████████| 137/137 [00:19<00:00,  6.86batch/s]\n",
      "Valdt: 100%|██████████| 137/137 [00:05<00:00, 26.58batch/s]\n"
     ]
    },
    {
     "name": "stdout",
     "output_type": "stream",
     "text": [
      "Epoch: 247 / 6000, \n",
      "Train -- Loss: 0.00202126897328459, Coeff: 0.033447265625 \n",
      "Val   -- Loss: 0.009572142976633417, Coeff: 0.1337890625 \n",
      "\n",
      "\n"
     ]
    },
    {
     "name": "stderr",
     "output_type": "stream",
     "text": [
      "Train: 100%|██████████| 137/137 [00:19<00:00,  6.85batch/s]\n",
      "Valdt: 100%|██████████| 137/137 [00:05<00:00, 26.42batch/s]\n"
     ]
    },
    {
     "name": "stdout",
     "output_type": "stream",
     "text": [
      "Epoch: 248 / 6000, \n",
      "Train -- Loss: 0.0019615118598946607, Coeff: 0.033447265625 \n",
      "Val   -- Loss: 0.009513172685116082, Coeff: 0.1337890625 \n",
      "\n",
      "\n"
     ]
    },
    {
     "name": "stderr",
     "output_type": "stream",
     "text": [
      "Train: 100%|██████████| 137/137 [00:19<00:00,  6.87batch/s]\n",
      "Valdt: 100%|██████████| 137/137 [00:05<00:00, 26.40batch/s]\n"
     ]
    },
    {
     "name": "stdout",
     "output_type": "stream",
     "text": [
      "Epoch: 249 / 6000, \n",
      "Train -- Loss: 0.00193068658980177, Coeff: 0.033447265625 \n",
      "Val   -- Loss: 0.0094936396668326, Coeff: 0.1337890625 \n",
      "\n",
      "\n"
     ]
    },
    {
     "name": "stderr",
     "output_type": "stream",
     "text": [
      "Train: 100%|██████████| 137/137 [00:19<00:00,  6.87batch/s]\n",
      "Valdt: 100%|██████████| 137/137 [00:05<00:00, 26.47batch/s]\n"
     ]
    },
    {
     "name": "stdout",
     "output_type": "stream",
     "text": [
      "Epoch: 250 / 6000, \n",
      "Train -- Loss: 0.001961830378553181, Coeff: 0.033447265625 \n",
      "Val   -- Loss: 0.009738712356128668, Coeff: 0.1337890625 \n",
      "\n",
      "\n"
     ]
    },
    {
     "name": "stderr",
     "output_type": "stream",
     "text": [
      "Train: 100%|██████████| 137/137 [00:20<00:00,  6.84batch/s]\n",
      "Valdt: 100%|██████████| 137/137 [00:05<00:00, 26.48batch/s]\n"
     ]
    },
    {
     "name": "stdout",
     "output_type": "stream",
     "text": [
      "Epoch: 251 / 6000, \n",
      "Train -- Loss: 0.0021313585811066544, Coeff: 0.033447265625 \n",
      "Val   -- Loss: 0.010021284156970166, Coeff: 0.1337890625 \n",
      "\n",
      "\n"
     ]
    },
    {
     "name": "stderr",
     "output_type": "stream",
     "text": [
      "Train: 100%|██████████| 137/137 [00:22<00:00,  6.17batch/s]\n",
      "Valdt: 100%|██████████| 137/137 [00:05<00:00, 26.56batch/s]\n"
     ]
    },
    {
     "name": "stdout",
     "output_type": "stream",
     "text": [
      "Epoch: 252 / 6000, \n",
      "Train -- Loss: 0.0020868506417891035, Coeff: 0.033447265625 \n",
      "Val   -- Loss: 0.009552104328695214, Coeff: 0.1337890625 \n",
      "\n",
      "\n"
     ]
    },
    {
     "name": "stderr",
     "output_type": "stream",
     "text": [
      "Train: 100%|██████████| 137/137 [00:20<00:00,  6.85batch/s]\n",
      "Valdt: 100%|██████████| 137/137 [00:05<00:00, 26.22batch/s]\n"
     ]
    },
    {
     "name": "stdout",
     "output_type": "stream",
     "text": [
      "Epoch: 253 / 6000, \n",
      "Train -- Loss: 0.0019359888057082963, Coeff: 0.033447265625 \n",
      "Val   -- Loss: 0.00935531150257805, Coeff: 0.1337890625 \n",
      "\n",
      "\n"
     ]
    },
    {
     "name": "stderr",
     "output_type": "stream",
     "text": [
      "Train: 100%|██████████| 137/137 [00:19<00:00,  6.89batch/s]\n",
      "Valdt: 100%|██████████| 137/137 [00:05<00:00, 26.61batch/s]\n"
     ]
    },
    {
     "name": "stdout",
     "output_type": "stream",
     "text": [
      "Epoch: 254 / 6000, \n",
      "Train -- Loss: 0.0018897854366524826, Coeff: 0.033447265625 \n",
      "Val   -- Loss: 0.00901225564743715, Coeff: 0.1337890625 \n",
      "\n",
      "\n"
     ]
    },
    {
     "name": "stderr",
     "output_type": "stream",
     "text": [
      "Train: 100%|██████████| 137/137 [00:19<00:00,  6.86batch/s]\n",
      "Valdt: 100%|██████████| 137/137 [00:05<00:00, 26.55batch/s]\n"
     ]
    },
    {
     "name": "stdout",
     "output_type": "stream",
     "text": [
      "Epoch: 255 / 6000, \n",
      "Train -- Loss: 0.001941802780078254, Coeff: 0.033447265625 \n",
      "Val   -- Loss: 0.009249758206150116, Coeff: 0.1337890625 \n",
      "\n",
      "\n"
     ]
    },
    {
     "name": "stderr",
     "output_type": "stream",
     "text": [
      "Train: 100%|██████████| 137/137 [00:19<00:00,  6.88batch/s]\n",
      "Valdt: 100%|██████████| 137/137 [00:05<00:00, 26.38batch/s]\n"
     ]
    },
    {
     "name": "stdout",
     "output_type": "stream",
     "text": [
      "Epoch: 256 / 6000, \n",
      "Train -- Loss: 0.0018966182399739499, Coeff: 0.033447265625 \n",
      "Val   -- Loss: 0.00941624009790453, Coeff: 0.1337890625 \n",
      "\n",
      "\n"
     ]
    },
    {
     "name": "stderr",
     "output_type": "stream",
     "text": [
      "Train: 100%|██████████| 137/137 [00:19<00:00,  6.89batch/s]\n",
      "Valdt: 100%|██████████| 137/137 [00:05<00:00, 26.56batch/s]\n"
     ]
    },
    {
     "name": "stdout",
     "output_type": "stream",
     "text": [
      "Epoch: 257 / 6000, \n",
      "Train -- Loss: 0.0019035480526368943, Coeff: 0.033447265625 \n",
      "Val   -- Loss: 0.00955061567157328, Coeff: 0.1337890625 \n",
      "\n",
      "\n"
     ]
    },
    {
     "name": "stderr",
     "output_type": "stream",
     "text": [
      "Train: 100%|██████████| 137/137 [00:19<00:00,  6.85batch/s]\n",
      "Valdt: 100%|██████████| 137/137 [00:05<00:00, 26.29batch/s]\n"
     ]
    },
    {
     "name": "stdout",
     "output_type": "stream",
     "text": [
      "Epoch: 258 / 6000, \n",
      "Train -- Loss: 0.0019578681602377412, Coeff: 0.033447265625 \n",
      "Val   -- Loss: 0.009495487362962268, Coeff: 0.1337890625 \n",
      "\n",
      "\n"
     ]
    },
    {
     "name": "stderr",
     "output_type": "stream",
     "text": [
      "Train: 100%|██████████| 137/137 [00:19<00:00,  6.88batch/s]\n",
      "Valdt: 100%|██████████| 137/137 [00:05<00:00, 26.31batch/s]\n"
     ]
    },
    {
     "name": "stdout",
     "output_type": "stream",
     "text": [
      "Epoch: 259 / 6000, \n",
      "Train -- Loss: 0.001989252133174901, Coeff: 0.033447265625 \n",
      "Val   -- Loss: 0.009515906551526253, Coeff: 0.1337890625 \n",
      "\n",
      "\n"
     ]
    },
    {
     "name": "stderr",
     "output_type": "stream",
     "text": [
      "Train: 100%|██████████| 137/137 [00:19<00:00,  6.89batch/s]\n",
      "Valdt: 100%|██████████| 137/137 [00:05<00:00, 26.50batch/s]\n"
     ]
    },
    {
     "name": "stdout",
     "output_type": "stream",
     "text": [
      "Epoch: 260 / 6000, \n",
      "Train -- Loss: 0.00195222142701195, Coeff: 0.033447265625 \n",
      "Val   -- Loss: 0.00953459312274469, Coeff: 0.1337890625 \n",
      "\n",
      "\n"
     ]
    },
    {
     "name": "stderr",
     "output_type": "stream",
     "text": [
      "Train: 100%|██████████| 137/137 [00:22<00:00,  6.18batch/s]\n",
      "Valdt: 100%|██████████| 137/137 [00:05<00:00, 26.62batch/s]\n"
     ]
    },
    {
     "name": "stdout",
     "output_type": "stream",
     "text": [
      "Epoch: 261 / 6000, \n",
      "Train -- Loss: 0.0019408789287668194, Coeff: 0.033447265625 \n",
      "Val   -- Loss: 0.009379159646495081, Coeff: 0.1337890625 \n",
      "\n",
      "\n"
     ]
    },
    {
     "name": "stderr",
     "output_type": "stream",
     "text": [
      "Train: 100%|██████████| 137/137 [00:19<00:00,  6.88batch/s]\n",
      "Valdt: 100%|██████████| 137/137 [00:05<00:00, 26.36batch/s]\n"
     ]
    },
    {
     "name": "stdout",
     "output_type": "stream",
     "text": [
      "Epoch: 262 / 6000, \n",
      "Train -- Loss: 0.0020581373858876706, Coeff: 0.033447265625 \n",
      "Val   -- Loss: 0.010332277850317035, Coeff: 0.1337890625 \n",
      "\n",
      "\n"
     ]
    },
    {
     "name": "stderr",
     "output_type": "stream",
     "text": [
      "Train: 100%|██████████| 137/137 [00:19<00:00,  6.90batch/s]\n",
      "Valdt: 100%|██████████| 137/137 [00:05<00:00, 26.60batch/s]\n"
     ]
    },
    {
     "name": "stdout",
     "output_type": "stream",
     "text": [
      "Epoch: 263 / 6000, \n",
      "Train -- Loss: 0.0031009458765984227, Coeff: 0.033447265625 \n",
      "Val   -- Loss: 0.01475525600384302, Coeff: 0.1337890625 \n",
      "\n",
      "\n"
     ]
    },
    {
     "name": "stderr",
     "output_type": "stream",
     "text": [
      "Train: 100%|██████████| 137/137 [00:20<00:00,  6.85batch/s]\n",
      "Valdt: 100%|██████████| 137/137 [00:05<00:00, 26.68batch/s]\n"
     ]
    },
    {
     "name": "stdout",
     "output_type": "stream",
     "text": [
      "Epoch: 264 / 6000, \n",
      "Train -- Loss: 0.002205910864818582, Coeff: 0.033447265625 \n",
      "Val   -- Loss: 0.009670325803871616, Coeff: 0.1337890625 \n",
      "\n",
      "\n"
     ]
    },
    {
     "name": "stderr",
     "output_type": "stream",
     "text": [
      "Train: 100%|██████████| 137/137 [00:19<00:00,  6.86batch/s]\n",
      "Valdt: 100%|██████████| 137/137 [00:05<00:00, 26.20batch/s]\n"
     ]
    },
    {
     "name": "stdout",
     "output_type": "stream",
     "text": [
      "Epoch: 265 / 6000, \n",
      "Train -- Loss: 0.0020865792220247955, Coeff: 0.033447265625 \n",
      "Val   -- Loss: 0.009148479721773366, Coeff: 0.1337890625 \n",
      "\n",
      "\n"
     ]
    },
    {
     "name": "stderr",
     "output_type": "stream",
     "text": [
      "Train: 100%|██████████| 137/137 [00:19<00:00,  6.88batch/s]\n",
      "Valdt: 100%|██████████| 137/137 [00:05<00:00, 26.49batch/s]\n"
     ]
    },
    {
     "name": "stdout",
     "output_type": "stream",
     "text": [
      "Epoch: 266 / 6000, \n",
      "Train -- Loss: 0.001859459589968817, Coeff: 0.033447265625 \n",
      "Val   -- Loss: 0.00890625570894743, Coeff: 0.1337890625 \n",
      "\n",
      "\n"
     ]
    },
    {
     "name": "stderr",
     "output_type": "stream",
     "text": [
      "Train: 100%|██████████| 137/137 [00:19<00:00,  6.86batch/s]\n",
      "Valdt: 100%|██████████| 137/137 [00:05<00:00, 26.51batch/s]\n"
     ]
    },
    {
     "name": "stdout",
     "output_type": "stream",
     "text": [
      "Epoch: 267 / 6000, \n",
      "Train -- Loss: 0.0018446591457846068, Coeff: 0.033447265625 \n",
      "Val   -- Loss: 0.008967611287659213, Coeff: 0.1337890625 \n",
      "\n",
      "\n"
     ]
    },
    {
     "name": "stderr",
     "output_type": "stream",
     "text": [
      "Train: 100%|██████████| 137/137 [00:19<00:00,  6.86batch/s]\n",
      "Valdt: 100%|██████████| 137/137 [00:05<00:00, 26.27batch/s]\n"
     ]
    },
    {
     "name": "stdout",
     "output_type": "stream",
     "text": [
      "Epoch: 268 / 6000, \n",
      "Train -- Loss: 0.001838992025750006, Coeff: 0.033447265625 \n",
      "Val   -- Loss: 0.008886136729846138, Coeff: 0.1337890625 \n",
      "\n",
      "\n"
     ]
    },
    {
     "name": "stderr",
     "output_type": "stream",
     "text": [
      "Train: 100%|██████████| 137/137 [00:22<00:00,  6.19batch/s]\n",
      "Valdt: 100%|██████████| 137/137 [00:05<00:00, 26.42batch/s]\n"
     ]
    },
    {
     "name": "stdout",
     "output_type": "stream",
     "text": [
      "Epoch: 269 / 6000, \n",
      "Train -- Loss: 0.001830512917503132, Coeff: 0.033447265625 \n",
      "Val   -- Loss: 0.00899981823317024, Coeff: 0.1337890625 \n",
      "\n",
      "\n"
     ]
    },
    {
     "name": "stderr",
     "output_type": "stream",
     "text": [
      "Train: 100%|██████████| 137/137 [00:20<00:00,  6.84batch/s]\n",
      "Valdt: 100%|██████████| 137/137 [00:05<00:00, 26.55batch/s]\n"
     ]
    },
    {
     "name": "stdout",
     "output_type": "stream",
     "text": [
      "Epoch: 270 / 6000, \n",
      "Train -- Loss: 0.0018488437527408542, Coeff: 0.033447265625 \n",
      "Val   -- Loss: 0.009060936461365018, Coeff: 0.1337890625 \n",
      "\n",
      "\n"
     ]
    },
    {
     "name": "stderr",
     "output_type": "stream",
     "text": [
      "Train: 100%|██████████| 137/137 [00:19<00:00,  6.86batch/s]\n",
      "Valdt: 100%|██████████| 137/137 [00:05<00:00, 26.66batch/s]\n"
     ]
    },
    {
     "name": "stdout",
     "output_type": "stream",
     "text": [
      "Epoch: 271 / 6000, \n",
      "Train -- Loss: 0.0018646487207913873, Coeff: 0.033447265625 \n",
      "Val   -- Loss: 0.009300355516956384, Coeff: 0.1337890625 \n",
      "\n",
      "\n"
     ]
    },
    {
     "name": "stderr",
     "output_type": "stream",
     "text": [
      "Train: 100%|██████████| 137/137 [00:19<00:00,  6.87batch/s]\n",
      "Valdt: 100%|██████████| 137/137 [00:05<00:00, 26.29batch/s]\n"
     ]
    },
    {
     "name": "stdout",
     "output_type": "stream",
     "text": [
      "Epoch: 272 / 6000, \n",
      "Train -- Loss: 0.0018693941741207843, Coeff: 0.033447265625 \n",
      "Val   -- Loss: 0.009164946237201441, Coeff: 0.1337890625 \n",
      "\n",
      "\n"
     ]
    },
    {
     "name": "stderr",
     "output_type": "stream",
     "text": [
      "Train: 100%|██████████| 137/137 [00:19<00:00,  6.87batch/s]\n",
      "Valdt: 100%|██████████| 137/137 [00:05<00:00, 26.53batch/s]\n"
     ]
    },
    {
     "name": "stdout",
     "output_type": "stream",
     "text": [
      "Epoch: 273 / 6000, \n",
      "Train -- Loss: 0.0018851868711505044, Coeff: 0.033447265625 \n",
      "Val   -- Loss: 0.009362812721997097, Coeff: 0.1337890625 \n",
      "\n",
      "\n"
     ]
    },
    {
     "name": "stderr",
     "output_type": "stream",
     "text": [
      "Train: 100%|██████████| 137/137 [00:19<00:00,  6.86batch/s]\n",
      "Valdt: 100%|██████████| 137/137 [00:05<00:00, 26.72batch/s]\n"
     ]
    },
    {
     "name": "stdout",
     "output_type": "stream",
     "text": [
      "Epoch: 274 / 6000, \n",
      "Train -- Loss: 0.0018561266991467922, Coeff: 0.033447265625 \n",
      "Val   -- Loss: 0.00941060419035113, Coeff: 0.1337890625 \n",
      "\n",
      "\n"
     ]
    },
    {
     "name": "stderr",
     "output_type": "stream",
     "text": [
      "Train: 100%|██████████| 137/137 [00:19<00:00,  6.89batch/s]\n",
      "Valdt: 100%|██████████| 137/137 [00:05<00:00, 26.33batch/s]\n"
     ]
    },
    {
     "name": "stdout",
     "output_type": "stream",
     "text": [
      "Epoch: 275 / 6000, \n",
      "Train -- Loss: 0.001920381295301073, Coeff: 0.033447265625 \n",
      "Val   -- Loss: 0.009017540614045312, Coeff: 0.1337890625 \n",
      "\n",
      "\n"
     ]
    },
    {
     "name": "stderr",
     "output_type": "stream",
     "text": [
      "Train: 100%|██████████| 137/137 [00:19<00:00,  6.87batch/s]\n",
      "Valdt: 100%|██████████| 137/137 [00:05<00:00, 26.48batch/s]\n"
     ]
    },
    {
     "name": "stdout",
     "output_type": "stream",
     "text": [
      "Epoch: 276 / 6000, \n",
      "Train -- Loss: 0.0019031769454505906, Coeff: 0.033447265625 \n",
      "Val   -- Loss: 0.009378476737177979, Coeff: 0.1337890625 \n",
      "\n",
      "\n"
     ]
    },
    {
     "name": "stderr",
     "output_type": "stream",
     "text": [
      "Train: 100%|██████████| 137/137 [00:19<00:00,  6.85batch/s]\n",
      "Valdt: 100%|██████████| 137/137 [00:05<00:00, 26.65batch/s]\n"
     ]
    },
    {
     "name": "stdout",
     "output_type": "stream",
     "text": [
      "Epoch: 277 / 6000, \n",
      "Train -- Loss: 0.0023498247197392594, Coeff: 0.033447265625 \n",
      "Val   -- Loss: 0.009932407591859023, Coeff: 0.1337890625 \n",
      "\n",
      "\n"
     ]
    },
    {
     "name": "stderr",
     "output_type": "stream",
     "text": [
      "Train: 100%|██████████| 137/137 [00:22<00:00,  6.18batch/s]\n",
      "Valdt: 100%|██████████| 137/137 [00:05<00:00, 26.68batch/s]\n"
     ]
    },
    {
     "name": "stdout",
     "output_type": "stream",
     "text": [
      "Epoch: 278 / 6000, \n",
      "Train -- Loss: 0.001918869703885909, Coeff: 0.033447265625 \n",
      "Val   -- Loss: 0.008934864976353037, Coeff: 0.1337890625 \n",
      "\n",
      "\n"
     ]
    },
    {
     "name": "stderr",
     "output_type": "stream",
     "text": [
      "Train: 100%|██████████| 137/137 [00:19<00:00,  6.87batch/s]\n",
      "Valdt: 100%|██████████| 137/137 [00:05<00:00, 26.26batch/s]\n"
     ]
    },
    {
     "name": "stdout",
     "output_type": "stream",
     "text": [
      "Epoch: 279 / 6000, \n",
      "Train -- Loss: 0.0018293522619203407, Coeff: 0.033447265625 \n",
      "Val   -- Loss: 0.00888201893636509, Coeff: 0.1337890625 \n",
      "\n",
      "\n"
     ]
    },
    {
     "name": "stderr",
     "output_type": "stream",
     "text": [
      "Train: 100%|██████████| 137/137 [00:19<00:00,  6.86batch/s]\n",
      "Valdt: 100%|██████████| 137/137 [00:05<00:00, 26.63batch/s]\n"
     ]
    },
    {
     "name": "stdout",
     "output_type": "stream",
     "text": [
      "Epoch: 280 / 6000, \n",
      "Train -- Loss: 0.0018383258123515695, Coeff: 0.033447265625 \n",
      "Val   -- Loss: 0.009223187811502458, Coeff: 0.1337890625 \n",
      "\n",
      "\n"
     ]
    },
    {
     "name": "stderr",
     "output_type": "stream",
     "text": [
      "Train: 100%|██████████| 137/137 [00:20<00:00,  6.84batch/s]\n",
      "Valdt: 100%|██████████| 137/137 [00:05<00:00, 26.47batch/s]\n"
     ]
    },
    {
     "name": "stdout",
     "output_type": "stream",
     "text": [
      "Epoch: 281 / 6000, \n",
      "Train -- Loss: 0.001858748188876111, Coeff: 0.033447265625 \n",
      "Val   -- Loss: 0.009173127386970237, Coeff: 0.1337890625 \n",
      "\n",
      "\n"
     ]
    },
    {
     "name": "stderr",
     "output_type": "stream",
     "text": [
      "Train: 100%|██████████| 137/137 [00:19<00:00,  6.88batch/s]\n",
      "Valdt: 100%|██████████| 137/137 [00:05<00:00, 26.08batch/s]\n"
     ]
    },
    {
     "name": "stdout",
     "output_type": "stream",
     "text": [
      "Epoch: 282 / 6000, \n",
      "Train -- Loss: 0.0018483547793547287, Coeff: 0.033447265625 \n",
      "Val   -- Loss: 0.009239727828435072, Coeff: 0.1337890625 \n",
      "\n",
      "\n"
     ]
    },
    {
     "name": "stderr",
     "output_type": "stream",
     "text": [
      "Train: 100%|██████████| 137/137 [00:19<00:00,  6.87batch/s]\n",
      "Valdt: 100%|██████████| 137/137 [00:05<00:00, 26.62batch/s]\n"
     ]
    },
    {
     "name": "stdout",
     "output_type": "stream",
     "text": [
      "Epoch: 283 / 6000, \n",
      "Train -- Loss: 0.0018806192874489096, Coeff: 0.033447265625 \n",
      "Val   -- Loss: 0.009167120792987196, Coeff: 0.1337890625 \n",
      "\n",
      "\n"
     ]
    },
    {
     "name": "stderr",
     "output_type": "stream",
     "text": [
      "Train: 100%|██████████| 137/137 [00:19<00:00,  6.87batch/s]\n",
      "Valdt: 100%|██████████| 137/137 [00:05<00:00, 26.57batch/s]\n"
     ]
    },
    {
     "name": "stdout",
     "output_type": "stream",
     "text": [
      "Epoch: 284 / 6000, \n",
      "Train -- Loss: 0.0018456617921576081, Coeff: 0.033447265625 \n",
      "Val   -- Loss: 0.009382417020160209, Coeff: 0.1337890625 \n",
      "\n",
      "\n"
     ]
    },
    {
     "name": "stderr",
     "output_type": "stream",
     "text": [
      "Train: 100%|██████████| 137/137 [00:19<00:00,  6.88batch/s]\n",
      "Valdt: 100%|██████████| 137/137 [00:05<00:00, 26.27batch/s]\n"
     ]
    },
    {
     "name": "stdout",
     "output_type": "stream",
     "text": [
      "Epoch: 285 / 6000, \n",
      "Train -- Loss: 0.0019020969410424328, Coeff: 0.033447265625 \n",
      "Val   -- Loss: 0.009632774761062089, Coeff: 0.1337890625 \n",
      "\n",
      "\n"
     ]
    },
    {
     "name": "stderr",
     "output_type": "stream",
     "text": [
      "Train: 100%|██████████| 137/137 [00:22<00:00,  6.20batch/s]\n",
      "Valdt: 100%|██████████| 137/137 [00:05<00:00, 26.71batch/s]\n"
     ]
    },
    {
     "name": "stdout",
     "output_type": "stream",
     "text": [
      "Epoch: 286 / 6000, \n",
      "Train -- Loss: 0.0021133113455971526, Coeff: 0.033447265625 \n",
      "Val   -- Loss: 0.010844167280559692, Coeff: 0.1337890625 \n",
      "\n",
      "\n"
     ]
    },
    {
     "name": "stderr",
     "output_type": "stream",
     "text": [
      "Train: 100%|██████████| 137/137 [00:20<00:00,  6.82batch/s]\n",
      "Valdt: 100%|██████████| 137/137 [00:05<00:00, 26.55batch/s]\n"
     ]
    },
    {
     "name": "stdout",
     "output_type": "stream",
     "text": [
      "Epoch: 287 / 6000, \n",
      "Train -- Loss: 0.0019722254271559822, Coeff: 0.033447265625 \n",
      "Val   -- Loss: 0.00948078053261576, Coeff: 0.1337890625 \n",
      "\n",
      "\n"
     ]
    },
    {
     "name": "stderr",
     "output_type": "stream",
     "text": [
      "Train: 100%|██████████| 137/137 [00:20<00:00,  6.84batch/s]\n",
      "Valdt: 100%|██████████| 137/137 [00:05<00:00, 26.24batch/s]\n"
     ]
    },
    {
     "name": "stdout",
     "output_type": "stream",
     "text": [
      "Epoch: 288 / 6000, \n",
      "Train -- Loss: 0.0018517598768607482, Coeff: 0.033447265625 \n",
      "Val   -- Loss: 0.009121720690496899, Coeff: 0.1337890625 \n",
      "\n",
      "\n"
     ]
    },
    {
     "name": "stderr",
     "output_type": "stream",
     "text": [
      "Train: 100%|██████████| 137/137 [00:19<00:00,  6.85batch/s]\n",
      "Valdt: 100%|██████████| 137/137 [00:05<00:00, 26.52batch/s]\n"
     ]
    },
    {
     "name": "stdout",
     "output_type": "stream",
     "text": [
      "Epoch: 289 / 6000, \n",
      "Train -- Loss: 0.0018094154606170965, Coeff: 0.033447265625 \n",
      "Val   -- Loss: 0.008911148079389407, Coeff: 0.1337890625 \n",
      "\n",
      "\n"
     ]
    },
    {
     "name": "stderr",
     "output_type": "stream",
     "text": [
      "Train: 100%|██████████| 137/137 [00:20<00:00,  6.82batch/s]\n",
      "Valdt: 100%|██████████| 137/137 [00:05<00:00, 26.54batch/s]\n"
     ]
    },
    {
     "name": "stdout",
     "output_type": "stream",
     "text": [
      "Epoch: 290 / 6000, \n",
      "Train -- Loss: 0.0018346127305750076, Coeff: 0.033447265625 \n",
      "Val   -- Loss: 0.009057596324882986, Coeff: 0.1337890625 \n",
      "\n",
      "\n"
     ]
    },
    {
     "name": "stderr",
     "output_type": "stream",
     "text": [
      "Train: 100%|██████████| 137/137 [00:19<00:00,  6.85batch/s]\n",
      "Valdt: 100%|██████████| 137/137 [00:05<00:00, 26.21batch/s]\n"
     ]
    },
    {
     "name": "stdout",
     "output_type": "stream",
     "text": [
      "Epoch: 291 / 6000, \n",
      "Train -- Loss: 0.001872015443106525, Coeff: 0.033447265625 \n",
      "Val   -- Loss: 0.008956152786018698, Coeff: 0.1337890625 \n",
      "\n",
      "\n"
     ]
    },
    {
     "name": "stderr",
     "output_type": "stream",
     "text": [
      "Train: 100%|██████████| 137/137 [00:19<00:00,  6.86batch/s]\n",
      "Valdt: 100%|██████████| 137/137 [00:05<00:00, 26.21batch/s]\n"
     ]
    },
    {
     "name": "stdout",
     "output_type": "stream",
     "text": [
      "Epoch: 292 / 6000, \n",
      "Train -- Loss: 0.0018470123893584113, Coeff: 0.033447265625 \n",
      "Val   -- Loss: 0.00922227529296936, Coeff: 0.1337890625 \n",
      "\n",
      "\n"
     ]
    },
    {
     "name": "stderr",
     "output_type": "stream",
     "text": [
      "Train: 100%|██████████| 137/137 [00:20<00:00,  6.84batch/s]\n",
      "Valdt: 100%|██████████| 137/137 [00:05<00:00, 26.55batch/s]\n"
     ]
    },
    {
     "name": "stdout",
     "output_type": "stream",
     "text": [
      "Epoch: 293 / 6000, \n",
      "Train -- Loss: 0.0018966952887098836, Coeff: 0.033447265625 \n",
      "Val   -- Loss: 0.009081822328482345, Coeff: 0.1337890625 \n",
      "\n",
      "\n"
     ]
    },
    {
     "name": "stderr",
     "output_type": "stream",
     "text": [
      "Train: 100%|██████████| 137/137 [00:20<00:00,  6.82batch/s]\n",
      "Valdt: 100%|██████████| 137/137 [00:05<00:00, 26.54batch/s]\n"
     ]
    },
    {
     "name": "stdout",
     "output_type": "stream",
     "text": [
      "Epoch: 294 / 6000, \n",
      "Train -- Loss: 0.0018846906282742695, Coeff: 0.033447265625 \n",
      "Val   -- Loss: 0.009490279599078845, Coeff: 0.1337890625 \n",
      "\n",
      "\n"
     ]
    },
    {
     "name": "stderr",
     "output_type": "stream",
     "text": [
      "Train: 100%|██████████| 137/137 [00:22<00:00,  6.17batch/s]\n",
      "Valdt: 100%|██████████| 137/137 [00:05<00:00, 26.16batch/s]\n"
     ]
    },
    {
     "name": "stdout",
     "output_type": "stream",
     "text": [
      "Epoch: 295 / 6000, \n",
      "Train -- Loss: 0.001876207975456343, Coeff: 0.033447265625 \n",
      "Val   -- Loss: 0.009192370445201575, Coeff: 0.1337890625 \n",
      "\n",
      "\n"
     ]
    },
    {
     "name": "stderr",
     "output_type": "stream",
     "text": [
      "Train: 100%|██████████| 137/137 [00:19<00:00,  6.85batch/s]\n",
      "Valdt: 100%|██████████| 137/137 [00:05<00:00, 26.62batch/s]\n"
     ]
    },
    {
     "name": "stdout",
     "output_type": "stream",
     "text": [
      "Epoch: 296 / 6000, \n",
      "Train -- Loss: 0.0018853577799497973, Coeff: 0.033447265625 \n",
      "Val   -- Loss: 0.009189670414685974, Coeff: 0.1337890625 \n",
      "\n",
      "\n"
     ]
    },
    {
     "name": "stderr",
     "output_type": "stream",
     "text": [
      "Train: 100%|██████████| 137/137 [00:20<00:00,  6.84batch/s]\n",
      "Valdt: 100%|██████████| 137/137 [00:05<00:00, 26.55batch/s]\n"
     ]
    },
    {
     "name": "stdout",
     "output_type": "stream",
     "text": [
      "Epoch: 297 / 6000, \n",
      "Train -- Loss: 0.0018872980087880627, Coeff: 0.033447265625 \n",
      "Val   -- Loss: 0.008944405081728014, Coeff: 0.1337890625 \n",
      "\n",
      "\n"
     ]
    },
    {
     "name": "stderr",
     "output_type": "stream",
     "text": [
      "Train: 100%|██████████| 137/137 [00:19<00:00,  6.86batch/s]\n",
      "Valdt: 100%|██████████| 137/137 [00:05<00:00, 26.28batch/s]\n"
     ]
    },
    {
     "name": "stdout",
     "output_type": "stream",
     "text": [
      "Epoch: 298 / 6000, \n",
      "Train -- Loss: 0.0018396825107446124, Coeff: 0.033447265625 \n",
      "Val   -- Loss: 0.008924378116083388, Coeff: 0.1337890625 \n",
      "\n",
      "\n"
     ]
    },
    {
     "name": "stderr",
     "output_type": "stream",
     "text": [
      "Train: 100%|██████████| 137/137 [00:19<00:00,  6.85batch/s]\n",
      "Valdt: 100%|██████████| 137/137 [00:05<00:00, 26.56batch/s]\n"
     ]
    },
    {
     "name": "stdout",
     "output_type": "stream",
     "text": [
      "Epoch: 299 / 6000, \n",
      "Train -- Loss: 0.0018589755633985695, Coeff: 0.033447265625 \n",
      "Val   -- Loss: 0.00917739052738613, Coeff: 0.1337890625 \n",
      "\n",
      "\n"
     ]
    },
    {
     "name": "stderr",
     "output_type": "stream",
     "text": [
      "Train: 100%|██████████| 137/137 [00:20<00:00,  6.84batch/s]\n",
      "Valdt: 100%|██████████| 137/137 [00:05<00:00, 26.55batch/s]\n"
     ]
    },
    {
     "name": "stdout",
     "output_type": "stream",
     "text": [
      "Epoch: 300 / 6000, \n",
      "Train -- Loss: 0.0018615193515046451, Coeff: 0.033447265625 \n",
      "Val   -- Loss: 0.009090115544242907, Coeff: 0.1337890625 \n",
      "\n",
      "\n"
     ]
    },
    {
     "name": "stderr",
     "output_type": "stream",
     "text": [
      "Train: 100%|██████████| 137/137 [00:20<00:00,  6.83batch/s]\n",
      "Valdt: 100%|██████████| 137/137 [00:05<00:00, 26.17batch/s]\n"
     ]
    },
    {
     "name": "stdout",
     "output_type": "stream",
     "text": [
      "Epoch: 301 / 6000, \n",
      "Train -- Loss: 0.0018643840318201506, Coeff: 0.033447265625 \n",
      "Val   -- Loss: 0.009000695823701374, Coeff: 0.1337890625 \n",
      "\n",
      "\n"
     ]
    },
    {
     "name": "stderr",
     "output_type": "stream",
     "text": [
      "Train: 100%|██████████| 137/137 [00:19<00:00,  6.85batch/s]\n",
      "Valdt: 100%|██████████| 137/137 [00:05<00:00, 26.44batch/s]\n"
     ]
    },
    {
     "name": "stdout",
     "output_type": "stream",
     "text": [
      "Epoch: 302 / 6000, \n",
      "Train -- Loss: 0.0019228286620026648, Coeff: 0.033447265625 \n",
      "Val   -- Loss: 0.008962486652872607, Coeff: 0.1337890625 \n",
      "\n",
      "\n"
     ]
    },
    {
     "name": "stderr",
     "output_type": "stream",
     "text": [
      "Train: 100%|██████████| 137/137 [00:22<00:00,  6.17batch/s]\n",
      "Valdt: 100%|██████████| 137/137 [00:05<00:00, 26.55batch/s]\n"
     ]
    },
    {
     "name": "stdout",
     "output_type": "stream",
     "text": [
      "Epoch: 303 / 6000, \n",
      "Train -- Loss: 0.0018714866792787026, Coeff: 0.033447265625 \n",
      "Val   -- Loss: 0.009172079954039741, Coeff: 0.1337890625 \n",
      "\n",
      "\n"
     ]
    },
    {
     "name": "stderr",
     "output_type": "stream",
     "text": [
      "Train: 100%|██████████| 137/137 [00:20<00:00,  6.79batch/s]\n",
      "Valdt: 100%|██████████| 137/137 [00:05<00:00, 26.46batch/s]\n"
     ]
    },
    {
     "name": "stdout",
     "output_type": "stream",
     "text": [
      "Epoch: 304 / 6000, \n",
      "Train -- Loss: 0.0020504969733210017, Coeff: 0.033447265625 \n",
      "Val   -- Loss: 0.009394323315218254, Coeff: 0.1337890625 \n",
      "\n",
      "\n"
     ]
    },
    {
     "name": "stderr",
     "output_type": "stream",
     "text": [
      "Train: 100%|██████████| 137/137 [00:20<00:00,  6.84batch/s]\n",
      "Valdt: 100%|██████████| 137/137 [00:05<00:00, 26.20batch/s]\n"
     ]
    },
    {
     "name": "stdout",
     "output_type": "stream",
     "text": [
      "Epoch: 305 / 6000, \n",
      "Train -- Loss: 0.0018988785753847647, Coeff: 0.033447265625 \n",
      "Val   -- Loss: 0.010277488011997411, Coeff: 0.1337890625 \n",
      "\n",
      "\n"
     ]
    },
    {
     "name": "stderr",
     "output_type": "stream",
     "text": [
      "Train: 100%|██████████| 137/137 [00:20<00:00,  6.81batch/s]\n",
      "Valdt: 100%|██████████| 137/137 [00:05<00:00, 26.42batch/s]\n"
     ]
    },
    {
     "name": "stdout",
     "output_type": "stream",
     "text": [
      "Epoch: 306 / 6000, \n",
      "Train -- Loss: 0.0018782929742386235, Coeff: 0.033447265625 \n",
      "Val   -- Loss: 0.008881985958396782, Coeff: 0.1337890625 \n",
      "\n",
      "\n"
     ]
    },
    {
     "name": "stderr",
     "output_type": "stream",
     "text": [
      "Train: 100%|██████████| 137/137 [00:20<00:00,  6.82batch/s]\n",
      "Valdt: 100%|██████████| 137/137 [00:05<00:00, 26.39batch/s]\n"
     ]
    },
    {
     "name": "stdout",
     "output_type": "stream",
     "text": [
      "Epoch: 307 / 6000, \n",
      "Train -- Loss: 0.0018213140624193929, Coeff: 0.033447265625 \n",
      "Val   -- Loss: 0.008977504416068496, Coeff: 0.1337890625 \n",
      "\n",
      "\n"
     ]
    },
    {
     "name": "stderr",
     "output_type": "stream",
     "text": [
      "Train: 100%|██████████| 137/137 [00:20<00:00,  6.84batch/s]\n",
      "Valdt: 100%|██████████| 137/137 [00:05<00:00, 26.18batch/s]\n"
     ]
    },
    {
     "name": "stdout",
     "output_type": "stream",
     "text": [
      "Epoch: 308 / 6000, \n",
      "Train -- Loss: 0.001834038761599747, Coeff: 0.033447265625 \n",
      "Val   -- Loss: 0.00898369998357817, Coeff: 0.1337890625 \n",
      "\n",
      "\n"
     ]
    },
    {
     "name": "stderr",
     "output_type": "stream",
     "text": [
      "Train: 100%|██████████| 137/137 [00:20<00:00,  6.83batch/s]\n",
      "Valdt: 100%|██████████| 137/137 [00:05<00:00, 26.48batch/s]\n"
     ]
    },
    {
     "name": "stdout",
     "output_type": "stream",
     "text": [
      "Epoch: 309 / 6000, \n",
      "Train -- Loss: 0.0018120931145068852, Coeff: 0.033447265625 \n",
      "Val   -- Loss: 0.008829410237044031, Coeff: 0.1337890625 \n",
      "\n",
      "\n"
     ]
    },
    {
     "name": "stderr",
     "output_type": "stream",
     "text": [
      "Train: 100%|██████████| 137/137 [00:20<00:00,  6.81batch/s]\n",
      "Valdt: 100%|██████████| 137/137 [00:05<00:00, 26.57batch/s]\n"
     ]
    },
    {
     "name": "stdout",
     "output_type": "stream",
     "text": [
      "Epoch: 310 / 6000, \n",
      "Train -- Loss: 0.0018293497914590952, Coeff: 0.033447265625 \n",
      "Val   -- Loss: 0.00946206317767409, Coeff: 0.1337890625 \n",
      "\n",
      "\n"
     ]
    },
    {
     "name": "stderr",
     "output_type": "stream",
     "text": [
      "Train: 100%|██████████| 137/137 [00:20<00:00,  6.82batch/s]\n",
      "Valdt: 100%|██████████| 137/137 [00:05<00:00, 26.31batch/s]\n"
     ]
    },
    {
     "name": "stdout",
     "output_type": "stream",
     "text": [
      "Epoch: 311 / 6000, \n",
      "Train -- Loss: 0.0018649649639685176, Coeff: 0.033447265625 \n",
      "Val   -- Loss: 0.009756905131487342, Coeff: 0.1337890625 \n",
      "\n",
      "\n"
     ]
    },
    {
     "name": "stderr",
     "output_type": "stream",
     "text": [
      "Train: 100%|██████████| 137/137 [00:22<00:00,  6.16batch/s]\n",
      "Valdt: 100%|██████████| 137/137 [00:05<00:00, 26.35batch/s]\n"
     ]
    },
    {
     "name": "stdout",
     "output_type": "stream",
     "text": [
      "Epoch: 312 / 6000, \n",
      "Train -- Loss: 0.0019081173136533186, Coeff: 0.033447265625 \n",
      "Val   -- Loss: 0.009396273354573128, Coeff: 0.1337890625 \n",
      "\n",
      "\n"
     ]
    },
    {
     "name": "stderr",
     "output_type": "stream",
     "text": [
      "Train: 100%|██████████| 137/137 [00:19<00:00,  6.86batch/s]\n",
      "Valdt: 100%|██████████| 137/137 [00:05<00:00, 26.57batch/s]\n"
     ]
    },
    {
     "name": "stdout",
     "output_type": "stream",
     "text": [
      "Epoch: 313 / 6000, \n",
      "Train -- Loss: 0.0021231800163546274, Coeff: 0.033447265625 \n",
      "Val   -- Loss: 0.011443122251794759, Coeff: 0.1337890625 \n",
      "\n",
      "\n"
     ]
    },
    {
     "name": "stderr",
     "output_type": "stream",
     "text": [
      "Train: 100%|██████████| 137/137 [00:20<00:00,  6.84batch/s]\n",
      "Valdt: 100%|██████████| 137/137 [00:05<00:00, 26.66batch/s]\n"
     ]
    },
    {
     "name": "stdout",
     "output_type": "stream",
     "text": [
      "Epoch: 314 / 6000, \n",
      "Train -- Loss: 0.0020043579115031694, Coeff: 0.033447265625 \n",
      "Val   -- Loss: 0.009519785142364276, Coeff: 0.1337890625 \n",
      "\n",
      "\n"
     ]
    },
    {
     "name": "stderr",
     "output_type": "stream",
     "text": [
      "Train: 100%|██████████| 137/137 [00:19<00:00,  6.85batch/s]\n",
      "Valdt: 100%|██████████| 137/137 [00:05<00:00, 26.33batch/s]\n"
     ]
    },
    {
     "name": "stdout",
     "output_type": "stream",
     "text": [
      "Epoch: 315 / 6000, \n",
      "Train -- Loss: 0.0018532916377363522, Coeff: 0.033447265625 \n",
      "Val   -- Loss: 0.008753366574543916, Coeff: 0.1337890625 \n",
      "\n",
      "\n"
     ]
    },
    {
     "name": "stderr",
     "output_type": "stream",
     "text": [
      "Train: 100%|██████████| 137/137 [00:19<00:00,  6.86batch/s]\n",
      "Valdt: 100%|██████████| 137/137 [00:05<00:00, 26.53batch/s]\n"
     ]
    },
    {
     "name": "stdout",
     "output_type": "stream",
     "text": [
      "Epoch: 316 / 6000, \n",
      "Train -- Loss: 0.0017773050047607476, Coeff: 0.033447265625 \n",
      "Val   -- Loss: 0.008964137405489233, Coeff: 0.1337890625 \n",
      "\n",
      "\n"
     ]
    },
    {
     "name": "stderr",
     "output_type": "stream",
     "text": [
      "Train: 100%|██████████| 137/137 [00:20<00:00,  6.84batch/s]\n",
      "Valdt: 100%|██████████| 137/137 [00:05<00:00, 26.56batch/s]\n"
     ]
    },
    {
     "name": "stdout",
     "output_type": "stream",
     "text": [
      "Epoch: 317 / 6000, \n",
      "Train -- Loss: 0.001779231498288683, Coeff: 0.033447265625 \n",
      "Val   -- Loss: 0.008932465356351303, Coeff: 0.1337890625 \n",
      "\n",
      "\n"
     ]
    },
    {
     "name": "stderr",
     "output_type": "stream",
     "text": [
      "Train: 100%|██████████| 137/137 [00:19<00:00,  6.86batch/s]\n",
      "Valdt: 100%|██████████| 137/137 [00:05<00:00, 26.32batch/s]\n"
     ]
    },
    {
     "name": "stdout",
     "output_type": "stream",
     "text": [
      "Epoch: 318 / 6000, \n",
      "Train -- Loss: 0.0017778123139534827, Coeff: 0.033447265625 \n",
      "Val   -- Loss: 0.00888273084836025, Coeff: 0.1337890625 \n",
      "\n",
      "\n"
     ]
    },
    {
     "name": "stderr",
     "output_type": "stream",
     "text": [
      "Train: 100%|██████████| 137/137 [00:19<00:00,  6.86batch/s]\n",
      "Valdt: 100%|██████████| 137/137 [00:05<00:00, 26.57batch/s]\n"
     ]
    },
    {
     "name": "stdout",
     "output_type": "stream",
     "text": [
      "Epoch: 319 / 6000, \n",
      "Train -- Loss: 0.0017961951860480986, Coeff: 0.033447265625 \n",
      "Val   -- Loss: 0.00916676068321736, Coeff: 0.1337890625 \n",
      "\n",
      "\n"
     ]
    },
    {
     "name": "stderr",
     "output_type": "stream",
     "text": [
      "Train: 100%|██████████| 137/137 [00:20<00:00,  6.83batch/s]\n",
      "Valdt: 100%|██████████| 137/137 [00:07<00:00, 18.53batch/s]\n"
     ]
    },
    {
     "name": "stdout",
     "output_type": "stream",
     "text": [
      "Epoch: 320 / 6000, \n",
      "Train -- Loss: 0.0018103071683705351, Coeff: 0.033447265625 \n",
      "Val   -- Loss: 0.008824476271573348, Coeff: 0.1337890625 \n",
      "\n",
      "\n"
     ]
    },
    {
     "name": "stderr",
     "output_type": "stream",
     "text": [
      "Train: 100%|██████████| 137/137 [00:19<00:00,  6.85batch/s]\n",
      "Valdt: 100%|██████████| 137/137 [00:05<00:00, 26.65batch/s]\n"
     ]
    },
    {
     "name": "stdout",
     "output_type": "stream",
     "text": [
      "Epoch: 321 / 6000, \n",
      "Train -- Loss: 0.0017973642265906374, Coeff: 0.033447265625 \n",
      "Val   -- Loss: 0.008811887751926761, Coeff: 0.1337890625 \n",
      "\n",
      "\n"
     ]
    },
    {
     "name": "stderr",
     "output_type": "stream",
     "text": [
      "Train: 100%|██████████| 137/137 [00:19<00:00,  6.86batch/s]\n",
      "Valdt: 100%|██████████| 137/137 [00:05<00:00, 26.31batch/s]\n"
     ]
    },
    {
     "name": "stdout",
     "output_type": "stream",
     "text": [
      "Epoch: 322 / 6000, \n",
      "Train -- Loss: 0.001779529416071602, Coeff: 0.033447265625 \n",
      "Val   -- Loss: 0.008919690633382571, Coeff: 0.1337890625 \n",
      "\n",
      "\n"
     ]
    },
    {
     "name": "stderr",
     "output_type": "stream",
     "text": [
      "Train: 100%|██████████| 137/137 [00:19<00:00,  6.87batch/s]\n",
      "Valdt: 100%|██████████| 137/137 [00:05<00:00, 26.52batch/s]\n"
     ]
    },
    {
     "name": "stdout",
     "output_type": "stream",
     "text": [
      "Epoch: 323 / 6000, \n",
      "Train -- Loss: 0.0018480162683811282, Coeff: 0.033447265625 \n",
      "Val   -- Loss: 0.009490756679716121, Coeff: 0.1337890625 \n",
      "\n",
      "\n"
     ]
    },
    {
     "name": "stderr",
     "output_type": "stream",
     "text": [
      "Train: 100%|██████████| 137/137 [00:19<00:00,  6.87batch/s]\n",
      "Valdt: 100%|██████████| 137/137 [00:05<00:00, 26.71batch/s]\n"
     ]
    },
    {
     "name": "stdout",
     "output_type": "stream",
     "text": [
      "Epoch: 324 / 6000, \n",
      "Train -- Loss: 0.0019339658938791074, Coeff: 0.033447265625 \n",
      "Val   -- Loss: 0.00960026317054522, Coeff: 0.1337890625 \n",
      "\n",
      "\n"
     ]
    },
    {
     "name": "stderr",
     "output_type": "stream",
     "text": [
      "Train: 100%|██████████| 137/137 [00:19<00:00,  6.85batch/s]\n",
      "Valdt: 100%|██████████| 137/137 [00:05<00:00, 26.38batch/s]\n"
     ]
    },
    {
     "name": "stdout",
     "output_type": "stream",
     "text": [
      "Epoch: 325 / 6000, \n",
      "Train -- Loss: 0.0018575492305511747, Coeff: 0.033447265625 \n",
      "Val   -- Loss: 0.009089465343968024, Coeff: 0.1337890625 \n",
      "\n",
      "\n"
     ]
    },
    {
     "name": "stderr",
     "output_type": "stream",
     "text": [
      "Train: 100%|██████████| 137/137 [00:19<00:00,  6.89batch/s]\n",
      "Valdt: 100%|██████████| 137/137 [00:05<00:00, 26.70batch/s]\n"
     ]
    },
    {
     "name": "stdout",
     "output_type": "stream",
     "text": [
      "Epoch: 326 / 6000, \n",
      "Train -- Loss: 0.001858889564817785, Coeff: 0.033447265625 \n",
      "Val   -- Loss: 0.009138296964042367, Coeff: 0.1337890625 \n",
      "\n",
      "\n"
     ]
    },
    {
     "name": "stderr",
     "output_type": "stream",
     "text": [
      "Train: 100%|██████████| 137/137 [00:20<00:00,  6.85batch/s]\n",
      "Valdt: 100%|██████████| 137/137 [00:05<00:00, 26.66batch/s]\n"
     ]
    },
    {
     "name": "stdout",
     "output_type": "stream",
     "text": [
      "Epoch: 327 / 6000, \n",
      "Train -- Loss: 0.0018157469724934957, Coeff: 0.033447265625 \n",
      "Val   -- Loss: 0.008821175172116594, Coeff: 0.1337890625 \n",
      "\n",
      "\n"
     ]
    },
    {
     "name": "stderr",
     "output_type": "stream",
     "text": [
      "Train: 100%|██████████| 137/137 [00:19<00:00,  6.87batch/s]\n",
      "Valdt: 100%|██████████| 137/137 [00:05<00:00, 26.35batch/s]\n"
     ]
    },
    {
     "name": "stdout",
     "output_type": "stream",
     "text": [
      "Epoch: 328 / 6000, \n",
      "Train -- Loss: 0.0018155021022413888, Coeff: 0.033447265625 \n",
      "Val   -- Loss: 0.009062919638556972, Coeff: 0.1337890625 \n",
      "\n",
      "\n"
     ]
    },
    {
     "name": "stderr",
     "output_type": "stream",
     "text": [
      "Train: 100%|██████████| 137/137 [00:22<00:00,  6.18batch/s]\n",
      "Valdt: 100%|██████████| 137/137 [00:05<00:00, 26.58batch/s]\n"
     ]
    },
    {
     "name": "stdout",
     "output_type": "stream",
     "text": [
      "Epoch: 329 / 6000, \n",
      "Train -- Loss: 0.0018053342914956575, Coeff: 0.033447265625 \n",
      "Val   -- Loss: 0.008933523138799812, Coeff: 0.1337890625 \n",
      "\n",
      "\n"
     ]
    },
    {
     "name": "stderr",
     "output_type": "stream",
     "text": [
      "Train: 100%|██████████| 137/137 [00:19<00:00,  6.85batch/s]\n",
      "Valdt: 100%|██████████| 137/137 [00:05<00:00, 26.26batch/s]\n"
     ]
    },
    {
     "name": "stdout",
     "output_type": "stream",
     "text": [
      "Epoch: 330 / 6000, \n",
      "Train -- Loss: 0.0018721558387314533, Coeff: 0.033447265625 \n",
      "Val   -- Loss: 0.009234094285882193, Coeff: 0.1337890625 \n",
      "\n",
      "\n"
     ]
    },
    {
     "name": "stderr",
     "output_type": "stream",
     "text": [
      "Train: 100%|██████████| 137/137 [00:19<00:00,  6.88batch/s]\n",
      "Valdt: 100%|██████████| 137/137 [00:05<00:00, 26.34batch/s]\n"
     ]
    },
    {
     "name": "stdout",
     "output_type": "stream",
     "text": [
      "Epoch: 331 / 6000, \n",
      "Train -- Loss: 0.0019297585811556064, Coeff: 0.033447265625 \n",
      "Val   -- Loss: 0.010839793816981136, Coeff: 0.1337890625 \n",
      "\n",
      "\n"
     ]
    },
    {
     "name": "stderr",
     "output_type": "stream",
     "text": [
      "Train: 100%|██████████| 137/137 [00:19<00:00,  6.87batch/s]\n",
      "Valdt: 100%|██████████| 137/137 [00:05<00:00, 26.65batch/s]\n"
     ]
    },
    {
     "name": "stdout",
     "output_type": "stream",
     "text": [
      "Epoch: 332 / 6000, \n",
      "Train -- Loss: 0.002071555045452095, Coeff: 0.033447265625 \n",
      "Val   -- Loss: 0.009095465460541463, Coeff: 0.1337890625 \n",
      "\n",
      "\n"
     ]
    },
    {
     "name": "stderr",
     "output_type": "stream",
     "text": [
      "Train: 100%|██████████| 137/137 [00:19<00:00,  6.85batch/s]\n",
      "Valdt: 100%|██████████| 137/137 [00:05<00:00, 26.63batch/s]\n"
     ]
    },
    {
     "name": "stdout",
     "output_type": "stream",
     "text": [
      "Epoch: 333 / 6000, \n",
      "Train -- Loss: 0.0018857998181404207, Coeff: 0.033447265625 \n",
      "Val   -- Loss: 0.009412094491801118, Coeff: 0.1337890625 \n",
      "\n",
      "\n"
     ]
    },
    {
     "name": "stderr",
     "output_type": "stream",
     "text": [
      "Train: 100%|██████████| 137/137 [00:19<00:00,  6.87batch/s]\n",
      "Valdt: 100%|██████████| 137/137 [00:05<00:00, 26.33batch/s]\n"
     ]
    },
    {
     "name": "stdout",
     "output_type": "stream",
     "text": [
      "Epoch: 334 / 6000, \n",
      "Train -- Loss: 0.0018314243833950307, Coeff: 0.033447265625 \n",
      "Val   -- Loss: 0.008767825422375234, Coeff: 0.1337890625 \n",
      "\n",
      "\n"
     ]
    },
    {
     "name": "stderr",
     "output_type": "stream",
     "text": [
      "Train: 100%|██████████| 137/137 [00:19<00:00,  6.88batch/s]\n",
      "Valdt: 100%|██████████| 137/137 [00:05<00:00, 26.27batch/s]\n"
     ]
    },
    {
     "name": "stdout",
     "output_type": "stream",
     "text": [
      "Epoch: 335 / 6000, \n",
      "Train -- Loss: 0.0017617061420158295, Coeff: 0.033447265625 \n",
      "Val   -- Loss: 0.008764219286654202, Coeff: 0.1337890625 \n",
      "\n",
      "\n"
     ]
    },
    {
     "name": "stderr",
     "output_type": "stream",
     "text": [
      "Train: 100%|██████████| 137/137 [00:19<00:00,  6.85batch/s]\n",
      "Valdt: 100%|██████████| 137/137 [00:05<00:00, 26.68batch/s]\n"
     ]
    },
    {
     "name": "stdout",
     "output_type": "stream",
     "text": [
      "Epoch: 336 / 6000, \n",
      "Train -- Loss: 0.0017798955280476706, Coeff: 0.033447265625 \n",
      "Val   -- Loss: 0.00906145391960116, Coeff: 0.1337890625 \n",
      "\n",
      "\n"
     ]
    },
    {
     "name": "stderr",
     "output_type": "stream",
     "text": [
      "Train: 100%|██████████| 137/137 [00:19<00:00,  6.86batch/s]\n",
      "Valdt: 100%|██████████| 137/137 [00:05<00:00, 26.26batch/s]\n"
     ]
    },
    {
     "name": "stdout",
     "output_type": "stream",
     "text": [
      "Epoch: 337 / 6000, \n",
      "Train -- Loss: 0.0017857656725275535, Coeff: 0.033447265625 \n",
      "Val   -- Loss: 0.009019331074034503, Coeff: 0.1337890625 \n",
      "\n",
      "\n"
     ]
    },
    {
     "name": "stderr",
     "output_type": "stream",
     "text": [
      "Train: 100%|██████████| 137/137 [00:22<00:00,  6.18batch/s]\n",
      "Valdt: 100%|██████████| 137/137 [00:05<00:00, 26.38batch/s]\n"
     ]
    },
    {
     "name": "stdout",
     "output_type": "stream",
     "text": [
      "Epoch: 338 / 6000, \n",
      "Train -- Loss: 0.0019296972041889932, Coeff: 0.033447265625 \n",
      "Val   -- Loss: 0.00969653998990499, Coeff: 0.1337890625 \n",
      "\n",
      "\n"
     ]
    },
    {
     "name": "stderr",
     "output_type": "stream",
     "text": [
      "Train: 100%|██████████| 137/137 [00:19<00:00,  6.86batch/s]\n",
      "Valdt: 100%|██████████| 137/137 [00:05<00:00, 26.60batch/s]\n"
     ]
    },
    {
     "name": "stdout",
     "output_type": "stream",
     "text": [
      "Epoch: 339 / 6000, \n",
      "Train -- Loss: 0.00182368403408666, Coeff: 0.033447265625 \n",
      "Val   -- Loss: 0.00914939962993629, Coeff: 0.1337890625 \n",
      "\n",
      "\n"
     ]
    },
    {
     "name": "stderr",
     "output_type": "stream",
     "text": [
      "Train: 100%|██████████| 137/137 [00:19<00:00,  6.86batch/s]\n",
      "Valdt: 100%|██████████| 137/137 [00:05<00:00, 26.62batch/s]\n"
     ]
    },
    {
     "name": "stdout",
     "output_type": "stream",
     "text": [
      "Epoch: 340 / 6000, \n",
      "Train -- Loss: 0.0018079260578867293, Coeff: 0.033447265625 \n",
      "Val   -- Loss: 0.00925212509678342, Coeff: 0.1337890625 \n",
      "\n",
      "\n"
     ]
    },
    {
     "name": "stderr",
     "output_type": "stream",
     "text": [
      "Train: 100%|██████████| 137/137 [00:19<00:00,  6.88batch/s]\n",
      "Valdt: 100%|██████████| 137/137 [00:05<00:00, 26.33batch/s]\n"
     ]
    },
    {
     "name": "stdout",
     "output_type": "stream",
     "text": [
      "Epoch: 341 / 6000, \n",
      "Train -- Loss: 0.0017849012345245525, Coeff: 0.033447265625 \n",
      "Val   -- Loss: 0.008868311470516465, Coeff: 0.1337890625 \n",
      "\n",
      "\n"
     ]
    },
    {
     "name": "stderr",
     "output_type": "stream",
     "text": [
      "Train: 100%|██████████| 137/137 [00:19<00:00,  6.87batch/s]\n",
      "Valdt: 100%|██████████| 137/137 [00:05<00:00, 26.66batch/s]\n"
     ]
    },
    {
     "name": "stdout",
     "output_type": "stream",
     "text": [
      "Epoch: 342 / 6000, \n",
      "Train -- Loss: 0.00177106385845527, Coeff: 0.033447265625 \n",
      "Val   -- Loss: 0.009833715052530667, Coeff: 0.1337890625 \n",
      "\n",
      "\n"
     ]
    },
    {
     "name": "stderr",
     "output_type": "stream",
     "text": [
      "Train: 100%|██████████| 137/137 [00:20<00:00,  6.83batch/s]\n",
      "Valdt: 100%|██████████| 137/137 [00:05<00:00, 26.60batch/s]\n"
     ]
    },
    {
     "name": "stdout",
     "output_type": "stream",
     "text": [
      "Epoch: 343 / 6000, \n",
      "Train -- Loss: 0.002134834877025791, Coeff: 0.033447265625 \n",
      "Val   -- Loss: 0.009202317146549085, Coeff: 0.1337890625 \n",
      "\n",
      "\n"
     ]
    },
    {
     "name": "stderr",
     "output_type": "stream",
     "text": [
      "Train: 100%|██████████| 137/137 [00:19<00:00,  6.86batch/s]\n",
      "Valdt: 100%|██████████| 137/137 [00:05<00:00, 26.32batch/s]\n"
     ]
    },
    {
     "name": "stdout",
     "output_type": "stream",
     "text": [
      "Epoch: 344 / 6000, \n",
      "Train -- Loss: 0.0018504300842081113, Coeff: 0.033447265625 \n",
      "Val   -- Loss: 0.008838791223988752, Coeff: 0.1337890625 \n",
      "\n",
      "\n"
     ]
    },
    {
     "name": "stderr",
     "output_type": "stream",
     "text": [
      "Train: 100%|██████████| 137/137 [00:19<00:00,  6.86batch/s]\n",
      "Valdt: 100%|██████████| 137/137 [00:05<00:00, 26.62batch/s]\n"
     ]
    },
    {
     "name": "stdout",
     "output_type": "stream",
     "text": [
      "Epoch: 345 / 6000, \n",
      "Train -- Loss: 0.0017523972729143323, Coeff: 0.033447265625 \n",
      "Val   -- Loss: 0.009143525807448287, Coeff: 0.1337890625 \n",
      "\n",
      "\n"
     ]
    },
    {
     "name": "stderr",
     "output_type": "stream",
     "text": [
      "Train: 100%|██████████| 137/137 [00:22<00:00,  6.16batch/s]\n",
      "Valdt: 100%|██████████| 137/137 [00:05<00:00, 26.66batch/s]\n"
     ]
    },
    {
     "name": "stdout",
     "output_type": "stream",
     "text": [
      "Epoch: 346 / 6000, \n",
      "Train -- Loss: 0.0017396658800188844, Coeff: 0.033447265625 \n",
      "Val   -- Loss: 0.008912209601331397, Coeff: 0.1337890625 \n",
      "\n",
      "\n"
     ]
    },
    {
     "name": "stderr",
     "output_type": "stream",
     "text": [
      "Train: 100%|██████████| 137/137 [00:20<00:00,  6.84batch/s]\n",
      "Valdt: 100%|██████████| 137/137 [00:05<00:00, 26.56batch/s]\n"
     ]
    },
    {
     "name": "stdout",
     "output_type": "stream",
     "text": [
      "Epoch: 347 / 6000, \n",
      "Train -- Loss: 0.0017937095315443644, Coeff: 0.033447265625 \n",
      "Val   -- Loss: 0.008977647966042022, Coeff: 0.1337890625 \n",
      "\n",
      "\n"
     ]
    },
    {
     "name": "stderr",
     "output_type": "stream",
     "text": [
      "Train: 100%|██████████| 137/137 [00:19<00:00,  6.87batch/s]\n",
      "Valdt: 100%|██████████| 137/137 [00:05<00:00, 26.31batch/s]\n"
     ]
    },
    {
     "name": "stdout",
     "output_type": "stream",
     "text": [
      "Epoch: 348 / 6000, \n",
      "Train -- Loss: 0.0021548656196902108, Coeff: 0.033447265625 \n",
      "Val   -- Loss: 0.009759591577293258, Coeff: 0.1337890625 \n",
      "\n",
      "\n"
     ]
    },
    {
     "name": "stderr",
     "output_type": "stream",
     "text": [
      "Train: 100%|██████████| 137/137 [00:19<00:00,  6.86batch/s]\n",
      "Valdt: 100%|██████████| 137/137 [00:05<00:00, 26.62batch/s]\n"
     ]
    },
    {
     "name": "stdout",
     "output_type": "stream",
     "text": [
      "Epoch: 349 / 6000, \n",
      "Train -- Loss: 0.0017989846476360381, Coeff: 0.033447265625 \n",
      "Val   -- Loss: 0.008750068444522224, Coeff: 0.1337890625 \n",
      "\n",
      "\n"
     ]
    },
    {
     "name": "stderr",
     "output_type": "stream",
     "text": [
      "Train: 100%|██████████| 137/137 [00:19<00:00,  6.87batch/s]\n",
      "Valdt: 100%|██████████| 137/137 [00:05<00:00, 26.74batch/s]\n"
     ]
    },
    {
     "name": "stdout",
     "output_type": "stream",
     "text": [
      "Epoch: 350 / 6000, \n",
      "Train -- Loss: 0.0017520995986423263, Coeff: 0.033447265625 \n",
      "Val   -- Loss: 0.008576177738428802, Coeff: 0.1337890625 \n",
      "\n",
      "\n"
     ]
    },
    {
     "name": "stderr",
     "output_type": "stream",
     "text": [
      "Train: 100%|██████████| 137/137 [00:19<00:00,  6.88batch/s]\n",
      "Valdt: 100%|██████████| 137/137 [00:05<00:00, 26.33batch/s]\n"
     ]
    },
    {
     "name": "stdout",
     "output_type": "stream",
     "text": [
      "Epoch: 351 / 6000, \n",
      "Train -- Loss: 0.001732142471418226, Coeff: 0.033447265625 \n",
      "Val   -- Loss: 0.008930310185669678, Coeff: 0.1337890625 \n",
      "\n",
      "\n"
     ]
    },
    {
     "name": "stderr",
     "output_type": "stream",
     "text": [
      "Train: 100%|██████████| 137/137 [00:19<00:00,  6.88batch/s]\n",
      "Valdt: 100%|██████████| 137/137 [00:05<00:00, 26.56batch/s]\n"
     ]
    },
    {
     "name": "stdout",
     "output_type": "stream",
     "text": [
      "Epoch: 352 / 6000, \n",
      "Train -- Loss: 0.0017328657509461524, Coeff: 0.033447265625 \n",
      "Val   -- Loss: 0.008834728144646097, Coeff: 0.1337890625 \n",
      "\n",
      "\n"
     ]
    },
    {
     "name": "stderr",
     "output_type": "stream",
     "text": [
      "Train: 100%|██████████| 137/137 [00:20<00:00,  6.85batch/s]\n",
      "Valdt: 100%|██████████| 137/137 [00:05<00:00, 26.60batch/s]\n"
     ]
    },
    {
     "name": "stdout",
     "output_type": "stream",
     "text": [
      "Epoch: 353 / 6000, \n",
      "Train -- Loss: 0.0017779409250331896, Coeff: 0.033447265625 \n",
      "Val   -- Loss: 0.009276776685985477, Coeff: 0.1337890625 \n",
      "\n",
      "\n"
     ]
    },
    {
     "name": "stderr",
     "output_type": "stream",
     "text": [
      "Train: 100%|██████████| 137/137 [00:19<00:00,  6.87batch/s]\n",
      "Valdt: 100%|██████████| 137/137 [00:05<00:00, 26.26batch/s]\n"
     ]
    },
    {
     "name": "stdout",
     "output_type": "stream",
     "text": [
      "Epoch: 354 / 6000, \n",
      "Train -- Loss: 0.0018301183525156054, Coeff: 0.033447265625 \n",
      "Val   -- Loss: 0.008911994067578134, Coeff: 0.1337890625 \n",
      "\n",
      "\n"
     ]
    },
    {
     "name": "stderr",
     "output_type": "stream",
     "text": [
      "Train: 100%|██████████| 137/137 [00:22<00:00,  6.18batch/s]\n",
      "Valdt: 100%|██████████| 137/137 [00:05<00:00, 26.58batch/s]\n"
     ]
    },
    {
     "name": "stdout",
     "output_type": "stream",
     "text": [
      "Epoch: 355 / 6000, \n",
      "Train -- Loss: 0.0017594591050821094, Coeff: 0.033447265625 \n",
      "Val   -- Loss: 0.009266221556095045, Coeff: 0.1337890625 \n",
      "\n",
      "\n"
     ]
    },
    {
     "name": "stderr",
     "output_type": "stream",
     "text": [
      "Train: 100%|██████████| 137/137 [00:20<00:00,  6.85batch/s]\n",
      "Valdt: 100%|██████████| 137/137 [00:05<00:00, 26.67batch/s]\n"
     ]
    },
    {
     "name": "stdout",
     "output_type": "stream",
     "text": [
      "Epoch: 356 / 6000, \n",
      "Train -- Loss: 0.0017968867238045022, Coeff: 0.033447265625 \n",
      "Val   -- Loss: 0.008886974715345518, Coeff: 0.1337890625 \n",
      "\n",
      "\n"
     ]
    },
    {
     "name": "stderr",
     "output_type": "stream",
     "text": [
      "Train: 100%|██████████| 137/137 [00:19<00:00,  6.86batch/s]\n",
      "Valdt: 100%|██████████| 137/137 [00:05<00:00, 26.31batch/s]\n"
     ]
    },
    {
     "name": "stdout",
     "output_type": "stream",
     "text": [
      "Epoch: 357 / 6000, \n",
      "Train -- Loss: 0.0018356469818250473, Coeff: 0.033447265625 \n",
      "Val   -- Loss: 0.00898423171345857, Coeff: 0.1337890625 \n",
      "\n",
      "\n"
     ]
    },
    {
     "name": "stderr",
     "output_type": "stream",
     "text": [
      "Train: 100%|██████████| 137/137 [00:19<00:00,  6.88batch/s]\n",
      "Valdt: 100%|██████████| 137/137 [00:05<00:00, 26.62batch/s]\n"
     ]
    },
    {
     "name": "stdout",
     "output_type": "stream",
     "text": [
      "Epoch: 358 / 6000, \n",
      "Train -- Loss: 0.001784852051761028, Coeff: 0.033447265625 \n",
      "Val   -- Loss: 0.008942848389682035, Coeff: 0.1337890625 \n",
      "\n",
      "\n"
     ]
    },
    {
     "name": "stderr",
     "output_type": "stream",
     "text": [
      "Train: 100%|██████████| 137/137 [00:20<00:00,  6.84batch/s]\n",
      "Valdt: 100%|██████████| 137/137 [00:05<00:00, 26.64batch/s]\n"
     ]
    },
    {
     "name": "stdout",
     "output_type": "stream",
     "text": [
      "Epoch: 359 / 6000, \n",
      "Train -- Loss: 0.0017595336053199417, Coeff: 0.033447265625 \n",
      "Val   -- Loss: 0.009323780783522893, Coeff: 0.1337890625 \n",
      "\n",
      "\n"
     ]
    },
    {
     "name": "stderr",
     "output_type": "stream",
     "text": [
      "Train: 100%|██████████| 137/137 [00:19<00:00,  6.88batch/s]\n",
      "Valdt: 100%|██████████| 137/137 [00:05<00:00, 26.36batch/s]\n"
     ]
    },
    {
     "name": "stdout",
     "output_type": "stream",
     "text": [
      "Epoch: 360 / 6000, \n",
      "Train -- Loss: 0.0018013731781196182, Coeff: 0.033447265625 \n",
      "Val   -- Loss: 0.008686431471528864, Coeff: 0.1337890625 \n",
      "\n",
      "\n"
     ]
    },
    {
     "name": "stderr",
     "output_type": "stream",
     "text": [
      "Train: 100%|██████████| 137/137 [00:19<00:00,  6.87batch/s]\n",
      "Valdt: 100%|██████████| 137/137 [00:05<00:00, 26.32batch/s]\n"
     ]
    },
    {
     "name": "stdout",
     "output_type": "stream",
     "text": [
      "Epoch: 361 / 6000, \n",
      "Train -- Loss: 0.0017890530223550537, Coeff: 0.033447265625 \n",
      "Val   -- Loss: 0.009105718873383751, Coeff: 0.1337890625 \n",
      "\n",
      "\n"
     ]
    },
    {
     "name": "stderr",
     "output_type": "stream",
     "text": [
      "Train: 100%|██████████| 137/137 [00:19<00:00,  6.87batch/s]\n",
      "Valdt: 100%|██████████| 137/137 [00:05<00:00, 26.67batch/s]\n"
     ]
    },
    {
     "name": "stdout",
     "output_type": "stream",
     "text": [
      "Epoch: 362 / 6000, \n",
      "Train -- Loss: 0.001806705099454742, Coeff: 0.033447265625 \n",
      "Val   -- Loss: 0.00890504492398952, Coeff: 0.1337890625 \n",
      "\n",
      "\n"
     ]
    },
    {
     "name": "stderr",
     "output_type": "stream",
     "text": [
      "Train: 100%|██████████| 137/137 [00:22<00:00,  6.16batch/s]\n",
      "Valdt: 100%|██████████| 137/137 [00:05<00:00, 26.72batch/s]\n"
     ]
    },
    {
     "name": "stdout",
     "output_type": "stream",
     "text": [
      "Epoch: 363 / 6000, \n",
      "Train -- Loss: 0.0018340144264730744, Coeff: 0.033447265625 \n",
      "Val   -- Loss: 0.00934441935952159, Coeff: 0.1337890625 \n",
      "\n",
      "\n"
     ]
    },
    {
     "name": "stderr",
     "output_type": "stream",
     "text": [
      "Train: 100%|██████████| 137/137 [00:19<00:00,  6.88batch/s]\n",
      "Valdt: 100%|██████████| 137/137 [00:05<00:00, 26.28batch/s]\n"
     ]
    },
    {
     "name": "stdout",
     "output_type": "stream",
     "text": [
      "Epoch: 364 / 6000, \n",
      "Train -- Loss: 0.0017626977770332636, Coeff: 0.033447265625 \n",
      "Val   -- Loss: 0.008801200952052357, Coeff: 0.1337890625 \n",
      "\n",
      "\n"
     ]
    },
    {
     "name": "stderr",
     "output_type": "stream",
     "text": [
      "Train: 100%|██████████| 137/137 [00:19<00:00,  6.87batch/s]\n",
      "Valdt: 100%|██████████| 137/137 [00:05<00:00, 26.59batch/s]\n"
     ]
    },
    {
     "name": "stdout",
     "output_type": "stream",
     "text": [
      "Epoch: 365 / 6000, \n",
      "Train -- Loss: 0.0017323482092260261, Coeff: 0.033447265625 \n",
      "Val   -- Loss: 0.008833039700094143, Coeff: 0.1337890625 \n",
      "\n",
      "\n"
     ]
    },
    {
     "name": "stderr",
     "output_type": "stream",
     "text": [
      "Train: 100%|██████████| 137/137 [00:20<00:00,  6.83batch/s]\n",
      "Valdt: 100%|██████████| 137/137 [00:05<00:00, 26.47batch/s]\n"
     ]
    },
    {
     "name": "stdout",
     "output_type": "stream",
     "text": [
      "Epoch: 366 / 6000, \n",
      "Train -- Loss: 0.0017541926692791554, Coeff: 0.033447265625 \n",
      "Val   -- Loss: 0.008817544611421436, Coeff: 0.1337890625 \n",
      "\n",
      "\n"
     ]
    },
    {
     "name": "stderr",
     "output_type": "stream",
     "text": [
      "Train: 100%|██████████| 137/137 [00:19<00:00,  6.86batch/s]\n",
      "Valdt: 100%|██████████| 137/137 [00:05<00:00, 26.27batch/s]\n"
     ]
    },
    {
     "name": "stdout",
     "output_type": "stream",
     "text": [
      "Epoch: 367 / 6000, \n",
      "Train -- Loss: 0.0017527025823628885, Coeff: 0.033447265625 \n",
      "Val   -- Loss: 0.008732238840353106, Coeff: 0.1337890625 \n",
      "\n",
      "\n"
     ]
    },
    {
     "name": "stderr",
     "output_type": "stream",
     "text": [
      "Train: 100%|██████████| 137/137 [00:19<00:00,  6.86batch/s]\n",
      "Valdt: 100%|██████████| 137/137 [00:05<00:00, 26.55batch/s]\n"
     ]
    },
    {
     "name": "stdout",
     "output_type": "stream",
     "text": [
      "Epoch: 368 / 6000, \n",
      "Train -- Loss: 0.001837784678066261, Coeff: 0.033447265625 \n",
      "Val   -- Loss: 0.009465323559219703, Coeff: 0.1337890625 \n",
      "\n",
      "\n"
     ]
    },
    {
     "name": "stderr",
     "output_type": "stream",
     "text": [
      "Train: 100%|██████████| 137/137 [00:20<00:00,  6.83batch/s]\n",
      "Valdt: 100%|██████████| 137/137 [00:05<00:00, 26.48batch/s]\n"
     ]
    },
    {
     "name": "stdout",
     "output_type": "stream",
     "text": [
      "Epoch: 369 / 6000, \n",
      "Train -- Loss: 0.0018160054696730586, Coeff: 0.033447265625 \n",
      "Val   -- Loss: 0.009404491597220555, Coeff: 0.1337890625 \n",
      "\n",
      "\n"
     ]
    },
    {
     "name": "stderr",
     "output_type": "stream",
     "text": [
      "Train: 100%|██████████| 137/137 [00:19<00:00,  6.85batch/s]\n",
      "Valdt: 100%|██████████| 137/137 [00:05<00:00, 26.27batch/s]\n"
     ]
    },
    {
     "name": "stdout",
     "output_type": "stream",
     "text": [
      "Epoch: 370 / 6000, \n",
      "Train -- Loss: 0.0019504121014503337, Coeff: 0.033447265625 \n",
      "Val   -- Loss: 0.008973925270830702, Coeff: 0.1337890625 \n",
      "\n",
      "\n"
     ]
    },
    {
     "name": "stderr",
     "output_type": "stream",
     "text": [
      "Train: 100%|██████████| 137/137 [00:20<00:00,  6.85batch/s]\n",
      "Valdt: 100%|██████████| 137/137 [00:05<00:00, 26.55batch/s]\n"
     ]
    },
    {
     "name": "stdout",
     "output_type": "stream",
     "text": [
      "Epoch: 371 / 6000, \n",
      "Train -- Loss: 0.0017927383468668177, Coeff: 0.033447265625 \n",
      "Val   -- Loss: 0.008582539110901745, Coeff: 0.1337890625 \n",
      "\n",
      "\n"
     ]
    },
    {
     "name": "stderr",
     "output_type": "stream",
     "text": [
      "Train: 100%|██████████| 137/137 [00:22<00:00,  6.16batch/s]\n",
      "Valdt: 100%|██████████| 137/137 [00:05<00:00, 26.63batch/s]\n"
     ]
    },
    {
     "name": "stdout",
     "output_type": "stream",
     "text": [
      "Epoch: 372 / 6000, \n",
      "Train -- Loss: 0.001731662445544924, Coeff: 0.033447265625 \n",
      "Val   -- Loss: 0.009209081505208019, Coeff: 0.1337890625 \n",
      "\n",
      "\n"
     ]
    },
    {
     "name": "stderr",
     "output_type": "stream",
     "text": [
      "Train: 100%|██████████| 137/137 [00:20<00:00,  6.84batch/s]\n",
      "Valdt: 100%|██████████| 137/137 [00:05<00:00, 26.66batch/s]\n"
     ]
    },
    {
     "name": "stdout",
     "output_type": "stream",
     "text": [
      "Epoch: 373 / 6000, \n",
      "Train -- Loss: 0.001766027330376933, Coeff: 0.033447265625 \n",
      "Val   -- Loss: 0.009820620538205241, Coeff: 0.1337890625 \n",
      "\n",
      "\n"
     ]
    },
    {
     "name": "stderr",
     "output_type": "stream",
     "text": [
      "Train: 100%|██████████| 137/137 [00:19<00:00,  6.89batch/s]\n",
      "Valdt: 100%|██████████| 137/137 [00:05<00:00, 26.34batch/s]\n"
     ]
    },
    {
     "name": "stdout",
     "output_type": "stream",
     "text": [
      "Epoch: 374 / 6000, \n",
      "Train -- Loss: 0.0024275742936627092, Coeff: 0.033447265625 \n",
      "Val   -- Loss: 0.01279336003908632, Coeff: 0.1337890625 \n",
      "\n",
      "\n"
     ]
    },
    {
     "name": "stderr",
     "output_type": "stream",
     "text": [
      "Train: 100%|██████████| 137/137 [00:19<00:00,  6.89batch/s]\n",
      "Valdt: 100%|██████████| 137/137 [00:05<00:00, 26.68batch/s]\n"
     ]
    },
    {
     "name": "stdout",
     "output_type": "stream",
     "text": [
      "Epoch: 375 / 6000, \n",
      "Train -- Loss: 0.0024524880993819632, Coeff: 0.033447265625 \n",
      "Val   -- Loss: 0.009555889361904874, Coeff: 0.1337890625 \n",
      "\n",
      "\n"
     ]
    },
    {
     "name": "stderr",
     "output_type": "stream",
     "text": [
      "Train: 100%|██████████| 137/137 [00:19<00:00,  6.88batch/s]\n",
      "Valdt: 100%|██████████| 137/137 [00:05<00:00, 26.61batch/s]\n"
     ]
    },
    {
     "name": "stdout",
     "output_type": "stream",
     "text": [
      "Epoch: 376 / 6000, \n",
      "Train -- Loss: 0.0018030074323973334, Coeff: 0.033447265625 \n",
      "Val   -- Loss: 0.008666531594389354, Coeff: 0.1337890625 \n",
      "\n",
      "\n"
     ]
    },
    {
     "name": "stderr",
     "output_type": "stream",
     "text": [
      "Train: 100%|██████████| 137/137 [00:19<00:00,  6.87batch/s]\n",
      "Valdt: 100%|██████████| 137/137 [00:05<00:00, 26.38batch/s]\n"
     ]
    },
    {
     "name": "stdout",
     "output_type": "stream",
     "text": [
      "Epoch: 377 / 6000, \n",
      "Train -- Loss: 0.0017141208471732497, Coeff: 0.033447265625 \n",
      "Val   -- Loss: 0.00863476585443008, Coeff: 0.1337890625 \n",
      "\n",
      "\n"
     ]
    },
    {
     "name": "stderr",
     "output_type": "stream",
     "text": [
      "Train: 100%|██████████| 137/137 [00:19<00:00,  6.85batch/s]\n",
      "Valdt: 100%|██████████| 137/137 [00:05<00:00, 26.70batch/s]\n"
     ]
    },
    {
     "name": "stdout",
     "output_type": "stream",
     "text": [
      "Epoch: 378 / 6000, \n",
      "Train -- Loss: 0.0016938196607253527, Coeff: 0.033447265625 \n",
      "Val   -- Loss: 0.00853064902401758, Coeff: 0.1337890625 \n",
      "\n",
      "\n"
     ]
    },
    {
     "name": "stderr",
     "output_type": "stream",
     "text": [
      "Train: 100%|██████████| 137/137 [00:19<00:00,  6.87batch/s]\n",
      "Valdt: 100%|██████████| 137/137 [00:05<00:00, 26.64batch/s]\n"
     ]
    },
    {
     "name": "stdout",
     "output_type": "stream",
     "text": [
      "Epoch: 379 / 6000, \n",
      "Train -- Loss: 0.0017056228178628783, Coeff: 0.033447265625 \n",
      "Val   -- Loss: 0.008689727630247343, Coeff: 0.1337890625 \n",
      "\n",
      "\n"
     ]
    },
    {
     "name": "stderr",
     "output_type": "stream",
     "text": [
      "Train: 100%|██████████| 137/137 [00:19<00:00,  6.87batch/s]\n",
      "Valdt: 100%|██████████| 137/137 [00:07<00:00, 18.48batch/s]\n"
     ]
    },
    {
     "name": "stdout",
     "output_type": "stream",
     "text": [
      "Epoch: 380 / 6000, \n",
      "Train -- Loss: 0.001699789274851755, Coeff: 0.033447265625 \n",
      "Val   -- Loss: 0.008690121165185007, Coeff: 0.1337890625 \n",
      "\n",
      "\n"
     ]
    },
    {
     "name": "stderr",
     "output_type": "stream",
     "text": [
      "Train: 100%|██████████| 137/137 [00:19<00:00,  6.88batch/s]\n",
      "Valdt: 100%|██████████| 137/137 [00:05<00:00, 26.56batch/s]\n"
     ]
    },
    {
     "name": "stdout",
     "output_type": "stream",
     "text": [
      "Epoch: 381 / 6000, \n",
      "Train -- Loss: 0.0017071175613650117, Coeff: 0.033447265625 \n",
      "Val   -- Loss: 0.008473222261316197, Coeff: 0.1337890625 \n",
      "\n",
      "\n"
     ]
    },
    {
     "name": "stderr",
     "output_type": "stream",
     "text": [
      "Train: 100%|██████████| 137/137 [00:19<00:00,  6.86batch/s]\n",
      "Valdt: 100%|██████████| 137/137 [00:05<00:00, 26.62batch/s]\n"
     ]
    },
    {
     "name": "stdout",
     "output_type": "stream",
     "text": [
      "Epoch: 382 / 6000, \n",
      "Train -- Loss: 0.0016775579912176575, Coeff: 0.033447265625 \n",
      "Val   -- Loss: 0.008613951752879297, Coeff: 0.1337890625 \n",
      "\n",
      "\n"
     ]
    },
    {
     "name": "stderr",
     "output_type": "stream",
     "text": [
      "Train: 100%|██████████| 137/137 [00:19<00:00,  6.87batch/s]\n",
      "Valdt: 100%|██████████| 137/137 [00:05<00:00, 26.36batch/s]\n"
     ]
    },
    {
     "name": "stdout",
     "output_type": "stream",
     "text": [
      "Epoch: 383 / 6000, \n",
      "Train -- Loss: 0.0019027766792600854, Coeff: 0.033447265625 \n",
      "Val   -- Loss: 0.009256094489685979, Coeff: 0.1337890625 \n",
      "\n",
      "\n"
     ]
    },
    {
     "name": "stderr",
     "output_type": "stream",
     "text": [
      "Train: 100%|██████████| 137/137 [00:19<00:00,  6.86batch/s]\n",
      "Valdt: 100%|██████████| 137/137 [00:05<00:00, 26.27batch/s]\n"
     ]
    },
    {
     "name": "stdout",
     "output_type": "stream",
     "text": [
      "Epoch: 384 / 6000, \n",
      "Train -- Loss: 0.0017640893118795295, Coeff: 0.033447265625 \n",
      "Val   -- Loss: 0.00865651254836349, Coeff: 0.1337890625 \n",
      "\n",
      "\n"
     ]
    },
    {
     "name": "stderr",
     "output_type": "stream",
     "text": [
      "Train: 100%|██████████| 137/137 [00:19<00:00,  6.87batch/s]\n",
      "Valdt: 100%|██████████| 137/137 [00:05<00:00, 26.58batch/s]\n"
     ]
    },
    {
     "name": "stdout",
     "output_type": "stream",
     "text": [
      "Epoch: 385 / 6000, \n",
      "Train -- Loss: 0.0017227041759893627, Coeff: 0.033447265625 \n",
      "Val   -- Loss: 0.008834679855178273, Coeff: 0.1337890625 \n",
      "\n",
      "\n"
     ]
    },
    {
     "name": "stderr",
     "output_type": "stream",
     "text": [
      "Train: 100%|██████████| 137/137 [00:20<00:00,  6.84batch/s]\n",
      "Valdt: 100%|██████████| 137/137 [00:05<00:00, 26.59batch/s]\n"
     ]
    },
    {
     "name": "stdout",
     "output_type": "stream",
     "text": [
      "Epoch: 386 / 6000, \n",
      "Train -- Loss: 0.001728939772261651, Coeff: 0.033447265625 \n",
      "Val   -- Loss: 0.008695258927963984, Coeff: 0.1337890625 \n",
      "\n",
      "\n"
     ]
    },
    {
     "name": "stderr",
     "output_type": "stream",
     "text": [
      "Train: 100%|██████████| 137/137 [00:19<00:00,  6.86batch/s]\n",
      "Valdt: 100%|██████████| 137/137 [00:05<00:00, 26.34batch/s]\n"
     ]
    },
    {
     "name": "stdout",
     "output_type": "stream",
     "text": [
      "Epoch: 387 / 6000, \n",
      "Train -- Loss: 0.0017581294429257265, Coeff: 0.033447265625 \n",
      "Val   -- Loss: 0.008733280242210106, Coeff: 0.1337890625 \n",
      "\n",
      "\n"
     ]
    },
    {
     "name": "stderr",
     "output_type": "stream",
     "text": [
      "Train: 100%|██████████| 137/137 [00:19<00:00,  6.87batch/s]\n",
      "Valdt: 100%|██████████| 137/137 [00:05<00:00, 26.57batch/s]\n"
     ]
    },
    {
     "name": "stdout",
     "output_type": "stream",
     "text": [
      "Epoch: 388 / 6000, \n",
      "Train -- Loss: 0.0017382901208815344, Coeff: 0.033447265625 \n",
      "Val   -- Loss: 0.008849239940611361, Coeff: 0.1337890625 \n",
      "\n",
      "\n"
     ]
    },
    {
     "name": "stderr",
     "output_type": "stream",
     "text": [
      "Train: 100%|██████████| 137/137 [00:22<00:00,  6.16batch/s]\n",
      "Valdt: 100%|██████████| 137/137 [00:05<00:00, 26.66batch/s]\n"
     ]
    },
    {
     "name": "stdout",
     "output_type": "stream",
     "text": [
      "Epoch: 389 / 6000, \n",
      "Train -- Loss: 0.0017219214807341413, Coeff: 0.033447265625 \n",
      "Val   -- Loss: 0.008630453397338013, Coeff: 0.1337890625 \n",
      "\n",
      "\n"
     ]
    },
    {
     "name": "stderr",
     "output_type": "stream",
     "text": [
      "Train: 100%|██████████| 137/137 [00:19<00:00,  6.86batch/s]\n",
      "Valdt: 100%|██████████| 137/137 [00:05<00:00, 26.42batch/s]\n"
     ]
    },
    {
     "name": "stdout",
     "output_type": "stream",
     "text": [
      "Epoch: 390 / 6000, \n",
      "Train -- Loss: 0.0017408836314697714, Coeff: 0.033447265625 \n",
      "Val   -- Loss: 0.008697568809017377, Coeff: 0.1337890625 \n",
      "\n",
      "\n"
     ]
    },
    {
     "name": "stderr",
     "output_type": "stream",
     "text": [
      "Train: 100%|██████████| 137/137 [00:19<00:00,  6.86batch/s]\n",
      "Valdt: 100%|██████████| 137/137 [00:05<00:00, 26.58batch/s]\n"
     ]
    },
    {
     "name": "stdout",
     "output_type": "stream",
     "text": [
      "Epoch: 391 / 6000, \n",
      "Train -- Loss: 0.001800436789053062, Coeff: 0.033447265625 \n",
      "Val   -- Loss: 0.010020396253270406, Coeff: 0.1337890625 \n",
      "\n",
      "\n"
     ]
    },
    {
     "name": "stderr",
     "output_type": "stream",
     "text": [
      "Train: 100%|██████████| 137/137 [00:19<00:00,  6.86batch/s]\n",
      "Valdt: 100%|██████████| 137/137 [00:05<00:00, 26.49batch/s]\n"
     ]
    },
    {
     "name": "stdout",
     "output_type": "stream",
     "text": [
      "Epoch: 392 / 6000, \n",
      "Train -- Loss: 0.001812477582138566, Coeff: 0.033447265625 \n",
      "Val   -- Loss: 0.008804750416228345, Coeff: 0.1337890625 \n",
      "\n",
      "\n"
     ]
    },
    {
     "name": "stderr",
     "output_type": "stream",
     "text": [
      "Train: 100%|██████████| 137/137 [00:19<00:00,  6.86batch/s]\n",
      "Valdt: 100%|██████████| 137/137 [00:05<00:00, 26.38batch/s]\n"
     ]
    },
    {
     "name": "stdout",
     "output_type": "stream",
     "text": [
      "Epoch: 393 / 6000, \n",
      "Train -- Loss: 0.0017258469228387543, Coeff: 0.033447265625 \n",
      "Val   -- Loss: 0.00880058523835625, Coeff: 0.1337890625 \n",
      "\n",
      "\n"
     ]
    },
    {
     "name": "stderr",
     "output_type": "stream",
     "text": [
      "Train: 100%|██████████| 137/137 [00:19<00:00,  6.86batch/s]\n",
      "Valdt: 100%|██████████| 137/137 [00:05<00:00, 26.57batch/s]\n"
     ]
    },
    {
     "name": "stdout",
     "output_type": "stream",
     "text": [
      "Epoch: 394 / 6000, \n",
      "Train -- Loss: 0.00172967650958687, Coeff: 0.033447265625 \n",
      "Val   -- Loss: 0.008898941911996038, Coeff: 0.1337890625 \n",
      "\n",
      "\n"
     ]
    },
    {
     "name": "stderr",
     "output_type": "stream",
     "text": [
      "Train: 100%|██████████| 137/137 [00:20<00:00,  6.84batch/s]\n",
      "Valdt: 100%|██████████| 137/137 [00:05<00:00, 26.58batch/s]\n"
     ]
    },
    {
     "name": "stdout",
     "output_type": "stream",
     "text": [
      "Epoch: 395 / 6000, \n",
      "Train -- Loss: 0.001734389782837041, Coeff: 0.033447265625 \n",
      "Val   -- Loss: 0.008647638535335563, Coeff: 0.1337890625 \n",
      "\n",
      "\n"
     ]
    },
    {
     "name": "stderr",
     "output_type": "stream",
     "text": [
      "Train: 100%|██████████| 137/137 [00:19<00:00,  6.88batch/s]\n",
      "Valdt: 100%|██████████| 137/137 [00:05<00:00, 26.40batch/s]\n"
     ]
    },
    {
     "name": "stdout",
     "output_type": "stream",
     "text": [
      "Epoch: 396 / 6000, \n",
      "Train -- Loss: 0.001736728511712392, Coeff: 0.033447265625 \n",
      "Val   -- Loss: 0.008736444398040189, Coeff: 0.1337890625 \n",
      "\n",
      "\n"
     ]
    },
    {
     "name": "stderr",
     "output_type": "stream",
     "text": [
      "Train: 100%|██████████| 137/137 [00:19<00:00,  6.87batch/s]\n",
      "Valdt: 100%|██████████| 137/137 [00:05<00:00, 26.63batch/s]\n"
     ]
    },
    {
     "name": "stdout",
     "output_type": "stream",
     "text": [
      "Epoch: 397 / 6000, \n",
      "Train -- Loss: 0.0019258246573435089, Coeff: 0.033447265625 \n",
      "Val   -- Loss: 0.01058255938074007, Coeff: 0.1337890625 \n",
      "\n",
      "\n"
     ]
    },
    {
     "name": "stderr",
     "output_type": "stream",
     "text": [
      "Train: 100%|██████████| 137/137 [00:22<00:00,  6.15batch/s]\n",
      "Valdt: 100%|██████████| 137/137 [00:05<00:00, 26.72batch/s]\n"
     ]
    },
    {
     "name": "stdout",
     "output_type": "stream",
     "text": [
      "Epoch: 398 / 6000, \n",
      "Train -- Loss: 0.002180396600066597, Coeff: 0.033447265625 \n",
      "Val   -- Loss: 0.010589186760700227, Coeff: 0.1337890625 \n",
      "\n",
      "\n"
     ]
    },
    {
     "name": "stderr",
     "output_type": "stream",
     "text": [
      "Train: 100%|██████████| 137/137 [00:20<00:00,  6.84batch/s]\n",
      "Valdt: 100%|██████████| 137/137 [00:05<00:00, 26.58batch/s]\n"
     ]
    },
    {
     "name": "stdout",
     "output_type": "stream",
     "text": [
      "Epoch: 399 / 6000, \n",
      "Train -- Loss: 0.0019237441425653682, Coeff: 0.033447265625 \n",
      "Val   -- Loss: 0.008843065257234318, Coeff: 0.1337890625 \n",
      "\n",
      "\n"
     ]
    },
    {
     "name": "stderr",
     "output_type": "stream",
     "text": [
      "Train: 100%|██████████| 137/137 [00:19<00:00,  6.88batch/s]\n",
      "Valdt: 100%|██████████| 137/137 [00:05<00:00, 26.33batch/s]\n"
     ]
    },
    {
     "name": "stdout",
     "output_type": "stream",
     "text": [
      "Epoch: 400 / 6000, \n",
      "Train -- Loss: 0.0016894820863812274, Coeff: 0.033447265625 \n",
      "Val   -- Loss: 0.00855558362961273, Coeff: 0.1337890625 \n",
      "\n",
      "\n"
     ]
    },
    {
     "name": "stderr",
     "output_type": "stream",
     "text": [
      "Train: 100%|██████████| 137/137 [00:19<00:00,  6.88batch/s]\n",
      "Valdt: 100%|██████████| 137/137 [00:05<00:00, 26.58batch/s]\n"
     ]
    },
    {
     "name": "stdout",
     "output_type": "stream",
     "text": [
      "Epoch: 401 / 6000, \n",
      "Train -- Loss: 0.0016794319980633753, Coeff: 0.033447265625 \n",
      "Val   -- Loss: 0.008437898296663526, Coeff: 0.1337890625 \n",
      "\n",
      "\n"
     ]
    },
    {
     "name": "stderr",
     "output_type": "stream",
     "text": [
      "Train: 100%|██████████| 137/137 [00:20<00:00,  6.85batch/s]\n",
      "Valdt: 100%|██████████| 137/137 [00:05<00:00, 26.72batch/s]\n"
     ]
    },
    {
     "name": "stdout",
     "output_type": "stream",
     "text": [
      "Epoch: 402 / 6000, \n",
      "Train -- Loss: 0.0016737601348516657, Coeff: 0.033447265625 \n",
      "Val   -- Loss: 0.008452556120709177, Coeff: 0.1337890625 \n",
      "\n",
      "\n"
     ]
    },
    {
     "name": "stderr",
     "output_type": "stream",
     "text": [
      "Train: 100%|██████████| 137/137 [00:19<00:00,  6.88batch/s]\n",
      "Valdt: 100%|██████████| 137/137 [00:05<00:00, 26.42batch/s]\n"
     ]
    },
    {
     "name": "stdout",
     "output_type": "stream",
     "text": [
      "Epoch: 403 / 6000, \n",
      "Train -- Loss: 0.0016919946823109493, Coeff: 0.033447265625 \n",
      "Val   -- Loss: 0.008709561056964327, Coeff: 0.1337890625 \n",
      "\n",
      "\n"
     ]
    },
    {
     "name": "stderr",
     "output_type": "stream",
     "text": [
      "Train: 100%|██████████| 137/137 [00:19<00:00,  6.89batch/s]\n",
      "Valdt: 100%|██████████| 137/137 [00:05<00:00, 26.66batch/s]\n"
     ]
    },
    {
     "name": "stdout",
     "output_type": "stream",
     "text": [
      "Epoch: 404 / 6000, \n",
      "Train -- Loss: 0.0017040150004080548, Coeff: 0.033447265625 \n",
      "Val   -- Loss: 0.008451877642783276, Coeff: 0.1337890625 \n",
      "\n",
      "\n"
     ]
    },
    {
     "name": "stderr",
     "output_type": "stream",
     "text": [
      "Train: 100%|██████████| 137/137 [00:19<00:00,  6.86batch/s]\n",
      "Valdt: 100%|██████████| 137/137 [00:05<00:00, 26.69batch/s]\n"
     ]
    },
    {
     "name": "stdout",
     "output_type": "stream",
     "text": [
      "Epoch: 405 / 6000, \n",
      "Train -- Loss: 0.0016769856490871135, Coeff: 0.033447265625 \n",
      "Val   -- Loss: 0.008578659719799007, Coeff: 0.1337890625 \n",
      "\n",
      "\n"
     ]
    },
    {
     "name": "stderr",
     "output_type": "stream",
     "text": [
      "Train: 100%|██████████| 137/137 [00:22<00:00,  6.19batch/s]\n",
      "Valdt: 100%|██████████| 137/137 [00:05<00:00, 26.45batch/s]\n"
     ]
    },
    {
     "name": "stdout",
     "output_type": "stream",
     "text": [
      "Epoch: 406 / 6000, \n",
      "Train -- Loss: 0.0017255538008158341, Coeff: 0.033447265625 \n",
      "Val   -- Loss: 0.008892237483404983, Coeff: 0.1337890625 \n",
      "\n",
      "\n"
     ]
    },
    {
     "name": "stderr",
     "output_type": "stream",
     "text": [
      "Train: 100%|██████████| 137/137 [00:19<00:00,  6.87batch/s]\n",
      "Valdt: 100%|██████████| 137/137 [00:05<00:00, 26.31batch/s]\n"
     ]
    },
    {
     "name": "stdout",
     "output_type": "stream",
     "text": [
      "Epoch: 407 / 6000, \n",
      "Train -- Loss: 0.001724942478657381, Coeff: 0.033447265625 \n",
      "Val   -- Loss: 0.008671976701713177, Coeff: 0.1337890625 \n",
      "\n",
      "\n"
     ]
    },
    {
     "name": "stderr",
     "output_type": "stream",
     "text": [
      "Train: 100%|██████████| 137/137 [00:19<00:00,  6.87batch/s]\n",
      "Valdt: 100%|██████████| 137/137 [00:05<00:00, 26.51batch/s]\n"
     ]
    },
    {
     "name": "stdout",
     "output_type": "stream",
     "text": [
      "Epoch: 408 / 6000, \n",
      "Train -- Loss: 0.0019016438037808504, Coeff: 0.033447265625 \n",
      "Val   -- Loss: 0.009616606724787565, Coeff: 0.1337890625 \n",
      "\n",
      "\n"
     ]
    },
    {
     "name": "stderr",
     "output_type": "stream",
     "text": [
      "Train: 100%|██████████| 137/137 [00:19<00:00,  6.86batch/s]\n",
      "Valdt: 100%|██████████| 137/137 [00:05<00:00, 26.69batch/s]\n"
     ]
    },
    {
     "name": "stdout",
     "output_type": "stream",
     "text": [
      "Epoch: 409 / 6000, \n",
      "Train -- Loss: 0.0017459231393684245, Coeff: 0.033447265625 \n",
      "Val   -- Loss: 0.008547543132851181, Coeff: 0.1337890625 \n",
      "\n",
      "\n"
     ]
    },
    {
     "name": "stderr",
     "output_type": "stream",
     "text": [
      "Train: 100%|██████████| 137/137 [00:19<00:00,  6.88batch/s]\n",
      "Valdt: 100%|██████████| 137/137 [00:05<00:00, 26.41batch/s]\n"
     ]
    },
    {
     "name": "stdout",
     "output_type": "stream",
     "text": [
      "Epoch: 410 / 6000, \n",
      "Train -- Loss: 0.0016839276485571164, Coeff: 0.033447265625 \n",
      "Val   -- Loss: 0.008513092232247116, Coeff: 0.1337890625 \n",
      "\n",
      "\n"
     ]
    },
    {
     "name": "stderr",
     "output_type": "stream",
     "text": [
      "Train: 100%|██████████| 137/137 [00:19<00:00,  6.89batch/s]\n",
      "Valdt: 100%|██████████| 137/137 [00:05<00:00, 26.69batch/s]\n"
     ]
    },
    {
     "name": "stdout",
     "output_type": "stream",
     "text": [
      "Epoch: 411 / 6000, \n",
      "Train -- Loss: 0.0017110860854148095, Coeff: 0.033447265625 \n",
      "Val   -- Loss: 0.008859571443250823, Coeff: 0.1337890625 \n",
      "\n",
      "\n"
     ]
    },
    {
     "name": "stderr",
     "output_type": "stream",
     "text": [
      "Train: 100%|██████████| 137/137 [00:19<00:00,  6.87batch/s]\n",
      "Valdt: 100%|██████████| 137/137 [00:05<00:00, 26.65batch/s]\n"
     ]
    },
    {
     "name": "stdout",
     "output_type": "stream",
     "text": [
      "Epoch: 412 / 6000, \n",
      "Train -- Loss: 0.0017498711033134937, Coeff: 0.033447265625 \n",
      "Val   -- Loss: 0.00865943913713142, Coeff: 0.1337890625 \n",
      "\n",
      "\n"
     ]
    },
    {
     "name": "stderr",
     "output_type": "stream",
     "text": [
      "Train: 100%|██████████| 137/137 [00:19<00:00,  6.88batch/s]\n",
      "Valdt: 100%|██████████| 137/137 [00:05<00:00, 26.39batch/s]\n"
     ]
    },
    {
     "name": "stdout",
     "output_type": "stream",
     "text": [
      "Epoch: 413 / 6000, \n",
      "Train -- Loss: 0.0017056550637508802, Coeff: 0.033447265625 \n",
      "Val   -- Loss: 0.009016336981611113, Coeff: 0.1337890625 \n",
      "\n",
      "\n"
     ]
    },
    {
     "name": "stderr",
     "output_type": "stream",
     "text": [
      "Train: 100%|██████████| 137/137 [00:19<00:00,  6.89batch/s]\n",
      "Valdt: 100%|██████████| 137/137 [00:05<00:00, 26.58batch/s]\n"
     ]
    },
    {
     "name": "stdout",
     "output_type": "stream",
     "text": [
      "Epoch: 414 / 6000, \n",
      "Train -- Loss: 0.001733807459404988, Coeff: 0.033447265625 \n",
      "Val   -- Loss: 0.00849806329134141, Coeff: 0.1337890625 \n",
      "\n",
      "\n"
     ]
    },
    {
     "name": "stderr",
     "output_type": "stream",
     "text": [
      "Train: 100%|██████████| 137/137 [00:22<00:00,  6.14batch/s]\n",
      "Valdt: 100%|██████████| 137/137 [00:05<00:00, 26.65batch/s]\n"
     ]
    },
    {
     "name": "stdout",
     "output_type": "stream",
     "text": [
      "Epoch: 415 / 6000, \n",
      "Train -- Loss: 0.0017686433546178072, Coeff: 0.033447265625 \n",
      "Val   -- Loss: 0.009075229614994415, Coeff: 0.1337890625 \n",
      "\n",
      "\n"
     ]
    },
    {
     "name": "stderr",
     "output_type": "stream",
     "text": [
      "Train: 100%|██████████| 137/137 [00:19<00:00,  6.85batch/s]\n",
      "Valdt: 100%|██████████| 137/137 [00:05<00:00, 26.33batch/s]\n"
     ]
    },
    {
     "name": "stdout",
     "output_type": "stream",
     "text": [
      "Epoch: 416 / 6000, \n",
      "Train -- Loss: 0.0017185150422036341, Coeff: 0.033447265625 \n",
      "Val   -- Loss: 0.008660333438653899, Coeff: 0.1337890625 \n",
      "\n",
      "\n"
     ]
    },
    {
     "name": "stderr",
     "output_type": "stream",
     "text": [
      "Train: 100%|██████████| 137/137 [00:20<00:00,  6.85batch/s]\n",
      "Valdt: 100%|██████████| 137/137 [00:05<00:00, 26.62batch/s]\n"
     ]
    },
    {
     "name": "stdout",
     "output_type": "stream",
     "text": [
      "Epoch: 417 / 6000, \n",
      "Train -- Loss: 0.0017410003895442854, Coeff: 0.033447265625 \n",
      "Val   -- Loss: 0.008946681012286717, Coeff: 0.1337890625 \n",
      "\n",
      "\n"
     ]
    },
    {
     "name": "stderr",
     "output_type": "stream",
     "text": [
      "Train: 100%|██████████| 137/137 [00:20<00:00,  6.84batch/s]\n",
      "Valdt: 100%|██████████| 137/137 [00:05<00:00, 26.55batch/s]\n"
     ]
    },
    {
     "name": "stdout",
     "output_type": "stream",
     "text": [
      "Epoch: 418 / 6000, \n",
      "Train -- Loss: 0.0017880678963791159, Coeff: 0.033447265625 \n",
      "Val   -- Loss: 0.008627807143069204, Coeff: 0.1337890625 \n",
      "\n",
      "\n"
     ]
    },
    {
     "name": "stderr",
     "output_type": "stream",
     "text": [
      "Train: 100%|██████████| 137/137 [00:19<00:00,  6.85batch/s]\n",
      "Valdt: 100%|██████████| 137/137 [00:05<00:00, 26.32batch/s]\n"
     ]
    },
    {
     "name": "stdout",
     "output_type": "stream",
     "text": [
      "Epoch: 419 / 6000, \n",
      "Train -- Loss: 0.001723240696046143, Coeff: 0.033447265625 \n",
      "Val   -- Loss: 0.008744776371769028, Coeff: 0.1337890625 \n",
      "\n",
      "\n"
     ]
    },
    {
     "name": "stderr",
     "output_type": "stream",
     "text": [
      "Train: 100%|██████████| 137/137 [00:19<00:00,  6.86batch/s]\n",
      "Valdt: 100%|██████████| 137/137 [00:05<00:00, 26.57batch/s]\n"
     ]
    },
    {
     "name": "stdout",
     "output_type": "stream",
     "text": [
      "Epoch: 420 / 6000, \n",
      "Train -- Loss: 0.001691105747734434, Coeff: 0.033447265625 \n",
      "Val   -- Loss: 0.008649112657695144, Coeff: 0.1337890625 \n",
      "\n",
      "\n"
     ]
    },
    {
     "name": "stderr",
     "output_type": "stream",
     "text": [
      "Train: 100%|██████████| 137/137 [00:20<00:00,  6.83batch/s]\n",
      "Valdt: 100%|██████████| 137/137 [00:05<00:00, 26.61batch/s]\n"
     ]
    },
    {
     "name": "stdout",
     "output_type": "stream",
     "text": [
      "Epoch: 421 / 6000, \n",
      "Train -- Loss: 0.0016773863761134918, Coeff: 0.033447265625 \n",
      "Val   -- Loss: 0.008731934174645179, Coeff: 0.1337890625 \n",
      "\n",
      "\n"
     ]
    },
    {
     "name": "stderr",
     "output_type": "stream",
     "text": [
      "Train: 100%|██████████| 137/137 [00:19<00:00,  6.86batch/s]\n",
      "Valdt: 100%|██████████| 137/137 [00:05<00:00, 26.20batch/s]\n"
     ]
    },
    {
     "name": "stdout",
     "output_type": "stream",
     "text": [
      "Epoch: 422 / 6000, \n",
      "Train -- Loss: 0.0021293395530686825, Coeff: 0.033447265625 \n",
      "Val   -- Loss: 0.01115874061364921, Coeff: 0.1337890625 \n",
      "\n",
      "\n"
     ]
    },
    {
     "name": "stderr",
     "output_type": "stream",
     "text": [
      "Train: 100%|██████████| 137/137 [00:22<00:00,  6.16batch/s]\n",
      "Valdt: 100%|██████████| 137/137 [00:05<00:00, 26.32batch/s]\n"
     ]
    },
    {
     "name": "stdout",
     "output_type": "stream",
     "text": [
      "Epoch: 423 / 6000, \n",
      "Train -- Loss: 0.002116570536495989, Coeff: 0.033447265625 \n",
      "Val   -- Loss: 0.008742669680974216, Coeff: 0.1337890625 \n",
      "\n",
      "\n"
     ]
    },
    {
     "name": "stderr",
     "output_type": "stream",
     "text": [
      "Train: 100%|██████████| 137/137 [00:19<00:00,  6.86batch/s]\n",
      "Valdt: 100%|██████████| 137/137 [00:05<00:00, 26.59batch/s]\n"
     ]
    },
    {
     "name": "stdout",
     "output_type": "stream",
     "text": [
      "Epoch: 424 / 6000, \n",
      "Train -- Loss: 0.0016942171831408385, Coeff: 0.033447265625 \n",
      "Val   -- Loss: 0.008437374831873894, Coeff: 0.1337890625 \n",
      "\n",
      "\n"
     ]
    },
    {
     "name": "stderr",
     "output_type": "stream",
     "text": [
      "Train: 100%|██████████| 137/137 [00:20<00:00,  6.81batch/s]\n",
      "Valdt: 100%|██████████| 137/137 [00:05<00:00, 26.44batch/s]\n"
     ]
    },
    {
     "name": "stdout",
     "output_type": "stream",
     "text": [
      "Epoch: 425 / 6000, \n",
      "Train -- Loss: 0.0016729472392907052, Coeff: 0.033447265625 \n",
      "Val   -- Loss: 0.00853089223317626, Coeff: 0.1337890625 \n",
      "\n",
      "\n"
     ]
    },
    {
     "name": "stderr",
     "output_type": "stream",
     "text": [
      "Train: 100%|██████████| 137/137 [00:20<00:00,  6.82batch/s]\n",
      "Valdt: 100%|██████████| 137/137 [00:05<00:00, 26.31batch/s]\n"
     ]
    },
    {
     "name": "stdout",
     "output_type": "stream",
     "text": [
      "Epoch: 426 / 6000, \n",
      "Train -- Loss: 0.001649098413301708, Coeff: 0.033447265625 \n",
      "Val   -- Loss: 0.008413082627690055, Coeff: 0.1337890625 \n",
      "\n",
      "\n"
     ]
    },
    {
     "name": "stderr",
     "output_type": "stream",
     "text": [
      "Train: 100%|██████████| 137/137 [00:19<00:00,  6.86batch/s]\n",
      "Valdt: 100%|██████████| 137/137 [00:05<00:00, 26.60batch/s]\n"
     ]
    },
    {
     "name": "stdout",
     "output_type": "stream",
     "text": [
      "Epoch: 427 / 6000, \n",
      "Train -- Loss: 0.0016495884023262609, Coeff: 0.033447265625 \n",
      "Val   -- Loss: 0.008417255284207163, Coeff: 0.1337890625 \n",
      "\n",
      "\n"
     ]
    },
    {
     "name": "stderr",
     "output_type": "stream",
     "text": [
      "Train: 100%|██████████| 137/137 [00:20<00:00,  6.83batch/s]\n",
      "Valdt: 100%|██████████| 137/137 [00:05<00:00, 26.59batch/s]\n"
     ]
    },
    {
     "name": "stdout",
     "output_type": "stream",
     "text": [
      "Epoch: 428 / 6000, \n",
      "Train -- Loss: 0.0016853951492833803, Coeff: 0.033447265625 \n",
      "Val   -- Loss: 0.00860233009297107, Coeff: 0.1337890625 \n",
      "\n",
      "\n"
     ]
    },
    {
     "name": "stderr",
     "output_type": "stream",
     "text": [
      "Train: 100%|██████████| 137/137 [00:19<00:00,  6.85batch/s]\n",
      "Valdt: 100%|██████████| 137/137 [00:05<00:00, 26.35batch/s]\n"
     ]
    },
    {
     "name": "stdout",
     "output_type": "stream",
     "text": [
      "Epoch: 429 / 6000, \n",
      "Train -- Loss: 0.0016797035696694885, Coeff: 0.033447265625 \n",
      "Val   -- Loss: 0.008561307760161127, Coeff: 0.1337890625 \n",
      "\n",
      "\n"
     ]
    },
    {
     "name": "stderr",
     "output_type": "stream",
     "text": [
      "Train: 100%|██████████| 137/137 [00:19<00:00,  6.86batch/s]\n",
      "Valdt: 100%|██████████| 137/137 [00:05<00:00, 26.48batch/s]\n"
     ]
    },
    {
     "name": "stdout",
     "output_type": "stream",
     "text": [
      "Epoch: 430 / 6000, \n",
      "Train -- Loss: 0.0016613940084030888, Coeff: 0.033447265625 \n",
      "Val   -- Loss: 0.008369506971951409, Coeff: 0.1337890625 \n",
      "\n",
      "\n"
     ]
    },
    {
     "name": "stderr",
     "output_type": "stream",
     "text": [
      "Train: 100%|██████████| 137/137 [00:20<00:00,  6.83batch/s]\n",
      "Valdt: 100%|██████████| 137/137 [00:05<00:00, 26.53batch/s]\n"
     ]
    },
    {
     "name": "stdout",
     "output_type": "stream",
     "text": [
      "Epoch: 431 / 6000, \n",
      "Train -- Loss: 0.0016886396788446689, Coeff: 0.033447265625 \n",
      "Val   -- Loss: 0.008905025141600725, Coeff: 0.1337890625 \n",
      "\n",
      "\n"
     ]
    },
    {
     "name": "stderr",
     "output_type": "stream",
     "text": [
      "Train: 100%|██████████| 137/137 [00:22<00:00,  6.15batch/s]\n",
      "Valdt: 100%|██████████| 137/137 [00:05<00:00, 26.66batch/s]\n"
     ]
    },
    {
     "name": "stdout",
     "output_type": "stream",
     "text": [
      "Epoch: 432 / 6000, \n",
      "Train -- Loss: 0.0017437175846253862, Coeff: 0.033447265625 \n",
      "Val   -- Loss: 0.008613007396000814, Coeff: 0.1337890625 \n",
      "\n",
      "\n"
     ]
    },
    {
     "name": "stderr",
     "output_type": "stream",
     "text": [
      "Train: 100%|██████████| 137/137 [00:20<00:00,  6.84batch/s]\n",
      "Valdt: 100%|██████████| 137/137 [00:05<00:00, 26.30batch/s]\n"
     ]
    },
    {
     "name": "stdout",
     "output_type": "stream",
     "text": [
      "Epoch: 433 / 6000, \n",
      "Train -- Loss: 0.0017255126472590795, Coeff: 0.033447265625 \n",
      "Val   -- Loss: 0.008912416242925953, Coeff: 0.1337890625 \n",
      "\n",
      "\n"
     ]
    },
    {
     "name": "stderr",
     "output_type": "stream",
     "text": [
      "Train: 100%|██████████| 137/137 [00:20<00:00,  6.85batch/s]\n",
      "Valdt: 100%|██████████| 137/137 [00:05<00:00, 26.62batch/s]\n"
     ]
    },
    {
     "name": "stdout",
     "output_type": "stream",
     "text": [
      "Epoch: 434 / 6000, \n",
      "Train -- Loss: 0.0017168315412238683, Coeff: 0.033447265625 \n",
      "Val   -- Loss: 0.009536758649827087, Coeff: 0.1337890625 \n",
      "\n",
      "\n"
     ]
    },
    {
     "name": "stderr",
     "output_type": "stream",
     "text": [
      "Train: 100%|██████████| 137/137 [00:20<00:00,  6.83batch/s]\n",
      "Valdt: 100%|██████████| 137/137 [00:05<00:00, 26.58batch/s]\n"
     ]
    },
    {
     "name": "stdout",
     "output_type": "stream",
     "text": [
      "Epoch: 435 / 6000, \n",
      "Train -- Loss: 0.002057596845364205, Coeff: 0.033447265625 \n",
      "Val   -- Loss: 0.008920343512105796, Coeff: 0.1337890625 \n",
      "\n",
      "\n"
     ]
    },
    {
     "name": "stderr",
     "output_type": "stream",
     "text": [
      "Train: 100%|██████████| 137/137 [00:19<00:00,  6.85batch/s]\n",
      "Valdt: 100%|██████████| 137/137 [00:05<00:00, 26.25batch/s]\n"
     ]
    },
    {
     "name": "stdout",
     "output_type": "stream",
     "text": [
      "Epoch: 436 / 6000, \n",
      "Train -- Loss: 0.0017008332193048526, Coeff: 0.033447265625 \n",
      "Val   -- Loss: 0.008631317106587145, Coeff: 0.1337890625 \n",
      "\n",
      "\n"
     ]
    },
    {
     "name": "stderr",
     "output_type": "stream",
     "text": [
      "Train: 100%|██████████| 137/137 [00:19<00:00,  6.86batch/s]\n",
      "Valdt: 100%|██████████| 137/137 [00:05<00:00, 26.60batch/s]\n"
     ]
    },
    {
     "name": "stdout",
     "output_type": "stream",
     "text": [
      "Epoch: 437 / 6000, \n",
      "Train -- Loss: 0.0016608343431933103, Coeff: 0.033447265625 \n",
      "Val   -- Loss: 0.0083335404486186, Coeff: 0.1337890625 \n",
      "\n",
      "\n"
     ]
    },
    {
     "name": "stderr",
     "output_type": "stream",
     "text": [
      "Train: 100%|██████████| 137/137 [00:19<00:00,  6.85batch/s]\n",
      "Valdt: 100%|██████████| 137/137 [00:05<00:00, 26.55batch/s]\n"
     ]
    },
    {
     "name": "stdout",
     "output_type": "stream",
     "text": [
      "Epoch: 438 / 6000, \n",
      "Train -- Loss: 0.0016641356335041517, Coeff: 0.033447265625 \n",
      "Val   -- Loss: 0.008405508808774184, Coeff: 0.1337890625 \n",
      "\n",
      "\n"
     ]
    },
    {
     "name": "stderr",
     "output_type": "stream",
     "text": [
      "Train: 100%|██████████| 137/137 [00:19<00:00,  6.85batch/s]\n",
      "Valdt: 100%|██████████| 137/137 [00:05<00:00, 26.38batch/s]\n"
     ]
    },
    {
     "name": "stdout",
     "output_type": "stream",
     "text": [
      "Epoch: 439 / 6000, \n",
      "Train -- Loss: 0.0016690931828534648, Coeff: 0.033447265625 \n",
      "Val   -- Loss: 0.008373648893411353, Coeff: 0.1337890625 \n",
      "\n",
      "\n"
     ]
    },
    {
     "name": "stderr",
     "output_type": "stream",
     "text": [
      "Train: 100%|██████████| 137/137 [00:19<00:00,  6.86batch/s]\n",
      "Valdt: 100%|██████████| 137/137 [00:07<00:00, 18.67batch/s]\n"
     ]
    },
    {
     "name": "stdout",
     "output_type": "stream",
     "text": [
      "Epoch: 440 / 6000, \n",
      "Train -- Loss: 0.001662619222044895, Coeff: 0.033447265625 \n",
      "Val   -- Loss: 0.008329808121456145, Coeff: 0.1337890625 \n",
      "\n",
      "\n"
     ]
    },
    {
     "name": "stderr",
     "output_type": "stream",
     "text": [
      "Train: 100%|██████████| 137/137 [00:20<00:00,  6.83batch/s]\n",
      "Valdt: 100%|██████████| 137/137 [00:05<00:00, 26.57batch/s]\n"
     ]
    },
    {
     "name": "stdout",
     "output_type": "stream",
     "text": [
      "Epoch: 441 / 6000, \n",
      "Train -- Loss: 0.001771333942689651, Coeff: 0.033447265625 \n",
      "Val   -- Loss: 0.013531806637826913, Coeff: 0.1337890625 \n",
      "\n",
      "\n"
     ]
    },
    {
     "name": "stderr",
     "output_type": "stream",
     "text": [
      "Train: 100%|██████████| 137/137 [00:20<00:00,  6.84batch/s]\n",
      "Valdt: 100%|██████████| 137/137 [00:05<00:00, 26.53batch/s]\n"
     ]
    },
    {
     "name": "stdout",
     "output_type": "stream",
     "text": [
      "Epoch: 442 / 6000, \n",
      "Train -- Loss: 0.002862514735988948, Coeff: 0.033447265625 \n",
      "Val   -- Loss: 0.009596656121363983, Coeff: 0.1337890625 \n",
      "\n",
      "\n"
     ]
    },
    {
     "name": "stderr",
     "output_type": "stream",
     "text": [
      "Train: 100%|██████████| 137/137 [00:20<00:00,  6.84batch/s]\n",
      "Valdt: 100%|██████████| 137/137 [00:05<00:00, 26.31batch/s]\n"
     ]
    },
    {
     "name": "stdout",
     "output_type": "stream",
     "text": [
      "Epoch: 443 / 6000, \n",
      "Train -- Loss: 0.0018412401418461551, Coeff: 0.033447265625 \n",
      "Val   -- Loss: 0.008490832988842265, Coeff: 0.1337890625 \n",
      "\n",
      "\n"
     ]
    },
    {
     "name": "stderr",
     "output_type": "stream",
     "text": [
      "Train: 100%|██████████| 137/137 [00:19<00:00,  6.86batch/s]\n",
      "Valdt: 100%|██████████| 137/137 [00:05<00:00, 26.58batch/s]\n"
     ]
    },
    {
     "name": "stdout",
     "output_type": "stream",
     "text": [
      "Epoch: 444 / 6000, \n",
      "Train -- Loss: 0.0016751852528880797, Coeff: 0.033447265625 \n",
      "Val   -- Loss: 0.008519148757586375, Coeff: 0.1337890625 \n",
      "\n",
      "\n"
     ]
    },
    {
     "name": "stderr",
     "output_type": "stream",
     "text": [
      "Train: 100%|██████████| 137/137 [00:20<00:00,  6.82batch/s]\n",
      "Valdt: 100%|██████████| 137/137 [00:05<00:00, 26.50batch/s]\n"
     ]
    },
    {
     "name": "stdout",
     "output_type": "stream",
     "text": [
      "Epoch: 445 / 6000, \n",
      "Train -- Loss: 0.0017087979816081788, Coeff: 0.033447265625 \n",
      "Val   -- Loss: 0.008543124771862014, Coeff: 0.1337890625 \n",
      "\n",
      "\n"
     ]
    },
    {
     "name": "stderr",
     "output_type": "stream",
     "text": [
      "Train: 100%|██████████| 137/137 [00:19<00:00,  6.86batch/s]\n",
      "Valdt: 100%|██████████| 137/137 [00:05<00:00, 26.30batch/s]\n"
     ]
    },
    {
     "name": "stdout",
     "output_type": "stream",
     "text": [
      "Epoch: 446 / 6000, \n",
      "Train -- Loss: 0.0016618979611799053, Coeff: 0.033447265625 \n",
      "Val   -- Loss: 0.0083313946170864, Coeff: 0.1337890625 \n",
      "\n",
      "\n"
     ]
    },
    {
     "name": "stderr",
     "output_type": "stream",
     "text": [
      "Train: 100%|██████████| 137/137 [00:19<00:00,  6.86batch/s]\n",
      "Valdt: 100%|██████████| 137/137 [00:05<00:00, 26.55batch/s]\n"
     ]
    },
    {
     "name": "stdout",
     "output_type": "stream",
     "text": [
      "Epoch: 447 / 6000, \n",
      "Train -- Loss: 0.0016471689802395949, Coeff: 0.033447265625 \n",
      "Val   -- Loss: 0.008389352538142013, Coeff: 0.1337890625 \n",
      "\n",
      "\n"
     ]
    },
    {
     "name": "stderr",
     "output_type": "stream",
     "text": [
      "Train: 100%|██████████| 137/137 [00:20<00:00,  6.69batch/s]\n",
      "Valdt: 100%|██████████| 137/137 [00:05<00:00, 25.62batch/s]\n"
     ]
    },
    {
     "name": "stdout",
     "output_type": "stream",
     "text": [
      "Epoch: 448 / 6000, \n",
      "Train -- Loss: 0.0016273526861396146, Coeff: 0.033447265625 \n",
      "Val   -- Loss: 0.008328989980800965, Coeff: 0.1337890625 \n",
      "\n",
      "\n"
     ]
    },
    {
     "name": "stderr",
     "output_type": "stream",
     "text": [
      "Train: 100%|██████████| 137/137 [00:22<00:00,  6.10batch/s]\n",
      "Valdt: 100%|██████████| 137/137 [00:05<00:00, 25.96batch/s]\n"
     ]
    },
    {
     "name": "stdout",
     "output_type": "stream",
     "text": [
      "Epoch: 449 / 6000, \n",
      "Train -- Loss: 0.0016259037758293727, Coeff: 0.033447265625 \n",
      "Val   -- Loss: 0.008369113021281729, Coeff: 0.1337890625 \n",
      "\n",
      "\n"
     ]
    },
    {
     "name": "stderr",
     "output_type": "stream",
     "text": [
      "Train: 100%|██████████| 137/137 [00:20<00:00,  6.76batch/s]\n",
      "Valdt: 100%|██████████| 137/137 [00:05<00:00, 25.71batch/s]\n"
     ]
    },
    {
     "name": "stdout",
     "output_type": "stream",
     "text": [
      "Epoch: 450 / 6000, \n",
      "Train -- Loss: 0.0016393571918629217, Coeff: 0.033447265625 \n",
      "Val   -- Loss: 0.008332918076750122, Coeff: 0.1337890625 \n",
      "\n",
      "\n"
     ]
    },
    {
     "name": "stderr",
     "output_type": "stream",
     "text": [
      "Train: 100%|██████████| 137/137 [00:20<00:00,  6.69batch/s]\n",
      "Valdt: 100%|██████████| 137/137 [00:05<00:00, 26.48batch/s]\n"
     ]
    },
    {
     "name": "stdout",
     "output_type": "stream",
     "text": [
      "Epoch: 451 / 6000, \n",
      "Train -- Loss: 0.0019587339878885516, Coeff: 0.033447265625 \n",
      "Val   -- Loss: 0.010503537197957673, Coeff: 0.1337890625 \n",
      "\n",
      "\n"
     ]
    },
    {
     "name": "stderr",
     "output_type": "stream",
     "text": [
      "Train: 100%|██████████| 137/137 [00:19<00:00,  6.86batch/s]\n",
      "Valdt: 100%|██████████| 137/137 [00:05<00:00, 26.61batch/s]\n"
     ]
    },
    {
     "name": "stdout",
     "output_type": "stream",
     "text": [
      "Epoch: 452 / 6000, \n",
      "Train -- Loss: 0.001971546110171249, Coeff: 0.033447265625 \n",
      "Val   -- Loss: 0.01113468484537927, Coeff: 0.1337890625 \n",
      "\n",
      "\n"
     ]
    },
    {
     "name": "stderr",
     "output_type": "stream",
     "text": [
      "Train: 100%|██████████| 137/137 [00:19<00:00,  6.87batch/s]\n",
      "Valdt: 100%|██████████| 137/137 [00:05<00:00, 26.32batch/s]\n"
     ]
    },
    {
     "name": "stdout",
     "output_type": "stream",
     "text": [
      "Epoch: 453 / 6000, \n",
      "Train -- Loss: 0.0018290224824830932, Coeff: 0.033447265625 \n",
      "Val   -- Loss: 0.008790548388530123, Coeff: 0.1337890625 \n",
      "\n",
      "\n"
     ]
    },
    {
     "name": "stderr",
     "output_type": "stream",
     "text": [
      "Train: 100%|██████████| 137/137 [00:19<00:00,  6.88batch/s]\n",
      "Valdt: 100%|██████████| 137/137 [00:05<00:00, 26.61batch/s]\n"
     ]
    },
    {
     "name": "stdout",
     "output_type": "stream",
     "text": [
      "Epoch: 454 / 6000, \n",
      "Train -- Loss: 0.001641912466246953, Coeff: 0.033447265625 \n",
      "Val   -- Loss: 0.008215523711571682, Coeff: 0.1337890625 \n",
      "\n",
      "\n"
     ]
    },
    {
     "name": "stderr",
     "output_type": "stream",
     "text": [
      "Train: 100%|██████████| 137/137 [00:19<00:00,  6.85batch/s]\n",
      "Valdt: 100%|██████████| 137/137 [00:05<00:00, 26.63batch/s]\n"
     ]
    },
    {
     "name": "stdout",
     "output_type": "stream",
     "text": [
      "Epoch: 455 / 6000, \n",
      "Train -- Loss: 0.0016312439842875994, Coeff: 0.033447265625 \n",
      "Val   -- Loss: 0.008162241105022908, Coeff: 0.1337890625 \n",
      "\n",
      "\n"
     ]
    },
    {
     "name": "stderr",
     "output_type": "stream",
     "text": [
      "Train: 100%|██████████| 137/137 [00:19<00:00,  6.87batch/s]\n",
      "Valdt: 100%|██████████| 137/137 [00:05<00:00, 26.49batch/s]\n"
     ]
    },
    {
     "name": "stdout",
     "output_type": "stream",
     "text": [
      "Epoch: 456 / 6000, \n",
      "Train -- Loss: 0.0016233619157631498, Coeff: 0.033447265625 \n",
      "Val   -- Loss: 0.008155601642360743, Coeff: 0.1337890625 \n",
      "\n",
      "\n"
     ]
    },
    {
     "name": "stderr",
     "output_type": "stream",
     "text": [
      "Train: 100%|██████████| 137/137 [00:19<00:00,  6.88batch/s]\n",
      "Valdt: 100%|██████████| 137/137 [00:05<00:00, 26.59batch/s]\n"
     ]
    },
    {
     "name": "stdout",
     "output_type": "stream",
     "text": [
      "Epoch: 457 / 6000, \n",
      "Train -- Loss: 0.0016384389334909582, Coeff: 0.033447265625 \n",
      "Val   -- Loss: 0.008427862529271718, Coeff: 0.1337890625 \n",
      "\n",
      "\n"
     ]
    },
    {
     "name": "stderr",
     "output_type": "stream",
     "text": [
      "Train: 100%|██████████| 137/137 [00:22<00:00,  6.18batch/s]\n",
      "Valdt: 100%|██████████| 137/137 [00:05<00:00, 26.76batch/s]\n"
     ]
    },
    {
     "name": "stdout",
     "output_type": "stream",
     "text": [
      "Epoch: 458 / 6000, \n",
      "Train -- Loss: 0.001755653281560788, Coeff: 0.033447265625 \n",
      "Val   -- Loss: 0.009934473598361556, Coeff: 0.1337890625 \n",
      "\n",
      "\n"
     ]
    },
    {
     "name": "stderr",
     "output_type": "stream",
     "text": [
      "Train: 100%|██████████| 137/137 [00:19<00:00,  6.87batch/s]\n",
      "Valdt: 100%|██████████| 137/137 [00:05<00:00, 26.41batch/s]\n"
     ]
    },
    {
     "name": "stdout",
     "output_type": "stream",
     "text": [
      "Epoch: 459 / 6000, \n",
      "Train -- Loss: 0.0016633609970082006, Coeff: 0.033447265625 \n",
      "Val   -- Loss: 0.008364727532580008, Coeff: 0.1337890625 \n",
      "\n",
      "\n"
     ]
    },
    {
     "name": "stderr",
     "output_type": "stream",
     "text": [
      "Train: 100%|██████████| 137/137 [00:19<00:00,  6.86batch/s]\n",
      "Valdt: 100%|██████████| 137/137 [00:05<00:00, 26.66batch/s]\n"
     ]
    },
    {
     "name": "stdout",
     "output_type": "stream",
     "text": [
      "Epoch: 460 / 6000, \n",
      "Train -- Loss: 0.001613986878923073, Coeff: 0.033447265625 \n",
      "Val   -- Loss: 0.008097236881724309, Coeff: 0.1337890625 \n",
      "\n",
      "\n"
     ]
    },
    {
     "name": "stderr",
     "output_type": "stream",
     "text": [
      "Train: 100%|██████████| 137/137 [00:19<00:00,  6.86batch/s]\n",
      "Valdt: 100%|██████████| 137/137 [00:05<00:00, 26.54batch/s]\n"
     ]
    },
    {
     "name": "stdout",
     "output_type": "stream",
     "text": [
      "Epoch: 461 / 6000, \n",
      "Train -- Loss: 0.0016075930709864982, Coeff: 0.033447265625 \n",
      "Val   -- Loss: 0.008216057680390737, Coeff: 0.1337890625 \n",
      "\n",
      "\n"
     ]
    },
    {
     "name": "stderr",
     "output_type": "stream",
     "text": [
      "Train: 100%|██████████| 137/137 [00:19<00:00,  6.88batch/s]\n",
      "Valdt: 100%|██████████| 137/137 [00:05<00:00, 26.36batch/s]\n"
     ]
    },
    {
     "name": "stdout",
     "output_type": "stream",
     "text": [
      "Epoch: 462 / 6000, \n",
      "Train -- Loss: 0.0016394942711171706, Coeff: 0.033447265625 \n",
      "Val   -- Loss: 0.008426160574866923, Coeff: 0.1337890625 \n",
      "\n",
      "\n"
     ]
    },
    {
     "name": "stderr",
     "output_type": "stream",
     "text": [
      "Train: 100%|██████████| 137/137 [00:19<00:00,  6.88batch/s]\n",
      "Valdt: 100%|██████████| 137/137 [00:05<00:00, 26.60batch/s]\n"
     ]
    },
    {
     "name": "stdout",
     "output_type": "stream",
     "text": [
      "Epoch: 463 / 6000, \n",
      "Train -- Loss: 0.00167413557479955, Coeff: 0.033447265625 \n",
      "Val   -- Loss: 0.008659634762484384, Coeff: 0.1337890625 \n",
      "\n",
      "\n"
     ]
    },
    {
     "name": "stderr",
     "output_type": "stream",
     "text": [
      "Train:  94%|█████████▍| 129/137 [00:18<00:01,  6.89batch/s]"
     ]
    }
   ],
   "source": [
    "epochs = 6000\n",
    "best = 1e6\n",
    "PATH = f\"./best_model_{dt_name}.pt\"\n",
    "\n",
    "early_stopper = EarlyStopper(patience=50, path=PATH)\n",
    "                             \n",
    "for epoch in range(epochs):\n",
    "    model.train()\n",
    "    Loss_train = 0 \n",
    "    Loss_val = 0\n",
    "    coeff_train = 0\n",
    "    coeff_val = 0\n",
    "    with tqdm(train_loader, unit=\"batch\") as trainer:\n",
    "        for batch in trainer:\n",
    "            trainer.set_description(\"Train\")\n",
    "            train_feat = batch[:, 0:-1].to(device)\n",
    "            train_labs = batch[:, -1].to(device)\n",
    "            train_pred = model(train_feat).squeeze()\n",
    "            train_loss = torch.nn.functional.mse_loss(train_pred, train_labs)\n",
    "            train_coef = coeff_determination(train_labs, train_labs) \n",
    "\n",
    "            optimizer.zero_grad()\n",
    "            train_loss.backward()\n",
    "            optimizer.step()\n",
    "\n",
    "            Loss_train += train_loss.item()\n",
    "            coeff_train += train_coef\n",
    "\n",
    "        Loss_train /= batch_sz_trn\n",
    "        coeff_train /= batch_sz_trn\n",
    "\n",
    "    model.eval()\n",
    "    with tqdm(val_loader, unit=\"batch\") as validator:\n",
    "        for batch in validator:\n",
    "            validator.set_description(\"Valdt\")\n",
    "            val_feat = batch[:, 0:-1].to(device)\n",
    "            val_labs = batch[:, -1].to(device)\n",
    "            val_pred = model(val_feat).squeeze()\n",
    "            val_loss = torch.nn.functional.mse_loss(val_pred, val_labs)\n",
    "            val_coef = coeff_determination(val_labs, val_labs) \n",
    "\n",
    "            Loss_val += val_loss.item()\n",
    "            coeff_val += val_coef\n",
    "\n",
    "        Loss_val /= batch_sz_val\n",
    "        coeff_val /= batch_sz_val\n",
    "    \n",
    "    if early_stopper.early_stop(model.state_dict(), Loss_val):             \n",
    "        break\n",
    "    \n",
    "    log_epoch_info(epoch, epochs, Loss_train, coeff_train, Loss_val, coeff_val)"
   ]
  },
  {
   "cell_type": "code",
   "execution_count": null,
   "id": "6e2e987e",
   "metadata": {},
   "outputs": [],
   "source": []
  }
 ],
 "metadata": {
  "kernelspec": {
   "display_name": "Python 3 (ipykernel)",
   "language": "python",
   "name": "python3"
  },
  "language_info": {
   "codemirror_mode": {
    "name": "ipython",
    "version": 3
   },
   "file_extension": ".py",
   "mimetype": "text/x-python",
   "name": "python",
   "nbconvert_exporter": "python",
   "pygments_lexer": "ipython3",
   "version": "3.8.10"
  }
 },
 "nbformat": 4,
 "nbformat_minor": 5
}
