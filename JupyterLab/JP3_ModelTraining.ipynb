{
 "cells": [
  {
   "cell_type": "code",
   "execution_count": 1,
   "id": "fe667f7b",
   "metadata": {},
   "outputs": [],
   "source": [
    "import numpy as np\n",
    "import pandas as pd\n",
    "import matplotlib.pyplot as plt\n",
    "import seaborn as sns\n",
    "import torch\n",
    "import torch.nn as nn\n",
    "from torch.optim.lr_scheduler import StepLR\n",
    "from tqdm import tqdm\n",
    "import sys\n",
    "import random\n",
    "from sklearn.preprocessing import StandardScaler\n",
    "from IPython.display import display, Math\n",
    "from torch.utils.data import DataLoader, Dataset\n",
    "import time\n",
    "import json\n",
    "\n",
    "from utils import *\n",
    "from model_utils import *\n",
    "\n",
    "sys_epsilon = sys.float_info.epsilon"
   ]
  },
  {
   "cell_type": "markdown",
   "id": "73263028",
   "metadata": {},
   "source": [
    "# Data Preprocessing"
   ]
  },
  {
   "cell_type": "markdown",
   "id": "6018f5c7",
   "metadata": {},
   "source": [
    "In this section, we preprocess the CFD data collected from DSM-based LES of flow past a sphere at $\\mathcal{R}e=10^3$, $5\\times 10^3$, and $10^4$. The data for each Reynolds number is collected from $t=300$ to $320$. From $t=300$ to $310$, data is collected at every ten variable time-steps. However, from $t=310$ to $320$, data is collected with $\\Delta t =1$."
   ]
  },
  {
   "cell_type": "code",
   "execution_count": 2,
   "id": "1d46d4bb",
   "metadata": {},
   "outputs": [],
   "source": [
    "paths = [\"/home/hmarefat/scratch/torchFOAM/Case_dS/postProcessing/fieldData.dat\",\n",
    "         \"/home/hmarefat/scratch/torchFOAM/Case_dS_R53/postProcessing/fieldData.dat\",\n",
    "         \"/home/hmarefat/scratch/torchFOAM/Case_dS_R4/postProcessing/fieldData.dat\"]\n",
    "nCols = 26\n",
    "names = ['_R3', '_R53', '_R4']"
   ]
  },
  {
   "cell_type": "code",
   "execution_count": null,
   "id": "fa23ef42",
   "metadata": {},
   "outputs": [],
   "source": [
    "random.seed(35)\n",
    "\n",
    "count = 1000000\n",
    "Indx_R3 = returnRandmIndx(4956526, count)\n",
    "Indx_R53 = returnRandmIndx(5900626, count)\n",
    "Indx_R4 = returnRandmIndx(4012425, count)"
   ]
  },
  {
   "cell_type": "code",
   "execution_count": null,
   "id": "1bb0fd5d",
   "metadata": {},
   "outputs": [],
   "source": [
    "Indx_R3[0:10]"
   ]
  },
  {
   "cell_type": "code",
   "execution_count": null,
   "id": "fd7deaf5",
   "metadata": {},
   "outputs": [],
   "source": [
    "random.shuffle(Indx_R3)"
   ]
  },
  {
   "cell_type": "code",
   "execution_count": null,
   "id": "91df2edc",
   "metadata": {},
   "outputs": [],
   "source": [
    "Indx_R3[0:10]"
   ]
  },
  {
   "cell_type": "code",
   "execution_count": null,
   "id": "c6849a73",
   "metadata": {},
   "outputs": [],
   "source": [
    "index_data = []\n",
    "\n",
    "for indx in [Indx_R3, Indx_R53, Indx_R4]:\n",
    "    seen, unseen = splitterIndx(indx)\n",
    "    index_data.append((seen, unseen))\n",
    "\n",
    "index_array = np.array(index_data, dtype=object)"
   ]
  },
  {
   "cell_type": "code",
   "execution_count": null,
   "id": "bd4fa486",
   "metadata": {},
   "outputs": [],
   "source": [
    "index_array[2,0].shape, index_array[2,1].shape"
   ]
  },
  {
   "cell_type": "code",
   "execution_count": null,
   "id": "0e28c2ec",
   "metadata": {},
   "outputs": [],
   "source": [
    "data = []\n",
    "\n",
    "for i, path in enumerate(paths):\n",
    "    name = path.split('/')[-1][:-4]+names[i]\n",
    "    print(f'Starting to preprocess dataset {name}')\n",
    "    data.clear()\n",
    "    \n",
    "    with open(path, \"r\") as f:\n",
    "        next(f)\n",
    "        for line in f:\n",
    "            l = line.split()\n",
    "            try:\n",
    "                data.append([float(x) for x in l]) #(l)\n",
    "            except ValueError as e:\n",
    "                print(f\"Error converting line to float: {line.strip()} - {e}\")\n",
    "                continue\n",
    "                \n",
    "    #data.pop(0)\n",
    "    print('Reading raw file is done!')\n",
    "    ds = np.array(data) \n",
    "    \n",
    "    ds_seen = ds[index_array[i,0]]\n",
    "    ds_unseen = ds[index_array[i,1]]\n",
    "    \n",
    "    scaler(name+'_seen', ds_seen)\n",
    "    scaler(name+'_unseen', ds_unseen)\n",
    "    \n",
    "    print('\\n')"
   ]
  },
  {
   "cell_type": "markdown",
   "id": "4ce5ad4a",
   "metadata": {},
   "source": [
    "# Data Preparation"
   ]
  },
  {
   "cell_type": "code",
   "execution_count": 3,
   "id": "af31dd52",
   "metadata": {},
   "outputs": [],
   "source": [
    "headers = [\"t\",                                             # time\n",
    "           \"X\", \"Y\", \"Z\",                                   # spacial coordinates\n",
    "           \"Ux\", \"Uy\", \"Uz\",                                # velocity components\n",
    "           \"G1\", \"G2\", \"G3\", \"G4\", \"G5\", \"G6\",              # velocity gradient tensor components\n",
    "           \"S1\", \"S2\", \"S3\", \"S4\", \"S5\", \"S6\",              # strain rate tensor compnents\n",
    "           \"UUp1\", \"UUp2\", \"UUp3\", \"UUp4\", \"UUp5\", \"UUp6\",  # resolved Reynolds stress tensor components\n",
    "           \"Cs\"]                                            # Smagorinsky coefficient"
   ]
  },
  {
   "cell_type": "markdown",
   "id": "65618bfe",
   "metadata": {},
   "source": [
    "### Dataset Loading"
   ]
  },
  {
   "cell_type": "markdown",
   "id": "ec328901",
   "metadata": {},
   "source": [
    "#### $\\mathcal Re = 10^3$"
   ]
  },
  {
   "cell_type": "code",
   "execution_count": 4,
   "id": "b5d4d55b",
   "metadata": {},
   "outputs": [],
   "source": [
    "# Re = 10^3 seen\n",
    "dSn_R103_seen_means = pd.read_csv('../processedDatasets/fieldData_R3_seen_means.txt', sep=' ', names=headers) \n",
    "dSn_R103_seen_scales = pd.read_csv('../processedDatasets/fieldData_R3_seen_scales.txt', sep=' ', names=headers) \n",
    "dSn_R103_seen = pd.read_csv('../processedDatasets/fieldData_R3_seen_norm.txt', sep=' ', names=headers)\n",
    "dS_R103_seen = pd.read_csv('../processedDatasets/fieldData_R3_seen.txt', sep=' ', names=headers)\n",
    "\n",
    "# Re = 10^3 unseen\n",
    "dSn_R103_unseen_means = pd.read_csv('../processedDatasets/fieldData_R3_unseen_means.txt', sep=' ', names=headers) \n",
    "dSn_R103_unseen_scales = pd.read_csv('../processedDatasets/fieldData_R3_unseen_scales.txt', sep=' ', names=headers) \n",
    "dSn_R103_unseen = pd.read_csv('../processedDatasets/fieldData_R3_unseen_norm.txt', sep=' ', names=headers)\n",
    "dS_R103_unseen = pd.read_csv('../processedDatasets/fieldData_R3_unseen.txt', sep=' ', names=headers)"
   ]
  },
  {
   "cell_type": "markdown",
   "id": "a6c9a8ba",
   "metadata": {},
   "source": [
    "#### $\\mathcal Re = 5\\times 10^3$"
   ]
  },
  {
   "cell_type": "code",
   "execution_count": 5,
   "id": "d8b86fd5",
   "metadata": {},
   "outputs": [],
   "source": [
    "# Re = 5 x 10^3 seen\n",
    "dSn_R503_seen_means = pd.read_csv('../processedDatasets/fieldData_R53_seen_means.txt', sep=' ', names=headers) \n",
    "dSn_R503_seen_scales = pd.read_csv('../processedDatasets/fieldData_R53_seen_scales.txt', sep=' ', names=headers) \n",
    "dSn_R503_seen = pd.read_csv('../processedDatasets/fieldData_R53_seen_norm.txt', sep=' ', names=headers)\n",
    "dS_R503_seen = pd.read_csv('../processedDatasets/fieldData_R53_seen.txt', sep=' ', names=headers)\n",
    "\n",
    "# Re = 5 x 10^3 unseen\n",
    "dSn_R503_unseen_means = pd.read_csv('../processedDatasets/fieldData_R53_unseen_means.txt', sep=' ', names=headers) \n",
    "dSn_R503_unseen_scales = pd.read_csv('../processedDatasets/fieldData_R53_unseen_scales.txt', sep=' ', names=headers) \n",
    "dSn_R503_unseen = pd.read_csv('../processedDatasets/fieldData_R53_unseen_norm.txt', sep=' ', names=headers)\n",
    "dS_R503_unseen = pd.read_csv('../processedDatasets/fieldData_R53_unseen.txt', sep=' ', names=headers)"
   ]
  },
  {
   "cell_type": "markdown",
   "id": "2c881723",
   "metadata": {},
   "source": [
    "#### $\\mathcal Re = 10^4$"
   ]
  },
  {
   "cell_type": "code",
   "execution_count": 6,
   "id": "55edadd9",
   "metadata": {},
   "outputs": [],
   "source": [
    "# Re = 10^4 seen\n",
    "dSn_R104_seen_means = pd.read_csv('../processedDatasets/fieldData_R4_seen_means.txt', sep=' ', names=headers) \n",
    "dSn_R104_seen_scales = pd.read_csv('../processedDatasets/fieldData_R4_seen_scales.txt', sep=' ', names=headers) \n",
    "dSn_R104_seen = pd.read_csv('../processedDatasets/fieldData_R4_seen_norm.txt', sep=' ', names=headers)\n",
    "dS_R104_seen = pd.read_csv('../processedDatasets/fieldData_R4_seen.txt', sep=' ', names=headers)\n",
    "\n",
    "# Re = 10^4 unseen\n",
    "dSn_R104_unseen_means = pd.read_csv('../processedDatasets/fieldData_R4_unseen_means.txt', sep=' ', names=headers) \n",
    "dSn_R104_unseen_scales = pd.read_csv('../processedDatasets/fieldData_R4_unseen_scales.txt', sep=' ', names=headers) \n",
    "dSn_R104_unseen = pd.read_csv('../processedDatasets/fieldData_R4_unseen_norm.txt', sep=' ', names=headers)\n",
    "dS_R104_unseen = pd.read_csv('../processedDatasets/fieldData_R4_unseen.txt', sep=' ', names=headers)"
   ]
  },
  {
   "cell_type": "markdown",
   "id": "bad7e5f9",
   "metadata": {},
   "source": [
    "# Model Configuration Setup"
   ]
  },
  {
   "cell_type": "markdown",
   "id": "8510b339",
   "metadata": {},
   "source": [
    "In this section, we consider the different model configurations as presented in the following table.\n",
    "\n",
    "$$\n",
    "\\begin{array}{|l|c|c|c|c|}\n",
    "    \\hline\n",
    "    \\textbf{Model} & \\textbf{Inputs} & \\textbf{No. of Inputs} & \\textbf{Outputs} & \\textbf{No. of Outputs} \\\\\n",
    "    \\hline\n",
    "    \\mathbf{M1} & u_i \\, \\text{and} \\, \\mathcal{S}_{ij} & 9 & c_s & 1\\\\\n",
    "    \\mathbf{M2} & \\mathcal{G}_{ij} \\, \\text{and} \\, \\mathcal{S}_{ij} & 12 & c_s & 1 \\\\\n",
    "    \\mathbf{M3} & u_i \\, \\text{and} \\, \\tau^{'}_{ij} & 9 & c_s & 1 \\\\\n",
    "    \\mathbf{M4} & \\mathcal{G}_{ij} \\, \\text{and} \\, \\tau^{'}_{ij} & 12 & c_s & 1 \\\\\n",
    "    \\hline\n",
    "\\end{array}\n",
    "$$"
   ]
  },
  {
   "cell_type": "code",
   "execution_count": 7,
   "id": "2113f963",
   "metadata": {},
   "outputs": [],
   "source": [
    "R103 = dSn_R103_seen\n",
    "R503 = dSn_R503_seen\n",
    "R104 = dSn_R104_seen\n",
    "\n",
    "R103_un = dSn_R103_unseen\n",
    "R503_un = dSn_R503_unseen\n",
    "R104_un = dSn_R104_unseen"
   ]
  },
  {
   "cell_type": "code",
   "execution_count": 8,
   "id": "6483e8ef",
   "metadata": {},
   "outputs": [],
   "source": [
    "M1_headers = ['Ux', 'Uy', 'Uz', 'S1',  'S2', 'S3', 'S4', 'S5', 'S6', 'Cs']\n",
    "M2_headers = ['G1', 'G2', 'G3', 'G4', 'G5', 'G6', 'S1',  'S2', 'S3', 'S4', 'S5', 'S6', 'Cs']\n",
    "M3_headers = ['Ux', 'Uy', 'Uz', 'UUp1',  'UUp2', 'UUp3', 'UUp4', 'UUp5', 'UUp6', 'Cs']\n",
    "M4_headers = ['G1', 'G2', 'G3', 'G4', 'G5', 'G6', 'UUp1',  'UUp2', 'UUp3', 'UUp4', 'UUp5', 'UUp6', 'Cs']\n",
    "\n",
    "M1_103 = R103.filter(M1_headers, axis=1)\n",
    "M2_103 = R103.filter(M2_headers, axis=1)\n",
    "M3_103 = R103.filter(M3_headers, axis=1)\n",
    "M4_103 = R103.filter(M4_headers, axis=1)\n",
    "\n",
    "M1_503 = R503.filter(M1_headers, axis=1)\n",
    "M2_503 = R503.filter(M2_headers, axis=1)\n",
    "M3_503 = R503.filter(M3_headers, axis=1)\n",
    "M4_503 = R503.filter(M4_headers, axis=1)\n",
    "\n",
    "M1_104 = R104.filter(M1_headers, axis=1)\n",
    "M2_104 = R104.filter(M2_headers, axis=1)\n",
    "M3_104 = R104.filter(M3_headers, axis=1)\n",
    "M4_104 = R104.filter(M4_headers, axis=1)\n",
    "\n",
    "M1_103_test = R103_un.filter(M1_headers, axis=1)\n",
    "M2_103_test = R103_un.filter(M2_headers, axis=1)\n",
    "M3_103_test = R103_un.filter(M3_headers, axis=1)\n",
    "M4_103_test = R103_un.filter(M4_headers, axis=1)\n",
    "\n",
    "M1_503_test = R503_un.filter(M1_headers, axis=1)\n",
    "M2_503_test = R503_un.filter(M2_headers, axis=1)\n",
    "M3_503_test = R503_un.filter(M3_headers, axis=1)\n",
    "M4_503_test = R503_un.filter(M4_headers, axis=1)\n",
    "\n",
    "M1_104_test = R104_un.filter(M1_headers, axis=1)\n",
    "M2_104_test = R104_un.filter(M2_headers, axis=1)\n",
    "M3_104_test = R104_un.filter(M3_headers, axis=1)\n",
    "M4_104_test = R104_un.filter(M4_headers, axis=1)"
   ]
  },
  {
   "cell_type": "markdown",
   "id": "6e45f0bd",
   "metadata": {},
   "source": [
    "# Model Training"
   ]
  },
  {
   "cell_type": "code",
   "execution_count": 17,
   "id": "e100b5e0",
   "metadata": {},
   "outputs": [],
   "source": [
    "dt = M4_103\n",
    "dt_name = namestr(M4_103, globals())[0]"
   ]
  },
  {
   "cell_type": "code",
   "execution_count": 18,
   "id": "5d44cdfd",
   "metadata": {},
   "outputs": [],
   "source": [
    "output_size = 1\n",
    "input_size = dt.shape[1] - output_size \n",
    "neurons_per_layer = [60, 60, 60, 60, 60] \n",
    "hidden_layers = len(neurons_per_layer) \n",
    "\n",
    "split_sz = 0.8\n",
    "mask = np.random.rand(len(dt)) < split_sz\n",
    "train = dt[mask].reset_index(drop=True) \n",
    "val = dt[~mask].reset_index(drop=True)"
   ]
  },
  {
   "cell_type": "code",
   "execution_count": 19,
   "id": "0d554e4b",
   "metadata": {},
   "outputs": [
    {
     "data": {
      "text/html": [
       "<div>\n",
       "<style scoped>\n",
       "    .dataframe tbody tr th:only-of-type {\n",
       "        vertical-align: middle;\n",
       "    }\n",
       "\n",
       "    .dataframe tbody tr th {\n",
       "        vertical-align: top;\n",
       "    }\n",
       "\n",
       "    .dataframe thead th {\n",
       "        text-align: right;\n",
       "    }\n",
       "</style>\n",
       "<table border=\"1\" class=\"dataframe\">\n",
       "  <thead>\n",
       "    <tr style=\"text-align: right;\">\n",
       "      <th></th>\n",
       "      <th>G1</th>\n",
       "      <th>G2</th>\n",
       "      <th>G3</th>\n",
       "      <th>G4</th>\n",
       "      <th>G5</th>\n",
       "      <th>G6</th>\n",
       "      <th>UUp1</th>\n",
       "      <th>UUp2</th>\n",
       "      <th>UUp3</th>\n",
       "      <th>UUp4</th>\n",
       "      <th>UUp5</th>\n",
       "      <th>UUp6</th>\n",
       "      <th>Cs</th>\n",
       "    </tr>\n",
       "  </thead>\n",
       "  <tbody>\n",
       "    <tr>\n",
       "      <th>0</th>\n",
       "      <td>0.179013</td>\n",
       "      <td>-1.056645</td>\n",
       "      <td>0.059678</td>\n",
       "      <td>0.133641</td>\n",
       "      <td>0.681956</td>\n",
       "      <td>0.174060</td>\n",
       "      <td>-0.712982</td>\n",
       "      <td>-0.062303</td>\n",
       "      <td>-0.013639</td>\n",
       "      <td>-0.779575</td>\n",
       "      <td>-0.305482</td>\n",
       "      <td>-0.757006</td>\n",
       "      <td>5.377695</td>\n",
       "    </tr>\n",
       "    <tr>\n",
       "      <th>1</th>\n",
       "      <td>-0.009625</td>\n",
       "      <td>-0.032130</td>\n",
       "      <td>0.017649</td>\n",
       "      <td>-0.012303</td>\n",
       "      <td>0.059045</td>\n",
       "      <td>-0.041634</td>\n",
       "      <td>-0.549870</td>\n",
       "      <td>0.205258</td>\n",
       "      <td>-0.137245</td>\n",
       "      <td>-0.407673</td>\n",
       "      <td>-0.680971</td>\n",
       "      <td>-0.568597</td>\n",
       "      <td>-0.518536</td>\n",
       "    </tr>\n",
       "    <tr>\n",
       "      <th>2</th>\n",
       "      <td>0.036092</td>\n",
       "      <td>-0.107078</td>\n",
       "      <td>0.150001</td>\n",
       "      <td>-0.029983</td>\n",
       "      <td>-0.129665</td>\n",
       "      <td>0.218191</td>\n",
       "      <td>-0.675243</td>\n",
       "      <td>-0.106069</td>\n",
       "      <td>0.025585</td>\n",
       "      <td>-0.546227</td>\n",
       "      <td>-0.824187</td>\n",
       "      <td>-0.586783</td>\n",
       "      <td>0.014761</td>\n",
       "    </tr>\n",
       "    <tr>\n",
       "      <th>3</th>\n",
       "      <td>-0.124293</td>\n",
       "      <td>0.023164</td>\n",
       "      <td>-0.383953</td>\n",
       "      <td>0.083074</td>\n",
       "      <td>-0.033031</td>\n",
       "      <td>-0.427643</td>\n",
       "      <td>1.132239</td>\n",
       "      <td>-1.725099</td>\n",
       "      <td>2.311650</td>\n",
       "      <td>1.591560</td>\n",
       "      <td>-0.375592</td>\n",
       "      <td>1.433032</td>\n",
       "      <td>-0.474977</td>\n",
       "    </tr>\n",
       "    <tr>\n",
       "      <th>4</th>\n",
       "      <td>0.283349</td>\n",
       "      <td>0.021385</td>\n",
       "      <td>-0.187639</td>\n",
       "      <td>0.018320</td>\n",
       "      <td>0.030496</td>\n",
       "      <td>0.394027</td>\n",
       "      <td>-0.481485</td>\n",
       "      <td>-0.342886</td>\n",
       "      <td>-0.005546</td>\n",
       "      <td>-0.454776</td>\n",
       "      <td>-0.504209</td>\n",
       "      <td>-0.623866</td>\n",
       "      <td>0.235588</td>\n",
       "    </tr>\n",
       "    <tr>\n",
       "      <th>...</th>\n",
       "      <td>...</td>\n",
       "      <td>...</td>\n",
       "      <td>...</td>\n",
       "      <td>...</td>\n",
       "      <td>...</td>\n",
       "      <td>...</td>\n",
       "      <td>...</td>\n",
       "      <td>...</td>\n",
       "      <td>...</td>\n",
       "      <td>...</td>\n",
       "      <td>...</td>\n",
       "      <td>...</td>\n",
       "      <td>...</td>\n",
       "    </tr>\n",
       "    <tr>\n",
       "      <th>559565</th>\n",
       "      <td>0.386222</td>\n",
       "      <td>0.586988</td>\n",
       "      <td>-0.052522</td>\n",
       "      <td>0.719699</td>\n",
       "      <td>-0.307615</td>\n",
       "      <td>-0.199605</td>\n",
       "      <td>-0.414118</td>\n",
       "      <td>-0.290010</td>\n",
       "      <td>-0.208508</td>\n",
       "      <td>-0.567458</td>\n",
       "      <td>0.019512</td>\n",
       "      <td>-0.593034</td>\n",
       "      <td>-0.330632</td>\n",
       "    </tr>\n",
       "    <tr>\n",
       "      <th>559566</th>\n",
       "      <td>0.053151</td>\n",
       "      <td>0.024931</td>\n",
       "      <td>-0.016800</td>\n",
       "      <td>0.000003</td>\n",
       "      <td>0.034749</td>\n",
       "      <td>0.018040</td>\n",
       "      <td>0.016895</td>\n",
       "      <td>0.670161</td>\n",
       "      <td>0.567272</td>\n",
       "      <td>-0.098345</td>\n",
       "      <td>1.449329</td>\n",
       "      <td>-0.272631</td>\n",
       "      <td>0.216397</td>\n",
       "    </tr>\n",
       "    <tr>\n",
       "      <th>559567</th>\n",
       "      <td>-0.082247</td>\n",
       "      <td>0.120722</td>\n",
       "      <td>-0.176876</td>\n",
       "      <td>0.045676</td>\n",
       "      <td>0.006784</td>\n",
       "      <td>-0.247584</td>\n",
       "      <td>-0.570250</td>\n",
       "      <td>-0.249275</td>\n",
       "      <td>0.140189</td>\n",
       "      <td>-0.243682</td>\n",
       "      <td>-0.458520</td>\n",
       "      <td>-0.379598</td>\n",
       "      <td>-0.575114</td>\n",
       "    </tr>\n",
       "    <tr>\n",
       "      <th>559568</th>\n",
       "      <td>0.063029</td>\n",
       "      <td>0.249171</td>\n",
       "      <td>-0.168462</td>\n",
       "      <td>0.067508</td>\n",
       "      <td>-0.122395</td>\n",
       "      <td>0.167455</td>\n",
       "      <td>-0.714000</td>\n",
       "      <td>-0.062859</td>\n",
       "      <td>-0.013352</td>\n",
       "      <td>-0.780154</td>\n",
       "      <td>-0.307578</td>\n",
       "      <td>-0.758195</td>\n",
       "      <td>0.228152</td>\n",
       "    </tr>\n",
       "    <tr>\n",
       "      <th>559569</th>\n",
       "      <td>-0.153992</td>\n",
       "      <td>-0.095190</td>\n",
       "      <td>0.153550</td>\n",
       "      <td>-0.033519</td>\n",
       "      <td>0.070371</td>\n",
       "      <td>0.271690</td>\n",
       "      <td>0.019708</td>\n",
       "      <td>-0.580775</td>\n",
       "      <td>-1.017932</td>\n",
       "      <td>-0.321318</td>\n",
       "      <td>1.272114</td>\n",
       "      <td>-0.076838</td>\n",
       "      <td>-0.302533</td>\n",
       "    </tr>\n",
       "  </tbody>\n",
       "</table>\n",
       "<p>559570 rows × 13 columns</p>\n",
       "</div>"
      ],
      "text/plain": [
       "              G1        G2        G3        G4        G5        G6      UUp1  \\\n",
       "0       0.179013 -1.056645  0.059678  0.133641  0.681956  0.174060 -0.712982   \n",
       "1      -0.009625 -0.032130  0.017649 -0.012303  0.059045 -0.041634 -0.549870   \n",
       "2       0.036092 -0.107078  0.150001 -0.029983 -0.129665  0.218191 -0.675243   \n",
       "3      -0.124293  0.023164 -0.383953  0.083074 -0.033031 -0.427643  1.132239   \n",
       "4       0.283349  0.021385 -0.187639  0.018320  0.030496  0.394027 -0.481485   \n",
       "...          ...       ...       ...       ...       ...       ...       ...   \n",
       "559565  0.386222  0.586988 -0.052522  0.719699 -0.307615 -0.199605 -0.414118   \n",
       "559566  0.053151  0.024931 -0.016800  0.000003  0.034749  0.018040  0.016895   \n",
       "559567 -0.082247  0.120722 -0.176876  0.045676  0.006784 -0.247584 -0.570250   \n",
       "559568  0.063029  0.249171 -0.168462  0.067508 -0.122395  0.167455 -0.714000   \n",
       "559569 -0.153992 -0.095190  0.153550 -0.033519  0.070371  0.271690  0.019708   \n",
       "\n",
       "            UUp2      UUp3      UUp4      UUp5      UUp6        Cs  \n",
       "0      -0.062303 -0.013639 -0.779575 -0.305482 -0.757006  5.377695  \n",
       "1       0.205258 -0.137245 -0.407673 -0.680971 -0.568597 -0.518536  \n",
       "2      -0.106069  0.025585 -0.546227 -0.824187 -0.586783  0.014761  \n",
       "3      -1.725099  2.311650  1.591560 -0.375592  1.433032 -0.474977  \n",
       "4      -0.342886 -0.005546 -0.454776 -0.504209 -0.623866  0.235588  \n",
       "...          ...       ...       ...       ...       ...       ...  \n",
       "559565 -0.290010 -0.208508 -0.567458  0.019512 -0.593034 -0.330632  \n",
       "559566  0.670161  0.567272 -0.098345  1.449329 -0.272631  0.216397  \n",
       "559567 -0.249275  0.140189 -0.243682 -0.458520 -0.379598 -0.575114  \n",
       "559568 -0.062859 -0.013352 -0.780154 -0.307578 -0.758195  0.228152  \n",
       "559569 -0.580775 -1.017932 -0.321318  1.272114 -0.076838 -0.302533  \n",
       "\n",
       "[559570 rows x 13 columns]"
      ]
     },
     "execution_count": 19,
     "metadata": {},
     "output_type": "execute_result"
    }
   ],
   "source": [
    "train"
   ]
  },
  {
   "cell_type": "code",
   "execution_count": 20,
   "id": "da951a61",
   "metadata": {},
   "outputs": [
    {
     "data": {
      "text/html": [
       "<div>\n",
       "<style scoped>\n",
       "    .dataframe tbody tr th:only-of-type {\n",
       "        vertical-align: middle;\n",
       "    }\n",
       "\n",
       "    .dataframe tbody tr th {\n",
       "        vertical-align: top;\n",
       "    }\n",
       "\n",
       "    .dataframe thead th {\n",
       "        text-align: right;\n",
       "    }\n",
       "</style>\n",
       "<table border=\"1\" class=\"dataframe\">\n",
       "  <thead>\n",
       "    <tr style=\"text-align: right;\">\n",
       "      <th></th>\n",
       "      <th>G1</th>\n",
       "      <th>G2</th>\n",
       "      <th>G3</th>\n",
       "      <th>G4</th>\n",
       "      <th>G5</th>\n",
       "      <th>G6</th>\n",
       "      <th>UUp1</th>\n",
       "      <th>UUp2</th>\n",
       "      <th>UUp3</th>\n",
       "      <th>UUp4</th>\n",
       "      <th>UUp5</th>\n",
       "      <th>UUp6</th>\n",
       "      <th>Cs</th>\n",
       "    </tr>\n",
       "  </thead>\n",
       "  <tbody>\n",
       "    <tr>\n",
       "      <th>0</th>\n",
       "      <td>0.199419</td>\n",
       "      <td>-0.513504</td>\n",
       "      <td>0.131127</td>\n",
       "      <td>0.344063</td>\n",
       "      <td>-0.875082</td>\n",
       "      <td>-0.698431</td>\n",
       "      <td>-0.062009</td>\n",
       "      <td>0.056643</td>\n",
       "      <td>-0.472813</td>\n",
       "      <td>0.386514</td>\n",
       "      <td>-0.272735</td>\n",
       "      <td>0.245461</td>\n",
       "      <td>0.762858</td>\n",
       "    </tr>\n",
       "    <tr>\n",
       "      <th>1</th>\n",
       "      <td>0.364695</td>\n",
       "      <td>-0.219753</td>\n",
       "      <td>0.175665</td>\n",
       "      <td>0.439121</td>\n",
       "      <td>-1.504213</td>\n",
       "      <td>-1.520131</td>\n",
       "      <td>-0.234714</td>\n",
       "      <td>0.198004</td>\n",
       "      <td>0.313033</td>\n",
       "      <td>0.499344</td>\n",
       "      <td>-0.297273</td>\n",
       "      <td>0.443874</td>\n",
       "      <td>-0.337598</td>\n",
       "    </tr>\n",
       "    <tr>\n",
       "      <th>2</th>\n",
       "      <td>0.034143</td>\n",
       "      <td>0.101562</td>\n",
       "      <td>-0.030681</td>\n",
       "      <td>0.036390</td>\n",
       "      <td>-0.127633</td>\n",
       "      <td>-0.008348</td>\n",
       "      <td>-0.410421</td>\n",
       "      <td>-0.444282</td>\n",
       "      <td>0.068060</td>\n",
       "      <td>-0.370405</td>\n",
       "      <td>-0.741492</td>\n",
       "      <td>-0.508605</td>\n",
       "      <td>0.211003</td>\n",
       "    </tr>\n",
       "    <tr>\n",
       "      <th>3</th>\n",
       "      <td>0.061518</td>\n",
       "      <td>-0.760926</td>\n",
       "      <td>-0.358545</td>\n",
       "      <td>-0.019007</td>\n",
       "      <td>-0.295744</td>\n",
       "      <td>-0.382367</td>\n",
       "      <td>-0.298655</td>\n",
       "      <td>0.085456</td>\n",
       "      <td>-0.559509</td>\n",
       "      <td>-0.382667</td>\n",
       "      <td>-0.530760</td>\n",
       "      <td>-0.210946</td>\n",
       "      <td>0.548835</td>\n",
       "    </tr>\n",
       "    <tr>\n",
       "      <th>4</th>\n",
       "      <td>0.094109</td>\n",
       "      <td>-0.110199</td>\n",
       "      <td>-0.175466</td>\n",
       "      <td>0.635107</td>\n",
       "      <td>0.207723</td>\n",
       "      <td>-0.348811</td>\n",
       "      <td>-0.050728</td>\n",
       "      <td>-0.988149</td>\n",
       "      <td>-0.025658</td>\n",
       "      <td>0.188608</td>\n",
       "      <td>-0.180260</td>\n",
       "      <td>-0.015511</td>\n",
       "      <td>-0.125123</td>\n",
       "    </tr>\n",
       "    <tr>\n",
       "      <th>...</th>\n",
       "      <td>...</td>\n",
       "      <td>...</td>\n",
       "      <td>...</td>\n",
       "      <td>...</td>\n",
       "      <td>...</td>\n",
       "      <td>...</td>\n",
       "      <td>...</td>\n",
       "      <td>...</td>\n",
       "      <td>...</td>\n",
       "      <td>...</td>\n",
       "      <td>...</td>\n",
       "      <td>...</td>\n",
       "      <td>...</td>\n",
       "    </tr>\n",
       "    <tr>\n",
       "      <th>140425</th>\n",
       "      <td>-0.153342</td>\n",
       "      <td>0.046591</td>\n",
       "      <td>-0.202797</td>\n",
       "      <td>0.009197</td>\n",
       "      <td>-0.021060</td>\n",
       "      <td>-0.178875</td>\n",
       "      <td>-0.689692</td>\n",
       "      <td>-0.050586</td>\n",
       "      <td>-0.034499</td>\n",
       "      <td>-0.731649</td>\n",
       "      <td>-0.571031</td>\n",
       "      <td>-0.661013</td>\n",
       "      <td>-0.549827</td>\n",
       "    </tr>\n",
       "    <tr>\n",
       "      <th>140426</th>\n",
       "      <td>0.172596</td>\n",
       "      <td>-0.279961</td>\n",
       "      <td>-0.342342</td>\n",
       "      <td>-0.090579</td>\n",
       "      <td>-0.012725</td>\n",
       "      <td>-0.387142</td>\n",
       "      <td>-0.713165</td>\n",
       "      <td>-0.060867</td>\n",
       "      <td>-0.012766</td>\n",
       "      <td>-0.779642</td>\n",
       "      <td>-0.305282</td>\n",
       "      <td>-0.757829</td>\n",
       "      <td>0.335641</td>\n",
       "    </tr>\n",
       "    <tr>\n",
       "      <th>140427</th>\n",
       "      <td>1.618197</td>\n",
       "      <td>-1.339991</td>\n",
       "      <td>-0.528364</td>\n",
       "      <td>3.223153</td>\n",
       "      <td>0.699241</td>\n",
       "      <td>-0.114258</td>\n",
       "      <td>3.932996</td>\n",
       "      <td>-2.976239</td>\n",
       "      <td>-2.537021</td>\n",
       "      <td>0.507168</td>\n",
       "      <td>-0.620525</td>\n",
       "      <td>0.824253</td>\n",
       "      <td>-0.494859</td>\n",
       "    </tr>\n",
       "    <tr>\n",
       "      <th>140428</th>\n",
       "      <td>1.392144</td>\n",
       "      <td>0.147587</td>\n",
       "      <td>1.591455</td>\n",
       "      <td>-0.654324</td>\n",
       "      <td>-1.196562</td>\n",
       "      <td>5.626526</td>\n",
       "      <td>3.800836</td>\n",
       "      <td>5.478007</td>\n",
       "      <td>3.816482</td>\n",
       "      <td>3.871056</td>\n",
       "      <td>2.179870</td>\n",
       "      <td>3.252265</td>\n",
       "      <td>0.457446</td>\n",
       "    </tr>\n",
       "    <tr>\n",
       "      <th>140429</th>\n",
       "      <td>-0.153261</td>\n",
       "      <td>-0.046634</td>\n",
       "      <td>-0.311105</td>\n",
       "      <td>0.089375</td>\n",
       "      <td>-0.196775</td>\n",
       "      <td>-0.235038</td>\n",
       "      <td>0.626400</td>\n",
       "      <td>0.554254</td>\n",
       "      <td>1.668686</td>\n",
       "      <td>0.208508</td>\n",
       "      <td>0.899013</td>\n",
       "      <td>0.575358</td>\n",
       "      <td>-0.424977</td>\n",
       "    </tr>\n",
       "  </tbody>\n",
       "</table>\n",
       "<p>140430 rows × 13 columns</p>\n",
       "</div>"
      ],
      "text/plain": [
       "              G1        G2        G3        G4        G5        G6      UUp1  \\\n",
       "0       0.199419 -0.513504  0.131127  0.344063 -0.875082 -0.698431 -0.062009   \n",
       "1       0.364695 -0.219753  0.175665  0.439121 -1.504213 -1.520131 -0.234714   \n",
       "2       0.034143  0.101562 -0.030681  0.036390 -0.127633 -0.008348 -0.410421   \n",
       "3       0.061518 -0.760926 -0.358545 -0.019007 -0.295744 -0.382367 -0.298655   \n",
       "4       0.094109 -0.110199 -0.175466  0.635107  0.207723 -0.348811 -0.050728   \n",
       "...          ...       ...       ...       ...       ...       ...       ...   \n",
       "140425 -0.153342  0.046591 -0.202797  0.009197 -0.021060 -0.178875 -0.689692   \n",
       "140426  0.172596 -0.279961 -0.342342 -0.090579 -0.012725 -0.387142 -0.713165   \n",
       "140427  1.618197 -1.339991 -0.528364  3.223153  0.699241 -0.114258  3.932996   \n",
       "140428  1.392144  0.147587  1.591455 -0.654324 -1.196562  5.626526  3.800836   \n",
       "140429 -0.153261 -0.046634 -0.311105  0.089375 -0.196775 -0.235038  0.626400   \n",
       "\n",
       "            UUp2      UUp3      UUp4      UUp5      UUp6        Cs  \n",
       "0       0.056643 -0.472813  0.386514 -0.272735  0.245461  0.762858  \n",
       "1       0.198004  0.313033  0.499344 -0.297273  0.443874 -0.337598  \n",
       "2      -0.444282  0.068060 -0.370405 -0.741492 -0.508605  0.211003  \n",
       "3       0.085456 -0.559509 -0.382667 -0.530760 -0.210946  0.548835  \n",
       "4      -0.988149 -0.025658  0.188608 -0.180260 -0.015511 -0.125123  \n",
       "...          ...       ...       ...       ...       ...       ...  \n",
       "140425 -0.050586 -0.034499 -0.731649 -0.571031 -0.661013 -0.549827  \n",
       "140426 -0.060867 -0.012766 -0.779642 -0.305282 -0.757829  0.335641  \n",
       "140427 -2.976239 -2.537021  0.507168 -0.620525  0.824253 -0.494859  \n",
       "140428  5.478007  3.816482  3.871056  2.179870  3.252265  0.457446  \n",
       "140429  0.554254  1.668686  0.208508  0.899013  0.575358 -0.424977  \n",
       "\n",
       "[140430 rows x 13 columns]"
      ]
     },
     "execution_count": 20,
     "metadata": {},
     "output_type": "execute_result"
    }
   ],
   "source": [
    "val"
   ]
  },
  {
   "cell_type": "code",
   "execution_count": 21,
   "id": "6fca694c",
   "metadata": {},
   "outputs": [],
   "source": [
    "batch_sz_trn = 4096\n",
    "batch_sz_val = int(batch_sz_trn / 4)\n",
    "\n",
    "train_dataset = MyDataset(train)\n",
    "val_dataset = MyDataset(val)\n",
    "\n",
    "train_loader = torch.utils.data.DataLoader(dataset=train_dataset, batch_size=batch_sz_trn, shuffle=True)\n",
    "val_loader = torch.utils.data.DataLoader(dataset=val_dataset, batch_size=batch_sz_val, shuffle=True)"
   ]
  },
  {
   "cell_type": "code",
   "execution_count": 22,
   "id": "3a5211e7",
   "metadata": {},
   "outputs": [
    {
     "data": {
      "text/plain": [
       "tensor([-0.0783, -0.1465,  0.0995, -0.0387,  0.0247, -0.1710, -0.1805, -0.5435,\n",
       "         0.5049, -0.2325, -0.4339, -0.0593, -0.4817], dtype=torch.float64)"
      ]
     },
     "execution_count": 22,
     "metadata": {},
     "output_type": "execute_result"
    }
   ],
   "source": [
    "data_iter = iter(train_loader)\n",
    "next(data_iter)[0]"
   ]
  },
  {
   "cell_type": "code",
   "execution_count": 23,
   "id": "39caa9bb",
   "metadata": {},
   "outputs": [
    {
     "data": {
      "text/plain": [
       "MLPModel(\n",
       "  (block): Sequential(\n",
       "    (0): Linear(in_features=12, out_features=60, bias=True)\n",
       "    (1): ReLU()\n",
       "    (2): Linear(in_features=60, out_features=60, bias=True)\n",
       "    (3): ReLU()\n",
       "    (4): Linear(in_features=60, out_features=60, bias=True)\n",
       "    (5): ReLU()\n",
       "    (6): Linear(in_features=60, out_features=60, bias=True)\n",
       "    (7): ReLU()\n",
       "    (8): Linear(in_features=60, out_features=60, bias=True)\n",
       "    (9): ReLU()\n",
       "    (10): Linear(in_features=60, out_features=1, bias=True)\n",
       "  )\n",
       ")"
      ]
     },
     "execution_count": 23,
     "metadata": {},
     "output_type": "execute_result"
    }
   ],
   "source": [
    "model = MLPModel(input_size=input_size, \n",
    "                 output_size=output_size, \n",
    "                 hidden_layers=hidden_layers, \n",
    "                 neurons_per_layer=neurons_per_layer)\n",
    "\n",
    "optimizer = torch.optim.Adam(model.parameters(), lr=0.001)\n",
    "scheduler = StepLR(optimizer, step_size=3, gamma=0.2)\n",
    "\n",
    "device = torch.device(\"cuda\")\n",
    "model.to(device)\n",
    "model.double()"
   ]
  },
  {
   "cell_type": "code",
   "execution_count": 24,
   "id": "9f67098e",
   "metadata": {},
   "outputs": [
    {
     "name": "stderr",
     "output_type": "stream",
     "text": [
      "Train: 100%|██████████| 137/137 [00:20<00:00,  6.68batch/s]\n",
      "Valid: 100%|██████████| 138/138 [00:05<00:00, 26.06batch/s]\n"
     ]
    },
    {
     "name": "stdout",
     "output_type": "stream",
     "text": [
      "Epoch 1/6000, Train Loss: 0.8527, Train Coeff: -1754.2955, Val Loss: 0.5737, Val Coeff: -0.9258, Time: 25.82 sec\n"
     ]
    },
    {
     "name": "stderr",
     "output_type": "stream",
     "text": [
      "Train: 100%|██████████| 137/137 [00:20<00:00,  6.68batch/s]\n",
      "Valid: 100%|██████████| 138/138 [00:05<00:00, 26.18batch/s]\n"
     ]
    },
    {
     "name": "stdout",
     "output_type": "stream",
     "text": [
      "Epoch 2/6000, Train Loss: 0.5470, Train Coeff: -0.3519, Val Loss: 0.4611, Val Coeff: -0.4175, Time: 25.79 sec\n"
     ]
    },
    {
     "name": "stderr",
     "output_type": "stream",
     "text": [
      "Train: 100%|██████████| 137/137 [00:20<00:00,  6.70batch/s]\n",
      "Valid: 100%|██████████| 138/138 [00:05<00:00, 25.79batch/s]\n"
     ]
    },
    {
     "name": "stdout",
     "output_type": "stream",
     "text": [
      "Epoch 3/6000, Train Loss: 0.4610, Train Coeff: 0.0458, Val Loss: 0.4121, Val Coeff: -0.0554, Time: 25.82 sec\n"
     ]
    },
    {
     "name": "stderr",
     "output_type": "stream",
     "text": [
      "Train: 100%|██████████| 137/137 [00:20<00:00,  6.72batch/s]\n",
      "Valid: 100%|██████████| 138/138 [00:05<00:00, 25.76batch/s]\n"
     ]
    },
    {
     "name": "stdout",
     "output_type": "stream",
     "text": [
      "Epoch 4/6000, Train Loss: 0.4071, Train Coeff: 0.2475, Val Loss: 0.3823, Val Coeff: 0.1057, Time: 25.77 sec\n"
     ]
    },
    {
     "name": "stderr",
     "output_type": "stream",
     "text": [
      "Train: 100%|██████████| 137/137 [00:20<00:00,  6.72batch/s]\n",
      "Valid: 100%|██████████| 138/138 [00:05<00:00, 25.90batch/s]\n"
     ]
    },
    {
     "name": "stdout",
     "output_type": "stream",
     "text": [
      "Epoch 5/6000, Train Loss: 0.3912, Train Coeff: 0.3085, Val Loss: 0.3691, Val Coeff: 0.2525, Time: 25.72 sec\n"
     ]
    },
    {
     "name": "stderr",
     "output_type": "stream",
     "text": [
      "Train: 100%|██████████| 137/137 [00:20<00:00,  6.73batch/s]\n",
      "Valid: 100%|██████████| 138/138 [00:05<00:00, 25.82batch/s]\n"
     ]
    },
    {
     "name": "stdout",
     "output_type": "stream",
     "text": [
      "Epoch 6/6000, Train Loss: 0.3801, Train Coeff: 0.3409, Val Loss: 0.3620, Val Coeff: 0.3716, Time: 25.71 sec\n"
     ]
    },
    {
     "name": "stderr",
     "output_type": "stream",
     "text": [
      "Train: 100%|██████████| 137/137 [00:20<00:00,  6.72batch/s]\n",
      "Valid: 100%|██████████| 138/138 [00:05<00:00, 25.95batch/s]\n"
     ]
    },
    {
     "name": "stdout",
     "output_type": "stream",
     "text": [
      "Epoch 7/6000, Train Loss: 0.3701, Train Coeff: 0.3745, Val Loss: 0.3566, Val Coeff: 0.2582, Time: 25.72 sec\n"
     ]
    },
    {
     "name": "stderr",
     "output_type": "stream",
     "text": [
      "Train: 100%|██████████| 137/137 [00:20<00:00,  6.71batch/s]\n",
      "Valid: 100%|██████████| 138/138 [00:05<00:00, 25.76batch/s]\n"
     ]
    },
    {
     "name": "stdout",
     "output_type": "stream",
     "text": [
      "Epoch 8/6000, Train Loss: 0.3681, Train Coeff: 0.3703, Val Loss: 0.3543, Val Coeff: 0.3417, Time: 25.80 sec\n"
     ]
    },
    {
     "name": "stderr",
     "output_type": "stream",
     "text": [
      "Train: 100%|██████████| 137/137 [00:20<00:00,  6.73batch/s]\n",
      "Valid: 100%|██████████| 138/138 [00:05<00:00, 26.20batch/s]\n"
     ]
    },
    {
     "name": "stdout",
     "output_type": "stream",
     "text": [
      "Epoch 9/6000, Train Loss: 0.3651, Train Coeff: 0.3843, Val Loss: 0.3516, Val Coeff: 0.3389, Time: 25.65 sec\n"
     ]
    },
    {
     "name": "stderr",
     "output_type": "stream",
     "text": [
      "Train: 100%|██████████| 137/137 [00:20<00:00,  6.69batch/s]\n",
      "Valid: 100%|██████████| 138/138 [00:05<00:00, 26.23batch/s]\n"
     ]
    },
    {
     "name": "stdout",
     "output_type": "stream",
     "text": [
      "Epoch 10/6000, Train Loss: 0.3625, Train Coeff: 0.3946, Val Loss: 0.3511, Val Coeff: 0.3062, Time: 25.74 sec\n"
     ]
    },
    {
     "name": "stderr",
     "output_type": "stream",
     "text": [
      "Train: 100%|██████████| 137/137 [00:20<00:00,  6.65batch/s]\n",
      "Valid: 100%|██████████| 138/138 [00:05<00:00, 25.96batch/s]\n"
     ]
    },
    {
     "name": "stdout",
     "output_type": "stream",
     "text": [
      "Epoch 11/6000, Train Loss: 0.3622, Train Coeff: 0.3938, Val Loss: 0.3503, Val Coeff: 0.3142, Time: 25.94 sec\n"
     ]
    },
    {
     "name": "stderr",
     "output_type": "stream",
     "text": [
      "Train: 100%|██████████| 137/137 [00:20<00:00,  6.64batch/s]\n",
      "Valid: 100%|██████████| 138/138 [00:05<00:00, 26.23batch/s]\n"
     ]
    },
    {
     "name": "stdout",
     "output_type": "stream",
     "text": [
      "Epoch 12/6000, Train Loss: 0.3622, Train Coeff: 0.3910, Val Loss: 0.3504, Val Coeff: 0.3308, Time: 25.92 sec\n"
     ]
    },
    {
     "name": "stderr",
     "output_type": "stream",
     "text": [
      "Train: 100%|██████████| 137/137 [00:20<00:00,  6.65batch/s]\n",
      "Valid: 100%|██████████| 138/138 [00:05<00:00, 26.05batch/s]\n"
     ]
    },
    {
     "name": "stdout",
     "output_type": "stream",
     "text": [
      "Epoch 13/6000, Train Loss: 0.3611, Train Coeff: 0.3981, Val Loss: 0.3508, Val Coeff: 0.3265, Time: 25.92 sec\n"
     ]
    },
    {
     "name": "stderr",
     "output_type": "stream",
     "text": [
      "Train: 100%|██████████| 137/137 [00:20<00:00,  6.65batch/s]\n",
      "Valid: 100%|██████████| 138/138 [00:05<00:00, 26.09batch/s]\n"
     ]
    },
    {
     "name": "stdout",
     "output_type": "stream",
     "text": [
      "Epoch 14/6000, Train Loss: 0.3615, Train Coeff: 0.3880, Val Loss: 0.3586, Val Coeff: 0.3154, Time: 25.89 sec\n"
     ]
    },
    {
     "name": "stderr",
     "output_type": "stream",
     "text": [
      "Train: 100%|██████████| 137/137 [00:20<00:00,  6.67batch/s]\n",
      "Valid: 100%|██████████| 138/138 [00:05<00:00, 25.92batch/s]\n"
     ]
    },
    {
     "name": "stdout",
     "output_type": "stream",
     "text": [
      "Epoch 15/6000, Train Loss: 0.3609, Train Coeff: 0.3949, Val Loss: 0.3497, Val Coeff: 0.3124, Time: 25.88 sec\n"
     ]
    },
    {
     "name": "stderr",
     "output_type": "stream",
     "text": [
      "Train: 100%|██████████| 137/137 [00:20<00:00,  6.69batch/s]\n",
      "Valid: 100%|██████████| 138/138 [00:05<00:00, 26.12batch/s]\n"
     ]
    },
    {
     "name": "stdout",
     "output_type": "stream",
     "text": [
      "Epoch 16/6000, Train Loss: 0.3609, Train Coeff: 0.4008, Val Loss: 0.3514, Val Coeff: 0.3459, Time: 25.76 sec\n"
     ]
    },
    {
     "name": "stderr",
     "output_type": "stream",
     "text": [
      "Train: 100%|██████████| 137/137 [00:20<00:00,  6.66batch/s]\n",
      "Valid: 100%|██████████| 138/138 [00:05<00:00, 26.13batch/s]\n"
     ]
    },
    {
     "name": "stdout",
     "output_type": "stream",
     "text": [
      "Epoch 17/6000, Train Loss: 0.3607, Train Coeff: 0.4020, Val Loss: 0.3499, Val Coeff: 0.3253, Time: 25.86 sec\n"
     ]
    },
    {
     "name": "stderr",
     "output_type": "stream",
     "text": [
      "Train: 100%|██████████| 137/137 [00:20<00:00,  6.69batch/s]\n",
      "Valid: 100%|██████████| 138/138 [00:05<00:00, 25.99batch/s]\n"
     ]
    },
    {
     "name": "stdout",
     "output_type": "stream",
     "text": [
      "Epoch 18/6000, Train Loss: 0.3614, Train Coeff: 0.3989, Val Loss: 0.3533, Val Coeff: 0.3353, Time: 25.79 sec\n"
     ]
    },
    {
     "name": "stderr",
     "output_type": "stream",
     "text": [
      "Train: 100%|██████████| 137/137 [00:20<00:00,  6.69batch/s]\n",
      "Valid: 100%|██████████| 138/138 [00:05<00:00, 26.01batch/s]\n"
     ]
    },
    {
     "name": "stdout",
     "output_type": "stream",
     "text": [
      "Epoch 19/6000, Train Loss: 0.3609, Train Coeff: 0.3975, Val Loss: 0.3501, Val Coeff: 0.3243, Time: 25.79 sec\n"
     ]
    },
    {
     "name": "stderr",
     "output_type": "stream",
     "text": [
      "Train: 100%|██████████| 137/137 [00:20<00:00,  6.65batch/s]\n",
      "Valid: 100%|██████████| 138/138 [00:05<00:00, 26.01batch/s]\n"
     ]
    },
    {
     "name": "stdout",
     "output_type": "stream",
     "text": [
      "Epoch 20/6000, Train Loss: 0.3608, Train Coeff: 0.3992, Val Loss: 0.3496, Val Coeff: 0.3270, Time: 25.91 sec\n"
     ]
    },
    {
     "name": "stderr",
     "output_type": "stream",
     "text": [
      "Train: 100%|██████████| 137/137 [00:20<00:00,  6.67batch/s]\n",
      "Valid: 100%|██████████| 138/138 [00:05<00:00, 26.03batch/s]\n"
     ]
    },
    {
     "name": "stdout",
     "output_type": "stream",
     "text": [
      "Epoch 21/6000, Train Loss: 0.3611, Train Coeff: 0.3934, Val Loss: 0.3504, Val Coeff: 0.2827, Time: 25.86 sec\n"
     ]
    },
    {
     "name": "stderr",
     "output_type": "stream",
     "text": [
      "Train: 100%|██████████| 137/137 [00:20<00:00,  6.68batch/s]\n",
      "Valid: 100%|██████████| 138/138 [00:05<00:00, 25.80batch/s]\n"
     ]
    },
    {
     "name": "stdout",
     "output_type": "stream",
     "text": [
      "Epoch 22/6000, Train Loss: 0.3611, Train Coeff: 0.3949, Val Loss: 0.3496, Val Coeff: 0.3474, Time: 25.86 sec\n"
     ]
    },
    {
     "name": "stderr",
     "output_type": "stream",
     "text": [
      "Train: 100%|██████████| 137/137 [00:20<00:00,  6.66batch/s]\n",
      "Valid: 100%|██████████| 138/138 [00:05<00:00, 25.97batch/s]\n"
     ]
    },
    {
     "name": "stdout",
     "output_type": "stream",
     "text": [
      "Epoch 23/6000, Train Loss: 0.3609, Train Coeff: 0.3995, Val Loss: 0.3553, Val Coeff: 0.3152, Time: 25.88 sec\n"
     ]
    },
    {
     "name": "stderr",
     "output_type": "stream",
     "text": [
      "Train: 100%|██████████| 137/137 [00:20<00:00,  6.67batch/s]\n",
      "Valid: 100%|██████████| 138/138 [00:05<00:00, 26.04batch/s]\n"
     ]
    },
    {
     "name": "stdout",
     "output_type": "stream",
     "text": [
      "Epoch 24/6000, Train Loss: 0.3618, Train Coeff: 0.3973, Val Loss: 0.3510, Val Coeff: 0.3270, Time: 25.85 sec\n"
     ]
    },
    {
     "name": "stderr",
     "output_type": "stream",
     "text": [
      "Train: 100%|██████████| 137/137 [00:20<00:00,  6.66batch/s]\n",
      "Valid: 100%|██████████| 138/138 [00:05<00:00, 26.12batch/s]\n"
     ]
    },
    {
     "name": "stdout",
     "output_type": "stream",
     "text": [
      "Epoch 25/6000, Train Loss: 0.3606, Train Coeff: 0.3979, Val Loss: 0.3511, Val Coeff: 0.3149, Time: 25.85 sec\n"
     ]
    },
    {
     "name": "stderr",
     "output_type": "stream",
     "text": [
      "Train: 100%|██████████| 137/137 [00:20<00:00,  6.65batch/s]\n",
      "Valid: 100%|██████████| 138/138 [00:05<00:00, 26.02batch/s]\n"
     ]
    },
    {
     "name": "stdout",
     "output_type": "stream",
     "text": [
      "Epoch 26/6000, Train Loss: 0.3624, Train Coeff: 0.3909, Val Loss: 0.3501, Val Coeff: 0.3202, Time: 25.92 sec\n"
     ]
    },
    {
     "name": "stderr",
     "output_type": "stream",
     "text": [
      "Train: 100%|██████████| 137/137 [00:20<00:00,  6.67batch/s]\n",
      "Valid: 100%|██████████| 138/138 [00:05<00:00, 26.01batch/s]\n"
     ]
    },
    {
     "name": "stdout",
     "output_type": "stream",
     "text": [
      "Epoch 27/6000, Train Loss: 0.3608, Train Coeff: 0.3989, Val Loss: 0.3570, Val Coeff: 0.3296, Time: 25.87 sec\n"
     ]
    },
    {
     "name": "stderr",
     "output_type": "stream",
     "text": [
      "Train: 100%|██████████| 137/137 [00:20<00:00,  6.68batch/s]\n",
      "Valid: 100%|██████████| 138/138 [00:05<00:00, 25.69batch/s]\n"
     ]
    },
    {
     "name": "stdout",
     "output_type": "stream",
     "text": [
      "Epoch 28/6000, Train Loss: 0.3612, Train Coeff: 0.3991, Val Loss: 0.3525, Val Coeff: 0.2886, Time: 25.89 sec\n"
     ]
    },
    {
     "name": "stderr",
     "output_type": "stream",
     "text": [
      "Train: 100%|██████████| 137/137 [00:20<00:00,  6.69batch/s]\n",
      "Valid: 100%|██████████| 138/138 [00:05<00:00, 25.53batch/s]\n"
     ]
    },
    {
     "name": "stdout",
     "output_type": "stream",
     "text": [
      "Epoch 29/6000, Train Loss: 0.3613, Train Coeff: 0.3941, Val Loss: 0.3499, Val Coeff: 0.3355, Time: 25.90 sec\n"
     ]
    },
    {
     "name": "stderr",
     "output_type": "stream",
     "text": [
      "Train: 100%|██████████| 137/137 [00:20<00:00,  6.69batch/s]\n",
      "Valid: 100%|██████████| 138/138 [00:05<00:00, 25.70batch/s]\n"
     ]
    },
    {
     "name": "stdout",
     "output_type": "stream",
     "text": [
      "Epoch 30/6000, Train Loss: 0.3615, Train Coeff: 0.3959, Val Loss: 0.3527, Val Coeff: 0.3367, Time: 25.85 sec\n"
     ]
    },
    {
     "name": "stderr",
     "output_type": "stream",
     "text": [
      "Train: 100%|██████████| 137/137 [00:20<00:00,  6.68batch/s]\n",
      "Valid: 100%|██████████| 138/138 [00:05<00:00, 25.70batch/s]\n"
     ]
    },
    {
     "name": "stdout",
     "output_type": "stream",
     "text": [
      "Epoch 31/6000, Train Loss: 0.3612, Train Coeff: 0.4011, Val Loss: 0.3501, Val Coeff: 0.3104, Time: 25.89 sec\n"
     ]
    },
    {
     "name": "stderr",
     "output_type": "stream",
     "text": [
      "Train: 100%|██████████| 137/137 [00:20<00:00,  6.67batch/s]\n",
      "Valid: 100%|██████████| 138/138 [00:05<00:00, 25.68batch/s]\n"
     ]
    },
    {
     "name": "stdout",
     "output_type": "stream",
     "text": [
      "Epoch 32/6000, Train Loss: 0.3612, Train Coeff: 0.3903, Val Loss: 0.3505, Val Coeff: 0.3204, Time: 25.93 sec\n"
     ]
    },
    {
     "name": "stderr",
     "output_type": "stream",
     "text": [
      "Train: 100%|██████████| 137/137 [00:20<00:00,  6.68batch/s]\n",
      "Valid: 100%|██████████| 138/138 [00:05<00:00, 25.61batch/s]\n"
     ]
    },
    {
     "name": "stdout",
     "output_type": "stream",
     "text": [
      "Epoch 33/6000, Train Loss: 0.3608, Train Coeff: 0.3988, Val Loss: 0.3506, Val Coeff: 0.3209, Time: 25.89 sec\n"
     ]
    },
    {
     "name": "stderr",
     "output_type": "stream",
     "text": [
      "Train: 100%|██████████| 137/137 [00:20<00:00,  6.65batch/s]\n",
      "Valid: 100%|██████████| 138/138 [00:05<00:00, 25.73batch/s]\n"
     ]
    },
    {
     "name": "stdout",
     "output_type": "stream",
     "text": [
      "Epoch 34/6000, Train Loss: 0.3612, Train Coeff: 0.3934, Val Loss: 0.3498, Val Coeff: 0.3196, Time: 25.98 sec\n"
     ]
    },
    {
     "name": "stderr",
     "output_type": "stream",
     "text": [
      "Train: 100%|██████████| 137/137 [00:20<00:00,  6.69batch/s]\n",
      "Valid: 100%|██████████| 138/138 [00:05<00:00, 25.70batch/s]\n"
     ]
    },
    {
     "name": "stdout",
     "output_type": "stream",
     "text": [
      "Epoch 35/6000, Train Loss: 0.3610, Train Coeff: 0.3993, Val Loss: 0.3496, Val Coeff: 0.3207, Time: 25.87 sec\n"
     ]
    },
    {
     "name": "stderr",
     "output_type": "stream",
     "text": [
      "Train: 100%|██████████| 137/137 [00:20<00:00,  6.68batch/s]\n",
      "Valid: 100%|██████████| 138/138 [00:05<00:00, 25.60batch/s]\n"
     ]
    },
    {
     "name": "stdout",
     "output_type": "stream",
     "text": [
      "Epoch 36/6000, Train Loss: 0.3610, Train Coeff: 0.3983, Val Loss: 0.3509, Val Coeff: 0.3201, Time: 25.90 sec\n"
     ]
    },
    {
     "name": "stderr",
     "output_type": "stream",
     "text": [
      "Train: 100%|██████████| 137/137 [00:20<00:00,  6.68batch/s]\n",
      "Valid: 100%|██████████| 138/138 [00:05<00:00, 25.61batch/s]\n"
     ]
    },
    {
     "name": "stdout",
     "output_type": "stream",
     "text": [
      "Epoch 37/6000, Train Loss: 0.3607, Train Coeff: 0.3964, Val Loss: 0.3631, Val Coeff: 0.2998, Time: 25.90 sec\n"
     ]
    },
    {
     "name": "stderr",
     "output_type": "stream",
     "text": [
      "Train: 100%|██████████| 137/137 [00:20<00:00,  6.69batch/s]\n",
      "Valid: 100%|██████████| 138/138 [00:05<00:00, 25.59batch/s]\n"
     ]
    },
    {
     "name": "stdout",
     "output_type": "stream",
     "text": [
      "Epoch 38/6000, Train Loss: 0.3611, Train Coeff: 0.3984, Val Loss: 0.3504, Val Coeff: 0.3329, Time: 25.88 sec\n"
     ]
    },
    {
     "name": "stderr",
     "output_type": "stream",
     "text": [
      "Train: 100%|██████████| 137/137 [00:20<00:00,  6.69batch/s]\n",
      "Valid: 100%|██████████| 138/138 [00:05<00:00, 26.03batch/s]\n"
     ]
    },
    {
     "name": "stdout",
     "output_type": "stream",
     "text": [
      "Epoch 39/6000, Train Loss: 0.3606, Train Coeff: 0.3904, Val Loss: 0.3500, Val Coeff: 0.3267, Time: 25.80 sec\n"
     ]
    },
    {
     "name": "stderr",
     "output_type": "stream",
     "text": [
      "Train: 100%|██████████| 137/137 [00:20<00:00,  6.67batch/s]\n",
      "Valid: 100%|██████████| 138/138 [00:05<00:00, 26.00batch/s]\n"
     ]
    },
    {
     "name": "stdout",
     "output_type": "stream",
     "text": [
      "Epoch 40/6000, Train Loss: 0.3613, Train Coeff: 0.3922, Val Loss: 0.3503, Val Coeff: 0.3432, Time: 25.86 sec\n"
     ]
    },
    {
     "name": "stderr",
     "output_type": "stream",
     "text": [
      "Train: 100%|██████████| 137/137 [00:20<00:00,  6.66batch/s]\n",
      "Valid: 100%|██████████| 138/138 [00:05<00:00, 25.98batch/s]\n"
     ]
    },
    {
     "name": "stdout",
     "output_type": "stream",
     "text": [
      "Epoch 41/6000, Train Loss: 0.3606, Train Coeff: 0.4029, Val Loss: 0.3502, Val Coeff: 0.3172, Time: 25.89 sec\n"
     ]
    },
    {
     "name": "stderr",
     "output_type": "stream",
     "text": [
      "Train: 100%|██████████| 137/137 [00:20<00:00,  6.66batch/s]\n",
      "Valid: 100%|██████████| 138/138 [00:05<00:00, 26.01batch/s]\n"
     ]
    },
    {
     "name": "stdout",
     "output_type": "stream",
     "text": [
      "Epoch 42/6000, Train Loss: 0.3608, Train Coeff: 0.3920, Val Loss: 0.3498, Val Coeff: 0.3399, Time: 25.87 sec\n"
     ]
    },
    {
     "name": "stderr",
     "output_type": "stream",
     "text": [
      "Train: 100%|██████████| 137/137 [00:20<00:00,  6.65batch/s]\n",
      "Valid: 100%|██████████| 138/138 [00:05<00:00, 25.99batch/s]\n"
     ]
    },
    {
     "name": "stdout",
     "output_type": "stream",
     "text": [
      "Epoch 43/6000, Train Loss: 0.3610, Train Coeff: 0.3952, Val Loss: 0.3500, Val Coeff: 0.3421, Time: 25.93 sec\n"
     ]
    },
    {
     "name": "stderr",
     "output_type": "stream",
     "text": [
      "Train: 100%|██████████| 137/137 [00:20<00:00,  6.67batch/s]\n",
      "Valid: 100%|██████████| 138/138 [00:05<00:00, 25.95batch/s]\n"
     ]
    },
    {
     "name": "stdout",
     "output_type": "stream",
     "text": [
      "Epoch 44/6000, Train Loss: 0.3611, Train Coeff: 0.3905, Val Loss: 0.3501, Val Coeff: 0.3087, Time: 25.86 sec\n"
     ]
    },
    {
     "name": "stderr",
     "output_type": "stream",
     "text": [
      "Train: 100%|██████████| 137/137 [00:20<00:00,  6.67batch/s]\n",
      "Valid: 100%|██████████| 138/138 [00:05<00:00, 26.05batch/s]\n"
     ]
    },
    {
     "name": "stdout",
     "output_type": "stream",
     "text": [
      "Epoch 45/6000, Train Loss: 0.3607, Train Coeff: 0.3936, Val Loss: 0.3499, Val Coeff: 0.3275, Time: 25.83 sec\n"
     ]
    },
    {
     "name": "stderr",
     "output_type": "stream",
     "text": [
      "Train: 100%|██████████| 137/137 [00:20<00:00,  6.64batch/s]\n",
      "Valid: 100%|██████████| 138/138 [00:05<00:00, 26.03batch/s]\n"
     ]
    },
    {
     "name": "stdout",
     "output_type": "stream",
     "text": [
      "Epoch 46/6000, Train Loss: 0.3611, Train Coeff: 0.4017, Val Loss: 0.3499, Val Coeff: 0.3358, Time: 25.93 sec\n"
     ]
    },
    {
     "name": "stderr",
     "output_type": "stream",
     "text": [
      "Train: 100%|██████████| 137/137 [00:20<00:00,  6.65batch/s]\n",
      "Valid: 100%|██████████| 138/138 [00:05<00:00, 26.08batch/s]\n"
     ]
    },
    {
     "name": "stdout",
     "output_type": "stream",
     "text": [
      "Epoch 47/6000, Train Loss: 0.3620, Train Coeff: 0.3955, Val Loss: 0.3500, Val Coeff: 0.3293, Time: 25.90 sec\n"
     ]
    },
    {
     "name": "stderr",
     "output_type": "stream",
     "text": [
      "Train: 100%|██████████| 137/137 [00:20<00:00,  6.65batch/s]\n",
      "Valid: 100%|██████████| 138/138 [00:05<00:00, 26.01batch/s]\n"
     ]
    },
    {
     "name": "stdout",
     "output_type": "stream",
     "text": [
      "Epoch 48/6000, Train Loss: 0.3610, Train Coeff: 0.3963, Val Loss: 0.3501, Val Coeff: 0.3247, Time: 25.92 sec\n"
     ]
    },
    {
     "name": "stderr",
     "output_type": "stream",
     "text": [
      "Train: 100%|██████████| 137/137 [00:20<00:00,  6.66batch/s]\n",
      "Valid: 100%|██████████| 138/138 [00:05<00:00, 25.97batch/s]\n"
     ]
    },
    {
     "name": "stdout",
     "output_type": "stream",
     "text": [
      "Epoch 49/6000, Train Loss: 0.3618, Train Coeff: 0.3953, Val Loss: 0.3503, Val Coeff: 0.3310, Time: 25.91 sec\n"
     ]
    },
    {
     "name": "stderr",
     "output_type": "stream",
     "text": [
      "Train: 100%|██████████| 137/137 [00:20<00:00,  6.65batch/s]\n",
      "Valid: 100%|██████████| 138/138 [00:05<00:00, 25.79batch/s]\n"
     ]
    },
    {
     "name": "stdout",
     "output_type": "stream",
     "text": [
      "Epoch 50/6000, Train Loss: 0.3613, Train Coeff: 0.3978, Val Loss: 0.3503, Val Coeff: 0.3136, Time: 25.96 sec\n"
     ]
    },
    {
     "name": "stderr",
     "output_type": "stream",
     "text": [
      "Train: 100%|██████████| 137/137 [00:20<00:00,  6.66batch/s]\n",
      "Valid: 100%|██████████| 138/138 [00:05<00:00, 26.07batch/s]\n"
     ]
    },
    {
     "name": "stdout",
     "output_type": "stream",
     "text": [
      "Epoch 51/6000, Train Loss: 0.3610, Train Coeff: 0.3915, Val Loss: 0.3497, Val Coeff: 0.3308, Time: 25.88 sec\n"
     ]
    },
    {
     "name": "stderr",
     "output_type": "stream",
     "text": [
      "Train: 100%|██████████| 137/137 [00:20<00:00,  6.67batch/s]\n",
      "Valid: 100%|██████████| 138/138 [00:05<00:00, 25.92batch/s]\n"
     ]
    },
    {
     "name": "stdout",
     "output_type": "stream",
     "text": [
      "Epoch 52/6000, Train Loss: 0.3607, Train Coeff: 0.3963, Val Loss: 0.3500, Val Coeff: 0.3407, Time: 25.88 sec\n"
     ]
    },
    {
     "name": "stderr",
     "output_type": "stream",
     "text": [
      "Train: 100%|██████████| 137/137 [00:20<00:00,  6.66batch/s]\n",
      "Valid: 100%|██████████| 138/138 [00:05<00:00, 26.02batch/s]\n"
     ]
    },
    {
     "name": "stdout",
     "output_type": "stream",
     "text": [
      "Epoch 53/6000, Train Loss: 0.3607, Train Coeff: 0.3951, Val Loss: 0.3497, Val Coeff: 0.3407, Time: 25.88 sec\n"
     ]
    },
    {
     "name": "stderr",
     "output_type": "stream",
     "text": [
      "Train: 100%|██████████| 137/137 [00:20<00:00,  6.70batch/s]\n",
      "Valid: 100%|██████████| 138/138 [00:05<00:00, 26.00batch/s]\n"
     ]
    },
    {
     "name": "stdout",
     "output_type": "stream",
     "text": [
      "Epoch 54/6000, Train Loss: 0.3608, Train Coeff: 0.3985, Val Loss: 0.3498, Val Coeff: 0.3355, Time: 25.78 sec\n"
     ]
    },
    {
     "name": "stderr",
     "output_type": "stream",
     "text": [
      "Train: 100%|██████████| 137/137 [00:20<00:00,  6.65batch/s]\n",
      "Valid: 100%|██████████| 138/138 [00:05<00:00, 26.05batch/s]\n"
     ]
    },
    {
     "name": "stdout",
     "output_type": "stream",
     "text": [
      "Epoch 55/6000, Train Loss: 0.3610, Train Coeff: 0.3969, Val Loss: 0.3497, Val Coeff: 0.3228, Time: 25.90 sec\n"
     ]
    },
    {
     "name": "stderr",
     "output_type": "stream",
     "text": [
      "Train: 100%|██████████| 137/137 [00:20<00:00,  6.69batch/s]\n",
      "Valid: 100%|██████████| 138/138 [00:05<00:00, 25.65batch/s]\n"
     ]
    },
    {
     "name": "stdout",
     "output_type": "stream",
     "text": [
      "Epoch 56/6000, Train Loss: 0.3616, Train Coeff: 0.3965, Val Loss: 0.3529, Val Coeff: 0.3160, Time: 25.87 sec\n"
     ]
    },
    {
     "name": "stderr",
     "output_type": "stream",
     "text": [
      "Train: 100%|██████████| 137/137 [00:20<00:00,  6.71batch/s]\n",
      "Valid: 100%|██████████| 138/138 [00:05<00:00, 25.54batch/s]\n"
     ]
    },
    {
     "name": "stdout",
     "output_type": "stream",
     "text": [
      "Epoch 57/6000, Train Loss: 0.3610, Train Coeff: 0.3956, Val Loss: 0.3495, Val Coeff: 0.3210, Time: 25.83 sec\n"
     ]
    },
    {
     "name": "stderr",
     "output_type": "stream",
     "text": [
      "Train: 100%|██████████| 137/137 [00:20<00:00,  6.68batch/s]\n",
      "Valid: 100%|██████████| 138/138 [00:05<00:00, 25.69batch/s]\n"
     ]
    },
    {
     "name": "stdout",
     "output_type": "stream",
     "text": [
      "Epoch 58/6000, Train Loss: 0.3610, Train Coeff: 0.3966, Val Loss: 0.3515, Val Coeff: 0.3395, Time: 25.88 sec\n"
     ]
    },
    {
     "name": "stderr",
     "output_type": "stream",
     "text": [
      "Train: 100%|██████████| 137/137 [00:20<00:00,  6.68batch/s]\n",
      "Valid: 100%|██████████| 138/138 [00:05<00:00, 25.54batch/s]\n"
     ]
    },
    {
     "name": "stdout",
     "output_type": "stream",
     "text": [
      "Epoch 59/6000, Train Loss: 0.3607, Train Coeff: 0.3986, Val Loss: 0.3497, Val Coeff: 0.3219, Time: 25.91 sec\n"
     ]
    },
    {
     "name": "stderr",
     "output_type": "stream",
     "text": [
      "Train: 100%|██████████| 137/137 [00:20<00:00,  6.69batch/s]\n",
      "Valid: 100%|██████████| 138/138 [00:05<00:00, 25.74batch/s]\n"
     ]
    },
    {
     "name": "stdout",
     "output_type": "stream",
     "text": [
      "Epoch 60/6000, Train Loss: 0.3610, Train Coeff: 0.4002, Val Loss: 0.3505, Val Coeff: 0.3191, Time: 25.85 sec\n"
     ]
    },
    {
     "name": "stderr",
     "output_type": "stream",
     "text": [
      "Train: 100%|██████████| 137/137 [00:20<00:00,  6.69batch/s]\n",
      "Valid: 100%|██████████| 138/138 [00:05<00:00, 25.70batch/s]\n"
     ]
    },
    {
     "name": "stdout",
     "output_type": "stream",
     "text": [
      "Epoch 61/6000, Train Loss: 0.3608, Train Coeff: 0.3958, Val Loss: 0.3499, Val Coeff: 0.3369, Time: 25.87 sec\n"
     ]
    },
    {
     "name": "stderr",
     "output_type": "stream",
     "text": [
      "Train: 100%|██████████| 137/137 [00:20<00:00,  6.68batch/s]\n",
      "Valid: 100%|██████████| 138/138 [00:05<00:00, 25.93batch/s]\n"
     ]
    },
    {
     "name": "stdout",
     "output_type": "stream",
     "text": [
      "Epoch 62/6000, Train Loss: 0.3612, Train Coeff: 0.3936, Val Loss: 0.3503, Val Coeff: 0.3341, Time: 25.84 sec\n"
     ]
    },
    {
     "name": "stderr",
     "output_type": "stream",
     "text": [
      "Train: 100%|██████████| 137/137 [00:20<00:00,  6.67batch/s]\n",
      "Valid: 100%|██████████| 138/138 [00:05<00:00, 26.01batch/s]\n"
     ]
    },
    {
     "name": "stdout",
     "output_type": "stream",
     "text": [
      "Epoch 63/6000, Train Loss: 0.3615, Train Coeff: 0.3930, Val Loss: 0.3510, Val Coeff: 0.3312, Time: 25.86 sec\n"
     ]
    },
    {
     "name": "stderr",
     "output_type": "stream",
     "text": [
      "Train: 100%|██████████| 137/137 [00:20<00:00,  6.67batch/s]\n",
      "Valid: 100%|██████████| 138/138 [00:05<00:00, 26.02batch/s]\n"
     ]
    },
    {
     "name": "stdout",
     "output_type": "stream",
     "text": [
      "Epoch 64/6000, Train Loss: 0.3611, Train Coeff: 0.3944, Val Loss: 0.3498, Val Coeff: 0.3346, Time: 25.87 sec\n"
     ]
    },
    {
     "name": "stderr",
     "output_type": "stream",
     "text": [
      "Train: 100%|██████████| 137/137 [00:20<00:00,  6.66batch/s]\n",
      "Valid: 100%|██████████| 138/138 [00:05<00:00, 26.03batch/s]\n"
     ]
    },
    {
     "name": "stdout",
     "output_type": "stream",
     "text": [
      "Epoch 65/6000, Train Loss: 0.3609, Train Coeff: 0.4012, Val Loss: 0.3501, Val Coeff: 0.3114, Time: 25.88 sec\n"
     ]
    },
    {
     "name": "stderr",
     "output_type": "stream",
     "text": [
      "Train: 100%|██████████| 137/137 [00:20<00:00,  6.66batch/s]\n",
      "Valid: 100%|██████████| 138/138 [00:05<00:00, 25.91batch/s]\n"
     ]
    },
    {
     "name": "stdout",
     "output_type": "stream",
     "text": [
      "Epoch 66/6000, Train Loss: 0.3608, Train Coeff: 0.3968, Val Loss: 0.3500, Val Coeff: 0.3276, Time: 25.90 sec\n"
     ]
    },
    {
     "name": "stderr",
     "output_type": "stream",
     "text": [
      "Train: 100%|██████████| 137/137 [00:20<00:00,  6.68batch/s]\n",
      "Valid: 100%|██████████| 138/138 [00:05<00:00, 25.97batch/s]\n"
     ]
    },
    {
     "name": "stdout",
     "output_type": "stream",
     "text": [
      "Epoch 67/6000, Train Loss: 0.3607, Train Coeff: 0.3936, Val Loss: 0.3562, Val Coeff: 0.3091, Time: 25.83 sec\n"
     ]
    },
    {
     "name": "stderr",
     "output_type": "stream",
     "text": [
      "Train: 100%|██████████| 137/137 [00:20<00:00,  6.67batch/s]\n",
      "Valid: 100%|██████████| 138/138 [00:05<00:00, 26.03batch/s]\n"
     ]
    },
    {
     "name": "stdout",
     "output_type": "stream",
     "text": [
      "Epoch 68/6000, Train Loss: 0.3609, Train Coeff: 0.3972, Val Loss: 0.3523, Val Coeff: 0.3216, Time: 25.85 sec\n"
     ]
    },
    {
     "name": "stderr",
     "output_type": "stream",
     "text": [
      "Train: 100%|██████████| 137/137 [00:20<00:00,  6.67batch/s]\n",
      "Valid: 100%|██████████| 138/138 [00:05<00:00, 25.94batch/s]\n"
     ]
    },
    {
     "name": "stdout",
     "output_type": "stream",
     "text": [
      "Epoch 69/6000, Train Loss: 0.3606, Train Coeff: 0.3951, Val Loss: 0.3498, Val Coeff: 0.3188, Time: 25.88 sec\n"
     ]
    },
    {
     "name": "stderr",
     "output_type": "stream",
     "text": [
      "Train: 100%|██████████| 137/137 [00:20<00:00,  6.66batch/s]\n",
      "Valid: 100%|██████████| 138/138 [00:05<00:00, 25.96batch/s]\n"
     ]
    },
    {
     "name": "stdout",
     "output_type": "stream",
     "text": [
      "Epoch 70/6000, Train Loss: 0.3610, Train Coeff: 0.3914, Val Loss: 0.3498, Val Coeff: 0.3415, Time: 25.88 sec\n"
     ]
    },
    {
     "name": "stderr",
     "output_type": "stream",
     "text": [
      "Train: 100%|██████████| 137/137 [00:20<00:00,  6.68batch/s]\n",
      "Valid: 100%|██████████| 138/138 [00:05<00:00, 26.15batch/s]\n"
     ]
    },
    {
     "name": "stdout",
     "output_type": "stream",
     "text": [
      "Epoch 71/6000, Train Loss: 0.3620, Train Coeff: 0.3952, Val Loss: 0.3496, Val Coeff: 0.3191, Time: 25.79 sec\n"
     ]
    },
    {
     "name": "stderr",
     "output_type": "stream",
     "text": [
      "Train: 100%|██████████| 137/137 [00:20<00:00,  6.68batch/s]\n",
      "Valid: 100%|██████████| 138/138 [00:05<00:00, 26.06batch/s]\n"
     ]
    },
    {
     "name": "stdout",
     "output_type": "stream",
     "text": [
      "Epoch 72/6000, Train Loss: 0.3609, Train Coeff: 0.3988, Val Loss: 0.3507, Val Coeff: 0.3217, Time: 25.81 sec\n"
     ]
    },
    {
     "name": "stderr",
     "output_type": "stream",
     "text": [
      "Train: 100%|██████████| 137/137 [00:20<00:00,  6.64batch/s]\n",
      "Valid: 100%|██████████| 138/138 [00:05<00:00, 26.08batch/s]\n"
     ]
    },
    {
     "name": "stdout",
     "output_type": "stream",
     "text": [
      "Epoch 73/6000, Train Loss: 0.3612, Train Coeff: 0.3994, Val Loss: 0.3495, Val Coeff: 0.3197, Time: 25.92 sec\n"
     ]
    },
    {
     "name": "stderr",
     "output_type": "stream",
     "text": [
      "Train: 100%|██████████| 137/137 [00:20<00:00,  6.66batch/s]\n",
      "Valid: 100%|██████████| 138/138 [00:05<00:00, 26.02batch/s]\n"
     ]
    },
    {
     "name": "stdout",
     "output_type": "stream",
     "text": [
      "Epoch 74/6000, Train Loss: 0.3611, Train Coeff: 0.4021, Val Loss: 0.3607, Val Coeff: 0.2927, Time: 25.89 sec\n"
     ]
    },
    {
     "name": "stderr",
     "output_type": "stream",
     "text": [
      "Train: 100%|██████████| 137/137 [00:20<00:00,  6.67batch/s]\n",
      "Valid: 100%|██████████| 138/138 [00:05<00:00, 26.19batch/s]\n"
     ]
    },
    {
     "name": "stdout",
     "output_type": "stream",
     "text": [
      "Epoch 75/6000, Train Loss: 0.3614, Train Coeff: 0.3952, Val Loss: 0.3500, Val Coeff: 0.3088, Time: 25.82 sec\n"
     ]
    },
    {
     "name": "stderr",
     "output_type": "stream",
     "text": [
      "Train: 100%|██████████| 137/137 [00:20<00:00,  6.66batch/s]\n",
      "Valid: 100%|██████████| 138/138 [00:05<00:00, 25.98batch/s]\n"
     ]
    },
    {
     "name": "stdout",
     "output_type": "stream",
     "text": [
      "Epoch 76/6000, Train Loss: 0.3606, Train Coeff: 0.3976, Val Loss: 0.3497, Val Coeff: 0.3273, Time: 25.89 sec\n"
     ]
    },
    {
     "name": "stderr",
     "output_type": "stream",
     "text": [
      "Train: 100%|██████████| 137/137 [00:20<00:00,  6.69batch/s]\n",
      "Valid: 100%|██████████| 138/138 [00:05<00:00, 26.11batch/s]\n"
     ]
    },
    {
     "name": "stdout",
     "output_type": "stream",
     "text": [
      "Epoch 77/6000, Train Loss: 0.3607, Train Coeff: 0.4000, Val Loss: 0.3502, Val Coeff: 0.3367, Time: 25.78 sec\n"
     ]
    },
    {
     "name": "stderr",
     "output_type": "stream",
     "text": [
      "Train: 100%|██████████| 137/137 [00:20<00:00,  6.69batch/s]\n",
      "Valid: 100%|██████████| 138/138 [00:05<00:00, 26.12batch/s]\n"
     ]
    },
    {
     "name": "stdout",
     "output_type": "stream",
     "text": [
      "Epoch 78/6000, Train Loss: 0.3610, Train Coeff: 0.3917, Val Loss: 0.3500, Val Coeff: 0.3255, Time: 25.78 sec\n"
     ]
    },
    {
     "name": "stderr",
     "output_type": "stream",
     "text": [
      "Train: 100%|██████████| 137/137 [00:20<00:00,  6.65batch/s]\n",
      "Valid: 100%|██████████| 138/138 [00:05<00:00, 26.17batch/s]\n"
     ]
    },
    {
     "name": "stdout",
     "output_type": "stream",
     "text": [
      "Epoch 79/6000, Train Loss: 0.3610, Train Coeff: 0.3923, Val Loss: 0.3502, Val Coeff: 0.3195, Time: 25.88 sec\n"
     ]
    },
    {
     "name": "stderr",
     "output_type": "stream",
     "text": [
      "Train: 100%|██████████| 137/137 [00:20<00:00,  6.68batch/s]\n",
      "Valid: 100%|██████████| 138/138 [00:05<00:00, 25.96batch/s]\n"
     ]
    },
    {
     "name": "stdout",
     "output_type": "stream",
     "text": [
      "Epoch 80/6000, Train Loss: 0.3608, Train Coeff: 0.4025, Val Loss: 0.3499, Val Coeff: 0.3312, Time: 25.84 sec\n"
     ]
    },
    {
     "name": "stderr",
     "output_type": "stream",
     "text": [
      "Train: 100%|██████████| 137/137 [00:20<00:00,  6.67batch/s]\n",
      "Valid: 100%|██████████| 138/138 [00:05<00:00, 26.10batch/s]\n"
     ]
    },
    {
     "name": "stdout",
     "output_type": "stream",
     "text": [
      "Epoch 81/6000, Train Loss: 0.3607, Train Coeff: 0.3953, Val Loss: 0.3514, Val Coeff: 0.3142, Time: 25.83 sec\n"
     ]
    },
    {
     "name": "stderr",
     "output_type": "stream",
     "text": [
      "Train: 100%|██████████| 137/137 [00:20<00:00,  6.67batch/s]\n",
      "Valid: 100%|██████████| 138/138 [00:05<00:00, 26.15batch/s]\n"
     ]
    },
    {
     "name": "stdout",
     "output_type": "stream",
     "text": [
      "Epoch 82/6000, Train Loss: 0.3610, Train Coeff: 0.3915, Val Loss: 0.3527, Val Coeff: 0.3245, Time: 25.83 sec\n"
     ]
    },
    {
     "name": "stderr",
     "output_type": "stream",
     "text": [
      "Train: 100%|██████████| 137/137 [00:20<00:00,  6.69batch/s]\n",
      "Valid: 100%|██████████| 138/138 [00:05<00:00, 25.71batch/s]\n"
     ]
    },
    {
     "name": "stdout",
     "output_type": "stream",
     "text": [
      "Epoch 83/6000, Train Loss: 0.3607, Train Coeff: 0.3977, Val Loss: 0.3543, Val Coeff: 0.3121, Time: 25.86 sec\n"
     ]
    },
    {
     "name": "stderr",
     "output_type": "stream",
     "text": [
      "Train: 100%|██████████| 137/137 [00:20<00:00,  6.71batch/s]\n",
      "Valid: 100%|██████████| 138/138 [00:05<00:00, 25.65batch/s]\n"
     ]
    },
    {
     "name": "stdout",
     "output_type": "stream",
     "text": [
      "Epoch 84/6000, Train Loss: 0.3608, Train Coeff: 0.3982, Val Loss: 0.3503, Val Coeff: 0.3181, Time: 25.81 sec\n"
     ]
    },
    {
     "name": "stderr",
     "output_type": "stream",
     "text": [
      "Train: 100%|██████████| 137/137 [00:20<00:00,  6.71batch/s]\n",
      "Valid: 100%|██████████| 138/138 [00:05<00:00, 25.62batch/s]\n"
     ]
    },
    {
     "name": "stdout",
     "output_type": "stream",
     "text": [
      "Epoch 85/6000, Train Loss: 0.3609, Train Coeff: 0.3972, Val Loss: 0.3497, Val Coeff: 0.3279, Time: 25.82 sec\n"
     ]
    },
    {
     "name": "stderr",
     "output_type": "stream",
     "text": [
      "Train: 100%|██████████| 137/137 [00:20<00:00,  6.71batch/s]\n",
      "Valid: 100%|██████████| 138/138 [00:05<00:00, 25.77batch/s]\n"
     ]
    },
    {
     "name": "stdout",
     "output_type": "stream",
     "text": [
      "Epoch 86/6000, Train Loss: 0.3609, Train Coeff: 0.3936, Val Loss: 0.3495, Val Coeff: 0.3234, Time: 25.78 sec\n"
     ]
    },
    {
     "name": "stderr",
     "output_type": "stream",
     "text": [
      "Train: 100%|██████████| 137/137 [00:20<00:00,  6.69batch/s]\n",
      "Valid: 100%|██████████| 138/138 [00:05<00:00, 25.68batch/s]\n"
     ]
    },
    {
     "name": "stdout",
     "output_type": "stream",
     "text": [
      "Epoch 87/6000, Train Loss: 0.3618, Train Coeff: 0.3933, Val Loss: 0.3510, Val Coeff: 0.3319, Time: 25.85 sec\n"
     ]
    },
    {
     "name": "stderr",
     "output_type": "stream",
     "text": [
      "Train: 100%|██████████| 137/137 [00:20<00:00,  6.70batch/s]\n",
      "Valid: 100%|██████████| 138/138 [00:05<00:00, 25.63batch/s]\n"
     ]
    },
    {
     "name": "stdout",
     "output_type": "stream",
     "text": [
      "Epoch 88/6000, Train Loss: 0.3609, Train Coeff: 0.3968, Val Loss: 0.3493, Val Coeff: 0.3292, Time: 25.84 sec\n"
     ]
    },
    {
     "name": "stderr",
     "output_type": "stream",
     "text": [
      "Train: 100%|██████████| 137/137 [00:20<00:00,  6.71batch/s]\n",
      "Valid: 100%|██████████| 138/138 [00:05<00:00, 25.79batch/s]\n"
     ]
    },
    {
     "name": "stdout",
     "output_type": "stream",
     "text": [
      "Epoch 89/6000, Train Loss: 0.3607, Train Coeff: 0.3963, Val Loss: 0.3523, Val Coeff: 0.3114, Time: 25.77 sec\n"
     ]
    },
    {
     "name": "stderr",
     "output_type": "stream",
     "text": [
      "Train: 100%|██████████| 137/137 [00:20<00:00,  6.69batch/s]\n",
      "Valid: 100%|██████████| 138/138 [00:05<00:00, 25.63batch/s]\n"
     ]
    },
    {
     "name": "stdout",
     "output_type": "stream",
     "text": [
      "Epoch 90/6000, Train Loss: 0.3610, Train Coeff: 0.3991, Val Loss: 0.3512, Val Coeff: 0.3337, Time: 25.89 sec\n"
     ]
    },
    {
     "name": "stderr",
     "output_type": "stream",
     "text": [
      "Train: 100%|██████████| 137/137 [00:20<00:00,  6.72batch/s]\n",
      "Valid: 100%|██████████| 138/138 [00:05<00:00, 25.55batch/s]\n"
     ]
    },
    {
     "name": "stdout",
     "output_type": "stream",
     "text": [
      "Epoch 91/6000, Train Loss: 0.3609, Train Coeff: 0.3924, Val Loss: 0.3502, Val Coeff: 0.3226, Time: 25.81 sec\n"
     ]
    },
    {
     "name": "stderr",
     "output_type": "stream",
     "text": [
      "Train: 100%|██████████| 137/137 [00:20<00:00,  6.71batch/s]\n",
      "Valid: 100%|██████████| 138/138 [00:05<00:00, 25.71batch/s]\n"
     ]
    },
    {
     "name": "stdout",
     "output_type": "stream",
     "text": [
      "Epoch 92/6000, Train Loss: 0.3607, Train Coeff: 0.3986, Val Loss: 0.3516, Val Coeff: 0.3223, Time: 25.81 sec\n"
     ]
    },
    {
     "name": "stderr",
     "output_type": "stream",
     "text": [
      "Train: 100%|██████████| 137/137 [00:20<00:00,  6.68batch/s]\n",
      "Valid: 100%|██████████| 138/138 [00:05<00:00, 26.09batch/s]\n"
     ]
    },
    {
     "name": "stdout",
     "output_type": "stream",
     "text": [
      "Epoch 93/6000, Train Loss: 0.3608, Train Coeff: 0.3974, Val Loss: 0.3511, Val Coeff: 0.3290, Time: 25.82 sec\n"
     ]
    },
    {
     "name": "stderr",
     "output_type": "stream",
     "text": [
      "Train: 100%|██████████| 137/137 [00:20<00:00,  6.69batch/s]\n",
      "Valid: 100%|██████████| 138/138 [00:05<00:00, 26.12batch/s]\n"
     ]
    },
    {
     "name": "stdout",
     "output_type": "stream",
     "text": [
      "Epoch 94/6000, Train Loss: 0.3607, Train Coeff: 0.3976, Val Loss: 0.3495, Val Coeff: 0.3043, Time: 25.77 sec\n"
     ]
    },
    {
     "name": "stderr",
     "output_type": "stream",
     "text": [
      "Train: 100%|██████████| 137/137 [00:20<00:00,  6.67batch/s]\n",
      "Valid: 100%|██████████| 138/138 [00:05<00:00, 25.99batch/s]\n"
     ]
    },
    {
     "name": "stdout",
     "output_type": "stream",
     "text": [
      "Epoch 95/6000, Train Loss: 0.3606, Train Coeff: 0.3960, Val Loss: 0.3525, Val Coeff: 0.3129, Time: 25.86 sec\n"
     ]
    },
    {
     "name": "stderr",
     "output_type": "stream",
     "text": [
      "Train: 100%|██████████| 137/137 [00:20<00:00,  6.66batch/s]\n",
      "Valid: 100%|██████████| 138/138 [00:05<00:00, 26.03batch/s]\n"
     ]
    },
    {
     "name": "stdout",
     "output_type": "stream",
     "text": [
      "Epoch 96/6000, Train Loss: 0.3611, Train Coeff: 0.3976, Val Loss: 0.3500, Val Coeff: 0.3065, Time: 25.87 sec\n"
     ]
    },
    {
     "name": "stderr",
     "output_type": "stream",
     "text": [
      "Train: 100%|██████████| 137/137 [00:20<00:00,  6.68batch/s]\n",
      "Valid: 100%|██████████| 138/138 [00:05<00:00, 26.15batch/s]\n"
     ]
    },
    {
     "name": "stdout",
     "output_type": "stream",
     "text": [
      "Epoch 97/6000, Train Loss: 0.3608, Train Coeff: 0.3918, Val Loss: 0.3501, Val Coeff: 0.3133, Time: 25.80 sec\n"
     ]
    },
    {
     "name": "stderr",
     "output_type": "stream",
     "text": [
      "Train: 100%|██████████| 137/137 [00:20<00:00,  6.67batch/s]\n",
      "Valid: 100%|██████████| 138/138 [00:05<00:00, 25.86batch/s]\n"
     ]
    },
    {
     "name": "stdout",
     "output_type": "stream",
     "text": [
      "Epoch 98/6000, Train Loss: 0.3613, Train Coeff: 0.3933, Val Loss: 0.3586, Val Coeff: 0.3339, Time: 25.88 sec\n"
     ]
    },
    {
     "name": "stderr",
     "output_type": "stream",
     "text": [
      "Train: 100%|██████████| 137/137 [00:20<00:00,  6.66batch/s]\n",
      "Valid: 100%|██████████| 138/138 [00:05<00:00, 25.95batch/s]\n"
     ]
    },
    {
     "name": "stdout",
     "output_type": "stream",
     "text": [
      "Epoch 99/6000, Train Loss: 0.3607, Train Coeff: 0.3916, Val Loss: 0.3757, Val Coeff: 0.2449, Time: 25.90 sec\n"
     ]
    },
    {
     "name": "stderr",
     "output_type": "stream",
     "text": [
      "Train: 100%|██████████| 137/137 [00:20<00:00,  6.63batch/s]\n",
      "Valid: 100%|██████████| 138/138 [00:05<00:00, 25.90batch/s]\n"
     ]
    },
    {
     "name": "stdout",
     "output_type": "stream",
     "text": [
      "Epoch 100/6000, Train Loss: 0.3610, Train Coeff: 0.3990, Val Loss: 0.3515, Val Coeff: 0.3251, Time: 26.01 sec\n"
     ]
    },
    {
     "name": "stderr",
     "output_type": "stream",
     "text": [
      "Train: 100%|██████████| 137/137 [00:20<00:00,  6.65batch/s]\n",
      "Valid: 100%|██████████| 138/138 [00:05<00:00, 26.06batch/s]\n"
     ]
    },
    {
     "name": "stdout",
     "output_type": "stream",
     "text": [
      "Epoch 101/6000, Train Loss: 0.3607, Train Coeff: 0.3968, Val Loss: 0.3497, Val Coeff: 0.2922, Time: 25.90 sec\n"
     ]
    },
    {
     "name": "stderr",
     "output_type": "stream",
     "text": [
      "Train: 100%|██████████| 137/137 [00:20<00:00,  6.66batch/s]\n",
      "Valid: 100%|██████████| 138/138 [00:05<00:00, 25.99batch/s]\n"
     ]
    },
    {
     "name": "stdout",
     "output_type": "stream",
     "text": [
      "Epoch 102/6000, Train Loss: 0.3608, Train Coeff: 0.3986, Val Loss: 0.3512, Val Coeff: 0.3284, Time: 25.90 sec\n"
     ]
    },
    {
     "name": "stderr",
     "output_type": "stream",
     "text": [
      "Train: 100%|██████████| 137/137 [00:20<00:00,  6.66batch/s]\n",
      "Valid: 100%|██████████| 138/138 [00:05<00:00, 26.16batch/s]\n"
     ]
    },
    {
     "name": "stdout",
     "output_type": "stream",
     "text": [
      "Epoch 103/6000, Train Loss: 0.3608, Train Coeff: 0.4012, Val Loss: 0.3495, Val Coeff: 0.3367, Time: 25.86 sec\n"
     ]
    },
    {
     "name": "stderr",
     "output_type": "stream",
     "text": [
      "Train: 100%|██████████| 137/137 [00:20<00:00,  6.64batch/s]\n",
      "Valid: 100%|██████████| 138/138 [00:05<00:00, 25.74batch/s]\n"
     ]
    },
    {
     "name": "stdout",
     "output_type": "stream",
     "text": [
      "Epoch 104/6000, Train Loss: 0.3611, Train Coeff: 0.3994, Val Loss: 0.3503, Val Coeff: 0.3166, Time: 25.99 sec\n"
     ]
    },
    {
     "name": "stderr",
     "output_type": "stream",
     "text": [
      "Train: 100%|██████████| 137/137 [00:20<00:00,  6.66batch/s]\n",
      "Valid: 100%|██████████| 138/138 [00:05<00:00, 26.20batch/s]\n"
     ]
    },
    {
     "name": "stdout",
     "output_type": "stream",
     "text": [
      "Epoch 105/6000, Train Loss: 0.3608, Train Coeff: 0.3940, Val Loss: 0.3511, Val Coeff: 0.3223, Time: 25.86 sec\n"
     ]
    },
    {
     "name": "stderr",
     "output_type": "stream",
     "text": [
      "Train: 100%|██████████| 137/137 [00:20<00:00,  6.67batch/s]\n",
      "Valid: 100%|██████████| 138/138 [00:05<00:00, 25.96batch/s]\n"
     ]
    },
    {
     "name": "stdout",
     "output_type": "stream",
     "text": [
      "Epoch 106/6000, Train Loss: 0.3609, Train Coeff: 0.3916, Val Loss: 0.3501, Val Coeff: 0.3045, Time: 25.88 sec\n"
     ]
    },
    {
     "name": "stderr",
     "output_type": "stream",
     "text": [
      "Train: 100%|██████████| 137/137 [00:20<00:00,  6.68batch/s]\n",
      "Valid: 100%|██████████| 138/138 [00:05<00:00, 26.09batch/s]\n"
     ]
    },
    {
     "name": "stdout",
     "output_type": "stream",
     "text": [
      "Epoch 107/6000, Train Loss: 0.3607, Train Coeff: 0.3973, Val Loss: 0.3495, Val Coeff: 0.3274, Time: 25.80 sec\n"
     ]
    },
    {
     "name": "stderr",
     "output_type": "stream",
     "text": [
      "Train: 100%|██████████| 137/137 [00:20<00:00,  6.66batch/s]\n",
      "Valid: 100%|██████████| 138/138 [00:05<00:00, 25.93batch/s]\n"
     ]
    },
    {
     "name": "stdout",
     "output_type": "stream",
     "text": [
      "Epoch 108/6000, Train Loss: 0.3608, Train Coeff: 0.3980, Val Loss: 0.3498, Val Coeff: 0.3280, Time: 25.90 sec\n"
     ]
    },
    {
     "name": "stderr",
     "output_type": "stream",
     "text": [
      "Train: 100%|██████████| 137/137 [00:20<00:00,  6.66batch/s]\n",
      "Valid: 100%|██████████| 138/138 [00:05<00:00, 25.92batch/s]\n"
     ]
    },
    {
     "name": "stdout",
     "output_type": "stream",
     "text": [
      "Epoch 109/6000, Train Loss: 0.3609, Train Coeff: 0.4018, Val Loss: 0.3497, Val Coeff: 0.3037, Time: 25.92 sec\n"
     ]
    },
    {
     "name": "stderr",
     "output_type": "stream",
     "text": [
      "Train: 100%|██████████| 137/137 [00:20<00:00,  6.66batch/s]\n",
      "Valid: 100%|██████████| 138/138 [00:05<00:00, 26.18batch/s]\n"
     ]
    },
    {
     "name": "stdout",
     "output_type": "stream",
     "text": [
      "Epoch 110/6000, Train Loss: 0.3608, Train Coeff: 0.3996, Val Loss: 0.3516, Val Coeff: 0.3179, Time: 25.84 sec\n"
     ]
    },
    {
     "name": "stderr",
     "output_type": "stream",
     "text": [
      "Train: 100%|██████████| 137/137 [00:20<00:00,  6.64batch/s]\n",
      "Valid: 100%|██████████| 138/138 [00:05<00:00, 26.11batch/s]\n"
     ]
    },
    {
     "name": "stdout",
     "output_type": "stream",
     "text": [
      "Epoch 111/6000, Train Loss: 0.3611, Train Coeff: 0.3951, Val Loss: 0.3497, Val Coeff: 0.3246, Time: 25.92 sec\n"
     ]
    },
    {
     "name": "stderr",
     "output_type": "stream",
     "text": [
      "Train: 100%|██████████| 137/137 [00:20<00:00,  6.65batch/s]\n",
      "Valid: 100%|██████████| 138/138 [00:05<00:00, 26.22batch/s]\n"
     ]
    },
    {
     "name": "stdout",
     "output_type": "stream",
     "text": [
      "Epoch 112/6000, Train Loss: 0.3608, Train Coeff: 0.4003, Val Loss: 0.3503, Val Coeff: 0.3116, Time: 25.87 sec\n"
     ]
    },
    {
     "name": "stderr",
     "output_type": "stream",
     "text": [
      "Train: 100%|██████████| 137/137 [00:20<00:00,  6.65batch/s]\n",
      "Valid: 100%|██████████| 138/138 [00:05<00:00, 25.97batch/s]\n"
     ]
    },
    {
     "name": "stdout",
     "output_type": "stream",
     "text": [
      "Epoch 113/6000, Train Loss: 0.3607, Train Coeff: 0.3978, Val Loss: 0.3497, Val Coeff: 0.3353, Time: 25.93 sec\n"
     ]
    },
    {
     "name": "stderr",
     "output_type": "stream",
     "text": [
      "Train: 100%|██████████| 137/137 [00:20<00:00,  6.67batch/s]\n",
      "Valid: 100%|██████████| 138/138 [00:05<00:00, 25.74batch/s]\n"
     ]
    },
    {
     "name": "stdout",
     "output_type": "stream",
     "text": [
      "Epoch 114/6000, Train Loss: 0.3609, Train Coeff: 0.3914, Val Loss: 0.3520, Val Coeff: 0.3157, Time: 25.92 sec\n"
     ]
    },
    {
     "name": "stderr",
     "output_type": "stream",
     "text": [
      "Train: 100%|██████████| 137/137 [00:20<00:00,  6.67batch/s]\n",
      "Valid: 100%|██████████| 138/138 [00:05<00:00, 26.12batch/s]\n"
     ]
    },
    {
     "name": "stdout",
     "output_type": "stream",
     "text": [
      "Epoch 115/6000, Train Loss: 0.3613, Train Coeff: 0.3970, Val Loss: 0.3500, Val Coeff: 0.3151, Time: 25.84 sec\n"
     ]
    },
    {
     "name": "stderr",
     "output_type": "stream",
     "text": [
      "Train: 100%|██████████| 137/137 [00:20<00:00,  6.69batch/s]\n",
      "Valid: 100%|██████████| 138/138 [00:05<00:00, 25.71batch/s]\n"
     ]
    },
    {
     "name": "stdout",
     "output_type": "stream",
     "text": [
      "Epoch 116/6000, Train Loss: 0.3610, Train Coeff: 0.3958, Val Loss: 0.3502, Val Coeff: 0.3402, Time: 25.85 sec\n"
     ]
    },
    {
     "name": "stderr",
     "output_type": "stream",
     "text": [
      "Train: 100%|██████████| 137/137 [00:20<00:00,  6.67batch/s]\n",
      "Valid: 100%|██████████| 138/138 [00:05<00:00, 25.54batch/s]\n"
     ]
    },
    {
     "name": "stdout",
     "output_type": "stream",
     "text": [
      "Epoch 117/6000, Train Loss: 0.3608, Train Coeff: 0.3948, Val Loss: 0.3497, Val Coeff: 0.3114, Time: 25.95 sec\n"
     ]
    },
    {
     "name": "stderr",
     "output_type": "stream",
     "text": [
      "Train: 100%|██████████| 137/137 [00:20<00:00,  6.70batch/s]\n",
      "Valid: 100%|██████████| 138/138 [00:05<00:00, 25.54batch/s]\n"
     ]
    },
    {
     "name": "stdout",
     "output_type": "stream",
     "text": [
      "Epoch 118/6000, Train Loss: 0.3606, Train Coeff: 0.4004, Val Loss: 0.3503, Val Coeff: 0.3138, Time: 25.86 sec\n"
     ]
    },
    {
     "name": "stderr",
     "output_type": "stream",
     "text": [
      "Train: 100%|██████████| 137/137 [00:20<00:00,  6.67batch/s]\n",
      "Valid: 100%|██████████| 138/138 [00:05<00:00, 25.72batch/s]\n"
     ]
    },
    {
     "name": "stdout",
     "output_type": "stream",
     "text": [
      "Epoch 119/6000, Train Loss: 0.3612, Train Coeff: 0.3956, Val Loss: 0.3498, Val Coeff: 0.3207, Time: 25.91 sec\n"
     ]
    },
    {
     "name": "stderr",
     "output_type": "stream",
     "text": [
      "Train: 100%|██████████| 137/137 [00:20<00:00,  6.70batch/s]\n",
      "Valid: 100%|██████████| 138/138 [00:05<00:00, 25.70batch/s]\n"
     ]
    },
    {
     "name": "stdout",
     "output_type": "stream",
     "text": [
      "Epoch 120/6000, Train Loss: 0.3608, Train Coeff: 0.3934, Val Loss: 0.3515, Val Coeff: 0.3040, Time: 25.84 sec\n"
     ]
    },
    {
     "name": "stderr",
     "output_type": "stream",
     "text": [
      "Train: 100%|██████████| 137/137 [00:20<00:00,  6.71batch/s]\n",
      "Valid: 100%|██████████| 138/138 [00:05<00:00, 25.71batch/s]\n"
     ]
    },
    {
     "name": "stdout",
     "output_type": "stream",
     "text": [
      "Epoch 121/6000, Train Loss: 0.3609, Train Coeff: 0.3986, Val Loss: 0.3516, Val Coeff: 0.3315, Time: 25.80 sec\n"
     ]
    },
    {
     "name": "stderr",
     "output_type": "stream",
     "text": [
      "Train: 100%|██████████| 137/137 [00:20<00:00,  6.68batch/s]\n",
      "Valid: 100%|██████████| 138/138 [00:05<00:00, 25.76batch/s]\n"
     ]
    },
    {
     "name": "stdout",
     "output_type": "stream",
     "text": [
      "Epoch 122/6000, Train Loss: 0.3611, Train Coeff: 0.3935, Val Loss: 0.3501, Val Coeff: 0.3209, Time: 25.87 sec\n"
     ]
    },
    {
     "name": "stderr",
     "output_type": "stream",
     "text": [
      "Train: 100%|██████████| 137/137 [00:20<00:00,  6.68batch/s]\n",
      "Valid: 100%|██████████| 138/138 [00:05<00:00, 25.80batch/s]\n"
     ]
    },
    {
     "name": "stdout",
     "output_type": "stream",
     "text": [
      "Epoch 123/6000, Train Loss: 0.3610, Train Coeff: 0.3989, Val Loss: 0.3502, Val Coeff: 0.3065, Time: 25.86 sec\n"
     ]
    },
    {
     "name": "stderr",
     "output_type": "stream",
     "text": [
      "Train: 100%|██████████| 137/137 [00:20<00:00,  6.72batch/s]\n",
      "Valid: 100%|██████████| 138/138 [00:05<00:00, 26.03batch/s]\n"
     ]
    },
    {
     "name": "stdout",
     "output_type": "stream",
     "text": [
      "Epoch 124/6000, Train Loss: 0.3610, Train Coeff: 0.3942, Val Loss: 0.3519, Val Coeff: 0.2911, Time: 25.69 sec\n"
     ]
    },
    {
     "name": "stderr",
     "output_type": "stream",
     "text": [
      "Train: 100%|██████████| 137/137 [00:20<00:00,  6.65batch/s]\n",
      "Valid: 100%|██████████| 138/138 [00:05<00:00, 26.04batch/s]\n"
     ]
    },
    {
     "name": "stdout",
     "output_type": "stream",
     "text": [
      "Epoch 125/6000, Train Loss: 0.3609, Train Coeff: 0.3944, Val Loss: 0.3514, Val Coeff: 0.3220, Time: 25.90 sec\n"
     ]
    },
    {
     "name": "stderr",
     "output_type": "stream",
     "text": [
      "Train: 100%|██████████| 137/137 [00:20<00:00,  6.66batch/s]\n",
      "Valid: 100%|██████████| 138/138 [00:05<00:00, 26.15batch/s]\n"
     ]
    },
    {
     "name": "stdout",
     "output_type": "stream",
     "text": [
      "Epoch 126/6000, Train Loss: 0.3611, Train Coeff: 0.3987, Val Loss: 0.3497, Val Coeff: 0.3271, Time: 25.85 sec\n"
     ]
    },
    {
     "name": "stderr",
     "output_type": "stream",
     "text": [
      "Train: 100%|██████████| 137/137 [00:20<00:00,  6.66batch/s]\n",
      "Valid: 100%|██████████| 138/138 [00:05<00:00, 25.96batch/s]\n"
     ]
    },
    {
     "name": "stdout",
     "output_type": "stream",
     "text": [
      "Epoch 127/6000, Train Loss: 0.3612, Train Coeff: 0.4047, Val Loss: 0.3497, Val Coeff: 0.3264, Time: 25.88 sec\n"
     ]
    },
    {
     "name": "stderr",
     "output_type": "stream",
     "text": [
      "Train: 100%|██████████| 137/137 [00:20<00:00,  6.63batch/s]\n",
      "Valid: 100%|██████████| 138/138 [00:05<00:00, 25.92batch/s]\n"
     ]
    },
    {
     "name": "stdout",
     "output_type": "stream",
     "text": [
      "Epoch 128/6000, Train Loss: 0.3609, Train Coeff: 0.3938, Val Loss: 0.3501, Val Coeff: 0.3278, Time: 25.99 sec\n"
     ]
    },
    {
     "name": "stderr",
     "output_type": "stream",
     "text": [
      "Train: 100%|██████████| 137/137 [00:20<00:00,  6.65batch/s]\n",
      "Valid: 100%|██████████| 138/138 [00:05<00:00, 26.02batch/s]\n"
     ]
    },
    {
     "name": "stdout",
     "output_type": "stream",
     "text": [
      "Epoch 129/6000, Train Loss: 0.3608, Train Coeff: 0.3967, Val Loss: 0.3506, Val Coeff: 0.3339, Time: 25.90 sec\n"
     ]
    },
    {
     "name": "stderr",
     "output_type": "stream",
     "text": [
      "Train: 100%|██████████| 137/137 [00:20<00:00,  6.67batch/s]\n",
      "Valid: 100%|██████████| 138/138 [00:05<00:00, 26.14batch/s]\n"
     ]
    },
    {
     "name": "stdout",
     "output_type": "stream",
     "text": [
      "Epoch 130/6000, Train Loss: 0.3608, Train Coeff: 0.3983, Val Loss: 0.3563, Val Coeff: 0.2886, Time: 25.84 sec\n"
     ]
    },
    {
     "name": "stderr",
     "output_type": "stream",
     "text": [
      "Train: 100%|██████████| 137/137 [00:20<00:00,  6.66batch/s]\n",
      "Valid: 100%|██████████| 138/138 [00:05<00:00, 25.90batch/s]\n"
     ]
    },
    {
     "name": "stdout",
     "output_type": "stream",
     "text": [
      "Epoch 131/6000, Train Loss: 0.3622, Train Coeff: 0.3900, Val Loss: 0.3496, Val Coeff: 0.3177, Time: 25.89 sec\n"
     ]
    },
    {
     "name": "stderr",
     "output_type": "stream",
     "text": [
      "Train: 100%|██████████| 137/137 [00:20<00:00,  6.66batch/s]\n",
      "Valid: 100%|██████████| 138/138 [00:05<00:00, 25.98batch/s]\n"
     ]
    },
    {
     "name": "stdout",
     "output_type": "stream",
     "text": [
      "Epoch 132/6000, Train Loss: 0.3608, Train Coeff: 0.3899, Val Loss: 0.3539, Val Coeff: 0.3290, Time: 25.89 sec\n"
     ]
    },
    {
     "name": "stderr",
     "output_type": "stream",
     "text": [
      "Train: 100%|██████████| 137/137 [00:20<00:00,  6.65batch/s]\n",
      "Valid: 100%|██████████| 138/138 [00:05<00:00, 26.06batch/s]\n"
     ]
    },
    {
     "name": "stdout",
     "output_type": "stream",
     "text": [
      "Epoch 133/6000, Train Loss: 0.3608, Train Coeff: 0.3980, Val Loss: 0.3535, Val Coeff: 0.3313, Time: 25.91 sec\n"
     ]
    },
    {
     "name": "stderr",
     "output_type": "stream",
     "text": [
      "Train: 100%|██████████| 137/137 [00:20<00:00,  6.64batch/s]\n",
      "Valid: 100%|██████████| 138/138 [00:05<00:00, 25.99batch/s]\n"
     ]
    },
    {
     "name": "stdout",
     "output_type": "stream",
     "text": [
      "Epoch 134/6000, Train Loss: 0.3608, Train Coeff: 0.3977, Val Loss: 0.3503, Val Coeff: 0.3246, Time: 25.94 sec\n"
     ]
    },
    {
     "name": "stderr",
     "output_type": "stream",
     "text": [
      "Train: 100%|██████████| 137/137 [00:20<00:00,  6.65batch/s]\n",
      "Valid: 100%|██████████| 138/138 [00:05<00:00, 25.93batch/s]\n"
     ]
    },
    {
     "name": "stdout",
     "output_type": "stream",
     "text": [
      "Epoch 135/6000, Train Loss: 0.3609, Train Coeff: 0.3999, Val Loss: 0.3510, Val Coeff: 0.3245, Time: 25.93 sec\n"
     ]
    },
    {
     "name": "stderr",
     "output_type": "stream",
     "text": [
      "Train: 100%|██████████| 137/137 [00:20<00:00,  6.68batch/s]\n",
      "Valid: 100%|██████████| 138/138 [00:05<00:00, 25.98batch/s]\n"
     ]
    },
    {
     "name": "stdout",
     "output_type": "stream",
     "text": [
      "Epoch 136/6000, Train Loss: 0.3608, Train Coeff: 0.3959, Val Loss: 0.3501, Val Coeff: 0.3270, Time: 25.83 sec\n"
     ]
    },
    {
     "name": "stderr",
     "output_type": "stream",
     "text": [
      "Train: 100%|██████████| 137/137 [00:20<00:00,  6.66batch/s]\n",
      "Valid: 100%|██████████| 138/138 [00:05<00:00, 26.01batch/s]\n"
     ]
    },
    {
     "name": "stdout",
     "output_type": "stream",
     "text": [
      "Epoch 137/6000, Train Loss: 0.3610, Train Coeff: 0.3977, Val Loss: 0.3521, Val Coeff: 0.2887, Time: 25.88 sec\n"
     ]
    },
    {
     "name": "stderr",
     "output_type": "stream",
     "text": [
      "Train: 100%|██████████| 137/137 [00:20<00:00,  6.66batch/s]\n",
      "Valid: 100%|██████████| 138/138 [00:05<00:00, 25.90batch/s]\n"
     ]
    },
    {
     "name": "stdout",
     "output_type": "stream",
     "text": [
      "Epoch 138/6000, Train Loss: 0.3609, Train Coeff: 0.3997, Val Loss: 0.3512, Val Coeff: 0.3362, Time: 25.92 sec\n"
     ]
    },
    {
     "name": "stderr",
     "output_type": "stream",
     "text": [
      "Train: 100%|██████████| 137/137 [00:20<00:00,  6.66batch/s]\n",
      "Valid: 100%|██████████| 138/138 [00:05<00:00, 26.07batch/s]\n"
     ]
    },
    {
     "name": "stdout",
     "output_type": "stream",
     "text": [
      "Epoch 139/6000, Train Loss: 0.3611, Train Coeff: 0.3965, Val Loss: 0.3498, Val Coeff: 0.3080, Time: 25.88 sec\n"
     ]
    },
    {
     "name": "stderr",
     "output_type": "stream",
     "text": [
      "Train: 100%|██████████| 137/137 [00:20<00:00,  6.67batch/s]\n",
      "Valid: 100%|██████████| 138/138 [00:05<00:00, 26.09batch/s]\n"
     ]
    },
    {
     "name": "stdout",
     "output_type": "stream",
     "text": [
      "Epoch 140/6000, Train Loss: 0.3609, Train Coeff: 0.4011, Val Loss: 0.3502, Val Coeff: 0.3323, Time: 25.85 sec\n"
     ]
    },
    {
     "name": "stderr",
     "output_type": "stream",
     "text": [
      "Train: 100%|██████████| 137/137 [00:20<00:00,  6.66batch/s]\n",
      "Valid: 100%|██████████| 138/138 [00:05<00:00, 26.11batch/s]\n"
     ]
    },
    {
     "name": "stdout",
     "output_type": "stream",
     "text": [
      "Epoch 141/6000, Train Loss: 0.3608, Train Coeff: 0.3938, Val Loss: 0.3503, Val Coeff: 0.3080, Time: 25.88 sec\n"
     ]
    },
    {
     "name": "stderr",
     "output_type": "stream",
     "text": [
      "Train: 100%|██████████| 137/137 [00:20<00:00,  6.69batch/s]\n",
      "Valid: 100%|██████████| 138/138 [00:05<00:00, 25.96batch/s]\n"
     ]
    },
    {
     "name": "stdout",
     "output_type": "stream",
     "text": [
      "Epoch 142/6000, Train Loss: 0.3610, Train Coeff: 0.3968, Val Loss: 0.3503, Val Coeff: 0.3167, Time: 25.82 sec\n"
     ]
    },
    {
     "name": "stderr",
     "output_type": "stream",
     "text": [
      "Train: 100%|██████████| 137/137 [00:20<00:00,  6.69batch/s]\n",
      "Valid: 100%|██████████| 138/138 [00:05<00:00, 25.99batch/s]\n"
     ]
    },
    {
     "name": "stdout",
     "output_type": "stream",
     "text": [
      "Epoch 143/6000, Train Loss: 0.3617, Train Coeff: 0.3964, Val Loss: 0.3501, Val Coeff: 0.3064, Time: 25.80 sec\n"
     ]
    },
    {
     "name": "stderr",
     "output_type": "stream",
     "text": [
      "Train: 100%|██████████| 137/137 [00:20<00:00,  6.65batch/s]\n",
      "Valid: 100%|██████████| 138/138 [00:05<00:00, 26.08batch/s]\n"
     ]
    },
    {
     "name": "stdout",
     "output_type": "stream",
     "text": [
      "Epoch 144/6000, Train Loss: 0.3620, Train Coeff: 0.3942, Val Loss: 0.3500, Val Coeff: 0.3302, Time: 25.90 sec\n"
     ]
    },
    {
     "name": "stderr",
     "output_type": "stream",
     "text": [
      "Train: 100%|██████████| 137/137 [00:20<00:00,  6.66batch/s]\n",
      "Valid: 100%|██████████| 138/138 [00:05<00:00, 26.04batch/s]\n"
     ]
    },
    {
     "name": "stdout",
     "output_type": "stream",
     "text": [
      "Epoch 145/6000, Train Loss: 0.3612, Train Coeff: 0.3983, Val Loss: 0.3499, Val Coeff: 0.3202, Time: 25.86 sec\n"
     ]
    },
    {
     "name": "stderr",
     "output_type": "stream",
     "text": [
      "Train: 100%|██████████| 137/137 [00:20<00:00,  6.69batch/s]\n",
      "Valid: 100%|██████████| 138/138 [00:05<00:00, 25.70batch/s]\n"
     ]
    },
    {
     "name": "stdout",
     "output_type": "stream",
     "text": [
      "Epoch 146/6000, Train Loss: 0.3607, Train Coeff: 0.3972, Val Loss: 0.3502, Val Coeff: 0.3354, Time: 25.85 sec\n"
     ]
    },
    {
     "name": "stderr",
     "output_type": "stream",
     "text": [
      "Train: 100%|██████████| 137/137 [00:20<00:00,  6.71batch/s]\n",
      "Valid: 100%|██████████| 138/138 [00:05<00:00, 25.70batch/s]\n"
     ]
    },
    {
     "name": "stdout",
     "output_type": "stream",
     "text": [
      "Epoch 147/6000, Train Loss: 0.3609, Train Coeff: 0.4012, Val Loss: 0.3499, Val Coeff: 0.3264, Time: 25.81 sec\n"
     ]
    },
    {
     "name": "stderr",
     "output_type": "stream",
     "text": [
      "Train: 100%|██████████| 137/137 [00:20<00:00,  6.69batch/s]\n",
      "Valid: 100%|██████████| 138/138 [00:05<00:00, 25.64batch/s]\n"
     ]
    },
    {
     "name": "stdout",
     "output_type": "stream",
     "text": [
      "Epoch 148/6000, Train Loss: 0.3608, Train Coeff: 0.3947, Val Loss: 0.3496, Val Coeff: 0.3339, Time: 25.86 sec\n"
     ]
    },
    {
     "name": "stderr",
     "output_type": "stream",
     "text": [
      "Train: 100%|██████████| 137/137 [00:20<00:00,  6.70batch/s]\n",
      "Valid: 100%|██████████| 138/138 [00:05<00:00, 25.58batch/s]\n"
     ]
    },
    {
     "name": "stdout",
     "output_type": "stream",
     "text": [
      "Epoch 149/6000, Train Loss: 0.3606, Train Coeff: 0.4015, Val Loss: 0.3499, Val Coeff: 0.3234, Time: 25.87 sec\n"
     ]
    },
    {
     "name": "stderr",
     "output_type": "stream",
     "text": [
      "Train: 100%|██████████| 137/137 [00:20<00:00,  6.69batch/s]\n",
      "Valid: 100%|██████████| 138/138 [00:05<00:00, 25.75batch/s]\n"
     ]
    },
    {
     "name": "stdout",
     "output_type": "stream",
     "text": [
      "Epoch 150/6000, Train Loss: 0.3608, Train Coeff: 0.3994, Val Loss: 0.3508, Val Coeff: 0.3473, Time: 25.84 sec\n"
     ]
    },
    {
     "name": "stderr",
     "output_type": "stream",
     "text": [
      "Train: 100%|██████████| 137/137 [00:20<00:00,  6.69batch/s]\n",
      "Valid: 100%|██████████| 138/138 [00:05<00:00, 25.76batch/s]\n"
     ]
    },
    {
     "name": "stdout",
     "output_type": "stream",
     "text": [
      "Epoch 151/6000, Train Loss: 0.3609, Train Coeff: 0.3941, Val Loss: 0.3499, Val Coeff: 0.3090, Time: 25.84 sec\n"
     ]
    },
    {
     "name": "stderr",
     "output_type": "stream",
     "text": [
      "Train: 100%|██████████| 137/137 [00:20<00:00,  6.70batch/s]\n",
      "Valid: 100%|██████████| 138/138 [00:05<00:00, 25.82batch/s]\n"
     ]
    },
    {
     "name": "stdout",
     "output_type": "stream",
     "text": [
      "Epoch 152/6000, Train Loss: 0.3612, Train Coeff: 0.3985, Val Loss: 0.3499, Val Coeff: 0.3359, Time: 25.79 sec\n"
     ]
    },
    {
     "name": "stderr",
     "output_type": "stream",
     "text": [
      "Train: 100%|██████████| 137/137 [00:20<00:00,  6.70batch/s]\n",
      "Valid: 100%|██████████| 138/138 [00:05<00:00, 25.66batch/s]\n"
     ]
    },
    {
     "name": "stdout",
     "output_type": "stream",
     "text": [
      "Epoch 153/6000, Train Loss: 0.3612, Train Coeff: 0.4004, Val Loss: 0.3499, Val Coeff: 0.3337, Time: 25.83 sec\n"
     ]
    },
    {
     "name": "stderr",
     "output_type": "stream",
     "text": [
      "Train: 100%|██████████| 137/137 [00:20<00:00,  6.71batch/s]\n",
      "Valid: 100%|██████████| 138/138 [00:05<00:00, 25.76batch/s]\n"
     ]
    },
    {
     "name": "stdout",
     "output_type": "stream",
     "text": [
      "Epoch 154/6000, Train Loss: 0.3607, Train Coeff: 0.3996, Val Loss: 0.3522, Val Coeff: 0.2821, Time: 25.80 sec\n"
     ]
    },
    {
     "name": "stderr",
     "output_type": "stream",
     "text": [
      "Train: 100%|██████████| 137/137 [00:20<00:00,  6.69batch/s]\n",
      "Valid: 100%|██████████| 138/138 [00:05<00:00, 25.74batch/s]\n"
     ]
    },
    {
     "name": "stdout",
     "output_type": "stream",
     "text": [
      "Epoch 155/6000, Train Loss: 0.3610, Train Coeff: 0.3933, Val Loss: 0.3499, Val Coeff: 0.3299, Time: 25.85 sec\n"
     ]
    },
    {
     "name": "stderr",
     "output_type": "stream",
     "text": [
      "Train: 100%|██████████| 137/137 [00:20<00:00,  6.71batch/s]\n",
      "Valid: 100%|██████████| 138/138 [00:05<00:00, 26.09batch/s]\n"
     ]
    },
    {
     "name": "stdout",
     "output_type": "stream",
     "text": [
      "Epoch 156/6000, Train Loss: 0.3609, Train Coeff: 0.3960, Val Loss: 0.3503, Val Coeff: 0.3465, Time: 25.73 sec\n"
     ]
    },
    {
     "name": "stderr",
     "output_type": "stream",
     "text": [
      "Train: 100%|██████████| 137/137 [00:20<00:00,  6.68batch/s]\n",
      "Valid: 100%|██████████| 138/138 [00:05<00:00, 26.08batch/s]\n"
     ]
    },
    {
     "name": "stdout",
     "output_type": "stream",
     "text": [
      "Epoch 157/6000, Train Loss: 0.3611, Train Coeff: 0.3973, Val Loss: 0.3504, Val Coeff: 0.3313, Time: 25.80 sec\n"
     ]
    },
    {
     "name": "stderr",
     "output_type": "stream",
     "text": [
      "Train: 100%|██████████| 137/137 [00:20<00:00,  6.66batch/s]\n",
      "Valid: 100%|██████████| 138/138 [00:05<00:00, 26.12batch/s]\n"
     ]
    },
    {
     "name": "stdout",
     "output_type": "stream",
     "text": [
      "Epoch 158/6000, Train Loss: 0.3607, Train Coeff: 0.3938, Val Loss: 0.3501, Val Coeff: 0.3390, Time: 25.87 sec\n"
     ]
    },
    {
     "name": "stderr",
     "output_type": "stream",
     "text": [
      "Train: 100%|██████████| 137/137 [00:20<00:00,  6.65batch/s]\n",
      "Valid: 100%|██████████| 138/138 [00:05<00:00, 26.07batch/s]\n"
     ]
    },
    {
     "name": "stdout",
     "output_type": "stream",
     "text": [
      "Epoch 159/6000, Train Loss: 0.3610, Train Coeff: 0.3979, Val Loss: 0.3522, Val Coeff: 0.3153, Time: 25.89 sec\n"
     ]
    },
    {
     "name": "stderr",
     "output_type": "stream",
     "text": [
      "Train: 100%|██████████| 137/137 [00:20<00:00,  6.68batch/s]\n",
      "Valid: 100%|██████████| 138/138 [00:05<00:00, 26.09batch/s]\n"
     ]
    },
    {
     "name": "stdout",
     "output_type": "stream",
     "text": [
      "Epoch 160/6000, Train Loss: 0.3609, Train Coeff: 0.3955, Val Loss: 0.3495, Val Coeff: 0.3222, Time: 25.82 sec\n"
     ]
    },
    {
     "name": "stderr",
     "output_type": "stream",
     "text": [
      "Train: 100%|██████████| 137/137 [00:20<00:00,  6.66batch/s]\n",
      "Valid: 100%|██████████| 138/138 [00:05<00:00, 26.13batch/s]\n"
     ]
    },
    {
     "name": "stdout",
     "output_type": "stream",
     "text": [
      "Epoch 161/6000, Train Loss: 0.3608, Train Coeff: 0.3990, Val Loss: 0.3509, Val Coeff: 0.3139, Time: 25.87 sec\n"
     ]
    },
    {
     "name": "stderr",
     "output_type": "stream",
     "text": [
      "Train: 100%|██████████| 137/137 [00:20<00:00,  6.68batch/s]\n",
      "Valid: 100%|██████████| 138/138 [00:05<00:00, 26.15batch/s]\n"
     ]
    },
    {
     "name": "stdout",
     "output_type": "stream",
     "text": [
      "Epoch 162/6000, Train Loss: 0.3607, Train Coeff: 0.3984, Val Loss: 0.3511, Val Coeff: 0.3486, Time: 25.80 sec\n"
     ]
    },
    {
     "name": "stderr",
     "output_type": "stream",
     "text": [
      "Train: 100%|██████████| 137/137 [00:20<00:00,  6.68batch/s]\n",
      "Valid: 100%|██████████| 138/138 [00:05<00:00, 26.04batch/s]\n"
     ]
    },
    {
     "name": "stdout",
     "output_type": "stream",
     "text": [
      "Epoch 163/6000, Train Loss: 0.3608, Train Coeff: 0.3948, Val Loss: 0.3497, Val Coeff: 0.3270, Time: 25.81 sec\n"
     ]
    },
    {
     "name": "stderr",
     "output_type": "stream",
     "text": [
      "Train: 100%|██████████| 137/137 [00:20<00:00,  6.68batch/s]\n",
      "Valid: 100%|██████████| 138/138 [00:05<00:00, 25.99batch/s]\n"
     ]
    },
    {
     "name": "stdout",
     "output_type": "stream",
     "text": [
      "Epoch 164/6000, Train Loss: 0.3608, Train Coeff: 0.3933, Val Loss: 0.3501, Val Coeff: 0.3269, Time: 25.82 sec\n"
     ]
    },
    {
     "name": "stderr",
     "output_type": "stream",
     "text": [
      "Train: 100%|██████████| 137/137 [00:20<00:00,  6.67batch/s]\n",
      "Valid: 100%|██████████| 138/138 [00:05<00:00, 26.19batch/s]\n"
     ]
    },
    {
     "name": "stdout",
     "output_type": "stream",
     "text": [
      "Epoch 165/6000, Train Loss: 0.3613, Train Coeff: 0.3995, Val Loss: 0.3500, Val Coeff: 0.3076, Time: 25.80 sec\n"
     ]
    },
    {
     "name": "stderr",
     "output_type": "stream",
     "text": [
      "Train: 100%|██████████| 137/137 [00:20<00:00,  6.63batch/s]\n",
      "Valid: 100%|██████████| 138/138 [00:05<00:00, 26.03batch/s]\n"
     ]
    },
    {
     "name": "stdout",
     "output_type": "stream",
     "text": [
      "Epoch 166/6000, Train Loss: 0.3606, Train Coeff: 0.3944, Val Loss: 0.3504, Val Coeff: 0.3207, Time: 25.98 sec\n"
     ]
    },
    {
     "name": "stderr",
     "output_type": "stream",
     "text": [
      "Train: 100%|██████████| 137/137 [00:20<00:00,  6.68batch/s]\n",
      "Valid: 100%|██████████| 138/138 [00:05<00:00, 26.04batch/s]\n"
     ]
    },
    {
     "name": "stdout",
     "output_type": "stream",
     "text": [
      "Epoch 167/6000, Train Loss: 0.3615, Train Coeff: 0.3970, Val Loss: 0.3515, Val Coeff: 0.3237, Time: 25.81 sec\n"
     ]
    },
    {
     "name": "stderr",
     "output_type": "stream",
     "text": [
      "Train: 100%|██████████| 137/137 [00:20<00:00,  6.69batch/s]\n",
      "Valid: 100%|██████████| 138/138 [00:05<00:00, 26.16batch/s]\n"
     ]
    },
    {
     "name": "stdout",
     "output_type": "stream",
     "text": [
      "Epoch 168/6000, Train Loss: 0.3610, Train Coeff: 0.3912, Val Loss: 0.3507, Val Coeff: 0.3389, Time: 25.75 sec\n"
     ]
    },
    {
     "name": "stderr",
     "output_type": "stream",
     "text": [
      "Train: 100%|██████████| 137/137 [00:20<00:00,  6.67batch/s]\n",
      "Valid: 100%|██████████| 138/138 [00:05<00:00, 26.17batch/s]\n"
     ]
    },
    {
     "name": "stdout",
     "output_type": "stream",
     "text": [
      "Epoch 169/6000, Train Loss: 0.3608, Train Coeff: 0.3964, Val Loss: 0.3549, Val Coeff: 0.2714, Time: 25.82 sec\n"
     ]
    },
    {
     "name": "stderr",
     "output_type": "stream",
     "text": [
      "Train: 100%|██████████| 137/137 [00:20<00:00,  6.67batch/s]\n",
      "Valid: 100%|██████████| 138/138 [00:05<00:00, 26.09batch/s]\n"
     ]
    },
    {
     "name": "stdout",
     "output_type": "stream",
     "text": [
      "Epoch 170/6000, Train Loss: 0.3610, Train Coeff: 0.3979, Val Loss: 0.3522, Val Coeff: 0.3128, Time: 25.84 sec\n"
     ]
    },
    {
     "name": "stderr",
     "output_type": "stream",
     "text": [
      "Train: 100%|██████████| 137/137 [00:20<00:00,  6.69batch/s]\n",
      "Valid: 100%|██████████| 138/138 [00:05<00:00, 26.03batch/s]\n"
     ]
    },
    {
     "name": "stdout",
     "output_type": "stream",
     "text": [
      "Epoch 171/6000, Train Loss: 0.3608, Train Coeff: 0.3978, Val Loss: 0.3499, Val Coeff: 0.3245, Time: 25.80 sec\n"
     ]
    },
    {
     "name": "stderr",
     "output_type": "stream",
     "text": [
      "Train: 100%|██████████| 137/137 [00:20<00:00,  6.66batch/s]\n",
      "Valid: 100%|██████████| 138/138 [00:05<00:00, 26.11batch/s]\n"
     ]
    },
    {
     "name": "stdout",
     "output_type": "stream",
     "text": [
      "Epoch 172/6000, Train Loss: 0.3611, Train Coeff: 0.3862, Val Loss: 0.3500, Val Coeff: 0.3249, Time: 25.85 sec\n"
     ]
    },
    {
     "name": "stderr",
     "output_type": "stream",
     "text": [
      "Train: 100%|██████████| 137/137 [00:20<00:00,  6.66batch/s]\n",
      "Valid: 100%|██████████| 138/138 [00:05<00:00, 26.19batch/s]\n"
     ]
    },
    {
     "name": "stdout",
     "output_type": "stream",
     "text": [
      "Epoch 173/6000, Train Loss: 0.3611, Train Coeff: 0.3934, Val Loss: 0.3517, Val Coeff: 0.2979, Time: 25.84 sec\n"
     ]
    },
    {
     "name": "stderr",
     "output_type": "stream",
     "text": [
      "Train: 100%|██████████| 137/137 [00:20<00:00,  6.69batch/s]\n",
      "Valid: 100%|██████████| 138/138 [00:05<00:00, 26.10batch/s]\n"
     ]
    },
    {
     "name": "stdout",
     "output_type": "stream",
     "text": [
      "Epoch 174/6000, Train Loss: 0.3615, Train Coeff: 0.3950, Val Loss: 0.3505, Val Coeff: 0.3188, Time: 25.78 sec\n"
     ]
    },
    {
     "name": "stderr",
     "output_type": "stream",
     "text": [
      "Train: 100%|██████████| 137/137 [00:20<00:00,  6.68batch/s]\n",
      "Valid: 100%|██████████| 138/138 [00:05<00:00, 25.75batch/s]\n"
     ]
    },
    {
     "name": "stdout",
     "output_type": "stream",
     "text": [
      "Epoch 175/6000, Train Loss: 0.3608, Train Coeff: 0.3955, Val Loss: 0.3496, Val Coeff: 0.3144, Time: 25.86 sec\n"
     ]
    },
    {
     "name": "stderr",
     "output_type": "stream",
     "text": [
      "Train: 100%|██████████| 137/137 [00:20<00:00,  6.69batch/s]\n",
      "Valid: 100%|██████████| 138/138 [00:05<00:00, 26.13batch/s]\n"
     ]
    },
    {
     "name": "stdout",
     "output_type": "stream",
     "text": [
      "Epoch 176/6000, Train Loss: 0.3606, Train Coeff: 0.3961, Val Loss: 0.3495, Val Coeff: 0.3145, Time: 25.76 sec\n"
     ]
    },
    {
     "name": "stderr",
     "output_type": "stream",
     "text": [
      "Train: 100%|██████████| 137/137 [00:20<00:00,  6.71batch/s]\n",
      "Valid: 100%|██████████| 138/138 [00:05<00:00, 25.73batch/s]\n"
     ]
    },
    {
     "name": "stdout",
     "output_type": "stream",
     "text": [
      "Epoch 177/6000, Train Loss: 0.3611, Train Coeff: 0.3979, Val Loss: 0.3499, Val Coeff: 0.3266, Time: 25.78 sec\n"
     ]
    },
    {
     "name": "stderr",
     "output_type": "stream",
     "text": [
      "Train: 100%|██████████| 137/137 [00:20<00:00,  6.73batch/s]\n",
      "Valid: 100%|██████████| 138/138 [00:05<00:00, 25.59batch/s]\n"
     ]
    },
    {
     "name": "stdout",
     "output_type": "stream",
     "text": [
      "Epoch 178/6000, Train Loss: 0.3609, Train Coeff: 0.3994, Val Loss: 0.3509, Val Coeff: 0.3293, Time: 25.77 sec\n"
     ]
    },
    {
     "name": "stderr",
     "output_type": "stream",
     "text": [
      "Train: 100%|██████████| 137/137 [00:20<00:00,  6.72batch/s]\n",
      "Valid: 100%|██████████| 138/138 [00:05<00:00, 25.81batch/s]\n"
     ]
    },
    {
     "name": "stdout",
     "output_type": "stream",
     "text": [
      "Epoch 179/6000, Train Loss: 0.3612, Train Coeff: 0.3936, Val Loss: 0.3496, Val Coeff: 0.3338, Time: 25.75 sec\n"
     ]
    },
    {
     "name": "stderr",
     "output_type": "stream",
     "text": [
      "Train: 100%|██████████| 137/137 [00:20<00:00,  6.74batch/s]\n",
      "Valid: 100%|██████████| 138/138 [00:05<00:00, 25.75batch/s]\n"
     ]
    },
    {
     "name": "stdout",
     "output_type": "stream",
     "text": [
      "Epoch 180/6000, Train Loss: 0.3613, Train Coeff: 0.3995, Val Loss: 0.3495, Val Coeff: 0.3267, Time: 25.71 sec\n"
     ]
    },
    {
     "name": "stderr",
     "output_type": "stream",
     "text": [
      "Train: 100%|██████████| 137/137 [00:20<00:00,  6.73batch/s]\n",
      "Valid: 100%|██████████| 138/138 [00:05<00:00, 25.35batch/s]\n"
     ]
    },
    {
     "name": "stdout",
     "output_type": "stream",
     "text": [
      "Epoch 181/6000, Train Loss: 0.3613, Train Coeff: 0.3953, Val Loss: 0.3509, Val Coeff: 0.3286, Time: 25.82 sec\n"
     ]
    },
    {
     "name": "stderr",
     "output_type": "stream",
     "text": [
      "Train: 100%|██████████| 137/137 [00:20<00:00,  6.72batch/s]\n",
      "Valid: 100%|██████████| 138/138 [00:05<00:00, 25.73batch/s]\n"
     ]
    },
    {
     "name": "stdout",
     "output_type": "stream",
     "text": [
      "Epoch 182/6000, Train Loss: 0.3608, Train Coeff: 0.4020, Val Loss: 0.3503, Val Coeff: 0.3316, Time: 25.77 sec\n"
     ]
    },
    {
     "name": "stderr",
     "output_type": "stream",
     "text": [
      "Train: 100%|██████████| 137/137 [00:20<00:00,  6.71batch/s]\n",
      "Valid: 100%|██████████| 138/138 [00:05<00:00, 25.87batch/s]\n"
     ]
    },
    {
     "name": "stdout",
     "output_type": "stream",
     "text": [
      "Epoch 183/6000, Train Loss: 0.3607, Train Coeff: 0.3963, Val Loss: 0.3501, Val Coeff: 0.3263, Time: 25.75 sec\n"
     ]
    },
    {
     "name": "stderr",
     "output_type": "stream",
     "text": [
      "Train: 100%|██████████| 137/137 [00:20<00:00,  6.71batch/s]\n",
      "Valid: 100%|██████████| 138/138 [00:05<00:00, 25.75batch/s]\n"
     ]
    },
    {
     "name": "stdout",
     "output_type": "stream",
     "text": [
      "Epoch 184/6000, Train Loss: 0.3615, Train Coeff: 0.3954, Val Loss: 0.3616, Val Coeff: 0.3115, Time: 25.78 sec\n"
     ]
    },
    {
     "name": "stderr",
     "output_type": "stream",
     "text": [
      "Train: 100%|██████████| 137/137 [00:20<00:00,  6.73batch/s]\n",
      "Valid: 100%|██████████| 138/138 [00:05<00:00, 25.59batch/s]\n"
     ]
    },
    {
     "name": "stdout",
     "output_type": "stream",
     "text": [
      "Epoch 185/6000, Train Loss: 0.3607, Train Coeff: 0.3946, Val Loss: 0.3503, Val Coeff: 0.3180, Time: 25.76 sec\n"
     ]
    },
    {
     "name": "stderr",
     "output_type": "stream",
     "text": [
      "Train: 100%|██████████| 137/137 [00:20<00:00,  6.72batch/s]\n",
      "Valid: 100%|██████████| 138/138 [00:05<00:00, 25.76batch/s]\n"
     ]
    },
    {
     "name": "stdout",
     "output_type": "stream",
     "text": [
      "Epoch 186/6000, Train Loss: 0.3620, Train Coeff: 0.3957, Val Loss: 0.3507, Val Coeff: 0.3374, Time: 25.76 sec\n"
     ]
    },
    {
     "name": "stderr",
     "output_type": "stream",
     "text": [
      "Train: 100%|██████████| 137/137 [00:20<00:00,  6.71batch/s]\n",
      "Valid: 100%|██████████| 138/138 [00:05<00:00, 25.82batch/s]\n"
     ]
    },
    {
     "name": "stdout",
     "output_type": "stream",
     "text": [
      "Epoch 187/6000, Train Loss: 0.3605, Train Coeff: 0.3943, Val Loss: 0.3496, Val Coeff: 0.3097, Time: 25.77 sec\n"
     ]
    },
    {
     "name": "stderr",
     "output_type": "stream",
     "text": [
      "Train: 100%|██████████| 137/137 [00:20<00:00,  6.72batch/s]\n",
      "Valid: 100%|██████████| 138/138 [00:05<00:00, 25.69batch/s]\n"
     ]
    },
    {
     "name": "stdout",
     "output_type": "stream",
     "text": [
      "Epoch 188/6000, Train Loss: 0.3606, Train Coeff: 0.3958, Val Loss: 0.3496, Val Coeff: 0.2955, Time: 25.75 sec\n"
     ]
    },
    {
     "name": "stderr",
     "output_type": "stream",
     "text": [
      "Train: 100%|██████████| 137/137 [00:20<00:00,  6.71batch/s]\n",
      "Valid: 100%|██████████| 138/138 [00:05<00:00, 25.64batch/s]\n"
     ]
    },
    {
     "name": "stdout",
     "output_type": "stream",
     "text": [
      "Epoch 189/6000, Train Loss: 0.3609, Train Coeff: 0.3938, Val Loss: 0.3542, Val Coeff: 0.3177, Time: 25.79 sec\n"
     ]
    },
    {
     "name": "stderr",
     "output_type": "stream",
     "text": [
      "Train: 100%|██████████| 137/137 [00:20<00:00,  6.73batch/s]\n",
      "Valid: 100%|██████████| 138/138 [00:05<00:00, 25.71batch/s]\n"
     ]
    },
    {
     "name": "stdout",
     "output_type": "stream",
     "text": [
      "Epoch 190/6000, Train Loss: 0.3610, Train Coeff: 0.3957, Val Loss: 0.3496, Val Coeff: 0.3246, Time: 25.73 sec\n"
     ]
    },
    {
     "name": "stderr",
     "output_type": "stream",
     "text": [
      "Train: 100%|██████████| 137/137 [00:20<00:00,  6.71batch/s]\n",
      "Valid: 100%|██████████| 138/138 [00:05<00:00, 26.11batch/s]\n"
     ]
    },
    {
     "name": "stdout",
     "output_type": "stream",
     "text": [
      "Epoch 191/6000, Train Loss: 0.3608, Train Coeff: 0.4002, Val Loss: 0.3500, Val Coeff: 0.3131, Time: 25.71 sec\n"
     ]
    },
    {
     "name": "stderr",
     "output_type": "stream",
     "text": [
      "Train: 100%|██████████| 137/137 [00:20<00:00,  6.66batch/s]\n",
      "Valid: 100%|██████████| 138/138 [00:05<00:00, 26.04batch/s]\n"
     ]
    },
    {
     "name": "stdout",
     "output_type": "stream",
     "text": [
      "Epoch 192/6000, Train Loss: 0.3610, Train Coeff: 0.3961, Val Loss: 0.3496, Val Coeff: 0.3245, Time: 25.89 sec\n"
     ]
    },
    {
     "name": "stderr",
     "output_type": "stream",
     "text": [
      "Train: 100%|██████████| 137/137 [00:20<00:00,  6.69batch/s]\n",
      "Valid: 100%|██████████| 138/138 [00:05<00:00, 26.13batch/s]\n"
     ]
    },
    {
     "name": "stdout",
     "output_type": "stream",
     "text": [
      "Epoch 193/6000, Train Loss: 0.3615, Train Coeff: 0.3987, Val Loss: 0.3494, Val Coeff: 0.3320, Time: 25.78 sec\n"
     ]
    },
    {
     "name": "stderr",
     "output_type": "stream",
     "text": [
      "Train: 100%|██████████| 137/137 [00:20<00:00,  6.69batch/s]\n",
      "Valid: 100%|██████████| 138/138 [00:05<00:00, 26.07batch/s]\n"
     ]
    },
    {
     "name": "stdout",
     "output_type": "stream",
     "text": [
      "Epoch 194/6000, Train Loss: 0.3610, Train Coeff: 0.3941, Val Loss: 0.3509, Val Coeff: 0.3051, Time: 25.79 sec\n"
     ]
    },
    {
     "name": "stderr",
     "output_type": "stream",
     "text": [
      "Train: 100%|██████████| 137/137 [00:20<00:00,  6.68batch/s]\n",
      "Valid: 100%|██████████| 138/138 [00:05<00:00, 26.15batch/s]\n"
     ]
    },
    {
     "name": "stdout",
     "output_type": "stream",
     "text": [
      "Epoch 195/6000, Train Loss: 0.3618, Train Coeff: 0.3931, Val Loss: 0.3504, Val Coeff: 0.3261, Time: 25.79 sec\n"
     ]
    },
    {
     "name": "stderr",
     "output_type": "stream",
     "text": [
      "Train: 100%|██████████| 137/137 [00:20<00:00,  6.70batch/s]\n",
      "Valid: 100%|██████████| 138/138 [00:05<00:00, 26.02batch/s]\n"
     ]
    },
    {
     "name": "stdout",
     "output_type": "stream",
     "text": [
      "Epoch 196/6000, Train Loss: 0.3612, Train Coeff: 0.3923, Val Loss: 0.3504, Val Coeff: 0.3229, Time: 25.77 sec\n"
     ]
    },
    {
     "name": "stderr",
     "output_type": "stream",
     "text": [
      "Train: 100%|██████████| 137/137 [00:20<00:00,  6.69batch/s]\n",
      "Valid: 100%|██████████| 138/138 [00:05<00:00, 26.14batch/s]\n"
     ]
    },
    {
     "name": "stdout",
     "output_type": "stream",
     "text": [
      "Epoch 197/6000, Train Loss: 0.3615, Train Coeff: 0.3978, Val Loss: 0.3503, Val Coeff: 0.3261, Time: 25.77 sec\n"
     ]
    },
    {
     "name": "stderr",
     "output_type": "stream",
     "text": [
      "Train: 100%|██████████| 137/137 [00:20<00:00,  6.67batch/s]\n",
      "Valid: 100%|██████████| 138/138 [00:05<00:00, 26.06batch/s]\n"
     ]
    },
    {
     "name": "stdout",
     "output_type": "stream",
     "text": [
      "Epoch 198/6000, Train Loss: 0.3612, Train Coeff: 0.3986, Val Loss: 0.3593, Val Coeff: 0.2976, Time: 25.85 sec\n"
     ]
    },
    {
     "name": "stderr",
     "output_type": "stream",
     "text": [
      "Train: 100%|██████████| 137/137 [00:20<00:00,  6.66batch/s]\n",
      "Valid: 100%|██████████| 138/138 [00:05<00:00, 26.07batch/s]\n"
     ]
    },
    {
     "name": "stdout",
     "output_type": "stream",
     "text": [
      "Epoch 199/6000, Train Loss: 0.3620, Train Coeff: 0.3976, Val Loss: 0.3513, Val Coeff: 0.3085, Time: 25.87 sec\n"
     ]
    },
    {
     "name": "stderr",
     "output_type": "stream",
     "text": [
      "Train: 100%|██████████| 137/137 [00:20<00:00,  6.67batch/s]\n",
      "Valid: 100%|██████████| 138/138 [00:05<00:00, 26.19batch/s]\n"
     ]
    },
    {
     "name": "stdout",
     "output_type": "stream",
     "text": [
      "Epoch 200/6000, Train Loss: 0.3614, Train Coeff: 0.3938, Val Loss: 0.3525, Val Coeff: 0.3233, Time: 25.83 sec\n"
     ]
    },
    {
     "name": "stderr",
     "output_type": "stream",
     "text": [
      "Train: 100%|██████████| 137/137 [00:20<00:00,  6.68batch/s]\n",
      "Valid: 100%|██████████| 138/138 [00:05<00:00, 26.09batch/s]\n"
     ]
    },
    {
     "name": "stdout",
     "output_type": "stream",
     "text": [
      "Epoch 201/6000, Train Loss: 0.3605, Train Coeff: 0.3947, Val Loss: 0.3502, Val Coeff: 0.3185, Time: 25.82 sec\n"
     ]
    },
    {
     "name": "stderr",
     "output_type": "stream",
     "text": [
      "Train: 100%|██████████| 137/137 [00:20<00:00,  6.70batch/s]\n",
      "Valid: 100%|██████████| 138/138 [00:05<00:00, 26.11batch/s]\n"
     ]
    },
    {
     "name": "stdout",
     "output_type": "stream",
     "text": [
      "Epoch 202/6000, Train Loss: 0.3621, Train Coeff: 0.3934, Val Loss: 0.3503, Val Coeff: 0.3421, Time: 25.75 sec\n"
     ]
    },
    {
     "name": "stderr",
     "output_type": "stream",
     "text": [
      "Train: 100%|██████████| 137/137 [00:20<00:00,  6.68batch/s]\n",
      "Valid: 100%|██████████| 138/138 [00:05<00:00, 25.94batch/s]\n"
     ]
    },
    {
     "name": "stdout",
     "output_type": "stream",
     "text": [
      "Epoch 203/6000, Train Loss: 0.3618, Train Coeff: 0.3965, Val Loss: 0.3495, Val Coeff: 0.3360, Time: 25.83 sec\n"
     ]
    },
    {
     "name": "stderr",
     "output_type": "stream",
     "text": [
      "Train: 100%|██████████| 137/137 [00:20<00:00,  6.68batch/s]\n",
      "Valid: 100%|██████████| 138/138 [00:05<00:00, 26.16batch/s]\n"
     ]
    },
    {
     "name": "stdout",
     "output_type": "stream",
     "text": [
      "Epoch 204/6000, Train Loss: 0.3609, Train Coeff: 0.3929, Val Loss: 0.3495, Val Coeff: 0.3141, Time: 25.80 sec\n"
     ]
    },
    {
     "name": "stderr",
     "output_type": "stream",
     "text": [
      "Train: 100%|██████████| 137/137 [00:20<00:00,  6.69batch/s]\n",
      "Valid: 100%|██████████| 138/138 [00:05<00:00, 26.13batch/s]\n"
     ]
    },
    {
     "name": "stdout",
     "output_type": "stream",
     "text": [
      "Epoch 205/6000, Train Loss: 0.3608, Train Coeff: 0.4017, Val Loss: 0.3501, Val Coeff: 0.3311, Time: 25.77 sec\n"
     ]
    },
    {
     "name": "stderr",
     "output_type": "stream",
     "text": [
      "Train: 100%|██████████| 137/137 [00:20<00:00,  6.69batch/s]\n",
      "Valid: 100%|██████████| 138/138 [00:05<00:00, 26.10batch/s]\n"
     ]
    },
    {
     "name": "stdout",
     "output_type": "stream",
     "text": [
      "Epoch 206/6000, Train Loss: 0.3607, Train Coeff: 0.3932, Val Loss: 0.3496, Val Coeff: 0.3321, Time: 25.78 sec\n"
     ]
    },
    {
     "name": "stderr",
     "output_type": "stream",
     "text": [
      "Train: 100%|██████████| 137/137 [00:20<00:00,  6.66batch/s]\n",
      "Valid: 100%|██████████| 138/138 [00:05<00:00, 25.96batch/s]\n"
     ]
    },
    {
     "name": "stdout",
     "output_type": "stream",
     "text": [
      "Epoch 207/6000, Train Loss: 0.3611, Train Coeff: 0.3971, Val Loss: 0.3536, Val Coeff: 0.3406, Time: 25.88 sec\n"
     ]
    },
    {
     "name": "stderr",
     "output_type": "stream",
     "text": [
      "Train: 100%|██████████| 137/137 [00:20<00:00,  6.70batch/s]\n",
      "Valid: 100%|██████████| 138/138 [00:05<00:00, 26.12batch/s]\n"
     ]
    },
    {
     "name": "stdout",
     "output_type": "stream",
     "text": [
      "Epoch 208/6000, Train Loss: 0.3610, Train Coeff: 0.3988, Val Loss: 0.3516, Val Coeff: 0.3158, Time: 25.75 sec\n"
     ]
    },
    {
     "name": "stderr",
     "output_type": "stream",
     "text": [
      "Train: 100%|██████████| 137/137 [00:20<00:00,  6.67batch/s]\n",
      "Valid: 100%|██████████| 138/138 [00:05<00:00, 26.08batch/s]\n"
     ]
    },
    {
     "name": "stdout",
     "output_type": "stream",
     "text": [
      "Epoch 209/6000, Train Loss: 0.3610, Train Coeff: 0.3996, Val Loss: 0.3501, Val Coeff: 0.3477, Time: 25.84 sec\n"
     ]
    },
    {
     "name": "stderr",
     "output_type": "stream",
     "text": [
      "Train: 100%|██████████| 137/137 [00:20<00:00,  6.67batch/s]\n",
      "Valid: 100%|██████████| 138/138 [00:05<00:00, 26.06batch/s]\n"
     ]
    },
    {
     "name": "stdout",
     "output_type": "stream",
     "text": [
      "Epoch 210/6000, Train Loss: 0.3612, Train Coeff: 0.3973, Val Loss: 0.3505, Val Coeff: 0.3230, Time: 25.83 sec\n"
     ]
    },
    {
     "name": "stderr",
     "output_type": "stream",
     "text": [
      "Train: 100%|██████████| 137/137 [00:20<00:00,  6.68batch/s]\n",
      "Valid: 100%|██████████| 138/138 [00:05<00:00, 26.13batch/s]\n"
     ]
    },
    {
     "name": "stdout",
     "output_type": "stream",
     "text": [
      "Epoch 211/6000, Train Loss: 0.3606, Train Coeff: 0.3997, Val Loss: 0.3492, Val Coeff: 0.3299, Time: 25.79 sec\n"
     ]
    },
    {
     "name": "stderr",
     "output_type": "stream",
     "text": [
      "Train: 100%|██████████| 137/137 [00:20<00:00,  6.68batch/s]\n",
      "Valid: 100%|██████████| 138/138 [00:05<00:00, 26.11batch/s]\n"
     ]
    },
    {
     "name": "stdout",
     "output_type": "stream",
     "text": [
      "Epoch 212/6000, Train Loss: 0.3610, Train Coeff: 0.4003, Val Loss: 0.3497, Val Coeff: 0.3376, Time: 25.81 sec\n"
     ]
    },
    {
     "name": "stderr",
     "output_type": "stream",
     "text": [
      "Train: 100%|██████████| 137/137 [00:20<00:00,  6.67batch/s]\n",
      "Valid: 100%|██████████| 138/138 [00:05<00:00, 26.01batch/s]\n"
     ]
    },
    {
     "name": "stdout",
     "output_type": "stream",
     "text": [
      "Epoch 213/6000, Train Loss: 0.3608, Train Coeff: 0.3971, Val Loss: 0.3498, Val Coeff: 0.3328, Time: 25.86 sec\n"
     ]
    },
    {
     "name": "stderr",
     "output_type": "stream",
     "text": [
      "Train: 100%|██████████| 137/137 [00:20<00:00,  6.71batch/s]\n",
      "Valid: 100%|██████████| 138/138 [00:05<00:00, 25.66batch/s]\n"
     ]
    },
    {
     "name": "stdout",
     "output_type": "stream",
     "text": [
      "Epoch 214/6000, Train Loss: 0.3614, Train Coeff: 0.3987, Val Loss: 0.3505, Val Coeff: 0.3354, Time: 25.81 sec\n"
     ]
    },
    {
     "name": "stderr",
     "output_type": "stream",
     "text": [
      "Train: 100%|██████████| 137/137 [00:20<00:00,  6.72batch/s]\n",
      "Valid: 100%|██████████| 138/138 [00:05<00:00, 25.73batch/s]\n"
     ]
    },
    {
     "name": "stdout",
     "output_type": "stream",
     "text": [
      "Epoch 215/6000, Train Loss: 0.3608, Train Coeff: 0.3971, Val Loss: 0.3499, Val Coeff: 0.3340, Time: 25.77 sec\n"
     ]
    },
    {
     "name": "stderr",
     "output_type": "stream",
     "text": [
      "Train: 100%|██████████| 137/137 [00:20<00:00,  6.71batch/s]\n",
      "Valid: 100%|██████████| 138/138 [00:05<00:00, 25.76batch/s]\n"
     ]
    },
    {
     "name": "stdout",
     "output_type": "stream",
     "text": [
      "Epoch 216/6000, Train Loss: 0.3607, Train Coeff: 0.3983, Val Loss: 0.3538, Val Coeff: 0.3287, Time: 25.78 sec\n"
     ]
    },
    {
     "name": "stderr",
     "output_type": "stream",
     "text": [
      "Train: 100%|██████████| 137/137 [00:20<00:00,  6.71batch/s]\n",
      "Valid: 100%|██████████| 138/138 [00:05<00:00, 25.63batch/s]\n"
     ]
    },
    {
     "name": "stdout",
     "output_type": "stream",
     "text": [
      "Epoch 217/6000, Train Loss: 0.3613, Train Coeff: 0.3954, Val Loss: 0.3499, Val Coeff: 0.3017, Time: 25.82 sec\n"
     ]
    },
    {
     "name": "stderr",
     "output_type": "stream",
     "text": [
      "Train: 100%|██████████| 137/137 [00:20<00:00,  6.71batch/s]\n",
      "Valid: 100%|██████████| 138/138 [00:05<00:00, 25.71batch/s]\n"
     ]
    },
    {
     "name": "stdout",
     "output_type": "stream",
     "text": [
      "Epoch 218/6000, Train Loss: 0.3607, Train Coeff: 0.3966, Val Loss: 0.3515, Val Coeff: 0.3339, Time: 25.78 sec\n"
     ]
    },
    {
     "name": "stderr",
     "output_type": "stream",
     "text": [
      "Train: 100%|██████████| 137/137 [00:20<00:00,  6.70batch/s]\n",
      "Valid: 100%|██████████| 138/138 [00:05<00:00, 25.59batch/s]\n"
     ]
    },
    {
     "name": "stdout",
     "output_type": "stream",
     "text": [
      "Epoch 219/6000, Train Loss: 0.3611, Train Coeff: 0.3946, Val Loss: 0.3508, Val Coeff: 0.3325, Time: 25.86 sec\n"
     ]
    },
    {
     "name": "stderr",
     "output_type": "stream",
     "text": [
      "Train: 100%|██████████| 137/137 [00:20<00:00,  6.71batch/s]\n",
      "Valid: 100%|██████████| 138/138 [00:05<00:00, 26.14batch/s]\n"
     ]
    },
    {
     "name": "stdout",
     "output_type": "stream",
     "text": [
      "Epoch 220/6000, Train Loss: 0.3617, Train Coeff: 0.3921, Val Loss: 0.3501, Val Coeff: 0.3190, Time: 25.71 sec\n"
     ]
    },
    {
     "name": "stderr",
     "output_type": "stream",
     "text": [
      "Train: 100%|██████████| 137/137 [00:20<00:00,  6.67batch/s]\n",
      "Valid: 100%|██████████| 138/138 [00:05<00:00, 26.03batch/s]\n"
     ]
    },
    {
     "name": "stdout",
     "output_type": "stream",
     "text": [
      "Epoch 221/6000, Train Loss: 0.3607, Train Coeff: 0.3975, Val Loss: 0.3498, Val Coeff: 0.3075, Time: 25.86 sec\n"
     ]
    },
    {
     "name": "stderr",
     "output_type": "stream",
     "text": [
      "Train: 100%|██████████| 137/137 [00:20<00:00,  6.66batch/s]\n",
      "Valid: 100%|██████████| 138/138 [00:05<00:00, 26.06batch/s]\n"
     ]
    },
    {
     "name": "stdout",
     "output_type": "stream",
     "text": [
      "Epoch 222/6000, Train Loss: 0.3616, Train Coeff: 0.3916, Val Loss: 0.3617, Val Coeff: 0.2995, Time: 25.88 sec\n"
     ]
    },
    {
     "name": "stderr",
     "output_type": "stream",
     "text": [
      "Train: 100%|██████████| 137/137 [00:20<00:00,  6.68batch/s]\n",
      "Valid: 100%|██████████| 138/138 [00:05<00:00, 26.09batch/s]\n"
     ]
    },
    {
     "name": "stdout",
     "output_type": "stream",
     "text": [
      "Epoch 223/6000, Train Loss: 0.3607, Train Coeff: 0.4007, Val Loss: 0.3501, Val Coeff: 0.3282, Time: 25.82 sec\n"
     ]
    },
    {
     "name": "stderr",
     "output_type": "stream",
     "text": [
      "Train: 100%|██████████| 137/137 [00:20<00:00,  6.69batch/s]\n",
      "Valid: 100%|██████████| 138/138 [00:05<00:00, 26.09batch/s]\n"
     ]
    },
    {
     "name": "stdout",
     "output_type": "stream",
     "text": [
      "Epoch 224/6000, Train Loss: 0.3608, Train Coeff: 0.3957, Val Loss: 0.3507, Val Coeff: 0.3119, Time: 25.79 sec\n"
     ]
    },
    {
     "name": "stderr",
     "output_type": "stream",
     "text": [
      "Train: 100%|██████████| 137/137 [00:20<00:00,  6.68batch/s]\n",
      "Valid: 100%|██████████| 138/138 [00:05<00:00, 26.00batch/s]\n"
     ]
    },
    {
     "name": "stdout",
     "output_type": "stream",
     "text": [
      "Epoch 225/6000, Train Loss: 0.3618, Train Coeff: 0.3975, Val Loss: 0.3497, Val Coeff: 0.3309, Time: 25.83 sec\n"
     ]
    },
    {
     "name": "stderr",
     "output_type": "stream",
     "text": [
      "Train: 100%|██████████| 137/137 [00:20<00:00,  6.68batch/s]\n",
      "Valid: 100%|██████████| 138/138 [00:05<00:00, 26.06batch/s]\n"
     ]
    },
    {
     "name": "stdout",
     "output_type": "stream",
     "text": [
      "Epoch 226/6000, Train Loss: 0.3616, Train Coeff: 0.3966, Val Loss: 0.3529, Val Coeff: 0.3028, Time: 25.82 sec\n"
     ]
    },
    {
     "name": "stderr",
     "output_type": "stream",
     "text": [
      "Train: 100%|██████████| 137/137 [00:20<00:00,  6.66batch/s]\n",
      "Valid: 100%|██████████| 138/138 [00:05<00:00, 26.14batch/s]\n"
     ]
    },
    {
     "name": "stdout",
     "output_type": "stream",
     "text": [
      "Epoch 227/6000, Train Loss: 0.3618, Train Coeff: 0.3934, Val Loss: 0.3545, Val Coeff: 0.3489, Time: 25.86 sec\n"
     ]
    },
    {
     "name": "stderr",
     "output_type": "stream",
     "text": [
      "Train: 100%|██████████| 137/137 [00:20<00:00,  6.68batch/s]\n",
      "Valid: 100%|██████████| 138/138 [00:05<00:00, 25.92batch/s]\n"
     ]
    },
    {
     "name": "stdout",
     "output_type": "stream",
     "text": [
      "Epoch 228/6000, Train Loss: 0.3609, Train Coeff: 0.3958, Val Loss: 0.3520, Val Coeff: 0.3049, Time: 25.84 sec\n"
     ]
    },
    {
     "name": "stderr",
     "output_type": "stream",
     "text": [
      "Train: 100%|██████████| 137/137 [00:20<00:00,  6.68batch/s]\n",
      "Valid: 100%|██████████| 138/138 [00:05<00:00, 26.12batch/s]\n"
     ]
    },
    {
     "name": "stdout",
     "output_type": "stream",
     "text": [
      "Epoch 229/6000, Train Loss: 0.3608, Train Coeff: 0.3968, Val Loss: 0.3499, Val Coeff: 0.3185, Time: 25.82 sec\n"
     ]
    },
    {
     "name": "stderr",
     "output_type": "stream",
     "text": [
      "Train: 100%|██████████| 137/137 [00:20<00:00,  6.65batch/s]\n",
      "Valid: 100%|██████████| 138/138 [00:05<00:00, 26.08batch/s]\n"
     ]
    },
    {
     "name": "stdout",
     "output_type": "stream",
     "text": [
      "Epoch 230/6000, Train Loss: 0.3610, Train Coeff: 0.4000, Val Loss: 0.3505, Val Coeff: 0.3245, Time: 25.90 sec\n"
     ]
    },
    {
     "name": "stderr",
     "output_type": "stream",
     "text": [
      "Train: 100%|██████████| 137/137 [00:20<00:00,  6.68batch/s]\n",
      "Valid: 100%|██████████| 138/138 [00:05<00:00, 26.07batch/s]\n"
     ]
    },
    {
     "name": "stdout",
     "output_type": "stream",
     "text": [
      "Epoch 231/6000, Train Loss: 0.3610, Train Coeff: 0.3964, Val Loss: 0.3495, Val Coeff: 0.3229, Time: 25.82 sec\n"
     ]
    },
    {
     "name": "stderr",
     "output_type": "stream",
     "text": [
      "Train: 100%|██████████| 137/137 [00:20<00:00,  6.67batch/s]\n",
      "Valid: 100%|██████████| 138/138 [00:05<00:00, 26.03batch/s]\n"
     ]
    },
    {
     "name": "stdout",
     "output_type": "stream",
     "text": [
      "Epoch 232/6000, Train Loss: 0.3618, Train Coeff: 0.3898, Val Loss: 0.3501, Val Coeff: 0.3213, Time: 25.85 sec\n"
     ]
    },
    {
     "name": "stderr",
     "output_type": "stream",
     "text": [
      "Train: 100%|██████████| 137/137 [00:20<00:00,  6.68batch/s]\n",
      "Valid: 100%|██████████| 138/138 [00:05<00:00, 26.11batch/s]\n"
     ]
    },
    {
     "name": "stdout",
     "output_type": "stream",
     "text": [
      "Epoch 233/6000, Train Loss: 0.3611, Train Coeff: 0.3979, Val Loss: 0.3507, Val Coeff: 0.3336, Time: 25.81 sec\n"
     ]
    },
    {
     "name": "stderr",
     "output_type": "stream",
     "text": [
      "Train: 100%|██████████| 137/137 [00:20<00:00,  6.66batch/s]\n",
      "Valid: 100%|██████████| 138/138 [00:05<00:00, 26.11batch/s]\n"
     ]
    },
    {
     "name": "stdout",
     "output_type": "stream",
     "text": [
      "Epoch 234/6000, Train Loss: 0.3608, Train Coeff: 0.3974, Val Loss: 0.3534, Val Coeff: 0.3166, Time: 25.86 sec\n"
     ]
    },
    {
     "name": "stderr",
     "output_type": "stream",
     "text": [
      "Train: 100%|██████████| 137/137 [00:20<00:00,  6.69batch/s]\n",
      "Valid: 100%|██████████| 138/138 [00:05<00:00, 26.05batch/s]\n"
     ]
    },
    {
     "name": "stdout",
     "output_type": "stream",
     "text": [
      "Epoch 235/6000, Train Loss: 0.3611, Train Coeff: 0.3943, Val Loss: 0.3502, Val Coeff: 0.3464, Time: 25.80 sec\n"
     ]
    },
    {
     "name": "stderr",
     "output_type": "stream",
     "text": [
      "Train: 100%|██████████| 137/137 [00:20<00:00,  6.68batch/s]\n",
      "Valid: 100%|██████████| 138/138 [00:05<00:00, 26.03batch/s]\n"
     ]
    },
    {
     "name": "stdout",
     "output_type": "stream",
     "text": [
      "Epoch 236/6000, Train Loss: 0.3607, Train Coeff: 0.3904, Val Loss: 0.3510, Val Coeff: 0.3340, Time: 25.82 sec\n"
     ]
    },
    {
     "name": "stderr",
     "output_type": "stream",
     "text": [
      "Train: 100%|██████████| 137/137 [00:20<00:00,  6.68batch/s]\n",
      "Valid: 100%|██████████| 138/138 [00:05<00:00, 26.05batch/s]\n"
     ]
    },
    {
     "name": "stdout",
     "output_type": "stream",
     "text": [
      "Epoch 237/6000, Train Loss: 0.3609, Train Coeff: 0.3889, Val Loss: 0.3536, Val Coeff: 0.3183, Time: 25.81 sec\n"
     ]
    },
    {
     "name": "stderr",
     "output_type": "stream",
     "text": [
      "Train: 100%|██████████| 137/137 [00:20<00:00,  6.67batch/s]\n",
      "Valid: 100%|██████████| 138/138 [00:05<00:00, 26.12batch/s]\n"
     ]
    },
    {
     "name": "stdout",
     "output_type": "stream",
     "text": [
      "Epoch 238/6000, Train Loss: 0.3609, Train Coeff: 0.3964, Val Loss: 0.3494, Val Coeff: 0.3192, Time: 25.83 sec\n"
     ]
    },
    {
     "name": "stderr",
     "output_type": "stream",
     "text": [
      "Train: 100%|██████████| 137/137 [00:20<00:00,  6.68batch/s]\n",
      "Valid: 100%|██████████| 138/138 [00:05<00:00, 26.02batch/s]\n"
     ]
    },
    {
     "name": "stdout",
     "output_type": "stream",
     "text": [
      "Epoch 239/6000, Train Loss: 0.3608, Train Coeff: 0.3980, Val Loss: 0.3515, Val Coeff: 0.3135, Time: 25.84 sec\n"
     ]
    },
    {
     "name": "stderr",
     "output_type": "stream",
     "text": [
      "Train: 100%|██████████| 137/137 [00:20<00:00,  6.73batch/s]\n",
      "Valid: 100%|██████████| 138/138 [00:05<00:00, 25.83batch/s]\n"
     ]
    },
    {
     "name": "stdout",
     "output_type": "stream",
     "text": [
      "Epoch 240/6000, Train Loss: 0.3616, Train Coeff: 0.4010, Val Loss: 0.3509, Val Coeff: 0.3106, Time: 25.72 sec\n"
     ]
    },
    {
     "name": "stderr",
     "output_type": "stream",
     "text": [
      "Train: 100%|██████████| 137/137 [00:20<00:00,  6.70batch/s]\n",
      "Valid: 100%|██████████| 138/138 [00:05<00:00, 25.74batch/s]\n"
     ]
    },
    {
     "name": "stdout",
     "output_type": "stream",
     "text": [
      "Epoch 241/6000, Train Loss: 0.3607, Train Coeff: 0.3935, Val Loss: 0.3500, Val Coeff: 0.3170, Time: 25.82 sec\n"
     ]
    },
    {
     "name": "stderr",
     "output_type": "stream",
     "text": [
      "Train: 100%|██████████| 137/137 [00:20<00:00,  6.70batch/s]\n",
      "Valid: 100%|██████████| 138/138 [00:05<00:00, 25.73batch/s]\n"
     ]
    },
    {
     "name": "stdout",
     "output_type": "stream",
     "text": [
      "Epoch 242/6000, Train Loss: 0.3610, Train Coeff: 0.3937, Val Loss: 0.3494, Val Coeff: 0.3293, Time: 25.82 sec\n"
     ]
    },
    {
     "name": "stderr",
     "output_type": "stream",
     "text": [
      "Train: 100%|██████████| 137/137 [00:20<00:00,  6.70batch/s]\n",
      "Valid: 100%|██████████| 138/138 [00:05<00:00, 25.70batch/s]\n"
     ]
    },
    {
     "name": "stdout",
     "output_type": "stream",
     "text": [
      "Epoch 243/6000, Train Loss: 0.3615, Train Coeff: 0.3954, Val Loss: 0.3513, Val Coeff: 0.3314, Time: 25.82 sec\n"
     ]
    },
    {
     "name": "stderr",
     "output_type": "stream",
     "text": [
      "Train: 100%|██████████| 137/137 [00:20<00:00,  6.71batch/s]\n",
      "Valid: 100%|██████████| 138/138 [00:05<00:00, 25.62batch/s]\n"
     ]
    },
    {
     "name": "stdout",
     "output_type": "stream",
     "text": [
      "Epoch 244/6000, Train Loss: 0.3610, Train Coeff: 0.3983, Val Loss: 0.3513, Val Coeff: 0.3061, Time: 25.80 sec\n"
     ]
    },
    {
     "name": "stderr",
     "output_type": "stream",
     "text": [
      "Train: 100%|██████████| 137/137 [00:20<00:00,  6.70batch/s]\n",
      "Valid: 100%|██████████| 138/138 [00:05<00:00, 25.41batch/s]\n"
     ]
    },
    {
     "name": "stdout",
     "output_type": "stream",
     "text": [
      "Epoch 245/6000, Train Loss: 0.3617, Train Coeff: 0.3950, Val Loss: 0.3495, Val Coeff: 0.3185, Time: 25.89 sec\n"
     ]
    },
    {
     "name": "stderr",
     "output_type": "stream",
     "text": [
      "Train: 100%|██████████| 137/137 [00:20<00:00,  6.70batch/s]\n",
      "Valid: 100%|██████████| 138/138 [00:05<00:00, 25.73batch/s]\n"
     ]
    },
    {
     "name": "stdout",
     "output_type": "stream",
     "text": [
      "Epoch 246/6000, Train Loss: 0.3608, Train Coeff: 0.3955, Val Loss: 0.3502, Val Coeff: 0.3235, Time: 25.82 sec\n"
     ]
    },
    {
     "name": "stderr",
     "output_type": "stream",
     "text": [
      "Train: 100%|██████████| 137/137 [00:20<00:00,  6.70batch/s]\n",
      "Valid: 100%|██████████| 138/138 [00:05<00:00, 25.76batch/s]\n"
     ]
    },
    {
     "name": "stdout",
     "output_type": "stream",
     "text": [
      "Epoch 247/6000, Train Loss: 0.3611, Train Coeff: 0.3970, Val Loss: 0.3529, Val Coeff: 0.3180, Time: 25.80 sec\n"
     ]
    },
    {
     "name": "stderr",
     "output_type": "stream",
     "text": [
      "Train: 100%|██████████| 137/137 [00:20<00:00,  6.70batch/s]\n",
      "Valid: 100%|██████████| 138/138 [00:05<00:00, 25.62batch/s]\n"
     ]
    },
    {
     "name": "stdout",
     "output_type": "stream",
     "text": [
      "Epoch 248/6000, Train Loss: 0.3615, Train Coeff: 0.3977, Val Loss: 0.3494, Val Coeff: 0.3291, Time: 25.84 sec\n"
     ]
    },
    {
     "name": "stderr",
     "output_type": "stream",
     "text": [
      "Train: 100%|██████████| 137/137 [00:20<00:00,  6.69batch/s]\n",
      "Valid: 100%|██████████| 138/138 [00:05<00:00, 25.70batch/s]\n"
     ]
    },
    {
     "name": "stdout",
     "output_type": "stream",
     "text": [
      "Epoch 249/6000, Train Loss: 0.3606, Train Coeff: 0.4016, Val Loss: 0.3515, Val Coeff: 0.3168, Time: 25.87 sec\n"
     ]
    },
    {
     "name": "stderr",
     "output_type": "stream",
     "text": [
      "Train: 100%|██████████| 137/137 [00:20<00:00,  6.71batch/s]\n",
      "Valid: 100%|██████████| 138/138 [00:05<00:00, 26.14batch/s]\n"
     ]
    },
    {
     "name": "stdout",
     "output_type": "stream",
     "text": [
      "Epoch 250/6000, Train Loss: 0.3611, Train Coeff: 0.3998, Val Loss: 0.3496, Val Coeff: 0.3325, Time: 25.69 sec\n"
     ]
    },
    {
     "name": "stderr",
     "output_type": "stream",
     "text": [
      "Train: 100%|██████████| 137/137 [00:20<00:00,  6.69batch/s]\n",
      "Valid: 100%|██████████| 138/138 [00:05<00:00, 26.15batch/s]\n"
     ]
    },
    {
     "name": "stdout",
     "output_type": "stream",
     "text": [
      "Epoch 251/6000, Train Loss: 0.3615, Train Coeff: 0.3982, Val Loss: 0.3493, Val Coeff: 0.3237, Time: 25.77 sec\n"
     ]
    },
    {
     "name": "stderr",
     "output_type": "stream",
     "text": [
      "Train: 100%|██████████| 137/137 [00:20<00:00,  6.68batch/s]\n",
      "Valid: 100%|██████████| 138/138 [00:05<00:00, 26.15batch/s]\n"
     ]
    },
    {
     "name": "stdout",
     "output_type": "stream",
     "text": [
      "Epoch 252/6000, Train Loss: 0.3608, Train Coeff: 0.3998, Val Loss: 0.3512, Val Coeff: 0.3324, Time: 25.79 sec\n"
     ]
    },
    {
     "name": "stderr",
     "output_type": "stream",
     "text": [
      "Train: 100%|██████████| 137/137 [00:20<00:00,  6.67batch/s]\n",
      "Valid: 100%|██████████| 138/138 [00:05<00:00, 26.08batch/s]\n"
     ]
    },
    {
     "name": "stdout",
     "output_type": "stream",
     "text": [
      "Epoch 253/6000, Train Loss: 0.3608, Train Coeff: 0.3944, Val Loss: 0.3497, Val Coeff: 0.3292, Time: 25.83 sec\n"
     ]
    },
    {
     "name": "stderr",
     "output_type": "stream",
     "text": [
      "Train: 100%|██████████| 137/137 [00:20<00:00,  6.68batch/s]\n",
      "Valid: 100%|██████████| 138/138 [00:05<00:00, 26.09batch/s]\n"
     ]
    },
    {
     "name": "stdout",
     "output_type": "stream",
     "text": [
      "Epoch 254/6000, Train Loss: 0.3614, Train Coeff: 0.3938, Val Loss: 0.3499, Val Coeff: 0.3228, Time: 25.81 sec\n"
     ]
    },
    {
     "name": "stderr",
     "output_type": "stream",
     "text": [
      "Train: 100%|██████████| 137/137 [00:20<00:00,  6.68batch/s]\n",
      "Valid: 100%|██████████| 138/138 [00:05<00:00, 26.03batch/s]\n"
     ]
    },
    {
     "name": "stdout",
     "output_type": "stream",
     "text": [
      "Epoch 255/6000, Train Loss: 0.3606, Train Coeff: 0.3938, Val Loss: 0.3495, Val Coeff: 0.3093, Time: 25.83 sec\n"
     ]
    },
    {
     "name": "stderr",
     "output_type": "stream",
     "text": [
      "Train: 100%|██████████| 137/137 [00:20<00:00,  6.68batch/s]\n",
      "Valid: 100%|██████████| 138/138 [00:05<00:00, 26.13batch/s]\n"
     ]
    },
    {
     "name": "stdout",
     "output_type": "stream",
     "text": [
      "Epoch 256/6000, Train Loss: 0.3610, Train Coeff: 0.3919, Val Loss: 0.3502, Val Coeff: 0.3068, Time: 25.80 sec\n"
     ]
    },
    {
     "name": "stderr",
     "output_type": "stream",
     "text": [
      "Train: 100%|██████████| 137/137 [00:20<00:00,  6.69batch/s]\n",
      "Valid: 100%|██████████| 138/138 [00:05<00:00, 26.00batch/s]\n"
     ]
    },
    {
     "name": "stdout",
     "output_type": "stream",
     "text": [
      "Epoch 257/6000, Train Loss: 0.3619, Train Coeff: 0.3961, Val Loss: 0.3598, Val Coeff: 0.2755, Time: 25.81 sec\n"
     ]
    },
    {
     "name": "stderr",
     "output_type": "stream",
     "text": [
      "Train: 100%|██████████| 137/137 [00:20<00:00,  6.68batch/s]\n",
      "Valid: 100%|██████████| 138/138 [00:05<00:00, 26.00batch/s]\n"
     ]
    },
    {
     "name": "stdout",
     "output_type": "stream",
     "text": [
      "Epoch 258/6000, Train Loss: 0.3608, Train Coeff: 0.3934, Val Loss: 0.3523, Val Coeff: 0.3306, Time: 25.83 sec\n"
     ]
    },
    {
     "name": "stderr",
     "output_type": "stream",
     "text": [
      "Train: 100%|██████████| 137/137 [00:20<00:00,  6.65batch/s]\n",
      "Valid: 100%|██████████| 138/138 [00:05<00:00, 26.17batch/s]\n"
     ]
    },
    {
     "name": "stdout",
     "output_type": "stream",
     "text": [
      "Epoch 259/6000, Train Loss: 0.3608, Train Coeff: 0.3963, Val Loss: 0.3496, Val Coeff: 0.3360, Time: 25.89 sec\n"
     ]
    },
    {
     "name": "stderr",
     "output_type": "stream",
     "text": [
      "Train: 100%|██████████| 137/137 [00:20<00:00,  6.66batch/s]\n",
      "Valid: 100%|██████████| 138/138 [00:05<00:00, 26.11batch/s]\n"
     ]
    },
    {
     "name": "stdout",
     "output_type": "stream",
     "text": [
      "Epoch 260/6000, Train Loss: 0.3611, Train Coeff: 0.3939, Val Loss: 0.3501, Val Coeff: 0.3349, Time: 25.87 sec\n"
     ]
    },
    {
     "name": "stderr",
     "output_type": "stream",
     "text": [
      "Train: 100%|██████████| 137/137 [00:20<00:00,  6.67batch/s]\n",
      "Valid: 100%|██████████| 138/138 [00:05<00:00, 26.01batch/s]\n"
     ]
    },
    {
     "name": "stdout",
     "output_type": "stream",
     "text": [
      "Epoch 261/6000, Train Loss: 0.3612, Train Coeff: 0.3975, Val Loss: 0.3506, Val Coeff: 0.3093, Time: 25.86 sec\n"
     ]
    },
    {
     "name": "stderr",
     "output_type": "stream",
     "text": [
      "Train: 100%|██████████| 137/137 [00:20<00:00,  6.68batch/s]\n",
      "Valid: 100%|██████████| 138/138 [00:05<00:00, 25.94batch/s]\n"
     ]
    },
    {
     "name": "stdout",
     "output_type": "stream",
     "text": [
      "Epoch 262/6000, Train Loss: 0.3615, Train Coeff: 0.4022, Val Loss: 0.3497, Val Coeff: 0.3127, Time: 25.83 sec\n"
     ]
    },
    {
     "name": "stderr",
     "output_type": "stream",
     "text": [
      "Train: 100%|██████████| 137/137 [00:20<00:00,  6.69batch/s]\n",
      "Valid: 100%|██████████| 138/138 [00:05<00:00, 26.14batch/s]\n"
     ]
    },
    {
     "name": "stdout",
     "output_type": "stream",
     "text": [
      "Epoch 263/6000, Train Loss: 0.3606, Train Coeff: 0.3982, Val Loss: 0.3508, Val Coeff: 0.3157, Time: 25.77 sec\n"
     ]
    },
    {
     "name": "stderr",
     "output_type": "stream",
     "text": [
      "Train: 100%|██████████| 137/137 [00:20<00:00,  6.67batch/s]\n",
      "Valid: 100%|██████████| 138/138 [00:05<00:00, 25.99batch/s]\n"
     ]
    },
    {
     "name": "stdout",
     "output_type": "stream",
     "text": [
      "Epoch 264/6000, Train Loss: 0.3618, Train Coeff: 0.3966, Val Loss: 0.3494, Val Coeff: 0.3120, Time: 25.85 sec\n"
     ]
    },
    {
     "name": "stderr",
     "output_type": "stream",
     "text": [
      "Train: 100%|██████████| 137/137 [00:20<00:00,  6.69batch/s]\n",
      "Valid: 100%|██████████| 138/138 [00:05<00:00, 26.18batch/s]\n"
     ]
    },
    {
     "name": "stdout",
     "output_type": "stream",
     "text": [
      "Epoch 265/6000, Train Loss: 0.3608, Train Coeff: 0.3954, Val Loss: 0.3513, Val Coeff: 0.3168, Time: 25.76 sec\n"
     ]
    },
    {
     "name": "stderr",
     "output_type": "stream",
     "text": [
      "Train: 100%|██████████| 137/137 [00:20<00:00,  6.69batch/s]\n",
      "Valid: 100%|██████████| 138/138 [00:05<00:00, 26.13batch/s]\n"
     ]
    },
    {
     "name": "stdout",
     "output_type": "stream",
     "text": [
      "Epoch 266/6000, Train Loss: 0.3609, Train Coeff: 0.3970, Val Loss: 0.3495, Val Coeff: 0.3173, Time: 25.76 sec\n"
     ]
    },
    {
     "name": "stderr",
     "output_type": "stream",
     "text": [
      "Train: 100%|██████████| 137/137 [00:20<00:00,  6.69batch/s]\n",
      "Valid: 100%|██████████| 138/138 [00:05<00:00, 25.74batch/s]\n"
     ]
    },
    {
     "name": "stdout",
     "output_type": "stream",
     "text": [
      "Epoch 267/6000, Train Loss: 0.3608, Train Coeff: 0.3993, Val Loss: 0.3520, Val Coeff: 0.2985, Time: 25.84 sec\n"
     ]
    },
    {
     "name": "stderr",
     "output_type": "stream",
     "text": [
      "Train: 100%|██████████| 137/137 [00:20<00:00,  6.71batch/s]\n",
      "Valid: 100%|██████████| 138/138 [00:05<00:00, 25.65batch/s]\n"
     ]
    },
    {
     "name": "stdout",
     "output_type": "stream",
     "text": [
      "Epoch 268/6000, Train Loss: 0.3613, Train Coeff: 0.3919, Val Loss: 0.3496, Val Coeff: 0.3157, Time: 25.80 sec\n"
     ]
    },
    {
     "name": "stderr",
     "output_type": "stream",
     "text": [
      "Train: 100%|██████████| 137/137 [00:20<00:00,  6.69batch/s]\n",
      "Valid: 100%|██████████| 138/138 [00:05<00:00, 25.69batch/s]\n"
     ]
    },
    {
     "name": "stdout",
     "output_type": "stream",
     "text": [
      "Epoch 269/6000, Train Loss: 0.3608, Train Coeff: 0.3957, Val Loss: 0.3507, Val Coeff: 0.3348, Time: 25.86 sec\n"
     ]
    },
    {
     "name": "stderr",
     "output_type": "stream",
     "text": [
      "Train: 100%|██████████| 137/137 [00:20<00:00,  6.70batch/s]\n",
      "Valid: 100%|██████████| 138/138 [00:05<00:00, 25.71batch/s]\n"
     ]
    },
    {
     "name": "stdout",
     "output_type": "stream",
     "text": [
      "Epoch 270/6000, Train Loss: 0.3613, Train Coeff: 0.3911, Val Loss: 0.3494, Val Coeff: 0.3227, Time: 25.82 sec\n"
     ]
    },
    {
     "name": "stderr",
     "output_type": "stream",
     "text": [
      "Train: 100%|██████████| 137/137 [00:20<00:00,  6.72batch/s]\n",
      "Valid: 100%|██████████| 138/138 [00:05<00:00, 25.70batch/s]\n"
     ]
    },
    {
     "name": "stdout",
     "output_type": "stream",
     "text": [
      "Epoch 271/6000, Train Loss: 0.3612, Train Coeff: 0.3969, Val Loss: 0.3502, Val Coeff: 0.3422, Time: 25.77 sec\n"
     ]
    },
    {
     "name": "stderr",
     "output_type": "stream",
     "text": [
      "Train: 100%|██████████| 137/137 [00:20<00:00,  6.71batch/s]\n",
      "Valid: 100%|██████████| 138/138 [00:05<00:00, 25.75batch/s]\n"
     ]
    },
    {
     "name": "stdout",
     "output_type": "stream",
     "text": [
      "Epoch 272/6000, Train Loss: 0.3607, Train Coeff: 0.3964, Val Loss: 0.3499, Val Coeff: 0.3230, Time: 25.80 sec\n"
     ]
    },
    {
     "name": "stderr",
     "output_type": "stream",
     "text": [
      "Train: 100%|██████████| 137/137 [00:20<00:00,  6.70batch/s]\n",
      "Valid: 100%|██████████| 138/138 [00:05<00:00, 25.74batch/s]\n"
     ]
    },
    {
     "name": "stdout",
     "output_type": "stream",
     "text": [
      "Epoch 273/6000, Train Loss: 0.3606, Train Coeff: 0.4007, Val Loss: 0.3495, Val Coeff: 0.3243, Time: 25.81 sec\n"
     ]
    },
    {
     "name": "stderr",
     "output_type": "stream",
     "text": [
      "Train: 100%|██████████| 137/137 [00:20<00:00,  6.69batch/s]\n",
      "Valid: 100%|██████████| 138/138 [00:05<00:00, 25.74batch/s]\n"
     ]
    },
    {
     "name": "stdout",
     "output_type": "stream",
     "text": [
      "Epoch 274/6000, Train Loss: 0.3610, Train Coeff: 0.3956, Val Loss: 0.3495, Val Coeff: 0.3494, Time: 25.85 sec\n"
     ]
    },
    {
     "name": "stderr",
     "output_type": "stream",
     "text": [
      "Train: 100%|██████████| 137/137 [00:20<00:00,  6.72batch/s]\n",
      "Valid: 100%|██████████| 138/138 [00:05<00:00, 25.75batch/s]\n"
     ]
    },
    {
     "name": "stdout",
     "output_type": "stream",
     "text": [
      "Epoch 275/6000, Train Loss: 0.3612, Train Coeff: 0.3971, Val Loss: 0.3499, Val Coeff: 0.3109, Time: 25.76 sec\n"
     ]
    },
    {
     "name": "stderr",
     "output_type": "stream",
     "text": [
      "Train: 100%|██████████| 137/137 [00:20<00:00,  6.71batch/s]\n",
      "Valid: 100%|██████████| 138/138 [00:05<00:00, 25.66batch/s]\n"
     ]
    },
    {
     "name": "stdout",
     "output_type": "stream",
     "text": [
      "Epoch 276/6000, Train Loss: 0.3611, Train Coeff: 0.3997, Val Loss: 0.3523, Val Coeff: 0.3178, Time: 25.81 sec\n"
     ]
    },
    {
     "name": "stderr",
     "output_type": "stream",
     "text": [
      "Train: 100%|██████████| 137/137 [00:20<00:00,  6.72batch/s]\n",
      "Valid: 100%|██████████| 138/138 [00:05<00:00, 25.75batch/s]\n"
     ]
    },
    {
     "name": "stdout",
     "output_type": "stream",
     "text": [
      "Epoch 277/6000, Train Loss: 0.3612, Train Coeff: 0.3953, Val Loss: 0.3502, Val Coeff: 0.3134, Time: 25.76 sec\n"
     ]
    },
    {
     "name": "stderr",
     "output_type": "stream",
     "text": [
      "Train: 100%|██████████| 137/137 [00:20<00:00,  6.72batch/s]\n",
      "Valid: 100%|██████████| 138/138 [00:05<00:00, 25.69batch/s]\n"
     ]
    },
    {
     "name": "stdout",
     "output_type": "stream",
     "text": [
      "Epoch 278/6000, Train Loss: 0.3610, Train Coeff: 0.3903, Val Loss: 0.3502, Val Coeff: 0.3269, Time: 25.76 sec\n"
     ]
    },
    {
     "name": "stderr",
     "output_type": "stream",
     "text": [
      "Train: 100%|██████████| 137/137 [00:20<00:00,  6.72batch/s]\n",
      "Valid: 100%|██████████| 138/138 [00:05<00:00, 25.88batch/s]\n"
     ]
    },
    {
     "name": "stdout",
     "output_type": "stream",
     "text": [
      "Epoch 279/6000, Train Loss: 0.3614, Train Coeff: 0.3945, Val Loss: 0.3500, Val Coeff: 0.3325, Time: 25.72 sec\n"
     ]
    },
    {
     "name": "stderr",
     "output_type": "stream",
     "text": [
      "Train: 100%|██████████| 137/137 [00:20<00:00,  6.71batch/s]\n",
      "Valid: 100%|██████████| 138/138 [00:05<00:00, 25.80batch/s]\n"
     ]
    },
    {
     "name": "stdout",
     "output_type": "stream",
     "text": [
      "Epoch 280/6000, Train Loss: 0.3610, Train Coeff: 0.3918, Val Loss: 0.3536, Val Coeff: 0.3471, Time: 25.77 sec\n"
     ]
    },
    {
     "name": "stderr",
     "output_type": "stream",
     "text": [
      "Train: 100%|██████████| 137/137 [00:20<00:00,  6.72batch/s]\n",
      "Valid: 100%|██████████| 138/138 [00:05<00:00, 25.76batch/s]\n"
     ]
    },
    {
     "name": "stdout",
     "output_type": "stream",
     "text": [
      "Epoch 281/6000, Train Loss: 0.3611, Train Coeff: 0.3906, Val Loss: 0.3501, Val Coeff: 0.3301, Time: 25.75 sec\n"
     ]
    },
    {
     "name": "stderr",
     "output_type": "stream",
     "text": [
      "Train: 100%|██████████| 137/137 [00:20<00:00,  6.71batch/s]\n",
      "Valid: 100%|██████████| 138/138 [00:05<00:00, 25.66batch/s]\n"
     ]
    },
    {
     "name": "stdout",
     "output_type": "stream",
     "text": [
      "Epoch 282/6000, Train Loss: 0.3612, Train Coeff: 0.4027, Val Loss: 0.3501, Val Coeff: 0.3183, Time: 25.80 sec\n"
     ]
    },
    {
     "name": "stderr",
     "output_type": "stream",
     "text": [
      "Train: 100%|██████████| 137/137 [00:20<00:00,  6.70batch/s]\n",
      "Valid: 100%|██████████| 138/138 [00:05<00:00, 25.83batch/s]\n"
     ]
    },
    {
     "name": "stdout",
     "output_type": "stream",
     "text": [
      "Epoch 283/6000, Train Loss: 0.3626, Train Coeff: 0.3982, Val Loss: 0.3518, Val Coeff: 0.3239, Time: 25.79 sec\n"
     ]
    },
    {
     "name": "stderr",
     "output_type": "stream",
     "text": [
      "Train: 100%|██████████| 137/137 [00:20<00:00,  6.68batch/s]\n",
      "Valid: 100%|██████████| 138/138 [00:05<00:00, 25.81batch/s]\n"
     ]
    },
    {
     "name": "stdout",
     "output_type": "stream",
     "text": [
      "Epoch 284/6000, Train Loss: 0.3613, Train Coeff: 0.3962, Val Loss: 0.3505, Val Coeff: 0.3209, Time: 25.86 sec\n"
     ]
    },
    {
     "name": "stderr",
     "output_type": "stream",
     "text": [
      "Train: 100%|██████████| 137/137 [00:20<00:00,  6.71batch/s]\n",
      "Valid: 100%|██████████| 138/138 [00:05<00:00, 25.69batch/s]\n"
     ]
    },
    {
     "name": "stdout",
     "output_type": "stream",
     "text": [
      "Epoch 285/6000, Train Loss: 0.3607, Train Coeff: 0.3975, Val Loss: 0.3500, Val Coeff: 0.3235, Time: 25.79 sec\n"
     ]
    },
    {
     "name": "stderr",
     "output_type": "stream",
     "text": [
      "Train: 100%|██████████| 137/137 [00:20<00:00,  6.72batch/s]\n",
      "Valid: 100%|██████████| 138/138 [00:05<00:00, 25.64batch/s]\n"
     ]
    },
    {
     "name": "stdout",
     "output_type": "stream",
     "text": [
      "Epoch 286/6000, Train Loss: 0.3609, Train Coeff: 0.3976, Val Loss: 0.3521, Val Coeff: 0.3290, Time: 25.79 sec\n"
     ]
    },
    {
     "name": "stderr",
     "output_type": "stream",
     "text": [
      "Train: 100%|██████████| 137/137 [00:20<00:00,  6.70batch/s]\n",
      "Valid: 100%|██████████| 138/138 [00:05<00:00, 25.76batch/s]\n"
     ]
    },
    {
     "name": "stdout",
     "output_type": "stream",
     "text": [
      "Epoch 287/6000, Train Loss: 0.3607, Train Coeff: 0.4010, Val Loss: 0.3495, Val Coeff: 0.3396, Time: 25.81 sec\n"
     ]
    },
    {
     "name": "stderr",
     "output_type": "stream",
     "text": [
      "Train: 100%|██████████| 137/137 [00:20<00:00,  6.69batch/s]\n",
      "Valid: 100%|██████████| 138/138 [00:05<00:00, 25.78batch/s]\n"
     ]
    },
    {
     "name": "stdout",
     "output_type": "stream",
     "text": [
      "Epoch 288/6000, Train Loss: 0.3607, Train Coeff: 0.3975, Val Loss: 0.3500, Val Coeff: 0.3131, Time: 25.84 sec\n"
     ]
    },
    {
     "name": "stderr",
     "output_type": "stream",
     "text": [
      "Train: 100%|██████████| 137/137 [00:20<00:00,  6.69batch/s]\n",
      "Valid: 100%|██████████| 138/138 [00:05<00:00, 25.78batch/s]\n"
     ]
    },
    {
     "name": "stdout",
     "output_type": "stream",
     "text": [
      "Epoch 289/6000, Train Loss: 0.3615, Train Coeff: 0.4000, Val Loss: 0.3498, Val Coeff: 0.3026, Time: 25.83 sec\n"
     ]
    },
    {
     "name": "stderr",
     "output_type": "stream",
     "text": [
      "Train: 100%|██████████| 137/137 [00:20<00:00,  6.70batch/s]\n",
      "Valid: 100%|██████████| 138/138 [00:05<00:00, 25.60batch/s]\n"
     ]
    },
    {
     "name": "stdout",
     "output_type": "stream",
     "text": [
      "Epoch 290/6000, Train Loss: 0.3615, Train Coeff: 0.3971, Val Loss: 0.3497, Val Coeff: 0.3321, Time: 25.83 sec\n"
     ]
    },
    {
     "name": "stderr",
     "output_type": "stream",
     "text": [
      "Train: 100%|██████████| 137/137 [00:20<00:00,  6.70batch/s]\n",
      "Valid: 100%|██████████| 138/138 [00:05<00:00, 25.78batch/s]\n"
     ]
    },
    {
     "name": "stdout",
     "output_type": "stream",
     "text": [
      "Epoch 291/6000, Train Loss: 0.3608, Train Coeff: 0.3944, Val Loss: 0.3506, Val Coeff: 0.3238, Time: 25.82 sec\n"
     ]
    },
    {
     "name": "stderr",
     "output_type": "stream",
     "text": [
      "Train: 100%|██████████| 137/137 [00:20<00:00,  6.70batch/s]\n",
      "Valid: 100%|██████████| 138/138 [00:05<00:00, 25.39batch/s]\n"
     ]
    },
    {
     "name": "stdout",
     "output_type": "stream",
     "text": [
      "Epoch 292/6000, Train Loss: 0.3608, Train Coeff: 0.3998, Val Loss: 0.3511, Val Coeff: 0.3328, Time: 25.89 sec\n"
     ]
    },
    {
     "name": "stderr",
     "output_type": "stream",
     "text": [
      "Train: 100%|██████████| 137/137 [00:20<00:00,  6.72batch/s]\n",
      "Valid: 100%|██████████| 138/138 [00:05<00:00, 25.75batch/s]\n"
     ]
    },
    {
     "name": "stdout",
     "output_type": "stream",
     "text": [
      "Epoch 293/6000, Train Loss: 0.3611, Train Coeff: 0.3913, Val Loss: 0.3503, Val Coeff: 0.3378, Time: 25.77 sec\n"
     ]
    },
    {
     "name": "stderr",
     "output_type": "stream",
     "text": [
      "Train: 100%|██████████| 137/137 [00:20<00:00,  6.71batch/s]\n",
      "Valid: 100%|██████████| 138/138 [00:05<00:00, 25.73batch/s]\n"
     ]
    },
    {
     "name": "stdout",
     "output_type": "stream",
     "text": [
      "Epoch 294/6000, Train Loss: 0.3611, Train Coeff: 0.3945, Val Loss: 0.3504, Val Coeff: 0.3288, Time: 25.78 sec\n"
     ]
    },
    {
     "name": "stderr",
     "output_type": "stream",
     "text": [
      "Train: 100%|██████████| 137/137 [00:20<00:00,  6.71batch/s]\n",
      "Valid: 100%|██████████| 138/138 [00:05<00:00, 25.66batch/s]\n"
     ]
    },
    {
     "name": "stdout",
     "output_type": "stream",
     "text": [
      "Epoch 295/6000, Train Loss: 0.3608, Train Coeff: 0.4010, Val Loss: 0.3520, Val Coeff: 0.3444, Time: 25.79 sec\n"
     ]
    },
    {
     "name": "stderr",
     "output_type": "stream",
     "text": [
      "Train: 100%|██████████| 137/137 [00:20<00:00,  6.69batch/s]\n",
      "Valid: 100%|██████████| 138/138 [00:05<00:00, 25.61batch/s]\n"
     ]
    },
    {
     "name": "stdout",
     "output_type": "stream",
     "text": [
      "Epoch 296/6000, Train Loss: 0.3608, Train Coeff: 0.3982, Val Loss: 0.3499, Val Coeff: 0.3379, Time: 25.87 sec\n"
     ]
    },
    {
     "name": "stderr",
     "output_type": "stream",
     "text": [
      "Train: 100%|██████████| 137/137 [00:20<00:00,  6.69batch/s]\n",
      "Valid: 100%|██████████| 138/138 [00:05<00:00, 25.80batch/s]\n"
     ]
    },
    {
     "name": "stdout",
     "output_type": "stream",
     "text": [
      "Epoch 297/6000, Train Loss: 0.3618, Train Coeff: 0.3898, Val Loss: 0.3502, Val Coeff: 0.3303, Time: 25.83 sec\n"
     ]
    },
    {
     "name": "stderr",
     "output_type": "stream",
     "text": [
      "Train: 100%|██████████| 137/137 [00:20<00:00,  6.71batch/s]\n",
      "Valid: 100%|██████████| 138/138 [00:05<00:00, 25.71batch/s]\n"
     ]
    },
    {
     "name": "stdout",
     "output_type": "stream",
     "text": [
      "Epoch 298/6000, Train Loss: 0.3610, Train Coeff: 0.3941, Val Loss: 0.3500, Val Coeff: 0.3193, Time: 25.79 sec\n"
     ]
    },
    {
     "name": "stderr",
     "output_type": "stream",
     "text": [
      "Train: 100%|██████████| 137/137 [00:20<00:00,  6.67batch/s]\n",
      "Valid: 100%|██████████| 138/138 [00:05<00:00, 25.75batch/s]\n"
     ]
    },
    {
     "name": "stdout",
     "output_type": "stream",
     "text": [
      "Epoch 299/6000, Train Loss: 0.3612, Train Coeff: 0.3930, Val Loss: 0.3497, Val Coeff: 0.3375, Time: 25.91 sec\n"
     ]
    },
    {
     "name": "stderr",
     "output_type": "stream",
     "text": [
      "Train: 100%|██████████| 137/137 [00:20<00:00,  6.71batch/s]\n",
      "Valid: 100%|██████████| 138/138 [00:05<00:00, 25.75batch/s]\n"
     ]
    },
    {
     "name": "stdout",
     "output_type": "stream",
     "text": [
      "Epoch 300/6000, Train Loss: 0.3607, Train Coeff: 0.3968, Val Loss: 0.3512, Val Coeff: 0.3285, Time: 25.77 sec\n"
     ]
    },
    {
     "name": "stderr",
     "output_type": "stream",
     "text": [
      "Train: 100%|██████████| 137/137 [00:20<00:00,  6.74batch/s]\n",
      "Valid: 100%|██████████| 138/138 [00:05<00:00, 25.88batch/s]\n"
     ]
    },
    {
     "name": "stdout",
     "output_type": "stream",
     "text": [
      "Epoch 301/6000, Train Loss: 0.3620, Train Coeff: 0.3910, Val Loss: 0.3499, Val Coeff: 0.3364, Time: 25.68 sec\n"
     ]
    },
    {
     "name": "stderr",
     "output_type": "stream",
     "text": [
      "Train: 100%|██████████| 137/137 [00:20<00:00,  6.73batch/s]\n",
      "Valid: 100%|██████████| 138/138 [00:05<00:00, 25.81batch/s]\n"
     ]
    },
    {
     "name": "stdout",
     "output_type": "stream",
     "text": [
      "Epoch 302/6000, Train Loss: 0.3615, Train Coeff: 0.4018, Val Loss: 0.3505, Val Coeff: 0.3253, Time: 25.72 sec\n"
     ]
    },
    {
     "name": "stderr",
     "output_type": "stream",
     "text": [
      "Train: 100%|██████████| 137/137 [00:20<00:00,  6.73batch/s]\n",
      "Valid: 100%|██████████| 138/138 [00:05<00:00, 25.65batch/s]\n"
     ]
    },
    {
     "name": "stdout",
     "output_type": "stream",
     "text": [
      "Epoch 303/6000, Train Loss: 0.3608, Train Coeff: 0.4002, Val Loss: 0.3500, Val Coeff: 0.3220, Time: 25.74 sec\n"
     ]
    },
    {
     "name": "stderr",
     "output_type": "stream",
     "text": [
      "Train: 100%|██████████| 137/137 [00:20<00:00,  6.74batch/s]\n",
      "Valid: 100%|██████████| 138/138 [00:05<00:00, 25.85batch/s]\n"
     ]
    },
    {
     "name": "stdout",
     "output_type": "stream",
     "text": [
      "Epoch 304/6000, Train Loss: 0.3612, Train Coeff: 0.3995, Val Loss: 0.3570, Val Coeff: 0.2938, Time: 25.69 sec\n"
     ]
    },
    {
     "name": "stderr",
     "output_type": "stream",
     "text": [
      "Train: 100%|██████████| 137/137 [00:20<00:00,  6.72batch/s]\n",
      "Valid: 100%|██████████| 138/138 [00:05<00:00, 25.87batch/s]\n"
     ]
    },
    {
     "name": "stdout",
     "output_type": "stream",
     "text": [
      "Epoch 305/6000, Train Loss: 0.3623, Train Coeff: 0.3926, Val Loss: 0.3497, Val Coeff: 0.3143, Time: 25.74 sec\n"
     ]
    },
    {
     "name": "stderr",
     "output_type": "stream",
     "text": [
      "Train: 100%|██████████| 137/137 [00:20<00:00,  6.72batch/s]\n",
      "Valid: 100%|██████████| 138/138 [00:05<00:00, 25.85batch/s]\n"
     ]
    },
    {
     "name": "stdout",
     "output_type": "stream",
     "text": [
      "Epoch 306/6000, Train Loss: 0.3609, Train Coeff: 0.3970, Val Loss: 0.3531, Val Coeff: 0.3177, Time: 25.73 sec\n"
     ]
    },
    {
     "name": "stderr",
     "output_type": "stream",
     "text": [
      "Train: 100%|██████████| 137/137 [00:20<00:00,  6.71batch/s]\n",
      "Valid: 100%|██████████| 138/138 [00:05<00:00, 26.10batch/s]\n"
     ]
    },
    {
     "name": "stdout",
     "output_type": "stream",
     "text": [
      "Epoch 307/6000, Train Loss: 0.3609, Train Coeff: 0.3975, Val Loss: 0.3494, Val Coeff: 0.3349, Time: 25.71 sec\n"
     ]
    },
    {
     "name": "stderr",
     "output_type": "stream",
     "text": [
      "Train: 100%|██████████| 137/137 [00:20<00:00,  6.69batch/s]\n",
      "Valid: 100%|██████████| 138/138 [00:05<00:00, 26.11batch/s]\n"
     ]
    },
    {
     "name": "stdout",
     "output_type": "stream",
     "text": [
      "Epoch 308/6000, Train Loss: 0.3612, Train Coeff: 0.3920, Val Loss: 0.3498, Val Coeff: 0.3241, Time: 25.79 sec\n"
     ]
    },
    {
     "name": "stderr",
     "output_type": "stream",
     "text": [
      "Train: 100%|██████████| 137/137 [00:20<00:00,  6.70batch/s]\n",
      "Valid: 100%|██████████| 138/138 [00:05<00:00, 26.09batch/s]\n"
     ]
    },
    {
     "name": "stdout",
     "output_type": "stream",
     "text": [
      "Epoch 309/6000, Train Loss: 0.3607, Train Coeff: 0.3978, Val Loss: 0.3519, Val Coeff: 0.3259, Time: 25.76 sec\n"
     ]
    },
    {
     "name": "stderr",
     "output_type": "stream",
     "text": [
      "Train: 100%|██████████| 137/137 [00:20<00:00,  6.71batch/s]\n",
      "Valid: 100%|██████████| 138/138 [00:05<00:00, 26.10batch/s]\n"
     ]
    },
    {
     "name": "stdout",
     "output_type": "stream",
     "text": [
      "Epoch 310/6000, Train Loss: 0.3614, Train Coeff: 0.3940, Val Loss: 0.3551, Val Coeff: 0.3369, Time: 25.72 sec\n"
     ]
    },
    {
     "name": "stderr",
     "output_type": "stream",
     "text": [
      "Train: 100%|██████████| 137/137 [00:20<00:00,  6.68batch/s]\n",
      "Valid: 100%|██████████| 138/138 [00:05<00:00, 26.11batch/s]\n"
     ]
    },
    {
     "name": "stdout",
     "output_type": "stream",
     "text": [
      "Epoch 311/6000, Train Loss: 0.3615, Train Coeff: 0.4004, Val Loss: 0.3497, Val Coeff: 0.3266, Time: 25.81 sec\n"
     ]
    },
    {
     "name": "stderr",
     "output_type": "stream",
     "text": [
      "Train: 100%|██████████| 137/137 [00:20<00:00,  6.68batch/s]\n",
      "Valid: 100%|██████████| 138/138 [00:05<00:00, 26.24batch/s]\n"
     ]
    },
    {
     "name": "stdout",
     "output_type": "stream",
     "text": [
      "Epoch 312/6000, Train Loss: 0.3609, Train Coeff: 0.3946, Val Loss: 0.3499, Val Coeff: 0.3415, Time: 25.78 sec\n"
     ]
    },
    {
     "name": "stderr",
     "output_type": "stream",
     "text": [
      "Train: 100%|██████████| 137/137 [00:20<00:00,  6.69batch/s]\n",
      "Valid: 100%|██████████| 138/138 [00:05<00:00, 26.16batch/s]\n"
     ]
    },
    {
     "name": "stdout",
     "output_type": "stream",
     "text": [
      "Epoch 313/6000, Train Loss: 0.3606, Train Coeff: 0.4006, Val Loss: 0.3498, Val Coeff: 0.3140, Time: 25.75 sec\n"
     ]
    },
    {
     "name": "stderr",
     "output_type": "stream",
     "text": [
      "Train: 100%|██████████| 137/137 [00:20<00:00,  6.70batch/s]\n",
      "Valid: 100%|██████████| 138/138 [00:05<00:00, 26.10batch/s]\n"
     ]
    },
    {
     "name": "stdout",
     "output_type": "stream",
     "text": [
      "Epoch 314/6000, Train Loss: 0.3609, Train Coeff: 0.3986, Val Loss: 0.3497, Val Coeff: 0.3132, Time: 25.75 sec\n"
     ]
    },
    {
     "name": "stderr",
     "output_type": "stream",
     "text": [
      "Train: 100%|██████████| 137/137 [00:20<00:00,  6.68batch/s]\n",
      "Valid: 100%|██████████| 138/138 [00:05<00:00, 26.16batch/s]\n"
     ]
    },
    {
     "name": "stdout",
     "output_type": "stream",
     "text": [
      "Epoch 315/6000, Train Loss: 0.3608, Train Coeff: 0.3979, Val Loss: 0.3495, Val Coeff: 0.3388, Time: 25.80 sec\n"
     ]
    },
    {
     "name": "stderr",
     "output_type": "stream",
     "text": [
      "Train: 100%|██████████| 137/137 [00:20<00:00,  6.67batch/s]\n",
      "Valid: 100%|██████████| 138/138 [00:05<00:00, 26.04batch/s]\n"
     ]
    },
    {
     "name": "stdout",
     "output_type": "stream",
     "text": [
      "Epoch 316/6000, Train Loss: 0.3616, Train Coeff: 0.3957, Val Loss: 0.3496, Val Coeff: 0.3313, Time: 25.83 sec\n"
     ]
    },
    {
     "name": "stderr",
     "output_type": "stream",
     "text": [
      "Train: 100%|██████████| 137/137 [00:20<00:00,  6.69batch/s]\n",
      "Valid: 100%|██████████| 138/138 [00:05<00:00, 26.19batch/s]\n"
     ]
    },
    {
     "name": "stdout",
     "output_type": "stream",
     "text": [
      "Epoch 317/6000, Train Loss: 0.3607, Train Coeff: 0.3979, Val Loss: 0.3503, Val Coeff: 0.3255, Time: 25.75 sec\n"
     ]
    },
    {
     "name": "stderr",
     "output_type": "stream",
     "text": [
      "Train: 100%|██████████| 137/137 [00:20<00:00,  6.71batch/s]\n",
      "Valid: 100%|██████████| 138/138 [00:05<00:00, 26.05batch/s]\n"
     ]
    },
    {
     "name": "stdout",
     "output_type": "stream",
     "text": [
      "Epoch 318/6000, Train Loss: 0.3612, Train Coeff: 0.3983, Val Loss: 0.3497, Val Coeff: 0.3304, Time: 25.73 sec\n"
     ]
    },
    {
     "name": "stderr",
     "output_type": "stream",
     "text": [
      "Train: 100%|██████████| 137/137 [00:20<00:00,  6.69batch/s]\n",
      "Valid: 100%|██████████| 138/138 [00:05<00:00, 26.11batch/s]\n"
     ]
    },
    {
     "name": "stdout",
     "output_type": "stream",
     "text": [
      "Epoch 319/6000, Train Loss: 0.3609, Train Coeff: 0.3957, Val Loss: 0.3503, Val Coeff: 0.3147, Time: 25.76 sec\n"
     ]
    },
    {
     "name": "stderr",
     "output_type": "stream",
     "text": [
      "Train: 100%|██████████| 137/137 [00:20<00:00,  6.69batch/s]\n",
      "Valid: 100%|██████████| 138/138 [00:05<00:00, 26.20batch/s]\n"
     ]
    },
    {
     "name": "stdout",
     "output_type": "stream",
     "text": [
      "Epoch 320/6000, Train Loss: 0.3615, Train Coeff: 0.3982, Val Loss: 0.3499, Val Coeff: 0.3250, Time: 25.76 sec\n"
     ]
    },
    {
     "name": "stderr",
     "output_type": "stream",
     "text": [
      "Train: 100%|██████████| 137/137 [00:20<00:00,  6.71batch/s]\n",
      "Valid: 100%|██████████| 138/138 [00:05<00:00, 26.14batch/s]\n"
     ]
    },
    {
     "name": "stdout",
     "output_type": "stream",
     "text": [
      "Epoch 321/6000, Train Loss: 0.3608, Train Coeff: 0.3957, Val Loss: 0.3526, Val Coeff: 0.3320, Time: 25.71 sec\n"
     ]
    },
    {
     "name": "stderr",
     "output_type": "stream",
     "text": [
      "Train: 100%|██████████| 137/137 [00:20<00:00,  6.70batch/s]\n",
      "Valid: 100%|██████████| 138/138 [00:05<00:00, 25.61batch/s]\n"
     ]
    },
    {
     "name": "stdout",
     "output_type": "stream",
     "text": [
      "Epoch 322/6000, Train Loss: 0.3608, Train Coeff: 0.3951, Val Loss: 0.3495, Val Coeff: 0.3335, Time: 25.84 sec\n"
     ]
    },
    {
     "name": "stderr",
     "output_type": "stream",
     "text": [
      "Train: 100%|██████████| 137/137 [00:20<00:00,  6.69batch/s]\n",
      "Valid: 100%|██████████| 138/138 [00:05<00:00, 25.78batch/s]\n"
     ]
    },
    {
     "name": "stdout",
     "output_type": "stream",
     "text": [
      "Epoch 323/6000, Train Loss: 0.3609, Train Coeff: 0.3975, Val Loss: 0.3506, Val Coeff: 0.3093, Time: 25.84 sec\n"
     ]
    },
    {
     "name": "stderr",
     "output_type": "stream",
     "text": [
      "Train: 100%|██████████| 137/137 [00:20<00:00,  6.70batch/s]\n",
      "Valid: 100%|██████████| 138/138 [00:05<00:00, 25.67batch/s]\n"
     ]
    },
    {
     "name": "stdout",
     "output_type": "stream",
     "text": [
      "Epoch 324/6000, Train Loss: 0.3617, Train Coeff: 0.3958, Val Loss: 0.3502, Val Coeff: 0.3505, Time: 25.83 sec\n"
     ]
    },
    {
     "name": "stderr",
     "output_type": "stream",
     "text": [
      "Train: 100%|██████████| 137/137 [00:20<00:00,  6.72batch/s]\n",
      "Valid: 100%|██████████| 138/138 [00:05<00:00, 25.74batch/s]\n"
     ]
    },
    {
     "name": "stdout",
     "output_type": "stream",
     "text": [
      "Epoch 325/6000, Train Loss: 0.3609, Train Coeff: 0.3970, Val Loss: 0.3497, Val Coeff: 0.3234, Time: 25.77 sec\n"
     ]
    },
    {
     "name": "stderr",
     "output_type": "stream",
     "text": [
      "Train: 100%|██████████| 137/137 [00:20<00:00,  6.71batch/s]\n",
      "Valid: 100%|██████████| 138/138 [00:05<00:00, 25.77batch/s]\n"
     ]
    },
    {
     "name": "stdout",
     "output_type": "stream",
     "text": [
      "Epoch 326/6000, Train Loss: 0.3607, Train Coeff: 0.4013, Val Loss: 0.3516, Val Coeff: 0.3235, Time: 25.78 sec\n"
     ]
    },
    {
     "name": "stderr",
     "output_type": "stream",
     "text": [
      "Train: 100%|██████████| 137/137 [00:20<00:00,  6.69batch/s]\n",
      "Valid: 100%|██████████| 138/138 [00:05<00:00, 25.83batch/s]\n"
     ]
    },
    {
     "name": "stdout",
     "output_type": "stream",
     "text": [
      "Epoch 327/6000, Train Loss: 0.3607, Train Coeff: 0.3915, Val Loss: 0.3505, Val Coeff: 0.3259, Time: 25.83 sec\n"
     ]
    },
    {
     "name": "stderr",
     "output_type": "stream",
     "text": [
      "Train: 100%|██████████| 137/137 [00:20<00:00,  6.69batch/s]\n",
      "Valid: 100%|██████████| 138/138 [00:05<00:00, 25.63batch/s]\n"
     ]
    },
    {
     "name": "stdout",
     "output_type": "stream",
     "text": [
      "Epoch 328/6000, Train Loss: 0.3609, Train Coeff: 0.3985, Val Loss: 0.3505, Val Coeff: 0.3121, Time: 25.86 sec\n"
     ]
    },
    {
     "name": "stderr",
     "output_type": "stream",
     "text": [
      "Train: 100%|██████████| 137/137 [00:20<00:00,  6.68batch/s]\n",
      "Valid: 100%|██████████| 138/138 [00:05<00:00, 25.70batch/s]\n"
     ]
    },
    {
     "name": "stdout",
     "output_type": "stream",
     "text": [
      "Epoch 329/6000, Train Loss: 0.3606, Train Coeff: 0.3942, Val Loss: 0.3504, Val Coeff: 0.3147, Time: 25.88 sec\n"
     ]
    },
    {
     "name": "stderr",
     "output_type": "stream",
     "text": [
      "Train: 100%|██████████| 137/137 [00:20<00:00,  6.69batch/s]\n",
      "Valid: 100%|██████████| 138/138 [00:05<00:00, 25.60batch/s]\n"
     ]
    },
    {
     "name": "stdout",
     "output_type": "stream",
     "text": [
      "Epoch 330/6000, Train Loss: 0.3610, Train Coeff: 0.3932, Val Loss: 0.3510, Val Coeff: 0.3326, Time: 25.89 sec\n"
     ]
    },
    {
     "name": "stderr",
     "output_type": "stream",
     "text": [
      "Train: 100%|██████████| 137/137 [00:20<00:00,  6.68batch/s]\n",
      "Valid: 100%|██████████| 138/138 [00:05<00:00, 25.80batch/s]\n"
     ]
    },
    {
     "name": "stdout",
     "output_type": "stream",
     "text": [
      "Epoch 331/6000, Train Loss: 0.3608, Train Coeff: 0.3958, Val Loss: 0.3498, Val Coeff: 0.3258, Time: 25.87 sec\n"
     ]
    },
    {
     "name": "stderr",
     "output_type": "stream",
     "text": [
      "Train: 100%|██████████| 137/137 [00:20<00:00,  6.69batch/s]\n",
      "Valid: 100%|██████████| 138/138 [00:05<00:00, 25.68batch/s]\n"
     ]
    },
    {
     "name": "stdout",
     "output_type": "stream",
     "text": [
      "Epoch 332/6000, Train Loss: 0.3607, Train Coeff: 0.3986, Val Loss: 0.3495, Val Coeff: 0.3363, Time: 25.86 sec\n"
     ]
    },
    {
     "name": "stderr",
     "output_type": "stream",
     "text": [
      "Train: 100%|██████████| 137/137 [00:20<00:00,  6.68batch/s]\n",
      "Valid: 100%|██████████| 138/138 [00:05<00:00, 25.58batch/s]\n"
     ]
    },
    {
     "name": "stdout",
     "output_type": "stream",
     "text": [
      "Epoch 333/6000, Train Loss: 0.3609, Train Coeff: 0.3965, Val Loss: 0.3505, Val Coeff: 0.3268, Time: 25.91 sec\n"
     ]
    },
    {
     "name": "stderr",
     "output_type": "stream",
     "text": [
      "Train: 100%|██████████| 137/137 [00:20<00:00,  6.69batch/s]\n",
      "Valid: 100%|██████████| 138/138 [00:05<00:00, 26.07batch/s]\n"
     ]
    },
    {
     "name": "stdout",
     "output_type": "stream",
     "text": [
      "Epoch 334/6000, Train Loss: 0.3612, Train Coeff: 0.4000, Val Loss: 0.3497, Val Coeff: 0.3458, Time: 25.80 sec\n"
     ]
    },
    {
     "name": "stderr",
     "output_type": "stream",
     "text": [
      "Train: 100%|██████████| 137/137 [00:20<00:00,  6.67batch/s]\n",
      "Valid: 100%|██████████| 138/138 [00:05<00:00, 25.96batch/s]\n"
     ]
    },
    {
     "name": "stdout",
     "output_type": "stream",
     "text": [
      "Epoch 335/6000, Train Loss: 0.3608, Train Coeff: 0.4018, Val Loss: 0.3549, Val Coeff: 0.3076, Time: 25.88 sec\n"
     ]
    },
    {
     "name": "stderr",
     "output_type": "stream",
     "text": [
      "Train: 100%|██████████| 137/137 [00:20<00:00,  6.66batch/s]\n",
      "Valid: 100%|██████████| 138/138 [00:05<00:00, 26.10batch/s]\n"
     ]
    },
    {
     "name": "stdout",
     "output_type": "stream",
     "text": [
      "Epoch 336/6000, Train Loss: 0.3605, Train Coeff: 0.3950, Val Loss: 0.3495, Val Coeff: 0.3291, Time: 25.87 sec\n"
     ]
    },
    {
     "name": "stderr",
     "output_type": "stream",
     "text": [
      "Train: 100%|██████████| 137/137 [00:20<00:00,  6.67batch/s]\n",
      "Valid: 100%|██████████| 138/138 [00:05<00:00, 26.12batch/s]\n"
     ]
    },
    {
     "name": "stdout",
     "output_type": "stream",
     "text": [
      "Epoch 337/6000, Train Loss: 0.3609, Train Coeff: 0.4002, Val Loss: 0.3512, Val Coeff: 0.2871, Time: 25.83 sec\n"
     ]
    },
    {
     "name": "stderr",
     "output_type": "stream",
     "text": [
      "Train: 100%|██████████| 137/137 [00:20<00:00,  6.65batch/s]\n",
      "Valid: 100%|██████████| 138/138 [00:05<00:00, 26.13batch/s]\n"
     ]
    },
    {
     "name": "stdout",
     "output_type": "stream",
     "text": [
      "Epoch 338/6000, Train Loss: 0.3617, Train Coeff: 0.3939, Val Loss: 0.3514, Val Coeff: 0.3186, Time: 25.88 sec\n"
     ]
    },
    {
     "name": "stderr",
     "output_type": "stream",
     "text": [
      "Train: 100%|██████████| 137/137 [00:20<00:00,  6.65batch/s]\n",
      "Valid: 100%|██████████| 138/138 [00:05<00:00, 25.72batch/s]\n"
     ]
    },
    {
     "name": "stdout",
     "output_type": "stream",
     "text": [
      "Epoch 339/6000, Train Loss: 0.3610, Train Coeff: 0.4000, Val Loss: 0.3540, Val Coeff: 0.3094, Time: 25.97 sec\n"
     ]
    },
    {
     "name": "stderr",
     "output_type": "stream",
     "text": [
      "Train: 100%|██████████| 137/137 [00:20<00:00,  6.65batch/s]\n",
      "Valid: 100%|██████████| 138/138 [00:05<00:00, 26.04batch/s]\n"
     ]
    },
    {
     "name": "stdout",
     "output_type": "stream",
     "text": [
      "Epoch 340/6000, Train Loss: 0.3610, Train Coeff: 0.4007, Val Loss: 0.3506, Val Coeff: 0.3221, Time: 25.89 sec\n"
     ]
    },
    {
     "name": "stderr",
     "output_type": "stream",
     "text": [
      "Train: 100%|██████████| 137/137 [00:20<00:00,  6.66batch/s]\n",
      "Valid: 100%|██████████| 138/138 [00:05<00:00, 26.02batch/s]\n"
     ]
    },
    {
     "name": "stdout",
     "output_type": "stream",
     "text": [
      "Epoch 341/6000, Train Loss: 0.3613, Train Coeff: 0.3923, Val Loss: 0.3503, Val Coeff: 0.3387, Time: 25.88 sec\n"
     ]
    },
    {
     "name": "stderr",
     "output_type": "stream",
     "text": [
      "Train: 100%|██████████| 137/137 [00:20<00:00,  6.67batch/s]\n",
      "Valid: 100%|██████████| 138/138 [00:05<00:00, 25.92batch/s]\n"
     ]
    },
    {
     "name": "stdout",
     "output_type": "stream",
     "text": [
      "Epoch 342/6000, Train Loss: 0.3607, Train Coeff: 0.3905, Val Loss: 0.3495, Val Coeff: 0.3004, Time: 25.87 sec\n"
     ]
    },
    {
     "name": "stderr",
     "output_type": "stream",
     "text": [
      "Train: 100%|██████████| 137/137 [00:20<00:00,  6.65batch/s]\n",
      "Valid: 100%|██████████| 138/138 [00:05<00:00, 26.00batch/s]\n"
     ]
    },
    {
     "name": "stdout",
     "output_type": "stream",
     "text": [
      "Epoch 343/6000, Train Loss: 0.3609, Train Coeff: 0.4006, Val Loss: 0.3644, Val Coeff: 0.2729, Time: 25.91 sec\n"
     ]
    },
    {
     "name": "stderr",
     "output_type": "stream",
     "text": [
      "Train: 100%|██████████| 137/137 [00:20<00:00,  6.65batch/s]\n",
      "Valid: 100%|██████████| 138/138 [00:05<00:00, 25.91batch/s]\n"
     ]
    },
    {
     "name": "stdout",
     "output_type": "stream",
     "text": [
      "Epoch 344/6000, Train Loss: 0.3610, Train Coeff: 0.4004, Val Loss: 0.3496, Val Coeff: 0.3337, Time: 25.93 sec\n"
     ]
    },
    {
     "name": "stderr",
     "output_type": "stream",
     "text": [
      "Train: 100%|██████████| 137/137 [00:20<00:00,  6.66batch/s]\n",
      "Valid: 100%|██████████| 138/138 [00:05<00:00, 26.11batch/s]\n"
     ]
    },
    {
     "name": "stdout",
     "output_type": "stream",
     "text": [
      "Epoch 345/6000, Train Loss: 0.3609, Train Coeff: 0.4001, Val Loss: 0.3544, Val Coeff: 0.3416, Time: 25.88 sec\n"
     ]
    },
    {
     "name": "stderr",
     "output_type": "stream",
     "text": [
      "Train: 100%|██████████| 137/137 [00:20<00:00,  6.67batch/s]\n",
      "Valid: 100%|██████████| 138/138 [00:05<00:00, 25.94batch/s]\n"
     ]
    },
    {
     "name": "stdout",
     "output_type": "stream",
     "text": [
      "Epoch 346/6000, Train Loss: 0.3611, Train Coeff: 0.3957, Val Loss: 0.3497, Val Coeff: 0.3291, Time: 25.88 sec\n"
     ]
    },
    {
     "name": "stderr",
     "output_type": "stream",
     "text": [
      "Train: 100%|██████████| 137/137 [00:20<00:00,  6.65batch/s]\n",
      "Valid: 100%|██████████| 138/138 [00:05<00:00, 25.93batch/s]\n"
     ]
    },
    {
     "name": "stdout",
     "output_type": "stream",
     "text": [
      "Epoch 347/6000, Train Loss: 0.3610, Train Coeff: 0.3970, Val Loss: 0.3526, Val Coeff: 0.3165, Time: 25.95 sec\n"
     ]
    },
    {
     "name": "stderr",
     "output_type": "stream",
     "text": [
      "Train: 100%|██████████| 137/137 [00:20<00:00,  6.65batch/s]\n",
      "Valid: 100%|██████████| 138/138 [00:05<00:00, 26.06batch/s]\n"
     ]
    },
    {
     "name": "stdout",
     "output_type": "stream",
     "text": [
      "Epoch 348/6000, Train Loss: 0.3607, Train Coeff: 0.3941, Val Loss: 0.3529, Val Coeff: 0.3187, Time: 25.91 sec\n"
     ]
    },
    {
     "name": "stderr",
     "output_type": "stream",
     "text": [
      "Train: 100%|██████████| 137/137 [00:20<00:00,  6.65batch/s]\n",
      "Valid: 100%|██████████| 138/138 [00:05<00:00, 26.04batch/s]\n"
     ]
    },
    {
     "name": "stdout",
     "output_type": "stream",
     "text": [
      "Epoch 349/6000, Train Loss: 0.3616, Train Coeff: 0.3918, Val Loss: 0.3511, Val Coeff: 0.3492, Time: 25.91 sec\n"
     ]
    },
    {
     "name": "stderr",
     "output_type": "stream",
     "text": [
      "Train: 100%|██████████| 137/137 [00:20<00:00,  6.65batch/s]\n",
      "Valid: 100%|██████████| 138/138 [00:05<00:00, 25.97batch/s]\n"
     ]
    },
    {
     "name": "stdout",
     "output_type": "stream",
     "text": [
      "Epoch 350/6000, Train Loss: 0.3614, Train Coeff: 0.3982, Val Loss: 0.3502, Val Coeff: 0.3246, Time: 25.92 sec\n"
     ]
    },
    {
     "name": "stderr",
     "output_type": "stream",
     "text": [
      "Train: 100%|██████████| 137/137 [00:20<00:00,  6.66batch/s]\n",
      "Valid: 100%|██████████| 138/138 [00:05<00:00, 26.04batch/s]\n"
     ]
    },
    {
     "name": "stdout",
     "output_type": "stream",
     "text": [
      "Epoch 351/6000, Train Loss: 0.3622, Train Coeff: 0.3913, Val Loss: 0.3505, Val Coeff: 0.3155, Time: 25.88 sec\n"
     ]
    },
    {
     "name": "stderr",
     "output_type": "stream",
     "text": [
      "Train: 100%|██████████| 137/137 [00:20<00:00,  6.66batch/s]\n",
      "Valid: 100%|██████████| 138/138 [00:05<00:00, 26.03batch/s]\n"
     ]
    },
    {
     "name": "stdout",
     "output_type": "stream",
     "text": [
      "Epoch 352/6000, Train Loss: 0.3613, Train Coeff: 0.3952, Val Loss: 0.3513, Val Coeff: 0.2951, Time: 25.88 sec\n"
     ]
    },
    {
     "name": "stderr",
     "output_type": "stream",
     "text": [
      "Train: 100%|██████████| 137/137 [00:20<00:00,  6.65batch/s]\n",
      "Valid: 100%|██████████| 138/138 [00:05<00:00, 26.05batch/s]\n"
     ]
    },
    {
     "name": "stdout",
     "output_type": "stream",
     "text": [
      "Epoch 353/6000, Train Loss: 0.3612, Train Coeff: 0.3995, Val Loss: 0.3499, Val Coeff: 0.3154, Time: 25.91 sec\n"
     ]
    },
    {
     "name": "stderr",
     "output_type": "stream",
     "text": [
      "Train: 100%|██████████| 137/137 [00:20<00:00,  6.64batch/s]\n",
      "Valid: 100%|██████████| 138/138 [00:05<00:00, 25.90batch/s]\n"
     ]
    },
    {
     "name": "stdout",
     "output_type": "stream",
     "text": [
      "Epoch 354/6000, Train Loss: 0.3609, Train Coeff: 0.3965, Val Loss: 0.3502, Val Coeff: 0.3043, Time: 25.96 sec\n"
     ]
    },
    {
     "name": "stderr",
     "output_type": "stream",
     "text": [
      "Train: 100%|██████████| 137/137 [00:20<00:00,  6.68batch/s]\n",
      "Valid: 100%|██████████| 138/138 [00:05<00:00, 25.66batch/s]\n"
     ]
    },
    {
     "name": "stdout",
     "output_type": "stream",
     "text": [
      "Epoch 355/6000, Train Loss: 0.3607, Train Coeff: 0.3966, Val Loss: 0.3497, Val Coeff: 0.3378, Time: 25.89 sec\n"
     ]
    },
    {
     "name": "stderr",
     "output_type": "stream",
     "text": [
      "Train: 100%|██████████| 137/137 [00:20<00:00,  6.65batch/s]\n",
      "Valid: 100%|██████████| 138/138 [00:05<00:00, 25.97batch/s]\n"
     ]
    },
    {
     "name": "stdout",
     "output_type": "stream",
     "text": [
      "Epoch 356/6000, Train Loss: 0.3607, Train Coeff: 0.3975, Val Loss: 0.3499, Val Coeff: 0.3282, Time: 25.93 sec\n"
     ]
    },
    {
     "name": "stderr",
     "output_type": "stream",
     "text": [
      "Train: 100%|██████████| 137/137 [00:20<00:00,  6.69batch/s]\n",
      "Valid: 100%|██████████| 138/138 [00:05<00:00, 25.62batch/s]\n"
     ]
    },
    {
     "name": "stdout",
     "output_type": "stream",
     "text": [
      "Epoch 357/6000, Train Loss: 0.3613, Train Coeff: 0.3967, Val Loss: 0.3499, Val Coeff: 0.3406, Time: 25.89 sec\n"
     ]
    },
    {
     "name": "stderr",
     "output_type": "stream",
     "text": [
      "Train: 100%|██████████| 137/137 [00:20<00:00,  6.67batch/s]\n",
      "Valid: 100%|██████████| 138/138 [00:05<00:00, 25.52batch/s]\n"
     ]
    },
    {
     "name": "stdout",
     "output_type": "stream",
     "text": [
      "Epoch 358/6000, Train Loss: 0.3609, Train Coeff: 0.3927, Val Loss: 0.3495, Val Coeff: 0.3200, Time: 25.97 sec\n"
     ]
    },
    {
     "name": "stderr",
     "output_type": "stream",
     "text": [
      "Train: 100%|██████████| 137/137 [00:20<00:00,  6.68batch/s]\n",
      "Valid: 100%|██████████| 138/138 [00:05<00:00, 25.71batch/s]\n"
     ]
    },
    {
     "name": "stdout",
     "output_type": "stream",
     "text": [
      "Epoch 359/6000, Train Loss: 0.3608, Train Coeff: 0.3974, Val Loss: 0.3499, Val Coeff: 0.3383, Time: 25.90 sec\n"
     ]
    },
    {
     "name": "stderr",
     "output_type": "stream",
     "text": [
      "Train: 100%|██████████| 137/137 [00:20<00:00,  6.68batch/s]\n",
      "Valid: 100%|██████████| 138/138 [00:05<00:00, 25.70batch/s]\n"
     ]
    },
    {
     "name": "stdout",
     "output_type": "stream",
     "text": [
      "Epoch 360/6000, Train Loss: 0.3614, Train Coeff: 0.3889, Val Loss: 0.3506, Val Coeff: 0.3245, Time: 25.90 sec\n"
     ]
    },
    {
     "name": "stderr",
     "output_type": "stream",
     "text": [
      "Train: 100%|██████████| 137/137 [00:20<00:00,  6.66batch/s]\n",
      "Valid: 100%|██████████| 138/138 [00:05<00:00, 25.99batch/s]\n"
     ]
    },
    {
     "name": "stdout",
     "output_type": "stream",
     "text": [
      "Epoch 361/6000, Train Loss: 0.3608, Train Coeff: 0.4010, Val Loss: 0.3495, Val Coeff: 0.3214, Time: 25.89 sec\n"
     ]
    },
    {
     "name": "stderr",
     "output_type": "stream",
     "text": [
      "Train: 100%|██████████| 137/137 [00:20<00:00,  6.65batch/s]\n",
      "Valid: 100%|██████████| 138/138 [00:05<00:00, 26.08batch/s]\n"
     ]
    },
    {
     "name": "stdout",
     "output_type": "stream",
     "text": [
      "Epoch 362/6000, Train Loss: 0.3607, Train Coeff: 0.3935, Val Loss: 0.3512, Val Coeff: 0.3223, Time: 25.89 sec\n"
     ]
    },
    {
     "name": "stderr",
     "output_type": "stream",
     "text": [
      "Train: 100%|██████████| 137/137 [00:20<00:00,  6.59batch/s]\n",
      "Valid: 100%|██████████| 138/138 [00:05<00:00, 26.05batch/s]\n"
     ]
    },
    {
     "name": "stdout",
     "output_type": "stream",
     "text": [
      "Epoch 363/6000, Train Loss: 0.3612, Train Coeff: 0.3943, Val Loss: 0.3533, Val Coeff: 0.3252, Time: 26.11 sec\n"
     ]
    },
    {
     "name": "stderr",
     "output_type": "stream",
     "text": [
      "Train: 100%|██████████| 137/137 [00:20<00:00,  6.66batch/s]\n",
      "Valid: 100%|██████████| 138/138 [00:05<00:00, 26.06batch/s]\n"
     ]
    },
    {
     "name": "stdout",
     "output_type": "stream",
     "text": [
      "Epoch 364/6000, Train Loss: 0.3614, Train Coeff: 0.3954, Val Loss: 0.3502, Val Coeff: 0.3354, Time: 25.89 sec\n"
     ]
    },
    {
     "name": "stderr",
     "output_type": "stream",
     "text": [
      "Train: 100%|██████████| 137/137 [00:20<00:00,  6.65batch/s]\n",
      "Valid: 100%|██████████| 138/138 [00:05<00:00, 26.00batch/s]\n"
     ]
    },
    {
     "name": "stdout",
     "output_type": "stream",
     "text": [
      "Epoch 365/6000, Train Loss: 0.3607, Train Coeff: 0.3954, Val Loss: 0.3644, Val Coeff: 0.2795, Time: 25.91 sec\n"
     ]
    },
    {
     "name": "stderr",
     "output_type": "stream",
     "text": [
      "Train: 100%|██████████| 137/137 [00:20<00:00,  6.67batch/s]\n",
      "Valid: 100%|██████████| 138/138 [00:05<00:00, 26.04batch/s]\n"
     ]
    },
    {
     "name": "stdout",
     "output_type": "stream",
     "text": [
      "Epoch 366/6000, Train Loss: 0.3612, Train Coeff: 0.3900, Val Loss: 0.3495, Val Coeff: 0.3444, Time: 25.86 sec\n"
     ]
    },
    {
     "name": "stderr",
     "output_type": "stream",
     "text": [
      "Train: 100%|██████████| 137/137 [00:20<00:00,  6.66batch/s]\n",
      "Valid: 100%|██████████| 138/138 [00:05<00:00, 26.03batch/s]\n"
     ]
    },
    {
     "name": "stdout",
     "output_type": "stream",
     "text": [
      "Epoch 367/6000, Train Loss: 0.3612, Train Coeff: 0.3936, Val Loss: 0.3505, Val Coeff: 0.3421, Time: 25.87 sec\n"
     ]
    },
    {
     "name": "stderr",
     "output_type": "stream",
     "text": [
      "Train: 100%|██████████| 137/137 [00:20<00:00,  6.63batch/s]\n",
      "Valid: 100%|██████████| 138/138 [00:05<00:00, 25.95batch/s]\n"
     ]
    },
    {
     "name": "stdout",
     "output_type": "stream",
     "text": [
      "Epoch 368/6000, Train Loss: 0.3608, Train Coeff: 0.3988, Val Loss: 0.3501, Val Coeff: 0.3024, Time: 25.98 sec\n"
     ]
    },
    {
     "name": "stderr",
     "output_type": "stream",
     "text": [
      "Train: 100%|██████████| 137/137 [00:20<00:00,  6.64batch/s]\n",
      "Valid: 100%|██████████| 138/138 [00:05<00:00, 25.96batch/s]\n"
     ]
    },
    {
     "name": "stdout",
     "output_type": "stream",
     "text": [
      "Epoch 369/6000, Train Loss: 0.3607, Train Coeff: 0.3959, Val Loss: 0.3499, Val Coeff: 0.3277, Time: 25.95 sec\n"
     ]
    },
    {
     "name": "stderr",
     "output_type": "stream",
     "text": [
      "Train: 100%|██████████| 137/137 [00:20<00:00,  6.65batch/s]\n",
      "Valid: 100%|██████████| 138/138 [00:05<00:00, 25.98batch/s]\n"
     ]
    },
    {
     "name": "stdout",
     "output_type": "stream",
     "text": [
      "Epoch 370/6000, Train Loss: 0.3607, Train Coeff: 0.3906, Val Loss: 0.3501, Val Coeff: 0.3276, Time: 25.92 sec\n"
     ]
    },
    {
     "name": "stderr",
     "output_type": "stream",
     "text": [
      "Train: 100%|██████████| 137/137 [00:20<00:00,  6.64batch/s]\n",
      "Valid: 100%|██████████| 138/138 [00:05<00:00, 26.08batch/s]\n"
     ]
    },
    {
     "name": "stdout",
     "output_type": "stream",
     "text": [
      "Epoch 371/6000, Train Loss: 0.3609, Train Coeff: 0.3955, Val Loss: 0.3507, Val Coeff: 0.2888, Time: 25.92 sec\n"
     ]
    },
    {
     "name": "stderr",
     "output_type": "stream",
     "text": [
      "Train: 100%|██████████| 137/137 [00:20<00:00,  6.64batch/s]\n",
      "Valid: 100%|██████████| 138/138 [00:05<00:00, 25.96batch/s]\n"
     ]
    },
    {
     "name": "stdout",
     "output_type": "stream",
     "text": [
      "Epoch 372/6000, Train Loss: 0.3610, Train Coeff: 0.3992, Val Loss: 0.3522, Val Coeff: 0.2974, Time: 25.96 sec\n"
     ]
    },
    {
     "name": "stderr",
     "output_type": "stream",
     "text": [
      "Train: 100%|██████████| 137/137 [00:20<00:00,  6.64batch/s]\n",
      "Valid: 100%|██████████| 138/138 [00:05<00:00, 25.97batch/s]\n"
     ]
    },
    {
     "name": "stdout",
     "output_type": "stream",
     "text": [
      "Epoch 373/6000, Train Loss: 0.3614, Train Coeff: 0.3939, Val Loss: 0.3498, Val Coeff: 0.3289, Time: 25.95 sec\n"
     ]
    },
    {
     "name": "stderr",
     "output_type": "stream",
     "text": [
      "Train: 100%|██████████| 137/137 [00:20<00:00,  6.64batch/s]\n",
      "Valid: 100%|██████████| 138/138 [00:05<00:00, 26.01batch/s]\n"
     ]
    },
    {
     "name": "stdout",
     "output_type": "stream",
     "text": [
      "Epoch 374/6000, Train Loss: 0.3615, Train Coeff: 0.3940, Val Loss: 0.3531, Val Coeff: 0.3259, Time: 25.94 sec\n"
     ]
    },
    {
     "name": "stderr",
     "output_type": "stream",
     "text": [
      "Train: 100%|██████████| 137/137 [00:20<00:00,  6.65batch/s]\n",
      "Valid: 100%|██████████| 138/138 [00:05<00:00, 25.92batch/s]\n"
     ]
    },
    {
     "name": "stdout",
     "output_type": "stream",
     "text": [
      "Epoch 375/6000, Train Loss: 0.3620, Train Coeff: 0.3965, Val Loss: 0.3516, Val Coeff: 0.3310, Time: 25.94 sec\n"
     ]
    },
    {
     "name": "stderr",
     "output_type": "stream",
     "text": [
      "Train: 100%|██████████| 137/137 [00:20<00:00,  6.66batch/s]\n",
      "Valid: 100%|██████████| 138/138 [00:05<00:00, 25.99batch/s]\n"
     ]
    },
    {
     "name": "stdout",
     "output_type": "stream",
     "text": [
      "Epoch 376/6000, Train Loss: 0.3607, Train Coeff: 0.3979, Val Loss: 0.3496, Val Coeff: 0.3384, Time: 25.90 sec\n"
     ]
    },
    {
     "name": "stderr",
     "output_type": "stream",
     "text": [
      "Train: 100%|██████████| 137/137 [00:20<00:00,  6.66batch/s]\n",
      "Valid: 100%|██████████| 138/138 [00:05<00:00, 26.03batch/s]\n"
     ]
    },
    {
     "name": "stdout",
     "output_type": "stream",
     "text": [
      "Epoch 377/6000, Train Loss: 0.3608, Train Coeff: 0.4026, Val Loss: 0.3508, Val Coeff: 0.3389, Time: 25.89 sec\n"
     ]
    },
    {
     "name": "stderr",
     "output_type": "stream",
     "text": [
      "Train: 100%|██████████| 137/137 [00:20<00:00,  6.65batch/s]\n",
      "Valid: 100%|██████████| 138/138 [00:05<00:00, 25.98batch/s]\n"
     ]
    },
    {
     "name": "stdout",
     "output_type": "stream",
     "text": [
      "Epoch 378/6000, Train Loss: 0.3615, Train Coeff: 0.3967, Val Loss: 0.3502, Val Coeff: 0.3307, Time: 25.93 sec\n"
     ]
    },
    {
     "name": "stderr",
     "output_type": "stream",
     "text": [
      "Train: 100%|██████████| 137/137 [00:20<00:00,  6.66batch/s]\n",
      "Valid: 100%|██████████| 138/138 [00:05<00:00, 25.98batch/s]\n"
     ]
    },
    {
     "name": "stdout",
     "output_type": "stream",
     "text": [
      "Epoch 379/6000, Train Loss: 0.3608, Train Coeff: 0.3944, Val Loss: 0.3511, Val Coeff: 0.3190, Time: 25.89 sec\n"
     ]
    },
    {
     "name": "stderr",
     "output_type": "stream",
     "text": [
      "Train: 100%|██████████| 137/137 [00:20<00:00,  6.67batch/s]\n",
      "Valid: 100%|██████████| 138/138 [00:05<00:00, 25.93batch/s]\n"
     ]
    },
    {
     "name": "stdout",
     "output_type": "stream",
     "text": [
      "Epoch 380/6000, Train Loss: 0.3614, Train Coeff: 0.3866, Val Loss: 0.3497, Val Coeff: 0.3249, Time: 25.87 sec\n"
     ]
    },
    {
     "name": "stderr",
     "output_type": "stream",
     "text": [
      "Train: 100%|██████████| 137/137 [00:20<00:00,  6.64batch/s]\n",
      "Valid: 100%|██████████| 138/138 [00:05<00:00, 26.06batch/s]\n"
     ]
    },
    {
     "name": "stdout",
     "output_type": "stream",
     "text": [
      "Epoch 381/6000, Train Loss: 0.3611, Train Coeff: 0.3943, Val Loss: 0.3532, Val Coeff: 0.3307, Time: 25.94 sec\n"
     ]
    },
    {
     "name": "stderr",
     "output_type": "stream",
     "text": [
      "Train: 100%|██████████| 137/137 [00:20<00:00,  6.64batch/s]\n",
      "Valid: 100%|██████████| 138/138 [00:05<00:00, 25.99batch/s]\n"
     ]
    },
    {
     "name": "stdout",
     "output_type": "stream",
     "text": [
      "Epoch 382/6000, Train Loss: 0.3610, Train Coeff: 0.3925, Val Loss: 0.3505, Val Coeff: 0.2974, Time: 25.94 sec\n"
     ]
    },
    {
     "name": "stderr",
     "output_type": "stream",
     "text": [
      "Train: 100%|██████████| 137/137 [00:20<00:00,  6.67batch/s]\n",
      "Valid: 100%|██████████| 138/138 [00:05<00:00, 25.62batch/s]\n"
     ]
    },
    {
     "name": "stdout",
     "output_type": "stream",
     "text": [
      "Epoch 383/6000, Train Loss: 0.3610, Train Coeff: 0.3996, Val Loss: 0.3499, Val Coeff: 0.3351, Time: 25.93 sec\n"
     ]
    },
    {
     "name": "stderr",
     "output_type": "stream",
     "text": [
      "Train: 100%|██████████| 137/137 [00:20<00:00,  6.67batch/s]\n",
      "Valid: 100%|██████████| 138/138 [00:05<00:00, 25.61batch/s]\n"
     ]
    },
    {
     "name": "stdout",
     "output_type": "stream",
     "text": [
      "Epoch 384/6000, Train Loss: 0.3611, Train Coeff: 0.3914, Val Loss: 0.3498, Val Coeff: 0.3390, Time: 25.93 sec\n"
     ]
    },
    {
     "name": "stderr",
     "output_type": "stream",
     "text": [
      "Train: 100%|██████████| 137/137 [00:20<00:00,  6.67batch/s]\n",
      "Valid: 100%|██████████| 138/138 [00:05<00:00, 25.72batch/s]\n"
     ]
    },
    {
     "name": "stdout",
     "output_type": "stream",
     "text": [
      "Epoch 385/6000, Train Loss: 0.3608, Train Coeff: 0.3964, Val Loss: 0.3498, Val Coeff: 0.3217, Time: 25.91 sec\n"
     ]
    },
    {
     "name": "stderr",
     "output_type": "stream",
     "text": [
      "Train: 100%|██████████| 137/137 [00:20<00:00,  6.67batch/s]\n",
      "Valid: 100%|██████████| 138/138 [00:05<00:00, 25.42batch/s]\n"
     ]
    },
    {
     "name": "stdout",
     "output_type": "stream",
     "text": [
      "Epoch 386/6000, Train Loss: 0.3615, Train Coeff: 0.3960, Val Loss: 0.3523, Val Coeff: 0.2949, Time: 25.99 sec\n"
     ]
    },
    {
     "name": "stderr",
     "output_type": "stream",
     "text": [
      "Train: 100%|██████████| 137/137 [00:20<00:00,  6.67batch/s]\n",
      "Valid: 100%|██████████| 138/138 [00:05<00:00, 25.64batch/s]\n"
     ]
    },
    {
     "name": "stdout",
     "output_type": "stream",
     "text": [
      "Epoch 387/6000, Train Loss: 0.3610, Train Coeff: 0.3929, Val Loss: 0.3496, Val Coeff: 0.3342, Time: 25.94 sec\n"
     ]
    },
    {
     "name": "stderr",
     "output_type": "stream",
     "text": [
      "Train: 100%|██████████| 137/137 [00:20<00:00,  6.68batch/s]\n",
      "Valid: 100%|██████████| 138/138 [00:05<00:00, 25.57batch/s]\n"
     ]
    },
    {
     "name": "stdout",
     "output_type": "stream",
     "text": [
      "Epoch 388/6000, Train Loss: 0.3608, Train Coeff: 0.3948, Val Loss: 0.3498, Val Coeff: 0.3303, Time: 25.93 sec\n"
     ]
    },
    {
     "name": "stderr",
     "output_type": "stream",
     "text": [
      "Train: 100%|██████████| 137/137 [00:20<00:00,  6.67batch/s]\n",
      "Valid: 100%|██████████| 138/138 [00:05<00:00, 25.41batch/s]\n"
     ]
    },
    {
     "name": "stdout",
     "output_type": "stream",
     "text": [
      "Epoch 389/6000, Train Loss: 0.3614, Train Coeff: 0.3982, Val Loss: 0.3501, Val Coeff: 0.3278, Time: 25.98 sec\n"
     ]
    },
    {
     "name": "stderr",
     "output_type": "stream",
     "text": [
      "Train: 100%|██████████| 137/137 [00:20<00:00,  6.67batch/s]\n",
      "Valid: 100%|██████████| 138/138 [00:05<00:00, 25.96batch/s]\n"
     ]
    },
    {
     "name": "stdout",
     "output_type": "stream",
     "text": [
      "Epoch 390/6000, Train Loss: 0.3608, Train Coeff: 0.3967, Val Loss: 0.3496, Val Coeff: 0.3428, Time: 25.86 sec\n"
     ]
    },
    {
     "name": "stderr",
     "output_type": "stream",
     "text": [
      "Train: 100%|██████████| 137/137 [00:20<00:00,  6.65batch/s]\n",
      "Valid: 100%|██████████| 138/138 [00:05<00:00, 25.98batch/s]\n"
     ]
    },
    {
     "name": "stdout",
     "output_type": "stream",
     "text": [
      "Epoch 391/6000, Train Loss: 0.3613, Train Coeff: 0.3961, Val Loss: 0.3513, Val Coeff: 0.3426, Time: 25.91 sec\n"
     ]
    },
    {
     "name": "stderr",
     "output_type": "stream",
     "text": [
      "Train: 100%|██████████| 137/137 [00:20<00:00,  6.65batch/s]\n",
      "Valid: 100%|██████████| 138/138 [00:05<00:00, 26.02batch/s]\n"
     ]
    },
    {
     "name": "stdout",
     "output_type": "stream",
     "text": [
      "Epoch 392/6000, Train Loss: 0.3606, Train Coeff: 0.3987, Val Loss: 0.3505, Val Coeff: 0.3538, Time: 25.91 sec\n"
     ]
    },
    {
     "name": "stderr",
     "output_type": "stream",
     "text": [
      "Train: 100%|██████████| 137/137 [00:20<00:00,  6.64batch/s]\n",
      "Valid: 100%|██████████| 138/138 [00:05<00:00, 26.03batch/s]\n"
     ]
    },
    {
     "name": "stdout",
     "output_type": "stream",
     "text": [
      "Epoch 393/6000, Train Loss: 0.3609, Train Coeff: 0.3944, Val Loss: 0.3578, Val Coeff: 0.2858, Time: 25.94 sec\n"
     ]
    },
    {
     "name": "stderr",
     "output_type": "stream",
     "text": [
      "Train: 100%|██████████| 137/137 [00:20<00:00,  6.65batch/s]\n",
      "Valid: 100%|██████████| 138/138 [00:05<00:00, 25.98batch/s]\n"
     ]
    },
    {
     "name": "stdout",
     "output_type": "stream",
     "text": [
      "Epoch 394/6000, Train Loss: 0.3610, Train Coeff: 0.3900, Val Loss: 0.3499, Val Coeff: 0.3317, Time: 25.92 sec\n"
     ]
    },
    {
     "name": "stderr",
     "output_type": "stream",
     "text": [
      "Train: 100%|██████████| 137/137 [00:20<00:00,  6.63batch/s]\n",
      "Valid: 100%|██████████| 138/138 [00:05<00:00, 26.05batch/s]\n"
     ]
    },
    {
     "name": "stdout",
     "output_type": "stream",
     "text": [
      "Epoch 395/6000, Train Loss: 0.3608, Train Coeff: 0.3978, Val Loss: 0.3494, Val Coeff: 0.3248, Time: 25.98 sec\n"
     ]
    },
    {
     "name": "stderr",
     "output_type": "stream",
     "text": [
      "Train: 100%|██████████| 137/137 [00:20<00:00,  6.66batch/s]\n",
      "Valid: 100%|██████████| 138/138 [00:05<00:00, 26.03batch/s]\n"
     ]
    },
    {
     "name": "stdout",
     "output_type": "stream",
     "text": [
      "Epoch 396/6000, Train Loss: 0.3609, Train Coeff: 0.3928, Val Loss: 0.3496, Val Coeff: 0.3239, Time: 25.89 sec\n"
     ]
    },
    {
     "name": "stderr",
     "output_type": "stream",
     "text": [
      "Train: 100%|██████████| 137/137 [00:20<00:00,  6.64batch/s]\n",
      "Valid: 100%|██████████| 138/138 [00:05<00:00, 26.05batch/s]\n"
     ]
    },
    {
     "name": "stdout",
     "output_type": "stream",
     "text": [
      "Epoch 397/6000, Train Loss: 0.3608, Train Coeff: 0.3974, Val Loss: 0.3499, Val Coeff: 0.3278, Time: 25.95 sec\n"
     ]
    },
    {
     "name": "stderr",
     "output_type": "stream",
     "text": [
      "Train: 100%|██████████| 137/137 [00:20<00:00,  6.64batch/s]\n",
      "Valid: 100%|██████████| 138/138 [00:05<00:00, 25.99batch/s]\n"
     ]
    },
    {
     "name": "stdout",
     "output_type": "stream",
     "text": [
      "Epoch 398/6000, Train Loss: 0.3607, Train Coeff: 0.3975, Val Loss: 0.3506, Val Coeff: 0.3104, Time: 25.95 sec\n"
     ]
    },
    {
     "name": "stderr",
     "output_type": "stream",
     "text": [
      "Train: 100%|██████████| 137/137 [00:20<00:00,  6.65batch/s]\n",
      "Valid: 100%|██████████| 138/138 [00:05<00:00, 25.98batch/s]\n"
     ]
    },
    {
     "name": "stdout",
     "output_type": "stream",
     "text": [
      "Epoch 399/6000, Train Loss: 0.3620, Train Coeff: 0.3963, Val Loss: 0.3500, Val Coeff: 0.3081, Time: 25.92 sec\n"
     ]
    },
    {
     "name": "stderr",
     "output_type": "stream",
     "text": [
      "Train: 100%|██████████| 137/137 [00:20<00:00,  6.66batch/s]\n",
      "Valid: 100%|██████████| 138/138 [00:05<00:00, 26.07batch/s]\n"
     ]
    },
    {
     "name": "stdout",
     "output_type": "stream",
     "text": [
      "Epoch 400/6000, Train Loss: 0.3609, Train Coeff: 0.3969, Val Loss: 0.3523, Val Coeff: 0.3316, Time: 25.89 sec\n"
     ]
    },
    {
     "name": "stderr",
     "output_type": "stream",
     "text": [
      "Train: 100%|██████████| 137/137 [00:20<00:00,  6.65batch/s]\n",
      "Valid: 100%|██████████| 138/138 [00:05<00:00, 25.87batch/s]\n"
     ]
    },
    {
     "name": "stdout",
     "output_type": "stream",
     "text": [
      "Epoch 401/6000, Train Loss: 0.3609, Train Coeff: 0.3945, Val Loss: 0.3497, Val Coeff: 0.3157, Time: 25.96 sec\n"
     ]
    },
    {
     "name": "stderr",
     "output_type": "stream",
     "text": [
      "Train: 100%|██████████| 137/137 [00:20<00:00,  6.64batch/s]\n",
      "Valid: 100%|██████████| 138/138 [00:05<00:00, 26.00batch/s]\n"
     ]
    },
    {
     "name": "stdout",
     "output_type": "stream",
     "text": [
      "Epoch 402/6000, Train Loss: 0.3613, Train Coeff: 0.3996, Val Loss: 0.3497, Val Coeff: 0.2989, Time: 25.94 sec\n"
     ]
    },
    {
     "name": "stderr",
     "output_type": "stream",
     "text": [
      "Train: 100%|██████████| 137/137 [00:20<00:00,  6.64batch/s]\n",
      "Valid: 100%|██████████| 138/138 [00:05<00:00, 25.84batch/s]\n"
     ]
    },
    {
     "name": "stdout",
     "output_type": "stream",
     "text": [
      "Epoch 403/6000, Train Loss: 0.3607, Train Coeff: 0.3958, Val Loss: 0.3501, Val Coeff: 0.3404, Time: 25.97 sec\n"
     ]
    },
    {
     "name": "stderr",
     "output_type": "stream",
     "text": [
      "Train: 100%|██████████| 137/137 [00:20<00:00,  6.64batch/s]\n",
      "Valid: 100%|██████████| 138/138 [00:05<00:00, 25.97batch/s]\n"
     ]
    },
    {
     "name": "stdout",
     "output_type": "stream",
     "text": [
      "Epoch 404/6000, Train Loss: 0.3611, Train Coeff: 0.3864, Val Loss: 0.3507, Val Coeff: 0.3192, Time: 25.94 sec\n"
     ]
    },
    {
     "name": "stderr",
     "output_type": "stream",
     "text": [
      "Train: 100%|██████████| 137/137 [00:20<00:00,  6.64batch/s]\n",
      "Valid: 100%|██████████| 138/138 [00:05<00:00, 25.99batch/s]\n"
     ]
    },
    {
     "name": "stdout",
     "output_type": "stream",
     "text": [
      "Epoch 405/6000, Train Loss: 0.3610, Train Coeff: 0.3966, Val Loss: 0.3511, Val Coeff: 0.3278, Time: 25.96 sec\n"
     ]
    },
    {
     "name": "stderr",
     "output_type": "stream",
     "text": [
      "Train: 100%|██████████| 137/137 [00:20<00:00,  6.64batch/s]\n",
      "Valid: 100%|██████████| 138/138 [00:05<00:00, 25.92batch/s]\n"
     ]
    },
    {
     "name": "stdout",
     "output_type": "stream",
     "text": [
      "Epoch 406/6000, Train Loss: 0.3614, Train Coeff: 0.3976, Val Loss: 0.3529, Val Coeff: 0.3338, Time: 25.96 sec\n"
     ]
    },
    {
     "name": "stderr",
     "output_type": "stream",
     "text": [
      "Train: 100%|██████████| 137/137 [00:20<00:00,  6.64batch/s]\n",
      "Valid: 100%|██████████| 138/138 [00:05<00:00, 26.01batch/s]\n"
     ]
    },
    {
     "name": "stdout",
     "output_type": "stream",
     "text": [
      "Epoch 407/6000, Train Loss: 0.3612, Train Coeff: 0.3919, Val Loss: 0.3500, Val Coeff: 0.3213, Time: 25.95 sec\n"
     ]
    },
    {
     "name": "stderr",
     "output_type": "stream",
     "text": [
      "Train: 100%|██████████| 137/137 [00:20<00:00,  6.63batch/s]\n",
      "Valid: 100%|██████████| 138/138 [00:05<00:00, 26.06batch/s]\n"
     ]
    },
    {
     "name": "stdout",
     "output_type": "stream",
     "text": [
      "Epoch 408/6000, Train Loss: 0.3608, Train Coeff: 0.3939, Val Loss: 0.3499, Val Coeff: 0.3242, Time: 25.97 sec\n"
     ]
    },
    {
     "name": "stderr",
     "output_type": "stream",
     "text": [
      "Train: 100%|██████████| 137/137 [00:20<00:00,  6.64batch/s]\n",
      "Valid: 100%|██████████| 138/138 [00:05<00:00, 25.91batch/s]\n"
     ]
    },
    {
     "name": "stdout",
     "output_type": "stream",
     "text": [
      "Epoch 409/6000, Train Loss: 0.3608, Train Coeff: 0.3975, Val Loss: 0.3502, Val Coeff: 0.3247, Time: 25.96 sec\n"
     ]
    },
    {
     "name": "stderr",
     "output_type": "stream",
     "text": [
      "Train: 100%|██████████| 137/137 [00:20<00:00,  6.65batch/s]\n",
      "Valid: 100%|██████████| 138/138 [00:05<00:00, 25.60batch/s]\n"
     ]
    },
    {
     "name": "stdout",
     "output_type": "stream",
     "text": [
      "Epoch 410/6000, Train Loss: 0.3609, Train Coeff: 0.3984, Val Loss: 0.3505, Val Coeff: 0.3331, Time: 26.01 sec\n"
     ]
    },
    {
     "name": "stderr",
     "output_type": "stream",
     "text": [
      "Train: 100%|██████████| 137/137 [00:20<00:00,  6.67batch/s]\n",
      "Valid: 100%|██████████| 138/138 [00:05<00:00, 25.23batch/s]\n"
     ]
    },
    {
     "name": "stdout",
     "output_type": "stream",
     "text": [
      "Epoch 411/6000, Train Loss: 0.3607, Train Coeff: 0.3958, Val Loss: 0.3512, Val Coeff: 0.2932, Time: 26.02 sec\n"
     ]
    },
    {
     "name": "stderr",
     "output_type": "stream",
     "text": [
      "Train: 100%|██████████| 137/137 [00:20<00:00,  6.66batch/s]\n",
      "Valid: 100%|██████████| 138/138 [00:05<00:00, 25.61batch/s]\n"
     ]
    },
    {
     "name": "stdout",
     "output_type": "stream",
     "text": [
      "Epoch 412/6000, Train Loss: 0.3610, Train Coeff: 0.3964, Val Loss: 0.3498, Val Coeff: 0.3191, Time: 25.95 sec\n"
     ]
    },
    {
     "name": "stderr",
     "output_type": "stream",
     "text": [
      "Train: 100%|██████████| 137/137 [00:20<00:00,  6.67batch/s]\n",
      "Valid: 100%|██████████| 138/138 [00:05<00:00, 25.55batch/s]\n"
     ]
    },
    {
     "name": "stdout",
     "output_type": "stream",
     "text": [
      "Epoch 413/6000, Train Loss: 0.3610, Train Coeff: 0.3956, Val Loss: 0.3501, Val Coeff: 0.3264, Time: 25.96 sec\n"
     ]
    },
    {
     "name": "stderr",
     "output_type": "stream",
     "text": [
      "Train: 100%|██████████| 137/137 [00:20<00:00,  6.67batch/s]\n",
      "Valid: 100%|██████████| 138/138 [00:05<00:00, 25.65batch/s]\n"
     ]
    },
    {
     "name": "stdout",
     "output_type": "stream",
     "text": [
      "Epoch 414/6000, Train Loss: 0.3609, Train Coeff: 0.4017, Val Loss: 0.3497, Val Coeff: 0.3242, Time: 25.92 sec\n"
     ]
    },
    {
     "name": "stderr",
     "output_type": "stream",
     "text": [
      "Train: 100%|██████████| 137/137 [00:20<00:00,  6.67batch/s]\n",
      "Valid: 100%|██████████| 138/138 [00:05<00:00, 25.62batch/s]\n"
     ]
    },
    {
     "name": "stdout",
     "output_type": "stream",
     "text": [
      "Epoch 415/6000, Train Loss: 0.3611, Train Coeff: 0.3923, Val Loss: 0.3503, Val Coeff: 0.3179, Time: 25.93 sec\n"
     ]
    },
    {
     "name": "stderr",
     "output_type": "stream",
     "text": [
      "Train: 100%|██████████| 137/137 [00:20<00:00,  6.66batch/s]\n",
      "Valid: 100%|██████████| 138/138 [00:05<00:00, 25.67batch/s]\n"
     ]
    },
    {
     "name": "stdout",
     "output_type": "stream",
     "text": [
      "Epoch 416/6000, Train Loss: 0.3609, Train Coeff: 0.3959, Val Loss: 0.3496, Val Coeff: 0.3349, Time: 25.95 sec\n"
     ]
    },
    {
     "name": "stderr",
     "output_type": "stream",
     "text": [
      "Train: 100%|██████████| 137/137 [00:20<00:00,  6.66batch/s]\n",
      "Valid: 100%|██████████| 138/138 [00:05<00:00, 25.95batch/s]\n"
     ]
    },
    {
     "name": "stdout",
     "output_type": "stream",
     "text": [
      "Epoch 417/6000, Train Loss: 0.3611, Train Coeff: 0.3981, Val Loss: 0.3495, Val Coeff: 0.3293, Time: 25.88 sec\n"
     ]
    },
    {
     "name": "stderr",
     "output_type": "stream",
     "text": [
      "Train: 100%|██████████| 137/137 [00:20<00:00,  6.63batch/s]\n",
      "Valid: 100%|██████████| 138/138 [00:05<00:00, 26.04batch/s]\n"
     ]
    },
    {
     "name": "stdout",
     "output_type": "stream",
     "text": [
      "Epoch 418/6000, Train Loss: 0.3619, Train Coeff: 0.3882, Val Loss: 0.3513, Val Coeff: 0.3015, Time: 25.96 sec\n"
     ]
    },
    {
     "name": "stderr",
     "output_type": "stream",
     "text": [
      "Train: 100%|██████████| 137/137 [00:20<00:00,  6.64batch/s]\n",
      "Valid: 100%|██████████| 138/138 [00:05<00:00, 25.94batch/s]\n"
     ]
    },
    {
     "name": "stdout",
     "output_type": "stream",
     "text": [
      "Epoch 419/6000, Train Loss: 0.3616, Train Coeff: 0.3924, Val Loss: 0.3497, Val Coeff: 0.3426, Time: 25.96 sec\n"
     ]
    },
    {
     "name": "stderr",
     "output_type": "stream",
     "text": [
      "Train: 100%|██████████| 137/137 [00:20<00:00,  6.63batch/s]\n",
      "Valid: 100%|██████████| 138/138 [00:05<00:00, 25.94batch/s]\n"
     ]
    },
    {
     "name": "stdout",
     "output_type": "stream",
     "text": [
      "Epoch 420/6000, Train Loss: 0.3610, Train Coeff: 0.3991, Val Loss: 0.3514, Val Coeff: 0.2938, Time: 25.99 sec\n"
     ]
    },
    {
     "name": "stderr",
     "output_type": "stream",
     "text": [
      "Train: 100%|██████████| 137/137 [00:20<00:00,  6.63batch/s]\n",
      "Valid: 100%|██████████| 138/138 [00:05<00:00, 25.97batch/s]\n"
     ]
    },
    {
     "name": "stdout",
     "output_type": "stream",
     "text": [
      "Epoch 421/6000, Train Loss: 0.3607, Train Coeff: 0.4011, Val Loss: 0.3499, Val Coeff: 0.3266, Time: 25.99 sec\n"
     ]
    },
    {
     "name": "stderr",
     "output_type": "stream",
     "text": [
      "Train: 100%|██████████| 137/137 [00:20<00:00,  6.64batch/s]\n",
      "Valid: 100%|██████████| 138/138 [00:05<00:00, 26.06batch/s]\n"
     ]
    },
    {
     "name": "stdout",
     "output_type": "stream",
     "text": [
      "Epoch 422/6000, Train Loss: 0.3611, Train Coeff: 0.3927, Val Loss: 0.3500, Val Coeff: 0.3239, Time: 25.93 sec\n"
     ]
    },
    {
     "name": "stderr",
     "output_type": "stream",
     "text": [
      "Train: 100%|██████████| 137/137 [00:20<00:00,  6.62batch/s]\n",
      "Valid: 100%|██████████| 138/138 [00:05<00:00, 25.99batch/s]\n"
     ]
    },
    {
     "name": "stdout",
     "output_type": "stream",
     "text": [
      "Epoch 423/6000, Train Loss: 0.3622, Train Coeff: 0.3937, Val Loss: 0.3510, Val Coeff: 0.3091, Time: 26.02 sec\n"
     ]
    },
    {
     "name": "stderr",
     "output_type": "stream",
     "text": [
      "Train: 100%|██████████| 137/137 [00:20<00:00,  6.63batch/s]\n",
      "Valid: 100%|██████████| 138/138 [00:05<00:00, 25.98batch/s]\n"
     ]
    },
    {
     "name": "stdout",
     "output_type": "stream",
     "text": [
      "Epoch 424/6000, Train Loss: 0.3612, Train Coeff: 0.3997, Val Loss: 0.3512, Val Coeff: 0.3502, Time: 25.98 sec\n"
     ]
    },
    {
     "name": "stderr",
     "output_type": "stream",
     "text": [
      "Train: 100%|██████████| 137/137 [00:20<00:00,  6.65batch/s]\n",
      "Valid: 100%|██████████| 138/138 [00:05<00:00, 25.95batch/s]\n"
     ]
    },
    {
     "name": "stdout",
     "output_type": "stream",
     "text": [
      "Epoch 425/6000, Train Loss: 0.3609, Train Coeff: 0.3984, Val Loss: 0.3506, Val Coeff: 0.3346, Time: 25.93 sec\n"
     ]
    },
    {
     "name": "stderr",
     "output_type": "stream",
     "text": [
      "Train: 100%|██████████| 137/137 [00:20<00:00,  6.65batch/s]\n",
      "Valid: 100%|██████████| 138/138 [00:05<00:00, 26.03batch/s]\n"
     ]
    },
    {
     "name": "stdout",
     "output_type": "stream",
     "text": [
      "Epoch 426/6000, Train Loss: 0.3606, Train Coeff: 0.3926, Val Loss: 0.3503, Val Coeff: 0.3158, Time: 25.92 sec\n"
     ]
    },
    {
     "name": "stderr",
     "output_type": "stream",
     "text": [
      "Train: 100%|██████████| 137/137 [00:20<00:00,  6.63batch/s]\n",
      "Valid: 100%|██████████| 138/138 [00:05<00:00, 26.02batch/s]\n"
     ]
    },
    {
     "name": "stdout",
     "output_type": "stream",
     "text": [
      "Epoch 427/6000, Train Loss: 0.3608, Train Coeff: 0.3975, Val Loss: 0.3508, Val Coeff: 0.3049, Time: 25.97 sec\n"
     ]
    },
    {
     "name": "stderr",
     "output_type": "stream",
     "text": [
      "Train: 100%|██████████| 137/137 [00:20<00:00,  6.66batch/s]\n",
      "Valid: 100%|██████████| 138/138 [00:05<00:00, 25.89batch/s]\n"
     ]
    },
    {
     "name": "stdout",
     "output_type": "stream",
     "text": [
      "Epoch 428/6000, Train Loss: 0.3607, Train Coeff: 0.3977, Val Loss: 0.3500, Val Coeff: 0.3244, Time: 25.92 sec\n"
     ]
    },
    {
     "name": "stderr",
     "output_type": "stream",
     "text": [
      "Train: 100%|██████████| 137/137 [00:20<00:00,  6.65batch/s]\n",
      "Valid: 100%|██████████| 138/138 [00:05<00:00, 25.90batch/s]\n"
     ]
    },
    {
     "name": "stdout",
     "output_type": "stream",
     "text": [
      "Epoch 429/6000, Train Loss: 0.3616, Train Coeff: 0.3949, Val Loss: 0.3511, Val Coeff: 0.3278, Time: 25.95 sec\n"
     ]
    },
    {
     "name": "stderr",
     "output_type": "stream",
     "text": [
      "Train: 100%|██████████| 137/137 [00:20<00:00,  6.63batch/s]\n",
      "Valid: 100%|██████████| 138/138 [00:05<00:00, 25.98batch/s]\n"
     ]
    },
    {
     "name": "stdout",
     "output_type": "stream",
     "text": [
      "Epoch 430/6000, Train Loss: 0.3610, Train Coeff: 0.3965, Val Loss: 0.3497, Val Coeff: 0.3400, Time: 25.99 sec\n"
     ]
    },
    {
     "name": "stderr",
     "output_type": "stream",
     "text": [
      "Train: 100%|██████████| 137/137 [00:20<00:00,  6.64batch/s]\n",
      "Valid: 100%|██████████| 138/138 [00:05<00:00, 25.88batch/s]\n"
     ]
    },
    {
     "name": "stdout",
     "output_type": "stream",
     "text": [
      "Epoch 431/6000, Train Loss: 0.3608, Train Coeff: 0.3960, Val Loss: 0.3509, Val Coeff: 0.3069, Time: 25.97 sec\n"
     ]
    },
    {
     "name": "stderr",
     "output_type": "stream",
     "text": [
      "Train: 100%|██████████| 137/137 [00:20<00:00,  6.65batch/s]\n",
      "Valid: 100%|██████████| 138/138 [00:05<00:00, 25.59batch/s]\n"
     ]
    },
    {
     "name": "stdout",
     "output_type": "stream",
     "text": [
      "Epoch 432/6000, Train Loss: 0.3607, Train Coeff: 0.3961, Val Loss: 0.3543, Val Coeff: 0.3082, Time: 26.00 sec\n"
     ]
    },
    {
     "name": "stderr",
     "output_type": "stream",
     "text": [
      "Train: 100%|██████████| 137/137 [00:20<00:00,  6.64batch/s]\n",
      "Valid: 100%|██████████| 138/138 [00:05<00:00, 25.70batch/s]\n"
     ]
    },
    {
     "name": "stdout",
     "output_type": "stream",
     "text": [
      "Epoch 433/6000, Train Loss: 0.3630, Train Coeff: 0.3954, Val Loss: 0.3512, Val Coeff: 0.3300, Time: 26.01 sec\n"
     ]
    },
    {
     "name": "stderr",
     "output_type": "stream",
     "text": [
      "Train: 100%|██████████| 137/137 [00:20<00:00,  6.65batch/s]\n",
      "Valid: 100%|██████████| 138/138 [00:05<00:00, 25.73batch/s]\n"
     ]
    },
    {
     "name": "stdout",
     "output_type": "stream",
     "text": [
      "Epoch 434/6000, Train Loss: 0.3609, Train Coeff: 0.4017, Val Loss: 0.3521, Val Coeff: 0.3399, Time: 25.97 sec\n"
     ]
    },
    {
     "name": "stderr",
     "output_type": "stream",
     "text": [
      "Train: 100%|██████████| 137/137 [00:20<00:00,  6.67batch/s]\n",
      "Valid: 100%|██████████| 138/138 [00:05<00:00, 25.51batch/s]\n"
     ]
    },
    {
     "name": "stdout",
     "output_type": "stream",
     "text": [
      "Epoch 435/6000, Train Loss: 0.3609, Train Coeff: 0.3984, Val Loss: 0.3496, Val Coeff: 0.3074, Time: 25.97 sec\n"
     ]
    },
    {
     "name": "stderr",
     "output_type": "stream",
     "text": [
      "Train: 100%|██████████| 137/137 [00:20<00:00,  6.68batch/s]\n",
      "Valid: 100%|██████████| 138/138 [00:05<00:00, 25.64batch/s]\n"
     ]
    },
    {
     "name": "stdout",
     "output_type": "stream",
     "text": [
      "Epoch 436/6000, Train Loss: 0.3607, Train Coeff: 0.3984, Val Loss: 0.3497, Val Coeff: 0.3285, Time: 25.91 sec\n"
     ]
    },
    {
     "name": "stderr",
     "output_type": "stream",
     "text": [
      "Train: 100%|██████████| 137/137 [00:20<00:00,  6.66batch/s]\n",
      "Valid: 100%|██████████| 138/138 [00:05<00:00, 26.03batch/s]\n"
     ]
    },
    {
     "name": "stdout",
     "output_type": "stream",
     "text": [
      "Epoch 437/6000, Train Loss: 0.3607, Train Coeff: 0.3956, Val Loss: 0.3766, Val Coeff: 0.1406, Time: 25.87 sec\n"
     ]
    },
    {
     "name": "stderr",
     "output_type": "stream",
     "text": [
      "Train: 100%|██████████| 137/137 [00:20<00:00,  6.66batch/s]\n",
      "Valid: 100%|██████████| 138/138 [00:05<00:00, 25.94batch/s]\n"
     ]
    },
    {
     "name": "stdout",
     "output_type": "stream",
     "text": [
      "Epoch 438/6000, Train Loss: 0.3613, Train Coeff: 0.3917, Val Loss: 0.3506, Val Coeff: 0.3418, Time: 25.91 sec\n"
     ]
    },
    {
     "name": "stderr",
     "output_type": "stream",
     "text": [
      "Train: 100%|██████████| 137/137 [00:20<00:00,  6.65batch/s]\n",
      "Valid: 100%|██████████| 138/138 [00:05<00:00, 25.97batch/s]\n"
     ]
    },
    {
     "name": "stdout",
     "output_type": "stream",
     "text": [
      "Epoch 439/6000, Train Loss: 0.3608, Train Coeff: 0.3994, Val Loss: 0.3500, Val Coeff: 0.2961, Time: 25.93 sec\n"
     ]
    },
    {
     "name": "stderr",
     "output_type": "stream",
     "text": [
      "Train: 100%|██████████| 137/137 [00:20<00:00,  6.65batch/s]\n",
      "Valid: 100%|██████████| 138/138 [00:05<00:00, 25.96batch/s]\n"
     ]
    },
    {
     "name": "stdout",
     "output_type": "stream",
     "text": [
      "Epoch 440/6000, Train Loss: 0.3608, Train Coeff: 0.3953, Val Loss: 0.3496, Val Coeff: 0.3224, Time: 25.93 sec\n"
     ]
    },
    {
     "name": "stderr",
     "output_type": "stream",
     "text": [
      "Train: 100%|██████████| 137/137 [00:20<00:00,  6.64batch/s]\n",
      "Valid: 100%|██████████| 138/138 [00:05<00:00, 25.97batch/s]\n"
     ]
    },
    {
     "name": "stdout",
     "output_type": "stream",
     "text": [
      "Epoch 441/6000, Train Loss: 0.3610, Train Coeff: 0.3945, Val Loss: 0.3497, Val Coeff: 0.3087, Time: 25.96 sec\n"
     ]
    },
    {
     "name": "stderr",
     "output_type": "stream",
     "text": [
      "Train: 100%|██████████| 137/137 [00:20<00:00,  6.64batch/s]\n",
      "Valid: 100%|██████████| 138/138 [00:05<00:00, 25.96batch/s]\n"
     ]
    },
    {
     "name": "stdout",
     "output_type": "stream",
     "text": [
      "Epoch 442/6000, Train Loss: 0.3615, Train Coeff: 0.3954, Val Loss: 0.3499, Val Coeff: 0.3081, Time: 25.97 sec\n"
     ]
    },
    {
     "name": "stderr",
     "output_type": "stream",
     "text": [
      "Train: 100%|██████████| 137/137 [00:20<00:00,  6.62batch/s]\n",
      "Valid: 100%|██████████| 138/138 [00:05<00:00, 25.84batch/s]\n"
     ]
    },
    {
     "name": "stdout",
     "output_type": "stream",
     "text": [
      "Epoch 443/6000, Train Loss: 0.3610, Train Coeff: 0.3945, Val Loss: 0.3501, Val Coeff: 0.3262, Time: 26.06 sec\n"
     ]
    },
    {
     "name": "stderr",
     "output_type": "stream",
     "text": [
      "Train: 100%|██████████| 137/137 [00:20<00:00,  6.64batch/s]\n",
      "Valid: 100%|██████████| 138/138 [00:05<00:00, 25.93batch/s]\n"
     ]
    },
    {
     "name": "stdout",
     "output_type": "stream",
     "text": [
      "Epoch 444/6000, Train Loss: 0.3607, Train Coeff: 0.3891, Val Loss: 0.3503, Val Coeff: 0.3267, Time: 25.96 sec\n"
     ]
    },
    {
     "name": "stderr",
     "output_type": "stream",
     "text": [
      "Train: 100%|██████████| 137/137 [00:20<00:00,  6.65batch/s]\n",
      "Valid: 100%|██████████| 138/138 [00:05<00:00, 25.95batch/s]\n"
     ]
    },
    {
     "name": "stdout",
     "output_type": "stream",
     "text": [
      "Epoch 445/6000, Train Loss: 0.3609, Train Coeff: 0.3970, Val Loss: 0.3503, Val Coeff: 0.3390, Time: 25.94 sec\n"
     ]
    },
    {
     "name": "stderr",
     "output_type": "stream",
     "text": [
      "Train: 100%|██████████| 137/137 [00:20<00:00,  6.64batch/s]\n",
      "Valid: 100%|██████████| 138/138 [00:05<00:00, 25.95batch/s]\n"
     ]
    },
    {
     "name": "stdout",
     "output_type": "stream",
     "text": [
      "Epoch 446/6000, Train Loss: 0.3608, Train Coeff: 0.3936, Val Loss: 0.3506, Val Coeff: 0.3174, Time: 25.97 sec\n"
     ]
    },
    {
     "name": "stderr",
     "output_type": "stream",
     "text": [
      "Train: 100%|██████████| 137/137 [00:20<00:00,  6.63batch/s]\n",
      "Valid: 100%|██████████| 138/138 [00:05<00:00, 26.03batch/s]\n"
     ]
    },
    {
     "name": "stdout",
     "output_type": "stream",
     "text": [
      "Epoch 447/6000, Train Loss: 0.3606, Train Coeff: 0.4009, Val Loss: 0.3499, Val Coeff: 0.3162, Time: 25.96 sec\n"
     ]
    },
    {
     "name": "stderr",
     "output_type": "stream",
     "text": [
      "Train: 100%|██████████| 137/137 [00:20<00:00,  6.65batch/s]\n",
      "Valid: 100%|██████████| 138/138 [00:05<00:00, 25.97batch/s]\n"
     ]
    },
    {
     "name": "stdout",
     "output_type": "stream",
     "text": [
      "Epoch 448/6000, Train Loss: 0.3620, Train Coeff: 0.3971, Val Loss: 0.3504, Val Coeff: 0.3349, Time: 25.93 sec\n"
     ]
    },
    {
     "name": "stderr",
     "output_type": "stream",
     "text": [
      "Train: 100%|██████████| 137/137 [00:20<00:00,  6.63batch/s]\n",
      "Valid: 100%|██████████| 138/138 [00:05<00:00, 25.97batch/s]\n"
     ]
    },
    {
     "name": "stdout",
     "output_type": "stream",
     "text": [
      "Epoch 449/6000, Train Loss: 0.3609, Train Coeff: 0.3940, Val Loss: 0.3498, Val Coeff: 0.3141, Time: 25.98 sec\n"
     ]
    },
    {
     "name": "stderr",
     "output_type": "stream",
     "text": [
      "Train: 100%|██████████| 137/137 [00:20<00:00,  6.65batch/s]\n",
      "Valid: 100%|██████████| 138/138 [00:05<00:00, 25.87batch/s]\n"
     ]
    },
    {
     "name": "stdout",
     "output_type": "stream",
     "text": [
      "Epoch 450/6000, Train Loss: 0.3612, Train Coeff: 0.3944, Val Loss: 0.3498, Val Coeff: 0.3087, Time: 25.94 sec\n"
     ]
    },
    {
     "name": "stderr",
     "output_type": "stream",
     "text": [
      "Train: 100%|██████████| 137/137 [00:20<00:00,  6.62batch/s]\n",
      "Valid: 100%|██████████| 138/138 [00:05<00:00, 26.07batch/s]\n"
     ]
    },
    {
     "name": "stdout",
     "output_type": "stream",
     "text": [
      "Epoch 451/6000, Train Loss: 0.3608, Train Coeff: 0.3968, Val Loss: 0.3616, Val Coeff: 0.2290, Time: 25.99 sec\n"
     ]
    },
    {
     "name": "stderr",
     "output_type": "stream",
     "text": [
      "Train: 100%|██████████| 137/137 [00:20<00:00,  6.63batch/s]\n",
      "Valid: 100%|██████████| 138/138 [00:05<00:00, 26.03batch/s]\n"
     ]
    },
    {
     "name": "stdout",
     "output_type": "stream",
     "text": [
      "Epoch 452/6000, Train Loss: 0.3614, Train Coeff: 0.3957, Val Loss: 0.3529, Val Coeff: 0.3257, Time: 25.97 sec\n"
     ]
    },
    {
     "name": "stderr",
     "output_type": "stream",
     "text": [
      "Train: 100%|██████████| 137/137 [00:20<00:00,  6.67batch/s]\n",
      "Valid: 100%|██████████| 138/138 [00:05<00:00, 25.74batch/s]\n"
     ]
    },
    {
     "name": "stdout",
     "output_type": "stream",
     "text": [
      "Epoch 453/6000, Train Loss: 0.3612, Train Coeff: 0.3971, Val Loss: 0.3507, Val Coeff: 0.3234, Time: 25.90 sec\n"
     ]
    },
    {
     "name": "stderr",
     "output_type": "stream",
     "text": [
      "Train: 100%|██████████| 137/137 [00:20<00:00,  6.68batch/s]\n",
      "Valid: 100%|██████████| 138/138 [00:05<00:00, 25.63batch/s]\n"
     ]
    },
    {
     "name": "stdout",
     "output_type": "stream",
     "text": [
      "Epoch 454/6000, Train Loss: 0.3615, Train Coeff: 0.3985, Val Loss: 0.3504, Val Coeff: 0.3477, Time: 25.89 sec\n"
     ]
    },
    {
     "name": "stderr",
     "output_type": "stream",
     "text": [
      "Train: 100%|██████████| 137/137 [00:20<00:00,  6.67batch/s]\n",
      "Valid: 100%|██████████| 138/138 [00:05<00:00, 25.71batch/s]\n"
     ]
    },
    {
     "name": "stdout",
     "output_type": "stream",
     "text": [
      "Epoch 455/6000, Train Loss: 0.3608, Train Coeff: 0.4008, Val Loss: 0.3504, Val Coeff: 0.3289, Time: 25.92 sec\n"
     ]
    },
    {
     "name": "stderr",
     "output_type": "stream",
     "text": [
      "Train: 100%|██████████| 137/137 [00:20<00:00,  6.67batch/s]\n",
      "Valid: 100%|██████████| 138/138 [00:05<00:00, 25.45batch/s]\n"
     ]
    },
    {
     "name": "stdout",
     "output_type": "stream",
     "text": [
      "Epoch 456/6000, Train Loss: 0.3612, Train Coeff: 0.3916, Val Loss: 0.3497, Val Coeff: 0.3257, Time: 25.96 sec\n"
     ]
    },
    {
     "name": "stderr",
     "output_type": "stream",
     "text": [
      "Train: 100%|██████████| 137/137 [00:20<00:00,  6.67batch/s]\n",
      "Valid: 100%|██████████| 138/138 [00:05<00:00, 25.52batch/s]\n"
     ]
    },
    {
     "name": "stdout",
     "output_type": "stream",
     "text": [
      "Epoch 457/6000, Train Loss: 0.3609, Train Coeff: 0.3970, Val Loss: 0.3496, Val Coeff: 0.3079, Time: 25.94 sec\n"
     ]
    },
    {
     "name": "stderr",
     "output_type": "stream",
     "text": [
      "Train: 100%|██████████| 137/137 [00:20<00:00,  6.68batch/s]\n",
      "Valid: 100%|██████████| 138/138 [00:05<00:00, 25.61batch/s]\n"
     ]
    },
    {
     "name": "stdout",
     "output_type": "stream",
     "text": [
      "Epoch 458/6000, Train Loss: 0.3610, Train Coeff: 0.3959, Val Loss: 0.3501, Val Coeff: 0.3350, Time: 25.91 sec\n"
     ]
    },
    {
     "name": "stderr",
     "output_type": "stream",
     "text": [
      "Train: 100%|██████████| 137/137 [00:20<00:00,  6.67batch/s]\n",
      "Valid: 100%|██████████| 138/138 [00:05<00:00, 26.08batch/s]\n"
     ]
    },
    {
     "name": "stdout",
     "output_type": "stream",
     "text": [
      "Epoch 459/6000, Train Loss: 0.3608, Train Coeff: 0.3970, Val Loss: 0.3532, Val Coeff: 0.2978, Time: 25.83 sec\n"
     ]
    },
    {
     "name": "stderr",
     "output_type": "stream",
     "text": [
      "Train: 100%|██████████| 137/137 [00:20<00:00,  6.62batch/s]\n",
      "Valid: 100%|██████████| 138/138 [00:05<00:00, 26.01batch/s]\n"
     ]
    },
    {
     "name": "stdout",
     "output_type": "stream",
     "text": [
      "Epoch 460/6000, Train Loss: 0.3608, Train Coeff: 0.3946, Val Loss: 0.3495, Val Coeff: 0.2947, Time: 26.02 sec\n"
     ]
    },
    {
     "name": "stderr",
     "output_type": "stream",
     "text": [
      "Train: 100%|██████████| 137/137 [00:20<00:00,  6.68batch/s]\n",
      "Valid: 100%|██████████| 138/138 [00:05<00:00, 26.26batch/s]\n"
     ]
    },
    {
     "name": "stdout",
     "output_type": "stream",
     "text": [
      "Epoch 461/6000, Train Loss: 0.3611, Train Coeff: 0.3953, Val Loss: 0.3498, Val Coeff: 0.3408, Time: 25.77 sec\n"
     ]
    },
    {
     "name": "stderr",
     "output_type": "stream",
     "text": [
      "Train: 100%|██████████| 137/137 [00:20<00:00,  6.71batch/s]\n",
      "Valid: 100%|██████████| 138/138 [00:05<00:00, 26.19batch/s]\n"
     ]
    },
    {
     "name": "stdout",
     "output_type": "stream",
     "text": [
      "Epoch 462/6000, Train Loss: 0.3611, Train Coeff: 0.3927, Val Loss: 0.3496, Val Coeff: 0.3131, Time: 25.69 sec\n"
     ]
    },
    {
     "name": "stderr",
     "output_type": "stream",
     "text": [
      "Train: 100%|██████████| 137/137 [00:20<00:00,  6.72batch/s]\n",
      "Valid: 100%|██████████| 138/138 [00:05<00:00, 26.33batch/s]\n"
     ]
    },
    {
     "name": "stdout",
     "output_type": "stream",
     "text": [
      "Epoch 463/6000, Train Loss: 0.3609, Train Coeff: 0.3969, Val Loss: 0.3503, Val Coeff: 0.3200, Time: 25.63 sec\n"
     ]
    },
    {
     "name": "stderr",
     "output_type": "stream",
     "text": [
      "Train: 100%|██████████| 137/137 [00:20<00:00,  6.72batch/s]\n",
      "Valid: 100%|██████████| 138/138 [00:05<00:00, 26.32batch/s]\n"
     ]
    },
    {
     "name": "stdout",
     "output_type": "stream",
     "text": [
      "Epoch 464/6000, Train Loss: 0.3619, Train Coeff: 0.4001, Val Loss: 0.3497, Val Coeff: 0.3289, Time: 25.65 sec\n"
     ]
    },
    {
     "name": "stderr",
     "output_type": "stream",
     "text": [
      "Train: 100%|██████████| 137/137 [00:20<00:00,  6.73batch/s]\n",
      "Valid: 100%|██████████| 138/138 [00:05<00:00, 26.30batch/s]\n"
     ]
    },
    {
     "name": "stdout",
     "output_type": "stream",
     "text": [
      "Epoch 465/6000, Train Loss: 0.3613, Train Coeff: 0.3952, Val Loss: 0.3496, Val Coeff: 0.3294, Time: 25.60 sec\n"
     ]
    },
    {
     "name": "stderr",
     "output_type": "stream",
     "text": [
      "Train: 100%|██████████| 137/137 [00:20<00:00,  6.73batch/s]\n",
      "Valid: 100%|██████████| 138/138 [00:05<00:00, 26.27batch/s]\n"
     ]
    },
    {
     "name": "stdout",
     "output_type": "stream",
     "text": [
      "Epoch 466/6000, Train Loss: 0.3617, Train Coeff: 0.3901, Val Loss: 0.3496, Val Coeff: 0.3287, Time: 25.61 sec\n"
     ]
    },
    {
     "name": "stderr",
     "output_type": "stream",
     "text": [
      "Train: 100%|██████████| 137/137 [00:20<00:00,  6.71batch/s]\n",
      "Valid: 100%|██████████| 138/138 [00:05<00:00, 26.39batch/s]\n"
     ]
    },
    {
     "name": "stdout",
     "output_type": "stream",
     "text": [
      "Epoch 467/6000, Train Loss: 0.3608, Train Coeff: 0.3946, Val Loss: 0.3504, Val Coeff: 0.3165, Time: 25.64 sec\n"
     ]
    },
    {
     "name": "stderr",
     "output_type": "stream",
     "text": [
      "Train: 100%|██████████| 137/137 [00:20<00:00,  6.71batch/s]\n",
      "Valid: 100%|██████████| 138/138 [00:05<00:00, 26.23batch/s]\n"
     ]
    },
    {
     "name": "stdout",
     "output_type": "stream",
     "text": [
      "Epoch 468/6000, Train Loss: 0.3610, Train Coeff: 0.3933, Val Loss: 0.3913, Val Coeff: 0.1943, Time: 25.70 sec\n"
     ]
    },
    {
     "name": "stderr",
     "output_type": "stream",
     "text": [
      "Train: 100%|██████████| 137/137 [00:20<00:00,  6.71batch/s]\n",
      "Valid: 100%|██████████| 138/138 [00:05<00:00, 26.17batch/s]\n"
     ]
    },
    {
     "name": "stdout",
     "output_type": "stream",
     "text": [
      "Epoch 469/6000, Train Loss: 0.3608, Train Coeff: 0.3963, Val Loss: 0.3497, Val Coeff: 0.3304, Time: 25.70 sec\n"
     ]
    },
    {
     "name": "stderr",
     "output_type": "stream",
     "text": [
      "Train: 100%|██████████| 137/137 [00:20<00:00,  6.71batch/s]\n",
      "Valid: 100%|██████████| 138/138 [00:05<00:00, 26.15batch/s]\n"
     ]
    },
    {
     "name": "stdout",
     "output_type": "stream",
     "text": [
      "Epoch 470/6000, Train Loss: 0.3608, Train Coeff: 0.3972, Val Loss: 0.3501, Val Coeff: 0.3388, Time: 25.72 sec\n"
     ]
    },
    {
     "name": "stderr",
     "output_type": "stream",
     "text": [
      "Train: 100%|██████████| 137/137 [00:20<00:00,  6.72batch/s]\n",
      "Valid: 100%|██████████| 138/138 [00:05<00:00, 26.12batch/s]\n"
     ]
    },
    {
     "name": "stdout",
     "output_type": "stream",
     "text": [
      "Epoch 471/6000, Train Loss: 0.3608, Train Coeff: 0.3993, Val Loss: 0.3498, Val Coeff: 0.3354, Time: 25.66 sec\n"
     ]
    },
    {
     "name": "stderr",
     "output_type": "stream",
     "text": [
      "Train: 100%|██████████| 137/137 [00:20<00:00,  6.72batch/s]\n",
      "Valid: 100%|██████████| 138/138 [00:05<00:00, 26.25batch/s]\n"
     ]
    },
    {
     "name": "stdout",
     "output_type": "stream",
     "text": [
      "Epoch 472/6000, Train Loss: 0.3610, Train Coeff: 0.4010, Val Loss: 0.3542, Val Coeff: 0.3392, Time: 25.64 sec\n"
     ]
    },
    {
     "name": "stderr",
     "output_type": "stream",
     "text": [
      "Train: 100%|██████████| 137/137 [00:20<00:00,  6.72batch/s]\n",
      "Valid: 100%|██████████| 138/138 [00:05<00:00, 26.27batch/s]\n"
     ]
    },
    {
     "name": "stdout",
     "output_type": "stream",
     "text": [
      "Epoch 473/6000, Train Loss: 0.3620, Train Coeff: 0.3965, Val Loss: 0.3513, Val Coeff: 0.3233, Time: 25.65 sec\n"
     ]
    },
    {
     "name": "stderr",
     "output_type": "stream",
     "text": [
      "Train: 100%|██████████| 137/137 [00:20<00:00,  6.71batch/s]\n",
      "Valid: 100%|██████████| 138/138 [00:05<00:00, 26.29batch/s]\n"
     ]
    },
    {
     "name": "stdout",
     "output_type": "stream",
     "text": [
      "Epoch 474/6000, Train Loss: 0.3613, Train Coeff: 0.3961, Val Loss: 0.3497, Val Coeff: 0.3343, Time: 25.68 sec\n"
     ]
    },
    {
     "name": "stderr",
     "output_type": "stream",
     "text": [
      "Train: 100%|██████████| 137/137 [00:20<00:00,  6.74batch/s]\n",
      "Valid: 100%|██████████| 138/138 [00:05<00:00, 25.86batch/s]\n"
     ]
    },
    {
     "name": "stdout",
     "output_type": "stream",
     "text": [
      "Epoch 475/6000, Train Loss: 0.3619, Train Coeff: 0.3984, Val Loss: 0.3530, Val Coeff: 0.3356, Time: 25.67 sec\n"
     ]
    },
    {
     "name": "stderr",
     "output_type": "stream",
     "text": [
      "Train: 100%|██████████| 137/137 [00:20<00:00,  6.73batch/s]\n",
      "Valid: 100%|██████████| 138/138 [00:05<00:00, 25.88batch/s]\n"
     ]
    },
    {
     "name": "stdout",
     "output_type": "stream",
     "text": [
      "Epoch 476/6000, Train Loss: 0.3607, Train Coeff: 0.3978, Val Loss: 0.3519, Val Coeff: 0.3046, Time: 25.69 sec\n"
     ]
    },
    {
     "name": "stderr",
     "output_type": "stream",
     "text": [
      "Train: 100%|██████████| 137/137 [00:20<00:00,  6.76batch/s]\n",
      "Valid: 100%|██████████| 138/138 [00:05<00:00, 25.91batch/s]\n"
     ]
    },
    {
     "name": "stdout",
     "output_type": "stream",
     "text": [
      "Epoch 477/6000, Train Loss: 0.3605, Train Coeff: 0.3982, Val Loss: 0.3493, Val Coeff: 0.3360, Time: 25.61 sec\n"
     ]
    },
    {
     "name": "stderr",
     "output_type": "stream",
     "text": [
      "Train: 100%|██████████| 137/137 [00:20<00:00,  6.75batch/s]\n",
      "Valid: 100%|██████████| 138/138 [00:05<00:00, 25.77batch/s]\n"
     ]
    },
    {
     "name": "stdout",
     "output_type": "stream",
     "text": [
      "Epoch 478/6000, Train Loss: 0.3619, Train Coeff: 0.3971, Val Loss: 0.3494, Val Coeff: 0.3217, Time: 25.65 sec\n"
     ]
    },
    {
     "name": "stderr",
     "output_type": "stream",
     "text": [
      "Train: 100%|██████████| 137/137 [00:20<00:00,  6.73batch/s]\n",
      "Valid: 100%|██████████| 138/138 [00:05<00:00, 25.91batch/s]\n"
     ]
    },
    {
     "name": "stdout",
     "output_type": "stream",
     "text": [
      "Epoch 479/6000, Train Loss: 0.3608, Train Coeff: 0.3918, Val Loss: 0.3499, Val Coeff: 0.3222, Time: 25.69 sec\n"
     ]
    },
    {
     "name": "stderr",
     "output_type": "stream",
     "text": [
      "Train: 100%|██████████| 137/137 [00:20<00:00,  6.70batch/s]\n",
      "Valid: 100%|██████████| 138/138 [00:05<00:00, 25.87batch/s]\n"
     ]
    },
    {
     "name": "stdout",
     "output_type": "stream",
     "text": [
      "Epoch 480/6000, Train Loss: 0.3609, Train Coeff: 0.4025, Val Loss: 0.3503, Val Coeff: 0.3210, Time: 25.79 sec\n"
     ]
    },
    {
     "name": "stderr",
     "output_type": "stream",
     "text": [
      "Train: 100%|██████████| 137/137 [00:20<00:00,  6.76batch/s]\n",
      "Valid: 100%|██████████| 138/138 [00:05<00:00, 25.74batch/s]\n"
     ]
    },
    {
     "name": "stdout",
     "output_type": "stream",
     "text": [
      "Epoch 481/6000, Train Loss: 0.3607, Train Coeff: 0.3875, Val Loss: 0.3503, Val Coeff: 0.3056, Time: 25.62 sec\n"
     ]
    },
    {
     "name": "stderr",
     "output_type": "stream",
     "text": [
      "Train: 100%|██████████| 137/137 [00:20<00:00,  6.74batch/s]\n",
      "Valid: 100%|██████████| 138/138 [00:05<00:00, 25.71batch/s]\n"
     ]
    },
    {
     "name": "stdout",
     "output_type": "stream",
     "text": [
      "Epoch 482/6000, Train Loss: 0.3612, Train Coeff: 0.3942, Val Loss: 0.3515, Val Coeff: 0.3212, Time: 25.71 sec\n"
     ]
    },
    {
     "name": "stderr",
     "output_type": "stream",
     "text": [
      "Train: 100%|██████████| 137/137 [00:20<00:00,  6.74batch/s]\n",
      "Valid: 100%|██████████| 138/138 [00:05<00:00, 25.86batch/s]\n"
     ]
    },
    {
     "name": "stdout",
     "output_type": "stream",
     "text": [
      "Epoch 483/6000, Train Loss: 0.3609, Train Coeff: 0.3949, Val Loss: 0.3499, Val Coeff: 0.3211, Time: 25.66 sec\n"
     ]
    },
    {
     "name": "stderr",
     "output_type": "stream",
     "text": [
      "Train: 100%|██████████| 137/137 [00:20<00:00,  6.74batch/s]\n",
      "Valid: 100%|██████████| 138/138 [00:05<00:00, 25.95batch/s]\n"
     ]
    },
    {
     "name": "stdout",
     "output_type": "stream",
     "text": [
      "Epoch 484/6000, Train Loss: 0.3607, Train Coeff: 0.3934, Val Loss: 0.3503, Val Coeff: 0.3322, Time: 25.64 sec\n"
     ]
    },
    {
     "name": "stderr",
     "output_type": "stream",
     "text": [
      "Train: 100%|██████████| 137/137 [00:20<00:00,  6.73batch/s]\n",
      "Valid: 100%|██████████| 138/138 [00:05<00:00, 25.86batch/s]\n"
     ]
    },
    {
     "name": "stdout",
     "output_type": "stream",
     "text": [
      "Epoch 485/6000, Train Loss: 0.3608, Train Coeff: 0.3982, Val Loss: 0.3502, Val Coeff: 0.3310, Time: 25.69 sec\n"
     ]
    },
    {
     "name": "stderr",
     "output_type": "stream",
     "text": [
      "Train: 100%|██████████| 137/137 [00:20<00:00,  6.71batch/s]\n",
      "Valid: 100%|██████████| 138/138 [00:05<00:00, 26.26batch/s]\n"
     ]
    },
    {
     "name": "stdout",
     "output_type": "stream",
     "text": [
      "Epoch 486/6000, Train Loss: 0.3611, Train Coeff: 0.3966, Val Loss: 0.3503, Val Coeff: 0.3309, Time: 25.68 sec\n"
     ]
    },
    {
     "name": "stderr",
     "output_type": "stream",
     "text": [
      "Train: 100%|██████████| 137/137 [00:20<00:00,  6.72batch/s]\n",
      "Valid: 100%|██████████| 138/138 [00:05<00:00, 26.20batch/s]\n"
     ]
    },
    {
     "name": "stdout",
     "output_type": "stream",
     "text": [
      "Epoch 487/6000, Train Loss: 0.3607, Train Coeff: 0.3907, Val Loss: 0.3496, Val Coeff: 0.3109, Time: 25.67 sec\n"
     ]
    },
    {
     "name": "stderr",
     "output_type": "stream",
     "text": [
      "Train: 100%|██████████| 137/137 [00:20<00:00,  6.71batch/s]\n",
      "Valid: 100%|██████████| 138/138 [00:05<00:00, 25.99batch/s]\n"
     ]
    },
    {
     "name": "stdout",
     "output_type": "stream",
     "text": [
      "Epoch 488/6000, Train Loss: 0.3611, Train Coeff: 0.4012, Val Loss: 0.3496, Val Coeff: 0.3361, Time: 25.74 sec\n"
     ]
    },
    {
     "name": "stderr",
     "output_type": "stream",
     "text": [
      "Train: 100%|██████████| 137/137 [00:20<00:00,  6.69batch/s]\n",
      "Valid: 100%|██████████| 138/138 [00:05<00:00, 26.20batch/s]\n"
     ]
    },
    {
     "name": "stdout",
     "output_type": "stream",
     "text": [
      "Epoch 489/6000, Train Loss: 0.3616, Train Coeff: 0.4002, Val Loss: 0.3497, Val Coeff: 0.3426, Time: 25.75 sec\n"
     ]
    },
    {
     "name": "stderr",
     "output_type": "stream",
     "text": [
      "Train: 100%|██████████| 137/137 [00:20<00:00,  6.70batch/s]\n",
      "Valid: 100%|██████████| 138/138 [00:05<00:00, 26.25batch/s]\n"
     ]
    },
    {
     "name": "stdout",
     "output_type": "stream",
     "text": [
      "Epoch 490/6000, Train Loss: 0.3608, Train Coeff: 0.3891, Val Loss: 0.3497, Val Coeff: 0.3269, Time: 25.73 sec\n"
     ]
    },
    {
     "name": "stderr",
     "output_type": "stream",
     "text": [
      "Train: 100%|██████████| 137/137 [00:20<00:00,  6.69batch/s]\n",
      "Valid: 100%|██████████| 138/138 [00:05<00:00, 26.16batch/s]\n"
     ]
    },
    {
     "name": "stdout",
     "output_type": "stream",
     "text": [
      "Epoch 491/6000, Train Loss: 0.3608, Train Coeff: 0.3962, Val Loss: 0.3501, Val Coeff: 0.3128, Time: 25.76 sec\n"
     ]
    },
    {
     "name": "stderr",
     "output_type": "stream",
     "text": [
      "Train: 100%|██████████| 137/137 [00:20<00:00,  6.69batch/s]\n",
      "Valid: 100%|██████████| 138/138 [00:05<00:00, 26.08batch/s]\n"
     ]
    },
    {
     "name": "stdout",
     "output_type": "stream",
     "text": [
      "Epoch 492/6000, Train Loss: 0.3610, Train Coeff: 0.3996, Val Loss: 0.3494, Val Coeff: 0.3430, Time: 25.77 sec\n"
     ]
    },
    {
     "name": "stderr",
     "output_type": "stream",
     "text": [
      "Train: 100%|██████████| 137/137 [00:20<00:00,  6.71batch/s]\n",
      "Valid: 100%|██████████| 138/138 [00:05<00:00, 26.17batch/s]\n"
     ]
    },
    {
     "name": "stdout",
     "output_type": "stream",
     "text": [
      "Epoch 493/6000, Train Loss: 0.3609, Train Coeff: 0.3959, Val Loss: 0.3503, Val Coeff: 0.3182, Time: 25.69 sec\n"
     ]
    },
    {
     "name": "stderr",
     "output_type": "stream",
     "text": [
      "Train: 100%|██████████| 137/137 [00:20<00:00,  6.68batch/s]\n",
      "Valid: 100%|██████████| 138/138 [00:05<00:00, 26.23batch/s]\n"
     ]
    },
    {
     "name": "stdout",
     "output_type": "stream",
     "text": [
      "Epoch 494/6000, Train Loss: 0.3613, Train Coeff: 0.3984, Val Loss: 0.3555, Val Coeff: 0.3272, Time: 25.77 sec\n"
     ]
    },
    {
     "name": "stderr",
     "output_type": "stream",
     "text": [
      "Train: 100%|██████████| 137/137 [00:20<00:00,  6.70batch/s]\n",
      "Valid: 100%|██████████| 138/138 [00:05<00:00, 26.10batch/s]\n"
     ]
    },
    {
     "name": "stdout",
     "output_type": "stream",
     "text": [
      "Epoch 495/6000, Train Loss: 0.3607, Train Coeff: 0.4010, Val Loss: 0.3565, Val Coeff: 0.2875, Time: 25.74 sec\n"
     ]
    },
    {
     "name": "stderr",
     "output_type": "stream",
     "text": [
      "Train: 100%|██████████| 137/137 [00:20<00:00,  6.70batch/s]\n",
      "Valid: 100%|██████████| 138/138 [00:05<00:00, 26.08batch/s]\n"
     ]
    },
    {
     "name": "stdout",
     "output_type": "stream",
     "text": [
      "Epoch 496/6000, Train Loss: 0.3614, Train Coeff: 0.3913, Val Loss: 0.3503, Val Coeff: 0.3318, Time: 25.75 sec\n"
     ]
    },
    {
     "name": "stderr",
     "output_type": "stream",
     "text": [
      "Train: 100%|██████████| 137/137 [00:20<00:00,  6.69batch/s]\n",
      "Valid: 100%|██████████| 138/138 [00:05<00:00, 26.11batch/s]\n"
     ]
    },
    {
     "name": "stdout",
     "output_type": "stream",
     "text": [
      "Epoch 497/6000, Train Loss: 0.3609, Train Coeff: 0.3977, Val Loss: 0.3505, Val Coeff: 0.3113, Time: 25.78 sec\n"
     ]
    },
    {
     "name": "stderr",
     "output_type": "stream",
     "text": [
      "Train: 100%|██████████| 137/137 [00:20<00:00,  6.68batch/s]\n",
      "Valid: 100%|██████████| 138/138 [00:05<00:00, 26.24batch/s]\n"
     ]
    },
    {
     "name": "stdout",
     "output_type": "stream",
     "text": [
      "Epoch 498/6000, Train Loss: 0.3607, Train Coeff: 0.3927, Val Loss: 0.3506, Val Coeff: 0.3156, Time: 25.78 sec\n"
     ]
    },
    {
     "name": "stderr",
     "output_type": "stream",
     "text": [
      "Train: 100%|██████████| 137/137 [00:20<00:00,  6.70batch/s]\n",
      "Valid: 100%|██████████| 138/138 [00:05<00:00, 26.17batch/s]\n"
     ]
    },
    {
     "name": "stdout",
     "output_type": "stream",
     "text": [
      "Epoch 499/6000, Train Loss: 0.3605, Train Coeff: 0.3964, Val Loss: 0.3514, Val Coeff: 0.3306, Time: 25.73 sec\n"
     ]
    },
    {
     "name": "stderr",
     "output_type": "stream",
     "text": [
      "Train: 100%|██████████| 137/137 [00:20<00:00,  6.69batch/s]\n",
      "Valid: 100%|██████████| 138/138 [00:05<00:00, 26.13batch/s]\n"
     ]
    },
    {
     "name": "stdout",
     "output_type": "stream",
     "text": [
      "Epoch 500/6000, Train Loss: 0.3613, Train Coeff: 0.3934, Val Loss: 0.3502, Val Coeff: 0.3248, Time: 25.78 sec\n"
     ]
    },
    {
     "name": "stderr",
     "output_type": "stream",
     "text": [
      "Train: 100%|██████████| 137/137 [00:20<00:00,  6.71batch/s]\n",
      "Valid: 100%|██████████| 138/138 [00:05<00:00, 26.11batch/s]\n"
     ]
    },
    {
     "name": "stdout",
     "output_type": "stream",
     "text": [
      "Epoch 501/6000, Train Loss: 0.3611, Train Coeff: 0.3971, Val Loss: 0.3559, Val Coeff: 0.3248, Time: 25.71 sec\n"
     ]
    },
    {
     "name": "stderr",
     "output_type": "stream",
     "text": [
      "Train: 100%|██████████| 137/137 [00:20<00:00,  6.68batch/s]\n",
      "Valid: 100%|██████████| 138/138 [00:05<00:00, 26.01batch/s]\n"
     ]
    },
    {
     "name": "stdout",
     "output_type": "stream",
     "text": [
      "Epoch 502/6000, Train Loss: 0.3608, Train Coeff: 0.3949, Val Loss: 0.3506, Val Coeff: 0.3337, Time: 25.81 sec\n"
     ]
    },
    {
     "name": "stderr",
     "output_type": "stream",
     "text": [
      "Train: 100%|██████████| 137/137 [00:20<00:00,  6.70batch/s]\n",
      "Valid: 100%|██████████| 138/138 [00:05<00:00, 26.11batch/s]\n"
     ]
    },
    {
     "name": "stdout",
     "output_type": "stream",
     "text": [
      "Epoch 503/6000, Train Loss: 0.3612, Train Coeff: 0.3997, Val Loss: 0.3494, Val Coeff: 0.3271, Time: 25.74 sec\n"
     ]
    },
    {
     "name": "stderr",
     "output_type": "stream",
     "text": [
      "Train: 100%|██████████| 137/137 [00:20<00:00,  6.69batch/s]\n",
      "Valid: 100%|██████████| 138/138 [00:05<00:00, 25.80batch/s]\n"
     ]
    },
    {
     "name": "stdout",
     "output_type": "stream",
     "text": [
      "Epoch 504/6000, Train Loss: 0.3608, Train Coeff: 0.3968, Val Loss: 0.3501, Val Coeff: 0.3230, Time: 25.82 sec\n"
     ]
    },
    {
     "name": "stderr",
     "output_type": "stream",
     "text": [
      "Train: 100%|██████████| 137/137 [00:20<00:00,  6.72batch/s]\n",
      "Valid: 100%|██████████| 138/138 [00:05<00:00, 25.77batch/s]\n"
     ]
    },
    {
     "name": "stdout",
     "output_type": "stream",
     "text": [
      "Epoch 505/6000, Train Loss: 0.3608, Train Coeff: 0.3953, Val Loss: 0.3531, Val Coeff: 0.3456, Time: 25.76 sec\n"
     ]
    },
    {
     "name": "stderr",
     "output_type": "stream",
     "text": [
      "Train: 100%|██████████| 137/137 [00:20<00:00,  6.72batch/s]\n",
      "Valid: 100%|██████████| 138/138 [00:05<00:00, 25.62batch/s]\n"
     ]
    },
    {
     "name": "stdout",
     "output_type": "stream",
     "text": [
      "Epoch 506/6000, Train Loss: 0.3606, Train Coeff: 0.3992, Val Loss: 0.3500, Val Coeff: 0.3085, Time: 25.78 sec\n"
     ]
    },
    {
     "name": "stderr",
     "output_type": "stream",
     "text": [
      "Train: 100%|██████████| 137/137 [00:20<00:00,  6.71batch/s]\n",
      "Valid: 100%|██████████| 138/138 [00:05<00:00, 25.87batch/s]\n"
     ]
    },
    {
     "name": "stdout",
     "output_type": "stream",
     "text": [
      "Epoch 507/6000, Train Loss: 0.3609, Train Coeff: 0.3922, Val Loss: 0.3501, Val Coeff: 0.2934, Time: 25.75 sec\n"
     ]
    },
    {
     "name": "stderr",
     "output_type": "stream",
     "text": [
      "Train: 100%|██████████| 137/137 [00:20<00:00,  6.72batch/s]\n",
      "Valid: 100%|██████████| 138/138 [00:05<00:00, 25.88batch/s]\n"
     ]
    },
    {
     "name": "stdout",
     "output_type": "stream",
     "text": [
      "Epoch 508/6000, Train Loss: 0.3608, Train Coeff: 0.4007, Val Loss: 0.3499, Val Coeff: 0.3129, Time: 25.74 sec\n"
     ]
    },
    {
     "name": "stderr",
     "output_type": "stream",
     "text": [
      "Train: 100%|██████████| 137/137 [00:20<00:00,  6.73batch/s]\n",
      "Valid: 100%|██████████| 138/138 [00:05<00:00, 25.78batch/s]\n"
     ]
    },
    {
     "name": "stdout",
     "output_type": "stream",
     "text": [
      "Epoch 509/6000, Train Loss: 0.3611, Train Coeff: 0.4009, Val Loss: 0.3499, Val Coeff: 0.3183, Time: 25.71 sec\n"
     ]
    },
    {
     "name": "stderr",
     "output_type": "stream",
     "text": [
      "Train: 100%|██████████| 137/137 [00:20<00:00,  6.70batch/s]\n",
      "Valid: 100%|██████████| 138/138 [00:05<00:00, 25.83batch/s]\n"
     ]
    },
    {
     "name": "stdout",
     "output_type": "stream",
     "text": [
      "Epoch 510/6000, Train Loss: 0.3609, Train Coeff: 0.3974, Val Loss: 0.3514, Val Coeff: 0.3103, Time: 25.79 sec\n"
     ]
    },
    {
     "name": "stderr",
     "output_type": "stream",
     "text": [
      "Train: 100%|██████████| 137/137 [00:20<00:00,  6.72batch/s]\n",
      "Valid: 100%|██████████| 138/138 [00:05<00:00, 25.82batch/s]\n"
     ]
    },
    {
     "name": "stdout",
     "output_type": "stream",
     "text": [
      "+++ Early Stopping is reached! +++\n",
      "Early stopping...\n",
      "Training history saved to 'training_history_M4_103.json'\n"
     ]
    }
   ],
   "source": [
    "epochs = 6000\n",
    "best_loss = float('inf')\n",
    "PATH = f\"./best_model_{dt_name}.pt\"\n",
    "\n",
    "early_stopper = EarlyStopper(patience=300, path=PATH)\n",
    "history = {\n",
    "    \"train_loss\": [],\n",
    "    \"val_loss\": [],\n",
    "    \"train_coefficient\": [],\n",
    "    \"val_coefficient\": [],\n",
    "    \"learning_rates\": [],\n",
    "    \"epoch_times\": []\n",
    "}\n",
    "\n",
    "\n",
    "for epoch in range(epochs):\n",
    "    start_time = time.time()\n",
    "    model.train()\n",
    "    Loss_train = 0 \n",
    "    coeff_train = 0\n",
    "\n",
    "    with tqdm(train_loader, unit=\"batch\") as trainer:\n",
    "        for batch in trainer:\n",
    "            trainer.set_description(\"Train\")\n",
    "            train_feat = batch[:, 0:-1].to(device)\n",
    "            train_labs = batch[:, -1].to(device)\n",
    "            train_pred = model(train_feat).squeeze()\n",
    "            train_loss = torch.nn.functional.mse_loss(train_pred, train_labs)\n",
    "            train_coef = coeff_determination(train_pred, train_labs) \n",
    "\n",
    "            optimizer.zero_grad()\n",
    "            train_loss.backward()\n",
    "            optimizer.step()\n",
    "\n",
    "            Loss_train += train_loss.item()\n",
    "            coeff_train += train_coef.item()\n",
    "\n",
    "        Loss_train /= len(trainer)\n",
    "        coeff_train /= len(trainer)\n",
    "\n",
    "    model.eval()\n",
    "    Loss_val = 0\n",
    "    coeff_val = 0\n",
    "    with tqdm(val_loader, unit=\"batch\") as validator:\n",
    "        for batch in validator:\n",
    "            validator.set_description(\"Valid\")\n",
    "            val_feat = batch[:, 0:-1].to(device)\n",
    "            val_labs = batch[:, -1].to(device)\n",
    "            val_pred = model(val_feat).squeeze()\n",
    "            val_loss = torch.nn.functional.mse_loss(val_pred, val_labs)\n",
    "            val_coef = coeff_determination(val_pred, val_labs) \n",
    "\n",
    "            Loss_val += val_loss.item()\n",
    "            coeff_val += val_coef.item()\n",
    "\n",
    "        Loss_val /= len(validator)\n",
    "        coeff_val /= len(validator)\n",
    "    \n",
    "    scheduler.step()\n",
    "    current_lr = optimizer.param_groups[0]['lr']\n",
    "    history[\"learning_rates\"].append(current_lr)\n",
    "    \n",
    "    epoch_duration = time.time() - start_time\n",
    "\n",
    "    history[\"train_loss\"].append(Loss_train)\n",
    "    history[\"val_loss\"].append(Loss_val)\n",
    "    history[\"train_coefficient\"].append(coeff_train)\n",
    "    history[\"val_coefficient\"].append(coeff_val)\n",
    "    history[\"learning_rates\"].append(optimizer.param_groups[0]['lr'])\n",
    "    history[\"epoch_times\"].append(epoch_duration)\n",
    "\n",
    "    if early_stopper.early_stop(model.state_dict(), Loss_val):             \n",
    "        print(\"Early stopping...\")\n",
    "        break\n",
    "    \n",
    "    print(f\"Epoch {epoch + 1}/{epochs}, Train Loss: {Loss_train:.4f}, Train Coeff: {coeff_train:.4f}, \"\n",
    "          f\"Val Loss: {Loss_val:.4f}, Val Coeff: {coeff_val:.4f}, Time: {epoch_duration:.2f} sec\")\n",
    "\n",
    "    \n",
    "with open(f\"training_history_{dt_name}.json\", \"w\") as f:\n",
    "    json.dump(history, f)\n",
    "    \n",
    "print(f\"Training history saved to 'training_history_{dt_name}.json'\")\n"
   ]
  },
  {
   "cell_type": "code",
   "execution_count": null,
   "id": "6f1ac96f",
   "metadata": {},
   "outputs": [],
   "source": [
    "data_iter = iter(train_loader)\n",
    "next(data_iter)[:,0:-1]\n",
    "\n",
    "traced_script_module = torch.jit.trace(model, next(data_iter)[:,0:-1].to(device))\n",
    "traced_script_module.save(f\"traced_model_{dt_name}.pt\")"
   ]
  },
  {
   "cell_type": "code",
   "execution_count": null,
   "id": "e0bcb63b",
   "metadata": {},
   "outputs": [],
   "source": []
  }
 ],
 "metadata": {
  "kernelspec": {
   "display_name": "Python 3 (ipykernel)",
   "language": "python",
   "name": "python3"
  },
  "language_info": {
   "codemirror_mode": {
    "name": "ipython",
    "version": 3
   },
   "file_extension": ".py",
   "mimetype": "text/x-python",
   "name": "python",
   "nbconvert_exporter": "python",
   "pygments_lexer": "ipython3",
   "version": "3.8.10"
  }
 },
 "nbformat": 4,
 "nbformat_minor": 5
}
