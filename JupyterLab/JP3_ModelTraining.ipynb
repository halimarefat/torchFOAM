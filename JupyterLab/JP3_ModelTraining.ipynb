{
 "cells": [
  {
   "cell_type": "code",
   "execution_count": 1,
   "id": "0902141e",
   "metadata": {},
   "outputs": [],
   "source": [
    "import numpy as np\n",
    "import pandas as pd\n",
    "import matplotlib.pyplot as plt\n",
    "import seaborn as sns\n",
    "import torch\n",
    "import torch.nn as nn\n",
    "from torch.optim.lr_scheduler import StepLR\n",
    "from tqdm import tqdm\n",
    "import sys\n",
    "import random\n",
    "from sklearn.preprocessing import StandardScaler\n",
    "from IPython.display import display, Math\n",
    "from torch.utils.data import DataLoader, Dataset\n",
    "import time\n",
    "import json\n",
    "\n",
    "from utils import *\n",
    "from model_utils import *\n",
    "\n",
    "sys_epsilon = sys.float_info.epsilon"
   ]
  },
  {
   "cell_type": "markdown",
   "id": "acbd1827",
   "metadata": {},
   "source": [
    "# Data Preprocessing"
   ]
  },
  {
   "cell_type": "markdown",
   "id": "e7ec5639",
   "metadata": {},
   "source": [
    "In this section, we preprocess the CFD data collected from DSM-based LES of flow past a sphere at $\\mathcal{R}e=10^3$, $5\\times 10^3$, and $10^4$. The data for each Reynolds number is collected from $t=300$ to $320$. From $t=300$ to $310$, data is collected at every ten variable time-steps. However, from $t=310$ to $320$, data is collected with $\\Delta t =1$."
   ]
  },
  {
   "cell_type": "code",
   "execution_count": 2,
   "id": "72ac9a88",
   "metadata": {},
   "outputs": [],
   "source": [
    "paths = [\"/home/hmarefat/scratch/torchFOAM/Case_dS/postProcessing/fieldData.dat\",\n",
    "         \"/home/hmarefat/scratch/torchFOAM/Case_dS_R53/postProcessing/fieldData.dat\",\n",
    "         \"/home/hmarefat/scratch/torchFOAM/Case_dS_R4/postProcessing/fieldData.dat\"]\n",
    "nCols = 26\n",
    "names = ['_R3', '_R53', '_R4']"
   ]
  },
  {
   "cell_type": "code",
   "execution_count": null,
   "id": "2a27737f",
   "metadata": {},
   "outputs": [],
   "source": [
    "random.seed(35)\n",
    "\n",
    "count = 1000000\n",
    "Indx_R3 = returnRandmIndx(4956526, count)\n",
    "Indx_R53 = returnRandmIndx(5900626, count)\n",
    "Indx_R4 = returnRandmIndx(4012425, count)"
   ]
  },
  {
   "cell_type": "code",
   "execution_count": null,
   "id": "64ca43ac",
   "metadata": {},
   "outputs": [],
   "source": [
    "Indx_R3[0:10]"
   ]
  },
  {
   "cell_type": "code",
   "execution_count": null,
   "id": "5b41ee45",
   "metadata": {},
   "outputs": [],
   "source": [
    "random.shuffle(Indx_R3)"
   ]
  },
  {
   "cell_type": "code",
   "execution_count": null,
   "id": "d2c12bef",
   "metadata": {},
   "outputs": [],
   "source": [
    "Indx_R3[0:10]"
   ]
  },
  {
   "cell_type": "code",
   "execution_count": null,
   "id": "5c429407",
   "metadata": {},
   "outputs": [],
   "source": [
    "index_data = []\n",
    "\n",
    "for indx in [Indx_R3, Indx_R53, Indx_R4]:\n",
    "    seen, unseen = splitterIndx(indx)\n",
    "    index_data.append((seen, unseen))\n",
    "\n",
    "index_array = np.array(index_data, dtype=object)"
   ]
  },
  {
   "cell_type": "code",
   "execution_count": null,
   "id": "8839f86f",
   "metadata": {},
   "outputs": [],
   "source": [
    "index_array[2,0].shape, index_array[2,1].shape"
   ]
  },
  {
   "cell_type": "code",
   "execution_count": null,
   "id": "1dc13769",
   "metadata": {},
   "outputs": [],
   "source": [
    "data = []\n",
    "\n",
    "for i, path in enumerate(paths):\n",
    "    name = path.split('/')[-1][:-4]+names[i]\n",
    "    print(f'Starting to preprocess dataset {name}')\n",
    "    data.clear()\n",
    "    \n",
    "    with open(path, \"r\") as f:\n",
    "        next(f)\n",
    "        for line in f:\n",
    "            l = line.split()\n",
    "            try:\n",
    "                data.append([float(x) for x in l]) #(l)\n",
    "            except ValueError as e:\n",
    "                print(f\"Error converting line to float: {line.strip()} - {e}\")\n",
    "                continue\n",
    "                \n",
    "    #data.pop(0)\n",
    "    print('Reading raw file is done!')\n",
    "    ds = np.array(data) \n",
    "    \n",
    "    ds_seen = ds[index_array[i,0]]\n",
    "    ds_unseen = ds[index_array[i,1]]\n",
    "    \n",
    "    scaler(name+'_seen', ds_seen)\n",
    "    scaler(name+'_unseen', ds_unseen)\n",
    "    \n",
    "    print('\\n')"
   ]
  },
  {
   "cell_type": "markdown",
   "id": "caa4895d",
   "metadata": {},
   "source": [
    "# Data Preparation"
   ]
  },
  {
   "cell_type": "code",
   "execution_count": 2,
   "id": "149e7b4d",
   "metadata": {},
   "outputs": [],
   "source": [
    "headers = [\"t\",                                             # time\n",
    "           \"X\", \"Y\", \"Z\",                                   # spacial coordinates\n",
    "           \"Ux\", \"Uy\", \"Uz\",                                # velocity components\n",
    "           \"G1\", \"G2\", \"G3\", \"G4\", \"G5\", \"G6\",              # velocity gradient tensor components\n",
    "           \"S1\", \"S2\", \"S3\", \"S4\", \"S5\", \"S6\",              # strain rate tensor compnents\n",
    "           \"UUp1\", \"UUp2\", \"UUp3\", \"UUp4\", \"UUp5\", \"UUp6\",  # resolved Reynolds stress tensor components\n",
    "           \"Cs\"]                                            # Smagorinsky coefficient"
   ]
  },
  {
   "cell_type": "markdown",
   "id": "4dd48176",
   "metadata": {},
   "source": [
    "### Dataset Loading"
   ]
  },
  {
   "cell_type": "markdown",
   "id": "d0a57c93",
   "metadata": {},
   "source": [
    "#### $\\mathcal Re = 10^3$"
   ]
  },
  {
   "cell_type": "code",
   "execution_count": 3,
   "id": "c132f7e1",
   "metadata": {},
   "outputs": [],
   "source": [
    "# Re = 10^3 seen\n",
    "dSn_R103_seen_means = pd.read_csv('../processedDatasets/fieldData_R3_seen_means.txt', sep=' ', names=headers) \n",
    "dSn_R103_seen_scales = pd.read_csv('../processedDatasets/fieldData_R3_seen_scales.txt', sep=' ', names=headers) \n",
    "dSn_R103_seen = pd.read_csv('../processedDatasets/fieldData_R3_seen_norm.txt', sep=' ', names=headers)\n",
    "dS_R103_seen = pd.read_csv('../processedDatasets/fieldData_R3_seen.txt', sep=' ', names=headers)\n",
    "\n",
    "# Re = 10^3 unseen\n",
    "dSn_R103_unseen_means = pd.read_csv('../processedDatasets/fieldData_R3_unseen_means.txt', sep=' ', names=headers) \n",
    "dSn_R103_unseen_scales = pd.read_csv('../processedDatasets/fieldData_R3_unseen_scales.txt', sep=' ', names=headers) \n",
    "dSn_R103_unseen = pd.read_csv('../processedDatasets/fieldData_R3_unseen_norm.txt', sep=' ', names=headers)\n",
    "dS_R103_unseen = pd.read_csv('../processedDatasets/fieldData_R3_unseen.txt', sep=' ', names=headers)"
   ]
  },
  {
   "cell_type": "markdown",
   "id": "dc16c915",
   "metadata": {},
   "source": [
    "#### $\\mathcal Re = 5\\times 10^3$"
   ]
  },
  {
   "cell_type": "code",
   "execution_count": 4,
   "id": "4d4f6b2e",
   "metadata": {},
   "outputs": [],
   "source": [
    "# Re = 5 x 10^3 seen\n",
    "dSn_R503_seen_means = pd.read_csv('../processedDatasets/fieldData_R53_seen_means.txt', sep=' ', names=headers) \n",
    "dSn_R503_seen_scales = pd.read_csv('../processedDatasets/fieldData_R53_seen_scales.txt', sep=' ', names=headers) \n",
    "dSn_R503_seen = pd.read_csv('../processedDatasets/fieldData_R53_seen_norm.txt', sep=' ', names=headers)\n",
    "dS_R503_seen = pd.read_csv('../processedDatasets/fieldData_R53_seen.txt', sep=' ', names=headers)\n",
    "\n",
    "# Re = 5 x 10^3 unseen\n",
    "dSn_R503_unseen_means = pd.read_csv('../processedDatasets/fieldData_R53_unseen_means.txt', sep=' ', names=headers) \n",
    "dSn_R503_unseen_scales = pd.read_csv('../processedDatasets/fieldData_R53_unseen_scales.txt', sep=' ', names=headers) \n",
    "dSn_R503_unseen = pd.read_csv('../processedDatasets/fieldData_R53_unseen_norm.txt', sep=' ', names=headers)\n",
    "dS_R503_unseen = pd.read_csv('../processedDatasets/fieldData_R53_unseen.txt', sep=' ', names=headers)"
   ]
  },
  {
   "cell_type": "markdown",
   "id": "04baaae2",
   "metadata": {},
   "source": [
    "#### $\\mathcal Re = 10^4$"
   ]
  },
  {
   "cell_type": "code",
   "execution_count": 5,
   "id": "8d456184",
   "metadata": {},
   "outputs": [],
   "source": [
    "# Re = 10^4 seen\n",
    "dSn_R104_seen_means = pd.read_csv('../processedDatasets/fieldData_R4_seen_means.txt', sep=' ', names=headers) \n",
    "dSn_R104_seen_scales = pd.read_csv('../processedDatasets/fieldData_R4_seen_scales.txt', sep=' ', names=headers) \n",
    "dSn_R104_seen = pd.read_csv('../processedDatasets/fieldData_R4_seen_norm.txt', sep=' ', names=headers)\n",
    "dS_R104_seen = pd.read_csv('../processedDatasets/fieldData_R4_seen.txt', sep=' ', names=headers)\n",
    "\n",
    "# Re = 10^4 unseen\n",
    "dSn_R104_unseen_means = pd.read_csv('../processedDatasets/fieldData_R4_unseen_means.txt', sep=' ', names=headers) \n",
    "dSn_R104_unseen_scales = pd.read_csv('../processedDatasets/fieldData_R4_unseen_scales.txt', sep=' ', names=headers) \n",
    "dSn_R104_unseen = pd.read_csv('../processedDatasets/fieldData_R4_unseen_norm.txt', sep=' ', names=headers)\n",
    "dS_R104_unseen = pd.read_csv('../processedDatasets/fieldData_R4_unseen.txt', sep=' ', names=headers)"
   ]
  },
  {
   "cell_type": "markdown",
   "id": "0f73ca0e",
   "metadata": {},
   "source": [
    "# Model Configuration Setup"
   ]
  },
  {
   "cell_type": "markdown",
   "id": "a84c6225",
   "metadata": {},
   "source": [
    "In this section, we consider the different model configurations as presented in the following table.\n",
    "\n",
    "$$\n",
    "\\begin{array}{|l|c|c|c|c|}\n",
    "    \\hline\n",
    "    \\textbf{Model} & \\textbf{Inputs} & \\textbf{No. of Inputs} & \\textbf{Outputs} & \\textbf{No. of Outputs} \\\\\n",
    "    \\hline\n",
    "    \\mathbf{M1} & u_i \\, \\text{and} \\, \\mathcal{S}_{ij} & 9 & c_s & 1\\\\\n",
    "    \\mathbf{M2} & \\mathcal{G}_{ij} \\, \\text{and} \\, \\mathcal{S}_{ij} & 12 & c_s & 1 \\\\\n",
    "    \\mathbf{M3} & u_i \\, \\text{and} \\, \\tau^{'}_{ij} & 9 & c_s & 1 \\\\\n",
    "    \\mathbf{M4} & \\mathcal{G}_{ij} \\, \\text{and} \\, \\tau^{'}_{ij} & 12 & c_s & 1 \\\\\n",
    "    \\hline\n",
    "\\end{array}\n",
    "$$"
   ]
  },
  {
   "cell_type": "code",
   "execution_count": 6,
   "id": "2ee27c51",
   "metadata": {},
   "outputs": [],
   "source": [
    "R103 = dSn_R103_seen\n",
    "R503 = dSn_R503_seen\n",
    "R104 = dSn_R104_seen\n",
    "\n",
    "R103_un = dSn_R103_unseen\n",
    "R503_un = dSn_R503_unseen\n",
    "R104_un = dSn_R104_unseen"
   ]
  },
  {
   "cell_type": "code",
   "execution_count": 7,
   "id": "e061aa40",
   "metadata": {},
   "outputs": [],
   "source": [
    "M1_headers = ['Ux', 'Uy', 'Uz', 'S1',  'S2', 'S3', 'S4', 'S5', 'S6', 'Cs']\n",
    "M2_headers = ['G1', 'G2', 'G3', 'G4', 'G5', 'G6', 'S1',  'S2', 'S3', 'S4', 'S5', 'S6', 'Cs']\n",
    "M3_headers = ['Ux', 'Uy', 'Uz', 'UUp1',  'UUp2', 'UUp3', 'UUp4', 'UUp5', 'UUp6', 'Cs']\n",
    "M4_headers = ['G1', 'G2', 'G3', 'G4', 'G5', 'G6', 'UUp1',  'UUp2', 'UUp3', 'UUp4', 'UUp5', 'UUp6', 'Cs']\n",
    "\n",
    "M1_103 = R103.filter(M1_headers, axis=1)\n",
    "M2_103 = R103.filter(M2_headers, axis=1)\n",
    "M3_103 = R103.filter(M3_headers, axis=1)\n",
    "M4_103 = R103.filter(M4_headers, axis=1)\n",
    "\n",
    "M1_503 = R503.filter(M1_headers, axis=1)\n",
    "M2_503 = R503.filter(M2_headers, axis=1)\n",
    "M3_503 = R503.filter(M3_headers, axis=1)\n",
    "M4_503 = R503.filter(M4_headers, axis=1)\n",
    "\n",
    "M1_104 = R104.filter(M1_headers, axis=1)\n",
    "M2_104 = R104.filter(M2_headers, axis=1)\n",
    "M3_104 = R104.filter(M3_headers, axis=1)\n",
    "M4_104 = R104.filter(M4_headers, axis=1)\n",
    "\n",
    "M1_103_test = R103_un.filter(M1_headers, axis=1)\n",
    "M2_103_test = R103_un.filter(M2_headers, axis=1)\n",
    "M3_103_test = R103_un.filter(M3_headers, axis=1)\n",
    "M4_103_test = R103_un.filter(M4_headers, axis=1)\n",
    "\n",
    "M1_503_test = R503_un.filter(M1_headers, axis=1)\n",
    "M2_503_test = R503_un.filter(M2_headers, axis=1)\n",
    "M3_503_test = R503_un.filter(M3_headers, axis=1)\n",
    "M4_503_test = R503_un.filter(M4_headers, axis=1)\n",
    "\n",
    "M1_104_test = R104_un.filter(M1_headers, axis=1)\n",
    "M2_104_test = R104_un.filter(M2_headers, axis=1)\n",
    "M3_104_test = R104_un.filter(M3_headers, axis=1)\n",
    "M4_104_test = R104_un.filter(M4_headers, axis=1)"
   ]
  },
  {
   "cell_type": "markdown",
   "id": "9990fee6",
   "metadata": {},
   "source": [
    "# Model Training"
   ]
  },
  {
   "cell_type": "code",
   "execution_count": 24,
   "id": "cab2a961",
   "metadata": {},
   "outputs": [],
   "source": [
    "dt = M2_104\n",
    "dt_name = namestr(M2_104, globals())[0]"
   ]
  },
  {
   "cell_type": "code",
   "execution_count": 25,
   "id": "c4cfe154",
   "metadata": {},
   "outputs": [],
   "source": [
    "output_size = 1\n",
    "input_size = dt.shape[1] - output_size \n",
    "neurons_per_layer = [60, 60, 60, 60, 60] \n",
    "hidden_layers = len(neurons_per_layer) \n",
    "\n",
    "split_sz = 0.8\n",
    "mask = np.random.rand(len(dt)) < split_sz\n",
    "train = dt[mask].reset_index(drop=True) \n",
    "val = dt[~mask].reset_index(drop=True)"
   ]
  },
  {
   "cell_type": "code",
   "execution_count": 26,
   "id": "23c8f011",
   "metadata": {},
   "outputs": [
    {
     "data": {
      "text/html": [
       "<div>\n",
       "<style scoped>\n",
       "    .dataframe tbody tr th:only-of-type {\n",
       "        vertical-align: middle;\n",
       "    }\n",
       "\n",
       "    .dataframe tbody tr th {\n",
       "        vertical-align: top;\n",
       "    }\n",
       "\n",
       "    .dataframe thead th {\n",
       "        text-align: right;\n",
       "    }\n",
       "</style>\n",
       "<table border=\"1\" class=\"dataframe\">\n",
       "  <thead>\n",
       "    <tr style=\"text-align: right;\">\n",
       "      <th></th>\n",
       "      <th>G1</th>\n",
       "      <th>G2</th>\n",
       "      <th>G3</th>\n",
       "      <th>G4</th>\n",
       "      <th>G5</th>\n",
       "      <th>G6</th>\n",
       "      <th>S1</th>\n",
       "      <th>S2</th>\n",
       "      <th>S3</th>\n",
       "      <th>S4</th>\n",
       "      <th>S5</th>\n",
       "      <th>S6</th>\n",
       "      <th>Cs</th>\n",
       "    </tr>\n",
       "  </thead>\n",
       "  <tbody>\n",
       "    <tr>\n",
       "      <th>0</th>\n",
       "      <td>-0.229502</td>\n",
       "      <td>-0.082355</td>\n",
       "      <td>-0.049943</td>\n",
       "      <td>0.005463</td>\n",
       "      <td>0.058222</td>\n",
       "      <td>-0.131098</td>\n",
       "      <td>-0.229502</td>\n",
       "      <td>-0.025800</td>\n",
       "      <td>0.028246</td>\n",
       "      <td>0.058222</td>\n",
       "      <td>0.015112</td>\n",
       "      <td>0.318217</td>\n",
       "      <td>-0.289756</td>\n",
       "    </tr>\n",
       "    <tr>\n",
       "      <th>1</th>\n",
       "      <td>-0.618960</td>\n",
       "      <td>-0.582423</td>\n",
       "      <td>-0.004830</td>\n",
       "      <td>0.100815</td>\n",
       "      <td>-0.213630</td>\n",
       "      <td>-0.717968</td>\n",
       "      <td>-0.618960</td>\n",
       "      <td>-0.119099</td>\n",
       "      <td>0.293541</td>\n",
       "      <td>-0.213630</td>\n",
       "      <td>-1.118656</td>\n",
       "      <td>-0.994835</td>\n",
       "      <td>0.266733</td>\n",
       "    </tr>\n",
       "    <tr>\n",
       "      <th>2</th>\n",
       "      <td>-0.030994</td>\n",
       "      <td>0.652822</td>\n",
       "      <td>-0.045647</td>\n",
       "      <td>-0.148220</td>\n",
       "      <td>0.266144</td>\n",
       "      <td>-0.168707</td>\n",
       "      <td>-0.030994</td>\n",
       "      <td>0.097606</td>\n",
       "      <td>-0.309391</td>\n",
       "      <td>0.266144</td>\n",
       "      <td>-0.407072</td>\n",
       "      <td>-0.144934</td>\n",
       "      <td>-1.158358</td>\n",
       "    </tr>\n",
       "    <tr>\n",
       "      <th>3</th>\n",
       "      <td>-0.181946</td>\n",
       "      <td>-0.020944</td>\n",
       "      <td>-0.226529</td>\n",
       "      <td>-0.082291</td>\n",
       "      <td>0.444896</td>\n",
       "      <td>0.366172</td>\n",
       "      <td>-0.181946</td>\n",
       "      <td>-0.091832</td>\n",
       "      <td>-0.215805</td>\n",
       "      <td>0.444896</td>\n",
       "      <td>0.334084</td>\n",
       "      <td>0.031496</td>\n",
       "      <td>-0.686264</td>\n",
       "    </tr>\n",
       "    <tr>\n",
       "      <th>4</th>\n",
       "      <td>-0.671802</td>\n",
       "      <td>-0.761704</td>\n",
       "      <td>0.023589</td>\n",
       "      <td>0.006468</td>\n",
       "      <td>-0.524679</td>\n",
       "      <td>-0.105963</td>\n",
       "      <td>-0.671802</td>\n",
       "      <td>-0.283521</td>\n",
       "      <td>0.118334</td>\n",
       "      <td>-0.524679</td>\n",
       "      <td>-0.116864</td>\n",
       "      <td>-0.115713</td>\n",
       "      <td>0.131864</td>\n",
       "    </tr>\n",
       "    <tr>\n",
       "      <th>...</th>\n",
       "      <td>...</td>\n",
       "      <td>...</td>\n",
       "      <td>...</td>\n",
       "      <td>...</td>\n",
       "      <td>...</td>\n",
       "      <td>...</td>\n",
       "      <td>...</td>\n",
       "      <td>...</td>\n",
       "      <td>...</td>\n",
       "      <td>...</td>\n",
       "      <td>...</td>\n",
       "      <td>...</td>\n",
       "      <td>...</td>\n",
       "    </tr>\n",
       "    <tr>\n",
       "      <th>560431</th>\n",
       "      <td>0.209342</td>\n",
       "      <td>0.864437</td>\n",
       "      <td>-1.144578</td>\n",
       "      <td>0.389387</td>\n",
       "      <td>-0.105700</td>\n",
       "      <td>-0.077340</td>\n",
       "      <td>0.209342</td>\n",
       "      <td>0.726027</td>\n",
       "      <td>-0.378531</td>\n",
       "      <td>-0.105700</td>\n",
       "      <td>-0.226626</td>\n",
       "      <td>-1.097109</td>\n",
       "      <td>0.396064</td>\n",
       "    </tr>\n",
       "    <tr>\n",
       "      <th>560432</th>\n",
       "      <td>0.210802</td>\n",
       "      <td>0.010281</td>\n",
       "      <td>1.138833</td>\n",
       "      <td>0.914302</td>\n",
       "      <td>0.851010</td>\n",
       "      <td>-1.320538</td>\n",
       "      <td>0.210802</td>\n",
       "      <td>0.935590</td>\n",
       "      <td>1.063056</td>\n",
       "      <td>0.851010</td>\n",
       "      <td>-0.910689</td>\n",
       "      <td>-0.672601</td>\n",
       "      <td>0.372382</td>\n",
       "    </tr>\n",
       "    <tr>\n",
       "      <th>560433</th>\n",
       "      <td>0.719513</td>\n",
       "      <td>-0.389316</td>\n",
       "      <td>-0.419565</td>\n",
       "      <td>-0.152395</td>\n",
       "      <td>-0.146498</td>\n",
       "      <td>-0.100599</td>\n",
       "      <td>0.719513</td>\n",
       "      <td>-0.303570</td>\n",
       "      <td>0.596391</td>\n",
       "      <td>-0.146498</td>\n",
       "      <td>-0.086341</td>\n",
       "      <td>0.096018</td>\n",
       "      <td>-0.127999</td>\n",
       "    </tr>\n",
       "    <tr>\n",
       "      <th>560434</th>\n",
       "      <td>0.183035</td>\n",
       "      <td>0.044767</td>\n",
       "      <td>0.739180</td>\n",
       "      <td>0.015846</td>\n",
       "      <td>-0.085614</td>\n",
       "      <td>-0.129985</td>\n",
       "      <td>0.183035</td>\n",
       "      <td>0.033198</td>\n",
       "      <td>0.333166</td>\n",
       "      <td>-0.085614</td>\n",
       "      <td>-0.219804</td>\n",
       "      <td>0.220753</td>\n",
       "      <td>-0.469827</td>\n",
       "    </tr>\n",
       "    <tr>\n",
       "      <th>560435</th>\n",
       "      <td>0.185308</td>\n",
       "      <td>-0.076115</td>\n",
       "      <td>0.132383</td>\n",
       "      <td>-0.030572</td>\n",
       "      <td>-0.014254</td>\n",
       "      <td>0.082151</td>\n",
       "      <td>0.185308</td>\n",
       "      <td>-0.060144</td>\n",
       "      <td>0.101746</td>\n",
       "      <td>-0.014254</td>\n",
       "      <td>0.129917</td>\n",
       "      <td>-0.031131</td>\n",
       "      <td>-0.177859</td>\n",
       "    </tr>\n",
       "  </tbody>\n",
       "</table>\n",
       "<p>560436 rows × 13 columns</p>\n",
       "</div>"
      ],
      "text/plain": [
       "              G1        G2        G3        G4        G5        G6        S1  \\\n",
       "0      -0.229502 -0.082355 -0.049943  0.005463  0.058222 -0.131098 -0.229502   \n",
       "1      -0.618960 -0.582423 -0.004830  0.100815 -0.213630 -0.717968 -0.618960   \n",
       "2      -0.030994  0.652822 -0.045647 -0.148220  0.266144 -0.168707 -0.030994   \n",
       "3      -0.181946 -0.020944 -0.226529 -0.082291  0.444896  0.366172 -0.181946   \n",
       "4      -0.671802 -0.761704  0.023589  0.006468 -0.524679 -0.105963 -0.671802   \n",
       "...          ...       ...       ...       ...       ...       ...       ...   \n",
       "560431  0.209342  0.864437 -1.144578  0.389387 -0.105700 -0.077340  0.209342   \n",
       "560432  0.210802  0.010281  1.138833  0.914302  0.851010 -1.320538  0.210802   \n",
       "560433  0.719513 -0.389316 -0.419565 -0.152395 -0.146498 -0.100599  0.719513   \n",
       "560434  0.183035  0.044767  0.739180  0.015846 -0.085614 -0.129985  0.183035   \n",
       "560435  0.185308 -0.076115  0.132383 -0.030572 -0.014254  0.082151  0.185308   \n",
       "\n",
       "              S2        S3        S4        S5        S6        Cs  \n",
       "0      -0.025800  0.028246  0.058222  0.015112  0.318217 -0.289756  \n",
       "1      -0.119099  0.293541 -0.213630 -1.118656 -0.994835  0.266733  \n",
       "2       0.097606 -0.309391  0.266144 -0.407072 -0.144934 -1.158358  \n",
       "3      -0.091832 -0.215805  0.444896  0.334084  0.031496 -0.686264  \n",
       "4      -0.283521  0.118334 -0.524679 -0.116864 -0.115713  0.131864  \n",
       "...          ...       ...       ...       ...       ...       ...  \n",
       "560431  0.726027 -0.378531 -0.105700 -0.226626 -1.097109  0.396064  \n",
       "560432  0.935590  1.063056  0.851010 -0.910689 -0.672601  0.372382  \n",
       "560433 -0.303570  0.596391 -0.146498 -0.086341  0.096018 -0.127999  \n",
       "560434  0.033198  0.333166 -0.085614 -0.219804  0.220753 -0.469827  \n",
       "560435 -0.060144  0.101746 -0.014254  0.129917 -0.031131 -0.177859  \n",
       "\n",
       "[560436 rows x 13 columns]"
      ]
     },
     "execution_count": 26,
     "metadata": {},
     "output_type": "execute_result"
    }
   ],
   "source": [
    "train"
   ]
  },
  {
   "cell_type": "code",
   "execution_count": 27,
   "id": "905ebeb8",
   "metadata": {},
   "outputs": [
    {
     "data": {
      "text/html": [
       "<div>\n",
       "<style scoped>\n",
       "    .dataframe tbody tr th:only-of-type {\n",
       "        vertical-align: middle;\n",
       "    }\n",
       "\n",
       "    .dataframe tbody tr th {\n",
       "        vertical-align: top;\n",
       "    }\n",
       "\n",
       "    .dataframe thead th {\n",
       "        text-align: right;\n",
       "    }\n",
       "</style>\n",
       "<table border=\"1\" class=\"dataframe\">\n",
       "  <thead>\n",
       "    <tr style=\"text-align: right;\">\n",
       "      <th></th>\n",
       "      <th>G1</th>\n",
       "      <th>G2</th>\n",
       "      <th>G3</th>\n",
       "      <th>G4</th>\n",
       "      <th>G5</th>\n",
       "      <th>G6</th>\n",
       "      <th>S1</th>\n",
       "      <th>S2</th>\n",
       "      <th>S3</th>\n",
       "      <th>S4</th>\n",
       "      <th>S5</th>\n",
       "      <th>S6</th>\n",
       "      <th>Cs</th>\n",
       "    </tr>\n",
       "  </thead>\n",
       "  <tbody>\n",
       "    <tr>\n",
       "      <th>0</th>\n",
       "      <td>-0.030288</td>\n",
       "      <td>-0.099401</td>\n",
       "      <td>-0.093050</td>\n",
       "      <td>-0.044349</td>\n",
       "      <td>0.073241</td>\n",
       "      <td>0.071077</td>\n",
       "      <td>-0.030288</td>\n",
       "      <td>-0.083051</td>\n",
       "      <td>-0.075719</td>\n",
       "      <td>0.073241</td>\n",
       "      <td>0.106465</td>\n",
       "      <td>0.140135</td>\n",
       "      <td>-1.004127</td>\n",
       "    </tr>\n",
       "    <tr>\n",
       "      <th>1</th>\n",
       "      <td>-0.197695</td>\n",
       "      <td>-0.242680</td>\n",
       "      <td>0.244637</td>\n",
       "      <td>0.835817</td>\n",
       "      <td>-1.329357</td>\n",
       "      <td>0.323531</td>\n",
       "      <td>-0.197695</td>\n",
       "      <td>0.759268</td>\n",
       "      <td>0.355617</td>\n",
       "      <td>-1.329357</td>\n",
       "      <td>0.850910</td>\n",
       "      <td>0.474040</td>\n",
       "      <td>0.517645</td>\n",
       "    </tr>\n",
       "    <tr>\n",
       "      <th>2</th>\n",
       "      <td>-0.838453</td>\n",
       "      <td>0.744977</td>\n",
       "      <td>-0.456138</td>\n",
       "      <td>0.865464</td>\n",
       "      <td>0.259171</td>\n",
       "      <td>-0.538470</td>\n",
       "      <td>-0.838453</td>\n",
       "      <td>1.165651</td>\n",
       "      <td>0.559152</td>\n",
       "      <td>0.259171</td>\n",
       "      <td>-0.830657</td>\n",
       "      <td>0.649751</td>\n",
       "      <td>0.893781</td>\n",
       "    </tr>\n",
       "    <tr>\n",
       "      <th>3</th>\n",
       "      <td>0.178851</td>\n",
       "      <td>-0.154611</td>\n",
       "      <td>0.137452</td>\n",
       "      <td>-0.041943</td>\n",
       "      <td>-0.064516</td>\n",
       "      <td>0.120205</td>\n",
       "      <td>0.178851</td>\n",
       "      <td>-0.101627</td>\n",
       "      <td>0.091542</td>\n",
       "      <td>-0.064516</td>\n",
       "      <td>0.205727</td>\n",
       "      <td>0.084008</td>\n",
       "      <td>0.066254</td>\n",
       "    </tr>\n",
       "    <tr>\n",
       "      <th>4</th>\n",
       "      <td>1.400678</td>\n",
       "      <td>0.152804</td>\n",
       "      <td>0.373646</td>\n",
       "      <td>-1.417872</td>\n",
       "      <td>-1.430720</td>\n",
       "      <td>3.650052</td>\n",
       "      <td>1.400678</td>\n",
       "      <td>-1.386618</td>\n",
       "      <td>-0.588300</td>\n",
       "      <td>-1.430720</td>\n",
       "      <td>1.476487</td>\n",
       "      <td>0.351265</td>\n",
       "      <td>0.767310</td>\n",
       "    </tr>\n",
       "    <tr>\n",
       "      <th>...</th>\n",
       "      <td>...</td>\n",
       "      <td>...</td>\n",
       "      <td>...</td>\n",
       "      <td>...</td>\n",
       "      <td>...</td>\n",
       "      <td>...</td>\n",
       "      <td>...</td>\n",
       "      <td>...</td>\n",
       "      <td>...</td>\n",
       "      <td>...</td>\n",
       "      <td>...</td>\n",
       "      <td>...</td>\n",
       "      <td>...</td>\n",
       "    </tr>\n",
       "    <tr>\n",
       "      <th>139559</th>\n",
       "      <td>0.006266</td>\n",
       "      <td>0.756778</td>\n",
       "      <td>1.014310</td>\n",
       "      <td>-0.518608</td>\n",
       "      <td>-0.262392</td>\n",
       "      <td>-0.849416</td>\n",
       "      <td>0.006266</td>\n",
       "      <td>-0.240226</td>\n",
       "      <td>-0.395148</td>\n",
       "      <td>-0.262392</td>\n",
       "      <td>-0.815884</td>\n",
       "      <td>0.223182</td>\n",
       "      <td>0.469328</td>\n",
       "    </tr>\n",
       "    <tr>\n",
       "      <th>139560</th>\n",
       "      <td>-0.325784</td>\n",
       "      <td>-0.157061</td>\n",
       "      <td>-0.205795</td>\n",
       "      <td>-0.114940</td>\n",
       "      <td>0.322107</td>\n",
       "      <td>0.059542</td>\n",
       "      <td>-0.325784</td>\n",
       "      <td>-0.176944</td>\n",
       "      <td>0.070921</td>\n",
       "      <td>0.322107</td>\n",
       "      <td>0.020693</td>\n",
       "      <td>0.203430</td>\n",
       "      <td>0.006298</td>\n",
       "    </tr>\n",
       "    <tr>\n",
       "      <th>139561</th>\n",
       "      <td>-0.340133</td>\n",
       "      <td>1.330936</td>\n",
       "      <td>-4.137219</td>\n",
       "      <td>0.948081</td>\n",
       "      <td>-0.129908</td>\n",
       "      <td>3.387646</td>\n",
       "      <td>-0.340133</td>\n",
       "      <td>1.473013</td>\n",
       "      <td>-1.066588</td>\n",
       "      <td>-0.129908</td>\n",
       "      <td>2.276898</td>\n",
       "      <td>2.292677</td>\n",
       "      <td>0.281431</td>\n",
       "    </tr>\n",
       "    <tr>\n",
       "      <th>139562</th>\n",
       "      <td>-0.420393</td>\n",
       "      <td>-1.029066</td>\n",
       "      <td>1.392877</td>\n",
       "      <td>-2.040311</td>\n",
       "      <td>-0.480857</td>\n",
       "      <td>0.129104</td>\n",
       "      <td>-0.420393</td>\n",
       "      <td>-2.471025</td>\n",
       "      <td>0.995343</td>\n",
       "      <td>-0.480857</td>\n",
       "      <td>-0.797385</td>\n",
       "      <td>0.548235</td>\n",
       "      <td>0.205607</td>\n",
       "    </tr>\n",
       "    <tr>\n",
       "      <th>139563</th>\n",
       "      <td>0.497272</td>\n",
       "      <td>-0.566571</td>\n",
       "      <td>-3.453885</td>\n",
       "      <td>-0.884785</td>\n",
       "      <td>-0.153910</td>\n",
       "      <td>1.150560</td>\n",
       "      <td>0.497272</td>\n",
       "      <td>-1.117388</td>\n",
       "      <td>-1.346377</td>\n",
       "      <td>-0.153910</td>\n",
       "      <td>-1.445175</td>\n",
       "      <td>-3.283299</td>\n",
       "      <td>0.653598</td>\n",
       "    </tr>\n",
       "  </tbody>\n",
       "</table>\n",
       "<p>139564 rows × 13 columns</p>\n",
       "</div>"
      ],
      "text/plain": [
       "              G1        G2        G3        G4        G5        G6        S1  \\\n",
       "0      -0.030288 -0.099401 -0.093050 -0.044349  0.073241  0.071077 -0.030288   \n",
       "1      -0.197695 -0.242680  0.244637  0.835817 -1.329357  0.323531 -0.197695   \n",
       "2      -0.838453  0.744977 -0.456138  0.865464  0.259171 -0.538470 -0.838453   \n",
       "3       0.178851 -0.154611  0.137452 -0.041943 -0.064516  0.120205  0.178851   \n",
       "4       1.400678  0.152804  0.373646 -1.417872 -1.430720  3.650052  1.400678   \n",
       "...          ...       ...       ...       ...       ...       ...       ...   \n",
       "139559  0.006266  0.756778  1.014310 -0.518608 -0.262392 -0.849416  0.006266   \n",
       "139560 -0.325784 -0.157061 -0.205795 -0.114940  0.322107  0.059542 -0.325784   \n",
       "139561 -0.340133  1.330936 -4.137219  0.948081 -0.129908  3.387646 -0.340133   \n",
       "139562 -0.420393 -1.029066  1.392877 -2.040311 -0.480857  0.129104 -0.420393   \n",
       "139563  0.497272 -0.566571 -3.453885 -0.884785 -0.153910  1.150560  0.497272   \n",
       "\n",
       "              S2        S3        S4        S5        S6        Cs  \n",
       "0      -0.083051 -0.075719  0.073241  0.106465  0.140135 -1.004127  \n",
       "1       0.759268  0.355617 -1.329357  0.850910  0.474040  0.517645  \n",
       "2       1.165651  0.559152  0.259171 -0.830657  0.649751  0.893781  \n",
       "3      -0.101627  0.091542 -0.064516  0.205727  0.084008  0.066254  \n",
       "4      -1.386618 -0.588300 -1.430720  1.476487  0.351265  0.767310  \n",
       "...          ...       ...       ...       ...       ...       ...  \n",
       "139559 -0.240226 -0.395148 -0.262392 -0.815884  0.223182  0.469328  \n",
       "139560 -0.176944  0.070921  0.322107  0.020693  0.203430  0.006298  \n",
       "139561  1.473013 -1.066588 -0.129908  2.276898  2.292677  0.281431  \n",
       "139562 -2.471025  0.995343 -0.480857 -0.797385  0.548235  0.205607  \n",
       "139563 -1.117388 -1.346377 -0.153910 -1.445175 -3.283299  0.653598  \n",
       "\n",
       "[139564 rows x 13 columns]"
      ]
     },
     "execution_count": 27,
     "metadata": {},
     "output_type": "execute_result"
    }
   ],
   "source": [
    "val"
   ]
  },
  {
   "cell_type": "code",
   "execution_count": 28,
   "id": "246ad30d",
   "metadata": {},
   "outputs": [],
   "source": [
    "batch_sz_trn = 4096\n",
    "batch_sz_val = int(batch_sz_trn / 4)\n",
    "\n",
    "train_dataset = MyDataset(train)\n",
    "val_dataset = MyDataset(val)\n",
    "\n",
    "train_loader = torch.utils.data.DataLoader(dataset=train_dataset, batch_size=batch_sz_trn, shuffle=True)\n",
    "val_loader = torch.utils.data.DataLoader(dataset=val_dataset, batch_size=batch_sz_val, shuffle=True)"
   ]
  },
  {
   "cell_type": "code",
   "execution_count": 29,
   "id": "3d4a7d0d",
   "metadata": {},
   "outputs": [
    {
     "data": {
      "text/plain": [
       "tensor([-9.8697,  5.2901,  3.1248, -6.9723,  5.0522,  3.3308, -9.8697, -5.0900,\n",
       "        -3.2410,  5.0522,  7.3159,  2.7096, -0.6950], dtype=torch.float64)"
      ]
     },
     "execution_count": 29,
     "metadata": {},
     "output_type": "execute_result"
    }
   ],
   "source": [
    "data_iter = iter(train_loader)\n",
    "next(data_iter)[0]"
   ]
  },
  {
   "cell_type": "code",
   "execution_count": 30,
   "id": "2af41443",
   "metadata": {},
   "outputs": [
    {
     "data": {
      "text/plain": [
       "MLPModel(\n",
       "  (block): Sequential(\n",
       "    (0): Linear(in_features=12, out_features=60, bias=True)\n",
       "    (1): ReLU()\n",
       "    (2): Linear(in_features=60, out_features=60, bias=True)\n",
       "    (3): ReLU()\n",
       "    (4): Linear(in_features=60, out_features=60, bias=True)\n",
       "    (5): ReLU()\n",
       "    (6): Linear(in_features=60, out_features=60, bias=True)\n",
       "    (7): ReLU()\n",
       "    (8): Linear(in_features=60, out_features=60, bias=True)\n",
       "    (9): ReLU()\n",
       "    (10): Linear(in_features=60, out_features=1, bias=True)\n",
       "  )\n",
       ")"
      ]
     },
     "execution_count": 30,
     "metadata": {},
     "output_type": "execute_result"
    }
   ],
   "source": [
    "model = MLPModel(input_size=input_size, \n",
    "                 output_size=output_size, \n",
    "                 hidden_layers=hidden_layers, \n",
    "                 neurons_per_layer=neurons_per_layer)\n",
    "\n",
    "optimizer = torch.optim.Adam(model.parameters(), lr=0.001)\n",
    "scheduler = StepLR(optimizer, step_size=3, gamma=0.2)\n",
    "\n",
    "device = torch.device(\"cuda\")\n",
    "model.to(device)\n",
    "model.double()"
   ]
  },
  {
   "cell_type": "code",
   "execution_count": null,
   "id": "21727075",
   "metadata": {},
   "outputs": [
    {
     "name": "stderr",
     "output_type": "stream",
     "text": [
      "Train: 100%|██████████| 137/137 [00:19<00:00,  6.87batch/s]\n",
      "Valid: 100%|██████████| 137/137 [00:05<00:00, 26.93batch/s]\n"
     ]
    },
    {
     "name": "stdout",
     "output_type": "stream",
     "text": [
      "Epoch 1/6000, Train Loss: 0.9428, Train Coeff: -1812.9614, Val Loss: 0.9302, Val Coeff: -8.9638, Time: 25.03 sec\n"
     ]
    },
    {
     "name": "stderr",
     "output_type": "stream",
     "text": [
      "Train: 100%|██████████| 137/137 [00:19<00:00,  6.87batch/s]\n",
      "Valid: 100%|██████████| 137/137 [00:05<00:00, 26.74batch/s]\n"
     ]
    },
    {
     "name": "stdout",
     "output_type": "stream",
     "text": [
      "Epoch 2/6000, Train Loss: 0.8768, Train Coeff: -7.2783, Val Loss: 0.8949, Val Coeff: -6.2633, Time: 25.08 sec\n"
     ]
    },
    {
     "name": "stderr",
     "output_type": "stream",
     "text": [
      "Train: 100%|██████████| 137/137 [00:19<00:00,  6.87batch/s]\n",
      "Valid: 100%|██████████| 137/137 [00:05<00:00, 26.98batch/s]\n"
     ]
    },
    {
     "name": "stdout",
     "output_type": "stream",
     "text": [
      "Epoch 3/6000, Train Loss: 0.8544, Train Coeff: -5.6495, Val Loss: 0.8874, Val Coeff: -4.7091, Time: 25.02 sec\n"
     ]
    },
    {
     "name": "stderr",
     "output_type": "stream",
     "text": [
      "Train: 100%|██████████| 137/137 [00:19<00:00,  6.88batch/s]\n",
      "Valid: 100%|██████████| 137/137 [00:05<00:00, 26.97batch/s]\n"
     ]
    },
    {
     "name": "stdout",
     "output_type": "stream",
     "text": [
      "Epoch 4/6000, Train Loss: 0.8382, Train Coeff: -4.8511, Val Loss: 0.8725, Val Coeff: -5.0245, Time: 24.99 sec\n"
     ]
    },
    {
     "name": "stderr",
     "output_type": "stream",
     "text": [
      "Train: 100%|██████████| 137/137 [00:19<00:00,  6.91batch/s]\n",
      "Valid: 100%|██████████| 137/137 [00:05<00:00, 27.08batch/s]\n"
     ]
    },
    {
     "name": "stdout",
     "output_type": "stream",
     "text": [
      "Epoch 5/6000, Train Loss: 0.8334, Train Coeff: -4.6529, Val Loss: 0.8669, Val Coeff: -4.8628, Time: 24.91 sec\n"
     ]
    },
    {
     "name": "stderr",
     "output_type": "stream",
     "text": [
      "Train: 100%|██████████| 137/137 [00:19<00:00,  6.91batch/s]\n",
      "Valid: 100%|██████████| 137/137 [00:05<00:00, 27.09batch/s]\n"
     ]
    },
    {
     "name": "stdout",
     "output_type": "stream",
     "text": [
      "Epoch 6/6000, Train Loss: 0.8303, Train Coeff: -4.5652, Val Loss: 0.8721, Val Coeff: -4.4859, Time: 24.90 sec\n"
     ]
    },
    {
     "name": "stderr",
     "output_type": "stream",
     "text": [
      "Train: 100%|██████████| 137/137 [00:19<00:00,  6.91batch/s]\n",
      "Valid: 100%|██████████| 137/137 [00:05<00:00, 27.03batch/s]\n"
     ]
    },
    {
     "name": "stdout",
     "output_type": "stream",
     "text": [
      "Epoch 7/6000, Train Loss: 0.8265, Train Coeff: -4.3325, Val Loss: 0.8652, Val Coeff: -4.7851, Time: 24.91 sec\n"
     ]
    },
    {
     "name": "stderr",
     "output_type": "stream",
     "text": [
      "Train: 100%|██████████| 137/137 [00:19<00:00,  6.92batch/s]\n",
      "Valid: 100%|██████████| 137/137 [00:05<00:00, 26.99batch/s]\n"
     ]
    },
    {
     "name": "stdout",
     "output_type": "stream",
     "text": [
      "Epoch 8/6000, Train Loss: 0.8252, Train Coeff: -4.3210, Val Loss: 0.8629, Val Coeff: -4.7576, Time: 24.89 sec\n"
     ]
    },
    {
     "name": "stderr",
     "output_type": "stream",
     "text": [
      "Train: 100%|██████████| 137/137 [00:19<00:00,  6.91batch/s]\n",
      "Valid: 100%|██████████| 137/137 [00:05<00:00, 27.03batch/s]\n"
     ]
    },
    {
     "name": "stdout",
     "output_type": "stream",
     "text": [
      "Epoch 9/6000, Train Loss: 0.8244, Train Coeff: -4.3073, Val Loss: 0.8635, Val Coeff: -4.5288, Time: 24.91 sec\n"
     ]
    },
    {
     "name": "stderr",
     "output_type": "stream",
     "text": [
      "Train: 100%|██████████| 137/137 [00:19<00:00,  6.90batch/s]\n",
      "Valid: 100%|██████████| 137/137 [00:05<00:00, 26.98batch/s]\n"
     ]
    },
    {
     "name": "stdout",
     "output_type": "stream",
     "text": [
      "Epoch 10/6000, Train Loss: 0.8236, Train Coeff: -4.2954, Val Loss: 0.8639, Val Coeff: -4.5960, Time: 24.95 sec\n"
     ]
    },
    {
     "name": "stderr",
     "output_type": "stream",
     "text": [
      "Train: 100%|██████████| 137/137 [00:19<00:00,  6.89batch/s]\n",
      "Valid: 100%|██████████| 137/137 [00:05<00:00, 26.94batch/s]\n"
     ]
    },
    {
     "name": "stdout",
     "output_type": "stream",
     "text": [
      "Epoch 11/6000, Train Loss: 0.8234, Train Coeff: -4.2327, Val Loss: 0.8628, Val Coeff: -4.5954, Time: 24.98 sec\n"
     ]
    },
    {
     "name": "stderr",
     "output_type": "stream",
     "text": [
      "Train: 100%|██████████| 137/137 [00:19<00:00,  6.89batch/s]\n",
      "Valid: 100%|██████████| 137/137 [00:05<00:00, 27.08batch/s]\n"
     ]
    },
    {
     "name": "stdout",
     "output_type": "stream",
     "text": [
      "Epoch 12/6000, Train Loss: 0.8231, Train Coeff: -4.2201, Val Loss: 0.8624, Val Coeff: -4.6298, Time: 24.96 sec\n"
     ]
    },
    {
     "name": "stderr",
     "output_type": "stream",
     "text": [
      "Train: 100%|██████████| 137/137 [00:19<00:00,  6.89batch/s]\n",
      "Valid: 100%|██████████| 137/137 [00:05<00:00, 27.01batch/s]\n"
     ]
    },
    {
     "name": "stdout",
     "output_type": "stream",
     "text": [
      "Epoch 13/6000, Train Loss: 0.8230, Train Coeff: -4.2688, Val Loss: 0.8652, Val Coeff: -4.6206, Time: 24.96 sec\n"
     ]
    },
    {
     "name": "stderr",
     "output_type": "stream",
     "text": [
      "Train: 100%|██████████| 137/137 [00:19<00:00,  6.91batch/s]\n",
      "Valid: 100%|██████████| 137/137 [00:05<00:00, 27.09batch/s]\n"
     ]
    },
    {
     "name": "stdout",
     "output_type": "stream",
     "text": [
      "Epoch 14/6000, Train Loss: 0.8229, Train Coeff: -4.2427, Val Loss: 0.8618, Val Coeff: -4.6068, Time: 24.89 sec\n"
     ]
    },
    {
     "name": "stderr",
     "output_type": "stream",
     "text": [
      "Train: 100%|██████████| 137/137 [00:19<00:00,  6.95batch/s]\n",
      "Valid: 100%|██████████| 137/137 [00:05<00:00, 26.70batch/s]\n"
     ]
    },
    {
     "name": "stdout",
     "output_type": "stream",
     "text": [
      "Epoch 15/6000, Train Loss: 0.8232, Train Coeff: -4.2604, Val Loss: 0.8633, Val Coeff: -4.6061, Time: 24.86 sec\n"
     ]
    },
    {
     "name": "stderr",
     "output_type": "stream",
     "text": [
      "Train: 100%|██████████| 137/137 [00:19<00:00,  6.92batch/s]\n",
      "Valid: 100%|██████████| 137/137 [00:05<00:00, 26.66batch/s]\n"
     ]
    },
    {
     "name": "stdout",
     "output_type": "stream",
     "text": [
      "Epoch 16/6000, Train Loss: 0.8228, Train Coeff: -4.2361, Val Loss: 0.8645, Val Coeff: -4.5724, Time: 24.93 sec\n"
     ]
    },
    {
     "name": "stderr",
     "output_type": "stream",
     "text": [
      "Train: 100%|██████████| 137/137 [00:19<00:00,  6.94batch/s]\n",
      "Valid: 100%|██████████| 137/137 [00:05<00:00, 26.70batch/s]\n"
     ]
    },
    {
     "name": "stdout",
     "output_type": "stream",
     "text": [
      "Epoch 17/6000, Train Loss: 0.8228, Train Coeff: -4.2461, Val Loss: 0.8634, Val Coeff: -4.6469, Time: 24.89 sec\n"
     ]
    },
    {
     "name": "stderr",
     "output_type": "stream",
     "text": [
      "Train: 100%|██████████| 137/137 [00:19<00:00,  6.93batch/s]\n",
      "Valid: 100%|██████████| 137/137 [00:05<00:00, 26.61batch/s]\n"
     ]
    },
    {
     "name": "stdout",
     "output_type": "stream",
     "text": [
      "Epoch 18/6000, Train Loss: 0.8229, Train Coeff: -4.2444, Val Loss: 0.8636, Val Coeff: -4.6098, Time: 24.94 sec\n"
     ]
    },
    {
     "name": "stderr",
     "output_type": "stream",
     "text": [
      "Train: 100%|██████████| 137/137 [00:19<00:00,  6.92batch/s]\n",
      "Valid: 100%|██████████| 137/137 [00:05<00:00, 27.07batch/s]\n"
     ]
    },
    {
     "name": "stdout",
     "output_type": "stream",
     "text": [
      "Epoch 19/6000, Train Loss: 0.8230, Train Coeff: -4.2473, Val Loss: 0.8650, Val Coeff: -4.6299, Time: 24.87 sec\n"
     ]
    },
    {
     "name": "stderr",
     "output_type": "stream",
     "text": [
      "Train: 100%|██████████| 137/137 [00:19<00:00,  6.90batch/s]\n",
      "Valid: 100%|██████████| 137/137 [00:05<00:00, 27.06batch/s]\n"
     ]
    },
    {
     "name": "stdout",
     "output_type": "stream",
     "text": [
      "Epoch 20/6000, Train Loss: 0.8230, Train Coeff: -4.2470, Val Loss: 0.8621, Val Coeff: -4.6134, Time: 24.93 sec\n"
     ]
    },
    {
     "name": "stderr",
     "output_type": "stream",
     "text": [
      "Train: 100%|██████████| 137/137 [00:19<00:00,  6.88batch/s]\n",
      "Valid: 100%|██████████| 137/137 [00:05<00:00, 26.90batch/s]\n"
     ]
    },
    {
     "name": "stdout",
     "output_type": "stream",
     "text": [
      "Epoch 21/6000, Train Loss: 0.8230, Train Coeff: -4.2393, Val Loss: 0.8616, Val Coeff: -4.5980, Time: 25.00 sec\n"
     ]
    },
    {
     "name": "stderr",
     "output_type": "stream",
     "text": [
      "Train: 100%|██████████| 137/137 [00:19<00:00,  6.93batch/s]\n",
      "Valid: 100%|██████████| 137/137 [00:05<00:00, 27.02batch/s]\n"
     ]
    },
    {
     "name": "stdout",
     "output_type": "stream",
     "text": [
      "Epoch 22/6000, Train Loss: 0.8229, Train Coeff: -4.2591, Val Loss: 0.8635, Val Coeff: -4.6452, Time: 24.86 sec\n"
     ]
    },
    {
     "name": "stderr",
     "output_type": "stream",
     "text": [
      "Train: 100%|██████████| 137/137 [00:19<00:00,  6.92batch/s]\n",
      "Valid: 100%|██████████| 137/137 [00:05<00:00, 27.03batch/s]\n"
     ]
    },
    {
     "name": "stdout",
     "output_type": "stream",
     "text": [
      "Epoch 23/6000, Train Loss: 0.8228, Train Coeff: -4.2311, Val Loss: 0.8630, Val Coeff: -4.5630, Time: 24.88 sec\n"
     ]
    },
    {
     "name": "stderr",
     "output_type": "stream",
     "text": [
      "Train: 100%|██████████| 137/137 [00:19<00:00,  6.92batch/s]\n",
      "Valid: 100%|██████████| 137/137 [00:05<00:00, 27.14batch/s]\n"
     ]
    },
    {
     "name": "stdout",
     "output_type": "stream",
     "text": [
      "Epoch 24/6000, Train Loss: 0.8233, Train Coeff: -4.2409, Val Loss: 0.8622, Val Coeff: -4.6182, Time: 24.85 sec\n"
     ]
    },
    {
     "name": "stderr",
     "output_type": "stream",
     "text": [
      "Train: 100%|██████████| 137/137 [00:19<00:00,  6.94batch/s]\n",
      "Valid: 100%|██████████| 137/137 [00:05<00:00, 27.10batch/s]\n"
     ]
    },
    {
     "name": "stdout",
     "output_type": "stream",
     "text": [
      "Epoch 25/6000, Train Loss: 0.8227, Train Coeff: -4.2338, Val Loss: 0.8645, Val Coeff: -4.6185, Time: 24.82 sec\n"
     ]
    },
    {
     "name": "stderr",
     "output_type": "stream",
     "text": [
      "Train: 100%|██████████| 137/137 [00:19<00:00,  6.93batch/s]\n",
      "Valid: 100%|██████████| 137/137 [00:05<00:00, 27.13batch/s]\n"
     ]
    },
    {
     "name": "stdout",
     "output_type": "stream",
     "text": [
      "Epoch 26/6000, Train Loss: 0.8229, Train Coeff: -4.2613, Val Loss: 0.8630, Val Coeff: -4.6176, Time: 24.84 sec\n"
     ]
    },
    {
     "name": "stderr",
     "output_type": "stream",
     "text": [
      "Train: 100%|██████████| 137/137 [00:19<00:00,  6.93batch/s]\n",
      "Valid: 100%|██████████| 137/137 [00:05<00:00, 27.15batch/s]\n"
     ]
    },
    {
     "name": "stdout",
     "output_type": "stream",
     "text": [
      "Epoch 27/6000, Train Loss: 0.8228, Train Coeff: -4.2592, Val Loss: 0.8631, Val Coeff: -4.5853, Time: 24.84 sec\n"
     ]
    },
    {
     "name": "stderr",
     "output_type": "stream",
     "text": [
      "Train: 100%|██████████| 137/137 [00:19<00:00,  6.93batch/s]\n",
      "Valid: 100%|██████████| 137/137 [00:05<00:00, 27.09batch/s]\n"
     ]
    },
    {
     "name": "stdout",
     "output_type": "stream",
     "text": [
      "Epoch 28/6000, Train Loss: 0.8230, Train Coeff: -4.2472, Val Loss: 0.8655, Val Coeff: -4.6126, Time: 24.85 sec\n"
     ]
    },
    {
     "name": "stderr",
     "output_type": "stream",
     "text": [
      "Train: 100%|██████████| 137/137 [00:19<00:00,  6.92batch/s]\n",
      "Valid: 100%|██████████| 137/137 [00:05<00:00, 27.04batch/s]\n"
     ]
    },
    {
     "name": "stdout",
     "output_type": "stream",
     "text": [
      "Epoch 29/6000, Train Loss: 0.8229, Train Coeff: -4.2412, Val Loss: 0.8641, Val Coeff: -4.6680, Time: 24.87 sec\n"
     ]
    },
    {
     "name": "stderr",
     "output_type": "stream",
     "text": [
      "Train: 100%|██████████| 137/137 [00:19<00:00,  6.87batch/s]\n",
      "Valid: 100%|██████████| 137/137 [00:05<00:00, 26.92batch/s]\n"
     ]
    },
    {
     "name": "stdout",
     "output_type": "stream",
     "text": [
      "Epoch 30/6000, Train Loss: 0.8227, Train Coeff: -4.2339, Val Loss: 0.8623, Val Coeff: -4.6171, Time: 25.03 sec\n"
     ]
    },
    {
     "name": "stderr",
     "output_type": "stream",
     "text": [
      "Train: 100%|██████████| 137/137 [00:19<00:00,  6.88batch/s]\n",
      "Valid: 100%|██████████| 137/137 [00:05<00:00, 27.03batch/s]\n"
     ]
    },
    {
     "name": "stdout",
     "output_type": "stream",
     "text": [
      "Epoch 31/6000, Train Loss: 0.8229, Train Coeff: -4.2447, Val Loss: 0.8653, Val Coeff: -4.6291, Time: 24.99 sec\n"
     ]
    },
    {
     "name": "stderr",
     "output_type": "stream",
     "text": [
      "Train: 100%|██████████| 137/137 [00:19<00:00,  6.92batch/s]\n",
      "Valid: 100%|██████████| 137/137 [00:05<00:00, 27.07batch/s]\n"
     ]
    },
    {
     "name": "stdout",
     "output_type": "stream",
     "text": [
      "Epoch 32/6000, Train Loss: 0.8227, Train Coeff: -4.2359, Val Loss: 0.8623, Val Coeff: -4.5883, Time: 24.88 sec\n"
     ]
    },
    {
     "name": "stderr",
     "output_type": "stream",
     "text": [
      "Train: 100%|██████████| 137/137 [00:19<00:00,  6.92batch/s]\n",
      "Valid: 100%|██████████| 137/137 [00:05<00:00, 26.65batch/s]\n"
     ]
    },
    {
     "name": "stdout",
     "output_type": "stream",
     "text": [
      "Epoch 33/6000, Train Loss: 0.8227, Train Coeff: -4.2416, Val Loss: 0.8637, Val Coeff: -4.6066, Time: 24.95 sec\n"
     ]
    },
    {
     "name": "stderr",
     "output_type": "stream",
     "text": [
      "Train: 100%|██████████| 137/137 [00:19<00:00,  6.91batch/s]\n",
      "Valid: 100%|██████████| 137/137 [00:05<00:00, 26.54batch/s]\n"
     ]
    },
    {
     "name": "stdout",
     "output_type": "stream",
     "text": [
      "Epoch 34/6000, Train Loss: 0.8227, Train Coeff: -4.2400, Val Loss: 0.8654, Val Coeff: -4.5683, Time: 24.99 sec\n"
     ]
    },
    {
     "name": "stderr",
     "output_type": "stream",
     "text": [
      "Train: 100%|██████████| 137/137 [00:19<00:00,  6.92batch/s]\n",
      "Valid: 100%|██████████| 137/137 [00:05<00:00, 26.61batch/s]\n"
     ]
    },
    {
     "name": "stdout",
     "output_type": "stream",
     "text": [
      "Epoch 35/6000, Train Loss: 0.8229, Train Coeff: -4.2453, Val Loss: 0.8628, Val Coeff: -4.5875, Time: 24.96 sec\n"
     ]
    },
    {
     "name": "stderr",
     "output_type": "stream",
     "text": [
      "Train: 100%|██████████| 137/137 [00:19<00:00,  6.90batch/s]\n",
      "Valid: 100%|██████████| 137/137 [00:05<00:00, 26.57batch/s]\n"
     ]
    },
    {
     "name": "stdout",
     "output_type": "stream",
     "text": [
      "Epoch 36/6000, Train Loss: 0.8229, Train Coeff: -4.2480, Val Loss: 0.8644, Val Coeff: -4.6192, Time: 25.02 sec\n"
     ]
    },
    {
     "name": "stderr",
     "output_type": "stream",
     "text": [
      "Train: 100%|██████████| 137/137 [00:19<00:00,  6.91batch/s]\n",
      "Valid: 100%|██████████| 137/137 [00:05<00:00, 26.51batch/s]\n"
     ]
    },
    {
     "name": "stdout",
     "output_type": "stream",
     "text": [
      "Epoch 37/6000, Train Loss: 0.8227, Train Coeff: -4.2505, Val Loss: 0.8621, Val Coeff: -4.6306, Time: 25.00 sec\n"
     ]
    },
    {
     "name": "stderr",
     "output_type": "stream",
     "text": [
      "Train: 100%|██████████| 137/137 [00:19<00:00,  6.93batch/s]\n",
      "Valid: 100%|██████████| 137/137 [00:05<00:00, 26.48batch/s]\n"
     ]
    },
    {
     "name": "stdout",
     "output_type": "stream",
     "text": [
      "Epoch 38/6000, Train Loss: 0.8231, Train Coeff: -4.2451, Val Loss: 0.8645, Val Coeff: -4.6022, Time: 24.96 sec\n"
     ]
    },
    {
     "name": "stderr",
     "output_type": "stream",
     "text": [
      "Train: 100%|██████████| 137/137 [00:19<00:00,  6.93batch/s]\n",
      "Valid: 100%|██████████| 137/137 [00:05<00:00, 26.65batch/s]\n"
     ]
    },
    {
     "name": "stdout",
     "output_type": "stream",
     "text": [
      "Epoch 39/6000, Train Loss: 0.8228, Train Coeff: -4.2570, Val Loss: 0.8654, Val Coeff: -4.6747, Time: 24.92 sec\n"
     ]
    },
    {
     "name": "stderr",
     "output_type": "stream",
     "text": [
      "Train: 100%|██████████| 137/137 [00:19<00:00,  6.87batch/s]\n",
      "Valid: 100%|██████████| 137/137 [00:05<00:00, 26.91batch/s]\n"
     ]
    },
    {
     "name": "stdout",
     "output_type": "stream",
     "text": [
      "Epoch 40/6000, Train Loss: 0.8229, Train Coeff: -4.2491, Val Loss: 0.8628, Val Coeff: -4.5884, Time: 25.05 sec\n"
     ]
    },
    {
     "name": "stderr",
     "output_type": "stream",
     "text": [
      "Train: 100%|██████████| 137/137 [00:19<00:00,  6.89batch/s]\n",
      "Valid: 100%|██████████| 137/137 [00:05<00:00, 27.01batch/s]\n"
     ]
    },
    {
     "name": "stdout",
     "output_type": "stream",
     "text": [
      "Epoch 41/6000, Train Loss: 0.8229, Train Coeff: -4.2356, Val Loss: 0.8645, Val Coeff: -4.6362, Time: 24.97 sec\n"
     ]
    },
    {
     "name": "stderr",
     "output_type": "stream",
     "text": [
      "Train: 100%|██████████| 137/137 [00:19<00:00,  6.86batch/s]\n",
      "Valid: 100%|██████████| 137/137 [00:05<00:00, 26.88batch/s]\n"
     ]
    },
    {
     "name": "stdout",
     "output_type": "stream",
     "text": [
      "Epoch 42/6000, Train Loss: 0.8228, Train Coeff: -4.2582, Val Loss: 0.8631, Val Coeff: -4.6177, Time: 25.07 sec\n"
     ]
    },
    {
     "name": "stderr",
     "output_type": "stream",
     "text": [
      "Train: 100%|██████████| 137/137 [00:19<00:00,  6.89batch/s]\n",
      "Valid: 100%|██████████| 137/137 [00:05<00:00, 26.94batch/s]\n"
     ]
    },
    {
     "name": "stdout",
     "output_type": "stream",
     "text": [
      "Epoch 43/6000, Train Loss: 0.8233, Train Coeff: -4.2588, Val Loss: 0.8623, Val Coeff: -4.6042, Time: 24.98 sec\n"
     ]
    },
    {
     "name": "stderr",
     "output_type": "stream",
     "text": [
      "Train: 100%|██████████| 137/137 [00:19<00:00,  6.89batch/s]\n",
      "Valid: 100%|██████████| 137/137 [00:05<00:00, 26.95batch/s]\n"
     ]
    },
    {
     "name": "stdout",
     "output_type": "stream",
     "text": [
      "Epoch 44/6000, Train Loss: 0.8230, Train Coeff: -4.2475, Val Loss: 0.8621, Val Coeff: -4.5981, Time: 24.97 sec\n"
     ]
    },
    {
     "name": "stderr",
     "output_type": "stream",
     "text": [
      "Train: 100%|██████████| 137/137 [00:19<00:00,  6.90batch/s]\n",
      "Valid: 100%|██████████| 137/137 [00:05<00:00, 26.91batch/s]\n"
     ]
    },
    {
     "name": "stdout",
     "output_type": "stream",
     "text": [
      "Epoch 45/6000, Train Loss: 0.8227, Train Coeff: -4.2523, Val Loss: 0.8646, Val Coeff: -4.5749, Time: 24.96 sec\n"
     ]
    },
    {
     "name": "stderr",
     "output_type": "stream",
     "text": [
      "Train: 100%|██████████| 137/137 [00:19<00:00,  6.90batch/s]\n",
      "Valid: 100%|██████████| 137/137 [00:05<00:00, 26.95batch/s]\n"
     ]
    },
    {
     "name": "stdout",
     "output_type": "stream",
     "text": [
      "Epoch 46/6000, Train Loss: 0.8229, Train Coeff: -4.2474, Val Loss: 0.8666, Val Coeff: -4.6177, Time: 24.96 sec\n"
     ]
    },
    {
     "name": "stderr",
     "output_type": "stream",
     "text": [
      "Train: 100%|██████████| 137/137 [00:19<00:00,  6.88batch/s]\n",
      "Valid: 100%|██████████| 137/137 [00:05<00:00, 26.75batch/s]\n"
     ]
    },
    {
     "name": "stdout",
     "output_type": "stream",
     "text": [
      "Epoch 47/6000, Train Loss: 0.8228, Train Coeff: -4.2418, Val Loss: 0.8738, Val Coeff: -4.6770, Time: 25.05 sec\n"
     ]
    },
    {
     "name": "stderr",
     "output_type": "stream",
     "text": [
      "Train: 100%|██████████| 137/137 [00:19<00:00,  6.87batch/s]\n",
      "Valid: 100%|██████████| 137/137 [00:05<00:00, 26.98batch/s]\n"
     ]
    },
    {
     "name": "stdout",
     "output_type": "stream",
     "text": [
      "Epoch 48/6000, Train Loss: 0.8227, Train Coeff: -4.2335, Val Loss: 0.8644, Val Coeff: -4.6232, Time: 25.02 sec\n"
     ]
    },
    {
     "name": "stderr",
     "output_type": "stream",
     "text": [
      "Train: 100%|██████████| 137/137 [00:19<00:00,  6.86batch/s]\n",
      "Valid: 100%|██████████| 137/137 [00:05<00:00, 26.73batch/s]\n"
     ]
    },
    {
     "name": "stdout",
     "output_type": "stream",
     "text": [
      "Epoch 49/6000, Train Loss: 0.8230, Train Coeff: -4.2455, Val Loss: 0.8625, Val Coeff: -4.6332, Time: 25.10 sec\n"
     ]
    },
    {
     "name": "stderr",
     "output_type": "stream",
     "text": [
      "Train: 100%|██████████| 137/137 [00:19<00:00,  6.90batch/s]\n",
      "Valid: 100%|██████████| 137/137 [00:05<00:00, 26.98batch/s]\n"
     ]
    },
    {
     "name": "stdout",
     "output_type": "stream",
     "text": [
      "Epoch 50/6000, Train Loss: 0.8229, Train Coeff: -4.2472, Val Loss: 0.8630, Val Coeff: -4.5896, Time: 24.94 sec\n"
     ]
    },
    {
     "name": "stderr",
     "output_type": "stream",
     "text": [
      "Train: 100%|██████████| 137/137 [00:19<00:00,  6.89batch/s]\n",
      "Valid: 100%|██████████| 137/137 [00:05<00:00, 26.90batch/s]\n"
     ]
    },
    {
     "name": "stdout",
     "output_type": "stream",
     "text": [
      "Epoch 51/6000, Train Loss: 0.8227, Train Coeff: -4.2488, Val Loss: 0.8632, Val Coeff: -4.5851, Time: 24.99 sec\n"
     ]
    },
    {
     "name": "stderr",
     "output_type": "stream",
     "text": [
      "Train: 100%|██████████| 137/137 [00:19<00:00,  6.88batch/s]\n",
      "Valid: 100%|██████████| 137/137 [00:05<00:00, 26.92batch/s]\n"
     ]
    },
    {
     "name": "stdout",
     "output_type": "stream",
     "text": [
      "Epoch 52/6000, Train Loss: 0.8230, Train Coeff: -4.2488, Val Loss: 0.8627, Val Coeff: -4.5762, Time: 25.00 sec\n"
     ]
    },
    {
     "name": "stderr",
     "output_type": "stream",
     "text": [
      "Train: 100%|██████████| 137/137 [00:19<00:00,  6.88batch/s]\n",
      "Valid: 100%|██████████| 137/137 [00:05<00:00, 26.94batch/s]\n"
     ]
    },
    {
     "name": "stdout",
     "output_type": "stream",
     "text": [
      "Epoch 53/6000, Train Loss: 0.8228, Train Coeff: -4.2483, Val Loss: 0.8639, Val Coeff: -4.6482, Time: 25.00 sec\n"
     ]
    },
    {
     "name": "stderr",
     "output_type": "stream",
     "text": [
      "Train: 100%|██████████| 137/137 [00:19<00:00,  6.87batch/s]\n",
      "Valid: 100%|██████████| 137/137 [00:05<00:00, 26.96batch/s]\n"
     ]
    },
    {
     "name": "stdout",
     "output_type": "stream",
     "text": [
      "Epoch 54/6000, Train Loss: 0.8230, Train Coeff: -4.2485, Val Loss: 0.8644, Val Coeff: -4.6197, Time: 25.03 sec\n"
     ]
    },
    {
     "name": "stderr",
     "output_type": "stream",
     "text": [
      "Train: 100%|██████████| 137/137 [00:19<00:00,  6.89batch/s]\n",
      "Valid: 100%|██████████| 137/137 [00:05<00:00, 26.87batch/s]\n"
     ]
    },
    {
     "name": "stdout",
     "output_type": "stream",
     "text": [
      "Epoch 55/6000, Train Loss: 0.8230, Train Coeff: -4.2529, Val Loss: 0.8629, Val Coeff: -4.5552, Time: 25.00 sec\n"
     ]
    },
    {
     "name": "stderr",
     "output_type": "stream",
     "text": [
      "Train: 100%|██████████| 137/137 [00:19<00:00,  6.90batch/s]\n",
      "Valid: 100%|██████████| 137/137 [00:05<00:00, 26.92batch/s]\n"
     ]
    },
    {
     "name": "stdout",
     "output_type": "stream",
     "text": [
      "Epoch 56/6000, Train Loss: 0.8230, Train Coeff: -4.2375, Val Loss: 0.8629, Val Coeff: -4.6303, Time: 24.96 sec\n"
     ]
    },
    {
     "name": "stderr",
     "output_type": "stream",
     "text": [
      "Train: 100%|██████████| 137/137 [00:19<00:00,  6.90batch/s]\n",
      "Valid: 100%|██████████| 137/137 [00:05<00:00, 26.61batch/s]\n"
     ]
    },
    {
     "name": "stdout",
     "output_type": "stream",
     "text": [
      "Epoch 57/6000, Train Loss: 0.8229, Train Coeff: -4.2371, Val Loss: 0.8625, Val Coeff: -4.5925, Time: 25.01 sec\n"
     ]
    },
    {
     "name": "stderr",
     "output_type": "stream",
     "text": [
      "Train: 100%|██████████| 137/137 [00:19<00:00,  6.90batch/s]\n",
      "Valid: 100%|██████████| 137/137 [00:05<00:00, 26.36batch/s]\n"
     ]
    },
    {
     "name": "stdout",
     "output_type": "stream",
     "text": [
      "Epoch 58/6000, Train Loss: 0.8227, Train Coeff: -4.2523, Val Loss: 0.8616, Val Coeff: -4.5785, Time: 25.05 sec\n"
     ]
    },
    {
     "name": "stderr",
     "output_type": "stream",
     "text": [
      "Train: 100%|██████████| 137/137 [00:19<00:00,  6.88batch/s]\n",
      "Valid: 100%|██████████| 137/137 [00:05<00:00, 26.47batch/s]\n"
     ]
    },
    {
     "name": "stdout",
     "output_type": "stream",
     "text": [
      "Epoch 59/6000, Train Loss: 0.8227, Train Coeff: -4.2496, Val Loss: 0.8649, Val Coeff: -4.5611, Time: 25.10 sec\n"
     ]
    },
    {
     "name": "stderr",
     "output_type": "stream",
     "text": [
      "Train: 100%|██████████| 137/137 [00:19<00:00,  6.91batch/s]\n",
      "Valid: 100%|██████████| 137/137 [00:05<00:00, 26.65batch/s]\n"
     ]
    },
    {
     "name": "stdout",
     "output_type": "stream",
     "text": [
      "Epoch 60/6000, Train Loss: 0.8228, Train Coeff: -4.2454, Val Loss: 0.8654, Val Coeff: -4.6119, Time: 24.97 sec\n"
     ]
    },
    {
     "name": "stderr",
     "output_type": "stream",
     "text": [
      "Train: 100%|██████████| 137/137 [00:19<00:00,  6.90batch/s]\n",
      "Valid: 100%|██████████| 137/137 [00:05<00:00, 26.31batch/s]\n"
     ]
    },
    {
     "name": "stdout",
     "output_type": "stream",
     "text": [
      "Epoch 61/6000, Train Loss: 0.8230, Train Coeff: -4.2484, Val Loss: 0.8634, Val Coeff: -4.6511, Time: 25.08 sec\n"
     ]
    },
    {
     "name": "stderr",
     "output_type": "stream",
     "text": [
      "Train: 100%|██████████| 137/137 [00:19<00:00,  6.91batch/s]\n",
      "Valid: 100%|██████████| 137/137 [00:05<00:00, 26.99batch/s]\n"
     ]
    },
    {
     "name": "stdout",
     "output_type": "stream",
     "text": [
      "Epoch 62/6000, Train Loss: 0.8229, Train Coeff: -4.2446, Val Loss: 0.8621, Val Coeff: -4.5741, Time: 24.92 sec\n"
     ]
    },
    {
     "name": "stderr",
     "output_type": "stream",
     "text": [
      "Train: 100%|██████████| 137/137 [00:19<00:00,  6.89batch/s]\n",
      "Valid: 100%|██████████| 137/137 [00:05<00:00, 27.06batch/s]\n"
     ]
    },
    {
     "name": "stdout",
     "output_type": "stream",
     "text": [
      "Epoch 63/6000, Train Loss: 0.8232, Train Coeff: -4.2504, Val Loss: 0.8634, Val Coeff: -4.6732, Time: 24.94 sec\n"
     ]
    },
    {
     "name": "stderr",
     "output_type": "stream",
     "text": [
      "Train: 100%|██████████| 137/137 [00:19<00:00,  6.88batch/s]\n",
      "Valid: 100%|██████████| 137/137 [00:05<00:00, 27.00batch/s]\n"
     ]
    },
    {
     "name": "stdout",
     "output_type": "stream",
     "text": [
      "Epoch 64/6000, Train Loss: 0.8228, Train Coeff: -4.2541, Val Loss: 0.8611, Val Coeff: -4.5565, Time: 24.98 sec\n"
     ]
    },
    {
     "name": "stderr",
     "output_type": "stream",
     "text": [
      "Train: 100%|██████████| 137/137 [00:19<00:00,  6.91batch/s]\n",
      "Valid: 100%|██████████| 137/137 [00:05<00:00, 26.98batch/s]\n"
     ]
    },
    {
     "name": "stdout",
     "output_type": "stream",
     "text": [
      "Epoch 65/6000, Train Loss: 0.8228, Train Coeff: -4.2499, Val Loss: 0.8632, Val Coeff: -4.6021, Time: 24.91 sec\n"
     ]
    },
    {
     "name": "stderr",
     "output_type": "stream",
     "text": [
      "Train: 100%|██████████| 137/137 [00:19<00:00,  6.90batch/s]\n",
      "Valid: 100%|██████████| 137/137 [00:05<00:00, 27.00batch/s]\n"
     ]
    },
    {
     "name": "stdout",
     "output_type": "stream",
     "text": [
      "Epoch 66/6000, Train Loss: 0.8229, Train Coeff: -4.2650, Val Loss: 0.8685, Val Coeff: -4.6354, Time: 24.94 sec\n"
     ]
    },
    {
     "name": "stderr",
     "output_type": "stream",
     "text": [
      "Train: 100%|██████████| 137/137 [00:19<00:00,  6.89batch/s]\n",
      "Valid: 100%|██████████| 137/137 [00:05<00:00, 26.96batch/s]\n"
     ]
    },
    {
     "name": "stdout",
     "output_type": "stream",
     "text": [
      "Epoch 67/6000, Train Loss: 0.8228, Train Coeff: -4.2573, Val Loss: 0.8652, Val Coeff: -4.6494, Time: 24.97 sec\n"
     ]
    },
    {
     "name": "stderr",
     "output_type": "stream",
     "text": [
      "Train: 100%|██████████| 137/137 [00:20<00:00,  6.85batch/s]\n",
      "Valid: 100%|██████████| 137/137 [00:05<00:00, 26.98batch/s]\n"
     ]
    },
    {
     "name": "stdout",
     "output_type": "stream",
     "text": [
      "Epoch 68/6000, Train Loss: 0.8227, Train Coeff: -4.2368, Val Loss: 0.8626, Val Coeff: -4.6277, Time: 25.09 sec\n"
     ]
    },
    {
     "name": "stderr",
     "output_type": "stream",
     "text": [
      "Train: 100%|██████████| 137/137 [00:19<00:00,  6.88batch/s]\n",
      "Valid: 100%|██████████| 137/137 [00:05<00:00, 26.90batch/s]\n"
     ]
    },
    {
     "name": "stdout",
     "output_type": "stream",
     "text": [
      "Epoch 69/6000, Train Loss: 0.8227, Train Coeff: -4.2435, Val Loss: 0.8628, Val Coeff: -4.6577, Time: 25.02 sec\n"
     ]
    },
    {
     "name": "stderr",
     "output_type": "stream",
     "text": [
      "Train: 100%|██████████| 137/137 [00:19<00:00,  6.88batch/s]\n",
      "Valid: 100%|██████████| 137/137 [00:05<00:00, 26.91batch/s]\n"
     ]
    },
    {
     "name": "stdout",
     "output_type": "stream",
     "text": [
      "Epoch 70/6000, Train Loss: 0.8227, Train Coeff: -4.2532, Val Loss: 0.8645, Val Coeff: -4.6527, Time: 25.01 sec\n"
     ]
    },
    {
     "name": "stderr",
     "output_type": "stream",
     "text": [
      "Train: 100%|██████████| 137/137 [00:19<00:00,  6.88batch/s]\n",
      "Valid: 100%|██████████| 137/137 [00:05<00:00, 26.94batch/s]\n"
     ]
    },
    {
     "name": "stdout",
     "output_type": "stream",
     "text": [
      "Epoch 71/6000, Train Loss: 0.8230, Train Coeff: -4.2387, Val Loss: 0.8656, Val Coeff: -4.6263, Time: 25.00 sec\n"
     ]
    },
    {
     "name": "stderr",
     "output_type": "stream",
     "text": [
      "Train: 100%|██████████| 137/137 [00:19<00:00,  6.88batch/s]\n",
      "Valid: 100%|██████████| 137/137 [00:05<00:00, 26.99batch/s]\n"
     ]
    },
    {
     "name": "stdout",
     "output_type": "stream",
     "text": [
      "Epoch 72/6000, Train Loss: 0.8228, Train Coeff: -4.2522, Val Loss: 0.8631, Val Coeff: -4.6129, Time: 25.00 sec\n"
     ]
    },
    {
     "name": "stderr",
     "output_type": "stream",
     "text": [
      "Train: 100%|██████████| 137/137 [00:19<00:00,  6.88batch/s]\n",
      "Valid: 100%|██████████| 137/137 [00:05<00:00, 26.94batch/s]\n"
     ]
    },
    {
     "name": "stdout",
     "output_type": "stream",
     "text": [
      "Epoch 73/6000, Train Loss: 0.8230, Train Coeff: -4.2322, Val Loss: 0.8638, Val Coeff: -4.6789, Time: 25.00 sec\n"
     ]
    },
    {
     "name": "stderr",
     "output_type": "stream",
     "text": [
      "Train: 100%|██████████| 137/137 [00:19<00:00,  6.89batch/s]\n",
      "Valid: 100%|██████████| 137/137 [00:05<00:00, 26.99batch/s]\n"
     ]
    },
    {
     "name": "stdout",
     "output_type": "stream",
     "text": [
      "Epoch 74/6000, Train Loss: 0.8228, Train Coeff: -4.2389, Val Loss: 0.8632, Val Coeff: -4.5812, Time: 24.98 sec\n"
     ]
    },
    {
     "name": "stderr",
     "output_type": "stream",
     "text": [
      "Train: 100%|██████████| 137/137 [00:19<00:00,  6.90batch/s]\n",
      "Valid: 100%|██████████| 137/137 [00:05<00:00, 26.86batch/s]\n"
     ]
    },
    {
     "name": "stdout",
     "output_type": "stream",
     "text": [
      "Epoch 75/6000, Train Loss: 0.8229, Train Coeff: -4.2482, Val Loss: 0.8644, Val Coeff: -4.6539, Time: 24.97 sec\n"
     ]
    },
    {
     "name": "stderr",
     "output_type": "stream",
     "text": [
      "Train: 100%|██████████| 137/137 [00:19<00:00,  6.88batch/s]\n",
      "Valid: 100%|██████████| 137/137 [00:05<00:00, 26.92batch/s]\n"
     ]
    },
    {
     "name": "stdout",
     "output_type": "stream",
     "text": [
      "Epoch 76/6000, Train Loss: 0.8229, Train Coeff: -4.2414, Val Loss: 0.8629, Val Coeff: -4.6245, Time: 25.02 sec\n"
     ]
    },
    {
     "name": "stderr",
     "output_type": "stream",
     "text": [
      "Train: 100%|██████████| 137/137 [00:19<00:00,  6.85batch/s]\n",
      "Valid: 100%|██████████| 137/137 [00:05<00:00, 26.83batch/s]\n"
     ]
    },
    {
     "name": "stdout",
     "output_type": "stream",
     "text": [
      "Epoch 77/6000, Train Loss: 0.8230, Train Coeff: -4.2423, Val Loss: 0.8690, Val Coeff: -4.6657, Time: 25.10 sec\n"
     ]
    },
    {
     "name": "stderr",
     "output_type": "stream",
     "text": [
      "Train: 100%|██████████| 137/137 [00:19<00:00,  6.90batch/s]\n",
      "Valid: 100%|██████████| 137/137 [00:05<00:00, 26.95batch/s]\n"
     ]
    },
    {
     "name": "stdout",
     "output_type": "stream",
     "text": [
      "Epoch 78/6000, Train Loss: 0.8229, Train Coeff: -4.2551, Val Loss: 0.8622, Val Coeff: -4.6175, Time: 24.96 sec\n"
     ]
    },
    {
     "name": "stderr",
     "output_type": "stream",
     "text": [
      "Train: 100%|██████████| 137/137 [00:19<00:00,  6.89batch/s]\n",
      "Valid: 100%|██████████| 137/137 [00:05<00:00, 26.93batch/s]\n"
     ]
    },
    {
     "name": "stdout",
     "output_type": "stream",
     "text": [
      "Epoch 79/6000, Train Loss: 0.8229, Train Coeff: -4.2424, Val Loss: 0.8665, Val Coeff: -4.5638, Time: 24.97 sec\n"
     ]
    },
    {
     "name": "stderr",
     "output_type": "stream",
     "text": [
      "Train: 100%|██████████| 137/137 [00:19<00:00,  6.89batch/s]\n",
      "Valid: 100%|██████████| 137/137 [00:05<00:00, 26.99batch/s]\n"
     ]
    },
    {
     "name": "stdout",
     "output_type": "stream",
     "text": [
      "Epoch 80/6000, Train Loss: 0.8228, Train Coeff: -4.2475, Val Loss: 0.8723, Val Coeff: -4.6994, Time: 24.97 sec\n"
     ]
    },
    {
     "name": "stderr",
     "output_type": "stream",
     "text": [
      "Train: 100%|██████████| 137/137 [00:19<00:00,  6.91batch/s]\n",
      "Valid: 100%|██████████| 137/137 [00:05<00:00, 26.67batch/s]\n"
     ]
    },
    {
     "name": "stdout",
     "output_type": "stream",
     "text": [
      "Epoch 81/6000, Train Loss: 0.8229, Train Coeff: -4.2473, Val Loss: 0.8618, Val Coeff: -4.5968, Time: 24.97 sec\n"
     ]
    },
    {
     "name": "stderr",
     "output_type": "stream",
     "text": [
      "Train: 100%|██████████| 137/137 [00:19<00:00,  6.94batch/s]\n",
      "Valid: 100%|██████████| 137/137 [00:05<00:00, 26.55batch/s]\n"
     ]
    },
    {
     "name": "stdout",
     "output_type": "stream",
     "text": [
      "Epoch 82/6000, Train Loss: 0.8228, Train Coeff: -4.2515, Val Loss: 0.8619, Val Coeff: -4.6136, Time: 24.92 sec\n"
     ]
    },
    {
     "name": "stderr",
     "output_type": "stream",
     "text": [
      "Train: 100%|██████████| 137/137 [00:19<00:00,  6.92batch/s]\n",
      "Valid: 100%|██████████| 137/137 [00:05<00:00, 26.59batch/s]\n"
     ]
    },
    {
     "name": "stdout",
     "output_type": "stream",
     "text": [
      "Epoch 83/6000, Train Loss: 0.8229, Train Coeff: -4.2579, Val Loss: 0.8629, Val Coeff: -4.5923, Time: 24.95 sec\n"
     ]
    },
    {
     "name": "stderr",
     "output_type": "stream",
     "text": [
      "Train: 100%|██████████| 137/137 [00:19<00:00,  6.90batch/s]\n",
      "Valid: 100%|██████████| 137/137 [00:05<00:00, 26.62batch/s]\n"
     ]
    },
    {
     "name": "stdout",
     "output_type": "stream",
     "text": [
      "Epoch 84/6000, Train Loss: 0.8231, Train Coeff: -4.2419, Val Loss: 0.8677, Val Coeff: -4.6536, Time: 25.01 sec\n"
     ]
    },
    {
     "name": "stderr",
     "output_type": "stream",
     "text": [
      "Train:  96%|█████████▌| 131/137 [00:18<00:00,  6.97batch/s]"
     ]
    }
   ],
   "source": [
    "epochs = 6000\n",
    "best_loss = float('inf')\n",
    "PATH = f\"./best_model_{dt_name}.pt\"\n",
    "\n",
    "early_stopper = EarlyStopper(patience=300, path=PATH)\n",
    "history = {\n",
    "    \"train_loss\": [],\n",
    "    \"val_loss\": [],\n",
    "    \"train_coefficient\": [],\n",
    "    \"val_coefficient\": [],\n",
    "    \"learning_rates\": [],\n",
    "    \"epoch_times\": []\n",
    "}\n",
    "\n",
    "\n",
    "for epoch in range(epochs):\n",
    "    start_time = time.time()\n",
    "    model.train()\n",
    "    Loss_train = 0 \n",
    "    coeff_train = 0\n",
    "\n",
    "    with tqdm(train_loader, unit=\"batch\") as trainer:\n",
    "        for batch in trainer:\n",
    "            trainer.set_description(\"Train\")\n",
    "            train_feat = batch[:, 0:-1].to(device)\n",
    "            train_labs = batch[:, -1].to(device)\n",
    "            train_pred = model(train_feat).squeeze()\n",
    "            train_loss = torch.nn.functional.mse_loss(train_pred, train_labs)\n",
    "            train_coef = coeff_determination(train_pred, train_labs) \n",
    "\n",
    "            optimizer.zero_grad()\n",
    "            train_loss.backward()\n",
    "            optimizer.step()\n",
    "\n",
    "            Loss_train += train_loss.item()\n",
    "            coeff_train += train_coef.item()\n",
    "\n",
    "        Loss_train /= len(trainer)\n",
    "        coeff_train /= len(trainer)\n",
    "\n",
    "    model.eval()\n",
    "    Loss_val = 0\n",
    "    coeff_val = 0\n",
    "    with tqdm(val_loader, unit=\"batch\") as validator:\n",
    "        for batch in validator:\n",
    "            validator.set_description(\"Valid\")\n",
    "            val_feat = batch[:, 0:-1].to(device)\n",
    "            val_labs = batch[:, -1].to(device)\n",
    "            val_pred = model(val_feat).squeeze()\n",
    "            val_loss = torch.nn.functional.mse_loss(val_pred, val_labs)\n",
    "            val_coef = coeff_determination(val_pred, val_labs) \n",
    "\n",
    "            Loss_val += val_loss.item()\n",
    "            coeff_val += val_coef.item()\n",
    "\n",
    "        Loss_val /= len(validator)\n",
    "        coeff_val /= len(validator)\n",
    "    \n",
    "    scheduler.step()\n",
    "    current_lr = optimizer.param_groups[0]['lr']\n",
    "    history[\"learning_rates\"].append(current_lr)\n",
    "    \n",
    "    epoch_duration = time.time() - start_time\n",
    "\n",
    "    history[\"train_loss\"].append(Loss_train)\n",
    "    history[\"val_loss\"].append(Loss_val)\n",
    "    history[\"train_coefficient\"].append(coeff_train)\n",
    "    history[\"val_coefficient\"].append(coeff_val)\n",
    "    history[\"learning_rates\"].append(optimizer.param_groups[0]['lr'])\n",
    "    history[\"epoch_times\"].append(epoch_duration)\n",
    "\n",
    "    if early_stopper.early_stop(model.state_dict(), Loss_val):             \n",
    "        print(\"Early stopping...\")\n",
    "        break\n",
    "    \n",
    "    print(f\"Epoch {epoch + 1}/{epochs}, Train Loss: {Loss_train:.4f}, Train Coeff: {coeff_train:.4f}, \"\n",
    "          f\"Val Loss: {Loss_val:.4f}, Val Coeff: {coeff_val:.4f}, Time: {epoch_duration:.2f} sec\")\n",
    "\n",
    "    \n",
    "with open(f\"training_history_{dt_name}.json\", \"w\") as f:\n",
    "    json.dump(history, f)\n",
    "    \n",
    "print(f\"Training history saved to 'training_history_{dt_name}.json'\")\n",
    "\n",
    "data_iter = iter(train_loader)\n",
    "next(data_iter)[:,0:-1]\n",
    "\n",
    "traced_script_module = torch.jit.trace(model, next(data_iter)[:,0:-1].to(device))\n",
    "traced_script_module.save(f\"traced_model_{dt_name}.pt\")\n",
    "\n",
    "print(f\"Training history saved to 'traced_model_{dt_name}.pt'\")"
   ]
  },
  {
   "cell_type": "code",
   "execution_count": null,
   "id": "0f10d2ba",
   "metadata": {},
   "outputs": [],
   "source": []
  },
  {
   "cell_type": "code",
   "execution_count": null,
   "id": "e472e959",
   "metadata": {},
   "outputs": [],
   "source": []
  }
 ],
 "metadata": {
  "kernelspec": {
   "display_name": "Python 3 (ipykernel)",
   "language": "python",
   "name": "python3"
  },
  "language_info": {
   "codemirror_mode": {
    "name": "ipython",
    "version": 3
   },
   "file_extension": ".py",
   "mimetype": "text/x-python",
   "name": "python",
   "nbconvert_exporter": "python",
   "pygments_lexer": "ipython3",
   "version": "3.8.10"
  }
 },
 "nbformat": 4,
 "nbformat_minor": 5
}
