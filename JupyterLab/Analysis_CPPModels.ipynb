{
 "cells": [
  {
   "cell_type": "code",
   "execution_count": null,
   "id": "6d783e00",
   "metadata": {},
   "outputs": [],
   "source": [
    "import numpy as np\n",
    "import pandas as pd\n",
    "import matplotlib.pyplot as plt\n",
    "import seaborn as sns\n",
    "import torch\n",
    "import torch.nn as nn\n",
    "from torch.optim.lr_scheduler import StepLR\n",
    "from tqdm import tqdm\n",
    "import sys\n",
    "\n",
    "sys_epsilon = sys.float_info.epsilon"
   ]
  },
  {
   "cell_type": "code",
   "execution_count": 2,
   "id": "01b9b73f",
   "metadata": {},
   "outputs": [],
   "source": [
    "headers = [\"t\", \"Ux\", \"Uy\", \"Uz\", \n",
    "           \"G1\", \"G2\", \"G3\", \"G4\", \"G5\", \"G6\", \n",
    "           \"S1\", \"S2\", \"S3\", \"S4\", \"S5\", \"S6\", \n",
    "           \"UUp1\", \"UUp2\", \"UUp3\", \"UUp4\", \"UUp5\", \"UUp6\", \n",
    "           \"Cs\"]\n",
    "\n",
    "R103 = pd.read_csv('./datasets/fieldData_R103_norm.txt', sep=' ', names=headers)\n",
    "R503 = pd.read_csv('./datasets/fieldData_R503_norm.txt', sep=' ', names=headers)\n",
    "R104 = pd.read_csv('./datasets/fieldData_R104_norm.txt', sep=' ', names=headers)"
   ]
  },
  {
   "cell_type": "code",
   "execution_count": 3,
   "id": "5ab61fbf",
   "metadata": {},
   "outputs": [
    {
     "data": {
      "text/html": [
       "<div>\n",
       "<style scoped>\n",
       "    .dataframe tbody tr th:only-of-type {\n",
       "        vertical-align: middle;\n",
       "    }\n",
       "\n",
       "    .dataframe tbody tr th {\n",
       "        vertical-align: top;\n",
       "    }\n",
       "\n",
       "    .dataframe thead th {\n",
       "        text-align: right;\n",
       "    }\n",
       "</style>\n",
       "<table border=\"1\" class=\"dataframe\">\n",
       "  <thead>\n",
       "    <tr style=\"text-align: right;\">\n",
       "      <th></th>\n",
       "      <th>t</th>\n",
       "      <th>Ux</th>\n",
       "      <th>Uy</th>\n",
       "      <th>Uz</th>\n",
       "      <th>G1</th>\n",
       "      <th>G2</th>\n",
       "      <th>G3</th>\n",
       "      <th>G4</th>\n",
       "      <th>G5</th>\n",
       "      <th>G6</th>\n",
       "      <th>...</th>\n",
       "      <th>S4</th>\n",
       "      <th>S5</th>\n",
       "      <th>S6</th>\n",
       "      <th>UUp1</th>\n",
       "      <th>UUp2</th>\n",
       "      <th>UUp3</th>\n",
       "      <th>UUp4</th>\n",
       "      <th>UUp5</th>\n",
       "      <th>UUp6</th>\n",
       "      <th>Cs</th>\n",
       "    </tr>\n",
       "  </thead>\n",
       "  <tbody>\n",
       "    <tr>\n",
       "      <th>0</th>\n",
       "      <td>-1.027122</td>\n",
       "      <td>-0.000607</td>\n",
       "      <td>-0.001033</td>\n",
       "      <td>0.001586</td>\n",
       "      <td>0.003769</td>\n",
       "      <td>-0.000243</td>\n",
       "      <td>-0.000310</td>\n",
       "      <td>0.001519</td>\n",
       "      <td>-0.004942</td>\n",
       "      <td>-0.002082</td>\n",
       "      <td>...</td>\n",
       "      <td>-0.004942</td>\n",
       "      <td>0.000056</td>\n",
       "      <td>-0.001784</td>\n",
       "      <td>-0.134213</td>\n",
       "      <td>-0.010852</td>\n",
       "      <td>0.009912</td>\n",
       "      <td>-0.153644</td>\n",
       "      <td>-0.045258</td>\n",
       "      <td>-0.150407</td>\n",
       "      <td>-0.232084</td>\n",
       "    </tr>\n",
       "    <tr>\n",
       "      <th>1</th>\n",
       "      <td>-1.027122</td>\n",
       "      <td>0.048423</td>\n",
       "      <td>-0.002944</td>\n",
       "      <td>-0.000262</td>\n",
       "      <td>0.021788</td>\n",
       "      <td>-0.000289</td>\n",
       "      <td>-0.000408</td>\n",
       "      <td>0.001519</td>\n",
       "      <td>-0.017760</td>\n",
       "      <td>-0.002090</td>\n",
       "      <td>...</td>\n",
       "      <td>-0.017760</td>\n",
       "      <td>0.000042</td>\n",
       "      <td>-0.015981</td>\n",
       "      <td>-0.134199</td>\n",
       "      <td>-0.010853</td>\n",
       "      <td>0.009911</td>\n",
       "      <td>-0.153644</td>\n",
       "      <td>-0.045258</td>\n",
       "      <td>-0.150407</td>\n",
       "      <td>-0.191414</td>\n",
       "    </tr>\n",
       "    <tr>\n",
       "      <th>2</th>\n",
       "      <td>-1.027122</td>\n",
       "      <td>0.146858</td>\n",
       "      <td>-0.000820</td>\n",
       "      <td>0.001179</td>\n",
       "      <td>0.005336</td>\n",
       "      <td>0.000219</td>\n",
       "      <td>0.000182</td>\n",
       "      <td>0.001882</td>\n",
       "      <td>-0.003509</td>\n",
       "      <td>-0.002079</td>\n",
       "      <td>...</td>\n",
       "      <td>-0.003509</td>\n",
       "      <td>0.000060</td>\n",
       "      <td>-0.004908</td>\n",
       "      <td>-0.133998</td>\n",
       "      <td>-0.010854</td>\n",
       "      <td>0.009910</td>\n",
       "      <td>-0.153644</td>\n",
       "      <td>-0.045258</td>\n",
       "      <td>-0.150406</td>\n",
       "      <td>0.044781</td>\n",
       "    </tr>\n",
       "    <tr>\n",
       "      <th>3</th>\n",
       "      <td>-1.027122</td>\n",
       "      <td>0.095208</td>\n",
       "      <td>-0.000137</td>\n",
       "      <td>0.002144</td>\n",
       "      <td>-0.003282</td>\n",
       "      <td>-0.000302</td>\n",
       "      <td>-0.000333</td>\n",
       "      <td>0.001519</td>\n",
       "      <td>0.001063</td>\n",
       "      <td>-0.002076</td>\n",
       "      <td>...</td>\n",
       "      <td>0.001063</td>\n",
       "      <td>0.000066</td>\n",
       "      <td>0.002495</td>\n",
       "      <td>-0.133893</td>\n",
       "      <td>-0.010854</td>\n",
       "      <td>0.009910</td>\n",
       "      <td>-0.153644</td>\n",
       "      <td>-0.045258</td>\n",
       "      <td>-0.150406</td>\n",
       "      <td>0.088803</td>\n",
       "    </tr>\n",
       "    <tr>\n",
       "      <th>4</th>\n",
       "      <td>-1.027122</td>\n",
       "      <td>0.078927</td>\n",
       "      <td>-0.000084</td>\n",
       "      <td>0.001453</td>\n",
       "      <td>-0.000148</td>\n",
       "      <td>-0.000061</td>\n",
       "      <td>-0.000199</td>\n",
       "      <td>0.001519</td>\n",
       "      <td>0.001425</td>\n",
       "      <td>-0.002077</td>\n",
       "      <td>...</td>\n",
       "      <td>0.001425</td>\n",
       "      <td>0.000064</td>\n",
       "      <td>-0.002813</td>\n",
       "      <td>-0.133738</td>\n",
       "      <td>-0.010855</td>\n",
       "      <td>0.009909</td>\n",
       "      <td>-0.153644</td>\n",
       "      <td>-0.045258</td>\n",
       "      <td>-0.150406</td>\n",
       "      <td>-0.099000</td>\n",
       "    </tr>\n",
       "  </tbody>\n",
       "</table>\n",
       "<p>5 rows × 23 columns</p>\n",
       "</div>"
      ],
      "text/plain": [
       "          t        Ux        Uy        Uz        G1        G2        G3  \\\n",
       "0 -1.027122 -0.000607 -0.001033  0.001586  0.003769 -0.000243 -0.000310   \n",
       "1 -1.027122  0.048423 -0.002944 -0.000262  0.021788 -0.000289 -0.000408   \n",
       "2 -1.027122  0.146858 -0.000820  0.001179  0.005336  0.000219  0.000182   \n",
       "3 -1.027122  0.095208 -0.000137  0.002144 -0.003282 -0.000302 -0.000333   \n",
       "4 -1.027122  0.078927 -0.000084  0.001453 -0.000148 -0.000061 -0.000199   \n",
       "\n",
       "         G4        G5        G6  ...        S4        S5        S6      UUp1  \\\n",
       "0  0.001519 -0.004942 -0.002082  ... -0.004942  0.000056 -0.001784 -0.134213   \n",
       "1  0.001519 -0.017760 -0.002090  ... -0.017760  0.000042 -0.015981 -0.134199   \n",
       "2  0.001882 -0.003509 -0.002079  ... -0.003509  0.000060 -0.004908 -0.133998   \n",
       "3  0.001519  0.001063 -0.002076  ...  0.001063  0.000066  0.002495 -0.133893   \n",
       "4  0.001519  0.001425 -0.002077  ...  0.001425  0.000064 -0.002813 -0.133738   \n",
       "\n",
       "       UUp2      UUp3      UUp4      UUp5      UUp6        Cs  \n",
       "0 -0.010852  0.009912 -0.153644 -0.045258 -0.150407 -0.232084  \n",
       "1 -0.010853  0.009911 -0.153644 -0.045258 -0.150407 -0.191414  \n",
       "2 -0.010854  0.009910 -0.153644 -0.045258 -0.150406  0.044781  \n",
       "3 -0.010854  0.009910 -0.153644 -0.045258 -0.150406  0.088803  \n",
       "4 -0.010855  0.009909 -0.153644 -0.045258 -0.150406 -0.099000  \n",
       "\n",
       "[5 rows x 23 columns]"
      ]
     },
     "execution_count": 3,
     "metadata": {},
     "output_type": "execute_result"
    }
   ],
   "source": [
    "R103.head()"
   ]
  },
  {
   "cell_type": "code",
   "execution_count": 4,
   "id": "c5190ce9",
   "metadata": {},
   "outputs": [
    {
     "data": {
      "text/plain": [
       "(26697608, 23)"
      ]
     },
     "execution_count": 4,
     "metadata": {},
     "output_type": "execute_result"
    }
   ],
   "source": [
    "frames = [R103, R503, R104]\n",
    "df = pd.concat(frames)\n",
    "df.shape"
   ]
  },
  {
   "cell_type": "code",
   "execution_count": 5,
   "id": "00708509",
   "metadata": {},
   "outputs": [],
   "source": [
    "M1_headers = ['Ux', 'Uy', 'Uz', 'S1',  'S2', 'S3', 'S4', 'S5', 'S6', 'Cs']\n",
    "M2_headers = ['G1', 'G2', 'G3', 'G4', 'G5', 'G6', 'S1',  'S2', 'S3', 'S4', 'S5', 'S6', 'Cs']\n",
    "M3_headers = ['Ux', 'Uy', 'Uz', 'UUp1',  'UUp2', 'UUp3', 'UUp4', 'UUp5', 'UUp6', 'Cs']\n",
    "M4_headers = ['G1', 'G2', 'G3', 'G4', 'G5', 'G6', 'UUp1',  'UUp2', 'UUp3', 'UUp4', 'UUp5', 'UUp6', 'Cs']\n",
    "\n",
    "M1_103 = R103.filter(M1_headers, axis=1)\n",
    "M2_103 = R103.filter(M2_headers, axis=1)\n",
    "M3_103 = R103.filter(M3_headers, axis=1)\n",
    "M4_103 = R103.filter(M4_headers, axis=1)\n",
    "\n",
    "M1_503 = R503.filter(M1_headers, axis=1)\n",
    "M2_503 = R503.filter(M2_headers, axis=1)\n",
    "M3_503 = R503.filter(M3_headers, axis=1)\n",
    "M4_503 = R503.filter(M4_headers, axis=1)\n",
    "\n",
    "M1_104 = R104.filter(M1_headers, axis=1)\n",
    "M2_104 = R104.filter(M2_headers, axis=1)\n",
    "M3_104 = R104.filter(M3_headers, axis=1)\n",
    "M4_104 = R104.filter(M4_headers, axis=1)\n",
    "\n",
    "M1 = df.filter(M1_headers, axis=1)\n",
    "M2 = df.filter(M2_headers, axis=1)\n",
    "M3 = df.filter(M3_headers, axis=1)\n",
    "M4 = df.filter(M4_headers, axis=1)"
   ]
  },
  {
   "cell_type": "code",
   "execution_count": 6,
   "id": "1f89e529",
   "metadata": {},
   "outputs": [
    {
     "data": {
      "text/plain": [
       "((26697608, 10), (26697608, 13))"
      ]
     },
     "execution_count": 6,
     "metadata": {},
     "output_type": "execute_result"
    }
   ],
   "source": [
    "M1.shape, M2.shape"
   ]
  },
  {
   "cell_type": "code",
   "execution_count": 7,
   "id": "f891aa76",
   "metadata": {},
   "outputs": [],
   "source": [
    "def namestr(obj, namespace):\n",
    "    return [name for name in namespace if namespace[name] is obj]"
   ]
  },
  {
   "cell_type": "code",
   "execution_count": 9,
   "id": "5816028b",
   "metadata": {},
   "outputs": [],
   "source": [
    "dt = M1_103\n",
    "dt_name = namestr(M1_103, globals())[0]\n",
    "output_size = 1\n",
    "input_size = dt.shape[1] - output_size \n",
    "neurons_per_layer = [60, 60, 60, 60, 60] #[120, 60, 30, 20, 10, 10, 20, 30, 60]\n",
    "hidden_layers = len(neurons_per_layer)    "
   ]
  },
  {
   "cell_type": "code",
   "execution_count": 10,
   "id": "9321b395",
   "metadata": {},
   "outputs": [
    {
     "data": {
      "text/html": [
       "<div>\n",
       "<style scoped>\n",
       "    .dataframe tbody tr th:only-of-type {\n",
       "        vertical-align: middle;\n",
       "    }\n",
       "\n",
       "    .dataframe tbody tr th {\n",
       "        vertical-align: top;\n",
       "    }\n",
       "\n",
       "    .dataframe thead th {\n",
       "        text-align: right;\n",
       "    }\n",
       "</style>\n",
       "<table border=\"1\" class=\"dataframe\">\n",
       "  <thead>\n",
       "    <tr style=\"text-align: right;\">\n",
       "      <th></th>\n",
       "      <th>Ux</th>\n",
       "      <th>Uy</th>\n",
       "      <th>Uz</th>\n",
       "      <th>S1</th>\n",
       "      <th>S2</th>\n",
       "      <th>S3</th>\n",
       "      <th>S4</th>\n",
       "      <th>S5</th>\n",
       "      <th>S6</th>\n",
       "      <th>Cs</th>\n",
       "    </tr>\n",
       "  </thead>\n",
       "  <tbody>\n",
       "    <tr>\n",
       "      <th>0</th>\n",
       "      <td>-0.000607</td>\n",
       "      <td>-0.001033</td>\n",
       "      <td>0.001586</td>\n",
       "      <td>0.003769</td>\n",
       "      <td>0.001561</td>\n",
       "      <td>0.001564</td>\n",
       "      <td>-0.004942</td>\n",
       "      <td>0.000056</td>\n",
       "      <td>-0.001784</td>\n",
       "      <td>-0.232084</td>\n",
       "    </tr>\n",
       "    <tr>\n",
       "      <th>1</th>\n",
       "      <td>0.048423</td>\n",
       "      <td>-0.002944</td>\n",
       "      <td>-0.000262</td>\n",
       "      <td>0.021788</td>\n",
       "      <td>0.001546</td>\n",
       "      <td>0.001539</td>\n",
       "      <td>-0.017760</td>\n",
       "      <td>0.000042</td>\n",
       "      <td>-0.015981</td>\n",
       "      <td>-0.191414</td>\n",
       "    </tr>\n",
       "    <tr>\n",
       "      <th>2</th>\n",
       "      <td>0.146858</td>\n",
       "      <td>-0.000820</td>\n",
       "      <td>0.001179</td>\n",
       "      <td>0.005336</td>\n",
       "      <td>0.002101</td>\n",
       "      <td>0.002072</td>\n",
       "      <td>-0.003509</td>\n",
       "      <td>0.000060</td>\n",
       "      <td>-0.004908</td>\n",
       "      <td>0.044781</td>\n",
       "    </tr>\n",
       "    <tr>\n",
       "      <th>3</th>\n",
       "      <td>0.095208</td>\n",
       "      <td>-0.000137</td>\n",
       "      <td>0.002144</td>\n",
       "      <td>-0.003282</td>\n",
       "      <td>0.001542</td>\n",
       "      <td>0.001558</td>\n",
       "      <td>0.001063</td>\n",
       "      <td>0.000066</td>\n",
       "      <td>0.002495</td>\n",
       "      <td>0.088803</td>\n",
       "    </tr>\n",
       "    <tr>\n",
       "      <th>4</th>\n",
       "      <td>0.078927</td>\n",
       "      <td>-0.000084</td>\n",
       "      <td>0.001453</td>\n",
       "      <td>-0.000148</td>\n",
       "      <td>0.001620</td>\n",
       "      <td>0.001593</td>\n",
       "      <td>0.001425</td>\n",
       "      <td>0.000064</td>\n",
       "      <td>-0.002813</td>\n",
       "      <td>-0.099000</td>\n",
       "    </tr>\n",
       "  </tbody>\n",
       "</table>\n",
       "</div>"
      ],
      "text/plain": [
       "         Ux        Uy        Uz        S1        S2        S3        S4  \\\n",
       "0 -0.000607 -0.001033  0.001586  0.003769  0.001561  0.001564 -0.004942   \n",
       "1  0.048423 -0.002944 -0.000262  0.021788  0.001546  0.001539 -0.017760   \n",
       "2  0.146858 -0.000820  0.001179  0.005336  0.002101  0.002072 -0.003509   \n",
       "3  0.095208 -0.000137  0.002144 -0.003282  0.001542  0.001558  0.001063   \n",
       "4  0.078927 -0.000084  0.001453 -0.000148  0.001620  0.001593  0.001425   \n",
       "\n",
       "         S5        S6        Cs  \n",
       "0  0.000056 -0.001784 -0.232084  \n",
       "1  0.000042 -0.015981 -0.191414  \n",
       "2  0.000060 -0.004908  0.044781  \n",
       "3  0.000066  0.002495  0.088803  \n",
       "4  0.000064 -0.002813 -0.099000  "
      ]
     },
     "execution_count": 10,
     "metadata": {},
     "output_type": "execute_result"
    }
   ],
   "source": [
    "dt.head()"
   ]
  },
  {
   "cell_type": "code",
   "execution_count": 11,
   "id": "fa94eef3",
   "metadata": {},
   "outputs": [],
   "source": [
    "mask = np.random.rand(len(dt)) < 0.8\n",
    "train_val = dt[mask]\n",
    "test = dt[~mask].to_numpy()\n",
    "\n",
    "mask = np.random.rand(len(train_val)) < 0.8\n",
    "train = train_val[mask].to_numpy()\n",
    "val = train_val[~mask].to_numpy()"
   ]
  },
  {
   "cell_type": "code",
   "execution_count": 12,
   "id": "8f5586cc",
   "metadata": {},
   "outputs": [
    {
     "data": {
      "text/plain": [
       "((2972951, 10), 1903436, 475822, 593693)"
      ]
     },
     "execution_count": 12,
     "metadata": {},
     "output_type": "execute_result"
    }
   ],
   "source": [
    "dt.shape, train.shape[0], val.shape[0], test.shape[0]"
   ]
  },
  {
   "cell_type": "code",
   "execution_count": 13,
   "id": "d15cbee6",
   "metadata": {},
   "outputs": [],
   "source": [
    "batch_sz_trn = 4096\n",
    "batch_sz_val = int(batch_sz_trn / 4)\n",
    "batch_sz_tst = int(batch_sz_trn / 4)\n",
    "\n",
    "train_loader = torch.utils.data.DataLoader(dataset=train, batch_size=batch_sz_trn, shuffle=True)\n",
    "val_loader = torch.utils.data.DataLoader(dataset=val, batch_size=batch_sz_val, shuffle=True)\n",
    "test_loader = torch.utils.data.DataLoader(dataset=test, batch_size=batch_sz_tst, shuffle=True)"
   ]
  },
  {
   "cell_type": "code",
   "execution_count": 14,
   "id": "364d96fe",
   "metadata": {},
   "outputs": [
    {
     "data": {
      "text/plain": [
       "tensor([ 0.0748, -0.1068,  0.0846, -0.0221, -0.0035,  0.0182,  0.0096, -0.0399,\n",
       "         0.0223, -0.1962], dtype=torch.float64)"
      ]
     },
     "execution_count": 14,
     "metadata": {},
     "output_type": "execute_result"
    }
   ],
   "source": [
    "data_iter = iter(train_loader)\n",
    "next(data_iter)[0]"
   ]
  },
  {
   "cell_type": "code",
   "execution_count": 15,
   "id": "854d19d5",
   "metadata": {},
   "outputs": [],
   "source": [
    "def coeff_determination(y_true, y_pred):\n",
    "    SS_res = torch.sum(torch.square( y_true - y_pred ))\n",
    "    SS_tot = torch.sum(torch.square( y_true - torch.mean(y_true) ) )\n",
    "    return ( 1 - SS_res/(SS_tot + sys_epsilon) )"
   ]
  },
  {
   "cell_type": "code",
   "execution_count": 25,
   "id": "a7b91edd",
   "metadata": {},
   "outputs": [],
   "source": [
    "class MLPModel(nn.Module):\n",
    "    def __init__(self, input_size, output_size, hidden_layers, neurons_per_layer):\n",
    "        super(MLPModel, self).__init__()\n",
    "\n",
    "        layers = []\n",
    "        layers.append(nn.Linear(input_size, neurons_per_layer[0]))\n",
    "        layers.append(nn.ReLU())\n",
    "\n",
    "        for i in range(1, hidden_layers):\n",
    "            layers.append(nn.Linear(neurons_per_layer[i - 1], neurons_per_layer[i]))\n",
    "            layers.append(nn.ReLU())\n",
    "\n",
    "        layers.append(nn.Linear(neurons_per_layer[-1], output_size))\n",
    "\n",
    "        self.block = nn.Sequential(*layers)\n",
    "\n",
    "    def forward(self, x):\n",
    "        x = self.block(x)\n",
    "        return x\n"
   ]
  },
  {
   "cell_type": "code",
   "execution_count": 29,
   "id": "f5414719",
   "metadata": {
    "scrolled": true
   },
   "outputs": [
    {
     "data": {
      "text/plain": [
       "RecursiveScriptModule(\n",
       "  original_name=Module\n",
       "  (Input): RecursiveScriptModule(original_name=Module)\n",
       "  (Output): RecursiveScriptModule(original_name=Module)\n",
       "  (hidden0): RecursiveScriptModule(original_name=Module)\n",
       "  (hidden1): RecursiveScriptModule(original_name=Module)\n",
       "  (hidden2): RecursiveScriptModule(original_name=Module)\n",
       "  (hidden3): RecursiveScriptModule(original_name=Module)\n",
       "  (hidden4): RecursiveScriptModule(original_name=Module)\n",
       ")"
      ]
     },
     "execution_count": 29,
     "metadata": {},
     "output_type": "execute_result"
    }
   ],
   "source": [
    "\n",
    "PATH = \"/home/hmarefat/scratch/torchFOAM/nnTraining/best_model_M1_103.pt\"\n",
    "model1 = torch.load(PATH)\n",
    "model1.eval()\n",
    "model1.double()"
   ]
  },
  {
   "cell_type": "code",
   "execution_count": 30,
   "id": "80604c18",
   "metadata": {
    "scrolled": true
   },
   "outputs": [
    {
     "ename": "AttributeError",
     "evalue": "'RecursiveScriptModule' object has no attribute 'forward'",
     "output_type": "error",
     "traceback": [
      "\u001b[0;31m---------------------------------------------------------------------------\u001b[0m",
      "\u001b[0;31mAttributeError\u001b[0m                            Traceback (most recent call last)",
      "Cell \u001b[0;32mIn[30], line 3\u001b[0m\n\u001b[1;32m      1\u001b[0m \u001b[38;5;28;01mwith\u001b[39;00m torch\u001b[38;5;241m.\u001b[39mno_grad():\n\u001b[1;32m      2\u001b[0m     input_data \u001b[38;5;241m=\u001b[39m torch\u001b[38;5;241m.\u001b[39mfrom_numpy(test[:, :\u001b[38;5;241m-\u001b[39m\u001b[38;5;241m1\u001b[39m])\n\u001b[0;32m----> 3\u001b[0m     pred \u001b[38;5;241m=\u001b[39m \u001b[43mmodel1\u001b[49m\u001b[43m(\u001b[49m\u001b[43minput_data\u001b[49m\u001b[43m)\u001b[49m\n\u001b[1;32m      4\u001b[0m pred\n",
      "File \u001b[0;32m~/jupEnv/lib/python3.8/site-packages/torch/nn/modules/module.py:1189\u001b[0m, in \u001b[0;36mModule._call_impl\u001b[0;34m(self, *input, **kwargs)\u001b[0m\n\u001b[1;32m   1188\u001b[0m \u001b[38;5;28;01mdef\u001b[39;00m \u001b[38;5;21m_call_impl\u001b[39m(\u001b[38;5;28mself\u001b[39m, \u001b[38;5;241m*\u001b[39m\u001b[38;5;28minput\u001b[39m, \u001b[38;5;241m*\u001b[39m\u001b[38;5;241m*\u001b[39mkwargs):\n\u001b[0;32m-> 1189\u001b[0m     forward_call \u001b[38;5;241m=\u001b[39m (\u001b[38;5;28mself\u001b[39m\u001b[38;5;241m.\u001b[39m_slow_forward \u001b[38;5;28;01mif\u001b[39;00m torch\u001b[38;5;241m.\u001b[39m_C\u001b[38;5;241m.\u001b[39m_get_tracing_state() \u001b[38;5;28;01melse\u001b[39;00m \u001b[38;5;28;43mself\u001b[39;49m\u001b[38;5;241;43m.\u001b[39;49m\u001b[43mforward\u001b[49m)\n\u001b[1;32m   1190\u001b[0m     \u001b[38;5;66;03m# If we don't have any hooks, we want to skip the rest of the logic in\u001b[39;00m\n\u001b[1;32m   1191\u001b[0m     \u001b[38;5;66;03m# this function, and just call forward.\u001b[39;00m\n\u001b[1;32m   1192\u001b[0m     \u001b[38;5;28;01mif\u001b[39;00m \u001b[38;5;129;01mnot\u001b[39;00m (\u001b[38;5;28mself\u001b[39m\u001b[38;5;241m.\u001b[39m_backward_hooks \u001b[38;5;129;01mor\u001b[39;00m \u001b[38;5;28mself\u001b[39m\u001b[38;5;241m.\u001b[39m_forward_hooks \u001b[38;5;129;01mor\u001b[39;00m \u001b[38;5;28mself\u001b[39m\u001b[38;5;241m.\u001b[39m_forward_pre_hooks \u001b[38;5;129;01mor\u001b[39;00m _global_backward_hooks\n\u001b[1;32m   1193\u001b[0m             \u001b[38;5;129;01mor\u001b[39;00m _global_forward_hooks \u001b[38;5;129;01mor\u001b[39;00m _global_forward_pre_hooks):\n",
      "File \u001b[0;32m~/jupEnv/lib/python3.8/site-packages/torch/jit/_script.py:785\u001b[0m, in \u001b[0;36mRecursiveScriptModule.__getattr__\u001b[0;34m(self, attr)\u001b[0m\n\u001b[1;32m    782\u001b[0m     \u001b[38;5;28mself\u001b[39m\u001b[38;5;241m.\u001b[39m\u001b[38;5;18m__dict__\u001b[39m[attr] \u001b[38;5;241m=\u001b[39m script_method\n\u001b[1;32m    783\u001b[0m     \u001b[38;5;28;01mreturn\u001b[39;00m script_method\n\u001b[0;32m--> 785\u001b[0m \u001b[38;5;28;01mreturn\u001b[39;00m \u001b[38;5;28;43msuper\u001b[39;49m\u001b[43m(\u001b[49m\u001b[43mRecursiveScriptModule\u001b[49m\u001b[43m,\u001b[49m\u001b[43m \u001b[49m\u001b[38;5;28;43mself\u001b[39;49m\u001b[43m)\u001b[49m\u001b[38;5;241;43m.\u001b[39;49m\u001b[38;5;21;43m__getattr__\u001b[39;49m\u001b[43m(\u001b[49m\u001b[43mattr\u001b[49m\u001b[43m)\u001b[49m\n",
      "File \u001b[0;32m~/jupEnv/lib/python3.8/site-packages/torch/jit/_script.py:502\u001b[0m, in \u001b[0;36mScriptModule.__getattr__\u001b[0;34m(self, attr)\u001b[0m\n\u001b[1;32m    500\u001b[0m \u001b[38;5;28;01mdef\u001b[39;00m \u001b[38;5;21m__getattr__\u001b[39m(\u001b[38;5;28mself\u001b[39m, attr):\n\u001b[1;32m    501\u001b[0m     \u001b[38;5;28;01mif\u001b[39;00m \u001b[38;5;124m\"\u001b[39m\u001b[38;5;124m_actual_script_module\u001b[39m\u001b[38;5;124m\"\u001b[39m \u001b[38;5;129;01mnot\u001b[39;00m \u001b[38;5;129;01min\u001b[39;00m \u001b[38;5;28mself\u001b[39m\u001b[38;5;241m.\u001b[39m\u001b[38;5;18m__dict__\u001b[39m:\n\u001b[0;32m--> 502\u001b[0m         \u001b[38;5;28;01mreturn\u001b[39;00m \u001b[38;5;28;43msuper\u001b[39;49m\u001b[43m(\u001b[49m\u001b[43mScriptModule\u001b[49m\u001b[43m,\u001b[49m\u001b[43m \u001b[49m\u001b[38;5;28;43mself\u001b[39;49m\u001b[43m)\u001b[49m\u001b[38;5;241;43m.\u001b[39;49m\u001b[38;5;21;43m__getattr__\u001b[39;49m\u001b[43m(\u001b[49m\u001b[43mattr\u001b[49m\u001b[43m)\u001b[49m\n\u001b[1;32m    503\u001b[0m     \u001b[38;5;28;01mreturn\u001b[39;00m \u001b[38;5;28mgetattr\u001b[39m(\u001b[38;5;28mself\u001b[39m\u001b[38;5;241m.\u001b[39m_actual_script_module, attr)\n",
      "File \u001b[0;32m~/jupEnv/lib/python3.8/site-packages/torch/nn/modules/module.py:1269\u001b[0m, in \u001b[0;36mModule.__getattr__\u001b[0;34m(self, name)\u001b[0m\n\u001b[1;32m   1267\u001b[0m     \u001b[38;5;28;01mif\u001b[39;00m name \u001b[38;5;129;01min\u001b[39;00m modules:\n\u001b[1;32m   1268\u001b[0m         \u001b[38;5;28;01mreturn\u001b[39;00m modules[name]\n\u001b[0;32m-> 1269\u001b[0m \u001b[38;5;28;01mraise\u001b[39;00m \u001b[38;5;167;01mAttributeError\u001b[39;00m(\u001b[38;5;124m\"\u001b[39m\u001b[38;5;124m'\u001b[39m\u001b[38;5;132;01m{}\u001b[39;00m\u001b[38;5;124m'\u001b[39m\u001b[38;5;124m object has no attribute \u001b[39m\u001b[38;5;124m'\u001b[39m\u001b[38;5;132;01m{}\u001b[39;00m\u001b[38;5;124m'\u001b[39m\u001b[38;5;124m\"\u001b[39m\u001b[38;5;241m.\u001b[39mformat(\n\u001b[1;32m   1270\u001b[0m     \u001b[38;5;28mtype\u001b[39m(\u001b[38;5;28mself\u001b[39m)\u001b[38;5;241m.\u001b[39m\u001b[38;5;18m__name__\u001b[39m, name))\n",
      "\u001b[0;31mAttributeError\u001b[0m: 'RecursiveScriptModule' object has no attribute 'forward'"
     ]
    }
   ],
   "source": [
    "with torch.no_grad():\n",
    "    input_data = torch.from_numpy(test[:, :-1])\n",
    "    pred = model1(input_data)\n",
    "pred"
   ]
  },
  {
   "cell_type": "code",
   "execution_count": 23,
   "id": "ebcfa2d4",
   "metadata": {},
   "outputs": [
    {
     "data": {
      "text/plain": [
       "Text(0, 0.5, '$\\\\tilde{C_s}$')"
      ]
     },
     "execution_count": 23,
     "metadata": {},
     "output_type": "execute_result"
    },
    {
     "data": {
      "image/png": "[encoded data removed]",
      "text/plain": [
       "<Figure size 640x480 with 1 Axes>"
      ]
     },
     "metadata": {},
     "output_type": "display_data"
    }
   ],
   "source": [
    "plt.scatter(test[:,-1], pred.detach().numpy(), edgecolor='white', color='red')\n",
    "plt.plot([0, 0], [-100, 100], '--', color='#929591')\n",
    "plt.plot([-100, 100], [0, 0], '--', color='#929591')\n",
    "plt.xlim([-100, 100])\n",
    "plt.ylim([-100, 100])\n",
    "plt.xlabel(r'$C_s$')\n",
    "plt.ylabel(r'$\\tilde{C_s}$')\n",
    "#plt.savefig('./Results/')"
   ]
  },
  {
   "cell_type": "code",
   "execution_count": 24,
   "id": "ae9a5ba1",
   "metadata": {},
   "outputs": [
    {
     "data": {
      "text/plain": [
       "<matplotlib.legend.Legend at 0x14f43f207760>"
      ]
     },
     "execution_count": 24,
     "metadata": {},
     "output_type": "execute_result"
    },
    {
     "data": {
      "image/png": "[encoded data removed]",
      "text/plain": [
       "<Figure size 640x480 with 1 Axes>"
      ]
     },
     "metadata": {},
     "output_type": "display_data"
    }
   ],
   "source": [
    "plt.hist(test[:,-1], bins=10000, density=True, alpha=0.6, histtype=u'step', color='blue')\n",
    "plt.hist(pred.detach().numpy(), bins=10000, density=True, alpha=0.6, histtype=u'step', color='red')\n",
    "plt.xlim([-0.75, 0.75])\n",
    "plt.xlabel(r'$C_s$')\n",
    "plt.legend(['Ground Truth', 'MLP'])"
   ]
  },
  {
   "cell_type": "code",
   "execution_count": null,
   "id": "dcf0872c",
   "metadata": {},
   "outputs": [],
   "source": []
  }
 ],
 "metadata": {
  "kernelspec": {
   "display_name": "Python 3 (ipykernel)",
   "language": "python",
   "name": "python3"
  },
  "language_info": {
   "codemirror_mode": {
    "name": "ipython",
    "version": 3
   },
   "file_extension": ".py",
   "mimetype": "text/x-python",
   "name": "python",
   "nbconvert_exporter": "python",
   "pygments_lexer": "ipython3",
   "version": "3.8.10"
  }
 },
 "nbformat": 4,
 "nbformat_minor": 5
}
