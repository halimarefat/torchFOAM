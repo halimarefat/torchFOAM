{
 "cells": [
  {
   "cell_type": "code",
   "execution_count": 1,
   "id": "6d783e00",
   "metadata": {},
   "outputs": [],
   "source": [
    "import numpy as np\n",
    "import pandas as pd\n",
    "import matplotlib.pyplot as plt\n",
    "import seaborn as sns\n",
    "import torch\n",
    "import torch.nn as nn\n",
    "from torch.optim.lr_scheduler import StepLR\n",
    "from tqdm import tqdm\n",
    "import sys\n",
    "\n",
    "sys_epsilon = sys.float_info.epsilon"
   ]
  },
  {
   "cell_type": "code",
   "execution_count": 2,
   "id": "01b9b73f",
   "metadata": {},
   "outputs": [],
   "source": [
    "headers = [\"t\", \"Ux\", \"Uy\", \"Uz\", \n",
    "           \"G1\", \"G2\", \"G3\", \"G4\", \"G5\", \"G6\", \n",
    "           \"S1\", \"S2\", \"S3\", \"S4\", \"S5\", \"S6\", \n",
    "           \"UUp1\", \"UUp2\", \"UUp3\", \"UUp4\", \"UUp5\", \"UUp6\", \n",
    "           \"Cs\"]\n",
    "\n",
    "R103 = pd.read_csv('./datasets/fieldData_rest_R103_norm.txt', sep=' ', names=headers)\n",
    "R503 = pd.read_csv('./datasets/fieldData_rest_R503_norm.txt', sep=' ', names=headers)\n",
    "R104 = pd.read_csv('./datasets/fieldData_rest_R104_norm.txt', sep=' ', names=headers)"
   ]
  },
  {
   "cell_type": "code",
   "execution_count": 3,
   "id": "d56a97af",
   "metadata": {},
   "outputs": [],
   "source": [
    "R103_means = pd.read_csv('./datasets/fieldData_rest_R103_means.txt', sep=' ', header=None).T.set_axis(headers, axis=1)\n",
    "R503_means = pd.read_csv('./datasets/fieldData_rest_R503_means.txt', sep=' ', header=None).T.set_axis(headers, axis=1)\n",
    "R104_means = pd.read_csv('./datasets/fieldData_rest_R104_means.txt', sep=' ', header=None).T.set_axis(headers, axis=1)\n",
    "\n",
    "R103_scales = pd.read_csv('./datasets/fieldData_rest_R103_scales.txt', sep=' ', header=None).T.set_axis(headers, axis=1)\n",
    "R503_scales = pd.read_csv('./datasets/fieldData_rest_R503_scales.txt', sep=' ', header=None).T.set_axis(headers, axis=1)\n",
    "R104_scales = pd.read_csv('./datasets/fieldData_rest_R104_scales.txt', sep=' ', header=None).T.set_axis(headers, axis=1)"
   ]
  },
  {
   "cell_type": "code",
   "execution_count": 4,
   "id": "5ab61fbf",
   "metadata": {},
   "outputs": [
    {
     "data": {
      "text/html": [
       "<div>\n",
       "<style scoped>\n",
       "    .dataframe tbody tr th:only-of-type {\n",
       "        vertical-align: middle;\n",
       "    }\n",
       "\n",
       "    .dataframe tbody tr th {\n",
       "        vertical-align: top;\n",
       "    }\n",
       "\n",
       "    .dataframe thead th {\n",
       "        text-align: right;\n",
       "    }\n",
       "</style>\n",
       "<table border=\"1\" class=\"dataframe\">\n",
       "  <thead>\n",
       "    <tr style=\"text-align: right;\">\n",
       "      <th></th>\n",
       "      <th>t</th>\n",
       "      <th>Ux</th>\n",
       "      <th>Uy</th>\n",
       "      <th>Uz</th>\n",
       "      <th>G1</th>\n",
       "      <th>G2</th>\n",
       "      <th>G3</th>\n",
       "      <th>G4</th>\n",
       "      <th>G5</th>\n",
       "      <th>G6</th>\n",
       "      <th>...</th>\n",
       "      <th>S4</th>\n",
       "      <th>S5</th>\n",
       "      <th>S6</th>\n",
       "      <th>UUp1</th>\n",
       "      <th>UUp2</th>\n",
       "      <th>UUp3</th>\n",
       "      <th>UUp4</th>\n",
       "      <th>UUp5</th>\n",
       "      <th>UUp6</th>\n",
       "      <th>Cs</th>\n",
       "    </tr>\n",
       "  </thead>\n",
       "  <tbody>\n",
       "    <tr>\n",
       "      <th>0</th>\n",
       "      <td>-1.027122</td>\n",
       "      <td>-0.000178</td>\n",
       "      <td>-0.000519</td>\n",
       "      <td>0.002788</td>\n",
       "      <td>-0.001416</td>\n",
       "      <td>-0.000398</td>\n",
       "      <td>0.000795</td>\n",
       "      <td>0.001038</td>\n",
       "      <td>-0.001166</td>\n",
       "      <td>0.000107</td>\n",
       "      <td>...</td>\n",
       "      <td>-0.001166</td>\n",
       "      <td>0.000361</td>\n",
       "      <td>-0.000233</td>\n",
       "      <td>-0.133664</td>\n",
       "      <td>-0.011824</td>\n",
       "      <td>0.009138</td>\n",
       "      <td>-0.152857</td>\n",
       "      <td>-0.045876</td>\n",
       "      <td>-0.14981</td>\n",
       "      <td>-0.219229</td>\n",
       "    </tr>\n",
       "    <tr>\n",
       "      <th>1</th>\n",
       "      <td>-1.027122</td>\n",
       "      <td>0.007117</td>\n",
       "      <td>-0.001178</td>\n",
       "      <td>0.002198</td>\n",
       "      <td>0.005526</td>\n",
       "      <td>-0.000435</td>\n",
       "      <td>0.000753</td>\n",
       "      <td>0.001038</td>\n",
       "      <td>-0.005757</td>\n",
       "      <td>0.000106</td>\n",
       "      <td>...</td>\n",
       "      <td>-0.005757</td>\n",
       "      <td>0.000359</td>\n",
       "      <td>-0.004720</td>\n",
       "      <td>-0.133664</td>\n",
       "      <td>-0.011824</td>\n",
       "      <td>0.009138</td>\n",
       "      <td>-0.152857</td>\n",
       "      <td>-0.045876</td>\n",
       "      <td>-0.14981</td>\n",
       "      <td>-0.184253</td>\n",
       "    </tr>\n",
       "    <tr>\n",
       "      <th>2</th>\n",
       "      <td>-1.027122</td>\n",
       "      <td>0.032932</td>\n",
       "      <td>-0.002102</td>\n",
       "      <td>0.001278</td>\n",
       "      <td>0.017426</td>\n",
       "      <td>-0.000476</td>\n",
       "      <td>0.000689</td>\n",
       "      <td>0.001038</td>\n",
       "      <td>-0.012206</td>\n",
       "      <td>0.000101</td>\n",
       "      <td>...</td>\n",
       "      <td>-0.012206</td>\n",
       "      <td>0.000352</td>\n",
       "      <td>-0.011717</td>\n",
       "      <td>-0.133658</td>\n",
       "      <td>-0.011824</td>\n",
       "      <td>0.009138</td>\n",
       "      <td>-0.152857</td>\n",
       "      <td>-0.045876</td>\n",
       "      <td>-0.14981</td>\n",
       "      <td>-0.184228</td>\n",
       "    </tr>\n",
       "    <tr>\n",
       "      <th>3</th>\n",
       "      <td>-1.027122</td>\n",
       "      <td>0.081009</td>\n",
       "      <td>-0.002795</td>\n",
       "      <td>0.000454</td>\n",
       "      <td>0.027343</td>\n",
       "      <td>-0.000304</td>\n",
       "      <td>0.000835</td>\n",
       "      <td>0.001038</td>\n",
       "      <td>-0.017039</td>\n",
       "      <td>0.000095</td>\n",
       "      <td>...</td>\n",
       "      <td>-0.017039</td>\n",
       "      <td>0.000342</td>\n",
       "      <td>-0.017983</td>\n",
       "      <td>-0.133624</td>\n",
       "      <td>-0.011825</td>\n",
       "      <td>0.009136</td>\n",
       "      <td>-0.152857</td>\n",
       "      <td>-0.045876</td>\n",
       "      <td>-0.14981</td>\n",
       "      <td>-0.183919</td>\n",
       "    </tr>\n",
       "    <tr>\n",
       "      <th>4</th>\n",
       "      <td>-1.027122</td>\n",
       "      <td>0.131517</td>\n",
       "      <td>-0.001906</td>\n",
       "      <td>0.001049</td>\n",
       "      <td>0.017426</td>\n",
       "      <td>0.000068</td>\n",
       "      <td>0.001191</td>\n",
       "      <td>0.001038</td>\n",
       "      <td>-0.010835</td>\n",
       "      <td>0.000099</td>\n",
       "      <td>...</td>\n",
       "      <td>-0.010835</td>\n",
       "      <td>0.000348</td>\n",
       "      <td>-0.013454</td>\n",
       "      <td>-0.133530</td>\n",
       "      <td>-0.011827</td>\n",
       "      <td>0.009135</td>\n",
       "      <td>-0.152857</td>\n",
       "      <td>-0.045876</td>\n",
       "      <td>-0.14981</td>\n",
       "      <td>-0.181174</td>\n",
       "    </tr>\n",
       "  </tbody>\n",
       "</table>\n",
       "<p>5 rows × 23 columns</p>\n",
       "</div>"
      ],
      "text/plain": [
       "          t        Ux        Uy        Uz        G1        G2        G3  \\\n",
       "0 -1.027122 -0.000178 -0.000519  0.002788 -0.001416 -0.000398  0.000795   \n",
       "1 -1.027122  0.007117 -0.001178  0.002198  0.005526 -0.000435  0.000753   \n",
       "2 -1.027122  0.032932 -0.002102  0.001278  0.017426 -0.000476  0.000689   \n",
       "3 -1.027122  0.081009 -0.002795  0.000454  0.027343 -0.000304  0.000835   \n",
       "4 -1.027122  0.131517 -0.001906  0.001049  0.017426  0.000068  0.001191   \n",
       "\n",
       "         G4        G5        G6  ...        S4        S5        S6      UUp1  \\\n",
       "0  0.001038 -0.001166  0.000107  ... -0.001166  0.000361 -0.000233 -0.133664   \n",
       "1  0.001038 -0.005757  0.000106  ... -0.005757  0.000359 -0.004720 -0.133664   \n",
       "2  0.001038 -0.012206  0.000101  ... -0.012206  0.000352 -0.011717 -0.133658   \n",
       "3  0.001038 -0.017039  0.000095  ... -0.017039  0.000342 -0.017983 -0.133624   \n",
       "4  0.001038 -0.010835  0.000099  ... -0.010835  0.000348 -0.013454 -0.133530   \n",
       "\n",
       "       UUp2      UUp3      UUp4      UUp5     UUp6        Cs  \n",
       "0 -0.011824  0.009138 -0.152857 -0.045876 -0.14981 -0.219229  \n",
       "1 -0.011824  0.009138 -0.152857 -0.045876 -0.14981 -0.184253  \n",
       "2 -0.011824  0.009138 -0.152857 -0.045876 -0.14981 -0.184228  \n",
       "3 -0.011825  0.009136 -0.152857 -0.045876 -0.14981 -0.183919  \n",
       "4 -0.011827  0.009135 -0.152857 -0.045876 -0.14981 -0.181174  \n",
       "\n",
       "[5 rows x 23 columns]"
      ]
     },
     "execution_count": 4,
     "metadata": {},
     "output_type": "execute_result"
    }
   ],
   "source": [
    "R103.head()"
   ]
  },
  {
   "cell_type": "code",
   "execution_count": 5,
   "id": "c5190ce9",
   "metadata": {},
   "outputs": [
    {
     "data": {
      "text/plain": [
       "(38031441, 23)"
      ]
     },
     "execution_count": 5,
     "metadata": {},
     "output_type": "execute_result"
    }
   ],
   "source": [
    "frames = [R103, R503, R104]\n",
    "df = pd.concat(frames)\n",
    "df.shape"
   ]
  },
  {
   "cell_type": "code",
   "execution_count": 6,
   "id": "00708509",
   "metadata": {},
   "outputs": [],
   "source": [
    "M1_headers = ['Ux', 'Uy', 'Uz', 'S1',  'S2', 'S3', 'S4', 'S5', 'S6', 'Cs']\n",
    "M2_headers = ['G1', 'G2', 'G3', 'G4', 'G5', 'G6', 'S1',  'S2', 'S3', 'S4', 'S5', 'S6', 'Cs']\n",
    "M3_headers = ['Ux', 'Uy', 'Uz', 'UUp1',  'UUp2', 'UUp3', 'UUp4', 'UUp5', 'UUp6', 'Cs']\n",
    "M4_headers = ['G1', 'G2', 'G3', 'G4', 'G5', 'G6', 'UUp1',  'UUp2', 'UUp3', 'UUp4', 'UUp5', 'UUp6', 'Cs']\n",
    "\n",
    "M1_103 = R103.filter(M1_headers, axis=1)\n",
    "M2_103 = R103.filter(M2_headers, axis=1)\n",
    "M3_103 = R103.filter(M3_headers, axis=1)\n",
    "M4_103 = R103.filter(M4_headers, axis=1)\n",
    "\n",
    "M1_503 = R503.filter(M1_headers, axis=1)\n",
    "M2_503 = R503.filter(M2_headers, axis=1)\n",
    "M3_503 = R503.filter(M3_headers, axis=1)\n",
    "M4_503 = R503.filter(M4_headers, axis=1)\n",
    "\n",
    "M1_104 = R104.filter(M1_headers, axis=1)\n",
    "M2_104 = R104.filter(M2_headers, axis=1)\n",
    "M3_104 = R104.filter(M3_headers, axis=1)\n",
    "M4_104 = R104.filter(M4_headers, axis=1)\n",
    "\n",
    "M1 = df.filter(M1_headers, axis=1)\n",
    "M2 = df.filter(M2_headers, axis=1)\n",
    "M3 = df.filter(M3_headers, axis=1)\n",
    "M4 = df.filter(M4_headers, axis=1)"
   ]
  },
  {
   "cell_type": "code",
   "execution_count": 7,
   "id": "1f89e529",
   "metadata": {},
   "outputs": [
    {
     "data": {
      "text/plain": [
       "((38031441, 10), (38031441, 13))"
      ]
     },
     "execution_count": 7,
     "metadata": {},
     "output_type": "execute_result"
    }
   ],
   "source": [
    "M1.shape, M2.shape"
   ]
  },
  {
   "cell_type": "code",
   "execution_count": 8,
   "id": "f891aa76",
   "metadata": {},
   "outputs": [],
   "source": [
    "def namestr(obj, namespace):\n",
    "    return [name for name in namespace if namespace[name] is obj]"
   ]
  },
  {
   "cell_type": "code",
   "execution_count": 156,
   "id": "5816028b",
   "metadata": {},
   "outputs": [],
   "source": [
    "#scale = R104_scales[\"Cs\"]\n",
    "#mean = R104_means[\"Cs\"]\n",
    "dt = M2_104\n",
    "dt_name = namestr(M2_104, globals())[0]\n",
    "output_size = 1\n",
    "input_size = dt.shape[1] - output_size \n",
    "neurons_per_layer = [60, 60, 60, 60, 60] #[120, 60, 30, 20, 10, 10, 20, 30, 60]\n",
    "hidden_layers = len(neurons_per_layer)   \n",
    "#latent_size = 20  "
   ]
  },
  {
   "cell_type": "code",
   "execution_count": 157,
   "id": "9321b395",
   "metadata": {},
   "outputs": [
    {
     "data": {
      "text/html": [
       "<div>\n",
       "<style scoped>\n",
       "    .dataframe tbody tr th:only-of-type {\n",
       "        vertical-align: middle;\n",
       "    }\n",
       "\n",
       "    .dataframe tbody tr th {\n",
       "        vertical-align: top;\n",
       "    }\n",
       "\n",
       "    .dataframe thead th {\n",
       "        text-align: right;\n",
       "    }\n",
       "</style>\n",
       "<table border=\"1\" class=\"dataframe\">\n",
       "  <thead>\n",
       "    <tr style=\"text-align: right;\">\n",
       "      <th></th>\n",
       "      <th>G1</th>\n",
       "      <th>G2</th>\n",
       "      <th>G3</th>\n",
       "      <th>G4</th>\n",
       "      <th>G5</th>\n",
       "      <th>G6</th>\n",
       "      <th>S1</th>\n",
       "      <th>S2</th>\n",
       "      <th>S3</th>\n",
       "      <th>S4</th>\n",
       "      <th>S5</th>\n",
       "      <th>S6</th>\n",
       "      <th>Cs</th>\n",
       "    </tr>\n",
       "  </thead>\n",
       "  <tbody>\n",
       "    <tr>\n",
       "      <th>0</th>\n",
       "      <td>-0.000375</td>\n",
       "      <td>-0.000323</td>\n",
       "      <td>-0.000100</td>\n",
       "      <td>0.001489</td>\n",
       "      <td>-0.000781</td>\n",
       "      <td>0.000448</td>\n",
       "      <td>-0.000375</td>\n",
       "      <td>0.001361</td>\n",
       "      <td>-0.000218</td>\n",
       "      <td>-0.000781</td>\n",
       "      <td>0.000618</td>\n",
       "      <td>0.000030</td>\n",
       "      <td>-1.961971</td>\n",
       "    </tr>\n",
       "    <tr>\n",
       "      <th>1</th>\n",
       "      <td>0.003952</td>\n",
       "      <td>-0.000404</td>\n",
       "      <td>0.000002</td>\n",
       "      <td>0.001489</td>\n",
       "      <td>-0.002882</td>\n",
       "      <td>0.000506</td>\n",
       "      <td>0.003952</td>\n",
       "      <td>0.001327</td>\n",
       "      <td>0.000150</td>\n",
       "      <td>-0.002882</td>\n",
       "      <td>0.000711</td>\n",
       "      <td>-0.002914</td>\n",
       "      <td>-0.251241</td>\n",
       "    </tr>\n",
       "    <tr>\n",
       "      <th>2</th>\n",
       "      <td>0.011275</td>\n",
       "      <td>-0.000614</td>\n",
       "      <td>-0.000557</td>\n",
       "      <td>0.001489</td>\n",
       "      <td>-0.005539</td>\n",
       "      <td>0.000449</td>\n",
       "      <td>0.011275</td>\n",
       "      <td>0.001237</td>\n",
       "      <td>-0.000410</td>\n",
       "      <td>-0.005539</td>\n",
       "      <td>0.000619</td>\n",
       "      <td>-0.007629</td>\n",
       "      <td>-0.172163</td>\n",
       "    </tr>\n",
       "    <tr>\n",
       "      <th>3</th>\n",
       "      <td>0.016601</td>\n",
       "      <td>0.000484</td>\n",
       "      <td>0.000480</td>\n",
       "      <td>0.001816</td>\n",
       "      <td>-0.007396</td>\n",
       "      <td>-0.000161</td>\n",
       "      <td>0.016601</td>\n",
       "      <td>0.002034</td>\n",
       "      <td>0.000676</td>\n",
       "      <td>-0.007396</td>\n",
       "      <td>-0.000354</td>\n",
       "      <td>-0.012061</td>\n",
       "      <td>-0.143082</td>\n",
       "    </tr>\n",
       "    <tr>\n",
       "      <th>4</th>\n",
       "      <td>0.012607</td>\n",
       "      <td>-0.001451</td>\n",
       "      <td>-0.001313</td>\n",
       "      <td>0.000836</td>\n",
       "      <td>-0.004245</td>\n",
       "      <td>0.000438</td>\n",
       "      <td>0.012607</td>\n",
       "      <td>0.000223</td>\n",
       "      <td>-0.001052</td>\n",
       "      <td>-0.004245</td>\n",
       "      <td>0.000602</td>\n",
       "      <td>-0.010174</td>\n",
       "      <td>-0.222984</td>\n",
       "    </tr>\n",
       "  </tbody>\n",
       "</table>\n",
       "</div>"
      ],
      "text/plain": [
       "         G1        G2        G3        G4        G5        G6        S1  \\\n",
       "0 -0.000375 -0.000323 -0.000100  0.001489 -0.000781  0.000448 -0.000375   \n",
       "1  0.003952 -0.000404  0.000002  0.001489 -0.002882  0.000506  0.003952   \n",
       "2  0.011275 -0.000614 -0.000557  0.001489 -0.005539  0.000449  0.011275   \n",
       "3  0.016601  0.000484  0.000480  0.001816 -0.007396 -0.000161  0.016601   \n",
       "4  0.012607 -0.001451 -0.001313  0.000836 -0.004245  0.000438  0.012607   \n",
       "\n",
       "         S2        S3        S4        S5        S6        Cs  \n",
       "0  0.001361 -0.000218 -0.000781  0.000618  0.000030 -1.961971  \n",
       "1  0.001327  0.000150 -0.002882  0.000711 -0.002914 -0.251241  \n",
       "2  0.001237 -0.000410 -0.005539  0.000619 -0.007629 -0.172163  \n",
       "3  0.002034  0.000676 -0.007396 -0.000354 -0.012061 -0.143082  \n",
       "4  0.000223 -0.001052 -0.004245  0.000602 -0.010174 -0.222984  "
      ]
     },
     "execution_count": 157,
     "metadata": {},
     "output_type": "execute_result"
    }
   ],
   "source": [
    "dt.head()"
   ]
  },
  {
   "cell_type": "code",
   "execution_count": 158,
   "id": "fe61abc0",
   "metadata": {},
   "outputs": [],
   "source": [
    "#dt.to_csv(f'./{dt_name}.txt', sep=' ', index=False, encoding='utf-8', header=False)"
   ]
  },
  {
   "cell_type": "code",
   "execution_count": 159,
   "id": "fa94eef3",
   "metadata": {},
   "outputs": [],
   "source": [
    "mask = np.random.rand(len(dt)) < 0.97\n",
    "train_val = dt[mask]\n",
    "test = dt[~mask].to_numpy()\n",
    "\n",
    "mask = np.random.rand(len(train_val)) < 0.8\n",
    "train = train_val[mask].to_numpy()\n",
    "val = train_val[~mask].to_numpy()"
   ]
  },
  {
   "cell_type": "code",
   "execution_count": 160,
   "id": "8f5586cc",
   "metadata": {},
   "outputs": [
    {
     "data": {
      "text/plain": [
       "((25074357, 13), 19458464, 4864821, 751072)"
      ]
     },
     "execution_count": 160,
     "metadata": {},
     "output_type": "execute_result"
    }
   ],
   "source": [
    "dt.shape, train.shape[0], val.shape[0], test.shape[0]"
   ]
  },
  {
   "cell_type": "code",
   "execution_count": 161,
   "id": "d15cbee6",
   "metadata": {},
   "outputs": [],
   "source": [
    "batch_sz_trn = 4096\n",
    "batch_sz_val = int(batch_sz_trn / 4)\n",
    "batch_sz_tst = int(batch_sz_trn / 4)\n",
    "\n",
    "train_loader = torch.utils.data.DataLoader(dataset=train, batch_size=batch_sz_trn, shuffle=True)\n",
    "val_loader = torch.utils.data.DataLoader(dataset=val, batch_size=batch_sz_val, shuffle=True)\n",
    "test_loader = torch.utils.data.DataLoader(dataset=test, batch_size=batch_sz_tst, shuffle=True)"
   ]
  },
  {
   "cell_type": "code",
   "execution_count": 162,
   "id": "364d96fe",
   "metadata": {},
   "outputs": [
    {
     "data": {
      "text/plain": [
       "tensor([ 0.0186, -0.0011,  0.0017,  0.0018, -0.0145, -0.0049,  0.0186,  0.0014,\n",
       "         0.0021, -0.0145, -0.0080, -0.0080, -0.0963], dtype=torch.float64)"
      ]
     },
     "execution_count": 162,
     "metadata": {},
     "output_type": "execute_result"
    }
   ],
   "source": [
    "data_iter = iter(train_loader)\n",
    "next(data_iter)[0]"
   ]
  },
  {
   "cell_type": "code",
   "execution_count": 163,
   "id": "854d19d5",
   "metadata": {},
   "outputs": [],
   "source": [
    "def coeff_determination(y_true, y_pred):\n",
    "    SS_res = torch.sum(torch.square( y_true - y_pred ))\n",
    "    SS_tot = torch.sum(torch.square( y_true - torch.mean(y_true) ) )\n",
    "    return ( 1 - SS_res/(SS_tot + sys_epsilon) )"
   ]
  },
  {
   "cell_type": "code",
   "execution_count": 164,
   "id": "a7b91edd",
   "metadata": {},
   "outputs": [],
   "source": [
    "class MLPModel(nn.Module):\n",
    "    def __init__(self, input_size, output_size, hidden_layers, neurons_per_layer):\n",
    "        super(MLPModel, self).__init__()\n",
    "\n",
    "        layers = []\n",
    "        layers.append(nn.Linear(input_size, neurons_per_layer[0]))\n",
    "        layers.append(nn.ReLU())\n",
    "\n",
    "        for i in range(1, hidden_layers):\n",
    "            layers.append(nn.Linear(neurons_per_layer[i - 1], neurons_per_layer[i]))\n",
    "            layers.append(nn.ReLU())\n",
    "\n",
    "        layers.append(nn.Linear(neurons_per_layer[-1], output_size))\n",
    "\n",
    "        self.block = nn.Sequential(*layers)\n",
    "\n",
    "    def forward(self, x):\n",
    "        x = self.block(x)\n",
    "        return x\n"
   ]
  },
  {
   "cell_type": "code",
   "execution_count": 165,
   "id": "f5414719",
   "metadata": {
    "scrolled": true
   },
   "outputs": [
    {
     "data": {
      "text/plain": [
       "MLPModel(\n",
       "  (block): Sequential(\n",
       "    (0): Linear(in_features=12, out_features=60, bias=True)\n",
       "    (1): ReLU()\n",
       "    (2): Linear(in_features=60, out_features=60, bias=True)\n",
       "    (3): ReLU()\n",
       "    (4): Linear(in_features=60, out_features=60, bias=True)\n",
       "    (5): ReLU()\n",
       "    (6): Linear(in_features=60, out_features=60, bias=True)\n",
       "    (7): ReLU()\n",
       "    (8): Linear(in_features=60, out_features=60, bias=True)\n",
       "    (9): ReLU()\n",
       "    (10): Linear(in_features=60, out_features=1, bias=True)\n",
       "  )\n",
       ")"
      ]
     },
     "execution_count": 165,
     "metadata": {},
     "output_type": "execute_result"
    }
   ],
   "source": [
    "PATH = f\"./best_model_{dt_name}.pt\"\n",
    "device = torch.device(\"cuda\")\n",
    "model = MLPModel(input_size=input_size, \n",
    "                 output_size=output_size, \n",
    "                 hidden_layers=hidden_layers, \n",
    "                 neurons_per_layer=neurons_per_layer)\n",
    "\n",
    "model.load_state_dict(torch.load(PATH))\n",
    "model.eval()\n",
    "#model.to(device)\n",
    "model.double()"
   ]
  },
  {
   "cell_type": "code",
   "execution_count": 166,
   "id": "80604c18",
   "metadata": {},
   "outputs": [
    {
     "data": {
      "text/plain": [
       "(751072, 1)"
      ]
     },
     "execution_count": 166,
     "metadata": {},
     "output_type": "execute_result"
    }
   ],
   "source": [
    "pred = model(torch.from_numpy(test[:,:-1]))\n",
    "pred.detach().numpy().shape "
   ]
  },
  {
   "cell_type": "code",
   "execution_count": 167,
   "id": "291d4dc1",
   "metadata": {},
   "outputs": [
    {
     "data": {
      "text/plain": [
       "array([[ 0.04519076],\n",
       "       [-0.01118111],\n",
       "       [-0.00060552],\n",
       "       ...,\n",
       "       [ 0.02512864],\n",
       "       [ 0.00634125],\n",
       "       [ 0.04516215]])"
      ]
     },
     "execution_count": 167,
     "metadata": {},
     "output_type": "execute_result"
    }
   ],
   "source": [
    "pred.detach().numpy() * scale.values[0]"
   ]
  },
  {
   "cell_type": "code",
   "execution_count": 168,
   "id": "ebcfa2d4",
   "metadata": {},
   "outputs": [
    {
     "data": {
      "image/png": "[encoded data removed]",
      "text/plain": [
       "<Figure size 640x480 with 1 Axes>"
      ]
     },
     "metadata": {},
     "output_type": "display_data"
    }
   ],
   "source": [
    "plt.scatter(test[:,-1], pred.detach().numpy(), edgecolor='white', color='red')\n",
    "plt.plot([0, 0], [-100, 100], '--', color='#929591')\n",
    "plt.plot([-100, 100], [0, 0], '--', color='#929591')\n",
    "plt.xlim([-100, 100])\n",
    "plt.ylim([-100, 100])\n",
    "plt.xlabel(r'$C_s$')\n",
    "plt.ylabel(r'$\\tilde{C_s}$')\n",
    "plt.savefig(f'../nnTraining/Results/{dt_name}_correlation_unseen.png')"
   ]
  },
  {
   "cell_type": "code",
   "execution_count": null,
   "id": "ae9a5ba1",
   "metadata": {},
   "outputs": [],
   "source": [
    "plt.hist(test[:,-1], bins=8000, density=True, alpha=0.6, histtype=u'step', color='blue')\n",
    "plt.hist(pred.detach().numpy(), bins=8000, density=True, alpha=0.6, histtype=u'step', color='red')\n",
    "plt.xlim([-0.75, 0.75])\n",
    "plt.xlabel(r'$C_s$')\n",
    "plt.legend(['Ground Truth', 'MLP'])\n",
    "plt.savefig(f'../nnTraining/Results/{dt_name}_density_unseen.png')"
   ]
  },
  {
   "cell_type": "code",
   "execution_count": null,
   "id": "dcf0872c",
   "metadata": {},
   "outputs": [],
   "source": []
  }
 ],
 "metadata": {
  "kernelspec": {
   "display_name": "Python 3 (ipykernel)",
   "language": "python",
   "name": "python3"
  },
  "language_info": {
   "codemirror_mode": {
    "name": "ipython",
    "version": 3
   },
   "file_extension": ".py",
   "mimetype": "text/x-python",
   "name": "python",
   "nbconvert_exporter": "python",
   "pygments_lexer": "ipython3",
   "version": "3.8.10"
  }
 },
 "nbformat": 4,
 "nbformat_minor": 5
}
