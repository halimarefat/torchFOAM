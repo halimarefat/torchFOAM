{
 "cells": [
  {
   "cell_type": "code",
   "execution_count": 20,
   "id": "a1157e87",
   "metadata": {},
   "outputs": [],
   "source": [
    "import numpy as np\n",
    "import matplotlib.pyplot as plt"
   ]
  },
  {
   "cell_type": "code",
   "execution_count": 11,
   "id": "f156a429",
   "metadata": {},
   "outputs": [],
   "source": [
    "dt_norm = np.loadtxt('/home/hmarefat/scratch/torchFOAM/datasetGen/dSHR_BBPF_UUp_150_160_SV_norm.npy')\n",
    "scale = np.loadtxt('/home/hmarefat/scratch/torchFOAM/datasetGen/dSHR_BBPF_UUp_150_160_SV_scales.txt')\n",
    "means = np.loadtxt('/home/hmarefat/scratch/torchFOAM/datasetGen/dSHR_BBPF_UUp_150_160_SV_means.txt')"
   ]
  },
  {
   "cell_type": "code",
   "execution_count": 6,
   "id": "5e43e288",
   "metadata": {},
   "outputs": [],
   "source": [
    "path = './compare_training.dat'\n",
    "with open(path, 'r') as f:\n",
    "    l = f.read().splitlines()"
   ]
  },
  {
   "cell_type": "code",
   "execution_count": 18,
   "id": "640694d8",
   "metadata": {},
   "outputs": [],
   "source": [
    "pred = [l[i].split()[0] for i in range(len(l))]\n",
    "labs = [l[i].split()[1] for i in range(len(l))]"
   ]
  },
  {
   "cell_type": "code",
   "execution_count": 26,
   "id": "86b70099",
   "metadata": {},
   "outputs": [],
   "source": [
    "np.random.shuffle(pred)\n",
    "np.random.shuffle(labs)"
   ]
  },
  {
   "cell_type": "code",
   "execution_count": null,
   "id": "6062dc91",
   "metadata": {},
   "outputs": [
    {
     "data": {
      "text/plain": [
       "[<matplotlib.lines.Line2D at 0x14add4bfeeb0>]"
      ]
     },
     "execution_count": 27,
     "metadata": {},
     "output_type": "execute_result"
    }
   ],
   "source": [
    "plt.plot(labs[10000:100500], '-b')\n",
    "plt.plot(pred[10000:100500], '-r')"
   ]
  },
  {
   "cell_type": "code",
   "execution_count": null,
   "id": "b55c2439",
   "metadata": {},
   "outputs": [],
   "source": []
  }
 ],
 "metadata": {
  "kernelspec": {
   "display_name": "Python 3 (ipykernel)",
   "language": "python",
   "name": "python3"
  },
  "language_info": {
   "codemirror_mode": {
    "name": "ipython",
    "version": 3
   },
   "file_extension": ".py",
   "mimetype": "text/x-python",
   "name": "python",
   "nbconvert_exporter": "python",
   "pygments_lexer": "ipython3",
   "version": "3.8.10"
  }
 },
 "nbformat": 4,
 "nbformat_minor": 5
}
